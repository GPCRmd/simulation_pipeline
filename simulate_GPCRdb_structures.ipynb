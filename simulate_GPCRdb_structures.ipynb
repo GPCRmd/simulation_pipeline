{
 "cells": [
  {
   "cell_type": "code",
   "execution_count": 1,
   "metadata": {},
   "outputs": [
    {
     "name": "stderr",
     "output_type": "stream",
     "text": [
      "2021-11-05 08:35:49,989 - numexpr.utils - INFO - Note: NumExpr detected 12 cores but \"NUMEXPR_MAX_THREADS\" not set, so enforcing safe limit of 8.\n",
      "2021-11-05 08:35:49,990 - numexpr.utils - INFO - NumExpr defaulting to 8 threads.\n"
     ]
    },
    {
     "name": "stdout",
     "output_type": "stream",
     "text": [
      "\n",
      "Please cite HTMD: Doerr et al.(2016)JCTC,12,1845. https://dx.doi.org/10.1021/acs.jctc.6b00049\n",
      "\n",
      "HTMD Documentation at: https://www.htmd.org/docs/latest/\n",
      "\n"
     ]
    },
    {
     "name": "stderr",
     "output_type": "stream",
     "text": [
      "2021-11-05 08:35:55,692 - binstar - INFO - Using Anaconda API: https://api.anaconda.org\n"
     ]
    },
    {
     "name": "stdout",
     "output_type": "stream",
     "text": [
      "You are on the latest HTMD version (1.26.5).\n",
      "\n"
     ]
    },
    {
     "name": "stderr",
     "output_type": "stream",
     "text": [
      "2021-11-05 08:36:04,231 - moleculekit.readers - WARNING - Element guessing failed for atom with name  DUM as the guessed element \"D\" was not found in the periodic table. Check for incorrect column alignment in the PDB file or report to moleculekit issue tracker.\n",
      "2021-11-05 08:36:04,444 - moleculekit.readers - WARNING - Element guessing failed for atom with name  DUM as the guessed element \"D\" was not found in the periodic table. Check for incorrect column alignment in the PDB file or report to moleculekit issue tracker.\n"
     ]
    },
    {
     "name": "stdout",
     "output_type": "stream",
     "text": [
      "env: PATH=/home/david/miniconda3/bin:/home/david/miniconda3/condabin:/home/david/anaconda3/bin:/home/david/bin:/home/david/.local/bin:/home/david/anaconda3/bin:/home/david/bin:/home/david/.local/bin:/usr/local/sbin:/usr/local/bin:/usr/sbin:/usr/bin:/sbin:/bin:/usr/games:/usr/local/games:/snap/bin:/snap/bin:/home/david/bin:/home/david/bin:/gpcr/users/daranda/doctorat/GPCR_simulations/fake_slurm/\n"
     ]
    }
   ],
   "source": [
    "####################\n",
    "## Initial stuff\n",
    "####################\n",
    "\n",
    "# Load functions, modules and global variables required in our pipeline\n",
    "from simulate_structures_functions import *\n",
    "from importlib import reload  \n",
    "from htmd.builder.charmm import _recoverProtonations\n",
    "\n",
    "# Are we running curated structures??\n",
    "curated = True\n",
    "\n",
    "# PDB codes of the GPCRs to be simulated. \n",
    "# If no codes are provided, all avalible structures in GPCRdb will be used (except the ones already simulated)\n",
    "noncomplex = {\"3C9L\",\"3C9M\",\"6ZDR\",\"6ZDV\",\"6TPK\", \"6S0Q\", \"6V9S\", \"6WJC\", \"6W25\", \"6OBA\", \"6LW5\", \"6KP6\", \"6LUQ\", \"6LI1\", \"6LI0\", \"6LI2\", \"6KPC\", \"6LRY\", \"6KNM\", \"6TOT\", \"6TOS\", \"6TO7\", \"6TP6\", \"6TQ7\", \"6TOD\", \"6TP3\", \"6TQ4\", \"6TQ9\", \"6TP4\", \"6TQ6\", \"6TPN\", \"6TPG\", \"6TPJ\", \"6OL9\", \"6RZ6\", \"6RZ9\", \"6RZ7\", \"6RZ8\", \"6PT2\", \"6PT3\", \"6KUX\", \"6KUY\", \"6KUW\", \"6IQL\", \"6PS7\", \"6PS0\", \"6PS3\", \"6PS5\", \"6PS1\", \"6PS4\", \"6PRZ\", \"6PS2\", \"6PS6\", \"6KK1\", \"6KK7\", \"6KJV\", \"6PS8\", \"6JZH\", \"6RZ4\", \"6RZ5\", \"6KQI\", \"6K1Q\", \"6GT3\", \"6MH8\", \"6ME2\", \"6ME3\", \"6ME4\", \"6ME5\", \"6ME6\", \"6ME7\", \"6ME8\", \"6ME9\", \"6J21\", \"6J20\", \"6A94\", \"6A93\", \"5ZTY\", \"6HLP\", \"6HLO\", \"6HLL\", \"6GPX\", \"6GPS\", \"6IIV\", \"6IIU\", \"6E59\", \"6M9T\", \"6AK3\", \"5ZHP\", \"5ZKC\", \"5ZK3\", \"5YC8\", \"5ZK8\", \"5ZKB\", \"6IGK\", \"6IGL\", \"6FJ3\", \"6AKX\", \"6AKY\", \"6D27\", \"6D26\", \"6DRX\", \"6DS0\", \"6DRY\", \"6DRZ\", \"6BD4\", \"5ZKQ\", \"5ZKP\", \"6C1R\", \"6C1Q\", \"6D32\", \"6D35\", \"5KW2\", \"5ZBH\", \"5ZBQ\", \"6FK7\", \"6FKA\",  \"6FK6\", \"6FK9\", \"6FKC\", \"6FK8\", \"6FKB\", \"6CM4\", \"6FFI\", \"6FFH\", \"5WF5\", \"5WF6\", \"5V54\", \"5OLH\", \"5OLZ\", \"5OLO\", \"5OM1\", \"5OLG\", \"5OLV\", \"5OM4\", \"5YQZ\", \"6AQF\", \"5O9H\", \"5X33\", \"5VRA\", \"5WS3\", \"5WQC\", \"5WIV\", \"5WIU\", \"5NM4\", \"5NM2\", \"5NLX\", \"5X7D\", \"5X93\", \"5XPR\", \"5XSZ\", \"5N2S\", \"5MZP\", \"5MZJ\", \"5N2R\", \"5XRA\", \"5XR8\", \"5UIW\", \"5NX2\", \"5TZY\", \"5TZR\", \"5JTB\", \"5VBL\", \"5UVI\", \"5VEW\", \"5V56\", \"5V57\", \"5VEX\", \"5NDD\", \"5NDZ\", \"5UNH\", \"5UNF\", \"5UNG\", \"5TE3\", \"5TE5\", \"5UEN\", \"5UIG\", \"5TVN\", \"5T04\", \"5T1A\", \"5U09\", \"5TGZ\", \"5K2C\", \"5K2B\", \"5K2A\", \"5K2D\", \"5GLI\", \"5GLH\", \"5D6L\", \"5DYS\", \"5L7D\", \"5L7I\", \"5IU7\", \"5IUB\", \"5IU8\", \"5IU4\", \"5IUA\", \"4Z9G\", \"5EE7\", \"5DSG\", \"5CXV\", \"4ZJ8\", \"4ZJC\", \"5F8U\", \"5DHG\", \"5DHH\", \"4ZUD\", \"5A8E\", \"5CGC\", \"5CGD\", \"4XEE\", \"4XES\", \"4Z35\", \"4Z34\", \"4Z36\", \"4YAY\", \"4UHR\", \"4XNW\", \"4XNV\", \"4XT3\", \"4RWS\", \"4RWD\", \"4S0V\", \"4U15\", \"4U16\", \"4QIM\", \"4QIN\", \"4PHU\", \"4OO9\", \"4PXZ\", \"4PY0\", \"4BVN\", \"4NTJ\", \"4OR2\", \"4O9R\", \"4BUO\", \"4N4W\", \"4N6H\", \"4NC3\", \"4MBS\", \"4L6R\", \"4K5Y\", \"4JKV\", \"3ZPR\", \"3ZPQ\", \"4IAQ\", \"4IAR\", \"4IB4\", \"4GPO\", \"3VW7\", \"4GBR\", \"4GRV\", \"4EIY\", \"4AMJ\", \"4AMI\", \"4EJ4\", \"4EA3\", \"3UZA\", \"3UZC\", \"4DJH\", \"4DKL\", \"3V2Y\", \"3UON\", \"3REY\", \"3RFM\", \"3RZE\", \"2YCZ\", \"2YCW\", \"2YDV\", \"2YDO\", \"3QAK\", \"2Y04\", \"2Y00\", \"2Y03\", \"2Y02\", \"3PDS\", \"3PBL\", \"3ODU\", \"3OE0\", \"3NY9\", \"3NY8\", \"3NYA\", \"3D4S\", \"2Z73\", \"2RH1\", \"1U19\", \"1GZM\"}\n",
    "noncomplex_nonGPCRmd = {\"3C9L\",\"3C9M\",\"6ZDR\",\"6ZDV\",'6RZ8', '6FFI', '6KJV', '6TQ6', '6DRY', '5WIV', '5V57', '6LI2', '6MH8', '5MZJ', '5KW2', '5X33', '5ZHP', '6PS6', '6FJ3', '6D35', '4NTJ', '6A94', '6AK3', '5UVI', '6FFH', '5WIU', '6KQI', '5XR8', '6RZ9', '5VEX', '6LW5', '6FKA', '6PS7', '6M9T', '6KNM', '6ME6', '6GPX', '5XSZ', '5K2A', '5YQZ', '6PS0', '5K2C', '6ME7', '2Z73', '6D32', '6RZ4', '5YC8', '5T1A', '6AKY', '4N4W', '5WS3', '6LRY', '6J21', '5TE5', '4O9R', '6FK6', '1GZM', '6DRX', '6TQ7', '5NDZ', '6IGL', '5VRA', '5ZBQ', '6TPN', '5ZTY', '6DS0', '5NLX', '5X93', '6HLP', '5OLG', '5OM4', '5O9H', '5XPR', '6A93', '5GLI', '6OBA', '6D27', '6HLO', '6RZ5', '5TE3', '6IIV', '6KP6', '6TQ4', '6TPJ', '5V56', '5UNG', '6FK9', '6PS8', '2YCZ', '6JZH', '5XRA', '5ZKB', '4JKV', '5MZP', '5K2D', '5OLV', '5X7D', '5T04', '5OLO', '5DYS', '6FK7', '6J20', '6K1Q', '5EE7', '6D26', '6PS1', '6DRZ', '4GBR', '6FKC', '6TP6', '6LUQ', '5ZKQ', '5UNH', '6PRZ', '5UNF', '5NX2', '6LI0', '5NM2', '5D6L', '6AQF', '6KK1', '6C1Q', '4Z9G', '6LI1', '5WF5', '6FKB',  '5OLH', '4XT3', '5ZK3', '5VEW', '4XES', '6HLL', '6TOT', '5N2R', '5WF6', '5K2B', '6TPG', '6PS4', '5F8U', '6ME4', '6GT3', '6RZ6', '6ME8', '6ME2', '5VBL', '5N2S', '5ZBH', '6PS3', '6IIU', '4NC3', '5JTB', '5ZKP', '6TQ9', '6GPS', '6TP3', '6RZ7', '6ME3', '5ZK8', '6C1R', '5V54', '5UIG', '5TVN', '5OM1', '6AKX', '5ZKC', '5NM4', '5TZY', '6TOD', '4GPO', '6TO7', '6CM4', '6TOS', '6PS5', '6ME9', '5NDD', '6KPC', '6KK7', '4BUO', '6OL9', '6PS2', '6FK8', '6ME5', '6TP4', '4QIM', '6IGK', '5WQC', '5UIW', '5TZR', '5OLZ', '4EJ4', '6E59'}\n",
    "noncomplex_nonGPCRmd_agonist = {'5T04', '6ME9', '4BUO', '6ME6', '5VBL', '5TZR', '6D35', '6LW5', '5YQZ', '6ME3', '5WF6', '6D32', '5TE5', '4XES', '6AK3', '5DYS', '5KW2', '5WF5', '6FK6', '6ME7', '4NC3', '6ME2', '6FKA', '6DRY', '6FK7', '5TVN', '6KPC', '6KQI', '6LRY', '6IGL', '5NX2', '6M9T', '6FKC', '6FKB', '6FJ3', '6IGK', '6KNM', '6FK9', '6ME8', '6ME5', '6ME4', '5XRA', '5N2S', '5TZY', '6FK8', '6LI0', '5XR8'}\n",
    "gprot_complex_set = {\"7MBY\",\"7MBX\",\"7KH0\",\"7EB2\",\"7CX4\",\"7CX2\",\"7CX3\",\"7AUE\",\"7E32\",\"7E2X\",\"7E2Z\",\"7E2Y\",\"7E33\",\"7JOZ\",\"7DFL\",\"7CMU\",\"7CMV\",\"7CKX\",\"7CKZ\",\"7CKW\",\"7CRH\",\"7CKY\",\"7LJD\",\"7LJC\",\"7JVP\",\"7JVQ\",\"7JV5\",\"7JVR\",\"7L1V\",\"7L1U\",\"7D77\",\"7D76\",\"7LCI\",\"7L0S\",\"7L0P\",\"7L0Q\",\"7L0R\",\"7DHI\",\"7DHR\",\"7D68\",\"7AD3\",\"7CZ5\",\"6XOX\",\"7D7M\",\"7D3S\",\"6XBL\",\"6XBM\",\"6XBJ\",\"6XBK\",\"6WHA\",\"6X1A\",\"6X19\",\"6X18\",\"7CFM\",\"7CFN\",\"7JJO\",\"6LFO\",\"6LFM\",\"7BW0\",\"6VN7\",\"7C2E\",\"6WPW\",\"6WI9\",\"6WZG\",\"7BZ2\",\"6VCB\",\"6PH7\",\"6PGS\",\"6WWZ\",\"6PEL\",\"6VMS\",\"6WHC\",\"6K42\",\"6K41\",\"6UUS\",\"6UVA\",\"6LMK\",\"6LML\",\"6UUN\",\"6LPB\",\"6M1I\",\"6M1H\",\"6OMM\",\"6LI3\",\"6KPG\",\"6PT0\",\"6KPF\",\"6PB0\",\"6PB1\",\"6NWE\",\"6P9X\",\"6P9Y\",\"6ORV\",\"6NI3\",\"6OY9\",\"6OYA\",\"6OS9\",\"6OSA\",\"6QNO\",\"6OT0\",\"6E67\",\"6OIJ\",\"6OIK\",\"6NBI\",\"6NBF\",\"6NBH\",\"6N4B\",\"6NIY\",\"6FUF\",\"6E3Y\",\"6G79\",\"6D9H\",\"6CMO\",\"6DDE\",\"6DDF\",\"6GDG\",\"6B3J\",\"5WKT\",\"5VAI\",\"5UZ7\",\"5EN0\",\"5G53\",\"4X1H\",\"4J4Q\",\"4BEY\",\"4A4M\",\"3SN6\",\"2X72\",\"3PQR\",\"3DQB\"}\n",
    "modres_set = {'5NX2', '5UIW', '5VBL', '5TE5', '6LW5', '5X7D', '4XT3'}\n",
    "bad_set = {\"5ZKB\",\"5X7D\",\"5UNF\",\"5V54\",\"6TPN\",\"5ZKC\",\"5VBL\",\"5OM1\",\"6RZ4\",\"6KP6\",\"6IGK\",\"6HLL\",\"6A93\",\"6A94\",\"6LRY\",\"5UNG\",\"6LW5\",\"5ZK3\",\"6TPG\",\"6IIU\",\"6J21\",\"5VEX\",\"5UNH\",\"2Z73\",\"5T04\",\"5T1A\",\"6FJ3\",\"5XR8\",\"6OL9\",\"6TPJ\",\"5ZK8\"}\n",
    "pdb_set = noncomplex_nonGPCRmd\n",
    "\n",
    "# Our main path\n",
    "basepath = basepath = os.getcwd()+'/'\n",
    "# Other Paths\n",
    "strucpath = basepath + 'data_structures/'\n",
    "resultspath = basepath + 'simulation_output/'\n",
    "membranepdb = basepath + 'membrane/popc36_box_renumbered.pdb'\n",
    "topparpath = basepath + 'toppar/TOP_PARAMS_ACE3/'#toppar= topology+parameters\n",
    "ligandsdict_path = basepath + 'ligands.json'\n",
    "modres_path = basepath + 'modified_residues.json'\n",
    "slurmpath = basepath+'fake_slurm/'\n",
    "# Path to slurm queing system binaries\n",
    "# In our case, Ismael designed a bunch of small bash scripts (fake_slurm) which do ssh to Hydra and execute slurm there\n",
    "path= os.environ['PATH']\n",
    "\n",
    "# Modify path to include fake slurm\n",
    "%env PATH=$path:$slurmpath\n",
    "\n",
    "# Load topology, parameter and stream files with our current basepath\n",
    "topos = [os.path.join(topparpath,file) for file in toposfilenames] \n",
    "params = [os.path.join(topparpath,file) for file in paramsfilenames]\n",
    "streams = [os.path.join(topparpath,file) for file in streamsfilenames]\n"
   ]
  },
  {
   "cell_type": "code",
   "execution_count": 2,
   "metadata": {},
   "outputs": [
    {
     "name": "stdout",
     "output_type": "stream",
     "text": [
      "Downloading 6KPC structure (1/191)\n",
      "Structure for 6KPC already present. Skipping...\n",
      "Downloading 5YQZ structure (2/191)\n",
      "Structure for 5YQZ already present. Skipping...\n",
      "Downloading 6RZ8 structure (3/191)\n",
      "Structure for 6RZ8 already present. Skipping...\n",
      "Downloading 6LRY structure (4/191)\n",
      "Structure for 6LRY already present. Skipping...\n",
      "Downloading 5OLV structure (5/191)\n",
      "Structure for 5OLV already present. Skipping...\n",
      "Downloading 5F8U structure (6/191)\n",
      "Structure for 5F8U already present. Skipping...\n",
      "Downloading 6GT3 structure (7/191)\n",
      "Structure for 6GT3 already present. Skipping...\n",
      "Downloading 4EJ4 structure (8/191)\n",
      "Structure for 4EJ4 already present. Skipping...\n",
      "Downloading 6TOD structure (9/191)\n",
      "Structure for 6TOD already present. Skipping...\n",
      "Downloading 6KP6 structure (10/191)\n",
      "Structure for 6KP6 already present. Skipping...\n",
      "Downloading 6DRX structure (11/191)\n",
      "Structure for 6DRX already present. Skipping...\n",
      "Downloading 5UNF structure (12/191)\n",
      "Structure for 5UNF already present. Skipping...\n",
      "Downloading 6PS4 structure (13/191)\n",
      "Structure for 6PS4 already present. Skipping...\n",
      "Downloading 5ZHP structure (14/191)\n",
      "Structure for 5ZHP already present. Skipping...\n",
      "Downloading 5N2S structure (15/191)\n",
      "Structure for 5N2S already present. Skipping...\n",
      "Downloading 5UIG structure (16/191)\n",
      "Structure for 5UIG already present. Skipping...\n",
      "Downloading 5MZJ structure (17/191)\n",
      "Structure for 5MZJ already present. Skipping...\n",
      "Downloading 6TQ6 structure (18/191)\n",
      "Structure for 6TQ6 already present. Skipping...\n",
      "Downloading 6JZH structure (19/191)\n",
      "Structure for 6JZH already present. Skipping...\n",
      "Downloading 5DYS structure (20/191)\n",
      "Structure for 5DYS already present. Skipping...\n",
      "Downloading 6AQF structure (21/191)\n",
      "Structure for 6AQF already present. Skipping...\n",
      "Downloading 5K2B structure (22/191)\n",
      "Structure for 5K2B already present. Skipping...\n",
      "Downloading 6OBA structure (23/191)\n",
      "Structure for 6OBA already present. Skipping...\n",
      "Downloading 5XSZ structure (24/191)\n",
      "Structure for 5XSZ already present. Skipping...\n",
      "Downloading 6PRZ structure (25/191)\n",
      "Structure for 6PRZ already present. Skipping...\n",
      "Downloading 5VBL structure (26/191)\n",
      "Structure for 5VBL already present. Skipping...\n",
      "Downloading 5X93 structure (27/191)\n",
      "Structure for 5X93 already present. Skipping...\n",
      "Downloading 5OLO structure (28/191)\n",
      "Structure for 5OLO already present. Skipping...\n",
      "Downloading 6LI1 structure (29/191)\n",
      "Structure for 6LI1 already present. Skipping...\n",
      "Downloading 6E59 structure (30/191)\n",
      "Structure for 6E59 already present. Skipping...\n",
      "Downloading 6ZDR structure (31/191)\n",
      "Structure for 6ZDR already present. Skipping...\n",
      "Downloading 6FKC structure (32/191)\n",
      "Structure for 6FKC already present. Skipping...\n",
      "Downloading 4QIM structure (33/191)\n",
      "Structure for 4QIM already present. Skipping...\n",
      "Downloading 6PS6 structure (34/191)\n",
      "Structure for 6PS6 already present. Skipping...\n",
      "Downloading 5WS3 structure (35/191)\n",
      "Structure for 5WS3 already present. Skipping...\n",
      "Downloading 6D35 structure (36/191)\n",
      "Structure for 6D35 already present. Skipping...\n",
      "Downloading 4GPO structure (37/191)\n",
      "Structure for 4GPO already present. Skipping...\n",
      "Downloading 5O9H structure (38/191)\n",
      "Structure for 5O9H already present. Skipping...\n",
      "Downloading 6PS1 structure (39/191)\n",
      "Structure for 6PS1 already present. Skipping...\n",
      "Downloading 6D26 structure (40/191)\n",
      "Structure for 6D26 already present. Skipping...\n",
      "Downloading 5OLG structure (41/191)\n",
      "Structure for 5OLG already present. Skipping...\n",
      "Downloading 2YCZ structure (42/191)\n",
      "Structure for 2YCZ already present. Skipping...\n",
      "Downloading 5ZBQ structure (43/191)\n",
      "Structure for 5ZBQ already present. Skipping...\n",
      "Downloading 6RZ6 structure (44/191)\n",
      "Structure for 6RZ6 already present. Skipping...\n",
      "Downloading 5XPR structure (45/191)\n",
      "Structure for 5XPR already present. Skipping...\n",
      "Downloading 6HLO structure (46/191)\n",
      "Structure for 6HLO already present. Skipping...\n",
      "Downloading 6ME7 structure (47/191)\n",
      "Structure for 6ME7 already present. Skipping...\n",
      "Downloading 6DS0 structure (48/191)\n",
      "Structure for 6DS0 already present. Skipping...\n",
      "Downloading 5TVN structure (49/191)\n",
      "Structure for 5TVN already present. Skipping...\n",
      "Downloading 6RZ9 structure (50/191)\n",
      "Structure for 6RZ9 already present. Skipping...\n",
      "Downloading 6K1Q structure (51/191)\n",
      "Structure for 6K1Q already present. Skipping...\n",
      "Downloading 5ZK3 structure (52/191)\n",
      "Structure for 5ZK3 already present. Skipping...\n",
      "Downloading 6FK8 structure (53/191)\n",
      "Structure for 6FK8 already present. Skipping...\n",
      "Downloading 5WF5 structure (54/191)\n",
      "Structure for 5WF5 already present. Skipping...\n",
      "Downloading 6LI2 structure (55/191)\n",
      "Structure for 6LI2 already present. Skipping...\n",
      "Downloading 5XR8 structure (56/191)\n",
      "Structure for 5XR8 already present. Skipping...\n",
      "Downloading 1GZM structure (57/191)\n",
      "Structure for 1GZM already present. Skipping...\n",
      "Downloading 5X33 structure (58/191)\n",
      "Structure for 5X33 already present. Skipping...\n",
      "Downloading 5UNG structure (59/191)\n",
      "Structure for 5UNG already present. Skipping...\n",
      "Downloading 6HLP structure (60/191)\n",
      "Structure for 6HLP already present. Skipping...\n",
      "Downloading 5WIU structure (61/191)\n",
      "Structure for 5WIU already present. Skipping...\n",
      "Downloading 6CM4 structure (62/191)\n",
      "Structure for 6CM4 already present. Skipping...\n",
      "Downloading 6TP6 structure (63/191)\n",
      "Structure for 6TP6 already present. Skipping...\n",
      "Downloading 6TPG structure (64/191)\n",
      "Structure for 6TPG already present. Skipping...\n",
      "Downloading 6GPX structure (65/191)\n",
      "Structure for 6GPX already present. Skipping...\n",
      "Downloading 6C1Q structure (66/191)\n",
      "Structure for 6C1Q already present. Skipping...\n",
      "Downloading 5TZR structure (67/191)\n",
      "Structure for 5TZR already present. Skipping...\n",
      "Downloading 4N4W structure (68/191)\n",
      "Structure for 4N4W already present. Skipping...\n",
      "Downloading 5X7D structure (69/191)\n",
      "Structure for 5X7D already present. Skipping...\n",
      "Downloading 6DRZ structure (70/191)\n",
      "Structure for 6DRZ already present. Skipping...\n",
      "Downloading 4XT3 structure (71/191)\n",
      "Structure for 4XT3 already present. Skipping...\n",
      "Downloading 4Z9G structure (72/191)\n",
      "Structure for 4Z9G already present. Skipping...\n",
      "Downloading 6DRY structure (73/191)\n",
      "Structure for 6DRY already present. Skipping...\n",
      "Downloading 6TP4 structure (74/191)\n",
      "Structure for 6TP4 already present. Skipping...\n",
      "Downloading 6FKA structure (75/191)\n",
      "Structure for 6FKA already present. Skipping...\n",
      "Downloading 6KK7 structure (76/191)\n",
      "Structure for 6KK7 already present. Skipping...\n",
      "Downloading 4BUO structure (77/191)\n",
      "Structure for 4BUO already present. Skipping...\n",
      "Downloading 6J21 structure (78/191)\n",
      "Structure for 6J21 already present. Skipping...\n",
      "Downloading 6TPJ structure (79/191)\n",
      "Structure for 6TPJ already present. Skipping...\n",
      "Downloading 6TOT structure (80/191)\n",
      "Structure for 6TOT already present. Skipping...\n",
      "Downloading 6TQ9 structure (81/191)\n",
      "Structure for 6TQ9 already present. Skipping...\n",
      "Downloading 5NDZ structure (82/191)\n",
      "Structure for 5NDZ already present. Skipping...\n",
      "Downloading 2Z73 structure (83/191)\n",
      "Structure for 2Z73 already present. Skipping...\n",
      "Downloading 6IGL structure (84/191)\n",
      "Structure for 6IGL already present. Skipping...\n",
      "Downloading 4O9R structure (85/191)\n",
      "Structure for 4O9R already present. Skipping...\n",
      "Downloading 6PS3 structure (86/191)\n",
      "Structure for 6PS3 already present. Skipping...\n",
      "Downloading 6RZ4 structure (87/191)\n",
      "Structure for 6RZ4 already present. Skipping...\n",
      "Downloading 6ME5 structure (88/191)\n",
      "Structure for 6ME5 already present. Skipping...\n",
      "Downloading 6PS5 structure (89/191)\n",
      "Structure for 6PS5 already present. Skipping...\n",
      "Downloading 6A94 structure (90/191)\n",
      "Structure for 6A94 already present. Skipping...\n",
      "Downloading 6RZ5 structure (91/191)\n",
      "Structure for 6RZ5 already present. Skipping...\n",
      "Downloading 6ME2 structure (92/191)\n",
      "Structure for 6ME2 already present. Skipping...\n",
      "Downloading 6AKX structure (93/191)\n",
      "Structure for 6AKX already present. Skipping...\n",
      "Downloading 6RZ7 structure (94/191)\n",
      "Structure for 6RZ7 already present. Skipping...\n",
      "Downloading 6IIV structure (95/191)\n",
      "Structure for 6IIV already present. Skipping...\n",
      "Downloading 4NTJ structure (96/191)\n",
      "Structure for 4NTJ already present. Skipping...\n",
      "Downloading 4NC3 structure (97/191)\n",
      "Structure for 4NC3 already present. Skipping...\n",
      "Downloading 6KJV structure (98/191)\n",
      "Structure for 6KJV already present. Skipping...\n",
      "Downloading 5NX2 structure (99/191)\n"
     ]
    },
    {
     "name": "stdout",
     "output_type": "stream",
     "text": [
      "Structure for 5NX2 already present. Skipping...\n",
      "Downloading 3C9M structure (100/191)\n",
      "Structure for 3C9M already present. Skipping...\n",
      "Downloading 6LI0 structure (101/191)\n",
      "Structure for 6LI0 already present. Skipping...\n",
      "Downloading 5NM4 structure (102/191)\n",
      "Structure for 5NM4 already present. Skipping...\n",
      "Downloading 6ME9 structure (103/191)\n",
      "Structure for 6ME9 already present. Skipping...\n",
      "Downloading 5NDD structure (104/191)\n",
      "Structure for 5NDD already present. Skipping...\n",
      "Downloading 5OLH structure (105/191)\n",
      "Structure for 5OLH already present. Skipping...\n",
      "Downloading 6FFH structure (106/191)\n",
      "Structure for 6FFH already present. Skipping...\n",
      "Downloading 5NM2 structure (107/191)\n",
      "Structure for 5NM2 already present. Skipping...\n",
      "Downloading 5ZBH structure (108/191)\n",
      "Structure for 5ZBH already present. Skipping...\n",
      "Downloading 5OLZ structure (109/191)\n",
      "Structure for 5OLZ already present. Skipping...\n",
      "Downloading 6D27 structure (110/191)\n",
      "Structure for 6D27 already present. Skipping...\n",
      "Downloading 5ZKQ structure (111/191)\n",
      "Structure for 5ZKQ already present. Skipping...\n",
      "Downloading 6FK6 structure (112/191)\n",
      "Structure for 6FK6 already present. Skipping...\n",
      "Downloading 5KW2 structure (113/191)\n",
      "Structure for 5KW2 already present. Skipping...\n",
      "Downloading 5YC8 structure (114/191)\n",
      "Structure for 5YC8 already present. Skipping...\n",
      "Downloading 5OM1 structure (115/191)\n",
      "Structure for 5OM1 already present. Skipping...\n",
      "Downloading 6FKB structure (116/191)\n",
      "Structure for 6FKB already present. Skipping...\n",
      "Downloading 6ZDV structure (117/191)\n",
      "Structure for 6ZDV already present. Skipping...\n",
      "Downloading 6J20 structure (118/191)\n",
      "Structure for 6J20 already present. Skipping...\n",
      "Downloading 5VEX structure (119/191)\n",
      "Structure for 5VEX already present. Skipping...\n",
      "Downloading 5V56 structure (120/191)\n",
      "Structure for 5V56 already present. Skipping...\n",
      "Downloading 6KQI structure (121/191)\n",
      "Structure for 6KQI already present. Skipping...\n",
      "Downloading 5UIW structure (122/191)\n",
      "Structure for 5UIW already present. Skipping...\n",
      "Downloading 5OM4 structure (123/191)\n",
      "Structure for 5OM4 already present. Skipping...\n",
      "Downloading 5K2D structure (124/191)\n",
      "Structure for 5K2D already present. Skipping...\n",
      "Downloading 5D6L structure (125/191)\n",
      "Structure for 5D6L already present. Skipping...\n",
      "Downloading 6AKY structure (126/191)\n",
      "Structure for 6AKY already present. Skipping...\n",
      "Downloading 5MZP structure (127/191)\n",
      "Structure for 5MZP already present. Skipping...\n",
      "Downloading 6LUQ structure (128/191)\n",
      "Structure for 6LUQ already present. Skipping...\n",
      "Downloading 5ZKB structure (129/191)\n",
      "Structure for 5ZKB already present. Skipping...\n",
      "Downloading 6FJ3 structure (130/191)\n",
      "Structure for 6FJ3 already present. Skipping...\n",
      "Downloading 5NLX structure (131/191)\n",
      "Structure for 5NLX already present. Skipping...\n",
      "Downloading 6HLL structure (132/191)\n",
      "Structure for 6HLL already present. Skipping...\n",
      "Downloading 6M9T structure (133/191)\n",
      "Structure for 6M9T already present. Skipping...\n",
      "Downloading 5JTB structure (134/191)\n",
      "Structure for 5JTB already present. Skipping...\n",
      "Downloading 5WIV structure (135/191)\n",
      "Structure for 5WIV already present. Skipping...\n",
      "Downloading 6TO7 structure (136/191)\n",
      "Structure for 6TO7 already present. Skipping...\n",
      "Downloading 6PS8 structure (137/191)\n",
      "Structure for 6PS8 already present. Skipping...\n",
      "Downloading 5UVI structure (138/191)\n",
      "Structure for 5UVI already present. Skipping...\n",
      "Downloading 5VRA structure (139/191)\n",
      "Structure for 5VRA already present. Skipping...\n",
      "Downloading 6KK1 structure (140/191)\n",
      "Structure for 6KK1 already present. Skipping...\n",
      "Downloading 4XES structure (141/191)\n",
      "Structure for 4XES already present. Skipping...\n",
      "Downloading 6FFI structure (142/191)\n",
      "Structure for 6FFI already present. Skipping...\n",
      "Downloading 5V54 structure (143/191)\n",
      "Structure for 5V54 already present. Skipping...\n",
      "Downloading 5ZK8 structure (144/191)\n",
      "Structure for 5ZK8 already present. Skipping...\n",
      "Downloading 6TQ4 structure (145/191)\n",
      "Structure for 6TQ4 already present. Skipping...\n",
      "Downloading 6IIU structure (146/191)\n",
      "Structure for 6IIU already present. Skipping...\n",
      "Downloading 4GBR structure (147/191)\n",
      "Structure for 4GBR already present. Skipping...\n",
      "Downloading 5WQC structure (148/191)\n",
      "Structure for 5WQC already present. Skipping...\n",
      "Downloading 5WF6 structure (149/191)\n",
      "Structure for 5WF6 already present. Skipping...\n",
      "Downloading 5GLI structure (150/191)\n",
      "Structure for 5GLI already present. Skipping...\n",
      "Downloading 6ME8 structure (151/191)\n",
      "Structure for 6ME8 already present. Skipping...\n",
      "Downloading 6KNM structure (152/191)\n",
      "Structure for 6KNM already present. Skipping...\n",
      "Downloading 6D32 structure (153/191)\n",
      "Structure for 6D32 already present. Skipping...\n",
      "Downloading 5ZTY structure (154/191)\n",
      "Structure for 5ZTY already present. Skipping...\n",
      "Downloading 6IGK structure (155/191)\n",
      "Structure for 6IGK already present. Skipping...\n",
      "Downloading 6FK9 structure (156/191)\n",
      "Structure for 6FK9 already present. Skipping...\n",
      "Downloading 6MH8 structure (157/191)\n",
      "Structure for 6MH8 already present. Skipping...\n",
      "Downloading 5TZY structure (158/191)\n",
      "Structure for 5TZY already present. Skipping...\n",
      "Downloading 6TOS structure (159/191)\n",
      "Structure for 6TOS already present. Skipping...\n",
      "Downloading 6GPS structure (160/191)\n",
      "Structure for 6GPS already present. Skipping...\n",
      "Downloading 5VEW structure (161/191)\n",
      "Structure for 5VEW already present. Skipping...\n",
      "Downloading 6ME6 structure (162/191)\n",
      "Structure for 6ME6 already present. Skipping...\n",
      "Downloading 5T04 structure (163/191)\n",
      "Structure for 5T04 already present. Skipping...\n",
      "Downloading 5UNH structure (164/191)\n",
      "Structure for 5UNH already present. Skipping...\n",
      "Downloading 6AK3 structure (165/191)\n",
      "Structure for 6AK3 already present. Skipping...\n",
      "Downloading 5K2A structure (166/191)\n",
      "Structure for 5K2A already present. Skipping...\n",
      "Downloading 4JKV structure (167/191)\n",
      "Structure for 4JKV already present. Skipping...\n",
      "Downloading 5N2R structure (168/191)\n",
      "Structure for 5N2R already present. Skipping...\n",
      "Downloading 6C1R structure (169/191)\n",
      "Structure for 6C1R already present. Skipping...\n",
      "Downloading 3C9L structure (170/191)\n",
      "Structure for 3C9L already present. Skipping...\n",
      "Downloading 5TE3 structure (171/191)\n",
      "Structure for 5TE3 already present. Skipping...\n",
      "Downloading 6OL9 structure (172/191)\n",
      "Structure for 6OL9 already present. Skipping...\n",
      "Downloading 6PS2 structure (173/191)\n",
      "Structure for 6PS2 already present. Skipping...\n",
      "Downloading 5TE5 structure (174/191)\n",
      "Structure for 5TE5 already present. Skipping...\n",
      "Downloading 6TPN structure (175/191)\n",
      "Structure for 6TPN already present. Skipping...\n",
      "Downloading 6FK7 structure (176/191)\n",
      "Structure for 6FK7 already present. Skipping...\n",
      "Downloading 5ZKP structure (177/191)\n",
      "something failed in downloading refined structure of 5ZKP: 'NoneType' object has no attribute 'get'\n",
      "Downloading 5T1A structure (178/191)\n",
      "Structure for 5T1A already present. Skipping...\n",
      "Downloading 5V57 structure (179/191)\n",
      "Structure for 5V57 already present. Skipping...\n",
      "Downloading 5K2C structure (180/191)\n",
      "Structure for 5K2C already present. Skipping...\n",
      "Downloading 6ME3 structure (181/191)\n",
      "Structure for 6ME3 already present. Skipping...\n",
      "Downloading 6A93 structure (182/191)\n",
      "Structure for 6A93 already present. Skipping...\n",
      "Downloading 5EE7 structure (183/191)\n",
      "Structure for 5EE7 already present. Skipping...\n",
      "Downloading 6PS7 structure (184/191)\n",
      "Structure for 6PS7 already present. Skipping...\n",
      "Downloading 6TP3 structure (185/191)\n",
      "Structure for 6TP3 already present. Skipping...\n",
      "Downloading 6TQ7 structure (186/191)\n",
      "Structure for 6TQ7 already present. Skipping...\n",
      "Downloading 6ME4 structure (187/191)\n",
      "Structure for 6ME4 already present. Skipping...\n",
      "Downloading 5XRA structure (188/191)\n",
      "Structure for 5XRA already present. Skipping...\n",
      "Downloading 5ZKC structure (189/191)\n",
      "Structure for 5ZKC already present. Skipping...\n",
      "Downloading 6LW5 structure (190/191)\n",
      "Structure for 6LW5 already present. Skipping...\n",
      "Downloading 6PS0 structure (191/191)\n",
      "Structure for 6PS0 already present. Skipping...\n",
      "here\n",
      "adsffdsa\n"
     ]
    }
   ],
   "source": [
    "################################################\n",
    "# Part 1: Download data and prepare dictionaries\n",
    "################################################\n",
    "\n",
    "# Download and store refined structures from GPCRdb\n",
    "download_GPCRdb_structures(pdb_set, strucpath)\n",
    "\n",
    "#Create or moidfy the ligands dictionary\n",
    "(ligandsdict, ligandsset, modresdict) = ligand_dictionary(pdb_set, ligandsdict_path, modres_path, blacklist)\n",
    "print('here')\n",
    "\n",
    "# Download ligand structures from system\n",
    "download_ligands(ligandsset, basepath)\n",
    "print('adsffdsa')\n",
    "\n",
    "# Get topology-parameter files for ligands\n",
    "get_lig_toppar(ligandsdict, basepath, username, password)\n",
    "\n",
    "# Get topology-parameter files for modified residues\n",
    "get_modres_toppar(modresdict, basepath, username, password)"
   ]
  },
  {
   "cell_type": "code",
   "execution_count": 4,
   "metadata": {
    "scrolled": true
   },
   "outputs": [
    {
     "name": "stdout",
     "output_type": "stream",
     "text": [
      "Build model for 5OLZ already exists. Skipping...\n"
     ]
    },
    {
     "name": "stderr",
     "output_type": "stream",
     "text": [
      "2021-04-30 08:51:22,113 - moleculekit.molecule - INFO - Removed 0 atoms. 5005 atoms remaining in the molecule.\n",
      "2021-04-30 08:51:22,149 - moleculekit.molecule - INFO - Removed 0 atoms. 5005 atoms remaining in the molecule.\n",
      "2021-04-30 08:51:24,169 - moleculekit.molecule - WARNING - Alternative atom locations detected. Only altloc A was kept. If you prefer to keep all use the keepaltloc=\"all\" option when reading the file.\n",
      "2021-04-30 08:51:24,170 - moleculekit.molecule - INFO - Removed 99 atoms. 3626 atoms remaining in the molecule.\n",
      "2021-04-30 08:51:24,397 - moleculekit.molecule - INFO - Removed 0 atoms. 5005 atoms remaining in the molecule.\n",
      "2021-04-30 08:51:24,430 - moleculekit.molecule - INFO - Removed 2 atoms. 5003 atoms remaining in the molecule.\n",
      "2021-04-30 08:51:24,522 - moleculekit.molecule - INFO - Removed 0 atoms. 5003 atoms remaining in the molecule.\n",
      "2021-04-30 08:51:24,897 - moleculekit.tools.autosegment - INFO - Created segment P0 between resid 0 and 206.\n",
      "2021-04-30 08:51:24,897 - moleculekit.tools.autosegment - INFO - Created segment P1 between resid 219 and 319.\n",
      "2021-04-30 08:51:28,575 - moleculekit.molecule - INFO - Removed 0 atoms. 5003 atoms remaining in the molecule.\n",
      "2021-04-30 08:51:28,780 - moleculekit.tools.sequencestructuralalignment - INFO - No segment was specified by the user for `mol` and multiple segments (['P0', 'P1']) were detected. Alignment will be done on all protein segments.\n",
      "2021-04-30 08:51:28,817 - moleculekit.tools.sequencestructuralalignment - INFO - No segment was specified by the user for `ref`. Alignment will be done on all protein segments.\n",
      "2021-04-30 08:51:29,109 - moleculekit.tools.sequencestructuralalignment - INFO - Alignment #0 was done on 202 residues: mol segid P0 resid 0-201\n",
      "/home/david/miniconda3/lib/python3.6/site-packages/moleculekit/align.py:16: NumbaPerformanceWarning: np.dot() is faster on contiguous arrays, called on (array(float32, 2d, A), array(float32, 2d, A))\n",
      "  covariance = np.dot(P.T, Q)\n",
      "/home/david/miniconda3/lib/python3.6/site-packages/moleculekit/align.py:54: NumbaPerformanceWarning: np.dot() is faster on contiguous arrays, called on (array(float32, 2d, C), array(float32, 2d, A))\n",
      "  all1 = np.dot(all1, rot.T)\n"
     ]
    },
    {
     "name": "stdout",
     "output_type": "stream",
     "text": [
      "Adding membrane...\n"
     ]
    },
    {
     "name": "stderr",
     "output_type": "stream",
     "text": [
      "2021-04-30 08:51:32,920 - htmd.builder.builder - INFO - Replicating Membrane 3x3\n",
      "Replicating Membrane: 100%|██████████| 9/9 [00:02<00:00,  3.74it/s]\n",
      "2021-04-30 08:53:19,092 - moleculekit.molecule - INFO - Removed 2350 atoms. 42998 atoms remaining in the molecule.\n",
      "2021-04-30 08:53:20,358 - moleculekit.molecule - INFO - Removed 109 residues from appended Molecule due to collisions.\n"
     ]
    },
    {
     "name": "stdout",
     "output_type": "stream",
     "text": [
      "Solvating...\n"
     ]
    },
    {
     "name": "stderr",
     "output_type": "stream",
     "text": [
      "2021-04-30 08:53:21,104 - htmd.builder.solvate - INFO - Using water pdb file at: /home/david/miniconda3/lib/python3.6/site-packages/htmd/share/solvate/wat.pdb\n"
     ]
    },
    {
     "name": "stdout",
     "output_type": "stream",
     "text": [
      "wataerbox Max and min:  [53.579792 54.476017 28.060892] [-47.308205 -46.377983 -27.734108]\n"
     ]
    },
    {
     "name": "stderr",
     "output_type": "stream",
     "text": [
      "2021-04-30 08:53:21,776 - htmd.builder.solvate - INFO - Replicating 8 water segments, 2 by 2 by 2\n",
      "Solvating: 100%|██████████| 8/8 [00:08<00:00,  1.09s/it]\n",
      "2021-04-30 08:53:32,186 - htmd.builder.solvate - INFO - 14179 water molecules were added to the system.\n",
      "2021-04-30 08:53:38,717 - moleculekit.molecule - INFO - Removed 597 atoms. 84767 atoms remaining in the molecule.\n"
     ]
    },
    {
     "name": "stdout",
     "output_type": "stream",
     "text": [
      "Pre-build...\n"
     ]
    },
    {
     "name": "stderr",
     "output_type": "stream",
     "text": [
      "2021-04-30 08:53:45,385 - htmd.builder.charmm - INFO - Writing out segments.\n",
      "2021-04-30 08:53:52,257 - htmd.builder.builder - INFO - 4 disulfide bonds were added\n"
     ]
    },
    {
     "name": "stdout",
     "output_type": "stream",
     "text": [
      "Disulfide Bond between: UniqueResidueID<resname: 'CYX', chain: 'P', resid: 77, insertion: '', segid: 'P0'>\n",
      "                   and: UniqueResidueID<resname: 'CYX', chain: 'P', resid: 166, insertion: '', segid: 'P0'>\n",
      "\n",
      "Disulfide Bond between: UniqueResidueID<resname: 'CYX', chain: 'P', resid: 74, insertion: '', segid: 'P0'>\n",
      "                   and: UniqueResidueID<resname: 'CYX', chain: 'P', resid: 146, insertion: '', segid: 'P0'>\n",
      "\n",
      "Disulfide Bond between: UniqueResidueID<resname: 'CYX', chain: 'P', resid: 259, insertion: '', segid: 'P1'>\n",
      "                   and: UniqueResidueID<resname: 'CYX', chain: 'P', resid: 262, insertion: '', segid: 'P1'>\n",
      "\n",
      "Disulfide Bond between: UniqueResidueID<resname: 'CYX', chain: 'P', resid: 71, insertion: '', segid: 'P0'>\n",
      "                   and: UniqueResidueID<resname: 'CYX', chain: 'P', resid: 159, insertion: '', segid: 'P0'>\n",
      "\n"
     ]
    },
    {
     "name": "stderr",
     "output_type": "stream",
     "text": [
      "2021-04-30 08:53:53,258 - htmd.builder.charmm - INFO - Starting the build.\n",
      "2021-04-30 08:53:59,607 - htmd.builder.charmm - WARNING - Failed to set coordinates for 10 atoms.\n",
      "2021-04-30 08:53:59,610 - htmd.builder.charmm - WARNING - Failed to guess coordinates for 3 atoms due to bad angles.\n",
      "2021-04-30 08:53:59,611 - htmd.builder.charmm - WARNING - Poorly guessed coordinates for 231 atoms.\n",
      "2021-04-30 08:53:59,613 - htmd.builder.charmm - WARNING - Please check /gpcr/users/daranda/doctorat/GPCR_simulations/simulation_output/pre-build/5OLZ/log.txt for further information.\n",
      "2021-04-30 08:53:59,615 - htmd.builder.charmm - INFO - Finished building.\n",
      "2021-04-30 08:54:01,105 - moleculekit.readers - WARNING - Atoms with names \"HE21\" \"HE22\" were guessed as element H but could also be He (helium). If this is a case, you can correct them with mol.set('element', 'He', sel='name \"HE21\" \"HE22\"')\n",
      "2021-04-30 08:54:22,630 - moleculekit.readers - WARNING - Atoms with names \"HE21\" \"HE22\" were guessed as element H but could also be He (helium). If this is a case, you can correct them with mol.set('element', 'He', sel='name \"HE21\" \"HE22\"')\n"
     ]
    },
    {
     "name": "stdout",
     "output_type": "stream",
     "text": [
      "Checking aromatic insertions...\n"
     ]
    },
    {
     "name": "stderr",
     "output_type": "stream",
     "text": [
      "2021-04-30 08:55:20,541 - moleculekit.molecule - INFO - Removed 3 atoms. 85325 atoms remaining in the molecule.\n"
     ]
    },
    {
     "name": "stdout",
     "output_type": "stream",
     "text": [
      "WARNING: removed 3 atoms within 1.5 of a protein aromatic ring\n",
      "Renumbering...\n",
      "Ionizing...\n"
     ]
    },
    {
     "name": "stderr",
     "output_type": "stream",
     "text": [
      "2021-04-30 08:55:37,832 - htmd.builder.charmm - INFO - Writing out segments.\n",
      "2021-04-30 08:55:44,652 - htmd.builder.builder - INFO - 4 disulfide bonds were added\n"
     ]
    },
    {
     "name": "stdout",
     "output_type": "stream",
     "text": [
      "Disulfide Bond between: UniqueResidueID<resname: 'CYS', chain: 'P', resid: 77, insertion: '', segid: 'P0'>\n",
      "                   and: UniqueResidueID<resname: 'CYS', chain: 'P', resid: 166, insertion: '', segid: 'P0'>\n",
      "\n",
      "Disulfide Bond between: UniqueResidueID<resname: 'CYS', chain: 'P', resid: 74, insertion: '', segid: 'P0'>\n",
      "                   and: UniqueResidueID<resname: 'CYS', chain: 'P', resid: 146, insertion: '', segid: 'P0'>\n",
      "\n",
      "Disulfide Bond between: UniqueResidueID<resname: 'CYS', chain: 'P', resid: 259, insertion: '', segid: 'P1'>\n",
      "                   and: UniqueResidueID<resname: 'CYS', chain: 'P', resid: 262, insertion: '', segid: 'P1'>\n",
      "\n",
      "Disulfide Bond between: UniqueResidueID<resname: 'CYS', chain: 'P', resid: 71, insertion: '', segid: 'P0'>\n",
      "                   and: UniqueResidueID<resname: 'CYS', chain: 'P', resid: 159, insertion: '', segid: 'P0'>\n",
      "\n"
     ]
    },
    {
     "name": "stderr",
     "output_type": "stream",
     "text": [
      "2021-04-30 08:55:45,376 - htmd.builder.charmm - INFO - Starting the build.\n",
      "2021-04-30 08:55:50,663 - htmd.builder.charmm - INFO - Finished building.\n",
      "2021-04-30 08:55:55,316 - htmd.builder.ionize - INFO - Adding 12 anions + 0 cations for neutralizing and 102 ions for the given salt concentration.\n",
      "2021-04-30 08:56:31,042 - htmd.builder.charmm - INFO - Writing out segments.\n",
      "2021-04-30 08:56:38,955 - htmd.builder.charmm - INFO - Starting the build.\n",
      "2021-04-30 08:56:44,331 - htmd.builder.charmm - INFO - Finished building.\n"
     ]
    },
    {
     "name": "stdout",
     "output_type": "stream",
     "text": [
      "Building...\n"
     ]
    },
    {
     "name": "stderr",
     "output_type": "stream",
     "text": [
      "2021-04-30 08:57:38,152 - htmd.builder.charmm - INFO - Writing out segments.\n",
      "2021-04-30 08:57:45,808 - htmd.builder.builder - INFO - 4 disulfide bonds were added\n"
     ]
    },
    {
     "name": "stdout",
     "output_type": "stream",
     "text": [
      "Disulfide Bond between: UniqueResidueID<resname: 'CYS', chain: 'P', resid: 77, insertion: '', segid: 'P0'>\n",
      "                   and: UniqueResidueID<resname: 'CYS', chain: 'P', resid: 166, insertion: '', segid: 'P0'>\n",
      "\n",
      "Disulfide Bond between: UniqueResidueID<resname: 'CYS', chain: 'P', resid: 74, insertion: '', segid: 'P0'>\n",
      "                   and: UniqueResidueID<resname: 'CYS', chain: 'P', resid: 146, insertion: '', segid: 'P0'>\n",
      "\n",
      "Disulfide Bond between: UniqueResidueID<resname: 'CYS', chain: 'P', resid: 259, insertion: '', segid: 'P1'>\n",
      "                   and: UniqueResidueID<resname: 'CYS', chain: 'P', resid: 262, insertion: '', segid: 'P1'>\n",
      "\n",
      "Disulfide Bond between: UniqueResidueID<resname: 'CYS', chain: 'P', resid: 71, insertion: '', segid: 'P0'>\n",
      "                   and: UniqueResidueID<resname: 'CYS', chain: 'P', resid: 159, insertion: '', segid: 'P0'>\n",
      "\n"
     ]
    },
    {
     "name": "stderr",
     "output_type": "stream",
     "text": [
      "2021-04-30 08:57:46,704 - htmd.builder.charmm - INFO - Starting the build.\n",
      "2021-04-30 08:57:50,771 - htmd.builder.charmm - INFO - Finished building.\n"
     ]
    },
    {
     "name": "stdout",
     "output_type": "stream",
     "text": [
      "End of 5OLZ after 411.2356667518616 seconds\n",
      "\n",
      "Build model for 5OLZ_apo already exists. Skipping...\n"
     ]
    },
    {
     "name": "stderr",
     "output_type": "stream",
     "text": [
      "2021-04-30 08:58:13,306 - moleculekit.molecule - INFO - Removed 0 atoms. 4871 atoms remaining in the molecule.\n",
      "2021-04-30 08:58:13,340 - moleculekit.molecule - INFO - Removed 0 atoms. 4871 atoms remaining in the molecule.\n",
      "2021-04-30 08:58:13,375 - moleculekit.molecule - INFO - Removed 0 atoms. 4871 atoms remaining in the molecule.\n",
      "2021-04-30 08:58:14,871 - moleculekit.molecule - WARNING - Alternative atom locations detected. Only altloc A was kept. If you prefer to keep all use the keepaltloc=\"all\" option when reading the file.\n",
      "2021-04-30 08:58:14,873 - moleculekit.molecule - INFO - Removed 99 atoms. 3626 atoms remaining in the molecule.\n",
      "2021-04-30 08:58:15,118 - moleculekit.molecule - INFO - Removed 0 atoms. 4871 atoms remaining in the molecule.\n",
      "2021-04-30 08:58:15,152 - moleculekit.molecule - INFO - Removed 2 atoms. 4869 atoms remaining in the molecule.\n",
      "2021-04-30 08:58:15,251 - moleculekit.molecule - INFO - Removed 0 atoms. 4869 atoms remaining in the molecule.\n",
      "2021-04-30 08:58:15,661 - moleculekit.tools.autosegment - INFO - Created segment P0 between resid 0 and 206.\n",
      "2021-04-30 08:58:15,661 - moleculekit.tools.autosegment - INFO - Created segment P1 between resid 219 and 319.\n",
      "2021-04-30 08:58:19,084 - moleculekit.molecule - INFO - Removed 0 atoms. 4869 atoms remaining in the molecule.\n",
      "2021-04-30 08:58:19,310 - moleculekit.tools.sequencestructuralalignment - INFO - No segment was specified by the user for `mol` and multiple segments (['P0', 'P1']) were detected. Alignment will be done on all protein segments.\n",
      "2021-04-30 08:58:19,350 - moleculekit.tools.sequencestructuralalignment - INFO - No segment was specified by the user for `ref`. Alignment will be done on all protein segments.\n",
      "2021-04-30 08:58:19,634 - moleculekit.tools.sequencestructuralalignment - INFO - Alignment #0 was done on 202 residues: mol segid P0 resid 0-201\n"
     ]
    },
    {
     "name": "stdout",
     "output_type": "stream",
     "text": [
      "Adding membrane...\n"
     ]
    },
    {
     "name": "stderr",
     "output_type": "stream",
     "text": [
      "2021-04-30 08:58:20,367 - htmd.builder.builder - INFO - Replicating Membrane 3x3\n",
      "Replicating Membrane: 100%|██████████| 9/9 [00:02<00:00,  3.81it/s]\n",
      "2021-04-30 09:00:01,116 - moleculekit.molecule - INFO - Removed 2350 atoms. 42998 atoms remaining in the molecule.\n",
      "2021-04-30 09:00:02,302 - moleculekit.molecule - INFO - Removed 108 residues from appended Molecule due to collisions.\n"
     ]
    },
    {
     "name": "stdout",
     "output_type": "stream",
     "text": [
      "Solvating...\n"
     ]
    },
    {
     "name": "stderr",
     "output_type": "stream",
     "text": [
      "2021-04-30 09:00:03,130 - htmd.builder.solvate - INFO - Using water pdb file at: /home/david/miniconda3/lib/python3.6/site-packages/htmd/share/solvate/wat.pdb\n"
     ]
    },
    {
     "name": "stdout",
     "output_type": "stream",
     "text": [
      "wataerbox Max and min:  [53.579792 54.476017 28.060892] [-47.308205 -46.377983 -27.734108]\n"
     ]
    },
    {
     "name": "stderr",
     "output_type": "stream",
     "text": [
      "2021-04-30 09:00:03,915 - htmd.builder.solvate - INFO - Replicating 8 water segments, 2 by 2 by 2\n",
      "Solvating: 100%|██████████| 8/8 [00:08<00:00,  1.10s/it]\n",
      "2021-04-30 09:00:14,420 - htmd.builder.solvate - INFO - 14202 water molecules were added to the system.\n",
      "2021-04-30 09:00:20,710 - moleculekit.molecule - INFO - Removed 609 atoms. 84824 atoms remaining in the molecule.\n"
     ]
    },
    {
     "name": "stdout",
     "output_type": "stream",
     "text": [
      "Pre-build...\n"
     ]
    },
    {
     "name": "stderr",
     "output_type": "stream",
     "text": [
      "2021-04-30 09:00:27,372 - htmd.builder.charmm - INFO - Writing out segments.\n",
      "2021-04-30 09:00:33,375 - htmd.builder.builder - INFO - 4 disulfide bonds were added\n"
     ]
    },
    {
     "name": "stdout",
     "output_type": "stream",
     "text": [
      "Disulfide Bond between: UniqueResidueID<resname: 'CYX', chain: 'P', resid: 77, insertion: '', segid: 'P0'>\n",
      "                   and: UniqueResidueID<resname: 'CYX', chain: 'P', resid: 166, insertion: '', segid: 'P0'>\n",
      "\n",
      "Disulfide Bond between: UniqueResidueID<resname: 'CYX', chain: 'P', resid: 74, insertion: '', segid: 'P0'>\n",
      "                   and: UniqueResidueID<resname: 'CYX', chain: 'P', resid: 146, insertion: '', segid: 'P0'>\n",
      "\n",
      "Disulfide Bond between: UniqueResidueID<resname: 'CYX', chain: 'P', resid: 259, insertion: '', segid: 'P1'>\n",
      "                   and: UniqueResidueID<resname: 'CYX', chain: 'P', resid: 262, insertion: '', segid: 'P1'>\n",
      "\n",
      "Disulfide Bond between: UniqueResidueID<resname: 'CYX', chain: 'P', resid: 71, insertion: '', segid: 'P0'>\n",
      "                   and: UniqueResidueID<resname: 'CYX', chain: 'P', resid: 159, insertion: '', segid: 'P0'>\n",
      "\n"
     ]
    },
    {
     "name": "stderr",
     "output_type": "stream",
     "text": [
      "2021-04-30 09:00:34,326 - htmd.builder.charmm - INFO - Starting the build.\n",
      "2021-04-30 09:00:38,192 - htmd.builder.charmm - WARNING - Failed to set coordinates for 6 atoms.\n",
      "2021-04-30 09:00:38,195 - htmd.builder.charmm - WARNING - Failed to guess coordinates for 3 atoms due to bad angles.\n",
      "2021-04-30 09:00:38,198 - htmd.builder.charmm - WARNING - Poorly guessed coordinates for 220 atoms.\n",
      "2021-04-30 09:00:38,199 - htmd.builder.charmm - WARNING - Please check /gpcr/users/daranda/doctorat/GPCR_simulations/simulation_output/pre-build/5OLZ_apo/log.txt for further information.\n",
      "2021-04-30 09:00:38,202 - htmd.builder.charmm - INFO - Finished building.\n",
      "2021-04-30 09:00:39,755 - moleculekit.readers - WARNING - Atoms with names \"HE21\" \"HE22\" were guessed as element H but could also be He (helium). If this is a case, you can correct them with mol.set('element', 'He', sel='name \"HE21\" \"HE22\"')\n",
      "2021-04-30 09:01:01,051 - moleculekit.readers - WARNING - Atoms with names \"HE21\" \"HE22\" were guessed as element H but could also be He (helium). If this is a case, you can correct them with mol.set('element', 'He', sel='name \"HE21\" \"HE22\"')\n"
     ]
    },
    {
     "name": "stdout",
     "output_type": "stream",
     "text": [
      "Checking aromatic insertions...\n"
     ]
    },
    {
     "name": "stderr",
     "output_type": "stream",
     "text": [
      "2021-04-30 09:01:58,775 - moleculekit.molecule - INFO - Removed 3 atoms. 85187 atoms remaining in the molecule.\n"
     ]
    },
    {
     "name": "stdout",
     "output_type": "stream",
     "text": [
      "WARNING: removed 3 atoms within 1.5 of a protein aromatic ring\n",
      "Renumbering...\n",
      "Ionizing...\n"
     ]
    },
    {
     "name": "stderr",
     "output_type": "stream",
     "text": [
      "2021-04-30 09:02:15,207 - htmd.builder.charmm - INFO - Writing out segments.\n",
      "2021-04-30 09:02:21,511 - htmd.builder.builder - INFO - 4 disulfide bonds were added\n"
     ]
    },
    {
     "name": "stdout",
     "output_type": "stream",
     "text": [
      "Disulfide Bond between: UniqueResidueID<resname: 'CYS', chain: 'P', resid: 77, insertion: '', segid: 'P0'>\n",
      "                   and: UniqueResidueID<resname: 'CYS', chain: 'P', resid: 166, insertion: '', segid: 'P0'>\n",
      "\n",
      "Disulfide Bond between: UniqueResidueID<resname: 'CYS', chain: 'P', resid: 74, insertion: '', segid: 'P0'>\n",
      "                   and: UniqueResidueID<resname: 'CYS', chain: 'P', resid: 146, insertion: '', segid: 'P0'>\n",
      "\n",
      "Disulfide Bond between: UniqueResidueID<resname: 'CYS', chain: 'P', resid: 259, insertion: '', segid: 'P1'>\n",
      "                   and: UniqueResidueID<resname: 'CYS', chain: 'P', resid: 262, insertion: '', segid: 'P1'>\n",
      "\n",
      "Disulfide Bond between: UniqueResidueID<resname: 'CYS', chain: 'P', resid: 71, insertion: '', segid: 'P0'>\n",
      "                   and: UniqueResidueID<resname: 'CYS', chain: 'P', resid: 159, insertion: '', segid: 'P0'>\n",
      "\n"
     ]
    },
    {
     "name": "stderr",
     "output_type": "stream",
     "text": [
      "2021-04-30 09:02:22,318 - htmd.builder.charmm - INFO - Starting the build.\n",
      "2021-04-30 09:02:26,033 - htmd.builder.charmm - INFO - Finished building.\n",
      "2021-04-30 09:02:30,625 - htmd.builder.ionize - INFO - Adding 11 anions + 0 cations for neutralizing and 102 ions for the given salt concentration.\n",
      "2021-04-30 09:03:06,017 - htmd.builder.charmm - INFO - Writing out segments.\n",
      "2021-04-30 09:03:13,541 - htmd.builder.charmm - INFO - Starting the build.\n",
      "2021-04-30 09:03:17,602 - htmd.builder.charmm - INFO - Finished building.\n"
     ]
    },
    {
     "name": "stdout",
     "output_type": "stream",
     "text": [
      "Building...\n"
     ]
    },
    {
     "name": "stderr",
     "output_type": "stream",
     "text": [
      "2021-04-30 09:04:09,230 - htmd.builder.charmm - INFO - Writing out segments.\n",
      "2021-04-30 09:04:15,893 - htmd.builder.builder - INFO - 4 disulfide bonds were added\n"
     ]
    },
    {
     "name": "stdout",
     "output_type": "stream",
     "text": [
      "Disulfide Bond between: UniqueResidueID<resname: 'CYS', chain: 'P', resid: 77, insertion: '', segid: 'P0'>\n",
      "                   and: UniqueResidueID<resname: 'CYS', chain: 'P', resid: 166, insertion: '', segid: 'P0'>\n",
      "\n",
      "Disulfide Bond between: UniqueResidueID<resname: 'CYS', chain: 'P', resid: 74, insertion: '', segid: 'P0'>\n",
      "                   and: UniqueResidueID<resname: 'CYS', chain: 'P', resid: 146, insertion: '', segid: 'P0'>\n",
      "\n",
      "Disulfide Bond between: UniqueResidueID<resname: 'CYS', chain: 'P', resid: 259, insertion: '', segid: 'P1'>\n",
      "                   and: UniqueResidueID<resname: 'CYS', chain: 'P', resid: 262, insertion: '', segid: 'P1'>\n",
      "\n",
      "Disulfide Bond between: UniqueResidueID<resname: 'CYS', chain: 'P', resid: 71, insertion: '', segid: 'P0'>\n",
      "                   and: UniqueResidueID<resname: 'CYS', chain: 'P', resid: 159, insertion: '', segid: 'P0'>\n",
      "\n"
     ]
    },
    {
     "name": "stderr",
     "output_type": "stream",
     "text": [
      "2021-04-30 09:04:16,745 - htmd.builder.charmm - INFO - Starting the build.\n",
      "2021-04-30 09:04:20,638 - htmd.builder.charmm - INFO - Finished building.\n"
     ]
    },
    {
     "name": "stdout",
     "output_type": "stream",
     "text": [
      "End of 5OLZ_apo after 389.3521685600281 seconds\n",
      "\n",
      "Build model for 5WF5 already exists. Skipping...\n"
     ]
    },
    {
     "name": "stderr",
     "output_type": "stream",
     "text": [
      "2021-04-30 09:04:42,745 - moleculekit.molecule - INFO - Removed 0 atoms. 5096 atoms remaining in the molecule.\n",
      "2021-04-30 09:04:42,778 - moleculekit.molecule - INFO - Removed 0 atoms. 5096 atoms remaining in the molecule.\n",
      "2021-04-30 09:04:44,504 - moleculekit.molecule - INFO - Removed 0 atoms. 5096 atoms remaining in the molecule.\n",
      "2021-04-30 09:04:44,537 - moleculekit.molecule - INFO - Removed 3 atoms. 5093 atoms remaining in the molecule.\n",
      "2021-04-30 09:04:44,633 - moleculekit.molecule - INFO - Removed 0 atoms. 5093 atoms remaining in the molecule.\n",
      "2021-04-30 09:04:45,023 - moleculekit.tools.autosegment - INFO - Created segment P0 between resid 1 and 319.\n",
      "2021-04-30 09:04:47,908 - moleculekit.molecule - INFO - Removed 0 atoms. 5093 atoms remaining in the molecule.\n",
      "2021-04-30 09:04:48,069 - moleculekit.tools.sequencestructuralalignment - INFO - No segment was specified by the user for `mol`. Alignment will be done on all protein segments.\n",
      "2021-04-30 09:04:48,108 - moleculekit.tools.sequencestructuralalignment - INFO - No segment was specified by the user for `ref`. Alignment will be done on all protein segments.\n",
      "2021-04-30 09:04:48,314 - moleculekit.tools.sequencestructuralalignment - WARNING - 7 alignments found. Limiting to 1 as specified in the `maxalignments` argument.\n",
      "2021-04-30 09:04:48,316 - moleculekit.tools.sequencestructuralalignment - INFO - Alignment #0 was done on 146 residues: mol segid P0 resid 3-148\n"
     ]
    },
    {
     "name": "stdout",
     "output_type": "stream",
     "text": [
      "Adding membrane...\n"
     ]
    },
    {
     "name": "stderr",
     "output_type": "stream",
     "text": [
      "2021-04-30 09:04:49,011 - htmd.builder.builder - INFO - Replicating Membrane 3x3\n",
      "Replicating Membrane: 100%|██████████| 9/9 [00:02<00:00,  3.97it/s]\n",
      "2021-04-30 09:06:33,376 - moleculekit.molecule - INFO - Removed 2236 atoms. 42827 atoms remaining in the molecule.\n",
      "2021-04-30 09:06:34,600 - moleculekit.molecule - INFO - Removed 110 residues from appended Molecule due to collisions.\n"
     ]
    },
    {
     "name": "stdout",
     "output_type": "stream",
     "text": [
      "Solvating...\n"
     ]
    },
    {
     "name": "stderr",
     "output_type": "stream",
     "text": [
      "2021-04-30 09:06:35,382 - htmd.builder.solvate - INFO - Using water pdb file at: /home/david/miniconda3/lib/python3.6/site-packages/htmd/share/solvate/wat.pdb\n"
     ]
    },
    {
     "name": "stdout",
     "output_type": "stream",
     "text": [
      "wataerbox Max and min:  [52.44478  53.375015 28.060892] [-47.308224 -46.377987 -27.734108]\n"
     ]
    },
    {
     "name": "stderr",
     "output_type": "stream",
     "text": [
      "2021-04-30 09:06:36,166 - htmd.builder.solvate - INFO - Replicating 8 water segments, 2 by 2 by 2\n",
      "Solvating: 100%|██████████| 8/8 [00:08<00:00,  1.11s/it]\n",
      "2021-04-30 09:06:46,796 - htmd.builder.solvate - INFO - 16029 water molecules were added to the system.\n",
      "2021-04-30 09:06:53,966 - moleculekit.molecule - INFO - Removed 657 atoms. 89911 atoms remaining in the molecule.\n"
     ]
    },
    {
     "name": "stdout",
     "output_type": "stream",
     "text": [
      "Pre-build...\n"
     ]
    },
    {
     "name": "stderr",
     "output_type": "stream",
     "text": [
      "2021-04-30 09:06:59,190 - htmd.builder.charmm - INFO - Writing out segments.\n",
      "2021-04-30 09:07:05,919 - htmd.builder.builder - INFO - 3 disulfide bonds were added\n"
     ]
    },
    {
     "name": "stdout",
     "output_type": "stream",
     "text": [
      "Disulfide Bond between: UniqueResidueID<resname: 'CYX', chain: 'P', resid: 77, insertion: '', segid: 'P0'>\n",
      "                   and: UniqueResidueID<resname: 'CYX', chain: 'P', resid: 166, insertion: '', segid: 'P0'>\n",
      "\n",
      "Disulfide Bond between: UniqueResidueID<resname: 'CYX', chain: 'P', resid: 74, insertion: '', segid: 'P0'>\n",
      "                   and: UniqueResidueID<resname: 'CYX', chain: 'P', resid: 146, insertion: '', segid: 'P0'>\n",
      "\n",
      "Disulfide Bond between: UniqueResidueID<resname: 'CYX', chain: 'P', resid: 259, insertion: '', segid: 'P0'>\n",
      "                   and: UniqueResidueID<resname: 'CYX', chain: 'P', resid: 262, insertion: '', segid: 'P0'>\n",
      "\n"
     ]
    },
    {
     "name": "stderr",
     "output_type": "stream",
     "text": [
      "2021-04-30 09:07:06,957 - htmd.builder.charmm - INFO - Starting the build.\n",
      "2021-04-30 09:07:11,032 - htmd.builder.charmm - WARNING - Failed to set coordinates for 6 atoms.\n",
      "2021-04-30 09:07:11,034 - htmd.builder.charmm - WARNING - Failed to guess coordinates for 2 atoms due to bad angles.\n",
      "2021-04-30 09:07:11,035 - htmd.builder.charmm - WARNING - Poorly guessed coordinates for 228 atoms.\n",
      "2021-04-30 09:07:11,035 - htmd.builder.charmm - WARNING - Please check /gpcr/users/daranda/doctorat/GPCR_simulations/simulation_output/pre-build/5WF5/log.txt for further information.\n",
      "2021-04-30 09:07:11,036 - htmd.builder.charmm - INFO - Finished building.\n",
      "2021-04-30 09:07:12,751 - moleculekit.readers - WARNING - Atoms with names \"HE21\" \"HE22\" were guessed as element H but could also be He (helium). If this is a case, you can correct them with mol.set('element', 'He', sel='name \"HE21\" \"HE22\"')\n",
      "2021-04-30 09:07:35,525 - htmd.builder.builder - WARNING - Found cis peptide bond in 1 frames: [0] in the omega diheral \"Angle of (LEU 216 CA P0 P) (LEU 216 C P0 P) (PRO 217 N P0 P) (PRO 217 CA P0 P) \" with indexes [3325, 3340, 3342, 3346]\n",
      "2021-04-30 09:07:36,557 - moleculekit.readers - WARNING - Atoms with names \"HE21\" \"HE22\" were guessed as element H but could also be He (helium). If this is a case, you can correct them with mol.set('element', 'He', sel='name \"HE21\" \"HE22\"')\n"
     ]
    },
    {
     "name": "stdout",
     "output_type": "stream",
     "text": [
      "Checking aromatic insertions...\n",
      "WARNING: removed 0 atoms within 1.5 of a protein aromatic ring\n",
      "Renumbering...\n",
      "Ionizing...\n"
     ]
    },
    {
     "name": "stderr",
     "output_type": "stream",
     "text": [
      "2021-04-30 09:08:56,212 - htmd.builder.charmm - INFO - Writing out segments.\n",
      "2021-04-30 09:09:02,910 - htmd.builder.builder - INFO - 3 disulfide bonds were added\n"
     ]
    },
    {
     "name": "stdout",
     "output_type": "stream",
     "text": [
      "Disulfide Bond between: UniqueResidueID<resname: 'CYS', chain: 'P', resid: 77, insertion: '', segid: 'P0'>\n",
      "                   and: UniqueResidueID<resname: 'CYS', chain: 'P', resid: 166, insertion: '', segid: 'P0'>\n",
      "\n",
      "Disulfide Bond between: UniqueResidueID<resname: 'CYS', chain: 'P', resid: 74, insertion: '', segid: 'P0'>\n",
      "                   and: UniqueResidueID<resname: 'CYS', chain: 'P', resid: 146, insertion: '', segid: 'P0'>\n",
      "\n",
      "Disulfide Bond between: UniqueResidueID<resname: 'CYS', chain: 'P', resid: 259, insertion: '', segid: 'P0'>\n",
      "                   and: UniqueResidueID<resname: 'CYS', chain: 'P', resid: 262, insertion: '', segid: 'P0'>\n",
      "\n"
     ]
    },
    {
     "name": "stderr",
     "output_type": "stream",
     "text": [
      "2021-04-30 09:09:03,758 - htmd.builder.charmm - INFO - Starting the build.\n",
      "2021-04-30 09:09:07,636 - htmd.builder.charmm - WARNING - Failed to set coordinates for 1 atoms.\n",
      "2021-04-30 09:09:07,639 - htmd.builder.charmm - WARNING - Poorly guessed coordinates for 1 atoms.\n",
      "2021-04-30 09:09:07,641 - htmd.builder.charmm - WARNING - Please check /gpcr/users/daranda/doctorat/GPCR_simulations/simulation_output/ionize/5WF5/log.txt for further information.\n",
      "2021-04-30 09:09:07,645 - htmd.builder.charmm - INFO - Finished building.\n",
      "2021-04-30 09:09:12,773 - htmd.builder.ionize - INFO - Adding 13 anions + 0 cations for neutralizing and 112 ions for the given salt concentration.\n",
      "2021-04-30 09:09:53,358 - htmd.builder.charmm - INFO - Writing out segments.\n",
      "2021-04-30 09:10:01,135 - htmd.builder.charmm - INFO - Starting the build.\n",
      "2021-04-30 09:10:07,283 - htmd.builder.charmm - WARNING - Failed to set coordinates for 1 atoms.\n",
      "2021-04-30 09:10:07,287 - htmd.builder.charmm - WARNING - Poorly guessed coordinates for 1 atoms.\n",
      "2021-04-30 09:10:07,288 - htmd.builder.charmm - WARNING - Please check /gpcr/users/daranda/doctorat/GPCR_simulations/simulation_output/ionize/5WF5/log.txt for further information.\n",
      "2021-04-30 09:10:07,292 - htmd.builder.charmm - INFO - Finished building.\n",
      "2021-04-30 09:10:30,384 - htmd.builder.builder - WARNING - Found cis peptide bond in 1 frames: [0] in the omega diheral \"Angle of (LEU 216 CA P0 P) (LEU 216 C P0 P) (PRO 217 N P0 P) (PRO 217 CA P0 P) \" with indexes [3325, 3340, 3342, 3346]\n"
     ]
    },
    {
     "name": "stdout",
     "output_type": "stream",
     "text": [
      "Building...\n"
     ]
    },
    {
     "name": "stderr",
     "output_type": "stream",
     "text": [
      "2021-04-30 09:11:04,441 - htmd.builder.charmm - INFO - Writing out segments.\n",
      "2021-04-30 09:11:11,215 - htmd.builder.builder - INFO - 3 disulfide bonds were added\n"
     ]
    },
    {
     "name": "stdout",
     "output_type": "stream",
     "text": [
      "Disulfide Bond between: UniqueResidueID<resname: 'CYS', chain: 'P', resid: 77, insertion: '', segid: 'P0'>\n",
      "                   and: UniqueResidueID<resname: 'CYS', chain: 'P', resid: 166, insertion: '', segid: 'P0'>\n",
      "\n",
      "Disulfide Bond between: UniqueResidueID<resname: 'CYS', chain: 'P', resid: 74, insertion: '', segid: 'P0'>\n",
      "                   and: UniqueResidueID<resname: 'CYS', chain: 'P', resid: 146, insertion: '', segid: 'P0'>\n",
      "\n",
      "Disulfide Bond between: UniqueResidueID<resname: 'CYS', chain: 'P', resid: 259, insertion: '', segid: 'P0'>\n",
      "                   and: UniqueResidueID<resname: 'CYS', chain: 'P', resid: 262, insertion: '', segid: 'P0'>\n",
      "\n"
     ]
    },
    {
     "name": "stderr",
     "output_type": "stream",
     "text": [
      "2021-04-30 09:11:12,160 - htmd.builder.charmm - INFO - Starting the build.\n",
      "2021-04-30 09:11:16,291 - htmd.builder.charmm - WARNING - Failed to set coordinates for 1 atoms.\n",
      "2021-04-30 09:11:16,294 - htmd.builder.charmm - WARNING - Poorly guessed coordinates for 1 atoms.\n",
      "2021-04-30 09:11:16,296 - htmd.builder.charmm - WARNING - Please check /gpcr/users/daranda/doctorat/GPCR_simulations/simulation_output/build/5WF5/log.txt for further information.\n",
      "2021-04-30 09:11:16,299 - htmd.builder.charmm - INFO - Finished building.\n",
      "2021-04-30 09:11:40,619 - htmd.builder.builder - WARNING - Found cis peptide bond in 1 frames: [0] in the omega diheral \"Angle of (LEU 216 CA P0 P) (LEU 216 C P0 P) (PRO 217 N P0 P) (PRO 217 CA P0 P) \" with indexes [3325, 3340, 3342, 3346]\n"
     ]
    },
    {
     "name": "stdout",
     "output_type": "stream",
     "text": [
      "End of 5WF5 after 418.26417803764343 seconds\n",
      "\n",
      "Build model for 5WF5_apo already exists. Skipping...\n"
     ]
    },
    {
     "name": "stderr",
     "output_type": "stream",
     "text": [
      "2021-04-30 09:11:40,980 - moleculekit.molecule - INFO - Removed 0 atoms. 5039 atoms remaining in the molecule.\n",
      "2021-04-30 09:11:41,012 - moleculekit.molecule - INFO - Removed 0 atoms. 5039 atoms remaining in the molecule.\n",
      "2021-04-30 09:11:41,045 - moleculekit.molecule - INFO - Removed 0 atoms. 5039 atoms remaining in the molecule.\n",
      "2021-04-30 09:11:42,822 - moleculekit.molecule - INFO - Removed 0 atoms. 5039 atoms remaining in the molecule.\n",
      "2021-04-30 09:11:42,854 - moleculekit.molecule - INFO - Removed 3 atoms. 5036 atoms remaining in the molecule.\n",
      "2021-04-30 09:11:42,947 - moleculekit.molecule - INFO - Removed 0 atoms. 5036 atoms remaining in the molecule.\n",
      "2021-04-30 09:11:43,324 - moleculekit.tools.autosegment - INFO - Created segment P0 between resid 1 and 319.\n",
      "2021-04-30 09:11:46,051 - moleculekit.molecule - INFO - Removed 0 atoms. 5036 atoms remaining in the molecule.\n",
      "2021-04-30 09:11:46,206 - moleculekit.tools.sequencestructuralalignment - INFO - No segment was specified by the user for `mol`. Alignment will be done on all protein segments.\n",
      "2021-04-30 09:11:46,245 - moleculekit.tools.sequencestructuralalignment - INFO - No segment was specified by the user for `ref`. Alignment will be done on all protein segments.\n",
      "2021-04-30 09:11:46,451 - moleculekit.tools.sequencestructuralalignment - WARNING - 7 alignments found. Limiting to 1 as specified in the `maxalignments` argument.\n",
      "2021-04-30 09:11:46,453 - moleculekit.tools.sequencestructuralalignment - INFO - Alignment #0 was done on 146 residues: mol segid P0 resid 3-148\n"
     ]
    },
    {
     "name": "stdout",
     "output_type": "stream",
     "text": [
      "Adding membrane...\n"
     ]
    },
    {
     "name": "stderr",
     "output_type": "stream",
     "text": [
      "2021-04-30 09:11:47,147 - htmd.builder.builder - INFO - Replicating Membrane 3x3\n",
      "Replicating Membrane: 100%|██████████| 9/9 [00:02<00:00,  3.99it/s]\n",
      "2021-04-30 09:13:31,043 - moleculekit.molecule - INFO - Removed 2236 atoms. 42827 atoms remaining in the molecule.\n",
      "2021-04-30 09:13:32,261 - moleculekit.molecule - INFO - Removed 110 residues from appended Molecule due to collisions.\n"
     ]
    },
    {
     "name": "stdout",
     "output_type": "stream",
     "text": [
      "Solvating...\n"
     ]
    },
    {
     "name": "stderr",
     "output_type": "stream",
     "text": [
      "2021-04-30 09:13:33,030 - htmd.builder.solvate - INFO - Using water pdb file at: /home/david/miniconda3/lib/python3.6/site-packages/htmd/share/solvate/wat.pdb\n"
     ]
    },
    {
     "name": "stdout",
     "output_type": "stream",
     "text": [
      "wataerbox Max and min:  [52.44478  53.375015 28.060892] [-47.308224 -46.377987 -27.734108]\n"
     ]
    },
    {
     "name": "stderr",
     "output_type": "stream",
     "text": [
      "2021-04-30 09:13:33,811 - htmd.builder.solvate - INFO - Replicating 8 water segments, 2 by 2 by 2\n",
      "Solvating: 100%|██████████| 8/8 [00:08<00:00,  1.11s/it]\n",
      "2021-04-30 09:13:44,434 - htmd.builder.solvate - INFO - 16043 water molecules were added to the system.\n",
      "2021-04-30 09:13:51,593 - moleculekit.molecule - INFO - Removed 699 atoms. 89854 atoms remaining in the molecule.\n"
     ]
    },
    {
     "name": "stdout",
     "output_type": "stream",
     "text": [
      "Pre-build...\n"
     ]
    },
    {
     "name": "stderr",
     "output_type": "stream",
     "text": [
      "2021-04-30 09:13:56,348 - htmd.builder.charmm - INFO - Writing out segments.\n",
      "2021-04-30 09:14:02,352 - htmd.builder.builder - INFO - 3 disulfide bonds were added\n"
     ]
    },
    {
     "name": "stdout",
     "output_type": "stream",
     "text": [
      "Disulfide Bond between: UniqueResidueID<resname: 'CYX', chain: 'P', resid: 77, insertion: '', segid: 'P0'>\n",
      "                   and: UniqueResidueID<resname: 'CYX', chain: 'P', resid: 166, insertion: '', segid: 'P0'>\n",
      "\n",
      "Disulfide Bond between: UniqueResidueID<resname: 'CYX', chain: 'P', resid: 74, insertion: '', segid: 'P0'>\n",
      "                   and: UniqueResidueID<resname: 'CYX', chain: 'P', resid: 146, insertion: '', segid: 'P0'>\n",
      "\n",
      "Disulfide Bond between: UniqueResidueID<resname: 'CYX', chain: 'P', resid: 259, insertion: '', segid: 'P0'>\n",
      "                   and: UniqueResidueID<resname: 'CYX', chain: 'P', resid: 262, insertion: '', segid: 'P0'>\n",
      "\n"
     ]
    },
    {
     "name": "stderr",
     "output_type": "stream",
     "text": [
      "2021-04-30 09:14:03,200 - htmd.builder.charmm - INFO - Starting the build.\n",
      "2021-04-30 09:14:07,001 - htmd.builder.charmm - WARNING - Failed to set coordinates for 6 atoms.\n",
      "2021-04-30 09:14:07,004 - htmd.builder.charmm - WARNING - Failed to guess coordinates for 2 atoms due to bad angles.\n",
      "2021-04-30 09:14:07,006 - htmd.builder.charmm - WARNING - Poorly guessed coordinates for 180 atoms.\n",
      "2021-04-30 09:14:07,007 - htmd.builder.charmm - WARNING - Please check /gpcr/users/daranda/doctorat/GPCR_simulations/simulation_output/pre-build/5WF5_apo/log.txt for further information.\n",
      "2021-04-30 09:14:07,011 - htmd.builder.charmm - INFO - Finished building.\n",
      "2021-04-30 09:14:08,645 - moleculekit.readers - WARNING - Atoms with names \"HE21\" \"HE22\" were guessed as element H but could also be He (helium). If this is a case, you can correct them with mol.set('element', 'He', sel='name \"HE21\" \"HE22\"')\n",
      "2021-04-30 09:14:31,632 - htmd.builder.builder - WARNING - Found cis peptide bond in 1 frames: [0] in the omega diheral \"Angle of (LEU 216 CA P0 P) (LEU 216 C P0 P) (PRO 217 N P0 P) (PRO 217 CA P0 P) \" with indexes [3325, 3340, 3342, 3346]\n",
      "2021-04-30 09:14:32,683 - moleculekit.readers - WARNING - Atoms with names \"HE21\" \"HE22\" were guessed as element H but could also be He (helium). If this is a case, you can correct them with mol.set('element', 'He', sel='name \"HE21\" \"HE22\"')\n"
     ]
    },
    {
     "name": "stdout",
     "output_type": "stream",
     "text": [
      "Checking aromatic insertions...\n",
      "WARNING: removed 0 atoms within 1.5 of a protein aromatic ring\n",
      "Renumbering...\n",
      "Ionizing...\n"
     ]
    },
    {
     "name": "stderr",
     "output_type": "stream",
     "text": [
      "2021-04-30 09:15:51,410 - htmd.builder.charmm - INFO - Writing out segments.\n",
      "2021-04-30 09:15:58,002 - htmd.builder.builder - INFO - 3 disulfide bonds were added\n"
     ]
    },
    {
     "name": "stdout",
     "output_type": "stream",
     "text": [
      "Disulfide Bond between: UniqueResidueID<resname: 'CYS', chain: 'P', resid: 77, insertion: '', segid: 'P0'>\n",
      "                   and: UniqueResidueID<resname: 'CYS', chain: 'P', resid: 166, insertion: '', segid: 'P0'>\n",
      "\n",
      "Disulfide Bond between: UniqueResidueID<resname: 'CYS', chain: 'P', resid: 74, insertion: '', segid: 'P0'>\n",
      "                   and: UniqueResidueID<resname: 'CYS', chain: 'P', resid: 146, insertion: '', segid: 'P0'>\n",
      "\n",
      "Disulfide Bond between: UniqueResidueID<resname: 'CYS', chain: 'P', resid: 259, insertion: '', segid: 'P0'>\n",
      "                   and: UniqueResidueID<resname: 'CYS', chain: 'P', resid: 262, insertion: '', segid: 'P0'>\n",
      "\n"
     ]
    },
    {
     "name": "stderr",
     "output_type": "stream",
     "text": [
      "2021-04-30 09:15:58,673 - htmd.builder.charmm - INFO - Starting the build.\n",
      "2021-04-30 09:16:04,484 - htmd.builder.charmm - WARNING - Failed to set coordinates for 1 atoms.\n",
      "2021-04-30 09:16:04,487 - htmd.builder.charmm - WARNING - Poorly guessed coordinates for 1 atoms.\n",
      "2021-04-30 09:16:04,489 - htmd.builder.charmm - WARNING - Please check /gpcr/users/daranda/doctorat/GPCR_simulations/simulation_output/ionize/5WF5_apo/log.txt for further information.\n",
      "2021-04-30 09:16:04,492 - htmd.builder.charmm - INFO - Finished building.\n",
      "2021-04-30 09:16:09,531 - htmd.builder.ionize - INFO - Adding 12 anions + 0 cations for neutralizing and 112 ions for the given salt concentration.\n",
      "2021-04-30 09:16:50,734 - htmd.builder.charmm - INFO - Writing out segments.\n",
      "2021-04-30 09:16:58,110 - htmd.builder.charmm - INFO - Starting the build.\n",
      "2021-04-30 09:17:01,480 - htmd.builder.charmm - WARNING - Failed to set coordinates for 1 atoms.\n",
      "2021-04-30 09:17:01,483 - htmd.builder.charmm - WARNING - Poorly guessed coordinates for 1 atoms.\n",
      "2021-04-30 09:17:01,485 - htmd.builder.charmm - WARNING - Please check /gpcr/users/daranda/doctorat/GPCR_simulations/simulation_output/ionize/5WF5_apo/log.txt for further information.\n",
      "2021-04-30 09:17:01,488 - htmd.builder.charmm - INFO - Finished building.\n",
      "2021-04-30 09:17:25,700 - htmd.builder.builder - WARNING - Found cis peptide bond in 1 frames: [0] in the omega diheral \"Angle of (LEU 216 CA P0 P) (LEU 216 C P0 P) (PRO 217 N P0 P) (PRO 217 CA P0 P) \" with indexes [3325, 3340, 3342, 3346]\n"
     ]
    },
    {
     "name": "stdout",
     "output_type": "stream",
     "text": [
      "Building...\n"
     ]
    },
    {
     "name": "stderr",
     "output_type": "stream",
     "text": [
      "2021-04-30 09:18:00,713 - htmd.builder.charmm - INFO - Writing out segments.\n",
      "2021-04-30 09:18:07,374 - htmd.builder.builder - INFO - 3 disulfide bonds were added\n"
     ]
    },
    {
     "name": "stdout",
     "output_type": "stream",
     "text": [
      "Disulfide Bond between: UniqueResidueID<resname: 'CYS', chain: 'P', resid: 77, insertion: '', segid: 'P0'>\n",
      "                   and: UniqueResidueID<resname: 'CYS', chain: 'P', resid: 166, insertion: '', segid: 'P0'>\n",
      "\n",
      "Disulfide Bond between: UniqueResidueID<resname: 'CYS', chain: 'P', resid: 74, insertion: '', segid: 'P0'>\n",
      "                   and: UniqueResidueID<resname: 'CYS', chain: 'P', resid: 146, insertion: '', segid: 'P0'>\n",
      "\n",
      "Disulfide Bond between: UniqueResidueID<resname: 'CYS', chain: 'P', resid: 259, insertion: '', segid: 'P0'>\n",
      "                   and: UniqueResidueID<resname: 'CYS', chain: 'P', resid: 262, insertion: '', segid: 'P0'>\n",
      "\n"
     ]
    },
    {
     "name": "stderr",
     "output_type": "stream",
     "text": [
      "2021-04-30 09:18:08,236 - htmd.builder.charmm - INFO - Starting the build.\n",
      "2021-04-30 09:18:12,156 - htmd.builder.charmm - WARNING - Failed to set coordinates for 1 atoms.\n",
      "2021-04-30 09:18:12,159 - htmd.builder.charmm - WARNING - Poorly guessed coordinates for 1 atoms.\n",
      "2021-04-30 09:18:12,161 - htmd.builder.charmm - WARNING - Please check /gpcr/users/daranda/doctorat/GPCR_simulations/simulation_output/build/5WF5_apo/log.txt for further information.\n",
      "2021-04-30 09:18:12,214 - htmd.builder.charmm - INFO - Finished building.\n",
      "2021-04-30 09:18:37,088 - htmd.builder.builder - WARNING - Found cis peptide bond in 1 frames: [0] in the omega diheral \"Angle of (LEU 216 CA P0 P) (LEU 216 C P0 P) (PRO 217 N P0 P) (PRO 217 CA P0 P) \" with indexes [3325, 3340, 3342, 3346]\n"
     ]
    },
    {
     "name": "stdout",
     "output_type": "stream",
     "text": [
      "End of 5WF5_apo after 416.46872448921204 seconds\n",
      "\n",
      "Build model for 5WF6 already exists. Skipping...\n"
     ]
    },
    {
     "name": "stderr",
     "output_type": "stream",
     "text": [
      "2021-04-30 09:18:37,357 - moleculekit.molecule - INFO - Removed 8 atoms. 5083 atoms remaining in the molecule.\n",
      "2021-04-30 09:18:37,393 - moleculekit.molecule - INFO - Removed 0 atoms. 5083 atoms remaining in the molecule.\n",
      "2021-04-30 09:18:39,255 - moleculekit.molecule - INFO - Removed 0 atoms. 5083 atoms remaining in the molecule.\n",
      "2021-04-30 09:18:39,290 - moleculekit.molecule - INFO - Removed 3 atoms. 5080 atoms remaining in the molecule.\n",
      "2021-04-30 09:18:39,393 - moleculekit.molecule - INFO - Removed 0 atoms. 5080 atoms remaining in the molecule.\n",
      "2021-04-30 09:18:42,676 - moleculekit.molecule - INFO - Removed 0 atoms. 5080 atoms remaining in the molecule.\n",
      "2021-04-30 09:18:42,858 - moleculekit.tools.sequencestructuralalignment - INFO - No segment was specified by the user for `mol`. Alignment will be done on all protein segments.\n",
      "2021-04-30 09:18:42,900 - moleculekit.tools.sequencestructuralalignment - INFO - No segment was specified by the user for `ref`. Alignment will be done on all protein segments.\n",
      "2021-04-30 09:18:43,109 - moleculekit.tools.sequencestructuralalignment - WARNING - 4 alignments found. Limiting to 1 as specified in the `maxalignments` argument.\n",
      "2021-04-30 09:18:43,111 - moleculekit.tools.sequencestructuralalignment - INFO - Alignment #0 was done on 146 residues: mol segid P resid 3-148\n"
     ]
    },
    {
     "name": "stdout",
     "output_type": "stream",
     "text": [
      "Adding membrane...\n"
     ]
    },
    {
     "name": "stderr",
     "output_type": "stream",
     "text": [
      "2021-04-30 09:18:43,874 - htmd.builder.builder - INFO - Replicating Membrane 3x3\n",
      "Replicating Membrane: 100%|██████████| 9/9 [00:02<00:00,  3.67it/s]\n",
      "2021-04-30 09:21:00,182 - moleculekit.molecule - INFO - Removed 2511 atoms. 50020 atoms remaining in the molecule.\n",
      "2021-04-30 09:21:01,598 - moleculekit.molecule - INFO - Removed 112 residues from appended Molecule due to collisions.\n"
     ]
    },
    {
     "name": "stdout",
     "output_type": "stream",
     "text": [
      "Solvating...\n"
     ]
    },
    {
     "name": "stderr",
     "output_type": "stream",
     "text": [
      "2021-04-30 09:21:02,422 - htmd.builder.solvate - INFO - Using water pdb file at: /home/david/miniconda3/lib/python3.6/site-packages/htmd/share/solvate/wat.pdb\n"
     ]
    },
    {
     "name": "stdout",
     "output_type": "stream",
     "text": [
      "wataerbox Max and min:  [57.891    57.325306 28.04904 ] [-50.274998 -50.856697 -27.74596 ]\n"
     ]
    },
    {
     "name": "stderr",
     "output_type": "stream",
     "text": [
      "2021-04-30 09:21:03,137 - htmd.builder.solvate - INFO - Replicating 8 water segments, 2 by 2 by 2\n",
      "Solvating: 100%|██████████| 8/8 [00:09<00:00,  1.18s/it]\n",
      "2021-04-30 09:21:14,596 - htmd.builder.solvate - INFO - 18749 water molecules were added to the system.\n",
      "2021-04-30 09:21:22,533 - moleculekit.molecule - INFO - Removed 840 atoms. 104669 atoms remaining in the molecule.\n"
     ]
    },
    {
     "name": "stdout",
     "output_type": "stream",
     "text": [
      "Pre-build...\n"
     ]
    },
    {
     "name": "stderr",
     "output_type": "stream",
     "text": [
      "2021-04-30 09:21:25,370 - htmd.builder.builder - WARNING - Segments ['P'] contain both protein and non-protein atoms. Please assign separate segments to them or the build procedure might fail.\n",
      "2021-04-30 09:21:28,106 - htmd.builder.charmm - INFO - Writing out segments.\n",
      "2021-04-30 09:21:34,704 - moleculekit.writers - WARNING - Field \"serial\" of PDB overflows. Your data will be truncated to 5 characters.\n",
      "2021-04-30 09:21:35,218 - moleculekit.writers - WARNING - Field \"serial\" of PDB overflows. Your data will be truncated to 5 characters.\n",
      "2021-04-30 09:21:35,404 - htmd.builder.builder - INFO - 4 disulfide bonds were added\n"
     ]
    },
    {
     "name": "stdout",
     "output_type": "stream",
     "text": [
      "Disulfide Bond between: UniqueResidueID<resname: 'CYX', chain: 'P', resid: 77, insertion: '', segid: 'P'>\n",
      "                   and: UniqueResidueID<resname: 'CYX', chain: 'P', resid: 166, insertion: '', segid: 'P'>\n",
      "\n",
      "Disulfide Bond between: UniqueResidueID<resname: 'CYX', chain: 'P', resid: 74, insertion: '', segid: 'P'>\n",
      "                   and: UniqueResidueID<resname: 'CYX', chain: 'P', resid: 146, insertion: '', segid: 'P'>\n",
      "\n",
      "Disulfide Bond between: UniqueResidueID<resname: 'CYX', chain: 'P', resid: 259, insertion: '', segid: 'P'>\n",
      "                   and: UniqueResidueID<resname: 'CYX', chain: 'P', resid: 262, insertion: '', segid: 'P'>\n",
      "\n",
      "Disulfide Bond between: UniqueResidueID<resname: 'CYS', chain: 'P', resid: 71, insertion: '', segid: 'P'>\n",
      "                   and: UniqueResidueID<resname: 'CYS', chain: 'P', resid: 159, insertion: '', segid: 'P'>\n",
      "\n"
     ]
    },
    {
     "name": "stderr",
     "output_type": "stream",
     "text": [
      "2021-04-30 09:21:36,300 - htmd.builder.charmm - INFO - Starting the build.\n",
      "2021-04-30 09:21:42,316 - htmd.builder.charmm - WARNING - Failed to set coordinates for 5 atoms.\n",
      "2021-04-30 09:21:42,319 - htmd.builder.charmm - WARNING - Failed to guess coordinates for 1 atoms due to bad angles.\n",
      "2021-04-30 09:21:42,320 - htmd.builder.charmm - WARNING - Poorly guessed coordinates for 217 atoms.\n",
      "2021-04-30 09:21:42,323 - htmd.builder.charmm - WARNING - Please check /gpcr/users/daranda/doctorat/GPCR_simulations/simulation_output/pre-build/5WF6/log.txt for further information.\n",
      "2021-04-30 09:21:42,327 - htmd.builder.charmm - INFO - Finished building.\n",
      "2021-04-30 09:21:44,123 - moleculekit.readers - WARNING - Atoms with names \"HE21\" \"HE22\" were guessed as element H but could also be He (helium). If this is a case, you can correct them with mol.set('element', 'He', sel='name \"HE21\" \"HE22\"')\n",
      "2021-04-30 09:21:44,306 - moleculekit.readers - WARNING - Non-integer values were read from the PDB \"serial\" field. Dropping PDB values and assigning new ones.\n",
      "2021-04-30 09:21:44,372 - moleculekit.readers - WARNING - Reading PDB file with more than 99999 atoms. Bond information can be wrong.\n",
      "2021-04-30 09:22:12,300 - htmd.builder.builder - WARNING - Found cis peptide bond in 1 frames: [0] in the omega diheral \"Angle of (CYS 146 CA P P) (CYS 146 C P P) (GLY 147 N P P) (GLY 147 CA P P) \" with indexes [2234, 2240, 2242, 2244]\n",
      "2021-04-30 09:22:12,301 - htmd.builder.builder - WARNING - Found cis peptide bond in 1 frames: [0] in the omega diheral \"Angle of (GLU 161 CA P P) (GLU 161 C P P) (GLY 162 N P P) (GLY 162 CA P P) \" with indexes [2427, 2438, 2440, 2442]\n",
      "2021-04-30 09:22:12,302 - htmd.builder.builder - WARNING - Found cis peptide bond in 1 frames: [0] in the omega diheral \"Angle of (SER 213 CA P P) (SER 213 C P P) (GLN 214 N P P) (GLN 214 CA P P) \" with indexes [3293, 3300, 3302, 3304]\n",
      "2021-04-30 09:22:12,302 - htmd.builder.builder - WARNING - Found cis peptide bond in 1 frames: [0] in the omega diheral \"Angle of (PRO 217 CA P P) (PRO 217 C P P) (GLY 218 N P P) (GLY 218 CA P P) \" with indexes [3356, 3364, 3366, 3368]\n",
      "2021-04-30 09:22:13,607 - moleculekit.readers - WARNING - Atoms with names \"HE21\" \"HE22\" were guessed as element H but could also be He (helium). If this is a case, you can correct them with mol.set('element', 'He', sel='name \"HE21\" \"HE22\"')\n",
      "2021-04-30 09:22:13,781 - moleculekit.readers - WARNING - Non-integer values were read from the PDB \"serial\" field. Dropping PDB values and assigning new ones.\n",
      "2021-04-30 09:22:13,844 - moleculekit.readers - WARNING - Reading PDB file with more than 99999 atoms. Bond information can be wrong.\n"
     ]
    },
    {
     "name": "stdout",
     "output_type": "stream",
     "text": [
      "Checking aromatic insertions...\n"
     ]
    },
    {
     "name": "stderr",
     "output_type": "stream",
     "text": [
      "2021-04-30 09:22:42,871 - moleculekit.writers - WARNING - Field \"serial\" of PDB overflows. Your data will be truncated to 5 characters.\n"
     ]
    },
    {
     "name": "stdout",
     "output_type": "stream",
     "text": [
      "WARNING: removed 0 atoms within 1.5 of a protein aromatic ring\n"
     ]
    },
    {
     "name": "stderr",
     "output_type": "stream",
     "text": [
      "2021-04-30 09:23:31,006 - moleculekit.writers - WARNING - Field \"serial\" of PDB overflows. Your data will be truncated to 5 characters.\n"
     ]
    },
    {
     "name": "stdout",
     "output_type": "stream",
     "text": [
      "Renumbering...\n"
     ]
    },
    {
     "name": "stderr",
     "output_type": "stream",
     "text": [
      "2021-04-30 09:23:44,283 - moleculekit.readers - WARNING - Non-integer values were read from the PDB \"serial\" field. Dropping PDB values and assigning new ones.\n",
      "2021-04-30 09:23:44,345 - moleculekit.readers - WARNING - Reading PDB file with more than 99999 atoms. Bond information can be wrong.\n"
     ]
    },
    {
     "name": "stdout",
     "output_type": "stream",
     "text": [
      "Ionizing...\n"
     ]
    },
    {
     "name": "stderr",
     "output_type": "stream",
     "text": [
      "2021-04-30 09:23:45,959 - htmd.builder.builder - WARNING - Segments ['P'] contain both protein and non-protein atoms. Please assign separate segments to them or the build procedure might fail.\n",
      "2021-04-30 09:23:48,515 - htmd.builder.charmm - INFO - Writing out segments.\n",
      "2021-04-30 09:23:55,461 - moleculekit.writers - WARNING - Field \"serial\" of PDB overflows. Your data will be truncated to 5 characters.\n",
      "2021-04-30 09:23:55,972 - moleculekit.writers - WARNING - Field \"serial\" of PDB overflows. Your data will be truncated to 5 characters.\n",
      "2021-04-30 09:23:56,073 - htmd.builder.builder - INFO - 4 disulfide bonds were added\n"
     ]
    },
    {
     "name": "stdout",
     "output_type": "stream",
     "text": [
      "Disulfide Bond between: UniqueResidueID<resname: 'CYS', chain: 'P', resid: 77, insertion: '', segid: 'P'>\n",
      "                   and: UniqueResidueID<resname: 'CYS', chain: 'P', resid: 166, insertion: '', segid: 'P'>\n",
      "\n",
      "Disulfide Bond between: UniqueResidueID<resname: 'CYS', chain: 'P', resid: 74, insertion: '', segid: 'P'>\n",
      "                   and: UniqueResidueID<resname: 'CYS', chain: 'P', resid: 146, insertion: '', segid: 'P'>\n",
      "\n",
      "Disulfide Bond between: UniqueResidueID<resname: 'CYS', chain: 'P', resid: 259, insertion: '', segid: 'P'>\n",
      "                   and: UniqueResidueID<resname: 'CYS', chain: 'P', resid: 262, insertion: '', segid: 'P'>\n",
      "\n",
      "Disulfide Bond between: UniqueResidueID<resname: 'CYS', chain: 'P', resid: 71, insertion: '', segid: 'P'>\n",
      "                   and: UniqueResidueID<resname: 'CYS', chain: 'P', resid: 159, insertion: '', segid: 'P'>\n",
      "\n"
     ]
    },
    {
     "name": "stderr",
     "output_type": "stream",
     "text": [
      "2021-04-30 09:23:56,857 - htmd.builder.charmm - INFO - Starting the build.\n",
      "2021-04-30 09:24:02,511 - htmd.builder.charmm - WARNING - Failed to set coordinates for 2 atoms.\n",
      "2021-04-30 09:24:02,514 - htmd.builder.charmm - WARNING - Poorly guessed coordinates for 2 atoms.\n",
      "2021-04-30 09:24:02,516 - htmd.builder.charmm - WARNING - Please check /gpcr/users/daranda/doctorat/GPCR_simulations/simulation_output/ionize/5WF6/log.txt for further information.\n",
      "2021-04-30 09:24:02,519 - htmd.builder.charmm - INFO - Finished building.\n",
      "2021-04-30 09:24:04,542 - moleculekit.readers - WARNING - Non-integer values were read from the PDB \"serial\" field. Dropping PDB values and assigning new ones.\n",
      "2021-04-30 09:24:04,600 - moleculekit.readers - WARNING - Reading PDB file with more than 99999 atoms. Bond information can be wrong.\n",
      "2021-04-30 09:24:08,617 - htmd.builder.ionize - INFO - Adding 12 anions + 0 cations for neutralizing and 130 ions for the given salt concentration.\n",
      "2021-04-30 09:25:00,512 - htmd.builder.builder - WARNING - Segments ['P'] contain both protein and non-protein atoms. Please assign separate segments to them or the build procedure might fail.\n",
      "2021-04-30 09:25:02,718 - htmd.builder.charmm - INFO - Writing out segments.\n",
      "2021-04-30 09:25:09,832 - moleculekit.writers - WARNING - Field \"serial\" of PDB overflows. Your data will be truncated to 5 characters.\n",
      "2021-04-30 09:25:10,349 - moleculekit.writers - WARNING - Field \"serial\" of PDB overflows. Your data will be truncated to 5 characters.\n",
      "2021-04-30 09:25:10,807 - moleculekit.writers - WARNING - Field \"serial\" of PDB overflows. Your data will be truncated to 5 characters.\n",
      "2021-04-30 09:25:11,595 - htmd.builder.charmm - INFO - Starting the build.\n",
      "2021-04-30 09:25:16,056 - htmd.builder.charmm - WARNING - Failed to set coordinates for 2 atoms.\n",
      "2021-04-30 09:25:16,059 - htmd.builder.charmm - WARNING - Poorly guessed coordinates for 2 atoms.\n",
      "2021-04-30 09:25:16,062 - htmd.builder.charmm - WARNING - Please check /gpcr/users/daranda/doctorat/GPCR_simulations/simulation_output/ionize/5WF6/log.txt for further information.\n",
      "2021-04-30 09:25:16,064 - htmd.builder.charmm - INFO - Finished building.\n",
      "2021-04-30 09:25:18,093 - moleculekit.readers - WARNING - Non-integer values were read from the PDB \"serial\" field. Dropping PDB values and assigning new ones.\n",
      "2021-04-30 09:25:18,152 - moleculekit.readers - WARNING - Reading PDB file with more than 99999 atoms. Bond information can be wrong.\n",
      "2021-04-30 09:25:44,270 - htmd.builder.builder - WARNING - Found cis peptide bond in 1 frames: [0] in the omega diheral \"Angle of (CYS 146 CA P P) (CYS 146 C P P) (GLY 147 N P P) (GLY 147 CA P P) \" with indexes [2234, 2240, 2242, 2244]\n",
      "2021-04-30 09:25:44,271 - htmd.builder.builder - WARNING - Found cis peptide bond in 1 frames: [0] in the omega diheral \"Angle of (GLU 161 CA P P) (GLU 161 C P P) (GLY 162 N P P) (GLY 162 CA P P) \" with indexes [2427, 2438, 2440, 2442]\n",
      "2021-04-30 09:25:44,271 - htmd.builder.builder - WARNING - Found cis peptide bond in 1 frames: [0] in the omega diheral \"Angle of (SER 213 CA P P) (SER 213 C P P) (GLN 214 N P P) (GLN 214 CA P P) \" with indexes [3293, 3300, 3302, 3304]\n",
      "2021-04-30 09:25:44,272 - htmd.builder.builder - WARNING - Found cis peptide bond in 1 frames: [0] in the omega diheral \"Angle of (PRO 217 CA P P) (PRO 217 C P P) (GLY 218 N P P) (GLY 218 CA P P) \" with indexes [3356, 3364, 3366, 3368]\n",
      "2021-04-30 09:25:45,694 - moleculekit.readers - WARNING - Non-integer values were read from the PDB \"serial\" field. Dropping PDB values and assigning new ones.\n",
      "2021-04-30 09:25:45,751 - moleculekit.readers - WARNING - Reading PDB file with more than 99999 atoms. Bond information can be wrong.\n",
      "2021-04-30 09:25:48,847 - moleculekit.writers - WARNING - Field \"serial\" of PDB overflows. Your data will be truncated to 5 characters.\n"
     ]
    },
    {
     "name": "stdout",
     "output_type": "stream",
     "text": [
      "Building...\n"
     ]
    },
    {
     "name": "stderr",
     "output_type": "stream",
     "text": [
      "2021-04-30 09:26:19,228 - moleculekit.readers - WARNING - Non-integer values were read from the PDB \"serial\" field. Dropping PDB values and assigning new ones.\n",
      "2021-04-30 09:26:19,285 - moleculekit.readers - WARNING - Reading PDB file with more than 99999 atoms. Bond information can be wrong.\n",
      "2021-04-30 09:26:20,778 - htmd.builder.builder - WARNING - Segments ['P'] contain both protein and non-protein atoms. Please assign separate segments to them or the build procedure might fail.\n",
      "2021-04-30 09:26:23,326 - htmd.builder.charmm - INFO - Writing out segments.\n",
      "2021-04-30 09:26:30,103 - moleculekit.writers - WARNING - Field \"serial\" of PDB overflows. Your data will be truncated to 5 characters.\n",
      "2021-04-30 09:26:30,608 - moleculekit.writers - WARNING - Field \"serial\" of PDB overflows. Your data will be truncated to 5 characters.\n",
      "2021-04-30 09:26:31,039 - moleculekit.writers - WARNING - Field \"serial\" of PDB overflows. Your data will be truncated to 5 characters.\n",
      "2021-04-30 09:26:31,098 - htmd.builder.builder - INFO - 4 disulfide bonds were added\n"
     ]
    },
    {
     "name": "stdout",
     "output_type": "stream",
     "text": [
      "Disulfide Bond between: UniqueResidueID<resname: 'CYS', chain: 'P', resid: 77, insertion: '', segid: 'P'>\n",
      "                   and: UniqueResidueID<resname: 'CYS', chain: 'P', resid: 166, insertion: '', segid: 'P'>\n",
      "\n",
      "Disulfide Bond between: UniqueResidueID<resname: 'CYS', chain: 'P', resid: 74, insertion: '', segid: 'P'>\n",
      "                   and: UniqueResidueID<resname: 'CYS', chain: 'P', resid: 146, insertion: '', segid: 'P'>\n",
      "\n",
      "Disulfide Bond between: UniqueResidueID<resname: 'CYS', chain: 'P', resid: 259, insertion: '', segid: 'P'>\n",
      "                   and: UniqueResidueID<resname: 'CYS', chain: 'P', resid: 262, insertion: '', segid: 'P'>\n",
      "\n",
      "Disulfide Bond between: UniqueResidueID<resname: 'CYS', chain: 'P', resid: 71, insertion: '', segid: 'P'>\n",
      "                   and: UniqueResidueID<resname: 'CYS', chain: 'P', resid: 159, insertion: '', segid: 'P'>\n",
      "\n"
     ]
    },
    {
     "name": "stderr",
     "output_type": "stream",
     "text": [
      "2021-04-30 09:26:31,654 - htmd.builder.charmm - INFO - Starting the build.\n",
      "2021-04-30 09:26:36,755 - htmd.builder.charmm - WARNING - Failed to set coordinates for 2 atoms.\n",
      "2021-04-30 09:26:36,759 - htmd.builder.charmm - WARNING - Poorly guessed coordinates for 2 atoms.\n",
      "2021-04-30 09:26:36,760 - htmd.builder.charmm - WARNING - Please check /gpcr/users/daranda/doctorat/GPCR_simulations/simulation_output/build/5WF6/log.txt for further information.\n",
      "2021-04-30 09:26:36,760 - htmd.builder.charmm - INFO - Finished building.\n",
      "2021-04-30 09:26:38,866 - moleculekit.readers - WARNING - Non-integer values were read from the PDB \"serial\" field. Dropping PDB values and assigning new ones.\n",
      "2021-04-30 09:26:38,926 - moleculekit.readers - WARNING - Reading PDB file with more than 99999 atoms. Bond information can be wrong.\n",
      "2021-04-30 09:27:06,437 - htmd.builder.builder - WARNING - Found cis peptide bond in 1 frames: [0] in the omega diheral \"Angle of (CYS 146 CA P P) (CYS 146 C P P) (GLY 147 N P P) (GLY 147 CA P P) \" with indexes [2234, 2240, 2242, 2244]\n",
      "2021-04-30 09:27:06,438 - htmd.builder.builder - WARNING - Found cis peptide bond in 1 frames: [0] in the omega diheral \"Angle of (GLU 161 CA P P) (GLU 161 C P P) (GLY 162 N P P) (GLY 162 CA P P) \" with indexes [2427, 2438, 2440, 2442]\n",
      "2021-04-30 09:27:06,439 - htmd.builder.builder - WARNING - Found cis peptide bond in 1 frames: [0] in the omega diheral \"Angle of (SER 213 CA P P) (SER 213 C P P) (GLN 214 N P P) (GLN 214 CA P P) \" with indexes [3293, 3300, 3302, 3304]\n",
      "2021-04-30 09:27:06,440 - htmd.builder.builder - WARNING - Found cis peptide bond in 1 frames: [0] in the omega diheral \"Angle of (PRO 217 CA P P) (PRO 217 C P P) (GLY 218 N P P) (GLY 218 CA P P) \" with indexes [3356, 3364, 3366, 3368]\n"
     ]
    },
    {
     "name": "stdout",
     "output_type": "stream",
     "text": [
      "End of 5WF6 after 509.35146737098694 seconds\n",
      "\n",
      "Build model for 5WF6_apo already exists. Skipping...\n"
     ]
    },
    {
     "name": "stderr",
     "output_type": "stream",
     "text": [
      "2021-04-30 09:27:06,785 - moleculekit.molecule - INFO - Removed 8 atoms. 5026 atoms remaining in the molecule.\n",
      "2021-04-30 09:27:06,820 - moleculekit.molecule - INFO - Removed 9 atoms. 5017 atoms remaining in the molecule.\n",
      "2021-04-30 09:27:06,856 - moleculekit.molecule - INFO - Removed 0 atoms. 5017 atoms remaining in the molecule.\n",
      "2021-04-30 09:27:08,947 - moleculekit.molecule - INFO - Removed 0 atoms. 5017 atoms remaining in the molecule.\n",
      "2021-04-30 09:27:08,983 - moleculekit.molecule - INFO - Removed 3 atoms. 5014 atoms remaining in the molecule.\n",
      "2021-04-30 09:27:09,086 - moleculekit.molecule - INFO - Removed 0 atoms. 5014 atoms remaining in the molecule.\n",
      "2021-04-30 09:27:09,515 - moleculekit.tools.autosegment - INFO - Created segment P0 between resid 1 and 162.\n",
      "2021-04-30 09:27:09,515 - moleculekit.tools.autosegment - INFO - Created segment P1 between resid 164 and 319.\n",
      "2021-04-30 09:27:12,390 - moleculekit.molecule - INFO - Removed 0 atoms. 5014 atoms remaining in the molecule.\n",
      "2021-04-30 09:27:12,603 - moleculekit.tools.sequencestructuralalignment - INFO - No segment was specified by the user for `mol` and multiple segments (['P0', 'P1']) were detected. Alignment will be done on all protein segments.\n",
      "2021-04-30 09:27:12,644 - moleculekit.tools.sequencestructuralalignment - INFO - No segment was specified by the user for `ref`. Alignment will be done on all protein segments.\n",
      "2021-04-30 09:27:12,851 - moleculekit.tools.sequencestructuralalignment - WARNING - 4 alignments found. Limiting to 1 as specified in the `maxalignments` argument.\n",
      "2021-04-30 09:27:12,853 - moleculekit.tools.sequencestructuralalignment - INFO - Alignment #0 was done on 146 residues: mol segid P0 resid 3-148\n"
     ]
    },
    {
     "name": "stdout",
     "output_type": "stream",
     "text": [
      "Adding membrane...\n"
     ]
    },
    {
     "name": "stderr",
     "output_type": "stream",
     "text": [
      "2021-04-30 09:27:13,594 - htmd.builder.builder - INFO - Replicating Membrane 3x3\n",
      "Replicating Membrane: 100%|██████████| 9/9 [00:02<00:00,  3.60it/s]\n",
      "2021-04-30 09:29:47,101 - moleculekit.molecule - INFO - Removed 2511 atoms. 50020 atoms remaining in the molecule.\n",
      "2021-04-30 09:29:48,595 - moleculekit.molecule - INFO - Removed 112 residues from appended Molecule due to collisions.\n"
     ]
    },
    {
     "name": "stdout",
     "output_type": "stream",
     "text": [
      "Solvating...\n"
     ]
    },
    {
     "name": "stderr",
     "output_type": "stream",
     "text": [
      "2021-04-30 09:29:49,490 - htmd.builder.solvate - INFO - Using water pdb file at: /home/david/miniconda3/lib/python3.6/site-packages/htmd/share/solvate/wat.pdb\n"
     ]
    },
    {
     "name": "stdout",
     "output_type": "stream",
     "text": [
      "wataerbox Max and min:  [57.89099 57.32537 28.04904] [-50.27501 -50.85663 -27.74596]\n"
     ]
    },
    {
     "name": "stderr",
     "output_type": "stream",
     "text": [
      "2021-04-30 09:29:50,296 - htmd.builder.solvate - INFO - Replicating 8 water segments, 2 by 2 by 2\n",
      "Solvating: 100%|██████████| 8/8 [00:10<00:00,  1.29s/it]\n",
      "2021-04-30 09:30:02,747 - htmd.builder.solvate - INFO - 18763 water molecules were added to the system.\n",
      "2021-04-30 09:30:10,952 - moleculekit.molecule - INFO - Removed 870 atoms. 104615 atoms remaining in the molecule.\n"
     ]
    },
    {
     "name": "stdout",
     "output_type": "stream",
     "text": [
      "Pre-build...\n"
     ]
    },
    {
     "name": "stderr",
     "output_type": "stream",
     "text": [
      "2021-04-30 09:30:18,330 - htmd.builder.charmm - INFO - Writing out segments.\n",
      "2021-04-30 09:30:25,242 - moleculekit.writers - WARNING - Field \"serial\" of PDB overflows. Your data will be truncated to 5 characters.\n",
      "2021-04-30 09:30:25,771 - moleculekit.writers - WARNING - Field \"serial\" of PDB overflows. Your data will be truncated to 5 characters.\n",
      "2021-04-30 09:30:25,865 - htmd.builder.builder - INFO - 4 disulfide bonds were added\n"
     ]
    },
    {
     "name": "stdout",
     "output_type": "stream",
     "text": [
      "Disulfide Bond between: UniqueResidueID<resname: 'CYX', chain: 'P', resid: 77, insertion: '', segid: 'P0'>\n",
      "                   and: UniqueResidueID<resname: 'CYX', chain: 'P', resid: 166, insertion: '', segid: 'P1'>\n",
      "\n",
      "Disulfide Bond between: UniqueResidueID<resname: 'CYX', chain: 'P', resid: 74, insertion: '', segid: 'P0'>\n",
      "                   and: UniqueResidueID<resname: 'CYX', chain: 'P', resid: 146, insertion: '', segid: 'P0'>\n",
      "\n",
      "Disulfide Bond between: UniqueResidueID<resname: 'CYX', chain: 'P', resid: 259, insertion: '', segid: 'P1'>\n",
      "                   and: UniqueResidueID<resname: 'CYX', chain: 'P', resid: 262, insertion: '', segid: 'P1'>\n",
      "\n",
      "Disulfide Bond between: UniqueResidueID<resname: 'CYS', chain: 'P', resid: 71, insertion: '', segid: 'P0'>\n",
      "                   and: UniqueResidueID<resname: 'CYS', chain: 'P', resid: 159, insertion: '', segid: 'P0'>\n",
      "\n"
     ]
    },
    {
     "name": "stderr",
     "output_type": "stream",
     "text": [
      "2021-04-30 09:30:26,554 - htmd.builder.charmm - INFO - Starting the build.\n",
      "2021-04-30 09:30:32,600 - htmd.builder.charmm - WARNING - Failed to set coordinates for 5 atoms.\n",
      "2021-04-30 09:30:32,604 - htmd.builder.charmm - WARNING - Failed to guess coordinates for 1 atoms due to bad angles.\n",
      "2021-04-30 09:30:32,606 - htmd.builder.charmm - WARNING - Poorly guessed coordinates for 182 atoms.\n",
      "2021-04-30 09:30:32,608 - htmd.builder.charmm - WARNING - Please check /gpcr/users/daranda/doctorat/GPCR_simulations/simulation_output/pre-build/5WF6_apo/log.txt for further information.\n",
      "2021-04-30 09:30:32,610 - htmd.builder.charmm - INFO - Finished building.\n",
      "2021-04-30 09:30:34,549 - moleculekit.readers - WARNING - Atoms with names \"HE21\" \"HE22\" were guessed as element H but could also be He (helium). If this is a case, you can correct them with mol.set('element', 'He', sel='name \"HE21\" \"HE22\"')\n",
      "2021-04-30 09:30:34,763 - moleculekit.readers - WARNING - Non-integer values were read from the PDB \"serial\" field. Dropping PDB values and assigning new ones.\n",
      "2021-04-30 09:30:34,851 - moleculekit.readers - WARNING - Reading PDB file with more than 99999 atoms. Bond information can be wrong.\n",
      "2021-04-30 09:31:07,416 - htmd.builder.builder - WARNING - Found cis peptide bond in 1 frames: [0] in the omega diheral \"Angle of (CYS 146 CA P0 P) (CYS 146 C P0 P) (GLY 147 N P0 P) (GLY 147 CA P0 P) \" with indexes [2234, 2240, 2242, 2244]\n",
      "2021-04-30 09:31:07,417 - htmd.builder.builder - WARNING - Found cis peptide bond in 1 frames: [0] in the omega diheral \"Angle of (GLU 161 CA P0 P) (GLU 161 C P0 P) (GLY 162 N P0 P) (GLY 162 CA P0 P) \" with indexes [2427, 2438, 2440, 2442]\n",
      "2021-04-30 09:31:07,418 - htmd.builder.builder - WARNING - Found cis peptide bond in 1 frames: [0] in the omega diheral \"Angle of (SER 213 CA P1 P) (SER 213 C P1 P) (GLN 214 N P1 P) (GLN 214 CA P1 P) \" with indexes [3288, 3295, 3297, 3299]\n",
      "2021-04-30 09:31:07,419 - htmd.builder.builder - WARNING - Found cis peptide bond in 1 frames: [0] in the omega diheral \"Angle of (PRO 217 CA P1 P) (PRO 217 C P1 P) (GLY 218 N P1 P) (GLY 218 CA P1 P) \" with indexes [3351, 3359, 3361, 3363]\n",
      "2021-04-30 09:31:08,885 - moleculekit.readers - WARNING - Atoms with names \"HE21\" \"HE22\" were guessed as element H but could also be He (helium). If this is a case, you can correct them with mol.set('element', 'He', sel='name \"HE21\" \"HE22\"')\n",
      "2021-04-30 09:31:09,087 - moleculekit.readers - WARNING - Non-integer values were read from the PDB \"serial\" field. Dropping PDB values and assigning new ones.\n",
      "2021-04-30 09:31:09,167 - moleculekit.readers - WARNING - Reading PDB file with more than 99999 atoms. Bond information can be wrong.\n"
     ]
    },
    {
     "name": "stdout",
     "output_type": "stream",
     "text": [
      "Checking aromatic insertions...\n"
     ]
    },
    {
     "name": "stderr",
     "output_type": "stream",
     "text": [
      "2021-04-30 09:31:40,168 - moleculekit.writers - WARNING - Field \"serial\" of PDB overflows. Your data will be truncated to 5 characters.\n"
     ]
    },
    {
     "name": "stdout",
     "output_type": "stream",
     "text": [
      "WARNING: removed 0 atoms within 1.5 of a protein aromatic ring\n"
     ]
    },
    {
     "name": "stderr",
     "output_type": "stream",
     "text": [
      "2021-04-30 09:32:32,280 - moleculekit.writers - WARNING - Field \"serial\" of PDB overflows. Your data will be truncated to 5 characters.\n"
     ]
    },
    {
     "name": "stdout",
     "output_type": "stream",
     "text": [
      "Renumbering...\n"
     ]
    },
    {
     "name": "stderr",
     "output_type": "stream",
     "text": [
      "2021-04-30 09:32:45,915 - moleculekit.readers - WARNING - Non-integer values were read from the PDB \"serial\" field. Dropping PDB values and assigning new ones.\n",
      "2021-04-30 09:32:45,991 - moleculekit.readers - WARNING - Reading PDB file with more than 99999 atoms. Bond information can be wrong.\n"
     ]
    },
    {
     "name": "stdout",
     "output_type": "stream",
     "text": [
      "Ionizing...\n"
     ]
    },
    {
     "name": "stderr",
     "output_type": "stream",
     "text": [
      "2021-04-30 09:32:47,728 - htmd.builder.builder - WARNING - Segments ['P0'] contain both protein and non-protein atoms. Please assign separate segments to them or the build procedure might fail.\n",
      "2021-04-30 09:32:50,356 - htmd.builder.charmm - INFO - Writing out segments.\n",
      "2021-04-30 09:32:57,927 - moleculekit.writers - WARNING - Field \"serial\" of PDB overflows. Your data will be truncated to 5 characters.\n",
      "2021-04-30 09:32:58,421 - moleculekit.writers - WARNING - Field \"serial\" of PDB overflows. Your data will be truncated to 5 characters.\n",
      "2021-04-30 09:32:58,535 - htmd.builder.builder - INFO - 4 disulfide bonds were added\n"
     ]
    },
    {
     "name": "stdout",
     "output_type": "stream",
     "text": [
      "Disulfide Bond between: UniqueResidueID<resname: 'CYS', chain: 'P', resid: 77, insertion: '', segid: 'P0'>\n",
      "                   and: UniqueResidueID<resname: 'CYS', chain: 'P', resid: 166, insertion: '', segid: 'P1'>\n",
      "\n",
      "Disulfide Bond between: UniqueResidueID<resname: 'CYS', chain: 'P', resid: 74, insertion: '', segid: 'P0'>\n",
      "                   and: UniqueResidueID<resname: 'CYS', chain: 'P', resid: 146, insertion: '', segid: 'P0'>\n",
      "\n",
      "Disulfide Bond between: UniqueResidueID<resname: 'CYS', chain: 'P', resid: 259, insertion: '', segid: 'P1'>\n",
      "                   and: UniqueResidueID<resname: 'CYS', chain: 'P', resid: 262, insertion: '', segid: 'P1'>\n",
      "\n",
      "Disulfide Bond between: UniqueResidueID<resname: 'CYS', chain: 'P', resid: 71, insertion: '', segid: 'P0'>\n",
      "                   and: UniqueResidueID<resname: 'CYS', chain: 'P', resid: 159, insertion: '', segid: 'P0'>\n",
      "\n"
     ]
    },
    {
     "name": "stderr",
     "output_type": "stream",
     "text": [
      "2021-04-30 09:32:59,393 - htmd.builder.charmm - INFO - Starting the build.\n",
      "2021-04-30 09:33:05,032 - htmd.builder.charmm - WARNING - Failed to set coordinates for 2 atoms.\n",
      "2021-04-30 09:33:05,033 - htmd.builder.charmm - WARNING - Poorly guessed coordinates for 2 atoms.\n",
      "2021-04-30 09:33:05,034 - htmd.builder.charmm - WARNING - Please check /gpcr/users/daranda/doctorat/GPCR_simulations/simulation_output/ionize/5WF6_apo/log.txt for further information.\n",
      "2021-04-30 09:33:05,034 - htmd.builder.charmm - INFO - Finished building.\n",
      "2021-04-30 09:33:07,093 - moleculekit.readers - WARNING - Non-integer values were read from the PDB \"serial\" field. Dropping PDB values and assigning new ones.\n",
      "2021-04-30 09:33:07,169 - moleculekit.readers - WARNING - Reading PDB file with more than 99999 atoms. Bond information can be wrong.\n",
      "2021-04-30 09:33:11,071 - htmd.builder.ionize - INFO - Adding 12 anions + 0 cations for neutralizing and 130 ions for the given salt concentration.\n",
      "2021-04-30 09:34:06,518 - htmd.builder.builder - WARNING - Segments ['P0'] contain both protein and non-protein atoms. Please assign separate segments to them or the build procedure might fail.\n",
      "2021-04-30 09:34:08,310 - htmd.builder.charmm - INFO - Writing out segments.\n",
      "2021-04-30 09:34:15,880 - moleculekit.writers - WARNING - Field \"serial\" of PDB overflows. Your data will be truncated to 5 characters.\n",
      "2021-04-30 09:34:16,388 - moleculekit.writers - WARNING - Field \"serial\" of PDB overflows. Your data will be truncated to 5 characters.\n",
      "2021-04-30 09:34:16,921 - moleculekit.writers - WARNING - Field \"serial\" of PDB overflows. Your data will be truncated to 5 characters.\n",
      "2021-04-30 09:34:17,852 - htmd.builder.charmm - INFO - Starting the build.\n",
      "2021-04-30 09:34:21,349 - htmd.builder.charmm - WARNING - Failed to set coordinates for 2 atoms.\n",
      "2021-04-30 09:34:21,350 - htmd.builder.charmm - WARNING - Poorly guessed coordinates for 2 atoms.\n",
      "2021-04-30 09:34:21,350 - htmd.builder.charmm - WARNING - Please check /gpcr/users/daranda/doctorat/GPCR_simulations/simulation_output/ionize/5WF6_apo/log.txt for further information.\n",
      "2021-04-30 09:34:21,351 - htmd.builder.charmm - INFO - Finished building.\n",
      "2021-04-30 09:34:23,355 - moleculekit.readers - WARNING - Non-integer values were read from the PDB \"serial\" field. Dropping PDB values and assigning new ones.\n",
      "2021-04-30 09:34:23,435 - moleculekit.readers - WARNING - Reading PDB file with more than 99999 atoms. Bond information can be wrong.\n",
      "2021-04-30 09:34:53,636 - htmd.builder.builder - WARNING - Found cis peptide bond in 1 frames: [0] in the omega diheral \"Angle of (CYS 146 CA P0 P) (CYS 146 C P0 P) (GLY 147 N P0 P) (GLY 147 CA P0 P) \" with indexes [2234, 2240, 2242, 2244]\n",
      "2021-04-30 09:34:53,637 - htmd.builder.builder - WARNING - Found cis peptide bond in 1 frames: [0] in the omega diheral \"Angle of (GLU 161 CA P0 P) (GLU 161 C P0 P) (GLY 162 N P0 P) (GLY 162 CA P0 P) \" with indexes [2427, 2438, 2440, 2442]\n",
      "2021-04-30 09:34:53,637 - htmd.builder.builder - WARNING - Found cis peptide bond in 1 frames: [0] in the omega diheral \"Angle of (SER 213 CA P1 P) (SER 213 C P1 P) (GLN 214 N P1 P) (GLN 214 CA P1 P) \" with indexes [3288, 3295, 3297, 3299]\n",
      "2021-04-30 09:34:53,638 - htmd.builder.builder - WARNING - Found cis peptide bond in 1 frames: [0] in the omega diheral \"Angle of (PRO 217 CA P1 P) (PRO 217 C P1 P) (GLY 218 N P1 P) (GLY 218 CA P1 P) \" with indexes [3351, 3359, 3361, 3363]\n",
      "2021-04-30 09:34:55,299 - moleculekit.readers - WARNING - Non-integer values were read from the PDB \"serial\" field. Dropping PDB values and assigning new ones.\n",
      "2021-04-30 09:34:55,373 - moleculekit.readers - WARNING - Reading PDB file with more than 99999 atoms. Bond information can be wrong.\n",
      "2021-04-30 09:34:58,832 - moleculekit.writers - WARNING - Field \"serial\" of PDB overflows. Your data will be truncated to 5 characters.\n"
     ]
    },
    {
     "name": "stdout",
     "output_type": "stream",
     "text": [
      "Building...\n"
     ]
    },
    {
     "name": "stderr",
     "output_type": "stream",
     "text": [
      "2021-04-30 09:35:32,554 - moleculekit.readers - WARNING - Non-integer values were read from the PDB \"serial\" field. Dropping PDB values and assigning new ones.\n",
      "2021-04-30 09:35:32,621 - moleculekit.readers - WARNING - Reading PDB file with more than 99999 atoms. Bond information can be wrong.\n",
      "2021-04-30 09:35:34,263 - htmd.builder.builder - WARNING - Segments ['P0'] contain both protein and non-protein atoms. Please assign separate segments to them or the build procedure might fail.\n",
      "2021-04-30 09:35:36,460 - htmd.builder.charmm - INFO - Writing out segments.\n",
      "2021-04-30 09:35:43,812 - moleculekit.writers - WARNING - Field \"serial\" of PDB overflows. Your data will be truncated to 5 characters.\n",
      "2021-04-30 09:35:44,368 - moleculekit.writers - WARNING - Field \"serial\" of PDB overflows. Your data will be truncated to 5 characters.\n",
      "2021-04-30 09:35:44,883 - moleculekit.writers - WARNING - Field \"serial\" of PDB overflows. Your data will be truncated to 5 characters.\n",
      "2021-04-30 09:35:44,941 - htmd.builder.builder - INFO - 4 disulfide bonds were added\n"
     ]
    },
    {
     "name": "stdout",
     "output_type": "stream",
     "text": [
      "Disulfide Bond between: UniqueResidueID<resname: 'CYS', chain: 'P', resid: 77, insertion: '', segid: 'P0'>\n",
      "                   and: UniqueResidueID<resname: 'CYS', chain: 'P', resid: 166, insertion: '', segid: 'P1'>\n",
      "\n",
      "Disulfide Bond between: UniqueResidueID<resname: 'CYS', chain: 'P', resid: 74, insertion: '', segid: 'P0'>\n",
      "                   and: UniqueResidueID<resname: 'CYS', chain: 'P', resid: 146, insertion: '', segid: 'P0'>\n",
      "\n",
      "Disulfide Bond between: UniqueResidueID<resname: 'CYS', chain: 'P', resid: 259, insertion: '', segid: 'P1'>\n",
      "                   and: UniqueResidueID<resname: 'CYS', chain: 'P', resid: 262, insertion: '', segid: 'P1'>\n",
      "\n",
      "Disulfide Bond between: UniqueResidueID<resname: 'CYS', chain: 'P', resid: 71, insertion: '', segid: 'P0'>\n",
      "                   and: UniqueResidueID<resname: 'CYS', chain: 'P', resid: 159, insertion: '', segid: 'P0'>\n",
      "\n"
     ]
    },
    {
     "name": "stderr",
     "output_type": "stream",
     "text": [
      "2021-04-30 09:35:45,720 - htmd.builder.charmm - INFO - Starting the build.\n",
      "2021-04-30 09:35:49,160 - htmd.builder.charmm - WARNING - Failed to set coordinates for 2 atoms.\n",
      "2021-04-30 09:35:49,161 - htmd.builder.charmm - WARNING - Poorly guessed coordinates for 2 atoms.\n",
      "2021-04-30 09:35:49,161 - htmd.builder.charmm - WARNING - Please check /gpcr/users/daranda/doctorat/GPCR_simulations/simulation_output/build/5WF6_apo/log.txt for further information.\n",
      "2021-04-30 09:35:49,162 - htmd.builder.charmm - INFO - Finished building.\n",
      "2021-04-30 09:35:51,126 - moleculekit.readers - WARNING - Non-integer values were read from the PDB \"serial\" field. Dropping PDB values and assigning new ones.\n",
      "2021-04-30 09:35:51,200 - moleculekit.readers - WARNING - Reading PDB file with more than 99999 atoms. Bond information can be wrong.\n",
      "2021-04-30 09:36:22,923 - htmd.builder.builder - WARNING - Found cis peptide bond in 1 frames: [0] in the omega diheral \"Angle of (CYS 146 CA P0 P) (CYS 146 C P0 P) (GLY 147 N P0 P) (GLY 147 CA P0 P) \" with indexes [2234, 2240, 2242, 2244]\n",
      "2021-04-30 09:36:22,925 - htmd.builder.builder - WARNING - Found cis peptide bond in 1 frames: [0] in the omega diheral \"Angle of (GLU 161 CA P0 P) (GLU 161 C P0 P) (GLY 162 N P0 P) (GLY 162 CA P0 P) \" with indexes [2427, 2438, 2440, 2442]\n",
      "2021-04-30 09:36:22,925 - htmd.builder.builder - WARNING - Found cis peptide bond in 1 frames: [0] in the omega diheral \"Angle of (SER 213 CA P1 P) (SER 213 C P1 P) (GLN 214 N P1 P) (GLN 214 CA P1 P) \" with indexes [3288, 3295, 3297, 3299]\n",
      "2021-04-30 09:36:22,926 - htmd.builder.builder - WARNING - Found cis peptide bond in 1 frames: [0] in the omega diheral \"Angle of (PRO 217 CA P1 P) (PRO 217 C P1 P) (GLY 218 N P1 P) (GLY 218 CA P1 P) \" with indexes [3351, 3359, 3361, 3363]\n"
     ]
    },
    {
     "name": "stdout",
     "output_type": "stream",
     "text": [
      "End of 5WF6_apo after 556.4861693382263 seconds\n",
      "\n",
      "Build model for 5UIG already exists. Skipping...\n"
     ]
    },
    {
     "name": "stderr",
     "output_type": "stream",
     "text": [
      "2021-04-30 09:36:23,242 - moleculekit.molecule - INFO - Removed 0 atoms. 5144 atoms remaining in the molecule.\n",
      "2021-04-30 09:36:23,282 - moleculekit.molecule - INFO - Removed 0 atoms. 5144 atoms remaining in the molecule.\n",
      "2021-04-30 09:36:25,016 - moleculekit.molecule - WARNING - Alternative atom locations detected. Only altloc A was kept. If you prefer to keep all use the keepaltloc=\"all\" option when reading the file.\n",
      "2021-04-30 09:36:25,017 - moleculekit.molecule - INFO - Removed 28 atoms. 2877 atoms remaining in the molecule.\n",
      "2021-04-30 09:36:25,295 - moleculekit.molecule - INFO - Removed 0 atoms. 5144 atoms remaining in the molecule.\n",
      "2021-04-30 09:36:25,334 - moleculekit.molecule - INFO - Removed 3 atoms. 5141 atoms remaining in the molecule.\n",
      "2021-04-30 09:36:25,451 - moleculekit.molecule - INFO - Removed 0 atoms. 5141 atoms remaining in the molecule.\n",
      "2021-04-30 09:36:29,240 - moleculekit.molecule - INFO - Removed 0 atoms. 5141 atoms remaining in the molecule.\n",
      "2021-04-30 09:36:29,445 - moleculekit.tools.sequencestructuralalignment - INFO - No segment was specified by the user for `mol`. Alignment will be done on all protein segments.\n",
      "2021-04-30 09:36:29,489 - moleculekit.tools.sequencestructuralalignment - INFO - No segment was specified by the user for `ref`. Alignment will be done on all protein segments.\n",
      "2021-04-30 09:36:29,643 - moleculekit.tools.sequencestructuralalignment - WARNING - 6 alignments found. Limiting to 1 as specified in the `maxalignments` argument.\n",
      "2021-04-30 09:36:29,644 - moleculekit.tools.sequencestructuralalignment - INFO - Alignment #0 was done on 144 residues: mol segid P resid 5-148\n"
     ]
    },
    {
     "name": "stdout",
     "output_type": "stream",
     "text": [
      "Adding membrane...\n"
     ]
    },
    {
     "name": "stderr",
     "output_type": "stream",
     "text": [
      "2021-04-30 09:36:30,399 - htmd.builder.builder - INFO - Replicating Membrane 3x3\n",
      "Replicating Membrane: 100%|██████████| 9/9 [00:02<00:00,  3.45it/s]\n",
      "2021-04-30 09:39:01,001 - moleculekit.molecule - INFO - Removed 2795 atoms. 48555 atoms remaining in the molecule.\n",
      "2021-04-30 09:39:02,391 - moleculekit.molecule - INFO - Removed 101 residues from appended Molecule due to collisions.\n"
     ]
    },
    {
     "name": "stdout",
     "output_type": "stream",
     "text": [
      "Solvating...\n"
     ]
    },
    {
     "name": "stderr",
     "output_type": "stream",
     "text": [
      "2021-04-30 09:39:03,256 - htmd.builder.solvate - INFO - Using water pdb file at: /home/david/miniconda3/lib/python3.6/site-packages/htmd/share/solvate/wat.pdb\n"
     ]
    },
    {
     "name": "stdout",
     "output_type": "stream",
     "text": [
      "wataerbox Max and min:  [56.148308 55.572014 28.081614] [-49.753693 -50.35398  -27.713387]\n"
     ]
    },
    {
     "name": "stderr",
     "output_type": "stream",
     "text": [
      "2021-04-30 09:39:04,088 - htmd.builder.solvate - INFO - Replicating 8 water segments, 2 by 2 by 2\n",
      "Solvating: 100%|██████████| 8/8 [00:09<00:00,  1.25s/it]\n",
      "2021-04-30 09:39:15,945 - htmd.builder.solvate - INFO - 15331 water molecules were added to the system.\n",
      "2021-04-30 09:39:23,096 - moleculekit.molecule - INFO - Removed 1137 atoms. 93926 atoms remaining in the molecule.\n"
     ]
    },
    {
     "name": "stdout",
     "output_type": "stream",
     "text": [
      "Pre-build...\n"
     ]
    },
    {
     "name": "stderr",
     "output_type": "stream",
     "text": [
      "2021-04-30 09:39:28,210 - htmd.builder.charmm - INFO - Writing out segments.\n",
      "2021-04-30 09:39:35,330 - htmd.builder.builder - INFO - 4 disulfide bonds were added\n"
     ]
    },
    {
     "name": "stdout",
     "output_type": "stream",
     "text": [
      "Disulfide Bond between: UniqueResidueID<resname: 'CYX', chain: 'P', resid: 77, insertion: '', segid: 'P'>\n",
      "                   and: UniqueResidueID<resname: 'CYX', chain: 'P', resid: 166, insertion: '', segid: 'P'>\n",
      "\n",
      "Disulfide Bond between: UniqueResidueID<resname: 'CYX', chain: 'P', resid: 74, insertion: '', segid: 'P'>\n",
      "                   and: UniqueResidueID<resname: 'CYX', chain: 'P', resid: 146, insertion: '', segid: 'P'>\n",
      "\n",
      "Disulfide Bond between: UniqueResidueID<resname: 'CYX', chain: 'P', resid: 259, insertion: '', segid: 'P'>\n",
      "                   and: UniqueResidueID<resname: 'CYX', chain: 'P', resid: 262, insertion: '', segid: 'P'>\n",
      "\n",
      "Disulfide Bond between: UniqueResidueID<resname: 'CYX', chain: 'P', resid: 71, insertion: '', segid: 'P'>\n",
      "                   and: UniqueResidueID<resname: 'CYX', chain: 'P', resid: 159, insertion: '', segid: 'P'>\n",
      "\n"
     ]
    },
    {
     "name": "stderr",
     "output_type": "stream",
     "text": [
      "2021-04-30 09:39:36,258 - htmd.builder.charmm - INFO - Starting the build.\n",
      "2021-04-30 09:39:40,341 - htmd.builder.charmm - WARNING - Failed to set coordinates for 6 atoms.\n",
      "2021-04-30 09:39:40,343 - htmd.builder.charmm - WARNING - Failed to guess coordinates for 2 atoms due to bad angles.\n",
      "2021-04-30 09:39:40,343 - htmd.builder.charmm - WARNING - Poorly guessed coordinates for 188 atoms.\n",
      "2021-04-30 09:39:40,343 - htmd.builder.charmm - WARNING - Please check /gpcr/users/daranda/doctorat/GPCR_simulations/simulation_output/pre-build/5UIG/log.txt for further information.\n",
      "2021-04-30 09:39:40,344 - htmd.builder.charmm - INFO - Finished building.\n",
      "2021-04-30 09:40:07,168 - htmd.builder.builder - WARNING - Found cis peptide bond in 1 frames: [0] in the omega diheral \"Angle of (LEU 216 CA P P) (LEU 216 C P P) (PRO 217 N P P) (PRO 217 CA P P) \" with indexes [3333, 3348, 3350, 3354]\n"
     ]
    },
    {
     "name": "stdout",
     "output_type": "stream",
     "text": [
      "Checking aromatic insertions...\n",
      "WARNING: removed 0 atoms within 1.5 of a protein aromatic ring\n",
      "Renumbering...\n",
      "Ionizing...\n"
     ]
    },
    {
     "name": "stderr",
     "output_type": "stream",
     "text": [
      "2021-04-30 09:41:31,154 - htmd.builder.charmm - INFO - Writing out segments.\n",
      "2021-04-30 09:41:38,235 - htmd.builder.builder - INFO - 4 disulfide bonds were added\n"
     ]
    },
    {
     "name": "stdout",
     "output_type": "stream",
     "text": [
      "Disulfide Bond between: UniqueResidueID<resname: 'CYS', chain: 'P', resid: 77, insertion: '', segid: 'P'>\n",
      "                   and: UniqueResidueID<resname: 'CYS', chain: 'P', resid: 166, insertion: '', segid: 'P'>\n",
      "\n",
      "Disulfide Bond between: UniqueResidueID<resname: 'CYS', chain: 'P', resid: 74, insertion: '', segid: 'P'>\n",
      "                   and: UniqueResidueID<resname: 'CYS', chain: 'P', resid: 146, insertion: '', segid: 'P'>\n",
      "\n",
      "Disulfide Bond between: UniqueResidueID<resname: 'CYS', chain: 'P', resid: 259, insertion: '', segid: 'P'>\n",
      "                   and: UniqueResidueID<resname: 'CYS', chain: 'P', resid: 262, insertion: '', segid: 'P'>\n",
      "\n",
      "Disulfide Bond between: UniqueResidueID<resname: 'CYS', chain: 'P', resid: 71, insertion: '', segid: 'P'>\n",
      "                   and: UniqueResidueID<resname: 'CYS', chain: 'P', resid: 159, insertion: '', segid: 'P'>\n",
      "\n"
     ]
    },
    {
     "name": "stderr",
     "output_type": "stream",
     "text": [
      "2021-04-30 09:41:39,088 - htmd.builder.charmm - INFO - Starting the build.\n",
      "2021-04-30 09:41:45,022 - htmd.builder.charmm - INFO - Finished building.\n",
      "2021-04-30 09:41:50,459 - htmd.builder.ionize - INFO - Adding 13 anions + 0 cations for neutralizing and 110 ions for the given salt concentration.\n",
      "2021-04-30 09:42:32,366 - htmd.builder.charmm - INFO - Writing out segments.\n",
      "2021-04-30 09:42:40,728 - htmd.builder.charmm - INFO - Starting the build.\n",
      "2021-04-30 09:42:45,211 - htmd.builder.charmm - INFO - Finished building.\n",
      "2021-04-30 09:43:10,180 - htmd.builder.builder - WARNING - Found cis peptide bond in 1 frames: [0] in the omega diheral \"Angle of (LEU 216 CA P P) (LEU 216 C P P) (PRO 217 N P P) (PRO 217 CA P P) \" with indexes [3333, 3348, 3350, 3354]\n"
     ]
    },
    {
     "name": "stdout",
     "output_type": "stream",
     "text": [
      "Building...\n"
     ]
    },
    {
     "name": "stderr",
     "output_type": "stream",
     "text": [
      "2021-04-30 09:43:43,841 - htmd.builder.charmm - INFO - Writing out segments.\n",
      "2021-04-30 09:43:51,297 - htmd.builder.builder - INFO - 4 disulfide bonds were added\n"
     ]
    },
    {
     "name": "stdout",
     "output_type": "stream",
     "text": [
      "Disulfide Bond between: UniqueResidueID<resname: 'CYS', chain: 'P', resid: 77, insertion: '', segid: 'P'>\n",
      "                   and: UniqueResidueID<resname: 'CYS', chain: 'P', resid: 166, insertion: '', segid: 'P'>\n",
      "\n",
      "Disulfide Bond between: UniqueResidueID<resname: 'CYS', chain: 'P', resid: 74, insertion: '', segid: 'P'>\n",
      "                   and: UniqueResidueID<resname: 'CYS', chain: 'P', resid: 146, insertion: '', segid: 'P'>\n",
      "\n",
      "Disulfide Bond between: UniqueResidueID<resname: 'CYS', chain: 'P', resid: 259, insertion: '', segid: 'P'>\n",
      "                   and: UniqueResidueID<resname: 'CYS', chain: 'P', resid: 262, insertion: '', segid: 'P'>\n",
      "\n",
      "Disulfide Bond between: UniqueResidueID<resname: 'CYS', chain: 'P', resid: 71, insertion: '', segid: 'P'>\n",
      "                   and: UniqueResidueID<resname: 'CYS', chain: 'P', resid: 159, insertion: '', segid: 'P'>\n",
      "\n"
     ]
    },
    {
     "name": "stderr",
     "output_type": "stream",
     "text": [
      "2021-04-30 09:43:52,065 - htmd.builder.charmm - INFO - Starting the build.\n",
      "2021-04-30 09:43:56,583 - htmd.builder.charmm - INFO - Finished building.\n",
      "2021-04-30 09:44:22,550 - htmd.builder.builder - WARNING - Found cis peptide bond in 1 frames: [0] in the omega diheral \"Angle of (LEU 216 CA P P) (LEU 216 C P P) (PRO 217 N P P) (PRO 217 CA P P) \" with indexes [3333, 3348, 3350, 3354]\n"
     ]
    },
    {
     "name": "stdout",
     "output_type": "stream",
     "text": [
      "End of 5UIG after 479.624635219574 seconds\n",
      "\n",
      "Build model for 5UIG_apo already exists. Skipping...\n"
     ]
    },
    {
     "name": "stderr",
     "output_type": "stream",
     "text": [
      "2021-04-30 09:44:22,874 - moleculekit.molecule - INFO - Removed 0 atoms. 5118 atoms remaining in the molecule.\n",
      "2021-04-30 09:44:22,909 - moleculekit.molecule - INFO - Removed 0 atoms. 5118 atoms remaining in the molecule.\n",
      "2021-04-30 09:44:22,944 - moleculekit.molecule - INFO - Removed 0 atoms. 5118 atoms remaining in the molecule.\n",
      "2021-04-30 09:44:24,471 - moleculekit.molecule - WARNING - Alternative atom locations detected. Only altloc A was kept. If you prefer to keep all use the keepaltloc=\"all\" option when reading the file.\n",
      "2021-04-30 09:44:24,472 - moleculekit.molecule - INFO - Removed 28 atoms. 2877 atoms remaining in the molecule.\n",
      "2021-04-30 09:44:24,722 - moleculekit.molecule - INFO - Removed 0 atoms. 5118 atoms remaining in the molecule.\n",
      "2021-04-30 09:44:24,756 - moleculekit.molecule - INFO - Removed 3 atoms. 5115 atoms remaining in the molecule.\n",
      "2021-04-30 09:44:24,856 - moleculekit.molecule - INFO - Removed 0 atoms. 5115 atoms remaining in the molecule.\n",
      "2021-04-30 09:44:28,123 - moleculekit.molecule - INFO - Removed 0 atoms. 5115 atoms remaining in the molecule.\n",
      "2021-04-30 09:44:28,313 - moleculekit.tools.sequencestructuralalignment - INFO - No segment was specified by the user for `mol`. Alignment will be done on all protein segments.\n",
      "2021-04-30 09:44:28,354 - moleculekit.tools.sequencestructuralalignment - INFO - No segment was specified by the user for `ref`. Alignment will be done on all protein segments.\n",
      "2021-04-30 09:44:28,499 - moleculekit.tools.sequencestructuralalignment - WARNING - 6 alignments found. Limiting to 1 as specified in the `maxalignments` argument.\n",
      "2021-04-30 09:44:28,500 - moleculekit.tools.sequencestructuralalignment - INFO - Alignment #0 was done on 144 residues: mol segid P resid 5-148\n"
     ]
    },
    {
     "name": "stdout",
     "output_type": "stream",
     "text": [
      "Adding membrane...\n"
     ]
    },
    {
     "name": "stderr",
     "output_type": "stream",
     "text": [
      "2021-04-30 09:44:29,199 - htmd.builder.builder - INFO - Replicating Membrane 3x3\n",
      "Replicating Membrane: 100%|██████████| 9/9 [00:02<00:00,  3.75it/s]\n",
      "2021-04-30 09:46:58,408 - moleculekit.molecule - INFO - Removed 2795 atoms. 48555 atoms remaining in the molecule.\n",
      "2021-04-30 09:46:59,802 - moleculekit.molecule - INFO - Removed 101 residues from appended Molecule due to collisions.\n"
     ]
    },
    {
     "name": "stdout",
     "output_type": "stream",
     "text": [
      "Solvating...\n"
     ]
    },
    {
     "name": "stderr",
     "output_type": "stream",
     "text": [
      "2021-04-30 09:47:00,691 - htmd.builder.solvate - INFO - Using water pdb file at: /home/david/miniconda3/lib/python3.6/site-packages/htmd/share/solvate/wat.pdb\n"
     ]
    },
    {
     "name": "stdout",
     "output_type": "stream",
     "text": [
      "wataerbox Max and min:  [56.148308 55.572014 28.081614] [-49.753693 -50.35398  -27.713387]\n"
     ]
    },
    {
     "name": "stderr",
     "output_type": "stream",
     "text": [
      "2021-04-30 09:47:01,450 - htmd.builder.solvate - INFO - Replicating 8 water segments, 2 by 2 by 2\n",
      "Solvating: 100%|██████████| 8/8 [00:09<00:00,  1.18s/it]\n",
      "2021-04-30 09:47:12,788 - htmd.builder.solvate - INFO - 15334 water molecules were added to the system.\n",
      "2021-04-30 09:47:19,729 - moleculekit.molecule - INFO - Removed 1146 atoms. 93900 atoms remaining in the molecule.\n"
     ]
    },
    {
     "name": "stdout",
     "output_type": "stream",
     "text": [
      "Pre-build...\n"
     ]
    },
    {
     "name": "stderr",
     "output_type": "stream",
     "text": [
      "2021-04-30 09:47:24,753 - htmd.builder.charmm - INFO - Writing out segments.\n",
      "2021-04-30 09:47:30,977 - htmd.builder.builder - INFO - 4 disulfide bonds were added\n"
     ]
    },
    {
     "name": "stdout",
     "output_type": "stream",
     "text": [
      "Disulfide Bond between: UniqueResidueID<resname: 'CYX', chain: 'P', resid: 77, insertion: '', segid: 'P'>\n",
      "                   and: UniqueResidueID<resname: 'CYX', chain: 'P', resid: 166, insertion: '', segid: 'P'>\n",
      "\n",
      "Disulfide Bond between: UniqueResidueID<resname: 'CYX', chain: 'P', resid: 74, insertion: '', segid: 'P'>\n",
      "                   and: UniqueResidueID<resname: 'CYX', chain: 'P', resid: 146, insertion: '', segid: 'P'>\n",
      "\n",
      "Disulfide Bond between: UniqueResidueID<resname: 'CYX', chain: 'P', resid: 259, insertion: '', segid: 'P'>\n",
      "                   and: UniqueResidueID<resname: 'CYX', chain: 'P', resid: 262, insertion: '', segid: 'P'>\n",
      "\n",
      "Disulfide Bond between: UniqueResidueID<resname: 'CYX', chain: 'P', resid: 71, insertion: '', segid: 'P'>\n",
      "                   and: UniqueResidueID<resname: 'CYX', chain: 'P', resid: 159, insertion: '', segid: 'P'>\n",
      "\n"
     ]
    },
    {
     "name": "stderr",
     "output_type": "stream",
     "text": [
      "2021-04-30 09:47:31,578 - htmd.builder.charmm - INFO - Starting the build.\n",
      "2021-04-30 09:47:35,458 - htmd.builder.charmm - WARNING - Failed to set coordinates for 6 atoms.\n",
      "2021-04-30 09:47:35,460 - htmd.builder.charmm - WARNING - Failed to guess coordinates for 2 atoms due to bad angles.\n",
      "2021-04-30 09:47:35,460 - htmd.builder.charmm - WARNING - Poorly guessed coordinates for 167 atoms.\n",
      "2021-04-30 09:47:35,461 - htmd.builder.charmm - WARNING - Please check /gpcr/users/daranda/doctorat/GPCR_simulations/simulation_output/pre-build/5UIG_apo/log.txt for further information.\n",
      "2021-04-30 09:47:35,461 - htmd.builder.charmm - INFO - Finished building.\n",
      "2021-04-30 09:48:01,362 - htmd.builder.builder - WARNING - Found cis peptide bond in 1 frames: [0] in the omega diheral \"Angle of (LEU 216 CA P P) (LEU 216 C P P) (PRO 217 N P P) (PRO 217 CA P P) \" with indexes [3333, 3348, 3350, 3354]\n"
     ]
    },
    {
     "name": "stdout",
     "output_type": "stream",
     "text": [
      "Checking aromatic insertions...\n",
      "WARNING: removed 0 atoms within 1.5 of a protein aromatic ring\n",
      "Renumbering...\n",
      "Ionizing...\n"
     ]
    },
    {
     "name": "stderr",
     "output_type": "stream",
     "text": [
      "2021-04-30 09:49:25,435 - htmd.builder.charmm - INFO - Writing out segments.\n",
      "2021-04-30 09:49:31,967 - htmd.builder.builder - INFO - 4 disulfide bonds were added\n"
     ]
    },
    {
     "name": "stdout",
     "output_type": "stream",
     "text": [
      "Disulfide Bond between: UniqueResidueID<resname: 'CYS', chain: 'P', resid: 77, insertion: '', segid: 'P'>\n",
      "                   and: UniqueResidueID<resname: 'CYS', chain: 'P', resid: 166, insertion: '', segid: 'P'>\n",
      "\n",
      "Disulfide Bond between: UniqueResidueID<resname: 'CYS', chain: 'P', resid: 74, insertion: '', segid: 'P'>\n",
      "                   and: UniqueResidueID<resname: 'CYS', chain: 'P', resid: 146, insertion: '', segid: 'P'>\n",
      "\n",
      "Disulfide Bond between: UniqueResidueID<resname: 'CYS', chain: 'P', resid: 259, insertion: '', segid: 'P'>\n",
      "                   and: UniqueResidueID<resname: 'CYS', chain: 'P', resid: 262, insertion: '', segid: 'P'>\n",
      "\n",
      "Disulfide Bond between: UniqueResidueID<resname: 'CYS', chain: 'P', resid: 71, insertion: '', segid: 'P'>\n",
      "                   and: UniqueResidueID<resname: 'CYS', chain: 'P', resid: 159, insertion: '', segid: 'P'>\n",
      "\n"
     ]
    },
    {
     "name": "stderr",
     "output_type": "stream",
     "text": [
      "2021-04-30 09:49:32,731 - htmd.builder.charmm - INFO - Starting the build.\n",
      "2021-04-30 09:49:36,595 - htmd.builder.charmm - INFO - Finished building.\n",
      "2021-04-30 09:49:41,843 - htmd.builder.ionize - INFO - Adding 11 anions + 0 cations for neutralizing and 110 ions for the given salt concentration.\n",
      "2021-04-30 09:50:23,522 - htmd.builder.charmm - INFO - Writing out segments.\n",
      "2021-04-30 09:50:31,161 - htmd.builder.charmm - INFO - Starting the build.\n",
      "2021-04-30 09:50:35,193 - htmd.builder.charmm - INFO - Finished building.\n",
      "2021-04-30 09:50:58,949 - htmd.builder.builder - WARNING - Found cis peptide bond in 1 frames: [0] in the omega diheral \"Angle of (LEU 216 CA P P) (LEU 216 C P P) (PRO 217 N P P) (PRO 217 CA P P) \" with indexes [3333, 3348, 3350, 3354]\n"
     ]
    },
    {
     "name": "stdout",
     "output_type": "stream",
     "text": [
      "Building...\n"
     ]
    },
    {
     "name": "stderr",
     "output_type": "stream",
     "text": [
      "2021-04-30 09:51:33,635 - htmd.builder.charmm - INFO - Writing out segments.\n",
      "2021-04-30 09:51:40,804 - htmd.builder.builder - INFO - 4 disulfide bonds were added\n"
     ]
    },
    {
     "name": "stdout",
     "output_type": "stream",
     "text": [
      "Disulfide Bond between: UniqueResidueID<resname: 'CYS', chain: 'P', resid: 77, insertion: '', segid: 'P'>\n",
      "                   and: UniqueResidueID<resname: 'CYS', chain: 'P', resid: 166, insertion: '', segid: 'P'>\n",
      "\n",
      "Disulfide Bond between: UniqueResidueID<resname: 'CYS', chain: 'P', resid: 74, insertion: '', segid: 'P'>\n",
      "                   and: UniqueResidueID<resname: 'CYS', chain: 'P', resid: 146, insertion: '', segid: 'P'>\n",
      "\n",
      "Disulfide Bond between: UniqueResidueID<resname: 'CYS', chain: 'P', resid: 259, insertion: '', segid: 'P'>\n",
      "                   and: UniqueResidueID<resname: 'CYS', chain: 'P', resid: 262, insertion: '', segid: 'P'>\n",
      "\n",
      "Disulfide Bond between: UniqueResidueID<resname: 'CYS', chain: 'P', resid: 71, insertion: '', segid: 'P'>\n",
      "                   and: UniqueResidueID<resname: 'CYS', chain: 'P', resid: 159, insertion: '', segid: 'P'>\n",
      "\n"
     ]
    },
    {
     "name": "stderr",
     "output_type": "stream",
     "text": [
      "2021-04-30 09:51:41,725 - htmd.builder.charmm - INFO - Starting the build.\n",
      "2021-04-30 09:51:45,444 - htmd.builder.charmm - INFO - Finished building.\n",
      "2021-04-30 09:52:11,904 - htmd.builder.builder - WARNING - Found cis peptide bond in 1 frames: [0] in the omega diheral \"Angle of (LEU 216 CA P P) (LEU 216 C P P) (PRO 217 N P P) (PRO 217 CA P P) \" with indexes [3333, 3348, 3350, 3354]\n"
     ]
    },
    {
     "name": "stdout",
     "output_type": "stream",
     "text": [
      "End of 5UIG_apo after 469.35350584983826 seconds\n",
      "\n"
     ]
    }
   ],
   "source": [
    "###########################\n",
    "## Part 2: Build the models \n",
    "###########################\n",
    "# Iterate by GPCRdb structures to simulate\n",
    "pdbs_number = len(pdb_set)\n",
    "i = 0\n",
    "for pdbcode in {\"5WF6\",\"5WF5\",\"5OLZ\",\"5UIG\"}:\n",
    "# for pdbcode in bad_set:\n",
    "    try:\n",
    "        for apo in [False, True]:\n",
    "            \n",
    "            #Starting simulation\n",
    "            start_time = time.time()        \n",
    "            i += 1\n",
    "            sysname = pdbcode+'_apo' if apo else pdbcode\n",
    "            mystrucpath = strucpath+pdbcode+'/'\n",
    "\n",
    "            # Skip if there is already a model build for this\n",
    "            if os.path.exists(resultspath+'build/'+sysname+'/structure.pdb'):\n",
    "                print('Build model for '+sysname+' already exists. Skipping...')\n",
    "#                 continue\n",
    "\n",
    "            # Check if simulation is aminergic\n",
    "            aminergic = gpcrdb_dict[pdbcode]['family'].startswith('001_001')\n",
    "            adenosine = gpcrdb_dict[pdbcode]['family'].startswith('001_006_001')\n",
    "\n",
    "            ## Load curated structures\n",
    "            if curated:\n",
    "                apo_name = \"apo\" if apo else \"complex\"\n",
    "                curated_filename = str(\"%sreceptor2curate_output/%s/%s_%s_curated.pdb\"%(basepath, pdbcode, pdbcode, apo_name))\n",
    "                gpcrdb_mol = Molecule(curated_filename)\n",
    "                # Remove ligand hidrogens in case curators put any\n",
    "                gpcrdb_mol.remove(\"not (protein or water or lipid) and element H\")\n",
    "            ## Load non-curated structure\n",
    "            else:\n",
    "                (sod2x50, watered_filename) = internal_waters(mystrucpath, pdbcode, gpcrdb_dict, apo)\n",
    "                gpcrdb_mol = Molecule(watered_filename)\n",
    "                \n",
    "            # If the pipeline is running in 'apoform mode', remove any non-protein, non-ion, non-water thing on the system      \n",
    "            # Delete also sod2x50 (we don't want them here)\n",
    "            if apo:\n",
    "                gpcrdb_mol.remove('not (protein or water or ion) or element Na')\n",
    "                \n",
    "            # Remove unnecessary ligand molecules: mostly crystalization detergents, quelants, buffers,\n",
    "            # or post-traductional glicosilations\n",
    "            gpcrdb_mol.remove('resname '+' '.join(blacklist))\n",
    "            \n",
    "            # Remove 2x50Sodium from non-A-class GPCRs\n",
    "            if not gpcrdb_dict[pdbcode]['family'].startswith('001'):\n",
    "                gpcrdb_mol.remove('element NA')\n",
    "\n",
    "            # Get aligned OPM structure\n",
    "            thickness,opm_mol = get_opm(pdbcode)\n",
    "\n",
    "            # Ismael's function to add labels (segid) for 'ligand' and 'protein' parts of the system\n",
    "            gpcrdb_mol_fixed,prot_segids = fix_and_prepare_input(gpcrdb_mol,pdbcode,modresdict,new_pdb_chain)\n",
    "            \n",
    "            # If there's any, parameterize and rename covalent-bound ligands\n",
    "            if not apo:\n",
    "                (gpcrdb_mol_fixed, covligs) = covalent_ligands(gpcrdb_mol_fixed, pdbcode, ligandsdict)\n",
    "            else:\n",
    "                covligs = []\n",
    "            \n",
    "            # write file to remember to which chain in the original structure belongs each segment\n",
    "            segchain_json(gpcrdb_mol_fixed, pdbcode, basepath, prot_segids)\n",
    "            \n",
    "            # Align structrues using sequences, and take first one\n",
    "            alignment_results = sequenceStructureAlignment(gpcrdb_mol_fixed, opm_mol, maxalignments = 1)\n",
    "            mol_aligned = alignment_results[0] \n",
    "            \n",
    "            #Center to receptor XY\n",
    "            center = np.mean(mol_aligned.get('coords',sel='chain P'),axis=0)\n",
    "            mol_aligned.moveBy([-center[0],-center[1],0])\n",
    "            \n",
    "            # Prepare protein: asign titration states, flipping side chains of HIS, ASN and GLN; rotate some sidechains, optimize waters, etc.\n",
    "            # Most of this is done with a HTMD function called proteinPrepare()\n",
    "            # Skip step if we are working with curators structures\n",
    "            prepared_mol = mol_aligned if curated else prepare_system(mol_aligned, pdbcode, thickness, sod2x50, aminergic, adenosine)\n",
    "            \n",
    "            #Add membrane\n",
    "            print('Adding membrane...')\n",
    "            membranemol = Molecule(membranepdb)\n",
    "            mol_membraned, membrane_resnames, membrane_segids, xreps, yreps = add_membrane(prepared_mol, membranemol,prot_segids,membrane_distance)\n",
    "            \n",
    "            # Needed later for equilibration\n",
    "            with open(mystrucpath+\"const_sel.txt\",'w') as out: \n",
    "                const_sel = 'segid '+' '.join(prot_segids)+' and name C CA N O or not (segid ' + \\\n",
    "                  ' '.join(prot_segids)+' or lipid or water or ions ) and noh or segid ION WAT and noh'\n",
    "                out.write(const_sel)\n",
    "\n",
    "            #Solvate\n",
    "            print('Solvating...')\n",
    "            mol_solvated = solvate_pdbmol(mol_membraned,membrane_segids,water_thickness,water_margin,buffer=buffer,coldist=coldist,prefix='WT')\n",
    "\n",
    "            # Check if system has lone-pair hallogen atoms. If it does, use legacy CGenFF parameters\n",
    "            has_halo = bool(len(gpcrdb_mol_fixed.get('name', 'element Br Cl I and not ion')))\n",
    "            if has_halo:\n",
    "                cgenff_par = [topparpath+'David_top_params/parameters/legacy_par_all36_cgenff.prm']\n",
    "                cgenff_top = [topparpath+'David_top_params/topologies/legacy_top_all36_cgenff.rtf']\n",
    "            else: \n",
    "                cgenff_par = [topparpath+'General_top_params/parameters/par_all36_cgenff.prm']\n",
    "                cgenff_top = [topparpath+'General_top_params/topologies/top_all36_cgenff.rtf']\n",
    "            \n",
    "            #Obtain extra parameters for ligands and modified residues \n",
    "            ligstreams=extra_parameters(pdbcode, ligandsdict, modresdict, blacklist, covligs, basepath, has_halo)\n",
    "            \n",
    "            # Assignign terminology for cap atoms of protein chain, depending if it is the receptor protein or not\n",
    "            caps = get_caps(prot_segids, mol_solvated)\n",
    "            #{'P0': ['first ACE', 'last CT3'], 'P1': ['first ACE', 'last CT3']}\n",
    "\n",
    "            #Pre-build model\n",
    "            print('Pre-build...')\n",
    "            prebuildmol = charmm.build(mol_solvated, \n",
    "                                       topo=topos+cgenff_top, \n",
    "                                       param=params+cgenff_par,\n",
    "                                       stream=streams+ligstreams,\n",
    "                                       caps=caps,\n",
    "                                       outdir=resultspath+'/pre-build/'+sysname,\n",
    "                                       ionize=False)\n",
    "\n",
    "            # Save prebuild model topologies in files, and  store prebuild model in molecule object\n",
    "            prebuild_psffile = prebuildmol.topoloc\n",
    "            prebuild_pdbfile = os.path.splitext(prebuildmol.topoloc)[0]+'.pdb'\n",
    "            prebuildmol = Molecule(prebuild_pdbfile)\n",
    "            _recoverProtonations(prebuildmol)\n",
    "\n",
    "            # Checking of aromatic insertions (takes quite a lot fo time)\n",
    "            print('Checking aromatic insertions...')\n",
    "            mol_removed,removed_indexes = remove_aromatic_insertions(prebuildmol,prot_segids, outpdb=resultspath+'/pre-build/'+sysname+'/aromatic_check.pdb')\n",
    "\n",
    "            # Checking of water/lipid ratio\n",
    "            lipid_num = len(set(prebuildmol.get('resid',sel='segid '+membrane_lipid_segid)))\n",
    "            solv_num = len(mol_removed.get('index',sel='resname TIP3 and name OH2'))\n",
    "            if float(solv_num) / lipid_num < 35:\n",
    "                raise ValueError('Water/lipid ratio lower than 35.')\n",
    "\n",
    "            #Renumber residues\n",
    "            print('Renumbering...')\n",
    "            mol_renumbered = renumber_resid_vmd(mol_removed,'segid '+' '.join(membrane_segids),by=2)\n",
    "\n",
    "            # Ionizing system\n",
    "            print('Ionizing...')\n",
    "            molbuilt = charmm.build(mol_removed,\n",
    "                                    topo=topos+cgenff_top, \n",
    "                                    param=params+cgenff_par,\n",
    "                                    stream=streams+ligstreams,                        \n",
    "                                    outdir=resultspath+'/ionize/'+sysname,\n",
    "                                    saltconc=0.15,\n",
    "                                    caps=caps)\n",
    "            build_psffile = molbuilt.topoloc\n",
    "            build_pdbfile = os.path.splitext(molbuilt.topoloc)[0]+'.pdb'\n",
    "            molbuilt = Molecule(build_pdbfile)\n",
    "            _recoverProtonations(molbuilt)\n",
    "\n",
    "            #Building system\n",
    "            print('Building...')\n",
    "            molbuilt = renumber_resid_vmd(molbuilt,'segid \"WT.*\" or segid I',by=2)\n",
    "            molbuilt = charmm.build(molbuilt, \n",
    "                                    topo=topos+cgenff_top, \n",
    "                                    param=params+cgenff_par,\n",
    "                                    stream=streams+ligstreams,                        \n",
    "                                    outdir=resultspath+'/build/'+sysname,\n",
    "                                    caps=caps,ionize=False)\n",
    "\n",
    "            print('End of %s after %s seconds\\n' % (sysname, time.time() - start_time))\n",
    "\n",
    "    except Exception as e:\n",
    "        print(\"model \"+pdbcode+\" could not be build because \",e)"
   ]
  },
  {
   "cell_type": "code",
   "execution_count": 6,
   "metadata": {},
   "outputs": [
    {
     "name": "stdout",
     "output_type": "stream",
     "text": [
      " structure 5ZHP already has been equilibrated\n",
      " structure 5ZHP already has been equilibrated\n",
      " structure 6AKX already has been equilibrated\n",
      " structure 6AKX already has been equilibrated\n",
      " structure 5TE5 already has been equilibrated\n",
      " structure 5TE5 already has been equilibrated\n",
      " structure 6KQI already has been equilibrated\n",
      " structure 6KQI already has been equilibrated\n",
      "model 6LI2 could not be send to equilibrate because of  name 'const_sel' is not defined\n",
      " structure 6LI2 already has been equilibrated\n",
      " structure 5UNH already has been equilibrated\n",
      " structure 5UNH already has been equilibrated\n",
      " structure 5XRA already has been equilibrated\n",
      " structure 5XRA already has been equilibrated\n",
      " structure 5T04 already has been equilibrated\n",
      " structure 5T04 already has been equilibrated\n",
      " structure 5OLO already has been equilibrated\n",
      " structure 5OLO already has been equilibrated\n",
      " structure 6LRY already has been equilibrated\n",
      " structure 6LRY already has been equilibrated\n",
      " structure 5X33 already has been equilibrated\n",
      " structure 5X33 already has been equilibrated\n",
      "model 5ZTY could not be send to equilibrate because of  name 'const_sel' is not defined\n",
      "model 5ZTY_apo could not be send to equilibrate because of  name 'const_sel' is not defined\n",
      " structure 5K2C already has been equilibrated\n",
      " structure 5K2C already has been equilibrated\n",
      " structure 6TPN already has been equilibrated\n",
      " structure 6TPN already has been equilibrated\n",
      " structure 5XPR already has been equilibrated\n",
      " structure 5XPR already has been equilibrated\n",
      " structure 6AQF already has been equilibrated\n",
      " structure 6AQF already has been equilibrated\n",
      " structure 5ZBH already has been equilibrated\n",
      " structure 5ZBH already has been equilibrated\n",
      " structure 6KPC already has been equilibrated\n",
      " structure 6KPC already has been equilibrated\n",
      " structure 6TQ7 already has been equilibrated\n",
      " structure 6TQ7 already has been equilibrated\n",
      " structure 6K1Q already has been equilibrated\n",
      " structure 6K1Q already has been equilibrated\n",
      " structure 5MZJ already has been equilibrated\n",
      " structure 5MZJ already has been equilibrated\n",
      " structure 4NC3 already has been equilibrated\n",
      " structure 4NC3 already has been equilibrated\n",
      " structure 4JKV already has been equilibrated\n",
      " structure 4JKV already has been equilibrated\n",
      " structure 6TPG already has been equilibrated\n",
      " structure 6TPG already has been equilibrated\n",
      " structure 6RZ4 already has been equilibrated\n",
      " structure 6RZ4 already has been equilibrated\n",
      " structure 4EJ4 already has been equilibrated\n",
      " structure 4EJ4 already has been equilibrated\n",
      " structure 6PS7 already has been equilibrated\n",
      " structure 6PS7 already has been equilibrated\n",
      " structure 6D35 already has been equilibrated\n",
      " structure 6D35 already has been equilibrated\n",
      "model 5GLI could not be send to equilibrate because of  name 'const_sel' is not defined\n",
      " structure 5GLI already has been equilibrated\n",
      " structure 6HLO already has been equilibrated\n",
      " structure 6HLO already has been equilibrated\n",
      " structure 5KW2 already has been equilibrated\n",
      " structure 5KW2 already has been equilibrated\n",
      " structure 5K2D already has been equilibrated\n",
      " structure 5K2D already has been equilibrated\n",
      " structure 6ME2 already has been equilibrated\n",
      " structure 6ME2 already has been equilibrated\n",
      " structure 5TZR already has been equilibrated\n",
      " structure 5TZR already has been equilibrated\n",
      " structure 5EE7 already has been equilibrated\n",
      " structure 5EE7 already has been equilibrated\n",
      " structure 6PRZ already has been equilibrated\n",
      " structure 6PRZ already has been equilibrated\n",
      " structure 6FKC already has been equilibrated\n",
      " structure 6FKC already has been equilibrated\n",
      "model 5TE3 could not be send to equilibrate because of  name 'const_sel' is not defined\n",
      " structure 5TE3 already has been equilibrated\n",
      " structure 6IGL already has been equilibrated\n",
      " structure 6IGL already has been equilibrated\n",
      " structure 6ME3 already has been equilibrated\n",
      " structure 6ME3 already has been equilibrated\n",
      " structure 5ZKC already has been equilibrated\n",
      " structure 5ZKC already has been equilibrated\n",
      " structure 5TVN already has been equilibrated\n",
      " structure 5TVN already has been equilibrated\n",
      " structure 6RZ9 already has been equilibrated\n",
      " structure 6RZ9 already has been equilibrated\n",
      " structure 5ZKP already has been equilibrated\n",
      " structure 5ZKP already has been equilibrated\n",
      " structure 6A93 already has been equilibrated\n",
      " structure 6A93 already has been equilibrated\n",
      " structure 6LUQ already has been equilibrated\n",
      " structure 6LUQ already has been equilibrated\n",
      " structure 5WF5 already has been equilibrated\n",
      " structure 5WF5 already has been equilibrated\n",
      " structure 6PS8 already has been equilibrated\n",
      " structure 6PS8 already has been equilibrated\n",
      " structure 5TZY already has been equilibrated\n",
      " structure 5TZY already has been equilibrated\n",
      " structure 5V56 already has been equilibrated\n",
      " structure 5V56 already has been equilibrated\n",
      " structure 5UIG already has been equilibrated\n",
      " structure 5UIG already has been equilibrated\n",
      " structure 5N2R already has been equilibrated\n",
      " structure 5N2R already has been equilibrated\n",
      " structure 5OLG already has been equilibrated\n",
      " structure 5OLG already has been equilibrated\n",
      " structure 6TO7 already has been equilibrated\n",
      " structure 6TO7 already has been equilibrated\n",
      " structure 6FJ3 already has been equilibrated\n",
      " structure 6FJ3 already has been equilibrated\n",
      " structure 5UVI already has been equilibrated\n",
      " structure 5UVI already has been equilibrated\n",
      "model 6TP3 could not be send to equilibrate because of  name 'const_sel' is not defined\n",
      " structure 6TP3 already has been equilibrated\n",
      " structure 6PS4 already has been equilibrated\n",
      " structure 6PS4 already has been equilibrated\n",
      " structure 4BUO already has been equilibrated\n",
      " structure 4BUO already has been equilibrated\n",
      " structure 5WIV already has been equilibrated\n",
      " structure 5WIV already has been equilibrated\n",
      " structure 6FK7 already has been equilibrated\n",
      " structure 6FK7 already has been equilibrated\n",
      " structure 5NDZ already has been equilibrated\n",
      " structure 5NDZ already has been equilibrated\n",
      " structure 5X7D already has been equilibrated\n",
      " structure 5X7D already has been equilibrated\n",
      " structure 6TQ6 already has been equilibrated\n",
      " structure 6TQ6 already has been equilibrated\n",
      "model 4GPO could not be send to equilibrate because of  name 'const_sel' is not defined\n",
      " structure 4GPO already has been equilibrated\n",
      " structure 6IGK already has been equilibrated\n",
      " structure 6IGK already has been equilibrated\n",
      " structure 4O9R already has been equilibrated\n",
      " structure 4O9R already has been equilibrated\n",
      " structure 6KNM already has been equilibrated\n",
      " structure 6KNM already has been equilibrated\n",
      " structure 6RZ5 already has been equilibrated\n",
      " structure 6RZ5 already has been equilibrated\n",
      " structure 4QIM already has been equilibrated\n",
      " structure 4QIM already has been equilibrated\n",
      " structure 6MH8 already has been equilibrated\n",
      " structure 6MH8 already has been equilibrated\n",
      " structure 5ZKB already has been equilibrated\n",
      " structure 5ZKB already has been equilibrated\n",
      " structure 6DRY already has been equilibrated\n",
      " structure 6DRY already has been equilibrated\n",
      " structure 4NTJ already has been equilibrated\n",
      " structure 4NTJ already has been equilibrated\n",
      " structure 2Z73 already has been equilibrated\n",
      " structure 2Z73 already has been equilibrated\n",
      " structure 6KK1 already has been equilibrated\n",
      " structure 6KK1 already has been equilibrated\n",
      " structure 5WF6 already has been equilibrated\n",
      " structure 5WF6 already has been equilibrated\n",
      " structure 6ME7 already has been equilibrated\n",
      " structure 6ME7 already has been equilibrated\n",
      " structure 5UNF already has been equilibrated\n",
      " structure 5UNF already has been equilibrated\n",
      " structure 5OLH already has been equilibrated\n",
      " structure 5OLH already has been equilibrated\n",
      " structure 5OLZ already has been equilibrated\n",
      " structure 5OLZ already has been equilibrated\n",
      " structure 5D6L already has been equilibrated\n",
      " structure 5D6L already has been equilibrated\n",
      " structure 5YC8 already has been equilibrated\n",
      " structure 5YC8 already has been equilibrated\n",
      "model 6LI1 could not be send to equilibrate because of  name 'const_sel' is not defined\n",
      " structure 6LI1 already has been equilibrated\n",
      " structure 6ZDR already has been equilibrated\n",
      " structure 6ZDR already has been equilibrated\n",
      " structure 6KJV already has been equilibrated\n",
      " structure 6KJV already has been equilibrated\n",
      " structure 6J20 already has been equilibrated\n",
      " structure 6J20 already has been equilibrated\n",
      " structure 5NDD already has been equilibrated\n",
      " structure 5NDD already has been equilibrated\n",
      " structure 6JZH already has been equilibrated\n",
      " structure 6JZH already has been equilibrated\n",
      " structure 6ME4 already has been equilibrated\n",
      " structure 6ME4 already has been equilibrated\n",
      " structure 5NLX already has been equilibrated\n",
      " structure 5NLX already has been equilibrated\n",
      " structure 3C9L already has been equilibrated\n",
      " structure 3C9L already has been equilibrated\n",
      " structure 5N2S already has been equilibrated\n",
      " structure 5N2S already has been equilibrated\n",
      " structure 5VRA already has been equilibrated\n",
      " structure 5VRA already has been equilibrated\n",
      " structure 6TOD already has been equilibrated\n",
      " structure 6TOD already has been equilibrated\n",
      " structure 6IIV already has been equilibrated\n",
      " structure 6IIV already has been equilibrated\n",
      " structure 5VBL already has been equilibrated\n",
      " structure 5VBL already has been equilibrated\n",
      " structure 6ME6 already has been equilibrated\n",
      " structure 6ME6 already has been equilibrated\n",
      " structure 4N4W already has been equilibrated\n",
      " structure 4N4W already has been equilibrated\n",
      " structure 6HLP already has been equilibrated\n",
      " structure 6HLP already has been equilibrated\n",
      " structure 6TP6 already has been equilibrated\n",
      " structure 6TP6 already has been equilibrated\n",
      " structure 5V54 already has been equilibrated\n",
      " structure 5V54 already has been equilibrated\n",
      " structure 6ME9 already has been equilibrated\n",
      " structure 6ME9 already has been equilibrated\n",
      " structure 5DYS already has been equilibrated\n",
      " structure 5DYS already has been equilibrated\n",
      " structure 6ZDV already has been equilibrated\n",
      " structure 6ZDV already has been equilibrated\n",
      " structure 1GZM already has been equilibrated\n",
      " structure 1GZM already has been equilibrated\n",
      " structure 6ME5 already has been equilibrated\n",
      " structure 6ME5 already has been equilibrated\n",
      " structure 6OL9 already has been equilibrated\n",
      " structure 6OL9 already has been equilibrated\n",
      " structure 5V57 already has been equilibrated\n",
      " structure 5V57 already has been equilibrated\n",
      " structure 6C1Q already has been equilibrated\n",
      " structure 6C1Q already has been equilibrated\n",
      " structure 5WS3 already has been equilibrated\n",
      " structure 5WS3 already has been equilibrated\n",
      "model 6KP6 could not be send to equilibrate because of  name 'const_sel' is not defined\n",
      " structure 6KP6 already has been equilibrated\n",
      " structure 6DRZ already has been equilibrated\n",
      " structure 6DRZ already has been equilibrated\n",
      " structure 5OLV already has been equilibrated\n",
      " structure 5OLV already has been equilibrated\n",
      " structure 5VEW already has been equilibrated\n",
      " structure 5VEW already has been equilibrated\n",
      " structure 6DRX already has been equilibrated\n",
      " structure 6DRX already has been equilibrated\n",
      " structure 6PS6 already has been equilibrated\n",
      " structure 6PS6 already has been equilibrated\n",
      " structure 6OBA already has been equilibrated\n",
      " structure 6OBA already has been equilibrated\n",
      " structure 6DS0 already has been equilibrated\n",
      " structure 6DS0 already has been equilibrated\n",
      " structure 6RZ8 already has been equilibrated\n",
      " structure 6RZ8 already has been equilibrated\n",
      " structure 5WQC already has been equilibrated\n",
      " structure 5WQC already has been equilibrated\n",
      "model 5XR8 could not be send to equilibrate because of  name 'const_sel' is not defined\n",
      " structure 5XR8 already has been equilibrated\n",
      " structure 6KK7 already has been equilibrated\n",
      " structure 6KK7 already has been equilibrated\n",
      " structure 5YQZ already has been equilibrated\n",
      " structure 5YQZ already has been equilibrated\n",
      " structure 6PS5 already has been equilibrated\n",
      " structure 6PS5 already has been equilibrated\n",
      " structure 5ZK8 already has been equilibrated\n",
      " structure 5ZK8 already has been equilibrated\n",
      " structure 5WIU already has been equilibrated\n",
      " structure 5WIU already has been equilibrated\n",
      " structure 5K2A already has been equilibrated\n",
      " structure 5K2A already has been equilibrated\n",
      " structure 6FK6 already has been equilibrated\n",
      " structure 6FK6 already has been equilibrated\n",
      " structure 6FK8 already has been equilibrated\n",
      " structure 6FK8 already has been equilibrated\n",
      " structure 4Z9G already has been equilibrated\n",
      " structure 4Z9G already has been equilibrated\n",
      " structure 4GBR already has been equilibrated\n",
      " structure 4GBR already has been equilibrated\n",
      " structure 5ZK3 already has been equilibrated\n",
      " structure 5ZK3 already has been equilibrated\n",
      " structure 6PS1 already has been equilibrated\n",
      " structure 6PS1 already has been equilibrated\n",
      " structure 6PS0 already has been equilibrated\n",
      " structure 6PS0 already has been equilibrated\n",
      " structure 6HLL already has been equilibrated\n",
      " structure 6HLL already has been equilibrated\n",
      " structure 6RZ6 already has been equilibrated\n",
      " structure 6RZ6 already has been equilibrated\n",
      " structure 6CM4 already has been equilibrated\n",
      " structure 6CM4 already has been equilibrated\n",
      " structure 6TP4 already has been equilibrated\n",
      " structure 6TP4 already has been equilibrated\n",
      " structure 5NM2 already has been equilibrated\n",
      " structure 5NM2 already has been equilibrated\n",
      " structure 6C1R already has been equilibrated\n",
      " structure 6C1R already has been equilibrated\n",
      " structure 5UNG already has been equilibrated\n",
      " structure 5UNG already has been equilibrated\n",
      " structure 5T1A already has been equilibrated\n",
      " structure 5T1A already has been equilibrated\n",
      " structure 5X93 already has been equilibrated\n",
      " structure 5X93 already has been equilibrated\n",
      " structure 5ZBQ already has been equilibrated\n",
      " structure 5ZBQ already has been equilibrated\n",
      " structure 6IIU already has been equilibrated\n",
      " structure 6IIU already has been equilibrated\n",
      " structure 6ME8 already has been equilibrated\n",
      " structure 6ME8 already has been equilibrated\n",
      " structure 6PS3 already has been equilibrated\n",
      " structure 6PS3 already has been equilibrated\n",
      " structure 6E59 already has been equilibrated\n",
      " structure 6E59 already has been equilibrated\n",
      " structure 6FFI already has been equilibrated\n",
      " structure 6FFI already has been equilibrated\n",
      " structure 6M9T already has been equilibrated\n",
      " structure 6M9T already has been equilibrated\n",
      " structure 6LW5 already has been equilibrated\n",
      " structure 6LW5 already has been equilibrated\n",
      " structure 6TQ4 already has been equilibrated\n",
      " structure 6TQ4 already has been equilibrated\n",
      " structure 4XES already has been equilibrated\n",
      " structure 4XES already has been equilibrated\n",
      " structure 5MZP already has been equilibrated\n",
      " structure 5MZP already has been equilibrated\n",
      " structure 6FKA already has been equilibrated\n",
      " structure 6FKA already has been equilibrated\n",
      " structure 6TQ9 already has been equilibrated\n",
      " structure 6TQ9 already has been equilibrated\n",
      " structure 5K2B already has been equilibrated\n",
      " structure 5K2B already has been equilibrated\n",
      " structure 6D27 already has been equilibrated\n",
      " structure 6D27 already has been equilibrated\n",
      " structure 3C9M already has been equilibrated\n",
      " structure 3C9M already has been equilibrated\n",
      " structure 6AK3 already has been equilibrated\n",
      " structure 6AK3 already has been equilibrated\n",
      " structure 2YCZ already has been equilibrated\n",
      " structure 2YCZ already has been equilibrated\n",
      " structure 6PS2 already has been equilibrated\n",
      " structure 6PS2 already has been equilibrated\n",
      " structure 6AKY already has been equilibrated\n",
      " structure 6AKY already has been equilibrated\n",
      " structure 6D26 already has been equilibrated\n",
      " structure 6D26 already has been equilibrated\n",
      " structure 5O9H already has been equilibrated\n",
      " structure 5O9H already has been equilibrated\n",
      " structure 5F8U already has been equilibrated\n",
      " structure 5F8U already has been equilibrated\n",
      " structure 5JTB already has been equilibrated\n",
      " structure 5JTB already has been equilibrated\n",
      " structure 5ZKQ already has been equilibrated\n",
      " structure 5ZKQ already has been equilibrated\n",
      " structure 6GPS already has been equilibrated\n",
      " structure 6GPS already has been equilibrated\n",
      " structure 5OM4 already has been equilibrated\n",
      " structure 5OM4 already has been equilibrated\n",
      " structure 6FFH already has been equilibrated\n",
      " structure 6FFH already has been equilibrated\n",
      " structure 5NX2 already has been equilibrated\n",
      " structure 5NX2 already has been equilibrated\n",
      " structure 6FK9 already has been equilibrated\n",
      " structure 6FK9 already has been equilibrated\n",
      " structure 6FKB already has been equilibrated\n",
      " structure 6FKB already has been equilibrated\n",
      " structure 5NM4 already has been equilibrated\n",
      " structure 5NM4 already has been equilibrated\n",
      " structure 4XT3 already has been equilibrated\n",
      " structure 4XT3 already has been equilibrated\n",
      " structure 6TOT already has been equilibrated\n",
      " structure 6TOT already has been equilibrated\n",
      " structure 6D32 already has been equilibrated\n",
      " structure 6D32 already has been equilibrated\n",
      " structure 5OM1 already has been equilibrated\n",
      " structure 5OM1 already has been equilibrated\n",
      " structure 5VEX already has been equilibrated\n",
      " structure 5VEX already has been equilibrated\n",
      "model 5XSZ could not be send to equilibrate because of  name 'const_sel' is not defined\n",
      " structure 5XSZ already has been equilibrated\n",
      " structure 6LI0 already has been equilibrated\n",
      " structure 6LI0 already has been equilibrated\n",
      " structure 6GT3 already has been equilibrated\n",
      " structure 6GT3 already has been equilibrated\n",
      " structure 6GPX already has been equilibrated\n",
      " structure 6GPX already has been equilibrated\n",
      " structure 6RZ7 already has been equilibrated\n",
      " structure 6RZ7 already has been equilibrated\n",
      " structure 6A94 already has been equilibrated\n",
      " structure 6A94 already has been equilibrated\n",
      " structure 6TPJ already has been equilibrated\n",
      " structure 6TPJ already has been equilibrated\n",
      " structure 6TOS already has been equilibrated\n",
      " structure 6TOS already has been equilibrated\n",
      " structure 5UIW already has been equilibrated\n"
     ]
    },
    {
     "name": "stdout",
     "output_type": "stream",
     "text": [
      " structure 5UIW already has been equilibrated\n",
      " structure 6J21 already has been equilibrated\n",
      " structure 6J21 already has been equilibrated\n"
     ]
    }
   ],
   "source": [
    "#########################\n",
    "## Part 3: Equillibration\n",
    "#########################\n",
    "\n",
    "# for pdbcode in pdb_set:\n",
    "for pdbcode in pdb_set:\n",
    "    for apo in [False, True]:\n",
    "        try:\n",
    "            modelname = pdbcode+'_apo' if apo else pdbcode\n",
    "            equildir = resultspath+'equil/'+modelname+'/'\n",
    "            if os.path.exists(equildir+'output.xtc') or os.path.exists(equildir+'simrunning'):\n",
    "                print(\" structure %s already has been equilibrated\" % pdbcode)\n",
    "                continue\n",
    "\n",
    "            if not os.path.exists(equildir):\n",
    "                os.makedirs(equildir)\n",
    "\n",
    "            # Taking vmd selection line\n",
    "            const_sels = \"\"\n",
    "            with open(strucpath+pdbcode+'/const_sel.txt', 'r') as outfile:\n",
    "                const_sel += outfile.readlines()\n",
    "\n",
    "            md = define_equilibration(const_sel)\n",
    "            md.write(resultspath+'build/'+modelname,equildir)\n",
    "\n",
    "            #Substitute run.sh generated by HTMD by a different one, adapted to the specified path of ACEMD\n",
    "            with open(equildir + 'run.sh', 'w') as f:\n",
    "                f.write('#!/bin/bash\\n%s > %slog.txt 2>&1' % (acemd_path, equildir))\n",
    "        \n",
    "            #Prepare slurm job  \n",
    "            sq = SlurmQueue()\n",
    "            sq.envvars = acemd_license\n",
    "            sq.jobname = 'eql_'+pdbcode\n",
    "            sq.datadir = None\n",
    "            sq.partition = 'gpcr_gpu'\n",
    "            sq.ngpu = 1\n",
    "            sq.ncpu = 1\n",
    "            sq.prerun = job_commands(equildir, '/home/daranda/'+modelname+'/')\n",
    "            sq.memory = 2000\n",
    "            sq.exclude = ['arwen','aragorn','bifur']\n",
    "#             sq.nodelist = ['aragorn','arwen']\n",
    "    \n",
    "            # Submit\n",
    "            sq.submit(equildir)\n",
    "            \n",
    "        except Exception as e:\n",
    "            print(\"model \"+modelname+\" could not be send to equilibrate because of \",e)"
   ]
  },
  {
   "cell_type": "code",
   "execution_count": 9,
   "metadata": {},
   "outputs": [
    {
     "name": "stdout",
     "output_type": "stream",
     "text": [
      "replicate 1 of structure 5ZHP already has been simulated\n",
      "replicate 2 of structure 5ZHP already has been simulated\n",
      "replicate 3 of structure 5ZHP already has been simulated\n",
      "replicate 1 of structure 5ZHP already has been simulated\n",
      "replicate 2 of structure 5ZHP already has been simulated\n",
      "replicate 3 of structure 5ZHP already has been simulated\n",
      "replicate 1 of structure 6AKX already has been simulated\n",
      "replicate 2 of structure 6AKX already has been simulated\n",
      "replicate 3 of structure 6AKX already has been simulated\n",
      "replicate 1 of structure 6AKX already has been simulated\n",
      "replicate 2 of structure 6AKX already has been simulated\n",
      "replicate 3 of structure 6AKX already has been simulated\n",
      "replicate 1 of structure 5TE5 already has been simulated\n",
      "replicate 2 of structure 5TE5 already has been simulated\n",
      "replicate 3 of structure 5TE5 already has been simulated\n",
      "replicate 1 of structure 5TE5 already has been simulated\n",
      "replicate 2 of structure 5TE5 already has been simulated\n",
      "replicate 3 of structure 5TE5 already has been simulated\n",
      "submitting replicate 1 of 6KQI\n"
     ]
    },
    {
     "name": "stderr",
     "output_type": "stream",
     "text": [
      "2021-10-26 12:44:18,656 - htmd.protocols.production_v6 - WARNING - Lipids detected in input structure. We highly recommend setting useconstantratio=True for membrane simulations.\n",
      "2021-10-26 12:44:19,224 - jobqueues.slurmqueue - INFO - Queueing /gpcr/users/daranda/doctorat/GPCR_simulations/simulation_output/production/6KQI_apo/rep_1/\n"
     ]
    },
    {
     "name": "stdout",
     "output_type": "stream",
     "text": [
      "submitting replicate 2 of 6KQI\n"
     ]
    },
    {
     "name": "stderr",
     "output_type": "stream",
     "text": [
      "2021-10-26 12:44:48,803 - htmd.protocols.production_v6 - WARNING - Lipids detected in input structure. We highly recommend setting useconstantratio=True for membrane simulations.\n",
      "2021-10-26 12:44:49,071 - jobqueues.slurmqueue - INFO - Queueing /gpcr/users/daranda/doctorat/GPCR_simulations/simulation_output/production/6KQI_apo/rep_2/\n"
     ]
    },
    {
     "name": "stdout",
     "output_type": "stream",
     "text": [
      "submitting replicate 3 of 6KQI\n"
     ]
    },
    {
     "name": "stderr",
     "output_type": "stream",
     "text": [
      "2021-10-26 12:45:19,265 - htmd.protocols.production_v6 - WARNING - Lipids detected in input structure. We highly recommend setting useconstantratio=True for membrane simulations.\n",
      "2021-10-26 12:45:19,531 - jobqueues.slurmqueue - INFO - Queueing /gpcr/users/daranda/doctorat/GPCR_simulations/simulation_output/production/6KQI_apo/rep_3/\n"
     ]
    },
    {
     "name": "stdout",
     "output_type": "stream",
     "text": [
      "replicate 1 of structure 6KQI already has been simulated\n",
      "replicate 2 of structure 6KQI already has been simulated\n",
      "replicate 3 of structure 6KQI already has been simulated\n",
      "replicate 1 of structure 6LI2 already has been simulated\n",
      "replicate 2 of structure 6LI2 already has been simulated\n",
      "replicate 3 of structure 6LI2 already has been simulated\n",
      "submitting replicate 1 of 6LI2\n",
      "model 6LI2 could not be send to equilibrate because of  Could not locate file /gpcr/users/daranda/doctorat/GPCR_simulations/simulation_output//equil/6LI2/structure.pdb set by the user for argument Production.acemd.coordinates\n",
      "submitting replicate 2 of 6LI2\n",
      "model 6LI2 could not be send to equilibrate because of  Could not locate file /gpcr/users/daranda/doctorat/GPCR_simulations/simulation_output//equil/6LI2/structure.pdb set by the user for argument Production.acemd.coordinates\n",
      "submitting replicate 3 of 6LI2\n",
      "model 6LI2 could not be send to equilibrate because of  Could not locate file /gpcr/users/daranda/doctorat/GPCR_simulations/simulation_output//equil/6LI2/structure.pdb set by the user for argument Production.acemd.coordinates\n",
      "replicate 1 of structure 5UNH already has been simulated\n",
      "replicate 2 of structure 5UNH already has been simulated\n",
      "replicate 3 of structure 5UNH already has been simulated\n",
      "replicate 1 of structure 5UNH already has been simulated\n",
      "replicate 2 of structure 5UNH already has been simulated\n",
      "replicate 3 of structure 5UNH already has been simulated\n",
      "replicate 1 of structure 5XRA already has been simulated\n",
      "replicate 2 of structure 5XRA already has been simulated\n",
      "replicate 3 of structure 5XRA already has been simulated\n",
      "replicate 1 of structure 5XRA already has been simulated\n",
      "replicate 2 of structure 5XRA already has been simulated\n",
      "replicate 3 of structure 5XRA already has been simulated\n",
      "replicate 1 of structure 5T04 already has been simulated\n",
      "replicate 2 of structure 5T04 already has been simulated\n",
      "replicate 3 of structure 5T04 already has been simulated\n",
      "replicate 1 of structure 5T04 already has been simulated\n",
      "replicate 2 of structure 5T04 already has been simulated\n",
      "replicate 3 of structure 5T04 already has been simulated\n",
      "replicate 1 of structure 5OLO already has been simulated\n",
      "replicate 2 of structure 5OLO already has been simulated\n",
      "replicate 3 of structure 5OLO already has been simulated\n",
      "replicate 1 of structure 5OLO already has been simulated\n",
      "replicate 2 of structure 5OLO already has been simulated\n",
      "replicate 3 of structure 5OLO already has been simulated\n",
      "replicate 1 of structure 6LRY already has been simulated\n",
      "replicate 2 of structure 6LRY already has been simulated\n",
      "replicate 3 of structure 6LRY already has been simulated\n",
      "replicate 1 of structure 6LRY already has been simulated\n",
      "replicate 2 of structure 6LRY already has been simulated\n",
      "replicate 3 of structure 6LRY already has been simulated\n",
      "replicate 1 of structure 5X33 already has been simulated\n",
      "replicate 2 of structure 5X33 already has been simulated\n",
      "replicate 3 of structure 5X33 already has been simulated\n",
      "replicate 1 of structure 5X33 already has been simulated\n",
      "replicate 2 of structure 5X33 already has been simulated\n",
      "replicate 3 of structure 5X33 already has been simulated\n",
      "submitting replicate 1 of 5ZTY\n"
     ]
    },
    {
     "name": "stderr",
     "output_type": "stream",
     "text": [
      "2021-10-26 12:45:54,040 - htmd.protocols.production_v6 - WARNING - Lipids detected in input structure. We highly recommend setting useconstantratio=True for membrane simulations.\n"
     ]
    },
    {
     "name": "stdout",
     "output_type": "stream",
     "text": [
      "model 5ZTY_apo could not be send to equilibrate because of  Could not find any of the files \"output.coor\" specified for command \"bincoordinates\" in path /gpcr/users/daranda/doctorat/GPCR_simulations/simulation_output//equil/5ZTY_apo/\n",
      "submitting replicate 2 of 5ZTY\n"
     ]
    },
    {
     "name": "stderr",
     "output_type": "stream",
     "text": [
      "2021-10-26 12:46:23,683 - htmd.protocols.production_v6 - WARNING - Lipids detected in input structure. We highly recommend setting useconstantratio=True for membrane simulations.\n"
     ]
    },
    {
     "name": "stdout",
     "output_type": "stream",
     "text": [
      "model 5ZTY_apo could not be send to equilibrate because of  Could not find any of the files \"output.coor\" specified for command \"bincoordinates\" in path /gpcr/users/daranda/doctorat/GPCR_simulations/simulation_output//equil/5ZTY_apo/\n",
      "submitting replicate 3 of 5ZTY\n"
     ]
    },
    {
     "name": "stderr",
     "output_type": "stream",
     "text": [
      "2021-10-26 12:46:51,992 - htmd.protocols.production_v6 - WARNING - Lipids detected in input structure. We highly recommend setting useconstantratio=True for membrane simulations.\n"
     ]
    },
    {
     "name": "stdout",
     "output_type": "stream",
     "text": [
      "model 5ZTY_apo could not be send to equilibrate because of  Could not find any of the files \"output.coor\" specified for command \"bincoordinates\" in path /gpcr/users/daranda/doctorat/GPCR_simulations/simulation_output//equil/5ZTY_apo/\n",
      "submitting replicate 1 of 5ZTY\n"
     ]
    },
    {
     "name": "stderr",
     "output_type": "stream",
     "text": [
      "2021-10-26 12:47:20,264 - htmd.protocols.production_v6 - WARNING - Lipids detected in input structure. We highly recommend setting useconstantratio=True for membrane simulations.\n"
     ]
    },
    {
     "name": "stdout",
     "output_type": "stream",
     "text": [
      "model 5ZTY could not be send to equilibrate because of  Could not find any of the files \"output.coor\" specified for command \"bincoordinates\" in path /gpcr/users/daranda/doctorat/GPCR_simulations/simulation_output//equil/5ZTY/\n",
      "submitting replicate 2 of 5ZTY\n"
     ]
    },
    {
     "name": "stderr",
     "output_type": "stream",
     "text": [
      "2021-10-26 12:47:49,695 - htmd.protocols.production_v6 - WARNING - Lipids detected in input structure. We highly recommend setting useconstantratio=True for membrane simulations.\n"
     ]
    },
    {
     "name": "stdout",
     "output_type": "stream",
     "text": [
      "model 5ZTY could not be send to equilibrate because of  Could not find any of the files \"output.coor\" specified for command \"bincoordinates\" in path /gpcr/users/daranda/doctorat/GPCR_simulations/simulation_output//equil/5ZTY/\n",
      "submitting replicate 3 of 5ZTY\n"
     ]
    },
    {
     "name": "stderr",
     "output_type": "stream",
     "text": [
      "2021-10-26 12:48:19,753 - htmd.protocols.production_v6 - WARNING - Lipids detected in input structure. We highly recommend setting useconstantratio=True for membrane simulations.\n"
     ]
    },
    {
     "name": "stdout",
     "output_type": "stream",
     "text": [
      "model 5ZTY could not be send to equilibrate because of  Could not find any of the files \"output.coor\" specified for command \"bincoordinates\" in path /gpcr/users/daranda/doctorat/GPCR_simulations/simulation_output//equil/5ZTY/\n",
      "replicate 1 of structure 5K2C already has been simulated\n",
      "replicate 2 of structure 5K2C already has been simulated\n",
      "replicate 3 of structure 5K2C already has been simulated\n",
      "replicate 1 of structure 5K2C already has been simulated\n",
      "replicate 2 of structure 5K2C already has been simulated\n",
      "replicate 3 of structure 5K2C already has been simulated\n",
      "replicate 1 of structure 6TPN already has been simulated\n",
      "replicate 2 of structure 6TPN already has been simulated\n",
      "replicate 3 of structure 6TPN already has been simulated\n",
      "replicate 1 of structure 6TPN already has been simulated\n",
      "replicate 2 of structure 6TPN already has been simulated\n",
      "replicate 3 of structure 6TPN already has been simulated\n",
      "replicate 1 of structure 5XPR already has been simulated\n",
      "replicate 2 of structure 5XPR already has been simulated\n",
      "replicate 3 of structure 5XPR already has been simulated\n",
      "replicate 1 of structure 5XPR already has been simulated\n",
      "replicate 2 of structure 5XPR already has been simulated\n",
      "replicate 3 of structure 5XPR already has been simulated\n",
      "replicate 1 of structure 6AQF already has been simulated\n",
      "replicate 2 of structure 6AQF already has been simulated\n",
      "replicate 3 of structure 6AQF already has been simulated\n",
      "replicate 1 of structure 6AQF already has been simulated\n",
      "replicate 2 of structure 6AQF already has been simulated\n",
      "replicate 3 of structure 6AQF already has been simulated\n",
      "replicate 1 of structure 5ZBH already has been simulated\n",
      "submitting replicate 2 of 5ZBH\n"
     ]
    },
    {
     "name": "stderr",
     "output_type": "stream",
     "text": [
      "2021-10-26 12:48:48,602 - htmd.protocols.production_v6 - WARNING - Lipids detected in input structure. We highly recommend setting useconstantratio=True for membrane simulations.\n",
      "2021-10-26 12:48:49,083 - jobqueues.slurmqueue - INFO - Queueing /gpcr/users/daranda/doctorat/GPCR_simulations/simulation_output/production/5ZBH_apo/rep_2/\n"
     ]
    },
    {
     "name": "stdout",
     "output_type": "stream",
     "text": [
      "submitting replicate 3 of 5ZBH\n"
     ]
    },
    {
     "name": "stderr",
     "output_type": "stream",
     "text": [
      "2021-10-26 12:49:23,970 - htmd.protocols.production_v6 - WARNING - Lipids detected in input structure. We highly recommend setting useconstantratio=True for membrane simulations.\n",
      "2021-10-26 12:49:24,283 - jobqueues.slurmqueue - INFO - Queueing /gpcr/users/daranda/doctorat/GPCR_simulations/simulation_output/production/5ZBH_apo/rep_3/\n"
     ]
    },
    {
     "name": "stdout",
     "output_type": "stream",
     "text": [
      "submitting replicate 1 of 5ZBH\n"
     ]
    },
    {
     "name": "stderr",
     "output_type": "stream",
     "text": [
      "2021-10-26 12:49:58,524 - htmd.protocols.production_v6 - WARNING - Lipids detected in input structure. We highly recommend setting useconstantratio=True for membrane simulations.\n",
      "2021-10-26 12:49:59,056 - jobqueues.slurmqueue - INFO - Queueing /gpcr/users/daranda/doctorat/GPCR_simulations/simulation_output/production/5ZBH/rep_1/\n"
     ]
    },
    {
     "name": "stdout",
     "output_type": "stream",
     "text": [
      "submitting replicate 2 of 5ZBH\n"
     ]
    },
    {
     "name": "stderr",
     "output_type": "stream",
     "text": [
      "2021-10-26 12:50:33,724 - htmd.protocols.production_v6 - WARNING - Lipids detected in input structure. We highly recommend setting useconstantratio=True for membrane simulations.\n",
      "2021-10-26 12:50:34,083 - jobqueues.slurmqueue - INFO - Queueing /gpcr/users/daranda/doctorat/GPCR_simulations/simulation_output/production/5ZBH/rep_2/\n"
     ]
    },
    {
     "name": "stdout",
     "output_type": "stream",
     "text": [
      "submitting replicate 3 of 5ZBH\n"
     ]
    },
    {
     "name": "stderr",
     "output_type": "stream",
     "text": [
      "2021-10-26 12:51:08,902 - htmd.protocols.production_v6 - WARNING - Lipids detected in input structure. We highly recommend setting useconstantratio=True for membrane simulations.\n",
      "2021-10-26 12:51:09,253 - jobqueues.slurmqueue - INFO - Queueing /gpcr/users/daranda/doctorat/GPCR_simulations/simulation_output/production/5ZBH/rep_3/\n"
     ]
    },
    {
     "name": "stdout",
     "output_type": "stream",
     "text": [
      "replicate 1 of structure 6KPC already has been simulated\n",
      "replicate 2 of structure 6KPC already has been simulated\n",
      "replicate 3 of structure 6KPC already has been simulated\n",
      "replicate 1 of structure 6KPC already has been simulated\n",
      "submitting replicate 2 of 6KPC\n"
     ]
    },
    {
     "name": "stderr",
     "output_type": "stream",
     "text": [
      "2021-10-26 12:51:39,679 - htmd.protocols.production_v6 - WARNING - Lipids detected in input structure. We highly recommend setting useconstantratio=True for membrane simulations.\n",
      "2021-10-26 12:51:40,168 - jobqueues.slurmqueue - INFO - Queueing /gpcr/users/daranda/doctorat/GPCR_simulations/simulation_output/production/6KPC/rep_2/\n"
     ]
    },
    {
     "name": "stdout",
     "output_type": "stream",
     "text": [
      "submitting replicate 3 of 6KPC\n"
     ]
    },
    {
     "name": "stderr",
     "output_type": "stream",
     "text": [
      "2021-10-26 12:52:10,534 - htmd.protocols.production_v6 - WARNING - Lipids detected in input structure. We highly recommend setting useconstantratio=True for membrane simulations.\n",
      "2021-10-26 12:52:10,843 - jobqueues.slurmqueue - INFO - Queueing /gpcr/users/daranda/doctorat/GPCR_simulations/simulation_output/production/6KPC/rep_3/\n"
     ]
    },
    {
     "name": "stdout",
     "output_type": "stream",
     "text": [
      "replicate 1 of structure 6TQ7 already has been simulated\n",
      "replicate 2 of structure 6TQ7 already has been simulated\n",
      "replicate 3 of structure 6TQ7 already has been simulated\n",
      "replicate 1 of structure 6TQ7 already has been simulated\n",
      "replicate 2 of structure 6TQ7 already has been simulated\n",
      "replicate 3 of structure 6TQ7 already has been simulated\n",
      "submitting replicate 1 of 6K1Q\n"
     ]
    },
    {
     "name": "stderr",
     "output_type": "stream",
     "text": [
      "2021-10-26 12:52:50,355 - htmd.protocols.production_v6 - WARNING - Lipids detected in input structure. We highly recommend setting useconstantratio=True for membrane simulations.\n",
      "2021-10-26 12:52:50,867 - jobqueues.slurmqueue - INFO - Queueing /gpcr/users/daranda/doctorat/GPCR_simulations/simulation_output/production/6K1Q_apo/rep_1/\n"
     ]
    },
    {
     "name": "stdout",
     "output_type": "stream",
     "text": [
      "submitting replicate 2 of 6K1Q\n"
     ]
    },
    {
     "name": "stderr",
     "output_type": "stream",
     "text": [
      "2021-10-26 12:53:29,843 - htmd.protocols.production_v6 - WARNING - Lipids detected in input structure. We highly recommend setting useconstantratio=True for membrane simulations.\n",
      "2021-10-26 12:53:30,197 - jobqueues.slurmqueue - INFO - Queueing /gpcr/users/daranda/doctorat/GPCR_simulations/simulation_output/production/6K1Q_apo/rep_2/\n"
     ]
    },
    {
     "name": "stdout",
     "output_type": "stream",
     "text": [
      "submitting replicate 3 of 6K1Q\n"
     ]
    },
    {
     "name": "stderr",
     "output_type": "stream",
     "text": [
      "2021-10-26 12:54:09,922 - htmd.protocols.production_v6 - WARNING - Lipids detected in input structure. We highly recommend setting useconstantratio=True for membrane simulations.\n",
      "2021-10-26 12:54:10,261 - jobqueues.slurmqueue - INFO - Queueing /gpcr/users/daranda/doctorat/GPCR_simulations/simulation_output/production/6K1Q_apo/rep_3/\n"
     ]
    },
    {
     "name": "stdout",
     "output_type": "stream",
     "text": [
      "submitting replicate 1 of 6K1Q\n"
     ]
    },
    {
     "name": "stderr",
     "output_type": "stream",
     "text": [
      "2021-10-26 12:54:49,207 - htmd.protocols.production_v6 - WARNING - Lipids detected in input structure. We highly recommend setting useconstantratio=True for membrane simulations.\n",
      "2021-10-26 12:54:49,587 - jobqueues.slurmqueue - INFO - Queueing /gpcr/users/daranda/doctorat/GPCR_simulations/simulation_output/production/6K1Q/rep_1/\n"
     ]
    },
    {
     "name": "stdout",
     "output_type": "stream",
     "text": [
      "submitting replicate 2 of 6K1Q\n"
     ]
    },
    {
     "name": "stderr",
     "output_type": "stream",
     "text": [
      "2021-10-26 12:55:29,086 - htmd.protocols.production_v6 - WARNING - Lipids detected in input structure. We highly recommend setting useconstantratio=True for membrane simulations.\n",
      "2021-10-26 12:55:29,466 - jobqueues.slurmqueue - INFO - Queueing /gpcr/users/daranda/doctorat/GPCR_simulations/simulation_output/production/6K1Q/rep_2/\n"
     ]
    },
    {
     "name": "stdout",
     "output_type": "stream",
     "text": [
      "submitting replicate 3 of 6K1Q\n"
     ]
    },
    {
     "name": "stderr",
     "output_type": "stream",
     "text": [
      "2021-10-26 12:56:07,949 - htmd.protocols.production_v6 - WARNING - Lipids detected in input structure. We highly recommend setting useconstantratio=True for membrane simulations.\n",
      "2021-10-26 12:56:08,326 - jobqueues.slurmqueue - INFO - Queueing /gpcr/users/daranda/doctorat/GPCR_simulations/simulation_output/production/6K1Q/rep_3/\n"
     ]
    },
    {
     "name": "stdout",
     "output_type": "stream",
     "text": [
      "submitting replicate 1 of 5MZJ\n"
     ]
    },
    {
     "name": "stderr",
     "output_type": "stream",
     "text": [
      "2021-10-26 12:56:46,273 - htmd.builder.builder - WARNING - Found cis peptide bond in 1 frames: [0] in the omega diheral \"Angle of (LEU 216 CA P P) (LEU 216 C P P) (PRO 217 N P P) (PRO 217 CA P P) \" with indexes [3337, 3352, 3354, 3358]\n",
      "2021-10-26 12:56:47,731 - htmd.protocols.production_v6 - WARNING - Lipids detected in input structure. We highly recommend setting useconstantratio=True for membrane simulations.\n",
      "2021-10-26 12:56:48,083 - jobqueues.slurmqueue - INFO - Queueing /gpcr/users/daranda/doctorat/GPCR_simulations/simulation_output/production/5MZJ_apo/rep_1/\n"
     ]
    },
    {
     "name": "stdout",
     "output_type": "stream",
     "text": [
      "submitting replicate 2 of 5MZJ\n"
     ]
    },
    {
     "name": "stderr",
     "output_type": "stream",
     "text": [
      "2021-10-26 12:57:25,956 - htmd.builder.builder - WARNING - Found cis peptide bond in 1 frames: [0] in the omega diheral \"Angle of (LEU 216 CA P P) (LEU 216 C P P) (PRO 217 N P P) (PRO 217 CA P P) \" with indexes [3337, 3352, 3354, 3358]\n",
      "2021-10-26 12:57:27,431 - htmd.protocols.production_v6 - WARNING - Lipids detected in input structure. We highly recommend setting useconstantratio=True for membrane simulations.\n",
      "2021-10-26 12:57:27,787 - jobqueues.slurmqueue - INFO - Queueing /gpcr/users/daranda/doctorat/GPCR_simulations/simulation_output/production/5MZJ_apo/rep_2/\n"
     ]
    },
    {
     "name": "stdout",
     "output_type": "stream",
     "text": [
      "submitting replicate 3 of 5MZJ\n"
     ]
    },
    {
     "name": "stderr",
     "output_type": "stream",
     "text": [
      "2021-10-26 12:58:05,976 - htmd.builder.builder - WARNING - Found cis peptide bond in 1 frames: [0] in the omega diheral \"Angle of (LEU 216 CA P P) (LEU 216 C P P) (PRO 217 N P P) (PRO 217 CA P P) \" with indexes [3337, 3352, 3354, 3358]\n",
      "2021-10-26 12:58:07,451 - htmd.protocols.production_v6 - WARNING - Lipids detected in input structure. We highly recommend setting useconstantratio=True for membrane simulations.\n",
      "2021-10-26 12:58:07,797 - jobqueues.slurmqueue - INFO - Queueing /gpcr/users/daranda/doctorat/GPCR_simulations/simulation_output/production/5MZJ_apo/rep_3/\n"
     ]
    },
    {
     "name": "stdout",
     "output_type": "stream",
     "text": [
      "submitting replicate 1 of 5MZJ\n"
     ]
    },
    {
     "name": "stderr",
     "output_type": "stream",
     "text": [
      "2021-10-26 12:58:47,025 - htmd.builder.builder - WARNING - Found cis peptide bond in 1 frames: [0] in the omega diheral \"Angle of (LEU 216 CA P P) (LEU 216 C P P) (PRO 217 N P P) (PRO 217 CA P P) \" with indexes [3581, 3596, 3598, 3602]\n",
      "2021-10-26 12:58:48,495 - htmd.protocols.production_v6 - WARNING - Lipids detected in input structure. We highly recommend setting useconstantratio=True for membrane simulations.\n",
      "2021-10-26 12:58:48,904 - jobqueues.slurmqueue - INFO - Queueing /gpcr/users/daranda/doctorat/GPCR_simulations/simulation_output/production/5MZJ/rep_1/\n"
     ]
    },
    {
     "name": "stdout",
     "output_type": "stream",
     "text": [
      "submitting replicate 2 of 5MZJ\n"
     ]
    },
    {
     "name": "stderr",
     "output_type": "stream",
     "text": [
      "2021-10-26 12:59:27,213 - htmd.builder.builder - WARNING - Found cis peptide bond in 1 frames: [0] in the omega diheral \"Angle of (LEU 216 CA P P) (LEU 216 C P P) (PRO 217 N P P) (PRO 217 CA P P) \" with indexes [3581, 3596, 3598, 3602]\n",
      "2021-10-26 12:59:28,684 - htmd.protocols.production_v6 - WARNING - Lipids detected in input structure. We highly recommend setting useconstantratio=True for membrane simulations.\n",
      "2021-10-26 12:59:29,070 - jobqueues.slurmqueue - INFO - Queueing /gpcr/users/daranda/doctorat/GPCR_simulations/simulation_output/production/5MZJ/rep_2/\n"
     ]
    },
    {
     "name": "stdout",
     "output_type": "stream",
     "text": [
      "submitting replicate 3 of 5MZJ\n"
     ]
    },
    {
     "name": "stderr",
     "output_type": "stream",
     "text": [
      "2021-10-26 13:00:07,363 - htmd.builder.builder - WARNING - Found cis peptide bond in 1 frames: [0] in the omega diheral \"Angle of (LEU 216 CA P P) (LEU 216 C P P) (PRO 217 N P P) (PRO 217 CA P P) \" with indexes [3581, 3596, 3598, 3602]\n",
      "2021-10-26 13:00:08,829 - htmd.protocols.production_v6 - WARNING - Lipids detected in input structure. We highly recommend setting useconstantratio=True for membrane simulations.\n",
      "2021-10-26 13:00:09,235 - jobqueues.slurmqueue - INFO - Queueing /gpcr/users/daranda/doctorat/GPCR_simulations/simulation_output/production/5MZJ/rep_3/\n"
     ]
    },
    {
     "name": "stdout",
     "output_type": "stream",
     "text": [
      "replicate 1 of structure 4NC3 already has been simulated\n",
      "replicate 2 of structure 4NC3 already has been simulated\n",
      "replicate 3 of structure 4NC3 already has been simulated\n",
      "replicate 1 of structure 4NC3 already has been simulated\n",
      "replicate 2 of structure 4NC3 already has been simulated\n",
      "replicate 3 of structure 4NC3 already has been simulated\n",
      "replicate 1 of structure 4JKV already has been simulated\n",
      "replicate 2 of structure 4JKV already has been simulated\n",
      "replicate 3 of structure 4JKV already has been simulated\n",
      "replicate 1 of structure 4JKV already has been simulated\n",
      "replicate 2 of structure 4JKV already has been simulated\n",
      "replicate 3 of structure 4JKV already has been simulated\n",
      "replicate 1 of structure 6TPG already has been simulated\n",
      "replicate 2 of structure 6TPG already has been simulated\n",
      "replicate 3 of structure 6TPG already has been simulated\n",
      "replicate 1 of structure 6TPG already has been simulated\n",
      "replicate 2 of structure 6TPG already has been simulated\n",
      "replicate 3 of structure 6TPG already has been simulated\n",
      "replicate 1 of structure 6RZ4 already has been simulated\n",
      "replicate 2 of structure 6RZ4 already has been simulated\n",
      "replicate 3 of structure 6RZ4 already has been simulated\n",
      "replicate 1 of structure 6RZ4 already has been simulated\n",
      "replicate 2 of structure 6RZ4 already has been simulated\n",
      "replicate 3 of structure 6RZ4 already has been simulated\n",
      "replicate 1 of structure 4EJ4 already has been simulated\n",
      "replicate 2 of structure 4EJ4 already has been simulated\n",
      "replicate 3 of structure 4EJ4 already has been simulated\n",
      "replicate 1 of structure 4EJ4 already has been simulated\n",
      "replicate 2 of structure 4EJ4 already has been simulated\n",
      "replicate 3 of structure 4EJ4 already has been simulated\n",
      "replicate 1 of structure 6PS7 already has been simulated\n",
      "replicate 2 of structure 6PS7 already has been simulated\n",
      "replicate 3 of structure 6PS7 already has been simulated\n",
      "submitting replicate 1 of 6PS7\n"
     ]
    },
    {
     "name": "stderr",
     "output_type": "stream",
     "text": [
      "2021-10-26 13:00:44,934 - htmd.builder.builder - WARNING - Found cis peptide bond in 1 frames: [0] in the omega diheral \"Angle of (LEU 216 CA P P) (LEU 216 C P P) (PRO 217 N P P) (PRO 217 CA P P) \" with indexes [3600, 3615, 3617, 3621]\n",
      "2021-10-26 13:00:46,265 - htmd.protocols.production_v6 - WARNING - Lipids detected in input structure. We highly recommend setting useconstantratio=True for membrane simulations.\n",
      "2021-10-26 13:00:46,635 - jobqueues.slurmqueue - INFO - Queueing /gpcr/users/daranda/doctorat/GPCR_simulations/simulation_output/production/6PS7/rep_1/\n"
     ]
    },
    {
     "name": "stdout",
     "output_type": "stream",
     "text": [
      "submitting replicate 2 of 6PS7\n"
     ]
    },
    {
     "name": "stderr",
     "output_type": "stream",
     "text": [
      "2021-10-26 13:01:22,293 - htmd.builder.builder - WARNING - Found cis peptide bond in 1 frames: [0] in the omega diheral \"Angle of (LEU 216 CA P P) (LEU 216 C P P) (PRO 217 N P P) (PRO 217 CA P P) \" with indexes [3600, 3615, 3617, 3621]\n",
      "2021-10-26 13:01:23,629 - htmd.protocols.production_v6 - WARNING - Lipids detected in input structure. We highly recommend setting useconstantratio=True for membrane simulations.\n",
      "2021-10-26 13:01:24,003 - jobqueues.slurmqueue - INFO - Queueing /gpcr/users/daranda/doctorat/GPCR_simulations/simulation_output/production/6PS7/rep_2/\n"
     ]
    },
    {
     "name": "stdout",
     "output_type": "stream",
     "text": [
      "submitting replicate 3 of 6PS7\n"
     ]
    },
    {
     "name": "stderr",
     "output_type": "stream",
     "text": [
      "2021-10-26 13:01:59,750 - htmd.builder.builder - WARNING - Found cis peptide bond in 1 frames: [0] in the omega diheral \"Angle of (LEU 216 CA P P) (LEU 216 C P P) (PRO 217 N P P) (PRO 217 CA P P) \" with indexes [3600, 3615, 3617, 3621]\n",
      "2021-10-26 13:02:01,082 - htmd.protocols.production_v6 - WARNING - Lipids detected in input structure. We highly recommend setting useconstantratio=True for membrane simulations.\n",
      "2021-10-26 13:02:01,457 - jobqueues.slurmqueue - INFO - Queueing /gpcr/users/daranda/doctorat/GPCR_simulations/simulation_output/production/6PS7/rep_3/\n"
     ]
    },
    {
     "name": "stdout",
     "output_type": "stream",
     "text": [
      "submitting replicate 1 of 6D35\n"
     ]
    },
    {
     "name": "stderr",
     "output_type": "stream",
     "text": [
      "2021-10-26 13:02:14,814 - moleculekit.readers - WARNING - Non-integer values were read from the PDB \"serial\" field. Dropping PDB values and assigning new ones.\n",
      "2021-10-26 13:02:15,059 - moleculekit.readers - WARNING - Reading PDB file with more than 99999 atoms. Bond information can be wrong.\n",
      "2021-10-26 13:03:38,080 - htmd.builder.builder - WARNING - Found cis peptide bond in 1 frames: [0] in the omega diheral \"Angle of (ALA 168 CA P P) (ALA 168 C P P) (PRO 169 N P P) (PRO 169 CA P P) \" with indexes [2025, 2031, 2033, 2037]\n",
      "2021-10-26 13:03:38,082 - htmd.builder.builder - WARNING - Found cis peptide bond in 1 frames: [0] in the omega diheral \"Angle of (TYR 235 CA P P) (TYR 235 C P P) (PRO 236 N P P) (PRO 236 CA P P) \" with indexes [3098, 3115, 3117, 3121]\n",
      "2021-10-26 13:03:38,084 - htmd.builder.builder - WARNING - Found cis peptide bond in 1 frames: [0] in the omega diheral \"Angle of (GLU 278 CA P P) (GLU 278 C P P) (PRO 279 N P P) (PRO 279 CA P P) \" with indexes [3752, 3763, 3765, 3769]\n",
      "2021-10-26 13:03:41,204 - htmd.protocols.production_v6 - WARNING - Lipids detected in input structure. We highly recommend setting useconstantratio=True for membrane simulations.\n",
      "2021-10-26 13:03:42,175 - jobqueues.slurmqueue - INFO - Queueing /gpcr/users/daranda/doctorat/GPCR_simulations/simulation_output/production/6D35_apo/rep_1/\n"
     ]
    },
    {
     "name": "stdout",
     "output_type": "stream",
     "text": [
      "replicate 2 of structure 6D35 already has been simulated\n",
      "replicate 3 of structure 6D35 already has been simulated\n",
      "replicate 1 of structure 6D35 already has been simulated\n",
      "replicate 2 of structure 6D35 already has been simulated\n",
      "replicate 3 of structure 6D35 already has been simulated\n",
      "replicate 1 of structure 5GLI already has been simulated\n",
      "replicate 2 of structure 5GLI already has been simulated\n",
      "replicate 3 of structure 5GLI already has been simulated\n",
      "submitting replicate 1 of 5GLI\n",
      "model 5GLI could not be send to equilibrate because of  Could not locate file /gpcr/users/daranda/doctorat/GPCR_simulations/simulation_output//equil/5GLI/structure.pdb set by the user for argument Production.acemd.coordinates\n",
      "submitting replicate 2 of 5GLI\n",
      "model 5GLI could not be send to equilibrate because of  Could not locate file /gpcr/users/daranda/doctorat/GPCR_simulations/simulation_output//equil/5GLI/structure.pdb set by the user for argument Production.acemd.coordinates\n",
      "submitting replicate 3 of 5GLI\n",
      "model 5GLI could not be send to equilibrate because of  Could not locate file /gpcr/users/daranda/doctorat/GPCR_simulations/simulation_output//equil/5GLI/structure.pdb set by the user for argument Production.acemd.coordinates\n",
      "replicate 1 of structure 6HLO already has been simulated\n",
      "replicate 2 of structure 6HLO already has been simulated\n",
      "replicate 3 of structure 6HLO already has been simulated\n",
      "replicate 1 of structure 6HLO already has been simulated\n",
      "replicate 2 of structure 6HLO already has been simulated\n",
      "replicate 3 of structure 6HLO already has been simulated\n",
      "replicate 1 of structure 5KW2 already has been simulated\n",
      "replicate 2 of structure 5KW2 already has been simulated\n",
      "replicate 3 of structure 5KW2 already has been simulated\n",
      "replicate 1 of structure 5KW2 already has been simulated\n",
      "replicate 2 of structure 5KW2 already has been simulated\n",
      "replicate 3 of structure 5KW2 already has been simulated\n",
      "replicate 1 of structure 5K2D already has been simulated\n",
      "replicate 2 of structure 5K2D already has been simulated\n",
      "replicate 3 of structure 5K2D already has been simulated\n",
      "replicate 1 of structure 5K2D already has been simulated\n",
      "replicate 2 of structure 5K2D already has been simulated\n",
      "replicate 3 of structure 5K2D already has been simulated\n",
      "replicate 1 of structure 6ME2 already has been simulated\n",
      "replicate 2 of structure 6ME2 already has been simulated\n",
      "replicate 3 of structure 6ME2 already has been simulated\n",
      "replicate 1 of structure 6ME2 already has been simulated\n",
      "replicate 2 of structure 6ME2 already has been simulated\n",
      "replicate 3 of structure 6ME2 already has been simulated\n",
      "replicate 1 of structure 5TZR already has been simulated\n",
      "replicate 2 of structure 5TZR already has been simulated\n",
      "replicate 3 of structure 5TZR already has been simulated\n",
      "replicate 1 of structure 5TZR already has been simulated\n",
      "replicate 2 of structure 5TZR already has been simulated\n",
      "replicate 3 of structure 5TZR already has been simulated\n",
      "replicate 1 of structure 5EE7 already has been simulated\n",
      "replicate 2 of structure 5EE7 already has been simulated\n",
      "replicate 3 of structure 5EE7 already has been simulated\n",
      "replicate 1 of structure 5EE7 already has been simulated\n",
      "replicate 2 of structure 5EE7 already has been simulated\n",
      "replicate 3 of structure 5EE7 already has been simulated\n",
      "replicate 1 of structure 6PRZ already has been simulated\n",
      "replicate 2 of structure 6PRZ already has been simulated\n",
      "replicate 3 of structure 6PRZ already has been simulated\n",
      "replicate 1 of structure 6PRZ already has been simulated\n",
      "replicate 2 of structure 6PRZ already has been simulated\n",
      "replicate 3 of structure 6PRZ already has been simulated\n",
      "replicate 1 of structure 6FKC already has been simulated\n",
      "replicate 2 of structure 6FKC already has been simulated\n",
      "replicate 3 of structure 6FKC already has been simulated\n",
      "replicate 1 of structure 6FKC already has been simulated\n",
      "replicate 2 of structure 6FKC already has been simulated\n",
      "replicate 3 of structure 6FKC already has been simulated\n",
      "replicate 1 of structure 5TE3 already has been simulated\n",
      "replicate 2 of structure 5TE3 already has been simulated\n",
      "replicate 3 of structure 5TE3 already has been simulated\n",
      "submitting replicate 1 of 5TE3\n",
      "model 5TE3 could not be send to equilibrate because of  Could not locate file /gpcr/users/daranda/doctorat/GPCR_simulations/simulation_output//equil/5TE3/structure.pdb set by the user for argument Production.acemd.coordinates\n",
      "submitting replicate 2 of 5TE3\n",
      "model 5TE3 could not be send to equilibrate because of  Could not locate file /gpcr/users/daranda/doctorat/GPCR_simulations/simulation_output//equil/5TE3/structure.pdb set by the user for argument Production.acemd.coordinates\n",
      "submitting replicate 3 of 5TE3\n",
      "model 5TE3 could not be send to equilibrate because of  Could not locate file /gpcr/users/daranda/doctorat/GPCR_simulations/simulation_output//equil/5TE3/structure.pdb set by the user for argument Production.acemd.coordinates\n",
      "submitting replicate 1 of 6IGL\n"
     ]
    },
    {
     "name": "stderr",
     "output_type": "stream",
     "text": [
      "2021-10-26 13:04:27,016 - htmd.protocols.production_v6 - WARNING - Lipids detected in input structure. We highly recommend setting useconstantratio=True for membrane simulations.\n",
      "2021-10-26 13:04:27,378 - jobqueues.slurmqueue - INFO - Queueing /gpcr/users/daranda/doctorat/GPCR_simulations/simulation_output/production/6IGL_apo/rep_1/\n"
     ]
    },
    {
     "name": "stdout",
     "output_type": "stream",
     "text": [
      "submitting replicate 2 of 6IGL\n"
     ]
    },
    {
     "name": "stderr",
     "output_type": "stream",
     "text": [
      "2021-10-26 13:05:19,587 - htmd.protocols.production_v6 - WARNING - Lipids detected in input structure. We highly recommend setting useconstantratio=True for membrane simulations.\n",
      "2021-10-26 13:05:19,954 - jobqueues.slurmqueue - INFO - Queueing /gpcr/users/daranda/doctorat/GPCR_simulations/simulation_output/production/6IGL_apo/rep_2/\n"
     ]
    },
    {
     "name": "stdout",
     "output_type": "stream",
     "text": [
      "submitting replicate 3 of 6IGL\n"
     ]
    },
    {
     "name": "stderr",
     "output_type": "stream",
     "text": [
      "2021-10-26 13:06:06,260 - htmd.protocols.production_v6 - WARNING - Lipids detected in input structure. We highly recommend setting useconstantratio=True for membrane simulations.\n",
      "2021-10-26 13:06:06,634 - jobqueues.slurmqueue - INFO - Queueing /gpcr/users/daranda/doctorat/GPCR_simulations/simulation_output/production/6IGL_apo/rep_3/\n"
     ]
    },
    {
     "name": "stdout",
     "output_type": "stream",
     "text": [
      "submitting replicate 1 of 6IGL\n"
     ]
    },
    {
     "name": "stderr",
     "output_type": "stream",
     "text": [
      "2021-10-26 13:06:54,076 - htmd.protocols.production_v6 - WARNING - Lipids detected in input structure. We highly recommend setting useconstantratio=True for membrane simulations.\n",
      "2021-10-26 13:06:54,456 - jobqueues.slurmqueue - INFO - Queueing /gpcr/users/daranda/doctorat/GPCR_simulations/simulation_output/production/6IGL/rep_1/\n"
     ]
    },
    {
     "name": "stdout",
     "output_type": "stream",
     "text": [
      "submitting replicate 2 of 6IGL\n"
     ]
    },
    {
     "name": "stderr",
     "output_type": "stream",
     "text": [
      "2021-10-26 13:07:35,259 - htmd.protocols.production_v6 - WARNING - Lipids detected in input structure. We highly recommend setting useconstantratio=True for membrane simulations.\n",
      "2021-10-26 13:07:35,624 - jobqueues.slurmqueue - INFO - Queueing /gpcr/users/daranda/doctorat/GPCR_simulations/simulation_output/production/6IGL/rep_2/\n"
     ]
    },
    {
     "name": "stdout",
     "output_type": "stream",
     "text": [
      "submitting replicate 3 of 6IGL\n"
     ]
    },
    {
     "name": "stderr",
     "output_type": "stream",
     "text": [
      "2021-10-26 13:08:17,270 - htmd.protocols.production_v6 - WARNING - Lipids detected in input structure. We highly recommend setting useconstantratio=True for membrane simulations.\n",
      "2021-10-26 13:08:17,641 - jobqueues.slurmqueue - INFO - Queueing /gpcr/users/daranda/doctorat/GPCR_simulations/simulation_output/production/6IGL/rep_3/\n"
     ]
    },
    {
     "name": "stdout",
     "output_type": "stream",
     "text": [
      "replicate 1 of structure 6ME3 already has been simulated\n",
      "replicate 2 of structure 6ME3 already has been simulated\n",
      "replicate 3 of structure 6ME3 already has been simulated\n",
      "replicate 1 of structure 6ME3 already has been simulated\n",
      "replicate 2 of structure 6ME3 already has been simulated\n",
      "replicate 3 of structure 6ME3 already has been simulated\n",
      "replicate 1 of structure 5ZKC already has been simulated\n",
      "replicate 2 of structure 5ZKC already has been simulated\n",
      "replicate 3 of structure 5ZKC already has been simulated\n",
      "replicate 1 of structure 5ZKC already has been simulated\n",
      "replicate 2 of structure 5ZKC already has been simulated\n",
      "replicate 3 of structure 5ZKC already has been simulated\n",
      "submitting replicate 1 of 5TVN\n"
     ]
    },
    {
     "name": "stderr",
     "output_type": "stream",
     "text": [
      "2021-10-26 13:08:50,820 - htmd.protocols.production_v6 - WARNING - Lipids detected in input structure. We highly recommend setting useconstantratio=True for membrane simulations.\n",
      "2021-10-26 13:08:51,143 - jobqueues.slurmqueue - INFO - Queueing /gpcr/users/daranda/doctorat/GPCR_simulations/simulation_output/production/5TVN_apo/rep_1/\n"
     ]
    },
    {
     "name": "stdout",
     "output_type": "stream",
     "text": [
      "submitting replicate 2 of 5TVN\n"
     ]
    },
    {
     "name": "stderr",
     "output_type": "stream",
     "text": [
      "2021-10-26 13:09:24,489 - htmd.protocols.production_v6 - WARNING - Lipids detected in input structure. We highly recommend setting useconstantratio=True for membrane simulations.\n",
      "2021-10-26 13:09:24,809 - jobqueues.slurmqueue - INFO - Queueing /gpcr/users/daranda/doctorat/GPCR_simulations/simulation_output/production/5TVN_apo/rep_2/\n"
     ]
    },
    {
     "name": "stdout",
     "output_type": "stream",
     "text": [
      "submitting replicate 3 of 5TVN\n"
     ]
    },
    {
     "name": "stderr",
     "output_type": "stream",
     "text": [
      "2021-10-26 13:09:58,642 - htmd.protocols.production_v6 - WARNING - Lipids detected in input structure. We highly recommend setting useconstantratio=True for membrane simulations.\n",
      "2021-10-26 13:09:58,959 - jobqueues.slurmqueue - INFO - Queueing /gpcr/users/daranda/doctorat/GPCR_simulations/simulation_output/production/5TVN_apo/rep_3/\n"
     ]
    },
    {
     "name": "stdout",
     "output_type": "stream",
     "text": [
      "submitting replicate 1 of 5TVN\n"
     ]
    },
    {
     "name": "stderr",
     "output_type": "stream",
     "text": [
      "2021-10-26 13:10:32,907 - htmd.protocols.production_v6 - WARNING - Lipids detected in input structure. We highly recommend setting useconstantratio=True for membrane simulations.\n",
      "2021-10-26 13:10:33,301 - jobqueues.slurmqueue - INFO - Queueing /gpcr/users/daranda/doctorat/GPCR_simulations/simulation_output/production/5TVN/rep_1/\n"
     ]
    },
    {
     "name": "stdout",
     "output_type": "stream",
     "text": [
      "submitting replicate 2 of 5TVN\n"
     ]
    },
    {
     "name": "stderr",
     "output_type": "stream",
     "text": [
      "2021-10-26 13:11:08,337 - htmd.protocols.production_v6 - WARNING - Lipids detected in input structure. We highly recommend setting useconstantratio=True for membrane simulations.\n",
      "2021-10-26 13:11:08,696 - jobqueues.slurmqueue - INFO - Queueing /gpcr/users/daranda/doctorat/GPCR_simulations/simulation_output/production/5TVN/rep_2/\n"
     ]
    },
    {
     "name": "stdout",
     "output_type": "stream",
     "text": [
      "submitting replicate 3 of 5TVN\n"
     ]
    },
    {
     "name": "stderr",
     "output_type": "stream",
     "text": [
      "2021-10-26 13:11:43,772 - htmd.protocols.production_v6 - WARNING - Lipids detected in input structure. We highly recommend setting useconstantratio=True for membrane simulations.\n",
      "2021-10-26 13:11:44,158 - jobqueues.slurmqueue - INFO - Queueing /gpcr/users/daranda/doctorat/GPCR_simulations/simulation_output/production/5TVN/rep_3/\n"
     ]
    },
    {
     "name": "stdout",
     "output_type": "stream",
     "text": [
      "replicate 1 of structure 6RZ9 already has been simulated\n",
      "replicate 2 of structure 6RZ9 already has been simulated\n",
      "replicate 3 of structure 6RZ9 already has been simulated\n",
      "replicate 1 of structure 6RZ9 already has been simulated\n",
      "replicate 2 of structure 6RZ9 already has been simulated\n",
      "replicate 3 of structure 6RZ9 already has been simulated\n",
      "replicate 1 of structure 5ZKP already has been simulated\n",
      "replicate 2 of structure 5ZKP already has been simulated\n",
      "replicate 3 of structure 5ZKP already has been simulated\n",
      "replicate 1 of structure 5ZKP already has been simulated\n",
      "replicate 2 of structure 5ZKP already has been simulated\n",
      "replicate 3 of structure 5ZKP already has been simulated\n",
      "replicate 1 of structure 6A93 already has been simulated\n",
      "replicate 2 of structure 6A93 already has been simulated\n",
      "replicate 3 of structure 6A93 already has been simulated\n",
      "replicate 1 of structure 6A93 already has been simulated\n",
      "replicate 2 of structure 6A93 already has been simulated\n",
      "replicate 3 of structure 6A93 already has been simulated\n",
      "replicate 1 of structure 6LUQ already has been simulated\n",
      "replicate 2 of structure 6LUQ already has been simulated\n",
      "replicate 3 of structure 6LUQ already has been simulated\n",
      "replicate 1 of structure 6LUQ already has been simulated\n",
      "replicate 2 of structure 6LUQ already has been simulated\n",
      "replicate 3 of structure 6LUQ already has been simulated\n",
      "replicate 1 of structure 5WF5 already has been simulated\n",
      "replicate 2 of structure 5WF5 already has been simulated\n",
      "replicate 3 of structure 5WF5 already has been simulated\n",
      "replicate 1 of structure 5WF5 already has been simulated\n",
      "replicate 2 of structure 5WF5 already has been simulated\n",
      "replicate 3 of structure 5WF5 already has been simulated\n",
      "replicate 1 of structure 6PS8 already has been simulated\n",
      "replicate 2 of structure 6PS8 already has been simulated\n",
      "replicate 3 of structure 6PS8 already has been simulated\n",
      "replicate 1 of structure 6PS8 already has been simulated\n",
      "replicate 2 of structure 6PS8 already has been simulated\n",
      "replicate 3 of structure 6PS8 already has been simulated\n",
      "replicate 1 of structure 5TZY already has been simulated\n",
      "replicate 2 of structure 5TZY already has been simulated\n",
      "replicate 3 of structure 5TZY already has been simulated\n",
      "replicate 1 of structure 5TZY already has been simulated\n",
      "replicate 2 of structure 5TZY already has been simulated\n",
      "replicate 3 of structure 5TZY already has been simulated\n",
      "submitting replicate 1 of 5V56\n"
     ]
    },
    {
     "name": "stderr",
     "output_type": "stream",
     "text": [
      "2021-10-26 13:11:56,825 - moleculekit.readers - WARNING - Non-integer values were read from the PDB \"serial\" field. Dropping PDB values and assigning new ones.\n",
      "2021-10-26 13:11:57,030 - moleculekit.readers - WARNING - Reading PDB file with more than 99999 atoms. Bond information can be wrong.\n",
      "2021-10-26 13:13:07,683 - htmd.builder.builder - WARNING - Found cis peptide bond in 1 frames: [0] in the omega diheral \"Angle of (GLU 305 CA P P) (GLU 305 C P P) (PRO 306 N P P) (PRO 306 CA P P) \" with indexes [3749, 3760, 3762, 3766]\n",
      "2021-10-26 13:13:07,685 - htmd.builder.builder - WARNING - Found cis peptide bond in 1 frames: [0] in the omega diheral \"Angle of (PRO 513 CA P P) (PRO 513 C P P) (SER 514 N P P) (SER 514 CA P P) \" with indexes [7056, 7064, 7066, 7068]\n",
      "2021-10-26 13:13:10,152 - htmd.protocols.production_v6 - WARNING - Lipids detected in input structure. We highly recommend setting useconstantratio=True for membrane simulations.\n",
      "2021-10-26 13:13:10,744 - jobqueues.slurmqueue - INFO - Queueing /gpcr/users/daranda/doctorat/GPCR_simulations/simulation_output/production/5V56_apo/rep_1/\n"
     ]
    },
    {
     "name": "stdout",
     "output_type": "stream",
     "text": [
      "submitting replicate 2 of 5V56\n"
     ]
    },
    {
     "name": "stderr",
     "output_type": "stream",
     "text": [
      "2021-10-26 13:13:23,276 - moleculekit.readers - WARNING - Non-integer values were read from the PDB \"serial\" field. Dropping PDB values and assigning new ones.\n",
      "2021-10-26 13:13:23,486 - moleculekit.readers - WARNING - Reading PDB file with more than 99999 atoms. Bond information can be wrong.\n",
      "2021-10-26 13:14:46,428 - htmd.builder.builder - WARNING - Found cis peptide bond in 1 frames: [0] in the omega diheral \"Angle of (GLU 305 CA P P) (GLU 305 C P P) (PRO 306 N P P) (PRO 306 CA P P) \" with indexes [3749, 3760, 3762, 3766]\n",
      "2021-10-26 13:14:46,430 - htmd.builder.builder - WARNING - Found cis peptide bond in 1 frames: [0] in the omega diheral \"Angle of (PRO 513 CA P P) (PRO 513 C P P) (SER 514 N P P) (SER 514 CA P P) \" with indexes [7056, 7064, 7066, 7068]\n",
      "2021-10-26 13:14:48,909 - htmd.protocols.production_v6 - WARNING - Lipids detected in input structure. We highly recommend setting useconstantratio=True for membrane simulations.\n",
      "2021-10-26 13:14:49,521 - jobqueues.slurmqueue - INFO - Queueing /gpcr/users/daranda/doctorat/GPCR_simulations/simulation_output/production/5V56_apo/rep_2/\n"
     ]
    },
    {
     "name": "stdout",
     "output_type": "stream",
     "text": [
      "submitting replicate 3 of 5V56\n"
     ]
    },
    {
     "name": "stderr",
     "output_type": "stream",
     "text": [
      "2021-10-26 13:15:02,335 - moleculekit.readers - WARNING - Non-integer values were read from the PDB \"serial\" field. Dropping PDB values and assigning new ones.\n",
      "2021-10-26 13:15:02,529 - moleculekit.readers - WARNING - Reading PDB file with more than 99999 atoms. Bond information can be wrong.\n",
      "2021-10-26 13:16:32,283 - htmd.builder.builder - WARNING - Found cis peptide bond in 1 frames: [0] in the omega diheral \"Angle of (GLU 305 CA P P) (GLU 305 C P P) (PRO 306 N P P) (PRO 306 CA P P) \" with indexes [3749, 3760, 3762, 3766]\n",
      "2021-10-26 13:16:32,285 - htmd.builder.builder - WARNING - Found cis peptide bond in 1 frames: [0] in the omega diheral \"Angle of (PRO 513 CA P P) (PRO 513 C P P) (SER 514 N P P) (SER 514 CA P P) \" with indexes [7056, 7064, 7066, 7068]\n",
      "2021-10-26 13:16:34,811 - htmd.protocols.production_v6 - WARNING - Lipids detected in input structure. We highly recommend setting useconstantratio=True for membrane simulations.\n",
      "2021-10-26 13:16:35,416 - jobqueues.slurmqueue - INFO - Queueing /gpcr/users/daranda/doctorat/GPCR_simulations/simulation_output/production/5V56_apo/rep_3/\n"
     ]
    },
    {
     "name": "stdout",
     "output_type": "stream",
     "text": [
      "submitting replicate 1 of 5V56\n"
     ]
    },
    {
     "name": "stderr",
     "output_type": "stream",
     "text": [
      "2021-10-26 13:16:47,988 - moleculekit.readers - WARNING - Non-integer values were read from the PDB \"serial\" field. Dropping PDB values and assigning new ones.\n",
      "2021-10-26 13:16:48,191 - moleculekit.readers - WARNING - Reading PDB file with more than 99999 atoms. Bond information can be wrong.\n",
      "2021-10-26 13:18:18,604 - htmd.builder.builder - WARNING - Found cis peptide bond in 1 frames: [0] in the omega diheral \"Angle of (GLU 305 CA P P) (GLU 305 C P P) (PRO 306 N P P) (PRO 306 CA P P) \" with indexes [3749, 3760, 3762, 3766]\n",
      "2021-10-26 13:18:21,141 - htmd.protocols.production_v6 - WARNING - Lipids detected in input structure. We highly recommend setting useconstantratio=True for membrane simulations.\n",
      "2021-10-26 13:18:21,806 - jobqueues.slurmqueue - INFO - Queueing /gpcr/users/daranda/doctorat/GPCR_simulations/simulation_output/production/5V56/rep_1/\n"
     ]
    },
    {
     "name": "stdout",
     "output_type": "stream",
     "text": [
      "submitting replicate 2 of 5V56\n"
     ]
    },
    {
     "name": "stderr",
     "output_type": "stream",
     "text": [
      "2021-10-26 13:18:34,424 - moleculekit.readers - WARNING - Non-integer values were read from the PDB \"serial\" field. Dropping PDB values and assigning new ones.\n",
      "2021-10-26 13:18:34,629 - moleculekit.readers - WARNING - Reading PDB file with more than 99999 atoms. Bond information can be wrong.\n",
      "2021-10-26 13:20:05,526 - htmd.builder.builder - WARNING - Found cis peptide bond in 1 frames: [0] in the omega diheral \"Angle of (GLU 305 CA P P) (GLU 305 C P P) (PRO 306 N P P) (PRO 306 CA P P) \" with indexes [3749, 3760, 3762, 3766]\n",
      "2021-10-26 13:20:08,065 - htmd.protocols.production_v6 - WARNING - Lipids detected in input structure. We highly recommend setting useconstantratio=True for membrane simulations.\n",
      "2021-10-26 13:20:08,756 - jobqueues.slurmqueue - INFO - Queueing /gpcr/users/daranda/doctorat/GPCR_simulations/simulation_output/production/5V56/rep_2/\n"
     ]
    },
    {
     "name": "stdout",
     "output_type": "stream",
     "text": [
      "submitting replicate 3 of 5V56\n"
     ]
    },
    {
     "name": "stderr",
     "output_type": "stream",
     "text": [
      "2021-10-26 13:20:21,307 - moleculekit.readers - WARNING - Non-integer values were read from the PDB \"serial\" field. Dropping PDB values and assigning new ones.\n",
      "2021-10-26 13:20:21,516 - moleculekit.readers - WARNING - Reading PDB file with more than 99999 atoms. Bond information can be wrong.\n",
      "2021-10-26 13:21:51,130 - htmd.builder.builder - WARNING - Found cis peptide bond in 1 frames: [0] in the omega diheral \"Angle of (GLU 305 CA P P) (GLU 305 C P P) (PRO 306 N P P) (PRO 306 CA P P) \" with indexes [3749, 3760, 3762, 3766]\n",
      "2021-10-26 13:21:53,659 - htmd.protocols.production_v6 - WARNING - Lipids detected in input structure. We highly recommend setting useconstantratio=True for membrane simulations.\n",
      "2021-10-26 13:21:54,317 - jobqueues.slurmqueue - INFO - Queueing /gpcr/users/daranda/doctorat/GPCR_simulations/simulation_output/production/5V56/rep_3/\n"
     ]
    },
    {
     "name": "stdout",
     "output_type": "stream",
     "text": [
      "replicate 1 of structure 5UIG already has been simulated\n",
      "replicate 2 of structure 5UIG already has been simulated\n",
      "replicate 3 of structure 5UIG already has been simulated\n",
      "replicate 1 of structure 5UIG already has been simulated\n",
      "replicate 2 of structure 5UIG already has been simulated\n",
      "replicate 3 of structure 5UIG already has been simulated\n",
      "replicate 1 of structure 5N2R already has been simulated\n",
      "replicate 2 of structure 5N2R already has been simulated\n",
      "replicate 3 of structure 5N2R already has been simulated\n",
      "replicate 1 of structure 5N2R already has been simulated\n",
      "replicate 2 of structure 5N2R already has been simulated\n",
      "replicate 3 of structure 5N2R already has been simulated\n",
      "submitting replicate 1 of 5OLG\n"
     ]
    },
    {
     "name": "stderr",
     "output_type": "stream",
     "text": [
      "2021-10-26 13:22:35,031 - htmd.builder.builder - WARNING - Found cis peptide bond in 1 frames: [0] in the omega diheral \"Angle of (LEU 216 CA P P) (LEU 216 C P P) (PRO 217 N P P) (PRO 217 CA P P) \" with indexes [3337, 3352, 3354, 3358]\n",
      "2021-10-26 13:22:36,340 - htmd.protocols.production_v6 - WARNING - Lipids detected in input structure. We highly recommend setting useconstantratio=True for membrane simulations.\n",
      "2021-10-26 13:22:36,712 - jobqueues.slurmqueue - INFO - Queueing /gpcr/users/daranda/doctorat/GPCR_simulations/simulation_output/production/5OLG_apo/rep_1/\n"
     ]
    },
    {
     "name": "stdout",
     "output_type": "stream",
     "text": [
      "submitting replicate 2 of 5OLG\n"
     ]
    },
    {
     "name": "stderr",
     "output_type": "stream",
     "text": [
      "2021-10-26 13:23:17,429 - htmd.builder.builder - WARNING - Found cis peptide bond in 1 frames: [0] in the omega diheral \"Angle of (LEU 216 CA P P) (LEU 216 C P P) (PRO 217 N P P) (PRO 217 CA P P) \" with indexes [3337, 3352, 3354, 3358]\n",
      "2021-10-26 13:23:18,766 - htmd.protocols.production_v6 - WARNING - Lipids detected in input structure. We highly recommend setting useconstantratio=True for membrane simulations.\n",
      "2021-10-26 13:23:19,141 - jobqueues.slurmqueue - INFO - Queueing /gpcr/users/daranda/doctorat/GPCR_simulations/simulation_output/production/5OLG_apo/rep_2/\n"
     ]
    },
    {
     "name": "stdout",
     "output_type": "stream",
     "text": [
      "submitting replicate 3 of 5OLG\n"
     ]
    },
    {
     "name": "stderr",
     "output_type": "stream",
     "text": [
      "2021-10-26 13:24:00,645 - htmd.builder.builder - WARNING - Found cis peptide bond in 1 frames: [0] in the omega diheral \"Angle of (LEU 216 CA P P) (LEU 216 C P P) (PRO 217 N P P) (PRO 217 CA P P) \" with indexes [3337, 3352, 3354, 3358]\n",
      "2021-10-26 13:24:01,978 - htmd.protocols.production_v6 - WARNING - Lipids detected in input structure. We highly recommend setting useconstantratio=True for membrane simulations.\n",
      "2021-10-26 13:24:02,338 - jobqueues.slurmqueue - INFO - Queueing /gpcr/users/daranda/doctorat/GPCR_simulations/simulation_output/production/5OLG_apo/rep_3/\n"
     ]
    },
    {
     "name": "stdout",
     "output_type": "stream",
     "text": [
      "submitting replicate 1 of 5OLG\n"
     ]
    },
    {
     "name": "stderr",
     "output_type": "stream",
     "text": [
      "2021-10-26 13:24:42,109 - htmd.builder.builder - WARNING - Found cis peptide bond in 1 frames: [0] in the omega diheral \"Angle of (LEU 216 CA P P) (LEU 216 C P P) (PRO 217 N P P) (PRO 217 CA P P) \" with indexes [3674, 3689, 3691, 3695]\n",
      "2021-10-26 13:24:43,445 - htmd.protocols.production_v6 - WARNING - Lipids detected in input structure. We highly recommend setting useconstantratio=True for membrane simulations.\n",
      "2021-10-26 13:24:43,867 - jobqueues.slurmqueue - INFO - Queueing /gpcr/users/daranda/doctorat/GPCR_simulations/simulation_output/production/5OLG/rep_1/\n"
     ]
    },
    {
     "name": "stdout",
     "output_type": "stream",
     "text": [
      "submitting replicate 2 of 5OLG\n"
     ]
    },
    {
     "name": "stderr",
     "output_type": "stream",
     "text": [
      "2021-10-26 13:25:24,682 - htmd.builder.builder - WARNING - Found cis peptide bond in 1 frames: [0] in the omega diheral \"Angle of (LEU 216 CA P P) (LEU 216 C P P) (PRO 217 N P P) (PRO 217 CA P P) \" with indexes [3674, 3689, 3691, 3695]\n",
      "2021-10-26 13:25:26,022 - htmd.protocols.production_v6 - WARNING - Lipids detected in input structure. We highly recommend setting useconstantratio=True for membrane simulations.\n",
      "2021-10-26 13:25:26,433 - jobqueues.slurmqueue - INFO - Queueing /gpcr/users/daranda/doctorat/GPCR_simulations/simulation_output/production/5OLG/rep_2/\n"
     ]
    },
    {
     "name": "stdout",
     "output_type": "stream",
     "text": [
      "submitting replicate 3 of 5OLG\n"
     ]
    },
    {
     "name": "stderr",
     "output_type": "stream",
     "text": [
      "2021-10-26 13:26:05,027 - htmd.builder.builder - WARNING - Found cis peptide bond in 1 frames: [0] in the omega diheral \"Angle of (LEU 216 CA P P) (LEU 216 C P P) (PRO 217 N P P) (PRO 217 CA P P) \" with indexes [3674, 3689, 3691, 3695]\n",
      "2021-10-26 13:26:06,352 - htmd.protocols.production_v6 - WARNING - Lipids detected in input structure. We highly recommend setting useconstantratio=True for membrane simulations.\n",
      "2021-10-26 13:26:06,767 - jobqueues.slurmqueue - INFO - Queueing /gpcr/users/daranda/doctorat/GPCR_simulations/simulation_output/production/5OLG/rep_3/\n"
     ]
    },
    {
     "name": "stdout",
     "output_type": "stream",
     "text": [
      "replicate 1 of structure 6TO7 already has been simulated\n",
      "replicate 2 of structure 6TO7 already has been simulated\n",
      "replicate 3 of structure 6TO7 already has been simulated\n",
      "replicate 1 of structure 6TO7 already has been simulated\n",
      "replicate 2 of structure 6TO7 already has been simulated\n",
      "replicate 3 of structure 6TO7 already has been simulated\n",
      "submitting replicate 1 of 6FJ3\n"
     ]
    },
    {
     "name": "stderr",
     "output_type": "stream",
     "text": [
      "2021-10-26 13:26:18,433 - moleculekit.readers - WARNING - Non-integer values were read from the PDB \"serial\" field. Dropping PDB values and assigning new ones.\n",
      "2021-10-26 13:26:18,608 - moleculekit.readers - WARNING - Reading PDB file with more than 99999 atoms. Bond information can be wrong.\n",
      "2021-10-26 13:27:03,183 - htmd.protocols.production_v6 - WARNING - Lipids detected in input structure. We highly recommend setting useconstantratio=True for membrane simulations.\n",
      "2021-10-26 13:27:03,701 - jobqueues.slurmqueue - INFO - Queueing /gpcr/users/daranda/doctorat/GPCR_simulations/simulation_output/production/6FJ3_apo/rep_1/\n"
     ]
    },
    {
     "name": "stdout",
     "output_type": "stream",
     "text": [
      "submitting replicate 2 of 6FJ3\n"
     ]
    },
    {
     "name": "stderr",
     "output_type": "stream",
     "text": [
      "2021-10-26 13:27:15,258 - moleculekit.readers - WARNING - Non-integer values were read from the PDB \"serial\" field. Dropping PDB values and assigning new ones.\n",
      "2021-10-26 13:27:15,433 - moleculekit.readers - WARNING - Reading PDB file with more than 99999 atoms. Bond information can be wrong.\n",
      "2021-10-26 13:28:07,518 - htmd.protocols.production_v6 - WARNING - Lipids detected in input structure. We highly recommend setting useconstantratio=True for membrane simulations.\n",
      "2021-10-26 13:28:08,026 - jobqueues.slurmqueue - INFO - Queueing /gpcr/users/daranda/doctorat/GPCR_simulations/simulation_output/production/6FJ3_apo/rep_2/\n"
     ]
    },
    {
     "name": "stdout",
     "output_type": "stream",
     "text": [
      "submitting replicate 3 of 6FJ3\n"
     ]
    },
    {
     "name": "stderr",
     "output_type": "stream",
     "text": [
      "2021-10-26 13:28:19,617 - moleculekit.readers - WARNING - Non-integer values were read from the PDB \"serial\" field. Dropping PDB values and assigning new ones.\n",
      "2021-10-26 13:28:19,791 - moleculekit.readers - WARNING - Reading PDB file with more than 99999 atoms. Bond information can be wrong.\n",
      "2021-10-26 13:29:11,426 - htmd.protocols.production_v6 - WARNING - Lipids detected in input structure. We highly recommend setting useconstantratio=True for membrane simulations.\n",
      "2021-10-26 13:29:12,254 - jobqueues.slurmqueue - INFO - Queueing /gpcr/users/daranda/doctorat/GPCR_simulations/simulation_output/production/6FJ3_apo/rep_3/\n"
     ]
    },
    {
     "name": "stdout",
     "output_type": "stream",
     "text": [
      "submitting replicate 1 of 6FJ3\n"
     ]
    },
    {
     "name": "stderr",
     "output_type": "stream",
     "text": [
      "2021-10-26 13:29:24,755 - moleculekit.readers - WARNING - Non-integer values were read from the PDB \"serial\" field. Dropping PDB values and assigning new ones.\n",
      "2021-10-26 13:29:24,951 - moleculekit.readers - WARNING - Reading PDB file with more than 99999 atoms. Bond information can be wrong.\n",
      "2021-10-26 13:30:32,551 - htmd.protocols.production_v6 - WARNING - Lipids detected in input structure. We highly recommend setting useconstantratio=True for membrane simulations.\n",
      "2021-10-26 13:30:33,189 - jobqueues.slurmqueue - INFO - Queueing /gpcr/users/daranda/doctorat/GPCR_simulations/simulation_output/production/6FJ3/rep_1/\n"
     ]
    },
    {
     "name": "stdout",
     "output_type": "stream",
     "text": [
      "submitting replicate 2 of 6FJ3\n"
     ]
    },
    {
     "name": "stderr",
     "output_type": "stream",
     "text": [
      "2021-10-26 13:30:45,765 - moleculekit.readers - WARNING - Non-integer values were read from the PDB \"serial\" field. Dropping PDB values and assigning new ones.\n",
      "2021-10-26 13:30:45,966 - moleculekit.readers - WARNING - Reading PDB file with more than 99999 atoms. Bond information can be wrong.\n",
      "2021-10-26 13:31:51,685 - htmd.protocols.production_v6 - WARNING - Lipids detected in input structure. We highly recommend setting useconstantratio=True for membrane simulations.\n",
      "2021-10-26 13:31:52,490 - jobqueues.slurmqueue - INFO - Queueing /gpcr/users/daranda/doctorat/GPCR_simulations/simulation_output/production/6FJ3/rep_2/\n"
     ]
    },
    {
     "name": "stdout",
     "output_type": "stream",
     "text": [
      "submitting replicate 3 of 6FJ3\n"
     ]
    },
    {
     "name": "stderr",
     "output_type": "stream",
     "text": [
      "2021-10-26 13:32:05,016 - moleculekit.readers - WARNING - Non-integer values were read from the PDB \"serial\" field. Dropping PDB values and assigning new ones.\n",
      "2021-10-26 13:32:05,216 - moleculekit.readers - WARNING - Reading PDB file with more than 99999 atoms. Bond information can be wrong.\n",
      "2021-10-26 13:33:12,087 - htmd.protocols.production_v6 - WARNING - Lipids detected in input structure. We highly recommend setting useconstantratio=True for membrane simulations.\n",
      "2021-10-26 13:33:12,740 - jobqueues.slurmqueue - INFO - Queueing /gpcr/users/daranda/doctorat/GPCR_simulations/simulation_output/production/6FJ3/rep_3/\n"
     ]
    },
    {
     "name": "stdout",
     "output_type": "stream",
     "text": [
      "replicate 1 of structure 5UVI already has been simulated\n",
      "replicate 2 of structure 5UVI already has been simulated\n",
      "replicate 3 of structure 5UVI already has been simulated\n",
      "replicate 1 of structure 5UVI already has been simulated\n",
      "replicate 2 of structure 5UVI already has been simulated\n",
      "replicate 3 of structure 5UVI already has been simulated\n",
      "replicate 1 of structure 6TP3 already has been simulated\n",
      "replicate 2 of structure 6TP3 already has been simulated\n",
      "replicate 3 of structure 6TP3 already has been simulated\n",
      "submitting replicate 1 of 6TP3\n"
     ]
    },
    {
     "name": "stderr",
     "output_type": "stream",
     "text": [
      "2021-10-26 13:34:02,596 - htmd.protocols.production_v6 - WARNING - Lipids detected in input structure. We highly recommend setting useconstantratio=True for membrane simulations.\n"
     ]
    },
    {
     "name": "stdout",
     "output_type": "stream",
     "text": [
      "model 6TP3 could not be send to equilibrate because of  Could not find any of the files \"output.coor\" specified for command \"bincoordinates\" in path /gpcr/users/daranda/doctorat/GPCR_simulations/simulation_output//equil/6TP3/\n",
      "submitting replicate 2 of 6TP3\n"
     ]
    },
    {
     "name": "stderr",
     "output_type": "stream",
     "text": [
      "2021-10-26 13:34:44,916 - htmd.protocols.production_v6 - WARNING - Lipids detected in input structure. We highly recommend setting useconstantratio=True for membrane simulations.\n"
     ]
    },
    {
     "name": "stdout",
     "output_type": "stream",
     "text": [
      "model 6TP3 could not be send to equilibrate because of  Could not find any of the files \"output.coor\" specified for command \"bincoordinates\" in path /gpcr/users/daranda/doctorat/GPCR_simulations/simulation_output//equil/6TP3/\n",
      "submitting replicate 3 of 6TP3\n"
     ]
    },
    {
     "name": "stderr",
     "output_type": "stream",
     "text": [
      "2021-10-26 13:35:18,975 - htmd.protocols.production_v6 - WARNING - Lipids detected in input structure. We highly recommend setting useconstantratio=True for membrane simulations.\n"
     ]
    },
    {
     "name": "stdout",
     "output_type": "stream",
     "text": [
      "model 6TP3 could not be send to equilibrate because of  Could not find any of the files \"output.coor\" specified for command \"bincoordinates\" in path /gpcr/users/daranda/doctorat/GPCR_simulations/simulation_output//equil/6TP3/\n",
      "replicate 1 of structure 6PS4 already has been simulated\n",
      "replicate 2 of structure 6PS4 already has been simulated\n",
      "replicate 3 of structure 6PS4 already has been simulated\n",
      "replicate 1 of structure 6PS4 already has been simulated\n",
      "replicate 2 of structure 6PS4 already has been simulated\n",
      "replicate 3 of structure 6PS4 already has been simulated\n",
      "replicate 1 of structure 4BUO already has been simulated\n",
      "replicate 2 of structure 4BUO already has been simulated\n",
      "replicate 3 of structure 4BUO already has been simulated\n",
      "replicate 1 of structure 4BUO already has been simulated\n",
      "replicate 2 of structure 4BUO already has been simulated\n",
      "replicate 3 of structure 4BUO already has been simulated\n",
      "submitting replicate 1 of 5WIV\n"
     ]
    },
    {
     "name": "stderr",
     "output_type": "stream",
     "text": [
      "2021-10-26 13:35:47,868 - htmd.builder.builder - WARNING - Found cis peptide bond in 1 frames: [0] in the omega diheral \"Angle of (ALA 31 CA P0 P) (ALA 31 C P0 P) (GLY 32 N P0 P) (GLY 32 CA P0 P) \" with indexes [61, 67, 69, 71]\n",
      "2021-10-26 13:35:49,291 - htmd.protocols.production_v6 - WARNING - Lipids detected in input structure. We highly recommend setting useconstantratio=True for membrane simulations.\n",
      "2021-10-26 13:35:49,690 - jobqueues.slurmqueue - INFO - Queueing /gpcr/users/daranda/doctorat/GPCR_simulations/simulation_output/production/5WIV_apo/rep_1/\n"
     ]
    },
    {
     "name": "stdout",
     "output_type": "stream",
     "text": [
      "submitting replicate 2 of 5WIV\n"
     ]
    },
    {
     "name": "stderr",
     "output_type": "stream",
     "text": [
      "2021-10-26 13:36:25,836 - htmd.builder.builder - WARNING - Found cis peptide bond in 1 frames: [0] in the omega diheral \"Angle of (ALA 31 CA P0 P) (ALA 31 C P0 P) (GLY 32 N P0 P) (GLY 32 CA P0 P) \" with indexes [61, 67, 69, 71]\n",
      "2021-10-26 13:36:27,252 - htmd.protocols.production_v6 - WARNING - Lipids detected in input structure. We highly recommend setting useconstantratio=True for membrane simulations.\n",
      "2021-10-26 13:36:27,626 - jobqueues.slurmqueue - INFO - Queueing /gpcr/users/daranda/doctorat/GPCR_simulations/simulation_output/production/5WIV_apo/rep_2/\n"
     ]
    },
    {
     "name": "stdout",
     "output_type": "stream",
     "text": [
      "submitting replicate 3 of 5WIV\n"
     ]
    },
    {
     "name": "stderr",
     "output_type": "stream",
     "text": [
      "2021-10-26 13:37:03,101 - htmd.builder.builder - WARNING - Found cis peptide bond in 1 frames: [0] in the omega diheral \"Angle of (ALA 31 CA P0 P) (ALA 31 C P0 P) (GLY 32 N P0 P) (GLY 32 CA P0 P) \" with indexes [61, 67, 69, 71]\n",
      "2021-10-26 13:37:04,531 - htmd.protocols.production_v6 - WARNING - Lipids detected in input structure. We highly recommend setting useconstantratio=True for membrane simulations.\n",
      "2021-10-26 13:37:04,913 - jobqueues.slurmqueue - INFO - Queueing /gpcr/users/daranda/doctorat/GPCR_simulations/simulation_output/production/5WIV_apo/rep_3/\n"
     ]
    },
    {
     "name": "stdout",
     "output_type": "stream",
     "text": [
      "submitting replicate 1 of 5WIV\n"
     ]
    },
    {
     "name": "stderr",
     "output_type": "stream",
     "text": [
      "2021-10-26 13:37:41,483 - htmd.builder.builder - WARNING - Found cis peptide bond in 1 frames: [0] in the omega diheral \"Angle of (ALA 31 CA P0 P) (ALA 31 C P0 P) (GLY 32 N P0 P) (GLY 32 CA P0 P) \" with indexes [121, 127, 129, 131]\n",
      "2021-10-26 13:37:42,790 - htmd.protocols.production_v6 - WARNING - Lipids detected in input structure. We highly recommend setting useconstantratio=True for membrane simulations.\n",
      "2021-10-26 13:37:43,198 - jobqueues.slurmqueue - INFO - Queueing /gpcr/users/daranda/doctorat/GPCR_simulations/simulation_output/production/5WIV/rep_1/\n"
     ]
    },
    {
     "name": "stdout",
     "output_type": "stream",
     "text": [
      "submitting replicate 2 of 5WIV\n"
     ]
    },
    {
     "name": "stderr",
     "output_type": "stream",
     "text": [
      "2021-10-26 13:38:18,245 - htmd.builder.builder - WARNING - Found cis peptide bond in 1 frames: [0] in the omega diheral \"Angle of (ALA 31 CA P0 P) (ALA 31 C P0 P) (GLY 32 N P0 P) (GLY 32 CA P0 P) \" with indexes [121, 127, 129, 131]\n",
      "2021-10-26 13:38:19,673 - htmd.protocols.production_v6 - WARNING - Lipids detected in input structure. We highly recommend setting useconstantratio=True for membrane simulations.\n",
      "2021-10-26 13:38:20,076 - jobqueues.slurmqueue - INFO - Queueing /gpcr/users/daranda/doctorat/GPCR_simulations/simulation_output/production/5WIV/rep_2/\n"
     ]
    },
    {
     "name": "stdout",
     "output_type": "stream",
     "text": [
      "submitting replicate 3 of 5WIV\n"
     ]
    },
    {
     "name": "stderr",
     "output_type": "stream",
     "text": [
      "2021-10-26 13:38:56,285 - htmd.builder.builder - WARNING - Found cis peptide bond in 1 frames: [0] in the omega diheral \"Angle of (ALA 31 CA P0 P) (ALA 31 C P0 P) (GLY 32 N P0 P) (GLY 32 CA P0 P) \" with indexes [121, 127, 129, 131]\n",
      "2021-10-26 13:38:57,713 - htmd.protocols.production_v6 - WARNING - Lipids detected in input structure. We highly recommend setting useconstantratio=True for membrane simulations.\n",
      "2021-10-26 13:38:58,120 - jobqueues.slurmqueue - INFO - Queueing /gpcr/users/daranda/doctorat/GPCR_simulations/simulation_output/production/5WIV/rep_3/\n"
     ]
    },
    {
     "name": "stdout",
     "output_type": "stream",
     "text": [
      "submitting replicate 1 of 6FK7\n"
     ]
    },
    {
     "name": "stderr",
     "output_type": "stream",
     "text": [
      "2021-10-26 13:39:29,470 - htmd.protocols.production_v6 - WARNING - Lipids detected in input structure. We highly recommend setting useconstantratio=True for membrane simulations.\n",
      "2021-10-26 13:39:29,788 - jobqueues.slurmqueue - INFO - Queueing /gpcr/users/daranda/doctorat/GPCR_simulations/simulation_output/production/6FK7_apo/rep_1/\n"
     ]
    },
    {
     "name": "stdout",
     "output_type": "stream",
     "text": [
      "submitting replicate 2 of 6FK7\n"
     ]
    },
    {
     "name": "stderr",
     "output_type": "stream",
     "text": [
      "2021-10-26 13:40:01,724 - htmd.protocols.production_v6 - WARNING - Lipids detected in input structure. We highly recommend setting useconstantratio=True for membrane simulations.\n",
      "2021-10-26 13:40:02,030 - jobqueues.slurmqueue - INFO - Queueing /gpcr/users/daranda/doctorat/GPCR_simulations/simulation_output/production/6FK7_apo/rep_2/\n"
     ]
    },
    {
     "name": "stdout",
     "output_type": "stream",
     "text": [
      "submitting replicate 3 of 6FK7\n"
     ]
    },
    {
     "name": "stderr",
     "output_type": "stream",
     "text": [
      "2021-10-26 13:40:32,937 - htmd.protocols.production_v6 - WARNING - Lipids detected in input structure. We highly recommend setting useconstantratio=True for membrane simulations.\n",
      "2021-10-26 13:40:33,256 - jobqueues.slurmqueue - INFO - Queueing /gpcr/users/daranda/doctorat/GPCR_simulations/simulation_output/production/6FK7_apo/rep_3/\n"
     ]
    },
    {
     "name": "stdout",
     "output_type": "stream",
     "text": [
      "submitting replicate 1 of 6FK7\n"
     ]
    },
    {
     "name": "stderr",
     "output_type": "stream",
     "text": [
      "2021-10-26 13:41:05,349 - htmd.protocols.production_v6 - WARNING - Lipids detected in input structure. We highly recommend setting useconstantratio=True for membrane simulations.\n",
      "2021-10-26 13:41:05,687 - jobqueues.slurmqueue - INFO - Queueing /gpcr/users/daranda/doctorat/GPCR_simulations/simulation_output/production/6FK7/rep_1/\n"
     ]
    },
    {
     "name": "stdout",
     "output_type": "stream",
     "text": [
      "submitting replicate 2 of 6FK7\n"
     ]
    },
    {
     "name": "stderr",
     "output_type": "stream",
     "text": [
      "2021-10-26 13:41:37,156 - htmd.protocols.production_v6 - WARNING - Lipids detected in input structure. We highly recommend setting useconstantratio=True for membrane simulations.\n",
      "2021-10-26 13:41:37,503 - jobqueues.slurmqueue - INFO - Queueing /gpcr/users/daranda/doctorat/GPCR_simulations/simulation_output/production/6FK7/rep_2/\n"
     ]
    },
    {
     "name": "stdout",
     "output_type": "stream",
     "text": [
      "submitting replicate 3 of 6FK7\n"
     ]
    },
    {
     "name": "stderr",
     "output_type": "stream",
     "text": [
      "2021-10-26 13:42:08,934 - htmd.protocols.production_v6 - WARNING - Lipids detected in input structure. We highly recommend setting useconstantratio=True for membrane simulations.\n",
      "2021-10-26 13:42:09,281 - jobqueues.slurmqueue - INFO - Queueing /gpcr/users/daranda/doctorat/GPCR_simulations/simulation_output/production/6FK7/rep_3/\n"
     ]
    },
    {
     "name": "stdout",
     "output_type": "stream",
     "text": [
      "replicate 1 of structure 5NDZ already has been simulated\n",
      "replicate 2 of structure 5NDZ already has been simulated\n",
      "replicate 3 of structure 5NDZ already has been simulated\n",
      "replicate 1 of structure 5NDZ already has been simulated\n",
      "replicate 2 of structure 5NDZ already has been simulated\n",
      "replicate 3 of structure 5NDZ already has been simulated\n",
      "submitting replicate 1 of 5X7D\n"
     ]
    },
    {
     "name": "stderr",
     "output_type": "stream",
     "text": [
      "2021-10-26 13:42:49,550 - htmd.protocols.production_v6 - WARNING - Lipids detected in input structure. We highly recommend setting useconstantratio=True for membrane simulations.\n",
      "2021-10-26 13:42:49,974 - jobqueues.slurmqueue - INFO - Queueing /gpcr/users/daranda/doctorat/GPCR_simulations/simulation_output/production/5X7D_apo/rep_1/\n"
     ]
    },
    {
     "name": "stdout",
     "output_type": "stream",
     "text": [
      "submitting replicate 2 of 5X7D\n"
     ]
    },
    {
     "name": "stderr",
     "output_type": "stream",
     "text": [
      "2021-10-26 13:43:29,356 - htmd.protocols.production_v6 - WARNING - Lipids detected in input structure. We highly recommend setting useconstantratio=True for membrane simulations.\n",
      "2021-10-26 13:43:29,750 - jobqueues.slurmqueue - INFO - Queueing /gpcr/users/daranda/doctorat/GPCR_simulations/simulation_output/production/5X7D_apo/rep_2/\n"
     ]
    },
    {
     "name": "stdout",
     "output_type": "stream",
     "text": [
      "submitting replicate 3 of 5X7D\n"
     ]
    },
    {
     "name": "stderr",
     "output_type": "stream",
     "text": [
      "2021-10-26 13:44:10,773 - htmd.protocols.production_v6 - WARNING - Lipids detected in input structure. We highly recommend setting useconstantratio=True for membrane simulations.\n",
      "2021-10-26 13:44:11,182 - jobqueues.slurmqueue - INFO - Queueing /gpcr/users/daranda/doctorat/GPCR_simulations/simulation_output/production/5X7D_apo/rep_3/\n"
     ]
    },
    {
     "name": "stdout",
     "output_type": "stream",
     "text": [
      "replicate 1 of structure 5X7D already has been simulated\n",
      "submitting replicate 2 of 5X7D\n"
     ]
    },
    {
     "name": "stderr",
     "output_type": "stream",
     "text": [
      "2021-10-26 13:44:51,183 - htmd.protocols.production_v6 - WARNING - Lipids detected in input structure. We highly recommend setting useconstantratio=True for membrane simulations.\n",
      "2021-10-26 13:44:51,639 - jobqueues.slurmqueue - INFO - Queueing /gpcr/users/daranda/doctorat/GPCR_simulations/simulation_output/production/5X7D/rep_2/\n"
     ]
    },
    {
     "name": "stdout",
     "output_type": "stream",
     "text": [
      "submitting replicate 3 of 5X7D\n"
     ]
    },
    {
     "name": "stderr",
     "output_type": "stream",
     "text": [
      "2021-10-26 13:45:37,492 - htmd.protocols.production_v6 - WARNING - Lipids detected in input structure. We highly recommend setting useconstantratio=True for membrane simulations.\n",
      "2021-10-26 13:45:37,941 - jobqueues.slurmqueue - INFO - Queueing /gpcr/users/daranda/doctorat/GPCR_simulations/simulation_output/production/5X7D/rep_3/\n"
     ]
    },
    {
     "name": "stdout",
     "output_type": "stream",
     "text": [
      "replicate 1 of structure 6TQ6 already has been simulated\n",
      "replicate 2 of structure 6TQ6 already has been simulated\n",
      "replicate 3 of structure 6TQ6 already has been simulated\n",
      "replicate 1 of structure 6TQ6 already has been simulated\n",
      "replicate 2 of structure 6TQ6 already has been simulated\n",
      "replicate 3 of structure 6TQ6 already has been simulated\n",
      "replicate 1 of structure 4GPO already has been simulated\n",
      "replicate 2 of structure 4GPO already has been simulated\n",
      "replicate 3 of structure 4GPO already has been simulated\n",
      "submitting replicate 1 of 4GPO\n",
      "model 4GPO could not be send to equilibrate because of  Could not locate file /gpcr/users/daranda/doctorat/GPCR_simulations/simulation_output//equil/4GPO/structure.pdb set by the user for argument Production.acemd.coordinates\n",
      "submitting replicate 2 of 4GPO\n",
      "model 4GPO could not be send to equilibrate because of  Could not locate file /gpcr/users/daranda/doctorat/GPCR_simulations/simulation_output//equil/4GPO/structure.pdb set by the user for argument Production.acemd.coordinates\n",
      "submitting replicate 3 of 4GPO\n",
      "model 4GPO could not be send to equilibrate because of  Could not locate file /gpcr/users/daranda/doctorat/GPCR_simulations/simulation_output//equil/4GPO/structure.pdb set by the user for argument Production.acemd.coordinates\n",
      "submitting replicate 1 of 6IGK\n"
     ]
    },
    {
     "name": "stderr",
     "output_type": "stream",
     "text": [
      "2021-10-26 13:46:10,927 - htmd.builder.builder - WARNING - Found cis peptide bond in 1 frames: [0] in the omega diheral \"Angle of (ILE 212 CA P P) (ILE 212 C P P) (GLY 213 N P P) (GLY 213 CA P P) \" with indexes [2019, 2034, 2036, 2038]\n",
      "2021-10-26 13:46:12,081 - htmd.protocols.production_v6 - WARNING - Lipids detected in input structure. We highly recommend setting useconstantratio=True for membrane simulations.\n",
      "2021-10-26 13:46:12,790 - jobqueues.slurmqueue - INFO - Queueing /gpcr/users/daranda/doctorat/GPCR_simulations/simulation_output/production/6IGK_apo/rep_1/\n"
     ]
    },
    {
     "name": "stdout",
     "output_type": "stream",
     "text": [
      "submitting replicate 2 of 6IGK\n"
     ]
    },
    {
     "name": "stderr",
     "output_type": "stream",
     "text": [
      "2021-10-26 13:46:44,851 - htmd.builder.builder - WARNING - Found cis peptide bond in 1 frames: [0] in the omega diheral \"Angle of (ILE 212 CA P P) (ILE 212 C P P) (GLY 213 N P P) (GLY 213 CA P P) \" with indexes [2019, 2034, 2036, 2038]\n",
      "2021-10-26 13:46:45,993 - htmd.protocols.production_v6 - WARNING - Lipids detected in input structure. We highly recommend setting useconstantratio=True for membrane simulations.\n",
      "2021-10-26 13:46:46,334 - jobqueues.slurmqueue - INFO - Queueing /gpcr/users/daranda/doctorat/GPCR_simulations/simulation_output/production/6IGK_apo/rep_2/\n"
     ]
    },
    {
     "name": "stdout",
     "output_type": "stream",
     "text": [
      "submitting replicate 3 of 6IGK\n"
     ]
    },
    {
     "name": "stderr",
     "output_type": "stream",
     "text": [
      "2021-10-26 13:47:19,504 - htmd.builder.builder - WARNING - Found cis peptide bond in 1 frames: [0] in the omega diheral \"Angle of (ILE 212 CA P P) (ILE 212 C P P) (GLY 213 N P P) (GLY 213 CA P P) \" with indexes [2019, 2034, 2036, 2038]\n",
      "2021-10-26 13:47:20,665 - htmd.protocols.production_v6 - WARNING - Lipids detected in input structure. We highly recommend setting useconstantratio=True for membrane simulations.\n",
      "2021-10-26 13:47:20,988 - jobqueues.slurmqueue - INFO - Queueing /gpcr/users/daranda/doctorat/GPCR_simulations/simulation_output/production/6IGK_apo/rep_3/\n"
     ]
    },
    {
     "name": "stdout",
     "output_type": "stream",
     "text": [
      "submitting replicate 1 of 6IGK\n"
     ]
    },
    {
     "name": "stderr",
     "output_type": "stream",
     "text": [
      "2021-10-26 13:47:52,965 - htmd.builder.builder - WARNING - Found cis peptide bond in 1 frames: [0] in the omega diheral \"Angle of (ILE 212 CA P P) (ILE 212 C P P) (GLY 213 N P P) (GLY 213 CA P P) \" with indexes [2020, 2035, 2037, 2039]\n",
      "2021-10-26 13:47:54,014 - htmd.protocols.production_v6 - WARNING - Lipids detected in input structure. We highly recommend setting useconstantratio=True for membrane simulations.\n",
      "2021-10-26 13:47:54,618 - jobqueues.slurmqueue - INFO - Queueing /gpcr/users/daranda/doctorat/GPCR_simulations/simulation_output/production/6IGK/rep_1/\n"
     ]
    },
    {
     "name": "stdout",
     "output_type": "stream",
     "text": [
      "submitting replicate 2 of 6IGK\n"
     ]
    },
    {
     "name": "stderr",
     "output_type": "stream",
     "text": [
      "2021-10-26 13:48:28,198 - htmd.builder.builder - WARNING - Found cis peptide bond in 1 frames: [0] in the omega diheral \"Angle of (ILE 212 CA P P) (ILE 212 C P P) (GLY 213 N P P) (GLY 213 CA P P) \" with indexes [2020, 2035, 2037, 2039]\n",
      "2021-10-26 13:48:29,355 - htmd.protocols.production_v6 - WARNING - Lipids detected in input structure. We highly recommend setting useconstantratio=True for membrane simulations.\n",
      "2021-10-26 13:48:29,689 - jobqueues.slurmqueue - INFO - Queueing /gpcr/users/daranda/doctorat/GPCR_simulations/simulation_output/production/6IGK/rep_2/\n"
     ]
    },
    {
     "name": "stdout",
     "output_type": "stream",
     "text": [
      "submitting replicate 3 of 6IGK\n"
     ]
    },
    {
     "name": "stderr",
     "output_type": "stream",
     "text": [
      "2021-10-26 13:49:02,089 - htmd.builder.builder - WARNING - Found cis peptide bond in 1 frames: [0] in the omega diheral \"Angle of (ILE 212 CA P P) (ILE 212 C P P) (GLY 213 N P P) (GLY 213 CA P P) \" with indexes [2020, 2035, 2037, 2039]\n",
      "2021-10-26 13:49:03,232 - htmd.protocols.production_v6 - WARNING - Lipids detected in input structure. We highly recommend setting useconstantratio=True for membrane simulations.\n",
      "2021-10-26 13:49:03,557 - jobqueues.slurmqueue - INFO - Queueing /gpcr/users/daranda/doctorat/GPCR_simulations/simulation_output/production/6IGK/rep_3/\n"
     ]
    },
    {
     "name": "stdout",
     "output_type": "stream",
     "text": [
      "replicate 1 of structure 4O9R already has been simulated\n",
      "replicate 2 of structure 4O9R already has been simulated\n",
      "replicate 3 of structure 4O9R already has been simulated\n",
      "replicate 1 of structure 4O9R already has been simulated\n",
      "replicate 2 of structure 4O9R already has been simulated\n",
      "replicate 3 of structure 4O9R already has been simulated\n",
      "replicate 1 of structure 6KNM already has been simulated\n",
      "replicate 2 of structure 6KNM already has been simulated\n",
      "replicate 3 of structure 6KNM already has been simulated\n",
      "replicate 1 of structure 6KNM already has been simulated\n",
      "replicate 2 of structure 6KNM already has been simulated\n",
      "replicate 3 of structure 6KNM already has been simulated\n",
      "replicate 1 of structure 6RZ5 already has been simulated\n",
      "replicate 2 of structure 6RZ5 already has been simulated\n",
      "replicate 3 of structure 6RZ5 already has been simulated\n",
      "replicate 1 of structure 6RZ5 already has been simulated\n",
      "replicate 2 of structure 6RZ5 already has been simulated\n",
      "replicate 3 of structure 6RZ5 already has been simulated\n",
      "replicate 1 of structure 4QIM already has been simulated\n",
      "replicate 2 of structure 4QIM already has been simulated\n",
      "replicate 3 of structure 4QIM already has been simulated\n",
      "replicate 1 of structure 4QIM already has been simulated\n",
      "replicate 2 of structure 4QIM already has been simulated\n",
      "replicate 3 of structure 4QIM already has been simulated\n",
      "replicate 1 of structure 6MH8 already has been simulated\n",
      "replicate 2 of structure 6MH8 already has been simulated\n",
      "replicate 3 of structure 6MH8 already has been simulated\n",
      "replicate 1 of structure 6MH8 already has been simulated\n",
      "replicate 2 of structure 6MH8 already has been simulated\n",
      "replicate 3 of structure 6MH8 already has been simulated\n",
      "submitting replicate 1 of 5ZKB\n"
     ]
    },
    {
     "name": "stderr",
     "output_type": "stream",
     "text": [
      "2021-10-26 13:49:14,193 - moleculekit.readers - WARNING - Non-integer values were read from the PDB \"serial\" field. Dropping PDB values and assigning new ones.\n",
      "2021-10-26 13:49:14,334 - moleculekit.readers - WARNING - Reading PDB file with more than 99999 atoms. Bond information can be wrong.\n",
      "2021-10-26 13:49:47,870 - htmd.protocols.production_v6 - WARNING - Lipids detected in input structure. We highly recommend setting useconstantratio=True for membrane simulations.\n",
      "2021-10-26 13:49:48,618 - jobqueues.slurmqueue - INFO - Queueing /gpcr/users/daranda/doctorat/GPCR_simulations/simulation_output/production/5ZKB_apo/rep_1/\n"
     ]
    },
    {
     "name": "stdout",
     "output_type": "stream",
     "text": [
      "submitting replicate 2 of 5ZKB\n"
     ]
    },
    {
     "name": "stderr",
     "output_type": "stream",
     "text": [
      "2021-10-26 13:49:58,989 - moleculekit.readers - WARNING - Non-integer values were read from the PDB \"serial\" field. Dropping PDB values and assigning new ones.\n",
      "2021-10-26 13:49:59,133 - moleculekit.readers - WARNING - Reading PDB file with more than 99999 atoms. Bond information can be wrong.\n",
      "2021-10-26 13:50:35,811 - htmd.protocols.production_v6 - WARNING - Lipids detected in input structure. We highly recommend setting useconstantratio=True for membrane simulations.\n",
      "2021-10-26 13:50:36,222 - jobqueues.slurmqueue - INFO - Queueing /gpcr/users/daranda/doctorat/GPCR_simulations/simulation_output/production/5ZKB_apo/rep_2/\n"
     ]
    },
    {
     "name": "stdout",
     "output_type": "stream",
     "text": [
      "submitting replicate 3 of 5ZKB\n"
     ]
    },
    {
     "name": "stderr",
     "output_type": "stream",
     "text": [
      "2021-10-26 13:50:46,826 - moleculekit.readers - WARNING - Non-integer values were read from the PDB \"serial\" field. Dropping PDB values and assigning new ones.\n",
      "2021-10-26 13:50:46,973 - moleculekit.readers - WARNING - Reading PDB file with more than 99999 atoms. Bond information can be wrong.\n",
      "2021-10-26 13:51:19,746 - htmd.protocols.production_v6 - WARNING - Lipids detected in input structure. We highly recommend setting useconstantratio=True for membrane simulations.\n",
      "2021-10-26 13:51:20,151 - jobqueues.slurmqueue - INFO - Queueing /gpcr/users/daranda/doctorat/GPCR_simulations/simulation_output/production/5ZKB_apo/rep_3/\n"
     ]
    },
    {
     "name": "stdout",
     "output_type": "stream",
     "text": [
      "submitting replicate 1 of 5ZKB\n"
     ]
    },
    {
     "name": "stderr",
     "output_type": "stream",
     "text": [
      "2021-10-26 13:51:49,224 - htmd.protocols.production_v6 - WARNING - Lipids detected in input structure. We highly recommend setting useconstantratio=True for membrane simulations.\n",
      "2021-10-26 13:51:49,864 - jobqueues.slurmqueue - INFO - Queueing /gpcr/users/daranda/doctorat/GPCR_simulations/simulation_output/production/5ZKB/rep_1/\n"
     ]
    },
    {
     "name": "stdout",
     "output_type": "stream",
     "text": [
      "replicate 2 of structure 5ZKB already has been simulated\n",
      "replicate 3 of structure 5ZKB already has been simulated\n",
      "replicate 1 of structure 6DRY already has been simulated\n",
      "replicate 2 of structure 6DRY already has been simulated\n",
      "replicate 3 of structure 6DRY already has been simulated\n",
      "replicate 1 of structure 6DRY already has been simulated\n",
      "replicate 2 of structure 6DRY already has been simulated\n",
      "replicate 3 of structure 6DRY already has been simulated\n",
      "replicate 1 of structure 4NTJ already has been simulated\n",
      "replicate 2 of structure 4NTJ already has been simulated\n",
      "replicate 3 of structure 4NTJ already has been simulated\n",
      "replicate 1 of structure 4NTJ already has been simulated\n",
      "replicate 2 of structure 4NTJ already has been simulated\n",
      "replicate 3 of structure 4NTJ already has been simulated\n",
      "replicate 1 of structure 2Z73 already has been simulated\n",
      "replicate 2 of structure 2Z73 already has been simulated\n",
      "replicate 3 of structure 2Z73 already has been simulated\n",
      "replicate 1 of structure 2Z73 already has been simulated\n",
      "replicate 2 of structure 2Z73 already has been simulated\n",
      "replicate 3 of structure 2Z73 already has been simulated\n",
      "replicate 1 of structure 6KK1 already has been simulated\n",
      "replicate 2 of structure 6KK1 already has been simulated\n",
      "replicate 3 of structure 6KK1 already has been simulated\n",
      "replicate 1 of structure 6KK1 already has been simulated\n",
      "replicate 2 of structure 6KK1 already has been simulated\n",
      "replicate 3 of structure 6KK1 already has been simulated\n",
      "replicate 1 of structure 5WF6 already has been simulated\n",
      "replicate 2 of structure 5WF6 already has been simulated\n",
      "replicate 3 of structure 5WF6 already has been simulated\n",
      "replicate 1 of structure 5WF6 already has been simulated\n",
      "replicate 2 of structure 5WF6 already has been simulated\n",
      "replicate 3 of structure 5WF6 already has been simulated\n",
      "replicate 1 of structure 6ME7 already has been simulated\n",
      "replicate 2 of structure 6ME7 already has been simulated\n",
      "replicate 3 of structure 6ME7 already has been simulated\n",
      "replicate 1 of structure 6ME7 already has been simulated\n",
      "replicate 2 of structure 6ME7 already has been simulated\n",
      "replicate 3 of structure 6ME7 already has been simulated\n",
      "replicate 1 of structure 5UNF already has been simulated\n",
      "replicate 2 of structure 5UNF already has been simulated\n",
      "submitting replicate 3 of 5UNF\n"
     ]
    },
    {
     "name": "stderr",
     "output_type": "stream",
     "text": [
      "2021-10-26 13:52:20,975 - htmd.builder.builder - WARNING - Found cis peptide bond in 1 frames: [0] in the omega diheral \"Angle of (TYR 148 CA P P) (TYR 148 C P P) (PRO 149 N P P) (PRO 149 CA P P) \" with indexes [1783, 1800, 1802, 1806]\n",
      "2021-10-26 13:52:22,023 - htmd.protocols.production_v6 - WARNING - Lipids detected in input structure. We highly recommend setting useconstantratio=True for membrane simulations.\n",
      "2021-10-26 13:52:22,598 - jobqueues.slurmqueue - INFO - Queueing /gpcr/users/daranda/doctorat/GPCR_simulations/simulation_output/production/5UNF_apo/rep_3/\n"
     ]
    },
    {
     "name": "stdout",
     "output_type": "stream",
     "text": [
      "submitting replicate 1 of 5UNF\n"
     ]
    },
    {
     "name": "stderr",
     "output_type": "stream",
     "text": [
      "2021-10-26 13:52:52,968 - htmd.builder.builder - WARNING - Found cis peptide bond in 1 frames: [0] in the omega diheral \"Angle of (TYR 148 CA P P) (TYR 148 C P P) (PRO 149 N P P) (PRO 149 CA P P) \" with indexes [1865, 1882, 1884, 1888]\n",
      "2021-10-26 13:52:54,019 - htmd.protocols.production_v6 - WARNING - Lipids detected in input structure. We highly recommend setting useconstantratio=True for membrane simulations.\n",
      "2021-10-26 13:52:54,670 - jobqueues.slurmqueue - INFO - Queueing /gpcr/users/daranda/doctorat/GPCR_simulations/simulation_output/production/5UNF/rep_1/\n"
     ]
    },
    {
     "name": "stdout",
     "output_type": "stream",
     "text": [
      "submitting replicate 2 of 5UNF\n"
     ]
    },
    {
     "name": "stderr",
     "output_type": "stream",
     "text": [
      "2021-10-26 13:53:25,230 - htmd.builder.builder - WARNING - Found cis peptide bond in 1 frames: [0] in the omega diheral \"Angle of (TYR 148 CA P P) (TYR 148 C P P) (PRO 149 N P P) (PRO 149 CA P P) \" with indexes [1865, 1882, 1884, 1888]\n",
      "2021-10-26 13:53:26,287 - htmd.protocols.production_v6 - WARNING - Lipids detected in input structure. We highly recommend setting useconstantratio=True for membrane simulations.\n",
      "2021-10-26 13:53:26,625 - jobqueues.slurmqueue - INFO - Queueing /gpcr/users/daranda/doctorat/GPCR_simulations/simulation_output/production/5UNF/rep_2/\n"
     ]
    },
    {
     "name": "stdout",
     "output_type": "stream",
     "text": [
      "submitting replicate 3 of 5UNF\n"
     ]
    },
    {
     "name": "stderr",
     "output_type": "stream",
     "text": [
      "2021-10-26 13:53:56,149 - htmd.builder.builder - WARNING - Found cis peptide bond in 1 frames: [0] in the omega diheral \"Angle of (TYR 148 CA P P) (TYR 148 C P P) (PRO 149 N P P) (PRO 149 CA P P) \" with indexes [1865, 1882, 1884, 1888]\n",
      "2021-10-26 13:53:57,196 - htmd.protocols.production_v6 - WARNING - Lipids detected in input structure. We highly recommend setting useconstantratio=True for membrane simulations.\n",
      "2021-10-26 13:53:57,523 - jobqueues.slurmqueue - INFO - Queueing /gpcr/users/daranda/doctorat/GPCR_simulations/simulation_output/production/5UNF/rep_3/\n"
     ]
    },
    {
     "name": "stdout",
     "output_type": "stream",
     "text": [
      "replicate 1 of structure 5OLH already has been simulated\n",
      "replicate 2 of structure 5OLH already has been simulated\n",
      "replicate 3 of structure 5OLH already has been simulated\n",
      "replicate 1 of structure 5OLH already has been simulated\n",
      "replicate 2 of structure 5OLH already has been simulated\n",
      "replicate 3 of structure 5OLH already has been simulated\n",
      "replicate 1 of structure 5OLZ already has been simulated\n",
      "replicate 2 of structure 5OLZ already has been simulated\n",
      "replicate 3 of structure 5OLZ already has been simulated\n",
      "replicate 1 of structure 5OLZ already has been simulated\n",
      "replicate 2 of structure 5OLZ already has been simulated\n",
      "replicate 3 of structure 5OLZ already has been simulated\n",
      "replicate 1 of structure 5D6L already has been simulated\n",
      "replicate 2 of structure 5D6L already has been simulated\n",
      "replicate 3 of structure 5D6L already has been simulated\n",
      "replicate 1 of structure 5D6L already has been simulated\n",
      "replicate 2 of structure 5D6L already has been simulated\n",
      "replicate 3 of structure 5D6L already has been simulated\n",
      "replicate 1 of structure 5YC8 already has been simulated\n",
      "replicate 2 of structure 5YC8 already has been simulated\n",
      "replicate 3 of structure 5YC8 already has been simulated\n",
      "replicate 1 of structure 5YC8 already has been simulated\n",
      "replicate 2 of structure 5YC8 already has been simulated\n",
      "replicate 3 of structure 5YC8 already has been simulated\n",
      "replicate 1 of structure 6LI1 already has been simulated\n",
      "replicate 2 of structure 6LI1 already has been simulated\n",
      "replicate 3 of structure 6LI1 already has been simulated\n",
      "submitting replicate 1 of 6LI1\n",
      "model 6LI1 could not be send to equilibrate because of  Could not locate file /gpcr/users/daranda/doctorat/GPCR_simulations/simulation_output//equil/6LI1/structure.pdb set by the user for argument Production.acemd.coordinates\n",
      "submitting replicate 2 of 6LI1\n",
      "model 6LI1 could not be send to equilibrate because of  Could not locate file /gpcr/users/daranda/doctorat/GPCR_simulations/simulation_output//equil/6LI1/structure.pdb set by the user for argument Production.acemd.coordinates\n",
      "submitting replicate 3 of 6LI1\n",
      "model 6LI1 could not be send to equilibrate because of  Could not locate file /gpcr/users/daranda/doctorat/GPCR_simulations/simulation_output//equil/6LI1/structure.pdb set by the user for argument Production.acemd.coordinates\n",
      "replicate 1 of structure 6ZDR already has been simulated\n",
      "replicate 2 of structure 6ZDR already has been simulated\n",
      "replicate 3 of structure 6ZDR already has been simulated\n",
      "replicate 1 of structure 6ZDR already has been simulated\n",
      "replicate 2 of structure 6ZDR already has been simulated\n",
      "replicate 3 of structure 6ZDR already has been simulated\n",
      "submitting replicate 1 of 6KJV\n"
     ]
    },
    {
     "name": "stderr",
     "output_type": "stream",
     "text": [
      "2021-10-26 13:54:09,056 - moleculekit.readers - WARNING - Non-integer values were read from the PDB \"serial\" field. Dropping PDB values and assigning new ones.\n",
      "2021-10-26 13:54:09,234 - moleculekit.readers - WARNING - Reading PDB file with more than 99999 atoms. Bond information can be wrong.\n",
      "2021-10-26 13:54:48,116 - htmd.builder.builder - WARNING - Found cis peptide bond in 1 frames: [0] in the omega diheral \"Angle of (PHE 257 CA P P) (PHE 257 C P P) (SER 258 N P P) (SER 258 CA P P) \" with indexes [2040, 2056, 2058, 2060]\n",
      "2021-10-26 13:54:50,139 - htmd.protocols.production_v6 - WARNING - Lipids detected in input structure. We highly recommend setting useconstantratio=True for membrane simulations.\n",
      "2021-10-26 13:54:50,988 - jobqueues.slurmqueue - INFO - Queueing /gpcr/users/daranda/doctorat/GPCR_simulations/simulation_output/production/6KJV_apo/rep_1/\n"
     ]
    },
    {
     "name": "stdout",
     "output_type": "stream",
     "text": [
      "submitting replicate 2 of 6KJV\n"
     ]
    },
    {
     "name": "stderr",
     "output_type": "stream",
     "text": [
      "2021-10-26 13:55:02,375 - moleculekit.readers - WARNING - Non-integer values were read from the PDB \"serial\" field. Dropping PDB values and assigning new ones.\n",
      "2021-10-26 13:55:02,555 - moleculekit.readers - WARNING - Reading PDB file with more than 99999 atoms. Bond information can be wrong.\n",
      "2021-10-26 13:55:48,266 - htmd.builder.builder - WARNING - Found cis peptide bond in 1 frames: [0] in the omega diheral \"Angle of (PHE 257 CA P P) (PHE 257 C P P) (SER 258 N P P) (SER 258 CA P P) \" with indexes [2040, 2056, 2058, 2060]\n",
      "2021-10-26 13:55:50,324 - htmd.protocols.production_v6 - WARNING - Lipids detected in input structure. We highly recommend setting useconstantratio=True for membrane simulations.\n",
      "2021-10-26 13:55:50,813 - jobqueues.slurmqueue - INFO - Queueing /gpcr/users/daranda/doctorat/GPCR_simulations/simulation_output/production/6KJV_apo/rep_2/\n"
     ]
    },
    {
     "name": "stdout",
     "output_type": "stream",
     "text": [
      "submitting replicate 3 of 6KJV\n"
     ]
    },
    {
     "name": "stderr",
     "output_type": "stream",
     "text": [
      "2021-10-26 13:56:02,434 - moleculekit.readers - WARNING - Non-integer values were read from the PDB \"serial\" field. Dropping PDB values and assigning new ones.\n",
      "2021-10-26 13:56:02,613 - moleculekit.readers - WARNING - Reading PDB file with more than 99999 atoms. Bond information can be wrong.\n",
      "2021-10-26 13:56:50,296 - htmd.builder.builder - WARNING - Found cis peptide bond in 1 frames: [0] in the omega diheral \"Angle of (PHE 257 CA P P) (PHE 257 C P P) (SER 258 N P P) (SER 258 CA P P) \" with indexes [2040, 2056, 2058, 2060]\n",
      "2021-10-26 13:56:52,399 - htmd.protocols.production_v6 - WARNING - Lipids detected in input structure. We highly recommend setting useconstantratio=True for membrane simulations.\n",
      "2021-10-26 13:56:52,862 - jobqueues.slurmqueue - INFO - Queueing /gpcr/users/daranda/doctorat/GPCR_simulations/simulation_output/production/6KJV_apo/rep_3/\n"
     ]
    },
    {
     "name": "stdout",
     "output_type": "stream",
     "text": [
      "replicate 1 of structure 6KJV already has been simulated\n",
      "submitting replicate 2 of 6KJV\n"
     ]
    },
    {
     "name": "stderr",
     "output_type": "stream",
     "text": [
      "2021-10-26 13:57:04,407 - moleculekit.readers - WARNING - Non-integer values were read from the PDB \"serial\" field. Dropping PDB values and assigning new ones.\n",
      "2021-10-26 13:57:04,599 - moleculekit.readers - WARNING - Reading PDB file with more than 99999 atoms. Bond information can be wrong.\n",
      "2021-10-26 13:57:52,514 - htmd.builder.builder - WARNING - Found cis peptide bond in 1 frames: [0] in the omega diheral \"Angle of (PHE 257 CA P P) (PHE 257 C P P) (SER 258 N P P) (SER 258 CA P P) \" with indexes [2040, 2056, 2058, 2060]\n",
      "2021-10-26 13:57:54,571 - htmd.protocols.production_v6 - WARNING - Lipids detected in input structure. We highly recommend setting useconstantratio=True for membrane simulations.\n",
      "2021-10-26 13:57:55,612 - jobqueues.slurmqueue - INFO - Queueing /gpcr/users/daranda/doctorat/GPCR_simulations/simulation_output/production/6KJV/rep_2/\n"
     ]
    },
    {
     "name": "stdout",
     "output_type": "stream",
     "text": [
      "replicate 3 of structure 6KJV already has been simulated\n",
      "replicate 1 of structure 6J20 already has been simulated\n",
      "replicate 2 of structure 6J20 already has been simulated\n",
      "replicate 3 of structure 6J20 already has been simulated\n",
      "replicate 1 of structure 6J20 already has been simulated\n",
      "replicate 2 of structure 6J20 already has been simulated\n",
      "replicate 3 of structure 6J20 already has been simulated\n",
      "replicate 1 of structure 5NDD already has been simulated\n",
      "replicate 2 of structure 5NDD already has been simulated\n",
      "replicate 3 of structure 5NDD already has been simulated\n",
      "replicate 1 of structure 5NDD already has been simulated\n",
      "replicate 2 of structure 5NDD already has been simulated\n",
      "replicate 3 of structure 5NDD already has been simulated\n",
      "replicate 1 of structure 6JZH already has been simulated\n",
      "replicate 2 of structure 6JZH already has been simulated\n",
      "replicate 3 of structure 6JZH already has been simulated\n",
      "replicate 1 of structure 6JZH already has been simulated\n",
      "replicate 2 of structure 6JZH already has been simulated\n",
      "replicate 3 of structure 6JZH already has been simulated\n",
      "replicate 1 of structure 6ME4 already has been simulated\n",
      "replicate 2 of structure 6ME4 already has been simulated\n",
      "replicate 3 of structure 6ME4 already has been simulated\n",
      "replicate 1 of structure 6ME4 already has been simulated\n",
      "replicate 2 of structure 6ME4 already has been simulated\n",
      "replicate 3 of structure 6ME4 already has been simulated\n",
      "replicate 1 of structure 5NLX already has been simulated\n",
      "replicate 2 of structure 5NLX already has been simulated\n",
      "replicate 3 of structure 5NLX already has been simulated\n",
      "replicate 1 of structure 5NLX already has been simulated\n",
      "replicate 2 of structure 5NLX already has been simulated\n",
      "replicate 3 of structure 5NLX already has been simulated\n",
      "replicate 1 of structure 3C9L already has been simulated\n",
      "replicate 2 of structure 3C9L already has been simulated\n",
      "replicate 3 of structure 3C9L already has been simulated\n",
      "replicate 1 of structure 3C9L already has been simulated\n",
      "replicate 2 of structure 3C9L already has been simulated\n",
      "replicate 3 of structure 3C9L already has been simulated\n",
      "submitting replicate 1 of 5N2S\n"
     ]
    },
    {
     "name": "stderr",
     "output_type": "stream",
     "text": [
      "2021-10-26 13:58:43,661 - htmd.protocols.production_v6 - WARNING - Lipids detected in input structure. We highly recommend setting useconstantratio=True for membrane simulations.\n",
      "2021-10-26 13:58:44,210 - jobqueues.slurmqueue - INFO - Queueing /gpcr/users/daranda/doctorat/GPCR_simulations/simulation_output/production/5N2S_apo/rep_1/\n"
     ]
    },
    {
     "name": "stdout",
     "output_type": "stream",
     "text": [
      "submitting replicate 2 of 5N2S\n"
     ]
    },
    {
     "name": "stderr",
     "output_type": "stream",
     "text": [
      "2021-10-26 13:59:32,580 - htmd.protocols.production_v6 - WARNING - Lipids detected in input structure. We highly recommend setting useconstantratio=True for membrane simulations.\n",
      "2021-10-26 13:59:32,977 - jobqueues.slurmqueue - INFO - Queueing /gpcr/users/daranda/doctorat/GPCR_simulations/simulation_output/production/5N2S_apo/rep_2/\n"
     ]
    },
    {
     "name": "stdout",
     "output_type": "stream",
     "text": [
      "submitting replicate 3 of 5N2S\n"
     ]
    },
    {
     "name": "stderr",
     "output_type": "stream",
     "text": [
      "2021-10-26 14:00:13,751 - htmd.protocols.production_v6 - WARNING - Lipids detected in input structure. We highly recommend setting useconstantratio=True for membrane simulations.\n",
      "2021-10-26 14:00:26,581 - jobqueues.slurmqueue - INFO - Queueing /gpcr/users/daranda/doctorat/GPCR_simulations/simulation_output/production/5N2S_apo/rep_3/\n"
     ]
    },
    {
     "name": "stdout",
     "output_type": "stream",
     "text": [
      "replicate 1 of structure 5N2S already has been simulated\n",
      "replicate 2 of structure 5N2S already has been simulated\n",
      "replicate 3 of structure 5N2S already has been simulated\n",
      "replicate 1 of structure 5VRA already has been simulated\n",
      "replicate 2 of structure 5VRA already has been simulated\n",
      "replicate 3 of structure 5VRA already has been simulated\n",
      "replicate 1 of structure 5VRA already has been simulated\n",
      "replicate 2 of structure 5VRA already has been simulated\n",
      "replicate 3 of structure 5VRA already has been simulated\n",
      "replicate 1 of structure 6TOD already has been simulated\n",
      "replicate 2 of structure 6TOD already has been simulated\n",
      "replicate 3 of structure 6TOD already has been simulated\n",
      "replicate 1 of structure 6TOD already has been simulated\n",
      "replicate 2 of structure 6TOD already has been simulated\n",
      "replicate 3 of structure 6TOD already has been simulated\n",
      "submitting replicate 1 of 6IIV\n"
     ]
    },
    {
     "name": "stderr",
     "output_type": "stream",
     "text": [
      "2021-10-26 14:01:04,733 - htmd.builder.builder - WARNING - Found cis peptide bond in 1 frames: [0] in the omega diheral \"Angle of (TYR 178 CA P P) (TYR 178 C P P) (PRO 179 N P P) (PRO 179 CA P P) \" with indexes [2586, 2603, 2605, 2609]\n",
      "2021-10-26 14:01:06,051 - htmd.protocols.production_v6 - WARNING - Lipids detected in input structure. We highly recommend setting useconstantratio=True for membrane simulations.\n",
      "2021-10-26 14:01:13,916 - jobqueues.slurmqueue - INFO - Queueing /gpcr/users/daranda/doctorat/GPCR_simulations/simulation_output/production/6IIV_apo/rep_1/\n"
     ]
    },
    {
     "name": "stdout",
     "output_type": "stream",
     "text": [
      "submitting replicate 2 of 6IIV\n"
     ]
    },
    {
     "name": "stderr",
     "output_type": "stream",
     "text": [
      "2021-10-26 14:01:56,601 - htmd.builder.builder - WARNING - Found cis peptide bond in 1 frames: [0] in the omega diheral \"Angle of (TYR 178 CA P P) (TYR 178 C P P) (PRO 179 N P P) (PRO 179 CA P P) \" with indexes [2586, 2603, 2605, 2609]\n",
      "2021-10-26 14:01:58,022 - htmd.protocols.production_v6 - WARNING - Lipids detected in input structure. We highly recommend setting useconstantratio=True for membrane simulations.\n",
      "2021-10-26 14:01:59,107 - jobqueues.slurmqueue - INFO - Queueing /gpcr/users/daranda/doctorat/GPCR_simulations/simulation_output/production/6IIV_apo/rep_2/\n"
     ]
    },
    {
     "name": "stdout",
     "output_type": "stream",
     "text": [
      "submitting replicate 3 of 6IIV\n"
     ]
    },
    {
     "name": "stderr",
     "output_type": "stream",
     "text": [
      "2021-10-26 14:02:35,849 - htmd.builder.builder - WARNING - Found cis peptide bond in 1 frames: [0] in the omega diheral \"Angle of (TYR 178 CA P P) (TYR 178 C P P) (PRO 179 N P P) (PRO 179 CA P P) \" with indexes [2586, 2603, 2605, 2609]\n",
      "2021-10-26 14:02:37,240 - htmd.protocols.production_v6 - WARNING - Lipids detected in input structure. We highly recommend setting useconstantratio=True for membrane simulations.\n",
      "2021-10-26 14:02:37,593 - jobqueues.slurmqueue - INFO - Queueing /gpcr/users/daranda/doctorat/GPCR_simulations/simulation_output/production/6IIV_apo/rep_3/\n"
     ]
    },
    {
     "name": "stdout",
     "output_type": "stream",
     "text": [
      "submitting replicate 1 of 6IIV\n"
     ]
    },
    {
     "name": "stderr",
     "output_type": "stream",
     "text": [
      "2021-10-26 14:03:18,457 - htmd.builder.builder - WARNING - Found cis peptide bond in 1 frames: [0] in the omega diheral \"Angle of (TYR 178 CA P P) (TYR 178 C P P) (PRO 179 N P P) (PRO 179 CA P P) \" with indexes [2699, 2716, 2718, 2722]\n",
      "2021-10-26 14:03:19,789 - htmd.protocols.production_v6 - WARNING - Lipids detected in input structure. We highly recommend setting useconstantratio=True for membrane simulations.\n",
      "2021-10-26 14:03:20,454 - jobqueues.slurmqueue - INFO - Queueing /gpcr/users/daranda/doctorat/GPCR_simulations/simulation_output/production/6IIV/rep_1/\n"
     ]
    },
    {
     "name": "stdout",
     "output_type": "stream",
     "text": [
      "submitting replicate 2 of 6IIV\n"
     ]
    },
    {
     "name": "stderr",
     "output_type": "stream",
     "text": [
      "2021-10-26 14:03:56,623 - htmd.builder.builder - WARNING - Found cis peptide bond in 1 frames: [0] in the omega diheral \"Angle of (TYR 178 CA P P) (TYR 178 C P P) (PRO 179 N P P) (PRO 179 CA P P) \" with indexes [2699, 2716, 2718, 2722]\n",
      "2021-10-26 14:03:57,929 - htmd.protocols.production_v6 - WARNING - Lipids detected in input structure. We highly recommend setting useconstantratio=True for membrane simulations.\n",
      "2021-10-26 14:03:58,351 - jobqueues.slurmqueue - INFO - Queueing /gpcr/users/daranda/doctorat/GPCR_simulations/simulation_output/production/6IIV/rep_2/\n"
     ]
    },
    {
     "name": "stdout",
     "output_type": "stream",
     "text": [
      "submitting replicate 3 of 6IIV\n"
     ]
    },
    {
     "name": "stderr",
     "output_type": "stream",
     "text": [
      "2021-10-26 14:04:35,637 - htmd.builder.builder - WARNING - Found cis peptide bond in 1 frames: [0] in the omega diheral \"Angle of (TYR 178 CA P P) (TYR 178 C P P) (PRO 179 N P P) (PRO 179 CA P P) \" with indexes [2699, 2716, 2718, 2722]\n",
      "2021-10-26 14:04:37,043 - htmd.protocols.production_v6 - WARNING - Lipids detected in input structure. We highly recommend setting useconstantratio=True for membrane simulations.\n",
      "2021-10-26 14:04:37,451 - jobqueues.slurmqueue - INFO - Queueing /gpcr/users/daranda/doctorat/GPCR_simulations/simulation_output/production/6IIV/rep_3/\n"
     ]
    },
    {
     "name": "stdout",
     "output_type": "stream",
     "text": [
      "submitting replicate 1 of 5VBL\n"
     ]
    },
    {
     "name": "stderr",
     "output_type": "stream",
     "text": [
      "2021-10-26 14:05:11,196 - htmd.protocols.production_v6 - WARNING - Lipids detected in input structure. We highly recommend setting useconstantratio=True for membrane simulations.\n",
      "2021-10-26 14:05:11,759 - jobqueues.slurmqueue - INFO - Queueing /gpcr/users/daranda/doctorat/GPCR_simulations/simulation_output/production/5VBL_apo/rep_1/\n"
     ]
    },
    {
     "name": "stdout",
     "output_type": "stream",
     "text": [
      "submitting replicate 2 of 5VBL\n"
     ]
    },
    {
     "name": "stderr",
     "output_type": "stream",
     "text": [
      "2021-10-26 14:05:45,399 - htmd.protocols.production_v6 - WARNING - Lipids detected in input structure. We highly recommend setting useconstantratio=True for membrane simulations.\n",
      "2021-10-26 14:05:45,710 - jobqueues.slurmqueue - INFO - Queueing /gpcr/users/daranda/doctorat/GPCR_simulations/simulation_output/production/5VBL_apo/rep_2/\n"
     ]
    },
    {
     "name": "stdout",
     "output_type": "stream",
     "text": [
      "submitting replicate 3 of 5VBL\n"
     ]
    },
    {
     "name": "stderr",
     "output_type": "stream",
     "text": [
      "2021-10-26 14:06:19,941 - htmd.protocols.production_v6 - WARNING - Lipids detected in input structure. We highly recommend setting useconstantratio=True for membrane simulations.\n",
      "2021-10-26 14:06:20,260 - jobqueues.slurmqueue - INFO - Queueing /gpcr/users/daranda/doctorat/GPCR_simulations/simulation_output/production/5VBL_apo/rep_3/\n"
     ]
    },
    {
     "name": "stdout",
     "output_type": "stream",
     "text": [
      "submitting replicate 1 of 5VBL\n"
     ]
    },
    {
     "name": "stderr",
     "output_type": "stream",
     "text": [
      "2021-10-26 14:06:56,798 - htmd.protocols.production_v6 - WARNING - Lipids detected in input structure. We highly recommend setting useconstantratio=True for membrane simulations.\n",
      "2021-10-26 14:06:57,312 - jobqueues.slurmqueue - INFO - Queueing /gpcr/users/daranda/doctorat/GPCR_simulations/simulation_output/production/5VBL/rep_1/\n"
     ]
    },
    {
     "name": "stdout",
     "output_type": "stream",
     "text": [
      "submitting replicate 2 of 5VBL\n"
     ]
    },
    {
     "name": "stderr",
     "output_type": "stream",
     "text": [
      "2021-10-26 14:07:33,184 - htmd.protocols.production_v6 - WARNING - Lipids detected in input structure. We highly recommend setting useconstantratio=True for membrane simulations.\n",
      "2021-10-26 14:07:33,535 - jobqueues.slurmqueue - INFO - Queueing /gpcr/users/daranda/doctorat/GPCR_simulations/simulation_output/production/5VBL/rep_2/\n"
     ]
    },
    {
     "name": "stdout",
     "output_type": "stream",
     "text": [
      "submitting replicate 3 of 5VBL\n"
     ]
    },
    {
     "name": "stderr",
     "output_type": "stream",
     "text": [
      "2021-10-26 14:08:09,482 - htmd.protocols.production_v6 - WARNING - Lipids detected in input structure. We highly recommend setting useconstantratio=True for membrane simulations.\n",
      "2021-10-26 14:08:09,828 - jobqueues.slurmqueue - INFO - Queueing /gpcr/users/daranda/doctorat/GPCR_simulations/simulation_output/production/5VBL/rep_3/\n"
     ]
    },
    {
     "name": "stdout",
     "output_type": "stream",
     "text": [
      "replicate 1 of structure 6ME6 already has been simulated\n",
      "replicate 2 of structure 6ME6 already has been simulated\n",
      "replicate 3 of structure 6ME6 already has been simulated\n",
      "replicate 1 of structure 6ME6 already has been simulated\n",
      "replicate 2 of structure 6ME6 already has been simulated\n",
      "replicate 3 of structure 6ME6 already has been simulated\n",
      "replicate 1 of structure 4N4W already has been simulated\n",
      "replicate 2 of structure 4N4W already has been simulated\n",
      "replicate 3 of structure 4N4W already has been simulated\n",
      "replicate 1 of structure 4N4W already has been simulated\n",
      "replicate 2 of structure 4N4W already has been simulated\n",
      "replicate 3 of structure 4N4W already has been simulated\n",
      "replicate 1 of structure 6HLP already has been simulated\n",
      "replicate 2 of structure 6HLP already has been simulated\n",
      "replicate 3 of structure 6HLP already has been simulated\n",
      "replicate 1 of structure 6HLP already has been simulated\n",
      "replicate 2 of structure 6HLP already has been simulated\n",
      "replicate 3 of structure 6HLP already has been simulated\n",
      "replicate 1 of structure 6TP6 already has been simulated\n",
      "replicate 2 of structure 6TP6 already has been simulated\n",
      "replicate 3 of structure 6TP6 already has been simulated\n",
      "replicate 1 of structure 6TP6 already has been simulated\n",
      "replicate 2 of structure 6TP6 already has been simulated\n",
      "replicate 3 of structure 6TP6 already has been simulated\n",
      "replicate 1 of structure 5V54 already has been simulated\n",
      "replicate 2 of structure 5V54 already has been simulated\n",
      "replicate 3 of structure 5V54 already has been simulated\n",
      "replicate 1 of structure 5V54 already has been simulated\n",
      "replicate 2 of structure 5V54 already has been simulated\n",
      "replicate 3 of structure 5V54 already has been simulated\n",
      "submitting replicate 1 of 6ME9\n"
     ]
    },
    {
     "name": "stderr",
     "output_type": "stream",
     "text": [
      "2021-10-26 14:08:38,887 - htmd.protocols.production_v6 - WARNING - Lipids detected in input structure. We highly recommend setting useconstantratio=True for membrane simulations.\n",
      "2021-10-26 14:08:39,285 - jobqueues.slurmqueue - INFO - Queueing /gpcr/users/daranda/doctorat/GPCR_simulations/simulation_output/production/6ME9_apo/rep_1/\n"
     ]
    },
    {
     "name": "stdout",
     "output_type": "stream",
     "text": [
      "submitting replicate 2 of 6ME9\n"
     ]
    },
    {
     "name": "stderr",
     "output_type": "stream",
     "text": [
      "2021-10-26 14:09:08,443 - htmd.protocols.production_v6 - WARNING - Lipids detected in input structure. We highly recommend setting useconstantratio=True for membrane simulations.\n",
      "2021-10-26 14:09:08,720 - jobqueues.slurmqueue - INFO - Queueing /gpcr/users/daranda/doctorat/GPCR_simulations/simulation_output/production/6ME9_apo/rep_2/\n"
     ]
    },
    {
     "name": "stdout",
     "output_type": "stream",
     "text": [
      "replicate 3 of structure 6ME9 already has been simulated\n",
      "replicate 1 of structure 6ME9 already has been simulated\n",
      "replicate 2 of structure 6ME9 already has been simulated\n",
      "replicate 3 of structure 6ME9 already has been simulated\n",
      "replicate 1 of structure 5DYS already has been simulated\n",
      "replicate 2 of structure 5DYS already has been simulated\n",
      "replicate 3 of structure 5DYS already has been simulated\n",
      "replicate 1 of structure 5DYS already has been simulated\n",
      "replicate 2 of structure 5DYS already has been simulated\n",
      "replicate 3 of structure 5DYS already has been simulated\n",
      "submitting replicate 1 of 6ZDV\n"
     ]
    },
    {
     "name": "stderr",
     "output_type": "stream",
     "text": [
      "2021-10-26 14:09:46,149 - htmd.builder.builder - WARNING - Found cis peptide bond in 1 frames: [0] in the omega diheral \"Angle of (LEU 216 CA P P) (LEU 216 C P P) (PRO 217 N P P) (PRO 217 CA P P) \" with indexes [3337, 3352, 3354, 3358]\n",
      "2021-10-26 14:09:47,599 - htmd.protocols.production_v6 - WARNING - Lipids detected in input structure. We highly recommend setting useconstantratio=True for membrane simulations.\n",
      "2021-10-26 14:09:48,126 - jobqueues.slurmqueue - INFO - Queueing /gpcr/users/daranda/doctorat/GPCR_simulations/simulation_output/production/6ZDV_apo/rep_1/\n"
     ]
    },
    {
     "name": "stdout",
     "output_type": "stream",
     "text": [
      "submitting replicate 2 of 6ZDV\n"
     ]
    },
    {
     "name": "stderr",
     "output_type": "stream",
     "text": [
      "2021-10-26 14:10:26,069 - htmd.builder.builder - WARNING - Found cis peptide bond in 1 frames: [0] in the omega diheral \"Angle of (LEU 216 CA P P) (LEU 216 C P P) (PRO 217 N P P) (PRO 217 CA P P) \" with indexes [3337, 3352, 3354, 3358]\n",
      "2021-10-26 14:10:27,471 - htmd.protocols.production_v6 - WARNING - Lipids detected in input structure. We highly recommend setting useconstantratio=True for membrane simulations.\n",
      "2021-10-26 14:10:27,822 - jobqueues.slurmqueue - INFO - Queueing /gpcr/users/daranda/doctorat/GPCR_simulations/simulation_output/production/6ZDV_apo/rep_2/\n"
     ]
    },
    {
     "name": "stdout",
     "output_type": "stream",
     "text": [
      "submitting replicate 3 of 6ZDV\n"
     ]
    },
    {
     "name": "stderr",
     "output_type": "stream",
     "text": [
      "2021-10-26 14:11:05,157 - htmd.builder.builder - WARNING - Found cis peptide bond in 1 frames: [0] in the omega diheral \"Angle of (LEU 216 CA P P) (LEU 216 C P P) (PRO 217 N P P) (PRO 217 CA P P) \" with indexes [3337, 3352, 3354, 3358]\n",
      "2021-10-26 14:11:06,600 - htmd.protocols.production_v6 - WARNING - Lipids detected in input structure. We highly recommend setting useconstantratio=True for membrane simulations.\n",
      "2021-10-26 14:11:06,953 - jobqueues.slurmqueue - INFO - Queueing /gpcr/users/daranda/doctorat/GPCR_simulations/simulation_output/production/6ZDV_apo/rep_3/\n"
     ]
    },
    {
     "name": "stdout",
     "output_type": "stream",
     "text": [
      "submitting replicate 1 of 6ZDV\n"
     ]
    },
    {
     "name": "stderr",
     "output_type": "stream",
     "text": [
      "2021-10-26 14:11:44,768 - htmd.builder.builder - WARNING - Found cis peptide bond in 1 frames: [0] in the omega diheral \"Angle of (LEU 216 CA P P) (LEU 216 C P P) (PRO 217 N P P) (PRO 217 CA P P) \" with indexes [3530, 3545, 3547, 3551]\n",
      "2021-10-26 14:11:46,210 - htmd.protocols.production_v6 - WARNING - Lipids detected in input structure. We highly recommend setting useconstantratio=True for membrane simulations.\n",
      "2021-10-26 14:11:46,769 - jobqueues.slurmqueue - INFO - Queueing /gpcr/users/daranda/doctorat/GPCR_simulations/simulation_output/production/6ZDV/rep_1/\n"
     ]
    },
    {
     "name": "stdout",
     "output_type": "stream",
     "text": [
      "submitting replicate 2 of 6ZDV\n"
     ]
    },
    {
     "name": "stderr",
     "output_type": "stream",
     "text": [
      "2021-10-26 14:12:24,642 - htmd.builder.builder - WARNING - Found cis peptide bond in 1 frames: [0] in the omega diheral \"Angle of (LEU 216 CA P P) (LEU 216 C P P) (PRO 217 N P P) (PRO 217 CA P P) \" with indexes [3530, 3545, 3547, 3551]\n",
      "2021-10-26 14:12:26,071 - htmd.protocols.production_v6 - WARNING - Lipids detected in input structure. We highly recommend setting useconstantratio=True for membrane simulations.\n",
      "2021-10-26 14:12:26,464 - jobqueues.slurmqueue - INFO - Queueing /gpcr/users/daranda/doctorat/GPCR_simulations/simulation_output/production/6ZDV/rep_2/\n"
     ]
    },
    {
     "name": "stdout",
     "output_type": "stream",
     "text": [
      "submitting replicate 3 of 6ZDV\n"
     ]
    },
    {
     "name": "stderr",
     "output_type": "stream",
     "text": [
      "2021-10-26 14:13:04,556 - htmd.builder.builder - WARNING - Found cis peptide bond in 1 frames: [0] in the omega diheral \"Angle of (LEU 216 CA P P) (LEU 216 C P P) (PRO 217 N P P) (PRO 217 CA P P) \" with indexes [3530, 3545, 3547, 3551]\n",
      "2021-10-26 14:13:06,012 - htmd.protocols.production_v6 - WARNING - Lipids detected in input structure. We highly recommend setting useconstantratio=True for membrane simulations.\n",
      "2021-10-26 14:13:06,402 - jobqueues.slurmqueue - INFO - Queueing /gpcr/users/daranda/doctorat/GPCR_simulations/simulation_output/production/6ZDV/rep_3/\n"
     ]
    },
    {
     "name": "stdout",
     "output_type": "stream",
     "text": [
      "replicate 1 of structure 1GZM already has been simulated\n",
      "replicate 2 of structure 1GZM already has been simulated\n",
      "replicate 3 of structure 1GZM already has been simulated\n",
      "replicate 1 of structure 1GZM already has been simulated\n",
      "replicate 2 of structure 1GZM already has been simulated\n",
      "replicate 3 of structure 1GZM already has been simulated\n",
      "replicate 1 of structure 6ME5 already has been simulated\n",
      "replicate 2 of structure 6ME5 already has been simulated\n",
      "replicate 3 of structure 6ME5 already has been simulated\n",
      "replicate 1 of structure 6ME5 already has been simulated\n",
      "replicate 2 of structure 6ME5 already has been simulated\n",
      "replicate 3 of structure 6ME5 already has been simulated\n",
      "replicate 1 of structure 6OL9 already has been simulated\n",
      "replicate 2 of structure 6OL9 already has been simulated\n",
      "replicate 3 of structure 6OL9 already has been simulated\n",
      "replicate 1 of structure 6OL9 already has been simulated\n",
      "replicate 2 of structure 6OL9 already has been simulated\n",
      "replicate 3 of structure 6OL9 already has been simulated\n",
      "replicate 1 of structure 5V57 already has been simulated\n",
      "replicate 2 of structure 5V57 already has been simulated\n",
      "replicate 3 of structure 5V57 already has been simulated\n",
      "replicate 1 of structure 5V57 already has been simulated\n",
      "replicate 2 of structure 5V57 already has been simulated\n",
      "replicate 3 of structure 5V57 already has been simulated\n",
      "replicate 1 of structure 6C1Q already has been simulated\n",
      "replicate 2 of structure 6C1Q already has been simulated\n",
      "replicate 3 of structure 6C1Q already has been simulated\n",
      "replicate 1 of structure 6C1Q already has been simulated\n",
      "replicate 2 of structure 6C1Q already has been simulated\n",
      "replicate 3 of structure 6C1Q already has been simulated\n",
      "replicate 1 of structure 5WS3 already has been simulated\n",
      "replicate 2 of structure 5WS3 already has been simulated\n",
      "replicate 3 of structure 5WS3 already has been simulated\n",
      "replicate 1 of structure 5WS3 already has been simulated\n",
      "replicate 2 of structure 5WS3 already has been simulated\n",
      "replicate 3 of structure 5WS3 already has been simulated\n",
      "replicate 1 of structure 6KP6 already has been simulated\n",
      "replicate 2 of structure 6KP6 already has been simulated\n",
      "replicate 3 of structure 6KP6 already has been simulated\n",
      "submitting replicate 1 of 6KP6\n",
      "model 6KP6 could not be send to equilibrate because of  Could not locate file /gpcr/users/daranda/doctorat/GPCR_simulations/simulation_output//equil/6KP6/structure.pdb set by the user for argument Production.acemd.coordinates\n",
      "submitting replicate 2 of 6KP6\n",
      "model 6KP6 could not be send to equilibrate because of  Could not locate file /gpcr/users/daranda/doctorat/GPCR_simulations/simulation_output//equil/6KP6/structure.pdb set by the user for argument Production.acemd.coordinates\n",
      "submitting replicate 3 of 6KP6\n",
      "model 6KP6 could not be send to equilibrate because of  Could not locate file /gpcr/users/daranda/doctorat/GPCR_simulations/simulation_output//equil/6KP6/structure.pdb set by the user for argument Production.acemd.coordinates\n",
      "replicate 1 of structure 6DRZ already has been simulated\n",
      "replicate 2 of structure 6DRZ already has been simulated\n",
      "replicate 3 of structure 6DRZ already has been simulated\n",
      "submitting replicate 1 of 6DRZ\n"
     ]
    },
    {
     "name": "stderr",
     "output_type": "stream",
     "text": [
      "2021-10-26 14:13:41,445 - htmd.protocols.production_v6 - WARNING - Lipids detected in input structure. We highly recommend setting useconstantratio=True for membrane simulations.\n",
      "2021-10-26 14:13:41,959 - jobqueues.slurmqueue - INFO - Queueing /gpcr/users/daranda/doctorat/GPCR_simulations/simulation_output/production/6DRZ/rep_1/\n"
     ]
    },
    {
     "name": "stdout",
     "output_type": "stream",
     "text": [
      "submitting replicate 2 of 6DRZ\n"
     ]
    },
    {
     "name": "stderr",
     "output_type": "stream",
     "text": [
      "2021-10-26 14:14:16,311 - htmd.protocols.production_v6 - WARNING - Lipids detected in input structure. We highly recommend setting useconstantratio=True for membrane simulations.\n",
      "2021-10-26 14:14:16,650 - jobqueues.slurmqueue - INFO - Queueing /gpcr/users/daranda/doctorat/GPCR_simulations/simulation_output/production/6DRZ/rep_2/\n"
     ]
    },
    {
     "name": "stdout",
     "output_type": "stream",
     "text": [
      "replicate 3 of structure 6DRZ already has been simulated\n",
      "replicate 1 of structure 5OLV already has been simulated\n",
      "replicate 2 of structure 5OLV already has been simulated\n",
      "replicate 3 of structure 5OLV already has been simulated\n",
      "replicate 1 of structure 5OLV already has been simulated\n",
      "replicate 2 of structure 5OLV already has been simulated\n",
      "replicate 3 of structure 5OLV already has been simulated\n",
      "replicate 1 of structure 5VEW already has been simulated\n",
      "replicate 2 of structure 5VEW already has been simulated\n",
      "replicate 3 of structure 5VEW already has been simulated\n",
      "replicate 1 of structure 5VEW already has been simulated\n",
      "replicate 2 of structure 5VEW already has been simulated\n",
      "replicate 3 of structure 5VEW already has been simulated\n",
      "submitting replicate 1 of 6DRX\n"
     ]
    },
    {
     "name": "stderr",
     "output_type": "stream",
     "text": [
      "2021-10-26 14:14:53,218 - htmd.protocols.production_v6 - WARNING - Lipids detected in input structure. We highly recommend setting useconstantratio=True for membrane simulations.\n",
      "2021-10-26 14:14:53,650 - jobqueues.slurmqueue - INFO - Queueing /gpcr/users/daranda/doctorat/GPCR_simulations/simulation_output/production/6DRX_apo/rep_1/\n"
     ]
    },
    {
     "name": "stdout",
     "output_type": "stream",
     "text": [
      "submitting replicate 2 of 6DRX\n"
     ]
    },
    {
     "name": "stderr",
     "output_type": "stream",
     "text": [
      "2021-10-26 14:15:25,263 - htmd.protocols.production_v6 - WARNING - Lipids detected in input structure. We highly recommend setting useconstantratio=True for membrane simulations.\n",
      "2021-10-26 14:15:25,552 - jobqueues.slurmqueue - INFO - Queueing /gpcr/users/daranda/doctorat/GPCR_simulations/simulation_output/production/6DRX_apo/rep_2/\n"
     ]
    },
    {
     "name": "stdout",
     "output_type": "stream",
     "text": [
      "submitting replicate 3 of 6DRX\n"
     ]
    },
    {
     "name": "stderr",
     "output_type": "stream",
     "text": [
      "2021-10-26 14:15:57,252 - htmd.protocols.production_v6 - WARNING - Lipids detected in input structure. We highly recommend setting useconstantratio=True for membrane simulations.\n",
      "2021-10-26 14:15:57,546 - jobqueues.slurmqueue - INFO - Queueing /gpcr/users/daranda/doctorat/GPCR_simulations/simulation_output/production/6DRX_apo/rep_3/\n"
     ]
    },
    {
     "name": "stdout",
     "output_type": "stream",
     "text": [
      "submitting replicate 1 of 6DRX\n"
     ]
    },
    {
     "name": "stderr",
     "output_type": "stream",
     "text": [
      "2021-10-26 14:16:28,997 - htmd.protocols.production_v6 - WARNING - Lipids detected in input structure. We highly recommend setting useconstantratio=True for membrane simulations.\n",
      "2021-10-26 14:16:29,481 - jobqueues.slurmqueue - INFO - Queueing /gpcr/users/daranda/doctorat/GPCR_simulations/simulation_output/production/6DRX/rep_1/\n"
     ]
    },
    {
     "name": "stdout",
     "output_type": "stream",
     "text": [
      "submitting replicate 2 of 6DRX\n"
     ]
    },
    {
     "name": "stderr",
     "output_type": "stream",
     "text": [
      "2021-10-26 14:17:01,516 - htmd.protocols.production_v6 - WARNING - Lipids detected in input structure. We highly recommend setting useconstantratio=True for membrane simulations.\n",
      "2021-10-26 14:17:01,838 - jobqueues.slurmqueue - INFO - Queueing /gpcr/users/daranda/doctorat/GPCR_simulations/simulation_output/production/6DRX/rep_2/\n"
     ]
    },
    {
     "name": "stdout",
     "output_type": "stream",
     "text": [
      "submitting replicate 3 of 6DRX\n"
     ]
    },
    {
     "name": "stderr",
     "output_type": "stream",
     "text": [
      "2021-10-26 14:17:33,630 - htmd.protocols.production_v6 - WARNING - Lipids detected in input structure. We highly recommend setting useconstantratio=True for membrane simulations.\n",
      "2021-10-26 14:17:33,958 - jobqueues.slurmqueue - INFO - Queueing /gpcr/users/daranda/doctorat/GPCR_simulations/simulation_output/production/6DRX/rep_3/\n"
     ]
    },
    {
     "name": "stdout",
     "output_type": "stream",
     "text": [
      "replicate 1 of structure 6PS6 already has been simulated\n",
      "replicate 2 of structure 6PS6 already has been simulated\n",
      "replicate 3 of structure 6PS6 already has been simulated\n",
      "replicate 1 of structure 6PS6 already has been simulated\n",
      "replicate 2 of structure 6PS6 already has been simulated\n",
      "replicate 3 of structure 6PS6 already has been simulated\n",
      "replicate 1 of structure 6OBA already has been simulated\n",
      "replicate 2 of structure 6OBA already has been simulated\n",
      "replicate 3 of structure 6OBA already has been simulated\n",
      "replicate 1 of structure 6OBA already has been simulated\n",
      "replicate 2 of structure 6OBA already has been simulated\n",
      "replicate 3 of structure 6OBA already has been simulated\n",
      "replicate 1 of structure 6DS0 already has been simulated\n",
      "replicate 2 of structure 6DS0 already has been simulated\n",
      "replicate 3 of structure 6DS0 already has been simulated\n",
      "replicate 1 of structure 6DS0 already has been simulated\n",
      "replicate 2 of structure 6DS0 already has been simulated\n",
      "replicate 3 of structure 6DS0 already has been simulated\n",
      "replicate 1 of structure 6RZ8 already has been simulated\n",
      "replicate 2 of structure 6RZ8 already has been simulated\n",
      "replicate 3 of structure 6RZ8 already has been simulated\n",
      "replicate 1 of structure 6RZ8 already has been simulated\n",
      "replicate 2 of structure 6RZ8 already has been simulated\n",
      "replicate 3 of structure 6RZ8 already has been simulated\n",
      "submitting replicate 1 of 5WQC\n"
     ]
    },
    {
     "name": "stderr",
     "output_type": "stream",
     "text": [
      "2021-10-26 14:18:15,958 - htmd.protocols.production_v6 - WARNING - Lipids detected in input structure. We highly recommend setting useconstantratio=True for membrane simulations.\n",
      "2021-10-26 14:18:16,500 - jobqueues.slurmqueue - INFO - Queueing /gpcr/users/daranda/doctorat/GPCR_simulations/simulation_output/production/5WQC_apo/rep_1/\n"
     ]
    },
    {
     "name": "stdout",
     "output_type": "stream",
     "text": [
      "submitting replicate 2 of 5WQC\n"
     ]
    },
    {
     "name": "stderr",
     "output_type": "stream",
     "text": [
      "2021-10-26 14:18:57,965 - htmd.protocols.production_v6 - WARNING - Lipids detected in input structure. We highly recommend setting useconstantratio=True for membrane simulations.\n",
      "2021-10-26 14:18:58,336 - jobqueues.slurmqueue - INFO - Queueing /gpcr/users/daranda/doctorat/GPCR_simulations/simulation_output/production/5WQC_apo/rep_2/\n"
     ]
    },
    {
     "name": "stdout",
     "output_type": "stream",
     "text": [
      "submitting replicate 3 of 5WQC\n"
     ]
    },
    {
     "name": "stderr",
     "output_type": "stream",
     "text": [
      "2021-10-26 14:19:41,215 - htmd.protocols.production_v6 - WARNING - Lipids detected in input structure. We highly recommend setting useconstantratio=True for membrane simulations.\n",
      "2021-10-26 14:19:41,580 - jobqueues.slurmqueue - INFO - Queueing /gpcr/users/daranda/doctorat/GPCR_simulations/simulation_output/production/5WQC_apo/rep_3/\n"
     ]
    },
    {
     "name": "stdout",
     "output_type": "stream",
     "text": [
      "submitting replicate 1 of 5WQC\n"
     ]
    },
    {
     "name": "stderr",
     "output_type": "stream",
     "text": [
      "2021-10-26 14:20:24,345 - htmd.protocols.production_v6 - WARNING - Lipids detected in input structure. We highly recommend setting useconstantratio=True for membrane simulations.\n",
      "2021-10-26 14:20:24,950 - jobqueues.slurmqueue - INFO - Queueing /gpcr/users/daranda/doctorat/GPCR_simulations/simulation_output/production/5WQC/rep_1/\n"
     ]
    },
    {
     "name": "stdout",
     "output_type": "stream",
     "text": [
      "submitting replicate 2 of 5WQC\n"
     ]
    },
    {
     "name": "stderr",
     "output_type": "stream",
     "text": [
      "2021-10-26 14:21:05,410 - htmd.protocols.production_v6 - WARNING - Lipids detected in input structure. We highly recommend setting useconstantratio=True for membrane simulations.\n",
      "2021-10-26 14:21:05,806 - jobqueues.slurmqueue - INFO - Queueing /gpcr/users/daranda/doctorat/GPCR_simulations/simulation_output/production/5WQC/rep_2/\n"
     ]
    },
    {
     "name": "stdout",
     "output_type": "stream",
     "text": [
      "submitting replicate 3 of 5WQC\n"
     ]
    },
    {
     "name": "stderr",
     "output_type": "stream",
     "text": [
      "2021-10-26 14:21:46,644 - htmd.protocols.production_v6 - WARNING - Lipids detected in input structure. We highly recommend setting useconstantratio=True for membrane simulations.\n",
      "2021-10-26 14:21:47,047 - jobqueues.slurmqueue - INFO - Queueing /gpcr/users/daranda/doctorat/GPCR_simulations/simulation_output/production/5WQC/rep_3/\n"
     ]
    },
    {
     "name": "stdout",
     "output_type": "stream",
     "text": [
      "replicate 1 of structure 5XR8 already has been simulated\n",
      "replicate 2 of structure 5XR8 already has been simulated\n",
      "replicate 3 of structure 5XR8 already has been simulated\n",
      "submitting replicate 1 of 5XR8\n"
     ]
    },
    {
     "name": "stderr",
     "output_type": "stream",
     "text": [
      "2021-10-26 14:22:19,392 - htmd.protocols.production_v6 - WARNING - Lipids detected in input structure. We highly recommend setting useconstantratio=True for membrane simulations.\n"
     ]
    },
    {
     "name": "stdout",
     "output_type": "stream",
     "text": [
      "model 5XR8 could not be send to equilibrate because of  Could not find any of the files \"output.coor\" specified for command \"bincoordinates\" in path /gpcr/users/daranda/doctorat/GPCR_simulations/simulation_output//equil/5XR8/\n",
      "submitting replicate 2 of 5XR8\n"
     ]
    },
    {
     "name": "stderr",
     "output_type": "stream",
     "text": [
      "2021-10-26 14:22:44,322 - htmd.protocols.production_v6 - WARNING - Lipids detected in input structure. We highly recommend setting useconstantratio=True for membrane simulations.\n"
     ]
    },
    {
     "name": "stdout",
     "output_type": "stream",
     "text": [
      "model 5XR8 could not be send to equilibrate because of  Could not find any of the files \"output.coor\" specified for command \"bincoordinates\" in path /gpcr/users/daranda/doctorat/GPCR_simulations/simulation_output//equil/5XR8/\n",
      "submitting replicate 3 of 5XR8\n"
     ]
    },
    {
     "name": "stderr",
     "output_type": "stream",
     "text": [
      "2021-10-26 14:23:09,353 - htmd.protocols.production_v6 - WARNING - Lipids detected in input structure. We highly recommend setting useconstantratio=True for membrane simulations.\n"
     ]
    },
    {
     "name": "stdout",
     "output_type": "stream",
     "text": [
      "model 5XR8 could not be send to equilibrate because of  Could not find any of the files \"output.coor\" specified for command \"bincoordinates\" in path /gpcr/users/daranda/doctorat/GPCR_simulations/simulation_output//equil/5XR8/\n",
      "replicate 1 of structure 6KK7 already has been simulated\n",
      "replicate 2 of structure 6KK7 already has been simulated\n",
      "replicate 3 of structure 6KK7 already has been simulated\n",
      "replicate 1 of structure 6KK7 already has been simulated\n",
      "replicate 2 of structure 6KK7 already has been simulated\n",
      "replicate 3 of structure 6KK7 already has been simulated\n",
      "replicate 1 of structure 5YQZ already has been simulated\n",
      "replicate 2 of structure 5YQZ already has been simulated\n",
      "replicate 3 of structure 5YQZ already has been simulated\n",
      "replicate 1 of structure 5YQZ already has been simulated\n",
      "replicate 2 of structure 5YQZ already has been simulated\n",
      "replicate 3 of structure 5YQZ already has been simulated\n",
      "replicate 1 of structure 6PS5 already has been simulated\n",
      "submitting replicate 2 of 6PS5\n"
     ]
    },
    {
     "name": "stderr",
     "output_type": "stream",
     "text": [
      "2021-10-26 14:23:41,536 - htmd.protocols.production_v6 - WARNING - Lipids detected in input structure. We highly recommend setting useconstantratio=True for membrane simulations.\n",
      "2021-10-26 14:23:42,066 - jobqueues.slurmqueue - INFO - Queueing /gpcr/users/daranda/doctorat/GPCR_simulations/simulation_output/production/6PS5_apo/rep_2/\n"
     ]
    },
    {
     "name": "stdout",
     "output_type": "stream",
     "text": [
      "submitting replicate 3 of 6PS5\n"
     ]
    },
    {
     "name": "stderr",
     "output_type": "stream",
     "text": [
      "2021-10-26 14:24:20,804 - htmd.protocols.production_v6 - WARNING - Lipids detected in input structure. We highly recommend setting useconstantratio=True for membrane simulations.\n",
      "2021-10-26 14:24:21,151 - jobqueues.slurmqueue - INFO - Queueing /gpcr/users/daranda/doctorat/GPCR_simulations/simulation_output/production/6PS5_apo/rep_3/\n"
     ]
    },
    {
     "name": "stdout",
     "output_type": "stream",
     "text": [
      "submitting replicate 1 of 6PS5\n"
     ]
    },
    {
     "name": "stderr",
     "output_type": "stream",
     "text": [
      "2021-10-26 14:24:58,944 - htmd.protocols.production_v6 - WARNING - Lipids detected in input structure. We highly recommend setting useconstantratio=True for membrane simulations.\n",
      "2021-10-26 14:24:59,540 - jobqueues.slurmqueue - INFO - Queueing /gpcr/users/daranda/doctorat/GPCR_simulations/simulation_output/production/6PS5/rep_1/\n"
     ]
    },
    {
     "name": "stdout",
     "output_type": "stream",
     "text": [
      "submitting replicate 2 of 6PS5\n"
     ]
    },
    {
     "name": "stderr",
     "output_type": "stream",
     "text": [
      "2021-10-26 14:25:38,541 - htmd.protocols.production_v6 - WARNING - Lipids detected in input structure. We highly recommend setting useconstantratio=True for membrane simulations.\n",
      "2021-10-26 14:25:38,928 - jobqueues.slurmqueue - INFO - Queueing /gpcr/users/daranda/doctorat/GPCR_simulations/simulation_output/production/6PS5/rep_2/\n"
     ]
    },
    {
     "name": "stdout",
     "output_type": "stream",
     "text": [
      "submitting replicate 3 of 6PS5\n"
     ]
    },
    {
     "name": "stderr",
     "output_type": "stream",
     "text": [
      "2021-10-26 14:26:18,030 - htmd.protocols.production_v6 - WARNING - Lipids detected in input structure. We highly recommend setting useconstantratio=True for membrane simulations.\n",
      "2021-10-26 14:26:18,420 - jobqueues.slurmqueue - INFO - Queueing /gpcr/users/daranda/doctorat/GPCR_simulations/simulation_output/production/6PS5/rep_3/\n"
     ]
    },
    {
     "name": "stdout",
     "output_type": "stream",
     "text": [
      "replicate 1 of structure 5ZK8 already has been simulated\n",
      "replicate 2 of structure 5ZK8 already has been simulated\n",
      "replicate 3 of structure 5ZK8 already has been simulated\n",
      "replicate 1 of structure 5ZK8 already has been simulated\n",
      "replicate 2 of structure 5ZK8 already has been simulated\n",
      "replicate 3 of structure 5ZK8 already has been simulated\n",
      "replicate 1 of structure 5WIU already has been simulated\n",
      "replicate 2 of structure 5WIU already has been simulated\n",
      "replicate 3 of structure 5WIU already has been simulated\n",
      "replicate 1 of structure 5WIU already has been simulated\n",
      "replicate 2 of structure 5WIU already has been simulated\n",
      "replicate 3 of structure 5WIU already has been simulated\n",
      "replicate 1 of structure 5K2A already has been simulated\n",
      "replicate 2 of structure 5K2A already has been simulated\n",
      "replicate 3 of structure 5K2A already has been simulated\n",
      "replicate 1 of structure 5K2A already has been simulated\n",
      "replicate 2 of structure 5K2A already has been simulated\n",
      "replicate 3 of structure 5K2A already has been simulated\n",
      "submitting replicate 1 of 6FK6\n"
     ]
    },
    {
     "name": "stderr",
     "output_type": "stream",
     "text": [
      "2021-10-26 14:26:48,705 - htmd.builder.builder - WARNING - Found cis peptide bond in 1 frames: [0] in the omega diheral \"Angle of (ASN 326 CA P P) (ASN 326 C P P) (PRO 327 N P P) (PRO 327 CA P P) \" with indexes [5156, 5166, 5168, 5172]\n",
      "2021-10-26 14:26:49,767 - htmd.protocols.production_v6 - WARNING - Lipids detected in input structure. We highly recommend setting useconstantratio=True for membrane simulations.\n",
      "2021-10-26 14:26:50,199 - jobqueues.slurmqueue - INFO - Queueing /gpcr/users/daranda/doctorat/GPCR_simulations/simulation_output/production/6FK6_apo/rep_1/\n"
     ]
    },
    {
     "name": "stdout",
     "output_type": "stream",
     "text": [
      "submitting replicate 2 of 6FK6\n"
     ]
    },
    {
     "name": "stderr",
     "output_type": "stream",
     "text": [
      "2021-10-26 14:27:20,452 - htmd.builder.builder - WARNING - Found cis peptide bond in 1 frames: [0] in the omega diheral \"Angle of (ASN 326 CA P P) (ASN 326 C P P) (PRO 327 N P P) (PRO 327 CA P P) \" with indexes [5156, 5166, 5168, 5172]\n",
      "2021-10-26 14:27:21,525 - htmd.protocols.production_v6 - WARNING - Lipids detected in input structure. We highly recommend setting useconstantratio=True for membrane simulations.\n",
      "2021-10-26 14:27:21,808 - jobqueues.slurmqueue - INFO - Queueing /gpcr/users/daranda/doctorat/GPCR_simulations/simulation_output/production/6FK6_apo/rep_2/\n"
     ]
    },
    {
     "name": "stdout",
     "output_type": "stream",
     "text": [
      "submitting replicate 3 of 6FK6\n"
     ]
    },
    {
     "name": "stderr",
     "output_type": "stream",
     "text": [
      "2021-10-26 14:27:52,902 - htmd.builder.builder - WARNING - Found cis peptide bond in 1 frames: [0] in the omega diheral \"Angle of (ASN 326 CA P P) (ASN 326 C P P) (PRO 327 N P P) (PRO 327 CA P P) \" with indexes [5156, 5166, 5168, 5172]\n",
      "2021-10-26 14:27:53,975 - htmd.protocols.production_v6 - WARNING - Lipids detected in input structure. We highly recommend setting useconstantratio=True for membrane simulations.\n",
      "2021-10-26 14:27:54,263 - jobqueues.slurmqueue - INFO - Queueing /gpcr/users/daranda/doctorat/GPCR_simulations/simulation_output/production/6FK6_apo/rep_3/\n"
     ]
    },
    {
     "name": "stdout",
     "output_type": "stream",
     "text": [
      "submitting replicate 1 of 6FK6\n"
     ]
    },
    {
     "name": "stderr",
     "output_type": "stream",
     "text": [
      "2021-10-26 14:28:25,062 - htmd.builder.builder - WARNING - Found cis peptide bond in 1 frames: [0] in the omega diheral \"Angle of (ASN 326 CA P P) (ASN 326 C P P) (PRO 327 N P P) (PRO 327 CA P P) \" with indexes [5216, 5226, 5228, 5232]\n",
      "2021-10-26 14:28:26,130 - htmd.protocols.production_v6 - WARNING - Lipids detected in input structure. We highly recommend setting useconstantratio=True for membrane simulations.\n",
      "2021-10-26 14:28:26,611 - jobqueues.slurmqueue - INFO - Queueing /gpcr/users/daranda/doctorat/GPCR_simulations/simulation_output/production/6FK6/rep_1/\n"
     ]
    },
    {
     "name": "stdout",
     "output_type": "stream",
     "text": [
      "submitting replicate 2 of 6FK6\n"
     ]
    },
    {
     "name": "stderr",
     "output_type": "stream",
     "text": [
      "2021-10-26 14:28:57,976 - htmd.builder.builder - WARNING - Found cis peptide bond in 1 frames: [0] in the omega diheral \"Angle of (ASN 326 CA P P) (ASN 326 C P P) (PRO 327 N P P) (PRO 327 CA P P) \" with indexes [5216, 5226, 5228, 5232]\n",
      "2021-10-26 14:28:59,069 - htmd.protocols.production_v6 - WARNING - Lipids detected in input structure. We highly recommend setting useconstantratio=True for membrane simulations.\n",
      "2021-10-26 14:28:59,374 - jobqueues.slurmqueue - INFO - Queueing /gpcr/users/daranda/doctorat/GPCR_simulations/simulation_output/production/6FK6/rep_2/\n"
     ]
    },
    {
     "name": "stdout",
     "output_type": "stream",
     "text": [
      "submitting replicate 3 of 6FK6\n"
     ]
    },
    {
     "name": "stderr",
     "output_type": "stream",
     "text": [
      "2021-10-26 14:29:30,235 - htmd.builder.builder - WARNING - Found cis peptide bond in 1 frames: [0] in the omega diheral \"Angle of (ASN 326 CA P P) (ASN 326 C P P) (PRO 327 N P P) (PRO 327 CA P P) \" with indexes [5216, 5226, 5228, 5232]\n",
      "2021-10-26 14:29:31,306 - htmd.protocols.production_v6 - WARNING - Lipids detected in input structure. We highly recommend setting useconstantratio=True for membrane simulations.\n",
      "2021-10-26 14:29:31,620 - jobqueues.slurmqueue - INFO - Queueing /gpcr/users/daranda/doctorat/GPCR_simulations/simulation_output/production/6FK6/rep_3/\n"
     ]
    },
    {
     "name": "stdout",
     "output_type": "stream",
     "text": [
      "replicate 1 of structure 6FK8 already has been simulated\n",
      "submitting replicate 2 of 6FK8\n"
     ]
    },
    {
     "name": "stderr",
     "output_type": "stream",
     "text": [
      "2021-10-26 14:30:03,756 - htmd.builder.builder - WARNING - Found cis peptide bond in 1 frames: [0] in the omega diheral \"Angle of (ASN 326 CA P P) (ASN 326 C P P) (PRO 327 N P P) (PRO 327 CA P P) \" with indexes [5157, 5167, 5169, 5173]\n",
      "2021-10-26 14:30:04,883 - htmd.protocols.production_v6 - WARNING - Lipids detected in input structure. We highly recommend setting useconstantratio=True for membrane simulations.\n",
      "2021-10-26 14:30:05,582 - jobqueues.slurmqueue - INFO - Queueing /gpcr/users/daranda/doctorat/GPCR_simulations/simulation_output/production/6FK8_apo/rep_2/\n"
     ]
    },
    {
     "name": "stdout",
     "output_type": "stream",
     "text": [
      "submitting replicate 3 of 6FK8\n"
     ]
    },
    {
     "name": "stderr",
     "output_type": "stream",
     "text": [
      "2021-10-26 14:30:37,298 - htmd.builder.builder - WARNING - Found cis peptide bond in 1 frames: [0] in the omega diheral \"Angle of (ASN 326 CA P P) (ASN 326 C P P) (PRO 327 N P P) (PRO 327 CA P P) \" with indexes [5157, 5167, 5169, 5173]\n",
      "2021-10-26 14:30:38,399 - htmd.protocols.production_v6 - WARNING - Lipids detected in input structure. We highly recommend setting useconstantratio=True for membrane simulations.\n",
      "2021-10-26 14:30:38,698 - jobqueues.slurmqueue - INFO - Queueing /gpcr/users/daranda/doctorat/GPCR_simulations/simulation_output/production/6FK8_apo/rep_3/\n"
     ]
    },
    {
     "name": "stdout",
     "output_type": "stream",
     "text": [
      "submitting replicate 1 of 6FK8\n"
     ]
    },
    {
     "name": "stderr",
     "output_type": "stream",
     "text": [
      "2021-10-26 14:31:09,952 - htmd.builder.builder - WARNING - Found cis peptide bond in 1 frames: [0] in the omega diheral \"Angle of (ASN 326 CA P P) (ASN 326 C P P) (PRO 327 N P P) (PRO 327 CA P P) \" with indexes [5216, 5226, 5228, 5232]\n",
      "2021-10-26 14:31:11,088 - htmd.protocols.production_v6 - WARNING - Lipids detected in input structure. We highly recommend setting useconstantratio=True for membrane simulations.\n",
      "2021-10-26 14:31:11,777 - jobqueues.slurmqueue - INFO - Queueing /gpcr/users/daranda/doctorat/GPCR_simulations/simulation_output/production/6FK8/rep_1/\n"
     ]
    },
    {
     "name": "stdout",
     "output_type": "stream",
     "text": [
      "submitting replicate 2 of 6FK8\n"
     ]
    },
    {
     "name": "stderr",
     "output_type": "stream",
     "text": [
      "2021-10-26 14:31:43,160 - htmd.builder.builder - WARNING - Found cis peptide bond in 1 frames: [0] in the omega diheral \"Angle of (ASN 326 CA P P) (ASN 326 C P P) (PRO 327 N P P) (PRO 327 CA P P) \" with indexes [5216, 5226, 5228, 5232]\n",
      "2021-10-26 14:31:44,294 - htmd.protocols.production_v6 - WARNING - Lipids detected in input structure. We highly recommend setting useconstantratio=True for membrane simulations.\n",
      "2021-10-26 14:31:44,616 - jobqueues.slurmqueue - INFO - Queueing /gpcr/users/daranda/doctorat/GPCR_simulations/simulation_output/production/6FK8/rep_2/\n"
     ]
    },
    {
     "name": "stdout",
     "output_type": "stream",
     "text": [
      "replicate 3 of structure 6FK8 already has been simulated\n",
      "replicate 1 of structure 4Z9G already has been simulated\n",
      "replicate 2 of structure 4Z9G already has been simulated\n",
      "replicate 3 of structure 4Z9G already has been simulated\n",
      "replicate 1 of structure 4Z9G already has been simulated\n",
      "replicate 2 of structure 4Z9G already has been simulated\n",
      "replicate 3 of structure 4Z9G already has been simulated\n",
      "replicate 1 of structure 4GBR already has been simulated\n",
      "replicate 2 of structure 4GBR already has been simulated\n",
      "replicate 3 of structure 4GBR already has been simulated\n",
      "replicate 1 of structure 4GBR already has been simulated\n",
      "replicate 2 of structure 4GBR already has been simulated\n",
      "replicate 3 of structure 4GBR already has been simulated\n",
      "replicate 1 of structure 5ZK3 already has been simulated\n",
      "replicate 2 of structure 5ZK3 already has been simulated\n",
      "replicate 3 of structure 5ZK3 already has been simulated\n",
      "replicate 1 of structure 5ZK3 already has been simulated\n",
      "replicate 2 of structure 5ZK3 already has been simulated\n",
      "replicate 3 of structure 5ZK3 already has been simulated\n",
      "replicate 1 of structure 6PS1 already has been simulated\n",
      "replicate 2 of structure 6PS1 already has been simulated\n",
      "replicate 3 of structure 6PS1 already has been simulated\n",
      "replicate 1 of structure 6PS1 already has been simulated\n",
      "replicate 2 of structure 6PS1 already has been simulated\n",
      "replicate 3 of structure 6PS1 already has been simulated\n",
      "replicate 1 of structure 6PS0 already has been simulated\n",
      "replicate 2 of structure 6PS0 already has been simulated\n",
      "replicate 3 of structure 6PS0 already has been simulated\n",
      "replicate 1 of structure 6PS0 already has been simulated\n",
      "replicate 2 of structure 6PS0 already has been simulated\n",
      "replicate 3 of structure 6PS0 already has been simulated\n",
      "replicate 1 of structure 6HLL already has been simulated\n",
      "replicate 2 of structure 6HLL already has been simulated\n",
      "replicate 3 of structure 6HLL already has been simulated\n",
      "replicate 1 of structure 6HLL already has been simulated\n",
      "replicate 2 of structure 6HLL already has been simulated\n",
      "replicate 3 of structure 6HLL already has been simulated\n",
      "replicate 1 of structure 6RZ6 already has been simulated\n",
      "replicate 2 of structure 6RZ6 already has been simulated\n",
      "replicate 3 of structure 6RZ6 already has been simulated\n",
      "replicate 1 of structure 6RZ6 already has been simulated\n",
      "replicate 2 of structure 6RZ6 already has been simulated\n",
      "replicate 3 of structure 6RZ6 already has been simulated\n",
      "submitting replicate 1 of 6CM4\n"
     ]
    },
    {
     "name": "stderr",
     "output_type": "stream",
     "text": [
      "2021-10-26 14:32:17,532 - htmd.builder.builder - WARNING - Found cis peptide bond in 1 frames: [0] in the omega diheral \"Angle of (TYR 146 CA P0 P) (TYR 146 C P0 P) (SER 147 N P0 P) (SER 147 CA P0 P) \" with indexes [1918, 1935, 1937, 1939]\n",
      "2021-10-26 14:32:17,534 - htmd.builder.builder - WARNING - Found cis peptide bond in 1 frames: [0] in the omega diheral \"Angle of (ALA 185 CA P0 P) (ALA 185 C P0 P) (ASN 186 N P0 P) (ASN 186 CA P0 P) \" with indexes [2546, 2552, 2554, 2556]\n",
      "2021-10-26 14:32:18,796 - htmd.protocols.production_v6 - WARNING - Lipids detected in input structure. We highly recommend setting useconstantratio=True for membrane simulations.\n",
      "2021-10-26 14:32:19,466 - jobqueues.slurmqueue - INFO - Queueing /gpcr/users/daranda/doctorat/GPCR_simulations/simulation_output/production/6CM4_apo/rep_1/\n"
     ]
    },
    {
     "name": "stdout",
     "output_type": "stream",
     "text": [
      "submitting replicate 2 of 6CM4\n"
     ]
    },
    {
     "name": "stderr",
     "output_type": "stream",
     "text": [
      "2021-10-26 14:32:53,168 - htmd.builder.builder - WARNING - Found cis peptide bond in 1 frames: [0] in the omega diheral \"Angle of (TYR 146 CA P0 P) (TYR 146 C P0 P) (SER 147 N P0 P) (SER 147 CA P0 P) \" with indexes [1918, 1935, 1937, 1939]\n",
      "2021-10-26 14:32:53,170 - htmd.builder.builder - WARNING - Found cis peptide bond in 1 frames: [0] in the omega diheral \"Angle of (ALA 185 CA P0 P) (ALA 185 C P0 P) (ASN 186 N P0 P) (ASN 186 CA P0 P) \" with indexes [2546, 2552, 2554, 2556]\n",
      "2021-10-26 14:32:54,435 - htmd.protocols.production_v6 - WARNING - Lipids detected in input structure. We highly recommend setting useconstantratio=True for membrane simulations.\n",
      "2021-10-26 14:32:54,761 - jobqueues.slurmqueue - INFO - Queueing /gpcr/users/daranda/doctorat/GPCR_simulations/simulation_output/production/6CM4_apo/rep_2/\n"
     ]
    },
    {
     "name": "stdout",
     "output_type": "stream",
     "text": [
      "submitting replicate 3 of 6CM4\n"
     ]
    },
    {
     "name": "stderr",
     "output_type": "stream",
     "text": [
      "2021-10-26 14:33:28,632 - htmd.builder.builder - WARNING - Found cis peptide bond in 1 frames: [0] in the omega diheral \"Angle of (TYR 146 CA P0 P) (TYR 146 C P0 P) (SER 147 N P0 P) (SER 147 CA P0 P) \" with indexes [1918, 1935, 1937, 1939]\n",
      "2021-10-26 14:33:28,634 - htmd.builder.builder - WARNING - Found cis peptide bond in 1 frames: [0] in the omega diheral \"Angle of (ALA 185 CA P0 P) (ALA 185 C P0 P) (ASN 186 N P0 P) (ASN 186 CA P0 P) \" with indexes [2546, 2552, 2554, 2556]\n",
      "2021-10-26 14:33:29,896 - htmd.protocols.production_v6 - WARNING - Lipids detected in input structure. We highly recommend setting useconstantratio=True for membrane simulations.\n",
      "2021-10-26 14:33:30,207 - jobqueues.slurmqueue - INFO - Queueing /gpcr/users/daranda/doctorat/GPCR_simulations/simulation_output/production/6CM4_apo/rep_3/\n"
     ]
    },
    {
     "name": "stdout",
     "output_type": "stream",
     "text": [
      "submitting replicate 1 of 6CM4\n"
     ]
    },
    {
     "name": "stderr",
     "output_type": "stream",
     "text": [
      "2021-10-26 14:34:04,479 - htmd.builder.builder - WARNING - Found cis peptide bond in 1 frames: [0] in the omega diheral \"Angle of (TYR 146 CA P0 P) (TYR 146 C P0 P) (SER 147 N P0 P) (SER 147 CA P0 P) \" with indexes [1982, 1999, 2001, 2003]\n",
      "2021-10-26 14:34:04,481 - htmd.builder.builder - WARNING - Found cis peptide bond in 1 frames: [0] in the omega diheral \"Angle of (ALA 185 CA P0 P) (ALA 185 C P0 P) (ASN 186 N P0 P) (ASN 186 CA P0 P) \" with indexes [2610, 2616, 2618, 2620]\n",
      "2021-10-26 14:34:05,743 - htmd.protocols.production_v6 - WARNING - Lipids detected in input structure. We highly recommend setting useconstantratio=True for membrane simulations.\n",
      "2021-10-26 14:34:06,480 - jobqueues.slurmqueue - INFO - Queueing /gpcr/users/daranda/doctorat/GPCR_simulations/simulation_output/production/6CM4/rep_1/\n"
     ]
    },
    {
     "name": "stdout",
     "output_type": "stream",
     "text": [
      "submitting replicate 2 of 6CM4\n"
     ]
    },
    {
     "name": "stderr",
     "output_type": "stream",
     "text": [
      "2021-10-26 14:34:40,803 - htmd.builder.builder - WARNING - Found cis peptide bond in 1 frames: [0] in the omega diheral \"Angle of (TYR 146 CA P0 P) (TYR 146 C P0 P) (SER 147 N P0 P) (SER 147 CA P0 P) \" with indexes [1982, 1999, 2001, 2003]\n",
      "2021-10-26 14:34:40,805 - htmd.builder.builder - WARNING - Found cis peptide bond in 1 frames: [0] in the omega diheral \"Angle of (ALA 185 CA P0 P) (ALA 185 C P0 P) (ASN 186 N P0 P) (ASN 186 CA P0 P) \" with indexes [2610, 2616, 2618, 2620]\n",
      "2021-10-26 14:34:42,066 - htmd.protocols.production_v6 - WARNING - Lipids detected in input structure. We highly recommend setting useconstantratio=True for membrane simulations.\n",
      "2021-10-26 14:34:42,449 - jobqueues.slurmqueue - INFO - Queueing /gpcr/users/daranda/doctorat/GPCR_simulations/simulation_output/production/6CM4/rep_2/\n"
     ]
    },
    {
     "name": "stdout",
     "output_type": "stream",
     "text": [
      "submitting replicate 3 of 6CM4\n"
     ]
    },
    {
     "name": "stderr",
     "output_type": "stream",
     "text": [
      "2021-10-26 14:35:16,324 - htmd.builder.builder - WARNING - Found cis peptide bond in 1 frames: [0] in the omega diheral \"Angle of (TYR 146 CA P0 P) (TYR 146 C P0 P) (SER 147 N P0 P) (SER 147 CA P0 P) \" with indexes [1982, 1999, 2001, 2003]\n",
      "2021-10-26 14:35:16,326 - htmd.builder.builder - WARNING - Found cis peptide bond in 1 frames: [0] in the omega diheral \"Angle of (ALA 185 CA P0 P) (ALA 185 C P0 P) (ASN 186 N P0 P) (ASN 186 CA P0 P) \" with indexes [2610, 2616, 2618, 2620]\n",
      "2021-10-26 14:35:17,595 - htmd.protocols.production_v6 - WARNING - Lipids detected in input structure. We highly recommend setting useconstantratio=True for membrane simulations.\n",
      "2021-10-26 14:35:17,962 - jobqueues.slurmqueue - INFO - Queueing /gpcr/users/daranda/doctorat/GPCR_simulations/simulation_output/production/6CM4/rep_3/\n"
     ]
    },
    {
     "name": "stdout",
     "output_type": "stream",
     "text": [
      "replicate 1 of structure 6TP4 already has been simulated\n",
      "replicate 2 of structure 6TP4 already has been simulated\n",
      "replicate 3 of structure 6TP4 already has been simulated\n",
      "replicate 1 of structure 6TP4 already has been simulated\n",
      "replicate 2 of structure 6TP4 already has been simulated\n",
      "replicate 3 of structure 6TP4 already has been simulated\n",
      "replicate 1 of structure 5NM2 already has been simulated\n",
      "replicate 2 of structure 5NM2 already has been simulated\n",
      "replicate 3 of structure 5NM2 already has been simulated\n",
      "replicate 1 of structure 5NM2 already has been simulated\n",
      "replicate 2 of structure 5NM2 already has been simulated\n",
      "replicate 3 of structure 5NM2 already has been simulated\n",
      "replicate 1 of structure 6C1R already has been simulated\n",
      "replicate 2 of structure 6C1R already has been simulated\n",
      "replicate 3 of structure 6C1R already has been simulated\n",
      "replicate 1 of structure 6C1R already has been simulated\n",
      "replicate 2 of structure 6C1R already has been simulated\n",
      "replicate 3 of structure 6C1R already has been simulated\n",
      "replicate 1 of structure 5UNG already has been simulated\n",
      "replicate 2 of structure 5UNG already has been simulated\n",
      "replicate 3 of structure 5UNG already has been simulated\n",
      "replicate 1 of structure 5UNG already has been simulated\n",
      "replicate 2 of structure 5UNG already has been simulated\n",
      "replicate 3 of structure 5UNG already has been simulated\n",
      "replicate 1 of structure 5T1A already has been simulated\n",
      "replicate 2 of structure 5T1A already has been simulated\n",
      "replicate 3 of structure 5T1A already has been simulated\n",
      "replicate 1 of structure 5T1A already has been simulated\n",
      "replicate 2 of structure 5T1A already has been simulated\n",
      "replicate 3 of structure 5T1A already has been simulated\n",
      "replicate 1 of structure 5X93 already has been simulated\n",
      "replicate 2 of structure 5X93 already has been simulated\n",
      "replicate 3 of structure 5X93 already has been simulated\n",
      "replicate 1 of structure 5X93 already has been simulated\n",
      "replicate 2 of structure 5X93 already has been simulated\n",
      "replicate 3 of structure 5X93 already has been simulated\n",
      "replicate 1 of structure 5ZBQ already has been simulated\n",
      "replicate 2 of structure 5ZBQ already has been simulated\n",
      "replicate 3 of structure 5ZBQ already has been simulated\n",
      "replicate 1 of structure 5ZBQ already has been simulated\n",
      "replicate 2 of structure 5ZBQ already has been simulated\n",
      "replicate 3 of structure 5ZBQ already has been simulated\n",
      "replicate 1 of structure 6IIU already has been simulated\n",
      "replicate 2 of structure 6IIU already has been simulated\n",
      "replicate 3 of structure 6IIU already has been simulated\n",
      "replicate 1 of structure 6IIU already has been simulated\n",
      "replicate 2 of structure 6IIU already has been simulated\n",
      "replicate 3 of structure 6IIU already has been simulated\n",
      "replicate 1 of structure 6ME8 already has been simulated\n",
      "replicate 2 of structure 6ME8 already has been simulated\n",
      "replicate 3 of structure 6ME8 already has been simulated\n",
      "replicate 1 of structure 6ME8 already has been simulated\n",
      "replicate 2 of structure 6ME8 already has been simulated\n",
      "replicate 3 of structure 6ME8 already has been simulated\n",
      "replicate 1 of structure 6PS3 already has been simulated\n",
      "replicate 2 of structure 6PS3 already has been simulated\n",
      "replicate 3 of structure 6PS3 already has been simulated\n",
      "replicate 1 of structure 6PS3 already has been simulated\n",
      "replicate 2 of structure 6PS3 already has been simulated\n",
      "replicate 3 of structure 6PS3 already has been simulated\n",
      "replicate 1 of structure 6E59 already has been simulated\n",
      "replicate 2 of structure 6E59 already has been simulated\n",
      "replicate 3 of structure 6E59 already has been simulated\n",
      "replicate 1 of structure 6E59 already has been simulated\n",
      "replicate 2 of structure 6E59 already has been simulated\n",
      "replicate 3 of structure 6E59 already has been simulated\n",
      "replicate 1 of structure 6FFI already has been simulated\n",
      "replicate 2 of structure 6FFI already has been simulated\n",
      "replicate 3 of structure 6FFI already has been simulated\n",
      "replicate 1 of structure 6FFI already has been simulated\n",
      "replicate 2 of structure 6FFI already has been simulated\n",
      "replicate 3 of structure 6FFI already has been simulated\n",
      "replicate 1 of structure 6M9T already has been simulated\n",
      "replicate 2 of structure 6M9T already has been simulated\n",
      "replicate 3 of structure 6M9T already has been simulated\n",
      "replicate 1 of structure 6M9T already has been simulated\n",
      "replicate 2 of structure 6M9T already has been simulated\n",
      "replicate 3 of structure 6M9T already has been simulated\n",
      "submitting replicate 1 of 6LW5\n"
     ]
    },
    {
     "name": "stderr",
     "output_type": "stream",
     "text": [
      "2021-10-26 14:35:49,784 - htmd.protocols.production_v6 - WARNING - Lipids detected in input structure. We highly recommend setting useconstantratio=True for membrane simulations.\n",
      "2021-10-26 14:35:50,438 - jobqueues.slurmqueue - INFO - Queueing /gpcr/users/daranda/doctorat/GPCR_simulations/simulation_output/production/6LW5_apo/rep_1/\n"
     ]
    },
    {
     "name": "stdout",
     "output_type": "stream",
     "text": [
      "submitting replicate 2 of 6LW5\n"
     ]
    },
    {
     "name": "stderr",
     "output_type": "stream",
     "text": [
      "2021-10-26 14:36:21,767 - htmd.protocols.production_v6 - WARNING - Lipids detected in input structure. We highly recommend setting useconstantratio=True for membrane simulations.\n",
      "2021-10-26 14:36:22,036 - jobqueues.slurmqueue - INFO - Queueing /gpcr/users/daranda/doctorat/GPCR_simulations/simulation_output/production/6LW5_apo/rep_2/\n"
     ]
    },
    {
     "name": "stdout",
     "output_type": "stream",
     "text": [
      "submitting replicate 3 of 6LW5\n"
     ]
    },
    {
     "name": "stderr",
     "output_type": "stream",
     "text": [
      "2021-10-26 14:36:53,094 - htmd.protocols.production_v6 - WARNING - Lipids detected in input structure. We highly recommend setting useconstantratio=True for membrane simulations.\n",
      "2021-10-26 14:36:53,366 - jobqueues.slurmqueue - INFO - Queueing /gpcr/users/daranda/doctorat/GPCR_simulations/simulation_output/production/6LW5_apo/rep_3/\n"
     ]
    },
    {
     "name": "stdout",
     "output_type": "stream",
     "text": [
      "submitting replicate 1 of 6LW5\n"
     ]
    },
    {
     "name": "stderr",
     "output_type": "stream",
     "text": [
      "2021-10-26 14:37:25,313 - htmd.protocols.production_v6 - WARNING - Lipids detected in input structure. We highly recommend setting useconstantratio=True for membrane simulations.\n",
      "2021-10-26 14:37:26,169 - jobqueues.slurmqueue - INFO - Queueing /gpcr/users/daranda/doctorat/GPCR_simulations/simulation_output/production/6LW5/rep_1/\n"
     ]
    },
    {
     "name": "stdout",
     "output_type": "stream",
     "text": [
      "submitting replicate 2 of 6LW5\n"
     ]
    },
    {
     "name": "stderr",
     "output_type": "stream",
     "text": [
      "2021-10-26 14:37:58,243 - htmd.protocols.production_v6 - WARNING - Lipids detected in input structure. We highly recommend setting useconstantratio=True for membrane simulations.\n",
      "2021-10-26 14:37:58,555 - jobqueues.slurmqueue - INFO - Queueing /gpcr/users/daranda/doctorat/GPCR_simulations/simulation_output/production/6LW5/rep_2/\n"
     ]
    },
    {
     "name": "stdout",
     "output_type": "stream",
     "text": [
      "submitting replicate 3 of 6LW5\n"
     ]
    },
    {
     "name": "stderr",
     "output_type": "stream",
     "text": [
      "2021-10-26 14:38:29,719 - htmd.protocols.production_v6 - WARNING - Lipids detected in input structure. We highly recommend setting useconstantratio=True for membrane simulations.\n",
      "2021-10-26 14:38:30,032 - jobqueues.slurmqueue - INFO - Queueing /gpcr/users/daranda/doctorat/GPCR_simulations/simulation_output/production/6LW5/rep_3/\n"
     ]
    },
    {
     "name": "stdout",
     "output_type": "stream",
     "text": [
      "replicate 1 of structure 6TQ4 already has been simulated\n",
      "replicate 2 of structure 6TQ4 already has been simulated\n",
      "replicate 3 of structure 6TQ4 already has been simulated\n",
      "replicate 1 of structure 6TQ4 already has been simulated\n",
      "replicate 2 of structure 6TQ4 already has been simulated\n",
      "replicate 3 of structure 6TQ4 already has been simulated\n",
      "replicate 1 of structure 4XES already has been simulated\n",
      "replicate 2 of structure 4XES already has been simulated\n",
      "replicate 3 of structure 4XES already has been simulated\n",
      "replicate 1 of structure 4XES already has been simulated\n",
      "replicate 2 of structure 4XES already has been simulated\n",
      "replicate 3 of structure 4XES already has been simulated\n",
      "replicate 1 of structure 5MZP already has been simulated\n",
      "replicate 2 of structure 5MZP already has been simulated\n",
      "replicate 3 of structure 5MZP already has been simulated\n",
      "replicate 1 of structure 5MZP already has been simulated\n",
      "replicate 2 of structure 5MZP already has been simulated\n",
      "replicate 3 of structure 5MZP already has been simulated\n",
      "replicate 1 of structure 6FKA already has been simulated\n",
      "replicate 2 of structure 6FKA already has been simulated\n",
      "replicate 3 of structure 6FKA already has been simulated\n",
      "replicate 1 of structure 6FKA already has been simulated\n",
      "replicate 2 of structure 6FKA already has been simulated\n",
      "replicate 3 of structure 6FKA already has been simulated\n",
      "replicate 1 of structure 6TQ9 already has been simulated\n",
      "replicate 2 of structure 6TQ9 already has been simulated\n",
      "replicate 3 of structure 6TQ9 already has been simulated\n",
      "replicate 1 of structure 6TQ9 already has been simulated\n",
      "replicate 2 of structure 6TQ9 already has been simulated\n",
      "replicate 3 of structure 6TQ9 already has been simulated\n",
      "replicate 1 of structure 5K2B already has been simulated\n",
      "replicate 2 of structure 5K2B already has been simulated\n",
      "replicate 3 of structure 5K2B already has been simulated\n",
      "replicate 1 of structure 5K2B already has been simulated\n",
      "replicate 2 of structure 5K2B already has been simulated\n",
      "replicate 3 of structure 5K2B already has been simulated\n",
      "replicate 1 of structure 6D27 already has been simulated\n",
      "replicate 2 of structure 6D27 already has been simulated\n",
      "replicate 3 of structure 6D27 already has been simulated\n",
      "replicate 1 of structure 6D27 already has been simulated\n",
      "replicate 2 of structure 6D27 already has been simulated\n",
      "replicate 3 of structure 6D27 already has been simulated\n",
      "replicate 1 of structure 3C9M already has been simulated\n",
      "replicate 2 of structure 3C9M already has been simulated\n",
      "replicate 3 of structure 3C9M already has been simulated\n",
      "replicate 1 of structure 3C9M already has been simulated\n",
      "replicate 2 of structure 3C9M already has been simulated\n",
      "replicate 3 of structure 3C9M already has been simulated\n",
      "replicate 1 of structure 6AK3 already has been simulated\n",
      "replicate 2 of structure 6AK3 already has been simulated\n",
      "replicate 3 of structure 6AK3 already has been simulated\n",
      "replicate 1 of structure 6AK3 already has been simulated\n",
      "replicate 2 of structure 6AK3 already has been simulated\n",
      "replicate 3 of structure 6AK3 already has been simulated\n",
      "replicate 1 of structure 2YCZ already has been simulated\n",
      "replicate 2 of structure 2YCZ already has been simulated\n",
      "replicate 3 of structure 2YCZ already has been simulated\n",
      "replicate 1 of structure 2YCZ already has been simulated\n",
      "replicate 2 of structure 2YCZ already has been simulated\n",
      "replicate 3 of structure 2YCZ already has been simulated\n",
      "replicate 1 of structure 6PS2 already has been simulated\n",
      "replicate 2 of structure 6PS2 already has been simulated\n",
      "replicate 3 of structure 6PS2 already has been simulated\n",
      "replicate 1 of structure 6PS2 already has been simulated\n",
      "replicate 2 of structure 6PS2 already has been simulated\n",
      "replicate 3 of structure 6PS2 already has been simulated\n",
      "replicate 1 of structure 6AKY already has been simulated\n",
      "replicate 2 of structure 6AKY already has been simulated\n",
      "replicate 3 of structure 6AKY already has been simulated\n",
      "replicate 1 of structure 6AKY already has been simulated\n",
      "replicate 2 of structure 6AKY already has been simulated\n",
      "replicate 3 of structure 6AKY already has been simulated\n",
      "replicate 1 of structure 6D26 already has been simulated\n",
      "replicate 2 of structure 6D26 already has been simulated\n",
      "replicate 3 of structure 6D26 already has been simulated\n",
      "replicate 1 of structure 6D26 already has been simulated\n",
      "replicate 2 of structure 6D26 already has been simulated\n",
      "replicate 3 of structure 6D26 already has been simulated\n",
      "replicate 1 of structure 5O9H already has been simulated\n",
      "replicate 2 of structure 5O9H already has been simulated\n",
      "replicate 3 of structure 5O9H already has been simulated\n",
      "replicate 1 of structure 5O9H already has been simulated\n",
      "replicate 2 of structure 5O9H already has been simulated\n",
      "replicate 3 of structure 5O9H already has been simulated\n",
      "replicate 1 of structure 5F8U already has been simulated\n",
      "replicate 2 of structure 5F8U already has been simulated\n",
      "replicate 3 of structure 5F8U already has been simulated\n",
      "replicate 1 of structure 5F8U already has been simulated\n",
      "replicate 2 of structure 5F8U already has been simulated\n",
      "replicate 3 of structure 5F8U already has been simulated\n",
      "replicate 1 of structure 5JTB already has been simulated\n",
      "replicate 2 of structure 5JTB already has been simulated\n",
      "replicate 3 of structure 5JTB already has been simulated\n",
      "replicate 1 of structure 5JTB already has been simulated\n",
      "replicate 2 of structure 5JTB already has been simulated\n",
      "replicate 3 of structure 5JTB already has been simulated\n",
      "replicate 1 of structure 5ZKQ already has been simulated\n",
      "replicate 2 of structure 5ZKQ already has been simulated\n",
      "replicate 3 of structure 5ZKQ already has been simulated\n",
      "replicate 1 of structure 5ZKQ already has been simulated\n",
      "replicate 2 of structure 5ZKQ already has been simulated\n",
      "replicate 3 of structure 5ZKQ already has been simulated\n",
      "submitting replicate 1 of 6GPS\n"
     ]
    },
    {
     "name": "stderr",
     "output_type": "stream",
     "text": [
      "2021-10-26 14:38:56,927 - htmd.protocols.production_v6 - WARNING - Lipids detected in input structure. We highly recommend setting useconstantratio=True for membrane simulations.\n",
      "2021-10-26 14:38:57,853 - jobqueues.slurmqueue - INFO - Queueing /gpcr/users/daranda/doctorat/GPCR_simulations/simulation_output/production/6GPS_apo/rep_1/\n"
     ]
    },
    {
     "name": "stdout",
     "output_type": "stream",
     "text": [
      "submitting replicate 2 of 6GPS\n"
     ]
    },
    {
     "name": "stderr",
     "output_type": "stream",
     "text": [
      "2021-10-26 14:39:24,726 - htmd.protocols.production_v6 - WARNING - Lipids detected in input structure. We highly recommend setting useconstantratio=True for membrane simulations.\n",
      "2021-10-26 14:39:24,971 - jobqueues.slurmqueue - INFO - Queueing /gpcr/users/daranda/doctorat/GPCR_simulations/simulation_output/production/6GPS_apo/rep_2/\n"
     ]
    },
    {
     "name": "stdout",
     "output_type": "stream",
     "text": [
      "submitting replicate 3 of 6GPS\n"
     ]
    },
    {
     "name": "stderr",
     "output_type": "stream",
     "text": [
      "2021-10-26 14:39:51,700 - htmd.protocols.production_v6 - WARNING - Lipids detected in input structure. We highly recommend setting useconstantratio=True for membrane simulations.\n",
      "2021-10-26 14:39:51,941 - jobqueues.slurmqueue - INFO - Queueing /gpcr/users/daranda/doctorat/GPCR_simulations/simulation_output/production/6GPS_apo/rep_3/\n"
     ]
    },
    {
     "name": "stdout",
     "output_type": "stream",
     "text": [
      "submitting replicate 1 of 6GPS\n"
     ]
    },
    {
     "name": "stderr",
     "output_type": "stream",
     "text": [
      "2021-10-26 14:40:19,199 - htmd.protocols.production_v6 - WARNING - Lipids detected in input structure. We highly recommend setting useconstantratio=True for membrane simulations.\n",
      "2021-10-26 14:40:19,885 - jobqueues.slurmqueue - INFO - Queueing /gpcr/users/daranda/doctorat/GPCR_simulations/simulation_output/production/6GPS/rep_1/\n"
     ]
    },
    {
     "name": "stdout",
     "output_type": "stream",
     "text": [
      "submitting replicate 2 of 6GPS\n"
     ]
    },
    {
     "name": "stderr",
     "output_type": "stream",
     "text": [
      "2021-10-26 14:40:47,127 - htmd.protocols.production_v6 - WARNING - Lipids detected in input structure. We highly recommend setting useconstantratio=True for membrane simulations.\n",
      "2021-10-26 14:40:47,401 - jobqueues.slurmqueue - INFO - Queueing /gpcr/users/daranda/doctorat/GPCR_simulations/simulation_output/production/6GPS/rep_2/\n"
     ]
    },
    {
     "name": "stdout",
     "output_type": "stream",
     "text": [
      "submitting replicate 3 of 6GPS\n"
     ]
    },
    {
     "name": "stderr",
     "output_type": "stream",
     "text": [
      "2021-10-26 14:41:13,435 - htmd.protocols.production_v6 - WARNING - Lipids detected in input structure. We highly recommend setting useconstantratio=True for membrane simulations.\n",
      "2021-10-26 14:41:13,707 - jobqueues.slurmqueue - INFO - Queueing /gpcr/users/daranda/doctorat/GPCR_simulations/simulation_output/production/6GPS/rep_3/\n"
     ]
    },
    {
     "name": "stdout",
     "output_type": "stream",
     "text": [
      "replicate 1 of structure 5OM4 already has been simulated\n",
      "replicate 2 of structure 5OM4 already has been simulated\n",
      "replicate 3 of structure 5OM4 already has been simulated\n",
      "replicate 1 of structure 5OM4 already has been simulated\n",
      "replicate 2 of structure 5OM4 already has been simulated\n",
      "replicate 3 of structure 5OM4 already has been simulated\n",
      "replicate 1 of structure 6FFH already has been simulated\n",
      "replicate 2 of structure 6FFH already has been simulated\n",
      "replicate 3 of structure 6FFH already has been simulated\n",
      "replicate 1 of structure 6FFH already has been simulated\n",
      "replicate 2 of structure 6FFH already has been simulated\n",
      "replicate 3 of structure 6FFH already has been simulated\n",
      "replicate 1 of structure 5NX2 already has been simulated\n",
      "replicate 2 of structure 5NX2 already has been simulated\n",
      "replicate 3 of structure 5NX2 already has been simulated\n",
      "replicate 1 of structure 5NX2 already has been simulated\n",
      "replicate 2 of structure 5NX2 already has been simulated\n",
      "replicate 3 of structure 5NX2 already has been simulated\n",
      "submitting replicate 1 of 6FK9\n"
     ]
    },
    {
     "name": "stderr",
     "output_type": "stream",
     "text": [
      "2021-10-26 14:41:45,858 - htmd.protocols.production_v6 - WARNING - Lipids detected in input structure. We highly recommend setting useconstantratio=True for membrane simulations.\n",
      "2021-10-26 14:41:46,527 - jobqueues.slurmqueue - INFO - Queueing /gpcr/users/daranda/doctorat/GPCR_simulations/simulation_output/production/6FK9_apo/rep_1/\n"
     ]
    },
    {
     "name": "stdout",
     "output_type": "stream",
     "text": [
      "submitting replicate 2 of 6FK9\n"
     ]
    },
    {
     "name": "stderr",
     "output_type": "stream",
     "text": [
      "2021-10-26 14:42:18,498 - htmd.protocols.production_v6 - WARNING - Lipids detected in input structure. We highly recommend setting useconstantratio=True for membrane simulations.\n",
      "2021-10-26 14:42:18,774 - jobqueues.slurmqueue - INFO - Queueing /gpcr/users/daranda/doctorat/GPCR_simulations/simulation_output/production/6FK9_apo/rep_2/\n"
     ]
    },
    {
     "name": "stdout",
     "output_type": "stream",
     "text": [
      "replicate 3 of structure 6FK9 already has been simulated\n",
      "submitting replicate 1 of 6FK9\n"
     ]
    },
    {
     "name": "stderr",
     "output_type": "stream",
     "text": [
      "2021-10-26 14:42:51,362 - htmd.protocols.production_v6 - WARNING - Lipids detected in input structure. We highly recommend setting useconstantratio=True for membrane simulations.\n",
      "2021-10-26 14:42:52,106 - jobqueues.slurmqueue - INFO - Queueing /gpcr/users/daranda/doctorat/GPCR_simulations/simulation_output/production/6FK9/rep_1/\n"
     ]
    },
    {
     "name": "stdout",
     "output_type": "stream",
     "text": [
      "replicate 2 of structure 6FK9 already has been simulated\n",
      "replicate 3 of structure 6FK9 already has been simulated\n",
      "replicate 1 of structure 6FKB already has been simulated\n",
      "replicate 2 of structure 6FKB already has been simulated\n",
      "replicate 3 of structure 6FKB already has been simulated\n",
      "replicate 1 of structure 6FKB already has been simulated\n",
      "replicate 2 of structure 6FKB already has been simulated\n",
      "replicate 3 of structure 6FKB already has been simulated\n",
      "submitting replicate 1 of 5NM4\n"
     ]
    },
    {
     "name": "stderr",
     "output_type": "stream",
     "text": [
      "2021-10-26 14:43:28,254 - htmd.builder.builder - WARNING - Found cis peptide bond in 1 frames: [0] in the omega diheral \"Angle of (LEU 216 CA P P) (LEU 216 C P P) (PRO 217 N P P) (PRO 217 CA P P) \" with indexes [3337, 3352, 3354, 3358]\n",
      "2021-10-26 14:43:28,255 - htmd.builder.builder - WARNING - Found cis peptide bond in 1 frames: [0] in the omega diheral \"Angle of (PRO 217 CA P P) (PRO 217 C P P) (GLY 218 N P P) (GLY 218 CA P P) \" with indexes [3358, 3366, 3368, 3370]\n",
      "2021-10-26 14:43:29,471 - htmd.protocols.production_v6 - WARNING - Lipids detected in input structure. We highly recommend setting useconstantratio=True for membrane simulations.\n",
      "2021-10-26 14:43:30,197 - jobqueues.slurmqueue - INFO - Queueing /gpcr/users/daranda/doctorat/GPCR_simulations/simulation_output/production/5NM4_apo/rep_1/\n"
     ]
    },
    {
     "name": "stdout",
     "output_type": "stream",
     "text": [
      "submitting replicate 2 of 5NM4\n"
     ]
    },
    {
     "name": "stderr",
     "output_type": "stream",
     "text": [
      "2021-10-26 14:44:05,425 - htmd.builder.builder - WARNING - Found cis peptide bond in 1 frames: [0] in the omega diheral \"Angle of (LEU 216 CA P P) (LEU 216 C P P) (PRO 217 N P P) (PRO 217 CA P P) \" with indexes [3337, 3352, 3354, 3358]\n",
      "2021-10-26 14:44:05,427 - htmd.builder.builder - WARNING - Found cis peptide bond in 1 frames: [0] in the omega diheral \"Angle of (PRO 217 CA P P) (PRO 217 C P P) (GLY 218 N P P) (GLY 218 CA P P) \" with indexes [3358, 3366, 3368, 3370]\n",
      "2021-10-26 14:44:06,760 - htmd.protocols.production_v6 - WARNING - Lipids detected in input structure. We highly recommend setting useconstantratio=True for membrane simulations.\n",
      "2021-10-26 14:44:07,081 - jobqueues.slurmqueue - INFO - Queueing /gpcr/users/daranda/doctorat/GPCR_simulations/simulation_output/production/5NM4_apo/rep_2/\n"
     ]
    },
    {
     "name": "stdout",
     "output_type": "stream",
     "text": [
      "submitting replicate 3 of 5NM4\n"
     ]
    },
    {
     "name": "stderr",
     "output_type": "stream",
     "text": [
      "2021-10-26 14:44:43,210 - htmd.builder.builder - WARNING - Found cis peptide bond in 1 frames: [0] in the omega diheral \"Angle of (LEU 216 CA P P) (LEU 216 C P P) (PRO 217 N P P) (PRO 217 CA P P) \" with indexes [3337, 3352, 3354, 3358]\n",
      "2021-10-26 14:44:43,212 - htmd.builder.builder - WARNING - Found cis peptide bond in 1 frames: [0] in the omega diheral \"Angle of (PRO 217 CA P P) (PRO 217 C P P) (GLY 218 N P P) (GLY 218 CA P P) \" with indexes [3358, 3366, 3368, 3370]\n",
      "2021-10-26 14:44:44,547 - htmd.protocols.production_v6 - WARNING - Lipids detected in input structure. We highly recommend setting useconstantratio=True for membrane simulations.\n",
      "2021-10-26 14:44:44,872 - jobqueues.slurmqueue - INFO - Queueing /gpcr/users/daranda/doctorat/GPCR_simulations/simulation_output/production/5NM4_apo/rep_3/\n"
     ]
    },
    {
     "name": "stdout",
     "output_type": "stream",
     "text": [
      "submitting replicate 1 of 5NM4\n"
     ]
    },
    {
     "name": "stderr",
     "output_type": "stream",
     "text": [
      "2021-10-26 14:45:20,654 - htmd.builder.builder - WARNING - Found cis peptide bond in 1 frames: [0] in the omega diheral \"Angle of (LEU 216 CA P P) (LEU 216 C P P) (PRO 217 N P P) (PRO 217 CA P P) \" with indexes [3526, 3541, 3543, 3547]\n",
      "2021-10-26 14:45:20,656 - htmd.builder.builder - WARNING - Found cis peptide bond in 1 frames: [0] in the omega diheral \"Angle of (PRO 217 CA P P) (PRO 217 C P P) (GLY 218 N P P) (GLY 218 CA P P) \" with indexes [3547, 3555, 3557, 3559]\n",
      "2021-10-26 14:45:21,896 - htmd.protocols.production_v6 - WARNING - Lipids detected in input structure. We highly recommend setting useconstantratio=True for membrane simulations.\n",
      "2021-10-26 14:45:22,703 - jobqueues.slurmqueue - INFO - Queueing /gpcr/users/daranda/doctorat/GPCR_simulations/simulation_output/production/5NM4/rep_1/\n"
     ]
    },
    {
     "name": "stdout",
     "output_type": "stream",
     "text": [
      "submitting replicate 2 of 5NM4\n"
     ]
    },
    {
     "name": "stderr",
     "output_type": "stream",
     "text": [
      "2021-10-26 14:46:03,244 - htmd.builder.builder - WARNING - Found cis peptide bond in 1 frames: [0] in the omega diheral \"Angle of (LEU 216 CA P P) (LEU 216 C P P) (PRO 217 N P P) (PRO 217 CA P P) \" with indexes [3526, 3541, 3543, 3547]\n",
      "2021-10-26 14:46:03,246 - htmd.builder.builder - WARNING - Found cis peptide bond in 1 frames: [0] in the omega diheral \"Angle of (PRO 217 CA P P) (PRO 217 C P P) (GLY 218 N P P) (GLY 218 CA P P) \" with indexes [3547, 3555, 3557, 3559]\n",
      "2021-10-26 14:46:04,456 - htmd.protocols.production_v6 - WARNING - Lipids detected in input structure. We highly recommend setting useconstantratio=True for membrane simulations.\n",
      "2021-10-26 14:46:04,823 - jobqueues.slurmqueue - INFO - Queueing /gpcr/users/daranda/doctorat/GPCR_simulations/simulation_output/production/5NM4/rep_2/\n"
     ]
    },
    {
     "name": "stdout",
     "output_type": "stream",
     "text": [
      "submitting replicate 3 of 5NM4\n"
     ]
    },
    {
     "name": "stderr",
     "output_type": "stream",
     "text": [
      "2021-10-26 14:46:40,953 - htmd.builder.builder - WARNING - Found cis peptide bond in 1 frames: [0] in the omega diheral \"Angle of (LEU 216 CA P P) (LEU 216 C P P) (PRO 217 N P P) (PRO 217 CA P P) \" with indexes [3526, 3541, 3543, 3547]\n",
      "2021-10-26 14:46:40,955 - htmd.builder.builder - WARNING - Found cis peptide bond in 1 frames: [0] in the omega diheral \"Angle of (PRO 217 CA P P) (PRO 217 C P P) (GLY 218 N P P) (GLY 218 CA P P) \" with indexes [3547, 3555, 3557, 3559]\n",
      "2021-10-26 14:46:42,285 - htmd.protocols.production_v6 - WARNING - Lipids detected in input structure. We highly recommend setting useconstantratio=True for membrane simulations.\n",
      "2021-10-26 14:46:42,641 - jobqueues.slurmqueue - INFO - Queueing /gpcr/users/daranda/doctorat/GPCR_simulations/simulation_output/production/5NM4/rep_3/\n"
     ]
    },
    {
     "name": "stdout",
     "output_type": "stream",
     "text": [
      "replicate 1 of structure 4XT3 already has been simulated\n",
      "replicate 2 of structure 4XT3 already has been simulated\n",
      "replicate 3 of structure 4XT3 already has been simulated\n",
      "replicate 1 of structure 4XT3 already has been simulated\n",
      "replicate 2 of structure 4XT3 already has been simulated\n",
      "replicate 3 of structure 4XT3 already has been simulated\n",
      "replicate 1 of structure 6TOT already has been simulated\n",
      "replicate 2 of structure 6TOT already has been simulated\n",
      "replicate 3 of structure 6TOT already has been simulated\n",
      "replicate 1 of structure 6TOT already has been simulated\n",
      "replicate 2 of structure 6TOT already has been simulated\n",
      "replicate 3 of structure 6TOT already has been simulated\n",
      "replicate 1 of structure 6D32 already has been simulated\n",
      "replicate 2 of structure 6D32 already has been simulated\n",
      "replicate 3 of structure 6D32 already has been simulated\n",
      "replicate 1 of structure 6D32 already has been simulated\n",
      "replicate 2 of structure 6D32 already has been simulated\n",
      "replicate 3 of structure 6D32 already has been simulated\n",
      "replicate 1 of structure 5OM1 already has been simulated\n",
      "replicate 2 of structure 5OM1 already has been simulated\n",
      "replicate 3 of structure 5OM1 already has been simulated\n",
      "replicate 1 of structure 5OM1 already has been simulated\n",
      "replicate 2 of structure 5OM1 already has been simulated\n",
      "replicate 3 of structure 5OM1 already has been simulated\n",
      "replicate 1 of structure 5VEX already has been simulated\n",
      "replicate 2 of structure 5VEX already has been simulated\n",
      "replicate 3 of structure 5VEX already has been simulated\n",
      "replicate 1 of structure 5VEX already has been simulated\n",
      "replicate 2 of structure 5VEX already has been simulated\n",
      "replicate 3 of structure 5VEX already has been simulated\n",
      "submitting replicate 1 of 5XSZ\n"
     ]
    },
    {
     "name": "stderr",
     "output_type": "stream",
     "text": [
      "2021-10-26 14:47:12,302 - htmd.protocols.production_v6 - WARNING - Lipids detected in input structure. We highly recommend setting useconstantratio=True for membrane simulations.\n",
      "2021-10-26 14:47:12,870 - jobqueues.slurmqueue - INFO - Queueing /gpcr/users/daranda/doctorat/GPCR_simulations/simulation_output/production/5XSZ_apo/rep_1/\n"
     ]
    },
    {
     "name": "stdout",
     "output_type": "stream",
     "text": [
      "submitting replicate 2 of 5XSZ\n"
     ]
    },
    {
     "name": "stderr",
     "output_type": "stream",
     "text": [
      "2021-10-26 14:47:42,399 - htmd.protocols.production_v6 - WARNING - Lipids detected in input structure. We highly recommend setting useconstantratio=True for membrane simulations.\n",
      "2021-10-26 14:47:42,683 - jobqueues.slurmqueue - INFO - Queueing /gpcr/users/daranda/doctorat/GPCR_simulations/simulation_output/production/5XSZ_apo/rep_2/\n"
     ]
    },
    {
     "name": "stdout",
     "output_type": "stream",
     "text": [
      "submitting replicate 3 of 5XSZ\n"
     ]
    },
    {
     "name": "stderr",
     "output_type": "stream",
     "text": [
      "2021-10-26 14:48:12,331 - htmd.protocols.production_v6 - WARNING - Lipids detected in input structure. We highly recommend setting useconstantratio=True for membrane simulations.\n",
      "2021-10-26 14:48:12,594 - jobqueues.slurmqueue - INFO - Queueing /gpcr/users/daranda/doctorat/GPCR_simulations/simulation_output/production/5XSZ_apo/rep_3/\n"
     ]
    },
    {
     "name": "stdout",
     "output_type": "stream",
     "text": [
      "submitting replicate 1 of 5XSZ\n",
      "model 5XSZ could not be send to equilibrate because of  Could not locate file /gpcr/users/daranda/doctorat/GPCR_simulations/simulation_output//equil/5XSZ/structure.pdb set by the user for argument Production.acemd.coordinates\n",
      "submitting replicate 2 of 5XSZ\n",
      "model 5XSZ could not be send to equilibrate because of  Could not locate file /gpcr/users/daranda/doctorat/GPCR_simulations/simulation_output//equil/5XSZ/structure.pdb set by the user for argument Production.acemd.coordinates\n",
      "submitting replicate 3 of 5XSZ\n",
      "model 5XSZ could not be send to equilibrate because of  Could not locate file /gpcr/users/daranda/doctorat/GPCR_simulations/simulation_output//equil/5XSZ/structure.pdb set by the user for argument Production.acemd.coordinates\n",
      "replicate 1 of structure 6LI0 already has been simulated\n",
      "replicate 2 of structure 6LI0 already has been simulated\n",
      "replicate 3 of structure 6LI0 already has been simulated\n",
      "replicate 1 of structure 6LI0 already has been simulated\n",
      "replicate 2 of structure 6LI0 already has been simulated\n",
      "replicate 3 of structure 6LI0 already has been simulated\n",
      "replicate 1 of structure 6GT3 already has been simulated\n",
      "replicate 2 of structure 6GT3 already has been simulated\n",
      "replicate 3 of structure 6GT3 already has been simulated\n",
      "replicate 1 of structure 6GT3 already has been simulated\n",
      "replicate 2 of structure 6GT3 already has been simulated\n",
      "replicate 3 of structure 6GT3 already has been simulated\n",
      "submitting replicate 1 of 6GPX\n"
     ]
    },
    {
     "name": "stderr",
     "output_type": "stream",
     "text": [
      "2021-10-26 14:48:39,559 - htmd.protocols.production_v6 - WARNING - Lipids detected in input structure. We highly recommend setting useconstantratio=True for membrane simulations.\n",
      "2021-10-26 14:48:40,197 - jobqueues.slurmqueue - INFO - Queueing /gpcr/users/daranda/doctorat/GPCR_simulations/simulation_output/production/6GPX_apo/rep_1/\n"
     ]
    },
    {
     "name": "stdout",
     "output_type": "stream",
     "text": [
      "submitting replicate 2 of 6GPX\n"
     ]
    },
    {
     "name": "stderr",
     "output_type": "stream",
     "text": [
      "2021-10-26 14:49:06,779 - htmd.protocols.production_v6 - WARNING - Lipids detected in input structure. We highly recommend setting useconstantratio=True for membrane simulations.\n",
      "2021-10-26 14:49:07,022 - jobqueues.slurmqueue - INFO - Queueing /gpcr/users/daranda/doctorat/GPCR_simulations/simulation_output/production/6GPX_apo/rep_2/\n"
     ]
    },
    {
     "name": "stdout",
     "output_type": "stream",
     "text": [
      "submitting replicate 3 of 6GPX\n"
     ]
    },
    {
     "name": "stderr",
     "output_type": "stream",
     "text": [
      "2021-10-26 14:49:33,771 - htmd.protocols.production_v6 - WARNING - Lipids detected in input structure. We highly recommend setting useconstantratio=True for membrane simulations.\n",
      "2021-10-26 14:49:34,020 - jobqueues.slurmqueue - INFO - Queueing /gpcr/users/daranda/doctorat/GPCR_simulations/simulation_output/production/6GPX_apo/rep_3/\n"
     ]
    },
    {
     "name": "stdout",
     "output_type": "stream",
     "text": [
      "submitting replicate 1 of 6GPX\n"
     ]
    },
    {
     "name": "stderr",
     "output_type": "stream",
     "text": [
      "2021-10-26 14:50:01,380 - htmd.protocols.production_v6 - WARNING - Lipids detected in input structure. We highly recommend setting useconstantratio=True for membrane simulations.\n",
      "2021-10-26 14:50:02,568 - jobqueues.slurmqueue - INFO - Queueing /gpcr/users/daranda/doctorat/GPCR_simulations/simulation_output/production/6GPX/rep_1/\n"
     ]
    },
    {
     "name": "stdout",
     "output_type": "stream",
     "text": [
      "submitting replicate 2 of 6GPX\n"
     ]
    },
    {
     "name": "stderr",
     "output_type": "stream",
     "text": [
      "2021-10-26 14:50:28,347 - htmd.protocols.production_v6 - WARNING - Lipids detected in input structure. We highly recommend setting useconstantratio=True for membrane simulations.\n",
      "2021-10-26 14:50:28,617 - jobqueues.slurmqueue - INFO - Queueing /gpcr/users/daranda/doctorat/GPCR_simulations/simulation_output/production/6GPX/rep_2/\n"
     ]
    },
    {
     "name": "stdout",
     "output_type": "stream",
     "text": [
      "submitting replicate 3 of 6GPX\n"
     ]
    },
    {
     "name": "stderr",
     "output_type": "stream",
     "text": [
      "2021-10-26 14:50:54,838 - htmd.protocols.production_v6 - WARNING - Lipids detected in input structure. We highly recommend setting useconstantratio=True for membrane simulations.\n",
      "2021-10-26 14:50:55,109 - jobqueues.slurmqueue - INFO - Queueing /gpcr/users/daranda/doctorat/GPCR_simulations/simulation_output/production/6GPX/rep_3/\n"
     ]
    },
    {
     "name": "stdout",
     "output_type": "stream",
     "text": [
      "replicate 1 of structure 6RZ7 already has been simulated\n",
      "replicate 2 of structure 6RZ7 already has been simulated\n",
      "replicate 3 of structure 6RZ7 already has been simulated\n",
      "replicate 1 of structure 6RZ7 already has been simulated\n",
      "replicate 2 of structure 6RZ7 already has been simulated\n",
      "replicate 3 of structure 6RZ7 already has been simulated\n",
      "submitting replicate 1 of 6A94\n"
     ]
    },
    {
     "name": "stderr",
     "output_type": "stream",
     "text": [
      "2021-10-26 14:51:27,121 - htmd.protocols.production_v6 - WARNING - Lipids detected in input structure. We highly recommend setting useconstantratio=True for membrane simulations.\n",
      "2021-10-26 14:51:27,658 - jobqueues.slurmqueue - INFO - Queueing /gpcr/users/daranda/doctorat/GPCR_simulations/simulation_output/production/6A94_apo/rep_1/\n"
     ]
    },
    {
     "name": "stdout",
     "output_type": "stream",
     "text": [
      "submitting replicate 2 of 6A94\n"
     ]
    },
    {
     "name": "stderr",
     "output_type": "stream",
     "text": [
      "2021-10-26 14:51:53,837 - htmd.protocols.production_v6 - WARNING - Lipids detected in input structure. We highly recommend setting useconstantratio=True for membrane simulations.\n",
      "2021-10-26 14:51:54,077 - jobqueues.slurmqueue - INFO - Queueing /gpcr/users/daranda/doctorat/GPCR_simulations/simulation_output/production/6A94_apo/rep_2/\n"
     ]
    },
    {
     "name": "stdout",
     "output_type": "stream",
     "text": [
      "submitting replicate 3 of 6A94\n"
     ]
    },
    {
     "name": "stderr",
     "output_type": "stream",
     "text": [
      "2021-10-26 14:52:20,974 - htmd.protocols.production_v6 - WARNING - Lipids detected in input structure. We highly recommend setting useconstantratio=True for membrane simulations.\n",
      "2021-10-26 14:52:21,211 - jobqueues.slurmqueue - INFO - Queueing /gpcr/users/daranda/doctorat/GPCR_simulations/simulation_output/production/6A94_apo/rep_3/\n"
     ]
    },
    {
     "name": "stdout",
     "output_type": "stream",
     "text": [
      "submitting replicate 1 of 6A94\n"
     ]
    },
    {
     "name": "stderr",
     "output_type": "stream",
     "text": [
      "2021-10-26 14:52:48,037 - htmd.protocols.production_v6 - WARNING - Lipids detected in input structure. We highly recommend setting useconstantratio=True for membrane simulations.\n",
      "2021-10-26 14:52:48,630 - jobqueues.slurmqueue - INFO - Queueing /gpcr/users/daranda/doctorat/GPCR_simulations/simulation_output/production/6A94/rep_1/\n"
     ]
    },
    {
     "name": "stdout",
     "output_type": "stream",
     "text": [
      "submitting replicate 2 of 6A94\n"
     ]
    },
    {
     "name": "stderr",
     "output_type": "stream",
     "text": [
      "2021-10-26 14:53:14,757 - htmd.protocols.production_v6 - WARNING - Lipids detected in input structure. We highly recommend setting useconstantratio=True for membrane simulations.\n",
      "2021-10-26 14:53:15,022 - jobqueues.slurmqueue - INFO - Queueing /gpcr/users/daranda/doctorat/GPCR_simulations/simulation_output/production/6A94/rep_2/\n"
     ]
    },
    {
     "name": "stdout",
     "output_type": "stream",
     "text": [
      "submitting replicate 3 of 6A94\n"
     ]
    },
    {
     "name": "stderr",
     "output_type": "stream",
     "text": [
      "2021-10-26 14:53:41,391 - htmd.protocols.production_v6 - WARNING - Lipids detected in input structure. We highly recommend setting useconstantratio=True for membrane simulations.\n",
      "2021-10-26 14:53:41,658 - jobqueues.slurmqueue - INFO - Queueing /gpcr/users/daranda/doctorat/GPCR_simulations/simulation_output/production/6A94/rep_3/\n"
     ]
    },
    {
     "name": "stdout",
     "output_type": "stream",
     "text": [
      "replicate 1 of structure 6TPJ already has been simulated\n",
      "replicate 2 of structure 6TPJ already has been simulated\n",
      "replicate 3 of structure 6TPJ already has been simulated\n",
      "replicate 1 of structure 6TPJ already has been simulated\n",
      "replicate 2 of structure 6TPJ already has been simulated\n",
      "replicate 3 of structure 6TPJ already has been simulated\n",
      "replicate 1 of structure 6TOS already has been simulated\n",
      "replicate 2 of structure 6TOS already has been simulated\n",
      "replicate 3 of structure 6TOS already has been simulated\n",
      "replicate 1 of structure 6TOS already has been simulated\n",
      "replicate 2 of structure 6TOS already has been simulated\n",
      "replicate 3 of structure 6TOS already has been simulated\n",
      "replicate 1 of structure 5UIW already has been simulated\n",
      "replicate 2 of structure 5UIW already has been simulated\n",
      "replicate 3 of structure 5UIW already has been simulated\n",
      "submitting replicate 1 of 5UIW\n"
     ]
    },
    {
     "name": "stderr",
     "output_type": "stream",
     "text": [
      "2021-10-26 14:54:19,577 - htmd.protocols.production_v6 - WARNING - Lipids detected in input structure. We highly recommend setting useconstantratio=True for membrane simulations.\n",
      "2021-10-26 14:54:20,370 - jobqueues.slurmqueue - INFO - Queueing /gpcr/users/daranda/doctorat/GPCR_simulations/simulation_output/production/5UIW/rep_1/\n"
     ]
    },
    {
     "name": "stdout",
     "output_type": "stream",
     "text": [
      "replicate 2 of structure 5UIW already has been simulated\n",
      "replicate 3 of structure 5UIW already has been simulated\n",
      "submitting replicate 1 of 6J21\n"
     ]
    },
    {
     "name": "stderr",
     "output_type": "stream",
     "text": [
      "2021-10-26 14:54:53,109 - htmd.builder.builder - WARNING - Found cis peptide bond in 1 frames: [0] in the omega diheral \"Angle of (GLY 230 CA P P) (GLY 230 C P P) (ASP 231 N P P) (ASP 231 CA P P) \" with indexes [3366, 3369, 3371, 3373]\n",
      "2021-10-26 14:54:54,318 - htmd.protocols.production_v6 - WARNING - Lipids detected in input structure. We highly recommend setting useconstantratio=True for membrane simulations.\n",
      "2021-10-26 14:54:55,029 - jobqueues.slurmqueue - INFO - Queueing /gpcr/users/daranda/doctorat/GPCR_simulations/simulation_output/production/6J21_apo/rep_1/\n"
     ]
    },
    {
     "name": "stdout",
     "output_type": "stream",
     "text": [
      "submitting replicate 2 of 6J21\n"
     ]
    },
    {
     "name": "stderr",
     "output_type": "stream",
     "text": [
      "2021-10-26 14:55:28,624 - htmd.builder.builder - WARNING - Found cis peptide bond in 1 frames: [0] in the omega diheral \"Angle of (GLY 230 CA P P) (GLY 230 C P P) (ASP 231 N P P) (ASP 231 CA P P) \" with indexes [3366, 3369, 3371, 3373]\n",
      "2021-10-26 14:55:29,851 - htmd.protocols.production_v6 - WARNING - Lipids detected in input structure. We highly recommend setting useconstantratio=True for membrane simulations.\n",
      "2021-10-26 14:55:30,152 - jobqueues.slurmqueue - INFO - Queueing /gpcr/users/daranda/doctorat/GPCR_simulations/simulation_output/production/6J21_apo/rep_2/\n"
     ]
    },
    {
     "name": "stdout",
     "output_type": "stream",
     "text": [
      "submitting replicate 3 of 6J21\n"
     ]
    },
    {
     "name": "stderr",
     "output_type": "stream",
     "text": [
      "2021-10-26 14:56:04,139 - htmd.builder.builder - WARNING - Found cis peptide bond in 1 frames: [0] in the omega diheral \"Angle of (GLY 230 CA P P) (GLY 230 C P P) (ASP 231 N P P) (ASP 231 CA P P) \" with indexes [3366, 3369, 3371, 3373]\n",
      "2021-10-26 14:56:05,313 - htmd.protocols.production_v6 - WARNING - Lipids detected in input structure. We highly recommend setting useconstantratio=True for membrane simulations.\n",
      "2021-10-26 14:56:05,614 - jobqueues.slurmqueue - INFO - Queueing /gpcr/users/daranda/doctorat/GPCR_simulations/simulation_output/production/6J21_apo/rep_3/\n"
     ]
    },
    {
     "name": "stdout",
     "output_type": "stream",
     "text": [
      "submitting replicate 1 of 6J21\n"
     ]
    },
    {
     "name": "stderr",
     "output_type": "stream",
     "text": [
      "2021-10-26 14:56:38,696 - htmd.builder.builder - WARNING - Found cis peptide bond in 1 frames: [0] in the omega diheral \"Angle of (GLY 230 CA P P) (GLY 230 C P P) (ASP 231 N P P) (ASP 231 CA P P) \" with indexes [3367, 3370, 3372, 3374]\n",
      "2021-10-26 14:56:39,942 - htmd.protocols.production_v6 - WARNING - Lipids detected in input structure. We highly recommend setting useconstantratio=True for membrane simulations.\n",
      "2021-10-26 14:56:40,669 - jobqueues.slurmqueue - INFO - Queueing /gpcr/users/daranda/doctorat/GPCR_simulations/simulation_output/production/6J21/rep_1/\n"
     ]
    },
    {
     "name": "stdout",
     "output_type": "stream",
     "text": [
      "submitting replicate 2 of 6J21\n"
     ]
    },
    {
     "name": "stderr",
     "output_type": "stream",
     "text": [
      "2021-10-26 14:57:12,698 - htmd.builder.builder - WARNING - Found cis peptide bond in 1 frames: [0] in the omega diheral \"Angle of (GLY 230 CA P P) (GLY 230 C P P) (ASP 231 N P P) (ASP 231 CA P P) \" with indexes [3367, 3370, 3372, 3374]\n",
      "2021-10-26 14:57:13,942 - htmd.protocols.production_v6 - WARNING - Lipids detected in input structure. We highly recommend setting useconstantratio=True for membrane simulations.\n",
      "2021-10-26 14:57:14,283 - jobqueues.slurmqueue - INFO - Queueing /gpcr/users/daranda/doctorat/GPCR_simulations/simulation_output/production/6J21/rep_2/\n"
     ]
    },
    {
     "name": "stdout",
     "output_type": "stream",
     "text": [
      "submitting replicate 3 of 6J21\n"
     ]
    },
    {
     "name": "stderr",
     "output_type": "stream",
     "text": [
      "2021-10-26 14:57:47,697 - htmd.builder.builder - WARNING - Found cis peptide bond in 1 frames: [0] in the omega diheral \"Angle of (GLY 230 CA P P) (GLY 230 C P P) (ASP 231 N P P) (ASP 231 CA P P) \" with indexes [3367, 3370, 3372, 3374]\n",
      "2021-10-26 14:57:48,946 - htmd.protocols.production_v6 - WARNING - Lipids detected in input structure. We highly recommend setting useconstantratio=True for membrane simulations.\n",
      "2021-10-26 14:57:49,282 - jobqueues.slurmqueue - INFO - Queueing /gpcr/users/daranda/doctorat/GPCR_simulations/simulation_output/production/6J21/rep_3/\n"
     ]
    }
   ],
   "source": [
    "#####################\n",
    "## Part 4: Production\n",
    "#####################\n",
    "\n",
    "# Production protocol\n",
    "md = define_production(timestep, trajperiod)\n",
    "\n",
    "# If some model should be skipped, put its name here\n",
    "modelname_skip = {}\n",
    "\n",
    "# For each PDB \n",
    "# for pdbcode in ['6KNM']:\n",
    "for pdbcode in pdb_set:\n",
    "#     for apo in [False]:\n",
    "    for apo in [True, False]:\n",
    "        # must match with equildir in equilibration launcher code and contain input and output of equilibration.\n",
    "        modelname = pdbcode+'_apo' if apo else pdbcode\n",
    "        equildir = '%s/equil/%s/' % (resultspath, modelname)\n",
    "        if not os.path.exists(equildir):\n",
    "            print(\"structure %s has not been yet equillibrated. Skipping...\")\n",
    "            continue\n",
    "        for rep in range(1,repnum+1):\n",
    "            \n",
    "            try: \n",
    "                # If simulation for this PDB has already been run\n",
    "                proddir='%sproduction/%s/rep_%d/' % (resultspath, modelname, rep)\n",
    "                if os.path.exists(proddir+'/output.xtc') or os.path.exists(proddir+'simrunning'):\n",
    "                    print(\"replicate %d of structure %s already has been simulated\" %(rep, pdbcode))\n",
    "                    continue\n",
    "\n",
    "                print('submitting replicate %d of %s' % (rep, pdbcode))\n",
    "                # directory copy output of equilibration to production input (initial working directory for run_prod.sh).\n",
    "                md.write(equildir,proddir)\n",
    "\n",
    "                sq = SlurmQueue()\n",
    "                sq.envvars = acemd_license\n",
    "                sq.jobname = modelname+'_pr'+str(rep)\n",
    "                sq.datadir = None\n",
    "                sq.partition = 'gpcr_gpu'\n",
    "                sq.prerun = job_commands(proddir, '/home/daranda/%s_pr_%d/'%(modelname,rep))\n",
    "                sq.ngpu = 1\n",
    "                sq.ncpu = 1\n",
    "                sq.exclude = ['aragorn']\n",
    "\n",
    "                #Substitute run.sh generated by HTMD by a different one, adapted to the specified path of ACEMD\n",
    "                with open(proddir + 'run.sh', 'w') as f:\n",
    "                    f.write('#!/bin/bash\\n%s >%slog.txt 2>&1' % (acemd_path,proddir))\n",
    "\n",
    "                sq.submit(proddir)\n",
    "                \n",
    "            except Exception as e:\n",
    "                print(\"model \"+modelname+\" could not be send to equilibrate because of \",e)            \n"
   ]
  },
  {
   "cell_type": "code",
   "execution_count": 12,
   "metadata": {},
   "outputs": [
    {
     "name": "stdout",
     "output_type": "stream",
     "text": [
      "wrapping replicate 1 of 6MEO\n",
      "replicate already wrapped. Skipping...\n",
      "wrapping replicate 2 of 6MEO\n",
      "replicate already wrapped. Skipping...\n",
      "wrapping replicate 3 of 6MEO\n",
      "replicate already wrapped. Skipping...\n",
      "wrapping replicate 1 of 5TE5\n",
      "replicate already wrapped. Skipping...\n",
      "wrapping replicate 2 of 5TE5\n",
      "replicate already wrapped. Skipping...\n",
      "wrapping replicate 3 of 5TE5\n",
      "replicate already wrapped. Skipping...\n",
      "wrapping replicate 1 of 5WIU\n",
      "replicate already wrapped. Skipping...\n",
      "wrapping replicate 2 of 5WIU\n",
      "replicate already wrapped. Skipping...\n",
      "wrapping replicate 3 of 5WIU\n",
      "replicate already wrapped. Skipping...\n",
      "wrapping replicate 1 of 6LRY\n"
     ]
    },
    {
     "name": "stderr",
     "output_type": "stream",
     "text": [
      "/home/david/miniconda3/lib/python3.6/site-packages/moleculekit/align.py:16: NumbaPerformanceWarning: np.dot() is faster on contiguous arrays, called on (array(float32, 2d, A), array(float32, 2d, A))\n",
      "  covariance = np.dot(P.T, Q)\n",
      "/home/david/miniconda3/lib/python3.6/site-packages/moleculekit/align.py:54: NumbaPerformanceWarning: np.dot() is faster on contiguous arrays, called on (array(float32, 2d, C), array(float32, 2d, A))\n",
      "  all1 = np.dot(all1, rot.T)\n"
     ]
    },
    {
     "name": "stdout",
     "output_type": "stream",
     "text": [
      "End of 6LRY after 8.202301025390625 seconds\n",
      "\n",
      "wrapping replicate 2 of 6LRY\n",
      "End of 6LRY after 4.026684045791626 seconds\n",
      "\n",
      "wrapping replicate 3 of 6LRY\n",
      "End of 6LRY after 3.4290406703948975 seconds\n",
      "\n",
      "wrapping replicate 1 of 4EJ4\n",
      "replicate already wrapped. Skipping...\n",
      "wrapping replicate 2 of 4EJ4\n",
      "replicate already wrapped. Skipping...\n",
      "wrapping replicate 3 of 4EJ4\n",
      "replicate already wrapped. Skipping...\n"
     ]
    }
   ],
   "source": [
    "\n",
    "##########################\n",
    "## Part 5: Wrap Structures\n",
    "##########################\n",
    "\n",
    "# Wrap trajectories obtained during production with an htmd command\n",
    "gpcr_sel = \"protein and chain \"+new_pdb_chain\n",
    "#for pdbcode in pdb_set:\n",
    "#for pdbcode in ['5WIU']:\n",
    "for pdbcode in testset:\n",
    "    #for apo in [False]:\n",
    "    for apo in [True, False]:\n",
    "        try:\n",
    "            modelname = pdbcode+'_apo' if apo else pdbcode\n",
    "            mymol_pdb = Molecule('%sproduction/%s/rep_1/structure.pdb' % (resultspath, modelname))\n",
    "            for rep in range(1,repnum+1):\n",
    "            #for rep in [3]:\n",
    "                start_time = time.time()        \n",
    "                print('wrapping replicate %d of %s' % (rep, modelname))\n",
    "                proddir='%sproduction/%s/rep_%d/' % (resultspath, modelname, rep)\n",
    "                rep = str(rep)\n",
    "\n",
    "                # To avoid repeating wrapping in Trajectories already wrapped, check the existance of this file\n",
    "                outname = proddir+'output_wrapped.xtc'\n",
    "                if os.path.exists(outname):\n",
    "                    print('replicate already wrapped. Skipping...')\n",
    "                    continue\n",
    "                \n",
    "                # Wrap system\n",
    "                mymol = Molecule('%sproduction/%s/rep_1/structure.psf' % (resultspath, modelname))\n",
    "                mymol.read(proddir+'output.xtc')\n",
    "                mymol.wrap(gpcr_sel)\n",
    "\n",
    "                # Align frames and write\n",
    "                mymol.align('all', refmol=mymol_pdb)\n",
    "                mymol.write(outname)\n",
    "\n",
    "            print('End of %s after %s seconds\\n' % (modelname, time.time() - start_time))\n",
    "        except Exception as e:\n",
    "            print(\"model \"+modelname+\" could not be wrapped because of \",e)            \n",
    "\n",
    "\n"
   ]
  },
  {
   "cell_type": "code",
   "execution_count": null,
   "metadata": {},
   "outputs": [],
   "source": [
    "# WARNING!!!: run me to KILL simulations that are still running\n",
    "for modelname_rep in sqs_p:\n",
    "    sqs_p[modelname_rep].stop()"
   ]
  },
  {
   "cell_type": "code",
   "execution_count": 52,
   "metadata": {},
   "outputs": [],
   "source": [
    "###################################\n",
    "## Part 5: Upload results to GPCRmd\n",
    "###################################\n",
    "\n",
    "#### Functions\n",
    "def resp_to_dict(resp):\n",
    "    # Convert a json reponse into a dictionary\n",
    "    return eval(resp.content.decode('UTF-8').replace('true', 'True').replace('false','False'))\n",
    "\n",
    "def get_headers(s, subm_id):\n",
    "    \"\"\"\n",
    "    Obtain headers, csrftoken and sessionid from current session object\n",
    "    \"\"\"\n",
    "    sessionid = str(s.cookies['sessionid'])\n",
    "    csrftoken = str(s.cookies['csrftoken'])\n",
    "    headers = {\n",
    "        'Referer' : mainurl+'/dynadb/step1/'+subm_id,\n",
    "        'Cookie' : 'csrftoken=%s; sessionid=%s' %(csrftoken,sessionid),\n",
    "        'X-CSRFToken' : csrftoken,\n",
    "    }\n",
    "    return(sessionid, csrftoken, headers)\n",
    "\n",
    "\n",
    "def check_chains(pdbcode, mymol):\n",
    "    \"\"\"\n",
    "    Check how many chains from the original PDB structure remain in mymol structure\n",
    "    And to which Segments of our structure they correspond\n",
    "    \"\"\"\n",
    "    # Load blosum score matrix to align proteins\n",
    "    blosum62 = substitution_matrices.load(\"BLOSUM62\")\n",
    "\n",
    "    # Obtain sequences for original PDB file chains, and classifying them by chainID\n",
    "    # Also check which segment corresponds to what chain\n",
    "    pdbmol = Molecule(pdbcode)\n",
    "    chainseg = {}\n",
    "    chainset = set(pdbmol.get('chain', sel='protein'))\n",
    "    pdbmol_segseqs = pdbmol.sequence()\n",
    "    pdbmol_chainseqs = {}\n",
    "    for chain in chainset:\n",
    "        segid = np.unique(pdbmol.get('segid', sel='chain '+chain))[0]\n",
    "        pdbmol_chainseqs[chain] = pdbmol_segseqs[segid]\n",
    "\n",
    "    # Merging all protein chains in our systems into a single megachain\n",
    "    mymol_megachain = ''\n",
    "    for seg,chain in mymol.sequence().items():\n",
    "        mymol_megachain = mymol_megachain + chain\n",
    "\n",
    "    # Aligning sequences from original PDB to simulated PDB megasequence\n",
    "    # To know which chains from the original PDB are preserved\n",
    "    chain_present = {}\n",
    "    segtochain = {}\n",
    "    # For each chain in the original PDB file\n",
    "    for chain,seq in pdbmol_chainseqs.items():\n",
    "        chain_present[chain] = False\n",
    "        # For each segment in our molecule\n",
    "        for seg,myseq in mymol.sequence().items():\n",
    "            mylen = len(myseq)\n",
    "            # Align our molecule segments to the pdb chains\n",
    "            aligs = pairwise2.align.localms(seq, myseq, 5,-1, -1.5, -1)\n",
    "            # Check if any of the alignments has more than 4 score by position\n",
    "            is_present = any([ (alig.score/mylen) > 4 for alig in aligs ]) \n",
    "            if is_present:\n",
    "                chain_present[chain] = is_present\n",
    "                segtochain[seg] = chain\n",
    "\n",
    "    return (chain_present, segtochain)\n",
    "\n",
    "def get_pdb_info(pdbcode, mymol, ligandsdict):\n",
    "    \"\"\"\n",
    "    Get informarion of the system specified in the pdbcode from the RCSB-PDB webpage.\n",
    "    Mainly uniprot sequences, chainIDs and uniprot codes for the chains\n",
    "    \"\"\"\n",
    "    \n",
    "    # Make string for selecting lignads in rcsb's api\n",
    "    ligs = '\"'+'\",\"'.join(ligandsdict[pdbcode].keys())+'\"'\n",
    "    \n",
    "    #Check which chains from the original PDB structure are preserved in mymol structure\n",
    "    (chain_present, segtochain) = check_chains(pdbcode, mymol)\n",
    "    \n",
    "    # Get ligand molecules present in our system (basically anything that is not a protein)\n",
    "    ligset = set(mymol.get('resname', sel='not protein'))\n",
    "    \n",
    "    # Extract information from pdb webpage using api\n",
    "    ligdict = dict()\n",
    "    protdict = dict()\n",
    "    datadict = dict()\n",
    "    \n",
    "    # Get information from PDB api\n",
    "    pdbdict = requests.get('https://data.rcsb.org/graphql?query={\\\n",
    "        entry(entry_id: \"'+pdbcode+'\") {\\\n",
    "            exptl {method}\\\n",
    "            polymer_entities {\\\n",
    "                entity_poly{pdbx_strand_id}\\\n",
    "                rcsb_polymer_entity{pdbx_description}\\\n",
    "                rcsb_polymer_entity_align{\\\n",
    "                    aligned_regions {length}\\\n",
    "                    reference_database_accession \\\n",
    "                    reference_database_isoform \\\n",
    "                }\\\n",
    "            }\\\n",
    "        }\\\n",
    "        chem_comps(comp_ids: ['+ligs+']) {\\\n",
    "            rcsb_chem_comp_descriptor {InChIKey}\\\n",
    "            chem_comp{id,name}\\\n",
    "        }\\\n",
    "    }').json()['data']\n",
    "    \n",
    "    # Get ligand information and classify it (in case the system actually has ligands)\n",
    "    if len(pdbdict['chem_comps'])>0:\n",
    "        for lig in pdbdict['chem_comps']:\n",
    "            ligandInchi = lig['rcsb_chem_comp_descriptor']['InChIKey']\n",
    "            ligandResname = lig['chem_comp']['id']\n",
    "            ligandName = lig['chem_comp']['name']\n",
    "    \n",
    "            # Exclude ligands not present in our simulated system\n",
    "            if ligandResname in ligset:\n",
    "                ligdict[ligandResname] = (ligandName,ligandInchi)\n",
    "\n",
    "    # Extract protein chains information\n",
    "    for poly in pdbdict['entry']['polymer_entities']:\n",
    "    \n",
    "        # Get alignment information in order to determine which uniprot segment we should take\n",
    "        prevallen = 0\n",
    "        uniprotkbac = ''\n",
    "        isoform = ''\n",
    "        for alreg in poly['rcsb_polymer_entity_align']:\n",
    "            allen =  sum([seg['length'] for seg in alreg['aligned_regions']])\n",
    "            unicode = alreg['reference_database_accession']\n",
    "            myisoform = alreg['reference_database_isoform']\n",
    "            if allen > prevallen:\n",
    "                uniprotkbac = unicode\n",
    "                isoform = myisoform\n",
    "            else:\n",
    "                uniprotkbac = uniprotkbac\n",
    "                isoform = isoform\n",
    "            prevallen = allen            \n",
    "            \n",
    "        uniname = poly['rcsb_polymer_entity']['pdbx_description'].lower()\n",
    "        chainIds = poly['entity_poly']['pdbx_strand_id'].split(',')\n",
    "\n",
    "        # Determine if this polymer (chain) is a GPCR\n",
    "        isgpcr = (('receptor' in uniname) or ('rhodopsin' in uniname)) \n",
    "\n",
    "        # If this chain is present in our mymol structure\n",
    "        for chainId in chainIds:\n",
    "            if chain_present[chainId]:\n",
    "                # Get which segment(s) this chain is assigned to. SKip if none\n",
    "                segs = [ seg for seg,chain in segtochain.items() if chain == chainId ]\n",
    "                if not segs:\n",
    "                    continue\n",
    "                # Order data for this chain\n",
    "                protdict[chainId] = {\n",
    "                    'uniprotkbac' : uniprotkbac,\n",
    "                    'isoform' : isoform if isoform else '1',\n",
    "                    'isgpcr' : isgpcr,\n",
    "                    'segs' : segs,\n",
    "                }\n",
    "\n",
    "    # Determine experimental method used, and use the corresponding id in GPCRmd database\n",
    "    method = pdbdict['entry']['exptl'][0]['method'].lower()\n",
    "    if 'x-ray' in method: \n",
    "        method_id = 0\n",
    "    elif 'nmr' in method:\n",
    "        method_id = 1\n",
    "    elif 'electron microscopy' == method:\n",
    "        method_id = 4\n",
    "    else:\n",
    "        method_id = 5 # Other method\n",
    "            \n",
    "    return (protdict,ligdict,segtochain,method_id)\n",
    "\n",
    "def login(s):\n",
    "    # Login into GPCRmd \n",
    "    # Will you go, lassie, go? And we'll all gooo toghetheeeer\n",
    "    headers = {\n",
    "        'Cookie': 'csrftoken=cuGA6CSGmXfMbLwqlPoGjLLN7QkO6rZ7',\n",
    "        'Referer': mainurl+'/accounts/login/',\n",
    "    }\n",
    "    datalogin = {\n",
    "        'username': 'david',\n",
    "        'password': 'Ameboid',\n",
    "        'next' : '/accounts/memberpage/',\n",
    "        'csrfmiddlewaretoken' : 'cuGA6CSGmXfMbLwqlPoGjLLN7QkO6rZ7'\n",
    "    }\n",
    "    print('loging into GPCRmd')\n",
    "    logo = s.post(mainurl+'/accounts/login/', \n",
    "               data=datalogin,\n",
    "               headers=headers)\n",
    "    return s\n",
    "\n",
    "def new_submission(s, mainurl):\n",
    "    \"\"\"\n",
    "    Create a new submission entry in GPCRmd\n",
    "    \"\"\"\n",
    "    response_new = s.get(mainurl + '/dynadb/step0/')\n",
    "    soup = BeautifulSoup(response_new.text, 'html.parser')\n",
    "    step1_link = soup.find('form',attrs={'id' : 'mainform'}).get('action')\n",
    "    subm_id = step1_link.split('/')[-2]\n",
    "    print('new submission %s created'%subm_id)\n",
    "    return subm_id\n",
    "\n",
    "def new_step1(s, subm_id, pdbcode, trajperiod, timestep, prodpath, modelfile, method_id, apo):\n",
    "    \"\"\"\n",
    "    Fullfill and send the step 1 of the new submissionform\n",
    "    # Looong liiie the fieeeelds of Athenryyyyy...\n",
    "    # Where once, we watch, the small seabirds flyyyyy....\n",
    "    \"\"\"\n",
    "    # Get headers and stuff\n",
    "    (sessionid, csrftoken, headers)=get_headers(s, subm_id)\n",
    "    \n",
    "    # All the stuff we need to send \n",
    "    sysname = pdbcode+' apoform' if apo else pdbcode+' complex'\n",
    "    data_submit = {\n",
    "        'name' : sysname,\n",
    "        'type' : 0 if apo else 1, # 0 for apo, 1 for complex\n",
    "        'pdbid' : pdbcode,\n",
    "        'description' : 'Autosubmission',\n",
    "        'source_type' : method_id,\n",
    "        'id_dynamics_methods': '1', #Molecular mechanics,\n",
    "        'software': 'ACEMD3',\n",
    "        'sversion': 'GPUGRID', # TODO: Is that correct??,\n",
    "        'ff': 'CHARMM',\n",
    "        'ffversion': '36m Feb 2016',\n",
    "        'id_assay_types': 1, # Orthosteric (un)/binding,\n",
    "        'id_dynamics_membrane_types': 2, # Homogeneus membrane,\n",
    "        'id_dynamics_solvent_types': 2, # TIP3P solvent,\n",
    "        'timestep': timestep,\n",
    "        'delta': (trajperiod*timestep)/10e6,\n",
    "        'add_info': 'autosubmission', # time/frames\n",
    "    }\n",
    "    files_submit = {\n",
    "        'dynamics' : open(prodpath+'structure.pdb', 'rb'),\n",
    "        'model' : open(modelfile, 'rb')\n",
    "    }\n",
    "\n",
    "    # Submit step 1\n",
    "    rep = s.post(mainurl+'/dynadb/step1_submit/'+subm_id+'/',\n",
    "            headers = headers,\n",
    "            files = files_submit,\n",
    "            data = data_submit)\n",
    "    print('step1 finalized ',rep)\n",
    "\n",
    "    \n",
    "def smalmol_getdata(s, molid, inchikey, subm_id, moltype, resname, sdfpath=\"\"):\n",
    "    \"\"\"\n",
    "    Get data for small molecules \n",
    "    \"\"\"\n",
    "    \n",
    "    # Get headers and stuff\n",
    "    (sessionid, csrftoken, headers)=get_headers(s, subm_id)\n",
    "\n",
    "    # Get info of molecule\n",
    "    rep = s.get(mainurl+'/dynadb/smalmol_info/?inchikey=%s&submission_id=%s'%(inchikey,subm_id),\n",
    "        headers = headers,\n",
    "        )\n",
    "    rep_dict = rep.json()\n",
    "    \n",
    "    # Prepare submission dictionary with the data of this molecule\n",
    "    mol_datasubmit = {\n",
    "        \"smalmol_type\"+molid : moltype,\n",
    "        \"smalmol_inchikey\"+molid : inchikey,\n",
    "        \"smalmol_name\"+molid : rep_dict['name'],\n",
    "        \"smalmol_resname\"+molid : resname,\n",
    "        \"smalmol_iupac\"+molid : rep_dict['iupac'],\n",
    "        \"smalmol_chemblid\"+molid :  rep_dict['chemblid'],\n",
    "        \"smalmol_cid\"+molid :  rep_dict['cid'],\n",
    "        \"smalmol_inchi\"+molid : rep_dict['inchi'],\n",
    "        \"smalmol_sinchi\"+molid :  rep_dict['sinchi'],\n",
    "        \"smalmol_sinchikey\"+molid :  rep_dict['sinchikey'],\n",
    "        \"smalmol_smiles\"+molid :  rep_dict['smiles'],\n",
    "        \"smalmol_netcharge\"+molid :  rep_dict['net_charge'],\n",
    "        \"smalmol_synonims\"+molid :  rep_dict['other_names'],\n",
    "        \"smalmol_description\"+molid :  '',\n",
    "        \"image_path\"+molid :  rep_dict['imagepath']\n",
    "    }\n",
    "    \n",
    "    # Add SDFfile to the submission if required\n",
    "    mol_files = {} if rep_dict['inGPCRmd'] else {\"sdfmol\"+molid : open(sdfpath)} \n",
    "    \n",
    "    return(mol_datasubmit,mol_files)\n",
    "\n",
    "def new_step2(s, subm_id, ligdict):\n",
    "    \"\"\"\n",
    "    Fullfil and send step2 of new submission form\n",
    "    \"\"\"    \n",
    "    print('initiating step 2: small molecule data')\n",
    "\n",
    "    # Get headers and stuff\n",
    "    (sessionid, csrftoken, headers)=get_headers(s, subm_id)\n",
    "    \n",
    "    # Introduce common small molecules (waters, lipids and ions)\n",
    "    i = 0\n",
    "    num_entries = []\n",
    "    step2_data = {\n",
    "        'csrfmiddlewaretoken' : csrftoken,\n",
    "        'submit' : 'submit'\n",
    "    }\n",
    "    step2_files = {}\n",
    "    common_mols = {\n",
    "        'TIP3' : ('XLYOFNOQVPJJNP-UHFFFAOYSA-N',6),\n",
    "        'POPC' : ('WTJKGGKOPKCXLL-VYOBOKEXSA-N',7),\n",
    "        'SOD' : ('FKNQFGJONOIPTF-UHFFFAOYSA-N',8),\n",
    "        'CLA' : ('VEXZGXHMUGYJMC-UHFFFAOYSA-M',8)\n",
    "    }\n",
    "    for resname,(inchikey,moltype) in common_mols.items():\n",
    "        (mol_datasubmit, mol_files) = smalmol_getdata(s, str(i), inchikey, subm_id, moltype, resname)\n",
    "        step2_data.update(mol_datasubmit)\n",
    "        step2_files.update(mol_files)\n",
    "        num_entries.append(i)\n",
    "        i+=1\n",
    "\n",
    "    # Introduce ligands: all will be defined as orthosteric ligands\n",
    "    lignames = []\n",
    "    for lig,(name,inchikey) in ligdict.items():\n",
    "        # Skip this if molecule is apoform\n",
    "        if apo:\n",
    "            break\n",
    "        # Avoid blacklisted molecules or ions\n",
    "        if (lig in detergent_blacklist) or (lig in glucids_blacklist)  or (len(lig) == 2):\n",
    "            continue\n",
    "        # Download ligand, store it into temporary file\n",
    "        response = requests.get('https://files.rcsb.org/ligands/view/'+lig+'_ideal.sdf')\n",
    "        with open('tmpfile.sdf','wb') as tmpout:\n",
    "            tmpout.write(response.content)\n",
    "\n",
    "        # CLR (cholesterol) is usually a experimental lipid \n",
    "        moltype = '3' if lig=='CLR' else '0'\n",
    "            \n",
    "        # Retrieve molecule information\n",
    "        (mol_datasubmit, mol_files) = smalmol_getdata(s, str(i), inchikey, subm_id, moltype, lig, 'tmpfile.sdf')\n",
    "        step2_data.update(mol_datasubmit)\n",
    "        step2_files.update(mol_files)\n",
    "        num_entries.append(i)\n",
    "        i+=1\n",
    "        os.remove('tmpfile.sdf')\n",
    "    \n",
    "    # Add number of entries\n",
    "    step2_data['num_entries'] = ','.join(map(str, num_entries))\n",
    "    \n",
    "    # Replace empty entries with an empty string\n",
    "    for key,val in step2_data.items():\n",
    "        if not val:\n",
    "            step2_data[key] = ''\n",
    "    \n",
    "    # Submit step2\n",
    "    rep = s.post(mainurl+'/dynadb/step2_submit/'+subm_id+'/',\n",
    "        headers = headers,\n",
    "        data = step2_data,\n",
    "        files = step2_files)\n",
    "    print('step2 finalized ',rep)\n",
    "    \n",
    "def new_step3(s, subm_id, protdict):\n",
    "    \"\"\"\n",
    "    Fullfil and sent the step3 (protein chains) of the new submission form\n",
    "    \"\"\"\n",
    "    print('initiating step 3: protein chains')\n",
    "\n",
    "    # Get headers and stuff\n",
    "    (sessionid, csrftoken, headers)=get_headers(s, subm_id)\n",
    "\n",
    "    # Retrieve segment information using GPCRmd submission form\n",
    "    entrydict = s.get(mainurl+'/dynadb/find_prots/'+subm_id+'/',\n",
    "        headers = headers).json()\n",
    "    \n",
    "    segments = {seg['segid'] : seg for entry in entrydict for seg in entry['segments']}\n",
    "\n",
    "    # Start dict with the data to be send into GPCRmd\n",
    "    # But thougth they paved the footways here with goldust, I still would chose... my Isle of Innesfree\n",
    "    step3_data = {\n",
    "        'csrfmiddlewaretoken':csrftoken,\n",
    "        'submission_id' : subm_id,\n",
    "        'submit' : 'Submit',\n",
    "    }\n",
    "\n",
    "    # Iterate over pdb chains. For each one we'll create an entry\n",
    "    i=0\n",
    "    entrynum = []\n",
    "    for chain,chain_data in protdict.items():\n",
    "        ii = str(i)\n",
    "        uniprotkbac = chain_data['uniprotkbac']\n",
    "        isgpcr = chain_data['isgpcr']\n",
    "        isoform = chain_data['isoform']\n",
    "        chainsegs = chain_data['segs']\n",
    "\n",
    "        # Retrieve info using uniprot code\n",
    "        unidict = s.get(mainurl+'/dynadb/prot_info/'+subm_id+'/',\n",
    "                          params = {\n",
    "                              'uniprotkbac' : uniprotkbac,\n",
    "                              'isoform' : isoform,\n",
    "                              'submission_id' : subm_id,\n",
    "                          },\n",
    "                          headers = headers\n",
    "                         ).json()\n",
    "\n",
    "        # We'll obtain the alignment of our protein sequence and its UNIPROT sequence using\n",
    "        # GPCRmd's tool for do it\n",
    "        data_alig = {\n",
    "            'unisequence' : unidict['Sequence'],\n",
    "            'submission_id' : subm_id\n",
    "        }\n",
    "\n",
    "        # Get segments for alignment data\n",
    "        j = 0\n",
    "        segnums = []\n",
    "        for seg in chainsegs:\n",
    "            seginfo = segments[seg]\n",
    "            ss = str(j)\n",
    "            data_alig['chain'+ss]= seginfo['chain']\n",
    "            data_alig['segid'+ss]= seg\n",
    "            data_alig['from'+ss]= seginfo['resid_from']\n",
    "            data_alig['to'+ss]= seginfo['resid_to']\n",
    "            segnums.append(ss)\n",
    "\n",
    "            # Store segment information as well in the submit dict\n",
    "            step3_segdata = {\n",
    "                ss+'seg'+ii: j,\n",
    "                ss+'pdbid'+ii: seginfo['pdbid'],\n",
    "                ss+'sourcetype'+ii: seginfo['source_type'],\n",
    "                ss+'chain'+ii: seginfo['chain'],\n",
    "                ss+'segid'+ii: seg,\n",
    "                ss+'from_resid'+ii: seginfo['resid_from'],\n",
    "                ss+'to_resid'+ii: seginfo['resid_to'],\n",
    "            }\n",
    "            step3_data.update(step3_segdata)\n",
    "\n",
    "            j += 1\n",
    "        data_alig['segnums']=','.join(segnums)\n",
    "        step3_data['num_segs'+ii]=','.join(segnums)\n",
    "\n",
    "        # Send alignment request\n",
    "        alignment = s.post(mainurl+'/dynadb/get_alignment/',\n",
    "                      data = data_alig,\n",
    "                      headers = headers\n",
    "                     ).text\n",
    "\n",
    "        # Get mutations\n",
    "        mutations_dict = s.post(mainurl+'/dynadb/protein/get_mutations/',\n",
    "                      data = {\n",
    "                          'alignment' : alignment,\n",
    "                          'sequence' : unidict['Sequence'],\n",
    "                      },\n",
    "                      headers = headers\n",
    "                     ).json()['mutations']\n",
    "\n",
    "        # Store mutations in submission dictionary\n",
    "        h = 0\n",
    "        mutnums = []\n",
    "        for mut in mutations_dict:\n",
    "            hh = str(h)\n",
    "            step3_mutdata = {\n",
    "                hh+'from'+ii : mut['from'],\n",
    "                hh+'to'+ii : mut['to'],\n",
    "                hh+'resid'+ii : mut['resid'],\n",
    "            }\n",
    "            step3_data.update(step3_mutdata)\n",
    "            mutnums.append(hh)\n",
    "            h+=1\n",
    "        step3_data['num_muts'+ii]=','.join(mutnums)\n",
    "\n",
    "        # Get chain name according to uniprot\n",
    "        names_array = unidict['Protein names'].split(\" (\")\n",
    "        names_array = list(map(lambda x: re.sub(\"\\)$\", \"\", x), names_array)) # Convert the name string into name aray\n",
    "        name = names_array.pop() # We get the first name as the official one\n",
    "        other_names = ';'.join(names_array)\n",
    "\n",
    "        # Start storing information to send in step3\n",
    "        step3_entrydata = {\n",
    "            'isoform'+ii : isoform,\n",
    "            'prot_uniprot'+ii : uniprotkbac,\n",
    "            'name'+ii : name,\n",
    "            'aliases'+ii : other_names,\n",
    "            'species_code'+ii : unidict['Organism ID'],\n",
    "            'species_name'+ii : unidict['Organism'],\n",
    "            'unisequence'+ii : unidict['Sequence'],\n",
    "        }\n",
    "        step3_data.update(step3_entrydata)\n",
    "\n",
    "        entrynum.append(ii)    \n",
    "        i+=1\n",
    "\n",
    "    # Store number of entries\n",
    "    step3_data['num_entries'] = ','.join(entrynum)\n",
    "\n",
    "    # Submit step3\n",
    "    rep = s.post(mainurl+'/dynadb/step3_submit/'+subm_id+'/',\n",
    "        headers = headers,\n",
    "        data = step3_data)\n",
    "    \n",
    "    print('step3 finalized ',rep)\n",
    "\n",
    "\n",
    "def new_step4(s, subm_id, prodpath, repath):\n",
    "    \"\"\"\n",
    "    Fullfil and sent the step4 (files) of the new submission form\n",
    "    \"\"\"\n",
    "    print('initiating step 4: simulation files')\n",
    "\n",
    "    # Get headers and stuff\n",
    "    (sessionid, csrftoken, headers)=get_headers(s, subm_id)\n",
    "\n",
    "    # Prepare trajectories\n",
    "    step4_files = []\n",
    "    for trajid in range(1,4):\n",
    "#         trajpath = '%s/rep_%d/output.xtc'%(prodpath,trajid)\n",
    "#         step4_files.append(('trj', ('traj%d.xtc'%trajid, open(trajpath, 'rb'))))\n",
    "        trajpath = '%s/rep_%d/trajtest.dcd'%(prodpath,trajid)\n",
    "        step4_files.append(('trj', ('trajtest.dcd', open(trajpath, 'rb'))))\n",
    "    \n",
    "    # Prepare the rest of files (parameters files will name-changed to avoid problems with filextensions)\n",
    "    step4_files.append(\n",
    "        ('dyn', ('structure.psf', open(repath+'structure.psf','rb')))\n",
    "    )\n",
    "    step4_files.append(\n",
    "        ('prm', ('parameters.prm', open(repath+'parameters','rb')))\n",
    "    )\n",
    "    \n",
    "    # Encode data\n",
    "    m=MultipartEncoder(fields=step4_files)\n",
    "    headers['Content-Type'] = m.content_type\n",
    "    \n",
    "    # Submit step4\n",
    "    rep = s.post(mainurl+'/dynadb/step4_submit/'+subm_id+'/',\n",
    "        headers = headers,\n",
    "        data = m)\n",
    "    \n",
    "    print('step4 finalized ',rep)\n",
    "\n"
   ]
  },
  {
   "cell_type": "code",
   "execution_count": 55,
   "metadata": {},
   "outputs": [
    {
     "name": "stderr",
     "output_type": "stream",
     "text": [
      "2021-11-05 11:55:36,393 - moleculekit.readers - INFO - Attempting PDB query for 5K2D\n"
     ]
    },
    {
     "name": "stdout",
     "output_type": "stream",
     "text": [
      "Submitting 5K2D_complex simulation...\n"
     ]
    },
    {
     "name": "stderr",
     "output_type": "stream",
     "text": [
      "2021-11-05 11:55:47,291 - moleculekit.molecule - WARNING - Alternative atom locations detected. Only altloc A was kept. If you prefer to keep all use the keepaltloc=\"all\" option when reading the file.\n",
      "2021-11-05 11:55:47,295 - moleculekit.molecule - INFO - Removed 106 atoms. 3530 atoms remaining in the molecule.\n"
     ]
    },
    {
     "name": "stdout",
     "output_type": "stream",
     "text": [
      "{'TIP3', 'CLR', 'SOD', 'ZMA', 'CLA', 'POPC'}\n",
      "loging into GPCRmd\n",
      "new submission 394 created\n",
      "step1 finalized  <Response [200]>\n",
      "initiating step 2: small molecule data\n",
      "step2 finalized  <Response [200]>\n",
      "initiating step 3: protein chains\n",
      "step3 finalized  <Response [200]>\n",
      "initiating step 4: simulation files\n",
      "step4 finalized  <Response [200]>\n"
     ]
    }
   ],
   "source": [
    "#### Actual Simulation submission\n",
    "# mainurl = 'http://localhost:8000' \n",
    "mainurl = 'https://submission.gpcrmd.org'\n",
    "\n",
    "# For each of the currently-working-with systems defined in Part 1\n",
    "#for pdbcode in pdb_set:\n",
    "#for pdbcode in testset:\n",
    "for pdbcode in ['5K2D']:\n",
    "    for apo in [False]:\n",
    "#     for apo in [True, False]:\n",
    "        \n",
    "        try:\n",
    "            # Set the path to the folder containing this simulation's files\n",
    "            sysname = pdbcode+\"_apo\" if apo else pdbcode+\"_complex\" \n",
    "            prodpath = resultspath+'production/'+pdbcode+'_apo/' if apo else resultspath+'production/'+pdbcode+'/' \n",
    "            repath = prodpath+'rep_1/'# For files no changing across representations\n",
    "            modelfolder = \"%sreceptor2curate_output/%s/\"%(basepath, pdbcode) \n",
    "            modelpath = \"%s%s_apo_curated.pdb\"%(modelfolder,pdbcode) if apo else \"%s%s_complex_curated.pdb\"%(modelfolder,pdbcode)\n",
    "            \n",
    "            # Load molecule\n",
    "            mymol = Molecule(repath+'structure.pdb')\n",
    "            print('Submitting '+sysname+' simulation...')\n",
    "\n",
    "            ## Step -2: Get information of protein chains and ligand molecules from PDB web\n",
    "            (protdict,ligdict,segtochain,method_id) = get_pdb_info(pdbcode, mymol, ligandsdict)\n",
    "\n",
    "            ## Step -1: Login into GPCRmd\n",
    "            with requests.Session() as s:\n",
    "                login(s)\n",
    "\n",
    "            ## Step 0: Create a new submission\n",
    "            subm_id = new_submission(s, mainurl)\n",
    "\n",
    "            ## Step 1: General information\n",
    "            new_step1(s, subm_id, pdbcode, trajperiod, timestep, repath, modelpath, method_id, apo)\n",
    "\n",
    "            ## Step 2: Small molecules \n",
    "            new_step2(s, subm_id, ligdict)   \n",
    "    \n",
    "            ## Step 3: Protein chains\n",
    "            new_step3(s, subm_id, protdict)\n",
    "\n",
    "            ## Step 4: Dynamics information\n",
    "            new_step4(s, subm_id, prodpath, repath)\n",
    "        \n",
    "        except Exception as e:\n",
    "            print(\"Simulation \"+sysname+\" could not be submitted because \",e)            \n"
   ]
  }
 ],
 "metadata": {
  "kernelspec": {
   "display_name": "Python 3 (ipykernel)",
   "language": "python",
   "name": "python3"
  },
  "language_info": {
   "codemirror_mode": {
    "name": "ipython",
    "version": 3
   },
   "file_extension": ".py",
   "mimetype": "text/x-python",
   "name": "python",
   "nbconvert_exporter": "python",
   "pygments_lexer": "ipython3",
   "version": "3.9.7"
  }
 },
 "nbformat": 4,
 "nbformat_minor": 2
}
