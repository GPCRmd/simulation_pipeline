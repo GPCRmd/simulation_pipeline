{
 "cells": [
  {
   "cell_type": "code",
   "execution_count": 41,
   "metadata": {},
   "outputs": [
    {
     "name": "stdout",
     "output_type": "stream",
     "text": [
      "env: PATH=/soft/EB_repo/bio/structure/programs/goolf/1.7.20/Chimera/1.11.2/bin:/soft/system/easybuild/software/Miniconda3/4.7.10:/soft/system/easybuild/software/Miniconda3/4.7.10/bin:/soft/EB_repo/bio/structure/programs/foss/2016b/VMD/1.9.4a9/bin:/soft/system/lua/bin:/soft/system/luarocks/bin:/home/daranda/miniconda3/bin:/home/daranda/miniconda3/condabin:/usr/lib64/qt-3.3/bin:/soft/system/lua/bin:/soft/system/luarocks/bin:/usr/local/bin:/usr/local/sbin:/usr/bin:/usr/sbin:/bin:/sbin:/opt/puppetlabs/bin:/home/daranda/bin:/home/daranda/software/getcontacts-master:/home/daranda/.local/bin:/home/daranda/bin:/home/daranda/bin:/home/daranda/software/getcontacts-master:/gpcr/users/daranda/doctorat/GPCR_simulations/fake_slurm/:/gpcr/users/daranda/doctorat/GPCR_simulations/fake_slurm/:/gpcr/users/daranda/doctorat/GPCR_simulations/fake_slurm/:/gpcr/users/daranda/doctorat/GPCR_simulations/fake_slurm/:/gpcr/users/daranda/doctorat/GPCR_simulations/fake_slurm/\n"
     ]
    }
   ],
   "source": [
    "####################\n",
    "## Initial stuff\n",
    "####################\n",
    "\n",
    "# Load functions, modules and global variables required in our pipeline\n",
    "from simulate_structures_functions import *\n",
    "from importlib import reload  \n",
    "from htmd.builder.charmm import _recoverProtonations\n",
    "\n",
    "# Are we running curated structures??\n",
    "curated = True\n",
    "\n",
    "# PDB codes of the GPCRs to be simulated. \n",
    "# If no codes are provided, all avalible structures in GPCRdb will be used (except the ones already simulated)\n",
    "noncomplex = {\"3C9L\",\"3C9M\",\"6ZDR\",\"6ZDV\",\"6TPK\", \"6S0Q\", \"6V9S\", \"6WJC\", \"6W25\", \"6OBA\", \"6LW5\", \"6KP6\", \"6LUQ\", \"6LI1\", \"6LI0\", \"6LI2\", \"6KPC\", \"6LRY\", \"6KNM\", \"6TOT\", \"6TOS\", \"6TO7\", \"6TP6\", \"6TQ7\", \"6TOD\", \"6TP3\", \"6TQ4\", \"6TQ9\", \"6TP4\", \"6TQ6\", \"6TPN\", \"6TPG\", \"6TPJ\", \"6OL9\", \"6RZ6\", \"6RZ9\", \"6RZ7\", \"6RZ8\", \"6PT2\", \"6PT3\", \"6KUX\", \"6KUY\", \"6KUW\", \"6IQL\", \"6PS7\", \"6PS0\", \"6PS3\", \"6PS5\", \"6PS1\", \"6PS4\", \"6PRZ\", \"6PS2\", \"6PS6\", \"6KK1\", \"6KK7\", \"6KJV\", \"6PS8\", \"6JZH\", \"6RZ4\", \"6RZ5\", \"6KQI\", \"6K1Q\", \"6GT3\", \"6MH8\", \"6ME2\", \"6ME3\", \"6ME4\", \"6ME5\", \"6ME6\", \"6ME7\", \"6ME8\", \"6ME9\", \"6J21\", \"6J20\", \"6A94\", \"6A93\", \"5ZTY\", \"6HLP\", \"6HLO\", \"6HLL\", \"6GPX\", \"6GPS\", \"6IIV\", \"6IIU\", \"6E59\", \"6M9T\", \"6AK3\", \"5ZHP\", \"5ZKC\", \"5ZK3\", \"5YC8\", \"5ZK8\", \"5ZKB\", \"6IGK\", \"6IGL\", \"6FJ3\", \"6AKX\", \"6AKY\", \"6D27\", \"6D26\", \"6DRX\", \"6DS0\", \"6DRY\", \"6DRZ\", \"6BD4\", \"5ZKQ\", \"5ZKP\", \"6C1R\", \"6C1Q\", \"6D32\", \"6D35\", \"5KW2\", \"5ZBH\", \"5ZBQ\", \"6FK7\", \"6FKA\",  \"6FK6\", \"6FK9\", \"6FKC\", \"6FK8\", \"6FKB\", \"6CM4\", \"6FFI\", \"6FFH\", \"5WF5\", \"5WF6\", \"5V54\", \"5OLH\", \"5OLZ\", \"5OLO\", \"5OM1\", \"5OLG\", \"5OLV\", \"5OM4\", \"5YQZ\", \"6AQF\", \"5O9H\", \"5X33\", \"5VRA\", \"5WS3\", \"5WQC\", \"5WIV\", \"5WIU\", \"5NM4\", \"5NM2\", \"5NLX\", \"5X7D\", \"5X93\", \"5XPR\", \"5XSZ\", \"5N2S\", \"5MZP\", \"5MZJ\", \"5N2R\", \"5XRA\", \"5XR8\", \"5UIW\", \"5NX2\", \"5TZY\", \"5TZR\", \"5JTB\", \"5VBL\", \"5UVI\", \"5VEW\", \"5V56\", \"5V57\", \"5VEX\", \"5NDD\", \"5NDZ\", \"5UNH\", \"5UNF\", \"5UNG\", \"5TE3\", \"5TE5\", \"5UEN\", \"5UIG\", \"5TVN\", \"5T04\", \"5T1A\", \"5U09\", \"5TGZ\", \"5K2C\", \"5K2B\", \"5K2A\", \"5K2D\", \"5GLI\", \"5GLH\", \"5D6L\", \"5DYS\", \"5L7D\", \"5L7I\", \"5IU7\", \"5IUB\", \"5IU8\", \"5IU4\", \"5IUA\", \"4Z9G\", \"5EE7\", \"5DSG\", \"5CXV\", \"4ZJ8\", \"4ZJC\", \"5F8U\", \"5DHG\", \"5DHH\", \"4ZUD\", \"5A8E\", \"5CGC\", \"5CGD\", \"4XEE\", \"4XES\", \"4Z35\", \"4Z34\", \"4Z36\", \"4YAY\", \"4UHR\", \"4XNW\", \"4XNV\", \"4XT3\", \"4RWS\", \"4RWD\", \"4S0V\", \"4U15\", \"4U16\", \"4QIM\", \"4QIN\", \"4PHU\", \"4OO9\", \"4PXZ\", \"4PY0\", \"4BVN\", \"4NTJ\", \"4OR2\", \"4O9R\", \"4BUO\", \"4N4W\", \"4N6H\", \"4NC3\", \"4MBS\", \"4L6R\", \"4K5Y\", \"4JKV\", \"3ZPR\", \"3ZPQ\", \"4IAQ\", \"4IAR\", \"4IB4\", \"4GPO\", \"3VW7\", \"4GBR\", \"4GRV\", \"4EIY\", \"4AMJ\", \"4AMI\", \"4EJ4\", \"4EA3\", \"3UZA\", \"3UZC\", \"4DJH\", \"4DKL\", \"3V2Y\", \"3UON\", \"3REY\", \"3RFM\", \"3RZE\", \"2YCZ\", \"2YCW\", \"2YDV\", \"2YDO\", \"3QAK\", \"2Y04\", \"2Y00\", \"2Y03\", \"2Y02\", \"3PDS\", \"3PBL\", \"3ODU\", \"3OE0\", \"3NY9\", \"3NY8\", \"3NYA\", \"3D4S\", \"2Z73\", \"2RH1\", \"1U19\", \"1GZM\"}\n",
    "noncomplex_nonGPCRmd = {\"3C9L\",\"3C9M\",\"6ZDR\",\"6ZDV\",'6RZ8', '6FFI', '6KJV', '6TQ6', '6DRY', '5WIV', '5V57', '6LI2', '6MH8', '5MZJ', '5KW2', '5X33', '5ZHP', '6PS6', '6FJ3', '6D35', '4NTJ', '6A94', '6AK3', '5UVI', '6FFH', '5WIU', '6KQI', '5XR8', '6RZ9', '5VEX', '6LW5', '6FKA', '6PS7', '6M9T', '6KNM', '6ME6', '6GPX', '5XSZ', '5K2A', '5YQZ', '6PS0', '5K2C', '6ME7', '2Z73', '6D32', '6RZ4', '5YC8', '5T1A', '6AKY', '4N4W', '5WS3', '6LRY', '6J21', '5TE5', '4O9R', '6FK6', '1GZM', '6DRX', '6TQ7', '5NDZ', '6IGL', '5VRA', '5ZBQ', '6TPN', '5ZTY', '6DS0', '5NLX', '5X93', '6HLP', '5OLG', '5OM4', '5O9H', '5XPR', '6A93', '5GLI', '6OBA', '6D27', '6HLO', '6RZ5', '5TE3', '6IIV', '6KP6', '6TQ4', '6TPJ', '5V56', '5UNG', '6FK9', '6PS8', '2YCZ', '6JZH', '5XRA', '5ZKB', '4JKV', '5MZP', '5K2D', '5OLV', '5X7D', '5T04', '5OLO', '5DYS', '6FK7', '6J20', '6K1Q', '5EE7', '6D26', '6PS1', '6DRZ', '4GBR', '6FKC', '6TP6', '6LUQ', '5ZKQ', '5UNH', '6PRZ', '5UNF', '5NX2', '6LI0', '5NM2', '5D6L', '6AQF', '6KK1', '6C1Q', '4Z9G', '6LI1', '5WF5', '6FKB',  '5OLH', '4XT3', '5ZK3', '5VEW', '4XES', '6HLL', '6TOT', '5N2R', '5WF6', '5K2B', '6TPG', '6PS4', '5F8U', '6ME4', '6GT3', '6RZ6', '6ME8', '6ME2', '5VBL', '5N2S', '5ZBH', '6PS3', '6IIU', '4NC3', '5JTB', '5ZKP', '6TQ9', '6GPS', '6TP3', '6RZ7', '6ME3', '5ZK8', '6C1R', '5V54', '5UIG', '5TVN', '5OM1', '6AKX', '5ZKC', '5NM4', '5TZY', '6TOD', '4GPO', '6TO7', '6CM4', '6TOS', '6PS5', '6ME9', '5NDD', '6KPC', '6KK7', '4BUO', '6OL9', '6PS2', '6FK8', '6ME5', '6TP4', '4QIM', '6IGK', '5WQC', '5UIW', '5TZR', '5OLZ', '4EJ4', '6E59'}\n",
    "noncomplex_nonGPCRmd_agonist = {'5T04', '6ME9', '4BUO', '6ME6', '5VBL', '5TZR', '6D35', '6LW5', '5YQZ', '6ME3', '5WF6', '6D32', '5TE5', '4XES', '6AK3', '5DYS', '5KW2', '5WF5', '6FK6', '6ME7', '4NC3', '6ME2', '6FKA', '6DRY', '6FK7', '5TVN', '6KPC', '6KQI', '6LRY', '6IGL', '5NX2', '6M9T', '6FKC', '6FKB', '6FJ3', '6IGK', '6KNM', '6FK9', '6ME8', '6ME5', '6ME4', '5XRA', '5N2S', '5TZY', '6FK8', '6LI0', '5XR8'}\n",
    "gprot_complex_set = {\"7MBY\",\"7MBX\",\"7KH0\",\"7EB2\",\"7CX4\",\"7CX2\",\"7CX3\",\"7AUE\",\"7E32\",\"7E2X\",\"7E2Z\",\"7E2Y\",\"7E33\",\"7JOZ\",\"7DFL\",\"7CMU\",\"7CMV\",\"7CKX\",\"7CKZ\",\"7CKW\",\"7CRH\",\"7CKY\",\"7LJD\",\"7LJC\",\"7JVP\",\"7JVQ\",\"7JV5\",\"7JVR\",\"7L1V\",\"7L1U\",\"7D77\",\"7D76\",\"7LCI\",\"7L0S\",\"7L0P\",\"7L0Q\",\"7L0R\",\"7DHI\",\"7DHR\",\"7D68\",\"7AD3\",\"7CZ5\",\"6XOX\",\"7D7M\",\"7D3S\",\"6XBL\",\"6XBM\",\"6XBJ\",\"6XBK\",\"6WHA\",\"6X1A\",\"6X19\",\"6X18\",\"7CFM\",\"7CFN\",\"7JJO\",\"6LFO\",\"6LFM\",\"7BW0\",\"6VN7\",\"7C2E\",\"6WPW\",\"6WI9\",\"6WZG\",\"7BZ2\",\"6VCB\",\"6PH7\",\"6PGS\",\"6WWZ\",\"6PEL\",\"6VMS\",\"6WHC\",\"6K42\",\"6K41\",\"6UUS\",\"6UVA\",\"6LMK\",\"6LML\",\"6UUN\",\"6LPB\",\"6M1I\",\"6M1H\",\"6OMM\",\"6LI3\",\"6KPG\",\"6PT0\",\"6KPF\",\"6PB0\",\"6PB1\",\"6NWE\",\"6P9X\",\"6P9Y\",\"6ORV\",\"6NI3\",\"6OY9\",\"6OYA\",\"6OS9\",\"6OSA\",\"6QNO\",\"6OT0\",\"6E67\",\"6OIJ\",\"6OIK\",\"6NBI\",\"6NBF\",\"6NBH\",\"6N4B\",\"6NIY\",\"6FUF\",\"6E3Y\",\"6G79\",\"6D9H\",\"6CMO\",\"6DDE\",\"6DDF\",\"6GDG\",\"6B3J\",\"5WKT\",\"5VAI\",\"5UZ7\",\"5EN0\",\"5G53\",\"4X1H\",\"4J4Q\",\"4BEY\",\"4A4M\",\"3SN6\",\"2X72\",\"3PQR\",\"3DQB\"}\n",
    "modres_set = {'5NX2', '5UIW', '5VBL', '5TE5', '6LW5', '5X7D', '4XT3'}\n",
    "bad_set = {\"5ZKB\",\"5X7D\",\"5UNF\",\"5V54\",\"6TPN\",\"5ZKC\",\"5VBL\",\"5OM1\",\"6RZ4\",\"6KP6\",\"6IGK\",\"6HLL\",\"6A93\",\"6A94\",\"6LRY\",\"5UNG\",\"6LW5\",\"5ZK3\",\"6TPG\",\"6IIU\",\"6J21\",\"5VEX\",\"5UNH\",\"2Z73\",\"5T04\",\"5T1A\",\"6FJ3\",\"5XR8\",\"6OL9\",\"6TPJ\",\"5ZK8\"}\n",
    "pdb_set = noncomplex_nonGPCRmd\n",
    "\n",
    "# Our main path\n",
    "basepath = '/gpcr/users/daranda/doctorat/GPCR_simulations/'\n",
    "# Other Paths\n",
    "strucpath = basepath + 'data_structures/'\n",
    "resultspath = basepath + 'simulation_output/'\n",
    "membranepdb = basepath + 'membrane/popc36_box_renumbered.pdb'\n",
    "topparpath = basepath + 'toppar/TOP_PARAMS_ACE3/'#toppar= topology+parameters\n",
    "ligandsdict_path = basepath + 'ligands.json'\n",
    "modres_path = basepath + 'modified_residues.json'\n",
    "slurmpath = basepath+'fake_slurm/'\n",
    "# Path to slurm queing system binaries\n",
    "# In our case, Ismael designed a bunch of small bash scripts (fake_slurm) which do ssh to Hydra and execute slurm there\n",
    "path= os.environ['PATH']\n",
    "\n",
    "# Modify path to include fake slurm\n",
    "%env PATH=$path:$slurmpath\n",
    "\n",
    "# Load topology, parameter and stream files with our current basepath\n",
    "topos = [os.path.join(topparpath,file) for file in toposfilenames] \n",
    "params = [os.path.join(topparpath,file) for file in paramsfilenames]\n",
    "streams = [os.path.join(topparpath,file) for file in streamsfilenames]\n"
   ]
  },
  {
   "cell_type": "code",
   "execution_count": 42,
   "metadata": {},
   "outputs": [
    {
     "name": "stdout",
     "output_type": "stream",
     "text": [
      "Downloading 6C1R structure (1/191)\n",
      "Structure for 6C1R already present. Skipping...\n",
      "Downloading 5ZK3 structure (2/191)\n",
      "Structure for 5ZK3 already present. Skipping...\n",
      "Downloading 3C9M structure (3/191)\n",
      "Structure for 3C9M already present. Skipping...\n",
      "Downloading 6RZ8 structure (4/191)\n",
      "Structure for 6RZ8 already present. Skipping...\n",
      "Downloading 5VEX structure (5/191)\n",
      "Structure for 5VEX already present. Skipping...\n",
      "Downloading 1GZM structure (6/191)\n",
      "Structure for 1GZM already present. Skipping...\n",
      "Downloading 5NLX structure (7/191)\n",
      "Structure for 5NLX already present. Skipping...\n",
      "Downloading 6TOT structure (8/191)\n",
      "Structure for 6TOT already present. Skipping...\n",
      "Downloading 5UVI structure (9/191)\n",
      "Structure for 5UVI already present. Skipping...\n",
      "Downloading 5N2R structure (10/191)\n",
      "Structure for 5N2R already present. Skipping...\n",
      "Downloading 6FKC structure (11/191)\n",
      "Structure for 6FKC already present. Skipping...\n",
      "Downloading 6TP6 structure (12/191)\n",
      "Structure for 6TP6 already present. Skipping...\n",
      "Downloading 6RZ9 structure (13/191)\n",
      "Structure for 6RZ9 already present. Skipping...\n",
      "Downloading 5XPR structure (14/191)\n",
      "Structure for 5XPR already present. Skipping...\n",
      "Downloading 6ME3 structure (15/191)\n",
      "Structure for 6ME3 already present. Skipping...\n",
      "Downloading 4BUO structure (16/191)\n",
      "Structure for 4BUO already present. Skipping...\n",
      "Downloading 5UNG structure (17/191)\n",
      "Structure for 5UNG already present. Skipping...\n",
      "Downloading 5NDD structure (18/191)\n",
      "Structure for 5NDD already present. Skipping...\n",
      "Downloading 6C1Q structure (19/191)\n",
      "Structure for 6C1Q already present. Skipping...\n",
      "Downloading 6MH8 structure (20/191)\n",
      "Structure for 6MH8 already present. Skipping...\n",
      "Downloading 5OM4 structure (21/191)\n",
      "Structure for 5OM4 already present. Skipping...\n",
      "Downloading 3C9L structure (22/191)\n",
      "Structure for 3C9L already present. Skipping...\n",
      "Downloading 6TOD structure (23/191)\n",
      "Structure for 6TOD already present. Skipping...\n",
      "Downloading 6HLP structure (24/191)\n",
      "Structure for 6HLP already present. Skipping...\n",
      "Downloading 5YC8 structure (25/191)\n",
      "Structure for 5YC8 already present. Skipping...\n",
      "Downloading 5V54 structure (26/191)\n",
      "Structure for 5V54 already present. Skipping...\n",
      "Downloading 5TZR structure (27/191)\n",
      "Structure for 5TZR already present. Skipping...\n",
      "Downloading 6FK9 structure (28/191)\n",
      "Structure for 6FK9 already present. Skipping...\n",
      "Downloading 4XT3 structure (29/191)\n",
      "Structure for 4XT3 already present. Skipping...\n",
      "Downloading 6ME9 structure (30/191)\n",
      "Structure for 6ME9 already present. Skipping...\n",
      "Downloading 2Z73 structure (31/191)\n",
      "Structure for 2Z73 already present. Skipping...\n",
      "Downloading 6KK1 structure (32/191)\n",
      "Structure for 6KK1 already present. Skipping...\n",
      "Downloading 6D27 structure (33/191)\n",
      "Structure for 6D27 already present. Skipping...\n",
      "Downloading 6AKY structure (34/191)\n",
      "Structure for 6AKY already present. Skipping...\n",
      "Downloading 6HLO structure (35/191)\n",
      "Structure for 6HLO already present. Skipping...\n",
      "Downloading 5JTB structure (36/191)\n",
      "Structure for 5JTB already present. Skipping...\n",
      "Downloading 5ZKC structure (37/191)\n",
      "Structure for 5ZKC already present. Skipping...\n",
      "Downloading 6FKA structure (38/191)\n",
      "Structure for 6FKA already present. Skipping...\n",
      "Downloading 6ME5 structure (39/191)\n",
      "Structure for 6ME5 already present. Skipping...\n",
      "Downloading 6PS4 structure (40/191)\n",
      "Structure for 6PS4 already present. Skipping...\n",
      "Downloading 5T1A structure (41/191)\n",
      "Structure for 5T1A already present. Skipping...\n",
      "Downloading 5TE3 structure (42/191)\n",
      "Structure for 5TE3 already present. Skipping...\n",
      "Downloading 5ZKQ structure (43/191)\n",
      "Structure for 5ZKQ already present. Skipping...\n",
      "Downloading 6FFH structure (44/191)\n",
      "Structure for 6FFH already present. Skipping...\n",
      "Downloading 5ZKP structure (45/191)\n",
      "could not download 5ZKP refined structure. Skipping...\n",
      "Downloading 5TE5 structure (46/191)\n",
      "Structure for 5TE5 already present. Skipping...\n",
      "Downloading 5OLH structure (47/191)\n",
      "Structure for 5OLH already present. Skipping...\n",
      "Downloading 5XRA structure (48/191)\n",
      "Structure for 5XRA already present. Skipping...\n",
      "Downloading 6TP4 structure (49/191)\n",
      "Structure for 6TP4 already present. Skipping...\n",
      "Downloading 6DRZ structure (50/191)\n",
      "Structure for 6DRZ already present. Skipping...\n",
      "Downloading 6LI0 structure (51/191)\n",
      "Structure for 6LI0 already present. Skipping...\n",
      "Downloading 6PS3 structure (52/191)\n",
      "Structure for 6PS3 already present. Skipping...\n",
      "Downloading 6LW5 structure (53/191)\n",
      "Structure for 6LW5 already present. Skipping...\n",
      "Downloading 5D6L structure (54/191)\n",
      "Structure for 5D6L already present. Skipping...\n",
      "Downloading 6FFI structure (55/191)\n",
      "Structure for 6FFI already present. Skipping...\n",
      "Downloading 5DYS structure (56/191)\n",
      "Structure for 5DYS already present. Skipping...\n",
      "Downloading 4GPO structure (57/191)\n",
      "Structure for 4GPO already present. Skipping...\n",
      "Downloading 5K2C structure (58/191)\n",
      "Structure for 5K2C already present. Skipping...\n",
      "Downloading 6ZDV structure (59/191)\n",
      "Structure for 6ZDV already present. Skipping...\n",
      "Downloading 5ZHP structure (60/191)\n",
      "Structure for 5ZHP already present. Skipping...\n",
      "Downloading 6IGK structure (61/191)\n",
      "Structure for 6IGK already present. Skipping...\n",
      "Downloading 5YQZ structure (62/191)\n",
      "Structure for 5YQZ already present. Skipping...\n",
      "Downloading 6HLL structure (63/191)\n",
      "Structure for 6HLL already present. Skipping...\n",
      "Downloading 6A94 structure (64/191)\n",
      "Structure for 6A94 already present. Skipping...\n",
      "Downloading 5NDZ structure (65/191)\n",
      "Structure for 5NDZ already present. Skipping...\n",
      "Downloading 6D35 structure (66/191)\n",
      "Structure for 6D35 already present. Skipping...\n",
      "Downloading 5WIU structure (67/191)\n",
      "Structure for 5WIU already present. Skipping...\n",
      "Downloading 5T04 structure (68/191)\n",
      "Structure for 5T04 already present. Skipping...\n",
      "Downloading 5F8U structure (69/191)\n",
      "Structure for 5F8U already present. Skipping...\n",
      "Downloading 6IIU structure (70/191)\n",
      "Structure for 6IIU already present. Skipping...\n",
      "Downloading 5VRA structure (71/191)\n",
      "Structure for 5VRA already present. Skipping...\n",
      "Downloading 6ME6 structure (72/191)\n",
      "Structure for 6ME6 already present. Skipping...\n",
      "Downloading 5VEW structure (73/191)\n",
      "Structure for 5VEW already present. Skipping...\n",
      "Downloading 6D32 structure (74/191)\n",
      "Structure for 6D32 already present. Skipping...\n",
      "Downloading 6AK3 structure (75/191)\n",
      "Structure for 6AK3 already present. Skipping...\n",
      "Downloading 2YCZ structure (76/191)\n",
      "Structure for 2YCZ already present. Skipping...\n",
      "Downloading 6LI1 structure (77/191)\n",
      "Structure for 6LI1 already present. Skipping...\n",
      "Downloading 6TQ9 structure (78/191)\n",
      "Structure for 6TQ9 already present. Skipping...\n",
      "Downloading 6PS2 structure (79/191)\n",
      "Structure for 6PS2 already present. Skipping...\n",
      "Downloading 6TQ4 structure (80/191)\n",
      "Structure for 6TQ4 already present. Skipping...\n",
      "Downloading 5UNF structure (81/191)\n",
      "Structure for 5UNF already present. Skipping...\n",
      "Downloading 6TO7 structure (82/191)\n",
      "Structure for 6TO7 already present. Skipping...\n",
      "Downloading 6IIV structure (83/191)\n",
      "Structure for 6IIV already present. Skipping...\n",
      "Downloading 5X33 structure (84/191)\n",
      "Structure for 5X33 already present. Skipping...\n",
      "Downloading 6GPS structure (85/191)\n",
      "Structure for 6GPS already present. Skipping...\n",
      "Downloading 4NC3 structure (86/191)\n",
      "Structure for 4NC3 already present. Skipping...\n",
      "Downloading 4GBR structure (87/191)\n",
      "Structure for 4GBR already present. Skipping...\n",
      "Downloading 6PS0 structure (88/191)\n",
      "Structure for 6PS0 already present. Skipping...\n",
      "Downloading 5WS3 structure (89/191)\n",
      "Structure for 5WS3 already present. Skipping...\n",
      "Downloading 5WQC structure (90/191)\n",
      "Structure for 5WQC already present. Skipping...\n",
      "Downloading 6RZ7 structure (91/191)\n",
      "Structure for 6RZ7 already present. Skipping...\n",
      "Downloading 6FJ3 structure (92/191)\n",
      "Structure for 6FJ3 already present. Skipping...\n",
      "Downloading 5OLO structure (93/191)\n",
      "Structure for 5OLO already present. Skipping...\n",
      "Downloading 5ZBH structure (94/191)\n",
      "Structure for 5ZBH already present. Skipping...\n",
      "Downloading 6ME2 structure (95/191)\n",
      "Structure for 6ME2 already present. Skipping...\n",
      "Downloading 4Z9G structure (96/191)\n",
      "Structure for 4Z9G already present. Skipping...\n",
      "Downloading 5TZY structure (97/191)\n",
      "Structure for 5TZY already present. Skipping...\n",
      "Downloading 5K2D structure (98/191)\n",
      "Structure for 5K2D already present. Skipping...\n",
      "Downloading 5V57 structure (99/191)\n",
      "Structure for 5V57 already present. Skipping...\n",
      "Downloading 5OLG structure (100/191)\n",
      "Structure for 5OLG already present. Skipping...\n",
      "Downloading 6K1Q structure (101/191)\n",
      "Structure for 6K1Q already present. Skipping...\n",
      "Downloading 6E59 structure (102/191)\n",
      "Structure for 6E59 already present. Skipping...\n",
      "Downloading 6AKX structure (103/191)\n",
      "Structure for 6AKX already present. Skipping...\n",
      "Downloading 6RZ5 structure (104/191)\n",
      "Structure for 6RZ5 already present. Skipping...\n",
      "Downloading 5ZBQ structure (105/191)\n",
      "Structure for 5ZBQ already present. Skipping...\n",
      "Downloading 5UNH structure (106/191)\n",
      "Structure for 5UNH already present. Skipping...\n",
      "Downloading 6J20 structure (107/191)\n",
      "Structure for 6J20 already present. Skipping...\n",
      "Downloading 4JKV structure (108/191)\n",
      "Structure for 4JKV already present. Skipping...\n",
      "Downloading 6ZDR structure (109/191)\n",
      "Structure for 6ZDR already present. Skipping...\n",
      "Downloading 5ZKB structure (110/191)\n",
      "Structure for 5ZKB already present. Skipping...\n",
      "Downloading 5NM4 structure (111/191)\n",
      "Structure for 5NM4 already present. Skipping...\n",
      "Downloading 6TPG structure (112/191)\n",
      "Structure for 6TPG already present. Skipping...\n",
      "Downloading 6JZH structure (113/191)\n",
      "Structure for 6JZH already present. Skipping...\n",
      "Downloading 5K2B structure (114/191)\n",
      "Structure for 5K2B already present. Skipping...\n",
      "Downloading 6OBA structure (115/191)\n",
      "Structure for 6OBA already present. Skipping...\n",
      "Downloading 5XR8 structure (116/191)\n",
      "Structure for 5XR8 already present. Skipping...\n",
      "Downloading 6ME7 structure (117/191)\n",
      "Structure for 6ME7 already present. Skipping...\n",
      "Downloading 6FKB structure (118/191)\n",
      "Structure for 6FKB already present. Skipping...\n",
      "Downloading 6J21 structure (119/191)\n",
      "Structure for 6J21 already present. Skipping...\n",
      "Downloading 5KW2 structure (120/191)\n",
      "Structure for 5KW2 already present. Skipping...\n",
      "Downloading 6FK7 structure (121/191)\n",
      "Structure for 6FK7 already present. Skipping...\n",
      "Downloading 5NX2 structure (122/191)\n",
      "Structure for 5NX2 already present. Skipping...\n",
      "Downloading 6GPX structure (123/191)\n",
      "Structure for 6GPX already present. Skipping...\n",
      "Downloading 5X7D structure (124/191)\n",
      "Structure for 5X7D already present. Skipping...\n",
      "Downloading 6LUQ structure (125/191)\n",
      "Structure for 6LUQ already present. Skipping...\n",
      "Downloading 5VBL structure (126/191)\n",
      "Structure for 5VBL already present. Skipping...\n",
      "Downloading 5WIV structure (127/191)\n",
      "Structure for 5WIV already present. Skipping...\n",
      "Downloading 5UIG structure (128/191)\n",
      "Structure for 5UIG already present. Skipping...\n",
      "Downloading 6IGL structure (129/191)\n",
      "Structure for 6IGL already present. Skipping...\n",
      "Downloading 6TPN structure (130/191)\n",
      "Structure for 6TPN already present. Skipping...\n",
      "Downloading 6ME8 structure (131/191)\n",
      "Structure for 6ME8 already present. Skipping...\n",
      "Downloading 4EJ4 structure (132/191)\n",
      "Structure for 4EJ4 already present. Skipping...\n",
      "Downloading 6CM4 structure (133/191)\n",
      "Structure for 6CM4 already present. Skipping...\n",
      "Downloading 5XSZ structure (134/191)\n",
      "Structure for 5XSZ already present. Skipping...\n",
      "Downloading 6DS0 structure (135/191)\n",
      "Structure for 6DS0 already present. Skipping...\n",
      "Downloading 5OLZ structure (136/191)\n",
      "Structure for 5OLZ already present. Skipping...\n",
      "Downloading 6M9T structure (137/191)\n",
      "Structure for 6M9T already present. Skipping...\n",
      "Downloading 6LRY structure (138/191)\n",
      "Structure for 6LRY already present. Skipping...\n",
      "Downloading 6FK8 structure (139/191)\n",
      "Structure for 6FK8 already present. Skipping...\n",
      "Downloading 5MZP structure (140/191)\n",
      "Structure for 5MZP already present. Skipping...\n",
      "Downloading 4QIM structure (141/191)\n",
      "Structure for 4QIM already present. Skipping...\n",
      "Downloading 6OL9 structure (142/191)\n",
      "Structure for 6OL9 already present. Skipping...\n",
      "Downloading 5OLV structure (143/191)\n",
      "Structure for 5OLV already present. Skipping...\n",
      "Downloading 6TP3 structure (144/191)\n",
      "Structure for 6TP3 already present. Skipping...\n",
      "Downloading 6KQI structure (145/191)\n",
      "Structure for 6KQI already present. Skipping...\n",
      "Downloading 6AQF structure (146/191)\n",
      "Structure for 6AQF already present. Skipping...\n",
      "Downloading 6KJV structure (147/191)\n",
      "Structure for 6KJV already present. Skipping...\n",
      "Downloading 6PS7 structure (148/191)\n",
      "Structure for 6PS7 already present. Skipping...\n",
      "Downloading 4NTJ structure (149/191)\n",
      "Structure for 4NTJ already present. Skipping...\n",
      "Downloading 5V56 structure (150/191)\n",
      "Structure for 5V56 already present. Skipping...\n",
      "Downloading 4O9R structure (151/191)\n",
      "Structure for 4O9R already present. Skipping...\n",
      "Downloading 6TPJ structure (152/191)\n",
      "Structure for 6TPJ already present. Skipping...\n",
      "Downloading 6PS8 structure (153/191)\n",
      "Structure for 6PS8 already present. Skipping...\n",
      "Downloading 6PS6 structure (154/191)\n",
      "Structure for 6PS6 already present. Skipping...\n",
      "Downloading 6D26 structure (155/191)\n",
      "Structure for 6D26 already present. Skipping...\n",
      "Downloading 6ME4 structure (156/191)\n",
      "Structure for 6ME4 already present. Skipping...\n",
      "Downloading 5GLI structure (157/191)\n",
      "Structure for 5GLI already present. Skipping...\n",
      "Downloading 6DRX structure (158/191)\n",
      "Structure for 6DRX already present. Skipping...\n",
      "Downloading 6TOS structure (159/191)\n",
      "Structure for 6TOS already present. Skipping...\n",
      "Downloading 6KNM structure (160/191)\n",
      "Structure for 6KNM already present. Skipping...\n",
      "Downloading 6RZ6 structure (161/191)\n",
      "Structure for 6RZ6 already present. Skipping...\n",
      "Downloading 5N2S structure (162/191)\n",
      "Structure for 5N2S already present. Skipping...\n",
      "Downloading 6TQ7 structure (163/191)\n",
      "Structure for 6TQ7 already present. Skipping...\n",
      "Downloading 5EE7 structure (164/191)\n",
      "Structure for 5EE7 already present. Skipping...\n",
      "Downloading 6A93 structure (165/191)\n",
      "Structure for 6A93 already present. Skipping...\n",
      "Downloading 5NM2 structure (166/191)\n",
      "Structure for 5NM2 already present. Skipping...\n",
      "Downloading 5WF6 structure (167/191)\n",
      "Structure for 5WF6 already present. Skipping...\n",
      "Downloading 5TVN structure (168/191)\n",
      "Structure for 5TVN already present. Skipping...\n",
      "Downloading 6KPC structure (169/191)\n",
      "Structure for 6KPC already present. Skipping...\n",
      "Downloading 4XES structure (170/191)\n",
      "Structure for 4XES already present. Skipping...\n",
      "Downloading 5MZJ structure (171/191)\n",
      "Structure for 5MZJ already present. Skipping...\n",
      "Downloading 6GT3 structure (172/191)\n",
      "Structure for 6GT3 already present. Skipping...\n",
      "Downloading 6RZ4 structure (173/191)\n",
      "Structure for 6RZ4 already present. Skipping...\n",
      "Downloading 6PS1 structure (174/191)\n",
      "Structure for 6PS1 already present. Skipping...\n",
      "Downloading 5WF5 structure (175/191)\n",
      "Structure for 5WF5 already present. Skipping...\n",
      "Downloading 5UIW structure (176/191)\n",
      "Structure for 5UIW already present. Skipping...\n",
      "Downloading 6KP6 structure (177/191)\n",
      "Structure for 6KP6 already present. Skipping...\n",
      "Downloading 6FK6 structure (178/191)\n",
      "Structure for 6FK6 already present. Skipping...\n",
      "Downloading 5ZTY structure (179/191)\n",
      "Structure for 5ZTY already present. Skipping...\n",
      "Downloading 6LI2 structure (180/191)\n",
      "Structure for 6LI2 already present. Skipping...\n",
      "Downloading 6PRZ structure (181/191)\n",
      "Structure for 6PRZ already present. Skipping...\n",
      "Downloading 5O9H structure (182/191)\n",
      "Structure for 5O9H already present. Skipping...\n",
      "Downloading 5OM1 structure (183/191)\n",
      "Structure for 5OM1 already present. Skipping...\n",
      "Downloading 6KK7 structure (184/191)\n",
      "Structure for 6KK7 already present. Skipping...\n",
      "Downloading 5ZK8 structure (185/191)\n",
      "Structure for 5ZK8 already present. Skipping...\n",
      "Downloading 6DRY structure (186/191)\n",
      "Structure for 6DRY already present. Skipping...\n",
      "Downloading 4N4W structure (187/191)\n",
      "Structure for 4N4W already present. Skipping...\n",
      "Downloading 6PS5 structure (188/191)\n",
      "Structure for 6PS5 already present. Skipping...\n",
      "Downloading 5X93 structure (189/191)\n",
      "Structure for 5X93 already present. Skipping...\n",
      "Downloading 6TQ6 structure (190/191)\n",
      "Structure for 6TQ6 already present. Skipping...\n",
      "Downloading 5K2A structure (191/191)\n",
      "Structure for 5K2A already present. Skipping...\n"
     ]
    }
   ],
   "source": [
    "################################################\n",
    "# Part 1: Download data and prepare dictionaries\n",
    "################################################\n",
    "\n",
    "if not bool(pdb_set):\n",
    "    #Get not yet simulated PDB codes from GPCRdb\n",
    "    get_GPCRdb_nonsimulated(gpcrdb_dict)\n",
    "\n",
    "# Download and store structures from GPCRdb\n",
    "download_GPCRdb_structures(pdb_set, strucpath)\n",
    "\n",
    "#Create or moidfy the ligands dictionary\n",
    "(ligandsdict, ligandsset, modresdict) = ligand_dictionary(pdb_set, ligandsdict_path, modres_path, blacklist)\n",
    "\n",
    "# Download ligand structures from system\n",
    "download_ligands(ligandsset, basepath)\n",
    "\n",
    "# Get topology-parameter files for ligands\n",
    "get_lig_toppar(ligandsdict, basepath, username, password)\n",
    "\n",
    "# Get topology-parameter files for modified residues\n",
    "get_modres_toppar(modresdict, basepath, username, password)"
   ]
  },
  {
   "cell_type": "code",
   "execution_count": 4,
   "metadata": {
    "scrolled": true
   },
   "outputs": [
    {
     "name": "stdout",
     "output_type": "stream",
     "text": [
      "Build model for 5OLZ already exists. Skipping...\n"
     ]
    },
    {
     "name": "stderr",
     "output_type": "stream",
     "text": [
      "2021-04-30 08:51:22,113 - moleculekit.molecule - INFO - Removed 0 atoms. 5005 atoms remaining in the molecule.\n",
      "2021-04-30 08:51:22,149 - moleculekit.molecule - INFO - Removed 0 atoms. 5005 atoms remaining in the molecule.\n",
      "2021-04-30 08:51:24,169 - moleculekit.molecule - WARNING - Alternative atom locations detected. Only altloc A was kept. If you prefer to keep all use the keepaltloc=\"all\" option when reading the file.\n",
      "2021-04-30 08:51:24,170 - moleculekit.molecule - INFO - Removed 99 atoms. 3626 atoms remaining in the molecule.\n",
      "2021-04-30 08:51:24,397 - moleculekit.molecule - INFO - Removed 0 atoms. 5005 atoms remaining in the molecule.\n",
      "2021-04-30 08:51:24,430 - moleculekit.molecule - INFO - Removed 2 atoms. 5003 atoms remaining in the molecule.\n",
      "2021-04-30 08:51:24,522 - moleculekit.molecule - INFO - Removed 0 atoms. 5003 atoms remaining in the molecule.\n",
      "2021-04-30 08:51:24,897 - moleculekit.tools.autosegment - INFO - Created segment P0 between resid 0 and 206.\n",
      "2021-04-30 08:51:24,897 - moleculekit.tools.autosegment - INFO - Created segment P1 between resid 219 and 319.\n",
      "2021-04-30 08:51:28,575 - moleculekit.molecule - INFO - Removed 0 atoms. 5003 atoms remaining in the molecule.\n",
      "2021-04-30 08:51:28,780 - moleculekit.tools.sequencestructuralalignment - INFO - No segment was specified by the user for `mol` and multiple segments (['P0', 'P1']) were detected. Alignment will be done on all protein segments.\n",
      "2021-04-30 08:51:28,817 - moleculekit.tools.sequencestructuralalignment - INFO - No segment was specified by the user for `ref`. Alignment will be done on all protein segments.\n",
      "2021-04-30 08:51:29,109 - moleculekit.tools.sequencestructuralalignment - INFO - Alignment #0 was done on 202 residues: mol segid P0 resid 0-201\n",
      "/home/david/miniconda3/lib/python3.6/site-packages/moleculekit/align.py:16: NumbaPerformanceWarning: np.dot() is faster on contiguous arrays, called on (array(float32, 2d, A), array(float32, 2d, A))\n",
      "  covariance = np.dot(P.T, Q)\n",
      "/home/david/miniconda3/lib/python3.6/site-packages/moleculekit/align.py:54: NumbaPerformanceWarning: np.dot() is faster on contiguous arrays, called on (array(float32, 2d, C), array(float32, 2d, A))\n",
      "  all1 = np.dot(all1, rot.T)\n"
     ]
    },
    {
     "name": "stdout",
     "output_type": "stream",
     "text": [
      "Adding membrane...\n"
     ]
    },
    {
     "name": "stderr",
     "output_type": "stream",
     "text": [
      "2021-04-30 08:51:32,920 - htmd.builder.builder - INFO - Replicating Membrane 3x3\n",
      "Replicating Membrane: 100%|██████████| 9/9 [00:02<00:00,  3.74it/s]\n",
      "2021-04-30 08:53:19,092 - moleculekit.molecule - INFO - Removed 2350 atoms. 42998 atoms remaining in the molecule.\n",
      "2021-04-30 08:53:20,358 - moleculekit.molecule - INFO - Removed 109 residues from appended Molecule due to collisions.\n"
     ]
    },
    {
     "name": "stdout",
     "output_type": "stream",
     "text": [
      "Solvating...\n"
     ]
    },
    {
     "name": "stderr",
     "output_type": "stream",
     "text": [
      "2021-04-30 08:53:21,104 - htmd.builder.solvate - INFO - Using water pdb file at: /home/david/miniconda3/lib/python3.6/site-packages/htmd/share/solvate/wat.pdb\n"
     ]
    },
    {
     "name": "stdout",
     "output_type": "stream",
     "text": [
      "wataerbox Max and min:  [53.579792 54.476017 28.060892] [-47.308205 -46.377983 -27.734108]\n"
     ]
    },
    {
     "name": "stderr",
     "output_type": "stream",
     "text": [
      "2021-04-30 08:53:21,776 - htmd.builder.solvate - INFO - Replicating 8 water segments, 2 by 2 by 2\n",
      "Solvating: 100%|██████████| 8/8 [00:08<00:00,  1.09s/it]\n",
      "2021-04-30 08:53:32,186 - htmd.builder.solvate - INFO - 14179 water molecules were added to the system.\n",
      "2021-04-30 08:53:38,717 - moleculekit.molecule - INFO - Removed 597 atoms. 84767 atoms remaining in the molecule.\n"
     ]
    },
    {
     "name": "stdout",
     "output_type": "stream",
     "text": [
      "Pre-build...\n"
     ]
    },
    {
     "name": "stderr",
     "output_type": "stream",
     "text": [
      "2021-04-30 08:53:45,385 - htmd.builder.charmm - INFO - Writing out segments.\n",
      "2021-04-30 08:53:52,257 - htmd.builder.builder - INFO - 4 disulfide bonds were added\n"
     ]
    },
    {
     "name": "stdout",
     "output_type": "stream",
     "text": [
      "Disulfide Bond between: UniqueResidueID<resname: 'CYX', chain: 'P', resid: 77, insertion: '', segid: 'P0'>\n",
      "                   and: UniqueResidueID<resname: 'CYX', chain: 'P', resid: 166, insertion: '', segid: 'P0'>\n",
      "\n",
      "Disulfide Bond between: UniqueResidueID<resname: 'CYX', chain: 'P', resid: 74, insertion: '', segid: 'P0'>\n",
      "                   and: UniqueResidueID<resname: 'CYX', chain: 'P', resid: 146, insertion: '', segid: 'P0'>\n",
      "\n",
      "Disulfide Bond between: UniqueResidueID<resname: 'CYX', chain: 'P', resid: 259, insertion: '', segid: 'P1'>\n",
      "                   and: UniqueResidueID<resname: 'CYX', chain: 'P', resid: 262, insertion: '', segid: 'P1'>\n",
      "\n",
      "Disulfide Bond between: UniqueResidueID<resname: 'CYX', chain: 'P', resid: 71, insertion: '', segid: 'P0'>\n",
      "                   and: UniqueResidueID<resname: 'CYX', chain: 'P', resid: 159, insertion: '', segid: 'P0'>\n",
      "\n"
     ]
    },
    {
     "name": "stderr",
     "output_type": "stream",
     "text": [
      "2021-04-30 08:53:53,258 - htmd.builder.charmm - INFO - Starting the build.\n",
      "2021-04-30 08:53:59,607 - htmd.builder.charmm - WARNING - Failed to set coordinates for 10 atoms.\n",
      "2021-04-30 08:53:59,610 - htmd.builder.charmm - WARNING - Failed to guess coordinates for 3 atoms due to bad angles.\n",
      "2021-04-30 08:53:59,611 - htmd.builder.charmm - WARNING - Poorly guessed coordinates for 231 atoms.\n",
      "2021-04-30 08:53:59,613 - htmd.builder.charmm - WARNING - Please check /gpcr/users/daranda/doctorat/GPCR_simulations/simulation_output/pre-build/5OLZ/log.txt for further information.\n",
      "2021-04-30 08:53:59,615 - htmd.builder.charmm - INFO - Finished building.\n",
      "2021-04-30 08:54:01,105 - moleculekit.readers - WARNING - Atoms with names \"HE21\" \"HE22\" were guessed as element H but could also be He (helium). If this is a case, you can correct them with mol.set('element', 'He', sel='name \"HE21\" \"HE22\"')\n",
      "2021-04-30 08:54:22,630 - moleculekit.readers - WARNING - Atoms with names \"HE21\" \"HE22\" were guessed as element H but could also be He (helium). If this is a case, you can correct them with mol.set('element', 'He', sel='name \"HE21\" \"HE22\"')\n"
     ]
    },
    {
     "name": "stdout",
     "output_type": "stream",
     "text": [
      "Checking aromatic insertions...\n"
     ]
    },
    {
     "name": "stderr",
     "output_type": "stream",
     "text": [
      "2021-04-30 08:55:20,541 - moleculekit.molecule - INFO - Removed 3 atoms. 85325 atoms remaining in the molecule.\n"
     ]
    },
    {
     "name": "stdout",
     "output_type": "stream",
     "text": [
      "WARNING: removed 3 atoms within 1.5 of a protein aromatic ring\n",
      "Renumbering...\n",
      "Ionizing...\n"
     ]
    },
    {
     "name": "stderr",
     "output_type": "stream",
     "text": [
      "2021-04-30 08:55:37,832 - htmd.builder.charmm - INFO - Writing out segments.\n",
      "2021-04-30 08:55:44,652 - htmd.builder.builder - INFO - 4 disulfide bonds were added\n"
     ]
    },
    {
     "name": "stdout",
     "output_type": "stream",
     "text": [
      "Disulfide Bond between: UniqueResidueID<resname: 'CYS', chain: 'P', resid: 77, insertion: '', segid: 'P0'>\n",
      "                   and: UniqueResidueID<resname: 'CYS', chain: 'P', resid: 166, insertion: '', segid: 'P0'>\n",
      "\n",
      "Disulfide Bond between: UniqueResidueID<resname: 'CYS', chain: 'P', resid: 74, insertion: '', segid: 'P0'>\n",
      "                   and: UniqueResidueID<resname: 'CYS', chain: 'P', resid: 146, insertion: '', segid: 'P0'>\n",
      "\n",
      "Disulfide Bond between: UniqueResidueID<resname: 'CYS', chain: 'P', resid: 259, insertion: '', segid: 'P1'>\n",
      "                   and: UniqueResidueID<resname: 'CYS', chain: 'P', resid: 262, insertion: '', segid: 'P1'>\n",
      "\n",
      "Disulfide Bond between: UniqueResidueID<resname: 'CYS', chain: 'P', resid: 71, insertion: '', segid: 'P0'>\n",
      "                   and: UniqueResidueID<resname: 'CYS', chain: 'P', resid: 159, insertion: '', segid: 'P0'>\n",
      "\n"
     ]
    },
    {
     "name": "stderr",
     "output_type": "stream",
     "text": [
      "2021-04-30 08:55:45,376 - htmd.builder.charmm - INFO - Starting the build.\n",
      "2021-04-30 08:55:50,663 - htmd.builder.charmm - INFO - Finished building.\n",
      "2021-04-30 08:55:55,316 - htmd.builder.ionize - INFO - Adding 12 anions + 0 cations for neutralizing and 102 ions for the given salt concentration.\n",
      "2021-04-30 08:56:31,042 - htmd.builder.charmm - INFO - Writing out segments.\n",
      "2021-04-30 08:56:38,955 - htmd.builder.charmm - INFO - Starting the build.\n",
      "2021-04-30 08:56:44,331 - htmd.builder.charmm - INFO - Finished building.\n"
     ]
    },
    {
     "name": "stdout",
     "output_type": "stream",
     "text": [
      "Building...\n"
     ]
    },
    {
     "name": "stderr",
     "output_type": "stream",
     "text": [
      "2021-04-30 08:57:38,152 - htmd.builder.charmm - INFO - Writing out segments.\n",
      "2021-04-30 08:57:45,808 - htmd.builder.builder - INFO - 4 disulfide bonds were added\n"
     ]
    },
    {
     "name": "stdout",
     "output_type": "stream",
     "text": [
      "Disulfide Bond between: UniqueResidueID<resname: 'CYS', chain: 'P', resid: 77, insertion: '', segid: 'P0'>\n",
      "                   and: UniqueResidueID<resname: 'CYS', chain: 'P', resid: 166, insertion: '', segid: 'P0'>\n",
      "\n",
      "Disulfide Bond between: UniqueResidueID<resname: 'CYS', chain: 'P', resid: 74, insertion: '', segid: 'P0'>\n",
      "                   and: UniqueResidueID<resname: 'CYS', chain: 'P', resid: 146, insertion: '', segid: 'P0'>\n",
      "\n",
      "Disulfide Bond between: UniqueResidueID<resname: 'CYS', chain: 'P', resid: 259, insertion: '', segid: 'P1'>\n",
      "                   and: UniqueResidueID<resname: 'CYS', chain: 'P', resid: 262, insertion: '', segid: 'P1'>\n",
      "\n",
      "Disulfide Bond between: UniqueResidueID<resname: 'CYS', chain: 'P', resid: 71, insertion: '', segid: 'P0'>\n",
      "                   and: UniqueResidueID<resname: 'CYS', chain: 'P', resid: 159, insertion: '', segid: 'P0'>\n",
      "\n"
     ]
    },
    {
     "name": "stderr",
     "output_type": "stream",
     "text": [
      "2021-04-30 08:57:46,704 - htmd.builder.charmm - INFO - Starting the build.\n",
      "2021-04-30 08:57:50,771 - htmd.builder.charmm - INFO - Finished building.\n"
     ]
    },
    {
     "name": "stdout",
     "output_type": "stream",
     "text": [
      "End of 5OLZ after 411.2356667518616 seconds\n",
      "\n",
      "Build model for 5OLZ_apo already exists. Skipping...\n"
     ]
    },
    {
     "name": "stderr",
     "output_type": "stream",
     "text": [
      "2021-04-30 08:58:13,306 - moleculekit.molecule - INFO - Removed 0 atoms. 4871 atoms remaining in the molecule.\n",
      "2021-04-30 08:58:13,340 - moleculekit.molecule - INFO - Removed 0 atoms. 4871 atoms remaining in the molecule.\n",
      "2021-04-30 08:58:13,375 - moleculekit.molecule - INFO - Removed 0 atoms. 4871 atoms remaining in the molecule.\n",
      "2021-04-30 08:58:14,871 - moleculekit.molecule - WARNING - Alternative atom locations detected. Only altloc A was kept. If you prefer to keep all use the keepaltloc=\"all\" option when reading the file.\n",
      "2021-04-30 08:58:14,873 - moleculekit.molecule - INFO - Removed 99 atoms. 3626 atoms remaining in the molecule.\n",
      "2021-04-30 08:58:15,118 - moleculekit.molecule - INFO - Removed 0 atoms. 4871 atoms remaining in the molecule.\n",
      "2021-04-30 08:58:15,152 - moleculekit.molecule - INFO - Removed 2 atoms. 4869 atoms remaining in the molecule.\n",
      "2021-04-30 08:58:15,251 - moleculekit.molecule - INFO - Removed 0 atoms. 4869 atoms remaining in the molecule.\n",
      "2021-04-30 08:58:15,661 - moleculekit.tools.autosegment - INFO - Created segment P0 between resid 0 and 206.\n",
      "2021-04-30 08:58:15,661 - moleculekit.tools.autosegment - INFO - Created segment P1 between resid 219 and 319.\n",
      "2021-04-30 08:58:19,084 - moleculekit.molecule - INFO - Removed 0 atoms. 4869 atoms remaining in the molecule.\n",
      "2021-04-30 08:58:19,310 - moleculekit.tools.sequencestructuralalignment - INFO - No segment was specified by the user for `mol` and multiple segments (['P0', 'P1']) were detected. Alignment will be done on all protein segments.\n",
      "2021-04-30 08:58:19,350 - moleculekit.tools.sequencestructuralalignment - INFO - No segment was specified by the user for `ref`. Alignment will be done on all protein segments.\n",
      "2021-04-30 08:58:19,634 - moleculekit.tools.sequencestructuralalignment - INFO - Alignment #0 was done on 202 residues: mol segid P0 resid 0-201\n"
     ]
    },
    {
     "name": "stdout",
     "output_type": "stream",
     "text": [
      "Adding membrane...\n"
     ]
    },
    {
     "name": "stderr",
     "output_type": "stream",
     "text": [
      "2021-04-30 08:58:20,367 - htmd.builder.builder - INFO - Replicating Membrane 3x3\n",
      "Replicating Membrane: 100%|██████████| 9/9 [00:02<00:00,  3.81it/s]\n",
      "2021-04-30 09:00:01,116 - moleculekit.molecule - INFO - Removed 2350 atoms. 42998 atoms remaining in the molecule.\n",
      "2021-04-30 09:00:02,302 - moleculekit.molecule - INFO - Removed 108 residues from appended Molecule due to collisions.\n"
     ]
    },
    {
     "name": "stdout",
     "output_type": "stream",
     "text": [
      "Solvating...\n"
     ]
    },
    {
     "name": "stderr",
     "output_type": "stream",
     "text": [
      "2021-04-30 09:00:03,130 - htmd.builder.solvate - INFO - Using water pdb file at: /home/david/miniconda3/lib/python3.6/site-packages/htmd/share/solvate/wat.pdb\n"
     ]
    },
    {
     "name": "stdout",
     "output_type": "stream",
     "text": [
      "wataerbox Max and min:  [53.579792 54.476017 28.060892] [-47.308205 -46.377983 -27.734108]\n"
     ]
    },
    {
     "name": "stderr",
     "output_type": "stream",
     "text": [
      "2021-04-30 09:00:03,915 - htmd.builder.solvate - INFO - Replicating 8 water segments, 2 by 2 by 2\n",
      "Solvating: 100%|██████████| 8/8 [00:08<00:00,  1.10s/it]\n",
      "2021-04-30 09:00:14,420 - htmd.builder.solvate - INFO - 14202 water molecules were added to the system.\n",
      "2021-04-30 09:00:20,710 - moleculekit.molecule - INFO - Removed 609 atoms. 84824 atoms remaining in the molecule.\n"
     ]
    },
    {
     "name": "stdout",
     "output_type": "stream",
     "text": [
      "Pre-build...\n"
     ]
    },
    {
     "name": "stderr",
     "output_type": "stream",
     "text": [
      "2021-04-30 09:00:27,372 - htmd.builder.charmm - INFO - Writing out segments.\n",
      "2021-04-30 09:00:33,375 - htmd.builder.builder - INFO - 4 disulfide bonds were added\n"
     ]
    },
    {
     "name": "stdout",
     "output_type": "stream",
     "text": [
      "Disulfide Bond between: UniqueResidueID<resname: 'CYX', chain: 'P', resid: 77, insertion: '', segid: 'P0'>\n",
      "                   and: UniqueResidueID<resname: 'CYX', chain: 'P', resid: 166, insertion: '', segid: 'P0'>\n",
      "\n",
      "Disulfide Bond between: UniqueResidueID<resname: 'CYX', chain: 'P', resid: 74, insertion: '', segid: 'P0'>\n",
      "                   and: UniqueResidueID<resname: 'CYX', chain: 'P', resid: 146, insertion: '', segid: 'P0'>\n",
      "\n",
      "Disulfide Bond between: UniqueResidueID<resname: 'CYX', chain: 'P', resid: 259, insertion: '', segid: 'P1'>\n",
      "                   and: UniqueResidueID<resname: 'CYX', chain: 'P', resid: 262, insertion: '', segid: 'P1'>\n",
      "\n",
      "Disulfide Bond between: UniqueResidueID<resname: 'CYX', chain: 'P', resid: 71, insertion: '', segid: 'P0'>\n",
      "                   and: UniqueResidueID<resname: 'CYX', chain: 'P', resid: 159, insertion: '', segid: 'P0'>\n",
      "\n"
     ]
    },
    {
     "name": "stderr",
     "output_type": "stream",
     "text": [
      "2021-04-30 09:00:34,326 - htmd.builder.charmm - INFO - Starting the build.\n",
      "2021-04-30 09:00:38,192 - htmd.builder.charmm - WARNING - Failed to set coordinates for 6 atoms.\n",
      "2021-04-30 09:00:38,195 - htmd.builder.charmm - WARNING - Failed to guess coordinates for 3 atoms due to bad angles.\n",
      "2021-04-30 09:00:38,198 - htmd.builder.charmm - WARNING - Poorly guessed coordinates for 220 atoms.\n",
      "2021-04-30 09:00:38,199 - htmd.builder.charmm - WARNING - Please check /gpcr/users/daranda/doctorat/GPCR_simulations/simulation_output/pre-build/5OLZ_apo/log.txt for further information.\n",
      "2021-04-30 09:00:38,202 - htmd.builder.charmm - INFO - Finished building.\n",
      "2021-04-30 09:00:39,755 - moleculekit.readers - WARNING - Atoms with names \"HE21\" \"HE22\" were guessed as element H but could also be He (helium). If this is a case, you can correct them with mol.set('element', 'He', sel='name \"HE21\" \"HE22\"')\n",
      "2021-04-30 09:01:01,051 - moleculekit.readers - WARNING - Atoms with names \"HE21\" \"HE22\" were guessed as element H but could also be He (helium). If this is a case, you can correct them with mol.set('element', 'He', sel='name \"HE21\" \"HE22\"')\n"
     ]
    },
    {
     "name": "stdout",
     "output_type": "stream",
     "text": [
      "Checking aromatic insertions...\n"
     ]
    },
    {
     "name": "stderr",
     "output_type": "stream",
     "text": [
      "2021-04-30 09:01:58,775 - moleculekit.molecule - INFO - Removed 3 atoms. 85187 atoms remaining in the molecule.\n"
     ]
    },
    {
     "name": "stdout",
     "output_type": "stream",
     "text": [
      "WARNING: removed 3 atoms within 1.5 of a protein aromatic ring\n",
      "Renumbering...\n",
      "Ionizing...\n"
     ]
    },
    {
     "name": "stderr",
     "output_type": "stream",
     "text": [
      "2021-04-30 09:02:15,207 - htmd.builder.charmm - INFO - Writing out segments.\n",
      "2021-04-30 09:02:21,511 - htmd.builder.builder - INFO - 4 disulfide bonds were added\n"
     ]
    },
    {
     "name": "stdout",
     "output_type": "stream",
     "text": [
      "Disulfide Bond between: UniqueResidueID<resname: 'CYS', chain: 'P', resid: 77, insertion: '', segid: 'P0'>\n",
      "                   and: UniqueResidueID<resname: 'CYS', chain: 'P', resid: 166, insertion: '', segid: 'P0'>\n",
      "\n",
      "Disulfide Bond between: UniqueResidueID<resname: 'CYS', chain: 'P', resid: 74, insertion: '', segid: 'P0'>\n",
      "                   and: UniqueResidueID<resname: 'CYS', chain: 'P', resid: 146, insertion: '', segid: 'P0'>\n",
      "\n",
      "Disulfide Bond between: UniqueResidueID<resname: 'CYS', chain: 'P', resid: 259, insertion: '', segid: 'P1'>\n",
      "                   and: UniqueResidueID<resname: 'CYS', chain: 'P', resid: 262, insertion: '', segid: 'P1'>\n",
      "\n",
      "Disulfide Bond between: UniqueResidueID<resname: 'CYS', chain: 'P', resid: 71, insertion: '', segid: 'P0'>\n",
      "                   and: UniqueResidueID<resname: 'CYS', chain: 'P', resid: 159, insertion: '', segid: 'P0'>\n",
      "\n"
     ]
    },
    {
     "name": "stderr",
     "output_type": "stream",
     "text": [
      "2021-04-30 09:02:22,318 - htmd.builder.charmm - INFO - Starting the build.\n",
      "2021-04-30 09:02:26,033 - htmd.builder.charmm - INFO - Finished building.\n",
      "2021-04-30 09:02:30,625 - htmd.builder.ionize - INFO - Adding 11 anions + 0 cations for neutralizing and 102 ions for the given salt concentration.\n",
      "2021-04-30 09:03:06,017 - htmd.builder.charmm - INFO - Writing out segments.\n",
      "2021-04-30 09:03:13,541 - htmd.builder.charmm - INFO - Starting the build.\n",
      "2021-04-30 09:03:17,602 - htmd.builder.charmm - INFO - Finished building.\n"
     ]
    },
    {
     "name": "stdout",
     "output_type": "stream",
     "text": [
      "Building...\n"
     ]
    },
    {
     "name": "stderr",
     "output_type": "stream",
     "text": [
      "2021-04-30 09:04:09,230 - htmd.builder.charmm - INFO - Writing out segments.\n",
      "2021-04-30 09:04:15,893 - htmd.builder.builder - INFO - 4 disulfide bonds were added\n"
     ]
    },
    {
     "name": "stdout",
     "output_type": "stream",
     "text": [
      "Disulfide Bond between: UniqueResidueID<resname: 'CYS', chain: 'P', resid: 77, insertion: '', segid: 'P0'>\n",
      "                   and: UniqueResidueID<resname: 'CYS', chain: 'P', resid: 166, insertion: '', segid: 'P0'>\n",
      "\n",
      "Disulfide Bond between: UniqueResidueID<resname: 'CYS', chain: 'P', resid: 74, insertion: '', segid: 'P0'>\n",
      "                   and: UniqueResidueID<resname: 'CYS', chain: 'P', resid: 146, insertion: '', segid: 'P0'>\n",
      "\n",
      "Disulfide Bond between: UniqueResidueID<resname: 'CYS', chain: 'P', resid: 259, insertion: '', segid: 'P1'>\n",
      "                   and: UniqueResidueID<resname: 'CYS', chain: 'P', resid: 262, insertion: '', segid: 'P1'>\n",
      "\n",
      "Disulfide Bond between: UniqueResidueID<resname: 'CYS', chain: 'P', resid: 71, insertion: '', segid: 'P0'>\n",
      "                   and: UniqueResidueID<resname: 'CYS', chain: 'P', resid: 159, insertion: '', segid: 'P0'>\n",
      "\n"
     ]
    },
    {
     "name": "stderr",
     "output_type": "stream",
     "text": [
      "2021-04-30 09:04:16,745 - htmd.builder.charmm - INFO - Starting the build.\n",
      "2021-04-30 09:04:20,638 - htmd.builder.charmm - INFO - Finished building.\n"
     ]
    },
    {
     "name": "stdout",
     "output_type": "stream",
     "text": [
      "End of 5OLZ_apo after 389.3521685600281 seconds\n",
      "\n",
      "Build model for 5WF5 already exists. Skipping...\n"
     ]
    },
    {
     "name": "stderr",
     "output_type": "stream",
     "text": [
      "2021-04-30 09:04:42,745 - moleculekit.molecule - INFO - Removed 0 atoms. 5096 atoms remaining in the molecule.\n",
      "2021-04-30 09:04:42,778 - moleculekit.molecule - INFO - Removed 0 atoms. 5096 atoms remaining in the molecule.\n",
      "2021-04-30 09:04:44,504 - moleculekit.molecule - INFO - Removed 0 atoms. 5096 atoms remaining in the molecule.\n",
      "2021-04-30 09:04:44,537 - moleculekit.molecule - INFO - Removed 3 atoms. 5093 atoms remaining in the molecule.\n",
      "2021-04-30 09:04:44,633 - moleculekit.molecule - INFO - Removed 0 atoms. 5093 atoms remaining in the molecule.\n",
      "2021-04-30 09:04:45,023 - moleculekit.tools.autosegment - INFO - Created segment P0 between resid 1 and 319.\n",
      "2021-04-30 09:04:47,908 - moleculekit.molecule - INFO - Removed 0 atoms. 5093 atoms remaining in the molecule.\n",
      "2021-04-30 09:04:48,069 - moleculekit.tools.sequencestructuralalignment - INFO - No segment was specified by the user for `mol`. Alignment will be done on all protein segments.\n",
      "2021-04-30 09:04:48,108 - moleculekit.tools.sequencestructuralalignment - INFO - No segment was specified by the user for `ref`. Alignment will be done on all protein segments.\n",
      "2021-04-30 09:04:48,314 - moleculekit.tools.sequencestructuralalignment - WARNING - 7 alignments found. Limiting to 1 as specified in the `maxalignments` argument.\n",
      "2021-04-30 09:04:48,316 - moleculekit.tools.sequencestructuralalignment - INFO - Alignment #0 was done on 146 residues: mol segid P0 resid 3-148\n"
     ]
    },
    {
     "name": "stdout",
     "output_type": "stream",
     "text": [
      "Adding membrane...\n"
     ]
    },
    {
     "name": "stderr",
     "output_type": "stream",
     "text": [
      "2021-04-30 09:04:49,011 - htmd.builder.builder - INFO - Replicating Membrane 3x3\n",
      "Replicating Membrane: 100%|██████████| 9/9 [00:02<00:00,  3.97it/s]\n",
      "2021-04-30 09:06:33,376 - moleculekit.molecule - INFO - Removed 2236 atoms. 42827 atoms remaining in the molecule.\n",
      "2021-04-30 09:06:34,600 - moleculekit.molecule - INFO - Removed 110 residues from appended Molecule due to collisions.\n"
     ]
    },
    {
     "name": "stdout",
     "output_type": "stream",
     "text": [
      "Solvating...\n"
     ]
    },
    {
     "name": "stderr",
     "output_type": "stream",
     "text": [
      "2021-04-30 09:06:35,382 - htmd.builder.solvate - INFO - Using water pdb file at: /home/david/miniconda3/lib/python3.6/site-packages/htmd/share/solvate/wat.pdb\n"
     ]
    },
    {
     "name": "stdout",
     "output_type": "stream",
     "text": [
      "wataerbox Max and min:  [52.44478  53.375015 28.060892] [-47.308224 -46.377987 -27.734108]\n"
     ]
    },
    {
     "name": "stderr",
     "output_type": "stream",
     "text": [
      "2021-04-30 09:06:36,166 - htmd.builder.solvate - INFO - Replicating 8 water segments, 2 by 2 by 2\n",
      "Solvating: 100%|██████████| 8/8 [00:08<00:00,  1.11s/it]\n",
      "2021-04-30 09:06:46,796 - htmd.builder.solvate - INFO - 16029 water molecules were added to the system.\n",
      "2021-04-30 09:06:53,966 - moleculekit.molecule - INFO - Removed 657 atoms. 89911 atoms remaining in the molecule.\n"
     ]
    },
    {
     "name": "stdout",
     "output_type": "stream",
     "text": [
      "Pre-build...\n"
     ]
    },
    {
     "name": "stderr",
     "output_type": "stream",
     "text": [
      "2021-04-30 09:06:59,190 - htmd.builder.charmm - INFO - Writing out segments.\n",
      "2021-04-30 09:07:05,919 - htmd.builder.builder - INFO - 3 disulfide bonds were added\n"
     ]
    },
    {
     "name": "stdout",
     "output_type": "stream",
     "text": [
      "Disulfide Bond between: UniqueResidueID<resname: 'CYX', chain: 'P', resid: 77, insertion: '', segid: 'P0'>\n",
      "                   and: UniqueResidueID<resname: 'CYX', chain: 'P', resid: 166, insertion: '', segid: 'P0'>\n",
      "\n",
      "Disulfide Bond between: UniqueResidueID<resname: 'CYX', chain: 'P', resid: 74, insertion: '', segid: 'P0'>\n",
      "                   and: UniqueResidueID<resname: 'CYX', chain: 'P', resid: 146, insertion: '', segid: 'P0'>\n",
      "\n",
      "Disulfide Bond between: UniqueResidueID<resname: 'CYX', chain: 'P', resid: 259, insertion: '', segid: 'P0'>\n",
      "                   and: UniqueResidueID<resname: 'CYX', chain: 'P', resid: 262, insertion: '', segid: 'P0'>\n",
      "\n"
     ]
    },
    {
     "name": "stderr",
     "output_type": "stream",
     "text": [
      "2021-04-30 09:07:06,957 - htmd.builder.charmm - INFO - Starting the build.\n",
      "2021-04-30 09:07:11,032 - htmd.builder.charmm - WARNING - Failed to set coordinates for 6 atoms.\n",
      "2021-04-30 09:07:11,034 - htmd.builder.charmm - WARNING - Failed to guess coordinates for 2 atoms due to bad angles.\n",
      "2021-04-30 09:07:11,035 - htmd.builder.charmm - WARNING - Poorly guessed coordinates for 228 atoms.\n",
      "2021-04-30 09:07:11,035 - htmd.builder.charmm - WARNING - Please check /gpcr/users/daranda/doctorat/GPCR_simulations/simulation_output/pre-build/5WF5/log.txt for further information.\n",
      "2021-04-30 09:07:11,036 - htmd.builder.charmm - INFO - Finished building.\n",
      "2021-04-30 09:07:12,751 - moleculekit.readers - WARNING - Atoms with names \"HE21\" \"HE22\" were guessed as element H but could also be He (helium). If this is a case, you can correct them with mol.set('element', 'He', sel='name \"HE21\" \"HE22\"')\n",
      "2021-04-30 09:07:35,525 - htmd.builder.builder - WARNING - Found cis peptide bond in 1 frames: [0] in the omega diheral \"Angle of (LEU 216 CA P0 P) (LEU 216 C P0 P) (PRO 217 N P0 P) (PRO 217 CA P0 P) \" with indexes [3325, 3340, 3342, 3346]\n",
      "2021-04-30 09:07:36,557 - moleculekit.readers - WARNING - Atoms with names \"HE21\" \"HE22\" were guessed as element H but could also be He (helium). If this is a case, you can correct them with mol.set('element', 'He', sel='name \"HE21\" \"HE22\"')\n"
     ]
    },
    {
     "name": "stdout",
     "output_type": "stream",
     "text": [
      "Checking aromatic insertions...\n",
      "WARNING: removed 0 atoms within 1.5 of a protein aromatic ring\n",
      "Renumbering...\n",
      "Ionizing...\n"
     ]
    },
    {
     "name": "stderr",
     "output_type": "stream",
     "text": [
      "2021-04-30 09:08:56,212 - htmd.builder.charmm - INFO - Writing out segments.\n",
      "2021-04-30 09:09:02,910 - htmd.builder.builder - INFO - 3 disulfide bonds were added\n"
     ]
    },
    {
     "name": "stdout",
     "output_type": "stream",
     "text": [
      "Disulfide Bond between: UniqueResidueID<resname: 'CYS', chain: 'P', resid: 77, insertion: '', segid: 'P0'>\n",
      "                   and: UniqueResidueID<resname: 'CYS', chain: 'P', resid: 166, insertion: '', segid: 'P0'>\n",
      "\n",
      "Disulfide Bond between: UniqueResidueID<resname: 'CYS', chain: 'P', resid: 74, insertion: '', segid: 'P0'>\n",
      "                   and: UniqueResidueID<resname: 'CYS', chain: 'P', resid: 146, insertion: '', segid: 'P0'>\n",
      "\n",
      "Disulfide Bond between: UniqueResidueID<resname: 'CYS', chain: 'P', resid: 259, insertion: '', segid: 'P0'>\n",
      "                   and: UniqueResidueID<resname: 'CYS', chain: 'P', resid: 262, insertion: '', segid: 'P0'>\n",
      "\n"
     ]
    },
    {
     "name": "stderr",
     "output_type": "stream",
     "text": [
      "2021-04-30 09:09:03,758 - htmd.builder.charmm - INFO - Starting the build.\n",
      "2021-04-30 09:09:07,636 - htmd.builder.charmm - WARNING - Failed to set coordinates for 1 atoms.\n",
      "2021-04-30 09:09:07,639 - htmd.builder.charmm - WARNING - Poorly guessed coordinates for 1 atoms.\n",
      "2021-04-30 09:09:07,641 - htmd.builder.charmm - WARNING - Please check /gpcr/users/daranda/doctorat/GPCR_simulations/simulation_output/ionize/5WF5/log.txt for further information.\n",
      "2021-04-30 09:09:07,645 - htmd.builder.charmm - INFO - Finished building.\n",
      "2021-04-30 09:09:12,773 - htmd.builder.ionize - INFO - Adding 13 anions + 0 cations for neutralizing and 112 ions for the given salt concentration.\n",
      "2021-04-30 09:09:53,358 - htmd.builder.charmm - INFO - Writing out segments.\n",
      "2021-04-30 09:10:01,135 - htmd.builder.charmm - INFO - Starting the build.\n",
      "2021-04-30 09:10:07,283 - htmd.builder.charmm - WARNING - Failed to set coordinates for 1 atoms.\n",
      "2021-04-30 09:10:07,287 - htmd.builder.charmm - WARNING - Poorly guessed coordinates for 1 atoms.\n",
      "2021-04-30 09:10:07,288 - htmd.builder.charmm - WARNING - Please check /gpcr/users/daranda/doctorat/GPCR_simulations/simulation_output/ionize/5WF5/log.txt for further information.\n",
      "2021-04-30 09:10:07,292 - htmd.builder.charmm - INFO - Finished building.\n",
      "2021-04-30 09:10:30,384 - htmd.builder.builder - WARNING - Found cis peptide bond in 1 frames: [0] in the omega diheral \"Angle of (LEU 216 CA P0 P) (LEU 216 C P0 P) (PRO 217 N P0 P) (PRO 217 CA P0 P) \" with indexes [3325, 3340, 3342, 3346]\n"
     ]
    },
    {
     "name": "stdout",
     "output_type": "stream",
     "text": [
      "Building...\n"
     ]
    },
    {
     "name": "stderr",
     "output_type": "stream",
     "text": [
      "2021-04-30 09:11:04,441 - htmd.builder.charmm - INFO - Writing out segments.\n",
      "2021-04-30 09:11:11,215 - htmd.builder.builder - INFO - 3 disulfide bonds were added\n"
     ]
    },
    {
     "name": "stdout",
     "output_type": "stream",
     "text": [
      "Disulfide Bond between: UniqueResidueID<resname: 'CYS', chain: 'P', resid: 77, insertion: '', segid: 'P0'>\n",
      "                   and: UniqueResidueID<resname: 'CYS', chain: 'P', resid: 166, insertion: '', segid: 'P0'>\n",
      "\n",
      "Disulfide Bond between: UniqueResidueID<resname: 'CYS', chain: 'P', resid: 74, insertion: '', segid: 'P0'>\n",
      "                   and: UniqueResidueID<resname: 'CYS', chain: 'P', resid: 146, insertion: '', segid: 'P0'>\n",
      "\n",
      "Disulfide Bond between: UniqueResidueID<resname: 'CYS', chain: 'P', resid: 259, insertion: '', segid: 'P0'>\n",
      "                   and: UniqueResidueID<resname: 'CYS', chain: 'P', resid: 262, insertion: '', segid: 'P0'>\n",
      "\n"
     ]
    },
    {
     "name": "stderr",
     "output_type": "stream",
     "text": [
      "2021-04-30 09:11:12,160 - htmd.builder.charmm - INFO - Starting the build.\n",
      "2021-04-30 09:11:16,291 - htmd.builder.charmm - WARNING - Failed to set coordinates for 1 atoms.\n",
      "2021-04-30 09:11:16,294 - htmd.builder.charmm - WARNING - Poorly guessed coordinates for 1 atoms.\n",
      "2021-04-30 09:11:16,296 - htmd.builder.charmm - WARNING - Please check /gpcr/users/daranda/doctorat/GPCR_simulations/simulation_output/build/5WF5/log.txt for further information.\n",
      "2021-04-30 09:11:16,299 - htmd.builder.charmm - INFO - Finished building.\n",
      "2021-04-30 09:11:40,619 - htmd.builder.builder - WARNING - Found cis peptide bond in 1 frames: [0] in the omega diheral \"Angle of (LEU 216 CA P0 P) (LEU 216 C P0 P) (PRO 217 N P0 P) (PRO 217 CA P0 P) \" with indexes [3325, 3340, 3342, 3346]\n"
     ]
    },
    {
     "name": "stdout",
     "output_type": "stream",
     "text": [
      "End of 5WF5 after 418.26417803764343 seconds\n",
      "\n",
      "Build model for 5WF5_apo already exists. Skipping...\n"
     ]
    },
    {
     "name": "stderr",
     "output_type": "stream",
     "text": [
      "2021-04-30 09:11:40,980 - moleculekit.molecule - INFO - Removed 0 atoms. 5039 atoms remaining in the molecule.\n",
      "2021-04-30 09:11:41,012 - moleculekit.molecule - INFO - Removed 0 atoms. 5039 atoms remaining in the molecule.\n",
      "2021-04-30 09:11:41,045 - moleculekit.molecule - INFO - Removed 0 atoms. 5039 atoms remaining in the molecule.\n",
      "2021-04-30 09:11:42,822 - moleculekit.molecule - INFO - Removed 0 atoms. 5039 atoms remaining in the molecule.\n",
      "2021-04-30 09:11:42,854 - moleculekit.molecule - INFO - Removed 3 atoms. 5036 atoms remaining in the molecule.\n",
      "2021-04-30 09:11:42,947 - moleculekit.molecule - INFO - Removed 0 atoms. 5036 atoms remaining in the molecule.\n",
      "2021-04-30 09:11:43,324 - moleculekit.tools.autosegment - INFO - Created segment P0 between resid 1 and 319.\n",
      "2021-04-30 09:11:46,051 - moleculekit.molecule - INFO - Removed 0 atoms. 5036 atoms remaining in the molecule.\n",
      "2021-04-30 09:11:46,206 - moleculekit.tools.sequencestructuralalignment - INFO - No segment was specified by the user for `mol`. Alignment will be done on all protein segments.\n",
      "2021-04-30 09:11:46,245 - moleculekit.tools.sequencestructuralalignment - INFO - No segment was specified by the user for `ref`. Alignment will be done on all protein segments.\n",
      "2021-04-30 09:11:46,451 - moleculekit.tools.sequencestructuralalignment - WARNING - 7 alignments found. Limiting to 1 as specified in the `maxalignments` argument.\n",
      "2021-04-30 09:11:46,453 - moleculekit.tools.sequencestructuralalignment - INFO - Alignment #0 was done on 146 residues: mol segid P0 resid 3-148\n"
     ]
    },
    {
     "name": "stdout",
     "output_type": "stream",
     "text": [
      "Adding membrane...\n"
     ]
    },
    {
     "name": "stderr",
     "output_type": "stream",
     "text": [
      "2021-04-30 09:11:47,147 - htmd.builder.builder - INFO - Replicating Membrane 3x3\n",
      "Replicating Membrane: 100%|██████████| 9/9 [00:02<00:00,  3.99it/s]\n",
      "2021-04-30 09:13:31,043 - moleculekit.molecule - INFO - Removed 2236 atoms. 42827 atoms remaining in the molecule.\n",
      "2021-04-30 09:13:32,261 - moleculekit.molecule - INFO - Removed 110 residues from appended Molecule due to collisions.\n"
     ]
    },
    {
     "name": "stdout",
     "output_type": "stream",
     "text": [
      "Solvating...\n"
     ]
    },
    {
     "name": "stderr",
     "output_type": "stream",
     "text": [
      "2021-04-30 09:13:33,030 - htmd.builder.solvate - INFO - Using water pdb file at: /home/david/miniconda3/lib/python3.6/site-packages/htmd/share/solvate/wat.pdb\n"
     ]
    },
    {
     "name": "stdout",
     "output_type": "stream",
     "text": [
      "wataerbox Max and min:  [52.44478  53.375015 28.060892] [-47.308224 -46.377987 -27.734108]\n"
     ]
    },
    {
     "name": "stderr",
     "output_type": "stream",
     "text": [
      "2021-04-30 09:13:33,811 - htmd.builder.solvate - INFO - Replicating 8 water segments, 2 by 2 by 2\n",
      "Solvating: 100%|██████████| 8/8 [00:08<00:00,  1.11s/it]\n",
      "2021-04-30 09:13:44,434 - htmd.builder.solvate - INFO - 16043 water molecules were added to the system.\n",
      "2021-04-30 09:13:51,593 - moleculekit.molecule - INFO - Removed 699 atoms. 89854 atoms remaining in the molecule.\n"
     ]
    },
    {
     "name": "stdout",
     "output_type": "stream",
     "text": [
      "Pre-build...\n"
     ]
    },
    {
     "name": "stderr",
     "output_type": "stream",
     "text": [
      "2021-04-30 09:13:56,348 - htmd.builder.charmm - INFO - Writing out segments.\n",
      "2021-04-30 09:14:02,352 - htmd.builder.builder - INFO - 3 disulfide bonds were added\n"
     ]
    },
    {
     "name": "stdout",
     "output_type": "stream",
     "text": [
      "Disulfide Bond between: UniqueResidueID<resname: 'CYX', chain: 'P', resid: 77, insertion: '', segid: 'P0'>\n",
      "                   and: UniqueResidueID<resname: 'CYX', chain: 'P', resid: 166, insertion: '', segid: 'P0'>\n",
      "\n",
      "Disulfide Bond between: UniqueResidueID<resname: 'CYX', chain: 'P', resid: 74, insertion: '', segid: 'P0'>\n",
      "                   and: UniqueResidueID<resname: 'CYX', chain: 'P', resid: 146, insertion: '', segid: 'P0'>\n",
      "\n",
      "Disulfide Bond between: UniqueResidueID<resname: 'CYX', chain: 'P', resid: 259, insertion: '', segid: 'P0'>\n",
      "                   and: UniqueResidueID<resname: 'CYX', chain: 'P', resid: 262, insertion: '', segid: 'P0'>\n",
      "\n"
     ]
    },
    {
     "name": "stderr",
     "output_type": "stream",
     "text": [
      "2021-04-30 09:14:03,200 - htmd.builder.charmm - INFO - Starting the build.\n",
      "2021-04-30 09:14:07,001 - htmd.builder.charmm - WARNING - Failed to set coordinates for 6 atoms.\n",
      "2021-04-30 09:14:07,004 - htmd.builder.charmm - WARNING - Failed to guess coordinates for 2 atoms due to bad angles.\n",
      "2021-04-30 09:14:07,006 - htmd.builder.charmm - WARNING - Poorly guessed coordinates for 180 atoms.\n",
      "2021-04-30 09:14:07,007 - htmd.builder.charmm - WARNING - Please check /gpcr/users/daranda/doctorat/GPCR_simulations/simulation_output/pre-build/5WF5_apo/log.txt for further information.\n",
      "2021-04-30 09:14:07,011 - htmd.builder.charmm - INFO - Finished building.\n",
      "2021-04-30 09:14:08,645 - moleculekit.readers - WARNING - Atoms with names \"HE21\" \"HE22\" were guessed as element H but could also be He (helium). If this is a case, you can correct them with mol.set('element', 'He', sel='name \"HE21\" \"HE22\"')\n",
      "2021-04-30 09:14:31,632 - htmd.builder.builder - WARNING - Found cis peptide bond in 1 frames: [0] in the omega diheral \"Angle of (LEU 216 CA P0 P) (LEU 216 C P0 P) (PRO 217 N P0 P) (PRO 217 CA P0 P) \" with indexes [3325, 3340, 3342, 3346]\n",
      "2021-04-30 09:14:32,683 - moleculekit.readers - WARNING - Atoms with names \"HE21\" \"HE22\" were guessed as element H but could also be He (helium). If this is a case, you can correct them with mol.set('element', 'He', sel='name \"HE21\" \"HE22\"')\n"
     ]
    },
    {
     "name": "stdout",
     "output_type": "stream",
     "text": [
      "Checking aromatic insertions...\n",
      "WARNING: removed 0 atoms within 1.5 of a protein aromatic ring\n",
      "Renumbering...\n",
      "Ionizing...\n"
     ]
    },
    {
     "name": "stderr",
     "output_type": "stream",
     "text": [
      "2021-04-30 09:15:51,410 - htmd.builder.charmm - INFO - Writing out segments.\n",
      "2021-04-30 09:15:58,002 - htmd.builder.builder - INFO - 3 disulfide bonds were added\n"
     ]
    },
    {
     "name": "stdout",
     "output_type": "stream",
     "text": [
      "Disulfide Bond between: UniqueResidueID<resname: 'CYS', chain: 'P', resid: 77, insertion: '', segid: 'P0'>\n",
      "                   and: UniqueResidueID<resname: 'CYS', chain: 'P', resid: 166, insertion: '', segid: 'P0'>\n",
      "\n",
      "Disulfide Bond between: UniqueResidueID<resname: 'CYS', chain: 'P', resid: 74, insertion: '', segid: 'P0'>\n",
      "                   and: UniqueResidueID<resname: 'CYS', chain: 'P', resid: 146, insertion: '', segid: 'P0'>\n",
      "\n",
      "Disulfide Bond between: UniqueResidueID<resname: 'CYS', chain: 'P', resid: 259, insertion: '', segid: 'P0'>\n",
      "                   and: UniqueResidueID<resname: 'CYS', chain: 'P', resid: 262, insertion: '', segid: 'P0'>\n",
      "\n"
     ]
    },
    {
     "name": "stderr",
     "output_type": "stream",
     "text": [
      "2021-04-30 09:15:58,673 - htmd.builder.charmm - INFO - Starting the build.\n",
      "2021-04-30 09:16:04,484 - htmd.builder.charmm - WARNING - Failed to set coordinates for 1 atoms.\n",
      "2021-04-30 09:16:04,487 - htmd.builder.charmm - WARNING - Poorly guessed coordinates for 1 atoms.\n",
      "2021-04-30 09:16:04,489 - htmd.builder.charmm - WARNING - Please check /gpcr/users/daranda/doctorat/GPCR_simulations/simulation_output/ionize/5WF5_apo/log.txt for further information.\n",
      "2021-04-30 09:16:04,492 - htmd.builder.charmm - INFO - Finished building.\n",
      "2021-04-30 09:16:09,531 - htmd.builder.ionize - INFO - Adding 12 anions + 0 cations for neutralizing and 112 ions for the given salt concentration.\n",
      "2021-04-30 09:16:50,734 - htmd.builder.charmm - INFO - Writing out segments.\n",
      "2021-04-30 09:16:58,110 - htmd.builder.charmm - INFO - Starting the build.\n",
      "2021-04-30 09:17:01,480 - htmd.builder.charmm - WARNING - Failed to set coordinates for 1 atoms.\n",
      "2021-04-30 09:17:01,483 - htmd.builder.charmm - WARNING - Poorly guessed coordinates for 1 atoms.\n",
      "2021-04-30 09:17:01,485 - htmd.builder.charmm - WARNING - Please check /gpcr/users/daranda/doctorat/GPCR_simulations/simulation_output/ionize/5WF5_apo/log.txt for further information.\n",
      "2021-04-30 09:17:01,488 - htmd.builder.charmm - INFO - Finished building.\n",
      "2021-04-30 09:17:25,700 - htmd.builder.builder - WARNING - Found cis peptide bond in 1 frames: [0] in the omega diheral \"Angle of (LEU 216 CA P0 P) (LEU 216 C P0 P) (PRO 217 N P0 P) (PRO 217 CA P0 P) \" with indexes [3325, 3340, 3342, 3346]\n"
     ]
    },
    {
     "name": "stdout",
     "output_type": "stream",
     "text": [
      "Building...\n"
     ]
    },
    {
     "name": "stderr",
     "output_type": "stream",
     "text": [
      "2021-04-30 09:18:00,713 - htmd.builder.charmm - INFO - Writing out segments.\n",
      "2021-04-30 09:18:07,374 - htmd.builder.builder - INFO - 3 disulfide bonds were added\n"
     ]
    },
    {
     "name": "stdout",
     "output_type": "stream",
     "text": [
      "Disulfide Bond between: UniqueResidueID<resname: 'CYS', chain: 'P', resid: 77, insertion: '', segid: 'P0'>\n",
      "                   and: UniqueResidueID<resname: 'CYS', chain: 'P', resid: 166, insertion: '', segid: 'P0'>\n",
      "\n",
      "Disulfide Bond between: UniqueResidueID<resname: 'CYS', chain: 'P', resid: 74, insertion: '', segid: 'P0'>\n",
      "                   and: UniqueResidueID<resname: 'CYS', chain: 'P', resid: 146, insertion: '', segid: 'P0'>\n",
      "\n",
      "Disulfide Bond between: UniqueResidueID<resname: 'CYS', chain: 'P', resid: 259, insertion: '', segid: 'P0'>\n",
      "                   and: UniqueResidueID<resname: 'CYS', chain: 'P', resid: 262, insertion: '', segid: 'P0'>\n",
      "\n"
     ]
    },
    {
     "name": "stderr",
     "output_type": "stream",
     "text": [
      "2021-04-30 09:18:08,236 - htmd.builder.charmm - INFO - Starting the build.\n",
      "2021-04-30 09:18:12,156 - htmd.builder.charmm - WARNING - Failed to set coordinates for 1 atoms.\n",
      "2021-04-30 09:18:12,159 - htmd.builder.charmm - WARNING - Poorly guessed coordinates for 1 atoms.\n",
      "2021-04-30 09:18:12,161 - htmd.builder.charmm - WARNING - Please check /gpcr/users/daranda/doctorat/GPCR_simulations/simulation_output/build/5WF5_apo/log.txt for further information.\n",
      "2021-04-30 09:18:12,214 - htmd.builder.charmm - INFO - Finished building.\n",
      "2021-04-30 09:18:37,088 - htmd.builder.builder - WARNING - Found cis peptide bond in 1 frames: [0] in the omega diheral \"Angle of (LEU 216 CA P0 P) (LEU 216 C P0 P) (PRO 217 N P0 P) (PRO 217 CA P0 P) \" with indexes [3325, 3340, 3342, 3346]\n"
     ]
    },
    {
     "name": "stdout",
     "output_type": "stream",
     "text": [
      "End of 5WF5_apo after 416.46872448921204 seconds\n",
      "\n",
      "Build model for 5WF6 already exists. Skipping...\n"
     ]
    },
    {
     "name": "stderr",
     "output_type": "stream",
     "text": [
      "2021-04-30 09:18:37,357 - moleculekit.molecule - INFO - Removed 8 atoms. 5083 atoms remaining in the molecule.\n",
      "2021-04-30 09:18:37,393 - moleculekit.molecule - INFO - Removed 0 atoms. 5083 atoms remaining in the molecule.\n",
      "2021-04-30 09:18:39,255 - moleculekit.molecule - INFO - Removed 0 atoms. 5083 atoms remaining in the molecule.\n",
      "2021-04-30 09:18:39,290 - moleculekit.molecule - INFO - Removed 3 atoms. 5080 atoms remaining in the molecule.\n",
      "2021-04-30 09:18:39,393 - moleculekit.molecule - INFO - Removed 0 atoms. 5080 atoms remaining in the molecule.\n",
      "2021-04-30 09:18:42,676 - moleculekit.molecule - INFO - Removed 0 atoms. 5080 atoms remaining in the molecule.\n",
      "2021-04-30 09:18:42,858 - moleculekit.tools.sequencestructuralalignment - INFO - No segment was specified by the user for `mol`. Alignment will be done on all protein segments.\n",
      "2021-04-30 09:18:42,900 - moleculekit.tools.sequencestructuralalignment - INFO - No segment was specified by the user for `ref`. Alignment will be done on all protein segments.\n",
      "2021-04-30 09:18:43,109 - moleculekit.tools.sequencestructuralalignment - WARNING - 4 alignments found. Limiting to 1 as specified in the `maxalignments` argument.\n",
      "2021-04-30 09:18:43,111 - moleculekit.tools.sequencestructuralalignment - INFO - Alignment #0 was done on 146 residues: mol segid P resid 3-148\n"
     ]
    },
    {
     "name": "stdout",
     "output_type": "stream",
     "text": [
      "Adding membrane...\n"
     ]
    },
    {
     "name": "stderr",
     "output_type": "stream",
     "text": [
      "2021-04-30 09:18:43,874 - htmd.builder.builder - INFO - Replicating Membrane 3x3\n",
      "Replicating Membrane: 100%|██████████| 9/9 [00:02<00:00,  3.67it/s]\n",
      "2021-04-30 09:21:00,182 - moleculekit.molecule - INFO - Removed 2511 atoms. 50020 atoms remaining in the molecule.\n",
      "2021-04-30 09:21:01,598 - moleculekit.molecule - INFO - Removed 112 residues from appended Molecule due to collisions.\n"
     ]
    },
    {
     "name": "stdout",
     "output_type": "stream",
     "text": [
      "Solvating...\n"
     ]
    },
    {
     "name": "stderr",
     "output_type": "stream",
     "text": [
      "2021-04-30 09:21:02,422 - htmd.builder.solvate - INFO - Using water pdb file at: /home/david/miniconda3/lib/python3.6/site-packages/htmd/share/solvate/wat.pdb\n"
     ]
    },
    {
     "name": "stdout",
     "output_type": "stream",
     "text": [
      "wataerbox Max and min:  [57.891    57.325306 28.04904 ] [-50.274998 -50.856697 -27.74596 ]\n"
     ]
    },
    {
     "name": "stderr",
     "output_type": "stream",
     "text": [
      "2021-04-30 09:21:03,137 - htmd.builder.solvate - INFO - Replicating 8 water segments, 2 by 2 by 2\n",
      "Solvating: 100%|██████████| 8/8 [00:09<00:00,  1.18s/it]\n",
      "2021-04-30 09:21:14,596 - htmd.builder.solvate - INFO - 18749 water molecules were added to the system.\n",
      "2021-04-30 09:21:22,533 - moleculekit.molecule - INFO - Removed 840 atoms. 104669 atoms remaining in the molecule.\n"
     ]
    },
    {
     "name": "stdout",
     "output_type": "stream",
     "text": [
      "Pre-build...\n"
     ]
    },
    {
     "name": "stderr",
     "output_type": "stream",
     "text": [
      "2021-04-30 09:21:25,370 - htmd.builder.builder - WARNING - Segments ['P'] contain both protein and non-protein atoms. Please assign separate segments to them or the build procedure might fail.\n",
      "2021-04-30 09:21:28,106 - htmd.builder.charmm - INFO - Writing out segments.\n",
      "2021-04-30 09:21:34,704 - moleculekit.writers - WARNING - Field \"serial\" of PDB overflows. Your data will be truncated to 5 characters.\n",
      "2021-04-30 09:21:35,218 - moleculekit.writers - WARNING - Field \"serial\" of PDB overflows. Your data will be truncated to 5 characters.\n",
      "2021-04-30 09:21:35,404 - htmd.builder.builder - INFO - 4 disulfide bonds were added\n"
     ]
    },
    {
     "name": "stdout",
     "output_type": "stream",
     "text": [
      "Disulfide Bond between: UniqueResidueID<resname: 'CYX', chain: 'P', resid: 77, insertion: '', segid: 'P'>\n",
      "                   and: UniqueResidueID<resname: 'CYX', chain: 'P', resid: 166, insertion: '', segid: 'P'>\n",
      "\n",
      "Disulfide Bond between: UniqueResidueID<resname: 'CYX', chain: 'P', resid: 74, insertion: '', segid: 'P'>\n",
      "                   and: UniqueResidueID<resname: 'CYX', chain: 'P', resid: 146, insertion: '', segid: 'P'>\n",
      "\n",
      "Disulfide Bond between: UniqueResidueID<resname: 'CYX', chain: 'P', resid: 259, insertion: '', segid: 'P'>\n",
      "                   and: UniqueResidueID<resname: 'CYX', chain: 'P', resid: 262, insertion: '', segid: 'P'>\n",
      "\n",
      "Disulfide Bond between: UniqueResidueID<resname: 'CYS', chain: 'P', resid: 71, insertion: '', segid: 'P'>\n",
      "                   and: UniqueResidueID<resname: 'CYS', chain: 'P', resid: 159, insertion: '', segid: 'P'>\n",
      "\n"
     ]
    },
    {
     "name": "stderr",
     "output_type": "stream",
     "text": [
      "2021-04-30 09:21:36,300 - htmd.builder.charmm - INFO - Starting the build.\n",
      "2021-04-30 09:21:42,316 - htmd.builder.charmm - WARNING - Failed to set coordinates for 5 atoms.\n",
      "2021-04-30 09:21:42,319 - htmd.builder.charmm - WARNING - Failed to guess coordinates for 1 atoms due to bad angles.\n",
      "2021-04-30 09:21:42,320 - htmd.builder.charmm - WARNING - Poorly guessed coordinates for 217 atoms.\n",
      "2021-04-30 09:21:42,323 - htmd.builder.charmm - WARNING - Please check /gpcr/users/daranda/doctorat/GPCR_simulations/simulation_output/pre-build/5WF6/log.txt for further information.\n",
      "2021-04-30 09:21:42,327 - htmd.builder.charmm - INFO - Finished building.\n",
      "2021-04-30 09:21:44,123 - moleculekit.readers - WARNING - Atoms with names \"HE21\" \"HE22\" were guessed as element H but could also be He (helium). If this is a case, you can correct them with mol.set('element', 'He', sel='name \"HE21\" \"HE22\"')\n",
      "2021-04-30 09:21:44,306 - moleculekit.readers - WARNING - Non-integer values were read from the PDB \"serial\" field. Dropping PDB values and assigning new ones.\n",
      "2021-04-30 09:21:44,372 - moleculekit.readers - WARNING - Reading PDB file with more than 99999 atoms. Bond information can be wrong.\n",
      "2021-04-30 09:22:12,300 - htmd.builder.builder - WARNING - Found cis peptide bond in 1 frames: [0] in the omega diheral \"Angle of (CYS 146 CA P P) (CYS 146 C P P) (GLY 147 N P P) (GLY 147 CA P P) \" with indexes [2234, 2240, 2242, 2244]\n",
      "2021-04-30 09:22:12,301 - htmd.builder.builder - WARNING - Found cis peptide bond in 1 frames: [0] in the omega diheral \"Angle of (GLU 161 CA P P) (GLU 161 C P P) (GLY 162 N P P) (GLY 162 CA P P) \" with indexes [2427, 2438, 2440, 2442]\n",
      "2021-04-30 09:22:12,302 - htmd.builder.builder - WARNING - Found cis peptide bond in 1 frames: [0] in the omega diheral \"Angle of (SER 213 CA P P) (SER 213 C P P) (GLN 214 N P P) (GLN 214 CA P P) \" with indexes [3293, 3300, 3302, 3304]\n",
      "2021-04-30 09:22:12,302 - htmd.builder.builder - WARNING - Found cis peptide bond in 1 frames: [0] in the omega diheral \"Angle of (PRO 217 CA P P) (PRO 217 C P P) (GLY 218 N P P) (GLY 218 CA P P) \" with indexes [3356, 3364, 3366, 3368]\n",
      "2021-04-30 09:22:13,607 - moleculekit.readers - WARNING - Atoms with names \"HE21\" \"HE22\" were guessed as element H but could also be He (helium). If this is a case, you can correct them with mol.set('element', 'He', sel='name \"HE21\" \"HE22\"')\n",
      "2021-04-30 09:22:13,781 - moleculekit.readers - WARNING - Non-integer values were read from the PDB \"serial\" field. Dropping PDB values and assigning new ones.\n",
      "2021-04-30 09:22:13,844 - moleculekit.readers - WARNING - Reading PDB file with more than 99999 atoms. Bond information can be wrong.\n"
     ]
    },
    {
     "name": "stdout",
     "output_type": "stream",
     "text": [
      "Checking aromatic insertions...\n"
     ]
    },
    {
     "name": "stderr",
     "output_type": "stream",
     "text": [
      "2021-04-30 09:22:42,871 - moleculekit.writers - WARNING - Field \"serial\" of PDB overflows. Your data will be truncated to 5 characters.\n"
     ]
    },
    {
     "name": "stdout",
     "output_type": "stream",
     "text": [
      "WARNING: removed 0 atoms within 1.5 of a protein aromatic ring\n"
     ]
    },
    {
     "name": "stderr",
     "output_type": "stream",
     "text": [
      "2021-04-30 09:23:31,006 - moleculekit.writers - WARNING - Field \"serial\" of PDB overflows. Your data will be truncated to 5 characters.\n"
     ]
    },
    {
     "name": "stdout",
     "output_type": "stream",
     "text": [
      "Renumbering...\n"
     ]
    },
    {
     "name": "stderr",
     "output_type": "stream",
     "text": [
      "2021-04-30 09:23:44,283 - moleculekit.readers - WARNING - Non-integer values were read from the PDB \"serial\" field. Dropping PDB values and assigning new ones.\n",
      "2021-04-30 09:23:44,345 - moleculekit.readers - WARNING - Reading PDB file with more than 99999 atoms. Bond information can be wrong.\n"
     ]
    },
    {
     "name": "stdout",
     "output_type": "stream",
     "text": [
      "Ionizing...\n"
     ]
    },
    {
     "name": "stderr",
     "output_type": "stream",
     "text": [
      "2021-04-30 09:23:45,959 - htmd.builder.builder - WARNING - Segments ['P'] contain both protein and non-protein atoms. Please assign separate segments to them or the build procedure might fail.\n",
      "2021-04-30 09:23:48,515 - htmd.builder.charmm - INFO - Writing out segments.\n",
      "2021-04-30 09:23:55,461 - moleculekit.writers - WARNING - Field \"serial\" of PDB overflows. Your data will be truncated to 5 characters.\n",
      "2021-04-30 09:23:55,972 - moleculekit.writers - WARNING - Field \"serial\" of PDB overflows. Your data will be truncated to 5 characters.\n",
      "2021-04-30 09:23:56,073 - htmd.builder.builder - INFO - 4 disulfide bonds were added\n"
     ]
    },
    {
     "name": "stdout",
     "output_type": "stream",
     "text": [
      "Disulfide Bond between: UniqueResidueID<resname: 'CYS', chain: 'P', resid: 77, insertion: '', segid: 'P'>\n",
      "                   and: UniqueResidueID<resname: 'CYS', chain: 'P', resid: 166, insertion: '', segid: 'P'>\n",
      "\n",
      "Disulfide Bond between: UniqueResidueID<resname: 'CYS', chain: 'P', resid: 74, insertion: '', segid: 'P'>\n",
      "                   and: UniqueResidueID<resname: 'CYS', chain: 'P', resid: 146, insertion: '', segid: 'P'>\n",
      "\n",
      "Disulfide Bond between: UniqueResidueID<resname: 'CYS', chain: 'P', resid: 259, insertion: '', segid: 'P'>\n",
      "                   and: UniqueResidueID<resname: 'CYS', chain: 'P', resid: 262, insertion: '', segid: 'P'>\n",
      "\n",
      "Disulfide Bond between: UniqueResidueID<resname: 'CYS', chain: 'P', resid: 71, insertion: '', segid: 'P'>\n",
      "                   and: UniqueResidueID<resname: 'CYS', chain: 'P', resid: 159, insertion: '', segid: 'P'>\n",
      "\n"
     ]
    },
    {
     "name": "stderr",
     "output_type": "stream",
     "text": [
      "2021-04-30 09:23:56,857 - htmd.builder.charmm - INFO - Starting the build.\n",
      "2021-04-30 09:24:02,511 - htmd.builder.charmm - WARNING - Failed to set coordinates for 2 atoms.\n",
      "2021-04-30 09:24:02,514 - htmd.builder.charmm - WARNING - Poorly guessed coordinates for 2 atoms.\n",
      "2021-04-30 09:24:02,516 - htmd.builder.charmm - WARNING - Please check /gpcr/users/daranda/doctorat/GPCR_simulations/simulation_output/ionize/5WF6/log.txt for further information.\n",
      "2021-04-30 09:24:02,519 - htmd.builder.charmm - INFO - Finished building.\n",
      "2021-04-30 09:24:04,542 - moleculekit.readers - WARNING - Non-integer values were read from the PDB \"serial\" field. Dropping PDB values and assigning new ones.\n",
      "2021-04-30 09:24:04,600 - moleculekit.readers - WARNING - Reading PDB file with more than 99999 atoms. Bond information can be wrong.\n",
      "2021-04-30 09:24:08,617 - htmd.builder.ionize - INFO - Adding 12 anions + 0 cations for neutralizing and 130 ions for the given salt concentration.\n",
      "2021-04-30 09:25:00,512 - htmd.builder.builder - WARNING - Segments ['P'] contain both protein and non-protein atoms. Please assign separate segments to them or the build procedure might fail.\n",
      "2021-04-30 09:25:02,718 - htmd.builder.charmm - INFO - Writing out segments.\n",
      "2021-04-30 09:25:09,832 - moleculekit.writers - WARNING - Field \"serial\" of PDB overflows. Your data will be truncated to 5 characters.\n",
      "2021-04-30 09:25:10,349 - moleculekit.writers - WARNING - Field \"serial\" of PDB overflows. Your data will be truncated to 5 characters.\n",
      "2021-04-30 09:25:10,807 - moleculekit.writers - WARNING - Field \"serial\" of PDB overflows. Your data will be truncated to 5 characters.\n",
      "2021-04-30 09:25:11,595 - htmd.builder.charmm - INFO - Starting the build.\n",
      "2021-04-30 09:25:16,056 - htmd.builder.charmm - WARNING - Failed to set coordinates for 2 atoms.\n",
      "2021-04-30 09:25:16,059 - htmd.builder.charmm - WARNING - Poorly guessed coordinates for 2 atoms.\n",
      "2021-04-30 09:25:16,062 - htmd.builder.charmm - WARNING - Please check /gpcr/users/daranda/doctorat/GPCR_simulations/simulation_output/ionize/5WF6/log.txt for further information.\n",
      "2021-04-30 09:25:16,064 - htmd.builder.charmm - INFO - Finished building.\n",
      "2021-04-30 09:25:18,093 - moleculekit.readers - WARNING - Non-integer values were read from the PDB \"serial\" field. Dropping PDB values and assigning new ones.\n",
      "2021-04-30 09:25:18,152 - moleculekit.readers - WARNING - Reading PDB file with more than 99999 atoms. Bond information can be wrong.\n",
      "2021-04-30 09:25:44,270 - htmd.builder.builder - WARNING - Found cis peptide bond in 1 frames: [0] in the omega diheral \"Angle of (CYS 146 CA P P) (CYS 146 C P P) (GLY 147 N P P) (GLY 147 CA P P) \" with indexes [2234, 2240, 2242, 2244]\n",
      "2021-04-30 09:25:44,271 - htmd.builder.builder - WARNING - Found cis peptide bond in 1 frames: [0] in the omega diheral \"Angle of (GLU 161 CA P P) (GLU 161 C P P) (GLY 162 N P P) (GLY 162 CA P P) \" with indexes [2427, 2438, 2440, 2442]\n",
      "2021-04-30 09:25:44,271 - htmd.builder.builder - WARNING - Found cis peptide bond in 1 frames: [0] in the omega diheral \"Angle of (SER 213 CA P P) (SER 213 C P P) (GLN 214 N P P) (GLN 214 CA P P) \" with indexes [3293, 3300, 3302, 3304]\n",
      "2021-04-30 09:25:44,272 - htmd.builder.builder - WARNING - Found cis peptide bond in 1 frames: [0] in the omega diheral \"Angle of (PRO 217 CA P P) (PRO 217 C P P) (GLY 218 N P P) (GLY 218 CA P P) \" with indexes [3356, 3364, 3366, 3368]\n",
      "2021-04-30 09:25:45,694 - moleculekit.readers - WARNING - Non-integer values were read from the PDB \"serial\" field. Dropping PDB values and assigning new ones.\n",
      "2021-04-30 09:25:45,751 - moleculekit.readers - WARNING - Reading PDB file with more than 99999 atoms. Bond information can be wrong.\n",
      "2021-04-30 09:25:48,847 - moleculekit.writers - WARNING - Field \"serial\" of PDB overflows. Your data will be truncated to 5 characters.\n"
     ]
    },
    {
     "name": "stdout",
     "output_type": "stream",
     "text": [
      "Building...\n"
     ]
    },
    {
     "name": "stderr",
     "output_type": "stream",
     "text": [
      "2021-04-30 09:26:19,228 - moleculekit.readers - WARNING - Non-integer values were read from the PDB \"serial\" field. Dropping PDB values and assigning new ones.\n",
      "2021-04-30 09:26:19,285 - moleculekit.readers - WARNING - Reading PDB file with more than 99999 atoms. Bond information can be wrong.\n",
      "2021-04-30 09:26:20,778 - htmd.builder.builder - WARNING - Segments ['P'] contain both protein and non-protein atoms. Please assign separate segments to them or the build procedure might fail.\n",
      "2021-04-30 09:26:23,326 - htmd.builder.charmm - INFO - Writing out segments.\n",
      "2021-04-30 09:26:30,103 - moleculekit.writers - WARNING - Field \"serial\" of PDB overflows. Your data will be truncated to 5 characters.\n",
      "2021-04-30 09:26:30,608 - moleculekit.writers - WARNING - Field \"serial\" of PDB overflows. Your data will be truncated to 5 characters.\n",
      "2021-04-30 09:26:31,039 - moleculekit.writers - WARNING - Field \"serial\" of PDB overflows. Your data will be truncated to 5 characters.\n",
      "2021-04-30 09:26:31,098 - htmd.builder.builder - INFO - 4 disulfide bonds were added\n"
     ]
    },
    {
     "name": "stdout",
     "output_type": "stream",
     "text": [
      "Disulfide Bond between: UniqueResidueID<resname: 'CYS', chain: 'P', resid: 77, insertion: '', segid: 'P'>\n",
      "                   and: UniqueResidueID<resname: 'CYS', chain: 'P', resid: 166, insertion: '', segid: 'P'>\n",
      "\n",
      "Disulfide Bond between: UniqueResidueID<resname: 'CYS', chain: 'P', resid: 74, insertion: '', segid: 'P'>\n",
      "                   and: UniqueResidueID<resname: 'CYS', chain: 'P', resid: 146, insertion: '', segid: 'P'>\n",
      "\n",
      "Disulfide Bond between: UniqueResidueID<resname: 'CYS', chain: 'P', resid: 259, insertion: '', segid: 'P'>\n",
      "                   and: UniqueResidueID<resname: 'CYS', chain: 'P', resid: 262, insertion: '', segid: 'P'>\n",
      "\n",
      "Disulfide Bond between: UniqueResidueID<resname: 'CYS', chain: 'P', resid: 71, insertion: '', segid: 'P'>\n",
      "                   and: UniqueResidueID<resname: 'CYS', chain: 'P', resid: 159, insertion: '', segid: 'P'>\n",
      "\n"
     ]
    },
    {
     "name": "stderr",
     "output_type": "stream",
     "text": [
      "2021-04-30 09:26:31,654 - htmd.builder.charmm - INFO - Starting the build.\n",
      "2021-04-30 09:26:36,755 - htmd.builder.charmm - WARNING - Failed to set coordinates for 2 atoms.\n",
      "2021-04-30 09:26:36,759 - htmd.builder.charmm - WARNING - Poorly guessed coordinates for 2 atoms.\n",
      "2021-04-30 09:26:36,760 - htmd.builder.charmm - WARNING - Please check /gpcr/users/daranda/doctorat/GPCR_simulations/simulation_output/build/5WF6/log.txt for further information.\n",
      "2021-04-30 09:26:36,760 - htmd.builder.charmm - INFO - Finished building.\n",
      "2021-04-30 09:26:38,866 - moleculekit.readers - WARNING - Non-integer values were read from the PDB \"serial\" field. Dropping PDB values and assigning new ones.\n",
      "2021-04-30 09:26:38,926 - moleculekit.readers - WARNING - Reading PDB file with more than 99999 atoms. Bond information can be wrong.\n",
      "2021-04-30 09:27:06,437 - htmd.builder.builder - WARNING - Found cis peptide bond in 1 frames: [0] in the omega diheral \"Angle of (CYS 146 CA P P) (CYS 146 C P P) (GLY 147 N P P) (GLY 147 CA P P) \" with indexes [2234, 2240, 2242, 2244]\n",
      "2021-04-30 09:27:06,438 - htmd.builder.builder - WARNING - Found cis peptide bond in 1 frames: [0] in the omega diheral \"Angle of (GLU 161 CA P P) (GLU 161 C P P) (GLY 162 N P P) (GLY 162 CA P P) \" with indexes [2427, 2438, 2440, 2442]\n",
      "2021-04-30 09:27:06,439 - htmd.builder.builder - WARNING - Found cis peptide bond in 1 frames: [0] in the omega diheral \"Angle of (SER 213 CA P P) (SER 213 C P P) (GLN 214 N P P) (GLN 214 CA P P) \" with indexes [3293, 3300, 3302, 3304]\n",
      "2021-04-30 09:27:06,440 - htmd.builder.builder - WARNING - Found cis peptide bond in 1 frames: [0] in the omega diheral \"Angle of (PRO 217 CA P P) (PRO 217 C P P) (GLY 218 N P P) (GLY 218 CA P P) \" with indexes [3356, 3364, 3366, 3368]\n"
     ]
    },
    {
     "name": "stdout",
     "output_type": "stream",
     "text": [
      "End of 5WF6 after 509.35146737098694 seconds\n",
      "\n",
      "Build model for 5WF6_apo already exists. Skipping...\n"
     ]
    },
    {
     "name": "stderr",
     "output_type": "stream",
     "text": [
      "2021-04-30 09:27:06,785 - moleculekit.molecule - INFO - Removed 8 atoms. 5026 atoms remaining in the molecule.\n",
      "2021-04-30 09:27:06,820 - moleculekit.molecule - INFO - Removed 9 atoms. 5017 atoms remaining in the molecule.\n",
      "2021-04-30 09:27:06,856 - moleculekit.molecule - INFO - Removed 0 atoms. 5017 atoms remaining in the molecule.\n",
      "2021-04-30 09:27:08,947 - moleculekit.molecule - INFO - Removed 0 atoms. 5017 atoms remaining in the molecule.\n",
      "2021-04-30 09:27:08,983 - moleculekit.molecule - INFO - Removed 3 atoms. 5014 atoms remaining in the molecule.\n",
      "2021-04-30 09:27:09,086 - moleculekit.molecule - INFO - Removed 0 atoms. 5014 atoms remaining in the molecule.\n",
      "2021-04-30 09:27:09,515 - moleculekit.tools.autosegment - INFO - Created segment P0 between resid 1 and 162.\n",
      "2021-04-30 09:27:09,515 - moleculekit.tools.autosegment - INFO - Created segment P1 between resid 164 and 319.\n",
      "2021-04-30 09:27:12,390 - moleculekit.molecule - INFO - Removed 0 atoms. 5014 atoms remaining in the molecule.\n",
      "2021-04-30 09:27:12,603 - moleculekit.tools.sequencestructuralalignment - INFO - No segment was specified by the user for `mol` and multiple segments (['P0', 'P1']) were detected. Alignment will be done on all protein segments.\n",
      "2021-04-30 09:27:12,644 - moleculekit.tools.sequencestructuralalignment - INFO - No segment was specified by the user for `ref`. Alignment will be done on all protein segments.\n",
      "2021-04-30 09:27:12,851 - moleculekit.tools.sequencestructuralalignment - WARNING - 4 alignments found. Limiting to 1 as specified in the `maxalignments` argument.\n",
      "2021-04-30 09:27:12,853 - moleculekit.tools.sequencestructuralalignment - INFO - Alignment #0 was done on 146 residues: mol segid P0 resid 3-148\n"
     ]
    },
    {
     "name": "stdout",
     "output_type": "stream",
     "text": [
      "Adding membrane...\n"
     ]
    },
    {
     "name": "stderr",
     "output_type": "stream",
     "text": [
      "2021-04-30 09:27:13,594 - htmd.builder.builder - INFO - Replicating Membrane 3x3\n",
      "Replicating Membrane: 100%|██████████| 9/9 [00:02<00:00,  3.60it/s]\n",
      "2021-04-30 09:29:47,101 - moleculekit.molecule - INFO - Removed 2511 atoms. 50020 atoms remaining in the molecule.\n",
      "2021-04-30 09:29:48,595 - moleculekit.molecule - INFO - Removed 112 residues from appended Molecule due to collisions.\n"
     ]
    },
    {
     "name": "stdout",
     "output_type": "stream",
     "text": [
      "Solvating...\n"
     ]
    },
    {
     "name": "stderr",
     "output_type": "stream",
     "text": [
      "2021-04-30 09:29:49,490 - htmd.builder.solvate - INFO - Using water pdb file at: /home/david/miniconda3/lib/python3.6/site-packages/htmd/share/solvate/wat.pdb\n"
     ]
    },
    {
     "name": "stdout",
     "output_type": "stream",
     "text": [
      "wataerbox Max and min:  [57.89099 57.32537 28.04904] [-50.27501 -50.85663 -27.74596]\n"
     ]
    },
    {
     "name": "stderr",
     "output_type": "stream",
     "text": [
      "2021-04-30 09:29:50,296 - htmd.builder.solvate - INFO - Replicating 8 water segments, 2 by 2 by 2\n",
      "Solvating: 100%|██████████| 8/8 [00:10<00:00,  1.29s/it]\n",
      "2021-04-30 09:30:02,747 - htmd.builder.solvate - INFO - 18763 water molecules were added to the system.\n",
      "2021-04-30 09:30:10,952 - moleculekit.molecule - INFO - Removed 870 atoms. 104615 atoms remaining in the molecule.\n"
     ]
    },
    {
     "name": "stdout",
     "output_type": "stream",
     "text": [
      "Pre-build...\n"
     ]
    },
    {
     "name": "stderr",
     "output_type": "stream",
     "text": [
      "2021-04-30 09:30:18,330 - htmd.builder.charmm - INFO - Writing out segments.\n",
      "2021-04-30 09:30:25,242 - moleculekit.writers - WARNING - Field \"serial\" of PDB overflows. Your data will be truncated to 5 characters.\n",
      "2021-04-30 09:30:25,771 - moleculekit.writers - WARNING - Field \"serial\" of PDB overflows. Your data will be truncated to 5 characters.\n",
      "2021-04-30 09:30:25,865 - htmd.builder.builder - INFO - 4 disulfide bonds were added\n"
     ]
    },
    {
     "name": "stdout",
     "output_type": "stream",
     "text": [
      "Disulfide Bond between: UniqueResidueID<resname: 'CYX', chain: 'P', resid: 77, insertion: '', segid: 'P0'>\n",
      "                   and: UniqueResidueID<resname: 'CYX', chain: 'P', resid: 166, insertion: '', segid: 'P1'>\n",
      "\n",
      "Disulfide Bond between: UniqueResidueID<resname: 'CYX', chain: 'P', resid: 74, insertion: '', segid: 'P0'>\n",
      "                   and: UniqueResidueID<resname: 'CYX', chain: 'P', resid: 146, insertion: '', segid: 'P0'>\n",
      "\n",
      "Disulfide Bond between: UniqueResidueID<resname: 'CYX', chain: 'P', resid: 259, insertion: '', segid: 'P1'>\n",
      "                   and: UniqueResidueID<resname: 'CYX', chain: 'P', resid: 262, insertion: '', segid: 'P1'>\n",
      "\n",
      "Disulfide Bond between: UniqueResidueID<resname: 'CYS', chain: 'P', resid: 71, insertion: '', segid: 'P0'>\n",
      "                   and: UniqueResidueID<resname: 'CYS', chain: 'P', resid: 159, insertion: '', segid: 'P0'>\n",
      "\n"
     ]
    },
    {
     "name": "stderr",
     "output_type": "stream",
     "text": [
      "2021-04-30 09:30:26,554 - htmd.builder.charmm - INFO - Starting the build.\n",
      "2021-04-30 09:30:32,600 - htmd.builder.charmm - WARNING - Failed to set coordinates for 5 atoms.\n",
      "2021-04-30 09:30:32,604 - htmd.builder.charmm - WARNING - Failed to guess coordinates for 1 atoms due to bad angles.\n",
      "2021-04-30 09:30:32,606 - htmd.builder.charmm - WARNING - Poorly guessed coordinates for 182 atoms.\n",
      "2021-04-30 09:30:32,608 - htmd.builder.charmm - WARNING - Please check /gpcr/users/daranda/doctorat/GPCR_simulations/simulation_output/pre-build/5WF6_apo/log.txt for further information.\n",
      "2021-04-30 09:30:32,610 - htmd.builder.charmm - INFO - Finished building.\n",
      "2021-04-30 09:30:34,549 - moleculekit.readers - WARNING - Atoms with names \"HE21\" \"HE22\" were guessed as element H but could also be He (helium). If this is a case, you can correct them with mol.set('element', 'He', sel='name \"HE21\" \"HE22\"')\n",
      "2021-04-30 09:30:34,763 - moleculekit.readers - WARNING - Non-integer values were read from the PDB \"serial\" field. Dropping PDB values and assigning new ones.\n",
      "2021-04-30 09:30:34,851 - moleculekit.readers - WARNING - Reading PDB file with more than 99999 atoms. Bond information can be wrong.\n",
      "2021-04-30 09:31:07,416 - htmd.builder.builder - WARNING - Found cis peptide bond in 1 frames: [0] in the omega diheral \"Angle of (CYS 146 CA P0 P) (CYS 146 C P0 P) (GLY 147 N P0 P) (GLY 147 CA P0 P) \" with indexes [2234, 2240, 2242, 2244]\n",
      "2021-04-30 09:31:07,417 - htmd.builder.builder - WARNING - Found cis peptide bond in 1 frames: [0] in the omega diheral \"Angle of (GLU 161 CA P0 P) (GLU 161 C P0 P) (GLY 162 N P0 P) (GLY 162 CA P0 P) \" with indexes [2427, 2438, 2440, 2442]\n",
      "2021-04-30 09:31:07,418 - htmd.builder.builder - WARNING - Found cis peptide bond in 1 frames: [0] in the omega diheral \"Angle of (SER 213 CA P1 P) (SER 213 C P1 P) (GLN 214 N P1 P) (GLN 214 CA P1 P) \" with indexes [3288, 3295, 3297, 3299]\n",
      "2021-04-30 09:31:07,419 - htmd.builder.builder - WARNING - Found cis peptide bond in 1 frames: [0] in the omega diheral \"Angle of (PRO 217 CA P1 P) (PRO 217 C P1 P) (GLY 218 N P1 P) (GLY 218 CA P1 P) \" with indexes [3351, 3359, 3361, 3363]\n",
      "2021-04-30 09:31:08,885 - moleculekit.readers - WARNING - Atoms with names \"HE21\" \"HE22\" were guessed as element H but could also be He (helium). If this is a case, you can correct them with mol.set('element', 'He', sel='name \"HE21\" \"HE22\"')\n",
      "2021-04-30 09:31:09,087 - moleculekit.readers - WARNING - Non-integer values were read from the PDB \"serial\" field. Dropping PDB values and assigning new ones.\n",
      "2021-04-30 09:31:09,167 - moleculekit.readers - WARNING - Reading PDB file with more than 99999 atoms. Bond information can be wrong.\n"
     ]
    },
    {
     "name": "stdout",
     "output_type": "stream",
     "text": [
      "Checking aromatic insertions...\n"
     ]
    },
    {
     "name": "stderr",
     "output_type": "stream",
     "text": [
      "2021-04-30 09:31:40,168 - moleculekit.writers - WARNING - Field \"serial\" of PDB overflows. Your data will be truncated to 5 characters.\n"
     ]
    },
    {
     "name": "stdout",
     "output_type": "stream",
     "text": [
      "WARNING: removed 0 atoms within 1.5 of a protein aromatic ring\n"
     ]
    },
    {
     "name": "stderr",
     "output_type": "stream",
     "text": [
      "2021-04-30 09:32:32,280 - moleculekit.writers - WARNING - Field \"serial\" of PDB overflows. Your data will be truncated to 5 characters.\n"
     ]
    },
    {
     "name": "stdout",
     "output_type": "stream",
     "text": [
      "Renumbering...\n"
     ]
    },
    {
     "name": "stderr",
     "output_type": "stream",
     "text": [
      "2021-04-30 09:32:45,915 - moleculekit.readers - WARNING - Non-integer values were read from the PDB \"serial\" field. Dropping PDB values and assigning new ones.\n",
      "2021-04-30 09:32:45,991 - moleculekit.readers - WARNING - Reading PDB file with more than 99999 atoms. Bond information can be wrong.\n"
     ]
    },
    {
     "name": "stdout",
     "output_type": "stream",
     "text": [
      "Ionizing...\n"
     ]
    },
    {
     "name": "stderr",
     "output_type": "stream",
     "text": [
      "2021-04-30 09:32:47,728 - htmd.builder.builder - WARNING - Segments ['P0'] contain both protein and non-protein atoms. Please assign separate segments to them or the build procedure might fail.\n",
      "2021-04-30 09:32:50,356 - htmd.builder.charmm - INFO - Writing out segments.\n",
      "2021-04-30 09:32:57,927 - moleculekit.writers - WARNING - Field \"serial\" of PDB overflows. Your data will be truncated to 5 characters.\n",
      "2021-04-30 09:32:58,421 - moleculekit.writers - WARNING - Field \"serial\" of PDB overflows. Your data will be truncated to 5 characters.\n",
      "2021-04-30 09:32:58,535 - htmd.builder.builder - INFO - 4 disulfide bonds were added\n"
     ]
    },
    {
     "name": "stdout",
     "output_type": "stream",
     "text": [
      "Disulfide Bond between: UniqueResidueID<resname: 'CYS', chain: 'P', resid: 77, insertion: '', segid: 'P0'>\n",
      "                   and: UniqueResidueID<resname: 'CYS', chain: 'P', resid: 166, insertion: '', segid: 'P1'>\n",
      "\n",
      "Disulfide Bond between: UniqueResidueID<resname: 'CYS', chain: 'P', resid: 74, insertion: '', segid: 'P0'>\n",
      "                   and: UniqueResidueID<resname: 'CYS', chain: 'P', resid: 146, insertion: '', segid: 'P0'>\n",
      "\n",
      "Disulfide Bond between: UniqueResidueID<resname: 'CYS', chain: 'P', resid: 259, insertion: '', segid: 'P1'>\n",
      "                   and: UniqueResidueID<resname: 'CYS', chain: 'P', resid: 262, insertion: '', segid: 'P1'>\n",
      "\n",
      "Disulfide Bond between: UniqueResidueID<resname: 'CYS', chain: 'P', resid: 71, insertion: '', segid: 'P0'>\n",
      "                   and: UniqueResidueID<resname: 'CYS', chain: 'P', resid: 159, insertion: '', segid: 'P0'>\n",
      "\n"
     ]
    },
    {
     "name": "stderr",
     "output_type": "stream",
     "text": [
      "2021-04-30 09:32:59,393 - htmd.builder.charmm - INFO - Starting the build.\n",
      "2021-04-30 09:33:05,032 - htmd.builder.charmm - WARNING - Failed to set coordinates for 2 atoms.\n",
      "2021-04-30 09:33:05,033 - htmd.builder.charmm - WARNING - Poorly guessed coordinates for 2 atoms.\n",
      "2021-04-30 09:33:05,034 - htmd.builder.charmm - WARNING - Please check /gpcr/users/daranda/doctorat/GPCR_simulations/simulation_output/ionize/5WF6_apo/log.txt for further information.\n",
      "2021-04-30 09:33:05,034 - htmd.builder.charmm - INFO - Finished building.\n",
      "2021-04-30 09:33:07,093 - moleculekit.readers - WARNING - Non-integer values were read from the PDB \"serial\" field. Dropping PDB values and assigning new ones.\n",
      "2021-04-30 09:33:07,169 - moleculekit.readers - WARNING - Reading PDB file with more than 99999 atoms. Bond information can be wrong.\n",
      "2021-04-30 09:33:11,071 - htmd.builder.ionize - INFO - Adding 12 anions + 0 cations for neutralizing and 130 ions for the given salt concentration.\n",
      "2021-04-30 09:34:06,518 - htmd.builder.builder - WARNING - Segments ['P0'] contain both protein and non-protein atoms. Please assign separate segments to them or the build procedure might fail.\n",
      "2021-04-30 09:34:08,310 - htmd.builder.charmm - INFO - Writing out segments.\n",
      "2021-04-30 09:34:15,880 - moleculekit.writers - WARNING - Field \"serial\" of PDB overflows. Your data will be truncated to 5 characters.\n",
      "2021-04-30 09:34:16,388 - moleculekit.writers - WARNING - Field \"serial\" of PDB overflows. Your data will be truncated to 5 characters.\n",
      "2021-04-30 09:34:16,921 - moleculekit.writers - WARNING - Field \"serial\" of PDB overflows. Your data will be truncated to 5 characters.\n",
      "2021-04-30 09:34:17,852 - htmd.builder.charmm - INFO - Starting the build.\n",
      "2021-04-30 09:34:21,349 - htmd.builder.charmm - WARNING - Failed to set coordinates for 2 atoms.\n",
      "2021-04-30 09:34:21,350 - htmd.builder.charmm - WARNING - Poorly guessed coordinates for 2 atoms.\n",
      "2021-04-30 09:34:21,350 - htmd.builder.charmm - WARNING - Please check /gpcr/users/daranda/doctorat/GPCR_simulations/simulation_output/ionize/5WF6_apo/log.txt for further information.\n",
      "2021-04-30 09:34:21,351 - htmd.builder.charmm - INFO - Finished building.\n",
      "2021-04-30 09:34:23,355 - moleculekit.readers - WARNING - Non-integer values were read from the PDB \"serial\" field. Dropping PDB values and assigning new ones.\n",
      "2021-04-30 09:34:23,435 - moleculekit.readers - WARNING - Reading PDB file with more than 99999 atoms. Bond information can be wrong.\n",
      "2021-04-30 09:34:53,636 - htmd.builder.builder - WARNING - Found cis peptide bond in 1 frames: [0] in the omega diheral \"Angle of (CYS 146 CA P0 P) (CYS 146 C P0 P) (GLY 147 N P0 P) (GLY 147 CA P0 P) \" with indexes [2234, 2240, 2242, 2244]\n",
      "2021-04-30 09:34:53,637 - htmd.builder.builder - WARNING - Found cis peptide bond in 1 frames: [0] in the omega diheral \"Angle of (GLU 161 CA P0 P) (GLU 161 C P0 P) (GLY 162 N P0 P) (GLY 162 CA P0 P) \" with indexes [2427, 2438, 2440, 2442]\n",
      "2021-04-30 09:34:53,637 - htmd.builder.builder - WARNING - Found cis peptide bond in 1 frames: [0] in the omega diheral \"Angle of (SER 213 CA P1 P) (SER 213 C P1 P) (GLN 214 N P1 P) (GLN 214 CA P1 P) \" with indexes [3288, 3295, 3297, 3299]\n",
      "2021-04-30 09:34:53,638 - htmd.builder.builder - WARNING - Found cis peptide bond in 1 frames: [0] in the omega diheral \"Angle of (PRO 217 CA P1 P) (PRO 217 C P1 P) (GLY 218 N P1 P) (GLY 218 CA P1 P) \" with indexes [3351, 3359, 3361, 3363]\n",
      "2021-04-30 09:34:55,299 - moleculekit.readers - WARNING - Non-integer values were read from the PDB \"serial\" field. Dropping PDB values and assigning new ones.\n",
      "2021-04-30 09:34:55,373 - moleculekit.readers - WARNING - Reading PDB file with more than 99999 atoms. Bond information can be wrong.\n",
      "2021-04-30 09:34:58,832 - moleculekit.writers - WARNING - Field \"serial\" of PDB overflows. Your data will be truncated to 5 characters.\n"
     ]
    },
    {
     "name": "stdout",
     "output_type": "stream",
     "text": [
      "Building...\n"
     ]
    },
    {
     "name": "stderr",
     "output_type": "stream",
     "text": [
      "2021-04-30 09:35:32,554 - moleculekit.readers - WARNING - Non-integer values were read from the PDB \"serial\" field. Dropping PDB values and assigning new ones.\n",
      "2021-04-30 09:35:32,621 - moleculekit.readers - WARNING - Reading PDB file with more than 99999 atoms. Bond information can be wrong.\n",
      "2021-04-30 09:35:34,263 - htmd.builder.builder - WARNING - Segments ['P0'] contain both protein and non-protein atoms. Please assign separate segments to them or the build procedure might fail.\n",
      "2021-04-30 09:35:36,460 - htmd.builder.charmm - INFO - Writing out segments.\n",
      "2021-04-30 09:35:43,812 - moleculekit.writers - WARNING - Field \"serial\" of PDB overflows. Your data will be truncated to 5 characters.\n",
      "2021-04-30 09:35:44,368 - moleculekit.writers - WARNING - Field \"serial\" of PDB overflows. Your data will be truncated to 5 characters.\n",
      "2021-04-30 09:35:44,883 - moleculekit.writers - WARNING - Field \"serial\" of PDB overflows. Your data will be truncated to 5 characters.\n",
      "2021-04-30 09:35:44,941 - htmd.builder.builder - INFO - 4 disulfide bonds were added\n"
     ]
    },
    {
     "name": "stdout",
     "output_type": "stream",
     "text": [
      "Disulfide Bond between: UniqueResidueID<resname: 'CYS', chain: 'P', resid: 77, insertion: '', segid: 'P0'>\n",
      "                   and: UniqueResidueID<resname: 'CYS', chain: 'P', resid: 166, insertion: '', segid: 'P1'>\n",
      "\n",
      "Disulfide Bond between: UniqueResidueID<resname: 'CYS', chain: 'P', resid: 74, insertion: '', segid: 'P0'>\n",
      "                   and: UniqueResidueID<resname: 'CYS', chain: 'P', resid: 146, insertion: '', segid: 'P0'>\n",
      "\n",
      "Disulfide Bond between: UniqueResidueID<resname: 'CYS', chain: 'P', resid: 259, insertion: '', segid: 'P1'>\n",
      "                   and: UniqueResidueID<resname: 'CYS', chain: 'P', resid: 262, insertion: '', segid: 'P1'>\n",
      "\n",
      "Disulfide Bond between: UniqueResidueID<resname: 'CYS', chain: 'P', resid: 71, insertion: '', segid: 'P0'>\n",
      "                   and: UniqueResidueID<resname: 'CYS', chain: 'P', resid: 159, insertion: '', segid: 'P0'>\n",
      "\n"
     ]
    },
    {
     "name": "stderr",
     "output_type": "stream",
     "text": [
      "2021-04-30 09:35:45,720 - htmd.builder.charmm - INFO - Starting the build.\n",
      "2021-04-30 09:35:49,160 - htmd.builder.charmm - WARNING - Failed to set coordinates for 2 atoms.\n",
      "2021-04-30 09:35:49,161 - htmd.builder.charmm - WARNING - Poorly guessed coordinates for 2 atoms.\n",
      "2021-04-30 09:35:49,161 - htmd.builder.charmm - WARNING - Please check /gpcr/users/daranda/doctorat/GPCR_simulations/simulation_output/build/5WF6_apo/log.txt for further information.\n",
      "2021-04-30 09:35:49,162 - htmd.builder.charmm - INFO - Finished building.\n",
      "2021-04-30 09:35:51,126 - moleculekit.readers - WARNING - Non-integer values were read from the PDB \"serial\" field. Dropping PDB values and assigning new ones.\n",
      "2021-04-30 09:35:51,200 - moleculekit.readers - WARNING - Reading PDB file with more than 99999 atoms. Bond information can be wrong.\n",
      "2021-04-30 09:36:22,923 - htmd.builder.builder - WARNING - Found cis peptide bond in 1 frames: [0] in the omega diheral \"Angle of (CYS 146 CA P0 P) (CYS 146 C P0 P) (GLY 147 N P0 P) (GLY 147 CA P0 P) \" with indexes [2234, 2240, 2242, 2244]\n",
      "2021-04-30 09:36:22,925 - htmd.builder.builder - WARNING - Found cis peptide bond in 1 frames: [0] in the omega diheral \"Angle of (GLU 161 CA P0 P) (GLU 161 C P0 P) (GLY 162 N P0 P) (GLY 162 CA P0 P) \" with indexes [2427, 2438, 2440, 2442]\n",
      "2021-04-30 09:36:22,925 - htmd.builder.builder - WARNING - Found cis peptide bond in 1 frames: [0] in the omega diheral \"Angle of (SER 213 CA P1 P) (SER 213 C P1 P) (GLN 214 N P1 P) (GLN 214 CA P1 P) \" with indexes [3288, 3295, 3297, 3299]\n",
      "2021-04-30 09:36:22,926 - htmd.builder.builder - WARNING - Found cis peptide bond in 1 frames: [0] in the omega diheral \"Angle of (PRO 217 CA P1 P) (PRO 217 C P1 P) (GLY 218 N P1 P) (GLY 218 CA P1 P) \" with indexes [3351, 3359, 3361, 3363]\n"
     ]
    },
    {
     "name": "stdout",
     "output_type": "stream",
     "text": [
      "End of 5WF6_apo after 556.4861693382263 seconds\n",
      "\n",
      "Build model for 5UIG already exists. Skipping...\n"
     ]
    },
    {
     "name": "stderr",
     "output_type": "stream",
     "text": [
      "2021-04-30 09:36:23,242 - moleculekit.molecule - INFO - Removed 0 atoms. 5144 atoms remaining in the molecule.\n",
      "2021-04-30 09:36:23,282 - moleculekit.molecule - INFO - Removed 0 atoms. 5144 atoms remaining in the molecule.\n",
      "2021-04-30 09:36:25,016 - moleculekit.molecule - WARNING - Alternative atom locations detected. Only altloc A was kept. If you prefer to keep all use the keepaltloc=\"all\" option when reading the file.\n",
      "2021-04-30 09:36:25,017 - moleculekit.molecule - INFO - Removed 28 atoms. 2877 atoms remaining in the molecule.\n",
      "2021-04-30 09:36:25,295 - moleculekit.molecule - INFO - Removed 0 atoms. 5144 atoms remaining in the molecule.\n",
      "2021-04-30 09:36:25,334 - moleculekit.molecule - INFO - Removed 3 atoms. 5141 atoms remaining in the molecule.\n",
      "2021-04-30 09:36:25,451 - moleculekit.molecule - INFO - Removed 0 atoms. 5141 atoms remaining in the molecule.\n",
      "2021-04-30 09:36:29,240 - moleculekit.molecule - INFO - Removed 0 atoms. 5141 atoms remaining in the molecule.\n",
      "2021-04-30 09:36:29,445 - moleculekit.tools.sequencestructuralalignment - INFO - No segment was specified by the user for `mol`. Alignment will be done on all protein segments.\n",
      "2021-04-30 09:36:29,489 - moleculekit.tools.sequencestructuralalignment - INFO - No segment was specified by the user for `ref`. Alignment will be done on all protein segments.\n",
      "2021-04-30 09:36:29,643 - moleculekit.tools.sequencestructuralalignment - WARNING - 6 alignments found. Limiting to 1 as specified in the `maxalignments` argument.\n",
      "2021-04-30 09:36:29,644 - moleculekit.tools.sequencestructuralalignment - INFO - Alignment #0 was done on 144 residues: mol segid P resid 5-148\n"
     ]
    },
    {
     "name": "stdout",
     "output_type": "stream",
     "text": [
      "Adding membrane...\n"
     ]
    },
    {
     "name": "stderr",
     "output_type": "stream",
     "text": [
      "2021-04-30 09:36:30,399 - htmd.builder.builder - INFO - Replicating Membrane 3x3\n",
      "Replicating Membrane: 100%|██████████| 9/9 [00:02<00:00,  3.45it/s]\n",
      "2021-04-30 09:39:01,001 - moleculekit.molecule - INFO - Removed 2795 atoms. 48555 atoms remaining in the molecule.\n",
      "2021-04-30 09:39:02,391 - moleculekit.molecule - INFO - Removed 101 residues from appended Molecule due to collisions.\n"
     ]
    },
    {
     "name": "stdout",
     "output_type": "stream",
     "text": [
      "Solvating...\n"
     ]
    },
    {
     "name": "stderr",
     "output_type": "stream",
     "text": [
      "2021-04-30 09:39:03,256 - htmd.builder.solvate - INFO - Using water pdb file at: /home/david/miniconda3/lib/python3.6/site-packages/htmd/share/solvate/wat.pdb\n"
     ]
    },
    {
     "name": "stdout",
     "output_type": "stream",
     "text": [
      "wataerbox Max and min:  [56.148308 55.572014 28.081614] [-49.753693 -50.35398  -27.713387]\n"
     ]
    },
    {
     "name": "stderr",
     "output_type": "stream",
     "text": [
      "2021-04-30 09:39:04,088 - htmd.builder.solvate - INFO - Replicating 8 water segments, 2 by 2 by 2\n",
      "Solvating: 100%|██████████| 8/8 [00:09<00:00,  1.25s/it]\n",
      "2021-04-30 09:39:15,945 - htmd.builder.solvate - INFO - 15331 water molecules were added to the system.\n",
      "2021-04-30 09:39:23,096 - moleculekit.molecule - INFO - Removed 1137 atoms. 93926 atoms remaining in the molecule.\n"
     ]
    },
    {
     "name": "stdout",
     "output_type": "stream",
     "text": [
      "Pre-build...\n"
     ]
    },
    {
     "name": "stderr",
     "output_type": "stream",
     "text": [
      "2021-04-30 09:39:28,210 - htmd.builder.charmm - INFO - Writing out segments.\n",
      "2021-04-30 09:39:35,330 - htmd.builder.builder - INFO - 4 disulfide bonds were added\n"
     ]
    },
    {
     "name": "stdout",
     "output_type": "stream",
     "text": [
      "Disulfide Bond between: UniqueResidueID<resname: 'CYX', chain: 'P', resid: 77, insertion: '', segid: 'P'>\n",
      "                   and: UniqueResidueID<resname: 'CYX', chain: 'P', resid: 166, insertion: '', segid: 'P'>\n",
      "\n",
      "Disulfide Bond between: UniqueResidueID<resname: 'CYX', chain: 'P', resid: 74, insertion: '', segid: 'P'>\n",
      "                   and: UniqueResidueID<resname: 'CYX', chain: 'P', resid: 146, insertion: '', segid: 'P'>\n",
      "\n",
      "Disulfide Bond between: UniqueResidueID<resname: 'CYX', chain: 'P', resid: 259, insertion: '', segid: 'P'>\n",
      "                   and: UniqueResidueID<resname: 'CYX', chain: 'P', resid: 262, insertion: '', segid: 'P'>\n",
      "\n",
      "Disulfide Bond between: UniqueResidueID<resname: 'CYX', chain: 'P', resid: 71, insertion: '', segid: 'P'>\n",
      "                   and: UniqueResidueID<resname: 'CYX', chain: 'P', resid: 159, insertion: '', segid: 'P'>\n",
      "\n"
     ]
    },
    {
     "name": "stderr",
     "output_type": "stream",
     "text": [
      "2021-04-30 09:39:36,258 - htmd.builder.charmm - INFO - Starting the build.\n",
      "2021-04-30 09:39:40,341 - htmd.builder.charmm - WARNING - Failed to set coordinates for 6 atoms.\n",
      "2021-04-30 09:39:40,343 - htmd.builder.charmm - WARNING - Failed to guess coordinates for 2 atoms due to bad angles.\n",
      "2021-04-30 09:39:40,343 - htmd.builder.charmm - WARNING - Poorly guessed coordinates for 188 atoms.\n",
      "2021-04-30 09:39:40,343 - htmd.builder.charmm - WARNING - Please check /gpcr/users/daranda/doctorat/GPCR_simulations/simulation_output/pre-build/5UIG/log.txt for further information.\n",
      "2021-04-30 09:39:40,344 - htmd.builder.charmm - INFO - Finished building.\n",
      "2021-04-30 09:40:07,168 - htmd.builder.builder - WARNING - Found cis peptide bond in 1 frames: [0] in the omega diheral \"Angle of (LEU 216 CA P P) (LEU 216 C P P) (PRO 217 N P P) (PRO 217 CA P P) \" with indexes [3333, 3348, 3350, 3354]\n"
     ]
    },
    {
     "name": "stdout",
     "output_type": "stream",
     "text": [
      "Checking aromatic insertions...\n",
      "WARNING: removed 0 atoms within 1.5 of a protein aromatic ring\n",
      "Renumbering...\n",
      "Ionizing...\n"
     ]
    },
    {
     "name": "stderr",
     "output_type": "stream",
     "text": [
      "2021-04-30 09:41:31,154 - htmd.builder.charmm - INFO - Writing out segments.\n",
      "2021-04-30 09:41:38,235 - htmd.builder.builder - INFO - 4 disulfide bonds were added\n"
     ]
    },
    {
     "name": "stdout",
     "output_type": "stream",
     "text": [
      "Disulfide Bond between: UniqueResidueID<resname: 'CYS', chain: 'P', resid: 77, insertion: '', segid: 'P'>\n",
      "                   and: UniqueResidueID<resname: 'CYS', chain: 'P', resid: 166, insertion: '', segid: 'P'>\n",
      "\n",
      "Disulfide Bond between: UniqueResidueID<resname: 'CYS', chain: 'P', resid: 74, insertion: '', segid: 'P'>\n",
      "                   and: UniqueResidueID<resname: 'CYS', chain: 'P', resid: 146, insertion: '', segid: 'P'>\n",
      "\n",
      "Disulfide Bond between: UniqueResidueID<resname: 'CYS', chain: 'P', resid: 259, insertion: '', segid: 'P'>\n",
      "                   and: UniqueResidueID<resname: 'CYS', chain: 'P', resid: 262, insertion: '', segid: 'P'>\n",
      "\n",
      "Disulfide Bond between: UniqueResidueID<resname: 'CYS', chain: 'P', resid: 71, insertion: '', segid: 'P'>\n",
      "                   and: UniqueResidueID<resname: 'CYS', chain: 'P', resid: 159, insertion: '', segid: 'P'>\n",
      "\n"
     ]
    },
    {
     "name": "stderr",
     "output_type": "stream",
     "text": [
      "2021-04-30 09:41:39,088 - htmd.builder.charmm - INFO - Starting the build.\n",
      "2021-04-30 09:41:45,022 - htmd.builder.charmm - INFO - Finished building.\n",
      "2021-04-30 09:41:50,459 - htmd.builder.ionize - INFO - Adding 13 anions + 0 cations for neutralizing and 110 ions for the given salt concentration.\n",
      "2021-04-30 09:42:32,366 - htmd.builder.charmm - INFO - Writing out segments.\n",
      "2021-04-30 09:42:40,728 - htmd.builder.charmm - INFO - Starting the build.\n",
      "2021-04-30 09:42:45,211 - htmd.builder.charmm - INFO - Finished building.\n",
      "2021-04-30 09:43:10,180 - htmd.builder.builder - WARNING - Found cis peptide bond in 1 frames: [0] in the omega diheral \"Angle of (LEU 216 CA P P) (LEU 216 C P P) (PRO 217 N P P) (PRO 217 CA P P) \" with indexes [3333, 3348, 3350, 3354]\n"
     ]
    },
    {
     "name": "stdout",
     "output_type": "stream",
     "text": [
      "Building...\n"
     ]
    },
    {
     "name": "stderr",
     "output_type": "stream",
     "text": [
      "2021-04-30 09:43:43,841 - htmd.builder.charmm - INFO - Writing out segments.\n",
      "2021-04-30 09:43:51,297 - htmd.builder.builder - INFO - 4 disulfide bonds were added\n"
     ]
    },
    {
     "name": "stdout",
     "output_type": "stream",
     "text": [
      "Disulfide Bond between: UniqueResidueID<resname: 'CYS', chain: 'P', resid: 77, insertion: '', segid: 'P'>\n",
      "                   and: UniqueResidueID<resname: 'CYS', chain: 'P', resid: 166, insertion: '', segid: 'P'>\n",
      "\n",
      "Disulfide Bond between: UniqueResidueID<resname: 'CYS', chain: 'P', resid: 74, insertion: '', segid: 'P'>\n",
      "                   and: UniqueResidueID<resname: 'CYS', chain: 'P', resid: 146, insertion: '', segid: 'P'>\n",
      "\n",
      "Disulfide Bond between: UniqueResidueID<resname: 'CYS', chain: 'P', resid: 259, insertion: '', segid: 'P'>\n",
      "                   and: UniqueResidueID<resname: 'CYS', chain: 'P', resid: 262, insertion: '', segid: 'P'>\n",
      "\n",
      "Disulfide Bond between: UniqueResidueID<resname: 'CYS', chain: 'P', resid: 71, insertion: '', segid: 'P'>\n",
      "                   and: UniqueResidueID<resname: 'CYS', chain: 'P', resid: 159, insertion: '', segid: 'P'>\n",
      "\n"
     ]
    },
    {
     "name": "stderr",
     "output_type": "stream",
     "text": [
      "2021-04-30 09:43:52,065 - htmd.builder.charmm - INFO - Starting the build.\n",
      "2021-04-30 09:43:56,583 - htmd.builder.charmm - INFO - Finished building.\n",
      "2021-04-30 09:44:22,550 - htmd.builder.builder - WARNING - Found cis peptide bond in 1 frames: [0] in the omega diheral \"Angle of (LEU 216 CA P P) (LEU 216 C P P) (PRO 217 N P P) (PRO 217 CA P P) \" with indexes [3333, 3348, 3350, 3354]\n"
     ]
    },
    {
     "name": "stdout",
     "output_type": "stream",
     "text": [
      "End of 5UIG after 479.624635219574 seconds\n",
      "\n",
      "Build model for 5UIG_apo already exists. Skipping...\n"
     ]
    },
    {
     "name": "stderr",
     "output_type": "stream",
     "text": [
      "2021-04-30 09:44:22,874 - moleculekit.molecule - INFO - Removed 0 atoms. 5118 atoms remaining in the molecule.\n",
      "2021-04-30 09:44:22,909 - moleculekit.molecule - INFO - Removed 0 atoms. 5118 atoms remaining in the molecule.\n",
      "2021-04-30 09:44:22,944 - moleculekit.molecule - INFO - Removed 0 atoms. 5118 atoms remaining in the molecule.\n",
      "2021-04-30 09:44:24,471 - moleculekit.molecule - WARNING - Alternative atom locations detected. Only altloc A was kept. If you prefer to keep all use the keepaltloc=\"all\" option when reading the file.\n",
      "2021-04-30 09:44:24,472 - moleculekit.molecule - INFO - Removed 28 atoms. 2877 atoms remaining in the molecule.\n",
      "2021-04-30 09:44:24,722 - moleculekit.molecule - INFO - Removed 0 atoms. 5118 atoms remaining in the molecule.\n",
      "2021-04-30 09:44:24,756 - moleculekit.molecule - INFO - Removed 3 atoms. 5115 atoms remaining in the molecule.\n",
      "2021-04-30 09:44:24,856 - moleculekit.molecule - INFO - Removed 0 atoms. 5115 atoms remaining in the molecule.\n",
      "2021-04-30 09:44:28,123 - moleculekit.molecule - INFO - Removed 0 atoms. 5115 atoms remaining in the molecule.\n",
      "2021-04-30 09:44:28,313 - moleculekit.tools.sequencestructuralalignment - INFO - No segment was specified by the user for `mol`. Alignment will be done on all protein segments.\n",
      "2021-04-30 09:44:28,354 - moleculekit.tools.sequencestructuralalignment - INFO - No segment was specified by the user for `ref`. Alignment will be done on all protein segments.\n",
      "2021-04-30 09:44:28,499 - moleculekit.tools.sequencestructuralalignment - WARNING - 6 alignments found. Limiting to 1 as specified in the `maxalignments` argument.\n",
      "2021-04-30 09:44:28,500 - moleculekit.tools.sequencestructuralalignment - INFO - Alignment #0 was done on 144 residues: mol segid P resid 5-148\n"
     ]
    },
    {
     "name": "stdout",
     "output_type": "stream",
     "text": [
      "Adding membrane...\n"
     ]
    },
    {
     "name": "stderr",
     "output_type": "stream",
     "text": [
      "2021-04-30 09:44:29,199 - htmd.builder.builder - INFO - Replicating Membrane 3x3\n",
      "Replicating Membrane: 100%|██████████| 9/9 [00:02<00:00,  3.75it/s]\n",
      "2021-04-30 09:46:58,408 - moleculekit.molecule - INFO - Removed 2795 atoms. 48555 atoms remaining in the molecule.\n",
      "2021-04-30 09:46:59,802 - moleculekit.molecule - INFO - Removed 101 residues from appended Molecule due to collisions.\n"
     ]
    },
    {
     "name": "stdout",
     "output_type": "stream",
     "text": [
      "Solvating...\n"
     ]
    },
    {
     "name": "stderr",
     "output_type": "stream",
     "text": [
      "2021-04-30 09:47:00,691 - htmd.builder.solvate - INFO - Using water pdb file at: /home/david/miniconda3/lib/python3.6/site-packages/htmd/share/solvate/wat.pdb\n"
     ]
    },
    {
     "name": "stdout",
     "output_type": "stream",
     "text": [
      "wataerbox Max and min:  [56.148308 55.572014 28.081614] [-49.753693 -50.35398  -27.713387]\n"
     ]
    },
    {
     "name": "stderr",
     "output_type": "stream",
     "text": [
      "2021-04-30 09:47:01,450 - htmd.builder.solvate - INFO - Replicating 8 water segments, 2 by 2 by 2\n",
      "Solvating: 100%|██████████| 8/8 [00:09<00:00,  1.18s/it]\n",
      "2021-04-30 09:47:12,788 - htmd.builder.solvate - INFO - 15334 water molecules were added to the system.\n",
      "2021-04-30 09:47:19,729 - moleculekit.molecule - INFO - Removed 1146 atoms. 93900 atoms remaining in the molecule.\n"
     ]
    },
    {
     "name": "stdout",
     "output_type": "stream",
     "text": [
      "Pre-build...\n"
     ]
    },
    {
     "name": "stderr",
     "output_type": "stream",
     "text": [
      "2021-04-30 09:47:24,753 - htmd.builder.charmm - INFO - Writing out segments.\n",
      "2021-04-30 09:47:30,977 - htmd.builder.builder - INFO - 4 disulfide bonds were added\n"
     ]
    },
    {
     "name": "stdout",
     "output_type": "stream",
     "text": [
      "Disulfide Bond between: UniqueResidueID<resname: 'CYX', chain: 'P', resid: 77, insertion: '', segid: 'P'>\n",
      "                   and: UniqueResidueID<resname: 'CYX', chain: 'P', resid: 166, insertion: '', segid: 'P'>\n",
      "\n",
      "Disulfide Bond between: UniqueResidueID<resname: 'CYX', chain: 'P', resid: 74, insertion: '', segid: 'P'>\n",
      "                   and: UniqueResidueID<resname: 'CYX', chain: 'P', resid: 146, insertion: '', segid: 'P'>\n",
      "\n",
      "Disulfide Bond between: UniqueResidueID<resname: 'CYX', chain: 'P', resid: 259, insertion: '', segid: 'P'>\n",
      "                   and: UniqueResidueID<resname: 'CYX', chain: 'P', resid: 262, insertion: '', segid: 'P'>\n",
      "\n",
      "Disulfide Bond between: UniqueResidueID<resname: 'CYX', chain: 'P', resid: 71, insertion: '', segid: 'P'>\n",
      "                   and: UniqueResidueID<resname: 'CYX', chain: 'P', resid: 159, insertion: '', segid: 'P'>\n",
      "\n"
     ]
    },
    {
     "name": "stderr",
     "output_type": "stream",
     "text": [
      "2021-04-30 09:47:31,578 - htmd.builder.charmm - INFO - Starting the build.\n",
      "2021-04-30 09:47:35,458 - htmd.builder.charmm - WARNING - Failed to set coordinates for 6 atoms.\n",
      "2021-04-30 09:47:35,460 - htmd.builder.charmm - WARNING - Failed to guess coordinates for 2 atoms due to bad angles.\n",
      "2021-04-30 09:47:35,460 - htmd.builder.charmm - WARNING - Poorly guessed coordinates for 167 atoms.\n",
      "2021-04-30 09:47:35,461 - htmd.builder.charmm - WARNING - Please check /gpcr/users/daranda/doctorat/GPCR_simulations/simulation_output/pre-build/5UIG_apo/log.txt for further information.\n",
      "2021-04-30 09:47:35,461 - htmd.builder.charmm - INFO - Finished building.\n",
      "2021-04-30 09:48:01,362 - htmd.builder.builder - WARNING - Found cis peptide bond in 1 frames: [0] in the omega diheral \"Angle of (LEU 216 CA P P) (LEU 216 C P P) (PRO 217 N P P) (PRO 217 CA P P) \" with indexes [3333, 3348, 3350, 3354]\n"
     ]
    },
    {
     "name": "stdout",
     "output_type": "stream",
     "text": [
      "Checking aromatic insertions...\n",
      "WARNING: removed 0 atoms within 1.5 of a protein aromatic ring\n",
      "Renumbering...\n",
      "Ionizing...\n"
     ]
    },
    {
     "name": "stderr",
     "output_type": "stream",
     "text": [
      "2021-04-30 09:49:25,435 - htmd.builder.charmm - INFO - Writing out segments.\n",
      "2021-04-30 09:49:31,967 - htmd.builder.builder - INFO - 4 disulfide bonds were added\n"
     ]
    },
    {
     "name": "stdout",
     "output_type": "stream",
     "text": [
      "Disulfide Bond between: UniqueResidueID<resname: 'CYS', chain: 'P', resid: 77, insertion: '', segid: 'P'>\n",
      "                   and: UniqueResidueID<resname: 'CYS', chain: 'P', resid: 166, insertion: '', segid: 'P'>\n",
      "\n",
      "Disulfide Bond between: UniqueResidueID<resname: 'CYS', chain: 'P', resid: 74, insertion: '', segid: 'P'>\n",
      "                   and: UniqueResidueID<resname: 'CYS', chain: 'P', resid: 146, insertion: '', segid: 'P'>\n",
      "\n",
      "Disulfide Bond between: UniqueResidueID<resname: 'CYS', chain: 'P', resid: 259, insertion: '', segid: 'P'>\n",
      "                   and: UniqueResidueID<resname: 'CYS', chain: 'P', resid: 262, insertion: '', segid: 'P'>\n",
      "\n",
      "Disulfide Bond between: UniqueResidueID<resname: 'CYS', chain: 'P', resid: 71, insertion: '', segid: 'P'>\n",
      "                   and: UniqueResidueID<resname: 'CYS', chain: 'P', resid: 159, insertion: '', segid: 'P'>\n",
      "\n"
     ]
    },
    {
     "name": "stderr",
     "output_type": "stream",
     "text": [
      "2021-04-30 09:49:32,731 - htmd.builder.charmm - INFO - Starting the build.\n",
      "2021-04-30 09:49:36,595 - htmd.builder.charmm - INFO - Finished building.\n",
      "2021-04-30 09:49:41,843 - htmd.builder.ionize - INFO - Adding 11 anions + 0 cations for neutralizing and 110 ions for the given salt concentration.\n",
      "2021-04-30 09:50:23,522 - htmd.builder.charmm - INFO - Writing out segments.\n",
      "2021-04-30 09:50:31,161 - htmd.builder.charmm - INFO - Starting the build.\n",
      "2021-04-30 09:50:35,193 - htmd.builder.charmm - INFO - Finished building.\n",
      "2021-04-30 09:50:58,949 - htmd.builder.builder - WARNING - Found cis peptide bond in 1 frames: [0] in the omega diheral \"Angle of (LEU 216 CA P P) (LEU 216 C P P) (PRO 217 N P P) (PRO 217 CA P P) \" with indexes [3333, 3348, 3350, 3354]\n"
     ]
    },
    {
     "name": "stdout",
     "output_type": "stream",
     "text": [
      "Building...\n"
     ]
    },
    {
     "name": "stderr",
     "output_type": "stream",
     "text": [
      "2021-04-30 09:51:33,635 - htmd.builder.charmm - INFO - Writing out segments.\n",
      "2021-04-30 09:51:40,804 - htmd.builder.builder - INFO - 4 disulfide bonds were added\n"
     ]
    },
    {
     "name": "stdout",
     "output_type": "stream",
     "text": [
      "Disulfide Bond between: UniqueResidueID<resname: 'CYS', chain: 'P', resid: 77, insertion: '', segid: 'P'>\n",
      "                   and: UniqueResidueID<resname: 'CYS', chain: 'P', resid: 166, insertion: '', segid: 'P'>\n",
      "\n",
      "Disulfide Bond between: UniqueResidueID<resname: 'CYS', chain: 'P', resid: 74, insertion: '', segid: 'P'>\n",
      "                   and: UniqueResidueID<resname: 'CYS', chain: 'P', resid: 146, insertion: '', segid: 'P'>\n",
      "\n",
      "Disulfide Bond between: UniqueResidueID<resname: 'CYS', chain: 'P', resid: 259, insertion: '', segid: 'P'>\n",
      "                   and: UniqueResidueID<resname: 'CYS', chain: 'P', resid: 262, insertion: '', segid: 'P'>\n",
      "\n",
      "Disulfide Bond between: UniqueResidueID<resname: 'CYS', chain: 'P', resid: 71, insertion: '', segid: 'P'>\n",
      "                   and: UniqueResidueID<resname: 'CYS', chain: 'P', resid: 159, insertion: '', segid: 'P'>\n",
      "\n"
     ]
    },
    {
     "name": "stderr",
     "output_type": "stream",
     "text": [
      "2021-04-30 09:51:41,725 - htmd.builder.charmm - INFO - Starting the build.\n",
      "2021-04-30 09:51:45,444 - htmd.builder.charmm - INFO - Finished building.\n",
      "2021-04-30 09:52:11,904 - htmd.builder.builder - WARNING - Found cis peptide bond in 1 frames: [0] in the omega diheral \"Angle of (LEU 216 CA P P) (LEU 216 C P P) (PRO 217 N P P) (PRO 217 CA P P) \" with indexes [3333, 3348, 3350, 3354]\n"
     ]
    },
    {
     "name": "stdout",
     "output_type": "stream",
     "text": [
      "End of 5UIG_apo after 469.35350584983826 seconds\n",
      "\n"
     ]
    }
   ],
   "source": [
    "###########################\n",
    "## Part 2: Build the models \n",
    "###########################\n",
    "# Iterate by GPCRdb structures to simulate\n",
    "pdbs_number = len(pdb_set)\n",
    "i = 0\n",
    "for pdbcode in {\"5WF6\",\"5WF5\",\"5OLZ\",\"5UIG\"}:\n",
    "# for pdbcode in bad_set:\n",
    "    try:\n",
    "        for apo in [False, True]:\n",
    "            \n",
    "            #Starting simulation\n",
    "            start_time = time.time()        \n",
    "            i += 1\n",
    "            sysname = pdbcode+'_apo' if apo else pdbcode\n",
    "            mystrucpath = strucpath+pdbcode+'/'\n",
    "\n",
    "            # Skip if there is already a model build for this\n",
    "            if os.path.exists(resultspath+'build/'+sysname+'/structure.pdb'):\n",
    "                print('Build model for '+sysname+' already exists. Skipping...')\n",
    "#                 continue\n",
    "\n",
    "            # Check if simulation is aminergic\n",
    "            aminergic = gpcrdb_dict[pdbcode]['family'].startswith('001_001')\n",
    "            adenosine = gpcrdb_dict[pdbcode]['family'].startswith('001_006_001')\n",
    "\n",
    "            ## Load curated structures\n",
    "            if curated:\n",
    "                apo_name = \"apo\" if apo else \"complex\"\n",
    "                curated_filename = str(\"%sreceptor2curate_output/%s/%s_%s_curated.pdb\"%(basepath, pdbcode, pdbcode, apo_name))\n",
    "                gpcrdb_mol = Molecule(curated_filename)\n",
    "                # Remove ligand hidrogens in case curators put any\n",
    "                gpcrdb_mol.remove(\"not (protein or water or lipid) and element H\")\n",
    "            ## Load non-curated structure\n",
    "            else:\n",
    "                (sod2x50, watered_filename) = internal_waters(mystrucpath, pdbcode, gpcrdb_dict, apo)\n",
    "                gpcrdb_mol = Molecule(watered_filename)\n",
    "                \n",
    "            # If the pipeline is running in 'apoform mode', remove any non-protein, non-ion, non-water thing on the system      \n",
    "            # Delete also sod2x50 (we don't want them here)\n",
    "            if apo:\n",
    "                gpcrdb_mol.remove('not (protein or water or ion) or element Na')\n",
    "                \n",
    "            # Remove unnecessary ligand molecules: mostly crystalization detergents, quelants, buffers,\n",
    "            # or post-traductional glicosilations\n",
    "            gpcrdb_mol.remove('resname '+' '.join(blacklist))\n",
    "            \n",
    "            # Remove 2x50Sodium from non-A-class GPCRs\n",
    "            if not gpcrdb_dict[pdbcode]['family'].startswith('001'):\n",
    "                gpcrdb_mol.remove('element NA')\n",
    "\n",
    "            # Get aligned OPM structure\n",
    "            thickness,opm_mol = get_opm(pdbcode)\n",
    "\n",
    "            # Ismael's function to add labels (segid) for 'ligand' and 'protein' parts of the system\n",
    "            gpcrdb_mol_fixed,prot_segids = fix_and_prepare_input(gpcrdb_mol,pdbcode,modresdict,new_pdb_chain)\n",
    "            \n",
    "            # If there's any, parameterize and rename covalent-bound ligands\n",
    "            if not apo:\n",
    "                (gpcrdb_mol_fixed, covligs) = covalent_ligands(gpcrdb_mol_fixed, pdbcode, ligandsdict)\n",
    "            else:\n",
    "                covligs = []\n",
    "            \n",
    "            # write file to remember to which chain in the original structure belongs each segment\n",
    "            segchain_json(gpcrdb_mol_fixed, pdbcode, basepath, prot_segids)\n",
    "            \n",
    "            # Align structrues using sequences, and take first one\n",
    "            alignment_results = sequenceStructureAlignment(gpcrdb_mol_fixed, opm_mol, maxalignments = 1)\n",
    "            mol_aligned = alignment_results[0] \n",
    "            \n",
    "            #Center to receptor XY\n",
    "            center = np.mean(mol_aligned.get('coords',sel='chain P'),axis=0)\n",
    "            mol_aligned.moveBy([-center[0],-center[1],0])\n",
    "            \n",
    "            # Prepare protein: asign titration states, flipping side chains of HIS, ASN and GLN; rotate some sidechains, optimize waters, etc.\n",
    "            # Most of this is done with a HTMD function called proteinPrepare()\n",
    "            # Skip step if we are working with curators structures\n",
    "            prepared_mol = mol_aligned if curated else prepare_system(mol_aligned, pdbcode, thickness, sod2x50, aminergic, adenosine)\n",
    "            \n",
    "            #Add membrane\n",
    "            print('Adding membrane...')\n",
    "            membranemol = Molecule(membranepdb)\n",
    "            mol_membraned, membrane_resnames, membrane_segids, xreps, yreps = add_membrane(prepared_mol, membranemol,prot_segids,membrane_distance)\n",
    "            \n",
    "            # Needed later for equilibration\n",
    "            with open(mystrucpath+\"const_sel.txt\",'w') as out: \n",
    "                const_sel = 'segid '+' '.join(prot_segids)+' and name C CA N O or not (segid ' + \\\n",
    "                  ' '.join(prot_segids)+' or lipid or water or ions ) and noh or segid ION WAT and noh'\n",
    "                out.write(const_sel)\n",
    "\n",
    "            #Solvate\n",
    "            print('Solvating...')\n",
    "            mol_solvated = solvate_pdbmol(mol_membraned,membrane_segids,water_thickness,water_margin,buffer=buffer,coldist=coldist,prefix='WT')\n",
    "\n",
    "            # Check if system has lone-pair hallogen atoms. If it does, use legacy CGenFF parameters\n",
    "            has_halo = bool(len(gpcrdb_mol_fixed.get('name', 'element Br Cl I and not ion')))\n",
    "            if has_halo:\n",
    "                cgenff_par = [topparpath+'David_top_params/parameters/legacy_par_all36_cgenff.prm']\n",
    "                cgenff_top = [topparpath+'David_top_params/topologies/legacy_top_all36_cgenff.rtf']\n",
    "            else: \n",
    "                cgenff_par = [topparpath+'General_top_params/parameters/par_all36_cgenff.prm']\n",
    "                cgenff_top = [topparpath+'General_top_params/topologies/top_all36_cgenff.rtf']\n",
    "            \n",
    "            #Obtain extra parameters for ligands and modified residues \n",
    "            ligstreams=extra_parameters(pdbcode, ligandsdict, modresdict, blacklist, covligs, basepath, has_halo)\n",
    "            \n",
    "            # Assignign terminology for cap atoms of protein chain, depending if it is the receptor protein or not\n",
    "            caps = get_caps(prot_segids, mol_solvated)\n",
    "            #{'P0': ['first ACE', 'last CT3'], 'P1': ['first ACE', 'last CT3']}\n",
    "\n",
    "            #Pre-build model\n",
    "            print('Pre-build...')\n",
    "            prebuildmol = charmm.build(mol_solvated, \n",
    "                                       topo=topos+cgenff_top, \n",
    "                                       param=params+cgenff_par,\n",
    "                                       stream=streams+ligstreams,\n",
    "                                       caps=caps,\n",
    "                                       outdir=resultspath+'/pre-build/'+sysname,\n",
    "                                       ionize=False)\n",
    "\n",
    "            # Save prebuild model topologies in files, and  store prebuild model in molecule object\n",
    "            prebuild_psffile = prebuildmol.topoloc\n",
    "            prebuild_pdbfile = os.path.splitext(prebuildmol.topoloc)[0]+'.pdb'\n",
    "            prebuildmol = Molecule(prebuild_pdbfile)\n",
    "            _recoverProtonations(prebuildmol)\n",
    "\n",
    "            # Checking of aromatic insertions (takes quite a lot fo time)\n",
    "            print('Checking aromatic insertions...')\n",
    "            mol_removed,removed_indexes = remove_aromatic_insertions(prebuildmol,prot_segids, outpdb=resultspath+'/pre-build/'+sysname+'/aromatic_check.pdb')\n",
    "\n",
    "            # Checking of water/lipid ratio\n",
    "            lipid_num = len(set(prebuildmol.get('resid',sel='segid '+membrane_lipid_segid)))\n",
    "            solv_num = len(mol_removed.get('index',sel='resname TIP3 and name OH2'))\n",
    "            if float(solv_num) / lipid_num < 35:\n",
    "                raise ValueError('Water/lipid ratio lower than 35.')\n",
    "\n",
    "            #Renumber residues\n",
    "            print('Renumbering...')\n",
    "            mol_renumbered = renumber_resid_vmd(mol_removed,'segid '+' '.join(membrane_segids),by=2)\n",
    "\n",
    "            # Ionizing system\n",
    "            print('Ionizing...')\n",
    "            molbuilt = charmm.build(mol_removed,\n",
    "                                    topo=topos+cgenff_top, \n",
    "                                    param=params+cgenff_par,\n",
    "                                    stream=streams+ligstreams,                        \n",
    "                                    outdir=resultspath+'/ionize/'+sysname,\n",
    "                                    saltconc=0.15,\n",
    "                                    caps=caps)\n",
    "            build_psffile = molbuilt.topoloc\n",
    "            build_pdbfile = os.path.splitext(molbuilt.topoloc)[0]+'.pdb'\n",
    "            molbuilt = Molecule(build_pdbfile)\n",
    "            _recoverProtonations(molbuilt)\n",
    "\n",
    "            #Building system\n",
    "            print('Building...')\n",
    "            molbuilt = renumber_resid_vmd(molbuilt,'segid \"WT.*\" or segid I',by=2)\n",
    "            molbuilt = charmm.build(molbuilt, \n",
    "                                    topo=topos+cgenff_top, \n",
    "                                    param=params+cgenff_par,\n",
    "                                    stream=streams+ligstreams,                        \n",
    "                                    outdir=resultspath+'/build/'+sysname,\n",
    "                                    caps=caps,ionize=False)\n",
    "\n",
    "            print('End of %s after %s seconds\\n' % (sysname, time.time() - start_time))\n",
    "\n",
    "    except Exception as e:\n",
    "        print(\"model \"+pdbcode+\" could not be build because \",e)"
   ]
  },
  {
   "cell_type": "code",
   "execution_count": 4,
   "metadata": {},
   "outputs": [
    {
     "name": "stdout",
     "output_type": "stream",
     "text": [
      " structure 5NDZ already has been equilibrated\n",
      " structure 5NDZ already has been equilibrated\n",
      " structure 2YCZ already has been equilibrated\n",
      " structure 2YCZ already has been equilibrated\n"
     ]
    },
    {
     "name": "stderr",
     "output_type": "stream",
     "text": [
      "2021-06-01 08:22:12,116 - moleculekit.readers - WARNING - Non-integer values were read from the PDB \"serial\" field. Dropping PDB values and assigning new ones.\n",
      "2021-06-01 08:22:12,191 - moleculekit.readers - WARNING - Reading PDB file with more than 99999 atoms. Bond information can be wrong.\n",
      "2021-06-01 08:22:26,150 - htmd.protocols.equilibration_v2 - WARNING - Lipids detected in input structure. We highly recommend setting useconstantratio=True for membrane simulations.\n",
      "2021-06-01 08:22:26,151 - htmd.protocols.equilibration_v2 - INFO - Using user-provided restraints and ignoring constraints and fb_potential\n",
      "2021-06-01 08:22:32,133 - jobqueues.slurmqueue - INFO - Queueing /gpcr/users/daranda/doctorat/GPCR_simulations/simulation_output/equil/6TPJ/\n",
      "2021-06-01 08:22:44,882 - moleculekit.readers - WARNING - Non-integer values were read from the PDB \"serial\" field. Dropping PDB values and assigning new ones.\n",
      "2021-06-01 08:22:44,940 - moleculekit.readers - WARNING - Reading PDB file with more than 99999 atoms. Bond information can be wrong.\n",
      "2021-06-01 08:22:57,687 - htmd.protocols.equilibration_v2 - WARNING - Lipids detected in input structure. We highly recommend setting useconstantratio=True for membrane simulations.\n",
      "2021-06-01 08:22:57,688 - htmd.protocols.equilibration_v2 - INFO - Using user-provided restraints and ignoring constraints and fb_potential\n",
      "2021-06-01 08:23:01,475 - jobqueues.slurmqueue - INFO - Queueing /gpcr/users/daranda/doctorat/GPCR_simulations/simulation_output/equil/6TPJ_apo/\n"
     ]
    },
    {
     "name": "stdout",
     "output_type": "stream",
     "text": [
      " structure 6TQ9 already has been equilibrated\n",
      " structure 6TQ9 already has been equilibrated\n",
      " structure 5X7D already has been equilibrated\n",
      " structure 5X7D already has been equilibrated\n",
      " structure 6KK7 already has been equilibrated\n",
      " structure 6KK7 already has been equilibrated\n",
      " structure 5XRA already has been equilibrated\n",
      " structure 5XRA already has been equilibrated\n",
      " structure 5ZKB already has been equilibrated\n",
      " structure 5ZKB already has been equilibrated\n",
      " structure 5X93 already has been equilibrated\n",
      " structure 5X93 already has been equilibrated\n",
      "model 6LI1 could not be send to equilibrate because of  Could not locate any coordinates file in /gpcr/users/daranda/doctorat/GPCR_simulations/simulation_output/build/6LI1. Please set the Equilibration.acemd.coordinates property to point to the coordinates file\n",
      " structure 6LI1 already has been equilibrated\n",
      " structure 4XES already has been equilibrated\n",
      " structure 4XES already has been equilibrated\n",
      " structure 6D27 already has been equilibrated\n",
      " structure 6D27 already has been equilibrated\n",
      " structure 6PS4 already has been equilibrated\n",
      " structure 6PS4 already has been equilibrated\n",
      " structure 4XT3 already has been equilibrated\n",
      " structure 4XT3 already has been equilibrated\n",
      " structure 5NM4 already has been equilibrated\n",
      " structure 5NM4 already has been equilibrated\n",
      " structure 6J20 already has been equilibrated\n",
      " structure 6J20 already has been equilibrated\n"
     ]
    },
    {
     "name": "stderr",
     "output_type": "stream",
     "text": [
      "2021-06-01 08:23:19,584 - htmd.protocols.equilibration_v2 - WARNING - Lipids detected in input structure. We highly recommend setting useconstantratio=True for membrane simulations.\n",
      "2021-06-01 08:23:19,585 - htmd.protocols.equilibration_v2 - INFO - Using user-provided restraints and ignoring constraints and fb_potential\n",
      "2021-06-01 08:23:22,753 - jobqueues.slurmqueue - INFO - Queueing /gpcr/users/daranda/doctorat/GPCR_simulations/simulation_output/equil/5UNH/\n",
      "2021-06-01 08:23:39,501 - htmd.protocols.equilibration_v2 - WARNING - Lipids detected in input structure. We highly recommend setting useconstantratio=True for membrane simulations.\n",
      "2021-06-01 08:23:39,501 - htmd.protocols.equilibration_v2 - INFO - Using user-provided restraints and ignoring constraints and fb_potential\n",
      "2021-06-01 08:23:42,537 - jobqueues.slurmqueue - INFO - Queueing /gpcr/users/daranda/doctorat/GPCR_simulations/simulation_output/equil/5UNH_apo/\n"
     ]
    },
    {
     "name": "stdout",
     "output_type": "stream",
     "text": [
      " structure 4Z9G already has been equilibrated\n",
      " structure 4Z9G already has been equilibrated\n",
      " structure 6KK1 already has been equilibrated\n",
      " structure 6KK1 already has been equilibrated\n",
      " structure 6RZ6 already has been equilibrated\n",
      " structure 6RZ6 already has been equilibrated\n"
     ]
    },
    {
     "name": "stderr",
     "output_type": "stream",
     "text": [
      "2021-06-01 08:24:02,461 - htmd.protocols.equilibration_v2 - WARNING - Lipids detected in input structure. We highly recommend setting useconstantratio=True for membrane simulations.\n",
      "2021-06-01 08:24:02,462 - htmd.protocols.equilibration_v2 - INFO - Using user-provided restraints and ignoring constraints and fb_potential\n",
      "2021-06-01 08:24:06,127 - jobqueues.slurmqueue - INFO - Queueing /gpcr/users/daranda/doctorat/GPCR_simulations/simulation_output/equil/5VBL/\n",
      "2021-06-01 08:24:24,957 - htmd.protocols.equilibration_v2 - WARNING - Lipids detected in input structure. We highly recommend setting useconstantratio=True for membrane simulations.\n",
      "2021-06-01 08:24:24,958 - htmd.protocols.equilibration_v2 - INFO - Using user-provided restraints and ignoring constraints and fb_potential\n",
      "2021-06-01 08:24:31,528 - jobqueues.slurmqueue - INFO - Queueing /gpcr/users/daranda/doctorat/GPCR_simulations/simulation_output/equil/5VBL_apo/\n",
      "2021-06-01 08:24:50,470 - htmd.protocols.equilibration_v2 - WARNING - Lipids detected in input structure. We highly recommend setting useconstantratio=True for membrane simulations.\n",
      "2021-06-01 08:24:50,471 - htmd.protocols.equilibration_v2 - INFO - Using user-provided restraints and ignoring constraints and fb_potential\n",
      "2021-06-01 08:24:56,282 - jobqueues.slurmqueue - INFO - Queueing /gpcr/users/daranda/doctorat/GPCR_simulations/simulation_output/equil/6A93/\n",
      "2021-06-01 08:25:14,915 - htmd.protocols.equilibration_v2 - WARNING - Lipids detected in input structure. We highly recommend setting useconstantratio=True for membrane simulations.\n",
      "2021-06-01 08:25:14,916 - htmd.protocols.equilibration_v2 - INFO - Using user-provided restraints and ignoring constraints and fb_potential\n",
      "2021-06-01 08:25:18,194 - jobqueues.slurmqueue - INFO - Queueing /gpcr/users/daranda/doctorat/GPCR_simulations/simulation_output/equil/6A93_apo/\n"
     ]
    },
    {
     "name": "stdout",
     "output_type": "stream",
     "text": [
      " structure 5WIV already has been equilibrated\n",
      " structure 5WIV already has been equilibrated\n"
     ]
    },
    {
     "name": "stderr",
     "output_type": "stream",
     "text": [
      "2021-06-01 08:25:33,627 - htmd.protocols.equilibration_v2 - WARNING - Lipids detected in input structure. We highly recommend setting useconstantratio=True for membrane simulations.\n",
      "2021-06-01 08:25:33,627 - htmd.protocols.equilibration_v2 - INFO - Using user-provided restraints and ignoring constraints and fb_potential\n",
      "2021-06-01 08:25:36,388 - jobqueues.slurmqueue - INFO - Queueing /gpcr/users/daranda/doctorat/GPCR_simulations/simulation_output/equil/6A94/\n",
      "2021-06-01 08:25:51,943 - htmd.protocols.equilibration_v2 - WARNING - Lipids detected in input structure. We highly recommend setting useconstantratio=True for membrane simulations.\n",
      "2021-06-01 08:25:51,944 - htmd.protocols.equilibration_v2 - INFO - Using user-provided restraints and ignoring constraints and fb_potential\n",
      "2021-06-01 08:25:54,694 - jobqueues.slurmqueue - INFO - Queueing /gpcr/users/daranda/doctorat/GPCR_simulations/simulation_output/equil/6A94_apo/\n"
     ]
    },
    {
     "name": "stdout",
     "output_type": "stream",
     "text": [
      " structure 4JKV already has been equilibrated\n",
      " structure 4JKV already has been equilibrated\n",
      " structure 6M9T already has been equilibrated\n",
      " structure 6M9T already has been equilibrated\n",
      " structure 5UVI already has been equilibrated\n",
      " structure 5UVI already has been equilibrated\n",
      "model 6KP6 could not be send to equilibrate because of  Could not locate any coordinates file in /gpcr/users/daranda/doctorat/GPCR_simulations/simulation_output/build/6KP6. Please set the Equilibration.acemd.coordinates property to point to the coordinates file\n"
     ]
    },
    {
     "name": "stderr",
     "output_type": "stream",
     "text": [
      "2021-06-01 08:26:15,450 - htmd.protocols.equilibration_v2 - WARNING - Lipids detected in input structure. We highly recommend setting useconstantratio=True for membrane simulations.\n",
      "2021-06-01 08:26:15,451 - htmd.protocols.equilibration_v2 - INFO - Using user-provided restraints and ignoring constraints and fb_potential\n",
      "2021-06-01 08:26:20,238 - jobqueues.slurmqueue - INFO - Queueing /gpcr/users/daranda/doctorat/GPCR_simulations/simulation_output/equil/6KP6_apo/\n",
      "2021-06-01 08:26:29,939 - moleculekit.readers - WARNING - Non-integer values were read from the PDB \"serial\" field. Dropping PDB values and assigning new ones.\n",
      "2021-06-01 08:26:30,003 - moleculekit.readers - WARNING - Reading PDB file with more than 99999 atoms. Bond information can be wrong.\n",
      "2021-06-01 08:26:42,932 - htmd.builder.builder - WARNING - Found cis peptide bond in 1 frames: [0] in the omega diheral \"Angle of (GLU 223 CA P0 P) (GLU 223 C P0 P) (PRO 224 N P0 P) (PRO 224 CA P0 P) \" with indexes [3402, 3413, 3415, 3419]\n",
      "2021-06-01 08:26:43,552 - htmd.protocols.equilibration_v2 - WARNING - Lipids detected in input structure. We highly recommend setting useconstantratio=True for membrane simulations.\n",
      "2021-06-01 08:26:43,553 - htmd.protocols.equilibration_v2 - INFO - Using user-provided restraints and ignoring constraints and fb_potential\n",
      "2021-06-01 08:26:50,150 - jobqueues.slurmqueue - INFO - Queueing /gpcr/users/daranda/doctorat/GPCR_simulations/simulation_output/equil/5ZK3/\n",
      "2021-06-01 08:27:12,446 - htmd.protocols.equilibration_v2 - WARNING - Lipids detected in input structure. We highly recommend setting useconstantratio=True for membrane simulations.\n",
      "2021-06-01 08:27:12,447 - htmd.protocols.equilibration_v2 - INFO - Using user-provided restraints and ignoring constraints and fb_potential\n",
      "2021-06-01 08:27:16,276 - jobqueues.slurmqueue - INFO - Queueing /gpcr/users/daranda/doctorat/GPCR_simulations/simulation_output/equil/5ZK3_apo/\n"
     ]
    },
    {
     "name": "stdout",
     "output_type": "stream",
     "text": [
      " structure 5K2C already has been equilibrated\n",
      " structure 5K2C already has been equilibrated\n",
      " structure 6PS8 already has been equilibrated\n",
      " structure 6PS8 already has been equilibrated\n"
     ]
    },
    {
     "name": "stderr",
     "output_type": "stream",
     "text": [
      "2021-06-01 08:27:38,572 - htmd.protocols.equilibration_v2 - WARNING - Lipids detected in input structure. We highly recommend setting useconstantratio=True for membrane simulations.\n",
      "2021-06-01 08:27:38,573 - htmd.protocols.equilibration_v2 - INFO - Using user-provided restraints and ignoring constraints and fb_potential\n",
      "2021-06-01 08:27:45,675 - jobqueues.slurmqueue - INFO - Queueing /gpcr/users/daranda/doctorat/GPCR_simulations/simulation_output/equil/6TPN/\n",
      "2021-06-01 08:28:08,917 - htmd.protocols.equilibration_v2 - WARNING - Lipids detected in input structure. We highly recommend setting useconstantratio=True for membrane simulations.\n",
      "2021-06-01 08:28:08,918 - htmd.protocols.equilibration_v2 - INFO - Using user-provided restraints and ignoring constraints and fb_potential\n",
      "2021-06-01 08:28:12,498 - jobqueues.slurmqueue - INFO - Queueing /gpcr/users/daranda/doctorat/GPCR_simulations/simulation_output/equil/6TPN_apo/\n",
      "2021-06-01 08:28:33,641 - htmd.protocols.equilibration_v2 - WARNING - Lipids detected in input structure. We highly recommend setting useconstantratio=True for membrane simulations.\n",
      "2021-06-01 08:28:33,642 - htmd.protocols.equilibration_v2 - INFO - Using user-provided restraints and ignoring constraints and fb_potential\n",
      "2021-06-01 08:28:37,207 - jobqueues.slurmqueue - INFO - Queueing /gpcr/users/daranda/doctorat/GPCR_simulations/simulation_output/equil/5OLZ/\n",
      "2021-06-01 08:28:56,426 - htmd.protocols.equilibration_v2 - WARNING - Lipids detected in input structure. We highly recommend setting useconstantratio=True for membrane simulations.\n",
      "2021-06-01 08:28:56,426 - htmd.protocols.equilibration_v2 - INFO - Using user-provided restraints and ignoring constraints and fb_potential\n",
      "2021-06-01 08:29:01,620 - jobqueues.slurmqueue - INFO - Queueing /gpcr/users/daranda/doctorat/GPCR_simulations/simulation_output/equil/5OLZ_apo/\n"
     ]
    },
    {
     "name": "stdout",
     "output_type": "stream",
     "text": [
      " structure 5ZHP already has been equilibrated\n",
      " structure 5ZHP already has been equilibrated\n",
      " structure 5X33 already has been equilibrated\n",
      " structure 5X33 already has been equilibrated\n",
      " structure 6PS0 already has been equilibrated\n",
      " structure 6PS0 already has been equilibrated\n",
      " structure 6ME5 already has been equilibrated\n",
      " structure 6ME5 already has been equilibrated\n",
      " structure 5ZBQ already has been equilibrated\n",
      " structure 5ZBQ already has been equilibrated\n",
      " structure 5V54 already has been equilibrated\n",
      " structure 5V54 already has been equilibrated\n",
      " structure 6RZ7 already has been equilibrated\n",
      " structure 6RZ7 already has been equilibrated\n",
      " structure 6K1Q already has been equilibrated\n",
      " structure 6K1Q already has been equilibrated\n"
     ]
    },
    {
     "name": "stderr",
     "output_type": "stream",
     "text": [
      "2021-06-01 08:29:20,036 - htmd.protocols.equilibration_v2 - WARNING - Lipids detected in input structure. We highly recommend setting useconstantratio=True for membrane simulations.\n",
      "2021-06-01 08:29:20,037 - htmd.protocols.equilibration_v2 - INFO - Using user-provided restraints and ignoring constraints and fb_potential\n",
      "2021-06-01 08:29:23,683 - jobqueues.slurmqueue - INFO - Queueing /gpcr/users/daranda/doctorat/GPCR_simulations/simulation_output/equil/5XR8/\n",
      "2021-06-01 08:29:41,907 - htmd.protocols.equilibration_v2 - WARNING - Lipids detected in input structure. We highly recommend setting useconstantratio=True for membrane simulations.\n",
      "2021-06-01 08:29:41,907 - htmd.protocols.equilibration_v2 - INFO - Using user-provided restraints and ignoring constraints and fb_potential\n",
      "2021-06-01 08:29:46,648 - jobqueues.slurmqueue - INFO - Queueing /gpcr/users/daranda/doctorat/GPCR_simulations/simulation_output/equil/5XR8_apo/\n"
     ]
    },
    {
     "name": "stdout",
     "output_type": "stream",
     "text": [
      " structure 6AKY already has been equilibrated\n",
      " structure 6AKY already has been equilibrated\n",
      " structure 5NM2 already has been equilibrated\n",
      " structure 5NM2 already has been equilibrated\n",
      " structure 6TQ7 already has been equilibrated\n",
      " structure 6TQ7 already has been equilibrated\n"
     ]
    },
    {
     "name": "stderr",
     "output_type": "stream",
     "text": [
      "2021-06-01 08:30:07,195 - htmd.builder.builder - WARNING - Found cis peptide bond in 1 frames: [0] in the omega diheral \"Angle of (GLU 223 CA P0 P) (GLU 223 C P0 P) (PRO 224 N P0 P) (PRO 224 CA P0 P) \" with indexes [3402, 3413, 3415, 3419]\n",
      "2021-06-01 08:30:07,747 - htmd.protocols.equilibration_v2 - WARNING - Lipids detected in input structure. We highly recommend setting useconstantratio=True for membrane simulations.\n",
      "2021-06-01 08:30:07,748 - htmd.protocols.equilibration_v2 - INFO - Using user-provided restraints and ignoring constraints and fb_potential\n",
      "2021-06-01 08:30:11,674 - jobqueues.slurmqueue - INFO - Queueing /gpcr/users/daranda/doctorat/GPCR_simulations/simulation_output/equil/5ZKC/\n",
      "2021-06-01 08:30:38,779 - htmd.builder.builder - WARNING - Found cis peptide bond in 1 frames: [0] in the omega diheral \"Angle of (GLU 223 CA P0 P) (GLU 223 C P0 P) (PRO 224 N P0 P) (PRO 224 CA P0 P) \" with indexes [3400, 3411, 3413, 3417]\n",
      "2021-06-01 08:30:39,337 - htmd.protocols.equilibration_v2 - WARNING - Lipids detected in input structure. We highly recommend setting useconstantratio=True for membrane simulations.\n",
      "2021-06-01 08:30:39,337 - htmd.protocols.equilibration_v2 - INFO - Using user-provided restraints and ignoring constraints and fb_potential\n",
      "2021-06-01 08:30:43,069 - jobqueues.slurmqueue - INFO - Queueing /gpcr/users/daranda/doctorat/GPCR_simulations/simulation_output/equil/5ZKC_apo/\n"
     ]
    },
    {
     "name": "stdout",
     "output_type": "stream",
     "text": [
      " structure 5TE5 already has been equilibrated\n",
      " structure 5TE5 already has been equilibrated\n",
      " structure 5NX2 already has been equilibrated\n",
      " structure 5NX2 already has been equilibrated\n",
      " structure 6ME6 already has been equilibrated\n",
      " structure 6ME6 already has been equilibrated\n",
      " structure 5WQC already has been equilibrated\n",
      " structure 5WQC already has been equilibrated\n",
      " structure 5D6L already has been equilibrated\n",
      " structure 5D6L already has been equilibrated\n"
     ]
    },
    {
     "name": "stderr",
     "output_type": "stream",
     "text": [
      "2021-06-01 08:31:04,034 - htmd.builder.builder - WARNING - Found cis peptide bond in 1 frames: [0] in the omega diheral \"Angle of (HSE 133 CA P0 P) (HSE 133 C P0 P) (PRO 134 N P0 P) (PRO 134 CA P0 P) \" with indexes [1403, 1416, 1418, 1422]\n",
      "2021-06-01 08:31:04,574 - htmd.protocols.equilibration_v2 - WARNING - Lipids detected in input structure. We highly recommend setting useconstantratio=True for membrane simulations.\n",
      "2021-06-01 08:31:04,575 - htmd.protocols.equilibration_v2 - INFO - Using user-provided restraints and ignoring constraints and fb_potential\n",
      "2021-06-01 08:31:08,256 - jobqueues.slurmqueue - INFO - Queueing /gpcr/users/daranda/doctorat/GPCR_simulations/simulation_output/equil/5T04/\n",
      "2021-06-01 08:31:28,478 - htmd.builder.builder - WARNING - Found cis peptide bond in 1 frames: [0] in the omega diheral \"Angle of (HSE 133 CA P0 P) (HSE 133 C P0 P) (PRO 134 N P0 P) (PRO 134 CA P0 P) \" with indexes [1402, 1415, 1417, 1421]\n",
      "2021-06-01 08:31:28,995 - htmd.protocols.equilibration_v2 - WARNING - Lipids detected in input structure. We highly recommend setting useconstantratio=True for membrane simulations.\n",
      "2021-06-01 08:31:28,995 - htmd.protocols.equilibration_v2 - INFO - Using user-provided restraints and ignoring constraints and fb_potential\n",
      "2021-06-01 08:31:34,713 - jobqueues.slurmqueue - INFO - Queueing /gpcr/users/daranda/doctorat/GPCR_simulations/simulation_output/equil/5T04_apo/\n"
     ]
    },
    {
     "name": "stdout",
     "output_type": "stream",
     "text": [
      " structure 4BUO already has been equilibrated\n",
      " structure 4BUO already has been equilibrated\n"
     ]
    },
    {
     "name": "stderr",
     "output_type": "stream",
     "text": [
      "2021-06-01 08:31:52,434 - htmd.builder.builder - WARNING - Found cis peptide bond in 1 frames: [0] in the omega diheral \"Angle of (ILE 212 CA P P) (ILE 212 C P P) (GLY 213 N P P) (GLY 213 CA P P) \" with indexes [2020, 2035, 2037, 2039]\n",
      "2021-06-01 08:31:52,849 - htmd.protocols.equilibration_v2 - WARNING - Lipids detected in input structure. We highly recommend setting useconstantratio=True for membrane simulations.\n",
      "2021-06-01 08:31:52,850 - htmd.protocols.equilibration_v2 - INFO - Using user-provided restraints and ignoring constraints and fb_potential\n",
      "2021-06-01 08:31:56,511 - jobqueues.slurmqueue - INFO - Queueing /gpcr/users/daranda/doctorat/GPCR_simulations/simulation_output/equil/6IGK/\n",
      "2021-06-01 08:32:13,601 - htmd.builder.builder - WARNING - Found cis peptide bond in 1 frames: [0] in the omega diheral \"Angle of (ILE 212 CA P P) (ILE 212 C P P) (GLY 213 N P P) (GLY 213 CA P P) \" with indexes [2019, 2034, 2036, 2038]\n",
      "2021-06-01 08:32:14,011 - htmd.protocols.equilibration_v2 - WARNING - Lipids detected in input structure. We highly recommend setting useconstantratio=True for membrane simulations.\n",
      "2021-06-01 08:32:14,012 - htmd.protocols.equilibration_v2 - INFO - Using user-provided restraints and ignoring constraints and fb_potential\n",
      "2021-06-01 08:32:17,195 - jobqueues.slurmqueue - INFO - Queueing /gpcr/users/daranda/doctorat/GPCR_simulations/simulation_output/equil/6IGK_apo/\n"
     ]
    },
    {
     "name": "stdout",
     "output_type": "stream",
     "text": [
      " structure 5ZKP already has been equilibrated\n",
      " structure 5ZKP already has been equilibrated\n",
      " structure 6FFH already has been equilibrated\n",
      " structure 6FFH already has been equilibrated\n",
      " structure 6FK7 already has been equilibrated\n",
      " structure 6FK7 already has been equilibrated\n",
      " structure 5VEW already has been equilibrated\n",
      " structure 5VEW already has been equilibrated\n",
      " structure 5ZBH already has been equilibrated\n",
      " structure 5ZBH already has been equilibrated\n",
      " structure 5KW2 already has been equilibrated\n",
      " structure 5KW2 already has been equilibrated\n",
      " structure 5K2A already has been equilibrated\n",
      " structure 5K2A already has been equilibrated\n",
      " structure 6HLP already has been equilibrated\n",
      " structure 6HLP already has been equilibrated\n"
     ]
    },
    {
     "name": "stderr",
     "output_type": "stream",
     "text": [
      "2021-06-01 08:32:37,952 - htmd.protocols.equilibration_v2 - WARNING - Lipids detected in input structure. We highly recommend setting useconstantratio=True for membrane simulations.\n",
      "2021-06-01 08:32:37,952 - htmd.protocols.equilibration_v2 - INFO - Using user-provided restraints and ignoring constraints and fb_potential\n",
      "2021-06-01 08:32:44,508 - jobqueues.slurmqueue - INFO - Queueing /gpcr/users/daranda/doctorat/GPCR_simulations/simulation_output/equil/5ZK8/\n",
      "2021-06-01 08:33:04,876 - htmd.protocols.equilibration_v2 - WARNING - Lipids detected in input structure. We highly recommend setting useconstantratio=True for membrane simulations.\n",
      "2021-06-01 08:33:04,876 - htmd.protocols.equilibration_v2 - INFO - Using user-provided restraints and ignoring constraints and fb_potential\n",
      "2021-06-01 08:33:08,567 - jobqueues.slurmqueue - INFO - Queueing /gpcr/users/daranda/doctorat/GPCR_simulations/simulation_output/equil/5ZK8_apo/\n"
     ]
    },
    {
     "name": "stdout",
     "output_type": "stream",
     "text": [
      " structure 6PS2 already has been equilibrated\n",
      " structure 6PS2 already has been equilibrated\n",
      "model 5XSZ could not be send to equilibrate because of  Could not locate any coordinates file in /gpcr/users/daranda/doctorat/GPCR_simulations/simulation_output/build/5XSZ. Please set the Equilibration.acemd.coordinates property to point to the coordinates file\n",
      " structure 5XSZ already has been equilibrated\n",
      " structure 6HLO already has been equilibrated\n",
      " structure 6HLO already has been equilibrated\n"
     ]
    },
    {
     "name": "stderr",
     "output_type": "stream",
     "text": [
      "2021-06-01 08:33:27,029 - htmd.builder.builder - WARNING - Found cis peptide bond in 1 frames: [0] in the omega diheral \"Angle of (LEU 216 CA P P) (LEU 216 C P P) (PRO 217 N P P) (PRO 217 CA P P) \" with indexes [3330, 3345, 3347, 3351]\n",
      "2021-06-01 08:33:27,492 - htmd.protocols.equilibration_v2 - WARNING - Lipids detected in input structure. We highly recommend setting useconstantratio=True for membrane simulations.\n",
      "2021-06-01 08:33:27,493 - htmd.protocols.equilibration_v2 - INFO - Using user-provided restraints and ignoring constraints and fb_potential\n",
      "2021-06-01 08:33:31,170 - jobqueues.slurmqueue - INFO - Queueing /gpcr/users/daranda/doctorat/GPCR_simulations/simulation_output/equil/5OM1/\n",
      "2021-06-01 08:33:49,850 - htmd.builder.builder - WARNING - Found cis peptide bond in 1 frames: [0] in the omega diheral \"Angle of (LEU 216 CA P P) (LEU 216 C P P) (PRO 217 N P P) (PRO 217 CA P P) \" with indexes [3330, 3345, 3347, 3351]\n",
      "2021-06-01 08:33:50,329 - htmd.protocols.equilibration_v2 - WARNING - Lipids detected in input structure. We highly recommend setting useconstantratio=True for membrane simulations.\n",
      "2021-06-01 08:33:50,329 - htmd.protocols.equilibration_v2 - INFO - Using user-provided restraints and ignoring constraints and fb_potential\n",
      "2021-06-01 08:33:56,735 - jobqueues.slurmqueue - INFO - Queueing /gpcr/users/daranda/doctorat/GPCR_simulations/simulation_output/equil/5OM1_apo/\n",
      "2021-06-01 08:34:13,867 - htmd.builder.builder - WARNING - Found cis peptide bond in 1 frames: [0] in the omega diheral \"Angle of (GLY 230 CA P P) (GLY 230 C P P) (ASP 231 N P P) (ASP 231 CA P P) \" with indexes [3367, 3370, 3372, 3374]\n",
      "2021-06-01 08:34:14,296 - htmd.protocols.equilibration_v2 - WARNING - Lipids detected in input structure. We highly recommend setting useconstantratio=True for membrane simulations.\n",
      "2021-06-01 08:34:14,296 - htmd.protocols.equilibration_v2 - INFO - Using user-provided restraints and ignoring constraints and fb_potential\n",
      "2021-06-01 08:34:19,497 - jobqueues.slurmqueue - INFO - Queueing /gpcr/users/daranda/doctorat/GPCR_simulations/simulation_output/equil/6J21/\n",
      "2021-06-01 08:34:36,784 - htmd.builder.builder - WARNING - Found cis peptide bond in 1 frames: [0] in the omega diheral \"Angle of (GLY 230 CA P P) (GLY 230 C P P) (ASP 231 N P P) (ASP 231 CA P P) \" with indexes [3366, 3369, 3371, 3373]\n",
      "2021-06-01 08:34:37,225 - htmd.protocols.equilibration_v2 - WARNING - Lipids detected in input structure. We highly recommend setting useconstantratio=True for membrane simulations.\n",
      "2021-06-01 08:34:37,226 - htmd.protocols.equilibration_v2 - INFO - Using user-provided restraints and ignoring constraints and fb_potential\n",
      "2021-06-01 08:34:40,290 - jobqueues.slurmqueue - INFO - Queueing /gpcr/users/daranda/doctorat/GPCR_simulations/simulation_output/equil/6J21_apo/\n"
     ]
    },
    {
     "name": "stdout",
     "output_type": "stream",
     "text": [
      " structure 5UIW already has been equilibrated\n",
      " structure 5UIW already has been equilibrated\n",
      " structure 6KNM already has been equilibrated\n",
      " structure 6KNM already has been equilibrated\n",
      " structure 6TO7 already has been equilibrated\n",
      " structure 6TO7 already has been equilibrated\n"
     ]
    },
    {
     "name": "stderr",
     "output_type": "stream",
     "text": [
      "2021-06-01 08:34:57,998 - htmd.builder.builder - WARNING - Found cis peptide bond in 1 frames: [0] in the omega diheral \"Angle of (TYR 146 CA P0 P) (TYR 146 C P0 P) (SER 147 N P0 P) (SER 147 CA P0 P) \" with indexes [1982, 1999, 2001, 2003]\n",
      "2021-06-01 08:34:57,998 - htmd.builder.builder - WARNING - Found cis peptide bond in 1 frames: [0] in the omega diheral \"Angle of (ALA 185 CA P0 P) (ALA 185 C P0 P) (ASN 186 N P0 P) (ASN 186 CA P0 P) \" with indexes [2610, 2616, 2618, 2620]\n",
      "2021-06-01 08:34:58,459 - htmd.protocols.equilibration_v2 - WARNING - Lipids detected in input structure. We highly recommend setting useconstantratio=True for membrane simulations.\n",
      "2021-06-01 08:34:58,459 - htmd.protocols.equilibration_v2 - INFO - Using user-provided restraints and ignoring constraints and fb_potential\n",
      "2021-06-01 08:35:04,555 - jobqueues.slurmqueue - INFO - Queueing /gpcr/users/daranda/doctorat/GPCR_simulations/simulation_output/equil/6CM4/\n",
      "2021-06-01 08:35:22,495 - htmd.builder.builder - WARNING - Found cis peptide bond in 1 frames: [0] in the omega diheral \"Angle of (TYR 146 CA P0 P) (TYR 146 C P0 P) (SER 147 N P0 P) (SER 147 CA P0 P) \" with indexes [1918, 1935, 1937, 1939]\n",
      "2021-06-01 08:35:22,496 - htmd.builder.builder - WARNING - Found cis peptide bond in 1 frames: [0] in the omega diheral \"Angle of (ALA 185 CA P0 P) (ALA 185 C P0 P) (ASN 186 N P0 P) (ASN 186 CA P0 P) \" with indexes [2546, 2552, 2554, 2556]\n",
      "2021-06-01 08:35:22,950 - htmd.protocols.equilibration_v2 - WARNING - Lipids detected in input structure. We highly recommend setting useconstantratio=True for membrane simulations.\n",
      "2021-06-01 08:35:22,950 - htmd.protocols.equilibration_v2 - INFO - Using user-provided restraints and ignoring constraints and fb_potential\n",
      "2021-06-01 08:35:26,376 - jobqueues.slurmqueue - INFO - Queueing /gpcr/users/daranda/doctorat/GPCR_simulations/simulation_output/equil/6CM4_apo/\n"
     ]
    },
    {
     "name": "stdout",
     "output_type": "stream",
     "text": [
      " structure 6RZ8 already has been equilibrated\n",
      " structure 6RZ8 already has been equilibrated\n",
      " structure 6OBA already has been equilibrated\n",
      " structure 6OBA already has been equilibrated\n",
      " structure 6ZDR already has been equilibrated\n",
      " structure 6ZDR already has been equilibrated\n",
      " structure 6AKX already has been equilibrated\n",
      " structure 6AKX already has been equilibrated\n",
      " structure 5UNF already has been equilibrated\n",
      " structure 5UNF already has been equilibrated\n",
      " structure 5OLH already has been equilibrated\n",
      " structure 5OLH already has been equilibrated\n",
      " structure 6PS1 already has been equilibrated\n",
      " structure 6PS1 already has been equilibrated\n"
     ]
    },
    {
     "name": "stderr",
     "output_type": "stream",
     "text": [
      "2021-06-01 08:35:37,092 - moleculekit.readers - WARNING - Non-integer values were read from the PDB \"serial\" field. Dropping PDB values and assigning new ones.\n",
      "2021-06-01 08:35:37,167 - moleculekit.readers - WARNING - Reading PDB file with more than 99999 atoms. Bond information can be wrong.\n",
      "2021-06-01 08:35:58,421 - htmd.protocols.equilibration_v2 - WARNING - Lipids detected in input structure. We highly recommend setting useconstantratio=True for membrane simulations.\n",
      "2021-06-01 08:35:58,422 - htmd.protocols.equilibration_v2 - INFO - Using user-provided restraints and ignoring constraints and fb_potential\n",
      "2021-06-01 08:36:05,640 - jobqueues.slurmqueue - INFO - Queueing /gpcr/users/daranda/doctorat/GPCR_simulations/simulation_output/equil/6FJ3/\n",
      "2021-06-01 08:36:15,699 - moleculekit.readers - WARNING - Non-integer values were read from the PDB \"serial\" field. Dropping PDB values and assigning new ones.\n",
      "2021-06-01 08:36:15,768 - moleculekit.readers - WARNING - Reading PDB file with more than 99999 atoms. Bond information can be wrong.\n",
      "2021-06-01 08:36:36,001 - htmd.protocols.equilibration_v2 - WARNING - Lipids detected in input structure. We highly recommend setting useconstantratio=True for membrane simulations.\n",
      "2021-06-01 08:36:36,002 - htmd.protocols.equilibration_v2 - INFO - Using user-provided restraints and ignoring constraints and fb_potential\n",
      "2021-06-01 08:36:42,231 - jobqueues.slurmqueue - INFO - Queueing /gpcr/users/daranda/doctorat/GPCR_simulations/simulation_output/equil/6FJ3_apo/\n"
     ]
    },
    {
     "name": "stdout",
     "output_type": "stream",
     "text": [
      " structure 5OLG already has been equilibrated\n",
      " structure 5OLG already has been equilibrated\n",
      " structure 5DYS already has been equilibrated\n",
      " structure 5DYS already has been equilibrated\n",
      " structure 5NDD already has been equilibrated\n",
      " structure 5NDD already has been equilibrated\n",
      " structure 6LUQ already has been equilibrated\n",
      " structure 6LUQ already has been equilibrated\n"
     ]
    },
    {
     "name": "stderr",
     "output_type": "stream",
     "text": [
      "2021-06-01 08:37:03,008 - htmd.builder.builder - WARNING - Found cis peptide bond in 1 frames: [0] in the omega diheral \"Angle of (ASP 231 CA P P) (ASP 231 C P P) (SER 232 N P P) (SER 232 CA P P) \" with indexes [3421, 3429, 3431, 3433]\n",
      "2021-06-01 08:37:03,508 - htmd.protocols.equilibration_v2 - WARNING - Lipids detected in input structure. We highly recommend setting useconstantratio=True for membrane simulations.\n",
      "2021-06-01 08:37:03,508 - htmd.protocols.equilibration_v2 - INFO - Using user-provided restraints and ignoring constraints and fb_potential\n",
      "2021-06-01 08:37:09,501 - jobqueues.slurmqueue - INFO - Queueing /gpcr/users/daranda/doctorat/GPCR_simulations/simulation_output/equil/6HLL/\n",
      "2021-06-01 08:37:30,039 - htmd.builder.builder - WARNING - Found cis peptide bond in 1 frames: [0] in the omega diheral \"Angle of (ASP 231 CA P P) (ASP 231 C P P) (SER 232 N P P) (SER 232 CA P P) \" with indexes [3373, 3381, 3383, 3385]\n",
      "2021-06-01 08:37:30,530 - htmd.protocols.equilibration_v2 - WARNING - Lipids detected in input structure. We highly recommend setting useconstantratio=True for membrane simulations.\n",
      "2021-06-01 08:37:30,530 - htmd.protocols.equilibration_v2 - INFO - Using user-provided restraints and ignoring constraints and fb_potential\n",
      "2021-06-01 08:37:33,911 - jobqueues.slurmqueue - INFO - Queueing /gpcr/users/daranda/doctorat/GPCR_simulations/simulation_output/equil/6HLL_apo/\n"
     ]
    },
    {
     "name": "stdout",
     "output_type": "stream",
     "text": [
      " structure 6D26 already has been equilibrated\n",
      " structure 6D26 already has been equilibrated\n",
      " structure 5N2R already has been equilibrated\n",
      " structure 5N2R already has been equilibrated\n",
      "model 6LI2 could not be send to equilibrate because of  Could not locate any coordinates file in /gpcr/users/daranda/doctorat/GPCR_simulations/simulation_output/build/6LI2. Please set the Equilibration.acemd.coordinates property to point to the coordinates file\n",
      " structure 6LI2 already has been equilibrated\n",
      " structure 5MZJ already has been equilibrated\n",
      " structure 5MZJ already has been equilibrated\n",
      " structure 6TQ6 already has been equilibrated\n",
      " structure 6TQ6 already has been equilibrated\n",
      " structure 5WF6 already has been equilibrated\n",
      " structure 5WF6 already has been equilibrated\n",
      " structure 6PS3 already has been equilibrated\n",
      " structure 6PS3 already has been equilibrated\n",
      "model 4GPO could not be send to equilibrate because of  Could not locate any coordinates file in /gpcr/users/daranda/doctorat/GPCR_simulations/simulation_output/build/4GPO. Please set the Equilibration.acemd.coordinates property to point to the coordinates file\n",
      " structure 4GPO already has been equilibrated\n",
      " structure 6ME7 already has been equilibrated\n",
      " structure 6ME7 already has been equilibrated\n",
      " structure 6TOD already has been equilibrated\n",
      " structure 6TOD already has been equilibrated\n",
      " structure 6KPC already has been equilibrated\n",
      " structure 6KPC already has been equilibrated\n",
      " structure 6PRZ already has been equilibrated\n",
      " structure 6PRZ already has been equilibrated\n",
      " structure 6ME9 already has been equilibrated\n",
      " structure 6ME9 already has been equilibrated\n",
      " structure 6ME3 already has been equilibrated\n",
      " structure 6ME3 already has been equilibrated\n",
      " structure 6RZ5 already has been equilibrated\n",
      " structure 6RZ5 already has been equilibrated\n",
      " structure 6GPX already has been equilibrated\n",
      " structure 6GPX already has been equilibrated\n",
      " structure 5V56 already has been equilibrated\n",
      " structure 5V56 already has been equilibrated\n",
      " structure 6DRZ already has been equilibrated\n",
      " structure 6DRZ already has been equilibrated\n",
      " structure 4GBR already has been equilibrated\n",
      " structure 4GBR already has been equilibrated\n",
      " structure 6GPS already has been equilibrated\n",
      " structure 6GPS already has been equilibrated\n",
      " structure 6TOS already has been equilibrated\n",
      " structure 6TOS already has been equilibrated\n",
      " structure 6C1R already has been equilibrated\n",
      " structure 6C1R already has been equilibrated\n",
      " structure 5EE7 already has been equilibrated\n",
      " structure 5EE7 already has been equilibrated\n",
      " structure 4QIM already has been equilibrated\n",
      " structure 4QIM already has been equilibrated\n",
      " structure 6TQ4 already has been equilibrated\n",
      " structure 6TQ4 already has been equilibrated\n",
      " structure 6FKC already has been equilibrated\n",
      " structure 6FKC already has been equilibrated\n"
     ]
    },
    {
     "name": "stderr",
     "output_type": "stream",
     "text": [
      "2021-06-01 08:37:56,406 - htmd.builder.builder - WARNING - Found cis peptide bond in 1 frames: [0] in the omega diheral \"Angle of (TYR 44 CA P P) (TYR 44 C P P) (PRO 45 N P P) (PRO 45 CA P P) \" with indexes [708, 725, 727, 731]\n",
      "2021-06-01 08:37:56,927 - htmd.protocols.equilibration_v2 - WARNING - Lipids detected in input structure. We highly recommend setting useconstantratio=True for membrane simulations.\n",
      "2021-06-01 08:37:56,927 - htmd.protocols.equilibration_v2 - INFO - Using user-provided restraints and ignoring constraints and fb_potential\n",
      "2021-06-01 08:38:00,863 - jobqueues.slurmqueue - INFO - Queueing /gpcr/users/daranda/doctorat/GPCR_simulations/simulation_output/equil/5ZKQ/\n",
      "2021-06-01 08:38:22,752 - htmd.builder.builder - WARNING - Found cis peptide bond in 1 frames: [0] in the omega diheral \"Angle of (TYR 44 CA P P) (TYR 44 C P P) (PRO 45 N P P) (PRO 45 CA P P) \" with indexes [649, 666, 668, 672]\n",
      "2021-06-01 08:38:23,282 - htmd.protocols.equilibration_v2 - WARNING - Lipids detected in input structure. We highly recommend setting useconstantratio=True for membrane simulations.\n",
      "2021-06-01 08:38:23,282 - htmd.protocols.equilibration_v2 - INFO - Using user-provided restraints and ignoring constraints and fb_potential\n",
      "2021-06-01 08:38:26,621 - jobqueues.slurmqueue - INFO - Queueing /gpcr/users/daranda/doctorat/GPCR_simulations/simulation_output/equil/5ZKQ_apo/\n"
     ]
    },
    {
     "name": "stdout",
     "output_type": "stream",
     "text": [
      " structure 6FKB already has been equilibrated\n",
      " structure 6FKB already has been equilibrated\n",
      " structure 6FK8 already has been equilibrated\n",
      " structure 6FK8 already has been equilibrated\n"
     ]
    },
    {
     "name": "stderr",
     "output_type": "stream",
     "text": [
      "2021-06-01 08:38:46,527 - htmd.protocols.equilibration_v2 - WARNING - Lipids detected in input structure. We highly recommend setting useconstantratio=True for membrane simulations.\n",
      "2021-06-01 08:38:46,527 - htmd.protocols.equilibration_v2 - INFO - Using user-provided restraints and ignoring constraints and fb_potential\n",
      "2021-06-01 08:38:49,822 - jobqueues.slurmqueue - INFO - Queueing /gpcr/users/daranda/doctorat/GPCR_simulations/simulation_output/equil/6RZ4/\n",
      "2021-06-01 08:39:09,360 - htmd.protocols.equilibration_v2 - WARNING - Lipids detected in input structure. We highly recommend setting useconstantratio=True for membrane simulations.\n",
      "2021-06-01 08:39:09,360 - htmd.protocols.equilibration_v2 - INFO - Using user-provided restraints and ignoring constraints and fb_potential\n",
      "2021-06-01 08:39:12,388 - jobqueues.slurmqueue - INFO - Queueing /gpcr/users/daranda/doctorat/GPCR_simulations/simulation_output/equil/6RZ4_apo/\n"
     ]
    },
    {
     "name": "stdout",
     "output_type": "stream",
     "text": [
      " structure 3C9M already has been equilibrated\n",
      " structure 3C9M already has been equilibrated\n",
      " structure 6AK3 already has been equilibrated\n",
      " structure 6AK3 already has been equilibrated\n"
     ]
    },
    {
     "name": "stderr",
     "output_type": "stream",
     "text": [
      "2021-06-01 08:39:36,155 - htmd.builder.builder - WARNING - Found cis peptide bond in 1 frames: [0] in the omega diheral \"Angle of (PRO 198 CA P0 P) (PRO 198 C P0 P) (GLY 199 N P0 P) (GLY 199 CA P0 P) \" with indexes [2661, 2669, 2671, 2673]\n",
      "2021-06-01 08:39:36,740 - htmd.protocols.equilibration_v2 - WARNING - Lipids detected in input structure. We highly recommend setting useconstantratio=True for membrane simulations.\n",
      "2021-06-01 08:39:36,741 - htmd.protocols.equilibration_v2 - INFO - Using user-provided restraints and ignoring constraints and fb_potential\n",
      "2021-06-01 08:39:40,612 - jobqueues.slurmqueue - INFO - Queueing /gpcr/users/daranda/doctorat/GPCR_simulations/simulation_output/equil/6TPG/\n",
      "2021-06-01 08:40:03,567 - htmd.builder.builder - WARNING - Found cis peptide bond in 1 frames: [0] in the omega diheral \"Angle of (PRO 198 CA P0 P) (PRO 198 C P0 P) (GLY 199 N P0 P) (GLY 199 CA P0 P) \" with indexes [2661, 2669, 2671, 2673]\n",
      "2021-06-01 08:40:04,138 - htmd.protocols.equilibration_v2 - WARNING - Lipids detected in input structure. We highly recommend setting useconstantratio=True for membrane simulations.\n",
      "2021-06-01 08:40:04,138 - htmd.protocols.equilibration_v2 - INFO - Using user-provided restraints and ignoring constraints and fb_potential\n",
      "2021-06-01 08:40:08,723 - jobqueues.slurmqueue - INFO - Queueing /gpcr/users/daranda/doctorat/GPCR_simulations/simulation_output/equil/6TPG_apo/\n"
     ]
    },
    {
     "name": "stdout",
     "output_type": "stream",
     "text": [
      " structure 5N2S already has been equilibrated\n",
      " structure 5N2S already has been equilibrated\n",
      " structure 6E59 already has been equilibrated\n",
      " structure 6E59 already has been equilibrated\n",
      " structure 6C1Q already has been equilibrated\n",
      " structure 6C1Q already has been equilibrated\n",
      " structure 6ME8 already has been equilibrated\n",
      " structure 6ME8 already has been equilibrated\n"
     ]
    },
    {
     "name": "stderr",
     "output_type": "stream",
     "text": [
      "2021-06-01 08:40:31,343 - htmd.builder.builder - WARNING - Found cis peptide bond in 1 frames: [0] in the omega diheral \"Angle of (LEU 216 CA P P) (LEU 216 C P P) (PRO 217 N P P) (PRO 217 CA P P) \" with indexes [3333, 3348, 3350, 3354]\n",
      "2021-06-01 08:40:31,930 - htmd.protocols.equilibration_v2 - WARNING - Lipids detected in input structure. We highly recommend setting useconstantratio=True for membrane simulations.\n",
      "2021-06-01 08:40:31,930 - htmd.protocols.equilibration_v2 - INFO - Using user-provided restraints and ignoring constraints and fb_potential\n",
      "2021-06-01 08:40:35,933 - jobqueues.slurmqueue - INFO - Queueing /gpcr/users/daranda/doctorat/GPCR_simulations/simulation_output/equil/5UIG/\n",
      "2021-06-01 08:40:58,111 - htmd.builder.builder - WARNING - Found cis peptide bond in 1 frames: [0] in the omega diheral \"Angle of (LEU 216 CA P P) (LEU 216 C P P) (PRO 217 N P P) (PRO 217 CA P P) \" with indexes [3333, 3348, 3350, 3354]\n",
      "2021-06-01 08:40:58,698 - htmd.protocols.equilibration_v2 - WARNING - Lipids detected in input structure. We highly recommend setting useconstantratio=True for membrane simulations.\n",
      "2021-06-01 08:40:58,699 - htmd.protocols.equilibration_v2 - INFO - Using user-provided restraints and ignoring constraints and fb_potential\n",
      "2021-06-01 08:41:02,052 - jobqueues.slurmqueue - INFO - Queueing /gpcr/users/daranda/doctorat/GPCR_simulations/simulation_output/equil/5UIG_apo/\n"
     ]
    },
    {
     "name": "stdout",
     "output_type": "stream",
     "text": [
      " structure 6KJV already has been equilibrated\n",
      " structure 6KJV already has been equilibrated\n"
     ]
    },
    {
     "name": "stderr",
     "output_type": "stream",
     "text": [
      "2021-06-01 08:41:20,963 - htmd.protocols.equilibration_v2 - WARNING - Lipids detected in input structure. We highly recommend setting useconstantratio=True for membrane simulations.\n",
      "2021-06-01 08:41:20,963 - htmd.protocols.equilibration_v2 - INFO - Using user-provided restraints and ignoring constraints and fb_potential\n",
      "2021-06-01 08:41:24,602 - jobqueues.slurmqueue - INFO - Queueing /gpcr/users/daranda/doctorat/GPCR_simulations/simulation_output/equil/5ZTY/\n",
      "2021-06-01 08:41:43,003 - htmd.protocols.equilibration_v2 - WARNING - Lipids detected in input structure. We highly recommend setting useconstantratio=True for membrane simulations.\n",
      "2021-06-01 08:41:43,003 - htmd.protocols.equilibration_v2 - INFO - Using user-provided restraints and ignoring constraints and fb_potential\n",
      "2021-06-01 08:41:46,340 - jobqueues.slurmqueue - INFO - Queueing /gpcr/users/daranda/doctorat/GPCR_simulations/simulation_output/equil/5ZTY_apo/\n"
     ]
    },
    {
     "name": "stdout",
     "output_type": "stream",
     "text": [
      " structure 5TVN already has been equilibrated\n",
      " structure 5TVN already has been equilibrated\n",
      " structure 6MH8 already has been equilibrated\n",
      " structure 6MH8 already has been equilibrated\n",
      " structure 5K2B already has been equilibrated\n",
      " structure 5K2B already has been equilibrated\n",
      " structure 1GZM already has been equilibrated\n",
      " structure 1GZM already has been equilibrated\n",
      " structure 5NLX already has been equilibrated\n",
      " structure 5NLX already has been equilibrated\n",
      " structure 5WF5 already has been equilibrated\n",
      " structure 5WF5 already has been equilibrated\n",
      " structure 5WS3 already has been equilibrated\n",
      " structure 5WS3 already has been equilibrated\n",
      " structure 6JZH already has been equilibrated\n",
      " structure 6JZH already has been equilibrated\n",
      " structure 6ME4 already has been equilibrated\n",
      " structure 6ME4 already has been equilibrated\n",
      " structure 6TP6 already has been equilibrated\n",
      " structure 6TP6 already has been equilibrated\n",
      "model 5GLI could not be send to equilibrate because of  Could not locate any coordinates file in /gpcr/users/daranda/doctorat/GPCR_simulations/simulation_output/build/5GLI. Please set the Equilibration.acemd.coordinates property to point to the coordinates file\n",
      " structure 5GLI already has been equilibrated\n",
      " structure 6TOT already has been equilibrated\n",
      " structure 6TOT already has been equilibrated\n",
      " structure 6PS6 already has been equilibrated\n",
      " structure 6PS6 already has been equilibrated\n",
      " structure 5YC8 already has been equilibrated\n",
      " structure 5YC8 already has been equilibrated\n",
      " structure 5V57 already has been equilibrated\n",
      " structure 5V57 already has been equilibrated\n",
      " structure 5OLO already has been equilibrated\n",
      " structure 5OLO already has been equilibrated\n",
      " structure 5WIU already has been equilibrated\n",
      " structure 5WIU already has been equilibrated\n"
     ]
    },
    {
     "name": "stderr",
     "output_type": "stream",
     "text": [
      "2021-06-01 08:42:05,539 - htmd.builder.builder - WARNING - Found cis peptide bond in 1 frames: [0] in the omega diheral \"Angle of (PHE 89 CA P P) (PHE 89 C P P) (PRO 90 N P P) (PRO 90 CA P P) \" with indexes [1263, 1279, 1281, 1285]\n",
      "2021-06-01 08:42:05,974 - htmd.protocols.equilibration_v2 - WARNING - Lipids detected in input structure. We highly recommend setting useconstantratio=True for membrane simulations.\n",
      "2021-06-01 08:42:05,974 - htmd.protocols.equilibration_v2 - INFO - Using user-provided restraints and ignoring constraints and fb_potential\n",
      "2021-06-01 08:42:09,008 - jobqueues.slurmqueue - INFO - Queueing /gpcr/users/daranda/doctorat/GPCR_simulations/simulation_output/equil/2Z73/\n",
      "2021-06-01 08:42:27,422 - htmd.builder.builder - WARNING - Found cis peptide bond in 1 frames: [0] in the omega diheral \"Angle of (PHE 89 CA P P) (PHE 89 C P P) (PRO 90 N P P) (PRO 90 CA P P) \" with indexes [1263, 1279, 1281, 1285]\n",
      "2021-06-01 08:42:27,856 - htmd.protocols.equilibration_v2 - WARNING - Lipids detected in input structure. We highly recommend setting useconstantratio=True for membrane simulations.\n",
      "2021-06-01 08:42:27,857 - htmd.protocols.equilibration_v2 - INFO - Using user-provided restraints and ignoring constraints and fb_potential\n",
      "2021-06-01 08:42:30,864 - jobqueues.slurmqueue - INFO - Queueing /gpcr/users/daranda/doctorat/GPCR_simulations/simulation_output/equil/2Z73_apo/\n"
     ]
    },
    {
     "name": "stdout",
     "output_type": "stream",
     "text": [
      "model 5TE3 could not be send to equilibrate because of  Could not locate any coordinates file in /gpcr/users/daranda/doctorat/GPCR_simulations/simulation_output/build/5TE3. Please set the Equilibration.acemd.coordinates property to point to the coordinates file\n",
      " structure 5TE3 already has been equilibrated\n",
      " structure 4NTJ already has been equilibrated\n",
      " structure 4NTJ already has been equilibrated\n",
      " structure 6KQI already has been equilibrated\n",
      " structure 6KQI already has been equilibrated\n"
     ]
    },
    {
     "name": "stderr",
     "output_type": "stream",
     "text": [
      "2021-06-01 08:42:46,792 - htmd.protocols.equilibration_v2 - WARNING - Lipids detected in input structure. We highly recommend setting useconstantratio=True for membrane simulations.\n",
      "2021-06-01 08:42:46,792 - htmd.protocols.equilibration_v2 - INFO - Using user-provided restraints and ignoring constraints and fb_potential\n",
      "2021-06-01 08:42:52,458 - jobqueues.slurmqueue - INFO - Queueing /gpcr/users/daranda/doctorat/GPCR_simulations/simulation_output/equil/6OL9/\n",
      "2021-06-01 08:43:11,770 - htmd.protocols.equilibration_v2 - WARNING - Lipids detected in input structure. We highly recommend setting useconstantratio=True for membrane simulations.\n",
      "2021-06-01 08:43:11,770 - htmd.protocols.equilibration_v2 - INFO - Using user-provided restraints and ignoring constraints and fb_potential\n",
      "2021-06-01 08:43:15,374 - jobqueues.slurmqueue - INFO - Queueing /gpcr/users/daranda/doctorat/GPCR_simulations/simulation_output/equil/6OL9_apo/\n"
     ]
    },
    {
     "name": "stdout",
     "output_type": "stream",
     "text": [
      " structure 5JTB already has been equilibrated\n",
      " structure 5JTB already has been equilibrated\n",
      " structure 4EJ4 already has been equilibrated\n",
      " structure 4EJ4 already has been equilibrated\n",
      " structure 6PS7 already has been equilibrated\n",
      " structure 6PS7 already has been equilibrated\n",
      " structure 5K2D already has been equilibrated\n",
      " structure 5K2D already has been equilibrated\n",
      " structure 6DS0 already has been equilibrated\n",
      " structure 6DS0 already has been equilibrated\n",
      " structure 5OM4 already has been equilibrated\n",
      " structure 5OM4 already has been equilibrated\n",
      " structure 3C9L already has been equilibrated\n",
      " structure 3C9L already has been equilibrated\n"
     ]
    },
    {
     "name": "stderr",
     "output_type": "stream",
     "text": [
      "2021-06-01 08:43:34,555 - htmd.builder.builder - WARNING - Found cis peptide bond in 1 frames: [0] in the omega diheral \"Angle of (ILE 212 CA P P) (ILE 212 C P P) (GLY 213 N P P) (GLY 213 CA P P) \" with indexes [2020, 2035, 2037, 2039]\n",
      "2021-06-01 08:43:35,033 - htmd.protocols.equilibration_v2 - WARNING - Lipids detected in input structure. We highly recommend setting useconstantratio=True for membrane simulations.\n",
      "2021-06-01 08:43:35,034 - htmd.protocols.equilibration_v2 - INFO - Using user-provided restraints and ignoring constraints and fb_potential\n",
      "2021-06-01 08:43:38,171 - jobqueues.slurmqueue - INFO - Queueing /gpcr/users/daranda/doctorat/GPCR_simulations/simulation_output/equil/6LRY/\n",
      "2021-06-01 08:43:56,566 - htmd.builder.builder - WARNING - Found cis peptide bond in 1 frames: [0] in the omega diheral \"Angle of (ILE 212 CA P P) (ILE 212 C P P) (GLY 213 N P P) (GLY 213 CA P P) \" with indexes [2019, 2034, 2036, 2038]\n",
      "2021-06-01 08:43:57,013 - htmd.protocols.equilibration_v2 - WARNING - Lipids detected in input structure. We highly recommend setting useconstantratio=True for membrane simulations.\n",
      "2021-06-01 08:43:57,014 - htmd.protocols.equilibration_v2 - INFO - Using user-provided restraints and ignoring constraints and fb_potential\n",
      "2021-06-01 08:44:00,176 - jobqueues.slurmqueue - INFO - Queueing /gpcr/users/daranda/doctorat/GPCR_simulations/simulation_output/equil/6LRY_apo/\n"
     ]
    },
    {
     "name": "stdout",
     "output_type": "stream",
     "text": [
      " structure 6GT3 already has been equilibrated\n",
      " structure 6GT3 already has been equilibrated\n",
      " structure 6DRX already has been equilibrated\n",
      " structure 6DRX already has been equilibrated\n",
      " structure 6ME2 already has been equilibrated\n",
      " structure 6ME2 already has been equilibrated\n",
      " structure 4N4W already has been equilibrated\n",
      " structure 4N4W already has been equilibrated\n",
      " structure 6IIV already has been equilibrated\n",
      " structure 6IIV already has been equilibrated\n",
      " structure 6TP4 already has been equilibrated\n",
      " structure 6TP4 already has been equilibrated\n",
      " structure 4O9R already has been equilibrated\n",
      " structure 4O9R already has been equilibrated\n"
     ]
    },
    {
     "name": "stderr",
     "output_type": "stream",
     "text": [
      "2021-06-01 08:44:18,808 - htmd.protocols.equilibration_v2 - WARNING - Lipids detected in input structure. We highly recommend setting useconstantratio=True for membrane simulations.\n",
      "2021-06-01 08:44:18,809 - htmd.protocols.equilibration_v2 - INFO - Using user-provided restraints and ignoring constraints and fb_potential\n",
      "2021-06-01 08:44:22,371 - jobqueues.slurmqueue - INFO - Queueing /gpcr/users/daranda/doctorat/GPCR_simulations/simulation_output/equil/6RZ9/\n"
     ]
    },
    {
     "name": "stdout",
     "output_type": "stream",
     "text": [
      " structure 6RZ9 already has been equilibrated\n",
      " structure 6FK9 already has been equilibrated\n",
      " structure 6FK9 already has been equilibrated\n",
      " structure 5TZR already has been equilibrated\n",
      " structure 5TZR already has been equilibrated\n",
      " structure 6D35 already has been equilibrated\n",
      " structure 6D35 already has been equilibrated\n"
     ]
    },
    {
     "name": "stderr",
     "output_type": "stream",
     "text": [
      "2021-06-01 08:44:32,231 - moleculekit.readers - WARNING - Non-integer values were read from the PDB \"serial\" field. Dropping PDB values and assigning new ones.\n",
      "2021-06-01 08:44:32,300 - moleculekit.readers - WARNING - Reading PDB file with more than 99999 atoms. Bond information can be wrong.\n",
      "2021-06-01 08:44:47,862 - htmd.protocols.equilibration_v2 - WARNING - Lipids detected in input structure. We highly recommend setting useconstantratio=True for membrane simulations.\n",
      "2021-06-01 08:44:47,863 - htmd.protocols.equilibration_v2 - INFO - Using user-provided restraints and ignoring constraints and fb_potential\n",
      "2021-06-01 08:44:54,370 - jobqueues.slurmqueue - INFO - Queueing /gpcr/users/daranda/doctorat/GPCR_simulations/simulation_output/equil/5VEX/\n",
      "2021-06-01 08:45:04,532 - moleculekit.readers - WARNING - Non-integer values were read from the PDB \"serial\" field. Dropping PDB values and assigning new ones.\n",
      "2021-06-01 08:45:04,600 - moleculekit.readers - WARNING - Reading PDB file with more than 99999 atoms. Bond information can be wrong.\n",
      "2021-06-01 08:45:21,745 - htmd.protocols.equilibration_v2 - WARNING - Lipids detected in input structure. We highly recommend setting useconstantratio=True for membrane simulations.\n",
      "2021-06-01 08:45:21,745 - htmd.protocols.equilibration_v2 - INFO - Using user-provided restraints and ignoring constraints and fb_potential\n",
      "2021-06-01 08:45:27,033 - jobqueues.slurmqueue - INFO - Queueing /gpcr/users/daranda/doctorat/GPCR_simulations/simulation_output/equil/5VEX_apo/\n"
     ]
    },
    {
     "name": "stdout",
     "output_type": "stream",
     "text": [
      " structure 6IGL already has been equilibrated\n",
      " structure 6IGL already has been equilibrated\n",
      " structure 5TZY already has been equilibrated\n",
      " structure 5TZY already has been equilibrated\n",
      " structure 4NC3 already has been equilibrated\n",
      " structure 4NC3 already has been equilibrated\n"
     ]
    },
    {
     "name": "stderr",
     "output_type": "stream",
     "text": [
      "2021-06-01 08:45:41,899 - htmd.protocols.equilibration_v2 - WARNING - Lipids detected in input structure. We highly recommend setting useconstantratio=True for membrane simulations.\n",
      "2021-06-01 08:45:41,899 - htmd.protocols.equilibration_v2 - INFO - Using user-provided restraints and ignoring constraints and fb_potential\n",
      "2021-06-01 08:45:44,862 - jobqueues.slurmqueue - INFO - Queueing /gpcr/users/daranda/doctorat/GPCR_simulations/simulation_output/equil/5T1A/\n",
      "2021-06-01 08:45:59,511 - htmd.protocols.equilibration_v2 - WARNING - Lipids detected in input structure. We highly recommend setting useconstantratio=True for membrane simulations.\n",
      "2021-06-01 08:45:59,512 - htmd.protocols.equilibration_v2 - INFO - Using user-provided restraints and ignoring constraints and fb_potential\n",
      "2021-06-01 08:46:01,920 - jobqueues.slurmqueue - INFO - Queueing /gpcr/users/daranda/doctorat/GPCR_simulations/simulation_output/equil/5T1A_apo/\n"
     ]
    },
    {
     "name": "stdout",
     "output_type": "stream",
     "text": [
      " structure 5VRA already has been equilibrated\n",
      " structure 5VRA already has been equilibrated\n",
      " structure 6FFI already has been equilibrated\n",
      " structure 6FFI already has been equilibrated\n",
      " structure 5MZP already has been equilibrated\n",
      " structure 5MZP already has been equilibrated\n",
      " structure 5OLV already has been equilibrated\n",
      " structure 5OLV already has been equilibrated\n",
      " structure 6AQF already has been equilibrated\n",
      " structure 6AQF already has been equilibrated\n",
      " structure 5YQZ already has been equilibrated\n",
      " structure 5YQZ already has been equilibrated\n"
     ]
    },
    {
     "name": "stderr",
     "output_type": "stream",
     "text": [
      "2021-06-01 08:46:19,297 - htmd.protocols.equilibration_v2 - WARNING - Lipids detected in input structure. We highly recommend setting useconstantratio=True for membrane simulations.\n",
      "2021-06-01 08:46:19,297 - htmd.protocols.equilibration_v2 - INFO - Using user-provided restraints and ignoring constraints and fb_potential\n",
      "2021-06-01 08:46:22,738 - jobqueues.slurmqueue - INFO - Queueing /gpcr/users/daranda/doctorat/GPCR_simulations/simulation_output/equil/5UNG/\n",
      "2021-06-01 08:46:39,447 - htmd.protocols.equilibration_v2 - WARNING - Lipids detected in input structure. We highly recommend setting useconstantratio=True for membrane simulations.\n",
      "2021-06-01 08:46:39,447 - htmd.protocols.equilibration_v2 - INFO - Using user-provided restraints and ignoring constraints and fb_potential\n",
      "2021-06-01 08:46:42,210 - jobqueues.slurmqueue - INFO - Queueing /gpcr/users/daranda/doctorat/GPCR_simulations/simulation_output/equil/5UNG_apo/\n"
     ]
    },
    {
     "name": "stdout",
     "output_type": "stream",
     "text": [
      " structure 6LI0 already has been equilibrated\n",
      " structure 6LI0 already has been equilibrated\n",
      " structure 6D32 already has been equilibrated\n",
      " structure 6D32 already has been equilibrated\n",
      " structure 6FK6 already has been equilibrated\n",
      " structure 6FK6 already has been equilibrated\n",
      " structure 5F8U already has been equilibrated\n",
      " structure 5F8U already has been equilibrated\n",
      " structure 6ZDV already has been equilibrated\n",
      " structure 6ZDV already has been equilibrated\n"
     ]
    },
    {
     "name": "stderr",
     "output_type": "stream",
     "text": [
      "2021-06-01 08:46:59,089 - htmd.protocols.equilibration_v2 - WARNING - Lipids detected in input structure. We highly recommend setting useconstantratio=True for membrane simulations.\n",
      "2021-06-01 08:46:59,090 - htmd.protocols.equilibration_v2 - INFO - Using user-provided restraints and ignoring constraints and fb_potential\n",
      "2021-06-01 08:47:02,182 - jobqueues.slurmqueue - INFO - Queueing /gpcr/users/daranda/doctorat/GPCR_simulations/simulation_output/equil/6LW5/\n",
      "2021-06-01 08:47:19,123 - htmd.protocols.equilibration_v2 - WARNING - Lipids detected in input structure. We highly recommend setting useconstantratio=True for membrane simulations.\n",
      "2021-06-01 08:47:19,124 - htmd.protocols.equilibration_v2 - INFO - Using user-provided restraints and ignoring constraints and fb_potential\n",
      "2021-06-01 08:47:22,150 - jobqueues.slurmqueue - INFO - Queueing /gpcr/users/daranda/doctorat/GPCR_simulations/simulation_output/equil/6LW5_apo/\n",
      "2021-06-01 08:47:43,221 - htmd.protocols.equilibration_v2 - WARNING - Lipids detected in input structure. We highly recommend setting useconstantratio=True for membrane simulations.\n",
      "2021-06-01 08:47:43,222 - htmd.protocols.equilibration_v2 - INFO - Using user-provided restraints and ignoring constraints and fb_potential\n",
      "2021-06-01 08:47:47,261 - jobqueues.slurmqueue - INFO - Queueing /gpcr/users/daranda/doctorat/GPCR_simulations/simulation_output/equil/6TP3/\n",
      "2021-06-01 08:48:08,283 - htmd.protocols.equilibration_v2 - WARNING - Lipids detected in input structure. We highly recommend setting useconstantratio=True for membrane simulations.\n",
      "2021-06-01 08:48:08,284 - htmd.protocols.equilibration_v2 - INFO - Using user-provided restraints and ignoring constraints and fb_potential\n",
      "2021-06-01 08:48:11,985 - jobqueues.slurmqueue - INFO - Queueing /gpcr/users/daranda/doctorat/GPCR_simulations/simulation_output/equil/6TP3_apo/\n"
     ]
    },
    {
     "name": "stdout",
     "output_type": "stream",
     "text": [
      " structure 5XPR already has been equilibrated\n",
      " structure 5XPR already has been equilibrated\n",
      " structure 6PS5 already has been equilibrated\n",
      " structure 6PS5 already has been equilibrated\n",
      " structure 6FKA already has been equilibrated\n",
      " structure 6FKA already has been equilibrated\n",
      " structure 6DRY already has been equilibrated\n",
      " structure 6DRY already has been equilibrated\n",
      " structure 5O9H already has been equilibrated\n",
      " structure 5O9H already has been equilibrated\n",
      " structure 6IIU already has been equilibrated\n",
      " structure 6IIU already has been equilibrated\n"
     ]
    }
   ],
   "source": [
    "#########################\n",
    "## Part 3: Equillibration\n",
    "#########################\n",
    "\n",
    "# for pdbcode in pdb_set:\n",
    "for pdbcode in pdb_set:\n",
    "    for apo in [False, True]:\n",
    "        try:\n",
    "            modelname = pdbcode+'_apo' if apo else pdbcode\n",
    "            equildir = resultspath+'equil/'+modelname+'/'\n",
    "            if os.path.exists(equildir+'output.xtc') or os.path.exists(equildir+'simrunning'):\n",
    "                print(\" structure %s already has been equilibrated\" % pdbcode)\n",
    "                continue\n",
    "\n",
    "            if not os.path.exists(equildir):\n",
    "                os.makedirs(equildir)\n",
    "\n",
    "            # Taking vmd selection line\n",
    "            with open(strucpath+pdbcode+'/const_sel.txt', 'r') as outfile:\n",
    "                const_sel = outfile.readlines()[0]\n",
    "\n",
    "            md = define_equilibration(const_sel)\n",
    "            md.write(resultspath+'build/'+modelname,equildir)\n",
    "\n",
    "            #Substitute run.sh generated by HTMD by a different one, adapted to the specified path of ACEMD\n",
    "            with open(equildir + 'run.sh', 'w') as f:\n",
    "                f.write('#!/bin/bash\\n%s > %slog.txt 2>&1' % (acemd_path, equildir))\n",
    "        \n",
    "            #Prepare slurm job  \n",
    "            sq = SlurmQueue()\n",
    "            sq.envvars = acemd_license\n",
    "            sq.jobname = 'eql_'+pdbcode\n",
    "            sq.datadir = None\n",
    "            sq.partition = 'gpcr_gpu'\n",
    "            sq.ngpu = 1\n",
    "            sq.ncpu = 1\n",
    "            sq.prerun = job_commands(equildir, '/home/daranda/'+modelname+'/')\n",
    "            sq.memory = 2000\n",
    "            sq.exclude = ['arwen','aragorn','bifur']\n",
    "#             sq.nodelist = ['aragorn','arwen']\n",
    "    \n",
    "            # Submit\n",
    "            sq.submit(equildir)\n",
    "            \n",
    "        except Exception as e:\n",
    "            print(\"model \"+modelname+\" could not be send to equilibrate because of \",e)"
   ]
  },
  {
   "cell_type": "code",
   "execution_count": 9,
   "metadata": {},
   "outputs": [],
   "source": [
    "# reset tracking for all\n",
    "sqs = {}"
   ]
  },
  {
   "cell_type": "code",
   "execution_count": 47,
   "metadata": {},
   "outputs": [],
   "source": [
    "# WARNING!!!: run me to KILL simulations that are still running\n",
    "for modelname in sqs:\n",
    "    sqs[modelname].stop()"
   ]
  },
  {
   "cell_type": "code",
   "execution_count": null,
   "metadata": {},
   "outputs": [],
   "source": [
    "############ Equilibration commands and parameters\n",
    "\n",
    "#run me to check how many simulations are still running\n",
    "sum([sqs[modelname].inprogress() for modelname in sqs])    "
   ]
  },
  {
   "cell_type": "code",
   "execution_count": 43,
   "metadata": {},
   "outputs": [
    {
     "name": "stdout",
     "output_type": "stream",
     "text": [
      "replicate 1 of structure 6C1R already has been simulated\n",
      "replicate 2 of structure 6C1R already has been simulated\n",
      "replicate 3 of structure 6C1R already has been simulated\n",
      "replicate 1 of structure 6C1R already has been simulated\n",
      "replicate 2 of structure 6C1R already has been simulated\n",
      "replicate 3 of structure 6C1R already has been simulated\n",
      "replicate 1 of structure 5ZK3 already has been simulated\n",
      "replicate 2 of structure 5ZK3 already has been simulated\n",
      "replicate 3 of structure 5ZK3 already has been simulated\n",
      "replicate 1 of structure 5ZK3 already has been simulated\n",
      "replicate 2 of structure 5ZK3 already has been simulated\n",
      "replicate 3 of structure 5ZK3 already has been simulated\n",
      "replicate 1 of structure 3C9M already has been simulated\n",
      "replicate 2 of structure 3C9M already has been simulated\n",
      "replicate 3 of structure 3C9M already has been simulated\n",
      "replicate 1 of structure 3C9M already has been simulated\n",
      "replicate 2 of structure 3C9M already has been simulated\n",
      "replicate 3 of structure 3C9M already has been simulated\n",
      "replicate 1 of structure 6RZ8 already has been simulated\n",
      "replicate 2 of structure 6RZ8 already has been simulated\n",
      "replicate 3 of structure 6RZ8 already has been simulated\n",
      "replicate 1 of structure 6RZ8 already has been simulated\n",
      "replicate 2 of structure 6RZ8 already has been simulated\n",
      "replicate 3 of structure 6RZ8 already has been simulated\n",
      "replicate 1 of structure 5VEX already has been simulated\n",
      "replicate 2 of structure 5VEX already has been simulated\n",
      "replicate 3 of structure 5VEX already has been simulated\n",
      "replicate 1 of structure 5VEX already has been simulated\n",
      "replicate 2 of structure 5VEX already has been simulated\n",
      "replicate 3 of structure 5VEX already has been simulated\n",
      "replicate 1 of structure 1GZM already has been simulated\n",
      "replicate 2 of structure 1GZM already has been simulated\n",
      "replicate 3 of structure 1GZM already has been simulated\n",
      "replicate 1 of structure 1GZM already has been simulated\n",
      "replicate 2 of structure 1GZM already has been simulated\n",
      "replicate 3 of structure 1GZM already has been simulated\n",
      "replicate 1 of structure 5NLX already has been simulated\n",
      "replicate 2 of structure 5NLX already has been simulated\n",
      "replicate 3 of structure 5NLX already has been simulated\n",
      "replicate 1 of structure 5NLX already has been simulated\n",
      "replicate 2 of structure 5NLX already has been simulated\n",
      "replicate 3 of structure 5NLX already has been simulated\n",
      "replicate 1 of structure 6TOT already has been simulated\n",
      "replicate 2 of structure 6TOT already has been simulated\n",
      "replicate 3 of structure 6TOT already has been simulated\n",
      "replicate 1 of structure 6TOT already has been simulated\n",
      "replicate 2 of structure 6TOT already has been simulated\n",
      "replicate 3 of structure 6TOT already has been simulated\n",
      "replicate 1 of structure 5UVI already has been simulated\n",
      "replicate 2 of structure 5UVI already has been simulated\n",
      "replicate 3 of structure 5UVI already has been simulated\n",
      "replicate 1 of structure 5UVI already has been simulated\n",
      "replicate 2 of structure 5UVI already has been simulated\n",
      "replicate 3 of structure 5UVI already has been simulated\n",
      "replicate 1 of structure 5N2R already has been simulated\n",
      "replicate 2 of structure 5N2R already has been simulated\n",
      "replicate 3 of structure 5N2R already has been simulated\n",
      "replicate 1 of structure 5N2R already has been simulated\n",
      "replicate 2 of structure 5N2R already has been simulated\n",
      "replicate 3 of structure 5N2R already has been simulated\n",
      "replicate 1 of structure 6FKC already has been simulated\n",
      "replicate 2 of structure 6FKC already has been simulated\n",
      "replicate 3 of structure 6FKC already has been simulated\n",
      "replicate 1 of structure 6FKC already has been simulated\n",
      "replicate 2 of structure 6FKC already has been simulated\n",
      "replicate 3 of structure 6FKC already has been simulated\n",
      "replicate 1 of structure 6TP6 already has been simulated\n",
      "replicate 2 of structure 6TP6 already has been simulated\n",
      "replicate 3 of structure 6TP6 already has been simulated\n",
      "replicate 1 of structure 6TP6 already has been simulated\n",
      "replicate 2 of structure 6TP6 already has been simulated\n",
      "replicate 3 of structure 6TP6 already has been simulated\n",
      "replicate 1 of structure 6RZ9 already has been simulated\n",
      "replicate 2 of structure 6RZ9 already has been simulated\n",
      "replicate 3 of structure 6RZ9 already has been simulated\n",
      "replicate 1 of structure 6RZ9 already has been simulated\n",
      "replicate 2 of structure 6RZ9 already has been simulated\n",
      "replicate 3 of structure 6RZ9 already has been simulated\n",
      "replicate 1 of structure 5XPR already has been simulated\n",
      "replicate 2 of structure 5XPR already has been simulated\n",
      "replicate 3 of structure 5XPR already has been simulated\n",
      "replicate 1 of structure 5XPR already has been simulated\n",
      "replicate 2 of structure 5XPR already has been simulated\n",
      "replicate 3 of structure 5XPR already has been simulated\n",
      "replicate 1 of structure 6ME3 already has been simulated\n",
      "replicate 2 of structure 6ME3 already has been simulated\n",
      "replicate 3 of structure 6ME3 already has been simulated\n",
      "replicate 1 of structure 6ME3 already has been simulated\n",
      "replicate 2 of structure 6ME3 already has been simulated\n",
      "replicate 3 of structure 6ME3 already has been simulated\n",
      "replicate 1 of structure 4BUO already has been simulated\n",
      "replicate 2 of structure 4BUO already has been simulated\n",
      "replicate 3 of structure 4BUO already has been simulated\n",
      "replicate 1 of structure 4BUO already has been simulated\n",
      "replicate 2 of structure 4BUO already has been simulated\n",
      "replicate 3 of structure 4BUO already has been simulated\n",
      "replicate 1 of structure 5UNG already has been simulated\n",
      "replicate 2 of structure 5UNG already has been simulated\n",
      "replicate 3 of structure 5UNG already has been simulated\n",
      "replicate 1 of structure 5UNG already has been simulated\n",
      "replicate 2 of structure 5UNG already has been simulated\n",
      "replicate 3 of structure 5UNG already has been simulated\n",
      "replicate 1 of structure 5NDD already has been simulated\n",
      "submitting replicate 2 of 5NDD\n"
     ]
    },
    {
     "name": "stderr",
     "output_type": "stream",
     "text": [
      "2021-06-25 18:52:25,142 - htmd.protocols.production_v6 - WARNING - Lipids detected in input structure. We highly recommend setting useconstantratio=True for membrane simulations.\n",
      "2021-06-25 18:52:25,832 - jobqueues.slurmqueue - INFO - Queueing /gpcr/users/daranda/doctorat/GPCR_simulations/simulation_output/production/5NDD_apo/rep_2/\n"
     ]
    },
    {
     "name": "stdout",
     "output_type": "stream",
     "text": [
      "submitting replicate 3 of 5NDD\n"
     ]
    },
    {
     "name": "stderr",
     "output_type": "stream",
     "text": [
      "2021-06-25 18:53:00,401 - htmd.protocols.production_v6 - WARNING - Lipids detected in input structure. We highly recommend setting useconstantratio=True for membrane simulations.\n",
      "2021-06-25 18:53:00,709 - jobqueues.slurmqueue - INFO - Queueing /gpcr/users/daranda/doctorat/GPCR_simulations/simulation_output/production/5NDD_apo/rep_3/\n"
     ]
    },
    {
     "name": "stdout",
     "output_type": "stream",
     "text": [
      "submitting replicate 1 of 5NDD\n"
     ]
    },
    {
     "name": "stderr",
     "output_type": "stream",
     "text": [
      "2021-06-25 18:53:34,943 - htmd.protocols.production_v6 - WARNING - Lipids detected in input structure. We highly recommend setting useconstantratio=True for membrane simulations.\n",
      "2021-06-25 18:53:35,650 - jobqueues.slurmqueue - INFO - Queueing /gpcr/users/daranda/doctorat/GPCR_simulations/simulation_output/production/5NDD/rep_1/\n"
     ]
    },
    {
     "name": "stdout",
     "output_type": "stream",
     "text": [
      "submitting replicate 2 of 5NDD\n"
     ]
    },
    {
     "name": "stderr",
     "output_type": "stream",
     "text": [
      "2021-06-25 18:54:10,238 - htmd.protocols.production_v6 - WARNING - Lipids detected in input structure. We highly recommend setting useconstantratio=True for membrane simulations.\n",
      "2021-06-25 18:54:10,565 - jobqueues.slurmqueue - INFO - Queueing /gpcr/users/daranda/doctorat/GPCR_simulations/simulation_output/production/5NDD/rep_2/\n"
     ]
    },
    {
     "name": "stdout",
     "output_type": "stream",
     "text": [
      "submitting replicate 3 of 5NDD\n"
     ]
    },
    {
     "name": "stderr",
     "output_type": "stream",
     "text": [
      "2021-06-25 18:54:49,399 - htmd.protocols.production_v6 - WARNING - Lipids detected in input structure. We highly recommend setting useconstantratio=True for membrane simulations.\n",
      "2021-06-25 18:54:49,757 - jobqueues.slurmqueue - INFO - Queueing /gpcr/users/daranda/doctorat/GPCR_simulations/simulation_output/production/5NDD/rep_3/\n"
     ]
    },
    {
     "name": "stdout",
     "output_type": "stream",
     "text": [
      "submitting replicate 1 of 6C1Q\n"
     ]
    },
    {
     "name": "stderr",
     "output_type": "stream",
     "text": [
      "2021-06-25 18:55:17,710 - htmd.builder.builder - WARNING - Found cis peptide bond in 1 frames: [0] in the omega diheral \"Angle of (PHE 182 CA P P) (PHE 182 C P P) (PRO 183 N P P) (PRO 183 CA P P) \" with indexes [2453, 2469, 2471, 2475]\n",
      "2021-06-25 18:55:18,740 - htmd.protocols.production_v6 - WARNING - Lipids detected in input structure. We highly recommend setting useconstantratio=True for membrane simulations.\n",
      "2021-06-25 18:55:19,441 - jobqueues.slurmqueue - INFO - Queueing /gpcr/users/daranda/doctorat/GPCR_simulations/simulation_output/production/6C1Q_apo/rep_1/\n"
     ]
    },
    {
     "name": "stdout",
     "output_type": "stream",
     "text": [
      "submitting replicate 2 of 6C1Q\n"
     ]
    },
    {
     "name": "stderr",
     "output_type": "stream",
     "text": [
      "2021-06-25 18:55:48,129 - htmd.builder.builder - WARNING - Found cis peptide bond in 1 frames: [0] in the omega diheral \"Angle of (PHE 182 CA P P) (PHE 182 C P P) (PRO 183 N P P) (PRO 183 CA P P) \" with indexes [2453, 2469, 2471, 2475]\n",
      "2021-06-25 18:55:49,177 - htmd.protocols.production_v6 - WARNING - Lipids detected in input structure. We highly recommend setting useconstantratio=True for membrane simulations.\n",
      "2021-06-25 18:55:49,447 - jobqueues.slurmqueue - INFO - Queueing /gpcr/users/daranda/doctorat/GPCR_simulations/simulation_output/production/6C1Q_apo/rep_2/\n"
     ]
    },
    {
     "name": "stdout",
     "output_type": "stream",
     "text": [
      "submitting replicate 3 of 6C1Q\n"
     ]
    },
    {
     "name": "stderr",
     "output_type": "stream",
     "text": [
      "2021-06-25 18:56:17,127 - htmd.builder.builder - WARNING - Found cis peptide bond in 1 frames: [0] in the omega diheral \"Angle of (PHE 182 CA P P) (PHE 182 C P P) (PRO 183 N P P) (PRO 183 CA P P) \" with indexes [2453, 2469, 2471, 2475]\n",
      "2021-06-25 18:56:18,079 - htmd.protocols.production_v6 - WARNING - Lipids detected in input structure. We highly recommend setting useconstantratio=True for membrane simulations.\n",
      "2021-06-25 18:56:18,343 - jobqueues.slurmqueue - INFO - Queueing /gpcr/users/daranda/doctorat/GPCR_simulations/simulation_output/production/6C1Q_apo/rep_3/\n"
     ]
    },
    {
     "name": "stdout",
     "output_type": "stream",
     "text": [
      "submitting replicate 1 of 6C1Q\n"
     ]
    },
    {
     "name": "stderr",
     "output_type": "stream",
     "text": [
      "2021-06-25 18:56:47,261 - htmd.builder.builder - WARNING - Found cis peptide bond in 1 frames: [0] in the omega diheral \"Angle of (PHE 182 CA P P) (PHE 182 C P P) (PRO 183 N P P) (PRO 183 CA P P) \" with indexes [2533, 2549, 2551, 2555]\n",
      "2021-06-25 18:56:48,225 - htmd.protocols.production_v6 - WARNING - Lipids detected in input structure. We highly recommend setting useconstantratio=True for membrane simulations.\n",
      "2021-06-25 18:56:48,885 - jobqueues.slurmqueue - INFO - Queueing /gpcr/users/daranda/doctorat/GPCR_simulations/simulation_output/production/6C1Q/rep_1/\n"
     ]
    },
    {
     "name": "stdout",
     "output_type": "stream",
     "text": [
      "submitting replicate 2 of 6C1Q\n"
     ]
    },
    {
     "name": "stderr",
     "output_type": "stream",
     "text": [
      "2021-06-25 18:57:17,229 - htmd.builder.builder - WARNING - Found cis peptide bond in 1 frames: [0] in the omega diheral \"Angle of (PHE 182 CA P P) (PHE 182 C P P) (PRO 183 N P P) (PRO 183 CA P P) \" with indexes [2533, 2549, 2551, 2555]\n",
      "2021-06-25 18:57:18,258 - htmd.protocols.production_v6 - WARNING - Lipids detected in input structure. We highly recommend setting useconstantratio=True for membrane simulations.\n",
      "2021-06-25 18:57:18,558 - jobqueues.slurmqueue - INFO - Queueing /gpcr/users/daranda/doctorat/GPCR_simulations/simulation_output/production/6C1Q/rep_2/\n"
     ]
    },
    {
     "name": "stdout",
     "output_type": "stream",
     "text": [
      "submitting replicate 3 of 6C1Q\n"
     ]
    },
    {
     "name": "stderr",
     "output_type": "stream",
     "text": [
      "2021-06-25 18:57:47,118 - htmd.builder.builder - WARNING - Found cis peptide bond in 1 frames: [0] in the omega diheral \"Angle of (PHE 182 CA P P) (PHE 182 C P P) (PRO 183 N P P) (PRO 183 CA P P) \" with indexes [2533, 2549, 2551, 2555]\n",
      "2021-06-25 18:57:48,052 - htmd.protocols.production_v6 - WARNING - Lipids detected in input structure. We highly recommend setting useconstantratio=True for membrane simulations.\n",
      "2021-06-25 18:57:48,366 - jobqueues.slurmqueue - INFO - Queueing /gpcr/users/daranda/doctorat/GPCR_simulations/simulation_output/production/6C1Q/rep_3/\n"
     ]
    },
    {
     "name": "stdout",
     "output_type": "stream",
     "text": [
      "submitting replicate 1 of 6MH8\n"
     ]
    },
    {
     "name": "stderr",
     "output_type": "stream",
     "text": [
      "2021-06-25 18:58:24,645 - htmd.builder.builder - WARNING - Found cis peptide bond in 1 frames: [0] in the omega diheral \"Angle of (LEU 216 CA P P) (LEU 216 C P P) (PRO 217 N P P) (PRO 217 CA P P) \" with indexes [3337, 3352, 3354, 3358]\n",
      "2021-06-25 18:58:25,989 - htmd.protocols.production_v6 - WARNING - Lipids detected in input structure. We highly recommend setting useconstantratio=True for membrane simulations.\n",
      "2021-06-25 18:58:26,773 - jobqueues.slurmqueue - INFO - Queueing /gpcr/users/daranda/doctorat/GPCR_simulations/simulation_output/production/6MH8_apo/rep_1/\n"
     ]
    },
    {
     "name": "stdout",
     "output_type": "stream",
     "text": [
      "submitting replicate 2 of 6MH8\n"
     ]
    },
    {
     "name": "stderr",
     "output_type": "stream",
     "text": [
      "2021-06-25 18:59:03,395 - htmd.builder.builder - WARNING - Found cis peptide bond in 1 frames: [0] in the omega diheral \"Angle of (LEU 216 CA P P) (LEU 216 C P P) (PRO 217 N P P) (PRO 217 CA P P) \" with indexes [3337, 3352, 3354, 3358]\n",
      "2021-06-25 18:59:04,766 - htmd.protocols.production_v6 - WARNING - Lipids detected in input structure. We highly recommend setting useconstantratio=True for membrane simulations.\n",
      "2021-06-25 18:59:05,090 - jobqueues.slurmqueue - INFO - Queueing /gpcr/users/daranda/doctorat/GPCR_simulations/simulation_output/production/6MH8_apo/rep_2/\n"
     ]
    },
    {
     "name": "stdout",
     "output_type": "stream",
     "text": [
      "submitting replicate 3 of 6MH8\n"
     ]
    },
    {
     "name": "stderr",
     "output_type": "stream",
     "text": [
      "2021-06-25 18:59:42,734 - htmd.builder.builder - WARNING - Found cis peptide bond in 1 frames: [0] in the omega diheral \"Angle of (LEU 216 CA P P) (LEU 216 C P P) (PRO 217 N P P) (PRO 217 CA P P) \" with indexes [3337, 3352, 3354, 3358]\n",
      "2021-06-25 18:59:44,101 - htmd.protocols.production_v6 - WARNING - Lipids detected in input structure. We highly recommend setting useconstantratio=True for membrane simulations.\n",
      "2021-06-25 18:59:44,427 - jobqueues.slurmqueue - INFO - Queueing /gpcr/users/daranda/doctorat/GPCR_simulations/simulation_output/production/6MH8_apo/rep_3/\n"
     ]
    },
    {
     "name": "stdout",
     "output_type": "stream",
     "text": [
      "submitting replicate 1 of 6MH8\n"
     ]
    },
    {
     "name": "stderr",
     "output_type": "stream",
     "text": [
      "2021-06-25 19:00:21,411 - htmd.builder.builder - WARNING - Found cis peptide bond in 1 frames: [0] in the omega diheral \"Angle of (LEU 216 CA P P) (LEU 216 C P P) (PRO 217 N P P) (PRO 217 CA P P) \" with indexes [3378, 3393, 3395, 3399]\n",
      "2021-06-25 19:00:22,725 - htmd.protocols.production_v6 - WARNING - Lipids detected in input structure. We highly recommend setting useconstantratio=True for membrane simulations.\n",
      "2021-06-25 19:00:23,597 - jobqueues.slurmqueue - INFO - Queueing /gpcr/users/daranda/doctorat/GPCR_simulations/simulation_output/production/6MH8/rep_1/\n"
     ]
    },
    {
     "name": "stdout",
     "output_type": "stream",
     "text": [
      "submitting replicate 2 of 6MH8\n"
     ]
    },
    {
     "name": "stderr",
     "output_type": "stream",
     "text": [
      "2021-06-25 19:01:00,146 - htmd.builder.builder - WARNING - Found cis peptide bond in 1 frames: [0] in the omega diheral \"Angle of (LEU 216 CA P P) (LEU 216 C P P) (PRO 217 N P P) (PRO 217 CA P P) \" with indexes [3378, 3393, 3395, 3399]\n",
      "2021-06-25 19:01:01,484 - htmd.protocols.production_v6 - WARNING - Lipids detected in input structure. We highly recommend setting useconstantratio=True for membrane simulations.\n",
      "2021-06-25 19:01:01,858 - jobqueues.slurmqueue - INFO - Queueing /gpcr/users/daranda/doctorat/GPCR_simulations/simulation_output/production/6MH8/rep_2/\n"
     ]
    },
    {
     "name": "stdout",
     "output_type": "stream",
     "text": [
      "submitting replicate 3 of 6MH8\n"
     ]
    },
    {
     "name": "stderr",
     "output_type": "stream",
     "text": [
      "2021-06-25 19:01:39,248 - htmd.builder.builder - WARNING - Found cis peptide bond in 1 frames: [0] in the omega diheral \"Angle of (LEU 216 CA P P) (LEU 216 C P P) (PRO 217 N P P) (PRO 217 CA P P) \" with indexes [3378, 3393, 3395, 3399]\n",
      "2021-06-25 19:01:40,604 - htmd.protocols.production_v6 - WARNING - Lipids detected in input structure. We highly recommend setting useconstantratio=True for membrane simulations.\n",
      "2021-06-25 19:01:40,981 - jobqueues.slurmqueue - INFO - Queueing /gpcr/users/daranda/doctorat/GPCR_simulations/simulation_output/production/6MH8/rep_3/\n"
     ]
    },
    {
     "name": "stdout",
     "output_type": "stream",
     "text": [
      "submitting replicate 1 of 5OM4\n"
     ]
    },
    {
     "name": "stderr",
     "output_type": "stream",
     "text": [
      "2021-06-25 19:02:19,599 - htmd.builder.builder - WARNING - Found cis peptide bond in 1 frames: [0] in the omega diheral \"Angle of (LEU 216 CA P P) (LEU 216 C P P) (PRO 217 N P P) (PRO 217 CA P P) \" with indexes [3337, 3352, 3354, 3358]\n",
      "2021-06-25 19:02:21,077 - htmd.protocols.production_v6 - WARNING - Lipids detected in input structure. We highly recommend setting useconstantratio=True for membrane simulations.\n",
      "2021-06-25 19:02:21,848 - jobqueues.slurmqueue - INFO - Queueing /gpcr/users/daranda/doctorat/GPCR_simulations/simulation_output/production/5OM4_apo/rep_1/\n"
     ]
    },
    {
     "name": "stdout",
     "output_type": "stream",
     "text": [
      "submitting replicate 2 of 5OM4\n"
     ]
    },
    {
     "name": "stderr",
     "output_type": "stream",
     "text": [
      "2021-06-25 19:03:00,250 - htmd.builder.builder - WARNING - Found cis peptide bond in 1 frames: [0] in the omega diheral \"Angle of (LEU 216 CA P P) (LEU 216 C P P) (PRO 217 N P P) (PRO 217 CA P P) \" with indexes [3337, 3352, 3354, 3358]\n",
      "2021-06-25 19:03:01,656 - htmd.protocols.production_v6 - WARNING - Lipids detected in input structure. We highly recommend setting useconstantratio=True for membrane simulations.\n",
      "2021-06-25 19:03:01,989 - jobqueues.slurmqueue - INFO - Queueing /gpcr/users/daranda/doctorat/GPCR_simulations/simulation_output/production/5OM4_apo/rep_2/\n"
     ]
    },
    {
     "name": "stdout",
     "output_type": "stream",
     "text": [
      "submitting replicate 3 of 5OM4\n"
     ]
    },
    {
     "name": "stderr",
     "output_type": "stream",
     "text": [
      "2021-06-25 19:03:40,818 - htmd.builder.builder - WARNING - Found cis peptide bond in 1 frames: [0] in the omega diheral \"Angle of (LEU 216 CA P P) (LEU 216 C P P) (PRO 217 N P P) (PRO 217 CA P P) \" with indexes [3337, 3352, 3354, 3358]\n",
      "2021-06-25 19:03:42,288 - htmd.protocols.production_v6 - WARNING - Lipids detected in input structure. We highly recommend setting useconstantratio=True for membrane simulations.\n",
      "2021-06-25 19:03:42,630 - jobqueues.slurmqueue - INFO - Queueing /gpcr/users/daranda/doctorat/GPCR_simulations/simulation_output/production/5OM4_apo/rep_3/\n"
     ]
    },
    {
     "name": "stdout",
     "output_type": "stream",
     "text": [
      "submitting replicate 1 of 5OM4\n"
     ]
    },
    {
     "name": "stderr",
     "output_type": "stream",
     "text": [
      "2021-06-25 19:04:20,517 - htmd.builder.builder - WARNING - Found cis peptide bond in 1 frames: [0] in the omega diheral \"Angle of (LEU 216 CA P P) (LEU 216 C P P) (PRO 217 N P P) (PRO 217 CA P P) \" with indexes [3666, 3681, 3683, 3687]\n",
      "2021-06-25 19:04:21,986 - htmd.protocols.production_v6 - WARNING - Lipids detected in input structure. We highly recommend setting useconstantratio=True for membrane simulations.\n",
      "2021-06-25 19:04:22,850 - jobqueues.slurmqueue - INFO - Queueing /gpcr/users/daranda/doctorat/GPCR_simulations/simulation_output/production/5OM4/rep_1/\n"
     ]
    },
    {
     "name": "stdout",
     "output_type": "stream",
     "text": [
      "submitting replicate 2 of 5OM4\n"
     ]
    },
    {
     "name": "stderr",
     "output_type": "stream",
     "text": [
      "2021-06-25 19:05:01,479 - htmd.builder.builder - WARNING - Found cis peptide bond in 1 frames: [0] in the omega diheral \"Angle of (LEU 216 CA P P) (LEU 216 C P P) (PRO 217 N P P) (PRO 217 CA P P) \" with indexes [3666, 3681, 3683, 3687]\n",
      "2021-06-25 19:05:02,948 - htmd.protocols.production_v6 - WARNING - Lipids detected in input structure. We highly recommend setting useconstantratio=True for membrane simulations.\n",
      "2021-06-25 19:05:03,341 - jobqueues.slurmqueue - INFO - Queueing /gpcr/users/daranda/doctorat/GPCR_simulations/simulation_output/production/5OM4/rep_2/\n"
     ]
    },
    {
     "name": "stdout",
     "output_type": "stream",
     "text": [
      "submitting replicate 3 of 5OM4\n"
     ]
    },
    {
     "name": "stderr",
     "output_type": "stream",
     "text": [
      "2021-06-25 19:05:41,748 - htmd.builder.builder - WARNING - Found cis peptide bond in 1 frames: [0] in the omega diheral \"Angle of (LEU 216 CA P P) (LEU 216 C P P) (PRO 217 N P P) (PRO 217 CA P P) \" with indexes [3666, 3681, 3683, 3687]\n",
      "2021-06-25 19:05:43,223 - htmd.protocols.production_v6 - WARNING - Lipids detected in input structure. We highly recommend setting useconstantratio=True for membrane simulations.\n",
      "2021-06-25 19:05:43,598 - jobqueues.slurmqueue - INFO - Queueing /gpcr/users/daranda/doctorat/GPCR_simulations/simulation_output/production/5OM4/rep_3/\n"
     ]
    },
    {
     "name": "stdout",
     "output_type": "stream",
     "text": [
      "submitting replicate 1 of 3C9L\n"
     ]
    },
    {
     "name": "stderr",
     "output_type": "stream",
     "text": [
      "2021-06-25 19:06:15,741 - htmd.builder.builder - WARNING - Found cis peptide bond in 1 frames: [0] in the omega diheral \"Angle of (CYS 322 CA P P) (CYS 322 C P P) (CYS 323 N P P) (CYS 323 CA P P) \" with indexes [5105, 5112, 5114, 5116]\n",
      "2021-06-25 19:06:16,846 - htmd.protocols.production_v6 - WARNING - Lipids detected in input structure. We highly recommend setting useconstantratio=True for membrane simulations.\n",
      "2021-06-25 19:06:17,527 - jobqueues.slurmqueue - INFO - Queueing /gpcr/users/daranda/doctorat/GPCR_simulations/simulation_output/production/3C9L_apo/rep_1/\n"
     ]
    },
    {
     "name": "stdout",
     "output_type": "stream",
     "text": [
      "submitting replicate 2 of 3C9L\n"
     ]
    },
    {
     "name": "stderr",
     "output_type": "stream",
     "text": [
      "2021-06-25 19:06:48,734 - htmd.builder.builder - WARNING - Found cis peptide bond in 1 frames: [0] in the omega diheral \"Angle of (CYS 322 CA P P) (CYS 322 C P P) (CYS 323 N P P) (CYS 323 CA P P) \" with indexes [5105, 5112, 5114, 5116]\n",
      "2021-06-25 19:06:49,750 - htmd.protocols.production_v6 - WARNING - Lipids detected in input structure. We highly recommend setting useconstantratio=True for membrane simulations.\n",
      "2021-06-25 19:06:50,027 - jobqueues.slurmqueue - INFO - Queueing /gpcr/users/daranda/doctorat/GPCR_simulations/simulation_output/production/3C9L_apo/rep_2/\n"
     ]
    },
    {
     "name": "stdout",
     "output_type": "stream",
     "text": [
      "submitting replicate 3 of 3C9L\n"
     ]
    },
    {
     "name": "stderr",
     "output_type": "stream",
     "text": [
      "2021-06-25 19:07:20,701 - htmd.builder.builder - WARNING - Found cis peptide bond in 1 frames: [0] in the omega diheral \"Angle of (CYS 322 CA P P) (CYS 322 C P P) (CYS 323 N P P) (CYS 323 CA P P) \" with indexes [5105, 5112, 5114, 5116]\n",
      "2021-06-25 19:07:21,797 - htmd.protocols.production_v6 - WARNING - Lipids detected in input structure. We highly recommend setting useconstantratio=True for membrane simulations.\n",
      "2021-06-25 19:07:22,081 - jobqueues.slurmqueue - INFO - Queueing /gpcr/users/daranda/doctorat/GPCR_simulations/simulation_output/production/3C9L_apo/rep_3/\n"
     ]
    },
    {
     "name": "stdout",
     "output_type": "stream",
     "text": [
      "submitting replicate 1 of 3C9L\n"
     ]
    },
    {
     "name": "stderr",
     "output_type": "stream",
     "text": [
      "2021-06-25 19:07:53,399 - htmd.builder.builder - WARNING - Found cis peptide bond in 1 frames: [0] in the omega diheral \"Angle of (CYS 322 CA P P) (CYS 322 C P P) (CYS 323 N P P) (CYS 323 CA P P) \" with indexes [5154, 5161, 5163, 5165]\n",
      "2021-06-25 19:07:54,506 - htmd.protocols.production_v6 - WARNING - Lipids detected in input structure. We highly recommend setting useconstantratio=True for membrane simulations.\n",
      "2021-06-25 19:07:55,169 - jobqueues.slurmqueue - INFO - Queueing /gpcr/users/daranda/doctorat/GPCR_simulations/simulation_output/production/3C9L/rep_1/\n"
     ]
    },
    {
     "name": "stdout",
     "output_type": "stream",
     "text": [
      "submitting replicate 2 of 3C9L\n"
     ]
    },
    {
     "name": "stderr",
     "output_type": "stream",
     "text": [
      "2021-06-25 19:08:26,910 - htmd.builder.builder - WARNING - Found cis peptide bond in 1 frames: [0] in the omega diheral \"Angle of (CYS 322 CA P P) (CYS 322 C P P) (CYS 323 N P P) (CYS 323 CA P P) \" with indexes [5154, 5161, 5163, 5165]\n",
      "2021-06-25 19:08:27,982 - htmd.protocols.production_v6 - WARNING - Lipids detected in input structure. We highly recommend setting useconstantratio=True for membrane simulations.\n",
      "2021-06-25 19:08:28,295 - jobqueues.slurmqueue - INFO - Queueing /gpcr/users/daranda/doctorat/GPCR_simulations/simulation_output/production/3C9L/rep_2/\n"
     ]
    },
    {
     "name": "stdout",
     "output_type": "stream",
     "text": [
      "submitting replicate 3 of 3C9L\n"
     ]
    },
    {
     "name": "stderr",
     "output_type": "stream",
     "text": [
      "2021-06-25 19:08:59,430 - htmd.builder.builder - WARNING - Found cis peptide bond in 1 frames: [0] in the omega diheral \"Angle of (CYS 322 CA P P) (CYS 322 C P P) (CYS 323 N P P) (CYS 323 CA P P) \" with indexes [5154, 5161, 5163, 5165]\n",
      "2021-06-25 19:09:00,537 - htmd.protocols.production_v6 - WARNING - Lipids detected in input structure. We highly recommend setting useconstantratio=True for membrane simulations.\n",
      "2021-06-25 19:09:00,809 - jobqueues.slurmqueue - INFO - Queueing /gpcr/users/daranda/doctorat/GPCR_simulations/simulation_output/production/3C9L/rep_3/\n"
     ]
    },
    {
     "name": "stdout",
     "output_type": "stream",
     "text": [
      "replicate 1 of structure 6TOD already has been simulated\n",
      "replicate 2 of structure 6TOD already has been simulated\n",
      "replicate 3 of structure 6TOD already has been simulated\n",
      "replicate 1 of structure 6TOD already has been simulated\n",
      "replicate 2 of structure 6TOD already has been simulated\n",
      "replicate 3 of structure 6TOD already has been simulated\n",
      "submitting replicate 1 of 6HLP\n"
     ]
    },
    {
     "name": "stderr",
     "output_type": "stream",
     "text": [
      "2021-06-25 19:09:33,086 - htmd.builder.builder - WARNING - Found cis peptide bond in 1 frames: [0] in the omega diheral \"Angle of (MET 174 CA P P) (MET 174 C P P) (PRO 175 N P P) (PRO 175 CA P P) \" with indexes [2438, 2451, 2453, 2457]\n",
      "2021-06-25 19:09:33,088 - htmd.builder.builder - WARNING - Found cis peptide bond in 1 frames: [0] in the omega diheral \"Angle of (ASP 231 CA P P) (ASP 231 C P P) (SER 232 N P P) (SER 232 CA P P) \" with indexes [3373, 3381, 3383, 3385]\n",
      "2021-06-25 19:09:34,245 - htmd.protocols.production_v6 - WARNING - Lipids detected in input structure. We highly recommend setting useconstantratio=True for membrane simulations.\n",
      "2021-06-25 19:09:34,892 - jobqueues.slurmqueue - INFO - Queueing /gpcr/users/daranda/doctorat/GPCR_simulations/simulation_output/production/6HLP_apo/rep_1/\n"
     ]
    },
    {
     "name": "stdout",
     "output_type": "stream",
     "text": [
      "submitting replicate 2 of 6HLP\n"
     ]
    },
    {
     "name": "stderr",
     "output_type": "stream",
     "text": [
      "2021-06-25 19:10:07,313 - htmd.builder.builder - WARNING - Found cis peptide bond in 1 frames: [0] in the omega diheral \"Angle of (MET 174 CA P P) (MET 174 C P P) (PRO 175 N P P) (PRO 175 CA P P) \" with indexes [2438, 2451, 2453, 2457]\n",
      "2021-06-25 19:10:07,315 - htmd.builder.builder - WARNING - Found cis peptide bond in 1 frames: [0] in the omega diheral \"Angle of (ASP 231 CA P P) (ASP 231 C P P) (SER 232 N P P) (SER 232 CA P P) \" with indexes [3373, 3381, 3383, 3385]\n",
      "2021-06-25 19:10:08,488 - htmd.protocols.production_v6 - WARNING - Lipids detected in input structure. We highly recommend setting useconstantratio=True for membrane simulations.\n",
      "2021-06-25 19:10:08,780 - jobqueues.slurmqueue - INFO - Queueing /gpcr/users/daranda/doctorat/GPCR_simulations/simulation_output/production/6HLP_apo/rep_2/\n"
     ]
    },
    {
     "name": "stdout",
     "output_type": "stream",
     "text": [
      "submitting replicate 3 of 6HLP\n"
     ]
    },
    {
     "name": "stderr",
     "output_type": "stream",
     "text": [
      "2021-06-25 19:10:41,002 - htmd.builder.builder - WARNING - Found cis peptide bond in 1 frames: [0] in the omega diheral \"Angle of (MET 174 CA P P) (MET 174 C P P) (PRO 175 N P P) (PRO 175 CA P P) \" with indexes [2438, 2451, 2453, 2457]\n",
      "2021-06-25 19:10:41,004 - htmd.builder.builder - WARNING - Found cis peptide bond in 1 frames: [0] in the omega diheral \"Angle of (ASP 231 CA P P) (ASP 231 C P P) (SER 232 N P P) (SER 232 CA P P) \" with indexes [3373, 3381, 3383, 3385]\n",
      "2021-06-25 19:10:42,177 - htmd.protocols.production_v6 - WARNING - Lipids detected in input structure. We highly recommend setting useconstantratio=True for membrane simulations.\n",
      "2021-06-25 19:10:42,475 - jobqueues.slurmqueue - INFO - Queueing /gpcr/users/daranda/doctorat/GPCR_simulations/simulation_output/production/6HLP_apo/rep_3/\n"
     ]
    },
    {
     "name": "stdout",
     "output_type": "stream",
     "text": [
      "submitting replicate 1 of 6HLP\n"
     ]
    },
    {
     "name": "stderr",
     "output_type": "stream",
     "text": [
      "2021-06-25 19:11:15,345 - htmd.builder.builder - WARNING - Found cis peptide bond in 1 frames: [0] in the omega diheral \"Angle of (MET 174 CA P P) (MET 174 C P P) (PRO 175 N P P) (PRO 175 CA P P) \" with indexes [2513, 2526, 2528, 2532]\n",
      "2021-06-25 19:11:15,347 - htmd.builder.builder - WARNING - Found cis peptide bond in 1 frames: [0] in the omega diheral \"Angle of (ASP 231 CA P P) (ASP 231 C P P) (SER 232 N P P) (SER 232 CA P P) \" with indexes [3448, 3456, 3458, 3460]\n",
      "2021-06-25 19:11:16,470 - htmd.protocols.production_v6 - WARNING - Lipids detected in input structure. We highly recommend setting useconstantratio=True for membrane simulations.\n",
      "2021-06-25 19:11:17,158 - jobqueues.slurmqueue - INFO - Queueing /gpcr/users/daranda/doctorat/GPCR_simulations/simulation_output/production/6HLP/rep_1/\n"
     ]
    },
    {
     "name": "stdout",
     "output_type": "stream",
     "text": [
      "submitting replicate 2 of 6HLP\n"
     ]
    },
    {
     "name": "stderr",
     "output_type": "stream",
     "text": [
      "2021-06-25 19:11:49,052 - htmd.builder.builder - WARNING - Found cis peptide bond in 1 frames: [0] in the omega diheral \"Angle of (MET 174 CA P P) (MET 174 C P P) (PRO 175 N P P) (PRO 175 CA P P) \" with indexes [2513, 2526, 2528, 2532]\n",
      "2021-06-25 19:11:49,054 - htmd.builder.builder - WARNING - Found cis peptide bond in 1 frames: [0] in the omega diheral \"Angle of (ASP 231 CA P P) (ASP 231 C P P) (SER 232 N P P) (SER 232 CA P P) \" with indexes [3448, 3456, 3458, 3460]\n",
      "2021-06-25 19:11:50,234 - htmd.protocols.production_v6 - WARNING - Lipids detected in input structure. We highly recommend setting useconstantratio=True for membrane simulations.\n",
      "2021-06-25 19:11:50,563 - jobqueues.slurmqueue - INFO - Queueing /gpcr/users/daranda/doctorat/GPCR_simulations/simulation_output/production/6HLP/rep_2/\n"
     ]
    },
    {
     "name": "stdout",
     "output_type": "stream",
     "text": [
      "submitting replicate 3 of 6HLP\n"
     ]
    },
    {
     "name": "stderr",
     "output_type": "stream",
     "text": [
      "2021-06-25 19:12:22,707 - htmd.builder.builder - WARNING - Found cis peptide bond in 1 frames: [0] in the omega diheral \"Angle of (MET 174 CA P P) (MET 174 C P P) (PRO 175 N P P) (PRO 175 CA P P) \" with indexes [2513, 2526, 2528, 2532]\n",
      "2021-06-25 19:12:22,709 - htmd.builder.builder - WARNING - Found cis peptide bond in 1 frames: [0] in the omega diheral \"Angle of (ASP 231 CA P P) (ASP 231 C P P) (SER 232 N P P) (SER 232 CA P P) \" with indexes [3448, 3456, 3458, 3460]\n",
      "2021-06-25 19:12:23,893 - htmd.protocols.production_v6 - WARNING - Lipids detected in input structure. We highly recommend setting useconstantratio=True for membrane simulations.\n",
      "2021-06-25 19:12:24,207 - jobqueues.slurmqueue - INFO - Queueing /gpcr/users/daranda/doctorat/GPCR_simulations/simulation_output/production/6HLP/rep_3/\n"
     ]
    },
    {
     "name": "stdout",
     "output_type": "stream",
     "text": [
      "submitting replicate 1 of 5YC8\n"
     ]
    },
    {
     "name": "stderr",
     "output_type": "stream",
     "text": [
      "2021-06-25 19:12:35,507 - moleculekit.readers - WARNING - Non-integer values were read from the PDB \"serial\" field. Dropping PDB values and assigning new ones.\n",
      "2021-06-25 19:12:35,660 - moleculekit.readers - WARNING - Reading PDB file with more than 99999 atoms. Bond information can be wrong.\n",
      "2021-06-25 19:13:14,820 - htmd.protocols.production_v6 - WARNING - Lipids detected in input structure. We highly recommend setting useconstantratio=True for membrane simulations.\n",
      "2021-06-25 19:13:15,652 - jobqueues.slurmqueue - INFO - Queueing /gpcr/users/daranda/doctorat/GPCR_simulations/simulation_output/production/5YC8_apo/rep_1/\n"
     ]
    },
    {
     "name": "stdout",
     "output_type": "stream",
     "text": [
      "submitting replicate 2 of 5YC8\n"
     ]
    },
    {
     "name": "stderr",
     "output_type": "stream",
     "text": [
      "2021-06-25 19:13:26,615 - moleculekit.readers - WARNING - Non-integer values were read from the PDB \"serial\" field. Dropping PDB values and assigning new ones.\n",
      "2021-06-25 19:13:26,771 - moleculekit.readers - WARNING - Reading PDB file with more than 99999 atoms. Bond information can be wrong.\n",
      "2021-06-25 19:14:10,466 - htmd.protocols.production_v6 - WARNING - Lipids detected in input structure. We highly recommend setting useconstantratio=True for membrane simulations.\n",
      "2021-06-25 19:14:10,885 - jobqueues.slurmqueue - INFO - Queueing /gpcr/users/daranda/doctorat/GPCR_simulations/simulation_output/production/5YC8_apo/rep_2/\n"
     ]
    },
    {
     "name": "stdout",
     "output_type": "stream",
     "text": [
      "submitting replicate 3 of 5YC8\n"
     ]
    },
    {
     "name": "stderr",
     "output_type": "stream",
     "text": [
      "2021-06-25 19:14:22,017 - moleculekit.readers - WARNING - Non-integer values were read from the PDB \"serial\" field. Dropping PDB values and assigning new ones.\n",
      "2021-06-25 19:14:22,174 - moleculekit.readers - WARNING - Reading PDB file with more than 99999 atoms. Bond information can be wrong.\n",
      "2021-06-25 19:15:01,996 - htmd.protocols.production_v6 - WARNING - Lipids detected in input structure. We highly recommend setting useconstantratio=True for membrane simulations.\n",
      "2021-06-25 19:15:02,400 - jobqueues.slurmqueue - INFO - Queueing /gpcr/users/daranda/doctorat/GPCR_simulations/simulation_output/production/5YC8_apo/rep_3/\n"
     ]
    },
    {
     "name": "stdout",
     "output_type": "stream",
     "text": [
      "submitting replicate 1 of 5YC8\n"
     ]
    },
    {
     "name": "stderr",
     "output_type": "stream",
     "text": [
      "2021-06-25 19:15:13,735 - moleculekit.readers - WARNING - Non-integer values were read from the PDB \"serial\" field. Dropping PDB values and assigning new ones.\n",
      "2021-06-25 19:15:13,891 - moleculekit.readers - WARNING - Reading PDB file with more than 99999 atoms. Bond information can be wrong.\n",
      "2021-06-25 19:15:56,725 - htmd.protocols.production_v6 - WARNING - Lipids detected in input structure. We highly recommend setting useconstantratio=True for membrane simulations.\n",
      "2021-06-25 19:15:57,633 - jobqueues.slurmqueue - INFO - Queueing /gpcr/users/daranda/doctorat/GPCR_simulations/simulation_output/production/5YC8/rep_1/\n"
     ]
    },
    {
     "name": "stdout",
     "output_type": "stream",
     "text": [
      "submitting replicate 2 of 5YC8\n"
     ]
    },
    {
     "name": "stderr",
     "output_type": "stream",
     "text": [
      "2021-06-25 19:16:08,818 - moleculekit.readers - WARNING - Non-integer values were read from the PDB \"serial\" field. Dropping PDB values and assigning new ones.\n",
      "2021-06-25 19:16:08,972 - moleculekit.readers - WARNING - Reading PDB file with more than 99999 atoms. Bond information can be wrong.\n",
      "2021-06-25 19:16:53,592 - htmd.protocols.production_v6 - WARNING - Lipids detected in input structure. We highly recommend setting useconstantratio=True for membrane simulations.\n",
      "2021-06-25 19:16:54,053 - jobqueues.slurmqueue - INFO - Queueing /gpcr/users/daranda/doctorat/GPCR_simulations/simulation_output/production/5YC8/rep_2/\n"
     ]
    },
    {
     "name": "stdout",
     "output_type": "stream",
     "text": [
      "submitting replicate 3 of 5YC8\n"
     ]
    },
    {
     "name": "stderr",
     "output_type": "stream",
     "text": [
      "2021-06-25 19:17:05,049 - moleculekit.readers - WARNING - Non-integer values were read from the PDB \"serial\" field. Dropping PDB values and assigning new ones.\n",
      "2021-06-25 19:17:05,203 - moleculekit.readers - WARNING - Reading PDB file with more than 99999 atoms. Bond information can be wrong.\n",
      "2021-06-25 19:17:49,772 - htmd.protocols.production_v6 - WARNING - Lipids detected in input structure. We highly recommend setting useconstantratio=True for membrane simulations.\n",
      "2021-06-25 19:17:50,218 - jobqueues.slurmqueue - INFO - Queueing /gpcr/users/daranda/doctorat/GPCR_simulations/simulation_output/production/5YC8/rep_3/\n"
     ]
    },
    {
     "name": "stdout",
     "output_type": "stream",
     "text": [
      "submitting replicate 1 of 5V54\n"
     ]
    },
    {
     "name": "stderr",
     "output_type": "stream",
     "text": [
      "2021-06-25 19:18:25,690 - htmd.builder.builder - WARNING - Found cis peptide bond in 1 frames: [0] in the omega diheral \"Angle of (TRP 187 CA P0 P) (TRP 187 C P0 P) (ARG 188 N P0 P) (ARG 188 CA P0 P) \" with indexes [2404, 2424, 2426, 2428]\n",
      "2021-06-25 19:18:26,881 - htmd.protocols.production_v6 - WARNING - Lipids detected in input structure. We highly recommend setting useconstantratio=True for membrane simulations.\n",
      "2021-06-25 19:18:27,573 - jobqueues.slurmqueue - INFO - Queueing /gpcr/users/daranda/doctorat/GPCR_simulations/simulation_output/production/5V54_apo/rep_1/\n"
     ]
    },
    {
     "name": "stdout",
     "output_type": "stream",
     "text": [
      "submitting replicate 2 of 5V54\n"
     ]
    },
    {
     "name": "stderr",
     "output_type": "stream",
     "text": [
      "2021-06-25 19:18:59,119 - htmd.builder.builder - WARNING - Found cis peptide bond in 1 frames: [0] in the omega diheral \"Angle of (TRP 187 CA P0 P) (TRP 187 C P0 P) (ARG 188 N P0 P) (ARG 188 CA P0 P) \" with indexes [2404, 2424, 2426, 2428]\n",
      "2021-06-25 19:19:00,296 - htmd.protocols.production_v6 - WARNING - Lipids detected in input structure. We highly recommend setting useconstantratio=True for membrane simulations.\n",
      "2021-06-25 19:19:00,583 - jobqueues.slurmqueue - INFO - Queueing /gpcr/users/daranda/doctorat/GPCR_simulations/simulation_output/production/5V54_apo/rep_2/\n"
     ]
    },
    {
     "name": "stdout",
     "output_type": "stream",
     "text": [
      "submitting replicate 3 of 5V54\n"
     ]
    },
    {
     "name": "stderr",
     "output_type": "stream",
     "text": [
      "2021-06-25 19:19:31,513 - htmd.builder.builder - WARNING - Found cis peptide bond in 1 frames: [0] in the omega diheral \"Angle of (TRP 187 CA P0 P) (TRP 187 C P0 P) (ARG 188 N P0 P) (ARG 188 CA P0 P) \" with indexes [2404, 2424, 2426, 2428]\n",
      "2021-06-25 19:19:32,684 - htmd.protocols.production_v6 - WARNING - Lipids detected in input structure. We highly recommend setting useconstantratio=True for membrane simulations.\n",
      "2021-06-25 19:19:32,980 - jobqueues.slurmqueue - INFO - Queueing /gpcr/users/daranda/doctorat/GPCR_simulations/simulation_output/production/5V54_apo/rep_3/\n"
     ]
    },
    {
     "name": "stdout",
     "output_type": "stream",
     "text": [
      "submitting replicate 1 of 5V54\n"
     ]
    },
    {
     "name": "stderr",
     "output_type": "stream",
     "text": [
      "2021-06-25 19:20:10,217 - htmd.builder.builder - WARNING - Found cis peptide bond in 1 frames: [0] in the omega diheral \"Angle of (TRP 187 CA P0 P) (TRP 187 C P0 P) (ARG 188 N P0 P) (ARG 188 CA P0 P) \" with indexes [2457, 2477, 2479, 2481]\n",
      "2021-06-25 19:20:11,391 - htmd.protocols.production_v6 - WARNING - Lipids detected in input structure. We highly recommend setting useconstantratio=True for membrane simulations.\n",
      "2021-06-25 19:20:12,092 - jobqueues.slurmqueue - INFO - Queueing /gpcr/users/daranda/doctorat/GPCR_simulations/simulation_output/production/5V54/rep_1/\n"
     ]
    },
    {
     "name": "stdout",
     "output_type": "stream",
     "text": [
      "submitting replicate 2 of 5V54\n"
     ]
    },
    {
     "name": "stderr",
     "output_type": "stream",
     "text": [
      "2021-06-25 19:20:44,188 - htmd.builder.builder - WARNING - Found cis peptide bond in 1 frames: [0] in the omega diheral \"Angle of (TRP 187 CA P0 P) (TRP 187 C P0 P) (ARG 188 N P0 P) (ARG 188 CA P0 P) \" with indexes [2457, 2477, 2479, 2481]\n",
      "2021-06-25 19:20:45,355 - htmd.protocols.production_v6 - WARNING - Lipids detected in input structure. We highly recommend setting useconstantratio=True for membrane simulations.\n",
      "2021-06-25 19:20:45,692 - jobqueues.slurmqueue - INFO - Queueing /gpcr/users/daranda/doctorat/GPCR_simulations/simulation_output/production/5V54/rep_2/\n"
     ]
    },
    {
     "name": "stdout",
     "output_type": "stream",
     "text": [
      "submitting replicate 3 of 5V54\n"
     ]
    },
    {
     "name": "stderr",
     "output_type": "stream",
     "text": [
      "2021-06-25 19:21:16,575 - htmd.builder.builder - WARNING - Found cis peptide bond in 1 frames: [0] in the omega diheral \"Angle of (TRP 187 CA P0 P) (TRP 187 C P0 P) (ARG 188 N P0 P) (ARG 188 CA P0 P) \" with indexes [2457, 2477, 2479, 2481]\n",
      "2021-06-25 19:21:17,745 - htmd.protocols.production_v6 - WARNING - Lipids detected in input structure. We highly recommend setting useconstantratio=True for membrane simulations.\n",
      "2021-06-25 19:21:18,068 - jobqueues.slurmqueue - INFO - Queueing /gpcr/users/daranda/doctorat/GPCR_simulations/simulation_output/production/5V54/rep_3/\n"
     ]
    },
    {
     "name": "stdout",
     "output_type": "stream",
     "text": [
      "submitting replicate 1 of 5TZR\n"
     ]
    },
    {
     "name": "stderr",
     "output_type": "stream",
     "text": [
      "2021-06-25 19:21:51,646 - htmd.protocols.production_v6 - WARNING - Lipids detected in input structure. We highly recommend setting useconstantratio=True for membrane simulations.\n",
      "2021-06-25 19:21:52,333 - jobqueues.slurmqueue - INFO - Queueing /gpcr/users/daranda/doctorat/GPCR_simulations/simulation_output/production/5TZR_apo/rep_1/\n"
     ]
    },
    {
     "name": "stdout",
     "output_type": "stream",
     "text": [
      "submitting replicate 2 of 5TZR\n"
     ]
    },
    {
     "name": "stderr",
     "output_type": "stream",
     "text": [
      "2021-06-25 19:22:20,313 - htmd.protocols.production_v6 - WARNING - Lipids detected in input structure. We highly recommend setting useconstantratio=True for membrane simulations.\n",
      "2021-06-25 19:22:20,575 - jobqueues.slurmqueue - INFO - Queueing /gpcr/users/daranda/doctorat/GPCR_simulations/simulation_output/production/5TZR_apo/rep_2/\n"
     ]
    },
    {
     "name": "stdout",
     "output_type": "stream",
     "text": [
      "submitting replicate 3 of 5TZR\n"
     ]
    },
    {
     "name": "stderr",
     "output_type": "stream",
     "text": [
      "2021-06-25 19:22:49,138 - htmd.protocols.production_v6 - WARNING - Lipids detected in input structure. We highly recommend setting useconstantratio=True for membrane simulations.\n",
      "2021-06-25 19:22:49,411 - jobqueues.slurmqueue - INFO - Queueing /gpcr/users/daranda/doctorat/GPCR_simulations/simulation_output/production/5TZR_apo/rep_3/\n"
     ]
    },
    {
     "name": "stdout",
     "output_type": "stream",
     "text": [
      "submitting replicate 1 of 5TZR\n"
     ]
    },
    {
     "name": "stderr",
     "output_type": "stream",
     "text": [
      "2021-06-25 19:23:17,048 - htmd.protocols.production_v6 - WARNING - Lipids detected in input structure. We highly recommend setting useconstantratio=True for membrane simulations.\n",
      "2021-06-25 19:23:17,789 - jobqueues.slurmqueue - INFO - Queueing /gpcr/users/daranda/doctorat/GPCR_simulations/simulation_output/production/5TZR/rep_1/\n"
     ]
    },
    {
     "name": "stdout",
     "output_type": "stream",
     "text": [
      "submitting replicate 2 of 5TZR\n"
     ]
    },
    {
     "name": "stderr",
     "output_type": "stream",
     "text": [
      "2021-06-25 19:23:46,068 - htmd.protocols.production_v6 - WARNING - Lipids detected in input structure. We highly recommend setting useconstantratio=True for membrane simulations.\n",
      "2021-06-25 19:23:46,352 - jobqueues.slurmqueue - INFO - Queueing /gpcr/users/daranda/doctorat/GPCR_simulations/simulation_output/production/5TZR/rep_2/\n"
     ]
    },
    {
     "name": "stdout",
     "output_type": "stream",
     "text": [
      "submitting replicate 3 of 5TZR\n"
     ]
    },
    {
     "name": "stderr",
     "output_type": "stream",
     "text": [
      "2021-06-25 19:24:13,208 - htmd.protocols.production_v6 - WARNING - Lipids detected in input structure. We highly recommend setting useconstantratio=True for membrane simulations.\n",
      "2021-06-25 19:24:13,501 - jobqueues.slurmqueue - INFO - Queueing /gpcr/users/daranda/doctorat/GPCR_simulations/simulation_output/production/5TZR/rep_3/\n"
     ]
    },
    {
     "name": "stdout",
     "output_type": "stream",
     "text": [
      "submitting replicate 1 of 6FK9\n"
     ]
    },
    {
     "name": "stderr",
     "output_type": "stream",
     "text": [
      "2021-06-25 19:24:45,925 - htmd.protocols.production_v6 - WARNING - Lipids detected in input structure. We highly recommend setting useconstantratio=True for membrane simulations.\n",
      "2021-06-25 19:24:46,695 - jobqueues.slurmqueue - INFO - Queueing /gpcr/users/daranda/doctorat/GPCR_simulations/simulation_output/production/6FK9_apo/rep_1/\n"
     ]
    },
    {
     "name": "stdout",
     "output_type": "stream",
     "text": [
      "submitting replicate 2 of 6FK9\n"
     ]
    },
    {
     "name": "stderr",
     "output_type": "stream",
     "text": [
      "2021-06-25 19:25:20,129 - htmd.protocols.production_v6 - WARNING - Lipids detected in input structure. We highly recommend setting useconstantratio=True for membrane simulations.\n",
      "2021-06-25 19:25:20,406 - jobqueues.slurmqueue - INFO - Queueing /gpcr/users/daranda/doctorat/GPCR_simulations/simulation_output/production/6FK9_apo/rep_2/\n"
     ]
    },
    {
     "name": "stdout",
     "output_type": "stream",
     "text": [
      "submitting replicate 3 of 6FK9\n"
     ]
    },
    {
     "name": "stderr",
     "output_type": "stream",
     "text": [
      "2021-06-25 19:25:51,984 - htmd.protocols.production_v6 - WARNING - Lipids detected in input structure. We highly recommend setting useconstantratio=True for membrane simulations.\n",
      "2021-06-25 19:25:52,264 - jobqueues.slurmqueue - INFO - Queueing /gpcr/users/daranda/doctorat/GPCR_simulations/simulation_output/production/6FK9_apo/rep_3/\n"
     ]
    },
    {
     "name": "stdout",
     "output_type": "stream",
     "text": [
      "submitting replicate 1 of 6FK9\n"
     ]
    },
    {
     "name": "stderr",
     "output_type": "stream",
     "text": [
      "2021-06-25 19:26:25,628 - htmd.protocols.production_v6 - WARNING - Lipids detected in input structure. We highly recommend setting useconstantratio=True for membrane simulations.\n",
      "2021-06-25 19:26:26,356 - jobqueues.slurmqueue - INFO - Queueing /gpcr/users/daranda/doctorat/GPCR_simulations/simulation_output/production/6FK9/rep_1/\n"
     ]
    },
    {
     "name": "stdout",
     "output_type": "stream",
     "text": [
      "submitting replicate 2 of 6FK9\n"
     ]
    },
    {
     "name": "stderr",
     "output_type": "stream",
     "text": [
      "2021-06-25 19:26:58,085 - htmd.protocols.production_v6 - WARNING - Lipids detected in input structure. We highly recommend setting useconstantratio=True for membrane simulations.\n",
      "2021-06-25 19:26:58,398 - jobqueues.slurmqueue - INFO - Queueing /gpcr/users/daranda/doctorat/GPCR_simulations/simulation_output/production/6FK9/rep_2/\n"
     ]
    },
    {
     "name": "stdout",
     "output_type": "stream",
     "text": [
      "submitting replicate 3 of 6FK9\n"
     ]
    },
    {
     "name": "stderr",
     "output_type": "stream",
     "text": [
      "2021-06-25 19:27:31,781 - htmd.protocols.production_v6 - WARNING - Lipids detected in input structure. We highly recommend setting useconstantratio=True for membrane simulations.\n",
      "2021-06-25 19:27:32,086 - jobqueues.slurmqueue - INFO - Queueing /gpcr/users/daranda/doctorat/GPCR_simulations/simulation_output/production/6FK9/rep_3/\n"
     ]
    },
    {
     "name": "stdout",
     "output_type": "stream",
     "text": [
      "submitting replicate 1 of 4XT3\n"
     ]
    },
    {
     "name": "stderr",
     "output_type": "stream",
     "text": [
      "2021-06-25 19:28:04,703 - htmd.protocols.production_v6 - WARNING - Lipids detected in input structure. We highly recommend setting useconstantratio=True for membrane simulations.\n",
      "2021-06-25 19:28:05,338 - jobqueues.slurmqueue - INFO - Queueing /gpcr/users/daranda/doctorat/GPCR_simulations/simulation_output/production/4XT3_apo/rep_1/\n"
     ]
    },
    {
     "name": "stdout",
     "output_type": "stream",
     "text": [
      "submitting replicate 2 of 4XT3\n"
     ]
    },
    {
     "name": "stderr",
     "output_type": "stream",
     "text": [
      "2021-06-25 19:28:37,752 - htmd.protocols.production_v6 - WARNING - Lipids detected in input structure. We highly recommend setting useconstantratio=True for membrane simulations.\n",
      "2021-06-25 19:28:38,037 - jobqueues.slurmqueue - INFO - Queueing /gpcr/users/daranda/doctorat/GPCR_simulations/simulation_output/production/4XT3_apo/rep_2/\n"
     ]
    },
    {
     "name": "stdout",
     "output_type": "stream",
     "text": [
      "submitting replicate 3 of 4XT3\n"
     ]
    },
    {
     "name": "stderr",
     "output_type": "stream",
     "text": [
      "2021-06-25 19:29:10,252 - htmd.protocols.production_v6 - WARNING - Lipids detected in input structure. We highly recommend setting useconstantratio=True for membrane simulations.\n",
      "2021-06-25 19:29:10,535 - jobqueues.slurmqueue - INFO - Queueing /gpcr/users/daranda/doctorat/GPCR_simulations/simulation_output/production/4XT3_apo/rep_3/\n"
     ]
    },
    {
     "name": "stdout",
     "output_type": "stream",
     "text": [
      "submitting replicate 1 of 4XT3\n"
     ]
    },
    {
     "name": "stderr",
     "output_type": "stream",
     "text": [
      "2021-06-25 19:29:47,207 - htmd.builder.builder - WARNING - Found cis peptide bond in 1 frames: [0] in the omega diheral \"Angle of (ILE 19 CA L P) (ILE 19 C L P) (PRO 20 N L P) (PRO 20 CA L P) \" with indexes [5082, 5097, 5099, 5103]\n",
      "2021-06-25 19:29:48,356 - htmd.protocols.production_v6 - WARNING - Lipids detected in input structure. We highly recommend setting useconstantratio=True for membrane simulations.\n",
      "2021-06-25 19:29:49,109 - jobqueues.slurmqueue - INFO - Queueing /gpcr/users/daranda/doctorat/GPCR_simulations/simulation_output/production/4XT3/rep_1/\n"
     ]
    },
    {
     "name": "stdout",
     "output_type": "stream",
     "text": [
      "submitting replicate 2 of 4XT3\n"
     ]
    },
    {
     "name": "stderr",
     "output_type": "stream",
     "text": [
      "2021-06-25 19:30:26,997 - htmd.builder.builder - WARNING - Found cis peptide bond in 1 frames: [0] in the omega diheral \"Angle of (ILE 19 CA L P) (ILE 19 C L P) (PRO 20 N L P) (PRO 20 CA L P) \" with indexes [5082, 5097, 5099, 5103]\n",
      "2021-06-25 19:30:28,254 - htmd.protocols.production_v6 - WARNING - Lipids detected in input structure. We highly recommend setting useconstantratio=True for membrane simulations.\n",
      "2021-06-25 19:30:28,599 - jobqueues.slurmqueue - INFO - Queueing /gpcr/users/daranda/doctorat/GPCR_simulations/simulation_output/production/4XT3/rep_2/\n"
     ]
    },
    {
     "name": "stdout",
     "output_type": "stream",
     "text": [
      "submitting replicate 3 of 4XT3\n"
     ]
    },
    {
     "name": "stderr",
     "output_type": "stream",
     "text": [
      "2021-06-25 19:31:06,007 - htmd.builder.builder - WARNING - Found cis peptide bond in 1 frames: [0] in the omega diheral \"Angle of (ILE 19 CA L P) (ILE 19 C L P) (PRO 20 N L P) (PRO 20 CA L P) \" with indexes [5082, 5097, 5099, 5103]\n",
      "2021-06-25 19:31:07,249 - htmd.protocols.production_v6 - WARNING - Lipids detected in input structure. We highly recommend setting useconstantratio=True for membrane simulations.\n",
      "2021-06-25 19:31:07,602 - jobqueues.slurmqueue - INFO - Queueing /gpcr/users/daranda/doctorat/GPCR_simulations/simulation_output/production/4XT3/rep_3/\n"
     ]
    },
    {
     "name": "stdout",
     "output_type": "stream",
     "text": [
      "submitting replicate 1 of 6ME9\n"
     ]
    },
    {
     "name": "stderr",
     "output_type": "stream",
     "text": [
      "2021-06-25 19:31:36,025 - htmd.protocols.production_v6 - WARNING - Lipids detected in input structure. We highly recommend setting useconstantratio=True for membrane simulations.\n",
      "2021-06-25 19:31:36,933 - jobqueues.slurmqueue - INFO - Queueing /gpcr/users/daranda/doctorat/GPCR_simulations/simulation_output/production/6ME9_apo/rep_1/\n"
     ]
    },
    {
     "name": "stdout",
     "output_type": "stream",
     "text": [
      "submitting replicate 2 of 6ME9\n"
     ]
    },
    {
     "name": "stderr",
     "output_type": "stream",
     "text": [
      "2021-06-25 19:32:10,688 - htmd.protocols.production_v6 - WARNING - Lipids detected in input structure. We highly recommend setting useconstantratio=True for membrane simulations.\n",
      "2021-06-25 19:32:10,953 - jobqueues.slurmqueue - INFO - Queueing /gpcr/users/daranda/doctorat/GPCR_simulations/simulation_output/production/6ME9_apo/rep_2/\n"
     ]
    },
    {
     "name": "stdout",
     "output_type": "stream",
     "text": [
      "submitting replicate 3 of 6ME9\n"
     ]
    },
    {
     "name": "stderr",
     "output_type": "stream",
     "text": [
      "2021-06-25 19:32:40,294 - htmd.protocols.production_v6 - WARNING - Lipids detected in input structure. We highly recommend setting useconstantratio=True for membrane simulations.\n",
      "2021-06-25 19:32:40,559 - jobqueues.slurmqueue - INFO - Queueing /gpcr/users/daranda/doctorat/GPCR_simulations/simulation_output/production/6ME9_apo/rep_3/\n"
     ]
    },
    {
     "name": "stdout",
     "output_type": "stream",
     "text": [
      "submitting replicate 1 of 6ME9\n"
     ]
    },
    {
     "name": "stderr",
     "output_type": "stream",
     "text": [
      "2021-06-25 19:33:08,774 - htmd.protocols.production_v6 - WARNING - Lipids detected in input structure. We highly recommend setting useconstantratio=True for membrane simulations.\n",
      "2021-06-25 19:33:09,459 - jobqueues.slurmqueue - INFO - Queueing /gpcr/users/daranda/doctorat/GPCR_simulations/simulation_output/production/6ME9/rep_1/\n"
     ]
    },
    {
     "name": "stdout",
     "output_type": "stream",
     "text": [
      "submitting replicate 2 of 6ME9\n"
     ]
    },
    {
     "name": "stderr",
     "output_type": "stream",
     "text": [
      "2021-06-25 19:33:37,776 - htmd.protocols.production_v6 - WARNING - Lipids detected in input structure. We highly recommend setting useconstantratio=True for membrane simulations.\n",
      "2021-06-25 19:33:38,074 - jobqueues.slurmqueue - INFO - Queueing /gpcr/users/daranda/doctorat/GPCR_simulations/simulation_output/production/6ME9/rep_2/\n"
     ]
    },
    {
     "name": "stdout",
     "output_type": "stream",
     "text": [
      "submitting replicate 3 of 6ME9\n"
     ]
    },
    {
     "name": "stderr",
     "output_type": "stream",
     "text": [
      "2021-06-25 19:34:06,183 - htmd.protocols.production_v6 - WARNING - Lipids detected in input structure. We highly recommend setting useconstantratio=True for membrane simulations.\n",
      "2021-06-25 19:34:06,507 - jobqueues.slurmqueue - INFO - Queueing /gpcr/users/daranda/doctorat/GPCR_simulations/simulation_output/production/6ME9/rep_3/\n"
     ]
    },
    {
     "name": "stdout",
     "output_type": "stream",
     "text": [
      "submitting replicate 1 of 2Z73\n"
     ]
    },
    {
     "name": "stderr",
     "output_type": "stream",
     "text": [
      "2021-06-25 19:34:41,303 - htmd.builder.builder - WARNING - Found cis peptide bond in 1 frames: [0] in the omega diheral \"Angle of (PHE 89 CA P P) (PHE 89 C P P) (PRO 90 N P P) (PRO 90 CA P P) \" with indexes [1263, 1279, 1281, 1285]\n",
      "2021-06-25 19:34:42,550 - htmd.protocols.production_v6 - WARNING - Lipids detected in input structure. We highly recommend setting useconstantratio=True for membrane simulations.\n",
      "2021-06-25 19:34:43,256 - jobqueues.slurmqueue - INFO - Queueing /gpcr/users/daranda/doctorat/GPCR_simulations/simulation_output/production/2Z73_apo/rep_1/\n"
     ]
    },
    {
     "name": "stdout",
     "output_type": "stream",
     "text": [
      "submitting replicate 2 of 2Z73\n"
     ]
    },
    {
     "name": "stderr",
     "output_type": "stream",
     "text": [
      "2021-06-25 19:35:18,431 - htmd.builder.builder - WARNING - Found cis peptide bond in 1 frames: [0] in the omega diheral \"Angle of (PHE 89 CA P P) (PHE 89 C P P) (PRO 90 N P P) (PRO 90 CA P P) \" with indexes [1263, 1279, 1281, 1285]\n",
      "2021-06-25 19:35:19,659 - htmd.protocols.production_v6 - WARNING - Lipids detected in input structure. We highly recommend setting useconstantratio=True for membrane simulations.\n",
      "2021-06-25 19:35:19,975 - jobqueues.slurmqueue - INFO - Queueing /gpcr/users/daranda/doctorat/GPCR_simulations/simulation_output/production/2Z73_apo/rep_2/\n"
     ]
    },
    {
     "name": "stdout",
     "output_type": "stream",
     "text": [
      "submitting replicate 3 of 2Z73\n"
     ]
    },
    {
     "name": "stderr",
     "output_type": "stream",
     "text": [
      "2021-06-25 19:35:54,148 - htmd.builder.builder - WARNING - Found cis peptide bond in 1 frames: [0] in the omega diheral \"Angle of (PHE 89 CA P P) (PHE 89 C P P) (PRO 90 N P P) (PRO 90 CA P P) \" with indexes [1263, 1279, 1281, 1285]\n",
      "2021-06-25 19:35:55,382 - htmd.protocols.production_v6 - WARNING - Lipids detected in input structure. We highly recommend setting useconstantratio=True for membrane simulations.\n",
      "2021-06-25 19:35:55,687 - jobqueues.slurmqueue - INFO - Queueing /gpcr/users/daranda/doctorat/GPCR_simulations/simulation_output/production/2Z73_apo/rep_3/\n"
     ]
    },
    {
     "name": "stdout",
     "output_type": "stream",
     "text": [
      "submitting replicate 1 of 2Z73\n"
     ]
    },
    {
     "name": "stderr",
     "output_type": "stream",
     "text": [
      "2021-06-25 19:36:30,175 - htmd.builder.builder - WARNING - Found cis peptide bond in 1 frames: [0] in the omega diheral \"Angle of (PHE 89 CA P P) (PHE 89 C P P) (PRO 90 N P P) (PRO 90 CA P P) \" with indexes [1263, 1279, 1281, 1285]\n",
      "2021-06-25 19:36:31,414 - htmd.protocols.production_v6 - WARNING - Lipids detected in input structure. We highly recommend setting useconstantratio=True for membrane simulations.\n",
      "2021-06-25 19:36:32,092 - jobqueues.slurmqueue - INFO - Queueing /gpcr/users/daranda/doctorat/GPCR_simulations/simulation_output/production/2Z73/rep_1/\n"
     ]
    },
    {
     "name": "stdout",
     "output_type": "stream",
     "text": [
      "submitting replicate 2 of 2Z73\n"
     ]
    },
    {
     "name": "stderr",
     "output_type": "stream",
     "text": [
      "2021-06-25 19:37:07,857 - htmd.builder.builder - WARNING - Found cis peptide bond in 1 frames: [0] in the omega diheral \"Angle of (PHE 89 CA P P) (PHE 89 C P P) (PRO 90 N P P) (PRO 90 CA P P) \" with indexes [1263, 1279, 1281, 1285]\n",
      "2021-06-25 19:37:09,097 - htmd.protocols.production_v6 - WARNING - Lipids detected in input structure. We highly recommend setting useconstantratio=True for membrane simulations.\n",
      "2021-06-25 19:37:09,424 - jobqueues.slurmqueue - INFO - Queueing /gpcr/users/daranda/doctorat/GPCR_simulations/simulation_output/production/2Z73/rep_2/\n"
     ]
    },
    {
     "name": "stdout",
     "output_type": "stream",
     "text": [
      "submitting replicate 3 of 2Z73\n"
     ]
    },
    {
     "name": "stderr",
     "output_type": "stream",
     "text": [
      "2021-06-25 19:37:45,008 - htmd.builder.builder - WARNING - Found cis peptide bond in 1 frames: [0] in the omega diheral \"Angle of (PHE 89 CA P P) (PHE 89 C P P) (PRO 90 N P P) (PRO 90 CA P P) \" with indexes [1263, 1279, 1281, 1285]\n",
      "2021-06-25 19:37:46,246 - htmd.protocols.production_v6 - WARNING - Lipids detected in input structure. We highly recommend setting useconstantratio=True for membrane simulations.\n",
      "2021-06-25 19:37:46,582 - jobqueues.slurmqueue - INFO - Queueing /gpcr/users/daranda/doctorat/GPCR_simulations/simulation_output/production/2Z73/rep_3/\n"
     ]
    },
    {
     "name": "stdout",
     "output_type": "stream",
     "text": [
      "submitting replicate 1 of 6KK1\n"
     ]
    },
    {
     "name": "stderr",
     "output_type": "stream",
     "text": [
      "2021-06-25 19:37:58,082 - moleculekit.readers - WARNING - Non-integer values were read from the PDB \"serial\" field. Dropping PDB values and assigning new ones.\n",
      "2021-06-25 19:37:58,253 - moleculekit.readers - WARNING - Reading PDB file with more than 99999 atoms. Bond information can be wrong.\n",
      "2021-06-25 19:38:41,085 - htmd.builder.builder - WARNING - Found cis peptide bond in 1 frames: [0] in the omega diheral \"Angle of (ASP 222 CA P P) (ASP 222 C P P) (SER 223 N P P) (SER 223 CA P P) \" with indexes [1463, 1471, 1473, 1475]\n",
      "2021-06-25 19:38:41,087 - htmd.builder.builder - WARNING - Found cis peptide bond in 1 frames: [0] in the omega diheral \"Angle of (PHE 257 CA P P) (PHE 257 C P P) (SER 258 N P P) (SER 258 CA P P) \" with indexes [2040, 2056, 2058, 2060]\n",
      "2021-06-25 19:38:41,089 - htmd.builder.builder - WARNING - Found cis peptide bond in 1 frames: [0] in the omega diheral \"Angle of (ALA 316 CA P P) (ALA 316 C P P) (ILE 317 N P P) (ILE 317 CA P P) \" with indexes [3051, 3057, 3059, 3061]\n",
      "2021-06-25 19:38:43,171 - htmd.protocols.production_v6 - WARNING - Lipids detected in input structure. We highly recommend setting useconstantratio=True for membrane simulations.\n",
      "2021-06-25 19:38:44,119 - jobqueues.slurmqueue - INFO - Queueing /gpcr/users/daranda/doctorat/GPCR_simulations/simulation_output/production/6KK1_apo/rep_1/\n"
     ]
    },
    {
     "name": "stdout",
     "output_type": "stream",
     "text": [
      "submitting replicate 2 of 6KK1\n"
     ]
    },
    {
     "name": "stderr",
     "output_type": "stream",
     "text": [
      "2021-06-25 19:38:55,940 - moleculekit.readers - WARNING - Non-integer values were read from the PDB \"serial\" field. Dropping PDB values and assigning new ones.\n",
      "2021-06-25 19:38:56,115 - moleculekit.readers - WARNING - Reading PDB file with more than 99999 atoms. Bond information can be wrong.\n",
      "2021-06-25 19:39:40,408 - htmd.builder.builder - WARNING - Found cis peptide bond in 1 frames: [0] in the omega diheral \"Angle of (ASP 222 CA P P) (ASP 222 C P P) (SER 223 N P P) (SER 223 CA P P) \" with indexes [1463, 1471, 1473, 1475]\n",
      "2021-06-25 19:39:40,410 - htmd.builder.builder - WARNING - Found cis peptide bond in 1 frames: [0] in the omega diheral \"Angle of (PHE 257 CA P P) (PHE 257 C P P) (SER 258 N P P) (SER 258 CA P P) \" with indexes [2040, 2056, 2058, 2060]\n",
      "2021-06-25 19:39:40,411 - htmd.builder.builder - WARNING - Found cis peptide bond in 1 frames: [0] in the omega diheral \"Angle of (ALA 316 CA P P) (ALA 316 C P P) (ILE 317 N P P) (ILE 317 CA P P) \" with indexes [3051, 3057, 3059, 3061]\n",
      "2021-06-25 19:39:42,506 - htmd.protocols.production_v6 - WARNING - Lipids detected in input structure. We highly recommend setting useconstantratio=True for membrane simulations.\n",
      "2021-06-25 19:39:42,988 - jobqueues.slurmqueue - INFO - Queueing /gpcr/users/daranda/doctorat/GPCR_simulations/simulation_output/production/6KK1_apo/rep_2/\n"
     ]
    },
    {
     "name": "stdout",
     "output_type": "stream",
     "text": [
      "submitting replicate 3 of 6KK1\n"
     ]
    },
    {
     "name": "stderr",
     "output_type": "stream",
     "text": [
      "2021-06-25 19:39:54,587 - moleculekit.readers - WARNING - Non-integer values were read from the PDB \"serial\" field. Dropping PDB values and assigning new ones.\n",
      "2021-06-25 19:39:54,761 - moleculekit.readers - WARNING - Reading PDB file with more than 99999 atoms. Bond information can be wrong.\n",
      "2021-06-25 19:40:35,838 - htmd.builder.builder - WARNING - Found cis peptide bond in 1 frames: [0] in the omega diheral \"Angle of (ASP 222 CA P P) (ASP 222 C P P) (SER 223 N P P) (SER 223 CA P P) \" with indexes [1463, 1471, 1473, 1475]\n",
      "2021-06-25 19:40:35,839 - htmd.builder.builder - WARNING - Found cis peptide bond in 1 frames: [0] in the omega diheral \"Angle of (PHE 257 CA P P) (PHE 257 C P P) (SER 258 N P P) (SER 258 CA P P) \" with indexes [2040, 2056, 2058, 2060]\n",
      "2021-06-25 19:40:35,842 - htmd.builder.builder - WARNING - Found cis peptide bond in 1 frames: [0] in the omega diheral \"Angle of (ALA 316 CA P P) (ALA 316 C P P) (ILE 317 N P P) (ILE 317 CA P P) \" with indexes [3051, 3057, 3059, 3061]\n",
      "2021-06-25 19:40:37,891 - htmd.protocols.production_v6 - WARNING - Lipids detected in input structure. We highly recommend setting useconstantratio=True for membrane simulations.\n",
      "2021-06-25 19:40:38,360 - jobqueues.slurmqueue - INFO - Queueing /gpcr/users/daranda/doctorat/GPCR_simulations/simulation_output/production/6KK1_apo/rep_3/\n"
     ]
    },
    {
     "name": "stdout",
     "output_type": "stream",
     "text": [
      "replicate 1 of structure 6KK1 already has been simulated\n",
      "replicate 2 of structure 6KK1 already has been simulated\n",
      "replicate 3 of structure 6KK1 already has been simulated\n",
      "submitting replicate 1 of 6D27\n"
     ]
    },
    {
     "name": "stderr",
     "output_type": "stream",
     "text": [
      "2021-06-25 19:41:22,237 - htmd.protocols.production_v6 - WARNING - Lipids detected in input structure. We highly recommend setting useconstantratio=True for membrane simulations.\n",
      "2021-06-25 19:41:23,037 - jobqueues.slurmqueue - INFO - Queueing /gpcr/users/daranda/doctorat/GPCR_simulations/simulation_output/production/6D27_apo/rep_1/\n"
     ]
    },
    {
     "name": "stdout",
     "output_type": "stream",
     "text": [
      "submitting replicate 2 of 6D27\n"
     ]
    },
    {
     "name": "stderr",
     "output_type": "stream",
     "text": [
      "2021-06-25 19:42:07,467 - htmd.protocols.production_v6 - WARNING - Lipids detected in input structure. We highly recommend setting useconstantratio=True for membrane simulations.\n",
      "2021-06-25 19:42:07,846 - jobqueues.slurmqueue - INFO - Queueing /gpcr/users/daranda/doctorat/GPCR_simulations/simulation_output/production/6D27_apo/rep_2/\n"
     ]
    },
    {
     "name": "stdout",
     "output_type": "stream",
     "text": [
      "submitting replicate 3 of 6D27\n"
     ]
    },
    {
     "name": "stderr",
     "output_type": "stream",
     "text": [
      "2021-06-25 19:42:51,974 - htmd.protocols.production_v6 - WARNING - Lipids detected in input structure. We highly recommend setting useconstantratio=True for membrane simulations.\n",
      "2021-06-25 19:42:52,329 - jobqueues.slurmqueue - INFO - Queueing /gpcr/users/daranda/doctorat/GPCR_simulations/simulation_output/production/6D27_apo/rep_3/\n"
     ]
    },
    {
     "name": "stdout",
     "output_type": "stream",
     "text": [
      "submitting replicate 1 of 6D27\n"
     ]
    },
    {
     "name": "stderr",
     "output_type": "stream",
     "text": [
      "2021-06-25 19:43:36,891 - htmd.protocols.production_v6 - WARNING - Lipids detected in input structure. We highly recommend setting useconstantratio=True for membrane simulations.\n",
      "2021-06-25 19:43:37,803 - jobqueues.slurmqueue - INFO - Queueing /gpcr/users/daranda/doctorat/GPCR_simulations/simulation_output/production/6D27/rep_1/\n"
     ]
    },
    {
     "name": "stdout",
     "output_type": "stream",
     "text": [
      "submitting replicate 2 of 6D27\n"
     ]
    },
    {
     "name": "stderr",
     "output_type": "stream",
     "text": [
      "2021-06-25 19:44:22,055 - htmd.protocols.production_v6 - WARNING - Lipids detected in input structure. We highly recommend setting useconstantratio=True for membrane simulations.\n",
      "2021-06-25 19:44:22,469 - jobqueues.slurmqueue - INFO - Queueing /gpcr/users/daranda/doctorat/GPCR_simulations/simulation_output/production/6D27/rep_2/\n"
     ]
    },
    {
     "name": "stdout",
     "output_type": "stream",
     "text": [
      "submitting replicate 3 of 6D27\n"
     ]
    },
    {
     "name": "stderr",
     "output_type": "stream",
     "text": [
      "2021-06-25 19:45:05,992 - htmd.protocols.production_v6 - WARNING - Lipids detected in input structure. We highly recommend setting useconstantratio=True for membrane simulations.\n",
      "2021-06-25 19:45:06,405 - jobqueues.slurmqueue - INFO - Queueing /gpcr/users/daranda/doctorat/GPCR_simulations/simulation_output/production/6D27/rep_3/\n"
     ]
    },
    {
     "name": "stdout",
     "output_type": "stream",
     "text": [
      "submitting replicate 1 of 6AKY\n"
     ]
    },
    {
     "name": "stderr",
     "output_type": "stream",
     "text": [
      "2021-06-25 19:45:36,684 - htmd.protocols.production_v6 - WARNING - Lipids detected in input structure. We highly recommend setting useconstantratio=True for membrane simulations.\n",
      "2021-06-25 19:45:37,304 - jobqueues.slurmqueue - INFO - Queueing /gpcr/users/daranda/doctorat/GPCR_simulations/simulation_output/production/6AKY_apo/rep_1/\n"
     ]
    },
    {
     "name": "stdout",
     "output_type": "stream",
     "text": [
      "submitting replicate 2 of 6AKY\n"
     ]
    },
    {
     "name": "stderr",
     "output_type": "stream",
     "text": [
      "2021-06-25 19:46:07,996 - htmd.protocols.production_v6 - WARNING - Lipids detected in input structure. We highly recommend setting useconstantratio=True for membrane simulations.\n",
      "2021-06-25 19:46:08,285 - jobqueues.slurmqueue - INFO - Queueing /gpcr/users/daranda/doctorat/GPCR_simulations/simulation_output/production/6AKY_apo/rep_2/\n"
     ]
    },
    {
     "name": "stdout",
     "output_type": "stream",
     "text": [
      "submitting replicate 3 of 6AKY\n"
     ]
    },
    {
     "name": "stderr",
     "output_type": "stream",
     "text": [
      "2021-06-25 19:46:38,503 - htmd.protocols.production_v6 - WARNING - Lipids detected in input structure. We highly recommend setting useconstantratio=True for membrane simulations.\n",
      "2021-06-25 19:46:38,781 - jobqueues.slurmqueue - INFO - Queueing /gpcr/users/daranda/doctorat/GPCR_simulations/simulation_output/production/6AKY_apo/rep_3/\n"
     ]
    },
    {
     "name": "stdout",
     "output_type": "stream",
     "text": [
      "submitting replicate 1 of 6AKY\n"
     ]
    },
    {
     "name": "stderr",
     "output_type": "stream",
     "text": [
      "2021-06-25 19:47:07,834 - htmd.protocols.production_v6 - WARNING - Lipids detected in input structure. We highly recommend setting useconstantratio=True for membrane simulations.\n",
      "2021-06-25 19:47:08,609 - jobqueues.slurmqueue - INFO - Queueing /gpcr/users/daranda/doctorat/GPCR_simulations/simulation_output/production/6AKY/rep_1/\n"
     ]
    },
    {
     "name": "stdout",
     "output_type": "stream",
     "text": [
      "submitting replicate 2 of 6AKY\n"
     ]
    },
    {
     "name": "stderr",
     "output_type": "stream",
     "text": [
      "2021-06-25 19:47:38,062 - htmd.protocols.production_v6 - WARNING - Lipids detected in input structure. We highly recommend setting useconstantratio=True for membrane simulations.\n",
      "2021-06-25 19:47:38,359 - jobqueues.slurmqueue - INFO - Queueing /gpcr/users/daranda/doctorat/GPCR_simulations/simulation_output/production/6AKY/rep_2/\n"
     ]
    },
    {
     "name": "stdout",
     "output_type": "stream",
     "text": [
      "submitting replicate 3 of 6AKY\n"
     ]
    },
    {
     "name": "stderr",
     "output_type": "stream",
     "text": [
      "2021-06-25 19:48:07,764 - htmd.protocols.production_v6 - WARNING - Lipids detected in input structure. We highly recommend setting useconstantratio=True for membrane simulations.\n",
      "2021-06-25 19:48:08,066 - jobqueues.slurmqueue - INFO - Queueing /gpcr/users/daranda/doctorat/GPCR_simulations/simulation_output/production/6AKY/rep_3/\n"
     ]
    },
    {
     "name": "stdout",
     "output_type": "stream",
     "text": [
      "submitting replicate 1 of 6HLO\n"
     ]
    },
    {
     "name": "stderr",
     "output_type": "stream",
     "text": [
      "2021-06-25 19:48:38,188 - htmd.builder.builder - WARNING - Found cis peptide bond in 1 frames: [0] in the omega diheral \"Angle of (MET 174 CA P P) (MET 174 C P P) (PRO 175 N P P) (PRO 175 CA P P) \" with indexes [2438, 2451, 2453, 2457]\n",
      "2021-06-25 19:48:38,190 - htmd.builder.builder - WARNING - Found cis peptide bond in 1 frames: [0] in the omega diheral \"Angle of (ASP 231 CA P P) (ASP 231 C P P) (SER 232 N P P) (SER 232 CA P P) \" with indexes [3373, 3381, 3383, 3385]\n",
      "2021-06-25 19:48:39,361 - htmd.protocols.production_v6 - WARNING - Lipids detected in input structure. We highly recommend setting useconstantratio=True for membrane simulations.\n",
      "2021-06-25 19:48:40,064 - jobqueues.slurmqueue - INFO - Queueing /gpcr/users/daranda/doctorat/GPCR_simulations/simulation_output/production/6HLO_apo/rep_1/\n"
     ]
    },
    {
     "name": "stdout",
     "output_type": "stream",
     "text": [
      "submitting replicate 2 of 6HLO\n"
     ]
    },
    {
     "name": "stderr",
     "output_type": "stream",
     "text": [
      "2021-06-25 19:49:11,148 - htmd.builder.builder - WARNING - Found cis peptide bond in 1 frames: [0] in the omega diheral \"Angle of (MET 174 CA P P) (MET 174 C P P) (PRO 175 N P P) (PRO 175 CA P P) \" with indexes [2438, 2451, 2453, 2457]\n",
      "2021-06-25 19:49:11,150 - htmd.builder.builder - WARNING - Found cis peptide bond in 1 frames: [0] in the omega diheral \"Angle of (ASP 231 CA P P) (ASP 231 C P P) (SER 232 N P P) (SER 232 CA P P) \" with indexes [3373, 3381, 3383, 3385]\n",
      "2021-06-25 19:49:12,323 - htmd.protocols.production_v6 - WARNING - Lipids detected in input structure. We highly recommend setting useconstantratio=True for membrane simulations.\n",
      "2021-06-25 19:49:12,615 - jobqueues.slurmqueue - INFO - Queueing /gpcr/users/daranda/doctorat/GPCR_simulations/simulation_output/production/6HLO_apo/rep_2/\n"
     ]
    },
    {
     "name": "stdout",
     "output_type": "stream",
     "text": [
      "submitting replicate 3 of 6HLO\n"
     ]
    },
    {
     "name": "stderr",
     "output_type": "stream",
     "text": [
      "2021-06-25 19:49:43,326 - htmd.builder.builder - WARNING - Found cis peptide bond in 1 frames: [0] in the omega diheral \"Angle of (MET 174 CA P P) (MET 174 C P P) (PRO 175 N P P) (PRO 175 CA P P) \" with indexes [2438, 2451, 2453, 2457]\n",
      "2021-06-25 19:49:43,328 - htmd.builder.builder - WARNING - Found cis peptide bond in 1 frames: [0] in the omega diheral \"Angle of (ASP 231 CA P P) (ASP 231 C P P) (SER 232 N P P) (SER 232 CA P P) \" with indexes [3373, 3381, 3383, 3385]\n",
      "2021-06-25 19:49:44,504 - htmd.protocols.production_v6 - WARNING - Lipids detected in input structure. We highly recommend setting useconstantratio=True for membrane simulations.\n",
      "2021-06-25 19:49:44,830 - jobqueues.slurmqueue - INFO - Queueing /gpcr/users/daranda/doctorat/GPCR_simulations/simulation_output/production/6HLO_apo/rep_3/\n"
     ]
    },
    {
     "name": "stdout",
     "output_type": "stream",
     "text": [
      "submitting replicate 1 of 6HLO\n"
     ]
    },
    {
     "name": "stderr",
     "output_type": "stream",
     "text": [
      "2021-06-25 19:50:16,362 - htmd.builder.builder - WARNING - Found cis peptide bond in 1 frames: [0] in the omega diheral \"Angle of (MET 174 CA P P) (MET 174 C P P) (PRO 175 N P P) (PRO 175 CA P P) \" with indexes [2498, 2511, 2513, 2517]\n",
      "2021-06-25 19:50:16,364 - htmd.builder.builder - WARNING - Found cis peptide bond in 1 frames: [0] in the omega diheral \"Angle of (ASP 231 CA P P) (ASP 231 C P P) (SER 232 N P P) (SER 232 CA P P) \" with indexes [3433, 3441, 3443, 3445]\n",
      "2021-06-25 19:50:17,528 - htmd.protocols.production_v6 - WARNING - Lipids detected in input structure. We highly recommend setting useconstantratio=True for membrane simulations.\n",
      "2021-06-25 19:50:18,311 - jobqueues.slurmqueue - INFO - Queueing /gpcr/users/daranda/doctorat/GPCR_simulations/simulation_output/production/6HLO/rep_1/\n"
     ]
    },
    {
     "name": "stdout",
     "output_type": "stream",
     "text": [
      "submitting replicate 2 of 6HLO\n"
     ]
    },
    {
     "name": "stderr",
     "output_type": "stream",
     "text": [
      "2021-06-25 19:50:49,995 - htmd.builder.builder - WARNING - Found cis peptide bond in 1 frames: [0] in the omega diheral \"Angle of (MET 174 CA P P) (MET 174 C P P) (PRO 175 N P P) (PRO 175 CA P P) \" with indexes [2498, 2511, 2513, 2517]\n",
      "2021-06-25 19:50:49,997 - htmd.builder.builder - WARNING - Found cis peptide bond in 1 frames: [0] in the omega diheral \"Angle of (ASP 231 CA P P) (ASP 231 C P P) (SER 232 N P P) (SER 232 CA P P) \" with indexes [3433, 3441, 3443, 3445]\n",
      "2021-06-25 19:50:51,171 - htmd.protocols.production_v6 - WARNING - Lipids detected in input structure. We highly recommend setting useconstantratio=True for membrane simulations.\n",
      "2021-06-25 19:50:51,496 - jobqueues.slurmqueue - INFO - Queueing /gpcr/users/daranda/doctorat/GPCR_simulations/simulation_output/production/6HLO/rep_2/\n"
     ]
    },
    {
     "name": "stdout",
     "output_type": "stream",
     "text": [
      "submitting replicate 3 of 6HLO\n"
     ]
    },
    {
     "name": "stderr",
     "output_type": "stream",
     "text": [
      "2021-06-25 19:51:22,254 - htmd.builder.builder - WARNING - Found cis peptide bond in 1 frames: [0] in the omega diheral \"Angle of (MET 174 CA P P) (MET 174 C P P) (PRO 175 N P P) (PRO 175 CA P P) \" with indexes [2498, 2511, 2513, 2517]\n",
      "2021-06-25 19:51:22,256 - htmd.builder.builder - WARNING - Found cis peptide bond in 1 frames: [0] in the omega diheral \"Angle of (ASP 231 CA P P) (ASP 231 C P P) (SER 232 N P P) (SER 232 CA P P) \" with indexes [3433, 3441, 3443, 3445]\n",
      "2021-06-25 19:51:23,428 - htmd.protocols.production_v6 - WARNING - Lipids detected in input structure. We highly recommend setting useconstantratio=True for membrane simulations.\n",
      "2021-06-25 19:51:23,745 - jobqueues.slurmqueue - INFO - Queueing /gpcr/users/daranda/doctorat/GPCR_simulations/simulation_output/production/6HLO/rep_3/\n"
     ]
    },
    {
     "name": "stdout",
     "output_type": "stream",
     "text": [
      "submitting replicate 1 of 5JTB\n"
     ]
    },
    {
     "name": "stderr",
     "output_type": "stream",
     "text": [
      "2021-06-25 19:52:03,186 - htmd.builder.builder - WARNING - Found cis peptide bond in 1 frames: [0] in the omega diheral \"Angle of (LEU 216 CA P P) (LEU 216 C P P) (PRO 217 N P P) (PRO 217 CA P P) \" with indexes [3337, 3352, 3354, 3358]\n",
      "2021-06-25 19:52:03,189 - htmd.builder.builder - WARNING - Found cis peptide bond in 1 frames: [0] in the omega diheral \"Angle of (PRO 217 CA P P) (PRO 217 C P P) (GLY 218 N P P) (GLY 218 CA P P) \" with indexes [3358, 3366, 3368, 3370]\n",
      "2021-06-25 19:52:04,729 - htmd.protocols.production_v6 - WARNING - Lipids detected in input structure. We highly recommend setting useconstantratio=True for membrane simulations.\n",
      "2021-06-25 19:52:05,523 - jobqueues.slurmqueue - INFO - Queueing /gpcr/users/daranda/doctorat/GPCR_simulations/simulation_output/production/5JTB_apo/rep_1/\n"
     ]
    },
    {
     "name": "stdout",
     "output_type": "stream",
     "text": [
      "submitting replicate 2 of 5JTB\n"
     ]
    },
    {
     "name": "stderr",
     "output_type": "stream",
     "text": [
      "2021-06-25 19:52:44,959 - htmd.builder.builder - WARNING - Found cis peptide bond in 1 frames: [0] in the omega diheral \"Angle of (LEU 216 CA P P) (LEU 216 C P P) (PRO 217 N P P) (PRO 217 CA P P) \" with indexes [3337, 3352, 3354, 3358]\n",
      "2021-06-25 19:52:44,961 - htmd.builder.builder - WARNING - Found cis peptide bond in 1 frames: [0] in the omega diheral \"Angle of (PRO 217 CA P P) (PRO 217 C P P) (GLY 218 N P P) (GLY 218 CA P P) \" with indexes [3358, 3366, 3368, 3370]\n",
      "2021-06-25 19:52:46,481 - htmd.protocols.production_v6 - WARNING - Lipids detected in input structure. We highly recommend setting useconstantratio=True for membrane simulations.\n",
      "2021-06-25 19:52:46,827 - jobqueues.slurmqueue - INFO - Queueing /gpcr/users/daranda/doctorat/GPCR_simulations/simulation_output/production/5JTB_apo/rep_2/\n"
     ]
    },
    {
     "name": "stdout",
     "output_type": "stream",
     "text": [
      "submitting replicate 3 of 5JTB\n"
     ]
    },
    {
     "name": "stderr",
     "output_type": "stream",
     "text": [
      "2021-06-25 19:53:26,080 - htmd.builder.builder - WARNING - Found cis peptide bond in 1 frames: [0] in the omega diheral \"Angle of (LEU 216 CA P P) (LEU 216 C P P) (PRO 217 N P P) (PRO 217 CA P P) \" with indexes [3337, 3352, 3354, 3358]\n",
      "2021-06-25 19:53:26,082 - htmd.builder.builder - WARNING - Found cis peptide bond in 1 frames: [0] in the omega diheral \"Angle of (PRO 217 CA P P) (PRO 217 C P P) (GLY 218 N P P) (GLY 218 CA P P) \" with indexes [3358, 3366, 3368, 3370]\n",
      "2021-06-25 19:53:27,623 - htmd.protocols.production_v6 - WARNING - Lipids detected in input structure. We highly recommend setting useconstantratio=True for membrane simulations.\n",
      "2021-06-25 19:53:27,997 - jobqueues.slurmqueue - INFO - Queueing /gpcr/users/daranda/doctorat/GPCR_simulations/simulation_output/production/5JTB_apo/rep_3/\n"
     ]
    },
    {
     "name": "stdout",
     "output_type": "stream",
     "text": [
      "submitting replicate 1 of 5JTB\n"
     ]
    },
    {
     "name": "stderr",
     "output_type": "stream",
     "text": [
      "2021-06-25 19:54:07,147 - htmd.builder.builder - WARNING - Found cis peptide bond in 1 frames: [0] in the omega diheral \"Angle of (LEU 216 CA P P) (LEU 216 C P P) (PRO 217 N P P) (PRO 217 CA P P) \" with indexes [3600, 3615, 3617, 3621]\n",
      "2021-06-25 19:54:07,149 - htmd.builder.builder - WARNING - Found cis peptide bond in 1 frames: [0] in the omega diheral \"Angle of (PRO 217 CA P P) (PRO 217 C P P) (GLY 218 N P P) (GLY 218 CA P P) \" with indexes [3621, 3629, 3631, 3633]\n",
      "2021-06-25 19:54:08,679 - htmd.protocols.production_v6 - WARNING - Lipids detected in input structure. We highly recommend setting useconstantratio=True for membrane simulations.\n",
      "2021-06-25 19:54:09,589 - jobqueues.slurmqueue - INFO - Queueing /gpcr/users/daranda/doctorat/GPCR_simulations/simulation_output/production/5JTB/rep_1/\n"
     ]
    },
    {
     "name": "stdout",
     "output_type": "stream",
     "text": [
      "submitting replicate 2 of 5JTB\n"
     ]
    },
    {
     "name": "stderr",
     "output_type": "stream",
     "text": [
      "2021-06-25 19:54:49,104 - htmd.builder.builder - WARNING - Found cis peptide bond in 1 frames: [0] in the omega diheral \"Angle of (LEU 216 CA P P) (LEU 216 C P P) (PRO 217 N P P) (PRO 217 CA P P) \" with indexes [3600, 3615, 3617, 3621]\n",
      "2021-06-25 19:54:49,106 - htmd.builder.builder - WARNING - Found cis peptide bond in 1 frames: [0] in the omega diheral \"Angle of (PRO 217 CA P P) (PRO 217 C P P) (GLY 218 N P P) (GLY 218 CA P P) \" with indexes [3621, 3629, 3631, 3633]\n",
      "2021-06-25 19:54:50,647 - htmd.protocols.production_v6 - WARNING - Lipids detected in input structure. We highly recommend setting useconstantratio=True for membrane simulations.\n",
      "2021-06-25 19:54:51,044 - jobqueues.slurmqueue - INFO - Queueing /gpcr/users/daranda/doctorat/GPCR_simulations/simulation_output/production/5JTB/rep_2/\n"
     ]
    },
    {
     "name": "stdout",
     "output_type": "stream",
     "text": [
      "submitting replicate 3 of 5JTB\n"
     ]
    },
    {
     "name": "stderr",
     "output_type": "stream",
     "text": [
      "2021-06-25 19:55:30,108 - htmd.builder.builder - WARNING - Found cis peptide bond in 1 frames: [0] in the omega diheral \"Angle of (LEU 216 CA P P) (LEU 216 C P P) (PRO 217 N P P) (PRO 217 CA P P) \" with indexes [3600, 3615, 3617, 3621]\n",
      "2021-06-25 19:55:30,110 - htmd.builder.builder - WARNING - Found cis peptide bond in 1 frames: [0] in the omega diheral \"Angle of (PRO 217 CA P P) (PRO 217 C P P) (GLY 218 N P P) (GLY 218 CA P P) \" with indexes [3621, 3629, 3631, 3633]\n",
      "2021-06-25 19:55:31,639 - htmd.protocols.production_v6 - WARNING - Lipids detected in input structure. We highly recommend setting useconstantratio=True for membrane simulations.\n",
      "2021-06-25 19:55:32,055 - jobqueues.slurmqueue - INFO - Queueing /gpcr/users/daranda/doctorat/GPCR_simulations/simulation_output/production/5JTB/rep_3/\n"
     ]
    },
    {
     "name": "stdout",
     "output_type": "stream",
     "text": [
      "submitting replicate 1 of 5ZKC\n"
     ]
    },
    {
     "name": "stderr",
     "output_type": "stream",
     "text": [
      "2021-06-25 19:56:10,899 - htmd.builder.builder - WARNING - Found cis peptide bond in 1 frames: [0] in the omega diheral \"Angle of (GLU 223 CA P0 P) (GLU 223 C P0 P) (PRO 224 N P0 P) (PRO 224 CA P0 P) \" with indexes [3400, 3411, 3413, 3417]\n",
      "2021-06-25 19:56:12,422 - htmd.protocols.production_v6 - WARNING - Lipids detected in input structure. We highly recommend setting useconstantratio=True for membrane simulations.\n",
      "2021-06-25 19:56:13,228 - jobqueues.slurmqueue - INFO - Queueing /gpcr/users/daranda/doctorat/GPCR_simulations/simulation_output/production/5ZKC_apo/rep_1/\n"
     ]
    },
    {
     "name": "stdout",
     "output_type": "stream",
     "text": [
      "submitting replicate 2 of 5ZKC\n"
     ]
    },
    {
     "name": "stderr",
     "output_type": "stream",
     "text": [
      "2021-06-25 19:56:52,064 - htmd.builder.builder - WARNING - Found cis peptide bond in 1 frames: [0] in the omega diheral \"Angle of (GLU 223 CA P0 P) (GLU 223 C P0 P) (PRO 224 N P0 P) (PRO 224 CA P0 P) \" with indexes [3400, 3411, 3413, 3417]\n",
      "2021-06-25 19:56:53,582 - htmd.protocols.production_v6 - WARNING - Lipids detected in input structure. We highly recommend setting useconstantratio=True for membrane simulations.\n",
      "2021-06-25 19:56:53,981 - jobqueues.slurmqueue - INFO - Queueing /gpcr/users/daranda/doctorat/GPCR_simulations/simulation_output/production/5ZKC_apo/rep_2/\n"
     ]
    },
    {
     "name": "stdout",
     "output_type": "stream",
     "text": [
      "submitting replicate 3 of 5ZKC\n"
     ]
    },
    {
     "name": "stderr",
     "output_type": "stream",
     "text": [
      "2021-06-25 19:57:33,147 - htmd.builder.builder - WARNING - Found cis peptide bond in 1 frames: [0] in the omega diheral \"Angle of (GLU 223 CA P0 P) (GLU 223 C P0 P) (PRO 224 N P0 P) (PRO 224 CA P0 P) \" with indexes [3400, 3411, 3413, 3417]\n",
      "2021-06-25 19:57:34,658 - htmd.protocols.production_v6 - WARNING - Lipids detected in input structure. We highly recommend setting useconstantratio=True for membrane simulations.\n",
      "2021-06-25 19:57:35,041 - jobqueues.slurmqueue - INFO - Queueing /gpcr/users/daranda/doctorat/GPCR_simulations/simulation_output/production/5ZKC_apo/rep_3/\n"
     ]
    },
    {
     "name": "stdout",
     "output_type": "stream",
     "text": [
      "submitting replicate 1 of 5ZKC\n"
     ]
    },
    {
     "name": "stderr",
     "output_type": "stream",
     "text": [
      "2021-06-25 19:58:12,961 - htmd.builder.builder - WARNING - Found cis peptide bond in 1 frames: [0] in the omega diheral \"Angle of (GLU 223 CA P0 P) (GLU 223 C P0 P) (PRO 224 N P0 P) (PRO 224 CA P0 P) \" with indexes [3402, 3413, 3415, 3419]\n",
      "2021-06-25 19:58:14,469 - htmd.protocols.production_v6 - WARNING - Lipids detected in input structure. We highly recommend setting useconstantratio=True for membrane simulations.\n",
      "2021-06-25 19:58:15,310 - jobqueues.slurmqueue - INFO - Queueing /gpcr/users/daranda/doctorat/GPCR_simulations/simulation_output/production/5ZKC/rep_1/\n"
     ]
    },
    {
     "name": "stdout",
     "output_type": "stream",
     "text": [
      "submitting replicate 2 of 5ZKC\n"
     ]
    },
    {
     "name": "stderr",
     "output_type": "stream",
     "text": [
      "2021-06-25 19:58:54,860 - htmd.builder.builder - WARNING - Found cis peptide bond in 1 frames: [0] in the omega diheral \"Angle of (GLU 223 CA P0 P) (GLU 223 C P0 P) (PRO 224 N P0 P) (PRO 224 CA P0 P) \" with indexes [3402, 3413, 3415, 3419]\n",
      "2021-06-25 19:58:56,357 - htmd.protocols.production_v6 - WARNING - Lipids detected in input structure. We highly recommend setting useconstantratio=True for membrane simulations.\n",
      "2021-06-25 19:58:56,764 - jobqueues.slurmqueue - INFO - Queueing /gpcr/users/daranda/doctorat/GPCR_simulations/simulation_output/production/5ZKC/rep_2/\n"
     ]
    },
    {
     "name": "stdout",
     "output_type": "stream",
     "text": [
      "submitting replicate 3 of 5ZKC\n"
     ]
    },
    {
     "name": "stderr",
     "output_type": "stream",
     "text": [
      "2021-06-25 19:59:35,822 - htmd.builder.builder - WARNING - Found cis peptide bond in 1 frames: [0] in the omega diheral \"Angle of (GLU 223 CA P0 P) (GLU 223 C P0 P) (PRO 224 N P0 P) (PRO 224 CA P0 P) \" with indexes [3402, 3413, 3415, 3419]\n",
      "2021-06-25 19:59:37,342 - htmd.protocols.production_v6 - WARNING - Lipids detected in input structure. We highly recommend setting useconstantratio=True for membrane simulations.\n",
      "2021-06-25 19:59:37,751 - jobqueues.slurmqueue - INFO - Queueing /gpcr/users/daranda/doctorat/GPCR_simulations/simulation_output/production/5ZKC/rep_3/\n"
     ]
    },
    {
     "name": "stdout",
     "output_type": "stream",
     "text": [
      "submitting replicate 1 of 6FKA\n"
     ]
    },
    {
     "name": "stderr",
     "output_type": "stream",
     "text": [
      "2021-06-25 20:00:08,307 - htmd.builder.builder - WARNING - Found cis peptide bond in 1 frames: [0] in the omega diheral \"Angle of (ASN 326 CA P P) (ASN 326 C P P) (PRO 327 N P P) (PRO 327 CA P P) \" with indexes [5156, 5166, 5168, 5172]\n",
      "2021-06-25 20:00:09,385 - htmd.protocols.production_v6 - WARNING - Lipids detected in input structure. We highly recommend setting useconstantratio=True for membrane simulations.\n",
      "2021-06-25 20:00:10,087 - jobqueues.slurmqueue - INFO - Queueing /gpcr/users/daranda/doctorat/GPCR_simulations/simulation_output/production/6FKA_apo/rep_1/\n"
     ]
    },
    {
     "name": "stdout",
     "output_type": "stream",
     "text": [
      "submitting replicate 2 of 6FKA\n"
     ]
    },
    {
     "name": "stderr",
     "output_type": "stream",
     "text": [
      "2021-06-25 20:00:39,829 - htmd.builder.builder - WARNING - Found cis peptide bond in 1 frames: [0] in the omega diheral \"Angle of (ASN 326 CA P P) (ASN 326 C P P) (PRO 327 N P P) (PRO 327 CA P P) \" with indexes [5156, 5166, 5168, 5172]\n",
      "2021-06-25 20:00:40,912 - htmd.protocols.production_v6 - WARNING - Lipids detected in input structure. We highly recommend setting useconstantratio=True for membrane simulations.\n",
      "2021-06-25 20:00:41,212 - jobqueues.slurmqueue - INFO - Queueing /gpcr/users/daranda/doctorat/GPCR_simulations/simulation_output/production/6FKA_apo/rep_2/\n"
     ]
    },
    {
     "name": "stdout",
     "output_type": "stream",
     "text": [
      "submitting replicate 3 of 6FKA\n"
     ]
    },
    {
     "name": "stderr",
     "output_type": "stream",
     "text": [
      "2021-06-25 20:01:11,644 - htmd.builder.builder - WARNING - Found cis peptide bond in 1 frames: [0] in the omega diheral \"Angle of (ASN 326 CA P P) (ASN 326 C P P) (PRO 327 N P P) (PRO 327 CA P P) \" with indexes [5156, 5166, 5168, 5172]\n",
      "2021-06-25 20:01:12,734 - htmd.protocols.production_v6 - WARNING - Lipids detected in input structure. We highly recommend setting useconstantratio=True for membrane simulations.\n",
      "2021-06-25 20:01:13,036 - jobqueues.slurmqueue - INFO - Queueing /gpcr/users/daranda/doctorat/GPCR_simulations/simulation_output/production/6FKA_apo/rep_3/\n"
     ]
    },
    {
     "name": "stdout",
     "output_type": "stream",
     "text": [
      "submitting replicate 1 of 6FKA\n"
     ]
    },
    {
     "name": "stderr",
     "output_type": "stream",
     "text": [
      "2021-06-25 20:01:44,777 - htmd.builder.builder - WARNING - Found cis peptide bond in 1 frames: [0] in the omega diheral \"Angle of (ASN 326 CA P P) (ASN 326 C P P) (PRO 327 N P P) (PRO 327 CA P P) \" with indexes [5216, 5226, 5228, 5232]\n",
      "2021-06-25 20:01:45,863 - htmd.protocols.production_v6 - WARNING - Lipids detected in input structure. We highly recommend setting useconstantratio=True for membrane simulations.\n",
      "2021-06-25 20:01:46,543 - jobqueues.slurmqueue - INFO - Queueing /gpcr/users/daranda/doctorat/GPCR_simulations/simulation_output/production/6FKA/rep_1/\n"
     ]
    },
    {
     "name": "stdout",
     "output_type": "stream",
     "text": [
      "submitting replicate 2 of 6FKA\n"
     ]
    },
    {
     "name": "stderr",
     "output_type": "stream",
     "text": [
      "2021-06-25 20:02:17,090 - htmd.builder.builder - WARNING - Found cis peptide bond in 1 frames: [0] in the omega diheral \"Angle of (ASN 326 CA P P) (ASN 326 C P P) (PRO 327 N P P) (PRO 327 CA P P) \" with indexes [5216, 5226, 5228, 5232]\n",
      "2021-06-25 20:02:18,177 - htmd.protocols.production_v6 - WARNING - Lipids detected in input structure. We highly recommend setting useconstantratio=True for membrane simulations.\n",
      "2021-06-25 20:02:18,482 - jobqueues.slurmqueue - INFO - Queueing /gpcr/users/daranda/doctorat/GPCR_simulations/simulation_output/production/6FKA/rep_2/\n"
     ]
    },
    {
     "name": "stdout",
     "output_type": "stream",
     "text": [
      "submitting replicate 3 of 6FKA\n"
     ]
    },
    {
     "name": "stderr",
     "output_type": "stream",
     "text": [
      "2021-06-25 20:02:49,115 - htmd.builder.builder - WARNING - Found cis peptide bond in 1 frames: [0] in the omega diheral \"Angle of (ASN 326 CA P P) (ASN 326 C P P) (PRO 327 N P P) (PRO 327 CA P P) \" with indexes [5216, 5226, 5228, 5232]\n",
      "2021-06-25 20:02:50,207 - htmd.protocols.production_v6 - WARNING - Lipids detected in input structure. We highly recommend setting useconstantratio=True for membrane simulations.\n",
      "2021-06-25 20:02:50,497 - jobqueues.slurmqueue - INFO - Queueing /gpcr/users/daranda/doctorat/GPCR_simulations/simulation_output/production/6FKA/rep_3/\n"
     ]
    },
    {
     "name": "stdout",
     "output_type": "stream",
     "text": [
      "submitting replicate 1 of 6ME5\n"
     ]
    },
    {
     "name": "stderr",
     "output_type": "stream",
     "text": [
      "2021-06-25 20:03:27,253 - htmd.protocols.production_v6 - WARNING - Lipids detected in input structure. We highly recommend setting useconstantratio=True for membrane simulations.\n",
      "2021-06-25 20:03:27,981 - jobqueues.slurmqueue - INFO - Queueing /gpcr/users/daranda/doctorat/GPCR_simulations/simulation_output/production/6ME5_apo/rep_1/\n"
     ]
    },
    {
     "name": "stdout",
     "output_type": "stream",
     "text": [
      "submitting replicate 2 of 6ME5\n"
     ]
    },
    {
     "name": "stderr",
     "output_type": "stream",
     "text": [
      "2021-06-25 20:04:04,411 - htmd.protocols.production_v6 - WARNING - Lipids detected in input structure. We highly recommend setting useconstantratio=True for membrane simulations.\n",
      "2021-06-25 20:04:04,747 - jobqueues.slurmqueue - INFO - Queueing /gpcr/users/daranda/doctorat/GPCR_simulations/simulation_output/production/6ME5_apo/rep_2/\n"
     ]
    },
    {
     "name": "stdout",
     "output_type": "stream",
     "text": [
      "submitting replicate 3 of 6ME5\n"
     ]
    },
    {
     "name": "stderr",
     "output_type": "stream",
     "text": [
      "2021-06-25 20:04:41,192 - htmd.protocols.production_v6 - WARNING - Lipids detected in input structure. We highly recommend setting useconstantratio=True for membrane simulations.\n",
      "2021-06-25 20:04:41,528 - jobqueues.slurmqueue - INFO - Queueing /gpcr/users/daranda/doctorat/GPCR_simulations/simulation_output/production/6ME5_apo/rep_3/\n"
     ]
    },
    {
     "name": "stdout",
     "output_type": "stream",
     "text": [
      "submitting replicate 1 of 6ME5\n"
     ]
    },
    {
     "name": "stderr",
     "output_type": "stream",
     "text": [
      "2021-06-25 20:05:17,718 - htmd.protocols.production_v6 - WARNING - Lipids detected in input structure. We highly recommend setting useconstantratio=True for membrane simulations.\n",
      "2021-06-25 20:05:18,583 - jobqueues.slurmqueue - INFO - Queueing /gpcr/users/daranda/doctorat/GPCR_simulations/simulation_output/production/6ME5/rep_1/\n"
     ]
    },
    {
     "name": "stdout",
     "output_type": "stream",
     "text": [
      "submitting replicate 2 of 6ME5\n"
     ]
    },
    {
     "name": "stderr",
     "output_type": "stream",
     "text": [
      "2021-06-25 20:05:54,777 - htmd.protocols.production_v6 - WARNING - Lipids detected in input structure. We highly recommend setting useconstantratio=True for membrane simulations.\n",
      "2021-06-25 20:05:55,157 - jobqueues.slurmqueue - INFO - Queueing /gpcr/users/daranda/doctorat/GPCR_simulations/simulation_output/production/6ME5/rep_2/\n"
     ]
    },
    {
     "name": "stdout",
     "output_type": "stream",
     "text": [
      "submitting replicate 3 of 6ME5\n"
     ]
    },
    {
     "name": "stderr",
     "output_type": "stream",
     "text": [
      "2021-06-25 20:06:31,329 - htmd.protocols.production_v6 - WARNING - Lipids detected in input structure. We highly recommend setting useconstantratio=True for membrane simulations.\n",
      "2021-06-25 20:06:31,695 - jobqueues.slurmqueue - INFO - Queueing /gpcr/users/daranda/doctorat/GPCR_simulations/simulation_output/production/6ME5/rep_3/\n"
     ]
    },
    {
     "name": "stdout",
     "output_type": "stream",
     "text": [
      "submitting replicate 1 of 6PS4\n"
     ]
    },
    {
     "name": "stderr",
     "output_type": "stream",
     "text": [
      "2021-06-25 20:07:12,291 - htmd.protocols.production_v6 - WARNING - Lipids detected in input structure. We highly recommend setting useconstantratio=True for membrane simulations.\n",
      "2021-06-25 20:07:13,042 - jobqueues.slurmqueue - INFO - Queueing /gpcr/users/daranda/doctorat/GPCR_simulations/simulation_output/production/6PS4_apo/rep_1/\n"
     ]
    },
    {
     "name": "stdout",
     "output_type": "stream",
     "text": [
      "submitting replicate 2 of 6PS4\n"
     ]
    },
    {
     "name": "stderr",
     "output_type": "stream",
     "text": [
      "2021-06-25 20:07:52,418 - htmd.protocols.production_v6 - WARNING - Lipids detected in input structure. We highly recommend setting useconstantratio=True for membrane simulations.\n",
      "2021-06-25 20:07:52,773 - jobqueues.slurmqueue - INFO - Queueing /gpcr/users/daranda/doctorat/GPCR_simulations/simulation_output/production/6PS4_apo/rep_2/\n"
     ]
    },
    {
     "name": "stdout",
     "output_type": "stream",
     "text": [
      "submitting replicate 3 of 6PS4\n"
     ]
    },
    {
     "name": "stderr",
     "output_type": "stream",
     "text": [
      "2021-06-25 20:08:37,121 - htmd.protocols.production_v6 - WARNING - Lipids detected in input structure. We highly recommend setting useconstantratio=True for membrane simulations.\n",
      "2021-06-25 20:08:37,490 - jobqueues.slurmqueue - INFO - Queueing /gpcr/users/daranda/doctorat/GPCR_simulations/simulation_output/production/6PS4_apo/rep_3/\n"
     ]
    },
    {
     "name": "stdout",
     "output_type": "stream",
     "text": [
      "submitting replicate 1 of 6PS4\n"
     ]
    },
    {
     "name": "stderr",
     "output_type": "stream",
     "text": [
      "2021-06-25 20:09:18,943 - htmd.protocols.production_v6 - WARNING - Lipids detected in input structure. We highly recommend setting useconstantratio=True for membrane simulations.\n",
      "2021-06-25 20:09:19,803 - jobqueues.slurmqueue - INFO - Queueing /gpcr/users/daranda/doctorat/GPCR_simulations/simulation_output/production/6PS4/rep_1/\n"
     ]
    },
    {
     "name": "stdout",
     "output_type": "stream",
     "text": [
      "submitting replicate 2 of 6PS4\n"
     ]
    },
    {
     "name": "stderr",
     "output_type": "stream",
     "text": [
      "2021-06-25 20:10:00,757 - htmd.protocols.production_v6 - WARNING - Lipids detected in input structure. We highly recommend setting useconstantratio=True for membrane simulations.\n",
      "2021-06-25 20:10:01,160 - jobqueues.slurmqueue - INFO - Queueing /gpcr/users/daranda/doctorat/GPCR_simulations/simulation_output/production/6PS4/rep_2/\n"
     ]
    },
    {
     "name": "stdout",
     "output_type": "stream",
     "text": [
      "submitting replicate 3 of 6PS4\n"
     ]
    },
    {
     "name": "stderr",
     "output_type": "stream",
     "text": [
      "2021-06-25 20:10:42,118 - htmd.protocols.production_v6 - WARNING - Lipids detected in input structure. We highly recommend setting useconstantratio=True for membrane simulations.\n",
      "2021-06-25 20:10:42,505 - jobqueues.slurmqueue - INFO - Queueing /gpcr/users/daranda/doctorat/GPCR_simulations/simulation_output/production/6PS4/rep_3/\n"
     ]
    },
    {
     "name": "stdout",
     "output_type": "stream",
     "text": [
      "submitting replicate 1 of 5T1A\n"
     ]
    },
    {
     "name": "stderr",
     "output_type": "stream",
     "text": [
      "2021-06-25 20:11:06,965 - htmd.protocols.production_v6 - WARNING - Lipids detected in input structure. We highly recommend setting useconstantratio=True for membrane simulations.\n",
      "2021-06-25 20:11:07,551 - jobqueues.slurmqueue - INFO - Queueing /gpcr/users/daranda/doctorat/GPCR_simulations/simulation_output/production/5T1A_apo/rep_1/\n"
     ]
    },
    {
     "name": "stdout",
     "output_type": "stream",
     "text": [
      "submitting replicate 2 of 5T1A\n"
     ]
    },
    {
     "name": "stderr",
     "output_type": "stream",
     "text": [
      "2021-06-25 20:11:31,836 - htmd.protocols.production_v6 - WARNING - Lipids detected in input structure. We highly recommend setting useconstantratio=True for membrane simulations.\n",
      "2021-06-25 20:11:32,092 - jobqueues.slurmqueue - INFO - Queueing /gpcr/users/daranda/doctorat/GPCR_simulations/simulation_output/production/5T1A_apo/rep_2/\n"
     ]
    },
    {
     "name": "stdout",
     "output_type": "stream",
     "text": [
      "submitting replicate 3 of 5T1A\n"
     ]
    },
    {
     "name": "stderr",
     "output_type": "stream",
     "text": [
      "2021-06-25 20:11:56,647 - htmd.protocols.production_v6 - WARNING - Lipids detected in input structure. We highly recommend setting useconstantratio=True for membrane simulations.\n",
      "2021-06-25 20:11:56,882 - jobqueues.slurmqueue - INFO - Queueing /gpcr/users/daranda/doctorat/GPCR_simulations/simulation_output/production/5T1A_apo/rep_3/\n"
     ]
    },
    {
     "name": "stdout",
     "output_type": "stream",
     "text": [
      "submitting replicate 1 of 5T1A\n"
     ]
    },
    {
     "name": "stderr",
     "output_type": "stream",
     "text": [
      "2021-06-25 20:12:21,277 - htmd.protocols.production_v6 - WARNING - Lipids detected in input structure. We highly recommend setting useconstantratio=True for membrane simulations.\n",
      "2021-06-25 20:12:21,909 - jobqueues.slurmqueue - INFO - Queueing /gpcr/users/daranda/doctorat/GPCR_simulations/simulation_output/production/5T1A/rep_1/\n"
     ]
    },
    {
     "name": "stdout",
     "output_type": "stream",
     "text": [
      "submitting replicate 2 of 5T1A\n"
     ]
    },
    {
     "name": "stderr",
     "output_type": "stream",
     "text": [
      "2021-06-25 20:12:46,593 - htmd.protocols.production_v6 - WARNING - Lipids detected in input structure. We highly recommend setting useconstantratio=True for membrane simulations.\n",
      "2021-06-25 20:12:46,873 - jobqueues.slurmqueue - INFO - Queueing /gpcr/users/daranda/doctorat/GPCR_simulations/simulation_output/production/5T1A/rep_2/\n"
     ]
    },
    {
     "name": "stdout",
     "output_type": "stream",
     "text": [
      "submitting replicate 3 of 5T1A\n"
     ]
    },
    {
     "name": "stderr",
     "output_type": "stream",
     "text": [
      "2021-06-25 20:13:11,385 - htmd.protocols.production_v6 - WARNING - Lipids detected in input structure. We highly recommend setting useconstantratio=True for membrane simulations.\n",
      "2021-06-25 20:13:11,661 - jobqueues.slurmqueue - INFO - Queueing /gpcr/users/daranda/doctorat/GPCR_simulations/simulation_output/production/5T1A/rep_3/\n"
     ]
    },
    {
     "name": "stdout",
     "output_type": "stream",
     "text": [
      "submitting replicate 1 of 5TE3\n"
     ]
    },
    {
     "name": "stderr",
     "output_type": "stream",
     "text": [
      "2021-06-25 20:13:42,478 - htmd.protocols.production_v6 - WARNING - Lipids detected in input structure. We highly recommend setting useconstantratio=True for membrane simulations.\n",
      "2021-06-25 20:13:43,197 - jobqueues.slurmqueue - INFO - Queueing /gpcr/users/daranda/doctorat/GPCR_simulations/simulation_output/production/5TE3_apo/rep_1/\n"
     ]
    },
    {
     "name": "stdout",
     "output_type": "stream",
     "text": [
      "submitting replicate 2 of 5TE3\n"
     ]
    },
    {
     "name": "stderr",
     "output_type": "stream",
     "text": [
      "2021-06-25 20:14:12,680 - htmd.protocols.production_v6 - WARNING - Lipids detected in input structure. We highly recommend setting useconstantratio=True for membrane simulations.\n",
      "2021-06-25 20:14:12,946 - jobqueues.slurmqueue - INFO - Queueing /gpcr/users/daranda/doctorat/GPCR_simulations/simulation_output/production/5TE3_apo/rep_2/\n"
     ]
    },
    {
     "name": "stdout",
     "output_type": "stream",
     "text": [
      "submitting replicate 3 of 5TE3\n"
     ]
    },
    {
     "name": "stderr",
     "output_type": "stream",
     "text": [
      "2021-06-25 20:14:42,601 - htmd.protocols.production_v6 - WARNING - Lipids detected in input structure. We highly recommend setting useconstantratio=True for membrane simulations.\n",
      "2021-06-25 20:14:42,861 - jobqueues.slurmqueue - INFO - Queueing /gpcr/users/daranda/doctorat/GPCR_simulations/simulation_output/production/5TE3_apo/rep_3/\n"
     ]
    },
    {
     "name": "stdout",
     "output_type": "stream",
     "text": [
      "submitting replicate 1 of 5TE3\n",
      "model 5TE3 could not be send to equilibrate because of  Could not locate file /gpcr/users/daranda/doctorat/GPCR_simulations/simulation_output//equil/5TE3/structure.pdb set by the user for argument Production.acemd.coordinates\n",
      "submitting replicate 2 of 5TE3\n",
      "model 5TE3 could not be send to equilibrate because of  Could not locate file /gpcr/users/daranda/doctorat/GPCR_simulations/simulation_output//equil/5TE3/structure.pdb set by the user for argument Production.acemd.coordinates\n",
      "submitting replicate 3 of 5TE3\n",
      "model 5TE3 could not be send to equilibrate because of  Could not locate file /gpcr/users/daranda/doctorat/GPCR_simulations/simulation_output//equil/5TE3/structure.pdb set by the user for argument Production.acemd.coordinates\n",
      "submitting replicate 1 of 5ZKQ\n"
     ]
    },
    {
     "name": "stderr",
     "output_type": "stream",
     "text": [
      "2021-06-25 20:15:17,873 - htmd.builder.builder - WARNING - Found cis peptide bond in 1 frames: [0] in the omega diheral \"Angle of (TYR 44 CA P P) (TYR 44 C P P) (PRO 45 N P P) (PRO 45 CA P P) \" with indexes [649, 666, 668, 672]\n",
      "2021-06-25 20:15:19,196 - htmd.protocols.production_v6 - WARNING - Lipids detected in input structure. We highly recommend setting useconstantratio=True for membrane simulations.\n",
      "2021-06-25 20:15:20,012 - jobqueues.slurmqueue - INFO - Queueing /gpcr/users/daranda/doctorat/GPCR_simulations/simulation_output/production/5ZKQ_apo/rep_1/\n"
     ]
    },
    {
     "name": "stdout",
     "output_type": "stream",
     "text": [
      "submitting replicate 2 of 5ZKQ\n"
     ]
    },
    {
     "name": "stderr",
     "output_type": "stream",
     "text": [
      "2021-06-25 20:15:54,374 - htmd.builder.builder - WARNING - Found cis peptide bond in 1 frames: [0] in the omega diheral \"Angle of (TYR 44 CA P P) (TYR 44 C P P) (PRO 45 N P P) (PRO 45 CA P P) \" with indexes [649, 666, 668, 672]\n",
      "2021-06-25 20:15:55,704 - htmd.protocols.production_v6 - WARNING - Lipids detected in input structure. We highly recommend setting useconstantratio=True for membrane simulations.\n",
      "2021-06-25 20:15:56,046 - jobqueues.slurmqueue - INFO - Queueing /gpcr/users/daranda/doctorat/GPCR_simulations/simulation_output/production/5ZKQ_apo/rep_2/\n"
     ]
    },
    {
     "name": "stdout",
     "output_type": "stream",
     "text": [
      "submitting replicate 3 of 5ZKQ\n"
     ]
    },
    {
     "name": "stderr",
     "output_type": "stream",
     "text": [
      "2021-06-25 20:16:29,958 - htmd.builder.builder - WARNING - Found cis peptide bond in 1 frames: [0] in the omega diheral \"Angle of (TYR 44 CA P P) (TYR 44 C P P) (PRO 45 N P P) (PRO 45 CA P P) \" with indexes [649, 666, 668, 672]\n",
      "2021-06-25 20:16:31,161 - htmd.protocols.production_v6 - WARNING - Lipids detected in input structure. We highly recommend setting useconstantratio=True for membrane simulations.\n",
      "2021-06-25 20:16:31,508 - jobqueues.slurmqueue - INFO - Queueing /gpcr/users/daranda/doctorat/GPCR_simulations/simulation_output/production/5ZKQ_apo/rep_3/\n"
     ]
    },
    {
     "name": "stdout",
     "output_type": "stream",
     "text": [
      "submitting replicate 1 of 5ZKQ\n"
     ]
    },
    {
     "name": "stderr",
     "output_type": "stream",
     "text": [
      "2021-06-25 20:17:06,861 - htmd.builder.builder - WARNING - Found cis peptide bond in 1 frames: [0] in the omega diheral \"Angle of (TYR 44 CA P P) (TYR 44 C P P) (PRO 45 N P P) (PRO 45 CA P P) \" with indexes [708, 725, 727, 731]\n",
      "2021-06-25 20:17:08,194 - htmd.protocols.production_v6 - WARNING - Lipids detected in input structure. We highly recommend setting useconstantratio=True for membrane simulations.\n",
      "2021-06-25 20:17:09,057 - jobqueues.slurmqueue - INFO - Queueing /gpcr/users/daranda/doctorat/GPCR_simulations/simulation_output/production/5ZKQ/rep_1/\n"
     ]
    },
    {
     "name": "stdout",
     "output_type": "stream",
     "text": [
      "submitting replicate 2 of 5ZKQ\n"
     ]
    },
    {
     "name": "stderr",
     "output_type": "stream",
     "text": [
      "2021-06-25 20:17:44,396 - htmd.builder.builder - WARNING - Found cis peptide bond in 1 frames: [0] in the omega diheral \"Angle of (TYR 44 CA P P) (TYR 44 C P P) (PRO 45 N P P) (PRO 45 CA P P) \" with indexes [708, 725, 727, 731]\n",
      "2021-06-25 20:17:45,728 - htmd.protocols.production_v6 - WARNING - Lipids detected in input structure. We highly recommend setting useconstantratio=True for membrane simulations.\n",
      "2021-06-25 20:17:46,139 - jobqueues.slurmqueue - INFO - Queueing /gpcr/users/daranda/doctorat/GPCR_simulations/simulation_output/production/5ZKQ/rep_2/\n"
     ]
    },
    {
     "name": "stdout",
     "output_type": "stream",
     "text": [
      "submitting replicate 3 of 5ZKQ\n"
     ]
    },
    {
     "name": "stderr",
     "output_type": "stream",
     "text": [
      "2021-06-25 20:18:21,425 - htmd.builder.builder - WARNING - Found cis peptide bond in 1 frames: [0] in the omega diheral \"Angle of (TYR 44 CA P P) (TYR 44 C P P) (PRO 45 N P P) (PRO 45 CA P P) \" with indexes [708, 725, 727, 731]\n",
      "2021-06-25 20:18:22,753 - htmd.protocols.production_v6 - WARNING - Lipids detected in input structure. We highly recommend setting useconstantratio=True for membrane simulations.\n",
      "2021-06-25 20:18:23,144 - jobqueues.slurmqueue - INFO - Queueing /gpcr/users/daranda/doctorat/GPCR_simulations/simulation_output/production/5ZKQ/rep_3/\n"
     ]
    },
    {
     "name": "stdout",
     "output_type": "stream",
     "text": [
      "submitting replicate 1 of 6FFH\n"
     ]
    },
    {
     "name": "stderr",
     "output_type": "stream",
     "text": [
      "2021-06-25 20:18:50,790 - htmd.protocols.production_v6 - WARNING - Lipids detected in input structure. We highly recommend setting useconstantratio=True for membrane simulations.\n",
      "2021-06-25 20:18:51,495 - jobqueues.slurmqueue - INFO - Queueing /gpcr/users/daranda/doctorat/GPCR_simulations/simulation_output/production/6FFH_apo/rep_1/\n"
     ]
    },
    {
     "name": "stdout",
     "output_type": "stream",
     "text": [
      "submitting replicate 2 of 6FFH\n"
     ]
    },
    {
     "name": "stderr",
     "output_type": "stream",
     "text": [
      "2021-06-25 20:19:19,052 - htmd.protocols.production_v6 - WARNING - Lipids detected in input structure. We highly recommend setting useconstantratio=True for membrane simulations.\n",
      "2021-06-25 20:19:19,338 - jobqueues.slurmqueue - INFO - Queueing /gpcr/users/daranda/doctorat/GPCR_simulations/simulation_output/production/6FFH_apo/rep_2/\n"
     ]
    },
    {
     "name": "stdout",
     "output_type": "stream",
     "text": [
      "submitting replicate 3 of 6FFH\n"
     ]
    },
    {
     "name": "stderr",
     "output_type": "stream",
     "text": [
      "2021-06-25 20:19:46,554 - htmd.protocols.production_v6 - WARNING - Lipids detected in input structure. We highly recommend setting useconstantratio=True for membrane simulations.\n",
      "2021-06-25 20:19:46,818 - jobqueues.slurmqueue - INFO - Queueing /gpcr/users/daranda/doctorat/GPCR_simulations/simulation_output/production/6FFH_apo/rep_3/\n"
     ]
    },
    {
     "name": "stdout",
     "output_type": "stream",
     "text": [
      "submitting replicate 1 of 6FFH\n"
     ]
    },
    {
     "name": "stderr",
     "output_type": "stream",
     "text": [
      "2021-06-25 20:20:14,352 - htmd.protocols.production_v6 - WARNING - Lipids detected in input structure. We highly recommend setting useconstantratio=True for membrane simulations.\n",
      "2021-06-25 20:20:15,022 - jobqueues.slurmqueue - INFO - Queueing /gpcr/users/daranda/doctorat/GPCR_simulations/simulation_output/production/6FFH/rep_1/\n"
     ]
    },
    {
     "name": "stdout",
     "output_type": "stream",
     "text": [
      "submitting replicate 2 of 6FFH\n"
     ]
    },
    {
     "name": "stderr",
     "output_type": "stream",
     "text": [
      "2021-06-25 20:20:42,564 - htmd.protocols.production_v6 - WARNING - Lipids detected in input structure. We highly recommend setting useconstantratio=True for membrane simulations.\n",
      "2021-06-25 20:20:42,847 - jobqueues.slurmqueue - INFO - Queueing /gpcr/users/daranda/doctorat/GPCR_simulations/simulation_output/production/6FFH/rep_2/\n"
     ]
    },
    {
     "name": "stdout",
     "output_type": "stream",
     "text": [
      "submitting replicate 3 of 6FFH\n"
     ]
    },
    {
     "name": "stderr",
     "output_type": "stream",
     "text": [
      "2021-06-25 20:21:10,593 - htmd.protocols.production_v6 - WARNING - Lipids detected in input structure. We highly recommend setting useconstantratio=True for membrane simulations.\n",
      "2021-06-25 20:21:10,894 - jobqueues.slurmqueue - INFO - Queueing /gpcr/users/daranda/doctorat/GPCR_simulations/simulation_output/production/6FFH/rep_3/\n"
     ]
    },
    {
     "name": "stdout",
     "output_type": "stream",
     "text": [
      "submitting replicate 1 of 5ZKP\n"
     ]
    },
    {
     "name": "stderr",
     "output_type": "stream",
     "text": [
      "2021-06-25 20:21:42,354 - htmd.protocols.production_v6 - WARNING - Lipids detected in input structure. We highly recommend setting useconstantratio=True for membrane simulations.\n",
      "2021-06-25 20:21:43,082 - jobqueues.slurmqueue - INFO - Queueing /gpcr/users/daranda/doctorat/GPCR_simulations/simulation_output/production/5ZKP_apo/rep_1/\n"
     ]
    },
    {
     "name": "stdout",
     "output_type": "stream",
     "text": [
      "submitting replicate 2 of 5ZKP\n"
     ]
    },
    {
     "name": "stderr",
     "output_type": "stream",
     "text": [
      "2021-06-25 20:22:13,980 - htmd.protocols.production_v6 - WARNING - Lipids detected in input structure. We highly recommend setting useconstantratio=True for membrane simulations.\n",
      "2021-06-25 20:22:14,297 - jobqueues.slurmqueue - INFO - Queueing /gpcr/users/daranda/doctorat/GPCR_simulations/simulation_output/production/5ZKP_apo/rep_2/\n"
     ]
    },
    {
     "name": "stdout",
     "output_type": "stream",
     "text": [
      "submitting replicate 3 of 5ZKP\n"
     ]
    },
    {
     "name": "stderr",
     "output_type": "stream",
     "text": [
      "2021-06-25 20:22:46,282 - htmd.protocols.production_v6 - WARNING - Lipids detected in input structure. We highly recommend setting useconstantratio=True for membrane simulations.\n",
      "2021-06-25 20:22:46,584 - jobqueues.slurmqueue - INFO - Queueing /gpcr/users/daranda/doctorat/GPCR_simulations/simulation_output/production/5ZKP_apo/rep_3/\n"
     ]
    },
    {
     "name": "stdout",
     "output_type": "stream",
     "text": [
      "submitting replicate 1 of 5ZKP\n"
     ]
    },
    {
     "name": "stderr",
     "output_type": "stream",
     "text": [
      "2021-06-25 20:23:18,811 - htmd.protocols.production_v6 - WARNING - Lipids detected in input structure. We highly recommend setting useconstantratio=True for membrane simulations.\n",
      "2021-06-25 20:23:20,602 - jobqueues.slurmqueue - INFO - Queueing /gpcr/users/daranda/doctorat/GPCR_simulations/simulation_output/production/5ZKP/rep_1/\n"
     ]
    },
    {
     "name": "stdout",
     "output_type": "stream",
     "text": [
      "submitting replicate 2 of 5ZKP\n"
     ]
    },
    {
     "name": "stderr",
     "output_type": "stream",
     "text": [
      "2021-06-25 20:23:52,030 - htmd.protocols.production_v6 - WARNING - Lipids detected in input structure. We highly recommend setting useconstantratio=True for membrane simulations.\n",
      "2021-06-25 20:23:52,383 - jobqueues.slurmqueue - INFO - Queueing /gpcr/users/daranda/doctorat/GPCR_simulations/simulation_output/production/5ZKP/rep_2/\n"
     ]
    },
    {
     "name": "stdout",
     "output_type": "stream",
     "text": [
      "submitting replicate 3 of 5ZKP\n"
     ]
    },
    {
     "name": "stderr",
     "output_type": "stream",
     "text": [
      "2021-06-25 20:24:23,848 - htmd.protocols.production_v6 - WARNING - Lipids detected in input structure. We highly recommend setting useconstantratio=True for membrane simulations.\n",
      "2021-06-25 20:24:24,200 - jobqueues.slurmqueue - INFO - Queueing /gpcr/users/daranda/doctorat/GPCR_simulations/simulation_output/production/5ZKP/rep_3/\n"
     ]
    },
    {
     "name": "stdout",
     "output_type": "stream",
     "text": [
      "submitting replicate 1 of 5TE5\n"
     ]
    },
    {
     "name": "stderr",
     "output_type": "stream",
     "text": [
      "2021-06-25 20:24:53,728 - htmd.protocols.production_v6 - WARNING - Lipids detected in input structure. We highly recommend setting useconstantratio=True for membrane simulations.\n",
      "2021-06-25 20:24:54,378 - jobqueues.slurmqueue - INFO - Queueing /gpcr/users/daranda/doctorat/GPCR_simulations/simulation_output/production/5TE5_apo/rep_1/\n"
     ]
    },
    {
     "name": "stdout",
     "output_type": "stream",
     "text": [
      "submitting replicate 2 of 5TE5\n"
     ]
    },
    {
     "name": "stderr",
     "output_type": "stream",
     "text": [
      "2021-06-25 20:25:24,526 - htmd.protocols.production_v6 - WARNING - Lipids detected in input structure. We highly recommend setting useconstantratio=True for membrane simulations.\n",
      "2021-06-25 20:25:24,798 - jobqueues.slurmqueue - INFO - Queueing /gpcr/users/daranda/doctorat/GPCR_simulations/simulation_output/production/5TE5_apo/rep_2/\n"
     ]
    },
    {
     "name": "stdout",
     "output_type": "stream",
     "text": [
      "submitting replicate 3 of 5TE5\n"
     ]
    },
    {
     "name": "stderr",
     "output_type": "stream",
     "text": [
      "2021-06-25 20:25:54,195 - htmd.protocols.production_v6 - WARNING - Lipids detected in input structure. We highly recommend setting useconstantratio=True for membrane simulations.\n",
      "2021-06-25 20:25:54,473 - jobqueues.slurmqueue - INFO - Queueing /gpcr/users/daranda/doctorat/GPCR_simulations/simulation_output/production/5TE5_apo/rep_3/\n"
     ]
    },
    {
     "name": "stdout",
     "output_type": "stream",
     "text": [
      "submitting replicate 1 of 5TE5\n"
     ]
    },
    {
     "name": "stderr",
     "output_type": "stream",
     "text": [
      "2021-06-25 20:26:24,400 - htmd.protocols.production_v6 - WARNING - Lipids detected in input structure. We highly recommend setting useconstantratio=True for membrane simulations.\n",
      "2021-06-25 20:26:25,089 - jobqueues.slurmqueue - INFO - Queueing /gpcr/users/daranda/doctorat/GPCR_simulations/simulation_output/production/5TE5/rep_1/\n"
     ]
    },
    {
     "name": "stdout",
     "output_type": "stream",
     "text": [
      "submitting replicate 2 of 5TE5\n"
     ]
    },
    {
     "name": "stderr",
     "output_type": "stream",
     "text": [
      "2021-06-25 20:26:55,351 - htmd.protocols.production_v6 - WARNING - Lipids detected in input structure. We highly recommend setting useconstantratio=True for membrane simulations.\n",
      "2021-06-25 20:26:55,659 - jobqueues.slurmqueue - INFO - Queueing /gpcr/users/daranda/doctorat/GPCR_simulations/simulation_output/production/5TE5/rep_2/\n"
     ]
    },
    {
     "name": "stdout",
     "output_type": "stream",
     "text": [
      "submitting replicate 3 of 5TE5\n"
     ]
    },
    {
     "name": "stderr",
     "output_type": "stream",
     "text": [
      "2021-06-25 20:27:25,430 - htmd.protocols.production_v6 - WARNING - Lipids detected in input structure. We highly recommend setting useconstantratio=True for membrane simulations.\n",
      "2021-06-25 20:27:25,758 - jobqueues.slurmqueue - INFO - Queueing /gpcr/users/daranda/doctorat/GPCR_simulations/simulation_output/production/5TE5/rep_3/\n"
     ]
    },
    {
     "name": "stdout",
     "output_type": "stream",
     "text": [
      "submitting replicate 1 of 5OLH\n"
     ]
    },
    {
     "name": "stderr",
     "output_type": "stream",
     "text": [
      "2021-06-25 20:28:00,995 - htmd.builder.builder - WARNING - Found cis peptide bond in 1 frames: [0] in the omega diheral \"Angle of (LEU 216 CA P P) (LEU 216 C P P) (PRO 217 N P P) (PRO 217 CA P P) \" with indexes [3337, 3352, 3354, 3358]\n",
      "2021-06-25 20:28:02,319 - htmd.protocols.production_v6 - WARNING - Lipids detected in input structure. We highly recommend setting useconstantratio=True for membrane simulations.\n",
      "2021-06-25 20:28:03,084 - jobqueues.slurmqueue - INFO - Queueing /gpcr/users/daranda/doctorat/GPCR_simulations/simulation_output/production/5OLH_apo/rep_1/\n"
     ]
    },
    {
     "name": "stdout",
     "output_type": "stream",
     "text": [
      "submitting replicate 2 of 5OLH\n"
     ]
    },
    {
     "name": "stderr",
     "output_type": "stream",
     "text": [
      "2021-06-25 20:28:39,069 - htmd.builder.builder - WARNING - Found cis peptide bond in 1 frames: [0] in the omega diheral \"Angle of (LEU 216 CA P P) (LEU 216 C P P) (PRO 217 N P P) (PRO 217 CA P P) \" with indexes [3337, 3352, 3354, 3358]\n",
      "2021-06-25 20:28:40,384 - htmd.protocols.production_v6 - WARNING - Lipids detected in input structure. We highly recommend setting useconstantratio=True for membrane simulations.\n",
      "2021-06-25 20:28:40,718 - jobqueues.slurmqueue - INFO - Queueing /gpcr/users/daranda/doctorat/GPCR_simulations/simulation_output/production/5OLH_apo/rep_2/\n"
     ]
    },
    {
     "name": "stdout",
     "output_type": "stream",
     "text": [
      "submitting replicate 3 of 5OLH\n"
     ]
    },
    {
     "name": "stderr",
     "output_type": "stream",
     "text": [
      "2021-06-25 20:29:16,862 - htmd.builder.builder - WARNING - Found cis peptide bond in 1 frames: [0] in the omega diheral \"Angle of (LEU 216 CA P P) (LEU 216 C P P) (PRO 217 N P P) (PRO 217 CA P P) \" with indexes [3337, 3352, 3354, 3358]\n",
      "2021-06-25 20:29:18,177 - htmd.protocols.production_v6 - WARNING - Lipids detected in input structure. We highly recommend setting useconstantratio=True for membrane simulations.\n",
      "2021-06-25 20:29:18,493 - jobqueues.slurmqueue - INFO - Queueing /gpcr/users/daranda/doctorat/GPCR_simulations/simulation_output/production/5OLH_apo/rep_3/\n"
     ]
    },
    {
     "name": "stdout",
     "output_type": "stream",
     "text": [
      "submitting replicate 1 of 5OLH\n"
     ]
    },
    {
     "name": "stderr",
     "output_type": "stream",
     "text": [
      "2021-06-25 20:29:53,343 - htmd.builder.builder - WARNING - Found cis peptide bond in 1 frames: [0] in the omega diheral \"Angle of (LEU 216 CA P P) (LEU 216 C P P) (PRO 217 N P P) (PRO 217 CA P P) \" with indexes [3599, 3614, 3616, 3620]\n",
      "2021-06-25 20:29:54,670 - htmd.protocols.production_v6 - WARNING - Lipids detected in input structure. We highly recommend setting useconstantratio=True for membrane simulations.\n",
      "2021-06-25 20:29:55,520 - jobqueues.slurmqueue - INFO - Queueing /gpcr/users/daranda/doctorat/GPCR_simulations/simulation_output/production/5OLH/rep_1/\n"
     ]
    },
    {
     "name": "stdout",
     "output_type": "stream",
     "text": [
      "submitting replicate 2 of 5OLH\n"
     ]
    },
    {
     "name": "stderr",
     "output_type": "stream",
     "text": [
      "2021-06-25 20:30:29,994 - htmd.builder.builder - WARNING - Found cis peptide bond in 1 frames: [0] in the omega diheral \"Angle of (LEU 216 CA P P) (LEU 216 C P P) (PRO 217 N P P) (PRO 217 CA P P) \" with indexes [3599, 3614, 3616, 3620]\n",
      "2021-06-25 20:30:31,318 - htmd.protocols.production_v6 - WARNING - Lipids detected in input structure. We highly recommend setting useconstantratio=True for membrane simulations.\n",
      "2021-06-25 20:30:31,722 - jobqueues.slurmqueue - INFO - Queueing /gpcr/users/daranda/doctorat/GPCR_simulations/simulation_output/production/5OLH/rep_2/\n"
     ]
    },
    {
     "name": "stdout",
     "output_type": "stream",
     "text": [
      "submitting replicate 3 of 5OLH\n"
     ]
    },
    {
     "name": "stderr",
     "output_type": "stream",
     "text": [
      "2021-06-25 20:31:07,300 - htmd.builder.builder - WARNING - Found cis peptide bond in 1 frames: [0] in the omega diheral \"Angle of (LEU 216 CA P P) (LEU 216 C P P) (PRO 217 N P P) (PRO 217 CA P P) \" with indexes [3599, 3614, 3616, 3620]\n",
      "2021-06-25 20:31:08,623 - htmd.protocols.production_v6 - WARNING - Lipids detected in input structure. We highly recommend setting useconstantratio=True for membrane simulations.\n",
      "2021-06-25 20:31:09,037 - jobqueues.slurmqueue - INFO - Queueing /gpcr/users/daranda/doctorat/GPCR_simulations/simulation_output/production/5OLH/rep_3/\n"
     ]
    },
    {
     "name": "stdout",
     "output_type": "stream",
     "text": [
      "submitting replicate 1 of 5XRA\n"
     ]
    },
    {
     "name": "stderr",
     "output_type": "stream",
     "text": [
      "2021-06-25 20:31:40,376 - htmd.builder.builder - WARNING - Found cis peptide bond in 1 frames: [0] in the omega diheral \"Angle of (ARG 148 CA P0 P) (ARG 148 C P0 P) (CYS 149 N P0 P) (CYS 149 CA P0 P) \" with indexes [704, 724, 726, 728]\n",
      "2021-06-25 20:31:41,446 - htmd.protocols.production_v6 - WARNING - Lipids detected in input structure. We highly recommend setting useconstantratio=True for membrane simulations.\n",
      "2021-06-25 20:31:42,135 - jobqueues.slurmqueue - INFO - Queueing /gpcr/users/daranda/doctorat/GPCR_simulations/simulation_output/production/5XRA_apo/rep_1/\n"
     ]
    },
    {
     "name": "stdout",
     "output_type": "stream",
     "text": [
      "submitting replicate 2 of 5XRA\n"
     ]
    },
    {
     "name": "stderr",
     "output_type": "stream",
     "text": [
      "2021-06-25 20:32:12,959 - htmd.builder.builder - WARNING - Found cis peptide bond in 1 frames: [0] in the omega diheral \"Angle of (ARG 148 CA P0 P) (ARG 148 C P0 P) (CYS 149 N P0 P) (CYS 149 CA P0 P) \" with indexes [704, 724, 726, 728]\n",
      "2021-06-25 20:32:14,116 - htmd.protocols.production_v6 - WARNING - Lipids detected in input structure. We highly recommend setting useconstantratio=True for membrane simulations.\n",
      "2021-06-25 20:32:14,438 - jobqueues.slurmqueue - INFO - Queueing /gpcr/users/daranda/doctorat/GPCR_simulations/simulation_output/production/5XRA_apo/rep_2/\n"
     ]
    },
    {
     "name": "stdout",
     "output_type": "stream",
     "text": [
      "submitting replicate 3 of 5XRA\n"
     ]
    },
    {
     "name": "stderr",
     "output_type": "stream",
     "text": [
      "2021-06-25 20:32:46,086 - htmd.builder.builder - WARNING - Found cis peptide bond in 1 frames: [0] in the omega diheral \"Angle of (ARG 148 CA P0 P) (ARG 148 C P0 P) (CYS 149 N P0 P) (CYS 149 CA P0 P) \" with indexes [704, 724, 726, 728]\n",
      "2021-06-25 20:32:47,246 - htmd.protocols.production_v6 - WARNING - Lipids detected in input structure. We highly recommend setting useconstantratio=True for membrane simulations.\n",
      "2021-06-25 20:32:47,548 - jobqueues.slurmqueue - INFO - Queueing /gpcr/users/daranda/doctorat/GPCR_simulations/simulation_output/production/5XRA_apo/rep_3/\n"
     ]
    },
    {
     "name": "stdout",
     "output_type": "stream",
     "text": [
      "submitting replicate 1 of 5XRA\n"
     ]
    },
    {
     "name": "stderr",
     "output_type": "stream",
     "text": [
      "2021-06-25 20:33:19,066 - htmd.builder.builder - WARNING - Found cis peptide bond in 1 frames: [0] in the omega diheral \"Angle of (ARG 148 CA P0 P) (ARG 148 C P0 P) (CYS 149 N P0 P) (CYS 149 CA P0 P) \" with indexes [847, 867, 869, 871]\n",
      "2021-06-25 20:33:20,234 - htmd.protocols.production_v6 - WARNING - Lipids detected in input structure. We highly recommend setting useconstantratio=True for membrane simulations.\n",
      "2021-06-25 20:33:21,047 - jobqueues.slurmqueue - INFO - Queueing /gpcr/users/daranda/doctorat/GPCR_simulations/simulation_output/production/5XRA/rep_1/\n"
     ]
    },
    {
     "name": "stdout",
     "output_type": "stream",
     "text": [
      "submitting replicate 2 of 5XRA\n"
     ]
    },
    {
     "name": "stderr",
     "output_type": "stream",
     "text": [
      "2021-06-25 20:33:51,173 - htmd.builder.builder - WARNING - Found cis peptide bond in 1 frames: [0] in the omega diheral \"Angle of (ARG 148 CA P0 P) (ARG 148 C P0 P) (CYS 149 N P0 P) (CYS 149 CA P0 P) \" with indexes [847, 867, 869, 871]\n",
      "2021-06-25 20:33:52,336 - htmd.protocols.production_v6 - WARNING - Lipids detected in input structure. We highly recommend setting useconstantratio=True for membrane simulations.\n",
      "2021-06-25 20:33:52,703 - jobqueues.slurmqueue - INFO - Queueing /gpcr/users/daranda/doctorat/GPCR_simulations/simulation_output/production/5XRA/rep_2/\n"
     ]
    },
    {
     "name": "stdout",
     "output_type": "stream",
     "text": [
      "submitting replicate 3 of 5XRA\n"
     ]
    },
    {
     "name": "stderr",
     "output_type": "stream",
     "text": [
      "2021-06-25 20:34:23,314 - htmd.builder.builder - WARNING - Found cis peptide bond in 1 frames: [0] in the omega diheral \"Angle of (ARG 148 CA P0 P) (ARG 148 C P0 P) (CYS 149 N P0 P) (CYS 149 CA P0 P) \" with indexes [847, 867, 869, 871]\n",
      "2021-06-25 20:34:24,477 - htmd.protocols.production_v6 - WARNING - Lipids detected in input structure. We highly recommend setting useconstantratio=True for membrane simulations.\n",
      "2021-06-25 20:34:24,816 - jobqueues.slurmqueue - INFO - Queueing /gpcr/users/daranda/doctorat/GPCR_simulations/simulation_output/production/5XRA/rep_3/\n"
     ]
    },
    {
     "name": "stdout",
     "output_type": "stream",
     "text": [
      "submitting replicate 1 of 6TP4\n"
     ]
    },
    {
     "name": "stderr",
     "output_type": "stream",
     "text": [
      "2021-06-25 20:35:05,663 - htmd.protocols.production_v6 - WARNING - Lipids detected in input structure. We highly recommend setting useconstantratio=True for membrane simulations.\n",
      "2021-06-25 20:35:06,450 - jobqueues.slurmqueue - INFO - Queueing /gpcr/users/daranda/doctorat/GPCR_simulations/simulation_output/production/6TP4_apo/rep_1/\n"
     ]
    },
    {
     "name": "stdout",
     "output_type": "stream",
     "text": [
      "submitting replicate 2 of 6TP4\n"
     ]
    },
    {
     "name": "stderr",
     "output_type": "stream",
     "text": [
      "2021-06-25 20:35:46,370 - htmd.protocols.production_v6 - WARNING - Lipids detected in input structure. We highly recommend setting useconstantratio=True for membrane simulations.\n",
      "2021-06-25 20:35:46,738 - jobqueues.slurmqueue - INFO - Queueing /gpcr/users/daranda/doctorat/GPCR_simulations/simulation_output/production/6TP4_apo/rep_2/\n"
     ]
    },
    {
     "name": "stdout",
     "output_type": "stream",
     "text": [
      "submitting replicate 3 of 6TP4\n"
     ]
    },
    {
     "name": "stderr",
     "output_type": "stream",
     "text": [
      "2021-06-25 20:36:25,820 - htmd.protocols.production_v6 - WARNING - Lipids detected in input structure. We highly recommend setting useconstantratio=True for membrane simulations.\n",
      "2021-06-25 20:36:26,163 - jobqueues.slurmqueue - INFO - Queueing /gpcr/users/daranda/doctorat/GPCR_simulations/simulation_output/production/6TP4_apo/rep_3/\n"
     ]
    },
    {
     "name": "stdout",
     "output_type": "stream",
     "text": [
      "submitting replicate 1 of 6TP4\n"
     ]
    },
    {
     "name": "stderr",
     "output_type": "stream",
     "text": [
      "2021-06-25 20:37:06,140 - htmd.protocols.production_v6 - WARNING - Lipids detected in input structure. We highly recommend setting useconstantratio=True for membrane simulations.\n",
      "2021-06-25 20:37:07,017 - jobqueues.slurmqueue - INFO - Queueing /gpcr/users/daranda/doctorat/GPCR_simulations/simulation_output/production/6TP4/rep_1/\n"
     ]
    },
    {
     "name": "stdout",
     "output_type": "stream",
     "text": [
      "submitting replicate 2 of 6TP4\n"
     ]
    },
    {
     "name": "stderr",
     "output_type": "stream",
     "text": [
      "2021-06-25 20:37:46,495 - htmd.protocols.production_v6 - WARNING - Lipids detected in input structure. We highly recommend setting useconstantratio=True for membrane simulations.\n",
      "2021-06-25 20:37:46,934 - jobqueues.slurmqueue - INFO - Queueing /gpcr/users/daranda/doctorat/GPCR_simulations/simulation_output/production/6TP4/rep_2/\n"
     ]
    },
    {
     "name": "stdout",
     "output_type": "stream",
     "text": [
      "submitting replicate 3 of 6TP4\n"
     ]
    },
    {
     "name": "stderr",
     "output_type": "stream",
     "text": [
      "2021-06-25 20:38:26,514 - htmd.protocols.production_v6 - WARNING - Lipids detected in input structure. We highly recommend setting useconstantratio=True for membrane simulations.\n",
      "2021-06-25 20:38:26,960 - jobqueues.slurmqueue - INFO - Queueing /gpcr/users/daranda/doctorat/GPCR_simulations/simulation_output/production/6TP4/rep_3/\n"
     ]
    },
    {
     "name": "stdout",
     "output_type": "stream",
     "text": [
      "submitting replicate 1 of 6DRZ\n"
     ]
    },
    {
     "name": "stderr",
     "output_type": "stream",
     "text": [
      "2021-06-25 20:39:00,347 - htmd.protocols.production_v6 - WARNING - Lipids detected in input structure. We highly recommend setting useconstantratio=True for membrane simulations.\n",
      "2021-06-25 20:39:01,136 - jobqueues.slurmqueue - INFO - Queueing /gpcr/users/daranda/doctorat/GPCR_simulations/simulation_output/production/6DRZ_apo/rep_1/\n"
     ]
    },
    {
     "name": "stdout",
     "output_type": "stream",
     "text": [
      "submitting replicate 2 of 6DRZ\n"
     ]
    },
    {
     "name": "stderr",
     "output_type": "stream",
     "text": [
      "2021-06-25 20:39:35,288 - htmd.protocols.production_v6 - WARNING - Lipids detected in input structure. We highly recommend setting useconstantratio=True for membrane simulations.\n",
      "2021-06-25 20:39:35,600 - jobqueues.slurmqueue - INFO - Queueing /gpcr/users/daranda/doctorat/GPCR_simulations/simulation_output/production/6DRZ_apo/rep_2/\n"
     ]
    },
    {
     "name": "stdout",
     "output_type": "stream",
     "text": [
      "submitting replicate 3 of 6DRZ\n"
     ]
    },
    {
     "name": "stderr",
     "output_type": "stream",
     "text": [
      "2021-06-25 20:40:10,338 - htmd.protocols.production_v6 - WARNING - Lipids detected in input structure. We highly recommend setting useconstantratio=True for membrane simulations.\n",
      "2021-06-25 20:40:10,654 - jobqueues.slurmqueue - INFO - Queueing /gpcr/users/daranda/doctorat/GPCR_simulations/simulation_output/production/6DRZ_apo/rep_3/\n"
     ]
    },
    {
     "name": "stdout",
     "output_type": "stream",
     "text": [
      "submitting replicate 1 of 6DRZ\n"
     ]
    },
    {
     "name": "stderr",
     "output_type": "stream",
     "text": [
      "2021-06-25 20:40:44,939 - htmd.protocols.production_v6 - WARNING - Lipids detected in input structure. We highly recommend setting useconstantratio=True for membrane simulations.\n",
      "2021-06-25 20:40:46,008 - jobqueues.slurmqueue - INFO - Queueing /gpcr/users/daranda/doctorat/GPCR_simulations/simulation_output/production/6DRZ/rep_1/\n"
     ]
    },
    {
     "name": "stdout",
     "output_type": "stream",
     "text": [
      "submitting replicate 2 of 6DRZ\n"
     ]
    },
    {
     "name": "stderr",
     "output_type": "stream",
     "text": [
      "2021-06-25 20:41:20,422 - htmd.protocols.production_v6 - WARNING - Lipids detected in input structure. We highly recommend setting useconstantratio=True for membrane simulations.\n",
      "2021-06-25 20:41:20,790 - jobqueues.slurmqueue - INFO - Queueing /gpcr/users/daranda/doctorat/GPCR_simulations/simulation_output/production/6DRZ/rep_2/\n"
     ]
    },
    {
     "name": "stdout",
     "output_type": "stream",
     "text": [
      "submitting replicate 3 of 6DRZ\n"
     ]
    },
    {
     "name": "stderr",
     "output_type": "stream",
     "text": [
      "2021-06-25 20:41:54,239 - htmd.protocols.production_v6 - WARNING - Lipids detected in input structure. We highly recommend setting useconstantratio=True for membrane simulations.\n",
      "2021-06-25 20:41:54,607 - jobqueues.slurmqueue - INFO - Queueing /gpcr/users/daranda/doctorat/GPCR_simulations/simulation_output/production/6DRZ/rep_3/\n"
     ]
    },
    {
     "name": "stdout",
     "output_type": "stream",
     "text": [
      "submitting replicate 1 of 6LI0\n"
     ]
    },
    {
     "name": "stderr",
     "output_type": "stream",
     "text": [
      "2021-06-25 20:42:05,902 - moleculekit.readers - WARNING - Non-integer values were read from the PDB \"serial\" field. Dropping PDB values and assigning new ones.\n",
      "2021-06-25 20:42:06,059 - moleculekit.readers - WARNING - Reading PDB file with more than 99999 atoms. Bond information can be wrong.\n",
      "2021-06-25 20:42:44,639 - htmd.protocols.production_v6 - WARNING - Lipids detected in input structure. We highly recommend setting useconstantratio=True for membrane simulations.\n",
      "2021-06-25 20:42:45,530 - jobqueues.slurmqueue - INFO - Queueing /gpcr/users/daranda/doctorat/GPCR_simulations/simulation_output/production/6LI0_apo/rep_1/\n"
     ]
    },
    {
     "name": "stdout",
     "output_type": "stream",
     "text": [
      "submitting replicate 2 of 6LI0\n"
     ]
    },
    {
     "name": "stderr",
     "output_type": "stream",
     "text": [
      "2021-06-25 20:42:56,804 - moleculekit.readers - WARNING - Non-integer values were read from the PDB \"serial\" field. Dropping PDB values and assigning new ones.\n",
      "2021-06-25 20:42:56,963 - moleculekit.readers - WARNING - Reading PDB file with more than 99999 atoms. Bond information can be wrong.\n",
      "2021-06-25 20:43:40,272 - htmd.protocols.production_v6 - WARNING - Lipids detected in input structure. We highly recommend setting useconstantratio=True for membrane simulations.\n",
      "2021-06-25 20:43:40,674 - jobqueues.slurmqueue - INFO - Queueing /gpcr/users/daranda/doctorat/GPCR_simulations/simulation_output/production/6LI0_apo/rep_2/\n"
     ]
    },
    {
     "name": "stdout",
     "output_type": "stream",
     "text": [
      "submitting replicate 3 of 6LI0\n"
     ]
    },
    {
     "name": "stderr",
     "output_type": "stream",
     "text": [
      "2021-06-25 20:43:51,721 - moleculekit.readers - WARNING - Non-integer values were read from the PDB \"serial\" field. Dropping PDB values and assigning new ones.\n",
      "2021-06-25 20:43:51,881 - moleculekit.readers - WARNING - Reading PDB file with more than 99999 atoms. Bond information can be wrong.\n",
      "2021-06-25 20:44:33,615 - htmd.protocols.production_v6 - WARNING - Lipids detected in input structure. We highly recommend setting useconstantratio=True for membrane simulations.\n",
      "2021-06-25 20:44:34,048 - jobqueues.slurmqueue - INFO - Queueing /gpcr/users/daranda/doctorat/GPCR_simulations/simulation_output/production/6LI0_apo/rep_3/\n"
     ]
    },
    {
     "name": "stdout",
     "output_type": "stream",
     "text": [
      "submitting replicate 1 of 6LI0\n"
     ]
    },
    {
     "name": "stderr",
     "output_type": "stream",
     "text": [
      "2021-06-25 20:44:46,370 - moleculekit.readers - WARNING - Non-integer values were read from the PDB \"serial\" field. Dropping PDB values and assigning new ones.\n",
      "2021-06-25 20:44:46,548 - moleculekit.readers - WARNING - Reading PDB file with more than 99999 atoms. Bond information can be wrong.\n",
      "2021-06-25 20:45:30,743 - htmd.protocols.production_v6 - WARNING - Lipids detected in input structure. We highly recommend setting useconstantratio=True for membrane simulations.\n",
      "2021-06-25 20:45:31,680 - jobqueues.slurmqueue - INFO - Queueing /gpcr/users/daranda/doctorat/GPCR_simulations/simulation_output/production/6LI0/rep_1/\n"
     ]
    },
    {
     "name": "stdout",
     "output_type": "stream",
     "text": [
      "submitting replicate 2 of 6LI0\n"
     ]
    },
    {
     "name": "stderr",
     "output_type": "stream",
     "text": [
      "2021-06-25 20:45:42,707 - moleculekit.readers - WARNING - Non-integer values were read from the PDB \"serial\" field. Dropping PDB values and assigning new ones.\n",
      "2021-06-25 20:45:42,884 - moleculekit.readers - WARNING - Reading PDB file with more than 99999 atoms. Bond information can be wrong.\n",
      "2021-06-25 20:46:29,236 - htmd.protocols.production_v6 - WARNING - Lipids detected in input structure. We highly recommend setting useconstantratio=True for membrane simulations.\n",
      "2021-06-25 20:46:29,682 - jobqueues.slurmqueue - INFO - Queueing /gpcr/users/daranda/doctorat/GPCR_simulations/simulation_output/production/6LI0/rep_2/\n"
     ]
    },
    {
     "name": "stdout",
     "output_type": "stream",
     "text": [
      "submitting replicate 3 of 6LI0\n"
     ]
    },
    {
     "name": "stderr",
     "output_type": "stream",
     "text": [
      "2021-06-25 20:46:40,917 - moleculekit.readers - WARNING - Non-integer values were read from the PDB \"serial\" field. Dropping PDB values and assigning new ones.\n",
      "2021-06-25 20:46:41,100 - moleculekit.readers - WARNING - Reading PDB file with more than 99999 atoms. Bond information can be wrong.\n",
      "2021-06-25 20:47:26,424 - htmd.protocols.production_v6 - WARNING - Lipids detected in input structure. We highly recommend setting useconstantratio=True for membrane simulations.\n",
      "2021-06-25 20:47:26,913 - jobqueues.slurmqueue - INFO - Queueing /gpcr/users/daranda/doctorat/GPCR_simulations/simulation_output/production/6LI0/rep_3/\n"
     ]
    },
    {
     "name": "stdout",
     "output_type": "stream",
     "text": [
      "submitting replicate 1 of 6PS3\n"
     ]
    },
    {
     "name": "stderr",
     "output_type": "stream",
     "text": [
      "2021-06-25 20:48:15,490 - htmd.protocols.production_v6 - WARNING - Lipids detected in input structure. We highly recommend setting useconstantratio=True for membrane simulations.\n",
      "2021-06-25 20:48:16,363 - jobqueues.slurmqueue - INFO - Queueing /gpcr/users/daranda/doctorat/GPCR_simulations/simulation_output/production/6PS3_apo/rep_1/\n"
     ]
    },
    {
     "name": "stdout",
     "output_type": "stream",
     "text": [
      "submitting replicate 2 of 6PS3\n"
     ]
    },
    {
     "name": "stderr",
     "output_type": "stream",
     "text": [
      "2021-06-25 20:49:03,092 - htmd.protocols.production_v6 - WARNING - Lipids detected in input structure. We highly recommend setting useconstantratio=True for membrane simulations.\n",
      "2021-06-25 20:49:03,442 - jobqueues.slurmqueue - INFO - Queueing /gpcr/users/daranda/doctorat/GPCR_simulations/simulation_output/production/6PS3_apo/rep_2/\n"
     ]
    },
    {
     "name": "stdout",
     "output_type": "stream",
     "text": [
      "submitting replicate 3 of 6PS3\n"
     ]
    },
    {
     "name": "stderr",
     "output_type": "stream",
     "text": [
      "2021-06-25 20:49:50,456 - htmd.protocols.production_v6 - WARNING - Lipids detected in input structure. We highly recommend setting useconstantratio=True for membrane simulations.\n",
      "2021-06-25 20:49:50,812 - jobqueues.slurmqueue - INFO - Queueing /gpcr/users/daranda/doctorat/GPCR_simulations/simulation_output/production/6PS3_apo/rep_3/\n"
     ]
    },
    {
     "name": "stdout",
     "output_type": "stream",
     "text": [
      "submitting replicate 1 of 6PS3\n"
     ]
    },
    {
     "name": "stderr",
     "output_type": "stream",
     "text": [
      "2021-06-25 20:50:38,088 - htmd.protocols.production_v6 - WARNING - Lipids detected in input structure. We highly recommend setting useconstantratio=True for membrane simulations.\n",
      "2021-06-25 20:50:38,952 - jobqueues.slurmqueue - INFO - Queueing /gpcr/users/daranda/doctorat/GPCR_simulations/simulation_output/production/6PS3/rep_1/\n"
     ]
    },
    {
     "name": "stdout",
     "output_type": "stream",
     "text": [
      "submitting replicate 2 of 6PS3\n"
     ]
    },
    {
     "name": "stderr",
     "output_type": "stream",
     "text": [
      "2021-06-25 20:51:23,415 - htmd.protocols.production_v6 - WARNING - Lipids detected in input structure. We highly recommend setting useconstantratio=True for membrane simulations.\n",
      "2021-06-25 20:51:23,840 - jobqueues.slurmqueue - INFO - Queueing /gpcr/users/daranda/doctorat/GPCR_simulations/simulation_output/production/6PS3/rep_2/\n"
     ]
    },
    {
     "name": "stdout",
     "output_type": "stream",
     "text": [
      "submitting replicate 3 of 6PS3\n"
     ]
    },
    {
     "name": "stderr",
     "output_type": "stream",
     "text": [
      "2021-06-25 20:52:07,453 - htmd.protocols.production_v6 - WARNING - Lipids detected in input structure. We highly recommend setting useconstantratio=True for membrane simulations.\n",
      "2021-06-25 20:52:07,857 - jobqueues.slurmqueue - INFO - Queueing /gpcr/users/daranda/doctorat/GPCR_simulations/simulation_output/production/6PS3/rep_3/\n"
     ]
    },
    {
     "name": "stdout",
     "output_type": "stream",
     "text": [
      "submitting replicate 1 of 6LW5\n"
     ]
    },
    {
     "name": "stderr",
     "output_type": "stream",
     "text": [
      "2021-06-25 20:52:42,175 - htmd.protocols.production_v6 - WARNING - Lipids detected in input structure. We highly recommend setting useconstantratio=True for membrane simulations.\n",
      "2021-06-25 20:52:42,820 - jobqueues.slurmqueue - INFO - Queueing /gpcr/users/daranda/doctorat/GPCR_simulations/simulation_output/production/6LW5_apo/rep_1/\n"
     ]
    },
    {
     "name": "stdout",
     "output_type": "stream",
     "text": [
      "submitting replicate 2 of 6LW5\n"
     ]
    },
    {
     "name": "stderr",
     "output_type": "stream",
     "text": [
      "2021-06-25 20:53:12,502 - htmd.protocols.production_v6 - WARNING - Lipids detected in input structure. We highly recommend setting useconstantratio=True for membrane simulations.\n",
      "2021-06-25 20:53:12,801 - jobqueues.slurmqueue - INFO - Queueing /gpcr/users/daranda/doctorat/GPCR_simulations/simulation_output/production/6LW5_apo/rep_2/\n"
     ]
    },
    {
     "name": "stdout",
     "output_type": "stream",
     "text": [
      "submitting replicate 3 of 6LW5\n"
     ]
    },
    {
     "name": "stderr",
     "output_type": "stream",
     "text": [
      "2021-06-25 20:53:43,671 - htmd.protocols.production_v6 - WARNING - Lipids detected in input structure. We highly recommend setting useconstantratio=True for membrane simulations.\n",
      "2021-06-25 20:53:43,978 - jobqueues.slurmqueue - INFO - Queueing /gpcr/users/daranda/doctorat/GPCR_simulations/simulation_output/production/6LW5_apo/rep_3/\n"
     ]
    },
    {
     "name": "stdout",
     "output_type": "stream",
     "text": [
      "submitting replicate 1 of 6LW5\n"
     ]
    },
    {
     "name": "stderr",
     "output_type": "stream",
     "text": [
      "2021-06-25 20:54:15,490 - htmd.protocols.production_v6 - WARNING - Lipids detected in input structure. We highly recommend setting useconstantratio=True for membrane simulations.\n",
      "2021-06-25 20:54:16,308 - jobqueues.slurmqueue - INFO - Queueing /gpcr/users/daranda/doctorat/GPCR_simulations/simulation_output/production/6LW5/rep_1/\n"
     ]
    },
    {
     "name": "stdout",
     "output_type": "stream",
     "text": [
      "submitting replicate 2 of 6LW5\n"
     ]
    },
    {
     "name": "stderr",
     "output_type": "stream",
     "text": [
      "2021-06-25 20:54:48,179 - htmd.protocols.production_v6 - WARNING - Lipids detected in input structure. We highly recommend setting useconstantratio=True for membrane simulations.\n",
      "2021-06-25 20:54:48,517 - jobqueues.slurmqueue - INFO - Queueing /gpcr/users/daranda/doctorat/GPCR_simulations/simulation_output/production/6LW5/rep_2/\n"
     ]
    },
    {
     "name": "stdout",
     "output_type": "stream",
     "text": [
      "submitting replicate 3 of 6LW5\n"
     ]
    },
    {
     "name": "stderr",
     "output_type": "stream",
     "text": [
      "2021-06-25 20:55:21,170 - htmd.protocols.production_v6 - WARNING - Lipids detected in input structure. We highly recommend setting useconstantratio=True for membrane simulations.\n",
      "2021-06-25 20:55:21,513 - jobqueues.slurmqueue - INFO - Queueing /gpcr/users/daranda/doctorat/GPCR_simulations/simulation_output/production/6LW5/rep_3/\n"
     ]
    },
    {
     "name": "stdout",
     "output_type": "stream",
     "text": [
      "submitting replicate 1 of 5D6L\n"
     ]
    },
    {
     "name": "stderr",
     "output_type": "stream",
     "text": [
      "2021-06-25 20:55:59,038 - htmd.protocols.production_v6 - WARNING - Lipids detected in input structure. We highly recommend setting useconstantratio=True for membrane simulations.\n",
      "2021-06-25 20:55:59,791 - jobqueues.slurmqueue - INFO - Queueing /gpcr/users/daranda/doctorat/GPCR_simulations/simulation_output/production/5D6L_apo/rep_1/\n"
     ]
    },
    {
     "name": "stdout",
     "output_type": "stream",
     "text": [
      "submitting replicate 2 of 5D6L\n"
     ]
    },
    {
     "name": "stderr",
     "output_type": "stream",
     "text": [
      "2021-06-25 20:56:36,665 - htmd.protocols.production_v6 - WARNING - Lipids detected in input structure. We highly recommend setting useconstantratio=True for membrane simulations.\n",
      "2021-06-25 20:56:36,992 - jobqueues.slurmqueue - INFO - Queueing /gpcr/users/daranda/doctorat/GPCR_simulations/simulation_output/production/5D6L_apo/rep_2/\n"
     ]
    },
    {
     "name": "stdout",
     "output_type": "stream",
     "text": [
      "submitting replicate 3 of 5D6L\n"
     ]
    },
    {
     "name": "stderr",
     "output_type": "stream",
     "text": [
      "2021-06-25 20:57:14,709 - htmd.protocols.production_v6 - WARNING - Lipids detected in input structure. We highly recommend setting useconstantratio=True for membrane simulations.\n",
      "2021-06-25 20:57:15,073 - jobqueues.slurmqueue - INFO - Queueing /gpcr/users/daranda/doctorat/GPCR_simulations/simulation_output/production/5D6L_apo/rep_3/\n"
     ]
    },
    {
     "name": "stdout",
     "output_type": "stream",
     "text": [
      "submitting replicate 1 of 5D6L\n"
     ]
    },
    {
     "name": "stderr",
     "output_type": "stream",
     "text": [
      "2021-06-25 20:57:52,787 - htmd.protocols.production_v6 - WARNING - Lipids detected in input structure. We highly recommend setting useconstantratio=True for membrane simulations.\n",
      "2021-06-25 20:57:53,627 - jobqueues.slurmqueue - INFO - Queueing /gpcr/users/daranda/doctorat/GPCR_simulations/simulation_output/production/5D6L/rep_1/\n"
     ]
    },
    {
     "name": "stdout",
     "output_type": "stream",
     "text": [
      "submitting replicate 2 of 5D6L\n"
     ]
    },
    {
     "name": "stderr",
     "output_type": "stream",
     "text": [
      "2021-06-25 20:58:30,705 - htmd.protocols.production_v6 - WARNING - Lipids detected in input structure. We highly recommend setting useconstantratio=True for membrane simulations.\n",
      "2021-06-25 20:58:31,119 - jobqueues.slurmqueue - INFO - Queueing /gpcr/users/daranda/doctorat/GPCR_simulations/simulation_output/production/5D6L/rep_2/\n"
     ]
    },
    {
     "name": "stdout",
     "output_type": "stream",
     "text": [
      "submitting replicate 3 of 5D6L\n"
     ]
    },
    {
     "name": "stderr",
     "output_type": "stream",
     "text": [
      "2021-06-25 20:59:08,110 - htmd.protocols.production_v6 - WARNING - Lipids detected in input structure. We highly recommend setting useconstantratio=True for membrane simulations.\n",
      "2021-06-25 20:59:08,511 - jobqueues.slurmqueue - INFO - Queueing /gpcr/users/daranda/doctorat/GPCR_simulations/simulation_output/production/5D6L/rep_3/\n"
     ]
    },
    {
     "name": "stdout",
     "output_type": "stream",
     "text": [
      "submitting replicate 1 of 6FFI\n"
     ]
    },
    {
     "name": "stderr",
     "output_type": "stream",
     "text": [
      "2021-06-25 20:59:34,923 - htmd.protocols.production_v6 - WARNING - Lipids detected in input structure. We highly recommend setting useconstantratio=True for membrane simulations.\n",
      "2021-06-25 20:59:35,472 - jobqueues.slurmqueue - INFO - Queueing /gpcr/users/daranda/doctorat/GPCR_simulations/simulation_output/production/6FFI_apo/rep_1/\n"
     ]
    },
    {
     "name": "stdout",
     "output_type": "stream",
     "text": [
      "submitting replicate 2 of 6FFI\n"
     ]
    },
    {
     "name": "stderr",
     "output_type": "stream",
     "text": [
      "2021-06-25 21:00:00,530 - htmd.protocols.production_v6 - WARNING - Lipids detected in input structure. We highly recommend setting useconstantratio=True for membrane simulations.\n",
      "2021-06-25 21:00:00,791 - jobqueues.slurmqueue - INFO - Queueing /gpcr/users/daranda/doctorat/GPCR_simulations/simulation_output/production/6FFI_apo/rep_2/\n"
     ]
    },
    {
     "name": "stdout",
     "output_type": "stream",
     "text": [
      "submitting replicate 3 of 6FFI\n"
     ]
    },
    {
     "name": "stderr",
     "output_type": "stream",
     "text": [
      "2021-06-25 21:00:26,225 - htmd.protocols.production_v6 - WARNING - Lipids detected in input structure. We highly recommend setting useconstantratio=True for membrane simulations.\n",
      "2021-06-25 21:00:26,501 - jobqueues.slurmqueue - INFO - Queueing /gpcr/users/daranda/doctorat/GPCR_simulations/simulation_output/production/6FFI_apo/rep_3/\n"
     ]
    },
    {
     "name": "stdout",
     "output_type": "stream",
     "text": [
      "submitting replicate 1 of 6FFI\n"
     ]
    },
    {
     "name": "stderr",
     "output_type": "stream",
     "text": [
      "2021-06-25 21:00:52,369 - htmd.protocols.production_v6 - WARNING - Lipids detected in input structure. We highly recommend setting useconstantratio=True for membrane simulations.\n",
      "2021-06-25 21:00:53,028 - jobqueues.slurmqueue - INFO - Queueing /gpcr/users/daranda/doctorat/GPCR_simulations/simulation_output/production/6FFI/rep_1/\n"
     ]
    },
    {
     "name": "stdout",
     "output_type": "stream",
     "text": [
      "submitting replicate 2 of 6FFI\n"
     ]
    },
    {
     "name": "stderr",
     "output_type": "stream",
     "text": [
      "2021-06-25 21:01:19,314 - htmd.protocols.production_v6 - WARNING - Lipids detected in input structure. We highly recommend setting useconstantratio=True for membrane simulations.\n",
      "2021-06-25 21:01:19,645 - jobqueues.slurmqueue - INFO - Queueing /gpcr/users/daranda/doctorat/GPCR_simulations/simulation_output/production/6FFI/rep_2/\n"
     ]
    },
    {
     "name": "stdout",
     "output_type": "stream",
     "text": [
      "submitting replicate 3 of 6FFI\n"
     ]
    },
    {
     "name": "stderr",
     "output_type": "stream",
     "text": [
      "2021-06-25 21:01:45,395 - htmd.protocols.production_v6 - WARNING - Lipids detected in input structure. We highly recommend setting useconstantratio=True for membrane simulations.\n",
      "2021-06-25 21:01:45,686 - jobqueues.slurmqueue - INFO - Queueing /gpcr/users/daranda/doctorat/GPCR_simulations/simulation_output/production/6FFI/rep_3/\n"
     ]
    },
    {
     "name": "stdout",
     "output_type": "stream",
     "text": [
      "submitting replicate 1 of 5DYS\n"
     ]
    },
    {
     "name": "stderr",
     "output_type": "stream",
     "text": [
      "2021-06-25 21:02:22,430 - htmd.protocols.production_v6 - WARNING - Lipids detected in input structure. We highly recommend setting useconstantratio=True for membrane simulations.\n",
      "2021-06-25 21:02:23,082 - jobqueues.slurmqueue - INFO - Queueing /gpcr/users/daranda/doctorat/GPCR_simulations/simulation_output/production/5DYS_apo/rep_1/\n"
     ]
    },
    {
     "name": "stdout",
     "output_type": "stream",
     "text": [
      "submitting replicate 2 of 5DYS\n"
     ]
    },
    {
     "name": "stderr",
     "output_type": "stream",
     "text": [
      "2021-06-25 21:02:55,638 - htmd.protocols.production_v6 - WARNING - Lipids detected in input structure. We highly recommend setting useconstantratio=True for membrane simulations.\n",
      "2021-06-25 21:02:56,455 - jobqueues.slurmqueue - INFO - Queueing /gpcr/users/daranda/doctorat/GPCR_simulations/simulation_output/production/5DYS_apo/rep_2/\n"
     ]
    },
    {
     "name": "stdout",
     "output_type": "stream",
     "text": [
      "submitting replicate 3 of 5DYS\n"
     ]
    },
    {
     "name": "stderr",
     "output_type": "stream",
     "text": [
      "2021-06-25 21:03:28,723 - htmd.protocols.production_v6 - WARNING - Lipids detected in input structure. We highly recommend setting useconstantratio=True for membrane simulations.\n",
      "2021-06-25 21:03:29,020 - jobqueues.slurmqueue - INFO - Queueing /gpcr/users/daranda/doctorat/GPCR_simulations/simulation_output/production/5DYS_apo/rep_3/\n"
     ]
    },
    {
     "name": "stdout",
     "output_type": "stream",
     "text": [
      "submitting replicate 1 of 5DYS\n"
     ]
    },
    {
     "name": "stderr",
     "output_type": "stream",
     "text": [
      "2021-06-25 21:04:01,411 - htmd.protocols.production_v6 - WARNING - Lipids detected in input structure. We highly recommend setting useconstantratio=True for membrane simulations.\n",
      "2021-06-25 21:04:02,057 - jobqueues.slurmqueue - INFO - Queueing /gpcr/users/daranda/doctorat/GPCR_simulations/simulation_output/production/5DYS/rep_1/\n"
     ]
    },
    {
     "name": "stdout",
     "output_type": "stream",
     "text": [
      "submitting replicate 2 of 5DYS\n"
     ]
    },
    {
     "name": "stderr",
     "output_type": "stream",
     "text": [
      "2021-06-25 21:04:33,831 - htmd.protocols.production_v6 - WARNING - Lipids detected in input structure. We highly recommend setting useconstantratio=True for membrane simulations.\n",
      "2021-06-25 21:04:34,116 - jobqueues.slurmqueue - INFO - Queueing /gpcr/users/daranda/doctorat/GPCR_simulations/simulation_output/production/5DYS/rep_2/\n"
     ]
    },
    {
     "name": "stdout",
     "output_type": "stream",
     "text": [
      "submitting replicate 3 of 5DYS\n"
     ]
    },
    {
     "name": "stderr",
     "output_type": "stream",
     "text": [
      "2021-06-25 21:05:06,453 - htmd.protocols.production_v6 - WARNING - Lipids detected in input structure. We highly recommend setting useconstantratio=True for membrane simulations.\n",
      "2021-06-25 21:05:06,731 - jobqueues.slurmqueue - INFO - Queueing /gpcr/users/daranda/doctorat/GPCR_simulations/simulation_output/production/5DYS/rep_3/\n"
     ]
    },
    {
     "name": "stdout",
     "output_type": "stream",
     "text": [
      "submitting replicate 1 of 4GPO\n"
     ]
    },
    {
     "name": "stderr",
     "output_type": "stream",
     "text": [
      "2021-06-25 21:05:47,865 - htmd.protocols.production_v6 - WARNING - Lipids detected in input structure. We highly recommend setting useconstantratio=True for membrane simulations.\n",
      "2021-06-25 21:05:48,736 - jobqueues.slurmqueue - INFO - Queueing /gpcr/users/daranda/doctorat/GPCR_simulations/simulation_output/production/4GPO_apo/rep_1/\n"
     ]
    },
    {
     "name": "stdout",
     "output_type": "stream",
     "text": [
      "submitting replicate 2 of 4GPO\n"
     ]
    },
    {
     "name": "stderr",
     "output_type": "stream",
     "text": [
      "2021-06-25 21:06:31,116 - htmd.protocols.production_v6 - WARNING - Lipids detected in input structure. We highly recommend setting useconstantratio=True for membrane simulations.\n",
      "2021-06-25 21:06:31,476 - jobqueues.slurmqueue - INFO - Queueing /gpcr/users/daranda/doctorat/GPCR_simulations/simulation_output/production/4GPO_apo/rep_2/\n"
     ]
    },
    {
     "name": "stdout",
     "output_type": "stream",
     "text": [
      "submitting replicate 3 of 4GPO\n"
     ]
    },
    {
     "name": "stderr",
     "output_type": "stream",
     "text": [
      "2021-06-25 21:07:13,854 - htmd.protocols.production_v6 - WARNING - Lipids detected in input structure. We highly recommend setting useconstantratio=True for membrane simulations.\n",
      "2021-06-25 21:07:14,208 - jobqueues.slurmqueue - INFO - Queueing /gpcr/users/daranda/doctorat/GPCR_simulations/simulation_output/production/4GPO_apo/rep_3/\n"
     ]
    },
    {
     "name": "stdout",
     "output_type": "stream",
     "text": [
      "submitting replicate 1 of 4GPO\n",
      "model 4GPO could not be send to equilibrate because of  Could not locate file /gpcr/users/daranda/doctorat/GPCR_simulations/simulation_output//equil/4GPO/structure.pdb set by the user for argument Production.acemd.coordinates\n",
      "submitting replicate 2 of 4GPO\n",
      "model 4GPO could not be send to equilibrate because of  Could not locate file /gpcr/users/daranda/doctorat/GPCR_simulations/simulation_output//equil/4GPO/structure.pdb set by the user for argument Production.acemd.coordinates\n",
      "submitting replicate 3 of 4GPO\n",
      "model 4GPO could not be send to equilibrate because of  Could not locate file /gpcr/users/daranda/doctorat/GPCR_simulations/simulation_output//equil/4GPO/structure.pdb set by the user for argument Production.acemd.coordinates\n",
      "submitting replicate 1 of 5K2C\n"
     ]
    },
    {
     "name": "stderr",
     "output_type": "stream",
     "text": [
      "2021-06-25 21:07:49,942 - htmd.builder.builder - WARNING - Found cis peptide bond in 1 frames: [0] in the omega diheral \"Angle of (LEU 216 CA P P) (LEU 216 C P P) (PRO 217 N P P) (PRO 217 CA P P) \" with indexes [3337, 3352, 3354, 3358]\n",
      "2021-06-25 21:07:51,248 - htmd.protocols.production_v6 - WARNING - Lipids detected in input structure. We highly recommend setting useconstantratio=True for membrane simulations.\n",
      "2021-06-25 21:07:51,998 - jobqueues.slurmqueue - INFO - Queueing /gpcr/users/daranda/doctorat/GPCR_simulations/simulation_output/production/5K2C_apo/rep_1/\n"
     ]
    },
    {
     "name": "stdout",
     "output_type": "stream",
     "text": [
      "submitting replicate 2 of 5K2C\n"
     ]
    },
    {
     "name": "stderr",
     "output_type": "stream",
     "text": [
      "2021-06-25 21:08:27,035 - htmd.builder.builder - WARNING - Found cis peptide bond in 1 frames: [0] in the omega diheral \"Angle of (LEU 216 CA P P) (LEU 216 C P P) (PRO 217 N P P) (PRO 217 CA P P) \" with indexes [3337, 3352, 3354, 3358]\n",
      "2021-06-25 21:08:28,344 - htmd.protocols.production_v6 - WARNING - Lipids detected in input structure. We highly recommend setting useconstantratio=True for membrane simulations.\n",
      "2021-06-25 21:08:28,692 - jobqueues.slurmqueue - INFO - Queueing /gpcr/users/daranda/doctorat/GPCR_simulations/simulation_output/production/5K2C_apo/rep_2/\n"
     ]
    },
    {
     "name": "stdout",
     "output_type": "stream",
     "text": [
      "submitting replicate 3 of 5K2C\n"
     ]
    },
    {
     "name": "stderr",
     "output_type": "stream",
     "text": [
      "2021-06-25 21:09:04,040 - htmd.builder.builder - WARNING - Found cis peptide bond in 1 frames: [0] in the omega diheral \"Angle of (LEU 216 CA P P) (LEU 216 C P P) (PRO 217 N P P) (PRO 217 CA P P) \" with indexes [3337, 3352, 3354, 3358]\n",
      "2021-06-25 21:09:05,344 - htmd.protocols.production_v6 - WARNING - Lipids detected in input structure. We highly recommend setting useconstantratio=True for membrane simulations.\n",
      "2021-06-25 21:09:05,655 - jobqueues.slurmqueue - INFO - Queueing /gpcr/users/daranda/doctorat/GPCR_simulations/simulation_output/production/5K2C_apo/rep_3/\n"
     ]
    },
    {
     "name": "stdout",
     "output_type": "stream",
     "text": [
      "submitting replicate 1 of 5K2C\n"
     ]
    },
    {
     "name": "stderr",
     "output_type": "stream",
     "text": [
      "2021-06-25 21:09:41,687 - htmd.builder.builder - WARNING - Found cis peptide bond in 1 frames: [0] in the omega diheral \"Angle of (LEU 216 CA P P) (LEU 216 C P P) (PRO 217 N P P) (PRO 217 CA P P) \" with indexes [3600, 3615, 3617, 3621]\n",
      "2021-06-25 21:09:43,000 - htmd.protocols.production_v6 - WARNING - Lipids detected in input structure. We highly recommend setting useconstantratio=True for membrane simulations.\n",
      "2021-06-25 21:09:43,829 - jobqueues.slurmqueue - INFO - Queueing /gpcr/users/daranda/doctorat/GPCR_simulations/simulation_output/production/5K2C/rep_1/\n"
     ]
    },
    {
     "name": "stdout",
     "output_type": "stream",
     "text": [
      "submitting replicate 2 of 5K2C\n"
     ]
    },
    {
     "name": "stderr",
     "output_type": "stream",
     "text": [
      "2021-06-25 21:10:19,160 - htmd.builder.builder - WARNING - Found cis peptide bond in 1 frames: [0] in the omega diheral \"Angle of (LEU 216 CA P P) (LEU 216 C P P) (PRO 217 N P P) (PRO 217 CA P P) \" with indexes [3600, 3615, 3617, 3621]\n",
      "2021-06-25 21:10:20,475 - htmd.protocols.production_v6 - WARNING - Lipids detected in input structure. We highly recommend setting useconstantratio=True for membrane simulations.\n",
      "2021-06-25 21:10:20,864 - jobqueues.slurmqueue - INFO - Queueing /gpcr/users/daranda/doctorat/GPCR_simulations/simulation_output/production/5K2C/rep_2/\n"
     ]
    },
    {
     "name": "stdout",
     "output_type": "stream",
     "text": [
      "submitting replicate 3 of 5K2C\n"
     ]
    },
    {
     "name": "stderr",
     "output_type": "stream",
     "text": [
      "2021-06-25 21:11:00,205 - htmd.builder.builder - WARNING - Found cis peptide bond in 1 frames: [0] in the omega diheral \"Angle of (LEU 216 CA P P) (LEU 216 C P P) (PRO 217 N P P) (PRO 217 CA P P) \" with indexes [3600, 3615, 3617, 3621]\n",
      "2021-06-25 21:11:01,516 - htmd.protocols.production_v6 - WARNING - Lipids detected in input structure. We highly recommend setting useconstantratio=True for membrane simulations.\n",
      "2021-06-25 21:11:01,874 - jobqueues.slurmqueue - INFO - Queueing /gpcr/users/daranda/doctorat/GPCR_simulations/simulation_output/production/5K2C/rep_3/\n"
     ]
    },
    {
     "name": "stdout",
     "output_type": "stream",
     "text": [
      "submitting replicate 1 of 6ZDV\n"
     ]
    },
    {
     "name": "stderr",
     "output_type": "stream",
     "text": [
      "2021-06-25 21:11:38,609 - htmd.builder.builder - WARNING - Found cis peptide bond in 1 frames: [0] in the omega diheral \"Angle of (LEU 216 CA P P) (LEU 216 C P P) (PRO 217 N P P) (PRO 217 CA P P) \" with indexes [3337, 3352, 3354, 3358]\n",
      "2021-06-25 21:11:40,046 - htmd.protocols.production_v6 - WARNING - Lipids detected in input structure. We highly recommend setting useconstantratio=True for membrane simulations.\n",
      "2021-06-25 21:11:40,822 - jobqueues.slurmqueue - INFO - Queueing /gpcr/users/daranda/doctorat/GPCR_simulations/simulation_output/production/6ZDV_apo/rep_1/\n"
     ]
    },
    {
     "name": "stdout",
     "output_type": "stream",
     "text": [
      "submitting replicate 2 of 6ZDV\n"
     ]
    },
    {
     "name": "stderr",
     "output_type": "stream",
     "text": [
      "2021-06-25 21:12:18,240 - htmd.builder.builder - WARNING - Found cis peptide bond in 1 frames: [0] in the omega diheral \"Angle of (LEU 216 CA P P) (LEU 216 C P P) (PRO 217 N P P) (PRO 217 CA P P) \" with indexes [3337, 3352, 3354, 3358]\n",
      "2021-06-25 21:12:19,688 - htmd.protocols.production_v6 - WARNING - Lipids detected in input structure. We highly recommend setting useconstantratio=True for membrane simulations.\n",
      "2021-06-25 21:12:20,036 - jobqueues.slurmqueue - INFO - Queueing /gpcr/users/daranda/doctorat/GPCR_simulations/simulation_output/production/6ZDV_apo/rep_2/\n"
     ]
    },
    {
     "name": "stdout",
     "output_type": "stream",
     "text": [
      "submitting replicate 3 of 6ZDV\n"
     ]
    },
    {
     "name": "stderr",
     "output_type": "stream",
     "text": [
      "2021-06-25 21:12:56,998 - htmd.builder.builder - WARNING - Found cis peptide bond in 1 frames: [0] in the omega diheral \"Angle of (LEU 216 CA P P) (LEU 216 C P P) (PRO 217 N P P) (PRO 217 CA P P) \" with indexes [3337, 3352, 3354, 3358]\n",
      "2021-06-25 21:12:58,434 - htmd.protocols.production_v6 - WARNING - Lipids detected in input structure. We highly recommend setting useconstantratio=True for membrane simulations.\n",
      "2021-06-25 21:12:58,770 - jobqueues.slurmqueue - INFO - Queueing /gpcr/users/daranda/doctorat/GPCR_simulations/simulation_output/production/6ZDV_apo/rep_3/\n"
     ]
    },
    {
     "name": "stdout",
     "output_type": "stream",
     "text": [
      "submitting replicate 1 of 6ZDV\n"
     ]
    },
    {
     "name": "stderr",
     "output_type": "stream",
     "text": [
      "2021-06-25 21:13:35,969 - htmd.builder.builder - WARNING - Found cis peptide bond in 1 frames: [0] in the omega diheral \"Angle of (LEU 216 CA P P) (LEU 216 C P P) (PRO 217 N P P) (PRO 217 CA P P) \" with indexes [3530, 3545, 3547, 3551]\n",
      "2021-06-25 21:13:37,414 - htmd.protocols.production_v6 - WARNING - Lipids detected in input structure. We highly recommend setting useconstantratio=True for membrane simulations.\n",
      "2021-06-25 21:13:38,348 - jobqueues.slurmqueue - INFO - Queueing /gpcr/users/daranda/doctorat/GPCR_simulations/simulation_output/production/6ZDV/rep_1/\n"
     ]
    },
    {
     "name": "stdout",
     "output_type": "stream",
     "text": [
      "submitting replicate 2 of 6ZDV\n"
     ]
    },
    {
     "name": "stderr",
     "output_type": "stream",
     "text": [
      "2021-06-25 21:14:15,622 - htmd.builder.builder - WARNING - Found cis peptide bond in 1 frames: [0] in the omega diheral \"Angle of (LEU 216 CA P P) (LEU 216 C P P) (PRO 217 N P P) (PRO 217 CA P P) \" with indexes [3530, 3545, 3547, 3551]\n",
      "2021-06-25 21:14:17,064 - htmd.protocols.production_v6 - WARNING - Lipids detected in input structure. We highly recommend setting useconstantratio=True for membrane simulations.\n",
      "2021-06-25 21:14:17,446 - jobqueues.slurmqueue - INFO - Queueing /gpcr/users/daranda/doctorat/GPCR_simulations/simulation_output/production/6ZDV/rep_2/\n"
     ]
    },
    {
     "name": "stdout",
     "output_type": "stream",
     "text": [
      "submitting replicate 3 of 6ZDV\n"
     ]
    },
    {
     "name": "stderr",
     "output_type": "stream",
     "text": [
      "2021-06-25 21:14:54,593 - htmd.builder.builder - WARNING - Found cis peptide bond in 1 frames: [0] in the omega diheral \"Angle of (LEU 216 CA P P) (LEU 216 C P P) (PRO 217 N P P) (PRO 217 CA P P) \" with indexes [3530, 3545, 3547, 3551]\n",
      "2021-06-25 21:14:56,039 - htmd.protocols.production_v6 - WARNING - Lipids detected in input structure. We highly recommend setting useconstantratio=True for membrane simulations.\n",
      "2021-06-25 21:14:56,459 - jobqueues.slurmqueue - INFO - Queueing /gpcr/users/daranda/doctorat/GPCR_simulations/simulation_output/production/6ZDV/rep_3/\n"
     ]
    },
    {
     "name": "stdout",
     "output_type": "stream",
     "text": [
      "submitting replicate 1 of 5ZHP\n"
     ]
    },
    {
     "name": "stderr",
     "output_type": "stream",
     "text": [
      "2021-06-25 21:15:33,885 - htmd.protocols.production_v6 - WARNING - Lipids detected in input structure. We highly recommend setting useconstantratio=True for membrane simulations.\n",
      "2021-06-25 21:15:34,693 - jobqueues.slurmqueue - INFO - Queueing /gpcr/users/daranda/doctorat/GPCR_simulations/simulation_output/production/5ZHP_apo/rep_1/\n"
     ]
    },
    {
     "name": "stdout",
     "output_type": "stream",
     "text": [
      "submitting replicate 2 of 5ZHP\n"
     ]
    },
    {
     "name": "stderr",
     "output_type": "stream",
     "text": [
      "2021-06-25 21:16:10,975 - htmd.protocols.production_v6 - WARNING - Lipids detected in input structure. We highly recommend setting useconstantratio=True for membrane simulations.\n",
      "2021-06-25 21:16:11,333 - jobqueues.slurmqueue - INFO - Queueing /gpcr/users/daranda/doctorat/GPCR_simulations/simulation_output/production/5ZHP_apo/rep_2/\n"
     ]
    },
    {
     "name": "stdout",
     "output_type": "stream",
     "text": [
      "submitting replicate 3 of 5ZHP\n"
     ]
    },
    {
     "name": "stderr",
     "output_type": "stream",
     "text": [
      "2021-06-25 21:16:47,527 - htmd.protocols.production_v6 - WARNING - Lipids detected in input structure. We highly recommend setting useconstantratio=True for membrane simulations.\n",
      "2021-06-25 21:16:47,894 - jobqueues.slurmqueue - INFO - Queueing /gpcr/users/daranda/doctorat/GPCR_simulations/simulation_output/production/5ZHP_apo/rep_3/\n"
     ]
    },
    {
     "name": "stdout",
     "output_type": "stream",
     "text": [
      "submitting replicate 1 of 5ZHP\n"
     ]
    },
    {
     "name": "stderr",
     "output_type": "stream",
     "text": [
      "2021-06-25 21:17:14,650 - htmd.protocols.production_v6 - WARNING - Lipids detected in input structure. We highly recommend setting useconstantratio=True for membrane simulations.\n",
      "2021-06-25 21:17:15,383 - jobqueues.slurmqueue - INFO - Queueing /gpcr/users/daranda/doctorat/GPCR_simulations/simulation_output/production/5ZHP/rep_1/\n"
     ]
    },
    {
     "name": "stdout",
     "output_type": "stream",
     "text": [
      "submitting replicate 2 of 5ZHP\n"
     ]
    },
    {
     "name": "stderr",
     "output_type": "stream",
     "text": [
      "2021-06-25 21:17:41,963 - htmd.protocols.production_v6 - WARNING - Lipids detected in input structure. We highly recommend setting useconstantratio=True for membrane simulations.\n",
      "2021-06-25 21:17:42,240 - jobqueues.slurmqueue - INFO - Queueing /gpcr/users/daranda/doctorat/GPCR_simulations/simulation_output/production/5ZHP/rep_2/\n"
     ]
    },
    {
     "name": "stdout",
     "output_type": "stream",
     "text": [
      "submitting replicate 3 of 5ZHP\n"
     ]
    },
    {
     "name": "stderr",
     "output_type": "stream",
     "text": [
      "2021-06-25 21:18:09,002 - htmd.protocols.production_v6 - WARNING - Lipids detected in input structure. We highly recommend setting useconstantratio=True for membrane simulations.\n",
      "2021-06-25 21:18:09,277 - jobqueues.slurmqueue - INFO - Queueing /gpcr/users/daranda/doctorat/GPCR_simulations/simulation_output/production/5ZHP/rep_3/\n"
     ]
    },
    {
     "name": "stdout",
     "output_type": "stream",
     "text": [
      "submitting replicate 1 of 6IGK\n"
     ]
    },
    {
     "name": "stderr",
     "output_type": "stream",
     "text": [
      "2021-06-25 21:18:41,405 - htmd.builder.builder - WARNING - Found cis peptide bond in 1 frames: [0] in the omega diheral \"Angle of (ILE 212 CA P P) (ILE 212 C P P) (GLY 213 N P P) (GLY 213 CA P P) \" with indexes [2019, 2034, 2036, 2038]\n",
      "2021-06-25 21:18:42,571 - htmd.protocols.production_v6 - WARNING - Lipids detected in input structure. We highly recommend setting useconstantratio=True for membrane simulations.\n",
      "2021-06-25 21:18:43,357 - jobqueues.slurmqueue - INFO - Queueing /gpcr/users/daranda/doctorat/GPCR_simulations/simulation_output/production/6IGK_apo/rep_1/\n"
     ]
    },
    {
     "name": "stdout",
     "output_type": "stream",
     "text": [
      "submitting replicate 2 of 6IGK\n"
     ]
    },
    {
     "name": "stderr",
     "output_type": "stream",
     "text": [
      "2021-06-25 21:19:15,536 - htmd.builder.builder - WARNING - Found cis peptide bond in 1 frames: [0] in the omega diheral \"Angle of (ILE 212 CA P P) (ILE 212 C P P) (GLY 213 N P P) (GLY 213 CA P P) \" with indexes [2019, 2034, 2036, 2038]\n",
      "2021-06-25 21:19:16,724 - htmd.protocols.production_v6 - WARNING - Lipids detected in input structure. We highly recommend setting useconstantratio=True for membrane simulations.\n",
      "2021-06-25 21:19:17,043 - jobqueues.slurmqueue - INFO - Queueing /gpcr/users/daranda/doctorat/GPCR_simulations/simulation_output/production/6IGK_apo/rep_2/\n"
     ]
    },
    {
     "name": "stdout",
     "output_type": "stream",
     "text": [
      "submitting replicate 3 of 6IGK\n"
     ]
    },
    {
     "name": "stderr",
     "output_type": "stream",
     "text": [
      "2021-06-25 21:19:49,760 - htmd.builder.builder - WARNING - Found cis peptide bond in 1 frames: [0] in the omega diheral \"Angle of (ILE 212 CA P P) (ILE 212 C P P) (GLY 213 N P P) (GLY 213 CA P P) \" with indexes [2019, 2034, 2036, 2038]\n",
      "2021-06-25 21:19:50,930 - htmd.protocols.production_v6 - WARNING - Lipids detected in input structure. We highly recommend setting useconstantratio=True for membrane simulations.\n",
      "2021-06-25 21:19:51,246 - jobqueues.slurmqueue - INFO - Queueing /gpcr/users/daranda/doctorat/GPCR_simulations/simulation_output/production/6IGK_apo/rep_3/\n"
     ]
    },
    {
     "name": "stdout",
     "output_type": "stream",
     "text": [
      "submitting replicate 1 of 6IGK\n"
     ]
    },
    {
     "name": "stderr",
     "output_type": "stream",
     "text": [
      "2021-06-25 21:20:24,898 - htmd.builder.builder - WARNING - Found cis peptide bond in 1 frames: [0] in the omega diheral \"Angle of (ILE 212 CA P P) (ILE 212 C P P) (GLY 213 N P P) (GLY 213 CA P P) \" with indexes [2020, 2035, 2037, 2039]\n",
      "2021-06-25 21:20:26,078 - htmd.protocols.production_v6 - WARNING - Lipids detected in input structure. We highly recommend setting useconstantratio=True for membrane simulations.\n",
      "2021-06-25 21:20:26,815 - jobqueues.slurmqueue - INFO - Queueing /gpcr/users/daranda/doctorat/GPCR_simulations/simulation_output/production/6IGK/rep_1/\n"
     ]
    },
    {
     "name": "stdout",
     "output_type": "stream",
     "text": [
      "submitting replicate 2 of 6IGK\n"
     ]
    },
    {
     "name": "stderr",
     "output_type": "stream",
     "text": [
      "2021-06-25 21:20:59,932 - htmd.builder.builder - WARNING - Found cis peptide bond in 1 frames: [0] in the omega diheral \"Angle of (ILE 212 CA P P) (ILE 212 C P P) (GLY 213 N P P) (GLY 213 CA P P) \" with indexes [2020, 2035, 2037, 2039]\n",
      "2021-06-25 21:21:01,107 - htmd.protocols.production_v6 - WARNING - Lipids detected in input structure. We highly recommend setting useconstantratio=True for membrane simulations.\n",
      "2021-06-25 21:21:01,411 - jobqueues.slurmqueue - INFO - Queueing /gpcr/users/daranda/doctorat/GPCR_simulations/simulation_output/production/6IGK/rep_2/\n"
     ]
    },
    {
     "name": "stdout",
     "output_type": "stream",
     "text": [
      "submitting replicate 3 of 6IGK\n"
     ]
    },
    {
     "name": "stderr",
     "output_type": "stream",
     "text": [
      "2021-06-25 21:21:34,798 - htmd.builder.builder - WARNING - Found cis peptide bond in 1 frames: [0] in the omega diheral \"Angle of (ILE 212 CA P P) (ILE 212 C P P) (GLY 213 N P P) (GLY 213 CA P P) \" with indexes [2020, 2035, 2037, 2039]\n",
      "2021-06-25 21:21:35,975 - htmd.protocols.production_v6 - WARNING - Lipids detected in input structure. We highly recommend setting useconstantratio=True for membrane simulations.\n",
      "2021-06-25 21:21:36,266 - jobqueues.slurmqueue - INFO - Queueing /gpcr/users/daranda/doctorat/GPCR_simulations/simulation_output/production/6IGK/rep_3/\n"
     ]
    },
    {
     "name": "stdout",
     "output_type": "stream",
     "text": [
      "submitting replicate 1 of 5YQZ\n"
     ]
    },
    {
     "name": "stderr",
     "output_type": "stream",
     "text": [
      "2021-06-25 21:21:49,123 - moleculekit.readers - WARNING - Non-integer values were read from the PDB \"serial\" field. Dropping PDB values and assigning new ones.\n",
      "2021-06-25 21:21:49,311 - moleculekit.readers - WARNING - Reading PDB file with more than 99999 atoms. Bond information can be wrong.\n",
      "2021-06-25 21:22:49,369 - htmd.builder.builder - WARNING - Found cis peptide bond in 1 frames: [0] in the omega diheral \"Angle of (PHE 303 CA P P) (PHE 303 C P P) (TRP 304 N P P) (TRP 304 CA P P) \" with indexes [4340, 4356, 4358, 4360]\n",
      "2021-06-25 21:22:51,764 - htmd.protocols.production_v6 - WARNING - Lipids detected in input structure. We highly recommend setting useconstantratio=True for membrane simulations.\n",
      "2021-06-25 21:22:52,809 - jobqueues.slurmqueue - INFO - Queueing /gpcr/users/daranda/doctorat/GPCR_simulations/simulation_output/production/5YQZ_apo/rep_1/\n"
     ]
    },
    {
     "name": "stdout",
     "output_type": "stream",
     "text": [
      "submitting replicate 2 of 5YQZ\n"
     ]
    },
    {
     "name": "stderr",
     "output_type": "stream",
     "text": [
      "2021-06-25 21:23:05,603 - moleculekit.readers - WARNING - Non-integer values were read from the PDB \"serial\" field. Dropping PDB values and assigning new ones.\n",
      "2021-06-25 21:23:05,803 - moleculekit.readers - WARNING - Reading PDB file with more than 99999 atoms. Bond information can be wrong.\n",
      "2021-06-25 21:24:12,786 - htmd.builder.builder - WARNING - Found cis peptide bond in 1 frames: [0] in the omega diheral \"Angle of (PHE 303 CA P P) (PHE 303 C P P) (TRP 304 N P P) (TRP 304 CA P P) \" with indexes [4340, 4356, 4358, 4360]\n",
      "2021-06-25 21:24:15,202 - htmd.protocols.production_v6 - WARNING - Lipids detected in input structure. We highly recommend setting useconstantratio=True for membrane simulations.\n",
      "2021-06-25 21:24:15,764 - jobqueues.slurmqueue - INFO - Queueing /gpcr/users/daranda/doctorat/GPCR_simulations/simulation_output/production/5YQZ_apo/rep_2/\n"
     ]
    },
    {
     "name": "stdout",
     "output_type": "stream",
     "text": [
      "submitting replicate 3 of 5YQZ\n"
     ]
    },
    {
     "name": "stderr",
     "output_type": "stream",
     "text": [
      "2021-06-25 21:24:28,435 - moleculekit.readers - WARNING - Non-integer values were read from the PDB \"serial\" field. Dropping PDB values and assigning new ones.\n",
      "2021-06-25 21:24:28,630 - moleculekit.readers - WARNING - Reading PDB file with more than 99999 atoms. Bond information can be wrong.\n",
      "2021-06-25 21:25:40,598 - htmd.builder.builder - WARNING - Found cis peptide bond in 1 frames: [0] in the omega diheral \"Angle of (PHE 303 CA P P) (PHE 303 C P P) (TRP 304 N P P) (TRP 304 CA P P) \" with indexes [4340, 4356, 4358, 4360]\n",
      "2021-06-25 21:25:43,071 - htmd.protocols.production_v6 - WARNING - Lipids detected in input structure. We highly recommend setting useconstantratio=True for membrane simulations.\n",
      "2021-06-25 21:25:43,599 - jobqueues.slurmqueue - INFO - Queueing /gpcr/users/daranda/doctorat/GPCR_simulations/simulation_output/production/5YQZ_apo/rep_3/\n"
     ]
    },
    {
     "name": "stdout",
     "output_type": "stream",
     "text": [
      "submitting replicate 1 of 5YQZ\n"
     ]
    },
    {
     "name": "stderr",
     "output_type": "stream",
     "text": [
      "2021-06-25 21:25:56,498 - moleculekit.readers - WARNING - Non-integer values were read from the PDB \"serial\" field. Dropping PDB values and assigning new ones.\n",
      "2021-06-25 21:25:56,691 - moleculekit.readers - WARNING - Reading PDB file with more than 99999 atoms. Bond information can be wrong.\n",
      "2021-06-25 21:27:13,498 - htmd.builder.builder - WARNING - Found cis peptide bond in 1 frames: [0] in the omega diheral \"Angle of (PHE 303 CA P P) (PHE 303 C P P) (TRP 304 N P P) (TRP 304 CA P P) \" with indexes [4341, 4357, 4359, 4361]\n",
      "2021-06-25 21:27:15,953 - htmd.protocols.production_v6 - WARNING - Lipids detected in input structure. We highly recommend setting useconstantratio=True for membrane simulations.\n",
      "2021-06-25 21:27:16,868 - jobqueues.slurmqueue - INFO - Queueing /gpcr/users/daranda/doctorat/GPCR_simulations/simulation_output/production/5YQZ/rep_1/\n"
     ]
    },
    {
     "name": "stdout",
     "output_type": "stream",
     "text": [
      "submitting replicate 2 of 5YQZ\n"
     ]
    },
    {
     "name": "stderr",
     "output_type": "stream",
     "text": [
      "2021-06-25 21:27:29,563 - moleculekit.readers - WARNING - Non-integer values were read from the PDB \"serial\" field. Dropping PDB values and assigning new ones.\n",
      "2021-06-25 21:27:29,755 - moleculekit.readers - WARNING - Reading PDB file with more than 99999 atoms. Bond information can be wrong.\n",
      "2021-06-25 21:28:46,683 - htmd.builder.builder - WARNING - Found cis peptide bond in 1 frames: [0] in the omega diheral \"Angle of (PHE 303 CA P P) (PHE 303 C P P) (TRP 304 N P P) (TRP 304 CA P P) \" with indexes [4341, 4357, 4359, 4361]\n",
      "2021-06-25 21:28:49,117 - htmd.protocols.production_v6 - WARNING - Lipids detected in input structure. We highly recommend setting useconstantratio=True for membrane simulations.\n",
      "2021-06-25 21:28:49,700 - jobqueues.slurmqueue - INFO - Queueing /gpcr/users/daranda/doctorat/GPCR_simulations/simulation_output/production/5YQZ/rep_2/\n"
     ]
    },
    {
     "name": "stdout",
     "output_type": "stream",
     "text": [
      "submitting replicate 3 of 5YQZ\n"
     ]
    },
    {
     "name": "stderr",
     "output_type": "stream",
     "text": [
      "2021-06-25 21:29:02,068 - moleculekit.readers - WARNING - Non-integer values were read from the PDB \"serial\" field. Dropping PDB values and assigning new ones.\n",
      "2021-06-25 21:29:02,259 - moleculekit.readers - WARNING - Reading PDB file with more than 99999 atoms. Bond information can be wrong.\n",
      "2021-06-25 21:30:17,975 - htmd.builder.builder - WARNING - Found cis peptide bond in 1 frames: [0] in the omega diheral \"Angle of (PHE 303 CA P P) (PHE 303 C P P) (TRP 304 N P P) (TRP 304 CA P P) \" with indexes [4341, 4357, 4359, 4361]\n",
      "2021-06-25 21:30:20,433 - htmd.protocols.production_v6 - WARNING - Lipids detected in input structure. We highly recommend setting useconstantratio=True for membrane simulations.\n",
      "2021-06-25 21:30:20,981 - jobqueues.slurmqueue - INFO - Queueing /gpcr/users/daranda/doctorat/GPCR_simulations/simulation_output/production/5YQZ/rep_3/\n"
     ]
    },
    {
     "name": "stdout",
     "output_type": "stream",
     "text": [
      "submitting replicate 1 of 6HLL\n"
     ]
    },
    {
     "name": "stderr",
     "output_type": "stream",
     "text": [
      "2021-06-25 21:30:56,127 - htmd.builder.builder - WARNING - Found cis peptide bond in 1 frames: [0] in the omega diheral \"Angle of (ASP 231 CA P P) (ASP 231 C P P) (SER 232 N P P) (SER 232 CA P P) \" with indexes [3373, 3381, 3383, 3385]\n",
      "2021-06-25 21:30:57,390 - htmd.protocols.production_v6 - WARNING - Lipids detected in input structure. We highly recommend setting useconstantratio=True for membrane simulations.\n",
      "2021-06-25 21:30:58,124 - jobqueues.slurmqueue - INFO - Queueing /gpcr/users/daranda/doctorat/GPCR_simulations/simulation_output/production/6HLL_apo/rep_1/\n"
     ]
    },
    {
     "name": "stdout",
     "output_type": "stream",
     "text": [
      "submitting replicate 2 of 6HLL\n"
     ]
    },
    {
     "name": "stderr",
     "output_type": "stream",
     "text": [
      "2021-06-25 21:31:33,250 - htmd.builder.builder - WARNING - Found cis peptide bond in 1 frames: [0] in the omega diheral \"Angle of (ASP 231 CA P P) (ASP 231 C P P) (SER 232 N P P) (SER 232 CA P P) \" with indexes [3373, 3381, 3383, 3385]\n",
      "2021-06-25 21:31:34,504 - htmd.protocols.production_v6 - WARNING - Lipids detected in input structure. We highly recommend setting useconstantratio=True for membrane simulations.\n",
      "2021-06-25 21:31:34,845 - jobqueues.slurmqueue - INFO - Queueing /gpcr/users/daranda/doctorat/GPCR_simulations/simulation_output/production/6HLL_apo/rep_2/\n"
     ]
    },
    {
     "name": "stdout",
     "output_type": "stream",
     "text": [
      "submitting replicate 3 of 6HLL\n"
     ]
    },
    {
     "name": "stderr",
     "output_type": "stream",
     "text": [
      "2021-06-25 21:32:10,686 - htmd.builder.builder - WARNING - Found cis peptide bond in 1 frames: [0] in the omega diheral \"Angle of (ASP 231 CA P P) (ASP 231 C P P) (SER 232 N P P) (SER 232 CA P P) \" with indexes [3373, 3381, 3383, 3385]\n",
      "2021-06-25 21:32:11,956 - htmd.protocols.production_v6 - WARNING - Lipids detected in input structure. We highly recommend setting useconstantratio=True for membrane simulations.\n",
      "2021-06-25 21:32:12,283 - jobqueues.slurmqueue - INFO - Queueing /gpcr/users/daranda/doctorat/GPCR_simulations/simulation_output/production/6HLL_apo/rep_3/\n"
     ]
    },
    {
     "name": "stdout",
     "output_type": "stream",
     "text": [
      "submitting replicate 1 of 6HLL\n"
     ]
    },
    {
     "name": "stderr",
     "output_type": "stream",
     "text": [
      "2021-06-25 21:32:49,408 - htmd.builder.builder - WARNING - Found cis peptide bond in 1 frames: [0] in the omega diheral \"Angle of (ASP 231 CA P P) (ASP 231 C P P) (SER 232 N P P) (SER 232 CA P P) \" with indexes [3421, 3429, 3431, 3433]\n",
      "2021-06-25 21:32:50,679 - htmd.protocols.production_v6 - WARNING - Lipids detected in input structure. We highly recommend setting useconstantratio=True for membrane simulations.\n",
      "2021-06-25 21:32:51,751 - jobqueues.slurmqueue - INFO - Queueing /gpcr/users/daranda/doctorat/GPCR_simulations/simulation_output/production/6HLL/rep_1/\n"
     ]
    },
    {
     "name": "stdout",
     "output_type": "stream",
     "text": [
      "submitting replicate 2 of 6HLL\n"
     ]
    },
    {
     "name": "stderr",
     "output_type": "stream",
     "text": [
      "2021-06-25 21:33:27,633 - htmd.builder.builder - WARNING - Found cis peptide bond in 1 frames: [0] in the omega diheral \"Angle of (ASP 231 CA P P) (ASP 231 C P P) (SER 232 N P P) (SER 232 CA P P) \" with indexes [3421, 3429, 3431, 3433]\n",
      "2021-06-25 21:33:28,904 - htmd.protocols.production_v6 - WARNING - Lipids detected in input structure. We highly recommend setting useconstantratio=True for membrane simulations.\n",
      "2021-06-25 21:33:29,298 - jobqueues.slurmqueue - INFO - Queueing /gpcr/users/daranda/doctorat/GPCR_simulations/simulation_output/production/6HLL/rep_2/\n"
     ]
    },
    {
     "name": "stdout",
     "output_type": "stream",
     "text": [
      "submitting replicate 3 of 6HLL\n"
     ]
    },
    {
     "name": "stderr",
     "output_type": "stream",
     "text": [
      "2021-06-25 21:34:03,642 - htmd.builder.builder - WARNING - Found cis peptide bond in 1 frames: [0] in the omega diheral \"Angle of (ASP 231 CA P P) (ASP 231 C P P) (SER 232 N P P) (SER 232 CA P P) \" with indexes [3421, 3429, 3431, 3433]\n",
      "2021-06-25 21:34:04,902 - htmd.protocols.production_v6 - WARNING - Lipids detected in input structure. We highly recommend setting useconstantratio=True for membrane simulations.\n",
      "2021-06-25 21:34:05,287 - jobqueues.slurmqueue - INFO - Queueing /gpcr/users/daranda/doctorat/GPCR_simulations/simulation_output/production/6HLL/rep_3/\n"
     ]
    },
    {
     "name": "stdout",
     "output_type": "stream",
     "text": [
      "submitting replicate 1 of 6A94\n"
     ]
    },
    {
     "name": "stderr",
     "output_type": "stream",
     "text": [
      "2021-06-25 21:34:32,587 - htmd.protocols.production_v6 - WARNING - Lipids detected in input structure. We highly recommend setting useconstantratio=True for membrane simulations.\n",
      "2021-06-25 21:34:33,619 - jobqueues.slurmqueue - INFO - Queueing /gpcr/users/daranda/doctorat/GPCR_simulations/simulation_output/production/6A94_apo/rep_1/\n"
     ]
    },
    {
     "name": "stdout",
     "output_type": "stream",
     "text": [
      "submitting replicate 2 of 6A94\n"
     ]
    },
    {
     "name": "stderr",
     "output_type": "stream",
     "text": [
      "2021-06-25 21:34:59,847 - htmd.protocols.production_v6 - WARNING - Lipids detected in input structure. We highly recommend setting useconstantratio=True for membrane simulations.\n",
      "2021-06-25 21:35:00,092 - jobqueues.slurmqueue - INFO - Queueing /gpcr/users/daranda/doctorat/GPCR_simulations/simulation_output/production/6A94_apo/rep_2/\n"
     ]
    },
    {
     "name": "stdout",
     "output_type": "stream",
     "text": [
      "submitting replicate 3 of 6A94\n"
     ]
    },
    {
     "name": "stderr",
     "output_type": "stream",
     "text": [
      "2021-06-25 21:35:25,598 - htmd.protocols.production_v6 - WARNING - Lipids detected in input structure. We highly recommend setting useconstantratio=True for membrane simulations.\n",
      "2021-06-25 21:35:25,893 - jobqueues.slurmqueue - INFO - Queueing /gpcr/users/daranda/doctorat/GPCR_simulations/simulation_output/production/6A94_apo/rep_3/\n"
     ]
    },
    {
     "name": "stdout",
     "output_type": "stream",
     "text": [
      "submitting replicate 1 of 6A94\n"
     ]
    },
    {
     "name": "stderr",
     "output_type": "stream",
     "text": [
      "2021-06-25 21:35:52,195 - htmd.protocols.production_v6 - WARNING - Lipids detected in input structure. We highly recommend setting useconstantratio=True for membrane simulations.\n",
      "2021-06-25 21:35:52,834 - jobqueues.slurmqueue - INFO - Queueing /gpcr/users/daranda/doctorat/GPCR_simulations/simulation_output/production/6A94/rep_1/\n"
     ]
    },
    {
     "name": "stdout",
     "output_type": "stream",
     "text": [
      "submitting replicate 2 of 6A94\n"
     ]
    },
    {
     "name": "stderr",
     "output_type": "stream",
     "text": [
      "2021-06-25 21:36:19,375 - htmd.protocols.production_v6 - WARNING - Lipids detected in input structure. We highly recommend setting useconstantratio=True for membrane simulations.\n",
      "2021-06-25 21:36:19,654 - jobqueues.slurmqueue - INFO - Queueing /gpcr/users/daranda/doctorat/GPCR_simulations/simulation_output/production/6A94/rep_2/\n"
     ]
    },
    {
     "name": "stdout",
     "output_type": "stream",
     "text": [
      "submitting replicate 3 of 6A94\n"
     ]
    },
    {
     "name": "stderr",
     "output_type": "stream",
     "text": [
      "2021-06-25 21:36:45,254 - htmd.protocols.production_v6 - WARNING - Lipids detected in input structure. We highly recommend setting useconstantratio=True for membrane simulations.\n",
      "2021-06-25 21:36:45,545 - jobqueues.slurmqueue - INFO - Queueing /gpcr/users/daranda/doctorat/GPCR_simulations/simulation_output/production/6A94/rep_3/\n"
     ]
    },
    {
     "name": "stdout",
     "output_type": "stream",
     "text": [
      "submitting replicate 1 of 5NDZ\n"
     ]
    },
    {
     "name": "stderr",
     "output_type": "stream",
     "text": [
      "2021-06-25 21:37:18,206 - htmd.protocols.production_v6 - WARNING - Lipids detected in input structure. We highly recommend setting useconstantratio=True for membrane simulations.\n",
      "2021-06-25 21:37:18,904 - jobqueues.slurmqueue - INFO - Queueing /gpcr/users/daranda/doctorat/GPCR_simulations/simulation_output/production/5NDZ_apo/rep_1/\n"
     ]
    },
    {
     "name": "stdout",
     "output_type": "stream",
     "text": [
      "submitting replicate 2 of 5NDZ\n"
     ]
    },
    {
     "name": "stderr",
     "output_type": "stream",
     "text": [
      "2021-06-25 21:37:50,749 - htmd.protocols.production_v6 - WARNING - Lipids detected in input structure. We highly recommend setting useconstantratio=True for membrane simulations.\n",
      "2021-06-25 21:37:51,077 - jobqueues.slurmqueue - INFO - Queueing /gpcr/users/daranda/doctorat/GPCR_simulations/simulation_output/production/5NDZ_apo/rep_2/\n"
     ]
    },
    {
     "name": "stdout",
     "output_type": "stream",
     "text": [
      "submitting replicate 3 of 5NDZ\n"
     ]
    },
    {
     "name": "stderr",
     "output_type": "stream",
     "text": [
      "2021-06-25 21:38:22,668 - htmd.protocols.production_v6 - WARNING - Lipids detected in input structure. We highly recommend setting useconstantratio=True for membrane simulations.\n",
      "2021-06-25 21:38:22,979 - jobqueues.slurmqueue - INFO - Queueing /gpcr/users/daranda/doctorat/GPCR_simulations/simulation_output/production/5NDZ_apo/rep_3/\n"
     ]
    },
    {
     "name": "stdout",
     "output_type": "stream",
     "text": [
      "submitting replicate 1 of 5NDZ\n"
     ]
    },
    {
     "name": "stderr",
     "output_type": "stream",
     "text": [
      "2021-06-25 21:38:54,971 - htmd.protocols.production_v6 - WARNING - Lipids detected in input structure. We highly recommend setting useconstantratio=True for membrane simulations.\n",
      "2021-06-25 21:38:55,711 - jobqueues.slurmqueue - INFO - Queueing /gpcr/users/daranda/doctorat/GPCR_simulations/simulation_output/production/5NDZ/rep_1/\n"
     ]
    },
    {
     "name": "stdout",
     "output_type": "stream",
     "text": [
      "submitting replicate 2 of 5NDZ\n"
     ]
    },
    {
     "name": "stderr",
     "output_type": "stream",
     "text": [
      "2021-06-25 21:39:28,722 - htmd.protocols.production_v6 - WARNING - Lipids detected in input structure. We highly recommend setting useconstantratio=True for membrane simulations.\n",
      "2021-06-25 21:39:29,041 - jobqueues.slurmqueue - INFO - Queueing /gpcr/users/daranda/doctorat/GPCR_simulations/simulation_output/production/5NDZ/rep_2/\n"
     ]
    },
    {
     "name": "stdout",
     "output_type": "stream",
     "text": [
      "submitting replicate 3 of 5NDZ\n"
     ]
    },
    {
     "name": "stderr",
     "output_type": "stream",
     "text": [
      "2021-06-25 21:40:03,161 - htmd.protocols.production_v6 - WARNING - Lipids detected in input structure. We highly recommend setting useconstantratio=True for membrane simulations.\n",
      "2021-06-25 21:40:03,485 - jobqueues.slurmqueue - INFO - Queueing /gpcr/users/daranda/doctorat/GPCR_simulations/simulation_output/production/5NDZ/rep_3/\n"
     ]
    },
    {
     "name": "stdout",
     "output_type": "stream",
     "text": [
      "submitting replicate 1 of 6D35\n"
     ]
    },
    {
     "name": "stderr",
     "output_type": "stream",
     "text": [
      "2021-06-25 21:40:17,574 - moleculekit.readers - WARNING - Non-integer values were read from the PDB \"serial\" field. Dropping PDB values and assigning new ones.\n",
      "2021-06-25 21:40:17,815 - moleculekit.readers - WARNING - Reading PDB file with more than 99999 atoms. Bond information can be wrong.\n",
      "2021-06-25 21:41:44,075 - htmd.builder.builder - WARNING - Found cis peptide bond in 1 frames: [0] in the omega diheral \"Angle of (ALA 168 CA P P) (ALA 168 C P P) (PRO 169 N P P) (PRO 169 CA P P) \" with indexes [2025, 2031, 2033, 2037]\n",
      "2021-06-25 21:41:44,077 - htmd.builder.builder - WARNING - Found cis peptide bond in 1 frames: [0] in the omega diheral \"Angle of (TYR 235 CA P P) (TYR 235 C P P) (PRO 236 N P P) (PRO 236 CA P P) \" with indexes [3098, 3115, 3117, 3121]\n",
      "2021-06-25 21:41:44,079 - htmd.builder.builder - WARNING - Found cis peptide bond in 1 frames: [0] in the omega diheral \"Angle of (GLU 278 CA P P) (GLU 278 C P P) (PRO 279 N P P) (PRO 279 CA P P) \" with indexes [3752, 3763, 3765, 3769]\n",
      "2021-06-25 21:41:47,136 - htmd.protocols.production_v6 - WARNING - Lipids detected in input structure. We highly recommend setting useconstantratio=True for membrane simulations.\n",
      "2021-06-25 21:41:48,463 - jobqueues.slurmqueue - INFO - Queueing /gpcr/users/daranda/doctorat/GPCR_simulations/simulation_output/production/6D35_apo/rep_1/\n"
     ]
    },
    {
     "name": "stdout",
     "output_type": "stream",
     "text": [
      "submitting replicate 2 of 6D35\n"
     ]
    },
    {
     "name": "stderr",
     "output_type": "stream",
     "text": [
      "2021-06-25 21:42:02,077 - moleculekit.readers - WARNING - Non-integer values were read from the PDB \"serial\" field. Dropping PDB values and assigning new ones.\n",
      "2021-06-25 21:42:02,321 - moleculekit.readers - WARNING - Reading PDB file with more than 99999 atoms. Bond information can be wrong.\n",
      "2021-06-25 21:43:38,745 - htmd.builder.builder - WARNING - Found cis peptide bond in 1 frames: [0] in the omega diheral \"Angle of (ALA 168 CA P P) (ALA 168 C P P) (PRO 169 N P P) (PRO 169 CA P P) \" with indexes [2025, 2031, 2033, 2037]\n",
      "2021-06-25 21:43:38,747 - htmd.builder.builder - WARNING - Found cis peptide bond in 1 frames: [0] in the omega diheral \"Angle of (TYR 235 CA P P) (TYR 235 C P P) (PRO 236 N P P) (PRO 236 CA P P) \" with indexes [3098, 3115, 3117, 3121]\n",
      "2021-06-25 21:43:38,748 - htmd.builder.builder - WARNING - Found cis peptide bond in 1 frames: [0] in the omega diheral \"Angle of (GLU 278 CA P P) (GLU 278 C P P) (PRO 279 N P P) (PRO 279 CA P P) \" with indexes [3752, 3763, 3765, 3769]\n",
      "2021-06-25 21:43:41,841 - htmd.protocols.production_v6 - WARNING - Lipids detected in input structure. We highly recommend setting useconstantratio=True for membrane simulations.\n",
      "2021-06-25 21:43:42,618 - jobqueues.slurmqueue - INFO - Queueing /gpcr/users/daranda/doctorat/GPCR_simulations/simulation_output/production/6D35_apo/rep_2/\n"
     ]
    },
    {
     "name": "stdout",
     "output_type": "stream",
     "text": [
      "submitting replicate 3 of 6D35\n"
     ]
    },
    {
     "name": "stderr",
     "output_type": "stream",
     "text": [
      "2021-06-25 21:43:56,558 - moleculekit.readers - WARNING - Non-integer values were read from the PDB \"serial\" field. Dropping PDB values and assigning new ones.\n",
      "2021-06-25 21:43:56,802 - moleculekit.readers - WARNING - Reading PDB file with more than 99999 atoms. Bond information can be wrong.\n",
      "2021-06-25 21:45:37,783 - htmd.builder.builder - WARNING - Found cis peptide bond in 1 frames: [0] in the omega diheral \"Angle of (ALA 168 CA P P) (ALA 168 C P P) (PRO 169 N P P) (PRO 169 CA P P) \" with indexes [2025, 2031, 2033, 2037]\n",
      "2021-06-25 21:45:37,785 - htmd.builder.builder - WARNING - Found cis peptide bond in 1 frames: [0] in the omega diheral \"Angle of (TYR 235 CA P P) (TYR 235 C P P) (PRO 236 N P P) (PRO 236 CA P P) \" with indexes [3098, 3115, 3117, 3121]\n",
      "2021-06-25 21:45:37,787 - htmd.builder.builder - WARNING - Found cis peptide bond in 1 frames: [0] in the omega diheral \"Angle of (GLU 278 CA P P) (GLU 278 C P P) (PRO 279 N P P) (PRO 279 CA P P) \" with indexes [3752, 3763, 3765, 3769]\n",
      "2021-06-25 21:45:40,945 - htmd.protocols.production_v6 - WARNING - Lipids detected in input structure. We highly recommend setting useconstantratio=True for membrane simulations.\n",
      "2021-06-25 21:45:41,590 - jobqueues.slurmqueue - INFO - Queueing /gpcr/users/daranda/doctorat/GPCR_simulations/simulation_output/production/6D35_apo/rep_3/\n"
     ]
    },
    {
     "name": "stdout",
     "output_type": "stream",
     "text": [
      "submitting replicate 1 of 6D35\n"
     ]
    },
    {
     "name": "stderr",
     "output_type": "stream",
     "text": [
      "2021-06-25 21:45:55,368 - moleculekit.readers - WARNING - Non-integer values were read from the PDB \"serial\" field. Dropping PDB values and assigning new ones.\n",
      "2021-06-25 21:45:55,608 - moleculekit.readers - WARNING - Reading PDB file with more than 99999 atoms. Bond information can be wrong.\n",
      "2021-06-25 21:47:39,122 - htmd.builder.builder - WARNING - Found cis peptide bond in 1 frames: [0] in the omega diheral \"Angle of (ALA 168 CA P P) (ALA 168 C P P) (PRO 169 N P P) (PRO 169 CA P P) \" with indexes [2099, 2105, 2107, 2111]\n",
      "2021-06-25 21:47:39,124 - htmd.builder.builder - WARNING - Found cis peptide bond in 1 frames: [0] in the omega diheral \"Angle of (TYR 235 CA P P) (TYR 235 C P P) (PRO 236 N P P) (PRO 236 CA P P) \" with indexes [3172, 3189, 3191, 3195]\n",
      "2021-06-25 21:47:39,126 - htmd.builder.builder - WARNING - Found cis peptide bond in 1 frames: [0] in the omega diheral \"Angle of (GLU 278 CA P P) (GLU 278 C P P) (PRO 279 N P P) (PRO 279 CA P P) \" with indexes [3826, 3837, 3839, 3843]\n",
      "2021-06-25 21:47:42,173 - htmd.protocols.production_v6 - WARNING - Lipids detected in input structure. We highly recommend setting useconstantratio=True for membrane simulations.\n",
      "2021-06-25 21:47:43,538 - jobqueues.slurmqueue - INFO - Queueing /gpcr/users/daranda/doctorat/GPCR_simulations/simulation_output/production/6D35/rep_1/\n"
     ]
    },
    {
     "name": "stdout",
     "output_type": "stream",
     "text": [
      "submitting replicate 2 of 6D35\n"
     ]
    },
    {
     "name": "stderr",
     "output_type": "stream",
     "text": [
      "2021-06-25 21:47:57,373 - moleculekit.readers - WARNING - Non-integer values were read from the PDB \"serial\" field. Dropping PDB values and assigning new ones.\n",
      "2021-06-25 21:47:57,613 - moleculekit.readers - WARNING - Reading PDB file with more than 99999 atoms. Bond information can be wrong.\n",
      "2021-06-25 21:49:38,179 - htmd.builder.builder - WARNING - Found cis peptide bond in 1 frames: [0] in the omega diheral \"Angle of (ALA 168 CA P P) (ALA 168 C P P) (PRO 169 N P P) (PRO 169 CA P P) \" with indexes [2099, 2105, 2107, 2111]\n",
      "2021-06-25 21:49:38,181 - htmd.builder.builder - WARNING - Found cis peptide bond in 1 frames: [0] in the omega diheral \"Angle of (TYR 235 CA P P) (TYR 235 C P P) (PRO 236 N P P) (PRO 236 CA P P) \" with indexes [3172, 3189, 3191, 3195]\n",
      "2021-06-25 21:49:38,183 - htmd.builder.builder - WARNING - Found cis peptide bond in 1 frames: [0] in the omega diheral \"Angle of (GLU 278 CA P P) (GLU 278 C P P) (PRO 279 N P P) (PRO 279 CA P P) \" with indexes [3826, 3837, 3839, 3843]\n",
      "2021-06-25 21:49:41,231 - htmd.protocols.production_v6 - WARNING - Lipids detected in input structure. We highly recommend setting useconstantratio=True for membrane simulations.\n",
      "2021-06-25 21:49:42,089 - jobqueues.slurmqueue - INFO - Queueing /gpcr/users/daranda/doctorat/GPCR_simulations/simulation_output/production/6D35/rep_2/\n"
     ]
    },
    {
     "name": "stdout",
     "output_type": "stream",
     "text": [
      "submitting replicate 3 of 6D35\n"
     ]
    },
    {
     "name": "stderr",
     "output_type": "stream",
     "text": [
      "2021-06-25 21:49:55,643 - moleculekit.readers - WARNING - Non-integer values were read from the PDB \"serial\" field. Dropping PDB values and assigning new ones.\n",
      "2021-06-25 21:49:55,888 - moleculekit.readers - WARNING - Reading PDB file with more than 99999 atoms. Bond information can be wrong.\n",
      "2021-06-25 21:51:39,693 - htmd.builder.builder - WARNING - Found cis peptide bond in 1 frames: [0] in the omega diheral \"Angle of (ALA 168 CA P P) (ALA 168 C P P) (PRO 169 N P P) (PRO 169 CA P P) \" with indexes [2099, 2105, 2107, 2111]\n",
      "2021-06-25 21:51:39,696 - htmd.builder.builder - WARNING - Found cis peptide bond in 1 frames: [0] in the omega diheral \"Angle of (TYR 235 CA P P) (TYR 235 C P P) (PRO 236 N P P) (PRO 236 CA P P) \" with indexes [3172, 3189, 3191, 3195]\n",
      "2021-06-25 21:51:39,697 - htmd.builder.builder - WARNING - Found cis peptide bond in 1 frames: [0] in the omega diheral \"Angle of (GLU 278 CA P P) (GLU 278 C P P) (PRO 279 N P P) (PRO 279 CA P P) \" with indexes [3826, 3837, 3839, 3843]\n",
      "2021-06-25 21:51:42,757 - htmd.protocols.production_v6 - WARNING - Lipids detected in input structure. We highly recommend setting useconstantratio=True for membrane simulations.\n",
      "2021-06-25 21:51:43,484 - jobqueues.slurmqueue - INFO - Queueing /gpcr/users/daranda/doctorat/GPCR_simulations/simulation_output/production/6D35/rep_3/\n"
     ]
    },
    {
     "name": "stdout",
     "output_type": "stream",
     "text": [
      "replicate 1 of structure 5WIU already has been simulated\n",
      "replicate 2 of structure 5WIU already has been simulated\n",
      "replicate 3 of structure 5WIU already has been simulated\n",
      "replicate 1 of structure 5WIU already has been simulated\n",
      "replicate 2 of structure 5WIU already has been simulated\n",
      "replicate 3 of structure 5WIU already has been simulated\n",
      "submitting replicate 1 of 5T04\n"
     ]
    },
    {
     "name": "stderr",
     "output_type": "stream",
     "text": [
      "2021-06-25 21:52:29,154 - htmd.builder.builder - WARNING - Found cis peptide bond in 1 frames: [0] in the omega diheral \"Angle of (HSE 133 CA P0 P) (HSE 133 C P0 P) (PRO 134 N P0 P) (PRO 134 CA P0 P) \" with indexes [1402, 1415, 1417, 1421]\n",
      "2021-06-25 21:52:30,620 - htmd.protocols.production_v6 - WARNING - Lipids detected in input structure. We highly recommend setting useconstantratio=True for membrane simulations.\n",
      "2021-06-25 21:52:31,458 - jobqueues.slurmqueue - INFO - Queueing /gpcr/users/daranda/doctorat/GPCR_simulations/simulation_output/production/5T04_apo/rep_1/\n"
     ]
    },
    {
     "name": "stdout",
     "output_type": "stream",
     "text": [
      "submitting replicate 2 of 5T04\n"
     ]
    },
    {
     "name": "stderr",
     "output_type": "stream",
     "text": [
      "2021-06-25 21:53:15,571 - htmd.builder.builder - WARNING - Found cis peptide bond in 1 frames: [0] in the omega diheral \"Angle of (HSE 133 CA P0 P) (HSE 133 C P0 P) (PRO 134 N P0 P) (PRO 134 CA P0 P) \" with indexes [1402, 1415, 1417, 1421]\n",
      "2021-06-25 21:53:17,015 - htmd.protocols.production_v6 - WARNING - Lipids detected in input structure. We highly recommend setting useconstantratio=True for membrane simulations.\n",
      "2021-06-25 21:53:17,381 - jobqueues.slurmqueue - INFO - Queueing /gpcr/users/daranda/doctorat/GPCR_simulations/simulation_output/production/5T04_apo/rep_2/\n"
     ]
    },
    {
     "name": "stdout",
     "output_type": "stream",
     "text": [
      "submitting replicate 3 of 5T04\n"
     ]
    },
    {
     "name": "stderr",
     "output_type": "stream",
     "text": [
      "2021-06-25 21:54:03,067 - htmd.builder.builder - WARNING - Found cis peptide bond in 1 frames: [0] in the omega diheral \"Angle of (HSE 133 CA P0 P) (HSE 133 C P0 P) (PRO 134 N P0 P) (PRO 134 CA P0 P) \" with indexes [1402, 1415, 1417, 1421]\n",
      "2021-06-25 21:54:04,524 - htmd.protocols.production_v6 - WARNING - Lipids detected in input structure. We highly recommend setting useconstantratio=True for membrane simulations.\n",
      "2021-06-25 21:54:04,869 - jobqueues.slurmqueue - INFO - Queueing /gpcr/users/daranda/doctorat/GPCR_simulations/simulation_output/production/5T04_apo/rep_3/\n"
     ]
    },
    {
     "name": "stdout",
     "output_type": "stream",
     "text": [
      "submitting replicate 1 of 5T04\n"
     ]
    },
    {
     "name": "stderr",
     "output_type": "stream",
     "text": [
      "2021-06-25 21:54:50,861 - htmd.builder.builder - WARNING - Found cis peptide bond in 1 frames: [0] in the omega diheral \"Angle of (HSE 133 CA P0 P) (HSE 133 C P0 P) (PRO 134 N P0 P) (PRO 134 CA P0 P) \" with indexes [1403, 1416, 1418, 1422]\n",
      "2021-06-25 21:54:52,312 - htmd.protocols.production_v6 - WARNING - Lipids detected in input structure. We highly recommend setting useconstantratio=True for membrane simulations.\n",
      "2021-06-25 21:54:53,166 - jobqueues.slurmqueue - INFO - Queueing /gpcr/users/daranda/doctorat/GPCR_simulations/simulation_output/production/5T04/rep_1/\n"
     ]
    },
    {
     "name": "stdout",
     "output_type": "stream",
     "text": [
      "submitting replicate 2 of 5T04\n"
     ]
    },
    {
     "name": "stderr",
     "output_type": "stream",
     "text": [
      "2021-06-25 21:55:38,646 - htmd.builder.builder - WARNING - Found cis peptide bond in 1 frames: [0] in the omega diheral \"Angle of (HSE 133 CA P0 P) (HSE 133 C P0 P) (PRO 134 N P0 P) (PRO 134 CA P0 P) \" with indexes [1403, 1416, 1418, 1422]\n",
      "2021-06-25 21:55:40,092 - htmd.protocols.production_v6 - WARNING - Lipids detected in input structure. We highly recommend setting useconstantratio=True for membrane simulations.\n",
      "2021-06-25 21:55:40,458 - jobqueues.slurmqueue - INFO - Queueing /gpcr/users/daranda/doctorat/GPCR_simulations/simulation_output/production/5T04/rep_2/\n"
     ]
    },
    {
     "name": "stdout",
     "output_type": "stream",
     "text": [
      "submitting replicate 3 of 5T04\n"
     ]
    },
    {
     "name": "stderr",
     "output_type": "stream",
     "text": [
      "2021-06-25 21:56:24,744 - htmd.builder.builder - WARNING - Found cis peptide bond in 1 frames: [0] in the omega diheral \"Angle of (HSE 133 CA P0 P) (HSE 133 C P0 P) (PRO 134 N P0 P) (PRO 134 CA P0 P) \" with indexes [1403, 1416, 1418, 1422]\n",
      "2021-06-25 21:56:26,169 - htmd.protocols.production_v6 - WARNING - Lipids detected in input structure. We highly recommend setting useconstantratio=True for membrane simulations.\n",
      "2021-06-25 21:56:26,535 - jobqueues.slurmqueue - INFO - Queueing /gpcr/users/daranda/doctorat/GPCR_simulations/simulation_output/production/5T04/rep_3/\n"
     ]
    },
    {
     "name": "stdout",
     "output_type": "stream",
     "text": [
      "submitting replicate 1 of 5F8U\n"
     ]
    },
    {
     "name": "stderr",
     "output_type": "stream",
     "text": [
      "2021-06-25 21:57:08,080 - htmd.protocols.production_v6 - WARNING - Lipids detected in input structure. We highly recommend setting useconstantratio=True for membrane simulations.\n",
      "2021-06-25 21:57:08,870 - jobqueues.slurmqueue - INFO - Queueing /gpcr/users/daranda/doctorat/GPCR_simulations/simulation_output/production/5F8U_apo/rep_1/\n"
     ]
    },
    {
     "name": "stdout",
     "output_type": "stream",
     "text": [
      "submitting replicate 2 of 5F8U\n"
     ]
    },
    {
     "name": "stderr",
     "output_type": "stream",
     "text": [
      "2021-06-25 21:57:48,543 - htmd.protocols.production_v6 - WARNING - Lipids detected in input structure. We highly recommend setting useconstantratio=True for membrane simulations.\n",
      "2021-06-25 21:57:48,886 - jobqueues.slurmqueue - INFO - Queueing /gpcr/users/daranda/doctorat/GPCR_simulations/simulation_output/production/5F8U_apo/rep_2/\n"
     ]
    },
    {
     "name": "stdout",
     "output_type": "stream",
     "text": [
      "submitting replicate 3 of 5F8U\n"
     ]
    },
    {
     "name": "stderr",
     "output_type": "stream",
     "text": [
      "2021-06-25 21:58:28,007 - htmd.protocols.production_v6 - WARNING - Lipids detected in input structure. We highly recommend setting useconstantratio=True for membrane simulations.\n",
      "2021-06-25 21:58:28,350 - jobqueues.slurmqueue - INFO - Queueing /gpcr/users/daranda/doctorat/GPCR_simulations/simulation_output/production/5F8U_apo/rep_3/\n"
     ]
    },
    {
     "name": "stdout",
     "output_type": "stream",
     "text": [
      "submitting replicate 1 of 5F8U\n"
     ]
    },
    {
     "name": "stderr",
     "output_type": "stream",
     "text": [
      "2021-06-25 21:59:09,284 - htmd.protocols.production_v6 - WARNING - Lipids detected in input structure. We highly recommend setting useconstantratio=True for membrane simulations.\n",
      "2021-06-25 21:59:10,129 - jobqueues.slurmqueue - INFO - Queueing /gpcr/users/daranda/doctorat/GPCR_simulations/simulation_output/production/5F8U/rep_1/\n"
     ]
    },
    {
     "name": "stdout",
     "output_type": "stream",
     "text": [
      "submitting replicate 2 of 5F8U\n"
     ]
    },
    {
     "name": "stderr",
     "output_type": "stream",
     "text": [
      "2021-06-25 21:59:50,864 - htmd.protocols.production_v6 - WARNING - Lipids detected in input structure. We highly recommend setting useconstantratio=True for membrane simulations.\n",
      "2021-06-25 21:59:51,247 - jobqueues.slurmqueue - INFO - Queueing /gpcr/users/daranda/doctorat/GPCR_simulations/simulation_output/production/5F8U/rep_2/\n"
     ]
    },
    {
     "name": "stdout",
     "output_type": "stream",
     "text": [
      "submitting replicate 3 of 5F8U\n"
     ]
    },
    {
     "name": "stderr",
     "output_type": "stream",
     "text": [
      "2021-06-25 22:00:31,762 - htmd.protocols.production_v6 - WARNING - Lipids detected in input structure. We highly recommend setting useconstantratio=True for membrane simulations.\n",
      "2021-06-25 22:00:32,329 - jobqueues.slurmqueue - INFO - Queueing /gpcr/users/daranda/doctorat/GPCR_simulations/simulation_output/production/5F8U/rep_3/\n"
     ]
    },
    {
     "name": "stdout",
     "output_type": "stream",
     "text": [
      "submitting replicate 1 of 6IIU\n"
     ]
    },
    {
     "name": "stderr",
     "output_type": "stream",
     "text": [
      "2021-06-25 22:01:09,435 - htmd.builder.builder - WARNING - Found cis peptide bond in 1 frames: [0] in the omega diheral \"Angle of (TYR 178 CA P P) (TYR 178 C P P) (PRO 179 N P P) (PRO 179 CA P P) \" with indexes [2586, 2603, 2605, 2609]\n",
      "2021-06-25 22:01:10,756 - htmd.protocols.production_v6 - WARNING - Lipids detected in input structure. We highly recommend setting useconstantratio=True for membrane simulations.\n",
      "2021-06-25 22:01:11,760 - jobqueues.slurmqueue - INFO - Queueing /gpcr/users/daranda/doctorat/GPCR_simulations/simulation_output/production/6IIU_apo/rep_1/\n"
     ]
    },
    {
     "name": "stdout",
     "output_type": "stream",
     "text": [
      "submitting replicate 2 of 6IIU\n"
     ]
    },
    {
     "name": "stderr",
     "output_type": "stream",
     "text": [
      "2021-06-25 22:01:48,885 - htmd.builder.builder - WARNING - Found cis peptide bond in 1 frames: [0] in the omega diheral \"Angle of (TYR 178 CA P P) (TYR 178 C P P) (PRO 179 N P P) (PRO 179 CA P P) \" with indexes [2586, 2603, 2605, 2609]\n",
      "2021-06-25 22:01:50,220 - htmd.protocols.production_v6 - WARNING - Lipids detected in input structure. We highly recommend setting useconstantratio=True for membrane simulations.\n",
      "2021-06-25 22:01:50,923 - jobqueues.slurmqueue - INFO - Queueing /gpcr/users/daranda/doctorat/GPCR_simulations/simulation_output/production/6IIU_apo/rep_2/\n"
     ]
    },
    {
     "name": "stdout",
     "output_type": "stream",
     "text": [
      "submitting replicate 3 of 6IIU\n"
     ]
    },
    {
     "name": "stderr",
     "output_type": "stream",
     "text": [
      "2021-06-25 22:02:26,439 - htmd.builder.builder - WARNING - Found cis peptide bond in 1 frames: [0] in the omega diheral \"Angle of (TYR 178 CA P P) (TYR 178 C P P) (PRO 179 N P P) (PRO 179 CA P P) \" with indexes [2586, 2603, 2605, 2609]\n",
      "2021-06-25 22:02:27,761 - htmd.protocols.production_v6 - WARNING - Lipids detected in input structure. We highly recommend setting useconstantratio=True for membrane simulations.\n",
      "2021-06-25 22:02:28,117 - jobqueues.slurmqueue - INFO - Queueing /gpcr/users/daranda/doctorat/GPCR_simulations/simulation_output/production/6IIU_apo/rep_3/\n"
     ]
    },
    {
     "name": "stdout",
     "output_type": "stream",
     "text": [
      "submitting replicate 1 of 6IIU\n"
     ]
    },
    {
     "name": "stderr",
     "output_type": "stream",
     "text": [
      "2021-06-25 22:03:04,424 - htmd.builder.builder - WARNING - Found cis peptide bond in 1 frames: [0] in the omega diheral \"Angle of (TYR 178 CA P P) (TYR 178 C P P) (PRO 179 N P P) (PRO 179 CA P P) \" with indexes [2710, 2727, 2729, 2733]\n",
      "2021-06-25 22:03:05,748 - htmd.protocols.production_v6 - WARNING - Lipids detected in input structure. We highly recommend setting useconstantratio=True for membrane simulations.\n",
      "2021-06-25 22:03:06,516 - jobqueues.slurmqueue - INFO - Queueing /gpcr/users/daranda/doctorat/GPCR_simulations/simulation_output/production/6IIU/rep_1/\n"
     ]
    },
    {
     "name": "stdout",
     "output_type": "stream",
     "text": [
      "submitting replicate 2 of 6IIU\n"
     ]
    },
    {
     "name": "stderr",
     "output_type": "stream",
     "text": [
      "2021-06-25 22:03:41,912 - htmd.builder.builder - WARNING - Found cis peptide bond in 1 frames: [0] in the omega diheral \"Angle of (TYR 178 CA P P) (TYR 178 C P P) (PRO 179 N P P) (PRO 179 CA P P) \" with indexes [2710, 2727, 2729, 2733]\n",
      "2021-06-25 22:03:43,241 - htmd.protocols.production_v6 - WARNING - Lipids detected in input structure. We highly recommend setting useconstantratio=True for membrane simulations.\n",
      "2021-06-25 22:03:43,634 - jobqueues.slurmqueue - INFO - Queueing /gpcr/users/daranda/doctorat/GPCR_simulations/simulation_output/production/6IIU/rep_2/\n"
     ]
    },
    {
     "name": "stdout",
     "output_type": "stream",
     "text": [
      "submitting replicate 3 of 6IIU\n"
     ]
    },
    {
     "name": "stderr",
     "output_type": "stream",
     "text": [
      "2021-06-25 22:04:19,190 - htmd.builder.builder - WARNING - Found cis peptide bond in 1 frames: [0] in the omega diheral \"Angle of (TYR 178 CA P P) (TYR 178 C P P) (PRO 179 N P P) (PRO 179 CA P P) \" with indexes [2710, 2727, 2729, 2733]\n",
      "2021-06-25 22:04:20,511 - htmd.protocols.production_v6 - WARNING - Lipids detected in input structure. We highly recommend setting useconstantratio=True for membrane simulations.\n",
      "2021-06-25 22:04:20,903 - jobqueues.slurmqueue - INFO - Queueing /gpcr/users/daranda/doctorat/GPCR_simulations/simulation_output/production/6IIU/rep_3/\n"
     ]
    },
    {
     "name": "stdout",
     "output_type": "stream",
     "text": [
      "submitting replicate 1 of 5VRA\n"
     ]
    },
    {
     "name": "stderr",
     "output_type": "stream",
     "text": [
      "2021-06-25 22:04:59,006 - htmd.protocols.production_v6 - WARNING - Lipids detected in input structure. We highly recommend setting useconstantratio=True for membrane simulations.\n",
      "2021-06-25 22:04:59,764 - jobqueues.slurmqueue - INFO - Queueing /gpcr/users/daranda/doctorat/GPCR_simulations/simulation_output/production/5VRA_apo/rep_1/\n"
     ]
    },
    {
     "name": "stdout",
     "output_type": "stream",
     "text": [
      "submitting replicate 2 of 5VRA\n"
     ]
    },
    {
     "name": "stderr",
     "output_type": "stream",
     "text": [
      "2021-06-25 22:05:38,377 - htmd.protocols.production_v6 - WARNING - Lipids detected in input structure. We highly recommend setting useconstantratio=True for membrane simulations.\n",
      "2021-06-25 22:05:38,725 - jobqueues.slurmqueue - INFO - Queueing /gpcr/users/daranda/doctorat/GPCR_simulations/simulation_output/production/5VRA_apo/rep_2/\n"
     ]
    },
    {
     "name": "stdout",
     "output_type": "stream",
     "text": [
      "submitting replicate 3 of 5VRA\n"
     ]
    },
    {
     "name": "stderr",
     "output_type": "stream",
     "text": [
      "2021-06-25 22:06:17,681 - htmd.protocols.production_v6 - WARNING - Lipids detected in input structure. We highly recommend setting useconstantratio=True for membrane simulations.\n",
      "2021-06-25 22:06:18,015 - jobqueues.slurmqueue - INFO - Queueing /gpcr/users/daranda/doctorat/GPCR_simulations/simulation_output/production/5VRA_apo/rep_3/\n"
     ]
    },
    {
     "name": "stdout",
     "output_type": "stream",
     "text": [
      "submitting replicate 1 of 5VRA\n"
     ]
    },
    {
     "name": "stderr",
     "output_type": "stream",
     "text": [
      "2021-06-25 22:06:55,909 - htmd.protocols.production_v6 - WARNING - Lipids detected in input structure. We highly recommend setting useconstantratio=True for membrane simulations.\n",
      "2021-06-25 22:06:56,746 - jobqueues.slurmqueue - INFO - Queueing /gpcr/users/daranda/doctorat/GPCR_simulations/simulation_output/production/5VRA/rep_1/\n"
     ]
    },
    {
     "name": "stdout",
     "output_type": "stream",
     "text": [
      "submitting replicate 2 of 5VRA\n"
     ]
    },
    {
     "name": "stderr",
     "output_type": "stream",
     "text": [
      "2021-06-25 22:07:34,541 - htmd.protocols.production_v6 - WARNING - Lipids detected in input structure. We highly recommend setting useconstantratio=True for membrane simulations.\n",
      "2021-06-25 22:07:34,917 - jobqueues.slurmqueue - INFO - Queueing /gpcr/users/daranda/doctorat/GPCR_simulations/simulation_output/production/5VRA/rep_2/\n"
     ]
    },
    {
     "name": "stdout",
     "output_type": "stream",
     "text": [
      "submitting replicate 3 of 5VRA\n"
     ]
    },
    {
     "name": "stderr",
     "output_type": "stream",
     "text": [
      "2021-06-25 22:08:13,816 - htmd.protocols.production_v6 - WARNING - Lipids detected in input structure. We highly recommend setting useconstantratio=True for membrane simulations.\n",
      "2021-06-25 22:08:14,195 - jobqueues.slurmqueue - INFO - Queueing /gpcr/users/daranda/doctorat/GPCR_simulations/simulation_output/production/5VRA/rep_3/\n"
     ]
    },
    {
     "name": "stdout",
     "output_type": "stream",
     "text": [
      "submitting replicate 1 of 6ME6\n"
     ]
    },
    {
     "name": "stderr",
     "output_type": "stream",
     "text": [
      "2021-06-25 22:08:46,481 - htmd.protocols.production_v6 - WARNING - Lipids detected in input structure. We highly recommend setting useconstantratio=True for membrane simulations.\n",
      "2021-06-25 22:08:47,191 - jobqueues.slurmqueue - INFO - Queueing /gpcr/users/daranda/doctorat/GPCR_simulations/simulation_output/production/6ME6_apo/rep_1/\n"
     ]
    },
    {
     "name": "stdout",
     "output_type": "stream",
     "text": [
      "submitting replicate 2 of 6ME6\n"
     ]
    },
    {
     "name": "stderr",
     "output_type": "stream",
     "text": [
      "2021-06-25 22:09:19,472 - htmd.protocols.production_v6 - WARNING - Lipids detected in input structure. We highly recommend setting useconstantratio=True for membrane simulations.\n",
      "2021-06-25 22:09:19,819 - jobqueues.slurmqueue - INFO - Queueing /gpcr/users/daranda/doctorat/GPCR_simulations/simulation_output/production/6ME6_apo/rep_2/\n"
     ]
    },
    {
     "name": "stdout",
     "output_type": "stream",
     "text": [
      "submitting replicate 3 of 6ME6\n"
     ]
    },
    {
     "name": "stderr",
     "output_type": "stream",
     "text": [
      "2021-06-25 22:09:53,326 - htmd.protocols.production_v6 - WARNING - Lipids detected in input structure. We highly recommend setting useconstantratio=True for membrane simulations.\n",
      "2021-06-25 22:09:53,660 - jobqueues.slurmqueue - INFO - Queueing /gpcr/users/daranda/doctorat/GPCR_simulations/simulation_output/production/6ME6_apo/rep_3/\n"
     ]
    },
    {
     "name": "stdout",
     "output_type": "stream",
     "text": [
      "submitting replicate 1 of 6ME6\n"
     ]
    },
    {
     "name": "stderr",
     "output_type": "stream",
     "text": [
      "2021-06-25 22:10:25,622 - htmd.protocols.production_v6 - WARNING - Lipids detected in input structure. We highly recommend setting useconstantratio=True for membrane simulations.\n",
      "2021-06-25 22:10:26,544 - jobqueues.slurmqueue - INFO - Queueing /gpcr/users/daranda/doctorat/GPCR_simulations/simulation_output/production/6ME6/rep_1/\n"
     ]
    },
    {
     "name": "stdout",
     "output_type": "stream",
     "text": [
      "submitting replicate 2 of 6ME6\n"
     ]
    },
    {
     "name": "stderr",
     "output_type": "stream",
     "text": [
      "2021-06-25 22:10:58,135 - htmd.protocols.production_v6 - WARNING - Lipids detected in input structure. We highly recommend setting useconstantratio=True for membrane simulations.\n",
      "2021-06-25 22:10:58,510 - jobqueues.slurmqueue - INFO - Queueing /gpcr/users/daranda/doctorat/GPCR_simulations/simulation_output/production/6ME6/rep_2/\n"
     ]
    },
    {
     "name": "stdout",
     "output_type": "stream",
     "text": [
      "submitting replicate 3 of 6ME6\n"
     ]
    },
    {
     "name": "stderr",
     "output_type": "stream",
     "text": [
      "2021-06-25 22:11:30,785 - htmd.protocols.production_v6 - WARNING - Lipids detected in input structure. We highly recommend setting useconstantratio=True for membrane simulations.\n",
      "2021-06-25 22:11:31,152 - jobqueues.slurmqueue - INFO - Queueing /gpcr/users/daranda/doctorat/GPCR_simulations/simulation_output/production/6ME6/rep_3/\n"
     ]
    },
    {
     "name": "stdout",
     "output_type": "stream",
     "text": [
      "submitting replicate 1 of 5VEW\n"
     ]
    },
    {
     "name": "stderr",
     "output_type": "stream",
     "text": [
      "2021-06-25 22:11:43,874 - moleculekit.readers - WARNING - Non-integer values were read from the PDB \"serial\" field. Dropping PDB values and assigning new ones.\n",
      "2021-06-25 22:11:44,048 - moleculekit.readers - WARNING - Reading PDB file with more than 99999 atoms. Bond information can be wrong.\n",
      "2021-06-25 22:12:24,008 - htmd.builder.builder - WARNING - Found cis peptide bond in 1 frames: [0] in the omega diheral \"Angle of (PHE 257 CA P P) (PHE 257 C P P) (SER 258 N P P) (SER 258 CA P P) \" with indexes [2040, 2056, 2058, 2060]\n",
      "2021-06-25 22:12:26,091 - htmd.protocols.production_v6 - WARNING - Lipids detected in input structure. We highly recommend setting useconstantratio=True for membrane simulations.\n",
      "2021-06-25 22:12:27,117 - jobqueues.slurmqueue - INFO - Queueing /gpcr/users/daranda/doctorat/GPCR_simulations/simulation_output/production/5VEW_apo/rep_1/\n"
     ]
    },
    {
     "name": "stdout",
     "output_type": "stream",
     "text": [
      "submitting replicate 2 of 5VEW\n"
     ]
    },
    {
     "name": "stderr",
     "output_type": "stream",
     "text": [
      "2021-06-25 22:12:38,968 - moleculekit.readers - WARNING - Non-integer values were read from the PDB \"serial\" field. Dropping PDB values and assigning new ones.\n",
      "2021-06-25 22:12:39,140 - moleculekit.readers - WARNING - Reading PDB file with more than 99999 atoms. Bond information can be wrong.\n",
      "2021-06-25 22:13:23,788 - htmd.builder.builder - WARNING - Found cis peptide bond in 1 frames: [0] in the omega diheral \"Angle of (PHE 257 CA P P) (PHE 257 C P P) (SER 258 N P P) (SER 258 CA P P) \" with indexes [2040, 2056, 2058, 2060]\n",
      "2021-06-25 22:13:25,882 - htmd.protocols.production_v6 - WARNING - Lipids detected in input structure. We highly recommend setting useconstantratio=True for membrane simulations.\n",
      "2021-06-25 22:13:26,519 - jobqueues.slurmqueue - INFO - Queueing /gpcr/users/daranda/doctorat/GPCR_simulations/simulation_output/production/5VEW_apo/rep_2/\n"
     ]
    },
    {
     "name": "stdout",
     "output_type": "stream",
     "text": [
      "submitting replicate 3 of 5VEW\n"
     ]
    },
    {
     "name": "stderr",
     "output_type": "stream",
     "text": [
      "2021-06-25 22:13:38,574 - moleculekit.readers - WARNING - Non-integer values were read from the PDB \"serial\" field. Dropping PDB values and assigning new ones.\n",
      "2021-06-25 22:13:38,747 - moleculekit.readers - WARNING - Reading PDB file with more than 99999 atoms. Bond information can be wrong.\n",
      "2021-06-25 22:14:25,776 - htmd.builder.builder - WARNING - Found cis peptide bond in 1 frames: [0] in the omega diheral \"Angle of (PHE 257 CA P P) (PHE 257 C P P) (SER 258 N P P) (SER 258 CA P P) \" with indexes [2040, 2056, 2058, 2060]\n",
      "2021-06-25 22:14:27,875 - htmd.protocols.production_v6 - WARNING - Lipids detected in input structure. We highly recommend setting useconstantratio=True for membrane simulations.\n",
      "2021-06-25 22:14:28,496 - jobqueues.slurmqueue - INFO - Queueing /gpcr/users/daranda/doctorat/GPCR_simulations/simulation_output/production/5VEW_apo/rep_3/\n"
     ]
    },
    {
     "name": "stdout",
     "output_type": "stream",
     "text": [
      "replicate 1 of structure 5VEW already has been simulated\n",
      "submitting replicate 2 of 5VEW\n"
     ]
    },
    {
     "name": "stderr",
     "output_type": "stream",
     "text": [
      "2021-06-25 22:14:40,668 - moleculekit.readers - WARNING - Non-integer values were read from the PDB \"serial\" field. Dropping PDB values and assigning new ones.\n",
      "2021-06-25 22:14:40,839 - moleculekit.readers - WARNING - Reading PDB file with more than 99999 atoms. Bond information can be wrong.\n",
      "2021-06-25 22:15:28,128 - htmd.builder.builder - WARNING - Found cis peptide bond in 1 frames: [0] in the omega diheral \"Angle of (PHE 257 CA P P) (PHE 257 C P P) (SER 258 N P P) (SER 258 CA P P) \" with indexes [2040, 2056, 2058, 2060]\n",
      "2021-06-25 22:15:30,242 - htmd.protocols.production_v6 - WARNING - Lipids detected in input structure. We highly recommend setting useconstantratio=True for membrane simulations.\n",
      "2021-06-25 22:15:31,483 - jobqueues.slurmqueue - INFO - Queueing /gpcr/users/daranda/doctorat/GPCR_simulations/simulation_output/production/5VEW/rep_2/\n"
     ]
    },
    {
     "name": "stdout",
     "output_type": "stream",
     "text": [
      "submitting replicate 3 of 5VEW\n"
     ]
    },
    {
     "name": "stderr",
     "output_type": "stream",
     "text": [
      "2021-06-25 22:15:43,490 - moleculekit.readers - WARNING - Non-integer values were read from the PDB \"serial\" field. Dropping PDB values and assigning new ones.\n",
      "2021-06-25 22:15:43,666 - moleculekit.readers - WARNING - Reading PDB file with more than 99999 atoms. Bond information can be wrong.\n",
      "2021-06-25 22:16:32,790 - htmd.builder.builder - WARNING - Found cis peptide bond in 1 frames: [0] in the omega diheral \"Angle of (PHE 257 CA P P) (PHE 257 C P P) (SER 258 N P P) (SER 258 CA P P) \" with indexes [2040, 2056, 2058, 2060]\n",
      "2021-06-25 22:16:34,919 - htmd.protocols.production_v6 - WARNING - Lipids detected in input structure. We highly recommend setting useconstantratio=True for membrane simulations.\n",
      "2021-06-25 22:16:35,562 - jobqueues.slurmqueue - INFO - Queueing /gpcr/users/daranda/doctorat/GPCR_simulations/simulation_output/production/5VEW/rep_3/\n"
     ]
    },
    {
     "name": "stdout",
     "output_type": "stream",
     "text": [
      "submitting replicate 1 of 6D32\n"
     ]
    },
    {
     "name": "stderr",
     "output_type": "stream",
     "text": [
      "2021-06-25 22:16:48,971 - moleculekit.readers - WARNING - Non-integer values were read from the PDB \"serial\" field. Dropping PDB values and assigning new ones.\n",
      "2021-06-25 22:16:49,175 - moleculekit.readers - WARNING - Reading PDB file with more than 99999 atoms. Bond information can be wrong.\n",
      "2021-06-25 22:18:24,342 - htmd.builder.builder - WARNING - Found cis peptide bond in 1 frames: [0] in the omega diheral \"Angle of (ALA 168 CA P P) (ALA 168 C P P) (PRO 169 N P P) (PRO 169 CA P P) \" with indexes [2026, 2032, 2034, 2038]\n",
      "2021-06-25 22:18:24,343 - htmd.builder.builder - WARNING - Found cis peptide bond in 1 frames: [0] in the omega diheral \"Angle of (TYR 235 CA P P) (TYR 235 C P P) (PRO 236 N P P) (PRO 236 CA P P) \" with indexes [3099, 3116, 3118, 3122]\n",
      "2021-06-25 22:18:24,345 - htmd.builder.builder - WARNING - Found cis peptide bond in 1 frames: [0] in the omega diheral \"Angle of (GLU 278 CA P P) (GLU 278 C P P) (PRO 279 N P P) (PRO 279 CA P P) \" with indexes [3753, 3764, 3766, 3770]\n",
      "2021-06-25 22:18:27,112 - htmd.protocols.production_v6 - WARNING - Lipids detected in input structure. We highly recommend setting useconstantratio=True for membrane simulations.\n",
      "2021-06-25 22:18:28,333 - jobqueues.slurmqueue - INFO - Queueing /gpcr/users/daranda/doctorat/GPCR_simulations/simulation_output/production/6D32_apo/rep_1/\n"
     ]
    },
    {
     "name": "stdout",
     "output_type": "stream",
     "text": [
      "submitting replicate 2 of 6D32\n"
     ]
    },
    {
     "name": "stderr",
     "output_type": "stream",
     "text": [
      "2021-06-25 22:18:41,557 - moleculekit.readers - WARNING - Non-integer values were read from the PDB \"serial\" field. Dropping PDB values and assigning new ones.\n",
      "2021-06-25 22:18:41,766 - moleculekit.readers - WARNING - Reading PDB file with more than 99999 atoms. Bond information can be wrong.\n",
      "2021-06-25 22:20:19,031 - htmd.builder.builder - WARNING - Found cis peptide bond in 1 frames: [0] in the omega diheral \"Angle of (ALA 168 CA P P) (ALA 168 C P P) (PRO 169 N P P) (PRO 169 CA P P) \" with indexes [2026, 2032, 2034, 2038]\n",
      "2021-06-25 22:20:19,033 - htmd.builder.builder - WARNING - Found cis peptide bond in 1 frames: [0] in the omega diheral \"Angle of (TYR 235 CA P P) (TYR 235 C P P) (PRO 236 N P P) (PRO 236 CA P P) \" with indexes [3099, 3116, 3118, 3122]\n",
      "2021-06-25 22:20:19,034 - htmd.builder.builder - WARNING - Found cis peptide bond in 1 frames: [0] in the omega diheral \"Angle of (GLU 278 CA P P) (GLU 278 C P P) (PRO 279 N P P) (PRO 279 CA P P) \" with indexes [3753, 3764, 3766, 3770]\n",
      "2021-06-25 22:20:21,803 - htmd.protocols.production_v6 - WARNING - Lipids detected in input structure. We highly recommend setting useconstantratio=True for membrane simulations.\n",
      "2021-06-25 22:20:22,677 - jobqueues.slurmqueue - INFO - Queueing /gpcr/users/daranda/doctorat/GPCR_simulations/simulation_output/production/6D32_apo/rep_2/\n"
     ]
    },
    {
     "name": "stdout",
     "output_type": "stream",
     "text": [
      "submitting replicate 3 of 6D32\n"
     ]
    },
    {
     "name": "stderr",
     "output_type": "stream",
     "text": [
      "2021-06-25 22:20:36,107 - moleculekit.readers - WARNING - Non-integer values were read from the PDB \"serial\" field. Dropping PDB values and assigning new ones.\n",
      "2021-06-25 22:20:36,313 - moleculekit.readers - WARNING - Reading PDB file with more than 99999 atoms. Bond information can be wrong.\n",
      "2021-06-25 22:22:09,064 - htmd.builder.builder - WARNING - Found cis peptide bond in 1 frames: [0] in the omega diheral \"Angle of (ALA 168 CA P P) (ALA 168 C P P) (PRO 169 N P P) (PRO 169 CA P P) \" with indexes [2026, 2032, 2034, 2038]\n",
      "2021-06-25 22:22:09,065 - htmd.builder.builder - WARNING - Found cis peptide bond in 1 frames: [0] in the omega diheral \"Angle of (TYR 235 CA P P) (TYR 235 C P P) (PRO 236 N P P) (PRO 236 CA P P) \" with indexes [3099, 3116, 3118, 3122]\n",
      "2021-06-25 22:22:09,067 - htmd.builder.builder - WARNING - Found cis peptide bond in 1 frames: [0] in the omega diheral \"Angle of (GLU 278 CA P P) (GLU 278 C P P) (PRO 279 N P P) (PRO 279 CA P P) \" with indexes [3753, 3764, 3766, 3770]\n",
      "2021-06-25 22:22:11,853 - htmd.protocols.production_v6 - WARNING - Lipids detected in input structure. We highly recommend setting useconstantratio=True for membrane simulations.\n",
      "2021-06-25 22:22:13,225 - jobqueues.slurmqueue - INFO - Queueing /gpcr/users/daranda/doctorat/GPCR_simulations/simulation_output/production/6D32_apo/rep_3/\n"
     ]
    },
    {
     "name": "stdout",
     "output_type": "stream",
     "text": [
      "submitting replicate 1 of 6D32\n"
     ]
    },
    {
     "name": "stderr",
     "output_type": "stream",
     "text": [
      "2021-06-25 22:22:27,048 - moleculekit.readers - WARNING - Non-integer values were read from the PDB \"serial\" field. Dropping PDB values and assigning new ones.\n",
      "2021-06-25 22:22:27,254 - moleculekit.readers - WARNING - Reading PDB file with more than 99999 atoms. Bond information can be wrong.\n",
      "2021-06-25 22:24:04,012 - htmd.builder.builder - WARNING - Found cis peptide bond in 1 frames: [0] in the omega diheral \"Angle of (ALA 168 CA P P) (ALA 168 C P P) (PRO 169 N P P) (PRO 169 CA P P) \" with indexes [2170, 2176, 2178, 2182]\n",
      "2021-06-25 22:24:04,014 - htmd.builder.builder - WARNING - Found cis peptide bond in 1 frames: [0] in the omega diheral \"Angle of (TYR 235 CA P P) (TYR 235 C P P) (PRO 236 N P P) (PRO 236 CA P P) \" with indexes [3243, 3260, 3262, 3266]\n",
      "2021-06-25 22:24:04,016 - htmd.builder.builder - WARNING - Found cis peptide bond in 1 frames: [0] in the omega diheral \"Angle of (GLU 278 CA P P) (GLU 278 C P P) (PRO 279 N P P) (PRO 279 CA P P) \" with indexes [3897, 3908, 3910, 3914]\n",
      "2021-06-25 22:24:06,802 - htmd.protocols.production_v6 - WARNING - Lipids detected in input structure. We highly recommend setting useconstantratio=True for membrane simulations.\n",
      "2021-06-25 22:24:08,305 - jobqueues.slurmqueue - INFO - Queueing /gpcr/users/daranda/doctorat/GPCR_simulations/simulation_output/production/6D32/rep_1/\n"
     ]
    },
    {
     "name": "stdout",
     "output_type": "stream",
     "text": [
      "submitting replicate 2 of 6D32\n"
     ]
    },
    {
     "name": "stderr",
     "output_type": "stream",
     "text": [
      "2021-06-25 22:24:22,317 - moleculekit.readers - WARNING - Non-integer values were read from the PDB \"serial\" field. Dropping PDB values and assigning new ones.\n",
      "2021-06-25 22:24:22,523 - moleculekit.readers - WARNING - Reading PDB file with more than 99999 atoms. Bond information can be wrong.\n",
      "2021-06-25 22:25:59,160 - htmd.builder.builder - WARNING - Found cis peptide bond in 1 frames: [0] in the omega diheral \"Angle of (ALA 168 CA P P) (ALA 168 C P P) (PRO 169 N P P) (PRO 169 CA P P) \" with indexes [2170, 2176, 2178, 2182]\n",
      "2021-06-25 22:25:59,162 - htmd.builder.builder - WARNING - Found cis peptide bond in 1 frames: [0] in the omega diheral \"Angle of (TYR 235 CA P P) (TYR 235 C P P) (PRO 236 N P P) (PRO 236 CA P P) \" with indexes [3243, 3260, 3262, 3266]\n",
      "2021-06-25 22:25:59,163 - htmd.builder.builder - WARNING - Found cis peptide bond in 1 frames: [0] in the omega diheral \"Angle of (GLU 278 CA P P) (GLU 278 C P P) (PRO 279 N P P) (PRO 279 CA P P) \" with indexes [3897, 3908, 3910, 3914]\n",
      "2021-06-25 22:26:01,873 - htmd.protocols.production_v6 - WARNING - Lipids detected in input structure. We highly recommend setting useconstantratio=True for membrane simulations.\n",
      "2021-06-25 22:26:02,874 - jobqueues.slurmqueue - INFO - Queueing /gpcr/users/daranda/doctorat/GPCR_simulations/simulation_output/production/6D32/rep_2/\n"
     ]
    },
    {
     "name": "stdout",
     "output_type": "stream",
     "text": [
      "submitting replicate 3 of 6D32\n"
     ]
    },
    {
     "name": "stderr",
     "output_type": "stream",
     "text": [
      "2021-06-25 22:26:16,262 - moleculekit.readers - WARNING - Non-integer values were read from the PDB \"serial\" field. Dropping PDB values and assigning new ones.\n",
      "2021-06-25 22:26:16,466 - moleculekit.readers - WARNING - Reading PDB file with more than 99999 atoms. Bond information can be wrong.\n",
      "2021-06-25 22:27:52,239 - htmd.builder.builder - WARNING - Found cis peptide bond in 1 frames: [0] in the omega diheral \"Angle of (ALA 168 CA P P) (ALA 168 C P P) (PRO 169 N P P) (PRO 169 CA P P) \" with indexes [2170, 2176, 2178, 2182]\n",
      "2021-06-25 22:27:52,241 - htmd.builder.builder - WARNING - Found cis peptide bond in 1 frames: [0] in the omega diheral \"Angle of (TYR 235 CA P P) (TYR 235 C P P) (PRO 236 N P P) (PRO 236 CA P P) \" with indexes [3243, 3260, 3262, 3266]\n",
      "2021-06-25 22:27:52,243 - htmd.builder.builder - WARNING - Found cis peptide bond in 1 frames: [0] in the omega diheral \"Angle of (GLU 278 CA P P) (GLU 278 C P P) (PRO 279 N P P) (PRO 279 CA P P) \" with indexes [3897, 3908, 3910, 3914]\n",
      "2021-06-25 22:27:54,971 - htmd.protocols.production_v6 - WARNING - Lipids detected in input structure. We highly recommend setting useconstantratio=True for membrane simulations.\n",
      "2021-06-25 22:27:55,970 - jobqueues.slurmqueue - INFO - Queueing /gpcr/users/daranda/doctorat/GPCR_simulations/simulation_output/production/6D32/rep_3/\n"
     ]
    },
    {
     "name": "stdout",
     "output_type": "stream",
     "text": [
      "submitting replicate 1 of 6AK3\n"
     ]
    },
    {
     "name": "stderr",
     "output_type": "stream",
     "text": [
      "2021-06-25 22:28:36,335 - htmd.builder.builder - WARNING - Found cis peptide bond in 1 frames: [0] in the omega diheral \"Angle of (TRP 203 CA P P) (TRP 203 C P P) (PRO 204 N P P) (PRO 204 CA P P) \" with indexes [2495, 2515, 2517, 2521]\n",
      "2021-06-25 22:28:37,689 - htmd.protocols.production_v6 - WARNING - Lipids detected in input structure. We highly recommend setting useconstantratio=True for membrane simulations.\n",
      "2021-06-25 22:28:38,518 - jobqueues.slurmqueue - INFO - Queueing /gpcr/users/daranda/doctorat/GPCR_simulations/simulation_output/production/6AK3_apo/rep_1/\n"
     ]
    },
    {
     "name": "stdout",
     "output_type": "stream",
     "text": [
      "submitting replicate 2 of 6AK3\n"
     ]
    },
    {
     "name": "stderr",
     "output_type": "stream",
     "text": [
      "2021-06-25 22:29:18,973 - htmd.builder.builder - WARNING - Found cis peptide bond in 1 frames: [0] in the omega diheral \"Angle of (TRP 203 CA P P) (TRP 203 C P P) (PRO 204 N P P) (PRO 204 CA P P) \" with indexes [2495, 2515, 2517, 2521]\n",
      "2021-06-25 22:29:20,328 - htmd.protocols.production_v6 - WARNING - Lipids detected in input structure. We highly recommend setting useconstantratio=True for membrane simulations.\n",
      "2021-06-25 22:29:20,756 - jobqueues.slurmqueue - INFO - Queueing /gpcr/users/daranda/doctorat/GPCR_simulations/simulation_output/production/6AK3_apo/rep_2/\n"
     ]
    },
    {
     "name": "stdout",
     "output_type": "stream",
     "text": [
      "submitting replicate 3 of 6AK3\n"
     ]
    },
    {
     "name": "stderr",
     "output_type": "stream",
     "text": [
      "2021-06-25 22:30:07,795 - htmd.builder.builder - WARNING - Found cis peptide bond in 1 frames: [0] in the omega diheral \"Angle of (TRP 203 CA P P) (TRP 203 C P P) (PRO 204 N P P) (PRO 204 CA P P) \" with indexes [2495, 2515, 2517, 2521]\n",
      "2021-06-25 22:30:09,142 - htmd.protocols.production_v6 - WARNING - Lipids detected in input structure. We highly recommend setting useconstantratio=True for membrane simulations.\n",
      "2021-06-25 22:30:10,158 - jobqueues.slurmqueue - INFO - Queueing /gpcr/users/daranda/doctorat/GPCR_simulations/simulation_output/production/6AK3_apo/rep_3/\n"
     ]
    },
    {
     "name": "stdout",
     "output_type": "stream",
     "text": [
      "submitting replicate 1 of 6AK3\n"
     ]
    },
    {
     "name": "stderr",
     "output_type": "stream",
     "text": [
      "2021-06-25 22:30:52,894 - htmd.builder.builder - WARNING - Found cis peptide bond in 1 frames: [0] in the omega diheral \"Angle of (TRP 203 CA P P) (TRP 203 C P P) (PRO 204 N P P) (PRO 204 CA P P) \" with indexes [2552, 2572, 2574, 2578]\n",
      "2021-06-25 22:30:54,261 - htmd.protocols.production_v6 - WARNING - Lipids detected in input structure. We highly recommend setting useconstantratio=True for membrane simulations.\n",
      "2021-06-25 22:30:55,771 - jobqueues.slurmqueue - INFO - Queueing /gpcr/users/daranda/doctorat/GPCR_simulations/simulation_output/production/6AK3/rep_1/\n"
     ]
    },
    {
     "name": "stdout",
     "output_type": "stream",
     "text": [
      "submitting replicate 2 of 6AK3\n"
     ]
    },
    {
     "name": "stderr",
     "output_type": "stream",
     "text": [
      "2021-06-25 22:31:39,378 - htmd.builder.builder - WARNING - Found cis peptide bond in 1 frames: [0] in the omega diheral \"Angle of (TRP 203 CA P P) (TRP 203 C P P) (PRO 204 N P P) (PRO 204 CA P P) \" with indexes [2552, 2572, 2574, 2578]\n",
      "2021-06-25 22:31:40,754 - htmd.protocols.production_v6 - WARNING - Lipids detected in input structure. We highly recommend setting useconstantratio=True for membrane simulations.\n",
      "2021-06-25 22:31:41,556 - jobqueues.slurmqueue - INFO - Queueing /gpcr/users/daranda/doctorat/GPCR_simulations/simulation_output/production/6AK3/rep_2/\n"
     ]
    },
    {
     "name": "stdout",
     "output_type": "stream",
     "text": [
      "submitting replicate 3 of 6AK3\n"
     ]
    },
    {
     "name": "stderr",
     "output_type": "stream",
     "text": [
      "2021-06-25 22:32:24,098 - htmd.builder.builder - WARNING - Found cis peptide bond in 1 frames: [0] in the omega diheral \"Angle of (TRP 203 CA P P) (TRP 203 C P P) (PRO 204 N P P) (PRO 204 CA P P) \" with indexes [2552, 2572, 2574, 2578]\n",
      "2021-06-25 22:32:25,475 - htmd.protocols.production_v6 - WARNING - Lipids detected in input structure. We highly recommend setting useconstantratio=True for membrane simulations.\n",
      "2021-06-25 22:32:26,054 - jobqueues.slurmqueue - INFO - Queueing /gpcr/users/daranda/doctorat/GPCR_simulations/simulation_output/production/6AK3/rep_3/\n"
     ]
    },
    {
     "name": "stdout",
     "output_type": "stream",
     "text": [
      "submitting replicate 1 of 2YCZ\n"
     ]
    },
    {
     "name": "stderr",
     "output_type": "stream",
     "text": [
      "2021-06-25 22:33:10,430 - htmd.protocols.production_v6 - WARNING - Lipids detected in input structure. We highly recommend setting useconstantratio=True for membrane simulations.\n",
      "2021-06-25 22:33:11,905 - jobqueues.slurmqueue - INFO - Queueing /gpcr/users/daranda/doctorat/GPCR_simulations/simulation_output/production/2YCZ_apo/rep_1/\n"
     ]
    },
    {
     "name": "stdout",
     "output_type": "stream",
     "text": [
      "submitting replicate 2 of 2YCZ\n"
     ]
    },
    {
     "name": "stderr",
     "output_type": "stream",
     "text": [
      "2021-06-25 22:33:55,396 - htmd.protocols.production_v6 - WARNING - Lipids detected in input structure. We highly recommend setting useconstantratio=True for membrane simulations.\n",
      "2021-06-25 22:33:56,036 - jobqueues.slurmqueue - INFO - Queueing /gpcr/users/daranda/doctorat/GPCR_simulations/simulation_output/production/2YCZ_apo/rep_2/\n"
     ]
    },
    {
     "name": "stdout",
     "output_type": "stream",
     "text": [
      "submitting replicate 3 of 2YCZ\n"
     ]
    },
    {
     "name": "stderr",
     "output_type": "stream",
     "text": [
      "2021-06-25 22:34:37,332 - htmd.protocols.production_v6 - WARNING - Lipids detected in input structure. We highly recommend setting useconstantratio=True for membrane simulations.\n",
      "2021-06-25 22:34:38,101 - jobqueues.slurmqueue - INFO - Queueing /gpcr/users/daranda/doctorat/GPCR_simulations/simulation_output/production/2YCZ_apo/rep_3/\n"
     ]
    },
    {
     "name": "stdout",
     "output_type": "stream",
     "text": [
      "submitting replicate 1 of 2YCZ\n"
     ]
    },
    {
     "name": "stderr",
     "output_type": "stream",
     "text": [
      "2021-06-25 22:35:20,382 - htmd.protocols.production_v6 - WARNING - Lipids detected in input structure. We highly recommend setting useconstantratio=True for membrane simulations.\n",
      "2021-06-25 22:35:21,604 - jobqueues.slurmqueue - INFO - Queueing /gpcr/users/daranda/doctorat/GPCR_simulations/simulation_output/production/2YCZ/rep_1/\n"
     ]
    },
    {
     "name": "stdout",
     "output_type": "stream",
     "text": [
      "submitting replicate 2 of 2YCZ\n"
     ]
    },
    {
     "name": "stderr",
     "output_type": "stream",
     "text": [
      "2021-06-25 22:36:04,397 - htmd.protocols.production_v6 - WARNING - Lipids detected in input structure. We highly recommend setting useconstantratio=True for membrane simulations.\n",
      "2021-06-25 22:36:05,518 - jobqueues.slurmqueue - INFO - Queueing /gpcr/users/daranda/doctorat/GPCR_simulations/simulation_output/production/2YCZ/rep_2/\n"
     ]
    },
    {
     "name": "stdout",
     "output_type": "stream",
     "text": [
      "submitting replicate 3 of 2YCZ\n"
     ]
    },
    {
     "name": "stderr",
     "output_type": "stream",
     "text": [
      "2021-06-25 22:36:47,573 - htmd.protocols.production_v6 - WARNING - Lipids detected in input structure. We highly recommend setting useconstantratio=True for membrane simulations.\n",
      "2021-06-25 22:36:49,137 - jobqueues.slurmqueue - INFO - Queueing /gpcr/users/daranda/doctorat/GPCR_simulations/simulation_output/production/2YCZ/rep_3/\n"
     ]
    },
    {
     "name": "stdout",
     "output_type": "stream",
     "text": [
      "submitting replicate 1 of 6LI1\n"
     ]
    },
    {
     "name": "stderr",
     "output_type": "stream",
     "text": [
      "2021-06-25 22:37:32,837 - htmd.protocols.production_v6 - WARNING - Lipids detected in input structure. We highly recommend setting useconstantratio=True for membrane simulations.\n",
      "2021-06-25 22:37:34,343 - jobqueues.slurmqueue - INFO - Queueing /gpcr/users/daranda/doctorat/GPCR_simulations/simulation_output/production/6LI1_apo/rep_1/\n"
     ]
    },
    {
     "name": "stdout",
     "output_type": "stream",
     "text": [
      "submitting replicate 2 of 6LI1\n"
     ]
    },
    {
     "name": "stderr",
     "output_type": "stream",
     "text": [
      "2021-06-25 22:38:16,712 - htmd.protocols.production_v6 - WARNING - Lipids detected in input structure. We highly recommend setting useconstantratio=True for membrane simulations.\n",
      "2021-06-25 22:38:17,252 - jobqueues.slurmqueue - INFO - Queueing /gpcr/users/daranda/doctorat/GPCR_simulations/simulation_output/production/6LI1_apo/rep_2/\n"
     ]
    },
    {
     "name": "stdout",
     "output_type": "stream",
     "text": [
      "submitting replicate 3 of 6LI1\n"
     ]
    },
    {
     "name": "stderr",
     "output_type": "stream",
     "text": [
      "2021-06-25 22:38:57,901 - htmd.protocols.production_v6 - WARNING - Lipids detected in input structure. We highly recommend setting useconstantratio=True for membrane simulations.\n",
      "2021-06-25 22:38:58,491 - jobqueues.slurmqueue - INFO - Queueing /gpcr/users/daranda/doctorat/GPCR_simulations/simulation_output/production/6LI1_apo/rep_3/\n"
     ]
    },
    {
     "name": "stdout",
     "output_type": "stream",
     "text": [
      "submitting replicate 1 of 6LI1\n",
      "model 6LI1 could not be send to equilibrate because of  Could not locate file /gpcr/users/daranda/doctorat/GPCR_simulations/simulation_output//equil/6LI1/structure.pdb set by the user for argument Production.acemd.coordinates\n",
      "submitting replicate 2 of 6LI1\n",
      "model 6LI1 could not be send to equilibrate because of  Could not locate file /gpcr/users/daranda/doctorat/GPCR_simulations/simulation_output//equil/6LI1/structure.pdb set by the user for argument Production.acemd.coordinates\n",
      "submitting replicate 3 of 6LI1\n",
      "model 6LI1 could not be send to equilibrate because of  Could not locate file /gpcr/users/daranda/doctorat/GPCR_simulations/simulation_output//equil/6LI1/structure.pdb set by the user for argument Production.acemd.coordinates\n",
      "replicate 1 of structure 6TQ9 already has been simulated\n",
      "replicate 2 of structure 6TQ9 already has been simulated\n",
      "replicate 3 of structure 6TQ9 already has been simulated\n",
      "replicate 1 of structure 6TQ9 already has been simulated\n",
      "replicate 2 of structure 6TQ9 already has been simulated\n",
      "replicate 3 of structure 6TQ9 already has been simulated\n",
      "submitting replicate 1 of 6PS2\n"
     ]
    },
    {
     "name": "stderr",
     "output_type": "stream",
     "text": [
      "2021-06-25 22:39:36,362 - htmd.builder.builder - WARNING - Found cis peptide bond in 1 frames: [0] in the omega diheral \"Angle of (ARG 28 CA P0 P) (ARG 28 C P0 P) (ASP 29 N P0 P) (ASP 29 CA P0 P) \" with indexes [108, 128, 130, 132]\n",
      "2021-06-25 22:39:37,789 - htmd.protocols.production_v6 - WARNING - Lipids detected in input structure. We highly recommend setting useconstantratio=True for membrane simulations.\n",
      "2021-06-25 22:39:39,365 - jobqueues.slurmqueue - INFO - Queueing /gpcr/users/daranda/doctorat/GPCR_simulations/simulation_output/production/6PS2_apo/rep_1/\n"
     ]
    },
    {
     "name": "stdout",
     "output_type": "stream",
     "text": [
      "submitting replicate 2 of 6PS2\n"
     ]
    },
    {
     "name": "stderr",
     "output_type": "stream",
     "text": [
      "2021-06-25 22:40:16,821 - htmd.builder.builder - WARNING - Found cis peptide bond in 1 frames: [0] in the omega diheral \"Angle of (ARG 28 CA P0 P) (ARG 28 C P0 P) (ASP 29 N P0 P) (ASP 29 CA P0 P) \" with indexes [108, 128, 130, 132]\n",
      "2021-06-25 22:40:18,246 - htmd.protocols.production_v6 - WARNING - Lipids detected in input structure. We highly recommend setting useconstantratio=True for membrane simulations.\n",
      "2021-06-25 22:40:19,030 - jobqueues.slurmqueue - INFO - Queueing /gpcr/users/daranda/doctorat/GPCR_simulations/simulation_output/production/6PS2_apo/rep_2/\n"
     ]
    },
    {
     "name": "stdout",
     "output_type": "stream",
     "text": [
      "submitting replicate 3 of 6PS2\n"
     ]
    },
    {
     "name": "stderr",
     "output_type": "stream",
     "text": [
      "2021-06-25 22:41:02,744 - htmd.builder.builder - WARNING - Found cis peptide bond in 1 frames: [0] in the omega diheral \"Angle of (ARG 28 CA P0 P) (ARG 28 C P0 P) (ASP 29 N P0 P) (ASP 29 CA P0 P) \" with indexes [108, 128, 130, 132]\n",
      "2021-06-25 22:41:04,171 - htmd.protocols.production_v6 - WARNING - Lipids detected in input structure. We highly recommend setting useconstantratio=True for membrane simulations.\n",
      "2021-06-25 22:41:04,633 - jobqueues.slurmqueue - INFO - Queueing /gpcr/users/daranda/doctorat/GPCR_simulations/simulation_output/production/6PS2_apo/rep_3/\n"
     ]
    },
    {
     "name": "stdout",
     "output_type": "stream",
     "text": [
      "submitting replicate 1 of 6PS2\n"
     ]
    },
    {
     "name": "stderr",
     "output_type": "stream",
     "text": [
      "2021-06-25 22:41:42,671 - htmd.builder.builder - WARNING - Found cis peptide bond in 1 frames: [0] in the omega diheral \"Angle of (ARG 28 CA P0 P) (ARG 28 C P0 P) (ASP 29 N P0 P) (ASP 29 CA P0 P) \" with indexes [112, 132, 134, 136]\n",
      "2021-06-25 22:41:44,097 - htmd.protocols.production_v6 - WARNING - Lipids detected in input structure. We highly recommend setting useconstantratio=True for membrane simulations.\n",
      "2021-06-25 22:41:45,648 - jobqueues.slurmqueue - INFO - Queueing /gpcr/users/daranda/doctorat/GPCR_simulations/simulation_output/production/6PS2/rep_1/\n"
     ]
    },
    {
     "name": "stdout",
     "output_type": "stream",
     "text": [
      "submitting replicate 2 of 6PS2\n"
     ]
    },
    {
     "name": "stderr",
     "output_type": "stream",
     "text": [
      "2021-06-25 22:42:27,990 - htmd.builder.builder - WARNING - Found cis peptide bond in 1 frames: [0] in the omega diheral \"Angle of (ARG 28 CA P0 P) (ARG 28 C P0 P) (ASP 29 N P0 P) (ASP 29 CA P0 P) \" with indexes [112, 132, 134, 136]\n",
      "2021-06-25 22:42:29,411 - htmd.protocols.production_v6 - WARNING - Lipids detected in input structure. We highly recommend setting useconstantratio=True for membrane simulations.\n",
      "2021-06-25 22:42:30,024 - jobqueues.slurmqueue - INFO - Queueing /gpcr/users/daranda/doctorat/GPCR_simulations/simulation_output/production/6PS2/rep_2/\n"
     ]
    },
    {
     "name": "stdout",
     "output_type": "stream",
     "text": [
      "submitting replicate 3 of 6PS2\n"
     ]
    },
    {
     "name": "stderr",
     "output_type": "stream",
     "text": [
      "2021-06-25 22:43:07,841 - htmd.builder.builder - WARNING - Found cis peptide bond in 1 frames: [0] in the omega diheral \"Angle of (ARG 28 CA P0 P) (ARG 28 C P0 P) (ASP 29 N P0 P) (ASP 29 CA P0 P) \" with indexes [112, 132, 134, 136]\n",
      "2021-06-25 22:43:09,263 - htmd.protocols.production_v6 - WARNING - Lipids detected in input structure. We highly recommend setting useconstantratio=True for membrane simulations.\n",
      "2021-06-25 22:43:10,007 - jobqueues.slurmqueue - INFO - Queueing /gpcr/users/daranda/doctorat/GPCR_simulations/simulation_output/production/6PS2/rep_3/\n"
     ]
    },
    {
     "name": "stdout",
     "output_type": "stream",
     "text": [
      "submitting replicate 1 of 6TQ4\n"
     ]
    },
    {
     "name": "stderr",
     "output_type": "stream",
     "text": [
      "2021-06-25 22:43:49,722 - htmd.builder.builder - WARNING - Found cis peptide bond in 1 frames: [0] in the omega diheral \"Angle of (HSD 150 CA P0 P) (HSD 150 C P0 P) (PRO 151 N P0 P) (PRO 151 CA P0 P) \" with indexes [1752, 1765, 1767, 1771]\n",
      "2021-06-25 22:43:51,210 - htmd.protocols.production_v6 - WARNING - Lipids detected in input structure. We highly recommend setting useconstantratio=True for membrane simulations.\n",
      "2021-06-25 22:43:52,197 - jobqueues.slurmqueue - INFO - Queueing /gpcr/users/daranda/doctorat/GPCR_simulations/simulation_output/production/6TQ4_apo/rep_1/\n"
     ]
    },
    {
     "name": "stdout",
     "output_type": "stream",
     "text": [
      "submitting replicate 2 of 6TQ4\n"
     ]
    },
    {
     "name": "stderr",
     "output_type": "stream",
     "text": [
      "2021-06-25 22:44:32,124 - htmd.builder.builder - WARNING - Found cis peptide bond in 1 frames: [0] in the omega diheral \"Angle of (HSD 150 CA P0 P) (HSD 150 C P0 P) (PRO 151 N P0 P) (PRO 151 CA P0 P) \" with indexes [1752, 1765, 1767, 1771]\n",
      "2021-06-25 22:44:33,608 - htmd.protocols.production_v6 - WARNING - Lipids detected in input structure. We highly recommend setting useconstantratio=True for membrane simulations.\n",
      "2021-06-25 22:44:34,083 - jobqueues.slurmqueue - INFO - Queueing /gpcr/users/daranda/doctorat/GPCR_simulations/simulation_output/production/6TQ4_apo/rep_2/\n"
     ]
    },
    {
     "name": "stdout",
     "output_type": "stream",
     "text": [
      "submitting replicate 3 of 6TQ4\n"
     ]
    },
    {
     "name": "stderr",
     "output_type": "stream",
     "text": [
      "2021-06-25 22:45:19,948 - htmd.builder.builder - WARNING - Found cis peptide bond in 1 frames: [0] in the omega diheral \"Angle of (HSD 150 CA P0 P) (HSD 150 C P0 P) (PRO 151 N P0 P) (PRO 151 CA P0 P) \" with indexes [1752, 1765, 1767, 1771]\n",
      "2021-06-25 22:45:21,437 - htmd.protocols.production_v6 - WARNING - Lipids detected in input structure. We highly recommend setting useconstantratio=True for membrane simulations.\n",
      "2021-06-25 22:45:21,990 - jobqueues.slurmqueue - INFO - Queueing /gpcr/users/daranda/doctorat/GPCR_simulations/simulation_output/production/6TQ4_apo/rep_3/\n"
     ]
    },
    {
     "name": "stdout",
     "output_type": "stream",
     "text": [
      "submitting replicate 1 of 6TQ4\n"
     ]
    },
    {
     "name": "stderr",
     "output_type": "stream",
     "text": [
      "2021-06-25 22:46:02,891 - htmd.builder.builder - WARNING - Found cis peptide bond in 1 frames: [0] in the omega diheral \"Angle of (HSD 150 CA P0 P) (HSD 150 C P0 P) (PRO 151 N P0 P) (PRO 151 CA P0 P) \" with indexes [1756, 1769, 1771, 1775]\n",
      "2021-06-25 22:46:04,380 - htmd.protocols.production_v6 - WARNING - Lipids detected in input structure. We highly recommend setting useconstantratio=True for membrane simulations.\n",
      "2021-06-25 22:46:05,508 - jobqueues.slurmqueue - INFO - Queueing /gpcr/users/daranda/doctorat/GPCR_simulations/simulation_output/production/6TQ4/rep_1/\n"
     ]
    },
    {
     "name": "stdout",
     "output_type": "stream",
     "text": [
      "submitting replicate 2 of 6TQ4\n"
     ]
    },
    {
     "name": "stderr",
     "output_type": "stream",
     "text": [
      "2021-06-25 22:46:43,828 - htmd.builder.builder - WARNING - Found cis peptide bond in 1 frames: [0] in the omega diheral \"Angle of (HSD 150 CA P0 P) (HSD 150 C P0 P) (PRO 151 N P0 P) (PRO 151 CA P0 P) \" with indexes [1756, 1769, 1771, 1775]\n",
      "2021-06-25 22:46:45,322 - htmd.protocols.production_v6 - WARNING - Lipids detected in input structure. We highly recommend setting useconstantratio=True for membrane simulations.\n",
      "2021-06-25 22:46:45,954 - jobqueues.slurmqueue - INFO - Queueing /gpcr/users/daranda/doctorat/GPCR_simulations/simulation_output/production/6TQ4/rep_2/\n"
     ]
    },
    {
     "name": "stdout",
     "output_type": "stream",
     "text": [
      "submitting replicate 3 of 6TQ4\n"
     ]
    },
    {
     "name": "stderr",
     "output_type": "stream",
     "text": [
      "2021-06-25 22:47:25,859 - htmd.builder.builder - WARNING - Found cis peptide bond in 1 frames: [0] in the omega diheral \"Angle of (HSD 150 CA P0 P) (HSD 150 C P0 P) (PRO 151 N P0 P) (PRO 151 CA P0 P) \" with indexes [1756, 1769, 1771, 1775]\n",
      "2021-06-25 22:47:27,354 - htmd.protocols.production_v6 - WARNING - Lipids detected in input structure. We highly recommend setting useconstantratio=True for membrane simulations.\n",
      "2021-06-25 22:47:28,190 - jobqueues.slurmqueue - INFO - Queueing /gpcr/users/daranda/doctorat/GPCR_simulations/simulation_output/production/6TQ4/rep_3/\n"
     ]
    },
    {
     "name": "stdout",
     "output_type": "stream",
     "text": [
      "submitting replicate 1 of 5UNF\n"
     ]
    },
    {
     "name": "stderr",
     "output_type": "stream",
     "text": [
      "2021-06-25 22:47:57,598 - htmd.builder.builder - WARNING - Found cis peptide bond in 1 frames: [0] in the omega diheral \"Angle of (TYR 148 CA P P) (TYR 148 C P P) (PRO 149 N P P) (PRO 149 CA P P) \" with indexes [1783, 1800, 1802, 1806]\n",
      "2021-06-25 22:47:58,652 - htmd.protocols.production_v6 - WARNING - Lipids detected in input structure. We highly recommend setting useconstantratio=True for membrane simulations.\n",
      "2021-06-25 22:47:59,509 - jobqueues.slurmqueue - INFO - Queueing /gpcr/users/daranda/doctorat/GPCR_simulations/simulation_output/production/5UNF_apo/rep_1/\n"
     ]
    },
    {
     "name": "stdout",
     "output_type": "stream",
     "text": [
      "submitting replicate 2 of 5UNF\n"
     ]
    },
    {
     "name": "stderr",
     "output_type": "stream",
     "text": [
      "2021-06-25 22:48:27,988 - htmd.builder.builder - WARNING - Found cis peptide bond in 1 frames: [0] in the omega diheral \"Angle of (TYR 148 CA P P) (TYR 148 C P P) (PRO 149 N P P) (PRO 149 CA P P) \" with indexes [1783, 1800, 1802, 1806]\n",
      "2021-06-25 22:48:29,039 - htmd.protocols.production_v6 - WARNING - Lipids detected in input structure. We highly recommend setting useconstantratio=True for membrane simulations.\n",
      "2021-06-25 22:48:29,514 - jobqueues.slurmqueue - INFO - Queueing /gpcr/users/daranda/doctorat/GPCR_simulations/simulation_output/production/5UNF_apo/rep_2/\n"
     ]
    },
    {
     "name": "stdout",
     "output_type": "stream",
     "text": [
      "submitting replicate 3 of 5UNF\n"
     ]
    },
    {
     "name": "stderr",
     "output_type": "stream",
     "text": [
      "2021-06-25 22:48:58,598 - htmd.builder.builder - WARNING - Found cis peptide bond in 1 frames: [0] in the omega diheral \"Angle of (TYR 148 CA P P) (TYR 148 C P P) (PRO 149 N P P) (PRO 149 CA P P) \" with indexes [1783, 1800, 1802, 1806]\n",
      "2021-06-25 22:48:59,660 - htmd.protocols.production_v6 - WARNING - Lipids detected in input structure. We highly recommend setting useconstantratio=True for membrane simulations.\n",
      "2021-06-25 22:49:00,353 - jobqueues.slurmqueue - INFO - Queueing /gpcr/users/daranda/doctorat/GPCR_simulations/simulation_output/production/5UNF_apo/rep_3/\n"
     ]
    },
    {
     "name": "stdout",
     "output_type": "stream",
     "text": [
      "submitting replicate 1 of 5UNF\n"
     ]
    },
    {
     "name": "stderr",
     "output_type": "stream",
     "text": [
      "2021-06-25 22:49:29,858 - htmd.builder.builder - WARNING - Found cis peptide bond in 1 frames: [0] in the omega diheral \"Angle of (TYR 148 CA P P) (TYR 148 C P P) (PRO 149 N P P) (PRO 149 CA P P) \" with indexes [1865, 1882, 1884, 1888]\n",
      "2021-06-25 22:49:30,929 - htmd.protocols.production_v6 - WARNING - Lipids detected in input structure. We highly recommend setting useconstantratio=True for membrane simulations.\n",
      "2021-06-25 22:49:31,787 - jobqueues.slurmqueue - INFO - Queueing /gpcr/users/daranda/doctorat/GPCR_simulations/simulation_output/production/5UNF/rep_1/\n"
     ]
    },
    {
     "name": "stdout",
     "output_type": "stream",
     "text": [
      "submitting replicate 2 of 5UNF\n"
     ]
    },
    {
     "name": "stderr",
     "output_type": "stream",
     "text": [
      "2021-06-25 22:50:00,134 - htmd.builder.builder - WARNING - Found cis peptide bond in 1 frames: [0] in the omega diheral \"Angle of (TYR 148 CA P P) (TYR 148 C P P) (PRO 149 N P P) (PRO 149 CA P P) \" with indexes [1865, 1882, 1884, 1888]\n",
      "2021-06-25 22:50:01,215 - htmd.protocols.production_v6 - WARNING - Lipids detected in input structure. We highly recommend setting useconstantratio=True for membrane simulations.\n",
      "2021-06-25 22:50:02,047 - jobqueues.slurmqueue - INFO - Queueing /gpcr/users/daranda/doctorat/GPCR_simulations/simulation_output/production/5UNF/rep_2/\n"
     ]
    },
    {
     "name": "stdout",
     "output_type": "stream",
     "text": [
      "submitting replicate 3 of 5UNF\n"
     ]
    },
    {
     "name": "stderr",
     "output_type": "stream",
     "text": [
      "2021-06-25 22:50:31,620 - htmd.builder.builder - WARNING - Found cis peptide bond in 1 frames: [0] in the omega diheral \"Angle of (TYR 148 CA P P) (TYR 148 C P P) (PRO 149 N P P) (PRO 149 CA P P) \" with indexes [1865, 1882, 1884, 1888]\n",
      "2021-06-25 22:50:32,689 - htmd.protocols.production_v6 - WARNING - Lipids detected in input structure. We highly recommend setting useconstantratio=True for membrane simulations.\n",
      "2021-06-25 22:50:33,389 - jobqueues.slurmqueue - INFO - Queueing /gpcr/users/daranda/doctorat/GPCR_simulations/simulation_output/production/5UNF/rep_3/\n"
     ]
    },
    {
     "name": "stdout",
     "output_type": "stream",
     "text": [
      "submitting replicate 1 of 6TO7\n"
     ]
    },
    {
     "name": "stderr",
     "output_type": "stream",
     "text": [
      "2021-06-25 22:51:13,071 - htmd.protocols.production_v6 - WARNING - Lipids detected in input structure. We highly recommend setting useconstantratio=True for membrane simulations.\n",
      "2021-06-25 22:51:14,005 - jobqueues.slurmqueue - INFO - Queueing /gpcr/users/daranda/doctorat/GPCR_simulations/simulation_output/production/6TO7_apo/rep_1/\n"
     ]
    },
    {
     "name": "stdout",
     "output_type": "stream",
     "text": [
      "submitting replicate 2 of 6TO7\n"
     ]
    },
    {
     "name": "stderr",
     "output_type": "stream",
     "text": [
      "2021-06-25 22:51:55,562 - htmd.protocols.production_v6 - WARNING - Lipids detected in input structure. We highly recommend setting useconstantratio=True for membrane simulations.\n",
      "2021-06-25 22:51:56,572 - jobqueues.slurmqueue - INFO - Queueing /gpcr/users/daranda/doctorat/GPCR_simulations/simulation_output/production/6TO7_apo/rep_2/\n"
     ]
    },
    {
     "name": "stdout",
     "output_type": "stream",
     "text": [
      "submitting replicate 3 of 6TO7\n"
     ]
    },
    {
     "name": "stderr",
     "output_type": "stream",
     "text": [
      "2021-06-25 22:52:39,100 - htmd.protocols.production_v6 - WARNING - Lipids detected in input structure. We highly recommend setting useconstantratio=True for membrane simulations.\n",
      "2021-06-25 22:52:40,793 - jobqueues.slurmqueue - INFO - Queueing /gpcr/users/daranda/doctorat/GPCR_simulations/simulation_output/production/6TO7_apo/rep_3/\n"
     ]
    },
    {
     "name": "stdout",
     "output_type": "stream",
     "text": [
      "submitting replicate 1 of 6TO7\n"
     ]
    },
    {
     "name": "stderr",
     "output_type": "stream",
     "text": [
      "2021-06-25 22:53:27,892 - htmd.protocols.production_v6 - WARNING - Lipids detected in input structure. We highly recommend setting useconstantratio=True for membrane simulations.\n",
      "2021-06-25 22:53:29,754 - jobqueues.slurmqueue - INFO - Queueing /gpcr/users/daranda/doctorat/GPCR_simulations/simulation_output/production/6TO7/rep_1/\n"
     ]
    },
    {
     "name": "stdout",
     "output_type": "stream",
     "text": [
      "submitting replicate 2 of 6TO7\n"
     ]
    },
    {
     "name": "stderr",
     "output_type": "stream",
     "text": [
      "2021-06-25 22:54:12,727 - htmd.protocols.production_v6 - WARNING - Lipids detected in input structure. We highly recommend setting useconstantratio=True for membrane simulations.\n",
      "2021-06-25 22:54:13,782 - jobqueues.slurmqueue - INFO - Queueing /gpcr/users/daranda/doctorat/GPCR_simulations/simulation_output/production/6TO7/rep_2/\n"
     ]
    },
    {
     "name": "stdout",
     "output_type": "stream",
     "text": [
      "submitting replicate 3 of 6TO7\n"
     ]
    },
    {
     "name": "stderr",
     "output_type": "stream",
     "text": [
      "2021-06-25 22:54:57,019 - htmd.protocols.production_v6 - WARNING - Lipids detected in input structure. We highly recommend setting useconstantratio=True for membrane simulations.\n",
      "2021-06-25 22:54:58,266 - jobqueues.slurmqueue - INFO - Queueing /gpcr/users/daranda/doctorat/GPCR_simulations/simulation_output/production/6TO7/rep_3/\n"
     ]
    },
    {
     "name": "stdout",
     "output_type": "stream",
     "text": [
      "submitting replicate 1 of 6IIV\n"
     ]
    },
    {
     "name": "stderr",
     "output_type": "stream",
     "text": [
      "2021-06-25 22:55:35,957 - htmd.builder.builder - WARNING - Found cis peptide bond in 1 frames: [0] in the omega diheral \"Angle of (TYR 178 CA P P) (TYR 178 C P P) (PRO 179 N P P) (PRO 179 CA P P) \" with indexes [2586, 2603, 2605, 2609]\n",
      "2021-06-25 22:55:37,353 - htmd.protocols.production_v6 - WARNING - Lipids detected in input structure. We highly recommend setting useconstantratio=True for membrane simulations.\n",
      "2021-06-25 22:55:39,482 - jobqueues.slurmqueue - INFO - Queueing /gpcr/users/daranda/doctorat/GPCR_simulations/simulation_output/production/6IIV_apo/rep_1/\n"
     ]
    },
    {
     "name": "stdout",
     "output_type": "stream",
     "text": [
      "submitting replicate 2 of 6IIV\n"
     ]
    },
    {
     "name": "stderr",
     "output_type": "stream",
     "text": [
      "2021-06-25 22:56:22,414 - htmd.builder.builder - WARNING - Found cis peptide bond in 1 frames: [0] in the omega diheral \"Angle of (TYR 178 CA P P) (TYR 178 C P P) (PRO 179 N P P) (PRO 179 CA P P) \" with indexes [2586, 2603, 2605, 2609]\n",
      "2021-06-25 22:56:23,802 - htmd.protocols.production_v6 - WARNING - Lipids detected in input structure. We highly recommend setting useconstantratio=True for membrane simulations.\n",
      "2021-06-25 22:56:24,320 - jobqueues.slurmqueue - INFO - Queueing /gpcr/users/daranda/doctorat/GPCR_simulations/simulation_output/production/6IIV_apo/rep_2/\n"
     ]
    },
    {
     "name": "stdout",
     "output_type": "stream",
     "text": [
      "submitting replicate 3 of 6IIV\n"
     ]
    },
    {
     "name": "stderr",
     "output_type": "stream",
     "text": [
      "2021-06-25 22:57:02,216 - htmd.builder.builder - WARNING - Found cis peptide bond in 1 frames: [0] in the omega diheral \"Angle of (TYR 178 CA P P) (TYR 178 C P P) (PRO 179 N P P) (PRO 179 CA P P) \" with indexes [2586, 2603, 2605, 2609]\n",
      "2021-06-25 22:57:03,623 - htmd.protocols.production_v6 - WARNING - Lipids detected in input structure. We highly recommend setting useconstantratio=True for membrane simulations.\n",
      "2021-06-25 22:57:04,361 - jobqueues.slurmqueue - INFO - Queueing /gpcr/users/daranda/doctorat/GPCR_simulations/simulation_output/production/6IIV_apo/rep_3/\n"
     ]
    },
    {
     "name": "stdout",
     "output_type": "stream",
     "text": [
      "submitting replicate 1 of 6IIV\n"
     ]
    },
    {
     "name": "stderr",
     "output_type": "stream",
     "text": [
      "2021-06-25 22:57:42,611 - htmd.builder.builder - WARNING - Found cis peptide bond in 1 frames: [0] in the omega diheral \"Angle of (TYR 178 CA P P) (TYR 178 C P P) (PRO 179 N P P) (PRO 179 CA P P) \" with indexes [2699, 2716, 2718, 2722]\n",
      "2021-06-25 22:57:44,005 - htmd.protocols.production_v6 - WARNING - Lipids detected in input structure. We highly recommend setting useconstantratio=True for membrane simulations.\n",
      "2021-06-25 22:57:45,345 - jobqueues.slurmqueue - INFO - Queueing /gpcr/users/daranda/doctorat/GPCR_simulations/simulation_output/production/6IIV/rep_1/\n"
     ]
    },
    {
     "name": "stdout",
     "output_type": "stream",
     "text": [
      "submitting replicate 2 of 6IIV\n"
     ]
    },
    {
     "name": "stderr",
     "output_type": "stream",
     "text": [
      "2021-06-25 22:58:23,223 - htmd.builder.builder - WARNING - Found cis peptide bond in 1 frames: [0] in the omega diheral \"Angle of (TYR 178 CA P P) (TYR 178 C P P) (PRO 179 N P P) (PRO 179 CA P P) \" with indexes [2699, 2716, 2718, 2722]\n",
      "2021-06-25 22:58:24,621 - htmd.protocols.production_v6 - WARNING - Lipids detected in input structure. We highly recommend setting useconstantratio=True for membrane simulations.\n",
      "2021-06-25 22:58:25,558 - jobqueues.slurmqueue - INFO - Queueing /gpcr/users/daranda/doctorat/GPCR_simulations/simulation_output/production/6IIV/rep_2/\n"
     ]
    },
    {
     "name": "stdout",
     "output_type": "stream",
     "text": [
      "submitting replicate 3 of 6IIV\n"
     ]
    },
    {
     "name": "stderr",
     "output_type": "stream",
     "text": [
      "2021-06-25 22:59:03,578 - htmd.builder.builder - WARNING - Found cis peptide bond in 1 frames: [0] in the omega diheral \"Angle of (TYR 178 CA P P) (TYR 178 C P P) (PRO 179 N P P) (PRO 179 CA P P) \" with indexes [2699, 2716, 2718, 2722]\n",
      "2021-06-25 22:59:04,986 - htmd.protocols.production_v6 - WARNING - Lipids detected in input structure. We highly recommend setting useconstantratio=True for membrane simulations.\n",
      "2021-06-25 22:59:05,695 - jobqueues.slurmqueue - INFO - Queueing /gpcr/users/daranda/doctorat/GPCR_simulations/simulation_output/production/6IIV/rep_3/\n"
     ]
    },
    {
     "name": "stdout",
     "output_type": "stream",
     "text": [
      "submitting replicate 1 of 5X33\n"
     ]
    },
    {
     "name": "stderr",
     "output_type": "stream",
     "text": [
      "2021-06-25 22:59:38,169 - htmd.builder.builder - WARNING - Found cis peptide bond in 1 frames: [0] in the omega diheral \"Angle of (ARG 213 CA P P) (ARG 213 C P P) (ARG 214 N P P) (ARG 214 CA P P) \" with indexes [3245, 3265, 3267, 3269]\n",
      "2021-06-25 22:59:39,420 - htmd.protocols.production_v6 - WARNING - Lipids detected in input structure. We highly recommend setting useconstantratio=True for membrane simulations.\n",
      "2021-06-25 22:59:40,425 - jobqueues.slurmqueue - INFO - Queueing /gpcr/users/daranda/doctorat/GPCR_simulations/simulation_output/production/5X33_apo/rep_1/\n"
     ]
    },
    {
     "name": "stdout",
     "output_type": "stream",
     "text": [
      "submitting replicate 2 of 5X33\n"
     ]
    },
    {
     "name": "stderr",
     "output_type": "stream",
     "text": [
      "2021-06-25 23:00:12,878 - htmd.builder.builder - WARNING - Found cis peptide bond in 1 frames: [0] in the omega diheral \"Angle of (ARG 213 CA P P) (ARG 213 C P P) (ARG 214 N P P) (ARG 214 CA P P) \" with indexes [3245, 3265, 3267, 3269]\n",
      "2021-06-25 23:00:14,138 - htmd.protocols.production_v6 - WARNING - Lipids detected in input structure. We highly recommend setting useconstantratio=True for membrane simulations.\n",
      "2021-06-25 23:00:14,954 - jobqueues.slurmqueue - INFO - Queueing /gpcr/users/daranda/doctorat/GPCR_simulations/simulation_output/production/5X33_apo/rep_2/\n"
     ]
    },
    {
     "name": "stdout",
     "output_type": "stream",
     "text": [
      "submitting replicate 3 of 5X33\n"
     ]
    },
    {
     "name": "stderr",
     "output_type": "stream",
     "text": [
      "2021-06-25 23:00:53,849 - htmd.builder.builder - WARNING - Found cis peptide bond in 1 frames: [0] in the omega diheral \"Angle of (ARG 213 CA P P) (ARG 213 C P P) (ARG 214 N P P) (ARG 214 CA P P) \" with indexes [3245, 3265, 3267, 3269]\n",
      "2021-06-25 23:00:55,105 - htmd.protocols.production_v6 - WARNING - Lipids detected in input structure. We highly recommend setting useconstantratio=True for membrane simulations.\n",
      "2021-06-25 23:00:58,387 - jobqueues.slurmqueue - INFO - Queueing /gpcr/users/daranda/doctorat/GPCR_simulations/simulation_output/production/5X33_apo/rep_3/\n"
     ]
    },
    {
     "name": "stdout",
     "output_type": "stream",
     "text": [
      "submitting replicate 1 of 5X33\n"
     ]
    },
    {
     "name": "stderr",
     "output_type": "stream",
     "text": [
      "2021-06-25 23:01:32,428 - htmd.builder.builder - WARNING - Found cis peptide bond in 1 frames: [0] in the omega diheral \"Angle of (ARG 213 CA P P) (ARG 213 C P P) (ARG 214 N P P) (ARG 214 CA P P) \" with indexes [3312, 3332, 3334, 3336]\n",
      "2021-06-25 23:01:33,695 - htmd.protocols.production_v6 - WARNING - Lipids detected in input structure. We highly recommend setting useconstantratio=True for membrane simulations.\n",
      "2021-06-25 23:01:36,979 - jobqueues.slurmqueue - INFO - Queueing /gpcr/users/daranda/doctorat/GPCR_simulations/simulation_output/production/5X33/rep_1/\n"
     ]
    },
    {
     "name": "stdout",
     "output_type": "stream",
     "text": [
      "submitting replicate 2 of 5X33\n"
     ]
    },
    {
     "name": "stderr",
     "output_type": "stream",
     "text": [
      "2021-06-25 23:02:11,723 - htmd.builder.builder - WARNING - Found cis peptide bond in 1 frames: [0] in the omega diheral \"Angle of (ARG 213 CA P P) (ARG 213 C P P) (ARG 214 N P P) (ARG 214 CA P P) \" with indexes [3312, 3332, 3334, 3336]\n",
      "2021-06-25 23:02:12,985 - htmd.protocols.production_v6 - WARNING - Lipids detected in input structure. We highly recommend setting useconstantratio=True for membrane simulations.\n",
      "2021-06-25 23:02:13,782 - jobqueues.slurmqueue - INFO - Queueing /gpcr/users/daranda/doctorat/GPCR_simulations/simulation_output/production/5X33/rep_2/\n"
     ]
    },
    {
     "name": "stdout",
     "output_type": "stream",
     "text": [
      "submitting replicate 3 of 5X33\n"
     ]
    },
    {
     "name": "stderr",
     "output_type": "stream",
     "text": [
      "2021-06-25 23:02:47,976 - htmd.builder.builder - WARNING - Found cis peptide bond in 1 frames: [0] in the omega diheral \"Angle of (ARG 213 CA P P) (ARG 213 C P P) (ARG 214 N P P) (ARG 214 CA P P) \" with indexes [3312, 3332, 3334, 3336]\n",
      "2021-06-25 23:02:49,236 - htmd.protocols.production_v6 - WARNING - Lipids detected in input structure. We highly recommend setting useconstantratio=True for membrane simulations.\n",
      "2021-06-25 23:02:51,672 - jobqueues.slurmqueue - INFO - Queueing /gpcr/users/daranda/doctorat/GPCR_simulations/simulation_output/production/5X33/rep_3/\n"
     ]
    },
    {
     "name": "stdout",
     "output_type": "stream",
     "text": [
      "submitting replicate 1 of 6GPS\n"
     ]
    },
    {
     "name": "stderr",
     "output_type": "stream",
     "text": [
      "2021-06-25 23:03:20,354 - htmd.protocols.production_v6 - WARNING - Lipids detected in input structure. We highly recommend setting useconstantratio=True for membrane simulations.\n",
      "2021-06-25 23:03:23,433 - jobqueues.slurmqueue - INFO - Queueing /gpcr/users/daranda/doctorat/GPCR_simulations/simulation_output/production/6GPS_apo/rep_1/\n"
     ]
    },
    {
     "name": "stdout",
     "output_type": "stream",
     "text": [
      "submitting replicate 2 of 6GPS\n"
     ]
    },
    {
     "name": "stderr",
     "output_type": "stream",
     "text": [
      "2021-06-25 23:03:51,978 - htmd.protocols.production_v6 - WARNING - Lipids detected in input structure. We highly recommend setting useconstantratio=True for membrane simulations.\n",
      "2021-06-25 23:03:52,629 - jobqueues.slurmqueue - INFO - Queueing /gpcr/users/daranda/doctorat/GPCR_simulations/simulation_output/production/6GPS_apo/rep_2/\n"
     ]
    },
    {
     "name": "stdout",
     "output_type": "stream",
     "text": [
      "submitting replicate 3 of 6GPS\n"
     ]
    },
    {
     "name": "stderr",
     "output_type": "stream",
     "text": [
      "2021-06-25 23:04:19,963 - htmd.protocols.production_v6 - WARNING - Lipids detected in input structure. We highly recommend setting useconstantratio=True for membrane simulations.\n",
      "2021-06-25 23:04:20,289 - jobqueues.slurmqueue - INFO - Queueing /gpcr/users/daranda/doctorat/GPCR_simulations/simulation_output/production/6GPS_apo/rep_3/\n"
     ]
    },
    {
     "name": "stdout",
     "output_type": "stream",
     "text": [
      "submitting replicate 1 of 6GPS\n"
     ]
    },
    {
     "name": "stderr",
     "output_type": "stream",
     "text": [
      "2021-06-25 23:04:47,472 - htmd.protocols.production_v6 - WARNING - Lipids detected in input structure. We highly recommend setting useconstantratio=True for membrane simulations.\n",
      "2021-06-25 23:04:49,026 - jobqueues.slurmqueue - INFO - Queueing /gpcr/users/daranda/doctorat/GPCR_simulations/simulation_output/production/6GPS/rep_1/\n"
     ]
    },
    {
     "name": "stdout",
     "output_type": "stream",
     "text": [
      "submitting replicate 2 of 6GPS\n"
     ]
    },
    {
     "name": "stderr",
     "output_type": "stream",
     "text": [
      "2021-06-25 23:05:16,777 - htmd.protocols.production_v6 - WARNING - Lipids detected in input structure. We highly recommend setting useconstantratio=True for membrane simulations.\n",
      "2021-06-25 23:05:18,180 - jobqueues.slurmqueue - INFO - Queueing /gpcr/users/daranda/doctorat/GPCR_simulations/simulation_output/production/6GPS/rep_2/\n"
     ]
    },
    {
     "name": "stdout",
     "output_type": "stream",
     "text": [
      "submitting replicate 3 of 6GPS\n"
     ]
    },
    {
     "name": "stderr",
     "output_type": "stream",
     "text": [
      "2021-06-25 23:05:49,794 - htmd.protocols.production_v6 - WARNING - Lipids detected in input structure. We highly recommend setting useconstantratio=True for membrane simulations.\n",
      "2021-06-25 23:05:50,711 - jobqueues.slurmqueue - INFO - Queueing /gpcr/users/daranda/doctorat/GPCR_simulations/simulation_output/production/6GPS/rep_3/\n"
     ]
    },
    {
     "name": "stdout",
     "output_type": "stream",
     "text": [
      "submitting replicate 1 of 4NC3\n"
     ]
    },
    {
     "name": "stderr",
     "output_type": "stream",
     "text": [
      "2021-06-25 23:06:22,060 - htmd.protocols.production_v6 - WARNING - Lipids detected in input structure. We highly recommend setting useconstantratio=True for membrane simulations.\n",
      "2021-06-25 23:06:24,211 - jobqueues.slurmqueue - INFO - Queueing /gpcr/users/daranda/doctorat/GPCR_simulations/simulation_output/production/4NC3_apo/rep_1/\n"
     ]
    },
    {
     "name": "stdout",
     "output_type": "stream",
     "text": [
      "submitting replicate 2 of 4NC3\n"
     ]
    },
    {
     "name": "stderr",
     "output_type": "stream",
     "text": [
      "2021-06-25 23:06:54,822 - htmd.protocols.production_v6 - WARNING - Lipids detected in input structure. We highly recommend setting useconstantratio=True for membrane simulations.\n",
      "2021-06-25 23:06:56,717 - jobqueues.slurmqueue - INFO - Queueing /gpcr/users/daranda/doctorat/GPCR_simulations/simulation_output/production/4NC3_apo/rep_2/\n"
     ]
    },
    {
     "name": "stdout",
     "output_type": "stream",
     "text": [
      "submitting replicate 3 of 4NC3\n"
     ]
    },
    {
     "name": "stderr",
     "output_type": "stream",
     "text": [
      "2021-06-25 23:07:27,052 - htmd.protocols.production_v6 - WARNING - Lipids detected in input structure. We highly recommend setting useconstantratio=True for membrane simulations.\n",
      "2021-06-25 23:07:27,506 - jobqueues.slurmqueue - INFO - Queueing /gpcr/users/daranda/doctorat/GPCR_simulations/simulation_output/production/4NC3_apo/rep_3/\n"
     ]
    },
    {
     "name": "stdout",
     "output_type": "stream",
     "text": [
      "submitting replicate 1 of 4NC3\n"
     ]
    },
    {
     "name": "stderr",
     "output_type": "stream",
     "text": [
      "2021-06-25 23:07:59,884 - htmd.protocols.production_v6 - WARNING - Lipids detected in input structure. We highly recommend setting useconstantratio=True for membrane simulations.\n",
      "2021-06-25 23:08:01,272 - jobqueues.slurmqueue - INFO - Queueing /gpcr/users/daranda/doctorat/GPCR_simulations/simulation_output/production/4NC3/rep_1/\n"
     ]
    },
    {
     "name": "stdout",
     "output_type": "stream",
     "text": [
      "submitting replicate 2 of 4NC3\n"
     ]
    },
    {
     "name": "stderr",
     "output_type": "stream",
     "text": [
      "2021-06-25 23:08:32,796 - htmd.protocols.production_v6 - WARNING - Lipids detected in input structure. We highly recommend setting useconstantratio=True for membrane simulations.\n",
      "2021-06-25 23:08:33,528 - jobqueues.slurmqueue - INFO - Queueing /gpcr/users/daranda/doctorat/GPCR_simulations/simulation_output/production/4NC3/rep_2/\n"
     ]
    },
    {
     "name": "stdout",
     "output_type": "stream",
     "text": [
      "submitting replicate 3 of 4NC3\n"
     ]
    },
    {
     "name": "stderr",
     "output_type": "stream",
     "text": [
      "2021-06-25 23:09:04,115 - htmd.protocols.production_v6 - WARNING - Lipids detected in input structure. We highly recommend setting useconstantratio=True for membrane simulations.\n",
      "2021-06-25 23:09:05,343 - jobqueues.slurmqueue - INFO - Queueing /gpcr/users/daranda/doctorat/GPCR_simulations/simulation_output/production/4NC3/rep_3/\n"
     ]
    },
    {
     "name": "stdout",
     "output_type": "stream",
     "text": [
      "submitting replicate 1 of 4GBR\n"
     ]
    },
    {
     "name": "stderr",
     "output_type": "stream",
     "text": [
      "2021-06-25 23:09:42,400 - htmd.protocols.production_v6 - WARNING - Lipids detected in input structure. We highly recommend setting useconstantratio=True for membrane simulations.\n",
      "2021-06-25 23:09:43,744 - jobqueues.slurmqueue - INFO - Queueing /gpcr/users/daranda/doctorat/GPCR_simulations/simulation_output/production/4GBR_apo/rep_1/\n"
     ]
    },
    {
     "name": "stdout",
     "output_type": "stream",
     "text": [
      "submitting replicate 2 of 4GBR\n"
     ]
    },
    {
     "name": "stderr",
     "output_type": "stream",
     "text": [
      "2021-06-25 23:10:21,196 - htmd.protocols.production_v6 - WARNING - Lipids detected in input structure. We highly recommend setting useconstantratio=True for membrane simulations.\n",
      "2021-06-25 23:10:22,041 - jobqueues.slurmqueue - INFO - Queueing /gpcr/users/daranda/doctorat/GPCR_simulations/simulation_output/production/4GBR_apo/rep_2/\n"
     ]
    },
    {
     "name": "stdout",
     "output_type": "stream",
     "text": [
      "submitting replicate 3 of 4GBR\n"
     ]
    },
    {
     "name": "stderr",
     "output_type": "stream",
     "text": [
      "2021-06-25 23:11:01,660 - htmd.protocols.production_v6 - WARNING - Lipids detected in input structure. We highly recommend setting useconstantratio=True for membrane simulations.\n",
      "2021-06-25 23:11:02,138 - jobqueues.slurmqueue - INFO - Queueing /gpcr/users/daranda/doctorat/GPCR_simulations/simulation_output/production/4GBR_apo/rep_3/\n"
     ]
    },
    {
     "name": "stdout",
     "output_type": "stream",
     "text": [
      "submitting replicate 1 of 4GBR\n"
     ]
    },
    {
     "name": "stderr",
     "output_type": "stream",
     "text": [
      "2021-06-25 23:11:39,813 - htmd.protocols.production_v6 - WARNING - Lipids detected in input structure. We highly recommend setting useconstantratio=True for membrane simulations.\n",
      "2021-06-25 23:11:41,401 - jobqueues.slurmqueue - INFO - Queueing /gpcr/users/daranda/doctorat/GPCR_simulations/simulation_output/production/4GBR/rep_1/\n"
     ]
    },
    {
     "name": "stdout",
     "output_type": "stream",
     "text": [
      "submitting replicate 2 of 4GBR\n"
     ]
    },
    {
     "name": "stderr",
     "output_type": "stream",
     "text": [
      "2021-06-25 23:12:20,249 - htmd.protocols.production_v6 - WARNING - Lipids detected in input structure. We highly recommend setting useconstantratio=True for membrane simulations.\n",
      "2021-06-25 23:12:21,288 - jobqueues.slurmqueue - INFO - Queueing /gpcr/users/daranda/doctorat/GPCR_simulations/simulation_output/production/4GBR/rep_2/\n"
     ]
    },
    {
     "name": "stdout",
     "output_type": "stream",
     "text": [
      "submitting replicate 3 of 4GBR\n"
     ]
    },
    {
     "name": "stderr",
     "output_type": "stream",
     "text": [
      "2021-06-25 23:12:58,357 - htmd.protocols.production_v6 - WARNING - Lipids detected in input structure. We highly recommend setting useconstantratio=True for membrane simulations.\n",
      "2021-06-25 23:13:00,330 - jobqueues.slurmqueue - INFO - Queueing /gpcr/users/daranda/doctorat/GPCR_simulations/simulation_output/production/4GBR/rep_3/\n"
     ]
    },
    {
     "name": "stdout",
     "output_type": "stream",
     "text": [
      "submitting replicate 1 of 6PS0\n"
     ]
    },
    {
     "name": "stderr",
     "output_type": "stream",
     "text": [
      "2021-06-25 23:13:36,364 - htmd.protocols.production_v6 - WARNING - Lipids detected in input structure. We highly recommend setting useconstantratio=True for membrane simulations.\n",
      "2021-06-25 23:13:37,738 - jobqueues.slurmqueue - INFO - Queueing /gpcr/users/daranda/doctorat/GPCR_simulations/simulation_output/production/6PS0_apo/rep_1/\n"
     ]
    },
    {
     "name": "stdout",
     "output_type": "stream",
     "text": [
      "submitting replicate 2 of 6PS0\n"
     ]
    },
    {
     "name": "stderr",
     "output_type": "stream",
     "text": [
      "2021-06-25 23:14:13,739 - htmd.protocols.production_v6 - WARNING - Lipids detected in input structure. We highly recommend setting useconstantratio=True for membrane simulations.\n",
      "2021-06-25 23:14:14,442 - jobqueues.slurmqueue - INFO - Queueing /gpcr/users/daranda/doctorat/GPCR_simulations/simulation_output/production/6PS0_apo/rep_2/\n"
     ]
    },
    {
     "name": "stdout",
     "output_type": "stream",
     "text": [
      "submitting replicate 3 of 6PS0\n"
     ]
    },
    {
     "name": "stderr",
     "output_type": "stream",
     "text": [
      "2021-06-25 23:14:52,347 - htmd.protocols.production_v6 - WARNING - Lipids detected in input structure. We highly recommend setting useconstantratio=True for membrane simulations.\n",
      "2021-06-25 23:14:52,878 - jobqueues.slurmqueue - INFO - Queueing /gpcr/users/daranda/doctorat/GPCR_simulations/simulation_output/production/6PS0_apo/rep_3/\n"
     ]
    },
    {
     "name": "stdout",
     "output_type": "stream",
     "text": [
      "submitting replicate 1 of 6PS0\n"
     ]
    },
    {
     "name": "stderr",
     "output_type": "stream",
     "text": [
      "2021-06-25 23:15:29,437 - htmd.protocols.production_v6 - WARNING - Lipids detected in input structure. We highly recommend setting useconstantratio=True for membrane simulations.\n",
      "2021-06-25 23:15:30,920 - jobqueues.slurmqueue - INFO - Queueing /gpcr/users/daranda/doctorat/GPCR_simulations/simulation_output/production/6PS0/rep_1/\n"
     ]
    },
    {
     "name": "stdout",
     "output_type": "stream",
     "text": [
      "submitting replicate 2 of 6PS0\n"
     ]
    },
    {
     "name": "stderr",
     "output_type": "stream",
     "text": [
      "2021-06-25 23:16:07,991 - htmd.protocols.production_v6 - WARNING - Lipids detected in input structure. We highly recommend setting useconstantratio=True for membrane simulations.\n",
      "2021-06-25 23:16:09,303 - jobqueues.slurmqueue - INFO - Queueing /gpcr/users/daranda/doctorat/GPCR_simulations/simulation_output/production/6PS0/rep_2/\n"
     ]
    },
    {
     "name": "stdout",
     "output_type": "stream",
     "text": [
      "submitting replicate 3 of 6PS0\n"
     ]
    },
    {
     "name": "stderr",
     "output_type": "stream",
     "text": [
      "2021-06-25 23:16:44,338 - htmd.protocols.production_v6 - WARNING - Lipids detected in input structure. We highly recommend setting useconstantratio=True for membrane simulations.\n",
      "2021-06-25 23:16:45,631 - jobqueues.slurmqueue - INFO - Queueing /gpcr/users/daranda/doctorat/GPCR_simulations/simulation_output/production/6PS0/rep_3/\n"
     ]
    },
    {
     "name": "stdout",
     "output_type": "stream",
     "text": [
      "replicate 1 of structure 5WS3 already has been simulated\n",
      "replicate 2 of structure 5WS3 already has been simulated\n",
      "replicate 3 of structure 5WS3 already has been simulated\n",
      "replicate 1 of structure 5WS3 already has been simulated\n",
      "replicate 2 of structure 5WS3 already has been simulated\n",
      "replicate 3 of structure 5WS3 already has been simulated\n",
      "submitting replicate 1 of 5WQC\n"
     ]
    },
    {
     "name": "stderr",
     "output_type": "stream",
     "text": [
      "2021-06-25 23:17:34,385 - htmd.protocols.production_v6 - WARNING - Lipids detected in input structure. We highly recommend setting useconstantratio=True for membrane simulations.\n",
      "2021-06-25 23:17:35,847 - jobqueues.slurmqueue - INFO - Queueing /gpcr/users/daranda/doctorat/GPCR_simulations/simulation_output/production/5WQC_apo/rep_1/\n"
     ]
    },
    {
     "name": "stdout",
     "output_type": "stream",
     "text": [
      "submitting replicate 2 of 5WQC\n"
     ]
    },
    {
     "name": "stderr",
     "output_type": "stream",
     "text": [
      "2021-06-25 23:18:20,008 - htmd.protocols.production_v6 - WARNING - Lipids detected in input structure. We highly recommend setting useconstantratio=True for membrane simulations.\n",
      "2021-06-25 23:18:20,956 - jobqueues.slurmqueue - INFO - Queueing /gpcr/users/daranda/doctorat/GPCR_simulations/simulation_output/production/5WQC_apo/rep_2/\n"
     ]
    },
    {
     "name": "stdout",
     "output_type": "stream",
     "text": [
      "submitting replicate 3 of 5WQC\n"
     ]
    },
    {
     "name": "stderr",
     "output_type": "stream",
     "text": [
      "2021-06-25 23:19:05,020 - htmd.protocols.production_v6 - WARNING - Lipids detected in input structure. We highly recommend setting useconstantratio=True for membrane simulations.\n",
      "2021-06-25 23:19:05,506 - jobqueues.slurmqueue - INFO - Queueing /gpcr/users/daranda/doctorat/GPCR_simulations/simulation_output/production/5WQC_apo/rep_3/\n"
     ]
    },
    {
     "name": "stdout",
     "output_type": "stream",
     "text": [
      "submitting replicate 1 of 5WQC\n"
     ]
    },
    {
     "name": "stderr",
     "output_type": "stream",
     "text": [
      "2021-06-25 23:19:47,403 - htmd.protocols.production_v6 - WARNING - Lipids detected in input structure. We highly recommend setting useconstantratio=True for membrane simulations.\n",
      "2021-06-25 23:19:49,143 - jobqueues.slurmqueue - INFO - Queueing /gpcr/users/daranda/doctorat/GPCR_simulations/simulation_output/production/5WQC/rep_1/\n"
     ]
    },
    {
     "name": "stdout",
     "output_type": "stream",
     "text": [
      "submitting replicate 2 of 5WQC\n"
     ]
    },
    {
     "name": "stderr",
     "output_type": "stream",
     "text": [
      "2021-06-25 23:20:37,102 - htmd.protocols.production_v6 - WARNING - Lipids detected in input structure. We highly recommend setting useconstantratio=True for membrane simulations.\n",
      "2021-06-25 23:20:38,740 - jobqueues.slurmqueue - INFO - Queueing /gpcr/users/daranda/doctorat/GPCR_simulations/simulation_output/production/5WQC/rep_2/\n"
     ]
    },
    {
     "name": "stdout",
     "output_type": "stream",
     "text": [
      "submitting replicate 3 of 5WQC\n"
     ]
    },
    {
     "name": "stderr",
     "output_type": "stream",
     "text": [
      "2021-06-25 23:21:22,561 - htmd.protocols.production_v6 - WARNING - Lipids detected in input structure. We highly recommend setting useconstantratio=True for membrane simulations.\n",
      "2021-06-25 23:21:23,803 - jobqueues.slurmqueue - INFO - Queueing /gpcr/users/daranda/doctorat/GPCR_simulations/simulation_output/production/5WQC/rep_3/\n"
     ]
    },
    {
     "name": "stdout",
     "output_type": "stream",
     "text": [
      "replicate 1 of structure 6RZ7 already has been simulated\n",
      "replicate 2 of structure 6RZ7 already has been simulated\n",
      "replicate 3 of structure 6RZ7 already has been simulated\n",
      "replicate 1 of structure 6RZ7 already has been simulated\n",
      "replicate 2 of structure 6RZ7 already has been simulated\n",
      "replicate 3 of structure 6RZ7 already has been simulated\n",
      "submitting replicate 1 of 6FJ3\n"
     ]
    },
    {
     "name": "stderr",
     "output_type": "stream",
     "text": [
      "2021-06-25 23:21:37,263 - moleculekit.readers - WARNING - Non-integer values were read from the PDB \"serial\" field. Dropping PDB values and assigning new ones.\n",
      "2021-06-25 23:21:37,431 - moleculekit.readers - WARNING - Reading PDB file with more than 99999 atoms. Bond information can be wrong.\n",
      "2021-06-25 23:22:21,540 - htmd.protocols.production_v6 - WARNING - Lipids detected in input structure. We highly recommend setting useconstantratio=True for membrane simulations.\n",
      "2021-06-25 23:22:24,283 - jobqueues.slurmqueue - INFO - Queueing /gpcr/users/daranda/doctorat/GPCR_simulations/simulation_output/production/6FJ3_apo/rep_1/\n"
     ]
    },
    {
     "name": "stdout",
     "output_type": "stream",
     "text": [
      "submitting replicate 2 of 6FJ3\n"
     ]
    },
    {
     "name": "stderr",
     "output_type": "stream",
     "text": [
      "2021-06-25 23:22:37,342 - moleculekit.readers - WARNING - Non-integer values were read from the PDB \"serial\" field. Dropping PDB values and assigning new ones.\n",
      "2021-06-25 23:22:37,512 - moleculekit.readers - WARNING - Reading PDB file with more than 99999 atoms. Bond information can be wrong.\n",
      "2021-06-25 23:23:26,182 - htmd.protocols.production_v6 - WARNING - Lipids detected in input structure. We highly recommend setting useconstantratio=True for membrane simulations.\n",
      "2021-06-25 23:23:27,611 - jobqueues.slurmqueue - INFO - Queueing /gpcr/users/daranda/doctorat/GPCR_simulations/simulation_output/production/6FJ3_apo/rep_2/\n"
     ]
    },
    {
     "name": "stdout",
     "output_type": "stream",
     "text": [
      "submitting replicate 3 of 6FJ3\n"
     ]
    },
    {
     "name": "stderr",
     "output_type": "stream",
     "text": [
      "2021-06-25 23:23:40,912 - moleculekit.readers - WARNING - Non-integer values were read from the PDB \"serial\" field. Dropping PDB values and assigning new ones.\n",
      "2021-06-25 23:23:41,085 - moleculekit.readers - WARNING - Reading PDB file with more than 99999 atoms. Bond information can be wrong.\n",
      "2021-06-25 23:24:32,619 - htmd.protocols.production_v6 - WARNING - Lipids detected in input structure. We highly recommend setting useconstantratio=True for membrane simulations.\n",
      "2021-06-25 23:24:33,719 - jobqueues.slurmqueue - INFO - Queueing /gpcr/users/daranda/doctorat/GPCR_simulations/simulation_output/production/6FJ3_apo/rep_3/\n"
     ]
    },
    {
     "name": "stdout",
     "output_type": "stream",
     "text": [
      "submitting replicate 1 of 6FJ3\n"
     ]
    },
    {
     "name": "stderr",
     "output_type": "stream",
     "text": [
      "2021-06-25 23:24:47,902 - moleculekit.readers - WARNING - Non-integer values were read from the PDB \"serial\" field. Dropping PDB values and assigning new ones.\n",
      "2021-06-25 23:24:48,095 - moleculekit.readers - WARNING - Reading PDB file with more than 99999 atoms. Bond information can be wrong.\n",
      "2021-06-25 23:25:55,744 - htmd.protocols.production_v6 - WARNING - Lipids detected in input structure. We highly recommend setting useconstantratio=True for membrane simulations.\n",
      "2021-06-25 23:25:58,201 - jobqueues.slurmqueue - INFO - Queueing /gpcr/users/daranda/doctorat/GPCR_simulations/simulation_output/production/6FJ3/rep_1/\n"
     ]
    },
    {
     "name": "stdout",
     "output_type": "stream",
     "text": [
      "submitting replicate 2 of 6FJ3\n"
     ]
    },
    {
     "name": "stderr",
     "output_type": "stream",
     "text": [
      "2021-06-25 23:26:11,116 - moleculekit.readers - WARNING - Non-integer values were read from the PDB \"serial\" field. Dropping PDB values and assigning new ones.\n",
      "2021-06-25 23:26:11,312 - moleculekit.readers - WARNING - Reading PDB file with more than 99999 atoms. Bond information can be wrong.\n",
      "2021-06-25 23:27:20,104 - htmd.protocols.production_v6 - WARNING - Lipids detected in input structure. We highly recommend setting useconstantratio=True for membrane simulations.\n",
      "2021-06-25 23:27:21,566 - jobqueues.slurmqueue - INFO - Queueing /gpcr/users/daranda/doctorat/GPCR_simulations/simulation_output/production/6FJ3/rep_2/\n"
     ]
    },
    {
     "name": "stdout",
     "output_type": "stream",
     "text": [
      "submitting replicate 3 of 6FJ3\n"
     ]
    },
    {
     "name": "stderr",
     "output_type": "stream",
     "text": [
      "2021-06-25 23:27:35,911 - moleculekit.readers - WARNING - Non-integer values were read from the PDB \"serial\" field. Dropping PDB values and assigning new ones.\n",
      "2021-06-25 23:27:36,104 - moleculekit.readers - WARNING - Reading PDB file with more than 99999 atoms. Bond information can be wrong.\n",
      "2021-06-25 23:28:44,081 - htmd.protocols.production_v6 - WARNING - Lipids detected in input structure. We highly recommend setting useconstantratio=True for membrane simulations.\n",
      "2021-06-25 23:28:45,006 - jobqueues.slurmqueue - INFO - Queueing /gpcr/users/daranda/doctorat/GPCR_simulations/simulation_output/production/6FJ3/rep_3/\n"
     ]
    },
    {
     "name": "stdout",
     "output_type": "stream",
     "text": [
      "replicate 1 of structure 5OLO already has been simulated\n",
      "replicate 2 of structure 5OLO already has been simulated\n",
      "replicate 3 of structure 5OLO already has been simulated\n",
      "replicate 1 of structure 5OLO already has been simulated\n",
      "replicate 2 of structure 5OLO already has been simulated\n",
      "replicate 3 of structure 5OLO already has been simulated\n",
      "submitting replicate 1 of 5ZBH\n"
     ]
    },
    {
     "name": "stderr",
     "output_type": "stream",
     "text": [
      "2021-06-25 23:29:23,948 - htmd.protocols.production_v6 - WARNING - Lipids detected in input structure. We highly recommend setting useconstantratio=True for membrane simulations.\n",
      "2021-06-25 23:29:25,387 - jobqueues.slurmqueue - INFO - Queueing /gpcr/users/daranda/doctorat/GPCR_simulations/simulation_output/production/5ZBH_apo/rep_1/\n"
     ]
    },
    {
     "name": "stdout",
     "output_type": "stream",
     "text": [
      "submitting replicate 2 of 5ZBH\n"
     ]
    },
    {
     "name": "stderr",
     "output_type": "stream",
     "text": [
      "2021-06-25 23:30:03,458 - htmd.protocols.production_v6 - WARNING - Lipids detected in input structure. We highly recommend setting useconstantratio=True for membrane simulations.\n",
      "2021-06-25 23:30:04,920 - jobqueues.slurmqueue - INFO - Queueing /gpcr/users/daranda/doctorat/GPCR_simulations/simulation_output/production/5ZBH_apo/rep_2/\n"
     ]
    },
    {
     "name": "stdout",
     "output_type": "stream",
     "text": [
      "submitting replicate 3 of 5ZBH\n"
     ]
    },
    {
     "name": "stderr",
     "output_type": "stream",
     "text": [
      "2021-06-25 23:30:42,920 - htmd.protocols.production_v6 - WARNING - Lipids detected in input structure. We highly recommend setting useconstantratio=True for membrane simulations.\n",
      "2021-06-25 23:30:43,600 - jobqueues.slurmqueue - INFO - Queueing /gpcr/users/daranda/doctorat/GPCR_simulations/simulation_output/production/5ZBH_apo/rep_3/\n"
     ]
    },
    {
     "name": "stdout",
     "output_type": "stream",
     "text": [
      "submitting replicate 1 of 5ZBH\n"
     ]
    },
    {
     "name": "stderr",
     "output_type": "stream",
     "text": [
      "2021-06-25 23:31:26,459 - htmd.protocols.production_v6 - WARNING - Lipids detected in input structure. We highly recommend setting useconstantratio=True for membrane simulations.\n",
      "2021-06-25 23:31:27,580 - jobqueues.slurmqueue - INFO - Queueing /gpcr/users/daranda/doctorat/GPCR_simulations/simulation_output/production/5ZBH/rep_1/\n"
     ]
    },
    {
     "name": "stdout",
     "output_type": "stream",
     "text": [
      "submitting replicate 2 of 5ZBH\n"
     ]
    },
    {
     "name": "stderr",
     "output_type": "stream",
     "text": [
      "2021-06-25 23:32:06,683 - htmd.protocols.production_v6 - WARNING - Lipids detected in input structure. We highly recommend setting useconstantratio=True for membrane simulations.\n",
      "2021-06-25 23:32:07,170 - jobqueues.slurmqueue - INFO - Queueing /gpcr/users/daranda/doctorat/GPCR_simulations/simulation_output/production/5ZBH/rep_2/\n"
     ]
    },
    {
     "name": "stdout",
     "output_type": "stream",
     "text": [
      "submitting replicate 3 of 5ZBH\n"
     ]
    },
    {
     "name": "stderr",
     "output_type": "stream",
     "text": [
      "2021-06-25 23:32:43,431 - htmd.protocols.production_v6 - WARNING - Lipids detected in input structure. We highly recommend setting useconstantratio=True for membrane simulations.\n",
      "2021-06-25 23:32:44,230 - jobqueues.slurmqueue - INFO - Queueing /gpcr/users/daranda/doctorat/GPCR_simulations/simulation_output/production/5ZBH/rep_3/\n"
     ]
    },
    {
     "name": "stdout",
     "output_type": "stream",
     "text": [
      "submitting replicate 1 of 6ME2\n"
     ]
    },
    {
     "name": "stderr",
     "output_type": "stream",
     "text": [
      "2021-06-25 23:33:22,116 - htmd.protocols.production_v6 - WARNING - Lipids detected in input structure. We highly recommend setting useconstantratio=True for membrane simulations.\n",
      "2021-06-25 23:33:23,271 - jobqueues.slurmqueue - INFO - Queueing /gpcr/users/daranda/doctorat/GPCR_simulations/simulation_output/production/6ME2_apo/rep_1/\n"
     ]
    },
    {
     "name": "stdout",
     "output_type": "stream",
     "text": [
      "submitting replicate 2 of 6ME2\n"
     ]
    },
    {
     "name": "stderr",
     "output_type": "stream",
     "text": [
      "2021-06-25 23:34:01,515 - htmd.protocols.production_v6 - WARNING - Lipids detected in input structure. We highly recommend setting useconstantratio=True for membrane simulations.\n",
      "2021-06-25 23:34:02,236 - jobqueues.slurmqueue - INFO - Queueing /gpcr/users/daranda/doctorat/GPCR_simulations/simulation_output/production/6ME2_apo/rep_2/\n"
     ]
    },
    {
     "name": "stdout",
     "output_type": "stream",
     "text": [
      "submitting replicate 3 of 6ME2\n"
     ]
    },
    {
     "name": "stderr",
     "output_type": "stream",
     "text": [
      "2021-06-25 23:34:39,293 - htmd.protocols.production_v6 - WARNING - Lipids detected in input structure. We highly recommend setting useconstantratio=True for membrane simulations.\n",
      "2021-06-25 23:34:39,813 - jobqueues.slurmqueue - INFO - Queueing /gpcr/users/daranda/doctorat/GPCR_simulations/simulation_output/production/6ME2_apo/rep_3/\n"
     ]
    },
    {
     "name": "stdout",
     "output_type": "stream",
     "text": [
      "submitting replicate 1 of 6ME2\n"
     ]
    },
    {
     "name": "stderr",
     "output_type": "stream",
     "text": [
      "2021-06-25 23:35:16,309 - htmd.protocols.production_v6 - WARNING - Lipids detected in input structure. We highly recommend setting useconstantratio=True for membrane simulations.\n",
      "2021-06-25 23:35:17,350 - jobqueues.slurmqueue - INFO - Queueing /gpcr/users/daranda/doctorat/GPCR_simulations/simulation_output/production/6ME2/rep_1/\n"
     ]
    },
    {
     "name": "stdout",
     "output_type": "stream",
     "text": [
      "submitting replicate 2 of 6ME2\n"
     ]
    },
    {
     "name": "stderr",
     "output_type": "stream",
     "text": [
      "2021-06-25 23:35:54,005 - htmd.protocols.production_v6 - WARNING - Lipids detected in input structure. We highly recommend setting useconstantratio=True for membrane simulations.\n",
      "2021-06-25 23:35:54,977 - jobqueues.slurmqueue - INFO - Queueing /gpcr/users/daranda/doctorat/GPCR_simulations/simulation_output/production/6ME2/rep_2/\n"
     ]
    },
    {
     "name": "stdout",
     "output_type": "stream",
     "text": [
      "submitting replicate 3 of 6ME2\n"
     ]
    },
    {
     "name": "stderr",
     "output_type": "stream",
     "text": [
      "2021-06-25 23:36:31,664 - htmd.protocols.production_v6 - WARNING - Lipids detected in input structure. We highly recommend setting useconstantratio=True for membrane simulations.\n",
      "2021-06-25 23:36:32,146 - jobqueues.slurmqueue - INFO - Queueing /gpcr/users/daranda/doctorat/GPCR_simulations/simulation_output/production/6ME2/rep_3/\n"
     ]
    },
    {
     "name": "stdout",
     "output_type": "stream",
     "text": [
      "submitting replicate 1 of 4Z9G\n"
     ]
    },
    {
     "name": "stderr",
     "output_type": "stream",
     "text": [
      "2021-06-25 23:36:44,126 - moleculekit.readers - WARNING - Non-integer values were read from the PDB \"serial\" field. Dropping PDB values and assigning new ones.\n",
      "2021-06-25 23:36:44,286 - moleculekit.readers - WARNING - Reading PDB file with more than 99999 atoms. Bond information can be wrong.\n",
      "2021-06-25 23:37:20,248 - htmd.builder.builder - WARNING - Found cis peptide bond in 1 frames: [0] in the omega diheral \"Angle of (THR 220 CA P P) (THR 220 C P P) (TYR 221 N P P) (TYR 221 CA P P) \" with indexes [2027, 2037, 2039, 2041]\n",
      "2021-06-25 23:37:20,250 - htmd.builder.builder - WARNING - Found cis peptide bond in 1 frames: [0] in the omega diheral \"Angle of (PRO 264 CA P P) (PRO 264 C P P) (GLY 265 N P P) (GLY 265 CA P P) \" with indexes [2779, 2787, 2789, 2791]\n",
      "2021-06-25 23:37:20,252 - htmd.builder.builder - WARNING - Found cis peptide bond in 1 frames: [0] in the omega diheral \"Angle of (PRO 334 CA P P) (PRO 334 C P P) (GLY 335 N P P) (GLY 335 CA P P) \" with indexes [3965, 3973, 3975, 3977]\n",
      "2021-06-25 23:37:22,091 - htmd.protocols.production_v6 - WARNING - Lipids detected in input structure. We highly recommend setting useconstantratio=True for membrane simulations.\n",
      "2021-06-25 23:37:23,243 - jobqueues.slurmqueue - INFO - Queueing /gpcr/users/daranda/doctorat/GPCR_simulations/simulation_output/production/4Z9G_apo/rep_1/\n"
     ]
    },
    {
     "name": "stdout",
     "output_type": "stream",
     "text": [
      "submitting replicate 2 of 4Z9G\n"
     ]
    },
    {
     "name": "stderr",
     "output_type": "stream",
     "text": [
      "2021-06-25 23:37:34,679 - moleculekit.readers - WARNING - Non-integer values were read from the PDB \"serial\" field. Dropping PDB values and assigning new ones.\n",
      "2021-06-25 23:37:34,839 - moleculekit.readers - WARNING - Reading PDB file with more than 99999 atoms. Bond information can be wrong.\n",
      "2021-06-25 23:38:15,218 - htmd.builder.builder - WARNING - Found cis peptide bond in 1 frames: [0] in the omega diheral \"Angle of (THR 220 CA P P) (THR 220 C P P) (TYR 221 N P P) (TYR 221 CA P P) \" with indexes [2027, 2037, 2039, 2041]\n",
      "2021-06-25 23:38:15,220 - htmd.builder.builder - WARNING - Found cis peptide bond in 1 frames: [0] in the omega diheral \"Angle of (PRO 264 CA P P) (PRO 264 C P P) (GLY 265 N P P) (GLY 265 CA P P) \" with indexes [2779, 2787, 2789, 2791]\n",
      "2021-06-25 23:38:15,221 - htmd.builder.builder - WARNING - Found cis peptide bond in 1 frames: [0] in the omega diheral \"Angle of (PRO 334 CA P P) (PRO 334 C P P) (GLY 335 N P P) (GLY 335 CA P P) \" with indexes [3965, 3973, 3975, 3977]\n",
      "2021-06-25 23:38:17,066 - htmd.protocols.production_v6 - WARNING - Lipids detected in input structure. We highly recommend setting useconstantratio=True for membrane simulations.\n",
      "2021-06-25 23:38:17,964 - jobqueues.slurmqueue - INFO - Queueing /gpcr/users/daranda/doctorat/GPCR_simulations/simulation_output/production/4Z9G_apo/rep_2/\n"
     ]
    },
    {
     "name": "stdout",
     "output_type": "stream",
     "text": [
      "submitting replicate 3 of 4Z9G\n"
     ]
    },
    {
     "name": "stderr",
     "output_type": "stream",
     "text": [
      "2021-06-25 23:38:30,594 - moleculekit.readers - WARNING - Non-integer values were read from the PDB \"serial\" field. Dropping PDB values and assigning new ones.\n",
      "2021-06-25 23:38:30,757 - moleculekit.readers - WARNING - Reading PDB file with more than 99999 atoms. Bond information can be wrong.\n",
      "2021-06-25 23:39:12,731 - htmd.builder.builder - WARNING - Found cis peptide bond in 1 frames: [0] in the omega diheral \"Angle of (THR 220 CA P P) (THR 220 C P P) (TYR 221 N P P) (TYR 221 CA P P) \" with indexes [2027, 2037, 2039, 2041]\n",
      "2021-06-25 23:39:12,733 - htmd.builder.builder - WARNING - Found cis peptide bond in 1 frames: [0] in the omega diheral \"Angle of (PRO 264 CA P P) (PRO 264 C P P) (GLY 265 N P P) (GLY 265 CA P P) \" with indexes [2779, 2787, 2789, 2791]\n",
      "2021-06-25 23:39:12,735 - htmd.builder.builder - WARNING - Found cis peptide bond in 1 frames: [0] in the omega diheral \"Angle of (PRO 334 CA P P) (PRO 334 C P P) (GLY 335 N P P) (GLY 335 CA P P) \" with indexes [3965, 3973, 3975, 3977]\n",
      "2021-06-25 23:39:14,608 - htmd.protocols.production_v6 - WARNING - Lipids detected in input structure. We highly recommend setting useconstantratio=True for membrane simulations.\n",
      "2021-06-25 23:39:15,540 - jobqueues.slurmqueue - INFO - Queueing /gpcr/users/daranda/doctorat/GPCR_simulations/simulation_output/production/4Z9G_apo/rep_3/\n"
     ]
    },
    {
     "name": "stdout",
     "output_type": "stream",
     "text": [
      "submitting replicate 1 of 4Z9G\n"
     ]
    },
    {
     "name": "stderr",
     "output_type": "stream",
     "text": [
      "2021-06-25 23:39:28,081 - moleculekit.readers - WARNING - Non-integer values were read from the PDB \"serial\" field. Dropping PDB values and assigning new ones.\n",
      "2021-06-25 23:39:28,242 - moleculekit.readers - WARNING - Reading PDB file with more than 99999 atoms. Bond information can be wrong.\n",
      "2021-06-25 23:40:09,873 - htmd.builder.builder - WARNING - Found cis peptide bond in 1 frames: [0] in the omega diheral \"Angle of (THR 220 CA P P) (THR 220 C P P) (TYR 221 N P P) (TYR 221 CA P P) \" with indexes [2081, 2091, 2093, 2095]\n",
      "2021-06-25 23:40:09,875 - htmd.builder.builder - WARNING - Found cis peptide bond in 1 frames: [0] in the omega diheral \"Angle of (PRO 264 CA P P) (PRO 264 C P P) (GLY 265 N P P) (GLY 265 CA P P) \" with indexes [2833, 2841, 2843, 2845]\n",
      "2021-06-25 23:40:09,877 - htmd.builder.builder - WARNING - Found cis peptide bond in 1 frames: [0] in the omega diheral \"Angle of (PRO 334 CA P P) (PRO 334 C P P) (GLY 335 N P P) (GLY 335 CA P P) \" with indexes [4019, 4027, 4029, 4031]\n",
      "2021-06-25 23:40:11,743 - htmd.protocols.production_v6 - WARNING - Lipids detected in input structure. We highly recommend setting useconstantratio=True for membrane simulations.\n",
      "2021-06-25 23:40:13,444 - jobqueues.slurmqueue - INFO - Queueing /gpcr/users/daranda/doctorat/GPCR_simulations/simulation_output/production/4Z9G/rep_1/\n"
     ]
    },
    {
     "name": "stdout",
     "output_type": "stream",
     "text": [
      "submitting replicate 2 of 4Z9G\n"
     ]
    },
    {
     "name": "stderr",
     "output_type": "stream",
     "text": [
      "2021-06-25 23:40:25,535 - moleculekit.readers - WARNING - Non-integer values were read from the PDB \"serial\" field. Dropping PDB values and assigning new ones.\n",
      "2021-06-25 23:40:25,695 - moleculekit.readers - WARNING - Reading PDB file with more than 99999 atoms. Bond information can be wrong.\n",
      "2021-06-25 23:41:06,730 - htmd.builder.builder - WARNING - Found cis peptide bond in 1 frames: [0] in the omega diheral \"Angle of (THR 220 CA P P) (THR 220 C P P) (TYR 221 N P P) (TYR 221 CA P P) \" with indexes [2081, 2091, 2093, 2095]\n",
      "2021-06-25 23:41:06,732 - htmd.builder.builder - WARNING - Found cis peptide bond in 1 frames: [0] in the omega diheral \"Angle of (PRO 264 CA P P) (PRO 264 C P P) (GLY 265 N P P) (GLY 265 CA P P) \" with indexes [2833, 2841, 2843, 2845]\n",
      "2021-06-25 23:41:06,734 - htmd.builder.builder - WARNING - Found cis peptide bond in 1 frames: [0] in the omega diheral \"Angle of (PRO 334 CA P P) (PRO 334 C P P) (GLY 335 N P P) (GLY 335 CA P P) \" with indexes [4019, 4027, 4029, 4031]\n",
      "2021-06-25 23:41:08,610 - htmd.protocols.production_v6 - WARNING - Lipids detected in input structure. We highly recommend setting useconstantratio=True for membrane simulations.\n",
      "2021-06-25 23:41:09,995 - jobqueues.slurmqueue - INFO - Queueing /gpcr/users/daranda/doctorat/GPCR_simulations/simulation_output/production/4Z9G/rep_2/\n"
     ]
    },
    {
     "name": "stdout",
     "output_type": "stream",
     "text": [
      "submitting replicate 3 of 4Z9G\n"
     ]
    },
    {
     "name": "stderr",
     "output_type": "stream",
     "text": [
      "2021-06-25 23:41:22,456 - moleculekit.readers - WARNING - Non-integer values were read from the PDB \"serial\" field. Dropping PDB values and assigning new ones.\n",
      "2021-06-25 23:41:22,614 - moleculekit.readers - WARNING - Reading PDB file with more than 99999 atoms. Bond information can be wrong.\n",
      "2021-06-25 23:42:04,534 - htmd.builder.builder - WARNING - Found cis peptide bond in 1 frames: [0] in the omega diheral \"Angle of (THR 220 CA P P) (THR 220 C P P) (TYR 221 N P P) (TYR 221 CA P P) \" with indexes [2081, 2091, 2093, 2095]\n",
      "2021-06-25 23:42:04,536 - htmd.builder.builder - WARNING - Found cis peptide bond in 1 frames: [0] in the omega diheral \"Angle of (PRO 264 CA P P) (PRO 264 C P P) (GLY 265 N P P) (GLY 265 CA P P) \" with indexes [2833, 2841, 2843, 2845]\n",
      "2021-06-25 23:42:04,537 - htmd.builder.builder - WARNING - Found cis peptide bond in 1 frames: [0] in the omega diheral \"Angle of (PRO 334 CA P P) (PRO 334 C P P) (GLY 335 N P P) (GLY 335 CA P P) \" with indexes [4019, 4027, 4029, 4031]\n",
      "2021-06-25 23:42:06,413 - htmd.protocols.production_v6 - WARNING - Lipids detected in input structure. We highly recommend setting useconstantratio=True for membrane simulations.\n",
      "2021-06-25 23:42:07,600 - jobqueues.slurmqueue - INFO - Queueing /gpcr/users/daranda/doctorat/GPCR_simulations/simulation_output/production/4Z9G/rep_3/\n"
     ]
    },
    {
     "name": "stdout",
     "output_type": "stream",
     "text": [
      "submitting replicate 1 of 5TZY\n"
     ]
    },
    {
     "name": "stderr",
     "output_type": "stream",
     "text": [
      "2021-06-25 23:42:37,035 - htmd.protocols.production_v6 - WARNING - Lipids detected in input structure. We highly recommend setting useconstantratio=True for membrane simulations.\n",
      "2021-06-25 23:42:38,413 - jobqueues.slurmqueue - INFO - Queueing /gpcr/users/daranda/doctorat/GPCR_simulations/simulation_output/production/5TZY_apo/rep_1/\n"
     ]
    },
    {
     "name": "stdout",
     "output_type": "stream",
     "text": [
      "submitting replicate 2 of 5TZY\n"
     ]
    },
    {
     "name": "stderr",
     "output_type": "stream",
     "text": [
      "2021-06-25 23:43:05,072 - htmd.protocols.production_v6 - WARNING - Lipids detected in input structure. We highly recommend setting useconstantratio=True for membrane simulations.\n",
      "2021-06-25 23:43:05,669 - jobqueues.slurmqueue - INFO - Queueing /gpcr/users/daranda/doctorat/GPCR_simulations/simulation_output/production/5TZY_apo/rep_2/\n"
     ]
    },
    {
     "name": "stdout",
     "output_type": "stream",
     "text": [
      "submitting replicate 3 of 5TZY\n"
     ]
    },
    {
     "name": "stderr",
     "output_type": "stream",
     "text": [
      "2021-06-25 23:43:33,050 - htmd.protocols.production_v6 - WARNING - Lipids detected in input structure. We highly recommend setting useconstantratio=True for membrane simulations.\n",
      "2021-06-25 23:43:33,593 - jobqueues.slurmqueue - INFO - Queueing /gpcr/users/daranda/doctorat/GPCR_simulations/simulation_output/production/5TZY_apo/rep_3/\n"
     ]
    },
    {
     "name": "stdout",
     "output_type": "stream",
     "text": [
      "submitting replicate 1 of 5TZY\n"
     ]
    },
    {
     "name": "stderr",
     "output_type": "stream",
     "text": [
      "2021-06-25 23:44:06,914 - htmd.protocols.production_v6 - WARNING - Lipids detected in input structure. We highly recommend setting useconstantratio=True for membrane simulations.\n",
      "2021-06-25 23:44:07,855 - jobqueues.slurmqueue - INFO - Queueing /gpcr/users/daranda/doctorat/GPCR_simulations/simulation_output/production/5TZY/rep_1/\n"
     ]
    },
    {
     "name": "stdout",
     "output_type": "stream",
     "text": [
      "submitting replicate 2 of 5TZY\n"
     ]
    },
    {
     "name": "stderr",
     "output_type": "stream",
     "text": [
      "2021-06-25 23:44:34,807 - htmd.protocols.production_v6 - WARNING - Lipids detected in input structure. We highly recommend setting useconstantratio=True for membrane simulations.\n",
      "2021-06-25 23:44:36,185 - jobqueues.slurmqueue - INFO - Queueing /gpcr/users/daranda/doctorat/GPCR_simulations/simulation_output/production/5TZY/rep_2/\n"
     ]
    },
    {
     "name": "stdout",
     "output_type": "stream",
     "text": [
      "submitting replicate 3 of 5TZY\n"
     ]
    },
    {
     "name": "stderr",
     "output_type": "stream",
     "text": [
      "2021-06-25 23:45:02,537 - htmd.protocols.production_v6 - WARNING - Lipids detected in input structure. We highly recommend setting useconstantratio=True for membrane simulations.\n",
      "2021-06-25 23:45:03,168 - jobqueues.slurmqueue - INFO - Queueing /gpcr/users/daranda/doctorat/GPCR_simulations/simulation_output/production/5TZY/rep_3/\n"
     ]
    },
    {
     "name": "stdout",
     "output_type": "stream",
     "text": [
      "replicate 1 of structure 5K2D already has been simulated\n",
      "replicate 2 of structure 5K2D already has been simulated\n",
      "replicate 3 of structure 5K2D already has been simulated\n",
      "replicate 1 of structure 5K2D already has been simulated\n",
      "replicate 2 of structure 5K2D already has been simulated\n",
      "replicate 3 of structure 5K2D already has been simulated\n",
      "submitting replicate 1 of 5V57\n"
     ]
    },
    {
     "name": "stderr",
     "output_type": "stream",
     "text": [
      "2021-06-25 23:45:17,485 - moleculekit.readers - WARNING - Non-integer values were read from the PDB \"serial\" field. Dropping PDB values and assigning new ones.\n",
      "2021-06-25 23:45:17,725 - moleculekit.readers - WARNING - Reading PDB file with more than 99999 atoms. Bond information can be wrong.\n",
      "2021-06-25 23:46:45,697 - htmd.builder.builder - WARNING - Found cis peptide bond in 1 frames: [0] in the omega diheral \"Angle of (GLU 305 CA P P) (GLU 305 C P P) (PRO 306 N P P) (PRO 306 CA P P) \" with indexes [3764, 3775, 3777, 3781]\n",
      "2021-06-25 23:46:45,699 - htmd.builder.builder - WARNING - Found cis peptide bond in 1 frames: [0] in the omega diheral \"Angle of (SER 354 CA P P) (SER 354 C P P) (GLY 355 N P P) (GLY 355 CA P P) \" with indexes [4546, 4553, 4555, 4557]\n",
      "2021-06-25 23:46:45,701 - htmd.builder.builder - WARNING - Found cis peptide bond in 1 frames: [0] in the omega diheral \"Angle of (THR 553 CA P P) (THR 553 C P P) (GLY 554 N P P) (GLY 554 CA P P) \" with indexes [7751, 7761, 7763, 7765]\n",
      "2021-06-25 23:46:48,891 - htmd.protocols.production_v6 - WARNING - Lipids detected in input structure. We highly recommend setting useconstantratio=True for membrane simulations.\n",
      "2021-06-25 23:46:50,878 - jobqueues.slurmqueue - INFO - Queueing /gpcr/users/daranda/doctorat/GPCR_simulations/simulation_output/production/5V57_apo/rep_1/\n"
     ]
    },
    {
     "name": "stdout",
     "output_type": "stream",
     "text": [
      "submitting replicate 2 of 5V57\n"
     ]
    },
    {
     "name": "stderr",
     "output_type": "stream",
     "text": [
      "2021-06-25 23:47:05,328 - moleculekit.readers - WARNING - Non-integer values were read from the PDB \"serial\" field. Dropping PDB values and assigning new ones.\n",
      "2021-06-25 23:47:05,570 - moleculekit.readers - WARNING - Reading PDB file with more than 99999 atoms. Bond information can be wrong.\n",
      "2021-06-25 23:48:48,312 - htmd.builder.builder - WARNING - Found cis peptide bond in 1 frames: [0] in the omega diheral \"Angle of (GLU 305 CA P P) (GLU 305 C P P) (PRO 306 N P P) (PRO 306 CA P P) \" with indexes [3764, 3775, 3777, 3781]\n",
      "2021-06-25 23:48:48,314 - htmd.builder.builder - WARNING - Found cis peptide bond in 1 frames: [0] in the omega diheral \"Angle of (SER 354 CA P P) (SER 354 C P P) (GLY 355 N P P) (GLY 355 CA P P) \" with indexes [4546, 4553, 4555, 4557]\n",
      "2021-06-25 23:48:48,316 - htmd.builder.builder - WARNING - Found cis peptide bond in 1 frames: [0] in the omega diheral \"Angle of (THR 553 CA P P) (THR 553 C P P) (GLY 554 N P P) (GLY 554 CA P P) \" with indexes [7751, 7761, 7763, 7765]\n",
      "2021-06-25 23:48:51,549 - htmd.protocols.production_v6 - WARNING - Lipids detected in input structure. We highly recommend setting useconstantratio=True for membrane simulations.\n",
      "2021-06-25 23:48:53,287 - jobqueues.slurmqueue - INFO - Queueing /gpcr/users/daranda/doctorat/GPCR_simulations/simulation_output/production/5V57_apo/rep_2/\n"
     ]
    },
    {
     "name": "stdout",
     "output_type": "stream",
     "text": [
      "submitting replicate 3 of 5V57\n"
     ]
    },
    {
     "name": "stderr",
     "output_type": "stream",
     "text": [
      "2021-06-25 23:49:07,885 - moleculekit.readers - WARNING - Non-integer values were read from the PDB \"serial\" field. Dropping PDB values and assigning new ones.\n",
      "2021-06-25 23:49:08,127 - moleculekit.readers - WARNING - Reading PDB file with more than 99999 atoms. Bond information can be wrong.\n",
      "2021-06-25 23:50:56,668 - htmd.builder.builder - WARNING - Found cis peptide bond in 1 frames: [0] in the omega diheral \"Angle of (GLU 305 CA P P) (GLU 305 C P P) (PRO 306 N P P) (PRO 306 CA P P) \" with indexes [3764, 3775, 3777, 3781]\n",
      "2021-06-25 23:50:56,670 - htmd.builder.builder - WARNING - Found cis peptide bond in 1 frames: [0] in the omega diheral \"Angle of (SER 354 CA P P) (SER 354 C P P) (GLY 355 N P P) (GLY 355 CA P P) \" with indexes [4546, 4553, 4555, 4557]\n",
      "2021-06-25 23:50:56,672 - htmd.builder.builder - WARNING - Found cis peptide bond in 1 frames: [0] in the omega diheral \"Angle of (THR 553 CA P P) (THR 553 C P P) (GLY 554 N P P) (GLY 554 CA P P) \" with indexes [7751, 7761, 7763, 7765]\n",
      "2021-06-25 23:50:59,851 - htmd.protocols.production_v6 - WARNING - Lipids detected in input structure. We highly recommend setting useconstantratio=True for membrane simulations.\n",
      "2021-06-25 23:51:01,450 - jobqueues.slurmqueue - INFO - Queueing /gpcr/users/daranda/doctorat/GPCR_simulations/simulation_output/production/5V57_apo/rep_3/\n"
     ]
    },
    {
     "name": "stdout",
     "output_type": "stream",
     "text": [
      "submitting replicate 1 of 5V57\n"
     ]
    },
    {
     "name": "stderr",
     "output_type": "stream",
     "text": [
      "2021-06-25 23:51:16,222 - moleculekit.readers - WARNING - Non-integer values were read from the PDB \"serial\" field. Dropping PDB values and assigning new ones.\n",
      "2021-06-25 23:51:16,465 - moleculekit.readers - WARNING - Reading PDB file with more than 99999 atoms. Bond information can be wrong.\n",
      "2021-06-25 23:53:04,044 - htmd.builder.builder - WARNING - Found cis peptide bond in 1 frames: [0] in the omega diheral \"Angle of (GLU 305 CA P P) (GLU 305 C P P) (PRO 306 N P P) (PRO 306 CA P P) \" with indexes [3827, 3838, 3840, 3844]\n",
      "2021-06-25 23:53:04,046 - htmd.builder.builder - WARNING - Found cis peptide bond in 1 frames: [0] in the omega diheral \"Angle of (SER 354 CA P P) (SER 354 C P P) (GLY 355 N P P) (GLY 355 CA P P) \" with indexes [4609, 4616, 4618, 4620]\n",
      "2021-06-25 23:53:04,048 - htmd.builder.builder - WARNING - Found cis peptide bond in 1 frames: [0] in the omega diheral \"Angle of (THR 553 CA P P) (THR 553 C P P) (GLY 554 N P P) (GLY 554 CA P P) \" with indexes [7814, 7824, 7826, 7828]\n",
      "2021-06-25 23:53:07,324 - htmd.protocols.production_v6 - WARNING - Lipids detected in input structure. We highly recommend setting useconstantratio=True for membrane simulations.\n",
      "2021-06-25 23:53:09,972 - jobqueues.slurmqueue - INFO - Queueing /gpcr/users/daranda/doctorat/GPCR_simulations/simulation_output/production/5V57/rep_1/\n"
     ]
    },
    {
     "name": "stdout",
     "output_type": "stream",
     "text": [
      "submitting replicate 2 of 5V57\n"
     ]
    },
    {
     "name": "stderr",
     "output_type": "stream",
     "text": [
      "2021-06-25 23:53:24,772 - moleculekit.readers - WARNING - Non-integer values were read from the PDB \"serial\" field. Dropping PDB values and assigning new ones.\n",
      "2021-06-25 23:53:25,014 - moleculekit.readers - WARNING - Reading PDB file with more than 99999 atoms. Bond information can be wrong.\n",
      "2021-06-25 23:55:11,474 - htmd.builder.builder - WARNING - Found cis peptide bond in 1 frames: [0] in the omega diheral \"Angle of (GLU 305 CA P P) (GLU 305 C P P) (PRO 306 N P P) (PRO 306 CA P P) \" with indexes [3827, 3838, 3840, 3844]\n",
      "2021-06-25 23:55:11,476 - htmd.builder.builder - WARNING - Found cis peptide bond in 1 frames: [0] in the omega diheral \"Angle of (SER 354 CA P P) (SER 354 C P P) (GLY 355 N P P) (GLY 355 CA P P) \" with indexes [4609, 4616, 4618, 4620]\n",
      "2021-06-25 23:55:11,477 - htmd.builder.builder - WARNING - Found cis peptide bond in 1 frames: [0] in the omega diheral \"Angle of (THR 553 CA P P) (THR 553 C P P) (GLY 554 N P P) (GLY 554 CA P P) \" with indexes [7814, 7824, 7826, 7828]\n",
      "2021-06-25 23:55:14,759 - htmd.protocols.production_v6 - WARNING - Lipids detected in input structure. We highly recommend setting useconstantratio=True for membrane simulations.\n",
      "2021-06-25 23:55:16,675 - jobqueues.slurmqueue - INFO - Queueing /gpcr/users/daranda/doctorat/GPCR_simulations/simulation_output/production/5V57/rep_2/\n"
     ]
    },
    {
     "name": "stdout",
     "output_type": "stream",
     "text": [
      "submitting replicate 3 of 5V57\n"
     ]
    },
    {
     "name": "stderr",
     "output_type": "stream",
     "text": [
      "2021-06-25 23:55:31,982 - moleculekit.readers - WARNING - Non-integer values were read from the PDB \"serial\" field. Dropping PDB values and assigning new ones.\n",
      "2021-06-25 23:55:32,223 - moleculekit.readers - WARNING - Reading PDB file with more than 99999 atoms. Bond information can be wrong.\n",
      "2021-06-25 23:57:20,059 - htmd.builder.builder - WARNING - Found cis peptide bond in 1 frames: [0] in the omega diheral \"Angle of (GLU 305 CA P P) (GLU 305 C P P) (PRO 306 N P P) (PRO 306 CA P P) \" with indexes [3827, 3838, 3840, 3844]\n",
      "2021-06-25 23:57:20,061 - htmd.builder.builder - WARNING - Found cis peptide bond in 1 frames: [0] in the omega diheral \"Angle of (SER 354 CA P P) (SER 354 C P P) (GLY 355 N P P) (GLY 355 CA P P) \" with indexes [4609, 4616, 4618, 4620]\n",
      "2021-06-25 23:57:20,063 - htmd.builder.builder - WARNING - Found cis peptide bond in 1 frames: [0] in the omega diheral \"Angle of (THR 553 CA P P) (THR 553 C P P) (GLY 554 N P P) (GLY 554 CA P P) \" with indexes [7814, 7824, 7826, 7828]\n",
      "2021-06-25 23:57:23,229 - htmd.protocols.production_v6 - WARNING - Lipids detected in input structure. We highly recommend setting useconstantratio=True for membrane simulations.\n",
      "2021-06-25 23:57:24,446 - jobqueues.slurmqueue - INFO - Queueing /gpcr/users/daranda/doctorat/GPCR_simulations/simulation_output/production/5V57/rep_3/\n"
     ]
    },
    {
     "name": "stdout",
     "output_type": "stream",
     "text": [
      "submitting replicate 1 of 5OLG\n"
     ]
    },
    {
     "name": "stderr",
     "output_type": "stream",
     "text": [
      "2021-06-25 23:58:04,307 - htmd.builder.builder - WARNING - Found cis peptide bond in 1 frames: [0] in the omega diheral \"Angle of (LEU 216 CA P P) (LEU 216 C P P) (PRO 217 N P P) (PRO 217 CA P P) \" with indexes [3337, 3352, 3354, 3358]\n",
      "2021-06-25 23:58:05,666 - htmd.protocols.production_v6 - WARNING - Lipids detected in input structure. We highly recommend setting useconstantratio=True for membrane simulations.\n",
      "2021-06-25 23:58:08,875 - jobqueues.slurmqueue - INFO - Queueing /gpcr/users/daranda/doctorat/GPCR_simulations/simulation_output/production/5OLG_apo/rep_1/\n"
     ]
    },
    {
     "name": "stdout",
     "output_type": "stream",
     "text": [
      "submitting replicate 2 of 5OLG\n"
     ]
    },
    {
     "name": "stderr",
     "output_type": "stream",
     "text": [
      "2021-06-25 23:58:49,060 - htmd.builder.builder - WARNING - Found cis peptide bond in 1 frames: [0] in the omega diheral \"Angle of (LEU 216 CA P P) (LEU 216 C P P) (PRO 217 N P P) (PRO 217 CA P P) \" with indexes [3337, 3352, 3354, 3358]\n",
      "2021-06-25 23:58:50,276 - htmd.protocols.production_v6 - WARNING - Lipids detected in input structure. We highly recommend setting useconstantratio=True for membrane simulations.\n",
      "2021-06-25 23:58:50,768 - jobqueues.slurmqueue - INFO - Queueing /gpcr/users/daranda/doctorat/GPCR_simulations/simulation_output/production/5OLG_apo/rep_2/\n"
     ]
    },
    {
     "name": "stdout",
     "output_type": "stream",
     "text": [
      "submitting replicate 3 of 5OLG\n"
     ]
    },
    {
     "name": "stderr",
     "output_type": "stream",
     "text": [
      "2021-06-25 23:59:31,244 - htmd.builder.builder - WARNING - Found cis peptide bond in 1 frames: [0] in the omega diheral \"Angle of (LEU 216 CA P P) (LEU 216 C P P) (PRO 217 N P P) (PRO 217 CA P P) \" with indexes [3337, 3352, 3354, 3358]\n",
      "2021-06-25 23:59:32,593 - htmd.protocols.production_v6 - WARNING - Lipids detected in input structure. We highly recommend setting useconstantratio=True for membrane simulations.\n",
      "2021-06-25 23:59:33,069 - jobqueues.slurmqueue - INFO - Queueing /gpcr/users/daranda/doctorat/GPCR_simulations/simulation_output/production/5OLG_apo/rep_3/\n"
     ]
    },
    {
     "name": "stdout",
     "output_type": "stream",
     "text": [
      "submitting replicate 1 of 5OLG\n"
     ]
    },
    {
     "name": "stderr",
     "output_type": "stream",
     "text": [
      "2021-06-26 00:00:12,811 - htmd.builder.builder - WARNING - Found cis peptide bond in 1 frames: [0] in the omega diheral \"Angle of (LEU 216 CA P P) (LEU 216 C P P) (PRO 217 N P P) (PRO 217 CA P P) \" with indexes [3674, 3689, 3691, 3695]\n",
      "2021-06-26 00:00:14,171 - htmd.protocols.production_v6 - WARNING - Lipids detected in input structure. We highly recommend setting useconstantratio=True for membrane simulations.\n",
      "2021-06-26 00:00:15,171 - jobqueues.slurmqueue - INFO - Queueing /gpcr/users/daranda/doctorat/GPCR_simulations/simulation_output/production/5OLG/rep_1/\n"
     ]
    },
    {
     "name": "stdout",
     "output_type": "stream",
     "text": [
      "submitting replicate 2 of 5OLG\n"
     ]
    },
    {
     "name": "stderr",
     "output_type": "stream",
     "text": [
      "2021-06-26 00:00:55,099 - htmd.builder.builder - WARNING - Found cis peptide bond in 1 frames: [0] in the omega diheral \"Angle of (LEU 216 CA P P) (LEU 216 C P P) (PRO 217 N P P) (PRO 217 CA P P) \" with indexes [3674, 3689, 3691, 3695]\n",
      "2021-06-26 00:00:56,462 - htmd.protocols.production_v6 - WARNING - Lipids detected in input structure. We highly recommend setting useconstantratio=True for membrane simulations.\n",
      "2021-06-26 00:00:56,996 - jobqueues.slurmqueue - INFO - Queueing /gpcr/users/daranda/doctorat/GPCR_simulations/simulation_output/production/5OLG/rep_2/\n"
     ]
    },
    {
     "name": "stdout",
     "output_type": "stream",
     "text": [
      "submitting replicate 3 of 5OLG\n"
     ]
    },
    {
     "name": "stderr",
     "output_type": "stream",
     "text": [
      "2021-06-26 00:01:42,315 - htmd.builder.builder - WARNING - Found cis peptide bond in 1 frames: [0] in the omega diheral \"Angle of (LEU 216 CA P P) (LEU 216 C P P) (PRO 217 N P P) (PRO 217 CA P P) \" with indexes [3674, 3689, 3691, 3695]\n",
      "2021-06-26 00:01:43,673 - htmd.protocols.production_v6 - WARNING - Lipids detected in input structure. We highly recommend setting useconstantratio=True for membrane simulations.\n",
      "2021-06-26 00:01:44,173 - jobqueues.slurmqueue - INFO - Queueing /gpcr/users/daranda/doctorat/GPCR_simulations/simulation_output/production/5OLG/rep_3/\n"
     ]
    },
    {
     "name": "stdout",
     "output_type": "stream",
     "text": [
      "submitting replicate 1 of 6K1Q\n"
     ]
    },
    {
     "name": "stderr",
     "output_type": "stream",
     "text": [
      "2021-06-26 00:02:25,209 - htmd.protocols.production_v6 - WARNING - Lipids detected in input structure. We highly recommend setting useconstantratio=True for membrane simulations.\n",
      "2021-06-26 00:02:26,333 - jobqueues.slurmqueue - INFO - Queueing /gpcr/users/daranda/doctorat/GPCR_simulations/simulation_output/production/6K1Q_apo/rep_1/\n"
     ]
    },
    {
     "name": "stdout",
     "output_type": "stream",
     "text": [
      "submitting replicate 2 of 6K1Q\n"
     ]
    },
    {
     "name": "stderr",
     "output_type": "stream",
     "text": [
      "2021-06-26 00:03:07,110 - htmd.protocols.production_v6 - WARNING - Lipids detected in input structure. We highly recommend setting useconstantratio=True for membrane simulations.\n",
      "2021-06-26 00:03:07,586 - jobqueues.slurmqueue - INFO - Queueing /gpcr/users/daranda/doctorat/GPCR_simulations/simulation_output/production/6K1Q_apo/rep_2/\n"
     ]
    },
    {
     "name": "stdout",
     "output_type": "stream",
     "text": [
      "submitting replicate 3 of 6K1Q\n"
     ]
    },
    {
     "name": "stderr",
     "output_type": "stream",
     "text": [
      "2021-06-26 00:03:46,227 - htmd.protocols.production_v6 - WARNING - Lipids detected in input structure. We highly recommend setting useconstantratio=True for membrane simulations.\n",
      "2021-06-26 00:03:46,839 - jobqueues.slurmqueue - INFO - Queueing /gpcr/users/daranda/doctorat/GPCR_simulations/simulation_output/production/6K1Q_apo/rep_3/\n"
     ]
    },
    {
     "name": "stdout",
     "output_type": "stream",
     "text": [
      "submitting replicate 1 of 6K1Q\n"
     ]
    },
    {
     "name": "stderr",
     "output_type": "stream",
     "text": [
      "2021-06-26 00:04:28,888 - htmd.protocols.production_v6 - WARNING - Lipids detected in input structure. We highly recommend setting useconstantratio=True for membrane simulations.\n",
      "2021-06-26 00:04:30,506 - jobqueues.slurmqueue - INFO - Queueing /gpcr/users/daranda/doctorat/GPCR_simulations/simulation_output/production/6K1Q/rep_1/\n"
     ]
    },
    {
     "name": "stdout",
     "output_type": "stream",
     "text": [
      "submitting replicate 2 of 6K1Q\n"
     ]
    },
    {
     "name": "stderr",
     "output_type": "stream",
     "text": [
      "2021-06-26 00:05:10,883 - htmd.protocols.production_v6 - WARNING - Lipids detected in input structure. We highly recommend setting useconstantratio=True for membrane simulations.\n",
      "2021-06-26 00:05:11,329 - jobqueues.slurmqueue - INFO - Queueing /gpcr/users/daranda/doctorat/GPCR_simulations/simulation_output/production/6K1Q/rep_2/\n"
     ]
    },
    {
     "name": "stdout",
     "output_type": "stream",
     "text": [
      "submitting replicate 3 of 6K1Q\n"
     ]
    },
    {
     "name": "stderr",
     "output_type": "stream",
     "text": [
      "2021-06-26 00:05:52,673 - htmd.protocols.production_v6 - WARNING - Lipids detected in input structure. We highly recommend setting useconstantratio=True for membrane simulations.\n",
      "2021-06-26 00:05:53,189 - jobqueues.slurmqueue - INFO - Queueing /gpcr/users/daranda/doctorat/GPCR_simulations/simulation_output/production/6K1Q/rep_3/\n"
     ]
    },
    {
     "name": "stdout",
     "output_type": "stream",
     "text": [
      "submitting replicate 1 of 6E59\n"
     ]
    },
    {
     "name": "stderr",
     "output_type": "stream",
     "text": [
      "2021-06-26 00:06:29,054 - htmd.protocols.production_v6 - WARNING - Lipids detected in input structure. We highly recommend setting useconstantratio=True for membrane simulations.\n",
      "2021-06-26 00:06:30,220 - jobqueues.slurmqueue - INFO - Queueing /gpcr/users/daranda/doctorat/GPCR_simulations/simulation_output/production/6E59_apo/rep_1/\n"
     ]
    },
    {
     "name": "stdout",
     "output_type": "stream",
     "text": [
      "submitting replicate 2 of 6E59\n"
     ]
    },
    {
     "name": "stderr",
     "output_type": "stream",
     "text": [
      "2021-06-26 00:07:06,220 - htmd.protocols.production_v6 - WARNING - Lipids detected in input structure. We highly recommend setting useconstantratio=True for membrane simulations.\n",
      "2021-06-26 00:07:06,754 - jobqueues.slurmqueue - INFO - Queueing /gpcr/users/daranda/doctorat/GPCR_simulations/simulation_output/production/6E59_apo/rep_2/\n"
     ]
    },
    {
     "name": "stdout",
     "output_type": "stream",
     "text": [
      "submitting replicate 3 of 6E59\n"
     ]
    },
    {
     "name": "stderr",
     "output_type": "stream",
     "text": [
      "2021-06-26 00:07:49,377 - htmd.protocols.production_v6 - WARNING - Lipids detected in input structure. We highly recommend setting useconstantratio=True for membrane simulations.\n",
      "2021-06-26 00:07:50,020 - jobqueues.slurmqueue - INFO - Queueing /gpcr/users/daranda/doctorat/GPCR_simulations/simulation_output/production/6E59_apo/rep_3/\n"
     ]
    },
    {
     "name": "stdout",
     "output_type": "stream",
     "text": [
      "submitting replicate 1 of 6E59\n"
     ]
    },
    {
     "name": "stderr",
     "output_type": "stream",
     "text": [
      "2021-06-26 00:08:27,272 - htmd.protocols.production_v6 - WARNING - Lipids detected in input structure. We highly recommend setting useconstantratio=True for membrane simulations.\n",
      "2021-06-26 00:08:28,448 - jobqueues.slurmqueue - INFO - Queueing /gpcr/users/daranda/doctorat/GPCR_simulations/simulation_output/production/6E59/rep_1/\n"
     ]
    },
    {
     "name": "stdout",
     "output_type": "stream",
     "text": [
      "submitting replicate 2 of 6E59\n"
     ]
    },
    {
     "name": "stderr",
     "output_type": "stream",
     "text": [
      "2021-06-26 00:09:07,681 - htmd.protocols.production_v6 - WARNING - Lipids detected in input structure. We highly recommend setting useconstantratio=True for membrane simulations.\n",
      "2021-06-26 00:09:08,086 - jobqueues.slurmqueue - INFO - Queueing /gpcr/users/daranda/doctorat/GPCR_simulations/simulation_output/production/6E59/rep_2/\n"
     ]
    },
    {
     "name": "stdout",
     "output_type": "stream",
     "text": [
      "submitting replicate 3 of 6E59\n"
     ]
    },
    {
     "name": "stderr",
     "output_type": "stream",
     "text": [
      "2021-06-26 00:09:44,435 - htmd.protocols.production_v6 - WARNING - Lipids detected in input structure. We highly recommend setting useconstantratio=True for membrane simulations.\n",
      "2021-06-26 00:09:45,024 - jobqueues.slurmqueue - INFO - Queueing /gpcr/users/daranda/doctorat/GPCR_simulations/simulation_output/production/6E59/rep_3/\n"
     ]
    },
    {
     "name": "stdout",
     "output_type": "stream",
     "text": [
      "submitting replicate 1 of 6AKX\n"
     ]
    },
    {
     "name": "stderr",
     "output_type": "stream",
     "text": [
      "2021-06-26 00:10:15,606 - htmd.protocols.production_v6 - WARNING - Lipids detected in input structure. We highly recommend setting useconstantratio=True for membrane simulations.\n",
      "2021-06-26 00:10:16,285 - jobqueues.slurmqueue - INFO - Queueing /gpcr/users/daranda/doctorat/GPCR_simulations/simulation_output/production/6AKX_apo/rep_1/\n"
     ]
    },
    {
     "name": "stdout",
     "output_type": "stream",
     "text": [
      "submitting replicate 2 of 6AKX\n"
     ]
    },
    {
     "name": "stderr",
     "output_type": "stream",
     "text": [
      "2021-06-26 00:10:44,099 - htmd.protocols.production_v6 - WARNING - Lipids detected in input structure. We highly recommend setting useconstantratio=True for membrane simulations.\n",
      "2021-06-26 00:10:44,546 - jobqueues.slurmqueue - INFO - Queueing /gpcr/users/daranda/doctorat/GPCR_simulations/simulation_output/production/6AKX_apo/rep_2/\n"
     ]
    },
    {
     "name": "stdout",
     "output_type": "stream",
     "text": [
      "submitting replicate 3 of 6AKX\n"
     ]
    },
    {
     "name": "stderr",
     "output_type": "stream",
     "text": [
      "2021-06-26 00:11:11,633 - htmd.protocols.production_v6 - WARNING - Lipids detected in input structure. We highly recommend setting useconstantratio=True for membrane simulations.\n",
      "2021-06-26 00:11:11,958 - jobqueues.slurmqueue - INFO - Queueing /gpcr/users/daranda/doctorat/GPCR_simulations/simulation_output/production/6AKX_apo/rep_3/\n"
     ]
    },
    {
     "name": "stdout",
     "output_type": "stream",
     "text": [
      "submitting replicate 1 of 6AKX\n"
     ]
    },
    {
     "name": "stderr",
     "output_type": "stream",
     "text": [
      "2021-06-26 00:11:40,103 - htmd.protocols.production_v6 - WARNING - Lipids detected in input structure. We highly recommend setting useconstantratio=True for membrane simulations.\n",
      "2021-06-26 00:11:41,391 - jobqueues.slurmqueue - INFO - Queueing /gpcr/users/daranda/doctorat/GPCR_simulations/simulation_output/production/6AKX/rep_1/\n"
     ]
    },
    {
     "name": "stdout",
     "output_type": "stream",
     "text": [
      "submitting replicate 2 of 6AKX\n"
     ]
    },
    {
     "name": "stderr",
     "output_type": "stream",
     "text": [
      "2021-06-26 00:12:11,496 - htmd.protocols.production_v6 - WARNING - Lipids detected in input structure. We highly recommend setting useconstantratio=True for membrane simulations.\n",
      "2021-06-26 00:12:12,076 - jobqueues.slurmqueue - INFO - Queueing /gpcr/users/daranda/doctorat/GPCR_simulations/simulation_output/production/6AKX/rep_2/\n"
     ]
    },
    {
     "name": "stdout",
     "output_type": "stream",
     "text": [
      "submitting replicate 3 of 6AKX\n"
     ]
    },
    {
     "name": "stderr",
     "output_type": "stream",
     "text": [
      "2021-06-26 00:12:43,466 - htmd.protocols.production_v6 - WARNING - Lipids detected in input structure. We highly recommend setting useconstantratio=True for membrane simulations.\n",
      "2021-06-26 00:12:44,143 - jobqueues.slurmqueue - INFO - Queueing /gpcr/users/daranda/doctorat/GPCR_simulations/simulation_output/production/6AKX/rep_3/\n"
     ]
    },
    {
     "name": "stdout",
     "output_type": "stream",
     "text": [
      "submitting replicate 1 of 6RZ5\n"
     ]
    },
    {
     "name": "stderr",
     "output_type": "stream",
     "text": [
      "2021-06-26 00:13:19,506 - htmd.protocols.production_v6 - WARNING - Lipids detected in input structure. We highly recommend setting useconstantratio=True for membrane simulations.\n",
      "2021-06-26 00:13:20,722 - jobqueues.slurmqueue - INFO - Queueing /gpcr/users/daranda/doctorat/GPCR_simulations/simulation_output/production/6RZ5_apo/rep_1/\n"
     ]
    },
    {
     "name": "stdout",
     "output_type": "stream",
     "text": [
      "submitting replicate 2 of 6RZ5\n"
     ]
    },
    {
     "name": "stderr",
     "output_type": "stream",
     "text": [
      "2021-06-26 00:13:56,398 - htmd.protocols.production_v6 - WARNING - Lipids detected in input structure. We highly recommend setting useconstantratio=True for membrane simulations.\n",
      "2021-06-26 00:13:57,084 - jobqueues.slurmqueue - INFO - Queueing /gpcr/users/daranda/doctorat/GPCR_simulations/simulation_output/production/6RZ5_apo/rep_2/\n"
     ]
    },
    {
     "name": "stdout",
     "output_type": "stream",
     "text": [
      "submitting replicate 3 of 6RZ5\n"
     ]
    },
    {
     "name": "stderr",
     "output_type": "stream",
     "text": [
      "2021-06-26 00:14:31,944 - htmd.protocols.production_v6 - WARNING - Lipids detected in input structure. We highly recommend setting useconstantratio=True for membrane simulations.\n",
      "2021-06-26 00:14:32,766 - jobqueues.slurmqueue - INFO - Queueing /gpcr/users/daranda/doctorat/GPCR_simulations/simulation_output/production/6RZ5_apo/rep_3/\n"
     ]
    },
    {
     "name": "stdout",
     "output_type": "stream",
     "text": [
      "submitting replicate 1 of 6RZ5\n"
     ]
    },
    {
     "name": "stderr",
     "output_type": "stream",
     "text": [
      "2021-06-26 00:15:09,517 - htmd.protocols.production_v6 - WARNING - Lipids detected in input structure. We highly recommend setting useconstantratio=True for membrane simulations.\n",
      "2021-06-26 00:15:11,123 - jobqueues.slurmqueue - INFO - Queueing /gpcr/users/daranda/doctorat/GPCR_simulations/simulation_output/production/6RZ5/rep_1/\n"
     ]
    },
    {
     "name": "stdout",
     "output_type": "stream",
     "text": [
      "submitting replicate 2 of 6RZ5\n"
     ]
    },
    {
     "name": "stderr",
     "output_type": "stream",
     "text": [
      "2021-06-26 00:15:46,598 - htmd.protocols.production_v6 - WARNING - Lipids detected in input structure. We highly recommend setting useconstantratio=True for membrane simulations.\n",
      "2021-06-26 00:15:47,073 - jobqueues.slurmqueue - INFO - Queueing /gpcr/users/daranda/doctorat/GPCR_simulations/simulation_output/production/6RZ5/rep_2/\n"
     ]
    },
    {
     "name": "stdout",
     "output_type": "stream",
     "text": [
      "submitting replicate 3 of 6RZ5\n"
     ]
    },
    {
     "name": "stderr",
     "output_type": "stream",
     "text": [
      "2021-06-26 00:16:24,133 - htmd.protocols.production_v6 - WARNING - Lipids detected in input structure. We highly recommend setting useconstantratio=True for membrane simulations.\n",
      "2021-06-26 00:16:24,947 - jobqueues.slurmqueue - INFO - Queueing /gpcr/users/daranda/doctorat/GPCR_simulations/simulation_output/production/6RZ5/rep_3/\n"
     ]
    },
    {
     "name": "stdout",
     "output_type": "stream",
     "text": [
      "replicate 1 of structure 5ZBQ already has been simulated\n",
      "replicate 2 of structure 5ZBQ already has been simulated\n",
      "replicate 3 of structure 5ZBQ already has been simulated\n",
      "replicate 1 of structure 5ZBQ already has been simulated\n",
      "replicate 2 of structure 5ZBQ already has been simulated\n",
      "replicate 3 of structure 5ZBQ already has been simulated\n",
      "submitting replicate 1 of 5UNH\n"
     ]
    },
    {
     "name": "stderr",
     "output_type": "stream",
     "text": [
      "2021-06-26 00:17:03,492 - htmd.protocols.production_v6 - WARNING - Lipids detected in input structure. We highly recommend setting useconstantratio=True for membrane simulations.\n",
      "2021-06-26 00:17:05,184 - jobqueues.slurmqueue - INFO - Queueing /gpcr/users/daranda/doctorat/GPCR_simulations/simulation_output/production/5UNH_apo/rep_1/\n"
     ]
    },
    {
     "name": "stdout",
     "output_type": "stream",
     "text": [
      "submitting replicate 2 of 5UNH\n"
     ]
    },
    {
     "name": "stderr",
     "output_type": "stream",
     "text": [
      "2021-06-26 00:17:37,130 - htmd.protocols.production_v6 - WARNING - Lipids detected in input structure. We highly recommend setting useconstantratio=True for membrane simulations.\n",
      "2021-06-26 00:17:37,896 - jobqueues.slurmqueue - INFO - Queueing /gpcr/users/daranda/doctorat/GPCR_simulations/simulation_output/production/5UNH_apo/rep_2/\n"
     ]
    },
    {
     "name": "stdout",
     "output_type": "stream",
     "text": [
      "submitting replicate 3 of 5UNH\n"
     ]
    },
    {
     "name": "stderr",
     "output_type": "stream",
     "text": [
      "2021-06-26 00:18:10,147 - htmd.protocols.production_v6 - WARNING - Lipids detected in input structure. We highly recommend setting useconstantratio=True for membrane simulations.\n",
      "2021-06-26 00:18:10,770 - jobqueues.slurmqueue - INFO - Queueing /gpcr/users/daranda/doctorat/GPCR_simulations/simulation_output/production/5UNH_apo/rep_3/\n"
     ]
    },
    {
     "name": "stdout",
     "output_type": "stream",
     "text": [
      "submitting replicate 1 of 5UNH\n"
     ]
    },
    {
     "name": "stderr",
     "output_type": "stream",
     "text": [
      "2021-06-26 00:18:44,961 - htmd.protocols.production_v6 - WARNING - Lipids detected in input structure. We highly recommend setting useconstantratio=True for membrane simulations.\n",
      "2021-06-26 00:18:46,322 - jobqueues.slurmqueue - INFO - Queueing /gpcr/users/daranda/doctorat/GPCR_simulations/simulation_output/production/5UNH/rep_1/\n"
     ]
    },
    {
     "name": "stdout",
     "output_type": "stream",
     "text": [
      "submitting replicate 2 of 5UNH\n"
     ]
    },
    {
     "name": "stderr",
     "output_type": "stream",
     "text": [
      "2021-06-26 00:19:16,730 - htmd.protocols.production_v6 - WARNING - Lipids detected in input structure. We highly recommend setting useconstantratio=True for membrane simulations.\n",
      "2021-06-26 00:19:17,554 - jobqueues.slurmqueue - INFO - Queueing /gpcr/users/daranda/doctorat/GPCR_simulations/simulation_output/production/5UNH/rep_2/\n"
     ]
    },
    {
     "name": "stdout",
     "output_type": "stream",
     "text": [
      "submitting replicate 3 of 5UNH\n"
     ]
    },
    {
     "name": "stderr",
     "output_type": "stream",
     "text": [
      "2021-06-26 00:19:49,871 - htmd.protocols.production_v6 - WARNING - Lipids detected in input structure. We highly recommend setting useconstantratio=True for membrane simulations.\n",
      "2021-06-26 00:19:50,289 - jobqueues.slurmqueue - INFO - Queueing /gpcr/users/daranda/doctorat/GPCR_simulations/simulation_output/production/5UNH/rep_3/\n"
     ]
    },
    {
     "name": "stdout",
     "output_type": "stream",
     "text": [
      "submitting replicate 1 of 6J20\n"
     ]
    },
    {
     "name": "stderr",
     "output_type": "stream",
     "text": [
      "2021-06-26 00:20:27,442 - htmd.builder.builder - WARNING - Found cis peptide bond in 1 frames: [0] in the omega diheral \"Angle of (MET 63 CA P P) (MET 63 C P P) (ARG 64 N P P) (ARG 64 CA P P) \" with indexes [664, 677, 679, 681]\n",
      "2021-06-26 00:20:27,444 - htmd.builder.builder - WARNING - Found cis peptide bond in 1 frames: [0] in the omega diheral \"Angle of (HSD 187 CA P P) (HSD 187 C P P) (PRO 188 N P P) (PRO 188 CA P P) \" with indexes [2650, 2663, 2665, 2669]\n",
      "2021-06-26 00:20:27,446 - htmd.builder.builder - WARNING - Found cis peptide bond in 1 frames: [0] in the omega diheral \"Angle of (GLY 230 CA P P) (GLY 230 C P P) (ASP 231 N P P) (ASP 231 CA P P) \" with indexes [3366, 3369, 3371, 3373]\n",
      "2021-06-26 00:20:28,736 - htmd.protocols.production_v6 - WARNING - Lipids detected in input structure. We highly recommend setting useconstantratio=True for membrane simulations.\n",
      "2021-06-26 00:20:31,064 - jobqueues.slurmqueue - INFO - Queueing /gpcr/users/daranda/doctorat/GPCR_simulations/simulation_output/production/6J20_apo/rep_1/\n"
     ]
    },
    {
     "name": "stdout",
     "output_type": "stream",
     "text": [
      "submitting replicate 2 of 6J20\n"
     ]
    },
    {
     "name": "stderr",
     "output_type": "stream",
     "text": [
      "2021-06-26 00:21:05,698 - htmd.builder.builder - WARNING - Found cis peptide bond in 1 frames: [0] in the omega diheral \"Angle of (MET 63 CA P P) (MET 63 C P P) (ARG 64 N P P) (ARG 64 CA P P) \" with indexes [664, 677, 679, 681]\n",
      "2021-06-26 00:21:05,700 - htmd.builder.builder - WARNING - Found cis peptide bond in 1 frames: [0] in the omega diheral \"Angle of (HSD 187 CA P P) (HSD 187 C P P) (PRO 188 N P P) (PRO 188 CA P P) \" with indexes [2650, 2663, 2665, 2669]\n",
      "2021-06-26 00:21:05,701 - htmd.builder.builder - WARNING - Found cis peptide bond in 1 frames: [0] in the omega diheral \"Angle of (GLY 230 CA P P) (GLY 230 C P P) (ASP 231 N P P) (ASP 231 CA P P) \" with indexes [3366, 3369, 3371, 3373]\n",
      "2021-06-26 00:21:06,987 - htmd.protocols.production_v6 - WARNING - Lipids detected in input structure. We highly recommend setting useconstantratio=True for membrane simulations.\n",
      "2021-06-26 00:21:07,374 - jobqueues.slurmqueue - INFO - Queueing /gpcr/users/daranda/doctorat/GPCR_simulations/simulation_output/production/6J20_apo/rep_2/\n"
     ]
    },
    {
     "name": "stdout",
     "output_type": "stream",
     "text": [
      "submitting replicate 3 of 6J20\n"
     ]
    },
    {
     "name": "stderr",
     "output_type": "stream",
     "text": [
      "2021-06-26 00:21:43,980 - htmd.builder.builder - WARNING - Found cis peptide bond in 1 frames: [0] in the omega diheral \"Angle of (MET 63 CA P P) (MET 63 C P P) (ARG 64 N P P) (ARG 64 CA P P) \" with indexes [664, 677, 679, 681]\n",
      "2021-06-26 00:21:43,983 - htmd.builder.builder - WARNING - Found cis peptide bond in 1 frames: [0] in the omega diheral \"Angle of (HSD 187 CA P P) (HSD 187 C P P) (PRO 188 N P P) (PRO 188 CA P P) \" with indexes [2650, 2663, 2665, 2669]\n",
      "2021-06-26 00:21:43,984 - htmd.builder.builder - WARNING - Found cis peptide bond in 1 frames: [0] in the omega diheral \"Angle of (GLY 230 CA P P) (GLY 230 C P P) (ASP 231 N P P) (ASP 231 CA P P) \" with indexes [3366, 3369, 3371, 3373]\n",
      "2021-06-26 00:21:45,281 - htmd.protocols.production_v6 - WARNING - Lipids detected in input structure. We highly recommend setting useconstantratio=True for membrane simulations.\n",
      "2021-06-26 00:21:45,708 - jobqueues.slurmqueue - INFO - Queueing /gpcr/users/daranda/doctorat/GPCR_simulations/simulation_output/production/6J20_apo/rep_3/\n"
     ]
    },
    {
     "name": "stdout",
     "output_type": "stream",
     "text": [
      "submitting replicate 1 of 6J20\n"
     ]
    },
    {
     "name": "stderr",
     "output_type": "stream",
     "text": [
      "2021-06-26 00:22:21,074 - htmd.builder.builder - WARNING - Found cis peptide bond in 1 frames: [0] in the omega diheral \"Angle of (MET 63 CA P P) (MET 63 C P P) (ARG 64 N P P) (ARG 64 CA P P) \" with indexes [665, 678, 680, 682]\n",
      "2021-06-26 00:22:21,076 - htmd.builder.builder - WARNING - Found cis peptide bond in 1 frames: [0] in the omega diheral \"Angle of (HSD 187 CA P P) (HSD 187 C P P) (PRO 188 N P P) (PRO 188 CA P P) \" with indexes [2651, 2664, 2666, 2670]\n",
      "2021-06-26 00:22:21,078 - htmd.builder.builder - WARNING - Found cis peptide bond in 1 frames: [0] in the omega diheral \"Angle of (GLY 230 CA P P) (GLY 230 C P P) (ASP 231 N P P) (ASP 231 CA P P) \" with indexes [3367, 3370, 3372, 3374]\n",
      "2021-06-26 00:22:22,374 - htmd.protocols.production_v6 - WARNING - Lipids detected in input structure. We highly recommend setting useconstantratio=True for membrane simulations.\n",
      "2021-06-26 00:22:23,708 - jobqueues.slurmqueue - INFO - Queueing /gpcr/users/daranda/doctorat/GPCR_simulations/simulation_output/production/6J20/rep_1/\n"
     ]
    },
    {
     "name": "stdout",
     "output_type": "stream",
     "text": [
      "submitting replicate 2 of 6J20\n"
     ]
    },
    {
     "name": "stderr",
     "output_type": "stream",
     "text": [
      "2021-06-26 00:23:00,147 - htmd.builder.builder - WARNING - Found cis peptide bond in 1 frames: [0] in the omega diheral \"Angle of (MET 63 CA P P) (MET 63 C P P) (ARG 64 N P P) (ARG 64 CA P P) \" with indexes [665, 678, 680, 682]\n",
      "2021-06-26 00:23:00,149 - htmd.builder.builder - WARNING - Found cis peptide bond in 1 frames: [0] in the omega diheral \"Angle of (HSD 187 CA P P) (HSD 187 C P P) (PRO 188 N P P) (PRO 188 CA P P) \" with indexes [2651, 2664, 2666, 2670]\n",
      "2021-06-26 00:23:00,150 - htmd.builder.builder - WARNING - Found cis peptide bond in 1 frames: [0] in the omega diheral \"Angle of (GLY 230 CA P P) (GLY 230 C P P) (ASP 231 N P P) (ASP 231 CA P P) \" with indexes [3367, 3370, 3372, 3374]\n",
      "2021-06-26 00:23:01,442 - htmd.protocols.production_v6 - WARNING - Lipids detected in input structure. We highly recommend setting useconstantratio=True for membrane simulations.\n",
      "2021-06-26 00:23:02,918 - jobqueues.slurmqueue - INFO - Queueing /gpcr/users/daranda/doctorat/GPCR_simulations/simulation_output/production/6J20/rep_2/\n"
     ]
    },
    {
     "name": "stdout",
     "output_type": "stream",
     "text": [
      "submitting replicate 3 of 6J20\n"
     ]
    },
    {
     "name": "stderr",
     "output_type": "stream",
     "text": [
      "2021-06-26 00:23:37,688 - htmd.builder.builder - WARNING - Found cis peptide bond in 1 frames: [0] in the omega diheral \"Angle of (MET 63 CA P P) (MET 63 C P P) (ARG 64 N P P) (ARG 64 CA P P) \" with indexes [665, 678, 680, 682]\n",
      "2021-06-26 00:23:37,690 - htmd.builder.builder - WARNING - Found cis peptide bond in 1 frames: [0] in the omega diheral \"Angle of (HSD 187 CA P P) (HSD 187 C P P) (PRO 188 N P P) (PRO 188 CA P P) \" with indexes [2651, 2664, 2666, 2670]\n",
      "2021-06-26 00:23:37,692 - htmd.builder.builder - WARNING - Found cis peptide bond in 1 frames: [0] in the omega diheral \"Angle of (GLY 230 CA P P) (GLY 230 C P P) (ASP 231 N P P) (ASP 231 CA P P) \" with indexes [3367, 3370, 3372, 3374]\n",
      "2021-06-26 00:23:38,983 - htmd.protocols.production_v6 - WARNING - Lipids detected in input structure. We highly recommend setting useconstantratio=True for membrane simulations.\n",
      "2021-06-26 00:23:39,616 - jobqueues.slurmqueue - INFO - Queueing /gpcr/users/daranda/doctorat/GPCR_simulations/simulation_output/production/6J20/rep_3/\n"
     ]
    },
    {
     "name": "stdout",
     "output_type": "stream",
     "text": [
      "submitting replicate 1 of 4JKV\n"
     ]
    },
    {
     "name": "stderr",
     "output_type": "stream",
     "text": [
      "2021-06-26 00:24:24,433 - htmd.builder.builder - WARNING - Found cis peptide bond in 1 frames: [0] in the omega diheral \"Angle of (VAL 195 CA P P) (VAL 195 C P P) (PRO 196 N P P) (PRO 196 CA P P) \" with indexes [68, 80, 82, 86]\n",
      "2021-06-26 00:24:24,435 - htmd.builder.builder - WARNING - Found cis peptide bond in 1 frames: [0] in the omega diheral \"Angle of (TYR 262 CA P P) (TYR 262 C P P) (PRO 263 N P P) (PRO 263 CA P P) \" with indexes [1089, 1106, 1108, 1112]\n",
      "2021-06-26 00:24:24,437 - htmd.builder.builder - WARNING - Found cis peptide bond in 1 frames: [0] in the omega diheral \"Angle of (GLU 305 CA P P) (GLU 305 C P P) (PRO 306 N P P) (PRO 306 CA P P) \" with indexes [1758, 1769, 1771, 1775]\n",
      "2021-06-26 00:24:26,006 - htmd.protocols.production_v6 - WARNING - Lipids detected in input structure. We highly recommend setting useconstantratio=True for membrane simulations.\n",
      "2021-06-26 00:24:27,051 - jobqueues.slurmqueue - INFO - Queueing /gpcr/users/daranda/doctorat/GPCR_simulations/simulation_output/production/4JKV_apo/rep_1/\n"
     ]
    },
    {
     "name": "stdout",
     "output_type": "stream",
     "text": [
      "submitting replicate 2 of 4JKV\n"
     ]
    },
    {
     "name": "stderr",
     "output_type": "stream",
     "text": [
      "2021-06-26 00:25:15,549 - htmd.builder.builder - WARNING - Found cis peptide bond in 1 frames: [0] in the omega diheral \"Angle of (VAL 195 CA P P) (VAL 195 C P P) (PRO 196 N P P) (PRO 196 CA P P) \" with indexes [68, 80, 82, 86]\n",
      "2021-06-26 00:25:15,552 - htmd.builder.builder - WARNING - Found cis peptide bond in 1 frames: [0] in the omega diheral \"Angle of (TYR 262 CA P P) (TYR 262 C P P) (PRO 263 N P P) (PRO 263 CA P P) \" with indexes [1089, 1106, 1108, 1112]\n",
      "2021-06-26 00:25:15,554 - htmd.builder.builder - WARNING - Found cis peptide bond in 1 frames: [0] in the omega diheral \"Angle of (GLU 305 CA P P) (GLU 305 C P P) (PRO 306 N P P) (PRO 306 CA P P) \" with indexes [1758, 1769, 1771, 1775]\n",
      "2021-06-26 00:25:17,134 - htmd.protocols.production_v6 - WARNING - Lipids detected in input structure. We highly recommend setting useconstantratio=True for membrane simulations.\n",
      "2021-06-26 00:25:17,778 - jobqueues.slurmqueue - INFO - Queueing /gpcr/users/daranda/doctorat/GPCR_simulations/simulation_output/production/4JKV_apo/rep_2/\n"
     ]
    },
    {
     "name": "stdout",
     "output_type": "stream",
     "text": [
      "submitting replicate 3 of 4JKV\n"
     ]
    },
    {
     "name": "stderr",
     "output_type": "stream",
     "text": [
      "2021-06-26 00:26:03,616 - htmd.builder.builder - WARNING - Found cis peptide bond in 1 frames: [0] in the omega diheral \"Angle of (VAL 195 CA P P) (VAL 195 C P P) (PRO 196 N P P) (PRO 196 CA P P) \" with indexes [68, 80, 82, 86]\n",
      "2021-06-26 00:26:03,618 - htmd.builder.builder - WARNING - Found cis peptide bond in 1 frames: [0] in the omega diheral \"Angle of (TYR 262 CA P P) (TYR 262 C P P) (PRO 263 N P P) (PRO 263 CA P P) \" with indexes [1089, 1106, 1108, 1112]\n",
      "2021-06-26 00:26:03,621 - htmd.builder.builder - WARNING - Found cis peptide bond in 1 frames: [0] in the omega diheral \"Angle of (GLU 305 CA P P) (GLU 305 C P P) (PRO 306 N P P) (PRO 306 CA P P) \" with indexes [1758, 1769, 1771, 1775]\n",
      "2021-06-26 00:26:05,205 - htmd.protocols.production_v6 - WARNING - Lipids detected in input structure. We highly recommend setting useconstantratio=True for membrane simulations.\n",
      "2021-06-26 00:26:06,547 - jobqueues.slurmqueue - INFO - Queueing /gpcr/users/daranda/doctorat/GPCR_simulations/simulation_output/production/4JKV_apo/rep_3/\n"
     ]
    },
    {
     "name": "stdout",
     "output_type": "stream",
     "text": [
      "submitting replicate 1 of 4JKV\n"
     ]
    },
    {
     "name": "stderr",
     "output_type": "stream",
     "text": [
      "2021-06-26 00:26:52,000 - htmd.builder.builder - WARNING - Found cis peptide bond in 1 frames: [0] in the omega diheral \"Angle of (VAL 195 CA P P) (VAL 195 C P P) (PRO 196 N P P) (PRO 196 CA P P) \" with indexes [68, 80, 82, 86]\n",
      "2021-06-26 00:26:52,003 - htmd.builder.builder - WARNING - Found cis peptide bond in 1 frames: [0] in the omega diheral \"Angle of (TYR 262 CA P P) (TYR 262 C P P) (PRO 263 N P P) (PRO 263 CA P P) \" with indexes [1089, 1106, 1108, 1112]\n",
      "2021-06-26 00:26:52,004 - htmd.builder.builder - WARNING - Found cis peptide bond in 1 frames: [0] in the omega diheral \"Angle of (GLU 305 CA P P) (GLU 305 C P P) (PRO 306 N P P) (PRO 306 CA P P) \" with indexes [1758, 1769, 1771, 1775]\n",
      "2021-06-26 00:26:53,570 - htmd.protocols.production_v6 - WARNING - Lipids detected in input structure. We highly recommend setting useconstantratio=True for membrane simulations.\n",
      "2021-06-26 00:26:55,253 - jobqueues.slurmqueue - INFO - Queueing /gpcr/users/daranda/doctorat/GPCR_simulations/simulation_output/production/4JKV/rep_1/\n"
     ]
    },
    {
     "name": "stdout",
     "output_type": "stream",
     "text": [
      "submitting replicate 2 of 4JKV\n"
     ]
    },
    {
     "name": "stderr",
     "output_type": "stream",
     "text": [
      "2021-06-26 00:27:41,684 - htmd.builder.builder - WARNING - Found cis peptide bond in 1 frames: [0] in the omega diheral \"Angle of (VAL 195 CA P P) (VAL 195 C P P) (PRO 196 N P P) (PRO 196 CA P P) \" with indexes [68, 80, 82, 86]\n",
      "2021-06-26 00:27:41,686 - htmd.builder.builder - WARNING - Found cis peptide bond in 1 frames: [0] in the omega diheral \"Angle of (TYR 262 CA P P) (TYR 262 C P P) (PRO 263 N P P) (PRO 263 CA P P) \" with indexes [1089, 1106, 1108, 1112]\n",
      "2021-06-26 00:27:41,688 - htmd.builder.builder - WARNING - Found cis peptide bond in 1 frames: [0] in the omega diheral \"Angle of (GLU 305 CA P P) (GLU 305 C P P) (PRO 306 N P P) (PRO 306 CA P P) \" with indexes [1758, 1769, 1771, 1775]\n",
      "2021-06-26 00:27:43,266 - htmd.protocols.production_v6 - WARNING - Lipids detected in input structure. We highly recommend setting useconstantratio=True for membrane simulations.\n",
      "2021-06-26 00:27:43,966 - jobqueues.slurmqueue - INFO - Queueing /gpcr/users/daranda/doctorat/GPCR_simulations/simulation_output/production/4JKV/rep_2/\n"
     ]
    },
    {
     "name": "stdout",
     "output_type": "stream",
     "text": [
      "submitting replicate 3 of 4JKV\n"
     ]
    },
    {
     "name": "stderr",
     "output_type": "stream",
     "text": [
      "2021-06-26 00:28:28,899 - htmd.builder.builder - WARNING - Found cis peptide bond in 1 frames: [0] in the omega diheral \"Angle of (VAL 195 CA P P) (VAL 195 C P P) (PRO 196 N P P) (PRO 196 CA P P) \" with indexes [68, 80, 82, 86]\n",
      "2021-06-26 00:28:28,901 - htmd.builder.builder - WARNING - Found cis peptide bond in 1 frames: [0] in the omega diheral \"Angle of (TYR 262 CA P P) (TYR 262 C P P) (PRO 263 N P P) (PRO 263 CA P P) \" with indexes [1089, 1106, 1108, 1112]\n",
      "2021-06-26 00:28:28,902 - htmd.builder.builder - WARNING - Found cis peptide bond in 1 frames: [0] in the omega diheral \"Angle of (GLU 305 CA P P) (GLU 305 C P P) (PRO 306 N P P) (PRO 306 CA P P) \" with indexes [1758, 1769, 1771, 1775]\n",
      "2021-06-26 00:28:30,492 - htmd.protocols.production_v6 - WARNING - Lipids detected in input structure. We highly recommend setting useconstantratio=True for membrane simulations.\n",
      "2021-06-26 00:28:31,328 - jobqueues.slurmqueue - INFO - Queueing /gpcr/users/daranda/doctorat/GPCR_simulations/simulation_output/production/4JKV/rep_3/\n"
     ]
    },
    {
     "name": "stdout",
     "output_type": "stream",
     "text": [
      "submitting replicate 1 of 6ZDR\n"
     ]
    },
    {
     "name": "stderr",
     "output_type": "stream",
     "text": [
      "2021-06-26 00:29:11,794 - htmd.builder.builder - WARNING - Found cis peptide bond in 1 frames: [0] in the omega diheral \"Angle of (LEU 216 CA P P) (LEU 216 C P P) (PRO 217 N P P) (PRO 217 CA P P) \" with indexes [3337, 3352, 3354, 3358]\n",
      "2021-06-26 00:29:13,138 - htmd.protocols.production_v6 - WARNING - Lipids detected in input structure. We highly recommend setting useconstantratio=True for membrane simulations.\n",
      "2021-06-26 00:29:14,924 - jobqueues.slurmqueue - INFO - Queueing /gpcr/users/daranda/doctorat/GPCR_simulations/simulation_output/production/6ZDR_apo/rep_1/\n"
     ]
    },
    {
     "name": "stdout",
     "output_type": "stream",
     "text": [
      "submitting replicate 2 of 6ZDR\n"
     ]
    },
    {
     "name": "stderr",
     "output_type": "stream",
     "text": [
      "2021-06-26 00:29:57,603 - htmd.builder.builder - WARNING - Found cis peptide bond in 1 frames: [0] in the omega diheral \"Angle of (LEU 216 CA P P) (LEU 216 C P P) (PRO 217 N P P) (PRO 217 CA P P) \" with indexes [3337, 3352, 3354, 3358]\n",
      "2021-06-26 00:29:59,090 - htmd.protocols.production_v6 - WARNING - Lipids detected in input structure. We highly recommend setting useconstantratio=True for membrane simulations.\n",
      "2021-06-26 00:29:59,702 - jobqueues.slurmqueue - INFO - Queueing /gpcr/users/daranda/doctorat/GPCR_simulations/simulation_output/production/6ZDR_apo/rep_2/\n"
     ]
    },
    {
     "name": "stdout",
     "output_type": "stream",
     "text": [
      "submitting replicate 3 of 6ZDR\n"
     ]
    },
    {
     "name": "stderr",
     "output_type": "stream",
     "text": [
      "2021-06-26 00:30:42,596 - htmd.builder.builder - WARNING - Found cis peptide bond in 1 frames: [0] in the omega diheral \"Angle of (LEU 216 CA P P) (LEU 216 C P P) (PRO 217 N P P) (PRO 217 CA P P) \" with indexes [3337, 3352, 3354, 3358]\n",
      "2021-06-26 00:30:44,074 - htmd.protocols.production_v6 - WARNING - Lipids detected in input structure. We highly recommend setting useconstantratio=True for membrane simulations.\n",
      "2021-06-26 00:30:44,677 - jobqueues.slurmqueue - INFO - Queueing /gpcr/users/daranda/doctorat/GPCR_simulations/simulation_output/production/6ZDR_apo/rep_3/\n"
     ]
    },
    {
     "name": "stdout",
     "output_type": "stream",
     "text": [
      "submitting replicate 1 of 6ZDR\n"
     ]
    },
    {
     "name": "stderr",
     "output_type": "stream",
     "text": [
      "2021-06-26 00:31:26,436 - htmd.builder.builder - WARNING - Found cis peptide bond in 1 frames: [0] in the omega diheral \"Angle of (LEU 216 CA P P) (LEU 216 C P P) (PRO 217 N P P) (PRO 217 CA P P) \" with indexes [3527, 3542, 3544, 3548]\n",
      "2021-06-26 00:31:27,925 - htmd.protocols.production_v6 - WARNING - Lipids detected in input structure. We highly recommend setting useconstantratio=True for membrane simulations.\n",
      "2021-06-26 00:31:29,463 - jobqueues.slurmqueue - INFO - Queueing /gpcr/users/daranda/doctorat/GPCR_simulations/simulation_output/production/6ZDR/rep_1/\n"
     ]
    },
    {
     "name": "stdout",
     "output_type": "stream",
     "text": [
      "submitting replicate 2 of 6ZDR\n"
     ]
    },
    {
     "name": "stderr",
     "output_type": "stream",
     "text": [
      "2021-06-26 00:32:12,338 - htmd.builder.builder - WARNING - Found cis peptide bond in 1 frames: [0] in the omega diheral \"Angle of (LEU 216 CA P P) (LEU 216 C P P) (PRO 217 N P P) (PRO 217 CA P P) \" with indexes [3527, 3542, 3544, 3548]\n",
      "2021-06-26 00:32:13,818 - htmd.protocols.production_v6 - WARNING - Lipids detected in input structure. We highly recommend setting useconstantratio=True for membrane simulations.\n",
      "2021-06-26 00:32:14,851 - jobqueues.slurmqueue - INFO - Queueing /gpcr/users/daranda/doctorat/GPCR_simulations/simulation_output/production/6ZDR/rep_2/\n"
     ]
    },
    {
     "name": "stdout",
     "output_type": "stream",
     "text": [
      "submitting replicate 3 of 6ZDR\n"
     ]
    },
    {
     "name": "stderr",
     "output_type": "stream",
     "text": [
      "2021-06-26 00:32:55,594 - htmd.builder.builder - WARNING - Found cis peptide bond in 1 frames: [0] in the omega diheral \"Angle of (LEU 216 CA P P) (LEU 216 C P P) (PRO 217 N P P) (PRO 217 CA P P) \" with indexes [3527, 3542, 3544, 3548]\n",
      "2021-06-26 00:32:57,068 - htmd.protocols.production_v6 - WARNING - Lipids detected in input structure. We highly recommend setting useconstantratio=True for membrane simulations.\n",
      "2021-06-26 00:32:58,496 - jobqueues.slurmqueue - INFO - Queueing /gpcr/users/daranda/doctorat/GPCR_simulations/simulation_output/production/6ZDR/rep_3/\n"
     ]
    },
    {
     "name": "stdout",
     "output_type": "stream",
     "text": [
      "submitting replicate 1 of 5ZKB\n"
     ]
    },
    {
     "name": "stderr",
     "output_type": "stream",
     "text": [
      "2021-06-26 00:33:14,049 - moleculekit.readers - WARNING - Non-integer values were read from the PDB \"serial\" field. Dropping PDB values and assigning new ones.\n",
      "2021-06-26 00:33:14,189 - moleculekit.readers - WARNING - Reading PDB file with more than 99999 atoms. Bond information can be wrong.\n",
      "2021-06-26 00:33:46,774 - htmd.protocols.production_v6 - WARNING - Lipids detected in input structure. We highly recommend setting useconstantratio=True for membrane simulations.\n",
      "2021-06-26 00:33:48,458 - jobqueues.slurmqueue - INFO - Queueing /gpcr/users/daranda/doctorat/GPCR_simulations/simulation_output/production/5ZKB_apo/rep_1/\n"
     ]
    },
    {
     "name": "stdout",
     "output_type": "stream",
     "text": [
      "submitting replicate 2 of 5ZKB\n"
     ]
    },
    {
     "name": "stderr",
     "output_type": "stream",
     "text": [
      "2021-06-26 00:34:02,940 - moleculekit.readers - WARNING - Non-integer values were read from the PDB \"serial\" field. Dropping PDB values and assigning new ones.\n",
      "2021-06-26 00:34:03,084 - moleculekit.readers - WARNING - Reading PDB file with more than 99999 atoms. Bond information can be wrong.\n",
      "2021-06-26 00:34:40,731 - htmd.protocols.production_v6 - WARNING - Lipids detected in input structure. We highly recommend setting useconstantratio=True for membrane simulations.\n",
      "2021-06-26 00:34:42,092 - jobqueues.slurmqueue - INFO - Queueing /gpcr/users/daranda/doctorat/GPCR_simulations/simulation_output/production/5ZKB_apo/rep_2/\n"
     ]
    },
    {
     "name": "stdout",
     "output_type": "stream",
     "text": [
      "submitting replicate 3 of 5ZKB\n"
     ]
    },
    {
     "name": "stderr",
     "output_type": "stream",
     "text": [
      "2021-06-26 00:35:01,448 - moleculekit.readers - WARNING - Non-integer values were read from the PDB \"serial\" field. Dropping PDB values and assigning new ones.\n",
      "2021-06-26 00:35:01,593 - moleculekit.readers - WARNING - Reading PDB file with more than 99999 atoms. Bond information can be wrong.\n",
      "2021-06-26 00:35:37,459 - htmd.protocols.production_v6 - WARNING - Lipids detected in input structure. We highly recommend setting useconstantratio=True for membrane simulations.\n",
      "2021-06-26 00:35:38,536 - jobqueues.slurmqueue - INFO - Queueing /gpcr/users/daranda/doctorat/GPCR_simulations/simulation_output/production/5ZKB_apo/rep_3/\n"
     ]
    },
    {
     "name": "stdout",
     "output_type": "stream",
     "text": [
      "submitting replicate 1 of 5ZKB\n"
     ]
    },
    {
     "name": "stderr",
     "output_type": "stream",
     "text": [
      "2021-06-26 00:36:11,834 - htmd.protocols.production_v6 - WARNING - Lipids detected in input structure. We highly recommend setting useconstantratio=True for membrane simulations.\n",
      "2021-06-26 00:36:12,766 - jobqueues.slurmqueue - INFO - Queueing /gpcr/users/daranda/doctorat/GPCR_simulations/simulation_output/production/5ZKB/rep_1/\n"
     ]
    },
    {
     "name": "stdout",
     "output_type": "stream",
     "text": [
      "submitting replicate 2 of 5ZKB\n"
     ]
    },
    {
     "name": "stderr",
     "output_type": "stream",
     "text": [
      "2021-06-26 00:36:48,493 - htmd.protocols.production_v6 - WARNING - Lipids detected in input structure. We highly recommend setting useconstantratio=True for membrane simulations.\n",
      "2021-06-26 00:36:48,997 - jobqueues.slurmqueue - INFO - Queueing /gpcr/users/daranda/doctorat/GPCR_simulations/simulation_output/production/5ZKB/rep_2/\n"
     ]
    },
    {
     "name": "stdout",
     "output_type": "stream",
     "text": [
      "submitting replicate 3 of 5ZKB\n"
     ]
    },
    {
     "name": "stderr",
     "output_type": "stream",
     "text": [
      "2021-06-26 00:37:21,860 - htmd.protocols.production_v6 - WARNING - Lipids detected in input structure. We highly recommend setting useconstantratio=True for membrane simulations.\n",
      "2021-06-26 00:37:22,338 - jobqueues.slurmqueue - INFO - Queueing /gpcr/users/daranda/doctorat/GPCR_simulations/simulation_output/production/5ZKB/rep_3/\n"
     ]
    },
    {
     "name": "stdout",
     "output_type": "stream",
     "text": [
      "submitting replicate 1 of 5NM4\n"
     ]
    },
    {
     "name": "stderr",
     "output_type": "stream",
     "text": [
      "2021-06-26 00:38:02,913 - htmd.builder.builder - WARNING - Found cis peptide bond in 1 frames: [0] in the omega diheral \"Angle of (LEU 216 CA P P) (LEU 216 C P P) (PRO 217 N P P) (PRO 217 CA P P) \" with indexes [3337, 3352, 3354, 3358]\n",
      "2021-06-26 00:38:02,915 - htmd.builder.builder - WARNING - Found cis peptide bond in 1 frames: [0] in the omega diheral \"Angle of (PRO 217 CA P P) (PRO 217 C P P) (GLY 218 N P P) (GLY 218 CA P P) \" with indexes [3358, 3366, 3368, 3370]\n",
      "2021-06-26 00:38:04,263 - htmd.protocols.production_v6 - WARNING - Lipids detected in input structure. We highly recommend setting useconstantratio=True for membrane simulations.\n",
      "2021-06-26 00:38:05,200 - jobqueues.slurmqueue - INFO - Queueing /gpcr/users/daranda/doctorat/GPCR_simulations/simulation_output/production/5NM4_apo/rep_1/\n"
     ]
    },
    {
     "name": "stdout",
     "output_type": "stream",
     "text": [
      "submitting replicate 2 of 5NM4\n"
     ]
    },
    {
     "name": "stderr",
     "output_type": "stream",
     "text": [
      "2021-06-26 00:38:44,475 - htmd.builder.builder - WARNING - Found cis peptide bond in 1 frames: [0] in the omega diheral \"Angle of (LEU 216 CA P P) (LEU 216 C P P) (PRO 217 N P P) (PRO 217 CA P P) \" with indexes [3337, 3352, 3354, 3358]\n",
      "2021-06-26 00:38:44,477 - htmd.builder.builder - WARNING - Found cis peptide bond in 1 frames: [0] in the omega diheral \"Angle of (PRO 217 CA P P) (PRO 217 C P P) (GLY 218 N P P) (GLY 218 CA P P) \" with indexes [3358, 3366, 3368, 3370]\n",
      "2021-06-26 00:38:45,820 - htmd.protocols.production_v6 - WARNING - Lipids detected in input structure. We highly recommend setting useconstantratio=True for membrane simulations.\n",
      "2021-06-26 00:38:46,302 - jobqueues.slurmqueue - INFO - Queueing /gpcr/users/daranda/doctorat/GPCR_simulations/simulation_output/production/5NM4_apo/rep_2/\n"
     ]
    },
    {
     "name": "stdout",
     "output_type": "stream",
     "text": [
      "submitting replicate 3 of 5NM4\n"
     ]
    },
    {
     "name": "stderr",
     "output_type": "stream",
     "text": [
      "2021-06-26 00:39:23,383 - htmd.builder.builder - WARNING - Found cis peptide bond in 1 frames: [0] in the omega diheral \"Angle of (LEU 216 CA P P) (LEU 216 C P P) (PRO 217 N P P) (PRO 217 CA P P) \" with indexes [3337, 3352, 3354, 3358]\n",
      "2021-06-26 00:39:23,385 - htmd.builder.builder - WARNING - Found cis peptide bond in 1 frames: [0] in the omega diheral \"Angle of (PRO 217 CA P P) (PRO 217 C P P) (GLY 218 N P P) (GLY 218 CA P P) \" with indexes [3358, 3366, 3368, 3370]\n",
      "2021-06-26 00:39:24,719 - htmd.protocols.production_v6 - WARNING - Lipids detected in input structure. We highly recommend setting useconstantratio=True for membrane simulations.\n",
      "2021-06-26 00:39:25,215 - jobqueues.slurmqueue - INFO - Queueing /gpcr/users/daranda/doctorat/GPCR_simulations/simulation_output/production/5NM4_apo/rep_3/\n"
     ]
    },
    {
     "name": "stdout",
     "output_type": "stream",
     "text": [
      "submitting replicate 1 of 5NM4\n"
     ]
    },
    {
     "name": "stderr",
     "output_type": "stream",
     "text": [
      "2021-06-26 00:40:07,558 - htmd.builder.builder - WARNING - Found cis peptide bond in 1 frames: [0] in the omega diheral \"Angle of (LEU 216 CA P P) (LEU 216 C P P) (PRO 217 N P P) (PRO 217 CA P P) \" with indexes [3526, 3541, 3543, 3547]\n",
      "2021-06-26 00:40:07,561 - htmd.builder.builder - WARNING - Found cis peptide bond in 1 frames: [0] in the omega diheral \"Angle of (PRO 217 CA P P) (PRO 217 C P P) (GLY 218 N P P) (GLY 218 CA P P) \" with indexes [3547, 3555, 3557, 3559]\n",
      "2021-06-26 00:40:08,899 - htmd.protocols.production_v6 - WARNING - Lipids detected in input structure. We highly recommend setting useconstantratio=True for membrane simulations.\n",
      "2021-06-26 00:40:09,874 - jobqueues.slurmqueue - INFO - Queueing /gpcr/users/daranda/doctorat/GPCR_simulations/simulation_output/production/5NM4/rep_1/\n"
     ]
    },
    {
     "name": "stdout",
     "output_type": "stream",
     "text": [
      "submitting replicate 2 of 5NM4\n"
     ]
    },
    {
     "name": "stderr",
     "output_type": "stream",
     "text": [
      "2021-06-26 00:40:46,037 - htmd.builder.builder - WARNING - Found cis peptide bond in 1 frames: [0] in the omega diheral \"Angle of (LEU 216 CA P P) (LEU 216 C P P) (PRO 217 N P P) (PRO 217 CA P P) \" with indexes [3526, 3541, 3543, 3547]\n",
      "2021-06-26 00:40:46,039 - htmd.builder.builder - WARNING - Found cis peptide bond in 1 frames: [0] in the omega diheral \"Angle of (PRO 217 CA P P) (PRO 217 C P P) (GLY 218 N P P) (GLY 218 CA P P) \" with indexes [3547, 3555, 3557, 3559]\n",
      "2021-06-26 00:40:47,387 - htmd.protocols.production_v6 - WARNING - Lipids detected in input structure. We highly recommend setting useconstantratio=True for membrane simulations.\n",
      "2021-06-26 00:40:47,920 - jobqueues.slurmqueue - INFO - Queueing /gpcr/users/daranda/doctorat/GPCR_simulations/simulation_output/production/5NM4/rep_2/\n"
     ]
    },
    {
     "name": "stdout",
     "output_type": "stream",
     "text": [
      "submitting replicate 3 of 5NM4\n"
     ]
    },
    {
     "name": "stderr",
     "output_type": "stream",
     "text": [
      "2021-06-26 00:41:25,494 - htmd.builder.builder - WARNING - Found cis peptide bond in 1 frames: [0] in the omega diheral \"Angle of (LEU 216 CA P P) (LEU 216 C P P) (PRO 217 N P P) (PRO 217 CA P P) \" with indexes [3526, 3541, 3543, 3547]\n",
      "2021-06-26 00:41:25,496 - htmd.builder.builder - WARNING - Found cis peptide bond in 1 frames: [0] in the omega diheral \"Angle of (PRO 217 CA P P) (PRO 217 C P P) (GLY 218 N P P) (GLY 218 CA P P) \" with indexes [3547, 3555, 3557, 3559]\n",
      "2021-06-26 00:41:26,844 - htmd.protocols.production_v6 - WARNING - Lipids detected in input structure. We highly recommend setting useconstantratio=True for membrane simulations.\n",
      "2021-06-26 00:41:27,467 - jobqueues.slurmqueue - INFO - Queueing /gpcr/users/daranda/doctorat/GPCR_simulations/simulation_output/production/5NM4/rep_3/\n"
     ]
    },
    {
     "name": "stdout",
     "output_type": "stream",
     "text": [
      "submitting replicate 1 of 6TPG\n"
     ]
    },
    {
     "name": "stderr",
     "output_type": "stream",
     "text": [
      "2021-06-26 00:42:09,941 - htmd.builder.builder - WARNING - Found cis peptide bond in 1 frames: [0] in the omega diheral \"Angle of (PRO 198 CA P0 P) (PRO 198 C P0 P) (GLY 199 N P0 P) (GLY 199 CA P0 P) \" with indexes [2661, 2669, 2671, 2673]\n",
      "2021-06-26 00:42:11,425 - htmd.protocols.production_v6 - WARNING - Lipids detected in input structure. We highly recommend setting useconstantratio=True for membrane simulations.\n",
      "2021-06-26 00:42:12,586 - jobqueues.slurmqueue - INFO - Queueing /gpcr/users/daranda/doctorat/GPCR_simulations/simulation_output/production/6TPG_apo/rep_1/\n"
     ]
    },
    {
     "name": "stdout",
     "output_type": "stream",
     "text": [
      "submitting replicate 2 of 6TPG\n"
     ]
    },
    {
     "name": "stderr",
     "output_type": "stream",
     "text": [
      "2021-06-26 00:42:53,658 - htmd.builder.builder - WARNING - Found cis peptide bond in 1 frames: [0] in the omega diheral \"Angle of (PRO 198 CA P0 P) (PRO 198 C P0 P) (GLY 199 N P0 P) (GLY 199 CA P0 P) \" with indexes [2661, 2669, 2671, 2673]\n",
      "2021-06-26 00:42:55,142 - htmd.protocols.production_v6 - WARNING - Lipids detected in input structure. We highly recommend setting useconstantratio=True for membrane simulations.\n",
      "2021-06-26 00:42:55,988 - jobqueues.slurmqueue - INFO - Queueing /gpcr/users/daranda/doctorat/GPCR_simulations/simulation_output/production/6TPG_apo/rep_2/\n"
     ]
    },
    {
     "name": "stdout",
     "output_type": "stream",
     "text": [
      "submitting replicate 3 of 6TPG\n"
     ]
    },
    {
     "name": "stderr",
     "output_type": "stream",
     "text": [
      "2021-06-26 00:43:35,273 - htmd.builder.builder - WARNING - Found cis peptide bond in 1 frames: [0] in the omega diheral \"Angle of (PRO 198 CA P0 P) (PRO 198 C P0 P) (GLY 199 N P0 P) (GLY 199 CA P0 P) \" with indexes [2661, 2669, 2671, 2673]\n",
      "2021-06-26 00:43:36,613 - htmd.protocols.production_v6 - WARNING - Lipids detected in input structure. We highly recommend setting useconstantratio=True for membrane simulations.\n",
      "2021-06-26 00:43:37,072 - jobqueues.slurmqueue - INFO - Queueing /gpcr/users/daranda/doctorat/GPCR_simulations/simulation_output/production/6TPG_apo/rep_3/\n"
     ]
    },
    {
     "name": "stdout",
     "output_type": "stream",
     "text": [
      "submitting replicate 1 of 6TPG\n"
     ]
    },
    {
     "name": "stderr",
     "output_type": "stream",
     "text": [
      "2021-06-26 00:44:18,792 - htmd.builder.builder - WARNING - Found cis peptide bond in 1 frames: [0] in the omega diheral \"Angle of (PRO 198 CA P0 P) (PRO 198 C P0 P) (GLY 199 N P0 P) (GLY 199 CA P0 P) \" with indexes [2661, 2669, 2671, 2673]\n",
      "2021-06-26 00:44:20,274 - htmd.protocols.production_v6 - WARNING - Lipids detected in input structure. We highly recommend setting useconstantratio=True for membrane simulations.\n",
      "2021-06-26 00:44:21,456 - jobqueues.slurmqueue - INFO - Queueing /gpcr/users/daranda/doctorat/GPCR_simulations/simulation_output/production/6TPG/rep_1/\n"
     ]
    },
    {
     "name": "stdout",
     "output_type": "stream",
     "text": [
      "submitting replicate 2 of 6TPG\n"
     ]
    },
    {
     "name": "stderr",
     "output_type": "stream",
     "text": [
      "2021-06-26 00:45:01,384 - htmd.builder.builder - WARNING - Found cis peptide bond in 1 frames: [0] in the omega diheral \"Angle of (PRO 198 CA P0 P) (PRO 198 C P0 P) (GLY 199 N P0 P) (GLY 199 CA P0 P) \" with indexes [2661, 2669, 2671, 2673]\n",
      "2021-06-26 00:45:02,860 - htmd.protocols.production_v6 - WARNING - Lipids detected in input structure. We highly recommend setting useconstantratio=True for membrane simulations.\n",
      "2021-06-26 00:45:03,490 - jobqueues.slurmqueue - INFO - Queueing /gpcr/users/daranda/doctorat/GPCR_simulations/simulation_output/production/6TPG/rep_2/\n"
     ]
    },
    {
     "name": "stdout",
     "output_type": "stream",
     "text": [
      "submitting replicate 3 of 6TPG\n"
     ]
    },
    {
     "name": "stderr",
     "output_type": "stream",
     "text": [
      "2021-06-26 00:45:43,862 - htmd.builder.builder - WARNING - Found cis peptide bond in 1 frames: [0] in the omega diheral \"Angle of (PRO 198 CA P0 P) (PRO 198 C P0 P) (GLY 199 N P0 P) (GLY 199 CA P0 P) \" with indexes [2661, 2669, 2671, 2673]\n",
      "2021-06-26 00:45:45,336 - htmd.protocols.production_v6 - WARNING - Lipids detected in input structure. We highly recommend setting useconstantratio=True for membrane simulations.\n",
      "2021-06-26 00:45:46,010 - jobqueues.slurmqueue - INFO - Queueing /gpcr/users/daranda/doctorat/GPCR_simulations/simulation_output/production/6TPG/rep_3/\n"
     ]
    },
    {
     "name": "stdout",
     "output_type": "stream",
     "text": [
      "submitting replicate 1 of 6JZH\n"
     ]
    },
    {
     "name": "stderr",
     "output_type": "stream",
     "text": [
      "2021-06-26 00:45:58,562 - moleculekit.readers - WARNING - Non-integer values were read from the PDB \"serial\" field. Dropping PDB values and assigning new ones.\n",
      "2021-06-26 00:45:58,708 - moleculekit.readers - WARNING - Reading PDB file with more than 99999 atoms. Bond information can be wrong.\n",
      "2021-06-26 00:46:32,100 - htmd.builder.builder - WARNING - Found cis peptide bond in 1 frames: [0] in the omega diheral \"Angle of (LEU 216 CA P P) (LEU 216 C P P) (PRO 217 N P P) (PRO 217 CA P P) \" with indexes [3337, 3352, 3354, 3358]\n",
      "2021-06-26 00:46:33,756 - htmd.protocols.production_v6 - WARNING - Lipids detected in input structure. We highly recommend setting useconstantratio=True for membrane simulations.\n",
      "2021-06-26 00:46:34,629 - jobqueues.slurmqueue - INFO - Queueing /gpcr/users/daranda/doctorat/GPCR_simulations/simulation_output/production/6JZH_apo/rep_1/\n"
     ]
    },
    {
     "name": "stdout",
     "output_type": "stream",
     "text": [
      "submitting replicate 2 of 6JZH\n"
     ]
    },
    {
     "name": "stderr",
     "output_type": "stream",
     "text": [
      "2021-06-26 00:46:46,034 - moleculekit.readers - WARNING - Non-integer values were read from the PDB \"serial\" field. Dropping PDB values and assigning new ones.\n",
      "2021-06-26 00:46:46,186 - moleculekit.readers - WARNING - Reading PDB file with more than 99999 atoms. Bond information can be wrong.\n",
      "2021-06-26 00:47:21,616 - htmd.builder.builder - WARNING - Found cis peptide bond in 1 frames: [0] in the omega diheral \"Angle of (LEU 216 CA P P) (LEU 216 C P P) (PRO 217 N P P) (PRO 217 CA P P) \" with indexes [3337, 3352, 3354, 3358]\n",
      "2021-06-26 00:47:23,282 - htmd.protocols.production_v6 - WARNING - Lipids detected in input structure. We highly recommend setting useconstantratio=True for membrane simulations.\n",
      "2021-06-26 00:47:23,781 - jobqueues.slurmqueue - INFO - Queueing /gpcr/users/daranda/doctorat/GPCR_simulations/simulation_output/production/6JZH_apo/rep_2/\n"
     ]
    },
    {
     "name": "stdout",
     "output_type": "stream",
     "text": [
      "submitting replicate 3 of 6JZH\n"
     ]
    },
    {
     "name": "stderr",
     "output_type": "stream",
     "text": [
      "2021-06-26 00:47:35,319 - moleculekit.readers - WARNING - Non-integer values were read from the PDB \"serial\" field. Dropping PDB values and assigning new ones.\n",
      "2021-06-26 00:47:35,467 - moleculekit.readers - WARNING - Reading PDB file with more than 99999 atoms. Bond information can be wrong.\n",
      "2021-06-26 00:48:13,173 - htmd.builder.builder - WARNING - Found cis peptide bond in 1 frames: [0] in the omega diheral \"Angle of (LEU 216 CA P P) (LEU 216 C P P) (PRO 217 N P P) (PRO 217 CA P P) \" with indexes [3337, 3352, 3354, 3358]\n",
      "2021-06-26 00:48:14,854 - htmd.protocols.production_v6 - WARNING - Lipids detected in input structure. We highly recommend setting useconstantratio=True for membrane simulations.\n",
      "2021-06-26 00:48:15,334 - jobqueues.slurmqueue - INFO - Queueing /gpcr/users/daranda/doctorat/GPCR_simulations/simulation_output/production/6JZH_apo/rep_3/\n"
     ]
    },
    {
     "name": "stdout",
     "output_type": "stream",
     "text": [
      "submitting replicate 1 of 6JZH\n"
     ]
    },
    {
     "name": "stderr",
     "output_type": "stream",
     "text": [
      "2021-06-26 00:48:29,162 - moleculekit.readers - WARNING - Non-integer values were read from the PDB \"serial\" field. Dropping PDB values and assigning new ones.\n",
      "2021-06-26 00:48:29,315 - moleculekit.readers - WARNING - Reading PDB file with more than 99999 atoms. Bond information can be wrong.\n",
      "2021-06-26 00:49:06,357 - htmd.builder.builder - WARNING - Found cis peptide bond in 1 frames: [0] in the omega diheral \"Angle of (LEU 216 CA P P) (LEU 216 C P P) (PRO 217 N P P) (PRO 217 CA P P) \" with indexes [3600, 3615, 3617, 3621]\n",
      "2021-06-26 00:49:07,885 - htmd.protocols.production_v6 - WARNING - Lipids detected in input structure. We highly recommend setting useconstantratio=True for membrane simulations.\n",
      "2021-06-26 00:49:08,873 - jobqueues.slurmqueue - INFO - Queueing /gpcr/users/daranda/doctorat/GPCR_simulations/simulation_output/production/6JZH/rep_1/\n"
     ]
    },
    {
     "name": "stdout",
     "output_type": "stream",
     "text": [
      "submitting replicate 2 of 6JZH\n"
     ]
    },
    {
     "name": "stderr",
     "output_type": "stream",
     "text": [
      "2021-06-26 00:49:21,296 - moleculekit.readers - WARNING - Non-integer values were read from the PDB \"serial\" field. Dropping PDB values and assigning new ones.\n",
      "2021-06-26 00:49:21,445 - moleculekit.readers - WARNING - Reading PDB file with more than 99999 atoms. Bond information can be wrong.\n",
      "2021-06-26 00:49:59,000 - htmd.builder.builder - WARNING - Found cis peptide bond in 1 frames: [0] in the omega diheral \"Angle of (LEU 216 CA P P) (LEU 216 C P P) (PRO 217 N P P) (PRO 217 CA P P) \" with indexes [3600, 3615, 3617, 3621]\n",
      "2021-06-26 00:50:00,681 - htmd.protocols.production_v6 - WARNING - Lipids detected in input structure. We highly recommend setting useconstantratio=True for membrane simulations.\n",
      "2021-06-26 00:50:01,293 - jobqueues.slurmqueue - INFO - Queueing /gpcr/users/daranda/doctorat/GPCR_simulations/simulation_output/production/6JZH/rep_2/\n"
     ]
    },
    {
     "name": "stdout",
     "output_type": "stream",
     "text": [
      "submitting replicate 3 of 6JZH\n"
     ]
    },
    {
     "name": "stderr",
     "output_type": "stream",
     "text": [
      "2021-06-26 00:50:14,403 - moleculekit.readers - WARNING - Non-integer values were read from the PDB \"serial\" field. Dropping PDB values and assigning new ones.\n",
      "2021-06-26 00:50:14,549 - moleculekit.readers - WARNING - Reading PDB file with more than 99999 atoms. Bond information can be wrong.\n",
      "2021-06-26 00:50:54,641 - htmd.builder.builder - WARNING - Found cis peptide bond in 1 frames: [0] in the omega diheral \"Angle of (LEU 216 CA P P) (LEU 216 C P P) (PRO 217 N P P) (PRO 217 CA P P) \" with indexes [3600, 3615, 3617, 3621]\n",
      "2021-06-26 00:50:56,314 - htmd.protocols.production_v6 - WARNING - Lipids detected in input structure. We highly recommend setting useconstantratio=True for membrane simulations.\n",
      "2021-06-26 00:50:56,924 - jobqueues.slurmqueue - INFO - Queueing /gpcr/users/daranda/doctorat/GPCR_simulations/simulation_output/production/6JZH/rep_3/\n"
     ]
    },
    {
     "name": "stdout",
     "output_type": "stream",
     "text": [
      "submitting replicate 1 of 5K2B\n"
     ]
    },
    {
     "name": "stderr",
     "output_type": "stream",
     "text": [
      "2021-06-26 00:51:43,738 - htmd.builder.builder - WARNING - Found cis peptide bond in 1 frames: [0] in the omega diheral \"Angle of (LEU 216 CA P P) (LEU 216 C P P) (PRO 217 N P P) (PRO 217 CA P P) \" with indexes [3337, 3352, 3354, 3358]\n",
      "2021-06-26 00:51:45,189 - htmd.protocols.production_v6 - WARNING - Lipids detected in input structure. We highly recommend setting useconstantratio=True for membrane simulations.\n",
      "2021-06-26 00:51:46,197 - jobqueues.slurmqueue - INFO - Queueing /gpcr/users/daranda/doctorat/GPCR_simulations/simulation_output/production/5K2B_apo/rep_1/\n"
     ]
    },
    {
     "name": "stdout",
     "output_type": "stream",
     "text": [
      "submitting replicate 2 of 5K2B\n"
     ]
    },
    {
     "name": "stderr",
     "output_type": "stream",
     "text": [
      "2021-06-26 00:52:32,138 - htmd.builder.builder - WARNING - Found cis peptide bond in 1 frames: [0] in the omega diheral \"Angle of (LEU 216 CA P P) (LEU 216 C P P) (PRO 217 N P P) (PRO 217 CA P P) \" with indexes [3337, 3352, 3354, 3358]\n",
      "2021-06-26 00:52:33,591 - htmd.protocols.production_v6 - WARNING - Lipids detected in input structure. We highly recommend setting useconstantratio=True for membrane simulations.\n",
      "2021-06-26 00:52:34,121 - jobqueues.slurmqueue - INFO - Queueing /gpcr/users/daranda/doctorat/GPCR_simulations/simulation_output/production/5K2B_apo/rep_2/\n"
     ]
    },
    {
     "name": "stdout",
     "output_type": "stream",
     "text": [
      "submitting replicate 3 of 5K2B\n"
     ]
    },
    {
     "name": "stderr",
     "output_type": "stream",
     "text": [
      "2021-06-26 00:53:18,628 - htmd.builder.builder - WARNING - Found cis peptide bond in 1 frames: [0] in the omega diheral \"Angle of (LEU 216 CA P P) (LEU 216 C P P) (PRO 217 N P P) (PRO 217 CA P P) \" with indexes [3337, 3352, 3354, 3358]\n",
      "2021-06-26 00:53:20,077 - htmd.protocols.production_v6 - WARNING - Lipids detected in input structure. We highly recommend setting useconstantratio=True for membrane simulations.\n",
      "2021-06-26 00:53:20,762 - jobqueues.slurmqueue - INFO - Queueing /gpcr/users/daranda/doctorat/GPCR_simulations/simulation_output/production/5K2B_apo/rep_3/\n"
     ]
    },
    {
     "name": "stdout",
     "output_type": "stream",
     "text": [
      "submitting replicate 1 of 5K2B\n"
     ]
    },
    {
     "name": "stderr",
     "output_type": "stream",
     "text": [
      "2021-06-26 00:54:03,903 - htmd.builder.builder - WARNING - Found cis peptide bond in 1 frames: [0] in the omega diheral \"Angle of (LEU 216 CA P P) (LEU 216 C P P) (PRO 217 N P P) (PRO 217 CA P P) \" with indexes [3600, 3615, 3617, 3621]\n",
      "2021-06-26 00:54:05,348 - htmd.protocols.production_v6 - WARNING - Lipids detected in input structure. We highly recommend setting useconstantratio=True for membrane simulations.\n",
      "2021-06-26 00:54:06,298 - jobqueues.slurmqueue - INFO - Queueing /gpcr/users/daranda/doctorat/GPCR_simulations/simulation_output/production/5K2B/rep_1/\n"
     ]
    },
    {
     "name": "stdout",
     "output_type": "stream",
     "text": [
      "submitting replicate 2 of 5K2B\n"
     ]
    },
    {
     "name": "stderr",
     "output_type": "stream",
     "text": [
      "2021-06-26 00:54:48,084 - htmd.builder.builder - WARNING - Found cis peptide bond in 1 frames: [0] in the omega diheral \"Angle of (LEU 216 CA P P) (LEU 216 C P P) (PRO 217 N P P) (PRO 217 CA P P) \" with indexes [3600, 3615, 3617, 3621]\n",
      "2021-06-26 00:54:49,531 - htmd.protocols.production_v6 - WARNING - Lipids detected in input structure. We highly recommend setting useconstantratio=True for membrane simulations.\n",
      "2021-06-26 00:54:50,074 - jobqueues.slurmqueue - INFO - Queueing /gpcr/users/daranda/doctorat/GPCR_simulations/simulation_output/production/5K2B/rep_2/\n"
     ]
    },
    {
     "name": "stdout",
     "output_type": "stream",
     "text": [
      "submitting replicate 3 of 5K2B\n"
     ]
    },
    {
     "name": "stderr",
     "output_type": "stream",
     "text": [
      "2021-06-26 00:55:32,724 - htmd.builder.builder - WARNING - Found cis peptide bond in 1 frames: [0] in the omega diheral \"Angle of (LEU 216 CA P P) (LEU 216 C P P) (PRO 217 N P P) (PRO 217 CA P P) \" with indexes [3600, 3615, 3617, 3621]\n",
      "2021-06-26 00:55:34,170 - htmd.protocols.production_v6 - WARNING - Lipids detected in input structure. We highly recommend setting useconstantratio=True for membrane simulations.\n",
      "2021-06-26 00:55:35,057 - jobqueues.slurmqueue - INFO - Queueing /gpcr/users/daranda/doctorat/GPCR_simulations/simulation_output/production/5K2B/rep_3/\n"
     ]
    },
    {
     "name": "stdout",
     "output_type": "stream",
     "text": [
      "submitting replicate 1 of 6OBA\n"
     ]
    },
    {
     "name": "stderr",
     "output_type": "stream",
     "text": [
      "2021-06-26 00:56:19,463 - htmd.protocols.production_v6 - WARNING - Lipids detected in input structure. We highly recommend setting useconstantratio=True for membrane simulations.\n",
      "2021-06-26 00:56:20,981 - jobqueues.slurmqueue - INFO - Queueing /gpcr/users/daranda/doctorat/GPCR_simulations/simulation_output/production/6OBA_apo/rep_1/\n"
     ]
    },
    {
     "name": "stdout",
     "output_type": "stream",
     "text": [
      "submitting replicate 2 of 6OBA\n"
     ]
    },
    {
     "name": "stderr",
     "output_type": "stream",
     "text": [
      "2021-06-26 00:57:05,762 - htmd.protocols.production_v6 - WARNING - Lipids detected in input structure. We highly recommend setting useconstantratio=True for membrane simulations.\n",
      "2021-06-26 00:57:06,500 - jobqueues.slurmqueue - INFO - Queueing /gpcr/users/daranda/doctorat/GPCR_simulations/simulation_output/production/6OBA_apo/rep_2/\n"
     ]
    },
    {
     "name": "stdout",
     "output_type": "stream",
     "text": [
      "submitting replicate 3 of 6OBA\n"
     ]
    },
    {
     "name": "stderr",
     "output_type": "stream",
     "text": [
      "2021-06-26 00:57:50,797 - htmd.protocols.production_v6 - WARNING - Lipids detected in input structure. We highly recommend setting useconstantratio=True for membrane simulations.\n",
      "2021-06-26 00:57:51,919 - jobqueues.slurmqueue - INFO - Queueing /gpcr/users/daranda/doctorat/GPCR_simulations/simulation_output/production/6OBA_apo/rep_3/\n"
     ]
    },
    {
     "name": "stdout",
     "output_type": "stream",
     "text": [
      "submitting replicate 1 of 6OBA\n"
     ]
    },
    {
     "name": "stderr",
     "output_type": "stream",
     "text": [
      "2021-06-26 00:58:35,567 - htmd.protocols.production_v6 - WARNING - Lipids detected in input structure. We highly recommend setting useconstantratio=True for membrane simulations.\n",
      "2021-06-26 00:58:37,020 - jobqueues.slurmqueue - INFO - Queueing /gpcr/users/daranda/doctorat/GPCR_simulations/simulation_output/production/6OBA/rep_1/\n"
     ]
    },
    {
     "name": "stdout",
     "output_type": "stream",
     "text": [
      "submitting replicate 2 of 6OBA\n"
     ]
    },
    {
     "name": "stderr",
     "output_type": "stream",
     "text": [
      "2021-06-26 00:59:21,725 - htmd.protocols.production_v6 - WARNING - Lipids detected in input structure. We highly recommend setting useconstantratio=True for membrane simulations.\n",
      "2021-06-26 00:59:22,673 - jobqueues.slurmqueue - INFO - Queueing /gpcr/users/daranda/doctorat/GPCR_simulations/simulation_output/production/6OBA/rep_2/\n"
     ]
    },
    {
     "name": "stdout",
     "output_type": "stream",
     "text": [
      "submitting replicate 3 of 6OBA\n"
     ]
    },
    {
     "name": "stderr",
     "output_type": "stream",
     "text": [
      "2021-06-26 01:00:05,204 - htmd.protocols.production_v6 - WARNING - Lipids detected in input structure. We highly recommend setting useconstantratio=True for membrane simulations.\n",
      "2021-06-26 01:00:05,868 - jobqueues.slurmqueue - INFO - Queueing /gpcr/users/daranda/doctorat/GPCR_simulations/simulation_output/production/6OBA/rep_3/\n"
     ]
    },
    {
     "name": "stdout",
     "output_type": "stream",
     "text": [
      "submitting replicate 1 of 5XR8\n"
     ]
    },
    {
     "name": "stderr",
     "output_type": "stream",
     "text": [
      "2021-06-26 01:00:41,819 - htmd.protocols.production_v6 - WARNING - Lipids detected in input structure. We highly recommend setting useconstantratio=True for membrane simulations.\n",
      "2021-06-26 01:00:42,883 - jobqueues.slurmqueue - INFO - Queueing /gpcr/users/daranda/doctorat/GPCR_simulations/simulation_output/production/5XR8_apo/rep_1/\n"
     ]
    },
    {
     "name": "stdout",
     "output_type": "stream",
     "text": [
      "submitting replicate 2 of 5XR8\n"
     ]
    },
    {
     "name": "stderr",
     "output_type": "stream",
     "text": [
      "2021-06-26 01:01:17,029 - htmd.protocols.production_v6 - WARNING - Lipids detected in input structure. We highly recommend setting useconstantratio=True for membrane simulations.\n",
      "2021-06-26 01:01:17,534 - jobqueues.slurmqueue - INFO - Queueing /gpcr/users/daranda/doctorat/GPCR_simulations/simulation_output/production/5XR8_apo/rep_2/\n"
     ]
    },
    {
     "name": "stdout",
     "output_type": "stream",
     "text": [
      "submitting replicate 3 of 5XR8\n"
     ]
    },
    {
     "name": "stderr",
     "output_type": "stream",
     "text": [
      "2021-06-26 01:01:50,779 - htmd.protocols.production_v6 - WARNING - Lipids detected in input structure. We highly recommend setting useconstantratio=True for membrane simulations.\n",
      "2021-06-26 01:01:51,476 - jobqueues.slurmqueue - INFO - Queueing /gpcr/users/daranda/doctorat/GPCR_simulations/simulation_output/production/5XR8_apo/rep_3/\n"
     ]
    },
    {
     "name": "stdout",
     "output_type": "stream",
     "text": [
      "submitting replicate 1 of 5XR8\n"
     ]
    },
    {
     "name": "stderr",
     "output_type": "stream",
     "text": [
      "2021-06-26 01:02:30,958 - htmd.protocols.production_v6 - WARNING - Lipids detected in input structure. We highly recommend setting useconstantratio=True for membrane simulations.\n"
     ]
    },
    {
     "name": "stdout",
     "output_type": "stream",
     "text": [
      "model 5XR8 could not be send to equilibrate because of  Could not find any of the files \"output.coor\" specified for command \"bincoordinates\" in path /gpcr/users/daranda/doctorat/GPCR_simulations/simulation_output//equil/5XR8/\n",
      "submitting replicate 2 of 5XR8\n"
     ]
    },
    {
     "name": "stderr",
     "output_type": "stream",
     "text": [
      "2021-06-26 01:02:55,953 - htmd.protocols.production_v6 - WARNING - Lipids detected in input structure. We highly recommend setting useconstantratio=True for membrane simulations.\n"
     ]
    },
    {
     "name": "stdout",
     "output_type": "stream",
     "text": [
      "model 5XR8 could not be send to equilibrate because of  Could not find any of the files \"output.coor\" specified for command \"bincoordinates\" in path /gpcr/users/daranda/doctorat/GPCR_simulations/simulation_output//equil/5XR8/\n",
      "submitting replicate 3 of 5XR8\n"
     ]
    },
    {
     "name": "stderr",
     "output_type": "stream",
     "text": [
      "2021-06-26 01:03:19,592 - htmd.protocols.production_v6 - WARNING - Lipids detected in input structure. We highly recommend setting useconstantratio=True for membrane simulations.\n"
     ]
    },
    {
     "name": "stdout",
     "output_type": "stream",
     "text": [
      "model 5XR8 could not be send to equilibrate because of  Could not find any of the files \"output.coor\" specified for command \"bincoordinates\" in path /gpcr/users/daranda/doctorat/GPCR_simulations/simulation_output//equil/5XR8/\n",
      "submitting replicate 1 of 6ME7\n"
     ]
    },
    {
     "name": "stderr",
     "output_type": "stream",
     "text": [
      "2021-06-26 01:03:42,309 - htmd.builder.builder - WARNING - Found cis peptide bond in 1 frames: [0] in the omega diheral \"Angle of (ASN 328 CA P P) (ASN 328 C P P) (PRO 329 N P P) (PRO 329 CA P P) \" with indexes [4806, 4816, 4818, 4822]\n",
      "2021-06-26 01:03:43,413 - htmd.protocols.production_v6 - WARNING - Lipids detected in input structure. We highly recommend setting useconstantratio=True for membrane simulations.\n",
      "2021-06-26 01:03:44,266 - jobqueues.slurmqueue - INFO - Queueing /gpcr/users/daranda/doctorat/GPCR_simulations/simulation_output/production/6ME7_apo/rep_1/\n"
     ]
    },
    {
     "name": "stdout",
     "output_type": "stream",
     "text": [
      "submitting replicate 2 of 6ME7\n"
     ]
    },
    {
     "name": "stderr",
     "output_type": "stream",
     "text": [
      "2021-06-26 01:04:16,938 - htmd.builder.builder - WARNING - Found cis peptide bond in 1 frames: [0] in the omega diheral \"Angle of (ASN 328 CA P P) (ASN 328 C P P) (PRO 329 N P P) (PRO 329 CA P P) \" with indexes [4806, 4816, 4818, 4822]\n",
      "2021-06-26 01:04:18,049 - htmd.protocols.production_v6 - WARNING - Lipids detected in input structure. We highly recommend setting useconstantratio=True for membrane simulations.\n",
      "2021-06-26 01:04:18,476 - jobqueues.slurmqueue - INFO - Queueing /gpcr/users/daranda/doctorat/GPCR_simulations/simulation_output/production/6ME7_apo/rep_2/\n"
     ]
    },
    {
     "name": "stdout",
     "output_type": "stream",
     "text": [
      "submitting replicate 3 of 6ME7\n"
     ]
    },
    {
     "name": "stderr",
     "output_type": "stream",
     "text": [
      "2021-06-26 01:04:48,422 - htmd.builder.builder - WARNING - Found cis peptide bond in 1 frames: [0] in the omega diheral \"Angle of (ASN 328 CA P P) (ASN 328 C P P) (PRO 329 N P P) (PRO 329 CA P P) \" with indexes [4806, 4816, 4818, 4822]\n",
      "2021-06-26 01:04:49,423 - htmd.protocols.production_v6 - WARNING - Lipids detected in input structure. We highly recommend setting useconstantratio=True for membrane simulations.\n",
      "2021-06-26 01:04:49,920 - jobqueues.slurmqueue - INFO - Queueing /gpcr/users/daranda/doctorat/GPCR_simulations/simulation_output/production/6ME7_apo/rep_3/\n"
     ]
    },
    {
     "name": "stdout",
     "output_type": "stream",
     "text": [
      "submitting replicate 1 of 6ME7\n"
     ]
    },
    {
     "name": "stderr",
     "output_type": "stream",
     "text": [
      "2021-06-26 01:05:21,591 - htmd.builder.builder - WARNING - Found cis peptide bond in 1 frames: [0] in the omega diheral \"Angle of (ASN 328 CA P P) (ASN 328 C P P) (PRO 329 N P P) (PRO 329 CA P P) \" with indexes [4866, 4876, 4878, 4882]\n",
      "2021-06-26 01:05:22,672 - htmd.protocols.production_v6 - WARNING - Lipids detected in input structure. We highly recommend setting useconstantratio=True for membrane simulations.\n",
      "2021-06-26 01:05:23,734 - jobqueues.slurmqueue - INFO - Queueing /gpcr/users/daranda/doctorat/GPCR_simulations/simulation_output/production/6ME7/rep_1/\n"
     ]
    },
    {
     "name": "stdout",
     "output_type": "stream",
     "text": [
      "submitting replicate 2 of 6ME7\n"
     ]
    },
    {
     "name": "stderr",
     "output_type": "stream",
     "text": [
      "2021-06-26 01:05:55,363 - htmd.builder.builder - WARNING - Found cis peptide bond in 1 frames: [0] in the omega diheral \"Angle of (ASN 328 CA P P) (ASN 328 C P P) (PRO 329 N P P) (PRO 329 CA P P) \" with indexes [4866, 4876, 4878, 4882]\n",
      "2021-06-26 01:05:56,470 - htmd.protocols.production_v6 - WARNING - Lipids detected in input structure. We highly recommend setting useconstantratio=True for membrane simulations.\n",
      "2021-06-26 01:05:57,064 - jobqueues.slurmqueue - INFO - Queueing /gpcr/users/daranda/doctorat/GPCR_simulations/simulation_output/production/6ME7/rep_2/\n"
     ]
    },
    {
     "name": "stdout",
     "output_type": "stream",
     "text": [
      "submitting replicate 3 of 6ME7\n"
     ]
    },
    {
     "name": "stderr",
     "output_type": "stream",
     "text": [
      "2021-06-26 01:06:31,490 - htmd.builder.builder - WARNING - Found cis peptide bond in 1 frames: [0] in the omega diheral \"Angle of (ASN 328 CA P P) (ASN 328 C P P) (PRO 329 N P P) (PRO 329 CA P P) \" with indexes [4866, 4876, 4878, 4882]\n",
      "2021-06-26 01:06:32,594 - htmd.protocols.production_v6 - WARNING - Lipids detected in input structure. We highly recommend setting useconstantratio=True for membrane simulations.\n",
      "2021-06-26 01:06:33,481 - jobqueues.slurmqueue - INFO - Queueing /gpcr/users/daranda/doctorat/GPCR_simulations/simulation_output/production/6ME7/rep_3/\n"
     ]
    },
    {
     "name": "stdout",
     "output_type": "stream",
     "text": [
      "replicate 1 of structure 6FKB already has been simulated\n",
      "replicate 2 of structure 6FKB already has been simulated\n",
      "replicate 3 of structure 6FKB already has been simulated\n",
      "replicate 1 of structure 6FKB already has been simulated\n",
      "replicate 2 of structure 6FKB already has been simulated\n",
      "replicate 3 of structure 6FKB already has been simulated\n",
      "submitting replicate 1 of 6J21\n"
     ]
    },
    {
     "name": "stderr",
     "output_type": "stream",
     "text": [
      "2021-06-26 01:07:11,314 - htmd.builder.builder - WARNING - Found cis peptide bond in 1 frames: [0] in the omega diheral \"Angle of (GLY 230 CA P P) (GLY 230 C P P) (ASP 231 N P P) (ASP 231 CA P P) \" with indexes [3366, 3369, 3371, 3373]\n",
      "2021-06-26 01:07:12,562 - htmd.protocols.production_v6 - WARNING - Lipids detected in input structure. We highly recommend setting useconstantratio=True for membrane simulations.\n",
      "2021-06-26 01:07:13,898 - jobqueues.slurmqueue - INFO - Queueing /gpcr/users/daranda/doctorat/GPCR_simulations/simulation_output/production/6J21_apo/rep_1/\n"
     ]
    },
    {
     "name": "stdout",
     "output_type": "stream",
     "text": [
      "submitting replicate 2 of 6J21\n"
     ]
    },
    {
     "name": "stderr",
     "output_type": "stream",
     "text": [
      "2021-06-26 01:07:48,973 - htmd.builder.builder - WARNING - Found cis peptide bond in 1 frames: [0] in the omega diheral \"Angle of (GLY 230 CA P P) (GLY 230 C P P) (ASP 231 N P P) (ASP 231 CA P P) \" with indexes [3366, 3369, 3371, 3373]\n",
      "2021-06-26 01:07:50,212 - htmd.protocols.production_v6 - WARNING - Lipids detected in input structure. We highly recommend setting useconstantratio=True for membrane simulations.\n",
      "2021-06-26 01:07:50,644 - jobqueues.slurmqueue - INFO - Queueing /gpcr/users/daranda/doctorat/GPCR_simulations/simulation_output/production/6J21_apo/rep_2/\n"
     ]
    },
    {
     "name": "stdout",
     "output_type": "stream",
     "text": [
      "submitting replicate 3 of 6J21\n"
     ]
    },
    {
     "name": "stderr",
     "output_type": "stream",
     "text": [
      "2021-06-26 01:08:25,023 - htmd.builder.builder - WARNING - Found cis peptide bond in 1 frames: [0] in the omega diheral \"Angle of (GLY 230 CA P P) (GLY 230 C P P) (ASP 231 N P P) (ASP 231 CA P P) \" with indexes [3366, 3369, 3371, 3373]\n",
      "2021-06-26 01:08:26,166 - htmd.protocols.production_v6 - WARNING - Lipids detected in input structure. We highly recommend setting useconstantratio=True for membrane simulations.\n",
      "2021-06-26 01:08:26,630 - jobqueues.slurmqueue - INFO - Queueing /gpcr/users/daranda/doctorat/GPCR_simulations/simulation_output/production/6J21_apo/rep_3/\n"
     ]
    },
    {
     "name": "stdout",
     "output_type": "stream",
     "text": [
      "submitting replicate 1 of 6J21\n"
     ]
    },
    {
     "name": "stderr",
     "output_type": "stream",
     "text": [
      "2021-06-26 01:09:03,467 - htmd.builder.builder - WARNING - Found cis peptide bond in 1 frames: [0] in the omega diheral \"Angle of (GLY 230 CA P P) (GLY 230 C P P) (ASP 231 N P P) (ASP 231 CA P P) \" with indexes [3367, 3370, 3372, 3374]\n",
      "2021-06-26 01:09:04,694 - htmd.protocols.production_v6 - WARNING - Lipids detected in input structure. We highly recommend setting useconstantratio=True for membrane simulations.\n",
      "2021-06-26 01:09:05,565 - jobqueues.slurmqueue - INFO - Queueing /gpcr/users/daranda/doctorat/GPCR_simulations/simulation_output/production/6J21/rep_1/\n"
     ]
    },
    {
     "name": "stdout",
     "output_type": "stream",
     "text": [
      "submitting replicate 2 of 6J21\n"
     ]
    },
    {
     "name": "stderr",
     "output_type": "stream",
     "text": [
      "2021-06-26 01:09:40,514 - htmd.builder.builder - WARNING - Found cis peptide bond in 1 frames: [0] in the omega diheral \"Angle of (GLY 230 CA P P) (GLY 230 C P P) (ASP 231 N P P) (ASP 231 CA P P) \" with indexes [3367, 3370, 3372, 3374]\n",
      "2021-06-26 01:09:41,737 - htmd.protocols.production_v6 - WARNING - Lipids detected in input structure. We highly recommend setting useconstantratio=True for membrane simulations.\n",
      "2021-06-26 01:09:42,621 - jobqueues.slurmqueue - INFO - Queueing /gpcr/users/daranda/doctorat/GPCR_simulations/simulation_output/production/6J21/rep_2/\n"
     ]
    },
    {
     "name": "stdout",
     "output_type": "stream",
     "text": [
      "submitting replicate 3 of 6J21\n"
     ]
    },
    {
     "name": "stderr",
     "output_type": "stream",
     "text": [
      "2021-06-26 01:10:17,144 - htmd.builder.builder - WARNING - Found cis peptide bond in 1 frames: [0] in the omega diheral \"Angle of (GLY 230 CA P P) (GLY 230 C P P) (ASP 231 N P P) (ASP 231 CA P P) \" with indexes [3367, 3370, 3372, 3374]\n",
      "2021-06-26 01:10:18,385 - htmd.protocols.production_v6 - WARNING - Lipids detected in input structure. We highly recommend setting useconstantratio=True for membrane simulations.\n",
      "2021-06-26 01:10:19,041 - jobqueues.slurmqueue - INFO - Queueing /gpcr/users/daranda/doctorat/GPCR_simulations/simulation_output/production/6J21/rep_3/\n"
     ]
    },
    {
     "name": "stdout",
     "output_type": "stream",
     "text": [
      "submitting replicate 1 of 5KW2\n"
     ]
    },
    {
     "name": "stderr",
     "output_type": "stream",
     "text": [
      "2021-06-26 01:10:46,301 - htmd.builder.builder - WARNING - Found cis peptide bond in 1 frames: [0] in the omega diheral \"Angle of (PHE 88 CA P P) (PHE 88 C P P) (LEU 90 N P P) (LEU 90 CA P P) \" with indexes [1321, 1337, 1339, 1341]\n",
      "2021-06-26 01:10:47,133 - htmd.protocols.production_v6 - WARNING - Lipids detected in input structure. We highly recommend setting useconstantratio=True for membrane simulations.\n",
      "2021-06-26 01:10:47,842 - jobqueues.slurmqueue - INFO - Queueing /gpcr/users/daranda/doctorat/GPCR_simulations/simulation_output/production/5KW2_apo/rep_1/\n"
     ]
    },
    {
     "name": "stdout",
     "output_type": "stream",
     "text": [
      "submitting replicate 2 of 5KW2\n"
     ]
    },
    {
     "name": "stderr",
     "output_type": "stream",
     "text": [
      "2021-06-26 01:11:18,318 - htmd.builder.builder - WARNING - Found cis peptide bond in 1 frames: [0] in the omega diheral \"Angle of (PHE 88 CA P P) (PHE 88 C P P) (LEU 90 N P P) (LEU 90 CA P P) \" with indexes [1321, 1337, 1339, 1341]\n",
      "2021-06-26 01:11:19,145 - htmd.protocols.production_v6 - WARNING - Lipids detected in input structure. We highly recommend setting useconstantratio=True for membrane simulations.\n",
      "2021-06-26 01:11:19,433 - jobqueues.slurmqueue - INFO - Queueing /gpcr/users/daranda/doctorat/GPCR_simulations/simulation_output/production/5KW2_apo/rep_2/\n"
     ]
    },
    {
     "name": "stdout",
     "output_type": "stream",
     "text": [
      "submitting replicate 3 of 5KW2\n"
     ]
    },
    {
     "name": "stderr",
     "output_type": "stream",
     "text": [
      "2021-06-26 01:11:48,517 - htmd.builder.builder - WARNING - Found cis peptide bond in 1 frames: [0] in the omega diheral \"Angle of (PHE 88 CA P P) (PHE 88 C P P) (LEU 90 N P P) (LEU 90 CA P P) \" with indexes [1321, 1337, 1339, 1341]\n",
      "2021-06-26 01:11:49,349 - htmd.protocols.production_v6 - WARNING - Lipids detected in input structure. We highly recommend setting useconstantratio=True for membrane simulations.\n",
      "2021-06-26 01:11:49,707 - jobqueues.slurmqueue - INFO - Queueing /gpcr/users/daranda/doctorat/GPCR_simulations/simulation_output/production/5KW2_apo/rep_3/\n"
     ]
    },
    {
     "name": "stdout",
     "output_type": "stream",
     "text": [
      "submitting replicate 1 of 5KW2\n"
     ]
    },
    {
     "name": "stderr",
     "output_type": "stream",
     "text": [
      "2021-06-26 01:12:20,445 - htmd.builder.builder - WARNING - Found cis peptide bond in 1 frames: [0] in the omega diheral \"Angle of (PHE 88 CA P P) (PHE 88 C P P) (LEU 90 N P P) (LEU 90 CA P P) \" with indexes [1412, 1428, 1430, 1432]\n",
      "2021-06-26 01:12:21,280 - htmd.protocols.production_v6 - WARNING - Lipids detected in input structure. We highly recommend setting useconstantratio=True for membrane simulations.\n",
      "2021-06-26 01:12:22,061 - jobqueues.slurmqueue - INFO - Queueing /gpcr/users/daranda/doctorat/GPCR_simulations/simulation_output/production/5KW2/rep_1/\n"
     ]
    },
    {
     "name": "stdout",
     "output_type": "stream",
     "text": [
      "submitting replicate 2 of 5KW2\n"
     ]
    },
    {
     "name": "stderr",
     "output_type": "stream",
     "text": [
      "2021-06-26 01:12:47,351 - htmd.builder.builder - WARNING - Found cis peptide bond in 1 frames: [0] in the omega diheral \"Angle of (PHE 88 CA P P) (PHE 88 C P P) (LEU 90 N P P) (LEU 90 CA P P) \" with indexes [1412, 1428, 1430, 1432]\n",
      "2021-06-26 01:12:48,099 - htmd.protocols.production_v6 - WARNING - Lipids detected in input structure. We highly recommend setting useconstantratio=True for membrane simulations.\n",
      "2021-06-26 01:12:48,561 - jobqueues.slurmqueue - INFO - Queueing /gpcr/users/daranda/doctorat/GPCR_simulations/simulation_output/production/5KW2/rep_2/\n"
     ]
    },
    {
     "name": "stdout",
     "output_type": "stream",
     "text": [
      "submitting replicate 3 of 5KW2\n"
     ]
    },
    {
     "name": "stderr",
     "output_type": "stream",
     "text": [
      "2021-06-26 01:13:12,724 - htmd.builder.builder - WARNING - Found cis peptide bond in 1 frames: [0] in the omega diheral \"Angle of (PHE 88 CA P P) (PHE 88 C P P) (LEU 90 N P P) (LEU 90 CA P P) \" with indexes [1412, 1428, 1430, 1432]\n",
      "2021-06-26 01:13:13,553 - htmd.protocols.production_v6 - WARNING - Lipids detected in input structure. We highly recommend setting useconstantratio=True for membrane simulations.\n",
      "2021-06-26 01:13:14,135 - jobqueues.slurmqueue - INFO - Queueing /gpcr/users/daranda/doctorat/GPCR_simulations/simulation_output/production/5KW2/rep_3/\n"
     ]
    },
    {
     "name": "stdout",
     "output_type": "stream",
     "text": [
      "submitting replicate 1 of 6FK7\n"
     ]
    },
    {
     "name": "stderr",
     "output_type": "stream",
     "text": [
      "2021-06-26 01:13:49,070 - htmd.protocols.production_v6 - WARNING - Lipids detected in input structure. We highly recommend setting useconstantratio=True for membrane simulations.\n",
      "2021-06-26 01:13:50,133 - jobqueues.slurmqueue - INFO - Queueing /gpcr/users/daranda/doctorat/GPCR_simulations/simulation_output/production/6FK7_apo/rep_1/\n"
     ]
    },
    {
     "name": "stdout",
     "output_type": "stream",
     "text": [
      "submitting replicate 2 of 6FK7\n"
     ]
    },
    {
     "name": "stderr",
     "output_type": "stream",
     "text": [
      "2021-06-26 01:14:31,168 - htmd.protocols.production_v6 - WARNING - Lipids detected in input structure. We highly recommend setting useconstantratio=True for membrane simulations.\n",
      "2021-06-26 01:14:31,533 - jobqueues.slurmqueue - INFO - Queueing /gpcr/users/daranda/doctorat/GPCR_simulations/simulation_output/production/6FK7_apo/rep_2/\n"
     ]
    },
    {
     "name": "stdout",
     "output_type": "stream",
     "text": [
      "submitting replicate 3 of 6FK7\n"
     ]
    },
    {
     "name": "stderr",
     "output_type": "stream",
     "text": [
      "2021-06-26 01:15:06,453 - htmd.protocols.production_v6 - WARNING - Lipids detected in input structure. We highly recommend setting useconstantratio=True for membrane simulations.\n",
      "2021-06-26 01:15:06,809 - jobqueues.slurmqueue - INFO - Queueing /gpcr/users/daranda/doctorat/GPCR_simulations/simulation_output/production/6FK7_apo/rep_3/\n"
     ]
    },
    {
     "name": "stdout",
     "output_type": "stream",
     "text": [
      "submitting replicate 1 of 6FK7\n"
     ]
    },
    {
     "name": "stderr",
     "output_type": "stream",
     "text": [
      "2021-06-26 01:15:42,380 - htmd.protocols.production_v6 - WARNING - Lipids detected in input structure. We highly recommend setting useconstantratio=True for membrane simulations.\n",
      "2021-06-26 01:15:43,117 - jobqueues.slurmqueue - INFO - Queueing /gpcr/users/daranda/doctorat/GPCR_simulations/simulation_output/production/6FK7/rep_1/\n"
     ]
    },
    {
     "name": "stdout",
     "output_type": "stream",
     "text": [
      "submitting replicate 2 of 6FK7\n"
     ]
    },
    {
     "name": "stderr",
     "output_type": "stream",
     "text": [
      "2021-06-26 01:16:15,420 - htmd.protocols.production_v6 - WARNING - Lipids detected in input structure. We highly recommend setting useconstantratio=True for membrane simulations.\n",
      "2021-06-26 01:16:15,896 - jobqueues.slurmqueue - INFO - Queueing /gpcr/users/daranda/doctorat/GPCR_simulations/simulation_output/production/6FK7/rep_2/\n"
     ]
    },
    {
     "name": "stdout",
     "output_type": "stream",
     "text": [
      "submitting replicate 3 of 6FK7\n"
     ]
    },
    {
     "name": "stderr",
     "output_type": "stream",
     "text": [
      "2021-06-26 01:16:52,253 - htmd.protocols.production_v6 - WARNING - Lipids detected in input structure. We highly recommend setting useconstantratio=True for membrane simulations.\n",
      "2021-06-26 01:16:52,649 - jobqueues.slurmqueue - INFO - Queueing /gpcr/users/daranda/doctorat/GPCR_simulations/simulation_output/production/6FK7/rep_3/\n"
     ]
    },
    {
     "name": "stdout",
     "output_type": "stream",
     "text": [
      "submitting replicate 1 of 5NX2\n"
     ]
    },
    {
     "name": "stderr",
     "output_type": "stream",
     "text": [
      "2021-06-26 01:17:09,306 - moleculekit.readers - WARNING - Non-integer values were read from the PDB \"serial\" field. Dropping PDB values and assigning new ones.\n",
      "2021-06-26 01:17:09,514 - moleculekit.readers - WARNING - Reading PDB file with more than 99999 atoms. Bond information can be wrong.\n",
      "2021-06-26 01:18:19,837 - htmd.protocols.production_v6 - WARNING - Lipids detected in input structure. We highly recommend setting useconstantratio=True for membrane simulations.\n",
      "2021-06-26 01:18:21,143 - jobqueues.slurmqueue - INFO - Queueing /gpcr/users/daranda/doctorat/GPCR_simulations/simulation_output/production/5NX2_apo/rep_1/\n"
     ]
    },
    {
     "name": "stdout",
     "output_type": "stream",
     "text": [
      "submitting replicate 2 of 5NX2\n"
     ]
    },
    {
     "name": "stderr",
     "output_type": "stream",
     "text": [
      "2021-06-26 01:18:35,847 - moleculekit.readers - WARNING - Non-integer values were read from the PDB \"serial\" field. Dropping PDB values and assigning new ones.\n",
      "2021-06-26 01:18:36,062 - moleculekit.readers - WARNING - Reading PDB file with more than 99999 atoms. Bond information can be wrong.\n",
      "2021-06-26 01:19:58,466 - htmd.protocols.production_v6 - WARNING - Lipids detected in input structure. We highly recommend setting useconstantratio=True for membrane simulations.\n",
      "2021-06-26 01:19:59,413 - jobqueues.slurmqueue - INFO - Queueing /gpcr/users/daranda/doctorat/GPCR_simulations/simulation_output/production/5NX2_apo/rep_2/\n"
     ]
    },
    {
     "name": "stdout",
     "output_type": "stream",
     "text": [
      "submitting replicate 3 of 5NX2\n"
     ]
    },
    {
     "name": "stderr",
     "output_type": "stream",
     "text": [
      "2021-06-26 01:20:12,535 - moleculekit.readers - WARNING - Non-integer values were read from the PDB \"serial\" field. Dropping PDB values and assigning new ones.\n",
      "2021-06-26 01:20:12,747 - moleculekit.readers - WARNING - Reading PDB file with more than 99999 atoms. Bond information can be wrong.\n",
      "2021-06-26 01:21:38,539 - htmd.protocols.production_v6 - WARNING - Lipids detected in input structure. We highly recommend setting useconstantratio=True for membrane simulations.\n",
      "2021-06-26 01:21:39,294 - jobqueues.slurmqueue - INFO - Queueing /gpcr/users/daranda/doctorat/GPCR_simulations/simulation_output/production/5NX2_apo/rep_3/\n"
     ]
    },
    {
     "name": "stdout",
     "output_type": "stream",
     "text": [
      "replicate 1 of structure 5NX2 already has been simulated\n",
      "replicate 2 of structure 5NX2 already has been simulated\n",
      "replicate 3 of structure 5NX2 already has been simulated\n",
      "submitting replicate 1 of 6GPX\n"
     ]
    },
    {
     "name": "stderr",
     "output_type": "stream",
     "text": [
      "2021-06-26 01:22:08,799 - htmd.protocols.production_v6 - WARNING - Lipids detected in input structure. We highly recommend setting useconstantratio=True for membrane simulations.\n",
      "2021-06-26 01:22:09,533 - jobqueues.slurmqueue - INFO - Queueing /gpcr/users/daranda/doctorat/GPCR_simulations/simulation_output/production/6GPX_apo/rep_1/\n"
     ]
    },
    {
     "name": "stdout",
     "output_type": "stream",
     "text": [
      "submitting replicate 2 of 6GPX\n"
     ]
    },
    {
     "name": "stderr",
     "output_type": "stream",
     "text": [
      "2021-06-26 01:22:39,181 - htmd.protocols.production_v6 - WARNING - Lipids detected in input structure. We highly recommend setting useconstantratio=True for membrane simulations.\n",
      "2021-06-26 01:22:39,526 - jobqueues.slurmqueue - INFO - Queueing /gpcr/users/daranda/doctorat/GPCR_simulations/simulation_output/production/6GPX_apo/rep_2/\n"
     ]
    },
    {
     "name": "stdout",
     "output_type": "stream",
     "text": [
      "submitting replicate 3 of 6GPX\n"
     ]
    },
    {
     "name": "stderr",
     "output_type": "stream",
     "text": [
      "2021-06-26 01:23:08,438 - htmd.protocols.production_v6 - WARNING - Lipids detected in input structure. We highly recommend setting useconstantratio=True for membrane simulations.\n",
      "2021-06-26 01:23:08,751 - jobqueues.slurmqueue - INFO - Queueing /gpcr/users/daranda/doctorat/GPCR_simulations/simulation_output/production/6GPX_apo/rep_3/\n"
     ]
    },
    {
     "name": "stdout",
     "output_type": "stream",
     "text": [
      "submitting replicate 1 of 6GPX\n"
     ]
    },
    {
     "name": "stderr",
     "output_type": "stream",
     "text": [
      "2021-06-26 01:23:39,222 - htmd.protocols.production_v6 - WARNING - Lipids detected in input structure. We highly recommend setting useconstantratio=True for membrane simulations.\n",
      "2021-06-26 01:23:40,059 - jobqueues.slurmqueue - INFO - Queueing /gpcr/users/daranda/doctorat/GPCR_simulations/simulation_output/production/6GPX/rep_1/\n"
     ]
    },
    {
     "name": "stdout",
     "output_type": "stream",
     "text": [
      "submitting replicate 2 of 6GPX\n"
     ]
    },
    {
     "name": "stderr",
     "output_type": "stream",
     "text": [
      "2021-06-26 01:24:09,859 - htmd.protocols.production_v6 - WARNING - Lipids detected in input structure. We highly recommend setting useconstantratio=True for membrane simulations.\n",
      "2021-06-26 01:24:10,274 - jobqueues.slurmqueue - INFO - Queueing /gpcr/users/daranda/doctorat/GPCR_simulations/simulation_output/production/6GPX/rep_2/\n"
     ]
    },
    {
     "name": "stdout",
     "output_type": "stream",
     "text": [
      "submitting replicate 3 of 6GPX\n"
     ]
    },
    {
     "name": "stderr",
     "output_type": "stream",
     "text": [
      "2021-06-26 01:24:40,535 - htmd.protocols.production_v6 - WARNING - Lipids detected in input structure. We highly recommend setting useconstantratio=True for membrane simulations.\n",
      "2021-06-26 01:24:40,993 - jobqueues.slurmqueue - INFO - Queueing /gpcr/users/daranda/doctorat/GPCR_simulations/simulation_output/production/6GPX/rep_3/\n"
     ]
    },
    {
     "name": "stdout",
     "output_type": "stream",
     "text": [
      "submitting replicate 1 of 5X7D\n"
     ]
    },
    {
     "name": "stderr",
     "output_type": "stream",
     "text": [
      "2021-06-26 01:25:25,716 - htmd.protocols.production_v6 - WARNING - Lipids detected in input structure. We highly recommend setting useconstantratio=True for membrane simulations.\n",
      "2021-06-26 01:25:26,533 - jobqueues.slurmqueue - INFO - Queueing /gpcr/users/daranda/doctorat/GPCR_simulations/simulation_output/production/5X7D_apo/rep_1/\n"
     ]
    },
    {
     "name": "stdout",
     "output_type": "stream",
     "text": [
      "submitting replicate 2 of 5X7D\n"
     ]
    },
    {
     "name": "stderr",
     "output_type": "stream",
     "text": [
      "2021-06-26 01:26:08,475 - htmd.protocols.production_v6 - WARNING - Lipids detected in input structure. We highly recommend setting useconstantratio=True for membrane simulations.\n",
      "2021-06-26 01:26:08,931 - jobqueues.slurmqueue - INFO - Queueing /gpcr/users/daranda/doctorat/GPCR_simulations/simulation_output/production/5X7D_apo/rep_2/\n"
     ]
    },
    {
     "name": "stdout",
     "output_type": "stream",
     "text": [
      "submitting replicate 3 of 5X7D\n"
     ]
    },
    {
     "name": "stderr",
     "output_type": "stream",
     "text": [
      "2021-06-26 01:26:52,133 - htmd.protocols.production_v6 - WARNING - Lipids detected in input structure. We highly recommend setting useconstantratio=True for membrane simulations.\n",
      "2021-06-26 01:26:52,569 - jobqueues.slurmqueue - INFO - Queueing /gpcr/users/daranda/doctorat/GPCR_simulations/simulation_output/production/5X7D_apo/rep_3/\n"
     ]
    },
    {
     "name": "stdout",
     "output_type": "stream",
     "text": [
      "submitting replicate 1 of 5X7D\n"
     ]
    },
    {
     "name": "stderr",
     "output_type": "stream",
     "text": [
      "2021-06-26 01:27:35,801 - htmd.protocols.production_v6 - WARNING - Lipids detected in input structure. We highly recommend setting useconstantratio=True for membrane simulations.\n",
      "2021-06-26 01:27:36,727 - jobqueues.slurmqueue - INFO - Queueing /gpcr/users/daranda/doctorat/GPCR_simulations/simulation_output/production/5X7D/rep_1/\n"
     ]
    },
    {
     "name": "stdout",
     "output_type": "stream",
     "text": [
      "submitting replicate 2 of 5X7D\n"
     ]
    },
    {
     "name": "stderr",
     "output_type": "stream",
     "text": [
      "2021-06-26 01:28:25,180 - htmd.protocols.production_v6 - WARNING - Lipids detected in input structure. We highly recommend setting useconstantratio=True for membrane simulations.\n",
      "2021-06-26 01:28:26,232 - jobqueues.slurmqueue - INFO - Queueing /gpcr/users/daranda/doctorat/GPCR_simulations/simulation_output/production/5X7D/rep_2/\n"
     ]
    },
    {
     "name": "stdout",
     "output_type": "stream",
     "text": [
      "submitting replicate 3 of 5X7D\n"
     ]
    },
    {
     "name": "stderr",
     "output_type": "stream",
     "text": [
      "2021-06-26 01:29:15,010 - htmd.protocols.production_v6 - WARNING - Lipids detected in input structure. We highly recommend setting useconstantratio=True for membrane simulations.\n",
      "2021-06-26 01:29:15,727 - jobqueues.slurmqueue - INFO - Queueing /gpcr/users/daranda/doctorat/GPCR_simulations/simulation_output/production/5X7D/rep_3/\n"
     ]
    },
    {
     "name": "stdout",
     "output_type": "stream",
     "text": [
      "replicate 1 of structure 6LUQ already has been simulated\n",
      "replicate 2 of structure 6LUQ already has been simulated\n",
      "replicate 3 of structure 6LUQ already has been simulated\n",
      "replicate 1 of structure 6LUQ already has been simulated\n",
      "replicate 2 of structure 6LUQ already has been simulated\n",
      "replicate 3 of structure 6LUQ already has been simulated\n",
      "submitting replicate 1 of 5VBL\n"
     ]
    },
    {
     "name": "stderr",
     "output_type": "stream",
     "text": [
      "2021-06-26 01:29:50,049 - htmd.protocols.production_v6 - WARNING - Lipids detected in input structure. We highly recommend setting useconstantratio=True for membrane simulations.\n",
      "2021-06-26 01:29:50,934 - jobqueues.slurmqueue - INFO - Queueing /gpcr/users/daranda/doctorat/GPCR_simulations/simulation_output/production/5VBL_apo/rep_1/\n"
     ]
    },
    {
     "name": "stdout",
     "output_type": "stream",
     "text": [
      "submitting replicate 2 of 5VBL\n"
     ]
    },
    {
     "name": "stderr",
     "output_type": "stream",
     "text": [
      "2021-06-26 01:30:24,084 - htmd.protocols.production_v6 - WARNING - Lipids detected in input structure. We highly recommend setting useconstantratio=True for membrane simulations.\n",
      "2021-06-26 01:30:24,496 - jobqueues.slurmqueue - INFO - Queueing /gpcr/users/daranda/doctorat/GPCR_simulations/simulation_output/production/5VBL_apo/rep_2/\n"
     ]
    },
    {
     "name": "stdout",
     "output_type": "stream",
     "text": [
      "submitting replicate 3 of 5VBL\n"
     ]
    },
    {
     "name": "stderr",
     "output_type": "stream",
     "text": [
      "2021-06-26 01:30:59,535 - htmd.protocols.production_v6 - WARNING - Lipids detected in input structure. We highly recommend setting useconstantratio=True for membrane simulations.\n",
      "2021-06-26 01:31:00,098 - jobqueues.slurmqueue - INFO - Queueing /gpcr/users/daranda/doctorat/GPCR_simulations/simulation_output/production/5VBL_apo/rep_3/\n"
     ]
    },
    {
     "name": "stdout",
     "output_type": "stream",
     "text": [
      "submitting replicate 1 of 5VBL\n"
     ]
    },
    {
     "name": "stderr",
     "output_type": "stream",
     "text": [
      "2021-06-26 01:31:38,916 - htmd.protocols.production_v6 - WARNING - Lipids detected in input structure. We highly recommend setting useconstantratio=True for membrane simulations.\n",
      "2021-06-26 01:31:40,175 - jobqueues.slurmqueue - INFO - Queueing /gpcr/users/daranda/doctorat/GPCR_simulations/simulation_output/production/5VBL/rep_1/\n"
     ]
    },
    {
     "name": "stdout",
     "output_type": "stream",
     "text": [
      "submitting replicate 2 of 5VBL\n"
     ]
    },
    {
     "name": "stderr",
     "output_type": "stream",
     "text": [
      "2021-06-26 01:32:15,891 - htmd.protocols.production_v6 - WARNING - Lipids detected in input structure. We highly recommend setting useconstantratio=True for membrane simulations.\n",
      "2021-06-26 01:32:16,668 - jobqueues.slurmqueue - INFO - Queueing /gpcr/users/daranda/doctorat/GPCR_simulations/simulation_output/production/5VBL/rep_2/\n"
     ]
    },
    {
     "name": "stdout",
     "output_type": "stream",
     "text": [
      "submitting replicate 3 of 5VBL\n"
     ]
    },
    {
     "name": "stderr",
     "output_type": "stream",
     "text": [
      "2021-06-26 01:32:55,182 - htmd.protocols.production_v6 - WARNING - Lipids detected in input structure. We highly recommend setting useconstantratio=True for membrane simulations.\n",
      "2021-06-26 01:32:55,751 - jobqueues.slurmqueue - INFO - Queueing /gpcr/users/daranda/doctorat/GPCR_simulations/simulation_output/production/5VBL/rep_3/\n"
     ]
    },
    {
     "name": "stdout",
     "output_type": "stream",
     "text": [
      "submitting replicate 1 of 5WIV\n"
     ]
    },
    {
     "name": "stderr",
     "output_type": "stream",
     "text": [
      "2021-06-26 01:33:35,536 - htmd.builder.builder - WARNING - Found cis peptide bond in 1 frames: [0] in the omega diheral \"Angle of (ALA 31 CA P0 P) (ALA 31 C P0 P) (GLY 32 N P0 P) (GLY 32 CA P0 P) \" with indexes [61, 67, 69, 71]\n",
      "2021-06-26 01:33:36,966 - htmd.protocols.production_v6 - WARNING - Lipids detected in input structure. We highly recommend setting useconstantratio=True for membrane simulations.\n",
      "2021-06-26 01:33:38,452 - jobqueues.slurmqueue - INFO - Queueing /gpcr/users/daranda/doctorat/GPCR_simulations/simulation_output/production/5WIV_apo/rep_1/\n"
     ]
    },
    {
     "name": "stdout",
     "output_type": "stream",
     "text": [
      "submitting replicate 2 of 5WIV\n"
     ]
    },
    {
     "name": "stderr",
     "output_type": "stream",
     "text": [
      "2021-06-26 01:34:23,276 - htmd.builder.builder - WARNING - Found cis peptide bond in 1 frames: [0] in the omega diheral \"Angle of (ALA 31 CA P0 P) (ALA 31 C P0 P) (GLY 32 N P0 P) (GLY 32 CA P0 P) \" with indexes [61, 67, 69, 71]\n",
      "2021-06-26 01:34:24,713 - htmd.protocols.production_v6 - WARNING - Lipids detected in input structure. We highly recommend setting useconstantratio=True for membrane simulations.\n",
      "2021-06-26 01:34:25,568 - jobqueues.slurmqueue - INFO - Queueing /gpcr/users/daranda/doctorat/GPCR_simulations/simulation_output/production/5WIV_apo/rep_2/\n"
     ]
    },
    {
     "name": "stdout",
     "output_type": "stream",
     "text": [
      "submitting replicate 3 of 5WIV\n"
     ]
    },
    {
     "name": "stderr",
     "output_type": "stream",
     "text": [
      "2021-06-26 01:35:04,619 - htmd.builder.builder - WARNING - Found cis peptide bond in 1 frames: [0] in the omega diheral \"Angle of (ALA 31 CA P0 P) (ALA 31 C P0 P) (GLY 32 N P0 P) (GLY 32 CA P0 P) \" with indexes [61, 67, 69, 71]\n",
      "2021-06-26 01:35:06,056 - htmd.protocols.production_v6 - WARNING - Lipids detected in input structure. We highly recommend setting useconstantratio=True for membrane simulations.\n",
      "2021-06-26 01:35:06,810 - jobqueues.slurmqueue - INFO - Queueing /gpcr/users/daranda/doctorat/GPCR_simulations/simulation_output/production/5WIV_apo/rep_3/\n"
     ]
    },
    {
     "name": "stdout",
     "output_type": "stream",
     "text": [
      "submitting replicate 1 of 5WIV\n"
     ]
    },
    {
     "name": "stderr",
     "output_type": "stream",
     "text": [
      "2021-06-26 01:35:45,164 - htmd.builder.builder - WARNING - Found cis peptide bond in 1 frames: [0] in the omega diheral \"Angle of (ALA 31 CA P0 P) (ALA 31 C P0 P) (GLY 32 N P0 P) (GLY 32 CA P0 P) \" with indexes [121, 127, 129, 131]\n",
      "2021-06-26 01:35:46,619 - htmd.protocols.production_v6 - WARNING - Lipids detected in input structure. We highly recommend setting useconstantratio=True for membrane simulations.\n",
      "2021-06-26 01:35:47,572 - jobqueues.slurmqueue - INFO - Queueing /gpcr/users/daranda/doctorat/GPCR_simulations/simulation_output/production/5WIV/rep_1/\n"
     ]
    },
    {
     "name": "stdout",
     "output_type": "stream",
     "text": [
      "submitting replicate 2 of 5WIV\n"
     ]
    },
    {
     "name": "stderr",
     "output_type": "stream",
     "text": [
      "2021-06-26 01:36:25,150 - htmd.builder.builder - WARNING - Found cis peptide bond in 1 frames: [0] in the omega diheral \"Angle of (ALA 31 CA P0 P) (ALA 31 C P0 P) (GLY 32 N P0 P) (GLY 32 CA P0 P) \" with indexes [121, 127, 129, 131]\n",
      "2021-06-26 01:36:26,596 - htmd.protocols.production_v6 - WARNING - Lipids detected in input structure. We highly recommend setting useconstantratio=True for membrane simulations.\n",
      "2021-06-26 01:36:27,110 - jobqueues.slurmqueue - INFO - Queueing /gpcr/users/daranda/doctorat/GPCR_simulations/simulation_output/production/5WIV/rep_2/\n"
     ]
    },
    {
     "name": "stdout",
     "output_type": "stream",
     "text": [
      "submitting replicate 3 of 5WIV\n"
     ]
    },
    {
     "name": "stderr",
     "output_type": "stream",
     "text": [
      "2021-06-26 01:37:04,531 - htmd.builder.builder - WARNING - Found cis peptide bond in 1 frames: [0] in the omega diheral \"Angle of (ALA 31 CA P0 P) (ALA 31 C P0 P) (GLY 32 N P0 P) (GLY 32 CA P0 P) \" with indexes [121, 127, 129, 131]\n",
      "2021-06-26 01:37:05,971 - htmd.protocols.production_v6 - WARNING - Lipids detected in input structure. We highly recommend setting useconstantratio=True for membrane simulations.\n",
      "2021-06-26 01:37:06,916 - jobqueues.slurmqueue - INFO - Queueing /gpcr/users/daranda/doctorat/GPCR_simulations/simulation_output/production/5WIV/rep_3/\n"
     ]
    },
    {
     "name": "stdout",
     "output_type": "stream",
     "text": [
      "submitting replicate 1 of 5UIG\n"
     ]
    },
    {
     "name": "stderr",
     "output_type": "stream",
     "text": [
      "2021-06-26 01:37:45,974 - htmd.builder.builder - WARNING - Found cis peptide bond in 1 frames: [0] in the omega diheral \"Angle of (LEU 216 CA P P) (LEU 216 C P P) (PRO 217 N P P) (PRO 217 CA P P) \" with indexes [3333, 3348, 3350, 3354]\n",
      "2021-06-26 01:37:47,471 - htmd.protocols.production_v6 - WARNING - Lipids detected in input structure. We highly recommend setting useconstantratio=True for membrane simulations.\n",
      "2021-06-26 01:37:48,433 - jobqueues.slurmqueue - INFO - Queueing /gpcr/users/daranda/doctorat/GPCR_simulations/simulation_output/production/5UIG_apo/rep_1/\n"
     ]
    },
    {
     "name": "stdout",
     "output_type": "stream",
     "text": [
      "submitting replicate 2 of 5UIG\n"
     ]
    },
    {
     "name": "stderr",
     "output_type": "stream",
     "text": [
      "2021-06-26 01:38:26,097 - htmd.builder.builder - WARNING - Found cis peptide bond in 1 frames: [0] in the omega diheral \"Angle of (LEU 216 CA P P) (LEU 216 C P P) (PRO 217 N P P) (PRO 217 CA P P) \" with indexes [3333, 3348, 3350, 3354]\n",
      "2021-06-26 01:38:27,606 - htmd.protocols.production_v6 - WARNING - Lipids detected in input structure. We highly recommend setting useconstantratio=True for membrane simulations.\n",
      "2021-06-26 01:38:28,144 - jobqueues.slurmqueue - INFO - Queueing /gpcr/users/daranda/doctorat/GPCR_simulations/simulation_output/production/5UIG_apo/rep_2/\n"
     ]
    },
    {
     "name": "stdout",
     "output_type": "stream",
     "text": [
      "submitting replicate 3 of 5UIG\n"
     ]
    },
    {
     "name": "stderr",
     "output_type": "stream",
     "text": [
      "2021-06-26 01:39:06,716 - htmd.builder.builder - WARNING - Found cis peptide bond in 1 frames: [0] in the omega diheral \"Angle of (LEU 216 CA P P) (LEU 216 C P P) (PRO 217 N P P) (PRO 217 CA P P) \" with indexes [3333, 3348, 3350, 3354]\n",
      "2021-06-26 01:39:08,212 - htmd.protocols.production_v6 - WARNING - Lipids detected in input structure. We highly recommend setting useconstantratio=True for membrane simulations.\n",
      "2021-06-26 01:39:08,648 - jobqueues.slurmqueue - INFO - Queueing /gpcr/users/daranda/doctorat/GPCR_simulations/simulation_output/production/5UIG_apo/rep_3/\n"
     ]
    },
    {
     "name": "stdout",
     "output_type": "stream",
     "text": [
      "submitting replicate 1 of 5UIG\n"
     ]
    },
    {
     "name": "stderr",
     "output_type": "stream",
     "text": [
      "2021-06-26 01:39:48,679 - htmd.builder.builder - WARNING - Found cis peptide bond in 1 frames: [0] in the omega diheral \"Angle of (LEU 216 CA P P) (LEU 216 C P P) (PRO 217 N P P) (PRO 217 CA P P) \" with indexes [3333, 3348, 3350, 3354]\n",
      "2021-06-26 01:39:50,184 - htmd.protocols.production_v6 - WARNING - Lipids detected in input structure. We highly recommend setting useconstantratio=True for membrane simulations.\n",
      "2021-06-26 01:39:51,498 - jobqueues.slurmqueue - INFO - Queueing /gpcr/users/daranda/doctorat/GPCR_simulations/simulation_output/production/5UIG/rep_1/\n"
     ]
    },
    {
     "name": "stdout",
     "output_type": "stream",
     "text": [
      "submitting replicate 2 of 5UIG\n"
     ]
    },
    {
     "name": "stderr",
     "output_type": "stream",
     "text": [
      "2021-06-26 01:40:31,548 - htmd.builder.builder - WARNING - Found cis peptide bond in 1 frames: [0] in the omega diheral \"Angle of (LEU 216 CA P P) (LEU 216 C P P) (PRO 217 N P P) (PRO 217 CA P P) \" with indexes [3333, 3348, 3350, 3354]\n",
      "2021-06-26 01:40:33,049 - htmd.protocols.production_v6 - WARNING - Lipids detected in input structure. We highly recommend setting useconstantratio=True for membrane simulations.\n",
      "2021-06-26 01:40:33,776 - jobqueues.slurmqueue - INFO - Queueing /gpcr/users/daranda/doctorat/GPCR_simulations/simulation_output/production/5UIG/rep_2/\n"
     ]
    },
    {
     "name": "stdout",
     "output_type": "stream",
     "text": [
      "submitting replicate 3 of 5UIG\n"
     ]
    },
    {
     "name": "stderr",
     "output_type": "stream",
     "text": [
      "2021-06-26 01:41:13,896 - htmd.builder.builder - WARNING - Found cis peptide bond in 1 frames: [0] in the omega diheral \"Angle of (LEU 216 CA P P) (LEU 216 C P P) (PRO 217 N P P) (PRO 217 CA P P) \" with indexes [3333, 3348, 3350, 3354]\n",
      "2021-06-26 01:41:15,396 - htmd.protocols.production_v6 - WARNING - Lipids detected in input structure. We highly recommend setting useconstantratio=True for membrane simulations.\n",
      "2021-06-26 01:41:16,141 - jobqueues.slurmqueue - INFO - Queueing /gpcr/users/daranda/doctorat/GPCR_simulations/simulation_output/production/5UIG/rep_3/\n"
     ]
    },
    {
     "name": "stdout",
     "output_type": "stream",
     "text": [
      "submitting replicate 1 of 6IGL\n"
     ]
    },
    {
     "name": "stderr",
     "output_type": "stream",
     "text": [
      "2021-06-26 01:41:59,353 - htmd.protocols.production_v6 - WARNING - Lipids detected in input structure. We highly recommend setting useconstantratio=True for membrane simulations.\n",
      "2021-06-26 01:42:00,786 - jobqueues.slurmqueue - INFO - Queueing /gpcr/users/daranda/doctorat/GPCR_simulations/simulation_output/production/6IGL_apo/rep_1/\n"
     ]
    },
    {
     "name": "stdout",
     "output_type": "stream",
     "text": [
      "submitting replicate 2 of 6IGL\n"
     ]
    },
    {
     "name": "stderr",
     "output_type": "stream",
     "text": [
      "2021-06-26 01:42:43,406 - htmd.protocols.production_v6 - WARNING - Lipids detected in input structure. We highly recommend setting useconstantratio=True for membrane simulations.\n",
      "2021-06-26 01:42:44,159 - jobqueues.slurmqueue - INFO - Queueing /gpcr/users/daranda/doctorat/GPCR_simulations/simulation_output/production/6IGL_apo/rep_2/\n"
     ]
    },
    {
     "name": "stdout",
     "output_type": "stream",
     "text": [
      "submitting replicate 3 of 6IGL\n"
     ]
    },
    {
     "name": "stderr",
     "output_type": "stream",
     "text": [
      "2021-06-26 01:43:27,854 - htmd.protocols.production_v6 - WARNING - Lipids detected in input structure. We highly recommend setting useconstantratio=True for membrane simulations.\n",
      "2021-06-26 01:43:28,596 - jobqueues.slurmqueue - INFO - Queueing /gpcr/users/daranda/doctorat/GPCR_simulations/simulation_output/production/6IGL_apo/rep_3/\n"
     ]
    },
    {
     "name": "stdout",
     "output_type": "stream",
     "text": [
      "submitting replicate 1 of 6IGL\n"
     ]
    },
    {
     "name": "stderr",
     "output_type": "stream",
     "text": [
      "2021-06-26 01:44:13,597 - htmd.protocols.production_v6 - WARNING - Lipids detected in input structure. We highly recommend setting useconstantratio=True for membrane simulations.\n",
      "2021-06-26 01:44:14,915 - jobqueues.slurmqueue - INFO - Queueing /gpcr/users/daranda/doctorat/GPCR_simulations/simulation_output/production/6IGL/rep_1/\n"
     ]
    },
    {
     "name": "stdout",
     "output_type": "stream",
     "text": [
      "submitting replicate 2 of 6IGL\n"
     ]
    },
    {
     "name": "stderr",
     "output_type": "stream",
     "text": [
      "2021-06-26 01:44:58,898 - htmd.protocols.production_v6 - WARNING - Lipids detected in input structure. We highly recommend setting useconstantratio=True for membrane simulations.\n",
      "2021-06-26 01:44:59,997 - jobqueues.slurmqueue - INFO - Queueing /gpcr/users/daranda/doctorat/GPCR_simulations/simulation_output/production/6IGL/rep_2/\n"
     ]
    },
    {
     "name": "stdout",
     "output_type": "stream",
     "text": [
      "submitting replicate 3 of 6IGL\n"
     ]
    },
    {
     "name": "stderr",
     "output_type": "stream",
     "text": [
      "2021-06-26 01:45:45,641 - htmd.protocols.production_v6 - WARNING - Lipids detected in input structure. We highly recommend setting useconstantratio=True for membrane simulations.\n",
      "2021-06-26 01:45:46,128 - jobqueues.slurmqueue - INFO - Queueing /gpcr/users/daranda/doctorat/GPCR_simulations/simulation_output/production/6IGL/rep_3/\n"
     ]
    },
    {
     "name": "stdout",
     "output_type": "stream",
     "text": [
      "submitting replicate 1 of 6TPN\n"
     ]
    },
    {
     "name": "stderr",
     "output_type": "stream",
     "text": [
      "2021-06-26 01:46:29,845 - htmd.protocols.production_v6 - WARNING - Lipids detected in input structure. We highly recommend setting useconstantratio=True for membrane simulations.\n",
      "2021-06-26 01:46:30,720 - jobqueues.slurmqueue - INFO - Queueing /gpcr/users/daranda/doctorat/GPCR_simulations/simulation_output/production/6TPN_apo/rep_1/\n"
     ]
    },
    {
     "name": "stdout",
     "output_type": "stream",
     "text": [
      "submitting replicate 2 of 6TPN\n"
     ]
    },
    {
     "name": "stderr",
     "output_type": "stream",
     "text": [
      "2021-06-26 01:47:19,644 - htmd.protocols.production_v6 - WARNING - Lipids detected in input structure. We highly recommend setting useconstantratio=True for membrane simulations.\n",
      "2021-06-26 01:47:20,501 - jobqueues.slurmqueue - INFO - Queueing /gpcr/users/daranda/doctorat/GPCR_simulations/simulation_output/production/6TPN_apo/rep_2/\n"
     ]
    },
    {
     "name": "stdout",
     "output_type": "stream",
     "text": [
      "submitting replicate 3 of 6TPN\n"
     ]
    },
    {
     "name": "stderr",
     "output_type": "stream",
     "text": [
      "2021-06-26 01:48:04,550 - htmd.protocols.production_v6 - WARNING - Lipids detected in input structure. We highly recommend setting useconstantratio=True for membrane simulations.\n",
      "2021-06-26 01:48:05,097 - jobqueues.slurmqueue - INFO - Queueing /gpcr/users/daranda/doctorat/GPCR_simulations/simulation_output/production/6TPN_apo/rep_3/\n"
     ]
    },
    {
     "name": "stdout",
     "output_type": "stream",
     "text": [
      "submitting replicate 1 of 6TPN\n"
     ]
    },
    {
     "name": "stderr",
     "output_type": "stream",
     "text": [
      "2021-06-26 01:48:50,403 - htmd.protocols.production_v6 - WARNING - Lipids detected in input structure. We highly recommend setting useconstantratio=True for membrane simulations.\n",
      "2021-06-26 01:48:51,431 - jobqueues.slurmqueue - INFO - Queueing /gpcr/users/daranda/doctorat/GPCR_simulations/simulation_output/production/6TPN/rep_1/\n"
     ]
    },
    {
     "name": "stdout",
     "output_type": "stream",
     "text": [
      "submitting replicate 2 of 6TPN\n"
     ]
    },
    {
     "name": "stderr",
     "output_type": "stream",
     "text": [
      "2021-06-26 01:49:32,658 - htmd.protocols.production_v6 - WARNING - Lipids detected in input structure. We highly recommend setting useconstantratio=True for membrane simulations.\n",
      "2021-06-26 01:49:33,412 - jobqueues.slurmqueue - INFO - Queueing /gpcr/users/daranda/doctorat/GPCR_simulations/simulation_output/production/6TPN/rep_2/\n"
     ]
    },
    {
     "name": "stdout",
     "output_type": "stream",
     "text": [
      "submitting replicate 3 of 6TPN\n"
     ]
    },
    {
     "name": "stderr",
     "output_type": "stream",
     "text": [
      "2021-06-26 01:50:18,698 - htmd.protocols.production_v6 - WARNING - Lipids detected in input structure. We highly recommend setting useconstantratio=True for membrane simulations.\n",
      "2021-06-26 01:50:19,171 - jobqueues.slurmqueue - INFO - Queueing /gpcr/users/daranda/doctorat/GPCR_simulations/simulation_output/production/6TPN/rep_3/\n"
     ]
    },
    {
     "name": "stdout",
     "output_type": "stream",
     "text": [
      "submitting replicate 1 of 6ME8\n"
     ]
    },
    {
     "name": "stderr",
     "output_type": "stream",
     "text": [
      "2021-06-26 01:50:57,545 - htmd.protocols.production_v6 - WARNING - Lipids detected in input structure. We highly recommend setting useconstantratio=True for membrane simulations.\n",
      "2021-06-26 01:50:58,578 - jobqueues.slurmqueue - INFO - Queueing /gpcr/users/daranda/doctorat/GPCR_simulations/simulation_output/production/6ME8_apo/rep_1/\n"
     ]
    },
    {
     "name": "stdout",
     "output_type": "stream",
     "text": [
      "submitting replicate 2 of 6ME8\n"
     ]
    },
    {
     "name": "stderr",
     "output_type": "stream",
     "text": [
      "2021-06-26 01:51:36,546 - htmd.protocols.production_v6 - WARNING - Lipids detected in input structure. We highly recommend setting useconstantratio=True for membrane simulations.\n",
      "2021-06-26 01:51:37,392 - jobqueues.slurmqueue - INFO - Queueing /gpcr/users/daranda/doctorat/GPCR_simulations/simulation_output/production/6ME8_apo/rep_2/\n"
     ]
    },
    {
     "name": "stdout",
     "output_type": "stream",
     "text": [
      "submitting replicate 3 of 6ME8\n"
     ]
    },
    {
     "name": "stderr",
     "output_type": "stream",
     "text": [
      "2021-06-26 01:52:15,576 - htmd.protocols.production_v6 - WARNING - Lipids detected in input structure. We highly recommend setting useconstantratio=True for membrane simulations.\n",
      "2021-06-26 01:52:16,267 - jobqueues.slurmqueue - INFO - Queueing /gpcr/users/daranda/doctorat/GPCR_simulations/simulation_output/production/6ME8_apo/rep_3/\n"
     ]
    },
    {
     "name": "stdout",
     "output_type": "stream",
     "text": [
      "submitting replicate 1 of 6ME8\n"
     ]
    },
    {
     "name": "stderr",
     "output_type": "stream",
     "text": [
      "2021-06-26 01:52:55,206 - htmd.protocols.production_v6 - WARNING - Lipids detected in input structure. We highly recommend setting useconstantratio=True for membrane simulations.\n",
      "2021-06-26 01:52:56,235 - jobqueues.slurmqueue - INFO - Queueing /gpcr/users/daranda/doctorat/GPCR_simulations/simulation_output/production/6ME8/rep_1/\n"
     ]
    },
    {
     "name": "stdout",
     "output_type": "stream",
     "text": [
      "submitting replicate 2 of 6ME8\n"
     ]
    },
    {
     "name": "stderr",
     "output_type": "stream",
     "text": [
      "2021-06-26 01:53:34,531 - htmd.protocols.production_v6 - WARNING - Lipids detected in input structure. We highly recommend setting useconstantratio=True for membrane simulations.\n",
      "2021-06-26 01:53:35,067 - jobqueues.slurmqueue - INFO - Queueing /gpcr/users/daranda/doctorat/GPCR_simulations/simulation_output/production/6ME8/rep_2/\n"
     ]
    },
    {
     "name": "stdout",
     "output_type": "stream",
     "text": [
      "submitting replicate 3 of 6ME8\n"
     ]
    },
    {
     "name": "stderr",
     "output_type": "stream",
     "text": [
      "2021-06-26 01:54:13,561 - htmd.protocols.production_v6 - WARNING - Lipids detected in input structure. We highly recommend setting useconstantratio=True for membrane simulations.\n",
      "2021-06-26 01:54:14,175 - jobqueues.slurmqueue - INFO - Queueing /gpcr/users/daranda/doctorat/GPCR_simulations/simulation_output/production/6ME8/rep_3/\n"
     ]
    },
    {
     "name": "stdout",
     "output_type": "stream",
     "text": [
      "submitting replicate 1 of 4EJ4\n"
     ]
    },
    {
     "name": "stderr",
     "output_type": "stream",
     "text": [
      "2021-06-26 01:54:47,145 - htmd.builder.builder - WARNING - Found cis peptide bond in 1 frames: [0] in the omega diheral \"Angle of (SER 204 CA P P) (SER 204 C P P) (PRO 205 N P P) (PRO 205 CA P P) \" with indexes [2602, 2609, 2611, 2615]\n",
      "2021-06-26 01:54:48,374 - htmd.protocols.production_v6 - WARNING - Lipids detected in input structure. We highly recommend setting useconstantratio=True for membrane simulations.\n",
      "2021-06-26 01:54:49,152 - jobqueues.slurmqueue - INFO - Queueing /gpcr/users/daranda/doctorat/GPCR_simulations/simulation_output/production/4EJ4_apo/rep_1/\n"
     ]
    },
    {
     "name": "stdout",
     "output_type": "stream",
     "text": [
      "submitting replicate 2 of 4EJ4\n"
     ]
    },
    {
     "name": "stderr",
     "output_type": "stream",
     "text": [
      "2021-06-26 01:55:21,581 - htmd.builder.builder - WARNING - Found cis peptide bond in 1 frames: [0] in the omega diheral \"Angle of (SER 204 CA P P) (SER 204 C P P) (PRO 205 N P P) (PRO 205 CA P P) \" with indexes [2602, 2609, 2611, 2615]\n",
      "2021-06-26 01:55:22,800 - htmd.protocols.production_v6 - WARNING - Lipids detected in input structure. We highly recommend setting useconstantratio=True for membrane simulations.\n",
      "2021-06-26 01:55:23,410 - jobqueues.slurmqueue - INFO - Queueing /gpcr/users/daranda/doctorat/GPCR_simulations/simulation_output/production/4EJ4_apo/rep_2/\n"
     ]
    },
    {
     "name": "stdout",
     "output_type": "stream",
     "text": [
      "submitting replicate 3 of 4EJ4\n"
     ]
    },
    {
     "name": "stderr",
     "output_type": "stream",
     "text": [
      "2021-06-26 01:55:57,081 - htmd.builder.builder - WARNING - Found cis peptide bond in 1 frames: [0] in the omega diheral \"Angle of (SER 204 CA P P) (SER 204 C P P) (PRO 205 N P P) (PRO 205 CA P P) \" with indexes [2602, 2609, 2611, 2615]\n",
      "2021-06-26 01:55:58,309 - htmd.protocols.production_v6 - WARNING - Lipids detected in input structure. We highly recommend setting useconstantratio=True for membrane simulations.\n",
      "2021-06-26 01:55:58,850 - jobqueues.slurmqueue - INFO - Queueing /gpcr/users/daranda/doctorat/GPCR_simulations/simulation_output/production/4EJ4_apo/rep_3/\n"
     ]
    },
    {
     "name": "stdout",
     "output_type": "stream",
     "text": [
      "replicate 1 of structure 4EJ4 already has been simulated\n",
      "replicate 2 of structure 4EJ4 already has been simulated\n",
      "replicate 3 of structure 4EJ4 already has been simulated\n",
      "submitting replicate 1 of 6CM4\n"
     ]
    },
    {
     "name": "stderr",
     "output_type": "stream",
     "text": [
      "2021-06-26 01:56:33,156 - htmd.builder.builder - WARNING - Found cis peptide bond in 1 frames: [0] in the omega diheral \"Angle of (TYR 146 CA P0 P) (TYR 146 C P0 P) (SER 147 N P0 P) (SER 147 CA P0 P) \" with indexes [1918, 1935, 1937, 1939]\n",
      "2021-06-26 01:56:33,158 - htmd.builder.builder - WARNING - Found cis peptide bond in 1 frames: [0] in the omega diheral \"Angle of (ALA 185 CA P0 P) (ALA 185 C P0 P) (ASN 186 N P0 P) (ASN 186 CA P0 P) \" with indexes [2546, 2552, 2554, 2556]\n",
      "2021-06-26 01:56:34,447 - htmd.protocols.production_v6 - WARNING - Lipids detected in input structure. We highly recommend setting useconstantratio=True for membrane simulations.\n",
      "2021-06-26 01:56:35,363 - jobqueues.slurmqueue - INFO - Queueing /gpcr/users/daranda/doctorat/GPCR_simulations/simulation_output/production/6CM4_apo/rep_1/\n"
     ]
    },
    {
     "name": "stdout",
     "output_type": "stream",
     "text": [
      "submitting replicate 2 of 6CM4\n"
     ]
    },
    {
     "name": "stderr",
     "output_type": "stream",
     "text": [
      "2021-06-26 01:57:09,809 - htmd.builder.builder - WARNING - Found cis peptide bond in 1 frames: [0] in the omega diheral \"Angle of (TYR 146 CA P0 P) (TYR 146 C P0 P) (SER 147 N P0 P) (SER 147 CA P0 P) \" with indexes [1918, 1935, 1937, 1939]\n",
      "2021-06-26 01:57:09,811 - htmd.builder.builder - WARNING - Found cis peptide bond in 1 frames: [0] in the omega diheral \"Angle of (ALA 185 CA P0 P) (ALA 185 C P0 P) (ASN 186 N P0 P) (ASN 186 CA P0 P) \" with indexes [2546, 2552, 2554, 2556]\n",
      "2021-06-26 01:57:11,094 - htmd.protocols.production_v6 - WARNING - Lipids detected in input structure. We highly recommend setting useconstantratio=True for membrane simulations.\n",
      "2021-06-26 01:57:11,596 - jobqueues.slurmqueue - INFO - Queueing /gpcr/users/daranda/doctorat/GPCR_simulations/simulation_output/production/6CM4_apo/rep_2/\n"
     ]
    },
    {
     "name": "stdout",
     "output_type": "stream",
     "text": [
      "submitting replicate 3 of 6CM4\n"
     ]
    },
    {
     "name": "stderr",
     "output_type": "stream",
     "text": [
      "2021-06-26 01:57:45,533 - htmd.builder.builder - WARNING - Found cis peptide bond in 1 frames: [0] in the omega diheral \"Angle of (TYR 146 CA P0 P) (TYR 146 C P0 P) (SER 147 N P0 P) (SER 147 CA P0 P) \" with indexes [1918, 1935, 1937, 1939]\n",
      "2021-06-26 01:57:45,535 - htmd.builder.builder - WARNING - Found cis peptide bond in 1 frames: [0] in the omega diheral \"Angle of (ALA 185 CA P0 P) (ALA 185 C P0 P) (ASN 186 N P0 P) (ASN 186 CA P0 P) \" with indexes [2546, 2552, 2554, 2556]\n",
      "2021-06-26 01:57:46,819 - htmd.protocols.production_v6 - WARNING - Lipids detected in input structure. We highly recommend setting useconstantratio=True for membrane simulations.\n",
      "2021-06-26 01:57:47,342 - jobqueues.slurmqueue - INFO - Queueing /gpcr/users/daranda/doctorat/GPCR_simulations/simulation_output/production/6CM4_apo/rep_3/\n"
     ]
    },
    {
     "name": "stdout",
     "output_type": "stream",
     "text": [
      "submitting replicate 1 of 6CM4\n"
     ]
    },
    {
     "name": "stderr",
     "output_type": "stream",
     "text": [
      "2021-06-26 01:58:23,233 - htmd.builder.builder - WARNING - Found cis peptide bond in 1 frames: [0] in the omega diheral \"Angle of (TYR 146 CA P0 P) (TYR 146 C P0 P) (SER 147 N P0 P) (SER 147 CA P0 P) \" with indexes [1982, 1999, 2001, 2003]\n",
      "2021-06-26 01:58:23,235 - htmd.builder.builder - WARNING - Found cis peptide bond in 1 frames: [0] in the omega diheral \"Angle of (ALA 185 CA P0 P) (ALA 185 C P0 P) (ASN 186 N P0 P) (ASN 186 CA P0 P) \" with indexes [2610, 2616, 2618, 2620]\n",
      "2021-06-26 01:58:24,520 - htmd.protocols.production_v6 - WARNING - Lipids detected in input structure. We highly recommend setting useconstantratio=True for membrane simulations.\n",
      "2021-06-26 01:58:25,715 - jobqueues.slurmqueue - INFO - Queueing /gpcr/users/daranda/doctorat/GPCR_simulations/simulation_output/production/6CM4/rep_1/\n"
     ]
    },
    {
     "name": "stdout",
     "output_type": "stream",
     "text": [
      "submitting replicate 2 of 6CM4\n"
     ]
    },
    {
     "name": "stderr",
     "output_type": "stream",
     "text": [
      "2021-06-26 01:58:58,901 - htmd.builder.builder - WARNING - Found cis peptide bond in 1 frames: [0] in the omega diheral \"Angle of (TYR 146 CA P0 P) (TYR 146 C P0 P) (SER 147 N P0 P) (SER 147 CA P0 P) \" with indexes [1982, 1999, 2001, 2003]\n",
      "2021-06-26 01:58:58,903 - htmd.builder.builder - WARNING - Found cis peptide bond in 1 frames: [0] in the omega diheral \"Angle of (ALA 185 CA P0 P) (ALA 185 C P0 P) (ASN 186 N P0 P) (ASN 186 CA P0 P) \" with indexes [2610, 2616, 2618, 2620]\n",
      "2021-06-26 01:59:00,193 - htmd.protocols.production_v6 - WARNING - Lipids detected in input structure. We highly recommend setting useconstantratio=True for membrane simulations.\n",
      "2021-06-26 01:59:00,758 - jobqueues.slurmqueue - INFO - Queueing /gpcr/users/daranda/doctorat/GPCR_simulations/simulation_output/production/6CM4/rep_2/\n"
     ]
    },
    {
     "name": "stdout",
     "output_type": "stream",
     "text": [
      "submitting replicate 3 of 6CM4\n"
     ]
    },
    {
     "name": "stderr",
     "output_type": "stream",
     "text": [
      "2021-06-26 01:59:34,996 - htmd.builder.builder - WARNING - Found cis peptide bond in 1 frames: [0] in the omega diheral \"Angle of (TYR 146 CA P0 P) (TYR 146 C P0 P) (SER 147 N P0 P) (SER 147 CA P0 P) \" with indexes [1982, 1999, 2001, 2003]\n",
      "2021-06-26 01:59:34,998 - htmd.builder.builder - WARNING - Found cis peptide bond in 1 frames: [0] in the omega diheral \"Angle of (ALA 185 CA P0 P) (ALA 185 C P0 P) (ASN 186 N P0 P) (ASN 186 CA P0 P) \" with indexes [2610, 2616, 2618, 2620]\n",
      "2021-06-26 01:59:36,278 - htmd.protocols.production_v6 - WARNING - Lipids detected in input structure. We highly recommend setting useconstantratio=True for membrane simulations.\n",
      "2021-06-26 01:59:37,358 - jobqueues.slurmqueue - INFO - Queueing /gpcr/users/daranda/doctorat/GPCR_simulations/simulation_output/production/6CM4/rep_3/\n"
     ]
    },
    {
     "name": "stdout",
     "output_type": "stream",
     "text": [
      "submitting replicate 1 of 5XSZ\n"
     ]
    },
    {
     "name": "stderr",
     "output_type": "stream",
     "text": [
      "2021-06-26 02:00:08,107 - htmd.protocols.production_v6 - WARNING - Lipids detected in input structure. We highly recommend setting useconstantratio=True for membrane simulations.\n",
      "2021-06-26 02:00:08,928 - jobqueues.slurmqueue - INFO - Queueing /gpcr/users/daranda/doctorat/GPCR_simulations/simulation_output/production/5XSZ_apo/rep_1/\n"
     ]
    },
    {
     "name": "stdout",
     "output_type": "stream",
     "text": [
      "submitting replicate 2 of 5XSZ\n"
     ]
    },
    {
     "name": "stderr",
     "output_type": "stream",
     "text": [
      "2021-06-26 02:00:38,658 - htmd.protocols.production_v6 - WARNING - Lipids detected in input structure. We highly recommend setting useconstantratio=True for membrane simulations.\n",
      "2021-06-26 02:00:39,023 - jobqueues.slurmqueue - INFO - Queueing /gpcr/users/daranda/doctorat/GPCR_simulations/simulation_output/production/5XSZ_apo/rep_2/\n"
     ]
    },
    {
     "name": "stdout",
     "output_type": "stream",
     "text": [
      "submitting replicate 3 of 5XSZ\n"
     ]
    },
    {
     "name": "stderr",
     "output_type": "stream",
     "text": [
      "2021-06-26 02:01:08,545 - htmd.protocols.production_v6 - WARNING - Lipids detected in input structure. We highly recommend setting useconstantratio=True for membrane simulations.\n",
      "2021-06-26 02:01:08,907 - jobqueues.slurmqueue - INFO - Queueing /gpcr/users/daranda/doctorat/GPCR_simulations/simulation_output/production/5XSZ_apo/rep_3/\n"
     ]
    },
    {
     "name": "stdout",
     "output_type": "stream",
     "text": [
      "submitting replicate 1 of 5XSZ\n",
      "model 5XSZ could not be send to equilibrate because of  Could not locate file /gpcr/users/daranda/doctorat/GPCR_simulations/simulation_output//equil/5XSZ/structure.pdb set by the user for argument Production.acemd.coordinates\n",
      "submitting replicate 2 of 5XSZ\n",
      "model 5XSZ could not be send to equilibrate because of  Could not locate file /gpcr/users/daranda/doctorat/GPCR_simulations/simulation_output//equil/5XSZ/structure.pdb set by the user for argument Production.acemd.coordinates\n",
      "submitting replicate 3 of 5XSZ\n",
      "model 5XSZ could not be send to equilibrate because of  Could not locate file /gpcr/users/daranda/doctorat/GPCR_simulations/simulation_output//equil/5XSZ/structure.pdb set by the user for argument Production.acemd.coordinates\n",
      "submitting replicate 1 of 6DS0\n"
     ]
    },
    {
     "name": "stderr",
     "output_type": "stream",
     "text": [
      "2021-06-26 02:01:39,277 - htmd.builder.builder - WARNING - Found cis peptide bond in 1 frames: [0] in the omega diheral \"Angle of (ALA 170 CA P0 P) (ALA 170 C P0 P) (ALA 172 N P0 P) (ALA 172 CA P0 P) \" with indexes [1982, 1988, 1990, 1992]\n",
      "2021-06-26 02:01:40,345 - htmd.protocols.production_v6 - WARNING - Lipids detected in input structure. We highly recommend setting useconstantratio=True for membrane simulations.\n",
      "2021-06-26 02:01:41,337 - jobqueues.slurmqueue - INFO - Queueing /gpcr/users/daranda/doctorat/GPCR_simulations/simulation_output/production/6DS0_apo/rep_1/\n"
     ]
    },
    {
     "name": "stdout",
     "output_type": "stream",
     "text": [
      "submitting replicate 2 of 6DS0\n"
     ]
    },
    {
     "name": "stderr",
     "output_type": "stream",
     "text": [
      "2021-06-26 02:02:13,616 - htmd.builder.builder - WARNING - Found cis peptide bond in 1 frames: [0] in the omega diheral \"Angle of (ALA 170 CA P0 P) (ALA 170 C P0 P) (ALA 172 N P0 P) (ALA 172 CA P0 P) \" with indexes [1982, 1988, 1990, 1992]\n",
      "2021-06-26 02:02:14,682 - htmd.protocols.production_v6 - WARNING - Lipids detected in input structure. We highly recommend setting useconstantratio=True for membrane simulations.\n",
      "2021-06-26 02:02:15,521 - jobqueues.slurmqueue - INFO - Queueing /gpcr/users/daranda/doctorat/GPCR_simulations/simulation_output/production/6DS0_apo/rep_2/\n"
     ]
    },
    {
     "name": "stdout",
     "output_type": "stream",
     "text": [
      "submitting replicate 3 of 6DS0\n"
     ]
    },
    {
     "name": "stderr",
     "output_type": "stream",
     "text": [
      "2021-06-26 02:02:46,832 - htmd.builder.builder - WARNING - Found cis peptide bond in 1 frames: [0] in the omega diheral \"Angle of (ALA 170 CA P0 P) (ALA 170 C P0 P) (ALA 172 N P0 P) (ALA 172 CA P0 P) \" with indexes [1982, 1988, 1990, 1992]\n",
      "2021-06-26 02:02:47,899 - htmd.protocols.production_v6 - WARNING - Lipids detected in input structure. We highly recommend setting useconstantratio=True for membrane simulations.\n",
      "2021-06-26 02:02:48,635 - jobqueues.slurmqueue - INFO - Queueing /gpcr/users/daranda/doctorat/GPCR_simulations/simulation_output/production/6DS0_apo/rep_3/\n"
     ]
    },
    {
     "name": "stdout",
     "output_type": "stream",
     "text": [
      "submitting replicate 1 of 6DS0\n"
     ]
    },
    {
     "name": "stderr",
     "output_type": "stream",
     "text": [
      "2021-06-26 02:03:18,226 - htmd.builder.builder - WARNING - Found cis peptide bond in 1 frames: [0] in the omega diheral \"Angle of (ALA 170 CA P0 P) (ALA 170 C P0 P) (ALA 172 N P0 P) (ALA 172 CA P0 P) \" with indexes [2106, 2112, 2114, 2116]\n",
      "2021-06-26 02:03:19,290 - htmd.protocols.production_v6 - WARNING - Lipids detected in input structure. We highly recommend setting useconstantratio=True for membrane simulations.\n",
      "2021-06-26 02:03:20,143 - jobqueues.slurmqueue - INFO - Queueing /gpcr/users/daranda/doctorat/GPCR_simulations/simulation_output/production/6DS0/rep_1/\n"
     ]
    },
    {
     "name": "stdout",
     "output_type": "stream",
     "text": [
      "submitting replicate 2 of 6DS0\n"
     ]
    },
    {
     "name": "stderr",
     "output_type": "stream",
     "text": [
      "2021-06-26 02:03:49,970 - htmd.builder.builder - WARNING - Found cis peptide bond in 1 frames: [0] in the omega diheral \"Angle of (ALA 170 CA P0 P) (ALA 170 C P0 P) (ALA 172 N P0 P) (ALA 172 CA P0 P) \" with indexes [2106, 2112, 2114, 2116]\n",
      "2021-06-26 02:03:51,035 - htmd.protocols.production_v6 - WARNING - Lipids detected in input structure. We highly recommend setting useconstantratio=True for membrane simulations.\n",
      "2021-06-26 02:03:51,882 - jobqueues.slurmqueue - INFO - Queueing /gpcr/users/daranda/doctorat/GPCR_simulations/simulation_output/production/6DS0/rep_2/\n"
     ]
    },
    {
     "name": "stdout",
     "output_type": "stream",
     "text": [
      "submitting replicate 3 of 6DS0\n"
     ]
    },
    {
     "name": "stderr",
     "output_type": "stream",
     "text": [
      "2021-06-26 02:04:21,738 - htmd.builder.builder - WARNING - Found cis peptide bond in 1 frames: [0] in the omega diheral \"Angle of (ALA 170 CA P0 P) (ALA 170 C P0 P) (ALA 172 N P0 P) (ALA 172 CA P0 P) \" with indexes [2106, 2112, 2114, 2116]\n",
      "2021-06-26 02:04:22,785 - htmd.protocols.production_v6 - WARNING - Lipids detected in input structure. We highly recommend setting useconstantratio=True for membrane simulations.\n",
      "2021-06-26 02:04:23,171 - jobqueues.slurmqueue - INFO - Queueing /gpcr/users/daranda/doctorat/GPCR_simulations/simulation_output/production/6DS0/rep_3/\n"
     ]
    },
    {
     "name": "stdout",
     "output_type": "stream",
     "text": [
      "submitting replicate 1 of 5OLZ\n"
     ]
    },
    {
     "name": "stderr",
     "output_type": "stream",
     "text": [
      "2021-06-26 02:05:01,273 - htmd.protocols.production_v6 - WARNING - Lipids detected in input structure. We highly recommend setting useconstantratio=True for membrane simulations.\n",
      "2021-06-26 02:05:02,253 - jobqueues.slurmqueue - INFO - Queueing /gpcr/users/daranda/doctorat/GPCR_simulations/simulation_output/production/5OLZ_apo/rep_1/\n"
     ]
    },
    {
     "name": "stdout",
     "output_type": "stream",
     "text": [
      "submitting replicate 2 of 5OLZ\n"
     ]
    },
    {
     "name": "stderr",
     "output_type": "stream",
     "text": [
      "2021-06-26 02:05:39,700 - htmd.protocols.production_v6 - WARNING - Lipids detected in input structure. We highly recommend setting useconstantratio=True for membrane simulations.\n",
      "2021-06-26 02:05:40,282 - jobqueues.slurmqueue - INFO - Queueing /gpcr/users/daranda/doctorat/GPCR_simulations/simulation_output/production/5OLZ_apo/rep_2/\n"
     ]
    },
    {
     "name": "stdout",
     "output_type": "stream",
     "text": [
      "submitting replicate 3 of 5OLZ\n"
     ]
    },
    {
     "name": "stderr",
     "output_type": "stream",
     "text": [
      "2021-06-26 02:06:17,985 - htmd.protocols.production_v6 - WARNING - Lipids detected in input structure. We highly recommend setting useconstantratio=True for membrane simulations.\n",
      "2021-06-26 02:06:18,647 - jobqueues.slurmqueue - INFO - Queueing /gpcr/users/daranda/doctorat/GPCR_simulations/simulation_output/production/5OLZ_apo/rep_3/\n"
     ]
    },
    {
     "name": "stdout",
     "output_type": "stream",
     "text": [
      "submitting replicate 1 of 5OLZ\n"
     ]
    },
    {
     "name": "stderr",
     "output_type": "stream",
     "text": [
      "2021-06-26 02:06:57,140 - htmd.protocols.production_v6 - WARNING - Lipids detected in input structure. We highly recommend setting useconstantratio=True for membrane simulations.\n",
      "2021-06-26 02:06:58,131 - jobqueues.slurmqueue - INFO - Queueing /gpcr/users/daranda/doctorat/GPCR_simulations/simulation_output/production/5OLZ/rep_1/\n"
     ]
    },
    {
     "name": "stdout",
     "output_type": "stream",
     "text": [
      "submitting replicate 2 of 5OLZ\n"
     ]
    },
    {
     "name": "stderr",
     "output_type": "stream",
     "text": [
      "2021-06-26 02:07:35,170 - htmd.protocols.production_v6 - WARNING - Lipids detected in input structure. We highly recommend setting useconstantratio=True for membrane simulations.\n",
      "2021-06-26 02:07:35,698 - jobqueues.slurmqueue - INFO - Queueing /gpcr/users/daranda/doctorat/GPCR_simulations/simulation_output/production/5OLZ/rep_2/\n"
     ]
    },
    {
     "name": "stdout",
     "output_type": "stream",
     "text": [
      "submitting replicate 3 of 5OLZ\n"
     ]
    },
    {
     "name": "stderr",
     "output_type": "stream",
     "text": [
      "2021-06-26 02:08:12,935 - htmd.protocols.production_v6 - WARNING - Lipids detected in input structure. We highly recommend setting useconstantratio=True for membrane simulations.\n",
      "2021-06-26 02:08:13,529 - jobqueues.slurmqueue - INFO - Queueing /gpcr/users/daranda/doctorat/GPCR_simulations/simulation_output/production/5OLZ/rep_3/\n"
     ]
    },
    {
     "name": "stdout",
     "output_type": "stream",
     "text": [
      "submitting replicate 1 of 6M9T\n"
     ]
    },
    {
     "name": "stderr",
     "output_type": "stream",
     "text": [
      "2021-06-26 02:08:56,004 - htmd.builder.builder - WARNING - Found cis peptide bond in 1 frames: [0] in the omega diheral \"Angle of (TRP 203 CA P P) (TRP 203 C P P) (PRO 204 N P P) (PRO 204 CA P P) \" with indexes [2507, 2527, 2529, 2533]\n",
      "2021-06-26 02:08:57,578 - htmd.protocols.production_v6 - WARNING - Lipids detected in input structure. We highly recommend setting useconstantratio=True for membrane simulations.\n",
      "2021-06-26 02:08:58,700 - jobqueues.slurmqueue - INFO - Queueing /gpcr/users/daranda/doctorat/GPCR_simulations/simulation_output/production/6M9T_apo/rep_1/\n"
     ]
    },
    {
     "name": "stdout",
     "output_type": "stream",
     "text": [
      "submitting replicate 2 of 6M9T\n"
     ]
    },
    {
     "name": "stderr",
     "output_type": "stream",
     "text": [
      "2021-06-26 02:09:40,532 - htmd.builder.builder - WARNING - Found cis peptide bond in 1 frames: [0] in the omega diheral \"Angle of (TRP 203 CA P P) (TRP 203 C P P) (PRO 204 N P P) (PRO 204 CA P P) \" with indexes [2507, 2527, 2529, 2533]\n",
      "2021-06-26 02:09:41,953 - htmd.protocols.production_v6 - WARNING - Lipids detected in input structure. We highly recommend setting useconstantratio=True for membrane simulations.\n",
      "2021-06-26 02:09:42,856 - jobqueues.slurmqueue - INFO - Queueing /gpcr/users/daranda/doctorat/GPCR_simulations/simulation_output/production/6M9T_apo/rep_2/\n"
     ]
    },
    {
     "name": "stdout",
     "output_type": "stream",
     "text": [
      "submitting replicate 3 of 6M9T\n"
     ]
    },
    {
     "name": "stderr",
     "output_type": "stream",
     "text": [
      "2021-06-26 02:10:25,568 - htmd.builder.builder - WARNING - Found cis peptide bond in 1 frames: [0] in the omega diheral \"Angle of (TRP 203 CA P P) (TRP 203 C P P) (PRO 204 N P P) (PRO 204 CA P P) \" with indexes [2507, 2527, 2529, 2533]\n",
      "2021-06-26 02:10:27,134 - htmd.protocols.production_v6 - WARNING - Lipids detected in input structure. We highly recommend setting useconstantratio=True for membrane simulations.\n",
      "2021-06-26 02:10:27,965 - jobqueues.slurmqueue - INFO - Queueing /gpcr/users/daranda/doctorat/GPCR_simulations/simulation_output/production/6M9T_apo/rep_3/\n"
     ]
    },
    {
     "name": "stdout",
     "output_type": "stream",
     "text": [
      "submitting replicate 1 of 6M9T\n"
     ]
    },
    {
     "name": "stderr",
     "output_type": "stream",
     "text": [
      "2021-06-26 02:11:15,464 - htmd.builder.builder - WARNING - Found cis peptide bond in 1 frames: [0] in the omega diheral \"Angle of (TRP 203 CA P P) (TRP 203 C P P) (PRO 204 N P P) (PRO 204 CA P P) \" with indexes [2569, 2589, 2591, 2595]\n",
      "2021-06-26 02:11:17,029 - htmd.protocols.production_v6 - WARNING - Lipids detected in input structure. We highly recommend setting useconstantratio=True for membrane simulations.\n",
      "2021-06-26 02:11:18,165 - jobqueues.slurmqueue - INFO - Queueing /gpcr/users/daranda/doctorat/GPCR_simulations/simulation_output/production/6M9T/rep_1/\n"
     ]
    },
    {
     "name": "stdout",
     "output_type": "stream",
     "text": [
      "submitting replicate 2 of 6M9T\n"
     ]
    },
    {
     "name": "stderr",
     "output_type": "stream",
     "text": [
      "2021-06-26 02:11:59,887 - htmd.builder.builder - WARNING - Found cis peptide bond in 1 frames: [0] in the omega diheral \"Angle of (TRP 203 CA P P) (TRP 203 C P P) (PRO 204 N P P) (PRO 204 CA P P) \" with indexes [2569, 2589, 2591, 2595]\n",
      "2021-06-26 02:12:01,465 - htmd.protocols.production_v6 - WARNING - Lipids detected in input structure. We highly recommend setting useconstantratio=True for membrane simulations.\n",
      "2021-06-26 02:12:02,198 - jobqueues.slurmqueue - INFO - Queueing /gpcr/users/daranda/doctorat/GPCR_simulations/simulation_output/production/6M9T/rep_2/\n"
     ]
    },
    {
     "name": "stdout",
     "output_type": "stream",
     "text": [
      "submitting replicate 3 of 6M9T\n"
     ]
    },
    {
     "name": "stderr",
     "output_type": "stream",
     "text": [
      "2021-06-26 02:12:44,404 - htmd.builder.builder - WARNING - Found cis peptide bond in 1 frames: [0] in the omega diheral \"Angle of (TRP 203 CA P P) (TRP 203 C P P) (PRO 204 N P P) (PRO 204 CA P P) \" with indexes [2569, 2589, 2591, 2595]\n",
      "2021-06-26 02:12:45,968 - htmd.protocols.production_v6 - WARNING - Lipids detected in input structure. We highly recommend setting useconstantratio=True for membrane simulations.\n",
      "2021-06-26 02:12:46,714 - jobqueues.slurmqueue - INFO - Queueing /gpcr/users/daranda/doctorat/GPCR_simulations/simulation_output/production/6M9T/rep_3/\n"
     ]
    },
    {
     "name": "stdout",
     "output_type": "stream",
     "text": [
      "submitting replicate 1 of 6LRY\n"
     ]
    },
    {
     "name": "stderr",
     "output_type": "stream",
     "text": [
      "2021-06-26 02:13:22,783 - htmd.builder.builder - WARNING - Found cis peptide bond in 1 frames: [0] in the omega diheral \"Angle of (ILE 212 CA P P) (ILE 212 C P P) (GLY 213 N P P) (GLY 213 CA P P) \" with indexes [2019, 2034, 2036, 2038]\n",
      "2021-06-26 02:13:24,056 - htmd.protocols.production_v6 - WARNING - Lipids detected in input structure. We highly recommend setting useconstantratio=True for membrane simulations.\n",
      "2021-06-26 02:13:24,975 - jobqueues.slurmqueue - INFO - Queueing /gpcr/users/daranda/doctorat/GPCR_simulations/simulation_output/production/6LRY_apo/rep_1/\n"
     ]
    },
    {
     "name": "stdout",
     "output_type": "stream",
     "text": [
      "submitting replicate 2 of 6LRY\n"
     ]
    },
    {
     "name": "stderr",
     "output_type": "stream",
     "text": [
      "2021-06-26 02:14:00,061 - htmd.builder.builder - WARNING - Found cis peptide bond in 1 frames: [0] in the omega diheral \"Angle of (ILE 212 CA P P) (ILE 212 C P P) (GLY 213 N P P) (GLY 213 CA P P) \" with indexes [2019, 2034, 2036, 2038]\n",
      "2021-06-26 02:14:01,261 - htmd.protocols.production_v6 - WARNING - Lipids detected in input structure. We highly recommend setting useconstantratio=True for membrane simulations.\n",
      "2021-06-26 02:14:01,675 - jobqueues.slurmqueue - INFO - Queueing /gpcr/users/daranda/doctorat/GPCR_simulations/simulation_output/production/6LRY_apo/rep_2/\n"
     ]
    },
    {
     "name": "stdout",
     "output_type": "stream",
     "text": [
      "submitting replicate 3 of 6LRY\n"
     ]
    },
    {
     "name": "stderr",
     "output_type": "stream",
     "text": [
      "2021-06-26 02:14:36,797 - htmd.builder.builder - WARNING - Found cis peptide bond in 1 frames: [0] in the omega diheral \"Angle of (ILE 212 CA P P) (ILE 212 C P P) (GLY 213 N P P) (GLY 213 CA P P) \" with indexes [2019, 2034, 2036, 2038]\n",
      "2021-06-26 02:14:38,066 - htmd.protocols.production_v6 - WARNING - Lipids detected in input structure. We highly recommend setting useconstantratio=True for membrane simulations.\n",
      "2021-06-26 02:14:38,605 - jobqueues.slurmqueue - INFO - Queueing /gpcr/users/daranda/doctorat/GPCR_simulations/simulation_output/production/6LRY_apo/rep_3/\n"
     ]
    },
    {
     "name": "stdout",
     "output_type": "stream",
     "text": [
      "replicate 1 of structure 6LRY already has been simulated\n",
      "replicate 2 of structure 6LRY already has been simulated\n",
      "replicate 3 of structure 6LRY already has been simulated\n",
      "submitting replicate 1 of 6FK8\n"
     ]
    },
    {
     "name": "stderr",
     "output_type": "stream",
     "text": [
      "2021-06-26 02:15:12,311 - htmd.builder.builder - WARNING - Found cis peptide bond in 1 frames: [0] in the omega diheral \"Angle of (ASN 326 CA P P) (ASN 326 C P P) (PRO 327 N P P) (PRO 327 CA P P) \" with indexes [5157, 5167, 5169, 5173]\n",
      "2021-06-26 02:15:13,456 - htmd.protocols.production_v6 - WARNING - Lipids detected in input structure. We highly recommend setting useconstantratio=True for membrane simulations.\n",
      "2021-06-26 02:15:14,786 - jobqueues.slurmqueue - INFO - Queueing /gpcr/users/daranda/doctorat/GPCR_simulations/simulation_output/production/6FK8_apo/rep_1/\n"
     ]
    },
    {
     "name": "stdout",
     "output_type": "stream",
     "text": [
      "submitting replicate 2 of 6FK8\n"
     ]
    },
    {
     "name": "stderr",
     "output_type": "stream",
     "text": [
      "2021-06-26 02:15:47,544 - htmd.builder.builder - WARNING - Found cis peptide bond in 1 frames: [0] in the omega diheral \"Angle of (ASN 326 CA P P) (ASN 326 C P P) (PRO 327 N P P) (PRO 327 CA P P) \" with indexes [5157, 5167, 5169, 5173]\n",
      "2021-06-26 02:15:48,691 - htmd.protocols.production_v6 - WARNING - Lipids detected in input structure. We highly recommend setting useconstantratio=True for membrane simulations.\n",
      "2021-06-26 02:15:49,578 - jobqueues.slurmqueue - INFO - Queueing /gpcr/users/daranda/doctorat/GPCR_simulations/simulation_output/production/6FK8_apo/rep_2/\n"
     ]
    },
    {
     "name": "stdout",
     "output_type": "stream",
     "text": [
      "submitting replicate 3 of 6FK8\n"
     ]
    },
    {
     "name": "stderr",
     "output_type": "stream",
     "text": [
      "2021-06-26 02:16:23,208 - htmd.builder.builder - WARNING - Found cis peptide bond in 1 frames: [0] in the omega diheral \"Angle of (ASN 326 CA P P) (ASN 326 C P P) (PRO 327 N P P) (PRO 327 CA P P) \" with indexes [5157, 5167, 5169, 5173]\n",
      "2021-06-26 02:16:24,346 - htmd.protocols.production_v6 - WARNING - Lipids detected in input structure. We highly recommend setting useconstantratio=True for membrane simulations.\n",
      "2021-06-26 02:16:24,937 - jobqueues.slurmqueue - INFO - Queueing /gpcr/users/daranda/doctorat/GPCR_simulations/simulation_output/production/6FK8_apo/rep_3/\n"
     ]
    },
    {
     "name": "stdout",
     "output_type": "stream",
     "text": [
      "submitting replicate 1 of 6FK8\n"
     ]
    },
    {
     "name": "stderr",
     "output_type": "stream",
     "text": [
      "2021-06-26 02:16:58,760 - htmd.builder.builder - WARNING - Found cis peptide bond in 1 frames: [0] in the omega diheral \"Angle of (ASN 326 CA P P) (ASN 326 C P P) (PRO 327 N P P) (PRO 327 CA P P) \" with indexes [5216, 5226, 5228, 5232]\n",
      "2021-06-26 02:16:59,908 - htmd.protocols.production_v6 - WARNING - Lipids detected in input structure. We highly recommend setting useconstantratio=True for membrane simulations.\n",
      "2021-06-26 02:17:00,991 - jobqueues.slurmqueue - INFO - Queueing /gpcr/users/daranda/doctorat/GPCR_simulations/simulation_output/production/6FK8/rep_1/\n"
     ]
    },
    {
     "name": "stdout",
     "output_type": "stream",
     "text": [
      "submitting replicate 2 of 6FK8\n"
     ]
    },
    {
     "name": "stderr",
     "output_type": "stream",
     "text": [
      "2021-06-26 02:17:34,690 - htmd.builder.builder - WARNING - Found cis peptide bond in 1 frames: [0] in the omega diheral \"Angle of (ASN 326 CA P P) (ASN 326 C P P) (PRO 327 N P P) (PRO 327 CA P P) \" with indexes [5216, 5226, 5228, 5232]\n",
      "2021-06-26 02:17:35,815 - htmd.protocols.production_v6 - WARNING - Lipids detected in input structure. We highly recommend setting useconstantratio=True for membrane simulations.\n",
      "2021-06-26 02:17:36,307 - jobqueues.slurmqueue - INFO - Queueing /gpcr/users/daranda/doctorat/GPCR_simulations/simulation_output/production/6FK8/rep_2/\n"
     ]
    },
    {
     "name": "stdout",
     "output_type": "stream",
     "text": [
      "submitting replicate 3 of 6FK8\n"
     ]
    },
    {
     "name": "stderr",
     "output_type": "stream",
     "text": [
      "2021-06-26 02:18:09,390 - htmd.builder.builder - WARNING - Found cis peptide bond in 1 frames: [0] in the omega diheral \"Angle of (ASN 326 CA P P) (ASN 326 C P P) (PRO 327 N P P) (PRO 327 CA P P) \" with indexes [5216, 5226, 5228, 5232]\n",
      "2021-06-26 02:18:10,529 - htmd.protocols.production_v6 - WARNING - Lipids detected in input structure. We highly recommend setting useconstantratio=True for membrane simulations.\n",
      "2021-06-26 02:18:11,364 - jobqueues.slurmqueue - INFO - Queueing /gpcr/users/daranda/doctorat/GPCR_simulations/simulation_output/production/6FK8/rep_3/\n"
     ]
    },
    {
     "name": "stdout",
     "output_type": "stream",
     "text": [
      "submitting replicate 1 of 5MZP\n"
     ]
    },
    {
     "name": "stderr",
     "output_type": "stream",
     "text": [
      "2021-06-26 02:18:47,413 - htmd.builder.builder - WARNING - Found cis peptide bond in 1 frames: [0] in the omega diheral \"Angle of (LEU 216 CA P P) (LEU 216 C P P) (PRO 217 N P P) (PRO 217 CA P P) \" with indexes [3337, 3352, 3354, 3358]\n",
      "2021-06-26 02:18:48,737 - htmd.protocols.production_v6 - WARNING - Lipids detected in input structure. We highly recommend setting useconstantratio=True for membrane simulations.\n",
      "2021-06-26 02:18:50,606 - jobqueues.slurmqueue - INFO - Queueing /gpcr/users/daranda/doctorat/GPCR_simulations/simulation_output/production/5MZP_apo/rep_1/\n"
     ]
    },
    {
     "name": "stdout",
     "output_type": "stream",
     "text": [
      "submitting replicate 2 of 5MZP\n"
     ]
    },
    {
     "name": "stderr",
     "output_type": "stream",
     "text": [
      "2021-06-26 02:19:25,953 - htmd.builder.builder - WARNING - Found cis peptide bond in 1 frames: [0] in the omega diheral \"Angle of (LEU 216 CA P P) (LEU 216 C P P) (PRO 217 N P P) (PRO 217 CA P P) \" with indexes [3337, 3352, 3354, 3358]\n",
      "2021-06-26 02:19:27,273 - htmd.protocols.production_v6 - WARNING - Lipids detected in input structure. We highly recommend setting useconstantratio=True for membrane simulations.\n",
      "2021-06-26 02:19:28,063 - jobqueues.slurmqueue - INFO - Queueing /gpcr/users/daranda/doctorat/GPCR_simulations/simulation_output/production/5MZP_apo/rep_2/\n"
     ]
    },
    {
     "name": "stdout",
     "output_type": "stream",
     "text": [
      "submitting replicate 3 of 5MZP\n"
     ]
    },
    {
     "name": "stderr",
     "output_type": "stream",
     "text": [
      "2021-06-26 02:20:03,702 - htmd.builder.builder - WARNING - Found cis peptide bond in 1 frames: [0] in the omega diheral \"Angle of (LEU 216 CA P P) (LEU 216 C P P) (PRO 217 N P P) (PRO 217 CA P P) \" with indexes [3337, 3352, 3354, 3358]\n",
      "2021-06-26 02:20:05,014 - htmd.protocols.production_v6 - WARNING - Lipids detected in input structure. We highly recommend setting useconstantratio=True for membrane simulations.\n",
      "2021-06-26 02:20:05,597 - jobqueues.slurmqueue - INFO - Queueing /gpcr/users/daranda/doctorat/GPCR_simulations/simulation_output/production/5MZP_apo/rep_3/\n"
     ]
    },
    {
     "name": "stdout",
     "output_type": "stream",
     "text": [
      "submitting replicate 1 of 5MZP\n"
     ]
    },
    {
     "name": "stderr",
     "output_type": "stream",
     "text": [
      "2021-06-26 02:20:46,545 - htmd.builder.builder - WARNING - Found cis peptide bond in 1 frames: [0] in the omega diheral \"Angle of (LEU 216 CA P P) (LEU 216 C P P) (PRO 217 N P P) (PRO 217 CA P P) \" with indexes [3658, 3673, 3675, 3679]\n",
      "2021-06-26 02:20:47,872 - htmd.protocols.production_v6 - WARNING - Lipids detected in input structure. We highly recommend setting useconstantratio=True for membrane simulations.\n",
      "2021-06-26 02:20:49,187 - jobqueues.slurmqueue - INFO - Queueing /gpcr/users/daranda/doctorat/GPCR_simulations/simulation_output/production/5MZP/rep_1/\n"
     ]
    },
    {
     "name": "stdout",
     "output_type": "stream",
     "text": [
      "submitting replicate 2 of 5MZP\n"
     ]
    },
    {
     "name": "stderr",
     "output_type": "stream",
     "text": [
      "2021-06-26 02:21:25,205 - htmd.builder.builder - WARNING - Found cis peptide bond in 1 frames: [0] in the omega diheral \"Angle of (LEU 216 CA P P) (LEU 216 C P P) (PRO 217 N P P) (PRO 217 CA P P) \" with indexes [3658, 3673, 3675, 3679]\n",
      "2021-06-26 02:21:26,527 - htmd.protocols.production_v6 - WARNING - Lipids detected in input structure. We highly recommend setting useconstantratio=True for membrane simulations.\n",
      "2021-06-26 02:21:27,201 - jobqueues.slurmqueue - INFO - Queueing /gpcr/users/daranda/doctorat/GPCR_simulations/simulation_output/production/5MZP/rep_2/\n"
     ]
    },
    {
     "name": "stdout",
     "output_type": "stream",
     "text": [
      "submitting replicate 3 of 5MZP\n"
     ]
    },
    {
     "name": "stderr",
     "output_type": "stream",
     "text": [
      "2021-06-26 02:22:03,013 - htmd.builder.builder - WARNING - Found cis peptide bond in 1 frames: [0] in the omega diheral \"Angle of (LEU 216 CA P P) (LEU 216 C P P) (PRO 217 N P P) (PRO 217 CA P P) \" with indexes [3658, 3673, 3675, 3679]\n",
      "2021-06-26 02:22:04,348 - htmd.protocols.production_v6 - WARNING - Lipids detected in input structure. We highly recommend setting useconstantratio=True for membrane simulations.\n",
      "2021-06-26 02:22:05,111 - jobqueues.slurmqueue - INFO - Queueing /gpcr/users/daranda/doctorat/GPCR_simulations/simulation_output/production/5MZP/rep_3/\n"
     ]
    },
    {
     "name": "stdout",
     "output_type": "stream",
     "text": [
      "submitting replicate 1 of 4QIM\n"
     ]
    },
    {
     "name": "stderr",
     "output_type": "stream",
     "text": [
      "2021-06-26 02:22:22,586 - moleculekit.readers - WARNING - Non-integer values were read from the PDB \"serial\" field. Dropping PDB values and assigning new ones.\n",
      "2021-06-26 02:22:22,748 - moleculekit.readers - WARNING - Reading PDB file with more than 99999 atoms. Bond information can be wrong.\n",
      "2021-06-26 02:23:08,672 - htmd.builder.builder - WARNING - Found cis peptide bond in 1 frames: [0] in the omega diheral \"Angle of (VAL 195 CA P P) (VAL 195 C P P) (PRO 196 N P P) (PRO 196 CA P P) \" with indexes [68, 80, 82, 86]\n",
      "2021-06-26 02:23:08,674 - htmd.builder.builder - WARNING - Found cis peptide bond in 1 frames: [0] in the omega diheral \"Angle of (TYR 262 CA P P) (TYR 262 C P P) (PRO 263 N P P) (PRO 263 CA P P) \" with indexes [1089, 1106, 1108, 1112]\n",
      "2021-06-26 02:23:08,675 - htmd.builder.builder - WARNING - Found cis peptide bond in 1 frames: [0] in the omega diheral \"Angle of (GLU 305 CA P P) (GLU 305 C P P) (PRO 306 N P P) (PRO 306 CA P P) \" with indexes [1758, 1769, 1771, 1775]\n",
      "2021-06-26 02:23:10,617 - htmd.protocols.production_v6 - WARNING - Lipids detected in input structure. We highly recommend setting useconstantratio=True for membrane simulations.\n",
      "2021-06-26 02:23:11,808 - jobqueues.slurmqueue - INFO - Queueing /gpcr/users/daranda/doctorat/GPCR_simulations/simulation_output/production/4QIM_apo/rep_1/\n"
     ]
    },
    {
     "name": "stdout",
     "output_type": "stream",
     "text": [
      "submitting replicate 2 of 4QIM\n"
     ]
    },
    {
     "name": "stderr",
     "output_type": "stream",
     "text": [
      "2021-06-26 02:23:24,026 - moleculekit.readers - WARNING - Non-integer values were read from the PDB \"serial\" field. Dropping PDB values and assigning new ones.\n",
      "2021-06-26 02:23:24,191 - moleculekit.readers - WARNING - Reading PDB file with more than 99999 atoms. Bond information can be wrong.\n",
      "2021-06-26 02:24:13,864 - htmd.builder.builder - WARNING - Found cis peptide bond in 1 frames: [0] in the omega diheral \"Angle of (VAL 195 CA P P) (VAL 195 C P P) (PRO 196 N P P) (PRO 196 CA P P) \" with indexes [68, 80, 82, 86]\n",
      "2021-06-26 02:24:13,866 - htmd.builder.builder - WARNING - Found cis peptide bond in 1 frames: [0] in the omega diheral \"Angle of (TYR 262 CA P P) (TYR 262 C P P) (PRO 263 N P P) (PRO 263 CA P P) \" with indexes [1089, 1106, 1108, 1112]\n",
      "2021-06-26 02:24:13,867 - htmd.builder.builder - WARNING - Found cis peptide bond in 1 frames: [0] in the omega diheral \"Angle of (GLU 305 CA P P) (GLU 305 C P P) (PRO 306 N P P) (PRO 306 CA P P) \" with indexes [1758, 1769, 1771, 1775]\n",
      "2021-06-26 02:24:15,839 - htmd.protocols.production_v6 - WARNING - Lipids detected in input structure. We highly recommend setting useconstantratio=True for membrane simulations.\n",
      "2021-06-26 02:24:16,619 - jobqueues.slurmqueue - INFO - Queueing /gpcr/users/daranda/doctorat/GPCR_simulations/simulation_output/production/4QIM_apo/rep_2/\n"
     ]
    },
    {
     "name": "stdout",
     "output_type": "stream",
     "text": [
      "submitting replicate 3 of 4QIM\n"
     ]
    },
    {
     "name": "stderr",
     "output_type": "stream",
     "text": [
      "2021-06-26 02:24:28,807 - moleculekit.readers - WARNING - Non-integer values were read from the PDB \"serial\" field. Dropping PDB values and assigning new ones.\n",
      "2021-06-26 02:24:28,973 - moleculekit.readers - WARNING - Reading PDB file with more than 99999 atoms. Bond information can be wrong.\n",
      "2021-06-26 02:25:19,362 - htmd.builder.builder - WARNING - Found cis peptide bond in 1 frames: [0] in the omega diheral \"Angle of (VAL 195 CA P P) (VAL 195 C P P) (PRO 196 N P P) (PRO 196 CA P P) \" with indexes [68, 80, 82, 86]\n",
      "2021-06-26 02:25:19,364 - htmd.builder.builder - WARNING - Found cis peptide bond in 1 frames: [0] in the omega diheral \"Angle of (TYR 262 CA P P) (TYR 262 C P P) (PRO 263 N P P) (PRO 263 CA P P) \" with indexes [1089, 1106, 1108, 1112]\n",
      "2021-06-26 02:25:19,366 - htmd.builder.builder - WARNING - Found cis peptide bond in 1 frames: [0] in the omega diheral \"Angle of (GLU 305 CA P P) (GLU 305 C P P) (PRO 306 N P P) (PRO 306 CA P P) \" with indexes [1758, 1769, 1771, 1775]\n",
      "2021-06-26 02:25:21,344 - htmd.protocols.production_v6 - WARNING - Lipids detected in input structure. We highly recommend setting useconstantratio=True for membrane simulations.\n",
      "2021-06-26 02:25:22,165 - jobqueues.slurmqueue - INFO - Queueing /gpcr/users/daranda/doctorat/GPCR_simulations/simulation_output/production/4QIM_apo/rep_3/\n"
     ]
    },
    {
     "name": "stdout",
     "output_type": "stream",
     "text": [
      "submitting replicate 1 of 4QIM\n"
     ]
    },
    {
     "name": "stderr",
     "output_type": "stream",
     "text": [
      "2021-06-26 02:25:34,880 - moleculekit.readers - WARNING - Non-integer values were read from the PDB \"serial\" field. Dropping PDB values and assigning new ones.\n",
      "2021-06-26 02:25:35,046 - moleculekit.readers - WARNING - Reading PDB file with more than 99999 atoms. Bond information can be wrong.\n",
      "2021-06-26 02:26:27,153 - htmd.builder.builder - WARNING - Found cis peptide bond in 1 frames: [0] in the omega diheral \"Angle of (VAL 195 CA P P) (VAL 195 C P P) (PRO 196 N P P) (PRO 196 CA P P) \" with indexes [68, 80, 82, 86]\n",
      "2021-06-26 02:26:27,155 - htmd.builder.builder - WARNING - Found cis peptide bond in 1 frames: [0] in the omega diheral \"Angle of (TYR 262 CA P P) (TYR 262 C P P) (PRO 263 N P P) (PRO 263 CA P P) \" with indexes [1089, 1106, 1108, 1112]\n",
      "2021-06-26 02:26:27,157 - htmd.builder.builder - WARNING - Found cis peptide bond in 1 frames: [0] in the omega diheral \"Angle of (GLU 305 CA P P) (GLU 305 C P P) (PRO 306 N P P) (PRO 306 CA P P) \" with indexes [1758, 1769, 1771, 1775]\n",
      "2021-06-26 02:26:29,126 - htmd.protocols.production_v6 - WARNING - Lipids detected in input structure. We highly recommend setting useconstantratio=True for membrane simulations.\n",
      "2021-06-26 02:26:30,168 - jobqueues.slurmqueue - INFO - Queueing /gpcr/users/daranda/doctorat/GPCR_simulations/simulation_output/production/4QIM/rep_1/\n"
     ]
    },
    {
     "name": "stdout",
     "output_type": "stream",
     "text": [
      "submitting replicate 2 of 4QIM\n"
     ]
    },
    {
     "name": "stderr",
     "output_type": "stream",
     "text": [
      "2021-06-26 02:26:42,126 - moleculekit.readers - WARNING - Non-integer values were read from the PDB \"serial\" field. Dropping PDB values and assigning new ones.\n",
      "2021-06-26 02:26:42,293 - moleculekit.readers - WARNING - Reading PDB file with more than 99999 atoms. Bond information can be wrong.\n",
      "2021-06-26 02:27:36,354 - htmd.builder.builder - WARNING - Found cis peptide bond in 1 frames: [0] in the omega diheral \"Angle of (VAL 195 CA P P) (VAL 195 C P P) (PRO 196 N P P) (PRO 196 CA P P) \" with indexes [68, 80, 82, 86]\n",
      "2021-06-26 02:27:36,356 - htmd.builder.builder - WARNING - Found cis peptide bond in 1 frames: [0] in the omega diheral \"Angle of (TYR 262 CA P P) (TYR 262 C P P) (PRO 263 N P P) (PRO 263 CA P P) \" with indexes [1089, 1106, 1108, 1112]\n",
      "2021-06-26 02:27:36,358 - htmd.builder.builder - WARNING - Found cis peptide bond in 1 frames: [0] in the omega diheral \"Angle of (GLU 305 CA P P) (GLU 305 C P P) (PRO 306 N P P) (PRO 306 CA P P) \" with indexes [1758, 1769, 1771, 1775]\n",
      "2021-06-26 02:27:38,338 - htmd.protocols.production_v6 - WARNING - Lipids detected in input structure. We highly recommend setting useconstantratio=True for membrane simulations.\n",
      "2021-06-26 02:27:40,330 - jobqueues.slurmqueue - INFO - Queueing /gpcr/users/daranda/doctorat/GPCR_simulations/simulation_output/production/4QIM/rep_2/\n"
     ]
    },
    {
     "name": "stdout",
     "output_type": "stream",
     "text": [
      "submitting replicate 3 of 4QIM\n"
     ]
    },
    {
     "name": "stderr",
     "output_type": "stream",
     "text": [
      "2021-06-26 02:27:54,881 - moleculekit.readers - WARNING - Non-integer values were read from the PDB \"serial\" field. Dropping PDB values and assigning new ones.\n",
      "2021-06-26 02:27:55,047 - moleculekit.readers - WARNING - Reading PDB file with more than 99999 atoms. Bond information can be wrong.\n",
      "2021-06-26 02:28:47,677 - htmd.builder.builder - WARNING - Found cis peptide bond in 1 frames: [0] in the omega diheral \"Angle of (VAL 195 CA P P) (VAL 195 C P P) (PRO 196 N P P) (PRO 196 CA P P) \" with indexes [68, 80, 82, 86]\n",
      "2021-06-26 02:28:47,679 - htmd.builder.builder - WARNING - Found cis peptide bond in 1 frames: [0] in the omega diheral \"Angle of (TYR 262 CA P P) (TYR 262 C P P) (PRO 263 N P P) (PRO 263 CA P P) \" with indexes [1089, 1106, 1108, 1112]\n",
      "2021-06-26 02:28:47,681 - htmd.builder.builder - WARNING - Found cis peptide bond in 1 frames: [0] in the omega diheral \"Angle of (GLU 305 CA P P) (GLU 305 C P P) (PRO 306 N P P) (PRO 306 CA P P) \" with indexes [1758, 1769, 1771, 1775]\n",
      "2021-06-26 02:28:49,649 - htmd.protocols.production_v6 - WARNING - Lipids detected in input structure. We highly recommend setting useconstantratio=True for membrane simulations.\n",
      "2021-06-26 02:28:52,272 - jobqueues.slurmqueue - INFO - Queueing /gpcr/users/daranda/doctorat/GPCR_simulations/simulation_output/production/4QIM/rep_3/\n"
     ]
    },
    {
     "name": "stdout",
     "output_type": "stream",
     "text": [
      "submitting replicate 1 of 6OL9\n"
     ]
    },
    {
     "name": "stderr",
     "output_type": "stream",
     "text": [
      "2021-06-26 02:29:37,306 - htmd.protocols.production_v6 - WARNING - Lipids detected in input structure. We highly recommend setting useconstantratio=True for membrane simulations.\n",
      "2021-06-26 02:29:38,324 - jobqueues.slurmqueue - INFO - Queueing /gpcr/users/daranda/doctorat/GPCR_simulations/simulation_output/production/6OL9_apo/rep_1/\n"
     ]
    },
    {
     "name": "stdout",
     "output_type": "stream",
     "text": [
      "submitting replicate 2 of 6OL9\n"
     ]
    },
    {
     "name": "stderr",
     "output_type": "stream",
     "text": [
      "2021-06-26 02:30:23,607 - htmd.protocols.production_v6 - WARNING - Lipids detected in input structure. We highly recommend setting useconstantratio=True for membrane simulations.\n",
      "2021-06-26 02:30:24,127 - jobqueues.slurmqueue - INFO - Queueing /gpcr/users/daranda/doctorat/GPCR_simulations/simulation_output/production/6OL9_apo/rep_2/\n"
     ]
    },
    {
     "name": "stdout",
     "output_type": "stream",
     "text": [
      "submitting replicate 3 of 6OL9\n"
     ]
    },
    {
     "name": "stderr",
     "output_type": "stream",
     "text": [
      "2021-06-26 02:31:08,378 - htmd.protocols.production_v6 - WARNING - Lipids detected in input structure. We highly recommend setting useconstantratio=True for membrane simulations.\n",
      "2021-06-26 02:31:08,862 - jobqueues.slurmqueue - INFO - Queueing /gpcr/users/daranda/doctorat/GPCR_simulations/simulation_output/production/6OL9_apo/rep_3/\n"
     ]
    },
    {
     "name": "stdout",
     "output_type": "stream",
     "text": [
      "submitting replicate 1 of 6OL9\n"
     ]
    },
    {
     "name": "stderr",
     "output_type": "stream",
     "text": [
      "2021-06-26 02:31:39,288 - htmd.protocols.production_v6 - WARNING - Lipids detected in input structure. We highly recommend setting useconstantratio=True for membrane simulations.\n",
      "2021-06-26 02:31:40,180 - jobqueues.slurmqueue - INFO - Queueing /gpcr/users/daranda/doctorat/GPCR_simulations/simulation_output/production/6OL9/rep_1/\n"
     ]
    },
    {
     "name": "stdout",
     "output_type": "stream",
     "text": [
      "submitting replicate 2 of 6OL9\n"
     ]
    },
    {
     "name": "stderr",
     "output_type": "stream",
     "text": [
      "2021-06-26 02:32:10,704 - htmd.protocols.production_v6 - WARNING - Lipids detected in input structure. We highly recommend setting useconstantratio=True for membrane simulations.\n",
      "2021-06-26 02:32:11,306 - jobqueues.slurmqueue - INFO - Queueing /gpcr/users/daranda/doctorat/GPCR_simulations/simulation_output/production/6OL9/rep_2/\n"
     ]
    },
    {
     "name": "stdout",
     "output_type": "stream",
     "text": [
      "submitting replicate 3 of 6OL9\n"
     ]
    },
    {
     "name": "stderr",
     "output_type": "stream",
     "text": [
      "2021-06-26 02:32:39,594 - htmd.protocols.production_v6 - WARNING - Lipids detected in input structure. We highly recommend setting useconstantratio=True for membrane simulations.\n",
      "2021-06-26 02:32:40,566 - jobqueues.slurmqueue - INFO - Queueing /gpcr/users/daranda/doctorat/GPCR_simulations/simulation_output/production/6OL9/rep_3/\n"
     ]
    },
    {
     "name": "stdout",
     "output_type": "stream",
     "text": [
      "submitting replicate 1 of 5OLV\n"
     ]
    },
    {
     "name": "stderr",
     "output_type": "stream",
     "text": [
      "2021-06-26 02:33:20,334 - htmd.builder.builder - WARNING - Found cis peptide bond in 1 frames: [0] in the omega diheral \"Angle of (LEU 216 CA P P) (LEU 216 C P P) (PRO 217 N P P) (PRO 217 CA P P) \" with indexes [3337, 3352, 3354, 3358]\n",
      "2021-06-26 02:33:21,635 - htmd.protocols.production_v6 - WARNING - Lipids detected in input structure. We highly recommend setting useconstantratio=True for membrane simulations.\n",
      "2021-06-26 02:33:23,178 - jobqueues.slurmqueue - INFO - Queueing /gpcr/users/daranda/doctorat/GPCR_simulations/simulation_output/production/5OLV_apo/rep_1/\n"
     ]
    },
    {
     "name": "stdout",
     "output_type": "stream",
     "text": [
      "submitting replicate 2 of 5OLV\n"
     ]
    },
    {
     "name": "stderr",
     "output_type": "stream",
     "text": [
      "2021-06-26 02:34:02,477 - htmd.builder.builder - WARNING - Found cis peptide bond in 1 frames: [0] in the omega diheral \"Angle of (LEU 216 CA P P) (LEU 216 C P P) (PRO 217 N P P) (PRO 217 CA P P) \" with indexes [3337, 3352, 3354, 3358]\n",
      "2021-06-26 02:34:03,768 - htmd.protocols.production_v6 - WARNING - Lipids detected in input structure. We highly recommend setting useconstantratio=True for membrane simulations.\n",
      "2021-06-26 02:34:04,647 - jobqueues.slurmqueue - INFO - Queueing /gpcr/users/daranda/doctorat/GPCR_simulations/simulation_output/production/5OLV_apo/rep_2/\n"
     ]
    },
    {
     "name": "stdout",
     "output_type": "stream",
     "text": [
      "submitting replicate 3 of 5OLV\n"
     ]
    },
    {
     "name": "stderr",
     "output_type": "stream",
     "text": [
      "2021-06-26 02:34:41,797 - htmd.builder.builder - WARNING - Found cis peptide bond in 1 frames: [0] in the omega diheral \"Angle of (LEU 216 CA P P) (LEU 216 C P P) (PRO 217 N P P) (PRO 217 CA P P) \" with indexes [3337, 3352, 3354, 3358]\n",
      "2021-06-26 02:34:43,098 - htmd.protocols.production_v6 - WARNING - Lipids detected in input structure. We highly recommend setting useconstantratio=True for membrane simulations.\n",
      "2021-06-26 02:34:43,653 - jobqueues.slurmqueue - INFO - Queueing /gpcr/users/daranda/doctorat/GPCR_simulations/simulation_output/production/5OLV_apo/rep_3/\n"
     ]
    },
    {
     "name": "stdout",
     "output_type": "stream",
     "text": [
      "submitting replicate 1 of 5OLV\n"
     ]
    },
    {
     "name": "stderr",
     "output_type": "stream",
     "text": [
      "2021-06-26 02:35:21,124 - htmd.builder.builder - WARNING - Found cis peptide bond in 1 frames: [0] in the omega diheral \"Angle of (LEU 216 CA P P) (LEU 216 C P P) (PRO 217 N P P) (PRO 217 CA P P) \" with indexes [3675, 3690, 3692, 3696]\n",
      "2021-06-26 02:35:22,415 - htmd.protocols.production_v6 - WARNING - Lipids detected in input structure. We highly recommend setting useconstantratio=True for membrane simulations.\n",
      "2021-06-26 02:35:23,458 - jobqueues.slurmqueue - INFO - Queueing /gpcr/users/daranda/doctorat/GPCR_simulations/simulation_output/production/5OLV/rep_1/\n"
     ]
    },
    {
     "name": "stdout",
     "output_type": "stream",
     "text": [
      "submitting replicate 2 of 5OLV\n"
     ]
    },
    {
     "name": "stderr",
     "output_type": "stream",
     "text": [
      "2021-06-26 02:35:57,578 - htmd.builder.builder - WARNING - Found cis peptide bond in 1 frames: [0] in the omega diheral \"Angle of (LEU 216 CA P P) (LEU 216 C P P) (PRO 217 N P P) (PRO 217 CA P P) \" with indexes [3675, 3690, 3692, 3696]\n",
      "2021-06-26 02:35:58,872 - htmd.protocols.production_v6 - WARNING - Lipids detected in input structure. We highly recommend setting useconstantratio=True for membrane simulations.\n",
      "2021-06-26 02:35:59,565 - jobqueues.slurmqueue - INFO - Queueing /gpcr/users/daranda/doctorat/GPCR_simulations/simulation_output/production/5OLV/rep_2/\n"
     ]
    },
    {
     "name": "stdout",
     "output_type": "stream",
     "text": [
      "submitting replicate 3 of 5OLV\n"
     ]
    },
    {
     "name": "stderr",
     "output_type": "stream",
     "text": [
      "2021-06-26 02:36:36,285 - htmd.builder.builder - WARNING - Found cis peptide bond in 1 frames: [0] in the omega diheral \"Angle of (LEU 216 CA P P) (LEU 216 C P P) (PRO 217 N P P) (PRO 217 CA P P) \" with indexes [3675, 3690, 3692, 3696]\n",
      "2021-06-26 02:36:37,584 - htmd.protocols.production_v6 - WARNING - Lipids detected in input structure. We highly recommend setting useconstantratio=True for membrane simulations.\n",
      "2021-06-26 02:36:38,069 - jobqueues.slurmqueue - INFO - Queueing /gpcr/users/daranda/doctorat/GPCR_simulations/simulation_output/production/5OLV/rep_3/\n"
     ]
    },
    {
     "name": "stdout",
     "output_type": "stream",
     "text": [
      "submitting replicate 1 of 6TP3\n"
     ]
    },
    {
     "name": "stderr",
     "output_type": "stream",
     "text": [
      "2021-06-26 02:37:22,180 - htmd.protocols.production_v6 - WARNING - Lipids detected in input structure. We highly recommend setting useconstantratio=True for membrane simulations.\n",
      "2021-06-26 02:37:23,112 - jobqueues.slurmqueue - INFO - Queueing /gpcr/users/daranda/doctorat/GPCR_simulations/simulation_output/production/6TP3_apo/rep_1/\n"
     ]
    },
    {
     "name": "stdout",
     "output_type": "stream",
     "text": [
      "submitting replicate 2 of 6TP3\n"
     ]
    },
    {
     "name": "stderr",
     "output_type": "stream",
     "text": [
      "2021-06-26 02:38:05,891 - htmd.protocols.production_v6 - WARNING - Lipids detected in input structure. We highly recommend setting useconstantratio=True for membrane simulations.\n",
      "2021-06-26 02:38:06,624 - jobqueues.slurmqueue - INFO - Queueing /gpcr/users/daranda/doctorat/GPCR_simulations/simulation_output/production/6TP3_apo/rep_2/\n"
     ]
    },
    {
     "name": "stdout",
     "output_type": "stream",
     "text": [
      "submitting replicate 3 of 6TP3\n"
     ]
    },
    {
     "name": "stderr",
     "output_type": "stream",
     "text": [
      "2021-06-26 02:38:49,336 - htmd.protocols.production_v6 - WARNING - Lipids detected in input structure. We highly recommend setting useconstantratio=True for membrane simulations.\n",
      "2021-06-26 02:38:49,955 - jobqueues.slurmqueue - INFO - Queueing /gpcr/users/daranda/doctorat/GPCR_simulations/simulation_output/production/6TP3_apo/rep_3/\n"
     ]
    },
    {
     "name": "stdout",
     "output_type": "stream",
     "text": [
      "submitting replicate 1 of 6TP3\n"
     ]
    },
    {
     "name": "stderr",
     "output_type": "stream",
     "text": [
      "2021-06-26 02:39:38,538 - htmd.protocols.production_v6 - WARNING - Lipids detected in input structure. We highly recommend setting useconstantratio=True for membrane simulations.\n"
     ]
    },
    {
     "name": "stdout",
     "output_type": "stream",
     "text": [
      "model 6TP3 could not be send to equilibrate because of  Could not find any of the files \"output.coor\" specified for command \"bincoordinates\" in path /gpcr/users/daranda/doctorat/GPCR_simulations/simulation_output//equil/6TP3/\n",
      "submitting replicate 2 of 6TP3\n"
     ]
    },
    {
     "name": "stderr",
     "output_type": "stream",
     "text": [
      "2021-06-26 02:40:14,749 - htmd.protocols.production_v6 - WARNING - Lipids detected in input structure. We highly recommend setting useconstantratio=True for membrane simulations.\n"
     ]
    },
    {
     "name": "stdout",
     "output_type": "stream",
     "text": [
      "model 6TP3 could not be send to equilibrate because of  Could not find any of the files \"output.coor\" specified for command \"bincoordinates\" in path /gpcr/users/daranda/doctorat/GPCR_simulations/simulation_output//equil/6TP3/\n",
      "submitting replicate 3 of 6TP3\n"
     ]
    },
    {
     "name": "stderr",
     "output_type": "stream",
     "text": [
      "2021-06-26 02:40:50,335 - htmd.protocols.production_v6 - WARNING - Lipids detected in input structure. We highly recommend setting useconstantratio=True for membrane simulations.\n"
     ]
    },
    {
     "name": "stdout",
     "output_type": "stream",
     "text": [
      "model 6TP3 could not be send to equilibrate because of  Could not find any of the files \"output.coor\" specified for command \"bincoordinates\" in path /gpcr/users/daranda/doctorat/GPCR_simulations/simulation_output//equil/6TP3/\n",
      "submitting replicate 1 of 6KQI\n"
     ]
    },
    {
     "name": "stderr",
     "output_type": "stream",
     "text": [
      "2021-06-26 02:41:13,425 - htmd.protocols.production_v6 - WARNING - Lipids detected in input structure. We highly recommend setting useconstantratio=True for membrane simulations.\n",
      "2021-06-26 02:41:14,163 - jobqueues.slurmqueue - INFO - Queueing /gpcr/users/daranda/doctorat/GPCR_simulations/simulation_output/production/6KQI_apo/rep_1/\n"
     ]
    },
    {
     "name": "stdout",
     "output_type": "stream",
     "text": [
      "submitting replicate 2 of 6KQI\n"
     ]
    },
    {
     "name": "stderr",
     "output_type": "stream",
     "text": [
      "2021-06-26 02:41:45,431 - htmd.protocols.production_v6 - WARNING - Lipids detected in input structure. We highly recommend setting useconstantratio=True for membrane simulations.\n",
      "2021-06-26 02:41:45,840 - jobqueues.slurmqueue - INFO - Queueing /gpcr/users/daranda/doctorat/GPCR_simulations/simulation_output/production/6KQI_apo/rep_2/\n"
     ]
    },
    {
     "name": "stdout",
     "output_type": "stream",
     "text": [
      "submitting replicate 3 of 6KQI\n"
     ]
    },
    {
     "name": "stderr",
     "output_type": "stream",
     "text": [
      "2021-06-26 02:42:16,609 - htmd.protocols.production_v6 - WARNING - Lipids detected in input structure. We highly recommend setting useconstantratio=True for membrane simulations.\n",
      "2021-06-26 02:42:16,981 - jobqueues.slurmqueue - INFO - Queueing /gpcr/users/daranda/doctorat/GPCR_simulations/simulation_output/production/6KQI_apo/rep_3/\n"
     ]
    },
    {
     "name": "stdout",
     "output_type": "stream",
     "text": [
      "submitting replicate 1 of 6KQI\n"
     ]
    },
    {
     "name": "stderr",
     "output_type": "stream",
     "text": [
      "2021-06-26 02:42:46,634 - htmd.protocols.production_v6 - WARNING - Lipids detected in input structure. We highly recommend setting useconstantratio=True for membrane simulations.\n",
      "2021-06-26 02:42:47,399 - jobqueues.slurmqueue - INFO - Queueing /gpcr/users/daranda/doctorat/GPCR_simulations/simulation_output/production/6KQI/rep_1/\n"
     ]
    },
    {
     "name": "stdout",
     "output_type": "stream",
     "text": [
      "submitting replicate 2 of 6KQI\n"
     ]
    },
    {
     "name": "stderr",
     "output_type": "stream",
     "text": [
      "2021-06-26 02:43:17,933 - htmd.protocols.production_v6 - WARNING - Lipids detected in input structure. We highly recommend setting useconstantratio=True for membrane simulations.\n",
      "2021-06-26 02:43:18,355 - jobqueues.slurmqueue - INFO - Queueing /gpcr/users/daranda/doctorat/GPCR_simulations/simulation_output/production/6KQI/rep_2/\n"
     ]
    },
    {
     "name": "stdout",
     "output_type": "stream",
     "text": [
      "submitting replicate 3 of 6KQI\n"
     ]
    },
    {
     "name": "stderr",
     "output_type": "stream",
     "text": [
      "2021-06-26 02:43:49,382 - htmd.protocols.production_v6 - WARNING - Lipids detected in input structure. We highly recommend setting useconstantratio=True for membrane simulations.\n",
      "2021-06-26 02:43:50,301 - jobqueues.slurmqueue - INFO - Queueing /gpcr/users/daranda/doctorat/GPCR_simulations/simulation_output/production/6KQI/rep_3/\n"
     ]
    },
    {
     "name": "stdout",
     "output_type": "stream",
     "text": [
      "replicate 1 of structure 6AQF already has been simulated\n",
      "replicate 2 of structure 6AQF already has been simulated\n",
      "replicate 3 of structure 6AQF already has been simulated\n",
      "replicate 1 of structure 6AQF already has been simulated\n",
      "replicate 2 of structure 6AQF already has been simulated\n",
      "replicate 3 of structure 6AQF already has been simulated\n",
      "submitting replicate 1 of 6KJV\n"
     ]
    },
    {
     "name": "stderr",
     "output_type": "stream",
     "text": [
      "2021-06-26 02:44:03,799 - moleculekit.readers - WARNING - Non-integer values were read from the PDB \"serial\" field. Dropping PDB values and assigning new ones.\n",
      "2021-06-26 02:44:03,971 - moleculekit.readers - WARNING - Reading PDB file with more than 99999 atoms. Bond information can be wrong.\n",
      "2021-06-26 02:44:41,220 - htmd.builder.builder - WARNING - Found cis peptide bond in 1 frames: [0] in the omega diheral \"Angle of (PHE 257 CA P P) (PHE 257 C P P) (SER 258 N P P) (SER 258 CA P P) \" with indexes [2040, 2056, 2058, 2060]\n",
      "2021-06-26 02:44:43,205 - htmd.protocols.production_v6 - WARNING - Lipids detected in input structure. We highly recommend setting useconstantratio=True for membrane simulations.\n",
      "2021-06-26 02:44:44,286 - jobqueues.slurmqueue - INFO - Queueing /gpcr/users/daranda/doctorat/GPCR_simulations/simulation_output/production/6KJV_apo/rep_1/\n"
     ]
    },
    {
     "name": "stdout",
     "output_type": "stream",
     "text": [
      "submitting replicate 2 of 6KJV\n"
     ]
    },
    {
     "name": "stderr",
     "output_type": "stream",
     "text": [
      "2021-06-26 02:44:56,952 - moleculekit.readers - WARNING - Non-integer values were read from the PDB \"serial\" field. Dropping PDB values and assigning new ones.\n",
      "2021-06-26 02:44:57,127 - moleculekit.readers - WARNING - Reading PDB file with more than 99999 atoms. Bond information can be wrong.\n",
      "2021-06-26 02:45:40,692 - htmd.builder.builder - WARNING - Found cis peptide bond in 1 frames: [0] in the omega diheral \"Angle of (PHE 257 CA P P) (PHE 257 C P P) (SER 258 N P P) (SER 258 CA P P) \" with indexes [2040, 2056, 2058, 2060]\n",
      "2021-06-26 02:45:42,772 - htmd.protocols.production_v6 - WARNING - Lipids detected in input structure. We highly recommend setting useconstantratio=True for membrane simulations.\n",
      "2021-06-26 02:45:44,102 - jobqueues.slurmqueue - INFO - Queueing /gpcr/users/daranda/doctorat/GPCR_simulations/simulation_output/production/6KJV_apo/rep_2/\n"
     ]
    },
    {
     "name": "stdout",
     "output_type": "stream",
     "text": [
      "submitting replicate 3 of 6KJV\n"
     ]
    },
    {
     "name": "stderr",
     "output_type": "stream",
     "text": [
      "2021-06-26 02:45:56,236 - moleculekit.readers - WARNING - Non-integer values were read from the PDB \"serial\" field. Dropping PDB values and assigning new ones.\n",
      "2021-06-26 02:45:56,411 - moleculekit.readers - WARNING - Reading PDB file with more than 99999 atoms. Bond information can be wrong.\n",
      "2021-06-26 02:46:43,758 - htmd.builder.builder - WARNING - Found cis peptide bond in 1 frames: [0] in the omega diheral \"Angle of (PHE 257 CA P P) (PHE 257 C P P) (SER 258 N P P) (SER 258 CA P P) \" with indexes [2040, 2056, 2058, 2060]\n",
      "2021-06-26 02:46:45,840 - htmd.protocols.production_v6 - WARNING - Lipids detected in input structure. We highly recommend setting useconstantratio=True for membrane simulations.\n",
      "2021-06-26 02:46:46,444 - jobqueues.slurmqueue - INFO - Queueing /gpcr/users/daranda/doctorat/GPCR_simulations/simulation_output/production/6KJV_apo/rep_3/\n"
     ]
    },
    {
     "name": "stdout",
     "output_type": "stream",
     "text": [
      "replicate 1 of structure 6KJV already has been simulated\n",
      "submitting replicate 2 of 6KJV\n"
     ]
    },
    {
     "name": "stderr",
     "output_type": "stream",
     "text": [
      "2021-06-26 02:46:58,696 - moleculekit.readers - WARNING - Non-integer values were read from the PDB \"serial\" field. Dropping PDB values and assigning new ones.\n",
      "2021-06-26 02:46:58,874 - moleculekit.readers - WARNING - Reading PDB file with more than 99999 atoms. Bond information can be wrong.\n",
      "2021-06-26 02:47:46,618 - htmd.builder.builder - WARNING - Found cis peptide bond in 1 frames: [0] in the omega diheral \"Angle of (PHE 257 CA P P) (PHE 257 C P P) (SER 258 N P P) (SER 258 CA P P) \" with indexes [2040, 2056, 2058, 2060]\n",
      "2021-06-26 02:47:48,719 - htmd.protocols.production_v6 - WARNING - Lipids detected in input structure. We highly recommend setting useconstantratio=True for membrane simulations.\n",
      "2021-06-26 02:47:50,670 - jobqueues.slurmqueue - INFO - Queueing /gpcr/users/daranda/doctorat/GPCR_simulations/simulation_output/production/6KJV/rep_2/\n"
     ]
    },
    {
     "name": "stdout",
     "output_type": "stream",
     "text": [
      "replicate 3 of structure 6KJV already has been simulated\n",
      "submitting replicate 1 of 6PS7\n"
     ]
    },
    {
     "name": "stderr",
     "output_type": "stream",
     "text": [
      "2021-06-26 02:48:32,319 - htmd.builder.builder - WARNING - Found cis peptide bond in 1 frames: [0] in the omega diheral \"Angle of (LEU 216 CA P P) (LEU 216 C P P) (PRO 217 N P P) (PRO 217 CA P P) \" with indexes [3337, 3352, 3354, 3358]\n",
      "2021-06-26 02:48:33,679 - htmd.protocols.production_v6 - WARNING - Lipids detected in input structure. We highly recommend setting useconstantratio=True for membrane simulations.\n",
      "2021-06-26 02:48:34,512 - jobqueues.slurmqueue - INFO - Queueing /gpcr/users/daranda/doctorat/GPCR_simulations/simulation_output/production/6PS7_apo/rep_1/\n"
     ]
    },
    {
     "name": "stdout",
     "output_type": "stream",
     "text": [
      "submitting replicate 2 of 6PS7\n"
     ]
    },
    {
     "name": "stderr",
     "output_type": "stream",
     "text": [
      "2021-06-26 02:49:16,809 - htmd.builder.builder - WARNING - Found cis peptide bond in 1 frames: [0] in the omega diheral \"Angle of (LEU 216 CA P P) (LEU 216 C P P) (PRO 217 N P P) (PRO 217 CA P P) \" with indexes [3337, 3352, 3354, 3358]\n",
      "2021-06-26 02:49:18,175 - htmd.protocols.production_v6 - WARNING - Lipids detected in input structure. We highly recommend setting useconstantratio=True for membrane simulations.\n",
      "2021-06-26 02:49:18,633 - jobqueues.slurmqueue - INFO - Queueing /gpcr/users/daranda/doctorat/GPCR_simulations/simulation_output/production/6PS7_apo/rep_2/\n"
     ]
    },
    {
     "name": "stdout",
     "output_type": "stream",
     "text": [
      "submitting replicate 3 of 6PS7\n"
     ]
    },
    {
     "name": "stderr",
     "output_type": "stream",
     "text": [
      "2021-06-26 02:49:58,769 - htmd.builder.builder - WARNING - Found cis peptide bond in 1 frames: [0] in the omega diheral \"Angle of (LEU 216 CA P P) (LEU 216 C P P) (PRO 217 N P P) (PRO 217 CA P P) \" with indexes [3337, 3352, 3354, 3358]\n",
      "2021-06-26 02:50:00,125 - htmd.protocols.production_v6 - WARNING - Lipids detected in input structure. We highly recommend setting useconstantratio=True for membrane simulations.\n",
      "2021-06-26 02:50:00,692 - jobqueues.slurmqueue - INFO - Queueing /gpcr/users/daranda/doctorat/GPCR_simulations/simulation_output/production/6PS7_apo/rep_3/\n"
     ]
    },
    {
     "name": "stdout",
     "output_type": "stream",
     "text": [
      "submitting replicate 1 of 6PS7\n"
     ]
    },
    {
     "name": "stderr",
     "output_type": "stream",
     "text": [
      "2021-06-26 02:50:42,838 - htmd.builder.builder - WARNING - Found cis peptide bond in 1 frames: [0] in the omega diheral \"Angle of (LEU 216 CA P P) (LEU 216 C P P) (PRO 217 N P P) (PRO 217 CA P P) \" with indexes [3600, 3615, 3617, 3621]\n",
      "2021-06-26 02:50:44,068 - htmd.protocols.production_v6 - WARNING - Lipids detected in input structure. We highly recommend setting useconstantratio=True for membrane simulations.\n",
      "2021-06-26 02:50:45,004 - jobqueues.slurmqueue - INFO - Queueing /gpcr/users/daranda/doctorat/GPCR_simulations/simulation_output/production/6PS7/rep_1/\n"
     ]
    },
    {
     "name": "stdout",
     "output_type": "stream",
     "text": [
      "submitting replicate 2 of 6PS7\n"
     ]
    },
    {
     "name": "stderr",
     "output_type": "stream",
     "text": [
      "2021-06-26 02:51:24,774 - htmd.builder.builder - WARNING - Found cis peptide bond in 1 frames: [0] in the omega diheral \"Angle of (LEU 216 CA P P) (LEU 216 C P P) (PRO 217 N P P) (PRO 217 CA P P) \" with indexes [3600, 3615, 3617, 3621]\n",
      "2021-06-26 02:51:26,128 - htmd.protocols.production_v6 - WARNING - Lipids detected in input structure. We highly recommend setting useconstantratio=True for membrane simulations.\n",
      "2021-06-26 02:51:26,561 - jobqueues.slurmqueue - INFO - Queueing /gpcr/users/daranda/doctorat/GPCR_simulations/simulation_output/production/6PS7/rep_2/\n"
     ]
    },
    {
     "name": "stdout",
     "output_type": "stream",
     "text": [
      "submitting replicate 3 of 6PS7\n"
     ]
    },
    {
     "name": "stderr",
     "output_type": "stream",
     "text": [
      "2021-06-26 02:52:07,510 - htmd.builder.builder - WARNING - Found cis peptide bond in 1 frames: [0] in the omega diheral \"Angle of (LEU 216 CA P P) (LEU 216 C P P) (PRO 217 N P P) (PRO 217 CA P P) \" with indexes [3600, 3615, 3617, 3621]\n",
      "2021-06-26 02:52:08,857 - htmd.protocols.production_v6 - WARNING - Lipids detected in input structure. We highly recommend setting useconstantratio=True for membrane simulations.\n",
      "2021-06-26 02:52:09,403 - jobqueues.slurmqueue - INFO - Queueing /gpcr/users/daranda/doctorat/GPCR_simulations/simulation_output/production/6PS7/rep_3/\n"
     ]
    },
    {
     "name": "stdout",
     "output_type": "stream",
     "text": [
      "submitting replicate 1 of 4NTJ\n"
     ]
    },
    {
     "name": "stderr",
     "output_type": "stream",
     "text": [
      "2021-06-26 02:52:42,841 - htmd.protocols.production_v6 - WARNING - Lipids detected in input structure. We highly recommend setting useconstantratio=True for membrane simulations.\n",
      "2021-06-26 02:52:43,587 - jobqueues.slurmqueue - INFO - Queueing /gpcr/users/daranda/doctorat/GPCR_simulations/simulation_output/production/4NTJ_apo/rep_1/\n"
     ]
    },
    {
     "name": "stdout",
     "output_type": "stream",
     "text": [
      "submitting replicate 2 of 4NTJ\n"
     ]
    },
    {
     "name": "stderr",
     "output_type": "stream",
     "text": [
      "2021-06-26 02:53:22,148 - htmd.protocols.production_v6 - WARNING - Lipids detected in input structure. We highly recommend setting useconstantratio=True for membrane simulations.\n",
      "2021-06-26 02:53:22,491 - jobqueues.slurmqueue - INFO - Queueing /gpcr/users/daranda/doctorat/GPCR_simulations/simulation_output/production/4NTJ_apo/rep_2/\n"
     ]
    },
    {
     "name": "stdout",
     "output_type": "stream",
     "text": [
      "submitting replicate 3 of 4NTJ\n"
     ]
    },
    {
     "name": "stderr",
     "output_type": "stream",
     "text": [
      "2021-06-26 02:53:54,215 - htmd.protocols.production_v6 - WARNING - Lipids detected in input structure. We highly recommend setting useconstantratio=True for membrane simulations.\n",
      "2021-06-26 02:53:54,559 - jobqueues.slurmqueue - INFO - Queueing /gpcr/users/daranda/doctorat/GPCR_simulations/simulation_output/production/4NTJ_apo/rep_3/\n"
     ]
    },
    {
     "name": "stdout",
     "output_type": "stream",
     "text": [
      "submitting replicate 1 of 4NTJ\n"
     ]
    },
    {
     "name": "stderr",
     "output_type": "stream",
     "text": [
      "2021-06-26 02:54:26,947 - htmd.protocols.production_v6 - WARNING - Lipids detected in input structure. We highly recommend setting useconstantratio=True for membrane simulations.\n",
      "2021-06-26 02:54:27,881 - jobqueues.slurmqueue - INFO - Queueing /gpcr/users/daranda/doctorat/GPCR_simulations/simulation_output/production/4NTJ/rep_1/\n"
     ]
    },
    {
     "name": "stdout",
     "output_type": "stream",
     "text": [
      "submitting replicate 2 of 4NTJ\n"
     ]
    },
    {
     "name": "stderr",
     "output_type": "stream",
     "text": [
      "2021-06-26 02:54:59,858 - htmd.protocols.production_v6 - WARNING - Lipids detected in input structure. We highly recommend setting useconstantratio=True for membrane simulations.\n",
      "2021-06-26 02:55:00,265 - jobqueues.slurmqueue - INFO - Queueing /gpcr/users/daranda/doctorat/GPCR_simulations/simulation_output/production/4NTJ/rep_2/\n"
     ]
    },
    {
     "name": "stdout",
     "output_type": "stream",
     "text": [
      "submitting replicate 3 of 4NTJ\n"
     ]
    },
    {
     "name": "stderr",
     "output_type": "stream",
     "text": [
      "2021-06-26 02:55:32,486 - htmd.protocols.production_v6 - WARNING - Lipids detected in input structure. We highly recommend setting useconstantratio=True for membrane simulations.\n",
      "2021-06-26 02:55:33,137 - jobqueues.slurmqueue - INFO - Queueing /gpcr/users/daranda/doctorat/GPCR_simulations/simulation_output/production/4NTJ/rep_3/\n"
     ]
    },
    {
     "name": "stdout",
     "output_type": "stream",
     "text": [
      "submitting replicate 1 of 5V56\n"
     ]
    },
    {
     "name": "stderr",
     "output_type": "stream",
     "text": [
      "2021-06-26 02:55:46,363 - moleculekit.readers - WARNING - Non-integer values were read from the PDB \"serial\" field. Dropping PDB values and assigning new ones.\n",
      "2021-06-26 02:55:46,560 - moleculekit.readers - WARNING - Reading PDB file with more than 99999 atoms. Bond information can be wrong.\n",
      "2021-06-26 02:57:03,453 - htmd.builder.builder - WARNING - Found cis peptide bond in 1 frames: [0] in the omega diheral \"Angle of (GLU 305 CA P P) (GLU 305 C P P) (PRO 306 N P P) (PRO 306 CA P P) \" with indexes [3749, 3760, 3762, 3766]\n",
      "2021-06-26 02:57:03,455 - htmd.builder.builder - WARNING - Found cis peptide bond in 1 frames: [0] in the omega diheral \"Angle of (PRO 513 CA P P) (PRO 513 C P P) (SER 514 N P P) (SER 514 CA P P) \" with indexes [7056, 7064, 7066, 7068]\n",
      "2021-06-26 02:57:06,001 - htmd.protocols.production_v6 - WARNING - Lipids detected in input structure. We highly recommend setting useconstantratio=True for membrane simulations.\n",
      "2021-06-26 02:57:07,268 - jobqueues.slurmqueue - INFO - Queueing /gpcr/users/daranda/doctorat/GPCR_simulations/simulation_output/production/5V56_apo/rep_1/\n"
     ]
    },
    {
     "name": "stdout",
     "output_type": "stream",
     "text": [
      "submitting replicate 2 of 5V56\n"
     ]
    },
    {
     "name": "stderr",
     "output_type": "stream",
     "text": [
      "2021-06-26 02:57:20,360 - moleculekit.readers - WARNING - Non-integer values were read from the PDB \"serial\" field. Dropping PDB values and assigning new ones.\n",
      "2021-06-26 02:57:20,565 - moleculekit.readers - WARNING - Reading PDB file with more than 99999 atoms. Bond information can be wrong.\n",
      "2021-06-26 02:58:45,938 - htmd.builder.builder - WARNING - Found cis peptide bond in 1 frames: [0] in the omega diheral \"Angle of (GLU 305 CA P P) (GLU 305 C P P) (PRO 306 N P P) (PRO 306 CA P P) \" with indexes [3749, 3760, 3762, 3766]\n",
      "2021-06-26 02:58:45,940 - htmd.builder.builder - WARNING - Found cis peptide bond in 1 frames: [0] in the omega diheral \"Angle of (PRO 513 CA P P) (PRO 513 C P P) (SER 514 N P P) (SER 514 CA P P) \" with indexes [7056, 7064, 7066, 7068]\n",
      "2021-06-26 02:58:48,519 - htmd.protocols.production_v6 - WARNING - Lipids detected in input structure. We highly recommend setting useconstantratio=True for membrane simulations.\n",
      "2021-06-26 02:58:49,491 - jobqueues.slurmqueue - INFO - Queueing /gpcr/users/daranda/doctorat/GPCR_simulations/simulation_output/production/5V56_apo/rep_2/\n"
     ]
    },
    {
     "name": "stdout",
     "output_type": "stream",
     "text": [
      "submitting replicate 3 of 5V56\n"
     ]
    },
    {
     "name": "stderr",
     "output_type": "stream",
     "text": [
      "2021-06-26 02:59:03,109 - moleculekit.readers - WARNING - Non-integer values were read from the PDB \"serial\" field. Dropping PDB values and assigning new ones.\n",
      "2021-06-26 02:59:03,310 - moleculekit.readers - WARNING - Reading PDB file with more than 99999 atoms. Bond information can be wrong.\n",
      "2021-06-26 03:00:33,373 - htmd.builder.builder - WARNING - Found cis peptide bond in 1 frames: [0] in the omega diheral \"Angle of (GLU 305 CA P P) (GLU 305 C P P) (PRO 306 N P P) (PRO 306 CA P P) \" with indexes [3749, 3760, 3762, 3766]\n",
      "2021-06-26 03:00:33,375 - htmd.builder.builder - WARNING - Found cis peptide bond in 1 frames: [0] in the omega diheral \"Angle of (PRO 513 CA P P) (PRO 513 C P P) (SER 514 N P P) (SER 514 CA P P) \" with indexes [7056, 7064, 7066, 7068]\n",
      "2021-06-26 03:00:35,947 - htmd.protocols.production_v6 - WARNING - Lipids detected in input structure. We highly recommend setting useconstantratio=True for membrane simulations.\n",
      "2021-06-26 03:00:36,712 - jobqueues.slurmqueue - INFO - Queueing /gpcr/users/daranda/doctorat/GPCR_simulations/simulation_output/production/5V56_apo/rep_3/\n"
     ]
    },
    {
     "name": "stdout",
     "output_type": "stream",
     "text": [
      "submitting replicate 1 of 5V56\n"
     ]
    },
    {
     "name": "stderr",
     "output_type": "stream",
     "text": [
      "2021-06-26 03:00:52,047 - moleculekit.readers - WARNING - Non-integer values were read from the PDB \"serial\" field. Dropping PDB values and assigning new ones.\n",
      "2021-06-26 03:00:52,252 - moleculekit.readers - WARNING - Reading PDB file with more than 99999 atoms. Bond information can be wrong.\n",
      "2021-06-26 03:02:23,778 - htmd.builder.builder - WARNING - Found cis peptide bond in 1 frames: [0] in the omega diheral \"Angle of (GLU 305 CA P P) (GLU 305 C P P) (PRO 306 N P P) (PRO 306 CA P P) \" with indexes [3749, 3760, 3762, 3766]\n",
      "2021-06-26 03:02:26,359 - htmd.protocols.production_v6 - WARNING - Lipids detected in input structure. We highly recommend setting useconstantratio=True for membrane simulations.\n",
      "2021-06-26 03:02:27,772 - jobqueues.slurmqueue - INFO - Queueing /gpcr/users/daranda/doctorat/GPCR_simulations/simulation_output/production/5V56/rep_1/\n"
     ]
    },
    {
     "name": "stdout",
     "output_type": "stream",
     "text": [
      "submitting replicate 2 of 5V56\n"
     ]
    },
    {
     "name": "stderr",
     "output_type": "stream",
     "text": [
      "2021-06-26 03:02:40,763 - moleculekit.readers - WARNING - Non-integer values were read from the PDB \"serial\" field. Dropping PDB values and assigning new ones.\n",
      "2021-06-26 03:02:40,961 - moleculekit.readers - WARNING - Reading PDB file with more than 99999 atoms. Bond information can be wrong.\n",
      "2021-06-26 03:04:12,889 - htmd.builder.builder - WARNING - Found cis peptide bond in 1 frames: [0] in the omega diheral \"Angle of (GLU 305 CA P P) (GLU 305 C P P) (PRO 306 N P P) (PRO 306 CA P P) \" with indexes [3749, 3760, 3762, 3766]\n",
      "2021-06-26 03:04:15,446 - htmd.protocols.production_v6 - WARNING - Lipids detected in input structure. We highly recommend setting useconstantratio=True for membrane simulations.\n",
      "2021-06-26 03:04:16,353 - jobqueues.slurmqueue - INFO - Queueing /gpcr/users/daranda/doctorat/GPCR_simulations/simulation_output/production/5V56/rep_2/\n"
     ]
    },
    {
     "name": "stdout",
     "output_type": "stream",
     "text": [
      "submitting replicate 3 of 5V56\n"
     ]
    },
    {
     "name": "stderr",
     "output_type": "stream",
     "text": [
      "2021-06-26 03:04:29,767 - moleculekit.readers - WARNING - Non-integer values were read from the PDB \"serial\" field. Dropping PDB values and assigning new ones.\n",
      "2021-06-26 03:04:29,968 - moleculekit.readers - WARNING - Reading PDB file with more than 99999 atoms. Bond information can be wrong.\n",
      "2021-06-26 03:05:59,095 - htmd.builder.builder - WARNING - Found cis peptide bond in 1 frames: [0] in the omega diheral \"Angle of (GLU 305 CA P P) (GLU 305 C P P) (PRO 306 N P P) (PRO 306 CA P P) \" with indexes [3749, 3760, 3762, 3766]\n",
      "2021-06-26 03:06:01,682 - htmd.protocols.production_v6 - WARNING - Lipids detected in input structure. We highly recommend setting useconstantratio=True for membrane simulations.\n",
      "2021-06-26 03:06:02,574 - jobqueues.slurmqueue - INFO - Queueing /gpcr/users/daranda/doctorat/GPCR_simulations/simulation_output/production/5V56/rep_3/\n"
     ]
    },
    {
     "name": "stdout",
     "output_type": "stream",
     "text": [
      "submitting replicate 1 of 4O9R\n"
     ]
    },
    {
     "name": "stderr",
     "output_type": "stream",
     "text": [
      "2021-06-26 03:06:14,217 - moleculekit.readers - WARNING - Non-integer values were read from the PDB \"serial\" field. Dropping PDB values and assigning new ones.\n",
      "2021-06-26 03:06:14,386 - moleculekit.readers - WARNING - Reading PDB file with more than 99999 atoms. Bond information can be wrong.\n",
      "2021-06-26 03:07:03,210 - htmd.builder.builder - WARNING - Found cis peptide bond in 1 frames: [0] in the omega diheral \"Angle of (VAL 195 CA P P) (VAL 195 C P P) (PRO 196 N P P) (PRO 196 CA P P) \" with indexes [50, 62, 64, 68]\n",
      "2021-06-26 03:07:03,212 - htmd.builder.builder - WARNING - Found cis peptide bond in 1 frames: [0] in the omega diheral \"Angle of (TYR 262 CA P P) (TYR 262 C P P) (PRO 263 N P P) (PRO 263 CA P P) \" with indexes [1071, 1088, 1090, 1094]\n",
      "2021-06-26 03:07:03,213 - htmd.builder.builder - WARNING - Found cis peptide bond in 1 frames: [0] in the omega diheral \"Angle of (GLU 305 CA P P) (GLU 305 C P P) (PRO 306 N P P) (PRO 306 CA P P) \" with indexes [1740, 1751, 1753, 1757]\n",
      "2021-06-26 03:07:05,078 - htmd.protocols.production_v6 - WARNING - Lipids detected in input structure. We highly recommend setting useconstantratio=True for membrane simulations.\n",
      "2021-06-26 03:07:06,126 - jobqueues.slurmqueue - INFO - Queueing /gpcr/users/daranda/doctorat/GPCR_simulations/simulation_output/production/4O9R_apo/rep_1/\n"
     ]
    },
    {
     "name": "stdout",
     "output_type": "stream",
     "text": [
      "submitting replicate 2 of 4O9R\n"
     ]
    },
    {
     "name": "stderr",
     "output_type": "stream",
     "text": [
      "2021-06-26 03:07:17,733 - moleculekit.readers - WARNING - Non-integer values were read from the PDB \"serial\" field. Dropping PDB values and assigning new ones.\n",
      "2021-06-26 03:07:17,890 - moleculekit.readers - WARNING - Reading PDB file with more than 99999 atoms. Bond information can be wrong.\n",
      "2021-06-26 03:08:07,200 - htmd.builder.builder - WARNING - Found cis peptide bond in 1 frames: [0] in the omega diheral \"Angle of (VAL 195 CA P P) (VAL 195 C P P) (PRO 196 N P P) (PRO 196 CA P P) \" with indexes [50, 62, 64, 68]\n",
      "2021-06-26 03:08:07,202 - htmd.builder.builder - WARNING - Found cis peptide bond in 1 frames: [0] in the omega diheral \"Angle of (TYR 262 CA P P) (TYR 262 C P P) (PRO 263 N P P) (PRO 263 CA P P) \" with indexes [1071, 1088, 1090, 1094]\n",
      "2021-06-26 03:08:07,203 - htmd.builder.builder - WARNING - Found cis peptide bond in 1 frames: [0] in the omega diheral \"Angle of (GLU 305 CA P P) (GLU 305 C P P) (PRO 306 N P P) (PRO 306 CA P P) \" with indexes [1740, 1751, 1753, 1757]\n",
      "2021-06-26 03:08:09,067 - htmd.protocols.production_v6 - WARNING - Lipids detected in input structure. We highly recommend setting useconstantratio=True for membrane simulations.\n",
      "2021-06-26 03:08:09,816 - jobqueues.slurmqueue - INFO - Queueing /gpcr/users/daranda/doctorat/GPCR_simulations/simulation_output/production/4O9R_apo/rep_2/\n"
     ]
    },
    {
     "name": "stdout",
     "output_type": "stream",
     "text": [
      "submitting replicate 3 of 4O9R\n"
     ]
    },
    {
     "name": "stderr",
     "output_type": "stream",
     "text": [
      "2021-06-26 03:08:21,847 - moleculekit.readers - WARNING - Non-integer values were read from the PDB \"serial\" field. Dropping PDB values and assigning new ones.\n",
      "2021-06-26 03:08:22,010 - moleculekit.readers - WARNING - Reading PDB file with more than 99999 atoms. Bond information can be wrong.\n",
      "2021-06-26 03:09:11,414 - htmd.builder.builder - WARNING - Found cis peptide bond in 1 frames: [0] in the omega diheral \"Angle of (VAL 195 CA P P) (VAL 195 C P P) (PRO 196 N P P) (PRO 196 CA P P) \" with indexes [50, 62, 64, 68]\n",
      "2021-06-26 03:09:11,417 - htmd.builder.builder - WARNING - Found cis peptide bond in 1 frames: [0] in the omega diheral \"Angle of (TYR 262 CA P P) (TYR 262 C P P) (PRO 263 N P P) (PRO 263 CA P P) \" with indexes [1071, 1088, 1090, 1094]\n",
      "2021-06-26 03:09:11,419 - htmd.builder.builder - WARNING - Found cis peptide bond in 1 frames: [0] in the omega diheral \"Angle of (GLU 305 CA P P) (GLU 305 C P P) (PRO 306 N P P) (PRO 306 CA P P) \" with indexes [1740, 1751, 1753, 1757]\n",
      "2021-06-26 03:09:13,266 - htmd.protocols.production_v6 - WARNING - Lipids detected in input structure. We highly recommend setting useconstantratio=True for membrane simulations.\n",
      "2021-06-26 03:09:14,208 - jobqueues.slurmqueue - INFO - Queueing /gpcr/users/daranda/doctorat/GPCR_simulations/simulation_output/production/4O9R_apo/rep_3/\n"
     ]
    },
    {
     "name": "stdout",
     "output_type": "stream",
     "text": [
      "submitting replicate 1 of 4O9R\n"
     ]
    },
    {
     "name": "stderr",
     "output_type": "stream",
     "text": [
      "2021-06-26 03:09:25,767 - moleculekit.readers - WARNING - Non-integer values were read from the PDB \"serial\" field. Dropping PDB values and assigning new ones.\n",
      "2021-06-26 03:09:25,926 - moleculekit.readers - WARNING - Reading PDB file with more than 99999 atoms. Bond information can be wrong.\n",
      "2021-06-26 03:10:13,808 - htmd.builder.builder - WARNING - Found cis peptide bond in 1 frames: [0] in the omega diheral \"Angle of (VAL 195 CA P P) (VAL 195 C P P) (PRO 196 N P P) (PRO 196 CA P P) \" with indexes [50, 62, 64, 68]\n",
      "2021-06-26 03:10:13,810 - htmd.builder.builder - WARNING - Found cis peptide bond in 1 frames: [0] in the omega diheral \"Angle of (TYR 262 CA P P) (TYR 262 C P P) (PRO 263 N P P) (PRO 263 CA P P) \" with indexes [1071, 1088, 1090, 1094]\n",
      "2021-06-26 03:10:13,812 - htmd.builder.builder - WARNING - Found cis peptide bond in 1 frames: [0] in the omega diheral \"Angle of (GLU 305 CA P P) (GLU 305 C P P) (PRO 306 N P P) (PRO 306 CA P P) \" with indexes [1740, 1751, 1753, 1757]\n",
      "2021-06-26 03:10:15,679 - htmd.protocols.production_v6 - WARNING - Lipids detected in input structure. We highly recommend setting useconstantratio=True for membrane simulations.\n",
      "2021-06-26 03:10:16,826 - jobqueues.slurmqueue - INFO - Queueing /gpcr/users/daranda/doctorat/GPCR_simulations/simulation_output/production/4O9R/rep_1/\n"
     ]
    },
    {
     "name": "stdout",
     "output_type": "stream",
     "text": [
      "submitting replicate 2 of 4O9R\n"
     ]
    },
    {
     "name": "stderr",
     "output_type": "stream",
     "text": [
      "2021-06-26 03:10:28,444 - moleculekit.readers - WARNING - Non-integer values were read from the PDB \"serial\" field. Dropping PDB values and assigning new ones.\n",
      "2021-06-26 03:10:28,603 - moleculekit.readers - WARNING - Reading PDB file with more than 99999 atoms. Bond information can be wrong.\n",
      "2021-06-26 03:11:18,819 - htmd.builder.builder - WARNING - Found cis peptide bond in 1 frames: [0] in the omega diheral \"Angle of (VAL 195 CA P P) (VAL 195 C P P) (PRO 196 N P P) (PRO 196 CA P P) \" with indexes [50, 62, 64, 68]\n",
      "2021-06-26 03:11:18,821 - htmd.builder.builder - WARNING - Found cis peptide bond in 1 frames: [0] in the omega diheral \"Angle of (TYR 262 CA P P) (TYR 262 C P P) (PRO 263 N P P) (PRO 263 CA P P) \" with indexes [1071, 1088, 1090, 1094]\n",
      "2021-06-26 03:11:18,823 - htmd.builder.builder - WARNING - Found cis peptide bond in 1 frames: [0] in the omega diheral \"Angle of (GLU 305 CA P P) (GLU 305 C P P) (PRO 306 N P P) (PRO 306 CA P P) \" with indexes [1740, 1751, 1753, 1757]\n",
      "2021-06-26 03:11:20,684 - htmd.protocols.production_v6 - WARNING - Lipids detected in input structure. We highly recommend setting useconstantratio=True for membrane simulations.\n",
      "2021-06-26 03:11:21,795 - jobqueues.slurmqueue - INFO - Queueing /gpcr/users/daranda/doctorat/GPCR_simulations/simulation_output/production/4O9R/rep_2/\n"
     ]
    },
    {
     "name": "stdout",
     "output_type": "stream",
     "text": [
      "submitting replicate 3 of 4O9R\n"
     ]
    },
    {
     "name": "stderr",
     "output_type": "stream",
     "text": [
      "2021-06-26 03:11:34,591 - moleculekit.readers - WARNING - Non-integer values were read from the PDB \"serial\" field. Dropping PDB values and assigning new ones.\n",
      "2021-06-26 03:11:34,751 - moleculekit.readers - WARNING - Reading PDB file with more than 99999 atoms. Bond information can be wrong.\n",
      "2021-06-26 03:12:23,310 - htmd.builder.builder - WARNING - Found cis peptide bond in 1 frames: [0] in the omega diheral \"Angle of (VAL 195 CA P P) (VAL 195 C P P) (PRO 196 N P P) (PRO 196 CA P P) \" with indexes [50, 62, 64, 68]\n",
      "2021-06-26 03:12:23,312 - htmd.builder.builder - WARNING - Found cis peptide bond in 1 frames: [0] in the omega diheral \"Angle of (TYR 262 CA P P) (TYR 262 C P P) (PRO 263 N P P) (PRO 263 CA P P) \" with indexes [1071, 1088, 1090, 1094]\n",
      "2021-06-26 03:12:23,314 - htmd.builder.builder - WARNING - Found cis peptide bond in 1 frames: [0] in the omega diheral \"Angle of (GLU 305 CA P P) (GLU 305 C P P) (PRO 306 N P P) (PRO 306 CA P P) \" with indexes [1740, 1751, 1753, 1757]\n",
      "2021-06-26 03:12:25,171 - htmd.protocols.production_v6 - WARNING - Lipids detected in input structure. We highly recommend setting useconstantratio=True for membrane simulations.\n",
      "2021-06-26 03:12:25,819 - jobqueues.slurmqueue - INFO - Queueing /gpcr/users/daranda/doctorat/GPCR_simulations/simulation_output/production/4O9R/rep_3/\n"
     ]
    },
    {
     "name": "stdout",
     "output_type": "stream",
     "text": [
      "submitting replicate 1 of 6TPJ\n"
     ]
    },
    {
     "name": "stderr",
     "output_type": "stream",
     "text": [
      "2021-06-26 03:12:37,368 - moleculekit.readers - WARNING - Non-integer values were read from the PDB \"serial\" field. Dropping PDB values and assigning new ones.\n",
      "2021-06-26 03:12:37,515 - moleculekit.readers - WARNING - Reading PDB file with more than 99999 atoms. Bond information can be wrong.\n",
      "2021-06-26 03:13:20,627 - htmd.protocols.production_v6 - WARNING - Lipids detected in input structure. We highly recommend setting useconstantratio=True for membrane simulations.\n",
      "2021-06-26 03:13:21,716 - jobqueues.slurmqueue - INFO - Queueing /gpcr/users/daranda/doctorat/GPCR_simulations/simulation_output/production/6TPJ_apo/rep_1/\n"
     ]
    },
    {
     "name": "stdout",
     "output_type": "stream",
     "text": [
      "submitting replicate 2 of 6TPJ\n"
     ]
    },
    {
     "name": "stderr",
     "output_type": "stream",
     "text": [
      "2021-06-26 03:13:33,896 - moleculekit.readers - WARNING - Non-integer values were read from the PDB \"serial\" field. Dropping PDB values and assigning new ones.\n",
      "2021-06-26 03:13:34,040 - moleculekit.readers - WARNING - Reading PDB file with more than 99999 atoms. Bond information can be wrong.\n",
      "2021-06-26 03:14:16,519 - htmd.protocols.production_v6 - WARNING - Lipids detected in input structure. We highly recommend setting useconstantratio=True for membrane simulations.\n",
      "2021-06-26 03:14:17,233 - jobqueues.slurmqueue - INFO - Queueing /gpcr/users/daranda/doctorat/GPCR_simulations/simulation_output/production/6TPJ_apo/rep_2/\n"
     ]
    },
    {
     "name": "stdout",
     "output_type": "stream",
     "text": [
      "submitting replicate 3 of 6TPJ\n"
     ]
    },
    {
     "name": "stderr",
     "output_type": "stream",
     "text": [
      "2021-06-26 03:14:28,477 - moleculekit.readers - WARNING - Non-integer values were read from the PDB \"serial\" field. Dropping PDB values and assigning new ones.\n",
      "2021-06-26 03:14:28,624 - moleculekit.readers - WARNING - Reading PDB file with more than 99999 atoms. Bond information can be wrong.\n",
      "2021-06-26 03:15:11,999 - htmd.protocols.production_v6 - WARNING - Lipids detected in input structure. We highly recommend setting useconstantratio=True for membrane simulations.\n",
      "2021-06-26 03:15:12,673 - jobqueues.slurmqueue - INFO - Queueing /gpcr/users/daranda/doctorat/GPCR_simulations/simulation_output/production/6TPJ_apo/rep_3/\n"
     ]
    },
    {
     "name": "stdout",
     "output_type": "stream",
     "text": [
      "submitting replicate 1 of 6TPJ\n"
     ]
    },
    {
     "name": "stderr",
     "output_type": "stream",
     "text": [
      "2021-06-26 03:15:25,344 - moleculekit.readers - WARNING - Non-integer values were read from the PDB \"serial\" field. Dropping PDB values and assigning new ones.\n",
      "2021-06-26 03:15:25,514 - moleculekit.readers - WARNING - Reading PDB file with more than 99999 atoms. Bond information can be wrong.\n",
      "2021-06-26 03:16:08,093 - htmd.protocols.production_v6 - WARNING - Lipids detected in input structure. We highly recommend setting useconstantratio=True for membrane simulations.\n",
      "2021-06-26 03:16:09,228 - jobqueues.slurmqueue - INFO - Queueing /gpcr/users/daranda/doctorat/GPCR_simulations/simulation_output/production/6TPJ/rep_1/\n"
     ]
    },
    {
     "name": "stdout",
     "output_type": "stream",
     "text": [
      "submitting replicate 2 of 6TPJ\n"
     ]
    },
    {
     "name": "stderr",
     "output_type": "stream",
     "text": [
      "2021-06-26 03:16:20,497 - moleculekit.readers - WARNING - Non-integer values were read from the PDB \"serial\" field. Dropping PDB values and assigning new ones.\n",
      "2021-06-26 03:16:20,664 - moleculekit.readers - WARNING - Reading PDB file with more than 99999 atoms. Bond information can be wrong.\n",
      "2021-06-26 03:17:04,073 - htmd.protocols.production_v6 - WARNING - Lipids detected in input structure. We highly recommend setting useconstantratio=True for membrane simulations.\n",
      "2021-06-26 03:17:04,739 - jobqueues.slurmqueue - INFO - Queueing /gpcr/users/daranda/doctorat/GPCR_simulations/simulation_output/production/6TPJ/rep_2/\n"
     ]
    },
    {
     "name": "stdout",
     "output_type": "stream",
     "text": [
      "submitting replicate 3 of 6TPJ\n"
     ]
    },
    {
     "name": "stderr",
     "output_type": "stream",
     "text": [
      "2021-06-26 03:17:16,600 - moleculekit.readers - WARNING - Non-integer values were read from the PDB \"serial\" field. Dropping PDB values and assigning new ones.\n",
      "2021-06-26 03:17:16,768 - moleculekit.readers - WARNING - Reading PDB file with more than 99999 atoms. Bond information can be wrong.\n",
      "2021-06-26 03:17:58,699 - htmd.protocols.production_v6 - WARNING - Lipids detected in input structure. We highly recommend setting useconstantratio=True for membrane simulations.\n",
      "2021-06-26 03:17:59,361 - jobqueues.slurmqueue - INFO - Queueing /gpcr/users/daranda/doctorat/GPCR_simulations/simulation_output/production/6TPJ/rep_3/\n"
     ]
    },
    {
     "name": "stdout",
     "output_type": "stream",
     "text": [
      "replicate 1 of structure 6PS8 already has been simulated\n",
      "replicate 2 of structure 6PS8 already has been simulated\n",
      "replicate 3 of structure 6PS8 already has been simulated\n",
      "replicate 1 of structure 6PS8 already has been simulated\n",
      "replicate 2 of structure 6PS8 already has been simulated\n",
      "replicate 3 of structure 6PS8 already has been simulated\n",
      "submitting replicate 1 of 6PS6\n"
     ]
    },
    {
     "name": "stderr",
     "output_type": "stream",
     "text": [
      "2021-06-26 03:18:44,310 - htmd.builder.builder - WARNING - Found cis peptide bond in 1 frames: [0] in the omega diheral \"Angle of (ARG 28 CA P0 P) (ARG 28 C P0 P) (ASP 29 N P0 P) (ASP 29 CA P0 P) \" with indexes [108, 128, 130, 132]\n",
      "2021-06-26 03:18:44,311 - htmd.builder.builder - WARNING - Found cis peptide bond in 1 frames: [0] in the omega diheral \"Angle of (GLN 299 CA P1 P) (GLN 299 C P1 P) (ASP 300 N P1 P) (ASP 300 CA P1 P) \" with indexes [4288, 4301, 4303, 4305]\n",
      "2021-06-26 03:18:45,803 - htmd.protocols.production_v6 - WARNING - Lipids detected in input structure. We highly recommend setting useconstantratio=True for membrane simulations.\n",
      "2021-06-26 03:18:47,210 - jobqueues.slurmqueue - INFO - Queueing /gpcr/users/daranda/doctorat/GPCR_simulations/simulation_output/production/6PS6_apo/rep_1/\n"
     ]
    },
    {
     "name": "stdout",
     "output_type": "stream",
     "text": [
      "submitting replicate 2 of 6PS6\n"
     ]
    },
    {
     "name": "stderr",
     "output_type": "stream",
     "text": [
      "2021-06-26 03:19:31,979 - htmd.builder.builder - WARNING - Found cis peptide bond in 1 frames: [0] in the omega diheral \"Angle of (ARG 28 CA P0 P) (ARG 28 C P0 P) (ASP 29 N P0 P) (ASP 29 CA P0 P) \" with indexes [108, 128, 130, 132]\n",
      "2021-06-26 03:19:31,981 - htmd.builder.builder - WARNING - Found cis peptide bond in 1 frames: [0] in the omega diheral \"Angle of (GLN 299 CA P1 P) (GLN 299 C P1 P) (ASP 300 N P1 P) (ASP 300 CA P1 P) \" with indexes [4288, 4301, 4303, 4305]\n",
      "2021-06-26 03:19:33,472 - htmd.protocols.production_v6 - WARNING - Lipids detected in input structure. We highly recommend setting useconstantratio=True for membrane simulations.\n",
      "2021-06-26 03:19:34,202 - jobqueues.slurmqueue - INFO - Queueing /gpcr/users/daranda/doctorat/GPCR_simulations/simulation_output/production/6PS6_apo/rep_2/\n"
     ]
    },
    {
     "name": "stdout",
     "output_type": "stream",
     "text": [
      "submitting replicate 3 of 6PS6\n"
     ]
    },
    {
     "name": "stderr",
     "output_type": "stream",
     "text": [
      "2021-06-26 03:20:19,365 - htmd.builder.builder - WARNING - Found cis peptide bond in 1 frames: [0] in the omega diheral \"Angle of (ARG 28 CA P0 P) (ARG 28 C P0 P) (ASP 29 N P0 P) (ASP 29 CA P0 P) \" with indexes [108, 128, 130, 132]\n",
      "2021-06-26 03:20:19,367 - htmd.builder.builder - WARNING - Found cis peptide bond in 1 frames: [0] in the omega diheral \"Angle of (GLN 299 CA P1 P) (GLN 299 C P1 P) (ASP 300 N P1 P) (ASP 300 CA P1 P) \" with indexes [4288, 4301, 4303, 4305]\n",
      "2021-06-26 03:20:20,847 - htmd.protocols.production_v6 - WARNING - Lipids detected in input structure. We highly recommend setting useconstantratio=True for membrane simulations.\n",
      "2021-06-26 03:20:21,314 - jobqueues.slurmqueue - INFO - Queueing /gpcr/users/daranda/doctorat/GPCR_simulations/simulation_output/production/6PS6_apo/rep_3/\n"
     ]
    },
    {
     "name": "stdout",
     "output_type": "stream",
     "text": [
      "submitting replicate 1 of 6PS6\n"
     ]
    },
    {
     "name": "stderr",
     "output_type": "stream",
     "text": [
      "2021-06-26 03:21:05,517 - htmd.builder.builder - WARNING - Found cis peptide bond in 1 frames: [0] in the omega diheral \"Angle of (ARG 28 CA P0 P) (ARG 28 C P0 P) (ASP 29 N P0 P) (ASP 29 CA P0 P) \" with indexes [112, 132, 134, 136]\n",
      "2021-06-26 03:21:05,519 - htmd.builder.builder - WARNING - Found cis peptide bond in 1 frames: [0] in the omega diheral \"Angle of (GLN 299 CA P1 P) (GLN 299 C P1 P) (ASP 300 N P1 P) (ASP 300 CA P1 P) \" with indexes [4297, 4310, 4312, 4314]\n",
      "2021-06-26 03:21:06,992 - htmd.protocols.production_v6 - WARNING - Lipids detected in input structure. We highly recommend setting useconstantratio=True for membrane simulations.\n",
      "2021-06-26 03:21:08,056 - jobqueues.slurmqueue - INFO - Queueing /gpcr/users/daranda/doctorat/GPCR_simulations/simulation_output/production/6PS6/rep_1/\n"
     ]
    },
    {
     "name": "stdout",
     "output_type": "stream",
     "text": [
      "submitting replicate 2 of 6PS6\n"
     ]
    },
    {
     "name": "stderr",
     "output_type": "stream",
     "text": [
      "2021-06-26 03:21:52,273 - htmd.builder.builder - WARNING - Found cis peptide bond in 1 frames: [0] in the omega diheral \"Angle of (ARG 28 CA P0 P) (ARG 28 C P0 P) (ASP 29 N P0 P) (ASP 29 CA P0 P) \" with indexes [112, 132, 134, 136]\n",
      "2021-06-26 03:21:52,275 - htmd.builder.builder - WARNING - Found cis peptide bond in 1 frames: [0] in the omega diheral \"Angle of (GLN 299 CA P1 P) (GLN 299 C P1 P) (ASP 300 N P1 P) (ASP 300 CA P1 P) \" with indexes [4297, 4310, 4312, 4314]\n",
      "2021-06-26 03:21:53,754 - htmd.protocols.production_v6 - WARNING - Lipids detected in input structure. We highly recommend setting useconstantratio=True for membrane simulations.\n",
      "2021-06-26 03:21:54,299 - jobqueues.slurmqueue - INFO - Queueing /gpcr/users/daranda/doctorat/GPCR_simulations/simulation_output/production/6PS6/rep_2/\n"
     ]
    },
    {
     "name": "stdout",
     "output_type": "stream",
     "text": [
      "submitting replicate 3 of 6PS6\n"
     ]
    },
    {
     "name": "stderr",
     "output_type": "stream",
     "text": [
      "2021-06-26 03:22:42,881 - htmd.builder.builder - WARNING - Found cis peptide bond in 1 frames: [0] in the omega diheral \"Angle of (ARG 28 CA P0 P) (ARG 28 C P0 P) (ASP 29 N P0 P) (ASP 29 CA P0 P) \" with indexes [112, 132, 134, 136]\n",
      "2021-06-26 03:22:42,883 - htmd.builder.builder - WARNING - Found cis peptide bond in 1 frames: [0] in the omega diheral \"Angle of (GLN 299 CA P1 P) (GLN 299 C P1 P) (ASP 300 N P1 P) (ASP 300 CA P1 P) \" with indexes [4297, 4310, 4312, 4314]\n",
      "2021-06-26 03:22:44,357 - htmd.protocols.production_v6 - WARNING - Lipids detected in input structure. We highly recommend setting useconstantratio=True for membrane simulations.\n",
      "2021-06-26 03:22:45,022 - jobqueues.slurmqueue - INFO - Queueing /gpcr/users/daranda/doctorat/GPCR_simulations/simulation_output/production/6PS6/rep_3/\n"
     ]
    },
    {
     "name": "stdout",
     "output_type": "stream",
     "text": [
      "submitting replicate 1 of 6D26\n"
     ]
    },
    {
     "name": "stderr",
     "output_type": "stream",
     "text": [
      "2021-06-26 03:23:27,562 - htmd.builder.builder - WARNING - Found cis peptide bond in 1 frames: [0] in the omega diheral \"Angle of (ARG 236 CA P P) (ARG 236 C P P) (GLY 237 N P P) (GLY 237 CA P P) \" with indexes [3660, 3680, 3682, 3684]\n",
      "2021-06-26 03:23:29,020 - htmd.protocols.production_v6 - WARNING - Lipids detected in input structure. We highly recommend setting useconstantratio=True for membrane simulations.\n",
      "2021-06-26 03:23:30,103 - jobqueues.slurmqueue - INFO - Queueing /gpcr/users/daranda/doctorat/GPCR_simulations/simulation_output/production/6D26_apo/rep_1/\n"
     ]
    },
    {
     "name": "stdout",
     "output_type": "stream",
     "text": [
      "submitting replicate 2 of 6D26\n"
     ]
    },
    {
     "name": "stderr",
     "output_type": "stream",
     "text": [
      "2021-06-26 03:24:11,387 - htmd.builder.builder - WARNING - Found cis peptide bond in 1 frames: [0] in the omega diheral \"Angle of (ARG 236 CA P P) (ARG 236 C P P) (GLY 237 N P P) (GLY 237 CA P P) \" with indexes [3660, 3680, 3682, 3684]\n",
      "2021-06-26 03:24:12,844 - htmd.protocols.production_v6 - WARNING - Lipids detected in input structure. We highly recommend setting useconstantratio=True for membrane simulations.\n",
      "2021-06-26 03:24:13,390 - jobqueues.slurmqueue - INFO - Queueing /gpcr/users/daranda/doctorat/GPCR_simulations/simulation_output/production/6D26_apo/rep_2/\n"
     ]
    },
    {
     "name": "stdout",
     "output_type": "stream",
     "text": [
      "submitting replicate 3 of 6D26\n"
     ]
    },
    {
     "name": "stderr",
     "output_type": "stream",
     "text": [
      "2021-06-26 03:24:53,807 - htmd.builder.builder - WARNING - Found cis peptide bond in 1 frames: [0] in the omega diheral \"Angle of (ARG 236 CA P P) (ARG 236 C P P) (GLY 237 N P P) (GLY 237 CA P P) \" with indexes [3660, 3680, 3682, 3684]\n",
      "2021-06-26 03:24:55,120 - htmd.protocols.production_v6 - WARNING - Lipids detected in input structure. We highly recommend setting useconstantratio=True for membrane simulations.\n",
      "2021-06-26 03:24:55,667 - jobqueues.slurmqueue - INFO - Queueing /gpcr/users/daranda/doctorat/GPCR_simulations/simulation_output/production/6D26_apo/rep_3/\n"
     ]
    },
    {
     "name": "stdout",
     "output_type": "stream",
     "text": [
      "submitting replicate 1 of 6D26\n"
     ]
    },
    {
     "name": "stderr",
     "output_type": "stream",
     "text": [
      "2021-06-26 03:25:41,131 - htmd.builder.builder - WARNING - Found cis peptide bond in 1 frames: [0] in the omega diheral \"Angle of (ARG 236 CA P P) (ARG 236 C P P) (GLY 237 N P P) (GLY 237 CA P P) \" with indexes [3707, 3727, 3729, 3731]\n",
      "2021-06-26 03:25:42,580 - htmd.protocols.production_v6 - WARNING - Lipids detected in input structure. We highly recommend setting useconstantratio=True for membrane simulations.\n",
      "2021-06-26 03:25:43,583 - jobqueues.slurmqueue - INFO - Queueing /gpcr/users/daranda/doctorat/GPCR_simulations/simulation_output/production/6D26/rep_1/\n"
     ]
    },
    {
     "name": "stdout",
     "output_type": "stream",
     "text": [
      "submitting replicate 2 of 6D26\n"
     ]
    },
    {
     "name": "stderr",
     "output_type": "stream",
     "text": [
      "2021-06-26 03:26:23,952 - htmd.builder.builder - WARNING - Found cis peptide bond in 1 frames: [0] in the omega diheral \"Angle of (ARG 236 CA P P) (ARG 236 C P P) (GLY 237 N P P) (GLY 237 CA P P) \" with indexes [3707, 3727, 3729, 3731]\n",
      "2021-06-26 03:26:25,405 - htmd.protocols.production_v6 - WARNING - Lipids detected in input structure. We highly recommend setting useconstantratio=True for membrane simulations.\n",
      "2021-06-26 03:26:25,996 - jobqueues.slurmqueue - INFO - Queueing /gpcr/users/daranda/doctorat/GPCR_simulations/simulation_output/production/6D26/rep_2/\n"
     ]
    },
    {
     "name": "stdout",
     "output_type": "stream",
     "text": [
      "submitting replicate 3 of 6D26\n"
     ]
    },
    {
     "name": "stderr",
     "output_type": "stream",
     "text": [
      "2021-06-26 03:27:07,501 - htmd.builder.builder - WARNING - Found cis peptide bond in 1 frames: [0] in the omega diheral \"Angle of (ARG 236 CA P P) (ARG 236 C P P) (GLY 237 N P P) (GLY 237 CA P P) \" with indexes [3707, 3727, 3729, 3731]\n",
      "2021-06-26 03:27:08,964 - htmd.protocols.production_v6 - WARNING - Lipids detected in input structure. We highly recommend setting useconstantratio=True for membrane simulations.\n",
      "2021-06-26 03:27:09,570 - jobqueues.slurmqueue - INFO - Queueing /gpcr/users/daranda/doctorat/GPCR_simulations/simulation_output/production/6D26/rep_3/\n"
     ]
    },
    {
     "name": "stdout",
     "output_type": "stream",
     "text": [
      "submitting replicate 1 of 6ME4\n"
     ]
    },
    {
     "name": "stderr",
     "output_type": "stream",
     "text": [
      "2021-06-26 03:27:49,623 - htmd.protocols.production_v6 - WARNING - Lipids detected in input structure. We highly recommend setting useconstantratio=True for membrane simulations.\n",
      "2021-06-26 03:27:50,565 - jobqueues.slurmqueue - INFO - Queueing /gpcr/users/daranda/doctorat/GPCR_simulations/simulation_output/production/6ME4_apo/rep_1/\n"
     ]
    },
    {
     "name": "stdout",
     "output_type": "stream",
     "text": [
      "submitting replicate 2 of 6ME4\n"
     ]
    },
    {
     "name": "stderr",
     "output_type": "stream",
     "text": [
      "2021-06-26 03:28:26,969 - htmd.protocols.production_v6 - WARNING - Lipids detected in input structure. We highly recommend setting useconstantratio=True for membrane simulations.\n",
      "2021-06-26 03:28:27,498 - jobqueues.slurmqueue - INFO - Queueing /gpcr/users/daranda/doctorat/GPCR_simulations/simulation_output/production/6ME4_apo/rep_2/\n"
     ]
    },
    {
     "name": "stdout",
     "output_type": "stream",
     "text": [
      "submitting replicate 3 of 6ME4\n"
     ]
    },
    {
     "name": "stderr",
     "output_type": "stream",
     "text": [
      "2021-06-26 03:29:05,520 - htmd.protocols.production_v6 - WARNING - Lipids detected in input structure. We highly recommend setting useconstantratio=True for membrane simulations.\n",
      "2021-06-26 03:29:05,981 - jobqueues.slurmqueue - INFO - Queueing /gpcr/users/daranda/doctorat/GPCR_simulations/simulation_output/production/6ME4_apo/rep_3/\n"
     ]
    },
    {
     "name": "stdout",
     "output_type": "stream",
     "text": [
      "submitting replicate 1 of 6ME4\n"
     ]
    },
    {
     "name": "stderr",
     "output_type": "stream",
     "text": [
      "2021-06-26 03:29:45,386 - htmd.protocols.production_v6 - WARNING - Lipids detected in input structure. We highly recommend setting useconstantratio=True for membrane simulations.\n",
      "2021-06-26 03:29:46,349 - jobqueues.slurmqueue - INFO - Queueing /gpcr/users/daranda/doctorat/GPCR_simulations/simulation_output/production/6ME4/rep_1/\n"
     ]
    },
    {
     "name": "stdout",
     "output_type": "stream",
     "text": [
      "submitting replicate 2 of 6ME4\n"
     ]
    },
    {
     "name": "stderr",
     "output_type": "stream",
     "text": [
      "2021-06-26 03:30:22,878 - htmd.protocols.production_v6 - WARNING - Lipids detected in input structure. We highly recommend setting useconstantratio=True for membrane simulations.\n",
      "2021-06-26 03:30:23,780 - jobqueues.slurmqueue - INFO - Queueing /gpcr/users/daranda/doctorat/GPCR_simulations/simulation_output/production/6ME4/rep_2/\n"
     ]
    },
    {
     "name": "stdout",
     "output_type": "stream",
     "text": [
      "submitting replicate 3 of 6ME4\n"
     ]
    },
    {
     "name": "stderr",
     "output_type": "stream",
     "text": [
      "2021-06-26 03:30:59,747 - htmd.protocols.production_v6 - WARNING - Lipids detected in input structure. We highly recommend setting useconstantratio=True for membrane simulations.\n",
      "2021-06-26 03:31:00,314 - jobqueues.slurmqueue - INFO - Queueing /gpcr/users/daranda/doctorat/GPCR_simulations/simulation_output/production/6ME4/rep_3/\n"
     ]
    },
    {
     "name": "stdout",
     "output_type": "stream",
     "text": [
      "submitting replicate 1 of 5GLI\n"
     ]
    },
    {
     "name": "stderr",
     "output_type": "stream",
     "text": [
      "2021-06-26 03:31:36,744 - htmd.builder.builder - WARNING - Found cis peptide bond in 1 frames: [0] in the omega diheral \"Angle of (ILE 212 CA P P) (ILE 212 C P P) (GLY 213 N P P) (GLY 213 CA P P) \" with indexes [2037, 2052, 2054, 2056]\n",
      "2021-06-26 03:31:38,023 - htmd.protocols.production_v6 - WARNING - Lipids detected in input structure. We highly recommend setting useconstantratio=True for membrane simulations.\n",
      "2021-06-26 03:31:38,962 - jobqueues.slurmqueue - INFO - Queueing /gpcr/users/daranda/doctorat/GPCR_simulations/simulation_output/production/5GLI_apo/rep_1/\n"
     ]
    },
    {
     "name": "stdout",
     "output_type": "stream",
     "text": [
      "submitting replicate 2 of 5GLI\n"
     ]
    },
    {
     "name": "stderr",
     "output_type": "stream",
     "text": [
      "2021-06-26 03:32:14,262 - htmd.builder.builder - WARNING - Found cis peptide bond in 1 frames: [0] in the omega diheral \"Angle of (ILE 212 CA P P) (ILE 212 C P P) (GLY 213 N P P) (GLY 213 CA P P) \" with indexes [2037, 2052, 2054, 2056]\n",
      "2021-06-26 03:32:15,538 - htmd.protocols.production_v6 - WARNING - Lipids detected in input structure. We highly recommend setting useconstantratio=True for membrane simulations.\n",
      "2021-06-26 03:32:16,224 - jobqueues.slurmqueue - INFO - Queueing /gpcr/users/daranda/doctorat/GPCR_simulations/simulation_output/production/5GLI_apo/rep_2/\n"
     ]
    },
    {
     "name": "stdout",
     "output_type": "stream",
     "text": [
      "submitting replicate 3 of 5GLI\n"
     ]
    },
    {
     "name": "stderr",
     "output_type": "stream",
     "text": [
      "2021-06-26 03:32:52,406 - htmd.builder.builder - WARNING - Found cis peptide bond in 1 frames: [0] in the omega diheral \"Angle of (ILE 212 CA P P) (ILE 212 C P P) (GLY 213 N P P) (GLY 213 CA P P) \" with indexes [2037, 2052, 2054, 2056]\n",
      "2021-06-26 03:32:53,651 - htmd.protocols.production_v6 - WARNING - Lipids detected in input structure. We highly recommend setting useconstantratio=True for membrane simulations.\n",
      "2021-06-26 03:32:54,117 - jobqueues.slurmqueue - INFO - Queueing /gpcr/users/daranda/doctorat/GPCR_simulations/simulation_output/production/5GLI_apo/rep_3/\n"
     ]
    },
    {
     "name": "stdout",
     "output_type": "stream",
     "text": [
      "submitting replicate 1 of 5GLI\n",
      "model 5GLI could not be send to equilibrate because of  Could not locate file /gpcr/users/daranda/doctorat/GPCR_simulations/simulation_output//equil/5GLI/structure.pdb set by the user for argument Production.acemd.coordinates\n",
      "submitting replicate 2 of 5GLI\n",
      "model 5GLI could not be send to equilibrate because of  Could not locate file /gpcr/users/daranda/doctorat/GPCR_simulations/simulation_output//equil/5GLI/structure.pdb set by the user for argument Production.acemd.coordinates\n",
      "submitting replicate 3 of 5GLI\n",
      "model 5GLI could not be send to equilibrate because of  Could not locate file /gpcr/users/daranda/doctorat/GPCR_simulations/simulation_output//equil/5GLI/structure.pdb set by the user for argument Production.acemd.coordinates\n",
      "submitting replicate 1 of 6DRX\n"
     ]
    },
    {
     "name": "stderr",
     "output_type": "stream",
     "text": [
      "2021-06-26 03:33:26,463 - htmd.protocols.production_v6 - WARNING - Lipids detected in input structure. We highly recommend setting useconstantratio=True for membrane simulations.\n",
      "2021-06-26 03:33:27,724 - jobqueues.slurmqueue - INFO - Queueing /gpcr/users/daranda/doctorat/GPCR_simulations/simulation_output/production/6DRX_apo/rep_1/\n"
     ]
    },
    {
     "name": "stdout",
     "output_type": "stream",
     "text": [
      "submitting replicate 2 of 6DRX\n"
     ]
    },
    {
     "name": "stderr",
     "output_type": "stream",
     "text": [
      "2021-06-26 03:34:05,818 - htmd.protocols.production_v6 - WARNING - Lipids detected in input structure. We highly recommend setting useconstantratio=True for membrane simulations.\n",
      "2021-06-26 03:34:06,529 - jobqueues.slurmqueue - INFO - Queueing /gpcr/users/daranda/doctorat/GPCR_simulations/simulation_output/production/6DRX_apo/rep_2/\n"
     ]
    },
    {
     "name": "stdout",
     "output_type": "stream",
     "text": [
      "submitting replicate 3 of 6DRX\n"
     ]
    },
    {
     "name": "stderr",
     "output_type": "stream",
     "text": [
      "2021-06-26 03:34:37,962 - htmd.protocols.production_v6 - WARNING - Lipids detected in input structure. We highly recommend setting useconstantratio=True for membrane simulations.\n",
      "2021-06-26 03:34:38,453 - jobqueues.slurmqueue - INFO - Queueing /gpcr/users/daranda/doctorat/GPCR_simulations/simulation_output/production/6DRX_apo/rep_3/\n"
     ]
    },
    {
     "name": "stdout",
     "output_type": "stream",
     "text": [
      "submitting replicate 1 of 6DRX\n"
     ]
    },
    {
     "name": "stderr",
     "output_type": "stream",
     "text": [
      "2021-06-26 03:35:10,578 - htmd.protocols.production_v6 - WARNING - Lipids detected in input structure. We highly recommend setting useconstantratio=True for membrane simulations.\n",
      "2021-06-26 03:35:11,516 - jobqueues.slurmqueue - INFO - Queueing /gpcr/users/daranda/doctorat/GPCR_simulations/simulation_output/production/6DRX/rep_1/\n"
     ]
    },
    {
     "name": "stdout",
     "output_type": "stream",
     "text": [
      "submitting replicate 2 of 6DRX\n"
     ]
    },
    {
     "name": "stderr",
     "output_type": "stream",
     "text": [
      "2021-06-26 03:35:44,629 - htmd.protocols.production_v6 - WARNING - Lipids detected in input structure. We highly recommend setting useconstantratio=True for membrane simulations.\n",
      "2021-06-26 03:35:45,095 - jobqueues.slurmqueue - INFO - Queueing /gpcr/users/daranda/doctorat/GPCR_simulations/simulation_output/production/6DRX/rep_2/\n"
     ]
    },
    {
     "name": "stdout",
     "output_type": "stream",
     "text": [
      "submitting replicate 3 of 6DRX\n"
     ]
    },
    {
     "name": "stderr",
     "output_type": "stream",
     "text": [
      "2021-06-26 03:36:18,659 - htmd.protocols.production_v6 - WARNING - Lipids detected in input structure. We highly recommend setting useconstantratio=True for membrane simulations.\n",
      "2021-06-26 03:36:19,174 - jobqueues.slurmqueue - INFO - Queueing /gpcr/users/daranda/doctorat/GPCR_simulations/simulation_output/production/6DRX/rep_3/\n"
     ]
    },
    {
     "name": "stdout",
     "output_type": "stream",
     "text": [
      "submitting replicate 1 of 6TOS\n"
     ]
    },
    {
     "name": "stderr",
     "output_type": "stream",
     "text": [
      "2021-06-26 03:36:58,044 - htmd.builder.builder - WARNING - Found cis peptide bond in 1 frames: [0] in the omega diheral \"Angle of (HSP 344 CA P1 P) (HSP 344 C P1 P) (TRP 345 N P1 P) (TRP 345 CA P1 P) \" with indexes [4580, 4594, 4596, 4598]\n",
      "2021-06-26 03:36:59,379 - htmd.protocols.production_v6 - WARNING - Lipids detected in input structure. We highly recommend setting useconstantratio=True for membrane simulations.\n",
      "2021-06-26 03:37:00,461 - jobqueues.slurmqueue - INFO - Queueing /gpcr/users/daranda/doctorat/GPCR_simulations/simulation_output/production/6TOS_apo/rep_1/\n"
     ]
    },
    {
     "name": "stdout",
     "output_type": "stream",
     "text": [
      "submitting replicate 2 of 6TOS\n"
     ]
    },
    {
     "name": "stderr",
     "output_type": "stream",
     "text": [
      "2021-06-26 03:37:39,824 - htmd.builder.builder - WARNING - Found cis peptide bond in 1 frames: [0] in the omega diheral \"Angle of (HSP 344 CA P1 P) (HSP 344 C P1 P) (TRP 345 N P1 P) (TRP 345 CA P1 P) \" with indexes [4580, 4594, 4596, 4598]\n",
      "2021-06-26 03:37:41,037 - htmd.protocols.production_v6 - WARNING - Lipids detected in input structure. We highly recommend setting useconstantratio=True for membrane simulations.\n",
      "2021-06-26 03:37:41,422 - jobqueues.slurmqueue - INFO - Queueing /gpcr/users/daranda/doctorat/GPCR_simulations/simulation_output/production/6TOS_apo/rep_2/\n"
     ]
    },
    {
     "name": "stdout",
     "output_type": "stream",
     "text": [
      "submitting replicate 3 of 6TOS\n"
     ]
    },
    {
     "name": "stderr",
     "output_type": "stream",
     "text": [
      "2021-06-26 03:38:22,772 - htmd.builder.builder - WARNING - Found cis peptide bond in 1 frames: [0] in the omega diheral \"Angle of (HSP 344 CA P1 P) (HSP 344 C P1 P) (TRP 345 N P1 P) (TRP 345 CA P1 P) \" with indexes [4580, 4594, 4596, 4598]\n",
      "2021-06-26 03:38:24,103 - htmd.protocols.production_v6 - WARNING - Lipids detected in input structure. We highly recommend setting useconstantratio=True for membrane simulations.\n",
      "2021-06-26 03:38:24,465 - jobqueues.slurmqueue - INFO - Queueing /gpcr/users/daranda/doctorat/GPCR_simulations/simulation_output/production/6TOS_apo/rep_3/\n"
     ]
    },
    {
     "name": "stdout",
     "output_type": "stream",
     "text": [
      "submitting replicate 1 of 6TOS\n"
     ]
    },
    {
     "name": "stderr",
     "output_type": "stream",
     "text": [
      "2021-06-26 03:39:03,186 - htmd.builder.builder - WARNING - Found cis peptide bond in 1 frames: [0] in the omega diheral \"Angle of (HSP 344 CA P1 P) (HSP 344 C P1 P) (TRP 345 N P1 P) (TRP 345 CA P1 P) \" with indexes [4584, 4598, 4600, 4602]\n",
      "2021-06-26 03:39:04,520 - htmd.protocols.production_v6 - WARNING - Lipids detected in input structure. We highly recommend setting useconstantratio=True for membrane simulations.\n",
      "2021-06-26 03:39:05,526 - jobqueues.slurmqueue - INFO - Queueing /gpcr/users/daranda/doctorat/GPCR_simulations/simulation_output/production/6TOS/rep_1/\n"
     ]
    },
    {
     "name": "stdout",
     "output_type": "stream",
     "text": [
      "submitting replicate 2 of 6TOS\n"
     ]
    },
    {
     "name": "stderr",
     "output_type": "stream",
     "text": [
      "2021-06-26 03:39:44,057 - htmd.builder.builder - WARNING - Found cis peptide bond in 1 frames: [0] in the omega diheral \"Angle of (HSP 344 CA P1 P) (HSP 344 C P1 P) (TRP 345 N P1 P) (TRP 345 CA P1 P) \" with indexes [4584, 4598, 4600, 4602]\n",
      "2021-06-26 03:39:45,407 - htmd.protocols.production_v6 - WARNING - Lipids detected in input structure. We highly recommend setting useconstantratio=True for membrane simulations.\n",
      "2021-06-26 03:39:45,849 - jobqueues.slurmqueue - INFO - Queueing /gpcr/users/daranda/doctorat/GPCR_simulations/simulation_output/production/6TOS/rep_2/\n"
     ]
    },
    {
     "name": "stdout",
     "output_type": "stream",
     "text": [
      "submitting replicate 3 of 6TOS\n"
     ]
    },
    {
     "name": "stderr",
     "output_type": "stream",
     "text": [
      "2021-06-26 03:40:23,109 - htmd.builder.builder - WARNING - Found cis peptide bond in 1 frames: [0] in the omega diheral \"Angle of (HSP 344 CA P1 P) (HSP 344 C P1 P) (TRP 345 N P1 P) (TRP 345 CA P1 P) \" with indexes [4584, 4598, 4600, 4602]\n",
      "2021-06-26 03:40:24,446 - htmd.protocols.production_v6 - WARNING - Lipids detected in input structure. We highly recommend setting useconstantratio=True for membrane simulations.\n",
      "2021-06-26 03:40:24,994 - jobqueues.slurmqueue - INFO - Queueing /gpcr/users/daranda/doctorat/GPCR_simulations/simulation_output/production/6TOS/rep_3/\n"
     ]
    },
    {
     "name": "stdout",
     "output_type": "stream",
     "text": [
      "submitting replicate 1 of 6KNM\n"
     ]
    },
    {
     "name": "stderr",
     "output_type": "stream",
     "text": [
      "2021-06-26 03:41:05,222 - htmd.builder.builder - WARNING - Found cis peptide bond in 1 frames: [0] in the omega diheral \"Angle of (SER 56 CA P P) (SER 56 C P P) (SER 57 N P P) (SER 57 CA P P) \" with indexes [607, 614, 616, 618]\n",
      "2021-06-26 03:41:06,696 - htmd.protocols.production_v6 - WARNING - Lipids detected in input structure. We highly recommend setting useconstantratio=True for membrane simulations.\n",
      "2021-06-26 03:41:07,607 - jobqueues.slurmqueue - INFO - Queueing /gpcr/users/daranda/doctorat/GPCR_simulations/simulation_output/production/6KNM_apo/rep_1/\n"
     ]
    },
    {
     "name": "stdout",
     "output_type": "stream",
     "text": [
      "submitting replicate 2 of 6KNM\n"
     ]
    },
    {
     "name": "stderr",
     "output_type": "stream",
     "text": [
      "2021-06-26 03:41:47,705 - htmd.builder.builder - WARNING - Found cis peptide bond in 1 frames: [0] in the omega diheral \"Angle of (SER 56 CA P P) (SER 56 C P P) (SER 57 N P P) (SER 57 CA P P) \" with indexes [607, 614, 616, 618]\n",
      "2021-06-26 03:41:49,190 - htmd.protocols.production_v6 - WARNING - Lipids detected in input structure. We highly recommend setting useconstantratio=True for membrane simulations.\n",
      "2021-06-26 03:41:49,640 - jobqueues.slurmqueue - INFO - Queueing /gpcr/users/daranda/doctorat/GPCR_simulations/simulation_output/production/6KNM_apo/rep_2/\n"
     ]
    },
    {
     "name": "stdout",
     "output_type": "stream",
     "text": [
      "submitting replicate 3 of 6KNM\n"
     ]
    },
    {
     "name": "stderr",
     "output_type": "stream",
     "text": [
      "2021-06-26 03:42:30,675 - htmd.builder.builder - WARNING - Found cis peptide bond in 1 frames: [0] in the omega diheral \"Angle of (SER 56 CA P P) (SER 56 C P P) (SER 57 N P P) (SER 57 CA P P) \" with indexes [607, 614, 616, 618]\n",
      "2021-06-26 03:42:32,156 - htmd.protocols.production_v6 - WARNING - Lipids detected in input structure. We highly recommend setting useconstantratio=True for membrane simulations.\n",
      "2021-06-26 03:42:32,632 - jobqueues.slurmqueue - INFO - Queueing /gpcr/users/daranda/doctorat/GPCR_simulations/simulation_output/production/6KNM_apo/rep_3/\n"
     ]
    },
    {
     "name": "stdout",
     "output_type": "stream",
     "text": [
      "submitting replicate 1 of 6KNM\n"
     ]
    },
    {
     "name": "stderr",
     "output_type": "stream",
     "text": [
      "2021-06-26 03:42:45,341 - moleculekit.readers - WARNING - Non-integer values were read from the PDB \"serial\" field. Dropping PDB values and assigning new ones.\n",
      "2021-06-26 03:42:45,512 - moleculekit.readers - WARNING - Reading PDB file with more than 99999 atoms. Bond information can be wrong.\n",
      "2021-06-26 03:43:38,347 - htmd.builder.builder - WARNING - Found cis peptide bond in 1 frames: [0] in the omega diheral \"Angle of (SER 56 CA P P) (SER 56 C P P) (SER 57 N P P) (SER 57 CA P P) \" with indexes [607, 614, 616, 618]\n",
      "2021-06-26 03:43:38,349 - htmd.builder.builder - WARNING - Found cis peptide bond in 1 frames: [0] in the omega diheral \"Angle of (ALA 40 CA L P) (ALA 40 C L P) (PRO 41 N L P) (PRO 41 CA L P) \" with indexes [5605, 5611, 5613, 5617]\n",
      "2021-06-26 03:43:40,333 - htmd.protocols.production_v6 - WARNING - Lipids detected in input structure. We highly recommend setting useconstantratio=True for membrane simulations.\n",
      "2021-06-26 03:43:41,361 - jobqueues.slurmqueue - INFO - Queueing /gpcr/users/daranda/doctorat/GPCR_simulations/simulation_output/production/6KNM/rep_1/\n"
     ]
    },
    {
     "name": "stdout",
     "output_type": "stream",
     "text": [
      "submitting replicate 2 of 6KNM\n"
     ]
    },
    {
     "name": "stderr",
     "output_type": "stream",
     "text": [
      "2021-06-26 03:43:53,991 - moleculekit.readers - WARNING - Non-integer values were read from the PDB \"serial\" field. Dropping PDB values and assigning new ones.\n",
      "2021-06-26 03:43:54,162 - moleculekit.readers - WARNING - Reading PDB file with more than 99999 atoms. Bond information can be wrong.\n",
      "2021-06-26 03:44:53,838 - htmd.builder.builder - WARNING - Found cis peptide bond in 1 frames: [0] in the omega diheral \"Angle of (SER 56 CA P P) (SER 56 C P P) (SER 57 N P P) (SER 57 CA P P) \" with indexes [607, 614, 616, 618]\n",
      "2021-06-26 03:44:53,840 - htmd.builder.builder - WARNING - Found cis peptide bond in 1 frames: [0] in the omega diheral \"Angle of (ALA 40 CA L P) (ALA 40 C L P) (PRO 41 N L P) (PRO 41 CA L P) \" with indexes [5605, 5611, 5613, 5617]\n",
      "2021-06-26 03:44:55,845 - htmd.protocols.production_v6 - WARNING - Lipids detected in input structure. We highly recommend setting useconstantratio=True for membrane simulations.\n",
      "2021-06-26 03:44:56,754 - jobqueues.slurmqueue - INFO - Queueing /gpcr/users/daranda/doctorat/GPCR_simulations/simulation_output/production/6KNM/rep_2/\n"
     ]
    },
    {
     "name": "stdout",
     "output_type": "stream",
     "text": [
      "submitting replicate 3 of 6KNM\n"
     ]
    },
    {
     "name": "stderr",
     "output_type": "stream",
     "text": [
      "2021-06-26 03:45:11,001 - moleculekit.readers - WARNING - Non-integer values were read from the PDB \"serial\" field. Dropping PDB values and assigning new ones.\n",
      "2021-06-26 03:45:11,173 - moleculekit.readers - WARNING - Reading PDB file with more than 99999 atoms. Bond information can be wrong.\n",
      "2021-06-26 03:46:13,786 - htmd.builder.builder - WARNING - Found cis peptide bond in 1 frames: [0] in the omega diheral \"Angle of (SER 56 CA P P) (SER 56 C P P) (SER 57 N P P) (SER 57 CA P P) \" with indexes [607, 614, 616, 618]\n",
      "2021-06-26 03:46:13,788 - htmd.builder.builder - WARNING - Found cis peptide bond in 1 frames: [0] in the omega diheral \"Angle of (ALA 40 CA L P) (ALA 40 C L P) (PRO 41 N L P) (PRO 41 CA L P) \" with indexes [5605, 5611, 5613, 5617]\n",
      "2021-06-26 03:46:15,826 - htmd.protocols.production_v6 - WARNING - Lipids detected in input structure. We highly recommend setting useconstantratio=True for membrane simulations.\n",
      "2021-06-26 03:46:16,677 - jobqueues.slurmqueue - INFO - Queueing /gpcr/users/daranda/doctorat/GPCR_simulations/simulation_output/production/6KNM/rep_3/\n"
     ]
    },
    {
     "name": "stdout",
     "output_type": "stream",
     "text": [
      "submitting replicate 1 of 6RZ6\n"
     ]
    },
    {
     "name": "stderr",
     "output_type": "stream",
     "text": [
      "2021-06-26 03:46:54,689 - htmd.protocols.production_v6 - WARNING - Lipids detected in input structure. We highly recommend setting useconstantratio=True for membrane simulations.\n",
      "2021-06-26 03:46:55,900 - jobqueues.slurmqueue - INFO - Queueing /gpcr/users/daranda/doctorat/GPCR_simulations/simulation_output/production/6RZ6_apo/rep_1/\n"
     ]
    },
    {
     "name": "stdout",
     "output_type": "stream",
     "text": [
      "submitting replicate 2 of 6RZ6\n"
     ]
    },
    {
     "name": "stderr",
     "output_type": "stream",
     "text": [
      "2021-06-26 03:47:35,632 - htmd.protocols.production_v6 - WARNING - Lipids detected in input structure. We highly recommend setting useconstantratio=True for membrane simulations.\n",
      "2021-06-26 03:47:36,058 - jobqueues.slurmqueue - INFO - Queueing /gpcr/users/daranda/doctorat/GPCR_simulations/simulation_output/production/6RZ6_apo/rep_2/\n"
     ]
    },
    {
     "name": "stdout",
     "output_type": "stream",
     "text": [
      "submitting replicate 3 of 6RZ6\n"
     ]
    },
    {
     "name": "stderr",
     "output_type": "stream",
     "text": [
      "2021-06-26 03:48:17,010 - htmd.protocols.production_v6 - WARNING - Lipids detected in input structure. We highly recommend setting useconstantratio=True for membrane simulations.\n",
      "2021-06-26 03:48:17,465 - jobqueues.slurmqueue - INFO - Queueing /gpcr/users/daranda/doctorat/GPCR_simulations/simulation_output/production/6RZ6_apo/rep_3/\n"
     ]
    },
    {
     "name": "stdout",
     "output_type": "stream",
     "text": [
      "submitting replicate 1 of 6RZ6\n"
     ]
    },
    {
     "name": "stderr",
     "output_type": "stream",
     "text": [
      "2021-06-26 03:48:56,704 - htmd.protocols.production_v6 - WARNING - Lipids detected in input structure. We highly recommend setting useconstantratio=True for membrane simulations.\n",
      "2021-06-26 03:48:57,991 - jobqueues.slurmqueue - INFO - Queueing /gpcr/users/daranda/doctorat/GPCR_simulations/simulation_output/production/6RZ6/rep_1/\n"
     ]
    },
    {
     "name": "stdout",
     "output_type": "stream",
     "text": [
      "submitting replicate 2 of 6RZ6\n"
     ]
    },
    {
     "name": "stderr",
     "output_type": "stream",
     "text": [
      "2021-06-26 03:49:35,165 - htmd.protocols.production_v6 - WARNING - Lipids detected in input structure. We highly recommend setting useconstantratio=True for membrane simulations.\n",
      "2021-06-26 03:49:35,759 - jobqueues.slurmqueue - INFO - Queueing /gpcr/users/daranda/doctorat/GPCR_simulations/simulation_output/production/6RZ6/rep_2/\n"
     ]
    },
    {
     "name": "stdout",
     "output_type": "stream",
     "text": [
      "submitting replicate 3 of 6RZ6\n"
     ]
    },
    {
     "name": "stderr",
     "output_type": "stream",
     "text": [
      "2021-06-26 03:50:12,498 - htmd.protocols.production_v6 - WARNING - Lipids detected in input structure. We highly recommend setting useconstantratio=True for membrane simulations.\n",
      "2021-06-26 03:50:13,232 - jobqueues.slurmqueue - INFO - Queueing /gpcr/users/daranda/doctorat/GPCR_simulations/simulation_output/production/6RZ6/rep_3/\n"
     ]
    },
    {
     "name": "stdout",
     "output_type": "stream",
     "text": [
      "submitting replicate 1 of 5N2S\n"
     ]
    },
    {
     "name": "stderr",
     "output_type": "stream",
     "text": [
      "2021-06-26 03:50:57,751 - htmd.protocols.production_v6 - WARNING - Lipids detected in input structure. We highly recommend setting useconstantratio=True for membrane simulations.\n",
      "2021-06-26 03:50:58,875 - jobqueues.slurmqueue - INFO - Queueing /gpcr/users/daranda/doctorat/GPCR_simulations/simulation_output/production/5N2S_apo/rep_1/\n"
     ]
    },
    {
     "name": "stdout",
     "output_type": "stream",
     "text": [
      "submitting replicate 2 of 5N2S\n"
     ]
    },
    {
     "name": "stderr",
     "output_type": "stream",
     "text": [
      "2021-06-26 03:51:42,050 - htmd.protocols.production_v6 - WARNING - Lipids detected in input structure. We highly recommend setting useconstantratio=True for membrane simulations.\n",
      "2021-06-26 03:51:42,554 - jobqueues.slurmqueue - INFO - Queueing /gpcr/users/daranda/doctorat/GPCR_simulations/simulation_output/production/5N2S_apo/rep_2/\n"
     ]
    },
    {
     "name": "stdout",
     "output_type": "stream",
     "text": [
      "submitting replicate 3 of 5N2S\n"
     ]
    },
    {
     "name": "stderr",
     "output_type": "stream",
     "text": [
      "2021-06-26 03:52:25,261 - htmd.protocols.production_v6 - WARNING - Lipids detected in input structure. We highly recommend setting useconstantratio=True for membrane simulations.\n",
      "2021-06-26 03:52:25,752 - jobqueues.slurmqueue - INFO - Queueing /gpcr/users/daranda/doctorat/GPCR_simulations/simulation_output/production/5N2S_apo/rep_3/\n"
     ]
    },
    {
     "name": "stdout",
     "output_type": "stream",
     "text": [
      "submitting replicate 1 of 5N2S\n"
     ]
    },
    {
     "name": "stderr",
     "output_type": "stream",
     "text": [
      "2021-06-26 03:53:09,439 - htmd.protocols.production_v6 - WARNING - Lipids detected in input structure. We highly recommend setting useconstantratio=True for membrane simulations.\n",
      "2021-06-26 03:53:10,444 - jobqueues.slurmqueue - INFO - Queueing /gpcr/users/daranda/doctorat/GPCR_simulations/simulation_output/production/5N2S/rep_1/\n"
     ]
    },
    {
     "name": "stdout",
     "output_type": "stream",
     "text": [
      "submitting replicate 2 of 5N2S\n"
     ]
    },
    {
     "name": "stderr",
     "output_type": "stream",
     "text": [
      "2021-06-26 03:53:52,600 - htmd.protocols.production_v6 - WARNING - Lipids detected in input structure. We highly recommend setting useconstantratio=True for membrane simulations.\n",
      "2021-06-26 03:53:53,190 - jobqueues.slurmqueue - INFO - Queueing /gpcr/users/daranda/doctorat/GPCR_simulations/simulation_output/production/5N2S/rep_2/\n"
     ]
    },
    {
     "name": "stdout",
     "output_type": "stream",
     "text": [
      "submitting replicate 3 of 5N2S\n"
     ]
    },
    {
     "name": "stderr",
     "output_type": "stream",
     "text": [
      "2021-06-26 03:54:35,421 - htmd.protocols.production_v6 - WARNING - Lipids detected in input structure. We highly recommend setting useconstantratio=True for membrane simulations.\n",
      "2021-06-26 03:54:35,889 - jobqueues.slurmqueue - INFO - Queueing /gpcr/users/daranda/doctorat/GPCR_simulations/simulation_output/production/5N2S/rep_3/\n"
     ]
    },
    {
     "name": "stdout",
     "output_type": "stream",
     "text": [
      "replicate 1 of structure 6TQ7 already has been simulated\n",
      "replicate 2 of structure 6TQ7 already has been simulated\n",
      "replicate 3 of structure 6TQ7 already has been simulated\n",
      "replicate 1 of structure 6TQ7 already has been simulated\n",
      "replicate 2 of structure 6TQ7 already has been simulated\n",
      "replicate 3 of structure 6TQ7 already has been simulated\n",
      "submitting replicate 1 of 5EE7\n"
     ]
    },
    {
     "name": "stderr",
     "output_type": "stream",
     "text": [
      "2021-06-26 03:54:49,988 - moleculekit.readers - WARNING - Non-integer values were read from the PDB \"serial\" field. Dropping PDB values and assigning new ones.\n",
      "2021-06-26 03:54:50,150 - moleculekit.readers - WARNING - Reading PDB file with more than 99999 atoms. Bond information can be wrong.\n",
      "2021-06-26 03:55:26,281 - htmd.builder.builder - WARNING - Found cis peptide bond in 1 frames: [0] in the omega diheral \"Angle of (PHE 303 CA P P) (PHE 303 C P P) (TRP 304 N P P) (TRP 304 CA P P) \" with indexes [2754, 2770, 2772, 2774]\n",
      "2021-06-26 03:55:28,139 - htmd.protocols.production_v6 - WARNING - Lipids detected in input structure. We highly recommend setting useconstantratio=True for membrane simulations.\n",
      "2021-06-26 03:55:29,311 - jobqueues.slurmqueue - INFO - Queueing /gpcr/users/daranda/doctorat/GPCR_simulations/simulation_output/production/5EE7_apo/rep_1/\n"
     ]
    },
    {
     "name": "stdout",
     "output_type": "stream",
     "text": [
      "submitting replicate 2 of 5EE7\n"
     ]
    },
    {
     "name": "stderr",
     "output_type": "stream",
     "text": [
      "2021-06-26 03:55:41,133 - moleculekit.readers - WARNING - Non-integer values were read from the PDB \"serial\" field. Dropping PDB values and assigning new ones.\n",
      "2021-06-26 03:55:41,293 - moleculekit.readers - WARNING - Reading PDB file with more than 99999 atoms. Bond information can be wrong.\n",
      "2021-06-26 03:56:23,971 - htmd.builder.builder - WARNING - Found cis peptide bond in 1 frames: [0] in the omega diheral \"Angle of (PHE 303 CA P P) (PHE 303 C P P) (TRP 304 N P P) (TRP 304 CA P P) \" with indexes [2754, 2770, 2772, 2774]\n",
      "2021-06-26 03:56:25,875 - htmd.protocols.production_v6 - WARNING - Lipids detected in input structure. We highly recommend setting useconstantratio=True for membrane simulations.\n",
      "2021-06-26 03:56:26,528 - jobqueues.slurmqueue - INFO - Queueing /gpcr/users/daranda/doctorat/GPCR_simulations/simulation_output/production/5EE7_apo/rep_2/\n"
     ]
    },
    {
     "name": "stdout",
     "output_type": "stream",
     "text": [
      "submitting replicate 3 of 5EE7\n"
     ]
    },
    {
     "name": "stderr",
     "output_type": "stream",
     "text": [
      "2021-06-26 03:56:38,086 - moleculekit.readers - WARNING - Non-integer values were read from the PDB \"serial\" field. Dropping PDB values and assigning new ones.\n",
      "2021-06-26 03:56:38,248 - moleculekit.readers - WARNING - Reading PDB file with more than 99999 atoms. Bond information can be wrong.\n",
      "2021-06-26 03:57:21,004 - htmd.builder.builder - WARNING - Found cis peptide bond in 1 frames: [0] in the omega diheral \"Angle of (PHE 303 CA P P) (PHE 303 C P P) (TRP 304 N P P) (TRP 304 CA P P) \" with indexes [2754, 2770, 2772, 2774]\n",
      "2021-06-26 03:57:22,902 - htmd.protocols.production_v6 - WARNING - Lipids detected in input structure. We highly recommend setting useconstantratio=True for membrane simulations.\n",
      "2021-06-26 03:57:23,948 - jobqueues.slurmqueue - INFO - Queueing /gpcr/users/daranda/doctorat/GPCR_simulations/simulation_output/production/5EE7_apo/rep_3/\n"
     ]
    },
    {
     "name": "stdout",
     "output_type": "stream",
     "text": [
      "replicate 1 of structure 5EE7 already has been simulated\n",
      "replicate 2 of structure 5EE7 already has been simulated\n",
      "replicate 3 of structure 5EE7 already has been simulated\n",
      "submitting replicate 1 of 6A93\n"
     ]
    },
    {
     "name": "stderr",
     "output_type": "stream",
     "text": [
      "2021-06-26 03:58:07,253 - htmd.protocols.production_v6 - WARNING - Lipids detected in input structure. We highly recommend setting useconstantratio=True for membrane simulations.\n",
      "2021-06-26 03:58:08,475 - jobqueues.slurmqueue - INFO - Queueing /gpcr/users/daranda/doctorat/GPCR_simulations/simulation_output/production/6A93_apo/rep_1/\n"
     ]
    },
    {
     "name": "stdout",
     "output_type": "stream",
     "text": [
      "submitting replicate 2 of 6A93\n"
     ]
    },
    {
     "name": "stderr",
     "output_type": "stream",
     "text": [
      "2021-06-26 03:58:49,793 - htmd.protocols.production_v6 - WARNING - Lipids detected in input structure. We highly recommend setting useconstantratio=True for membrane simulations.\n",
      "2021-06-26 03:58:50,293 - jobqueues.slurmqueue - INFO - Queueing /gpcr/users/daranda/doctorat/GPCR_simulations/simulation_output/production/6A93_apo/rep_2/\n"
     ]
    },
    {
     "name": "stdout",
     "output_type": "stream",
     "text": [
      "submitting replicate 3 of 6A93\n"
     ]
    },
    {
     "name": "stderr",
     "output_type": "stream",
     "text": [
      "2021-06-26 03:59:30,443 - htmd.protocols.production_v6 - WARNING - Lipids detected in input structure. We highly recommend setting useconstantratio=True for membrane simulations.\n",
      "2021-06-26 03:59:31,010 - jobqueues.slurmqueue - INFO - Queueing /gpcr/users/daranda/doctorat/GPCR_simulations/simulation_output/production/6A93_apo/rep_3/\n"
     ]
    },
    {
     "name": "stdout",
     "output_type": "stream",
     "text": [
      "submitting replicate 1 of 6A93\n"
     ]
    },
    {
     "name": "stderr",
     "output_type": "stream",
     "text": [
      "2021-06-26 04:00:12,331 - htmd.protocols.production_v6 - WARNING - Lipids detected in input structure. We highly recommend setting useconstantratio=True for membrane simulations.\n",
      "2021-06-26 04:00:13,533 - jobqueues.slurmqueue - INFO - Queueing /gpcr/users/daranda/doctorat/GPCR_simulations/simulation_output/production/6A93/rep_1/\n"
     ]
    },
    {
     "name": "stdout",
     "output_type": "stream",
     "text": [
      "submitting replicate 2 of 6A93\n"
     ]
    },
    {
     "name": "stderr",
     "output_type": "stream",
     "text": [
      "2021-06-26 04:00:48,853 - htmd.protocols.production_v6 - WARNING - Lipids detected in input structure. We highly recommend setting useconstantratio=True for membrane simulations.\n",
      "2021-06-26 04:00:49,654 - jobqueues.slurmqueue - INFO - Queueing /gpcr/users/daranda/doctorat/GPCR_simulations/simulation_output/production/6A93/rep_2/\n"
     ]
    },
    {
     "name": "stdout",
     "output_type": "stream",
     "text": [
      "submitting replicate 3 of 6A93\n"
     ]
    },
    {
     "name": "stderr",
     "output_type": "stream",
     "text": [
      "2021-06-26 04:01:25,991 - htmd.protocols.production_v6 - WARNING - Lipids detected in input structure. We highly recommend setting useconstantratio=True for membrane simulations.\n",
      "2021-06-26 04:01:26,679 - jobqueues.slurmqueue - INFO - Queueing /gpcr/users/daranda/doctorat/GPCR_simulations/simulation_output/production/6A93/rep_3/\n"
     ]
    },
    {
     "name": "stdout",
     "output_type": "stream",
     "text": [
      "submitting replicate 1 of 5NM2\n"
     ]
    },
    {
     "name": "stderr",
     "output_type": "stream",
     "text": [
      "2021-06-26 04:02:03,113 - htmd.builder.builder - WARNING - Found cis peptide bond in 1 frames: [0] in the omega diheral \"Angle of (LEU 216 CA P P) (LEU 216 C P P) (PRO 217 N P P) (PRO 217 CA P P) \" with indexes [3337, 3352, 3354, 3358]\n",
      "2021-06-26 04:02:04,438 - htmd.protocols.production_v6 - WARNING - Lipids detected in input structure. We highly recommend setting useconstantratio=True for membrane simulations.\n",
      "2021-06-26 04:02:06,871 - jobqueues.slurmqueue - INFO - Queueing /gpcr/users/daranda/doctorat/GPCR_simulations/simulation_output/production/5NM2_apo/rep_1/\n"
     ]
    },
    {
     "name": "stdout",
     "output_type": "stream",
     "text": [
      "submitting replicate 2 of 5NM2\n"
     ]
    },
    {
     "name": "stderr",
     "output_type": "stream",
     "text": [
      "2021-06-26 04:02:49,504 - htmd.builder.builder - WARNING - Found cis peptide bond in 1 frames: [0] in the omega diheral \"Angle of (LEU 216 CA P P) (LEU 216 C P P) (PRO 217 N P P) (PRO 217 CA P P) \" with indexes [3337, 3352, 3354, 3358]\n",
      "2021-06-26 04:02:50,839 - htmd.protocols.production_v6 - WARNING - Lipids detected in input structure. We highly recommend setting useconstantratio=True for membrane simulations.\n",
      "2021-06-26 04:02:51,583 - jobqueues.slurmqueue - INFO - Queueing /gpcr/users/daranda/doctorat/GPCR_simulations/simulation_output/production/5NM2_apo/rep_2/\n"
     ]
    },
    {
     "name": "stdout",
     "output_type": "stream",
     "text": [
      "submitting replicate 3 of 5NM2\n"
     ]
    },
    {
     "name": "stderr",
     "output_type": "stream",
     "text": [
      "2021-06-26 04:03:28,060 - htmd.builder.builder - WARNING - Found cis peptide bond in 1 frames: [0] in the omega diheral \"Angle of (LEU 216 CA P P) (LEU 216 C P P) (PRO 217 N P P) (PRO 217 CA P P) \" with indexes [3337, 3352, 3354, 3358]\n",
      "2021-06-26 04:03:29,384 - htmd.protocols.production_v6 - WARNING - Lipids detected in input structure. We highly recommend setting useconstantratio=True for membrane simulations.\n",
      "2021-06-26 04:03:29,901 - jobqueues.slurmqueue - INFO - Queueing /gpcr/users/daranda/doctorat/GPCR_simulations/simulation_output/production/5NM2_apo/rep_3/\n"
     ]
    },
    {
     "name": "stdout",
     "output_type": "stream",
     "text": [
      "submitting replicate 1 of 5NM2\n"
     ]
    },
    {
     "name": "stderr",
     "output_type": "stream",
     "text": [
      "2021-06-26 04:04:06,460 - htmd.builder.builder - WARNING - Found cis peptide bond in 1 frames: [0] in the omega diheral \"Angle of (LEU 216 CA P P) (LEU 216 C P P) (PRO 217 N P P) (PRO 217 CA P P) \" with indexes [3600, 3615, 3617, 3621]\n",
      "2021-06-26 04:04:07,795 - htmd.protocols.production_v6 - WARNING - Lipids detected in input structure. We highly recommend setting useconstantratio=True for membrane simulations.\n",
      "2021-06-26 04:04:09,143 - jobqueues.slurmqueue - INFO - Queueing /gpcr/users/daranda/doctorat/GPCR_simulations/simulation_output/production/5NM2/rep_1/\n"
     ]
    },
    {
     "name": "stdout",
     "output_type": "stream",
     "text": [
      "submitting replicate 2 of 5NM2\n"
     ]
    },
    {
     "name": "stderr",
     "output_type": "stream",
     "text": [
      "2021-06-26 04:04:49,695 - htmd.builder.builder - WARNING - Found cis peptide bond in 1 frames: [0] in the omega diheral \"Angle of (LEU 216 CA P P) (LEU 216 C P P) (PRO 217 N P P) (PRO 217 CA P P) \" with indexes [3600, 3615, 3617, 3621]\n",
      "2021-06-26 04:04:51,021 - htmd.protocols.production_v6 - WARNING - Lipids detected in input structure. We highly recommend setting useconstantratio=True for membrane simulations.\n",
      "2021-06-26 04:04:52,144 - jobqueues.slurmqueue - INFO - Queueing /gpcr/users/daranda/doctorat/GPCR_simulations/simulation_output/production/5NM2/rep_2/\n"
     ]
    },
    {
     "name": "stdout",
     "output_type": "stream",
     "text": [
      "submitting replicate 3 of 5NM2\n"
     ]
    },
    {
     "name": "stderr",
     "output_type": "stream",
     "text": [
      "2021-06-26 04:05:28,644 - htmd.builder.builder - WARNING - Found cis peptide bond in 1 frames: [0] in the omega diheral \"Angle of (LEU 216 CA P P) (LEU 216 C P P) (PRO 217 N P P) (PRO 217 CA P P) \" with indexes [3600, 3615, 3617, 3621]\n",
      "2021-06-26 04:05:29,975 - htmd.protocols.production_v6 - WARNING - Lipids detected in input structure. We highly recommend setting useconstantratio=True for membrane simulations.\n",
      "2021-06-26 04:05:30,692 - jobqueues.slurmqueue - INFO - Queueing /gpcr/users/daranda/doctorat/GPCR_simulations/simulation_output/production/5NM2/rep_3/\n"
     ]
    },
    {
     "name": "stdout",
     "output_type": "stream",
     "text": [
      "submitting replicate 1 of 5WF6\n"
     ]
    },
    {
     "name": "stderr",
     "output_type": "stream",
     "text": [
      "2021-06-26 04:05:42,637 - moleculekit.readers - WARNING - Non-integer values were read from the PDB \"serial\" field. Dropping PDB values and assigning new ones.\n",
      "2021-06-26 04:05:42,793 - moleculekit.readers - WARNING - Reading PDB file with more than 99999 atoms. Bond information can be wrong.\n",
      "2021-06-26 04:06:20,969 - htmd.builder.builder - WARNING - Found cis peptide bond in 1 frames: [0] in the omega diheral \"Angle of (CYS 146 CA P P) (CYS 146 C P P) (GLY 147 N P P) (GLY 147 CA P P) \" with indexes [2235, 2241, 2243, 2245]\n",
      "2021-06-26 04:06:20,971 - htmd.builder.builder - WARNING - Found cis peptide bond in 1 frames: [0] in the omega diheral \"Angle of (SER 213 CA P P) (SER 213 C P P) (GLN 214 N P P) (GLN 214 CA P P) \" with indexes [3299, 3306, 3308, 3310]\n",
      "2021-06-26 04:06:20,973 - htmd.builder.builder - WARNING - Found cis peptide bond in 1 frames: [0] in the omega diheral \"Angle of (PRO 217 CA P P) (PRO 217 C P P) (GLY 218 N P P) (GLY 218 CA P P) \" with indexes [3362, 3370, 3372, 3374]\n",
      "2021-06-26 04:06:22,835 - htmd.protocols.production_v6 - WARNING - Lipids detected in input structure. We highly recommend setting useconstantratio=True for membrane simulations.\n",
      "2021-06-26 04:06:24,160 - jobqueues.slurmqueue - INFO - Queueing /gpcr/users/daranda/doctorat/GPCR_simulations/simulation_output/production/5WF6_apo/rep_1/\n"
     ]
    },
    {
     "name": "stdout",
     "output_type": "stream",
     "text": [
      "submitting replicate 2 of 5WF6\n"
     ]
    },
    {
     "name": "stderr",
     "output_type": "stream",
     "text": [
      "2021-06-26 04:06:36,152 - moleculekit.readers - WARNING - Non-integer values were read from the PDB \"serial\" field. Dropping PDB values and assigning new ones.\n",
      "2021-06-26 04:06:36,310 - moleculekit.readers - WARNING - Reading PDB file with more than 99999 atoms. Bond information can be wrong.\n",
      "2021-06-26 04:07:17,331 - htmd.builder.builder - WARNING - Found cis peptide bond in 1 frames: [0] in the omega diheral \"Angle of (CYS 146 CA P P) (CYS 146 C P P) (GLY 147 N P P) (GLY 147 CA P P) \" with indexes [2235, 2241, 2243, 2245]\n",
      "2021-06-26 04:07:17,334 - htmd.builder.builder - WARNING - Found cis peptide bond in 1 frames: [0] in the omega diheral \"Angle of (SER 213 CA P P) (SER 213 C P P) (GLN 214 N P P) (GLN 214 CA P P) \" with indexes [3299, 3306, 3308, 3310]\n",
      "2021-06-26 04:07:17,335 - htmd.builder.builder - WARNING - Found cis peptide bond in 1 frames: [0] in the omega diheral \"Angle of (PRO 217 CA P P) (PRO 217 C P P) (GLY 218 N P P) (GLY 218 CA P P) \" with indexes [3362, 3370, 3372, 3374]\n",
      "2021-06-26 04:07:19,196 - htmd.protocols.production_v6 - WARNING - Lipids detected in input structure. We highly recommend setting useconstantratio=True for membrane simulations.\n",
      "2021-06-26 04:07:19,678 - jobqueues.slurmqueue - INFO - Queueing /gpcr/users/daranda/doctorat/GPCR_simulations/simulation_output/production/5WF6_apo/rep_2/\n"
     ]
    },
    {
     "name": "stdout",
     "output_type": "stream",
     "text": [
      "submitting replicate 3 of 5WF6\n"
     ]
    },
    {
     "name": "stderr",
     "output_type": "stream",
     "text": [
      "2021-06-26 04:07:31,791 - moleculekit.readers - WARNING - Non-integer values were read from the PDB \"serial\" field. Dropping PDB values and assigning new ones.\n",
      "2021-06-26 04:07:31,952 - moleculekit.readers - WARNING - Reading PDB file with more than 99999 atoms. Bond information can be wrong.\n",
      "2021-06-26 04:08:14,797 - htmd.builder.builder - WARNING - Found cis peptide bond in 1 frames: [0] in the omega diheral \"Angle of (CYS 146 CA P P) (CYS 146 C P P) (GLY 147 N P P) (GLY 147 CA P P) \" with indexes [2235, 2241, 2243, 2245]\n",
      "2021-06-26 04:08:14,799 - htmd.builder.builder - WARNING - Found cis peptide bond in 1 frames: [0] in the omega diheral \"Angle of (SER 213 CA P P) (SER 213 C P P) (GLN 214 N P P) (GLN 214 CA P P) \" with indexes [3299, 3306, 3308, 3310]\n",
      "2021-06-26 04:08:14,800 - htmd.builder.builder - WARNING - Found cis peptide bond in 1 frames: [0] in the omega diheral \"Angle of (PRO 217 CA P P) (PRO 217 C P P) (GLY 218 N P P) (GLY 218 CA P P) \" with indexes [3362, 3370, 3372, 3374]\n",
      "2021-06-26 04:08:16,519 - htmd.protocols.production_v6 - WARNING - Lipids detected in input structure. We highly recommend setting useconstantratio=True for membrane simulations.\n",
      "2021-06-26 04:08:17,234 - jobqueues.slurmqueue - INFO - Queueing /gpcr/users/daranda/doctorat/GPCR_simulations/simulation_output/production/5WF6_apo/rep_3/\n"
     ]
    },
    {
     "name": "stdout",
     "output_type": "stream",
     "text": [
      "submitting replicate 1 of 5WF6\n"
     ]
    },
    {
     "name": "stderr",
     "output_type": "stream",
     "text": [
      "2021-06-26 04:08:31,130 - moleculekit.readers - WARNING - Non-integer values were read from the PDB \"serial\" field. Dropping PDB values and assigning new ones.\n",
      "2021-06-26 04:08:31,293 - moleculekit.readers - WARNING - Reading PDB file with more than 99999 atoms. Bond information can be wrong.\n",
      "2021-06-26 04:09:16,256 - htmd.builder.builder - WARNING - Found cis peptide bond in 1 frames: [0] in the omega diheral \"Angle of (CYS 146 CA P P) (CYS 146 C P P) (GLY 147 N P P) (GLY 147 CA P P) \" with indexes [2339, 2345, 2347, 2349]\n",
      "2021-06-26 04:09:16,258 - htmd.builder.builder - WARNING - Found cis peptide bond in 1 frames: [0] in the omega diheral \"Angle of (SER 213 CA P P) (SER 213 C P P) (GLN 214 N P P) (GLN 214 CA P P) \" with indexes [3403, 3410, 3412, 3414]\n",
      "2021-06-26 04:09:16,259 - htmd.builder.builder - WARNING - Found cis peptide bond in 1 frames: [0] in the omega diheral \"Angle of (PRO 217 CA P P) (PRO 217 C P P) (GLY 218 N P P) (GLY 218 CA P P) \" with indexes [3466, 3474, 3476, 3478]\n",
      "2021-06-26 04:09:18,135 - htmd.protocols.production_v6 - WARNING - Lipids detected in input structure. We highly recommend setting useconstantratio=True for membrane simulations.\n",
      "2021-06-26 04:09:20,239 - jobqueues.slurmqueue - INFO - Queueing /gpcr/users/daranda/doctorat/GPCR_simulations/simulation_output/production/5WF6/rep_1/\n"
     ]
    },
    {
     "name": "stdout",
     "output_type": "stream",
     "text": [
      "submitting replicate 2 of 5WF6\n"
     ]
    },
    {
     "name": "stderr",
     "output_type": "stream",
     "text": [
      "2021-06-26 04:09:35,635 - moleculekit.readers - WARNING - Non-integer values were read from the PDB \"serial\" field. Dropping PDB values and assigning new ones.\n",
      "2021-06-26 04:09:35,792 - moleculekit.readers - WARNING - Reading PDB file with more than 99999 atoms. Bond information can be wrong.\n",
      "2021-06-26 04:10:17,911 - htmd.builder.builder - WARNING - Found cis peptide bond in 1 frames: [0] in the omega diheral \"Angle of (CYS 146 CA P P) (CYS 146 C P P) (GLY 147 N P P) (GLY 147 CA P P) \" with indexes [2339, 2345, 2347, 2349]\n",
      "2021-06-26 04:10:17,913 - htmd.builder.builder - WARNING - Found cis peptide bond in 1 frames: [0] in the omega diheral \"Angle of (SER 213 CA P P) (SER 213 C P P) (GLN 214 N P P) (GLN 214 CA P P) \" with indexes [3403, 3410, 3412, 3414]\n",
      "2021-06-26 04:10:17,915 - htmd.builder.builder - WARNING - Found cis peptide bond in 1 frames: [0] in the omega diheral \"Angle of (PRO 217 CA P P) (PRO 217 C P P) (GLY 218 N P P) (GLY 218 CA P P) \" with indexes [3466, 3474, 3476, 3478]\n",
      "2021-06-26 04:10:19,787 - htmd.protocols.production_v6 - WARNING - Lipids detected in input structure. We highly recommend setting useconstantratio=True for membrane simulations.\n",
      "2021-06-26 04:10:20,350 - jobqueues.slurmqueue - INFO - Queueing /gpcr/users/daranda/doctorat/GPCR_simulations/simulation_output/production/5WF6/rep_2/\n"
     ]
    },
    {
     "name": "stdout",
     "output_type": "stream",
     "text": [
      "submitting replicate 3 of 5WF6\n"
     ]
    },
    {
     "name": "stderr",
     "output_type": "stream",
     "text": [
      "2021-06-26 04:10:35,331 - moleculekit.readers - WARNING - Non-integer values were read from the PDB \"serial\" field. Dropping PDB values and assigning new ones.\n",
      "2021-06-26 04:10:35,490 - moleculekit.readers - WARNING - Reading PDB file with more than 99999 atoms. Bond information can be wrong.\n",
      "2021-06-26 04:11:19,715 - htmd.builder.builder - WARNING - Found cis peptide bond in 1 frames: [0] in the omega diheral \"Angle of (CYS 146 CA P P) (CYS 146 C P P) (GLY 147 N P P) (GLY 147 CA P P) \" with indexes [2339, 2345, 2347, 2349]\n",
      "2021-06-26 04:11:19,717 - htmd.builder.builder - WARNING - Found cis peptide bond in 1 frames: [0] in the omega diheral \"Angle of (SER 213 CA P P) (SER 213 C P P) (GLN 214 N P P) (GLN 214 CA P P) \" with indexes [3403, 3410, 3412, 3414]\n",
      "2021-06-26 04:11:19,718 - htmd.builder.builder - WARNING - Found cis peptide bond in 1 frames: [0] in the omega diheral \"Angle of (PRO 217 CA P P) (PRO 217 C P P) (GLY 218 N P P) (GLY 218 CA P P) \" with indexes [3466, 3474, 3476, 3478]\n",
      "2021-06-26 04:11:21,597 - htmd.protocols.production_v6 - WARNING - Lipids detected in input structure. We highly recommend setting useconstantratio=True for membrane simulations.\n",
      "2021-06-26 04:11:22,227 - jobqueues.slurmqueue - INFO - Queueing /gpcr/users/daranda/doctorat/GPCR_simulations/simulation_output/production/5WF6/rep_3/\n"
     ]
    },
    {
     "name": "stdout",
     "output_type": "stream",
     "text": [
      "submitting replicate 1 of 5TVN\n"
     ]
    },
    {
     "name": "stderr",
     "output_type": "stream",
     "text": [
      "2021-06-26 04:12:04,905 - htmd.protocols.production_v6 - WARNING - Lipids detected in input structure. We highly recommend setting useconstantratio=True for membrane simulations.\n",
      "2021-06-26 04:12:05,797 - jobqueues.slurmqueue - INFO - Queueing /gpcr/users/daranda/doctorat/GPCR_simulations/simulation_output/production/5TVN_apo/rep_1/\n"
     ]
    },
    {
     "name": "stdout",
     "output_type": "stream",
     "text": [
      "submitting replicate 2 of 5TVN\n"
     ]
    },
    {
     "name": "stderr",
     "output_type": "stream",
     "text": [
      "2021-06-26 04:12:47,762 - htmd.protocols.production_v6 - WARNING - Lipids detected in input structure. We highly recommend setting useconstantratio=True for membrane simulations.\n",
      "2021-06-26 04:12:48,229 - jobqueues.slurmqueue - INFO - Queueing /gpcr/users/daranda/doctorat/GPCR_simulations/simulation_output/production/5TVN_apo/rep_2/\n"
     ]
    },
    {
     "name": "stdout",
     "output_type": "stream",
     "text": [
      "submitting replicate 3 of 5TVN\n"
     ]
    },
    {
     "name": "stderr",
     "output_type": "stream",
     "text": [
      "2021-06-26 04:13:28,627 - htmd.protocols.production_v6 - WARNING - Lipids detected in input structure. We highly recommend setting useconstantratio=True for membrane simulations.\n",
      "2021-06-26 04:13:29,026 - jobqueues.slurmqueue - INFO - Queueing /gpcr/users/daranda/doctorat/GPCR_simulations/simulation_output/production/5TVN_apo/rep_3/\n"
     ]
    },
    {
     "name": "stdout",
     "output_type": "stream",
     "text": [
      "submitting replicate 1 of 5TVN\n"
     ]
    },
    {
     "name": "stderr",
     "output_type": "stream",
     "text": [
      "2021-06-26 04:14:11,980 - htmd.protocols.production_v6 - WARNING - Lipids detected in input structure. We highly recommend setting useconstantratio=True for membrane simulations.\n",
      "2021-06-26 04:14:12,887 - jobqueues.slurmqueue - INFO - Queueing /gpcr/users/daranda/doctorat/GPCR_simulations/simulation_output/production/5TVN/rep_1/\n"
     ]
    },
    {
     "name": "stdout",
     "output_type": "stream",
     "text": [
      "submitting replicate 2 of 5TVN\n"
     ]
    },
    {
     "name": "stderr",
     "output_type": "stream",
     "text": [
      "2021-06-26 04:14:53,016 - htmd.protocols.production_v6 - WARNING - Lipids detected in input structure. We highly recommend setting useconstantratio=True for membrane simulations.\n",
      "2021-06-26 04:14:53,602 - jobqueues.slurmqueue - INFO - Queueing /gpcr/users/daranda/doctorat/GPCR_simulations/simulation_output/production/5TVN/rep_2/\n"
     ]
    },
    {
     "name": "stdout",
     "output_type": "stream",
     "text": [
      "submitting replicate 3 of 5TVN\n"
     ]
    },
    {
     "name": "stderr",
     "output_type": "stream",
     "text": [
      "2021-06-26 04:15:33,580 - htmd.protocols.production_v6 - WARNING - Lipids detected in input structure. We highly recommend setting useconstantratio=True for membrane simulations.\n",
      "2021-06-26 04:15:34,029 - jobqueues.slurmqueue - INFO - Queueing /gpcr/users/daranda/doctorat/GPCR_simulations/simulation_output/production/5TVN/rep_3/\n"
     ]
    },
    {
     "name": "stdout",
     "output_type": "stream",
     "text": [
      "submitting replicate 1 of 6KPC\n"
     ]
    },
    {
     "name": "stderr",
     "output_type": "stream",
     "text": [
      "2021-06-26 04:16:14,969 - htmd.protocols.production_v6 - WARNING - Lipids detected in input structure. We highly recommend setting useconstantratio=True for membrane simulations.\n",
      "2021-06-26 04:16:15,715 - jobqueues.slurmqueue - INFO - Queueing /gpcr/users/daranda/doctorat/GPCR_simulations/simulation_output/production/6KPC_apo/rep_1/\n"
     ]
    },
    {
     "name": "stdout",
     "output_type": "stream",
     "text": [
      "submitting replicate 2 of 6KPC\n"
     ]
    },
    {
     "name": "stderr",
     "output_type": "stream",
     "text": [
      "2021-06-26 04:16:48,754 - htmd.protocols.production_v6 - WARNING - Lipids detected in input structure. We highly recommend setting useconstantratio=True for membrane simulations.\n",
      "2021-06-26 04:16:49,108 - jobqueues.slurmqueue - INFO - Queueing /gpcr/users/daranda/doctorat/GPCR_simulations/simulation_output/production/6KPC_apo/rep_2/\n"
     ]
    },
    {
     "name": "stdout",
     "output_type": "stream",
     "text": [
      "submitting replicate 3 of 6KPC\n"
     ]
    },
    {
     "name": "stderr",
     "output_type": "stream",
     "text": [
      "2021-06-26 04:17:23,665 - htmd.protocols.production_v6 - WARNING - Lipids detected in input structure. We highly recommend setting useconstantratio=True for membrane simulations.\n",
      "2021-06-26 04:17:24,041 - jobqueues.slurmqueue - INFO - Queueing /gpcr/users/daranda/doctorat/GPCR_simulations/simulation_output/production/6KPC_apo/rep_3/\n"
     ]
    },
    {
     "name": "stdout",
     "output_type": "stream",
     "text": [
      "submitting replicate 1 of 6KPC\n"
     ]
    },
    {
     "name": "stderr",
     "output_type": "stream",
     "text": [
      "2021-06-26 04:18:01,673 - htmd.protocols.production_v6 - WARNING - Lipids detected in input structure. We highly recommend setting useconstantratio=True for membrane simulations.\n",
      "2021-06-26 04:18:02,639 - jobqueues.slurmqueue - INFO - Queueing /gpcr/users/daranda/doctorat/GPCR_simulations/simulation_output/production/6KPC/rep_1/\n"
     ]
    },
    {
     "name": "stdout",
     "output_type": "stream",
     "text": [
      "submitting replicate 2 of 6KPC\n"
     ]
    },
    {
     "name": "stderr",
     "output_type": "stream",
     "text": [
      "2021-06-26 04:18:34,464 - htmd.protocols.production_v6 - WARNING - Lipids detected in input structure. We highly recommend setting useconstantratio=True for membrane simulations.\n",
      "2021-06-26 04:18:34,871 - jobqueues.slurmqueue - INFO - Queueing /gpcr/users/daranda/doctorat/GPCR_simulations/simulation_output/production/6KPC/rep_2/\n"
     ]
    },
    {
     "name": "stdout",
     "output_type": "stream",
     "text": [
      "submitting replicate 3 of 6KPC\n"
     ]
    },
    {
     "name": "stderr",
     "output_type": "stream",
     "text": [
      "2021-06-26 04:19:09,620 - htmd.protocols.production_v6 - WARNING - Lipids detected in input structure. We highly recommend setting useconstantratio=True for membrane simulations.\n",
      "2021-06-26 04:19:10,125 - jobqueues.slurmqueue - INFO - Queueing /gpcr/users/daranda/doctorat/GPCR_simulations/simulation_output/production/6KPC/rep_3/\n"
     ]
    },
    {
     "name": "stdout",
     "output_type": "stream",
     "text": [
      "submitting replicate 1 of 4XES\n"
     ]
    },
    {
     "name": "stderr",
     "output_type": "stream",
     "text": [
      "2021-06-26 04:19:48,803 - htmd.builder.builder - WARNING - Found cis peptide bond in 1 frames: [0] in the omega diheral \"Angle of (HSP 133 CA P0 P) (HSP 133 C P0 P) (PRO 134 N P0 P) (PRO 134 CA P0 P) \" with indexes [1321, 1335, 1337, 1341]\n",
      "2021-06-26 04:19:50,213 - htmd.protocols.production_v6 - WARNING - Lipids detected in input structure. We highly recommend setting useconstantratio=True for membrane simulations.\n",
      "2021-06-26 04:19:51,320 - jobqueues.slurmqueue - INFO - Queueing /gpcr/users/daranda/doctorat/GPCR_simulations/simulation_output/production/4XES_apo/rep_1/\n"
     ]
    },
    {
     "name": "stdout",
     "output_type": "stream",
     "text": [
      "submitting replicate 2 of 4XES\n"
     ]
    },
    {
     "name": "stderr",
     "output_type": "stream",
     "text": [
      "2021-06-26 04:20:31,126 - htmd.builder.builder - WARNING - Found cis peptide bond in 1 frames: [0] in the omega diheral \"Angle of (HSP 133 CA P0 P) (HSP 133 C P0 P) (PRO 134 N P0 P) (PRO 134 CA P0 P) \" with indexes [1321, 1335, 1337, 1341]\n",
      "2021-06-26 04:20:32,524 - htmd.protocols.production_v6 - WARNING - Lipids detected in input structure. We highly recommend setting useconstantratio=True for membrane simulations.\n",
      "2021-06-26 04:20:32,881 - jobqueues.slurmqueue - INFO - Queueing /gpcr/users/daranda/doctorat/GPCR_simulations/simulation_output/production/4XES_apo/rep_2/\n"
     ]
    },
    {
     "name": "stdout",
     "output_type": "stream",
     "text": [
      "submitting replicate 3 of 4XES\n"
     ]
    },
    {
     "name": "stderr",
     "output_type": "stream",
     "text": [
      "2021-06-26 04:21:13,475 - htmd.builder.builder - WARNING - Found cis peptide bond in 1 frames: [0] in the omega diheral \"Angle of (HSP 133 CA P0 P) (HSP 133 C P0 P) (PRO 134 N P0 P) (PRO 134 CA P0 P) \" with indexes [1321, 1335, 1337, 1341]\n",
      "2021-06-26 04:21:14,876 - htmd.protocols.production_v6 - WARNING - Lipids detected in input structure. We highly recommend setting useconstantratio=True for membrane simulations.\n",
      "2021-06-26 04:21:15,393 - jobqueues.slurmqueue - INFO - Queueing /gpcr/users/daranda/doctorat/GPCR_simulations/simulation_output/production/4XES_apo/rep_3/\n"
     ]
    },
    {
     "name": "stdout",
     "output_type": "stream",
     "text": [
      "submitting replicate 1 of 4XES\n"
     ]
    },
    {
     "name": "stderr",
     "output_type": "stream",
     "text": [
      "2021-06-26 04:21:55,930 - htmd.builder.builder - WARNING - Found cis peptide bond in 1 frames: [0] in the omega diheral \"Angle of (HSP 133 CA P0 P) (HSP 133 C P0 P) (PRO 134 N P0 P) (PRO 134 CA P0 P) \" with indexes [1326, 1340, 1342, 1346]\n",
      "2021-06-26 04:21:57,333 - htmd.protocols.production_v6 - WARNING - Lipids detected in input structure. We highly recommend setting useconstantratio=True for membrane simulations.\n",
      "2021-06-26 04:21:59,651 - jobqueues.slurmqueue - INFO - Queueing /gpcr/users/daranda/doctorat/GPCR_simulations/simulation_output/production/4XES/rep_1/\n"
     ]
    },
    {
     "name": "stdout",
     "output_type": "stream",
     "text": [
      "submitting replicate 2 of 4XES\n"
     ]
    },
    {
     "name": "stderr",
     "output_type": "stream",
     "text": [
      "2021-06-26 04:22:40,529 - htmd.builder.builder - WARNING - Found cis peptide bond in 1 frames: [0] in the omega diheral \"Angle of (HSP 133 CA P0 P) (HSP 133 C P0 P) (PRO 134 N P0 P) (PRO 134 CA P0 P) \" with indexes [1326, 1340, 1342, 1346]\n",
      "2021-06-26 04:22:41,939 - htmd.protocols.production_v6 - WARNING - Lipids detected in input structure. We highly recommend setting useconstantratio=True for membrane simulations.\n",
      "2021-06-26 04:22:42,677 - jobqueues.slurmqueue - INFO - Queueing /gpcr/users/daranda/doctorat/GPCR_simulations/simulation_output/production/4XES/rep_2/\n"
     ]
    },
    {
     "name": "stdout",
     "output_type": "stream",
     "text": [
      "submitting replicate 3 of 4XES\n"
     ]
    },
    {
     "name": "stderr",
     "output_type": "stream",
     "text": [
      "2021-06-26 04:23:22,947 - htmd.builder.builder - WARNING - Found cis peptide bond in 1 frames: [0] in the omega diheral \"Angle of (HSP 133 CA P0 P) (HSP 133 C P0 P) (PRO 134 N P0 P) (PRO 134 CA P0 P) \" with indexes [1326, 1340, 1342, 1346]\n",
      "2021-06-26 04:23:24,353 - htmd.protocols.production_v6 - WARNING - Lipids detected in input structure. We highly recommend setting useconstantratio=True for membrane simulations.\n",
      "2021-06-26 04:23:24,785 - jobqueues.slurmqueue - INFO - Queueing /gpcr/users/daranda/doctorat/GPCR_simulations/simulation_output/production/4XES/rep_3/\n"
     ]
    },
    {
     "name": "stdout",
     "output_type": "stream",
     "text": [
      "submitting replicate 1 of 5MZJ\n"
     ]
    },
    {
     "name": "stderr",
     "output_type": "stream",
     "text": [
      "2021-06-26 04:24:03,931 - htmd.builder.builder - WARNING - Found cis peptide bond in 1 frames: [0] in the omega diheral \"Angle of (LEU 216 CA P P) (LEU 216 C P P) (PRO 217 N P P) (PRO 217 CA P P) \" with indexes [3337, 3352, 3354, 3358]\n",
      "2021-06-26 04:24:05,408 - htmd.protocols.production_v6 - WARNING - Lipids detected in input structure. We highly recommend setting useconstantratio=True for membrane simulations.\n",
      "2021-06-26 04:24:06,841 - jobqueues.slurmqueue - INFO - Queueing /gpcr/users/daranda/doctorat/GPCR_simulations/simulation_output/production/5MZJ_apo/rep_1/\n"
     ]
    },
    {
     "name": "stdout",
     "output_type": "stream",
     "text": [
      "submitting replicate 2 of 5MZJ\n"
     ]
    },
    {
     "name": "stderr",
     "output_type": "stream",
     "text": [
      "2021-06-26 04:24:44,324 - htmd.builder.builder - WARNING - Found cis peptide bond in 1 frames: [0] in the omega diheral \"Angle of (LEU 216 CA P P) (LEU 216 C P P) (PRO 217 N P P) (PRO 217 CA P P) \" with indexes [3337, 3352, 3354, 3358]\n",
      "2021-06-26 04:24:45,792 - htmd.protocols.production_v6 - WARNING - Lipids detected in input structure. We highly recommend setting useconstantratio=True for membrane simulations.\n",
      "2021-06-26 04:24:47,116 - jobqueues.slurmqueue - INFO - Queueing /gpcr/users/daranda/doctorat/GPCR_simulations/simulation_output/production/5MZJ_apo/rep_2/\n"
     ]
    },
    {
     "name": "stdout",
     "output_type": "stream",
     "text": [
      "submitting replicate 3 of 5MZJ\n"
     ]
    },
    {
     "name": "stderr",
     "output_type": "stream",
     "text": [
      "2021-06-26 04:25:27,622 - htmd.builder.builder - WARNING - Found cis peptide bond in 1 frames: [0] in the omega diheral \"Angle of (LEU 216 CA P P) (LEU 216 C P P) (PRO 217 N P P) (PRO 217 CA P P) \" with indexes [3337, 3352, 3354, 3358]\n",
      "2021-06-26 04:25:29,048 - htmd.protocols.production_v6 - WARNING - Lipids detected in input structure. We highly recommend setting useconstantratio=True for membrane simulations.\n",
      "2021-06-26 04:25:30,384 - jobqueues.slurmqueue - INFO - Queueing /gpcr/users/daranda/doctorat/GPCR_simulations/simulation_output/production/5MZJ_apo/rep_3/\n"
     ]
    },
    {
     "name": "stdout",
     "output_type": "stream",
     "text": [
      "submitting replicate 1 of 5MZJ\n"
     ]
    },
    {
     "name": "stderr",
     "output_type": "stream",
     "text": [
      "2021-06-26 04:26:11,686 - htmd.builder.builder - WARNING - Found cis peptide bond in 1 frames: [0] in the omega diheral \"Angle of (LEU 216 CA P P) (LEU 216 C P P) (PRO 217 N P P) (PRO 217 CA P P) \" with indexes [3581, 3596, 3598, 3602]\n",
      "2021-06-26 04:26:13,160 - htmd.protocols.production_v6 - WARNING - Lipids detected in input structure. We highly recommend setting useconstantratio=True for membrane simulations.\n",
      "2021-06-26 04:26:14,921 - jobqueues.slurmqueue - INFO - Queueing /gpcr/users/daranda/doctorat/GPCR_simulations/simulation_output/production/5MZJ/rep_1/\n"
     ]
    },
    {
     "name": "stdout",
     "output_type": "stream",
     "text": [
      "submitting replicate 2 of 5MZJ\n"
     ]
    },
    {
     "name": "stderr",
     "output_type": "stream",
     "text": [
      "2021-06-26 04:26:56,766 - htmd.builder.builder - WARNING - Found cis peptide bond in 1 frames: [0] in the omega diheral \"Angle of (LEU 216 CA P P) (LEU 216 C P P) (PRO 217 N P P) (PRO 217 CA P P) \" with indexes [3581, 3596, 3598, 3602]\n",
      "2021-06-26 04:26:58,252 - htmd.protocols.production_v6 - WARNING - Lipids detected in input structure. We highly recommend setting useconstantratio=True for membrane simulations.\n",
      "2021-06-26 04:26:58,897 - jobqueues.slurmqueue - INFO - Queueing /gpcr/users/daranda/doctorat/GPCR_simulations/simulation_output/production/5MZJ/rep_2/\n"
     ]
    },
    {
     "name": "stdout",
     "output_type": "stream",
     "text": [
      "submitting replicate 3 of 5MZJ\n"
     ]
    },
    {
     "name": "stderr",
     "output_type": "stream",
     "text": [
      "2021-06-26 04:27:39,595 - htmd.builder.builder - WARNING - Found cis peptide bond in 1 frames: [0] in the omega diheral \"Angle of (LEU 216 CA P P) (LEU 216 C P P) (PRO 217 N P P) (PRO 217 CA P P) \" with indexes [3581, 3596, 3598, 3602]\n",
      "2021-06-26 04:27:41,067 - htmd.protocols.production_v6 - WARNING - Lipids detected in input structure. We highly recommend setting useconstantratio=True for membrane simulations.\n",
      "2021-06-26 04:27:41,634 - jobqueues.slurmqueue - INFO - Queueing /gpcr/users/daranda/doctorat/GPCR_simulations/simulation_output/production/5MZJ/rep_3/\n"
     ]
    },
    {
     "name": "stdout",
     "output_type": "stream",
     "text": [
      "replicate 1 of structure 6GT3 already has been simulated\n",
      "replicate 2 of structure 6GT3 already has been simulated\n",
      "replicate 3 of structure 6GT3 already has been simulated\n",
      "replicate 1 of structure 6GT3 already has been simulated\n",
      "replicate 2 of structure 6GT3 already has been simulated\n",
      "replicate 3 of structure 6GT3 already has been simulated\n",
      "submitting replicate 1 of 6RZ4\n"
     ]
    },
    {
     "name": "stderr",
     "output_type": "stream",
     "text": [
      "2021-06-26 04:28:17,144 - htmd.protocols.production_v6 - WARNING - Lipids detected in input structure. We highly recommend setting useconstantratio=True for membrane simulations.\n",
      "2021-06-26 04:28:18,284 - jobqueues.slurmqueue - INFO - Queueing /gpcr/users/daranda/doctorat/GPCR_simulations/simulation_output/production/6RZ4_apo/rep_1/\n"
     ]
    },
    {
     "name": "stdout",
     "output_type": "stream",
     "text": [
      "submitting replicate 2 of 6RZ4\n"
     ]
    },
    {
     "name": "stderr",
     "output_type": "stream",
     "text": [
      "2021-06-26 04:28:51,009 - htmd.protocols.production_v6 - WARNING - Lipids detected in input structure. We highly recommend setting useconstantratio=True for membrane simulations.\n",
      "2021-06-26 04:28:51,769 - jobqueues.slurmqueue - INFO - Queueing /gpcr/users/daranda/doctorat/GPCR_simulations/simulation_output/production/6RZ4_apo/rep_2/\n"
     ]
    },
    {
     "name": "stdout",
     "output_type": "stream",
     "text": [
      "submitting replicate 3 of 6RZ4\n"
     ]
    },
    {
     "name": "stderr",
     "output_type": "stream",
     "text": [
      "2021-06-26 04:29:24,688 - htmd.protocols.production_v6 - WARNING - Lipids detected in input structure. We highly recommend setting useconstantratio=True for membrane simulations.\n",
      "2021-06-26 04:29:26,411 - jobqueues.slurmqueue - INFO - Queueing /gpcr/users/daranda/doctorat/GPCR_simulations/simulation_output/production/6RZ4_apo/rep_3/\n"
     ]
    },
    {
     "name": "stdout",
     "output_type": "stream",
     "text": [
      "submitting replicate 1 of 6RZ4\n"
     ]
    },
    {
     "name": "stderr",
     "output_type": "stream",
     "text": [
      "2021-06-26 04:30:01,722 - htmd.protocols.production_v6 - WARNING - Lipids detected in input structure. We highly recommend setting useconstantratio=True for membrane simulations.\n",
      "2021-06-26 04:30:03,039 - jobqueues.slurmqueue - INFO - Queueing /gpcr/users/daranda/doctorat/GPCR_simulations/simulation_output/production/6RZ4/rep_1/\n"
     ]
    },
    {
     "name": "stdout",
     "output_type": "stream",
     "text": [
      "submitting replicate 2 of 6RZ4\n"
     ]
    },
    {
     "name": "stderr",
     "output_type": "stream",
     "text": [
      "2021-06-26 04:30:36,756 - htmd.protocols.production_v6 - WARNING - Lipids detected in input structure. We highly recommend setting useconstantratio=True for membrane simulations.\n",
      "2021-06-26 04:30:37,251 - jobqueues.slurmqueue - INFO - Queueing /gpcr/users/daranda/doctorat/GPCR_simulations/simulation_output/production/6RZ4/rep_2/\n"
     ]
    },
    {
     "name": "stdout",
     "output_type": "stream",
     "text": [
      "submitting replicate 3 of 6RZ4\n"
     ]
    },
    {
     "name": "stderr",
     "output_type": "stream",
     "text": [
      "2021-06-26 04:31:09,591 - htmd.protocols.production_v6 - WARNING - Lipids detected in input structure. We highly recommend setting useconstantratio=True for membrane simulations.\n",
      "2021-06-26 04:31:10,186 - jobqueues.slurmqueue - INFO - Queueing /gpcr/users/daranda/doctorat/GPCR_simulations/simulation_output/production/6RZ4/rep_3/\n"
     ]
    },
    {
     "name": "stdout",
     "output_type": "stream",
     "text": [
      "submitting replicate 1 of 6PS1\n"
     ]
    },
    {
     "name": "stderr",
     "output_type": "stream",
     "text": [
      "2021-06-26 04:31:50,560 - htmd.protocols.production_v6 - WARNING - Lipids detected in input structure. We highly recommend setting useconstantratio=True for membrane simulations.\n",
      "2021-06-26 04:31:51,552 - jobqueues.slurmqueue - INFO - Queueing /gpcr/users/daranda/doctorat/GPCR_simulations/simulation_output/production/6PS1_apo/rep_1/\n"
     ]
    },
    {
     "name": "stdout",
     "output_type": "stream",
     "text": [
      "submitting replicate 2 of 6PS1\n"
     ]
    },
    {
     "name": "stderr",
     "output_type": "stream",
     "text": [
      "2021-06-26 04:32:36,394 - htmd.protocols.production_v6 - WARNING - Lipids detected in input structure. We highly recommend setting useconstantratio=True for membrane simulations.\n",
      "2021-06-26 04:32:36,992 - jobqueues.slurmqueue - INFO - Queueing /gpcr/users/daranda/doctorat/GPCR_simulations/simulation_output/production/6PS1_apo/rep_2/\n"
     ]
    },
    {
     "name": "stdout",
     "output_type": "stream",
     "text": [
      "submitting replicate 3 of 6PS1\n"
     ]
    },
    {
     "name": "stderr",
     "output_type": "stream",
     "text": [
      "2021-06-26 04:33:20,195 - htmd.protocols.production_v6 - WARNING - Lipids detected in input structure. We highly recommend setting useconstantratio=True for membrane simulations.\n",
      "2021-06-26 04:33:20,988 - jobqueues.slurmqueue - INFO - Queueing /gpcr/users/daranda/doctorat/GPCR_simulations/simulation_output/production/6PS1_apo/rep_3/\n"
     ]
    },
    {
     "name": "stdout",
     "output_type": "stream",
     "text": [
      "submitting replicate 1 of 6PS1\n"
     ]
    },
    {
     "name": "stderr",
     "output_type": "stream",
     "text": [
      "2021-06-26 04:34:03,586 - htmd.protocols.production_v6 - WARNING - Lipids detected in input structure. We highly recommend setting useconstantratio=True for membrane simulations.\n",
      "2021-06-26 04:34:04,747 - jobqueues.slurmqueue - INFO - Queueing /gpcr/users/daranda/doctorat/GPCR_simulations/simulation_output/production/6PS1/rep_1/\n"
     ]
    },
    {
     "name": "stdout",
     "output_type": "stream",
     "text": [
      "submitting replicate 2 of 6PS1\n"
     ]
    },
    {
     "name": "stderr",
     "output_type": "stream",
     "text": [
      "2021-06-26 04:34:47,779 - htmd.protocols.production_v6 - WARNING - Lipids detected in input structure. We highly recommend setting useconstantratio=True for membrane simulations.\n",
      "2021-06-26 04:34:48,316 - jobqueues.slurmqueue - INFO - Queueing /gpcr/users/daranda/doctorat/GPCR_simulations/simulation_output/production/6PS1/rep_2/\n"
     ]
    },
    {
     "name": "stdout",
     "output_type": "stream",
     "text": [
      "submitting replicate 3 of 6PS1\n"
     ]
    },
    {
     "name": "stderr",
     "output_type": "stream",
     "text": [
      "2021-06-26 04:35:36,505 - htmd.protocols.production_v6 - WARNING - Lipids detected in input structure. We highly recommend setting useconstantratio=True for membrane simulations.\n",
      "2021-06-26 04:35:37,100 - jobqueues.slurmqueue - INFO - Queueing /gpcr/users/daranda/doctorat/GPCR_simulations/simulation_output/production/6PS1/rep_3/\n"
     ]
    },
    {
     "name": "stdout",
     "output_type": "stream",
     "text": [
      "submitting replicate 1 of 5WF5\n"
     ]
    },
    {
     "name": "stderr",
     "output_type": "stream",
     "text": [
      "2021-06-26 04:36:18,145 - htmd.builder.builder - WARNING - Found cis peptide bond in 1 frames: [0] in the omega diheral \"Angle of (LEU 216 CA P P) (LEU 216 C P P) (PRO 217 N P P) (PRO 217 CA P P) \" with indexes [3340, 3355, 3357, 3361]\n",
      "2021-06-26 04:36:19,689 - htmd.protocols.production_v6 - WARNING - Lipids detected in input structure. We highly recommend setting useconstantratio=True for membrane simulations.\n",
      "2021-06-26 04:36:20,826 - jobqueues.slurmqueue - INFO - Queueing /gpcr/users/daranda/doctorat/GPCR_simulations/simulation_output/production/5WF5_apo/rep_1/\n"
     ]
    },
    {
     "name": "stdout",
     "output_type": "stream",
     "text": [
      "submitting replicate 2 of 5WF5\n"
     ]
    },
    {
     "name": "stderr",
     "output_type": "stream",
     "text": [
      "2021-06-26 04:36:59,982 - htmd.builder.builder - WARNING - Found cis peptide bond in 1 frames: [0] in the omega diheral \"Angle of (LEU 216 CA P P) (LEU 216 C P P) (PRO 217 N P P) (PRO 217 CA P P) \" with indexes [3340, 3355, 3357, 3361]\n",
      "2021-06-26 04:37:01,436 - htmd.protocols.production_v6 - WARNING - Lipids detected in input structure. We highly recommend setting useconstantratio=True for membrane simulations.\n",
      "2021-06-26 04:37:01,908 - jobqueues.slurmqueue - INFO - Queueing /gpcr/users/daranda/doctorat/GPCR_simulations/simulation_output/production/5WF5_apo/rep_2/\n"
     ]
    },
    {
     "name": "stdout",
     "output_type": "stream",
     "text": [
      "submitting replicate 3 of 5WF5\n"
     ]
    },
    {
     "name": "stderr",
     "output_type": "stream",
     "text": [
      "2021-06-26 04:37:42,513 - htmd.builder.builder - WARNING - Found cis peptide bond in 1 frames: [0] in the omega diheral \"Angle of (LEU 216 CA P P) (LEU 216 C P P) (PRO 217 N P P) (PRO 217 CA P P) \" with indexes [3340, 3355, 3357, 3361]\n",
      "2021-06-26 04:37:44,048 - htmd.protocols.production_v6 - WARNING - Lipids detected in input structure. We highly recommend setting useconstantratio=True for membrane simulations.\n",
      "2021-06-26 04:37:45,049 - jobqueues.slurmqueue - INFO - Queueing /gpcr/users/daranda/doctorat/GPCR_simulations/simulation_output/production/5WF5_apo/rep_3/\n"
     ]
    },
    {
     "name": "stdout",
     "output_type": "stream",
     "text": [
      "submitting replicate 1 of 5WF5\n"
     ]
    },
    {
     "name": "stderr",
     "output_type": "stream",
     "text": [
      "2021-06-26 04:38:28,157 - htmd.builder.builder - WARNING - Found cis peptide bond in 1 frames: [0] in the omega diheral \"Angle of (LEU 216 CA P P) (LEU 216 C P P) (PRO 217 N P P) (PRO 217 CA P P) \" with indexes [3444, 3459, 3461, 3465]\n",
      "2021-06-26 04:38:29,695 - htmd.protocols.production_v6 - WARNING - Lipids detected in input structure. We highly recommend setting useconstantratio=True for membrane simulations.\n",
      "2021-06-26 04:38:30,865 - jobqueues.slurmqueue - INFO - Queueing /gpcr/users/daranda/doctorat/GPCR_simulations/simulation_output/production/5WF5/rep_1/\n"
     ]
    },
    {
     "name": "stdout",
     "output_type": "stream",
     "text": [
      "submitting replicate 2 of 5WF5\n"
     ]
    },
    {
     "name": "stderr",
     "output_type": "stream",
     "text": [
      "2021-06-26 04:39:11,108 - htmd.builder.builder - WARNING - Found cis peptide bond in 1 frames: [0] in the omega diheral \"Angle of (LEU 216 CA P P) (LEU 216 C P P) (PRO 217 N P P) (PRO 217 CA P P) \" with indexes [3444, 3459, 3461, 3465]\n",
      "2021-06-26 04:39:12,653 - htmd.protocols.production_v6 - WARNING - Lipids detected in input structure. We highly recommend setting useconstantratio=True for membrane simulations.\n",
      "2021-06-26 04:39:13,492 - jobqueues.slurmqueue - INFO - Queueing /gpcr/users/daranda/doctorat/GPCR_simulations/simulation_output/production/5WF5/rep_2/\n"
     ]
    },
    {
     "name": "stdout",
     "output_type": "stream",
     "text": [
      "submitting replicate 3 of 5WF5\n"
     ]
    },
    {
     "name": "stderr",
     "output_type": "stream",
     "text": [
      "2021-06-26 04:39:53,058 - htmd.builder.builder - WARNING - Found cis peptide bond in 1 frames: [0] in the omega diheral \"Angle of (LEU 216 CA P P) (LEU 216 C P P) (PRO 217 N P P) (PRO 217 CA P P) \" with indexes [3444, 3459, 3461, 3465]\n",
      "2021-06-26 04:39:54,593 - htmd.protocols.production_v6 - WARNING - Lipids detected in input structure. We highly recommend setting useconstantratio=True for membrane simulations.\n",
      "2021-06-26 04:39:55,732 - jobqueues.slurmqueue - INFO - Queueing /gpcr/users/daranda/doctorat/GPCR_simulations/simulation_output/production/5WF5/rep_3/\n"
     ]
    },
    {
     "name": "stdout",
     "output_type": "stream",
     "text": [
      "submitting replicate 1 of 5UIW\n"
     ]
    },
    {
     "name": "stderr",
     "output_type": "stream",
     "text": [
      "2021-06-26 04:40:27,308 - htmd.protocols.production_v6 - WARNING - Lipids detected in input structure. We highly recommend setting useconstantratio=True for membrane simulations.\n",
      "2021-06-26 04:40:28,293 - jobqueues.slurmqueue - INFO - Queueing /gpcr/users/daranda/doctorat/GPCR_simulations/simulation_output/production/5UIW_apo/rep_1/\n"
     ]
    },
    {
     "name": "stdout",
     "output_type": "stream",
     "text": [
      "submitting replicate 2 of 5UIW\n"
     ]
    },
    {
     "name": "stderr",
     "output_type": "stream",
     "text": [
      "2021-06-26 04:40:58,892 - htmd.protocols.production_v6 - WARNING - Lipids detected in input structure. We highly recommend setting useconstantratio=True for membrane simulations.\n",
      "2021-06-26 04:40:59,313 - jobqueues.slurmqueue - INFO - Queueing /gpcr/users/daranda/doctorat/GPCR_simulations/simulation_output/production/5UIW_apo/rep_2/\n"
     ]
    },
    {
     "name": "stdout",
     "output_type": "stream",
     "text": [
      "submitting replicate 3 of 5UIW\n"
     ]
    },
    {
     "name": "stderr",
     "output_type": "stream",
     "text": [
      "2021-06-26 04:41:29,825 - htmd.protocols.production_v6 - WARNING - Lipids detected in input structure. We highly recommend setting useconstantratio=True for membrane simulations.\n",
      "2021-06-26 04:41:30,610 - jobqueues.slurmqueue - INFO - Queueing /gpcr/users/daranda/doctorat/GPCR_simulations/simulation_output/production/5UIW_apo/rep_3/\n"
     ]
    },
    {
     "name": "stdout",
     "output_type": "stream",
     "text": [
      "submitting replicate 1 of 5UIW\n"
     ]
    },
    {
     "name": "stderr",
     "output_type": "stream",
     "text": [
      "2021-06-26 04:42:10,735 - htmd.protocols.production_v6 - WARNING - Lipids detected in input structure. We highly recommend setting useconstantratio=True for membrane simulations.\n",
      "2021-06-26 04:42:12,134 - jobqueues.slurmqueue - INFO - Queueing /gpcr/users/daranda/doctorat/GPCR_simulations/simulation_output/production/5UIW/rep_1/\n"
     ]
    },
    {
     "name": "stdout",
     "output_type": "stream",
     "text": [
      "submitting replicate 2 of 5UIW\n"
     ]
    },
    {
     "name": "stderr",
     "output_type": "stream",
     "text": [
      "2021-06-26 04:42:51,067 - htmd.protocols.production_v6 - WARNING - Lipids detected in input structure. We highly recommend setting useconstantratio=True for membrane simulations.\n",
      "2021-06-26 04:42:51,601 - jobqueues.slurmqueue - INFO - Queueing /gpcr/users/daranda/doctorat/GPCR_simulations/simulation_output/production/5UIW/rep_2/\n"
     ]
    },
    {
     "name": "stdout",
     "output_type": "stream",
     "text": [
      "submitting replicate 3 of 5UIW\n"
     ]
    },
    {
     "name": "stderr",
     "output_type": "stream",
     "text": [
      "2021-06-26 04:43:31,162 - htmd.protocols.production_v6 - WARNING - Lipids detected in input structure. We highly recommend setting useconstantratio=True for membrane simulations.\n",
      "2021-06-26 04:43:31,720 - jobqueues.slurmqueue - INFO - Queueing /gpcr/users/daranda/doctorat/GPCR_simulations/simulation_output/production/5UIW/rep_3/\n"
     ]
    },
    {
     "name": "stdout",
     "output_type": "stream",
     "text": [
      "submitting replicate 1 of 6KP6\n"
     ]
    },
    {
     "name": "stderr",
     "output_type": "stream",
     "text": [
      "2021-06-26 04:44:11,994 - htmd.protocols.production_v6 - WARNING - Lipids detected in input structure. We highly recommend setting useconstantratio=True for membrane simulations.\n",
      "2021-06-26 04:44:12,967 - jobqueues.slurmqueue - INFO - Queueing /gpcr/users/daranda/doctorat/GPCR_simulations/simulation_output/production/6KP6_apo/rep_1/\n"
     ]
    },
    {
     "name": "stdout",
     "output_type": "stream",
     "text": [
      "submitting replicate 2 of 6KP6\n"
     ]
    },
    {
     "name": "stderr",
     "output_type": "stream",
     "text": [
      "2021-06-26 04:44:51,393 - htmd.protocols.production_v6 - WARNING - Lipids detected in input structure. We highly recommend setting useconstantratio=True for membrane simulations.\n",
      "2021-06-26 04:44:51,812 - jobqueues.slurmqueue - INFO - Queueing /gpcr/users/daranda/doctorat/GPCR_simulations/simulation_output/production/6KP6_apo/rep_2/\n"
     ]
    },
    {
     "name": "stdout",
     "output_type": "stream",
     "text": [
      "submitting replicate 3 of 6KP6\n"
     ]
    },
    {
     "name": "stderr",
     "output_type": "stream",
     "text": [
      "2021-06-26 04:45:35,046 - htmd.protocols.production_v6 - WARNING - Lipids detected in input structure. We highly recommend setting useconstantratio=True for membrane simulations.\n",
      "2021-06-26 04:45:35,405 - jobqueues.slurmqueue - INFO - Queueing /gpcr/users/daranda/doctorat/GPCR_simulations/simulation_output/production/6KP6_apo/rep_3/\n"
     ]
    },
    {
     "name": "stdout",
     "output_type": "stream",
     "text": [
      "submitting replicate 1 of 6KP6\n",
      "model 6KP6 could not be send to equilibrate because of  Could not locate file /gpcr/users/daranda/doctorat/GPCR_simulations/simulation_output//equil/6KP6/structure.pdb set by the user for argument Production.acemd.coordinates\n",
      "submitting replicate 2 of 6KP6\n",
      "model 6KP6 could not be send to equilibrate because of  Could not locate file /gpcr/users/daranda/doctorat/GPCR_simulations/simulation_output//equil/6KP6/structure.pdb set by the user for argument Production.acemd.coordinates\n",
      "submitting replicate 3 of 6KP6\n",
      "model 6KP6 could not be send to equilibrate because of  Could not locate file /gpcr/users/daranda/doctorat/GPCR_simulations/simulation_output//equil/6KP6/structure.pdb set by the user for argument Production.acemd.coordinates\n",
      "submitting replicate 1 of 6FK6\n"
     ]
    },
    {
     "name": "stderr",
     "output_type": "stream",
     "text": [
      "2021-06-26 04:46:07,511 - htmd.builder.builder - WARNING - Found cis peptide bond in 1 frames: [0] in the omega diheral \"Angle of (ASN 326 CA P P) (ASN 326 C P P) (PRO 327 N P P) (PRO 327 CA P P) \" with indexes [5156, 5166, 5168, 5172]\n",
      "2021-06-26 04:46:08,595 - htmd.protocols.production_v6 - WARNING - Lipids detected in input structure. We highly recommend setting useconstantratio=True for membrane simulations.\n",
      "2021-06-26 04:46:09,550 - jobqueues.slurmqueue - INFO - Queueing /gpcr/users/daranda/doctorat/GPCR_simulations/simulation_output/production/6FK6_apo/rep_1/\n"
     ]
    },
    {
     "name": "stdout",
     "output_type": "stream",
     "text": [
      "submitting replicate 2 of 6FK6\n"
     ]
    },
    {
     "name": "stderr",
     "output_type": "stream",
     "text": [
      "2021-06-26 04:46:41,212 - htmd.builder.builder - WARNING - Found cis peptide bond in 1 frames: [0] in the omega diheral \"Angle of (ASN 326 CA P P) (ASN 326 C P P) (PRO 327 N P P) (PRO 327 CA P P) \" with indexes [5156, 5166, 5168, 5172]\n",
      "2021-06-26 04:46:42,299 - htmd.protocols.production_v6 - WARNING - Lipids detected in input structure. We highly recommend setting useconstantratio=True for membrane simulations.\n",
      "2021-06-26 04:46:42,645 - jobqueues.slurmqueue - INFO - Queueing /gpcr/users/daranda/doctorat/GPCR_simulations/simulation_output/production/6FK6_apo/rep_2/\n"
     ]
    },
    {
     "name": "stdout",
     "output_type": "stream",
     "text": [
      "submitting replicate 3 of 6FK6\n"
     ]
    },
    {
     "name": "stderr",
     "output_type": "stream",
     "text": [
      "2021-06-26 04:47:13,427 - htmd.builder.builder - WARNING - Found cis peptide bond in 1 frames: [0] in the omega diheral \"Angle of (ASN 326 CA P P) (ASN 326 C P P) (PRO 327 N P P) (PRO 327 CA P P) \" with indexes [5156, 5166, 5168, 5172]\n",
      "2021-06-26 04:47:14,427 - htmd.protocols.production_v6 - WARNING - Lipids detected in input structure. We highly recommend setting useconstantratio=True for membrane simulations.\n",
      "2021-06-26 04:47:14,883 - jobqueues.slurmqueue - INFO - Queueing /gpcr/users/daranda/doctorat/GPCR_simulations/simulation_output/production/6FK6_apo/rep_3/\n"
     ]
    },
    {
     "name": "stdout",
     "output_type": "stream",
     "text": [
      "submitting replicate 1 of 6FK6\n"
     ]
    },
    {
     "name": "stderr",
     "output_type": "stream",
     "text": [
      "2021-06-26 04:47:46,916 - htmd.builder.builder - WARNING - Found cis peptide bond in 1 frames: [0] in the omega diheral \"Angle of (ASN 326 CA P P) (ASN 326 C P P) (PRO 327 N P P) (PRO 327 CA P P) \" with indexes [5216, 5226, 5228, 5232]\n",
      "2021-06-26 04:47:48,013 - htmd.protocols.production_v6 - WARNING - Lipids detected in input structure. We highly recommend setting useconstantratio=True for membrane simulations.\n",
      "2021-06-26 04:47:49,485 - jobqueues.slurmqueue - INFO - Queueing /gpcr/users/daranda/doctorat/GPCR_simulations/simulation_output/production/6FK6/rep_1/\n"
     ]
    },
    {
     "name": "stdout",
     "output_type": "stream",
     "text": [
      "submitting replicate 2 of 6FK6\n"
     ]
    },
    {
     "name": "stderr",
     "output_type": "stream",
     "text": [
      "2021-06-26 04:48:20,380 - htmd.builder.builder - WARNING - Found cis peptide bond in 1 frames: [0] in the omega diheral \"Angle of (ASN 326 CA P P) (ASN 326 C P P) (PRO 327 N P P) (PRO 327 CA P P) \" with indexes [5216, 5226, 5228, 5232]\n",
      "2021-06-26 04:48:21,470 - htmd.protocols.production_v6 - WARNING - Lipids detected in input structure. We highly recommend setting useconstantratio=True for membrane simulations.\n",
      "2021-06-26 04:48:21,902 - jobqueues.slurmqueue - INFO - Queueing /gpcr/users/daranda/doctorat/GPCR_simulations/simulation_output/production/6FK6/rep_2/\n"
     ]
    },
    {
     "name": "stdout",
     "output_type": "stream",
     "text": [
      "submitting replicate 3 of 6FK6\n"
     ]
    },
    {
     "name": "stderr",
     "output_type": "stream",
     "text": [
      "2021-06-26 04:48:52,867 - htmd.builder.builder - WARNING - Found cis peptide bond in 1 frames: [0] in the omega diheral \"Angle of (ASN 326 CA P P) (ASN 326 C P P) (PRO 327 N P P) (PRO 327 CA P P) \" with indexes [5216, 5226, 5228, 5232]\n",
      "2021-06-26 04:48:53,962 - htmd.protocols.production_v6 - WARNING - Lipids detected in input structure. We highly recommend setting useconstantratio=True for membrane simulations.\n",
      "2021-06-26 04:48:54,430 - jobqueues.slurmqueue - INFO - Queueing /gpcr/users/daranda/doctorat/GPCR_simulations/simulation_output/production/6FK6/rep_3/\n"
     ]
    },
    {
     "name": "stdout",
     "output_type": "stream",
     "text": [
      "submitting replicate 1 of 5ZTY\n"
     ]
    },
    {
     "name": "stderr",
     "output_type": "stream",
     "text": [
      "2021-06-26 04:49:31,859 - htmd.protocols.production_v6 - WARNING - Lipids detected in input structure. We highly recommend setting useconstantratio=True for membrane simulations.\n"
     ]
    },
    {
     "name": "stdout",
     "output_type": "stream",
     "text": [
      "model 5ZTY_apo could not be send to equilibrate because of  Could not find any of the files \"output.coor\" specified for command \"bincoordinates\" in path /gpcr/users/daranda/doctorat/GPCR_simulations/simulation_output//equil/5ZTY_apo/\n",
      "submitting replicate 2 of 5ZTY\n"
     ]
    },
    {
     "name": "stderr",
     "output_type": "stream",
     "text": [
      "2021-06-26 04:49:59,554 - htmd.protocols.production_v6 - WARNING - Lipids detected in input structure. We highly recommend setting useconstantratio=True for membrane simulations.\n"
     ]
    },
    {
     "name": "stdout",
     "output_type": "stream",
     "text": [
      "model 5ZTY_apo could not be send to equilibrate because of  Could not find any of the files \"output.coor\" specified for command \"bincoordinates\" in path /gpcr/users/daranda/doctorat/GPCR_simulations/simulation_output//equil/5ZTY_apo/\n",
      "submitting replicate 3 of 5ZTY\n"
     ]
    },
    {
     "name": "stderr",
     "output_type": "stream",
     "text": [
      "2021-06-26 04:50:28,300 - htmd.protocols.production_v6 - WARNING - Lipids detected in input structure. We highly recommend setting useconstantratio=True for membrane simulations.\n"
     ]
    },
    {
     "name": "stdout",
     "output_type": "stream",
     "text": [
      "model 5ZTY_apo could not be send to equilibrate because of  Could not find any of the files \"output.coor\" specified for command \"bincoordinates\" in path /gpcr/users/daranda/doctorat/GPCR_simulations/simulation_output//equil/5ZTY_apo/\n",
      "submitting replicate 1 of 5ZTY\n"
     ]
    },
    {
     "name": "stderr",
     "output_type": "stream",
     "text": [
      "2021-06-26 04:50:57,171 - htmd.protocols.production_v6 - WARNING - Lipids detected in input structure. We highly recommend setting useconstantratio=True for membrane simulations.\n"
     ]
    },
    {
     "name": "stdout",
     "output_type": "stream",
     "text": [
      "model 5ZTY could not be send to equilibrate because of  Could not find any of the files \"output.coor\" specified for command \"bincoordinates\" in path /gpcr/users/daranda/doctorat/GPCR_simulations/simulation_output//equil/5ZTY/\n",
      "submitting replicate 2 of 5ZTY\n"
     ]
    },
    {
     "name": "stderr",
     "output_type": "stream",
     "text": [
      "2021-06-26 04:51:25,544 - htmd.protocols.production_v6 - WARNING - Lipids detected in input structure. We highly recommend setting useconstantratio=True for membrane simulations.\n"
     ]
    },
    {
     "name": "stdout",
     "output_type": "stream",
     "text": [
      "model 5ZTY could not be send to equilibrate because of  Could not find any of the files \"output.coor\" specified for command \"bincoordinates\" in path /gpcr/users/daranda/doctorat/GPCR_simulations/simulation_output//equil/5ZTY/\n",
      "submitting replicate 3 of 5ZTY\n"
     ]
    },
    {
     "name": "stderr",
     "output_type": "stream",
     "text": [
      "2021-06-26 04:51:54,283 - htmd.protocols.production_v6 - WARNING - Lipids detected in input structure. We highly recommend setting useconstantratio=True for membrane simulations.\n"
     ]
    },
    {
     "name": "stdout",
     "output_type": "stream",
     "text": [
      "model 5ZTY could not be send to equilibrate because of  Could not find any of the files \"output.coor\" specified for command \"bincoordinates\" in path /gpcr/users/daranda/doctorat/GPCR_simulations/simulation_output//equil/5ZTY/\n",
      "replicate 1 of structure 6LI2 already has been simulated\n",
      "replicate 2 of structure 6LI2 already has been simulated\n",
      "replicate 3 of structure 6LI2 already has been simulated\n",
      "submitting replicate 1 of 6LI2\n",
      "model 6LI2 could not be send to equilibrate because of  Could not locate file /gpcr/users/daranda/doctorat/GPCR_simulations/simulation_output//equil/6LI2/structure.pdb set by the user for argument Production.acemd.coordinates\n",
      "submitting replicate 2 of 6LI2\n",
      "model 6LI2 could not be send to equilibrate because of  Could not locate file /gpcr/users/daranda/doctorat/GPCR_simulations/simulation_output//equil/6LI2/structure.pdb set by the user for argument Production.acemd.coordinates\n",
      "submitting replicate 3 of 6LI2\n",
      "model 6LI2 could not be send to equilibrate because of  Could not locate file /gpcr/users/daranda/doctorat/GPCR_simulations/simulation_output//equil/6LI2/structure.pdb set by the user for argument Production.acemd.coordinates\n",
      "submitting replicate 1 of 6PRZ\n"
     ]
    },
    {
     "name": "stderr",
     "output_type": "stream",
     "text": [
      "2021-06-26 04:52:26,594 - htmd.protocols.production_v6 - WARNING - Lipids detected in input structure. We highly recommend setting useconstantratio=True for membrane simulations.\n",
      "2021-06-26 04:52:27,829 - jobqueues.slurmqueue - INFO - Queueing /gpcr/users/daranda/doctorat/GPCR_simulations/simulation_output/production/6PRZ_apo/rep_1/\n"
     ]
    },
    {
     "name": "stdout",
     "output_type": "stream",
     "text": [
      "submitting replicate 2 of 6PRZ\n"
     ]
    },
    {
     "name": "stderr",
     "output_type": "stream",
     "text": [
      "2021-06-26 04:53:08,897 - htmd.protocols.production_v6 - WARNING - Lipids detected in input structure. We highly recommend setting useconstantratio=True for membrane simulations.\n",
      "2021-06-26 04:53:09,427 - jobqueues.slurmqueue - INFO - Queueing /gpcr/users/daranda/doctorat/GPCR_simulations/simulation_output/production/6PRZ_apo/rep_2/\n"
     ]
    },
    {
     "name": "stdout",
     "output_type": "stream",
     "text": [
      "submitting replicate 3 of 6PRZ\n"
     ]
    },
    {
     "name": "stderr",
     "output_type": "stream",
     "text": [
      "2021-06-26 04:53:48,688 - htmd.protocols.production_v6 - WARNING - Lipids detected in input structure. We highly recommend setting useconstantratio=True for membrane simulations.\n",
      "2021-06-26 04:53:49,139 - jobqueues.slurmqueue - INFO - Queueing /gpcr/users/daranda/doctorat/GPCR_simulations/simulation_output/production/6PRZ_apo/rep_3/\n"
     ]
    },
    {
     "name": "stdout",
     "output_type": "stream",
     "text": [
      "submitting replicate 1 of 6PRZ\n"
     ]
    },
    {
     "name": "stderr",
     "output_type": "stream",
     "text": [
      "2021-06-26 04:54:29,101 - htmd.protocols.production_v6 - WARNING - Lipids detected in input structure. We highly recommend setting useconstantratio=True for membrane simulations.\n",
      "2021-06-26 04:54:30,283 - jobqueues.slurmqueue - INFO - Queueing /gpcr/users/daranda/doctorat/GPCR_simulations/simulation_output/production/6PRZ/rep_1/\n"
     ]
    },
    {
     "name": "stdout",
     "output_type": "stream",
     "text": [
      "submitting replicate 2 of 6PRZ\n"
     ]
    },
    {
     "name": "stderr",
     "output_type": "stream",
     "text": [
      "2021-06-26 04:55:09,691 - htmd.protocols.production_v6 - WARNING - Lipids detected in input structure. We highly recommend setting useconstantratio=True for membrane simulations.\n",
      "2021-06-26 04:55:10,868 - jobqueues.slurmqueue - INFO - Queueing /gpcr/users/daranda/doctorat/GPCR_simulations/simulation_output/production/6PRZ/rep_2/\n"
     ]
    },
    {
     "name": "stdout",
     "output_type": "stream",
     "text": [
      "submitting replicate 3 of 6PRZ\n"
     ]
    },
    {
     "name": "stderr",
     "output_type": "stream",
     "text": [
      "2021-06-26 04:55:51,428 - htmd.protocols.production_v6 - WARNING - Lipids detected in input structure. We highly recommend setting useconstantratio=True for membrane simulations.\n",
      "2021-06-26 04:55:51,973 - jobqueues.slurmqueue - INFO - Queueing /gpcr/users/daranda/doctorat/GPCR_simulations/simulation_output/production/6PRZ/rep_3/\n"
     ]
    },
    {
     "name": "stdout",
     "output_type": "stream",
     "text": [
      "replicate 1 of structure 5O9H already has been simulated\n",
      "replicate 2 of structure 5O9H already has been simulated\n",
      "replicate 3 of structure 5O9H already has been simulated\n",
      "replicate 1 of structure 5O9H already has been simulated\n",
      "replicate 2 of structure 5O9H already has been simulated\n",
      "replicate 3 of structure 5O9H already has been simulated\n",
      "submitting replicate 1 of 5OM1\n"
     ]
    },
    {
     "name": "stderr",
     "output_type": "stream",
     "text": [
      "2021-06-26 04:56:26,680 - htmd.builder.builder - WARNING - Found cis peptide bond in 1 frames: [0] in the omega diheral \"Angle of (LEU 216 CA P P) (LEU 216 C P P) (PRO 217 N P P) (PRO 217 CA P P) \" with indexes [3330, 3345, 3347, 3351]\n",
      "2021-06-26 04:56:28,027 - htmd.protocols.production_v6 - WARNING - Lipids detected in input structure. We highly recommend setting useconstantratio=True for membrane simulations.\n",
      "2021-06-26 04:56:28,963 - jobqueues.slurmqueue - INFO - Queueing /gpcr/users/daranda/doctorat/GPCR_simulations/simulation_output/production/5OM1_apo/rep_1/\n"
     ]
    },
    {
     "name": "stdout",
     "output_type": "stream",
     "text": [
      "submitting replicate 2 of 5OM1\n"
     ]
    },
    {
     "name": "stderr",
     "output_type": "stream",
     "text": [
      "2021-06-26 04:57:03,629 - htmd.builder.builder - WARNING - Found cis peptide bond in 1 frames: [0] in the omega diheral \"Angle of (LEU 216 CA P P) (LEU 216 C P P) (PRO 217 N P P) (PRO 217 CA P P) \" with indexes [3330, 3345, 3347, 3351]\n",
      "2021-06-26 04:57:04,964 - htmd.protocols.production_v6 - WARNING - Lipids detected in input structure. We highly recommend setting useconstantratio=True for membrane simulations.\n",
      "2021-06-26 04:57:05,617 - jobqueues.slurmqueue - INFO - Queueing /gpcr/users/daranda/doctorat/GPCR_simulations/simulation_output/production/5OM1_apo/rep_2/\n"
     ]
    },
    {
     "name": "stdout",
     "output_type": "stream",
     "text": [
      "submitting replicate 3 of 5OM1\n"
     ]
    },
    {
     "name": "stderr",
     "output_type": "stream",
     "text": [
      "2021-06-26 04:57:42,061 - htmd.builder.builder - WARNING - Found cis peptide bond in 1 frames: [0] in the omega diheral \"Angle of (LEU 216 CA P P) (LEU 216 C P P) (PRO 217 N P P) (PRO 217 CA P P) \" with indexes [3330, 3345, 3347, 3351]\n",
      "2021-06-26 04:57:43,397 - htmd.protocols.production_v6 - WARNING - Lipids detected in input structure. We highly recommend setting useconstantratio=True for membrane simulations.\n",
      "2021-06-26 04:57:43,999 - jobqueues.slurmqueue - INFO - Queueing /gpcr/users/daranda/doctorat/GPCR_simulations/simulation_output/production/5OM1_apo/rep_3/\n"
     ]
    },
    {
     "name": "stdout",
     "output_type": "stream",
     "text": [
      "submitting replicate 1 of 5OM1\n"
     ]
    },
    {
     "name": "stderr",
     "output_type": "stream",
     "text": [
      "2021-06-26 04:58:21,229 - htmd.builder.builder - WARNING - Found cis peptide bond in 1 frames: [0] in the omega diheral \"Angle of (LEU 216 CA P P) (LEU 216 C P P) (PRO 217 N P P) (PRO 217 CA P P) \" with indexes [3330, 3345, 3347, 3351]\n",
      "2021-06-26 04:58:22,559 - htmd.protocols.production_v6 - WARNING - Lipids detected in input structure. We highly recommend setting useconstantratio=True for membrane simulations.\n",
      "2021-06-26 04:58:23,759 - jobqueues.slurmqueue - INFO - Queueing /gpcr/users/daranda/doctorat/GPCR_simulations/simulation_output/production/5OM1/rep_1/\n"
     ]
    },
    {
     "name": "stdout",
     "output_type": "stream",
     "text": [
      "submitting replicate 2 of 5OM1\n"
     ]
    },
    {
     "name": "stderr",
     "output_type": "stream",
     "text": [
      "2021-06-26 04:58:59,743 - htmd.builder.builder - WARNING - Found cis peptide bond in 1 frames: [0] in the omega diheral \"Angle of (LEU 216 CA P P) (LEU 216 C P P) (PRO 217 N P P) (PRO 217 CA P P) \" with indexes [3330, 3345, 3347, 3351]\n",
      "2021-06-26 04:59:01,082 - htmd.protocols.production_v6 - WARNING - Lipids detected in input structure. We highly recommend setting useconstantratio=True for membrane simulations.\n",
      "2021-06-26 04:59:01,836 - jobqueues.slurmqueue - INFO - Queueing /gpcr/users/daranda/doctorat/GPCR_simulations/simulation_output/production/5OM1/rep_2/\n"
     ]
    },
    {
     "name": "stdout",
     "output_type": "stream",
     "text": [
      "submitting replicate 3 of 5OM1\n"
     ]
    },
    {
     "name": "stderr",
     "output_type": "stream",
     "text": [
      "2021-06-26 04:59:39,359 - htmd.builder.builder - WARNING - Found cis peptide bond in 1 frames: [0] in the omega diheral \"Angle of (LEU 216 CA P P) (LEU 216 C P P) (PRO 217 N P P) (PRO 217 CA P P) \" with indexes [3330, 3345, 3347, 3351]\n",
      "2021-06-26 04:59:40,697 - htmd.protocols.production_v6 - WARNING - Lipids detected in input structure. We highly recommend setting useconstantratio=True for membrane simulations.\n",
      "2021-06-26 04:59:41,254 - jobqueues.slurmqueue - INFO - Queueing /gpcr/users/daranda/doctorat/GPCR_simulations/simulation_output/production/5OM1/rep_3/\n"
     ]
    },
    {
     "name": "stdout",
     "output_type": "stream",
     "text": [
      "submitting replicate 1 of 6KK7\n"
     ]
    },
    {
     "name": "stderr",
     "output_type": "stream",
     "text": [
      "2021-06-26 04:59:54,388 - moleculekit.readers - WARNING - Non-integer values were read from the PDB \"serial\" field. Dropping PDB values and assigning new ones.\n",
      "2021-06-26 04:59:54,559 - moleculekit.readers - WARNING - Reading PDB file with more than 99999 atoms. Bond information can be wrong.\n",
      "2021-06-26 05:00:35,391 - htmd.builder.builder - WARNING - Found cis peptide bond in 1 frames: [0] in the omega diheral \"Angle of (PHE 257 CA P P) (PHE 257 C P P) (SER 258 N P P) (SER 258 CA P P) \" with indexes [2041, 2057, 2059, 2061]\n",
      "2021-06-26 05:00:35,393 - htmd.builder.builder - WARNING - Found cis peptide bond in 1 frames: [0] in the omega diheral \"Angle of (ALA 375 CA P P) (ALA 375 C P P) (ARG 376 N P P) (ARG 376 CA P P) \" with indexes [4016, 4022, 4024, 4026]\n",
      "2021-06-26 05:00:37,402 - htmd.protocols.production_v6 - WARNING - Lipids detected in input structure. We highly recommend setting useconstantratio=True for membrane simulations.\n",
      "2021-06-26 05:00:39,021 - jobqueues.slurmqueue - INFO - Queueing /gpcr/users/daranda/doctorat/GPCR_simulations/simulation_output/production/6KK7_apo/rep_1/\n"
     ]
    },
    {
     "name": "stdout",
     "output_type": "stream",
     "text": [
      "submitting replicate 2 of 6KK7\n"
     ]
    },
    {
     "name": "stderr",
     "output_type": "stream",
     "text": [
      "2021-06-26 05:00:52,104 - moleculekit.readers - WARNING - Non-integer values were read from the PDB \"serial\" field. Dropping PDB values and assigning new ones.\n",
      "2021-06-26 05:00:52,281 - moleculekit.readers - WARNING - Reading PDB file with more than 99999 atoms. Bond information can be wrong.\n",
      "2021-06-26 05:01:35,493 - htmd.builder.builder - WARNING - Found cis peptide bond in 1 frames: [0] in the omega diheral \"Angle of (PHE 257 CA P P) (PHE 257 C P P) (SER 258 N P P) (SER 258 CA P P) \" with indexes [2041, 2057, 2059, 2061]\n",
      "2021-06-26 05:01:35,495 - htmd.builder.builder - WARNING - Found cis peptide bond in 1 frames: [0] in the omega diheral \"Angle of (ALA 375 CA P P) (ALA 375 C P P) (ARG 376 N P P) (ARG 376 CA P P) \" with indexes [4016, 4022, 4024, 4026]\n",
      "2021-06-26 05:01:37,546 - htmd.protocols.production_v6 - WARNING - Lipids detected in input structure. We highly recommend setting useconstantratio=True for membrane simulations.\n",
      "2021-06-26 05:01:38,514 - jobqueues.slurmqueue - INFO - Queueing /gpcr/users/daranda/doctorat/GPCR_simulations/simulation_output/production/6KK7_apo/rep_2/\n"
     ]
    },
    {
     "name": "stdout",
     "output_type": "stream",
     "text": [
      "submitting replicate 3 of 6KK7\n"
     ]
    },
    {
     "name": "stderr",
     "output_type": "stream",
     "text": [
      "2021-06-26 05:01:51,500 - moleculekit.readers - WARNING - Non-integer values were read from the PDB \"serial\" field. Dropping PDB values and assigning new ones.\n",
      "2021-06-26 05:01:51,675 - moleculekit.readers - WARNING - Reading PDB file with more than 99999 atoms. Bond information can be wrong.\n",
      "2021-06-26 05:02:35,912 - htmd.builder.builder - WARNING - Found cis peptide bond in 1 frames: [0] in the omega diheral \"Angle of (PHE 257 CA P P) (PHE 257 C P P) (SER 258 N P P) (SER 258 CA P P) \" with indexes [2041, 2057, 2059, 2061]\n",
      "2021-06-26 05:02:35,914 - htmd.builder.builder - WARNING - Found cis peptide bond in 1 frames: [0] in the omega diheral \"Angle of (ALA 375 CA P P) (ALA 375 C P P) (ARG 376 N P P) (ARG 376 CA P P) \" with indexes [4016, 4022, 4024, 4026]\n",
      "2021-06-26 05:02:37,980 - htmd.protocols.production_v6 - WARNING - Lipids detected in input structure. We highly recommend setting useconstantratio=True for membrane simulations.\n",
      "2021-06-26 05:02:38,661 - jobqueues.slurmqueue - INFO - Queueing /gpcr/users/daranda/doctorat/GPCR_simulations/simulation_output/production/6KK7_apo/rep_3/\n"
     ]
    },
    {
     "name": "stdout",
     "output_type": "stream",
     "text": [
      "replicate 1 of structure 6KK7 already has been simulated\n",
      "replicate 2 of structure 6KK7 already has been simulated\n",
      "replicate 3 of structure 6KK7 already has been simulated\n",
      "submitting replicate 1 of 5ZK8\n"
     ]
    },
    {
     "name": "stderr",
     "output_type": "stream",
     "text": [
      "2021-06-26 05:03:29,787 - htmd.protocols.production_v6 - WARNING - Lipids detected in input structure. We highly recommend setting useconstantratio=True for membrane simulations.\n",
      "2021-06-26 05:03:31,232 - jobqueues.slurmqueue - INFO - Queueing /gpcr/users/daranda/doctorat/GPCR_simulations/simulation_output/production/5ZK8_apo/rep_1/\n"
     ]
    },
    {
     "name": "stdout",
     "output_type": "stream",
     "text": [
      "submitting replicate 2 of 5ZK8\n"
     ]
    },
    {
     "name": "stderr",
     "output_type": "stream",
     "text": [
      "2021-06-26 05:04:20,779 - htmd.protocols.production_v6 - WARNING - Lipids detected in input structure. We highly recommend setting useconstantratio=True for membrane simulations.\n",
      "2021-06-26 05:04:21,421 - jobqueues.slurmqueue - INFO - Queueing /gpcr/users/daranda/doctorat/GPCR_simulations/simulation_output/production/5ZK8_apo/rep_2/\n"
     ]
    },
    {
     "name": "stdout",
     "output_type": "stream",
     "text": [
      "submitting replicate 3 of 5ZK8\n"
     ]
    },
    {
     "name": "stderr",
     "output_type": "stream",
     "text": [
      "2021-06-26 05:05:11,538 - htmd.protocols.production_v6 - WARNING - Lipids detected in input structure. We highly recommend setting useconstantratio=True for membrane simulations.\n",
      "2021-06-26 05:05:12,246 - jobqueues.slurmqueue - INFO - Queueing /gpcr/users/daranda/doctorat/GPCR_simulations/simulation_output/production/5ZK8_apo/rep_3/\n"
     ]
    },
    {
     "name": "stdout",
     "output_type": "stream",
     "text": [
      "submitting replicate 1 of 5ZK8\n"
     ]
    },
    {
     "name": "stderr",
     "output_type": "stream",
     "text": [
      "2021-06-26 05:06:02,512 - htmd.protocols.production_v6 - WARNING - Lipids detected in input structure. We highly recommend setting useconstantratio=True for membrane simulations.\n",
      "2021-06-26 05:06:04,066 - jobqueues.slurmqueue - INFO - Queueing /gpcr/users/daranda/doctorat/GPCR_simulations/simulation_output/production/5ZK8/rep_1/\n"
     ]
    },
    {
     "name": "stdout",
     "output_type": "stream",
     "text": [
      "submitting replicate 2 of 5ZK8\n"
     ]
    },
    {
     "name": "stderr",
     "output_type": "stream",
     "text": [
      "2021-06-26 05:06:52,411 - htmd.protocols.production_v6 - WARNING - Lipids detected in input structure. We highly recommend setting useconstantratio=True for membrane simulations.\n",
      "2021-06-26 05:06:53,097 - jobqueues.slurmqueue - INFO - Queueing /gpcr/users/daranda/doctorat/GPCR_simulations/simulation_output/production/5ZK8/rep_2/\n"
     ]
    },
    {
     "name": "stdout",
     "output_type": "stream",
     "text": [
      "submitting replicate 3 of 5ZK8\n"
     ]
    },
    {
     "name": "stderr",
     "output_type": "stream",
     "text": [
      "2021-06-26 05:07:39,804 - htmd.protocols.production_v6 - WARNING - Lipids detected in input structure. We highly recommend setting useconstantratio=True for membrane simulations.\n",
      "2021-06-26 05:07:40,773 - jobqueues.slurmqueue - INFO - Queueing /gpcr/users/daranda/doctorat/GPCR_simulations/simulation_output/production/5ZK8/rep_3/\n"
     ]
    },
    {
     "name": "stdout",
     "output_type": "stream",
     "text": [
      "submitting replicate 1 of 6DRY\n"
     ]
    },
    {
     "name": "stderr",
     "output_type": "stream",
     "text": [
      "2021-06-26 05:08:19,172 - htmd.builder.builder - WARNING - Found cis peptide bond in 1 frames: [0] in the omega diheral \"Angle of (THR 197 CA P0 P) (THR 197 C P0 P) (ASP 198 N P0 P) (ASP 198 CA P0 P) \" with indexes [2502, 2512, 2514, 2516]\n",
      "2021-06-26 05:08:20,424 - htmd.protocols.production_v6 - WARNING - Lipids detected in input structure. We highly recommend setting useconstantratio=True for membrane simulations.\n",
      "2021-06-26 05:08:21,431 - jobqueues.slurmqueue - INFO - Queueing /gpcr/users/daranda/doctorat/GPCR_simulations/simulation_output/production/6DRY_apo/rep_1/\n"
     ]
    },
    {
     "name": "stdout",
     "output_type": "stream",
     "text": [
      "submitting replicate 2 of 6DRY\n"
     ]
    },
    {
     "name": "stderr",
     "output_type": "stream",
     "text": [
      "2021-06-26 05:09:00,240 - htmd.builder.builder - WARNING - Found cis peptide bond in 1 frames: [0] in the omega diheral \"Angle of (THR 197 CA P0 P) (THR 197 C P0 P) (ASP 198 N P0 P) (ASP 198 CA P0 P) \" with indexes [2502, 2512, 2514, 2516]\n",
      "2021-06-26 05:09:01,493 - htmd.protocols.production_v6 - WARNING - Lipids detected in input structure. We highly recommend setting useconstantratio=True for membrane simulations.\n",
      "2021-06-26 05:09:01,908 - jobqueues.slurmqueue - INFO - Queueing /gpcr/users/daranda/doctorat/GPCR_simulations/simulation_output/production/6DRY_apo/rep_2/\n"
     ]
    },
    {
     "name": "stdout",
     "output_type": "stream",
     "text": [
      "submitting replicate 3 of 6DRY\n"
     ]
    },
    {
     "name": "stderr",
     "output_type": "stream",
     "text": [
      "2021-06-26 05:09:38,642 - htmd.builder.builder - WARNING - Found cis peptide bond in 1 frames: [0] in the omega diheral \"Angle of (THR 197 CA P0 P) (THR 197 C P0 P) (ASP 198 N P0 P) (ASP 198 CA P0 P) \" with indexes [2502, 2512, 2514, 2516]\n",
      "2021-06-26 05:09:39,890 - htmd.protocols.production_v6 - WARNING - Lipids detected in input structure. We highly recommend setting useconstantratio=True for membrane simulations.\n",
      "2021-06-26 05:09:40,286 - jobqueues.slurmqueue - INFO - Queueing /gpcr/users/daranda/doctorat/GPCR_simulations/simulation_output/production/6DRY_apo/rep_3/\n"
     ]
    },
    {
     "name": "stdout",
     "output_type": "stream",
     "text": [
      "submitting replicate 1 of 6DRY\n"
     ]
    },
    {
     "name": "stderr",
     "output_type": "stream",
     "text": [
      "2021-06-26 05:10:18,951 - htmd.builder.builder - WARNING - Found cis peptide bond in 1 frames: [0] in the omega diheral \"Angle of (THR 197 CA P0 P) (THR 197 C P0 P) (ASP 198 N P0 P) (ASP 198 CA P0 P) \" with indexes [2506, 2516, 2518, 2520]\n",
      "2021-06-26 05:10:20,204 - htmd.protocols.production_v6 - WARNING - Lipids detected in input structure. We highly recommend setting useconstantratio=True for membrane simulations.\n",
      "2021-06-26 05:10:21,492 - jobqueues.slurmqueue - INFO - Queueing /gpcr/users/daranda/doctorat/GPCR_simulations/simulation_output/production/6DRY/rep_1/\n"
     ]
    },
    {
     "name": "stdout",
     "output_type": "stream",
     "text": [
      "submitting replicate 2 of 6DRY\n"
     ]
    },
    {
     "name": "stderr",
     "output_type": "stream",
     "text": [
      "2021-06-26 05:10:57,725 - htmd.builder.builder - WARNING - Found cis peptide bond in 1 frames: [0] in the omega diheral \"Angle of (THR 197 CA P0 P) (THR 197 C P0 P) (ASP 198 N P0 P) (ASP 198 CA P0 P) \" with indexes [2506, 2516, 2518, 2520]\n",
      "2021-06-26 05:10:58,978 - htmd.protocols.production_v6 - WARNING - Lipids detected in input structure. We highly recommend setting useconstantratio=True for membrane simulations.\n",
      "2021-06-26 05:10:59,474 - jobqueues.slurmqueue - INFO - Queueing /gpcr/users/daranda/doctorat/GPCR_simulations/simulation_output/production/6DRY/rep_2/\n"
     ]
    },
    {
     "name": "stdout",
     "output_type": "stream",
     "text": [
      "submitting replicate 3 of 6DRY\n"
     ]
    },
    {
     "name": "stderr",
     "output_type": "stream",
     "text": [
      "2021-06-26 05:11:37,300 - htmd.builder.builder - WARNING - Found cis peptide bond in 1 frames: [0] in the omega diheral \"Angle of (THR 197 CA P0 P) (THR 197 C P0 P) (ASP 198 N P0 P) (ASP 198 CA P0 P) \" with indexes [2506, 2516, 2518, 2520]\n",
      "2021-06-26 05:11:38,551 - htmd.protocols.production_v6 - WARNING - Lipids detected in input structure. We highly recommend setting useconstantratio=True for membrane simulations.\n",
      "2021-06-26 05:11:39,033 - jobqueues.slurmqueue - INFO - Queueing /gpcr/users/daranda/doctorat/GPCR_simulations/simulation_output/production/6DRY/rep_3/\n"
     ]
    },
    {
     "name": "stdout",
     "output_type": "stream",
     "text": [
      "submitting replicate 1 of 4N4W\n"
     ]
    },
    {
     "name": "stderr",
     "output_type": "stream",
     "text": [
      "2021-06-26 05:11:50,716 - moleculekit.readers - WARNING - Non-integer values were read from the PDB \"serial\" field. Dropping PDB values and assigning new ones.\n",
      "2021-06-26 05:11:50,862 - moleculekit.readers - WARNING - Reading PDB file with more than 99999 atoms. Bond information can be wrong.\n",
      "2021-06-26 05:12:32,048 - htmd.builder.builder - WARNING - Found cis peptide bond in 1 frames: [0] in the omega diheral \"Angle of (VAL 195 CA P P) (VAL 195 C P P) (PRO 196 N P P) (PRO 196 CA P P) \" with indexes [68, 80, 82, 86]\n",
      "2021-06-26 05:12:32,050 - htmd.builder.builder - WARNING - Found cis peptide bond in 1 frames: [0] in the omega diheral \"Angle of (TYR 262 CA P P) (TYR 262 C P P) (PRO 263 N P P) (PRO 263 CA P P) \" with indexes [1089, 1106, 1108, 1112]\n",
      "2021-06-26 05:12:32,052 - htmd.builder.builder - WARNING - Found cis peptide bond in 1 frames: [0] in the omega diheral \"Angle of (GLU 305 CA P P) (GLU 305 C P P) (PRO 306 N P P) (PRO 306 CA P P) \" with indexes [1758, 1769, 1771, 1775]\n",
      "2021-06-26 05:12:33,761 - htmd.protocols.production_v6 - WARNING - Lipids detected in input structure. We highly recommend setting useconstantratio=True for membrane simulations.\n",
      "2021-06-26 05:12:34,772 - jobqueues.slurmqueue - INFO - Queueing /gpcr/users/daranda/doctorat/GPCR_simulations/simulation_output/production/4N4W_apo/rep_1/\n"
     ]
    },
    {
     "name": "stdout",
     "output_type": "stream",
     "text": [
      "submitting replicate 2 of 4N4W\n"
     ]
    },
    {
     "name": "stderr",
     "output_type": "stream",
     "text": [
      "2021-06-26 05:12:50,876 - moleculekit.readers - WARNING - Non-integer values were read from the PDB \"serial\" field. Dropping PDB values and assigning new ones.\n",
      "2021-06-26 05:12:51,029 - moleculekit.readers - WARNING - Reading PDB file with more than 99999 atoms. Bond information can be wrong.\n",
      "2021-06-26 05:13:37,267 - htmd.builder.builder - WARNING - Found cis peptide bond in 1 frames: [0] in the omega diheral \"Angle of (VAL 195 CA P P) (VAL 195 C P P) (PRO 196 N P P) (PRO 196 CA P P) \" with indexes [68, 80, 82, 86]\n",
      "2021-06-26 05:13:37,269 - htmd.builder.builder - WARNING - Found cis peptide bond in 1 frames: [0] in the omega diheral \"Angle of (TYR 262 CA P P) (TYR 262 C P P) (PRO 263 N P P) (PRO 263 CA P P) \" with indexes [1089, 1106, 1108, 1112]\n",
      "2021-06-26 05:13:37,271 - htmd.builder.builder - WARNING - Found cis peptide bond in 1 frames: [0] in the omega diheral \"Angle of (GLU 305 CA P P) (GLU 305 C P P) (PRO 306 N P P) (PRO 306 CA P P) \" with indexes [1758, 1769, 1771, 1775]\n",
      "2021-06-26 05:13:39,010 - htmd.protocols.production_v6 - WARNING - Lipids detected in input structure. We highly recommend setting useconstantratio=True for membrane simulations.\n",
      "2021-06-26 05:13:39,467 - jobqueues.slurmqueue - INFO - Queueing /gpcr/users/daranda/doctorat/GPCR_simulations/simulation_output/production/4N4W_apo/rep_2/\n"
     ]
    },
    {
     "name": "stdout",
     "output_type": "stream",
     "text": [
      "submitting replicate 3 of 4N4W\n"
     ]
    },
    {
     "name": "stderr",
     "output_type": "stream",
     "text": [
      "2021-06-26 05:13:50,765 - moleculekit.readers - WARNING - Non-integer values were read from the PDB \"serial\" field. Dropping PDB values and assigning new ones.\n",
      "2021-06-26 05:13:50,911 - moleculekit.readers - WARNING - Reading PDB file with more than 99999 atoms. Bond information can be wrong.\n",
      "2021-06-26 05:14:35,044 - htmd.builder.builder - WARNING - Found cis peptide bond in 1 frames: [0] in the omega diheral \"Angle of (VAL 195 CA P P) (VAL 195 C P P) (PRO 196 N P P) (PRO 196 CA P P) \" with indexes [68, 80, 82, 86]\n",
      "2021-06-26 05:14:35,045 - htmd.builder.builder - WARNING - Found cis peptide bond in 1 frames: [0] in the omega diheral \"Angle of (TYR 262 CA P P) (TYR 262 C P P) (PRO 263 N P P) (PRO 263 CA P P) \" with indexes [1089, 1106, 1108, 1112]\n",
      "2021-06-26 05:14:35,047 - htmd.builder.builder - WARNING - Found cis peptide bond in 1 frames: [0] in the omega diheral \"Angle of (GLU 305 CA P P) (GLU 305 C P P) (PRO 306 N P P) (PRO 306 CA P P) \" with indexes [1758, 1769, 1771, 1775]\n",
      "2021-06-26 05:14:36,769 - htmd.protocols.production_v6 - WARNING - Lipids detected in input structure. We highly recommend setting useconstantratio=True for membrane simulations.\n",
      "2021-06-26 05:14:37,240 - jobqueues.slurmqueue - INFO - Queueing /gpcr/users/daranda/doctorat/GPCR_simulations/simulation_output/production/4N4W_apo/rep_3/\n"
     ]
    },
    {
     "name": "stdout",
     "output_type": "stream",
     "text": [
      "submitting replicate 1 of 4N4W\n"
     ]
    },
    {
     "name": "stderr",
     "output_type": "stream",
     "text": [
      "2021-06-26 05:14:48,781 - moleculekit.readers - WARNING - Non-integer values were read from the PDB \"serial\" field. Dropping PDB values and assigning new ones.\n",
      "2021-06-26 05:14:48,931 - moleculekit.readers - WARNING - Reading PDB file with more than 99999 atoms. Bond information can be wrong.\n",
      "2021-06-26 05:15:35,264 - htmd.builder.builder - WARNING - Found cis peptide bond in 1 frames: [0] in the omega diheral \"Angle of (VAL 195 CA P P) (VAL 195 C P P) (PRO 196 N P P) (PRO 196 CA P P) \" with indexes [68, 80, 82, 86]\n",
      "2021-06-26 05:15:35,266 - htmd.builder.builder - WARNING - Found cis peptide bond in 1 frames: [0] in the omega diheral \"Angle of (TYR 262 CA P P) (TYR 262 C P P) (PRO 263 N P P) (PRO 263 CA P P) \" with indexes [1089, 1106, 1108, 1112]\n",
      "2021-06-26 05:15:35,268 - htmd.builder.builder - WARNING - Found cis peptide bond in 1 frames: [0] in the omega diheral \"Angle of (GLU 305 CA P P) (GLU 305 C P P) (PRO 306 N P P) (PRO 306 CA P P) \" with indexes [1758, 1769, 1771, 1775]\n",
      "2021-06-26 05:15:36,997 - htmd.protocols.production_v6 - WARNING - Lipids detected in input structure. We highly recommend setting useconstantratio=True for membrane simulations.\n",
      "2021-06-26 05:15:38,376 - jobqueues.slurmqueue - INFO - Queueing /gpcr/users/daranda/doctorat/GPCR_simulations/simulation_output/production/4N4W/rep_1/\n"
     ]
    },
    {
     "name": "stdout",
     "output_type": "stream",
     "text": [
      "submitting replicate 2 of 4N4W\n"
     ]
    },
    {
     "name": "stderr",
     "output_type": "stream",
     "text": [
      "2021-06-26 05:15:50,664 - moleculekit.readers - WARNING - Non-integer values were read from the PDB \"serial\" field. Dropping PDB values and assigning new ones.\n",
      "2021-06-26 05:15:50,808 - moleculekit.readers - WARNING - Reading PDB file with more than 99999 atoms. Bond information can be wrong.\n",
      "2021-06-26 05:16:31,253 - htmd.builder.builder - WARNING - Found cis peptide bond in 1 frames: [0] in the omega diheral \"Angle of (VAL 195 CA P P) (VAL 195 C P P) (PRO 196 N P P) (PRO 196 CA P P) \" with indexes [68, 80, 82, 86]\n",
      "2021-06-26 05:16:31,255 - htmd.builder.builder - WARNING - Found cis peptide bond in 1 frames: [0] in the omega diheral \"Angle of (TYR 262 CA P P) (TYR 262 C P P) (PRO 263 N P P) (PRO 263 CA P P) \" with indexes [1089, 1106, 1108, 1112]\n",
      "2021-06-26 05:16:31,256 - htmd.builder.builder - WARNING - Found cis peptide bond in 1 frames: [0] in the omega diheral \"Angle of (GLU 305 CA P P) (GLU 305 C P P) (PRO 306 N P P) (PRO 306 CA P P) \" with indexes [1758, 1769, 1771, 1775]\n",
      "2021-06-26 05:16:32,953 - htmd.protocols.production_v6 - WARNING - Lipids detected in input structure. We highly recommend setting useconstantratio=True for membrane simulations.\n",
      "2021-06-26 05:16:33,658 - jobqueues.slurmqueue - INFO - Queueing /gpcr/users/daranda/doctorat/GPCR_simulations/simulation_output/production/4N4W/rep_2/\n"
     ]
    },
    {
     "name": "stdout",
     "output_type": "stream",
     "text": [
      "submitting replicate 3 of 4N4W\n"
     ]
    },
    {
     "name": "stderr",
     "output_type": "stream",
     "text": [
      "2021-06-26 05:16:45,971 - moleculekit.readers - WARNING - Non-integer values were read from the PDB \"serial\" field. Dropping PDB values and assigning new ones.\n",
      "2021-06-26 05:16:46,119 - moleculekit.readers - WARNING - Reading PDB file with more than 99999 atoms. Bond information can be wrong.\n",
      "2021-06-26 05:17:30,205 - htmd.builder.builder - WARNING - Found cis peptide bond in 1 frames: [0] in the omega diheral \"Angle of (VAL 195 CA P P) (VAL 195 C P P) (PRO 196 N P P) (PRO 196 CA P P) \" with indexes [68, 80, 82, 86]\n",
      "2021-06-26 05:17:30,207 - htmd.builder.builder - WARNING - Found cis peptide bond in 1 frames: [0] in the omega diheral \"Angle of (TYR 262 CA P P) (TYR 262 C P P) (PRO 263 N P P) (PRO 263 CA P P) \" with indexes [1089, 1106, 1108, 1112]\n",
      "2021-06-26 05:17:30,209 - htmd.builder.builder - WARNING - Found cis peptide bond in 1 frames: [0] in the omega diheral \"Angle of (GLU 305 CA P P) (GLU 305 C P P) (PRO 306 N P P) (PRO 306 CA P P) \" with indexes [1758, 1769, 1771, 1775]\n",
      "2021-06-26 05:17:31,940 - htmd.protocols.production_v6 - WARNING - Lipids detected in input structure. We highly recommend setting useconstantratio=True for membrane simulations.\n",
      "2021-06-26 05:17:32,500 - jobqueues.slurmqueue - INFO - Queueing /gpcr/users/daranda/doctorat/GPCR_simulations/simulation_output/production/4N4W/rep_3/\n"
     ]
    },
    {
     "name": "stdout",
     "output_type": "stream",
     "text": [
      "submitting replicate 1 of 6PS5\n"
     ]
    },
    {
     "name": "stderr",
     "output_type": "stream",
     "text": [
      "2021-06-26 05:18:17,278 - htmd.protocols.production_v6 - WARNING - Lipids detected in input structure. We highly recommend setting useconstantratio=True for membrane simulations.\n",
      "2021-06-26 05:18:18,367 - jobqueues.slurmqueue - INFO - Queueing /gpcr/users/daranda/doctorat/GPCR_simulations/simulation_output/production/6PS5_apo/rep_1/\n"
     ]
    },
    {
     "name": "stdout",
     "output_type": "stream",
     "text": [
      "submitting replicate 2 of 6PS5\n"
     ]
    },
    {
     "name": "stderr",
     "output_type": "stream",
     "text": [
      "2021-06-26 05:19:04,572 - htmd.protocols.production_v6 - WARNING - Lipids detected in input structure. We highly recommend setting useconstantratio=True for membrane simulations.\n",
      "2021-06-26 05:19:05,099 - jobqueues.slurmqueue - INFO - Queueing /gpcr/users/daranda/doctorat/GPCR_simulations/simulation_output/production/6PS5_apo/rep_2/\n"
     ]
    },
    {
     "name": "stdout",
     "output_type": "stream",
     "text": [
      "submitting replicate 3 of 6PS5\n"
     ]
    },
    {
     "name": "stderr",
     "output_type": "stream",
     "text": [
      "2021-06-26 05:19:50,853 - htmd.protocols.production_v6 - WARNING - Lipids detected in input structure. We highly recommend setting useconstantratio=True for membrane simulations.\n",
      "2021-06-26 05:19:51,336 - jobqueues.slurmqueue - INFO - Queueing /gpcr/users/daranda/doctorat/GPCR_simulations/simulation_output/production/6PS5_apo/rep_3/\n"
     ]
    },
    {
     "name": "stdout",
     "output_type": "stream",
     "text": [
      "submitting replicate 1 of 6PS5\n"
     ]
    },
    {
     "name": "stderr",
     "output_type": "stream",
     "text": [
      "2021-06-26 05:20:37,857 - htmd.protocols.production_v6 - WARNING - Lipids detected in input structure. We highly recommend setting useconstantratio=True for membrane simulations.\n",
      "2021-06-26 05:20:39,049 - jobqueues.slurmqueue - INFO - Queueing /gpcr/users/daranda/doctorat/GPCR_simulations/simulation_output/production/6PS5/rep_1/\n"
     ]
    },
    {
     "name": "stdout",
     "output_type": "stream",
     "text": [
      "submitting replicate 2 of 6PS5\n"
     ]
    },
    {
     "name": "stderr",
     "output_type": "stream",
     "text": [
      "2021-06-26 05:21:24,875 - htmd.protocols.production_v6 - WARNING - Lipids detected in input structure. We highly recommend setting useconstantratio=True for membrane simulations.\n",
      "2021-06-26 05:21:25,354 - jobqueues.slurmqueue - INFO - Queueing /gpcr/users/daranda/doctorat/GPCR_simulations/simulation_output/production/6PS5/rep_2/\n"
     ]
    },
    {
     "name": "stdout",
     "output_type": "stream",
     "text": [
      "submitting replicate 3 of 6PS5\n"
     ]
    },
    {
     "name": "stderr",
     "output_type": "stream",
     "text": [
      "2021-06-26 05:22:10,643 - htmd.protocols.production_v6 - WARNING - Lipids detected in input structure. We highly recommend setting useconstantratio=True for membrane simulations.\n",
      "2021-06-26 05:22:11,225 - jobqueues.slurmqueue - INFO - Queueing /gpcr/users/daranda/doctorat/GPCR_simulations/simulation_output/production/6PS5/rep_3/\n"
     ]
    },
    {
     "name": "stdout",
     "output_type": "stream",
     "text": [
      "submitting replicate 1 of 5X93\n"
     ]
    },
    {
     "name": "stderr",
     "output_type": "stream",
     "text": [
      "2021-06-26 05:22:55,055 - htmd.protocols.production_v6 - WARNING - Lipids detected in input structure. We highly recommend setting useconstantratio=True for membrane simulations.\n",
      "2021-06-26 05:22:56,338 - jobqueues.slurmqueue - INFO - Queueing /gpcr/users/daranda/doctorat/GPCR_simulations/simulation_output/production/5X93_apo/rep_1/\n"
     ]
    },
    {
     "name": "stdout",
     "output_type": "stream",
     "text": [
      "submitting replicate 2 of 5X93\n"
     ]
    },
    {
     "name": "stderr",
     "output_type": "stream",
     "text": [
      "2021-06-26 05:23:36,933 - htmd.protocols.production_v6 - WARNING - Lipids detected in input structure. We highly recommend setting useconstantratio=True for membrane simulations.\n",
      "2021-06-26 05:23:37,709 - jobqueues.slurmqueue - INFO - Queueing /gpcr/users/daranda/doctorat/GPCR_simulations/simulation_output/production/5X93_apo/rep_2/\n"
     ]
    },
    {
     "name": "stdout",
     "output_type": "stream",
     "text": [
      "submitting replicate 3 of 5X93\n"
     ]
    },
    {
     "name": "stderr",
     "output_type": "stream",
     "text": [
      "2021-06-26 05:24:19,269 - htmd.protocols.production_v6 - WARNING - Lipids detected in input structure. We highly recommend setting useconstantratio=True for membrane simulations.\n",
      "2021-06-26 05:24:19,810 - jobqueues.slurmqueue - INFO - Queueing /gpcr/users/daranda/doctorat/GPCR_simulations/simulation_output/production/5X93_apo/rep_3/\n"
     ]
    },
    {
     "name": "stdout",
     "output_type": "stream",
     "text": [
      "submitting replicate 1 of 5X93\n"
     ]
    },
    {
     "name": "stderr",
     "output_type": "stream",
     "text": [
      "2021-06-26 05:25:01,813 - htmd.protocols.production_v6 - WARNING - Lipids detected in input structure. We highly recommend setting useconstantratio=True for membrane simulations.\n",
      "2021-06-26 05:25:03,145 - jobqueues.slurmqueue - INFO - Queueing /gpcr/users/daranda/doctorat/GPCR_simulations/simulation_output/production/5X93/rep_1/\n"
     ]
    },
    {
     "name": "stdout",
     "output_type": "stream",
     "text": [
      "submitting replicate 2 of 5X93\n"
     ]
    },
    {
     "name": "stderr",
     "output_type": "stream",
     "text": [
      "2021-06-26 05:25:45,345 - htmd.protocols.production_v6 - WARNING - Lipids detected in input structure. We highly recommend setting useconstantratio=True for membrane simulations.\n",
      "2021-06-26 05:25:46,296 - jobqueues.slurmqueue - INFO - Queueing /gpcr/users/daranda/doctorat/GPCR_simulations/simulation_output/production/5X93/rep_2/\n"
     ]
    },
    {
     "name": "stdout",
     "output_type": "stream",
     "text": [
      "submitting replicate 3 of 5X93\n"
     ]
    },
    {
     "name": "stderr",
     "output_type": "stream",
     "text": [
      "2021-06-26 05:26:27,866 - htmd.protocols.production_v6 - WARNING - Lipids detected in input structure. We highly recommend setting useconstantratio=True for membrane simulations.\n",
      "2021-06-26 05:26:28,325 - jobqueues.slurmqueue - INFO - Queueing /gpcr/users/daranda/doctorat/GPCR_simulations/simulation_output/production/5X93/rep_3/\n"
     ]
    },
    {
     "name": "stdout",
     "output_type": "stream",
     "text": [
      "submitting replicate 1 of 6TQ6\n"
     ]
    },
    {
     "name": "stderr",
     "output_type": "stream",
     "text": [
      "2021-06-26 05:27:10,093 - htmd.builder.builder - WARNING - Found cis peptide bond in 1 frames: [0] in the omega diheral \"Angle of (HSD 75 CA P0 P) (HSD 75 C P0 P) (MET 77 N P0 P) (MET 77 CA P0 P) \" with indexes [539, 552, 554, 556]\n",
      "2021-06-26 05:27:11,522 - htmd.protocols.production_v6 - WARNING - Lipids detected in input structure. We highly recommend setting useconstantratio=True for membrane simulations.\n",
      "2021-06-26 05:27:12,712 - jobqueues.slurmqueue - INFO - Queueing /gpcr/users/daranda/doctorat/GPCR_simulations/simulation_output/production/6TQ6_apo/rep_1/\n"
     ]
    },
    {
     "name": "stdout",
     "output_type": "stream",
     "text": [
      "submitting replicate 2 of 6TQ6\n"
     ]
    },
    {
     "name": "stderr",
     "output_type": "stream",
     "text": [
      "2021-06-26 05:27:52,170 - htmd.builder.builder - WARNING - Found cis peptide bond in 1 frames: [0] in the omega diheral \"Angle of (HSD 75 CA P0 P) (HSD 75 C P0 P) (MET 77 N P0 P) (MET 77 CA P0 P) \" with indexes [539, 552, 554, 556]\n",
      "2021-06-26 05:27:53,607 - htmd.protocols.production_v6 - WARNING - Lipids detected in input structure. We highly recommend setting useconstantratio=True for membrane simulations.\n",
      "2021-06-26 05:27:54,743 - jobqueues.slurmqueue - INFO - Queueing /gpcr/users/daranda/doctorat/GPCR_simulations/simulation_output/production/6TQ6_apo/rep_2/\n"
     ]
    },
    {
     "name": "stdout",
     "output_type": "stream",
     "text": [
      "submitting replicate 3 of 6TQ6\n"
     ]
    },
    {
     "name": "stderr",
     "output_type": "stream",
     "text": [
      "2021-06-26 05:28:32,337 - htmd.builder.builder - WARNING - Found cis peptide bond in 1 frames: [0] in the omega diheral \"Angle of (HSD 75 CA P0 P) (HSD 75 C P0 P) (MET 77 N P0 P) (MET 77 CA P0 P) \" with indexes [539, 552, 554, 556]\n",
      "2021-06-26 05:28:33,761 - htmd.protocols.production_v6 - WARNING - Lipids detected in input structure. We highly recommend setting useconstantratio=True for membrane simulations.\n",
      "2021-06-26 05:28:34,844 - jobqueues.slurmqueue - INFO - Queueing /gpcr/users/daranda/doctorat/GPCR_simulations/simulation_output/production/6TQ6_apo/rep_3/\n"
     ]
    },
    {
     "name": "stdout",
     "output_type": "stream",
     "text": [
      "submitting replicate 1 of 6TQ6\n"
     ]
    },
    {
     "name": "stderr",
     "output_type": "stream",
     "text": [
      "2021-06-26 05:29:15,140 - htmd.protocols.production_v6 - WARNING - Lipids detected in input structure. We highly recommend setting useconstantratio=True for membrane simulations.\n",
      "2021-06-26 05:29:17,722 - jobqueues.slurmqueue - INFO - Queueing /gpcr/users/daranda/doctorat/GPCR_simulations/simulation_output/production/6TQ6/rep_1/\n"
     ]
    },
    {
     "name": "stdout",
     "output_type": "stream",
     "text": [
      "submitting replicate 2 of 6TQ6\n"
     ]
    },
    {
     "name": "stderr",
     "output_type": "stream",
     "text": [
      "2021-06-26 05:29:56,927 - htmd.protocols.production_v6 - WARNING - Lipids detected in input structure. We highly recommend setting useconstantratio=True for membrane simulations.\n",
      "2021-06-26 05:29:57,555 - jobqueues.slurmqueue - INFO - Queueing /gpcr/users/daranda/doctorat/GPCR_simulations/simulation_output/production/6TQ6/rep_2/\n"
     ]
    },
    {
     "name": "stdout",
     "output_type": "stream",
     "text": [
      "submitting replicate 3 of 6TQ6\n"
     ]
    },
    {
     "name": "stderr",
     "output_type": "stream",
     "text": [
      "2021-06-26 05:30:41,664 - htmd.protocols.production_v6 - WARNING - Lipids detected in input structure. We highly recommend setting useconstantratio=True for membrane simulations.\n",
      "2021-06-26 05:30:42,279 - jobqueues.slurmqueue - INFO - Queueing /gpcr/users/daranda/doctorat/GPCR_simulations/simulation_output/production/6TQ6/rep_3/\n"
     ]
    },
    {
     "name": "stdout",
     "output_type": "stream",
     "text": [
      "submitting replicate 1 of 5K2A\n"
     ]
    },
    {
     "name": "stderr",
     "output_type": "stream",
     "text": [
      "2021-06-26 05:31:22,393 - htmd.builder.builder - WARNING - Found cis peptide bond in 1 frames: [0] in the omega diheral \"Angle of (LEU 216 CA P P) (LEU 216 C P P) (PRO 217 N P P) (PRO 217 CA P P) \" with indexes [3337, 3352, 3354, 3358]\n",
      "2021-06-26 05:31:23,902 - htmd.protocols.production_v6 - WARNING - Lipids detected in input structure. We highly recommend setting useconstantratio=True for membrane simulations.\n",
      "2021-06-26 05:31:25,120 - jobqueues.slurmqueue - INFO - Queueing /gpcr/users/daranda/doctorat/GPCR_simulations/simulation_output/production/5K2A_apo/rep_1/\n"
     ]
    },
    {
     "name": "stdout",
     "output_type": "stream",
     "text": [
      "submitting replicate 2 of 5K2A\n"
     ]
    },
    {
     "name": "stderr",
     "output_type": "stream",
     "text": [
      "2021-06-26 05:32:04,336 - htmd.builder.builder - WARNING - Found cis peptide bond in 1 frames: [0] in the omega diheral \"Angle of (LEU 216 CA P P) (LEU 216 C P P) (PRO 217 N P P) (PRO 217 CA P P) \" with indexes [3337, 3352, 3354, 3358]\n",
      "2021-06-26 05:32:05,847 - htmd.protocols.production_v6 - WARNING - Lipids detected in input structure. We highly recommend setting useconstantratio=True for membrane simulations.\n",
      "2021-06-26 05:32:06,348 - jobqueues.slurmqueue - INFO - Queueing /gpcr/users/daranda/doctorat/GPCR_simulations/simulation_output/production/5K2A_apo/rep_2/\n"
     ]
    },
    {
     "name": "stdout",
     "output_type": "stream",
     "text": [
      "submitting replicate 3 of 5K2A\n"
     ]
    },
    {
     "name": "stderr",
     "output_type": "stream",
     "text": [
      "2021-06-26 05:32:46,006 - htmd.builder.builder - WARNING - Found cis peptide bond in 1 frames: [0] in the omega diheral \"Angle of (LEU 216 CA P P) (LEU 216 C P P) (PRO 217 N P P) (PRO 217 CA P P) \" with indexes [3337, 3352, 3354, 3358]\n",
      "2021-06-26 05:32:47,513 - htmd.protocols.production_v6 - WARNING - Lipids detected in input structure. We highly recommend setting useconstantratio=True for membrane simulations.\n",
      "2021-06-26 05:32:48,067 - jobqueues.slurmqueue - INFO - Queueing /gpcr/users/daranda/doctorat/GPCR_simulations/simulation_output/production/5K2A_apo/rep_3/\n"
     ]
    },
    {
     "name": "stdout",
     "output_type": "stream",
     "text": [
      "submitting replicate 1 of 5K2A\n"
     ]
    },
    {
     "name": "stderr",
     "output_type": "stream",
     "text": [
      "2021-06-26 05:33:27,492 - htmd.builder.builder - WARNING - Found cis peptide bond in 1 frames: [0] in the omega diheral \"Angle of (LEU 216 CA P P) (LEU 216 C P P) (PRO 217 N P P) (PRO 217 CA P P) \" with indexes [3600, 3615, 3617, 3621]\n",
      "2021-06-26 05:33:28,998 - htmd.protocols.production_v6 - WARNING - Lipids detected in input structure. We highly recommend setting useconstantratio=True for membrane simulations.\n",
      "2021-06-26 05:33:30,300 - jobqueues.slurmqueue - INFO - Queueing /gpcr/users/daranda/doctorat/GPCR_simulations/simulation_output/production/5K2A/rep_1/\n"
     ]
    },
    {
     "name": "stdout",
     "output_type": "stream",
     "text": [
      "submitting replicate 2 of 5K2A\n"
     ]
    },
    {
     "name": "stderr",
     "output_type": "stream",
     "text": [
      "2021-06-26 05:34:10,084 - htmd.builder.builder - WARNING - Found cis peptide bond in 1 frames: [0] in the omega diheral \"Angle of (LEU 216 CA P P) (LEU 216 C P P) (PRO 217 N P P) (PRO 217 CA P P) \" with indexes [3600, 3615, 3617, 3621]\n",
      "2021-06-26 05:34:11,597 - htmd.protocols.production_v6 - WARNING - Lipids detected in input structure. We highly recommend setting useconstantratio=True for membrane simulations.\n",
      "2021-06-26 05:34:12,157 - jobqueues.slurmqueue - INFO - Queueing /gpcr/users/daranda/doctorat/GPCR_simulations/simulation_output/production/5K2A/rep_2/\n"
     ]
    },
    {
     "name": "stdout",
     "output_type": "stream",
     "text": [
      "submitting replicate 3 of 5K2A\n"
     ]
    },
    {
     "name": "stderr",
     "output_type": "stream",
     "text": [
      "2021-06-26 05:34:49,927 - htmd.builder.builder - WARNING - Found cis peptide bond in 1 frames: [0] in the omega diheral \"Angle of (LEU 216 CA P P) (LEU 216 C P P) (PRO 217 N P P) (PRO 217 CA P P) \" with indexes [3600, 3615, 3617, 3621]\n",
      "2021-06-26 05:34:51,309 - htmd.protocols.production_v6 - WARNING - Lipids detected in input structure. We highly recommend setting useconstantratio=True for membrane simulations.\n",
      "2021-06-26 05:34:52,097 - jobqueues.slurmqueue - INFO - Queueing /gpcr/users/daranda/doctorat/GPCR_simulations/simulation_output/production/5K2A/rep_3/\n"
     ]
    }
   ],
   "source": [
    "#####################\n",
    "## Part 4: Production\n",
    "#####################\n",
    "\n",
    "# Production protocol\n",
    "md = define_production(timestep, trajperiod)\n",
    "\n",
    "# If some model should be skipped, put its name here\n",
    "modelname_skip = {}\n",
    "\n",
    "# For each PDB \n",
    "# for pdbcode in ['6KNM']:\n",
    "for pdbcode in pdb_set:\n",
    "#     for apo in [False]:\n",
    "    for apo in [True, False]:\n",
    "        # must match with equildir in equilibration launcher code and contain input and output of equilibration.\n",
    "        modelname = pdbcode+'_apo' if apo else pdbcode\n",
    "        equildir = '%s/equil/%s/' % (resultspath, modelname)\n",
    "        if not os.path.exists(equildir):\n",
    "            print(\"structure %s has not been yet equillibrated. Skipping...\")\n",
    "            continue\n",
    "        for rep in range(1,repnum+1):\n",
    "            \n",
    "            try: \n",
    "                # If simulation for this PDB has already been run\n",
    "                proddir='%sproduction/%s/rep_%d/' % (resultspath, modelname, rep)\n",
    "                if os.path.exists(proddir+'/output.xtc') or os.path.exists(proddir+'simrunning'):\n",
    "                    print(\"replicate %d of structure %s already has been simulated\" %(rep, pdbcode))\n",
    "                    continue\n",
    "\n",
    "                print('submitting replicate %d of %s' % (rep, pdbcode))\n",
    "                # directory copy output of equilibration to production input (initial working directory for run_prod.sh).\n",
    "                md.write(equildir,proddir)\n",
    "\n",
    "                sq = SlurmQueue()\n",
    "                sq.envvars = acemd_license\n",
    "                sq.jobname = modelname+'_pr'+str(rep)\n",
    "                sq.datadir = None\n",
    "                sq.partition = 'gpcr_gpu'\n",
    "                sq.prerun = job_commands(proddir, '/home/daranda/%s_pr_%d/'%(modelname,rep))\n",
    "                sq.ngpu = 1\n",
    "                sq.ncpu = 2\n",
    "                sq.exclude = ['aragorn','bifur']\n",
    "\n",
    "                #Substitute run.sh generated by HTMD by a different one, adapted to the specified path of ACEMD\n",
    "                with open(proddir + 'run.sh', 'w') as f:\n",
    "                    f.write('#!/bin/bash\\n%s >%slog.txt 2>&1' % (acemd_path,proddir))\n",
    "\n",
    "                sq.submit(proddir)\n",
    "                \n",
    "            except Exception as e:\n",
    "                print(\"model \"+modelname+\" could not be send to equilibrate because of \",e)            \n"
   ]
  },
  {
   "cell_type": "code",
   "execution_count": null,
   "metadata": {},
   "outputs": [],
   "source": [
    "# WARNING!!!: run me to KILL simulations that are still running\n",
    "for modelname_rep in sqs_p:\n",
    "    sqs_p[modelname_rep].stop()"
   ]
  },
  {
   "cell_type": "code",
   "execution_count": 13,
   "metadata": {},
   "outputs": [],
   "source": [
    "# reset tracking for all\n",
    "sqs_p = {}"
   ]
  },
  {
   "cell_type": "code",
   "execution_count": 12,
   "metadata": {},
   "outputs": [
    {
     "name": "stdout",
     "output_type": "stream",
     "text": [
      "wrapping replicate 1 of 6MEO\n",
      "replicate already wrapped. Skipping...\n",
      "wrapping replicate 2 of 6MEO\n",
      "replicate already wrapped. Skipping...\n",
      "wrapping replicate 3 of 6MEO\n",
      "replicate already wrapped. Skipping...\n",
      "wrapping replicate 1 of 5TE5\n",
      "replicate already wrapped. Skipping...\n",
      "wrapping replicate 2 of 5TE5\n",
      "replicate already wrapped. Skipping...\n",
      "wrapping replicate 3 of 5TE5\n",
      "replicate already wrapped. Skipping...\n",
      "wrapping replicate 1 of 5WIU\n",
      "replicate already wrapped. Skipping...\n",
      "wrapping replicate 2 of 5WIU\n",
      "replicate already wrapped. Skipping...\n",
      "wrapping replicate 3 of 5WIU\n",
      "replicate already wrapped. Skipping...\n",
      "wrapping replicate 1 of 6LRY\n"
     ]
    },
    {
     "name": "stderr",
     "output_type": "stream",
     "text": [
      "/home/david/miniconda3/lib/python3.6/site-packages/moleculekit/align.py:16: NumbaPerformanceWarning: np.dot() is faster on contiguous arrays, called on (array(float32, 2d, A), array(float32, 2d, A))\n",
      "  covariance = np.dot(P.T, Q)\n",
      "/home/david/miniconda3/lib/python3.6/site-packages/moleculekit/align.py:54: NumbaPerformanceWarning: np.dot() is faster on contiguous arrays, called on (array(float32, 2d, C), array(float32, 2d, A))\n",
      "  all1 = np.dot(all1, rot.T)\n"
     ]
    },
    {
     "name": "stdout",
     "output_type": "stream",
     "text": [
      "End of 6LRY after 8.202301025390625 seconds\n",
      "\n",
      "wrapping replicate 2 of 6LRY\n",
      "End of 6LRY after 4.026684045791626 seconds\n",
      "\n",
      "wrapping replicate 3 of 6LRY\n",
      "End of 6LRY after 3.4290406703948975 seconds\n",
      "\n",
      "wrapping replicate 1 of 4EJ4\n",
      "replicate already wrapped. Skipping...\n",
      "wrapping replicate 2 of 4EJ4\n",
      "replicate already wrapped. Skipping...\n",
      "wrapping replicate 3 of 4EJ4\n",
      "replicate already wrapped. Skipping...\n"
     ]
    }
   ],
   "source": [
    "##########################\n",
    "## Part 5: Wrap Structures\n",
    "##########################\n",
    "\n",
    "# Wrap trajectories obtained during production with an htmd command\n",
    "gpcr_sel = \"protein and chain \"+new_pdb_chain\n",
    "#for pdbcode in pdb_set:\n",
    "#for pdbcode in ['5WIU']:\n",
    "for pdbcode in testset:\n",
    "    for apo in [False]:\n",
    "    #for apo in [True, False]:\n",
    "        modelname = pdbcode+'_apo' if apo else pdbcode\n",
    "        mymol_pdb = Molecule('%sproduction/%s/rep_1/structure.pdb' % (resultspath, modelname))\n",
    "        for rep in range(1,repnum+1):\n",
    "        #for rep in [3]:\n",
    "            start_time = time.time()        \n",
    "            print('wrapping replicate %d of %s' % (rep, modelname))\n",
    "            proddir='%sproduction/%s/rep_%d/' % (resultspath, modelname, rep)\n",
    "            rep = str(rep)\n",
    "\n",
    "            # To avoid repeating wrapping in Trajectories already wrapped, check the existance of this file\n",
    "            outname = proddir+'output_wrapped.xtc'\n",
    "            if os.path.exists(outname):\n",
    "                print('replicate already wrapped. Skipping...')\n",
    "                continue\n",
    "            \n",
    "            # Wrap system\n",
    "            mymol = Molecule('%sproduction/%s/rep_1/structure.psf' % (resultspath, modelname))\n",
    "            mymol.read(proddir+'output.xtc')\n",
    "            mymol.wrap(gpcr_sel)\n",
    "\n",
    "            # Align frames and write\n",
    "            mymol.align('all', refmol=mymol_pdb)\n",
    "            mymol.write(outname)\n",
    "\n",
    "            print('End of %s after %s seconds\\n' % (pdbcode, time.time() - start_time))\n"
   ]
  },
  {
   "cell_type": "code",
   "execution_count": 34,
   "metadata": {},
   "outputs": [],
   "source": [
    "###################################\n",
    "## Part 5: Upload results to GPCRmd\n",
    "###################################\n",
    "\n",
    "#### Functions\n",
    "\n",
    "mainurl = 'http://localhost:8000' \n",
    "#mainurl = 'https://submission.gpcrmd.org'\n",
    "\n",
    "def resp_to_dict(resp):\n",
    "    # Convert a json reponse into a dictionary\n",
    "    return eval(resp.content.decode('UTF-8').replace('true', 'True').replace('false','False'))\n",
    "\n",
    "def check_chains(pdbcode, mymol):\n",
    "    \"\"\"\n",
    "    Check how many chains from the original PDB structure remain in mymol structure\n",
    "    And to which Segments of our structure they correspond\n",
    "    \"\"\"\n",
    "    # Load blosum score matrix to align proteins\n",
    "    blosum62 = substitution_matrices.load(\"BLOSUM62\")\n",
    "\n",
    "    # Obtain sequences for original PDB file chains, and classifying them by chainID\n",
    "    # Also check which segment corresponds to what chain\n",
    "    pdbmol = Molecule(pdbcode)\n",
    "    chainseg = {}\n",
    "    chainset = set(pdbmol.get('chain', sel='protein'))\n",
    "    pdbmol_segseqs = pdbmol.sequence()\n",
    "    pdbmol_chainseqs = {}\n",
    "    for chain in chainset:\n",
    "        segid = np.unique(pdbmol.get('segid', sel='chain '+chain))[0]\n",
    "        pdbmol_chainseqs[chain] = pdbmol_segseqs[segid]\n",
    "\n",
    "    # Merging all protein chains in our systems into a single megachain\n",
    "    mymol_megachain = ''\n",
    "    for seg,chain in mymol.sequence().items():\n",
    "        mymol_megachain = mymol_megachain + chain\n",
    "\n",
    "    # Aligning sequences from original PDB to simulated PDB megasequence\n",
    "    # To know which chains from the original PDB are preserved\n",
    "    chain_present = {}\n",
    "    segtochain = {}\n",
    "    # For each chain in the original PDB file\n",
    "    for chain,seq in pdbmol_chainseqs.items():\n",
    "        chain_present[chain] = False\n",
    "        # For each segment in our molecule\n",
    "        for seg,myseq in mymol.sequence().items():\n",
    "            mylen = len(myseq)\n",
    "            # Align our molecule segments to the pdb chains\n",
    "            aligs = pairwise2.align.localms(seq, myseq, 5,-1, -1.5, -1)\n",
    "            # Check if any of the alignments has more than 4 score by position\n",
    "            is_present = any([ (alig.score/mylen) > 4 for alig in aligs ]) \n",
    "            if is_present:\n",
    "                chain_present[chain] = is_present\n",
    "                segtochain[seg] = chain\n",
    "\n",
    "    return (chain_present, segtochain)\n",
    "\n",
    "def get_pdb_info(pdbcode, mymol, ligandsdict):\n",
    "    \"\"\"\n",
    "    Get informarion of the system specified in the pdbcode from the RCSB-PDB webpage.\n",
    "    Mainly uniprot sequences, chainIDs and uniprot codes for the chains\n",
    "    \"\"\"\n",
    "    \n",
    "    # Make string for selecting lignads in rcsb's api\n",
    "    ligs = '\"'+'\",\"'.join(ligandsdict[pdbcode].keys())+'\"'\n",
    "    \n",
    "    #Check which chains from the original PDB structure are preserved in mymol structure\n",
    "    (chain_present, segtochain) = check_chains(pdbcode, mymol)\n",
    "    \n",
    "    # Get ligand molecules present in our system (basically anything that is not a protein)\n",
    "    ligset = set(mymol.get('resname', sel='not protein'))\n",
    "    \n",
    "    # Extract information from pdb webpage using api\n",
    "    ligdict = dict()\n",
    "    protdict = dict()\n",
    "    datadict = dict()\n",
    "    \n",
    "    # Get information from PDB api\n",
    "    pdbdict = requests.get('https://data.rcsb.org/graphql?query={\\\n",
    "        entry(entry_id: \"'+pdbcode+'\") {\\\n",
    "            exptl {method}\\\n",
    "            polymer_entities {\\\n",
    "                entity_poly{pdbx_strand_id}\\\n",
    "                rcsb_polymer_entity{pdbx_description}\\\n",
    "                rcsb_polymer_entity_container_identifiers{uniprot_ids}\\\n",
    "            }\\\n",
    "        }\\\n",
    "        chem_comps(comp_ids: ['+ligs+']) {\\\n",
    "            rcsb_chem_comp_descriptor {InChIKey}\\\n",
    "            chem_comp{id,name}\\\n",
    "        }\\\n",
    "    }').json()['data']\n",
    "    \n",
    "    # Get ligand information and classify it (in case the system actually has ligands)\n",
    "    if len(pdbdict['chem_comps'])>0:\n",
    "        for lig in pdbdict['chem_comps']:\n",
    "            ligandInchi = lig['rcsb_chem_comp_descriptor']['InChIKey']\n",
    "            ligandResname = lig['chem_comp']['id']\n",
    "            ligandName = lig['chem_comp']['name']\n",
    "    \n",
    "        # Exclude ligands not present in our simulated system\n",
    "        if ligandResname in ligset:\n",
    "            ligdict[ligandResname] = (ligandName,ligandInchi)\n",
    "\n",
    "    # Extract protein chains information\n",
    "    for poly in pdbdict['entry']['polymer_entities']:\n",
    "        uniprot = poly['rcsb_polymer_entity_container_identifiers']['uniprot_ids'][0]\n",
    "        uniname = poly['rcsb_polymer_entity']['pdbx_description'].lower()\n",
    "        chainId = poly['entity_poly']['pdbx_strand_id'].split(',')[0]\n",
    "\n",
    "        # Determine if this polymer (chain) is a GPCR\n",
    "        isgpcr = True if (('receptor' in uniname) or ('rhodopsin' in uniname)) else False\n",
    "\n",
    "        # If this chain is present in our mymol structure\n",
    "        if chain_present[chainId]:\n",
    "                \n",
    "            # Get which segment(s) this chain is assigned to \n",
    "            segs = [ seg for seg,chain in segtochain.items() if chain == chainId ]\n",
    "            protdict[chainId] = (uniprot, isgpcr, segs)\n",
    "\n",
    "    # Determine experimental method used, and use the corresponding id in GPCRmd database\n",
    "    method = pdbdict['entry']['exptl'][0]['method'].lower()\n",
    "    if 'x-ray' in method: \n",
    "        method_id = 0\n",
    "    elif 'nmr' in method:\n",
    "        method_id = 1\n",
    "    elif 'electron microscopy' == method:\n",
    "        method_id = 4\n",
    "    else:\n",
    "        method_id = 5 # Other method\n",
    "            \n",
    "    return (protdict,ligdict,segtochain,method_id)\n",
    "\n",
    "\n",
    "def login(s):\n",
    "    headers = {\n",
    "        'Cookie': 'csrftoken=cuGA6CSGmXfMbLwqlPoGjLLN7QkO6rZ7',\n",
    "        'Referer': mainurl+'/accounts/login/',\n",
    "    }\n",
    "    datalogin = {\n",
    "        'username': 'david',\n",
    "        'password': 'Ameboid',\n",
    "        'next' : '/accounts/memberpage/',\n",
    "        'csrfmiddlewaretoken' : 'cuGA6CSGmXfMbLwqlPoGjLLN7QkO6rZ7'\n",
    "    }\n",
    "    logo = s.post(mainurl+'/accounts/login/', \n",
    "               data=datalogin,\n",
    "               headers=headers)\n",
    "    return s\n",
    "    \n",
    "def submission_step1(subm_id,s,protdict,mymol):\n",
    "    \"\"\"\n",
    "    Do step 1 of GPCRmd submission protocol\n",
    "    That is, submit information about the protein chains contained in the system\n",
    "    \"\"\"\n",
    "    \n",
    "    sessionid = str(s.cookies['sessionid'])\n",
    "    csrftoken = str(s.cookies['csrftoken'])\n",
    "\n",
    "    headers = {\n",
    "        'Referer' : mainurl+'/dynadb/protein/'+subm_id+'/',\n",
    "        'Cookie' : 'csrftoken=%s; sessionid=%s' %(csrftoken,sessionid),\n",
    "        'X-CSRFToken' : csrftoken\n",
    "    }\n",
    "    print('initiating step 1: protein data')\n",
    "    i = 0\n",
    "    protdict_2 = dict()\n",
    "    step1_data = {'csrfmiddlewaretoken': csrftoken}\n",
    "    rec_name = None\n",
    "    # For each chain in this system (using the chainids of the original PDB)\n",
    "    for chainid,(uniprot,isgpcr,seglist) in protdict.items():\n",
    "        h = str(i)\n",
    "        \n",
    "        # Retrieve uniprot data\n",
    "        data = {'uniprotkbac': uniprot}\n",
    "        resp = s.post(mainurl+'/dynadb/protein/get_data_upkb/',\n",
    "              data = data,\n",
    "              headers = headers)\n",
    "        unidict = resp_to_dict(resp)\n",
    "        \n",
    "        # Align wild type chain and the chan of our molecule\n",
    "        myseq = ''\n",
    "        for seg in seglist:\n",
    "            myseq += mymol.sequence()[seg]\n",
    "        wtseq = unidict['Sequence']\n",
    "        resp = s.post(mainurl+'/dynadb/protein/'+subm_id+'/alignment/',\n",
    "                      data = {'wtseq' : wtseq, 'mutant': myseq},\n",
    "                      headers = headers\n",
    "        )\n",
    "        alignment = resp_to_dict(resp)['alignment']\n",
    "\n",
    "        # Get mutations from alignment\n",
    "        resp = s.post(mainurl+'/dynadb/protein/get_mutations/',\n",
    "                      data = {'alignment' : alignment, 'sequence': wtseq},\n",
    "                      headers = headers\n",
    "        )\n",
    "        mutations = resp_to_dict(resp)['mutations']\n",
    "        # Filter mutations (to avoid taking as mutations the cut of the N and C terminal loops)\n",
    "        realmutations = [ mut for mut in mutations if (mut['from'] != '-') and (mut['to'] != '-') ]\n",
    "\n",
    "        # Store mutations into post data\n",
    "        if len(realmutations):\n",
    "            print('oh yes')\n",
    "            step1_data['form-'+h+'-msequence'] = myseq\n",
    "            step1_data['form-'+h+'-is_mutated'] = 0\n",
    "            step1_data['form-'+h+'-alignment'] = alignment\n",
    "            u = 0\n",
    "            for mut in realmutations:\n",
    "                v = str(u)\n",
    "                step1_data['form-'+h+'-resid-'+v] = mut['resid']\n",
    "                step1_data['form-'+h+'-resletter_from-'+v] = mut['from']\n",
    "                step1_data['form-'+h+'-resletter_to-'+v] = mut['to']\n",
    "        \n",
    "        # Store retrieved data into post data dictionary\n",
    "        step1_data['form-'+h+'-sequence'] = wtseq\n",
    "        step1_data['form-'+h+'-uniprotkbac'] = unidict['Entry']\n",
    "        step1_data['form-'+h+'-isoform'] = unidict['Isoform']\n",
    "        step1_data['form-'+h+'-name'] = unidict['Name']\n",
    "        step1_data['form-'+h+'-id_species_autocomplete'] = unidict['Organism']\n",
    "        step1_data['form-'+h+'-other_names'] = unidict['Aliases']\n",
    "        step1_data['form-'+h+'-sequence'] = unidict['Sequence']\n",
    "        if isgpcr:\n",
    "            rec_name = unidict['Name']\n",
    "            print(rec_name+' identified as GPCR')\n",
    "            step1_data['form-'+h+'-receptor'] = 0\n",
    "        else:\n",
    "            step1_data['form-'+h+'-receptor'] = 1\n",
    "        i+=1\n",
    "\n",
    "        # Sent step 1 data\n",
    "        step1_response = s.post(mainurl+'/dynadb/protein/'+subm_id+'/',\n",
    "                         data = step1_data,\n",
    "                         headers = headers)\n",
    "        \n",
    "        # Put uniprot code in list\n",
    "        protdict_2[chainid] = {'uniprot': unidict['Entry'],\n",
    "                                 'position' : i,\n",
    "                                 'name' : unidict['Name']\n",
    "                                }\n",
    "        \n",
    "    # We'll need to remember the order in which the system's chains have been submited\n",
    "    # Also the name of the receptor for step3\n",
    "    return (protdict_2, rec_name)\n",
    "\n",
    "def smol_submission(s, i, subm_id, sdfpath, smol, smol_key, smol_dict, mol):\n",
    "    \n",
    "    # Prepare headers, data and files\n",
    "    h = str(i)\n",
    "    sessionid = str(s.cookies['sessionid'])\n",
    "    csrftoken = str(s.cookies['csrftoken'])\n",
    "    print('submitting small molecule '+smol)\n",
    "    data = {\n",
    "        'csrfmiddlewaretoken': csrftoken,\n",
    "        'molpostkey': 'form-'+h+'-molsdf',\n",
    "    }\n",
    "    headers = {\n",
    "        'Referer' : mainurl+'/dynadb/molecule/'+subm_id+'/',\n",
    "        'Cookie' : 'csrftoken=%s; sessionid=%s' %(csrftoken,sessionid),\n",
    "        'Origin': 'http://localhost:8000',\n",
    "        'X-CSRFToken' : csrftoken\n",
    "    }\n",
    "    files = { 'form-'+h+'-molsdf' : open(sdfpath, 'r') }\n",
    "\n",
    "    # UPLOAD sdf\n",
    "    data_upload = {\n",
    "        'csrfmiddlewaretoken': csrftoken,\n",
    "        'form-'+h+'-is_present': 'on',\n",
    "        'form-'+h+'-description': 'Standard form',\n",
    "        'form-'+h+'-search_by_pubchem': 'sinchi',\n",
    "        'form-'+h+'-retrieve_type_pubchem': 'parent',\n",
    "        'form-'+h+'-neutralize_pubchem': '1',\n",
    "        'form-'+h+'-search_by_chembl': 'smiles',\n",
    "        'form-'+h+'-similarity': '100',\n",
    "        'form-'+h+'-retrieve_type_chembl': 'parent',\n",
    "        'form-'+h+'-neutralize_chembl': '1',\n",
    "        'molpostkey': 'form-'+h+'-molsdf',\n",
    "        'pngsize': '300'\n",
    "    }\n",
    "    resp = s.post(mainurl+'/dynadb/molecule/'+subm_id+'/generate_properties/',\n",
    "                 headers = headers,\n",
    "                 files = files,\n",
    "                 data = data_upload)\n",
    "    \n",
    "    # Get pubchem info of compound\n",
    "    resp = requests.get('https://pubchem.ncbi.nlm.nih.gov/rest/pug/compound/inchikey/'+smol_key+'/property/CanonicalSMILES,Charge,InChI,IUPACName,/JSON')\n",
    "    pub_dict = eval(resp.content.decode('UTF-8').replace('null', 'None'))['PropertyTable']['Properties'][0]\n",
    "\n",
    "    # Get names of compound\n",
    "    resp = requests.get('https://pubchem.ncbi.nlm.nih.gov/rest/pug/compound/inchikey/'+smol_key+'/synonyms/TXT')\n",
    "    synonyms = resp.text.replace(\"\\n\", '; ')\n",
    "\n",
    "    # Get official name of compound\n",
    "    resp = requests.get('https://pubchem.ncbi.nlm.nih.gov/compound/'+str(pub_dict['CID']))\n",
    "    soup = BeautifulSoup(resp.text,'html')\n",
    "    smol_name = soup.find('meta',attrs={'property' : 'og:title'}).get('content')\n",
    "    \n",
    "    # Get chemblid\n",
    "    try:\n",
    "        resp = requests.get('https://www.ebi.ac.uk/chembl/api/data/molecule/'+smol_key)\n",
    "        tree = ET.fromstring(resp.text)\n",
    "        chemblid = tree.find('molecule_chembl_id').text.replace('CHEMBL','')\n",
    "    except Exception as e:\n",
    "        print(\"Chemblid not avalible for molecule \"+smol_name)\n",
    "        chemblid = \"\"\n",
    "    \n",
    "    # Use obtained data to submit small molecule\n",
    "    submit_data = {\n",
    "        'csrfmiddlewaretoken': csrftoken,\n",
    "        'form-'+h+'-molsdf': '',\n",
    "        'form-'+h+'-upload_button': '', \n",
    "        'form-'+h+'-is_present': 'on',\n",
    "        'form-'+h+'-inchi': pub_dict['InChI'],\n",
    "        'form-'+h+'-sinchikey': smol_key,\n",
    "        'form-'+h+'-net_charge': str(pub_dict['Charge']),\n",
    "        'form-'+h+'-inchikey': smol_key,\n",
    "        'form-'+h+'-smiles': pub_dict['CanonicalSMILES'],\n",
    "        'form-'+h+'-description': '', \n",
    "        'form-'+h+'-get_mol_info': '',\n",
    "        'form-'+h+'-is_not_in_databases': 'on',\n",
    "        'form-'+h+'-search_by_pubchem': 'sinchi',\n",
    "        'form-'+h+'-retrieve_type_pubchem': 'original',\n",
    "        'form-'+h+'-neutralize_pubchem': '1',\n",
    "        'form-'+h+'-search_by_chembl': 'smiles',\n",
    "        'form-'+h+'-similarity': '100',\n",
    "        'form-'+h+'-retrieve_type_chembl': 'original',\n",
    "        'form-'+h+'-neutralize_chembl': '1',\n",
    "        'form-'+h+'-name': smol_name,\n",
    "        'form-'+h+'-iupac_name': pub_dict['IUPACName'],\n",
    "        'form-'+h+'-pubchem_cid': str(pub_dict['CID']),\n",
    "        'form-'+h+'-update_from_pubchem': '', \n",
    "        'form-'+h+'-chemblid': chemblid,\n",
    "        'form-'+h+'-update_from_chembl': '',\n",
    "        'form-'+h+'-other_names': synonyms,\n",
    "        'form-'+h+'-passMoleculePOST': 'passMoleculePOST',\n",
    "        'form-'+h+'-add_molecule': '+ Add molecule',\n",
    "        'form-'+h+'-del_molecule': '- Remove molecule',\n",
    "        'form-'+h+'-reset': '',\n",
    "    }\n",
    "\n",
    "    # Dictionary of crystalized components (useful in the future)\n",
    "    smol_dict[smol] = {\n",
    "                      'name' : smol_name,\n",
    "                      'num_mol' : len(np.unique(mol.get('resid', sel='resname '+smol))),\n",
    "                      'order_mol' : str(i+1)\n",
    "    }  \n",
    "\n",
    "    # Add bulk or co-crystalized properties\n",
    "    ligname = None\n",
    "    if smol == 'TIP3':\n",
    "        submit_data['form-'+h+'-bulk_type'] = '0'\n",
    "        submit_data['form-'+h+'-type'] = '6'\n",
    "        smol_dict[smol]['crystalized'] = 0\n",
    "        smol_dict[smol]['type'] = 'Water'\n",
    "    elif smol == 'POPC':\n",
    "        submit_data['form-'+h+'-bulk_type'] = '0'\n",
    "        submit_data['form-'+h+'-type'] = '7'\n",
    "        smol_dict[smol]['crystalized'] = 0\n",
    "        smol_dict[smol]['type'] = 'Lipid'\n",
    "    elif (smol == 'CLA') or (smol == 'SOD'):\n",
    "        submit_data['form-'+h+'-bulk_type'] = '0'\n",
    "        submit_data['form-'+h+'-type'] = '8'\n",
    "        smol_dict[smol]['crystalized'] = 0\n",
    "        smol_dict[smol]['type'] = 'Ions'        \n",
    "    else:#Else make it co-cristalized orthosteric ligand. TODO: recognize orthosteric ligand\n",
    "        submit_data['form-'+h+'-type'] = '0'\n",
    "        smol_dict[smol]['crystalized'] = 1\n",
    "        smol_dict[smol]['type'] = 'Ligand'\n",
    "        ligname = smol_name\n",
    "        \n",
    "    #Send small molecule\n",
    "    resp = s.post(mainurl+'/dynadb/molecule/'+subm_id+'/',\n",
    "                  data = submit_data,\n",
    "                  headers = headers)\n",
    "    \n",
    "    # Return smol_dict with a new entry, new molecule marker (i) and the small molecule name if it is the ligand\n",
    "    i += 1\n",
    "    if ligname:\n",
    "        return (i, smol_dict, smol_name)\n",
    "    else:\n",
    "        return (i, smol_dict)\n",
    "\n",
    "def submission_step3(s, subm_id, pdbpath, recname, lignames, protdict, smol_dict, segtochain, method_id):\n",
    "    \"\"\"\n",
    "    Perform step3 of GPCRmd submission for specified system\n",
    "    \"\"\"\n",
    "    \n",
    "    # Data needed for the submission\n",
    "    sessionid = str(s.cookies['sessionid'])\n",
    "    csrftoken = str(s.cookies['csrftoken'])\n",
    "    headers = {\n",
    "        'Referer' : mainurl+'/dynadb/model/'+subm_id+'/',\n",
    "        'Cookie' : 'csrftoken=%s; sessionid=%s' %(csrftoken,sessionid)\n",
    "    }\n",
    "    data_submit = {\n",
    "        'csrfmiddlewaretoken' : csrftoken,\n",
    "        'prtnam' : [],\n",
    "        'prtnum' : [],\n",
    "        'uniprot' : []\n",
    "    }\n",
    "    print('initiating step 3: crystalized components')\n",
    "\n",
    "    # Determine name of the complex\n",
    "    ligname = ','.join(lignames)\n",
    "    sysname = recname + ' in complex with ' +ligname if ligname else recname\n",
    "    print('sysname: ', sysname)\n",
    "    #Cut excessively large names\n",
    "    if len(sysname) > 100:\n",
    "        sysname = sysname[0:99]\n",
    "    \n",
    "    # Part A: General information\n",
    "    data_submit['name'] = sysname\n",
    "    data_submit['type'] = 1 # TODO: check which number corresponds to apoform and which to complex\n",
    "    data_submit['pdbid'] = pdbcode\n",
    "    data_submit['description'] = \"\" # No description. Sorry\n",
    "    data_submit['source_type'] = method_id\n",
    "\n",
    "    # Part B1: Submitted proteins summary\n",
    "    for chain in protdict:\n",
    "        data_submit['prtnam'].append(protdict[chain]['name'])\n",
    "        data_submit['prtnum'].append(protdict[chain]['position'])\n",
    "        data_submit['uniprot'].append(protdict[chain]['uniprot'])\n",
    "\n",
    "    # Part B2: Curated protein data: protein segments\n",
    "    prot_segs = set(mymol.get('segid', sel=\"protein\"))\n",
    "    iprot = 0\n",
    "    for segid in prot_segs:\n",
    "        # Get segment information (uniprot code, chainid, and starting-ending residues)\n",
    "        auldchain = segtochain[segid]\n",
    "        prot_num = protdict[auldchain]['position']\n",
    "        chainid = np.unique(mymol.get('chain', sel='segid '+segid))[0]\n",
    "        segres = set(mymol.get('resid', sel='segid '+segid))\n",
    "        from_res = min(segres)\n",
    "        to_res = max(segres)\n",
    "        iprot_s = str(iprot)\n",
    "\n",
    "        # Add obtained info to data submit\n",
    "        data_submit['formps-'+iprot_s+'-prot'] = prot_num\n",
    "        data_submit['formps-'+iprot_s+'-chain'] = chainid\n",
    "        data_submit['formps-'+iprot_s+'-segid'] = segid\n",
    "        data_submit['formps-'+iprot_s+'-resid_from'] = from_res\n",
    "        data_submit['formps-'+iprot_s+'-resid_to'] = to_res\n",
    "        data_submit['formps-'+iprot_s+'-seq_resid_from'] = from_res # Are you sure they are always equivalents?\n",
    "        data_submit['formps-'+iprot_s+'-seq_resid_to'] = to_res\n",
    "        data_submit['formps-'+iprot_s+'-pdbidps'] = pdbcode\n",
    "        data_submit['formps-'+iprot_s+'-source_typeps'] = 1 # I dont care about this part. Is meant to be removed anyways\n",
    "        data_submit['formps-'+iprot_s+'-bonded_to_id_modeled_residues'] = None\n",
    "        iprot += 1\n",
    "    \n",
    "    # Part C: Cocrystalized small molecules\n",
    "    typesid={# This data submit uses numerical values for small_molecule types\n",
    "        'Ions' : '0',\n",
    "        'Ligand' : '1',\n",
    "        'Lipid' : '2',\n",
    "        'Water' : '3',\n",
    "        'Other' : '4'\n",
    "    }\n",
    "    # Get submission form page, and extract required information from there\n",
    "    rep = s.get(mainurl+'/dynadb/model/'+subm_id+'/', headers = headers)\n",
    "    soup = BeautifulSoup(rep.text, 'html.parser')\n",
    "    # For every crystalized small molecule, add an entry in data_submit\n",
    "    # Many things are wrong here, but since this part is not going to be used anywhere nobody cares.\n",
    "    for lig in smol_dict:\n",
    "        if smol_dict[lig]['crystalized']:\n",
    "            ordmol = smol_dict[lig]['order_mol']\n",
    "            id_i = soup.find('input', attrs = {'id': re.compile(r'id_formmc-\\d+-molecule'), 'value':ordmol}).get('id')\n",
    "            i = re.findall(\"\\d+\", id_i)[0]\n",
    "            data_submit['formmc-'+i+'-resname'] = lig\n",
    "            data_submit['formmc-'+i+'-numberofmol'] = smol_dict[lig]['num_mol']\n",
    "            data_submit['formmc-'+i+'-molecule'] = smol_dict[lig]['order_mol']\n",
    "            data_submit['formmc-'+i+'-id_molecule'] = soup.find('input',attrs = {'id': 'id_formmc-'+i+'-id_molecule'}).get('value')\n",
    "            data_submit['formmc-'+i+'-namemc'] = smol_dict[lig]['name']\n",
    "            data_submit['formmc-'+i+'-typemc'] = typesid[smol_dict[lig]['type']]\n",
    "            \n",
    "    # Upload model file\n",
    "    upl_resp = s.post(mainurl+'/dynadb/model/'+subm_id+'/upload_model_pdb/',\n",
    "          headers = headers,\n",
    "          data = data_submit,\n",
    "          files = {'file_source' : open(pdbpath)})\n",
    "\n",
    "    # Submit step3\n",
    "    resp = s.post(mainurl+'/dynadb/model/'+subm_id+'/',\n",
    "          headers = headers,\n",
    "          data = data_submit)\n",
    "\n",
    "def submission_step4(s, subm_id, modelname, protdict, smol_dict, timestep, trajperiod):\n",
    "    buildpath = resultspath+'build/'+modelname+'/'\n",
    "    sessionid = str(s.cookies['sessionid'])\n",
    "    csrftoken = str(s.cookies['csrftoken'])\n",
    "    data_submit = {\n",
    "        'csrfmiddlewaretoken' : csrftoken,\n",
    "        'prtnam' : [],\n",
    "        'prtnum' : [],\n",
    "        'uniprot' : []\n",
    "    }\n",
    "    headers_submit = {\n",
    "        'Referer' : mainurl+'/dynadb/dynamics/'+subm_id,\n",
    "        'Cookie' : 'csrftoken=%s; sessionid=%s' %(csrftoken,sessionid),\n",
    "        'X-CSRFToken' : csrftoken,\n",
    "    }\n",
    "    print('initiating step 4: simulation information')\n",
    "\n",
    "    # Part A: Upload simulation files\n",
    "    referer_path = mainurl+'/dynadb/dynamics/'+subm_id+'/upload_files/?file_type='\n",
    "    \n",
    "    # Coordinate file\n",
    "    headers = {\n",
    "        'Referer' : referer_path+'coor',\n",
    "        'Cookie' : 'csrftoken=%s; sessionid=%s' %(csrftoken,sessionid),\n",
    "        'X-CSRFToken' : csrftoken,\n",
    "        'Connection' : 'keep-alive',\n",
    "    }\n",
    "    data = {\n",
    "        'csrfmiddlewaretoken' : csrftoken,\n",
    "        'file_type' : 'coor',\n",
    "        'filekey' : 'coor',\n",
    "    }\n",
    "    files = {\n",
    "        'coor' : open(buildpath+'structure.pdb')\n",
    "    }\n",
    "\n",
    "    resp = s.post(mainurl+'/dynadb/dynamics/'+subm_id+'/upload_files/',\n",
    "          data = data,\n",
    "          files = files,\n",
    "          headers = headers)\n",
    "    \n",
    "    # Topology file\n",
    "    headers['Referer'] = referer_path+'top'\n",
    "    data['file_type'] = 'top'\n",
    "    data['filekey'] = 'top'\n",
    "    files = { 'top' : open(buildpath+'structure.psf')}\n",
    "    resp = s.post(mainurl+'/dynadb/dynamics/'+subm_id+'/upload_files/',\n",
    "          data = data,\n",
    "          files = files,\n",
    "          headers = headers)\n",
    "    \n",
    "    # Trajectory files\n",
    "    headers['Referer'] = referer_path+'traj'\n",
    "    data['file_type'] = 'traj'\n",
    "    data['filekey'] = 'traj'\n",
    "    files = [('traj', open(resultspath+'production/'+modelname+'/rep_1/output_wrapped.xtc', 'rb')),\n",
    "              ('traj', open(resultspath+'production/'+modelname+'/rep_2/output_wrapped.xtc', 'rb')),\n",
    "              ('traj', open(resultspath+'production/'+modelname+'/rep_3/output_wrapped.xtc', 'rb'))]\n",
    "    \n",
    "    resp = s.post(mainurl+'/dynadb/dynamics/'+subm_id+'/upload_files/traj/',\n",
    "          data = data,\n",
    "          files = files,\n",
    "          headers = headers)\n",
    "    \n",
    "    # Parameters files (compress and upload)\n",
    "    with tarfile.open(buildpath+'parameters.tar.gz', \"w:gz\") as tar:\n",
    "        tar.add(buildpath+'parameters', arcname='parameters')\n",
    "    headers['Referer'] = referer_path+'parm'\n",
    "    data['file_type'] = 'parm'\n",
    "    data['filekey'] = 'parm'\n",
    "    files = { 'parm' : open(buildpath+'parameters.tar.gz','rb')}\n",
    "    resp = s.post(mainurl+'/dynadb/dynamics/'+subm_id+'/upload_files/',\n",
    "          data = data,\n",
    "          files = files,\n",
    "          headers = headers)\n",
    "    \n",
    "    # Part B1: Submitted proteins summary\n",
    "    for chain in protdict:\n",
    "        data_submit['prtnam'].append(protdict[chain]['name'])\n",
    "        data_submit['prtnum'].append(protdict[chain]['position'])\n",
    "        data_submit['uniprot'].append(protdict[chain]['uniprot'])\n",
    "\n",
    "    # Part B2: Resubmit (third time...) the ligand elements\n",
    "    # Take page 4 of form to extract smalmol info\n",
    "    rep = s.get(mainurl+'/dynadb/dynamics/'+subm_id+'/', headers = headers)\n",
    "    soup = BeautifulSoup(rep.text, 'html.parser')\n",
    "    for smol in smol_dict:\n",
    "\n",
    "        # Take the 'h' (number assigned to the ids of the inputs of this molecule in the web)\n",
    "        idmol = smol_dict[smol]['order_mol']\n",
    "        id_obj = soup.find('input', {'name' : re.compile(r\"formc-\\d+-molecule\"), \"value\" : [idmol,' '+idmol+' ']}).get('id')\n",
    "        h = re.search('-(\\d+)-', id_obj).group(1)\n",
    "\n",
    "        # Molecule data to submit \n",
    "        data_submit['formc-'+h+'-resname'] = smol\n",
    "        data_submit['formc-'+h+'-molecule'] = smol_dict[smol]['order_mol']\n",
    "        data_submit['formc-'+h+'-id_molecule'] = soup.find('input',attrs = {'id': 'id_formc-'+h+'-id_molecule'}).get('value')\n",
    "        data_submit['formc-'+h+'-name'] = smol_dict[smol]['name']\n",
    "        data_submit['formc-'+h+'-numberofmol'] = smol_dict[smol]['num_mol']\n",
    "        data_submit['formc-'+h+'-typemc'] = smol_dict[smol]['type']\n",
    "        data_submit['formc-'+h+'-type_int'] = soup.find('input',attrs = {'id': 'id_formc-'+h+'-type_int'}).get('value')\n",
    "\n",
    "    # Part C: Simulation specs\n",
    "    data_submit['id_dynamics_methods']= '1' #Molecular mechanics\n",
    "    data_submit['software']= 'ACEMD3'\n",
    "    data_submit['sversion']= 'GPUGRID' # TODO: Is that correct??\n",
    "    data_submit['ff']= 'CHARMM'\n",
    "    data_submit['ffversion']= '36m Feb 2016'\n",
    "    data_submit['id_assay_types']= 1 # Orthosteric (un)/binding\n",
    "    data_submit['id_dynamics_membrane_types']= 2 # Homogeneus membrane\n",
    "    data_submit['id_dynamics_solvent_types']= 2 # TIP3P solvent\n",
    "    data_submit['solvent_num']= len(mymol.get('resid', sel='resname TIP3'))\n",
    "    data_submit['atom_num']= len(mymol.get('name'))\n",
    "    data_submit['timestep']= timestep\n",
    "    data_submit['delta'] = (trajperiod*timestep)/10e6\n",
    "    data_submit['description'] = 'autosubmission' # time/frames\n",
    "\n",
    "    # Submit step 4\n",
    "    rep = s.post(mainurl+'/dynadb/dynamics/'+subm_id+'/',\n",
    "            headers = headers,\n",
    "            data = data_submit)\n",
    "    "
   ]
  },
  {
   "cell_type": "code",
   "execution_count": 87,
   "metadata": {},
   "outputs": [
    {
     "name": "stderr",
     "output_type": "stream",
     "text": [
      "2020-11-02 13:30:35,029 - moleculekit.readers - INFO - Attempting PDB query for 6LRY\n"
     ]
    },
    {
     "name": "stdout",
     "output_type": "stream",
     "text": [
      "Submitting 6LRY simulation...\n",
      "133\n",
      "initiating step 1: protein data\n",
      "Endothelin B receptor identified as GPCR\n",
      "initiating step 2: small molecule data\n",
      "submitting small molecule TIP3\n",
      "submitting small molecule POPC\n",
      "Chemblid not avalible for molecule 1-Palmitoyl-2-oleoyl-sn-glycero-3-phosphocholine\n",
      "submitting small molecule SOD\n",
      "Chemblid not avalible for molecule Sodium ion\n",
      "submitting small molecule CLA\n",
      "Chemblid not avalible for molecule Chloride ion\n",
      "initiating step 3: crystalized components\n",
      "Endothelin B receptor in complex with Sarafotoxin S6b\n",
      "initiating step 4: simulation information\n"
     ]
    }
   ],
   "source": [
    "#### Actual Simulation submission\n",
    "\n",
    "# For each of the currently-working-with systems defined in Part 1\n",
    "#for pdbcode in pdb_set:\n",
    "#for pdbcode in testset:\n",
    "for pdbcode in ['6LRY']:\n",
    "    for apo in [False]:\n",
    "    #for apo in [True, False]:\n",
    "        pdbpath = resultspath+'build/'+pdbcode+'/structure.pdb'\n",
    "\n",
    "        # Load molecule\n",
    "        modelname = os.path.basename(os.path.splitext(pdbpath)[0])\n",
    "        modelname = pdbcode\n",
    "        mymol = Molecule(pdbpath)\n",
    "        print('Submitting '+modelname+' simulation...')\n",
    "\n",
    "        ## Step -2: Get information of protein chains and ligand molecules from PDB web\n",
    "        (protdict,ligdict,segtochain,method_id) = get_pdb_info(pdbcode, mymol, ligandsdict)\n",
    "\n",
    "        ## Step -1: Login into GPCRmd\n",
    "        with requests.Session() as s:\n",
    "            login(s)\n",
    "\n",
    "        ## Step 0: New submission (temporaly commented to avoid saturating GPCRmd with trashy new submissions)\n",
    "        \"\"\"response_new = s.get(mainurl + '/dynadb/db_inputform/')\n",
    "        soup = BeautifulSoup(response_new.text, 'html.parser')\n",
    "        step1_link = soup.find('a',attrs={'id' : 'selection-button'}).get('href')\n",
    "        subm_id = step1_link.split('/')[-2]\n",
    "        \"\"\"\n",
    "        print(subm_id)\n",
    "        #subm_id = '131'; pdbcode = '5WIU'\n",
    "        #subm_id = '133'; pdbcode = '6LRY'\n",
    "\n",
    "        ## Step 1: Protein information\n",
    "        (newprotdict,recname) = submission_step1(subm_id,s,protdict, mymol)\n",
    "\n",
    "        ## Step 2: Introduce small molecules \n",
    "        print('initiating step 2: small molecule data')\n",
    "        \n",
    "        # Introduce common small molecules (waters, lipids and ions)\n",
    "        i = 0\n",
    "        smol_dict = dict()\n",
    "        common_mols = [\n",
    "            ('TIP3', 'XLYOFNOQVPJJNP-UHFFFAOYSA-N'),\n",
    "            ('POPC', 'WTJKGGKOPKCXLL-VYOBOKEXSA-N'),\n",
    "            ('SOD', 'FKNQFGJONOIPTF-UHFFFAOYSA-N'),\n",
    "            ('CLA', 'VEXZGXHMUGYJMC-UHFFFAOYSA-M')\n",
    "        ]\n",
    "        for smol,smol_key in common_mols:\n",
    "            sdfpath = basepath+'smalmol_sdfs/'+smol+'.sdf'\n",
    "            (i, smol_dict) = smol_submission(s, i, subm_id, sdfpath, smol, smol_key, smol_dict, mymol)\n",
    "\n",
    "        # Introduce ligands: all will be defined as orthosteric ligands\n",
    "        lignames = []\n",
    "        for lig in ligdict:\n",
    "            # Skip this if molecule is apoform\n",
    "            if apo:\n",
    "                break\n",
    "            # Avoid blacklisted molecules or cholesterol or ion\n",
    "            if (lig in detergent_blacklist) or (lig in glucids_blacklist) or (lig == \"CLR\") or (len(lig) == 2):\n",
    "                continue\n",
    "            # Download ligand, store it into temporary file\n",
    "            response = requests.get('https://files.rcsb.org/ligands/view/'+lig+'_ideal.sdf')\n",
    "            with open('tmpfile.sdf','wb') as tmpout:\n",
    "                tmpout.write(response.content)\n",
    "\n",
    "            # Send molecule\n",
    "            smol_key = ligdict[lig][1]\n",
    "            (i, smol_dict, ligname) = smol_submission(s, i, subm_id, 'tmpfile.sdf', lig, smol_key, smol_dict, mymol)\n",
    "            lignames.append(ligname)\n",
    "            os.remove('tmpfile.sdf')\n",
    "\n",
    "        # Check for peptide ligands\n",
    "        for lig in gpcrdb_dict[pdbcode]['ligands']:\n",
    "            if (lig['type'] in {'protein', 'peptide'}) and not apo:\n",
    "                lignames.append(lig['name'])\n",
    "\n",
    "        ## Step 3: Crystalized components information\n",
    "        submission_step3(s, subm_id, pdbpath, recname, lignames, newprotdict, smol_dict, segtochain, method_id)\n",
    "\n",
    "        ## Step 4: Dynamics information\n",
    "        submission_step4(s, subm_id, modelname, newprotdict, smol_dict, timestep, trajperiod)"
   ]
  }
 ],
 "metadata": {
  "kernelspec": {
   "display_name": "Python 3",
   "language": "python",
   "name": "python3"
  },
  "language_info": {
   "codemirror_mode": {
    "name": "ipython",
    "version": 3
   },
   "file_extension": ".py",
   "mimetype": "text/x-python",
   "name": "python",
   "nbconvert_exporter": "python",
   "pygments_lexer": "ipython3",
   "version": "3.6.10"
  }
 },
 "nbformat": 4,
 "nbformat_minor": 2
}
