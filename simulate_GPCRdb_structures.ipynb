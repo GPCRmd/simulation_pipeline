{
 "cells": [
  {
   "cell_type": "code",
   "execution_count": 1,
   "metadata": {},
   "outputs": [
    {
     "name": "stderr",
     "output_type": "stream",
     "text": [
      "/soft/EB_repo/devel/programs/foss/2016b/Anaconda3/5.0.1/lib/python3.6/site-packages/htmd/molecule/util.py:666: NumbaPerformanceWarning: np.dot() is faster on contiguous arrays, called on (array(float32, 2d, A), array(float32, 2d, A))\n",
      "  covariance = np.dot(P.T, Q)\n",
      "/soft/EB_repo/devel/programs/foss/2016b/Anaconda3/5.0.1/lib/python3.6/site-packages/htmd/molecule/util.py:704: NumbaPerformanceWarning: np.dot() is faster on contiguous arrays, called on (array(float32, 2d, A), array(float32, 2d, A))\n",
      "  all1 = np.dot(all1, rot.T)\n"
     ]
    },
    {
     "name": "stdout",
     "output_type": "stream",
     "text": [
      "ffevaluate module is in beta version\n",
      "\n",
      "Please cite HTMD: Doerr et al.(2016)JCTC,12,1845. https://dx.doi.org/10.1021/acs.jctc.6b00049\n",
      "\n",
      "HTMD Documentation at: https://www.htmd.org/docs/latest/\n",
      "\n"
     ]
    },
    {
     "name": "stderr",
     "output_type": "stream",
     "text": [
      "2020-09-09 09:20:30,578 - binstar - INFO - Using Anaconda API: https://api.anaconda.org\n",
      "/soft/EB_repo/devel/programs/foss/2016b/Anaconda3/5.0.1/lib/python3.6/site-packages/pyemma/util/log.py:65: YAMLLoadWarning: calling yaml.load() without Loader=... is deprecated, as the default Loader is unsafe. Please read https://msg.pyyaml.org/load for full details.\n",
      "  D = yaml.load(f2)\n"
     ]
    },
    {
     "name": "stdout",
     "output_type": "stream",
     "text": [
      "New devel HTMD version (1.22.7 python[3.7,<3.8.0a0,3.6,<3.7.0a0]) is available. You are currently on (1.13.10).There are several methods to update:    - Create a new conda env. using `conda create -n htmd1.22.7 htmd=1.22.7 -c acellera -c psi4`    - Create a brand new conda installation and run `conda install htmd -c acellera -c psi4`    - Run: `conda update htmd -c acellera -c psi4` (NOT RECOMMENDED)\n",
      "\n"
     ]
    }
   ],
   "source": [
    "import json\n",
    "import os\n",
    "import traceback\n",
    "import re\n",
    "import requests\n",
    "import zipfile,io\n",
    "import glob\n",
    "import numpy as np\n",
    "from shutil import copy2,copytree,rmtree\n",
    "import xml.etree.ElementTree as ET\n",
    "from bs4 import BeautifulSoup\n",
    "import openbabel\n",
    "import time\n",
    "import random\n",
    "import sys\n",
    "import tempfile\n",
    "\n",
    "#HTMD things\n",
    "import htmd\n",
    "from htmd.ui import *\n",
    "from moleculekit.tools.sequencestructuralalignment import sequenceStructureAlignment\n",
    "from htmd.protocols.equilibration_v2 import Equilibration\n",
    "from htmd.protocols.production_v6 import Production\n",
    "from htmd.builder.builder import removeLipidsInProtein, tileMembrane, minimalRotation,removeAtomsInHull\n",
    "from moleculekit.util import rotationMatrix, sequenceID, opm\n",
    "from htmd.builder.charmm import _recoverProtonations\n",
    "from htmd.config import config\n",
    "\n",
    "# IMPORTANT!!!! vmd needs to be installed for this pipeline to run properly\n",
    "config(viewer='vmd')"
   ]
  },
  {
   "cell_type": "code",
   "execution_count": 2,
   "metadata": {},
   "outputs": [
    {
     "name": "stdout",
     "output_type": "stream",
     "text": [
      "env: PATH=/soft/EB_repo/devel/programs/foss/2016b/Anaconda3/5.0.1:/soft/EB_repo/devel/programs/foss/2016b/Anaconda3/5.0.1/bin:/soft/EB_repo/devel/programs/goolf/1.7.20/Python/3.6.2/bin:/soft/EB_repo/devel/programs/goolf/1.7.20/netCDF/4.4.1/bin:/soft/EB_repo/devel/programs/goolf/1.7.20/cURL/7.43.0/bin:/soft/EB_repo/devel/programs/goolf/1.7.20/HDF5/1.8.17/bin:/soft/EB_repo/devel/programs/goolf/1.7.20/Tk/8.6.4/bin:/soft/EB_repo/devel/programs/goolf/1.7.20/XZ/5.2.2/bin:/soft/EB_repo/devel/programs/goolf/1.7.20/SQLite/3.9.2/bin:/soft/EB_repo/devel/programs/goolf/1.7.20/Tcl/8.6.4/bin:/soft/EB_repo/devel/programs/goolf/1.7.20/libreadline/6.3/bin:/soft/EB_repo/devel/programs/goolf/1.7.20/ncurses/5.9/bin:/soft/EB_repo/devel/programs/goolf/1.7.20/bzip2/1.0.6/bin:/soft/EB_repo/devel/programs/goolf/1.7.20/FFTW/3.3.4/bin:/soft/EB_repo/devel/programs/goolf/1.7.20/OpenBLAS/0.2.13/bin:/soft/EB_repo/devel/programs/goolf/1.7.20/OpenMPI/1.8.4/bin:/soft/EB_repo/devel/programs/goolf/1.7.20/hwloc/1.10.1/bin:/soft/EB_repo/devel/programs/goolf/1.7.20/numactl/2.0.10/bin:/soft/EB_repo/devel/programs/goolf/1.7.20/GCC/4.8.4/bin:/soft/EB_repo/bio/structure/programs/foss/2016b/VMD/1.9.4a9/bin:/soft/system/lua/bin:/soft/system/luarocks/bin:/usr/lib64/qt-3.3/bin:/soft/system/lua/bin:/soft/system/luarocks/bin:/usr/local/bin:/usr/local/sbin:/usr/bin:/usr/sbin:/bin:/sbin:/opt/puppetlabs/bin:/home/daranda/bin:/home/daranda/software/getcontacts-master:/home/daranda/.local/bin:/home/daranda/bin:/home/daranda/bin:/home/daranda/software/getcontacts-master:/gpcr/users/daranda/doctorat/GPCR_simulations/fake_slurm/\n"
     ]
    }
   ],
   "source": [
    "####################\n",
    "## Initial variables\n",
    "####################\n",
    "\n",
    "# PDB codes of the GPCRs to be simulated. \n",
    "# If no codes are provided, all avalible structures in GPCRdb will be used (except the ones already simulated)\n",
    "noncomplex = {\"6TPK\", \"6S0Q\", \"6V9S\", \"6WJC\", \"6W25\", \"6OBA\", \"6LW5\", \"6KP6\", \"6LUQ\", \"6LI1\", \"6LI0\", \"6LI2\", \"6KPC\", \"6LRY\", \"6KNM\", \"6TOT\", \"6TOS\", \"6TO7\", \"6TP6\", \"6TQ7\", \"6TOD\", \"6TP3\", \"6TQ4\", \"6TQ9\", \"6TP4\", \"6TQ6\", \"6TPN\", \"6TPG\", \"6TPJ\", \"6OL9\", \"6RZ6\", \"6RZ9\", \"6RZ7\", \"6RZ8\", \"6PT2\", \"6PT3\", \"6KUX\", \"6KUY\", \"6KUW\", \"6IQL\", \"6PS7\", \"6PS0\", \"6PS3\", \"6PS5\", \"6PS1\", \"6PS4\", \"6PRZ\", \"6PS2\", \"6PS6\", \"6KK1\", \"6KK7\", \"6KJV\", \"6PS8\", \"6JZH\", \"6RZ4\", \"6RZ5\", \"6KQI\", \"6QZH\", \"6K1Q\", \"6GT3\", \"6MH8\", \"6ME2\", \"6ME3\", \"6ME4\", \"6ME5\", \"6ME6\", \"6ME7\", \"6ME8\", \"6ME9\", \"6J21\", \"6J20\", \"6A94\", \"6A93\", \"5ZTY\", \"6HLP\", \"6HLO\", \"6HLL\", \"6GPX\", \"6GPS\", \"6IIV\", \"6IIU\", \"6E59\", \"6M9T\", \"6AK3\", \"5ZHP\", \"5ZKC\", \"5ZK3\", \"5YC8\", \"5ZK8\", \"5ZKB\", \"6IGK\", \"6IGL\", \"6FJ3\", \"6AKX\", \"6AKY\", \"6D27\", \"6D26\", \"6DRX\", \"6DS0\", \"6DRY\", \"6DRZ\", \"6BD4\", \"5ZKQ\", \"5ZKP\", \"6C1R\", \"6C1Q\", \"6D32\", \"6D35\", \"5KW2\", \"5ZBH\", \"5ZBQ\", \"6FK7\", \"6FKA\", \"6FKD\", \"6FK6\", \"6FK9\", \"6FKC\", \"6FK8\", \"6FKB\", \"6CM4\", \"6FFI\", \"6FFH\", \"5WF5\", \"5WF6\", \"6BQH\", \"6BQG\", \"5V54\", \"5OLH\", \"5OLZ\", \"5OLO\", \"5OM1\", \"5OLG\", \"5OLV\", \"5OM4\", \"5YQZ\", \"6AQF\", \"5O9H\", \"5X33\", \"5VRA\", \"5WS3\", \"5WQC\", \"5WIV\", \"5WIU\", \"5NM4\", \"5NM2\", \"5NLX\", \"5X7D\", \"5X93\", \"5XPR\", \"5XSZ\", \"5N2S\", \"5MZP\", \"5MZJ\", \"5N2R\", \"5XRA\", \"5XR8\", \"5UIW\", \"5NX2\", \"5TZY\", \"5TZR\", \"5JTB\", \"5VBL\", \"5UVI\", \"5VEW\", \"5V56\", \"5V57\", \"5VEX\", \"5NDD\", \"5NDZ\", \"5UNH\", \"5UNF\", \"5UNG\", \"5TE3\", \"5TE5\", \"5UEN\", \"5UIG\", \"5TVN\", \"5T04\", \"5T1A\", \"5LWE\", \"5U09\", \"5TGZ\", \"5K2C\", \"5K2B\", \"5K2A\", \"5K2D\", \"5GLI\", \"5GLH\", \"5D6L\", \"5DYS\", \"5L7D\", \"5L7I\", \"5IU7\", \"5IUB\", \"5IU8\", \"5IU4\", \"5IUA\", \"4Z9G\", \"5EE7\", \"5DSG\", \"5CXV\", \"4ZJ8\", \"4ZJC\", \"5F8U\", \"5DHG\", \"5DHH\", \"4ZUD\", \"5A8E\", \"5CGC\", \"5CGD\", \"4XEE\", \"4XES\", \"4Z35\", \"4Z34\", \"4Z36\", \"4YAY\", \"4UHR\", \"4XNW\", \"4XNV\", \"4XT3\", \"4RWS\", \"4RWD\", \"4S0V\", \"4U15\", \"4U16\", \"4QIM\", \"4QIN\", \"4PHU\", \"4OO9\", \"4PXZ\", \"4PY0\", \"4BVN\", \"4NTJ\", \"4OR2\", \"4O9R\", \"4BUO\", \"4N4W\", \"4N6H\", \"4NC3\", \"4MBS\", \"4L6R\", \"4K5Y\", \"4JKV\", \"3ZPR\", \"3ZPQ\", \"4IAQ\", \"4IAR\", \"4IB4\", \"4GPO\", \"3VW7\", \"4GBR\", \"4GRV\", \"4EIY\", \"4AMJ\", \"4AMI\", \"4EJ4\", \"4EA3\", \"3UZA\", \"3UZC\", \"4DJH\", \"4DKL\", \"3V2Y\", \"3UON\", \"3REY\", \"3RFM\", \"3RZE\", \"2YCZ\", \"2YCW\", \"2YDV\", \"2YDO\", \"3QAK\", \"2Y04\", \"2Y00\", \"2Y03\", \"2Y02\", \"3PDS\", \"3PBL\", \"3ODU\", \"3OE0\", \"3NY9\", \"3NY8\", \"3NYA\", \"3D4S\", \"2Z73\", \"2RH1\", \"1U19\", \"1GZM\"}\n",
    "noncomplex_nonGPCRmd = {'6RZ8', '6FFI', '6KJV', '6TQ6', '6DRY', '5WIV', '5V57', '6LI2', '6MH8', '5MZJ', '5KW2', '5X33', '5LWE', '5ZHP', '6PS6', '6FJ3', '6D35', '4NTJ', '6A94', '6AK3', '5UVI', '6FFH', '5WIU', '6KQI', '5XR8', '6RZ9', '5VEX', '6FKD', '6LW5', '6FKA', '6PS7', '6M9T', '6KNM', '6ME6', '6GPX', '5XSZ', '5K2A', '5YQZ', '6PS0', '5K2C', '6ME7', '2Z73', '6D32', '6RZ4', '5YC8', '5T1A', '6AKY', '4N4W', '5WS3', '6LRY', '6J21', '6BQG', '5TE5', '4O9R', '6FK6', '1GZM', '6DRX', '6TQ7', '5NDZ', '6IGL', '5VRA', '5ZBQ', '6TPN', '5ZTY', '6DS0', '5NLX', '5X93', '6HLP', '5OLG', '5OM4', '5O9H', '5XPR', '6A93', '5GLI', '6OBA', '6D27', '6HLO', '6RZ5', '5TE3', '6IIV', '6KP6', '6TQ4', '6TPJ', '5V56', '5UNG', '6FK9', '6PS8', '2YCZ', '6JZH', '5XRA', '5ZKB', '4JKV', '5MZP', '5K2D', '5OLV', '5X7D', '5T04', '5OLO', '5DYS', '6FK7', '6J20', '6K1Q', '5EE7', '6D26', '6PS1', '6DRZ', '4GBR', '6FKC', '6TP6', '6LUQ', '5ZKQ', '5UNH', '6PRZ', '5UNF', '5NX2', '6LI0', '5NM2', '5D6L', '6AQF', '6KK1', '6C1Q', '4Z9G', '6LI1', '5WF5', '6FKB', '6BQH', '6QZH', '5OLH', '4XT3', '5ZK3', '5VEW', '4XES', '6HLL', '6TOT', '5N2R', '5WF6', '5K2B', '6TPG', '6PS4', '5F8U', '6ME4', '6GT3', '6RZ6', '6ME8', '6ME2', '5VBL', '5N2S', '5ZBH', '6PS3', '6IIU', '4NC3', '5JTB', '5ZKP', '6TQ9', '6GPS', '6TP3', '6RZ7', '6ME3', '5ZK8', '6C1R', '5V54', '5UIG', '5TVN', '5OM1', '6AKX', '5ZKC', '5NM4', '5TZY', '6TOD', '4GPO', '6TO7', '6CM4', '6TOS', '6PS5', '6ME9', '5NDD', '6KPC', '6KK7', '4BUO', '6OL9', '6PS2', '6FK8', '6ME5', '6TP4', '4QIM', '6IGK', '5WQC', '5UIW', '5TZR', '5OLZ', '4EJ4', '6E59'}\n",
    "pdb_set = noncomplex_nonGPCRmd\n",
    "\n",
    "# Get current GPCRdb data into a Json\n",
    "gpcrdb_data = requests.get('http://gpcrdb.org/services/structure/').json()\n",
    "\n",
    "# Path to slurm queing system binaries\n",
    "# In our case, Ismael designed a bunch of small bash scripts (fake_slurm) which do ssh to Hydra and execute slurm there\n",
    "slurmpath = '/gpcr/users/daranda/doctorat/GPCR_simulations/fake_slurm/'\n",
    "path= os.environ['PATH']\n",
    "%env PATH=$path:$slurmpath\n",
    "\n",
    "#Path to ACEMD in computation node and ACEMD license\n",
    "acemd_path = \"/opt/acellera/miniconda3/bin/acemd3\"\n",
    "acemd_license = \"SG_LICENSE_FILE=28000@tolkien.prib.upf.edu\"\n",
    "\n",
    "# Other Paths\n",
    "basepath = '/gpcr/users/daranda/doctorat/GPCR_simulations/'\n",
    "resultspath = basepath + 'simulation_output/'\n",
    "membranepdb = basepath + 'membrane/popc36_box_renumbered.pdb'\n",
    "topparpath = basepath + 'toppar'#toppar= topology+parameters\n",
    "ligandsdict_path = basepath + 'ligands.json'\n",
    "\n",
    "# Parameters\n",
    "username = 'paramoid'#ameboid\n",
    "password = 'paramoid-123'#ameboid-123\n",
    "new_pdb_chain = 'P'\n",
    "membrane_lipid_segid = 'MEM'\n",
    "coldist = 1.3 # Distance bellow which two atoms are considered to collide\n",
    "buffer = 2.4 # Distance between solvation waters and the rest of the system\n",
    "water_thickness = 20 # Size in Z-axis of the solvation water layers\n",
    "membrane_distance = 20 # Distance between the pbc box and the rest of the system atoms, to be filled with membrane\n",
    "water_margin = 4 # Distance in the Z-axis to be penetrated by the solvation box \n",
    "                 # to avoid the formation of a V O I D between the system and the solvation boxes\n",
    "detergent_blacklist = ['OLA','OLB','PEG','GOL','BOG','OLC','P6G','P33','UNL','UNX','PLM','HTG',\n",
    "                       '12P','LPP','PEF','2CV','SOG','TWT','PGE','SO4','STE','LMT','ACT','ACE',\n",
    "                      'MHA','CIT','1PE','MPG','EPE','PG4','DGA','PO4','DMS','TAR','1WV','EDO',\n",
    "                      'BU1','ACM','PG6','TLA','SCN','TCE','MES','EDT','POV','MLI','SIN','PGO',\n",
    "                      'FLC','HTO','PGW']\n",
    "glucids_blacklist = ['MAN','NAG','BGC','TRE','9NS','BMA','FUC']\n",
    "    \n",
    "# Dummy pdb: a pdb made of a sinlge non-existant DUM atom.\n",
    "# It is used during removal of aromatic insertions by placing it on the middle of the ring and measuring distances  \n",
    "dummypdb='./dummy.pdb'\n",
    "try:\n",
    "    dummymol = Molecule(dummypdb, validateElements=False)\n",
    "except Exception as e:\n",
    "    dummymol = Molecule(dummypdb)\n",
    "dummy_sel = 'name DUM'\n",
    "\n",
    "# Topologies filenames and paths\n",
    "toposfilenames = ['top_all36_prot.rtf',\n",
    "                  'top_all36_na.rtf',\n",
    "                  'top_all36_lipid.rtf',\n",
    "                  'top_all36_carb.rtf',\n",
    "                  'top_all35_ethers.rtf',\n",
    "                  'top_all36_cgenff.rtf']\n",
    "topostreams = ['toppar_water_ions_1.rtf','toppar_ions_won.rtf']\n",
    "streams_folder='stream_splits'\n",
    "topos = [os.path.join(topparpath,file) for file in toposfilenames] + \\\n",
    "        [os.path.join(os.path.join(topparpath,streams_folder),file) for file in topostreams] \n",
    "\n",
    "# Parameters filenames and paths\n",
    "paramsfilenames = ['par_all36m_prot.prm','par_all36_na.prm','par_all36_lipid.prm','par_all36_carb.prm',\\\n",
    "                  'par_all35_ethers.prm','par_all36_cgenff.prm']\n",
    "paramsstreams = ['toppar_water_ions_1.inp','toppar_water_ions_2.inp']\n",
    "params = [os.path.join(topparpath,file) for file in paramsfilenames] + \\\n",
    "         [os.path.join(os.path.join(topparpath,streams_folder),file) for file in paramsstreams]"
   ]
  },
  {
   "cell_type": "code",
   "execution_count": 3,
   "metadata": {},
   "outputs": [],
   "source": [
    "####################\n",
    "## David's functions\n",
    "####################\n",
    "def ligands_by_system(ligandsdict):\n",
    "    \"\"\"\n",
    "    Creates a json with all the systems codes and their ligand molecules \n",
    "    \"\"\"\n",
    "    with open('ligands_by_system_new.json', 'w') as ou:\n",
    "        dasdict = {}\n",
    "        for pdb in ligandsdict:\n",
    "            dasdict[pdb] = list(ligandsdict[pdb].keys())\n",
    "        json.dump(dasdict, ou, indent= 4)\n",
    "\n",
    "def json_dict(path):\n",
    "    \"\"\"\n",
    "    Converts json file to pyhton dict.\n",
    "    \"\"\"\n",
    "    json_file=open(path)\n",
    "    json_str = json_file.read()\n",
    "    json_data = json.loads(json_str)\n",
    "    return json_data\n",
    "\n",
    "def get_GPCRdb_nonsimulated(gpcrdb_data):\n",
    "    \"\"\"\n",
    "    Returns a list of PDB codes from the GPCRdb refined structures not yet simulated in GPCRmd\n",
    "    \"\"\"\n",
    "    \n",
    "    #Make set with the pdb codes of the structures in GPCRdb\n",
    "    gpcrdb_pdbs = { struc['pdb_code'] for struc in gpcrdb_data }\n",
    "\n",
    "    # Load a random name-to-dyn json from contactmaps\n",
    "    # This Jsons contain a dictionary with the dynIDs and the full names of the GPCR simulated\n",
    "    # This way I can get all the pdb codes of the GPCRs presents in GPCRmd\n",
    "    response = requests.get('http://submission.gpcrmd.org/dynadb/files/Precomputed/get_contacts_files/contmaps_inputs/all/cmpl/lg/name_to_dyn_dict.json')\n",
    "    soup = BeautifulSoup(response.text, 'html.parser')\n",
    "    gpcrmd_sims = json.loads(str(soup))\n",
    "\n",
    "    # Take the pdb code from each full name in the json, and store in set\n",
    "    gpcrmd_pdbs = set()\n",
    "    pdb_pat = re.compile('\\((\\w+).*\\) \\(.*\\)$')# Take objects whatever is inside of the first parenthesis\n",
    "    for sim in gpcrmd_sims:\n",
    "        match_pdb = re.search(pdb_pat, sim[1])\n",
    "        if match_pdb:\n",
    "            gpcrmd_pdbs.add(match_pdb.group(1))\n",
    "\n",
    "    # Get to-be-simulated GPCR pdbs. That is the ones that are in GPCRdb but not in GPCRmd\n",
    "    not_simulated = gpcrdb_pdbs - gpcrmd_pdbs\n",
    "\n",
    "    return not_simulated\n",
    "\n",
    "def download_GPCRdb_structures(pdb_set, basepath):\n",
    "    \"\"\"\n",
    "    Download (if they exist) the refined GPCRdb structures for the pdb codes in the pdb_set.\n",
    "    PDB codes without a refined structure will be removed from pdb_set\n",
    "    \"\"\"\n",
    "    pdb_set_nonrefined = set()\n",
    "    set_length = len(pdb_set)\n",
    "    i = 0\n",
    "    for pdbcode in pdb_set:\n",
    "        simdir = basepath+'/data_sim/'+pdbcode+'/'\n",
    "        os.makedirs(simdir, exist_ok = True)\n",
    "        i += 1\n",
    "        \n",
    "        print('Downloading %s structure (%d/%d)' % (pdbcode, i, set_length))\n",
    "        # If files for this simulation already exists\n",
    "        if glob(simdir+'*pdb'):\n",
    "            print('Structure for %s already present. Skipping...' % pdbcode)\n",
    "        else:\n",
    "            response = requests.get('https://gpcrdb.org/structure/homology_models/'+pdbcode+'_refined/download_pdb', stream=True)\n",
    "            if response.ok:\n",
    "                zippy = zipfile.ZipFile(io.BytesIO(response.content))\n",
    "                zippy.extractall(simdir)\n",
    "            else:\n",
    "                pdb_set_nonrefined.add(pdbcode)\n",
    "                print('could not download %s refined structure. Skipping...' % (pdbcode))\n",
    "    \n",
    "    #Remove non-refined structrues\n",
    "    pdb_set = pdb_set - pdb_set_nonrefined\n",
    "    \n",
    "    return pdb_set\n",
    "\n",
    "def ligand_dictionary(pdb_set, ligandsdict_path):\n",
    "    \"\"\"\n",
    "    Create dictionary with ligand names and ligand ResNames of each of the structures we need to simulate,\n",
    "    and store the resutls in a json file\n",
    "    \"\"\"\n",
    "    # Read existing ligands dictionary, or create it if it does not exists yet \n",
    "    if os.path.exists(ligandsdict_path):\n",
    "        ligandsdict = json_dict(ligandsdict_path)\n",
    "    else:\n",
    "        ligandsdict = {}\n",
    "\n",
    "    # Iterate over non-yet-simulated structures, and get their ligand information from rcsb (PDB's web api)    \n",
    "    for pdb_code in pdb_set:\n",
    "        #Do not repeat simulations\n",
    "        if pdb_code in ligandsdict:\n",
    "            continue\n",
    "        else:\n",
    "            ligandsdict[pdb_code] = {}\n",
    "            response = requests.get('http://www.rcsb.org/pdb/rest/customReport.xml?pdbids='+pdb_code+'&customReportColumns=ligandId,ligandName')\n",
    "            ligand_tree = ET.fromstring(response.content)\n",
    "            for ligand in ligand_tree:\n",
    "                ligandResname = ligand.find('dimEntity.ligandId').text\n",
    "                ligandName = ligand.find('dimEntity.ligandName').text\n",
    "                if ligandResname == 'null':\n",
    "                    continue\n",
    "                else:\n",
    "                    ligandsdict[pdb_code][ligandResname] = ligandName\n",
    "\n",
    "    with open(ligandsdict_path, 'w') as jsonfile:\n",
    "        json.dump(ligandsdict, jsonfile, ensure_ascii=False, indent = 4)            \n",
    "    \n",
    "    # Create ligands set from previou dictionary\n",
    "    ligandsset = { ligcode  for pdbcode in ligandsdict for ligcode in ligandsdict[pdbcode] }\n",
    "        \n",
    "    return(ligandsdict, ligandsset)\n",
    "\n",
    "def extract_ligands(ligandsdict, basepath):\n",
    "    \"\"\"\n",
    "    Extract ligands from the refined structure PDB and convert htem to a mol2 file\n",
    "    \"\"\"\n",
    "    \n",
    "    obConversion = openbabel.OBConversion()\n",
    "    obConversion.SetInAndOutFormats(\"pdb\", \"mol2\")\n",
    "\n",
    "    # Iterate over ligands\n",
    "    for system in ligandsdict:\n",
    "    \n",
    "        # Skip if structure of this system is not avalible\n",
    "        syspdb_path_list = glob(str(\"%sdata_sim/%s/*pdb\" % (basepath,system)))\n",
    "        if len(syspdb_path_list) == 0:\n",
    "            continue\n",
    "        else:\n",
    "            syspdb_path = syspdb_path_list[0]\n",
    "        \n",
    "        for ligcode in ligandsdict[system]:\n",
    "        #for ligcode in ['TYS']:\n",
    "            ligpath = basepath+\"Ligands/\"+ligcode+\"/\"\n",
    "            #Skip if ligand has already been download\n",
    "            if os.path.exists(ligpath):\n",
    "                continue\n",
    "            else:\n",
    "                # Directory for ligands\n",
    "                os.makedirs(ligpath, exist_ok=True)\n",
    "\n",
    "                # Take ligand PDB from inside the GPCR system PDB\n",
    "                syspdb_path = glob(str(\"%sdata_sim/%s/*pdb\" % (basepath,system)))[0]\n",
    "                ligpdb_path = ligpath + \"ligand.pdb\"\n",
    "                ligpdb = open(ligpdb_path, 'w')\n",
    "                atomnames = set()\n",
    "                with open(syspdb_path, 'r') as syspdb:\n",
    "                    for line in syspdb:\n",
    "                        resname = line[17:20]\n",
    "                        if resname == ligcode:\n",
    "                            atomname = line[13:20]\n",
    "                            if atomname not in atomnames:# If there are two or more molecules of one ligand, take only one \n",
    "                                ligpdb.write(line)\n",
    "                                atomnames.add(atomname)\n",
    "                ligpdb.close()\n",
    "\n",
    "                #Convert SDF to mol2, and save mol2 in corresponding folder\n",
    "                ligand_mol2 = openbabel.OBMol()\n",
    "                ligand_mol2.AddHydrogens()\n",
    "                obConversion.ReadFile(ligand_mol2, ligpdb_path)\n",
    "                ligand_mol2.AddHydrogens()\n",
    "                ligandmol_string = obConversion.WriteString(ligand_mol2)\n",
    "                \n",
    "                # Change name of molecule in mol2\n",
    "                with open(ligpath+\"ligand.mol2\", 'w') as ligandmol_file:\n",
    "                    ligandmol_file.write(ligandmol_string.replace(ligpdb_path, ligcode))\n",
    "                    \n",
    "def get_lig_toppar(ligandsset, basepath, username, password):\n",
    "    \"\"\"\n",
    "    Get the topology-parameters string file from paramchem for the submited ligand PDB codes\n",
    "    ALERT: paramchem only allows 100 submissions by month, so it may be possible that not all \n",
    "    parameters are obtained\n",
    "    \"\"\"\n",
    "    \n",
    "    #Get total number of ligands\n",
    "    i = 0\n",
    "    total_ligs = len(ligandsset)\n",
    "    #Pattern to find non-HTMD-compatible lines\n",
    "    lph_pat = re.compile('^ATOM.*LPH|LONEPAIR')\n",
    "    \n",
    "    # Iterate over ligands\n",
    "    for ligcode in ligandsset:\n",
    "        i += 1\n",
    "        print('Getting toppar file for ligand %s (%d/%d)' % (ligcode, i, total_ligs))\n",
    "\n",
    "        # topology-parametetrs file output\n",
    "        topparfile_path = basepath+\"Ligands/\"+ligcode+\"/toppar.str\"\n",
    "        # Errors and warnings file output\n",
    "        erwar_path = basepath+\"Ligands/\"+ligcode+\"/paramchem_stder.txt\"\n",
    "        #Open ligandfile to upload in paramchem\n",
    "        ligfile = open(basepath+\"Ligands/\"+ligcode+\"/ligand.mol2\")\n",
    "        myfile = {\n",
    "                'filename': ligfile\n",
    "        }\n",
    "        myparam = {\n",
    "                #'param_a': 'a' #Include parameters usually included in newer versions of CGenff (versions that we cant use)\n",
    "                'param_b' : 'b' # Make paramchem determine bond order\n",
    "                #'param_c': 'c'# Use CGenFF legacy v1.0, for HTMD is not yet prepared for newer Charmm versions             \n",
    "        }\n",
    "\n",
    "        # Omit ligand if its toppar file already exists\n",
    "        if os.path.exists(topparfile_path):\n",
    "            print('toppar for ligand %s already exists. Skipping...' % ligcode)\n",
    "            continue\n",
    "        else:\n",
    "            # Define POST variables for login in Paramchem\n",
    "            datalogin = {\n",
    "                'usrName': username,\n",
    "                'curPwd': password,\n",
    "                'rndNo': str(random.randrange(100000000, 999999999)),\n",
    "                'submitBtn': 'Submit',\n",
    "            }\n",
    "            # Open web session\n",
    "            with requests.Session() as s:\n",
    "\n",
    "                # Login into paramchem\n",
    "                response_login = s.post('http://cgenff.umaryland.edu/userAccount/userWelcome.php', \n",
    "                           data=datalogin,\n",
    "                           verify=False)\n",
    "\n",
    "                # Submit our ligand molecule into paramchem\n",
    "                response_upload = s.post('http://cgenff.umaryland.edu/initguess/processdata.php', \n",
    "                           files = myfile,\n",
    "                           data = myparam,\n",
    "                            )\n",
    "\n",
    "                # Download Topology-parameters of our molecule file from paramchem, and store it.\n",
    "                # But remember submissions in paramchem are limited weekly\n",
    "                # Download also stderr, just in case\n",
    "                match = re.search('<path>(\\w+)</path>', response_upload.text)\n",
    "                if match:\n",
    "                    code = match.group(1)\n",
    "                    response_ligfile = s.get('http://cgenff.umaryland.edu/initguess/filedownload.php?file='+code+'/ligand.str')\n",
    "                    response_stder = s.get('https://cgenff.umaryland.edu/initguess/filedownload.php?file='+code+'/ligand.err')\n",
    "                    with open(topparfile_path, 'wb') as topparfile:\n",
    "                            topparfile.write(response_ligfile.content)\n",
    "                    with open(erwar_path, 'wb') as erwar:\n",
    "                            erwar.write(response_stder.content)                            \n",
    "                else:\n",
    "                    print('Your paramchem account has reached its weekly submission limit. Please, intrudce a new account or wait to the next monday to continue')            \n",
    "                    return\n",
    "                \n",
    "                #Delete lines with LPH (new feature from CHARMM not tolerated by HTMD)\n",
    "                with open(topparfile_path, \"r\") as f:\n",
    "                    lines = f.readlines()\n",
    "                with open(topparfile_path, \"w\") as f:\n",
    "                    for line in lines:\n",
    "                        if not re.match(lph_pat, line):\n",
    "                            f.write(line)\n",
    "\n",
    "def internal_waters(simdir, pdbcode, gpcrdb_data):\n",
    "    \"\"\"\n",
    "    Place internal waters in GPCR structure using homolwat online tool\n",
    "    \"\"\"\n",
    "    # Guess if molecule is active or not, and make Homolwat place (inactive) or not (active)\n",
    "    # the 2.50 sodium ion\n",
    "    sod = None\n",
    "    agoset = {'Agonist', 'Agonist (partial)'}\n",
    "    for entry in gpcrdb_data:\n",
    "        if entry['pdb_code'] == pdbcode:\n",
    "            ligands = entry['ligands']\n",
    "            if len(ligands) == 0: # If apoform\n",
    "                sod = \"sod_yes\"\n",
    "            elif ligands[0]['function'] in agoset: \n",
    "                sod = \"sod_no\"\n",
    "            else:\n",
    "                sod = \"sod_yes\"\n",
    "    \n",
    "    # Check if there is already a watered structure here\n",
    "    if glob(simdir+'*_HW.pdb'):\n",
    "        print(\"Structure %s already has a watered version. Skipping...\" % pdbcode)\n",
    "        return (sod == 'sod_yes')\n",
    "    else:\n",
    "        print(\"Adding internal waters to structure\")\n",
    "        \n",
    "    #Load pdb file\n",
    "    pdbpath = glob(simdir+'*.pdb')[0]\n",
    "    pdbfiles = {\"file\" : open(pdbpath, 'rb')} \n",
    "    \n",
    "    # Open web session\n",
    "    with requests.Session() as s:\n",
    "        # Load our desired structure into homolwat, as a PDB file\n",
    "        response_loadfile = s.post(\"https://alf06.uab.es/homolwat/run_HW\",\n",
    "                                   files = pdbfiles\n",
    "        )\n",
    "\n",
    "        # Get name and number of our query. Required for following steps\n",
    "        soup = BeautifulSoup(response_loadfile.text,'html')\n",
    "        query_num = soup.find('input',attrs={'name' : 'query_num'}).get('value')\n",
    "        query_name = soup.find('input',attrs={'name' : 'query_name'}).get('value')\n",
    "        \n",
    "        # Analyze structure and place internal waters\n",
    "        response_solvate = s.post(\"https://alf06.uab.es/homolwat/solvate\",\n",
    "                  data = {\n",
    "                    \"query_name\": query_name,\n",
    "                    \"query_num\": query_num,\n",
    "                    \"ch_rest\": '[]',\n",
    "                    \"option_state\": \"inac\",\n",
    "                    \"option_sodium\": sod,\n",
    "                    \"option_dowser\": \"dow_no\",\n",
    "                    \"p_ident\": \"\"\n",
    "                  }\n",
    "        )\n",
    "        # Download results in zip\n",
    "        query_num_noapo = query_num.split(\"'\")[1]\n",
    "        query_name_nofilext = query_name.split(\".\")[0]\n",
    "        response_download = s.post(\"https://alf06.uab.es/homolwat/download_file/\",\n",
    "              data = {\n",
    "                    \"query_num\": query_num_noapo,\n",
    "                    \"query_name\": query_name_nofilext\n",
    "              })\n",
    "        \n",
    "        # Unzip and extract watered strucutre file\n",
    "        req = response_download.request\n",
    "        if response_download.ok:\n",
    "            zippy = zipfile.ZipFile(io.BytesIO(response_download.content))\n",
    "            zippy.extract(query_name_nofilext+\"_HW.pdb\", path=simdir)\n",
    "            \n",
    "            # This program sodiums are wrongly formated, so the name of the homolog\n",
    "            # simulation occupies the charge column by error. Here i solve this\n",
    "            if sod == 'sod_yes':\n",
    "                in_hw = open(simdir + query_name_nofilext+\"_HW.pdb\", 'r')\n",
    "                out_hw = open(simdir + query_name_nofilext+\"_provo.pdb\", 'w')\n",
    "                for line in in_hw:\n",
    "                    if (len(line) > 79) and (line[79] != \" \"):\n",
    "                        linelist = list(line)\n",
    "                        linelist[79] = \" \"\n",
    "                        line = \"\".join(linelist)\n",
    "                    out_hw.write(line)\n",
    "                os.remove(simdir + query_name_nofilext+\"_HW.pdb\")\n",
    "                os.rename(simdir + query_name_nofilext+\"_provo.pdb\", simdir + query_name_nofilext+\"_HW.pdb\")\n",
    "        else:\n",
    "            print(\"could not add internal waters to %s. Skipping...\" % (pdbpath))\n",
    "    return (sod == 'sod_yes')\n",
    "\n",
    "def get_opm(pdbcode):\n",
    "    \"\"\"\n",
    "    Download and load OPM molecule for this PDB code. \n",
    "    If there is no opm structure for this pdbcode, download the substitute structure OPM seems fit\n",
    "    Return thickness and opm molecule\n",
    "    \"\"\"\n",
    "    \n",
    "    # Search pdb code in OPM database, and take thickness and opm_id\n",
    "    searchlink = 'https://lomize-group-opm.herokuapp.com//primary_structures?search='+pdbcode+'&sort=&pageSize=100'\n",
    "    response_dict=eval(requests.get(searchlink).content.decode('UTF-8')\\\n",
    "                       .replace('true', 'True')\\\n",
    "                       .replace('false','False')\\\n",
    "                       .replace('null','None'))\n",
    "    thickness = response_dict['objects'][0]['thickness']\n",
    "    opm_id = response_dict['objects'][0]['id']\n",
    "\n",
    "    # Throught opm id, get PDB id of the reference structure in OPM for this pdbcode\n",
    "    \n",
    "    opmlink = 'https://lomize-group-opm.herokuapp.com//primary_structures/'+str(opm_id)\n",
    "    response_dict=eval(requests.get(opmlink).content.decode('UTF-8')\\\n",
    "                       .replace('true', 'True')\\\n",
    "                       .replace('false','False')\\\n",
    "                       .replace('null','None'))\n",
    "    new_pdbcode = response_dict['pdbid'].lower()\n",
    "    \n",
    "    # Download OPM pdb file, and save all lines not involving a DUM residue in a temp file \n",
    "    response_pdb = requests.get('https://opm-assets.storage.googleapis.com/pdb/'+new_pdbcode+'.pdb')\n",
    "    line_list = (response_pdb.content.decode('UTF-8').split('\\n'))\n",
    "    tmpout = tempfile.NamedTemporaryFile(mode='w',suffix='.pdb')\n",
    "    for line in line_list:\n",
    "        if ' DUM ' not in line:\n",
    "            tmpout.write(line+'\\n')\n",
    "    name = tmpout.name\n",
    "    mol = Molecule(name)\n",
    "    tmpout.close()\n",
    "    \n",
    "    return (thickness, mol)\n",
    "\n",
    "def remove_artifacts(pdbcode, mol, ligdict, accepted_ligdict):\n",
    "    \"\"\"\n",
    "    Remove any small molecules included in ligdict but not in accepted_ligdict.\n",
    "    The intention is to remove unnecessary small molecules, like detergents \n",
    "    or ligands from removed parts of the protein\n",
    "    \"\"\"\n",
    "    tofilter = \"\"\n",
    "    for smalmol in ligdict[pdbcode]:\n",
    "        if smalmol not in accepted_ligdict[pdbcode]:\n",
    "            print('no '+smalmol)\n",
    "            tofilter += smalmol + \" \"\n",
    "    if tofilter:\n",
    "        gpcrdb_mol.filter('not resname '+tofilter)\n",
    "    return gpcrdb_mol\n",
    "                            \n",
    "#####################\n",
    "## Ismael's Functions\n",
    "#####################\n",
    "\n",
    "def renumber_resid_vmd(mol,sel,by=3,start=1):\n",
    "    tmpin = tempfile.NamedTemporaryFile(suffix='.pdb')\n",
    "    mol.write(tmpin.name)\n",
    "    viewer = getCurrentViewer(dispdev='text')\n",
    "    viewer.send('set molid [mol new {%s}]' % tmpin.name)\n",
    "    tmpin.close()\n",
    "    tmpout = tempfile.NamedTemporaryFile(suffix='.pdb')\n",
    "    \n",
    "    # What a wierd way of deciding if \"by_segid\", \"by_resname\" or by both\n",
    "    option_num = 2\n",
    "    max_value = 2**option_num - 1\n",
    "    if by > max_value:\n",
    "        raise ValueError('Maximum value for \"by\" keyword is %d.' % max_value)\n",
    "    if by < 1:\n",
    "        raise ValueError('Minimum value for \"by\" keyword is \"1\".')\n",
    "    bin_by = format(by,'0'+str(option_num)+'b')\n",
    "    option_array = [bool(int(i)) for i in bin_by]\n",
    "    by_segid = option_array[0]\n",
    "    by_resname = option_array[1]\n",
    "    \n",
    "    if by_segid:\n",
    "        segids = set(mol.get('segid',sel=sel))      \n",
    "        for segid in segids:\n",
    "            if by_resname:\n",
    "                resnames = set(mol.get('resname',sel='(%s) and segid %s' % (sel,segid)))\n",
    "                for resname in resnames:\n",
    "                    lsel = '(%s) and (segid %s) and (resname %s)' % (sel,segid,resname)\n",
    "                    viewer = renumber_resid_by_resid_vmd(lsel,mol,viewer,start=start)\n",
    "            else:\n",
    "                lsel = '(%s) and (segid %s)' % (sel,segid)\n",
    "                viewer = renumber_resid_by_resid_vmd(lsel,mol,viewer,start=start)\n",
    "    else:                      \n",
    "        resnames = set(mol.get('resname',sel=sel))\n",
    "        for resname in resnames:\n",
    "            lsel = '(%s) and (resname %s)' % (sel,resname)\n",
    "            viewer = renumber_resid_by_resid_vmd(lsel,mol,viewer,start=start)       \n",
    "    viewer.send('animate write pdb {%s} waitfor all top;exit' % tmpout.name)\n",
    "    newmol = Molecule(tmpout.name)\n",
    "    tmpout.close()\n",
    "    return newmol\n",
    "\n",
    "def renumber_resid_by_resid_vmd(sel,mol,viewer,start=1):\n",
    "    resids = sorted(list(set(mol.get('resid',sel=sel))))\n",
    "    resids = [str(i) for i in resids]\n",
    "    viewer.send('proc renum_resid {molid} {set newresid %d; set resids {%s};' % (start,' '.join(resids)) + \\\n",
    "                'set asall [atomselect $molid [concat {(%s) and resid } $resids]];' % sel + \\\n",
    "                '$asall set user 1.00;' + \\\n",
    "                'foreach resid $resids {' + \\\n",
    "                'set as [atomselect $molid [concat {user 1.00 and (%s) and resid } $resid]];' % sel + \\\n",
    "                '$as set resid $newresid; $as set user 0.00; incr newresid}};'+'renum_resid $molid')\n",
    "    return viewer\n",
    "\n",
    "def ordered_unique(seq):\n",
    "    seen = set()\n",
    "    return [x for x in seq if not (x in seen or seen.add(x))]\n",
    "\n",
    "def renumber_segments(inputmol,segids,prefix):\n",
    "    sel = 'segid '+' '.join(segids)\n",
    "    segids = ordered_unique(inputmol.get('segid',sel=sel))\n",
    "    if prefix in segids:\n",
    "        raise ValueError('segid %s already exists.' % prefix)\n",
    "    \n",
    "    mol = renumber_resid_vmd(inputmol,sel,by=2)\n",
    "    # change first segid segment as it is properly renumbered already\n",
    "    mol.set('segid',prefix,sel='segid '+segids[0])\n",
    "\n",
    "    if len(segids) > 1:\n",
    "        # initialize variables for second segid\n",
    "        curr_segid = prefix\n",
    "        # get last resid for first segid\n",
    "        idx_curr_segid = mol.atomselect('segid '+curr_segid)\n",
    "        prev_resid = len(set(mol.resid[idx_curr_segid]))\n",
    "        k = 0\n",
    "        for segid in segids[1:]:\n",
    "            \n",
    "            # get last current resid\n",
    "            idx_segid = mol.atomselect('segid '+segid)\n",
    "            curr_resid = len(set(mol.resid[idx_segid])) + prev_resid\n",
    "            if curr_resid <= 9999:\n",
    "                # join segments resuming the previous resid numbering\n",
    "                mol = renumber_resid_vmd(mol,'segid '+segid,start=prev_resid+1,by=2)\n",
    "                mol.segid[idx_segid] = curr_segid\n",
    "                # get last resid of the current segid for the next loop iteration\n",
    "                prev_resid = curr_resid\n",
    "            else:\n",
    "\n",
    "                # join segments resuming the previous resid numbering up to resid 9999\n",
    "                sel1 = 'segid '+segid+' and resid <= '+str(9999-prev_resid)\n",
    "                mol = renumber_resid_vmd(mol,sel1,start=prev_resid+1,by=2)\n",
    "                mol.set('segid',curr_segid,sel=sel1)\n",
    "                # define next new segment with resids > 9999\n",
    "                k +=1\n",
    "                curr_segid = prefix+str(k)\n",
    "                if curr_segid in segids:\n",
    "                    raise ValueError('segid %s already exists.' % curr_segid)\n",
    "                # resid <= 9999 still preserve the old segid\n",
    "                idx_curr_segid = mol.atomselect('segid '+segid)\n",
    "                mol.segid[idx_curr_segid] = curr_segid\n",
    "                # get last resid of the current segid for the next loop iteration\n",
    "                mol = renumber_resid_vmd(mol,'segid '+curr_segid,by=2)\n",
    "                prev_resid = len(set(mol.resid[idx_curr_segid]))\n",
    "            \n",
    "        if k > 0:\n",
    "            if prefix+str(0) in segids:\n",
    "                print('WARNING: segid %s already exists, using %s instead.' % (prefix,prefix+str(0)))\n",
    "            else:\n",
    "                mol.segid[mol.segid == prefix] = prefix+str(0)\n",
    "        \n",
    "    return mol\n",
    "\n",
    "def renumber_resid_by_resid(sel,mol,ordered=False):\n",
    "    resids = list(set(mol.get('resid',sel=sel)))\n",
    "    if ordered:\n",
    "        resids = sort(resids)\n",
    "    newresid = 1\n",
    "    for resid in resids:\n",
    "        mol.set('resid',newresid,sel='(%s) and (resid %s)' % (sel,resid))\n",
    "        newresid += 1\n",
    "    return mol\n",
    "\n",
    "def renumber_resid(mol,sel,by=3):\n",
    "    \n",
    "    # Long story short: by=1 -> by_resname; by=2 -> by_segid; by=3 -> by_segid and by_resname\n",
    "    # WTF!!!!\n",
    "    option_num = 2\n",
    "    max_value = 2**option_num - 1\n",
    "    if by > max_value:\n",
    "        raise ValueError('Maximum value for \"by\" keyword is %d.' % max_value)\n",
    "    if by < 1:\n",
    "        raise ValueError('Minimum value for \"by\" keyword is \"1\".')\n",
    "    bin_by = format(by,'0'+str(option_num)+'b')\n",
    "    option_array = [bool(int(i)) for i in bin_by]\n",
    "    by_segid = option_array[0]\n",
    "    by_resname = option_array[1]\n",
    "    \n",
    "    if by_segid:\n",
    "        segids = set(mol.get('segid',sel=sel))      \n",
    "        for segid in segids:\n",
    "            if by_resname:\n",
    "                resnames = set(mol.get('resname',sel='(%s) and segid %s' % (sel,segid)))\n",
    "                for resname in resnames:\n",
    "                    lsel = '(%s) and (segid %s) and (resname %s)' % (sel,segid,resname)\n",
    "                    mol = renumber_resid_by_resid(lsel,mol)\n",
    "            else:\n",
    "                lsel = '(%s) and (segid %s)' % (sel,segid)\n",
    "                mol = renumber_resid_by_resid(lsel,mol)\n",
    "    else:                      \n",
    "        resnames = set(mol.get('resname',sel=sel))\n",
    "        for resname in resnames:\n",
    "            lsel = '(%s) and (resname %s)' % (sel,resname)\n",
    "            mol = renumber_resid_by_resid(lsel,mol)\n",
    "    return mol\n",
    "\n",
    "def fix_and_prepare_input(inputmol,first='NTER',last='CTER'):\n",
    "    \"\"\"\n",
    "    ISMAEL FUNCTION\n",
    "    Establish homogeneus nomenclature for protein residue names and segments for the system.\n",
    "    \"\"\"\n",
    "    \n",
    "    mol = inputmol.copy()\n",
    "    aa= 'ALA ARG ASN ASP CYS GLU GLN GLY HIS ILE LEU LYS MET PHE PRO SER THR TRP TYR VAL'\n",
    "    mol.set('segid','WAT',sel='water')\n",
    "    mol.set('resname','TIP3',sel='water')\n",
    "    mol.set('chain','X',sel='resname TIP3')\n",
    "    mol.set('name','OH2',sel='resname TIP3 and name OW')\n",
    "    mol.set('name','H1',sel='resname TIP3 and name HW1')\n",
    "    mol.set('name','H2',sel='resname TIP3 and name HW2')\n",
    "    mol.remove('(protein or resname '+aa+') and name O1 O2')\n",
    "    if first == 'NTER':\n",
    "        mol.set('name','HT1',sel='(protein or resname '+aa+')and name H1')\n",
    "        mol.set('name','HT2',sel='(protein or resname '+aa+') and name H2')\n",
    "        mol.set('name','HT3',sel='(protein or resname '+aa+') and name H3')\n",
    "    else:\n",
    "        mol.remove('(protein or resname '+aa+')and name H1 H2 H3')\n",
    "    if last in {'CTER','CNEU','CTP','CT1'}:\n",
    "        mol.set('name','OT1',sel='(protein or resname '+aa+') and name O1')\n",
    "        mol.set('name','OT2',sel='(protein or resname '+aa+') and name O2')\n",
    "        #fix\n",
    "        mol.remove('(protein or resname '+aa+') and name OT2')\n",
    "    else:\n",
    "        mol.set('name','O',sel='(protein or resname '+aa+') and name O1')\n",
    "        mol.remove('(protein or resname '+aa+') and name O2')\n",
    "    mol.set('name','HG1',sel='resname CYS and name HG')\n",
    "    mol.set('name','HN',sel='resname HIS and name H')\n",
    "    \n",
    "    his_he_resids = mol.get('resid',sel='resname HIS and name HE2')\n",
    "    his_he_chains = mol.get('chain',sel='resname HIS and name HE2')\n",
    "    his_he_ids = set([':'.join((chain,str(resid))) for resid,chain in zip(his_he_resids,his_he_chains)])\n",
    "    his_hd_resids = mol.get('resid',sel='resname HIS and name HD1')\n",
    "    his_hd_chains = mol.get('chain',sel='resname HIS and name HD1')\n",
    "    his_hd_ids = set([':'.join((chain,str(resid))) for resid,chain in zip(his_hd_resids,his_hd_chains)])\n",
    "    hsd_ids = his_hd_ids.difference(his_he_ids)\n",
    "    hse_ids = his_he_ids.difference(his_hd_ids)\n",
    "    hsp_ids = his_hd_ids.intersection(his_he_ids)\n",
    "    hsd_dict = dict()\n",
    "    hse_dict = dict()\n",
    "    hsp_dict = dict()\n",
    "    \n",
    "    for chain,resid in [ id1.split(':') for id1 in hsd_ids]:\n",
    "        if chain not in hsd_dict:\n",
    "            hsd_dict[chain] = []\n",
    "        hsd_dict[chain].append(resid)\n",
    "    for chain,resid in [ id1.split(':') for id1 in hse_ids]:\n",
    "        if chain not in hse_dict:\n",
    "            hse_dict[chain] = []\n",
    "        hse_dict[chain].append(resid)\n",
    "    for chain,resid in [ id1.split(':') for id1 in hsp_ids]:\n",
    "        if chain not in hsp_dict:\n",
    "            hsp_dict[chain] = []\n",
    "        hsp_dict[chain].append(resid)\n",
    "    for chain in hsd_dict:\n",
    "        sel1 = 'resname HIS and resid '+' '.join(hsd_dict[chain])\n",
    "        mol.set('resname','HSD',sel=sel1)\n",
    "    for chain in hse_dict:\n",
    "        sel1 = 'resname HIS and resid '+' '.join(hse_dict[chain])\n",
    "        mol.set('resname','HSE',sel=sel1)\n",
    "    for chain in hsp_dict:\n",
    "        sel1 = 'resname HIS and resid '+' '.join(hsp_dict[chain])\n",
    "        mol.set('resname','HSP',sel=sel1)\n",
    "    mol = autoSegment(mol,sel='protein or resname '+aa)\n",
    "    mol.set('segid','LIG',sel='not (protein or resname '+aa+') and not water and not ions')\n",
    "    mol.set('chain','L',sel='segid LIG')\n",
    "    mol.set('segid','ION',sel='ions')\n",
    "    mol.set('chain','N',sel='segid ION')\n",
    "    protsegids = set(mol.get('segid',sel='protein'))\n",
    "    mol = renumber_resid(mol,'water',by=1)\n",
    "    mol = renumber_resid(mol,'ions',by=1)\n",
    "    mol = renumber_resid(mol,'segid LIG',by=2)\n",
    "    return (mol,protsegids)\n",
    "    #    for segid in protsegids:\n",
    "    #        resids = set(mol.get('resid',sel='segid '+segid))\n",
    "    #        for resid in resids:\n",
    "    #            resname = mol.get('resname',sel='resid '+str(resid)+' and segid '+segid)[0]\n",
    "    #            chain = mol.get('chain',sel='resid '+str(resid)+' and segid '+segid)[0]\n",
    "    #            mol.set('segid',segid,sel='resname '+resname+' and chain '+chain+' and resid '+str(segid))\n",
    "\n",
    "def prepare_system(mol_aligned, pdbcode, thickness = None, sod2x50 = False):\n",
    "    \"\"\"\n",
    "    Assign protonation states using \"proteinPrepare\" function from HTMD, and \n",
    "    force protonation of ASP2x50 if required\n",
    "    \"\"\"\n",
    "    \n",
    "    # If required, force protonation of ASP2x50\n",
    "    if not sod2x50:\n",
    "        # Download GPCRdb structure's website, and extract residue table from it\n",
    "        structure_data = requests.get('https://gpcrdb.org/structure/homology_models/'+pdbcode+'_refined').content\n",
    "        soup = BeautifulSoup(structure_data, 'html.parser')\n",
    "        table = soup.find('table', attrs={'id':'rotamers'})\n",
    "        table_body = table.find('tbody')\n",
    "        rows = table_body.find_all('tr')\n",
    "\n",
    "        # Iterate trougth residue table to find 2.50 residue ID in this PDB file\n",
    "        asp2x50 = None\n",
    "        for row in rows:\n",
    "            cols = row.find_all('td')\n",
    "            cols = [ele.text.strip() for ele in cols]\n",
    "            if cols[2] == \"2.50x50\":\n",
    "                asp2x50 = cols[1]\n",
    "\n",
    "        # Force residue protonation\n",
    "        current2x50 = mol_aligned.get('resname', sel='resid '+asp2x50)[0]\n",
    "        if current2x50 in {'ASP','GLU'}:\n",
    "            mol_aligned = proteinPrepare(mol_aligned,\n",
    "                                         pH = 0,\n",
    "                                         holdSelection = 'not resid '+asp2x50\n",
    "                                 )\n",
    "        \n",
    "    # Prepare protein (assign protonation states to residues)\n",
    "    prepared_mol, table = proteinPrepare(mol_aligned,\n",
    "                                  hydrophobicThickness=thickness,\n",
    "                                  returnDetails = True,\n",
    "                                 )\n",
    "\n",
    "    return prepared_mol\n",
    "    \n",
    "def add_membrane(pdbmol,membranemol,protsegids,membrane_distance,coldist=1.3):\n",
    "    # Corrections for rotational difusion\n",
    "    prot = pdbmol.copy()\n",
    "    protsel = 'segid '+' '.join(protsegids)\n",
    "    prot.filter(protsel,_logger=False)\n",
    "    r = minimalRotation(prot)\n",
    "    M = rotationMatrix([0, 0, 1], r)\n",
    "    pdbmol.rotateBy(M)\n",
    "    pcoor = pdbmol.get('coords',sel=protsel)\n",
    "    Mcoor = np.max(pcoor,axis=0)\n",
    "    mcoor = np.min(pcoor,axis=0)\n",
    "    # get the diagonal of XY of the protein if XY is a square \n",
    "    # which side is as long as the largest side (between X and Y) from the protein box  \n",
    "    p_dim = [Mcoor[0] - mcoor[0],Mcoor[1] - mcoor[1]]\n",
    "    maxXY = np.sqrt(p_dim[0]**2+p_dim[1]**2)\n",
    "    minimum_box_size_x = maxXY+2\n",
    "    minimum_box_size_y = minimum_box_size_x\n",
    "    \n",
    "    # get min max coor of the system\n",
    "    minc = np.min(pdbmol.coords, axis=0).flatten()\n",
    "    maxc = np.max(pdbmol.coords, axis=0).flatten()\n",
    "    \n",
    "    system_size_x = maxc[0] - minc[0]\n",
    "    system_size_y = maxc[1] - minc[1]\n",
    "    \n",
    "    center_x = system_size_x/2 + minc[0]\n",
    "    center_y = system_size_y/2 + minc[1]\n",
    "    \n",
    "    system_size = np.max([system_size_x,system_size_y])\n",
    "    corr_system_size_x = np.max([minimum_box_size_x,system_size]) \n",
    "    corr_system_size_y = np.max([minimum_box_size_y,system_size])\n",
    "    \n",
    "    addmembdist = membrane_distance/2.0+np.max([coldist,1.5])+0.0\n",
    "    \n",
    "    xlim = [center_x-corr_system_size_x/2-addmembdist,center_x+corr_system_size_x/2+addmembdist]\n",
    "    ylim = [center_y-corr_system_size_y/2-addmembdist,center_y+corr_system_size_y/2+addmembdist]\n",
    "    \n",
    "    memb = membranemol.copy()\n",
    "    memb.remove('ions',_logger=False)\n",
    "    memb2 = tileMembrane(memb, xlim[0], ylim[0], xlim[1], ylim[1])\n",
    "    \n",
    "    #from tileMembrane\n",
    "    size = np.max(membranemol.get('coords', 'water'), axis=0) - np.min(membranemol.get('coords', 'water'), axis=0)\n",
    "    xreps = int(np.ceil((xlim[1] - xlim[0]) / size[0]))\n",
    "    yreps = int(np.ceil((ylim[1] - ylim[0]) / size[1]))\n",
    "    \n",
    "    membtmp_segids = ordered_unique(memb2.get('segid'))\n",
    "    k=0\n",
    "    for segid in membtmp_segids:\n",
    "    #    memb2.set('segid','M'+str(k),sel='segid '+segid+' and not waters')\n",
    "         memb2.set('segid','W'+str(k),sel='segid '+segid+' and waters')\n",
    "         k += 1\n",
    "            \n",
    "    memb2 = renumber_segments(memb2,set(memb2.get('segid',sel='waters')),'MW')\n",
    "    memb2 = renumber_segments(memb2,set(memb2.get('segid',sel='not waters')),'MEM')\n",
    "    membrane_resnames = set(memb2.get('resname'))\n",
    "    membrane_segids = set(memb2.get('segid'))\n",
    "    \n",
    "    mcenter = np.mean(memb2.get('coords',sel='segid MEM'),axis=0)\n",
    "    memb2.moveBy(-mcenter)\n",
    "\n",
    "    memb2, num = removeLipidsInProtein(pdbmol, memb2,lipidsel='lipids or waters')\n",
    "    \n",
    "    mol = pdbmol.copy()\n",
    "    mol.append(memb2, collisions=True,coldist=coldist)\n",
    "    \n",
    "    return (mol, membrane_resnames,membrane_segids,xreps,yreps)\n",
    "\n",
    "def solvate_pdbmol(mol,membrane_segids,water_thickness,water_margin,buffer=2.4,coldist=1.3,prefix='W'):\n",
    "    waterbox = mol.get('coords','(waters or ions) and segid '+' '.join(membrane_segids))\n",
    "    mwaterbox = np.min(waterbox, axis=0)\n",
    "    Mwaterbox = np.max(waterbox, axis=0)\n",
    "    coo = mol.get('coords','not (waters or ions)')\n",
    "    mcoo = np.min(coo, axis=0)\n",
    "    Mcoo = np.max(coo, axis=0)\n",
    "    cooall = mol.get('coords','all')\n",
    "    mcooall = np.min(coo, axis=0)\n",
    "    Mcooall = np.max(coo, axis=0)\n",
    "    #top layer\n",
    "    M1z = Mcoo[2] + water_thickness/2. + np.max((coldist,buffer)) - buffer\n",
    "    m1z = Mwaterbox[2] - water_margin\n",
    "    M1 = [Mwaterbox[0],Mwaterbox[1],M1z]\n",
    "    m1 = [mwaterbox[0],mwaterbox[1],m1z]\n",
    "    print(\"wataerbox Max and min: \", Mwaterbox, mwaterbox)\n",
    "    \n",
    "    #bottom layer\n",
    "    M2z = mwaterbox[2] + water_margin\n",
    "    m2z = mcoo[2] - water_thickness/2.- np.max((coldist,buffer)) + buffer\n",
    "    M2 = [Mwaterbox[0],Mwaterbox[1],M2z]\n",
    "    m2 = [mwaterbox[0],mwaterbox[1],m2z]\n",
    "\n",
    "    smol = solvate(mol, minmax=np.vstack((m2,M1)),prefix=prefix,buffer=buffer)\n",
    "\n",
    "    smol, num_remove = removeAtomsInHull(smol, smol, 'name CA', 'segid \"'+prefix+'[0-9]+\"')\n",
    "    #wtsegids = set(smol.get('segid',sel='segid \"%s.*\"'% prefix))\n",
    "    #for segid in wtsegids:\n",
    "        #smol.remove('segid %s and same resid as ( z > %g and z < %g)' % (segid,M2[2],m1[2]),_logger=False)\n",
    "\n",
    "    return smol\n",
    "\n",
    "def add_dummy_atom(inputmol,property_dict):\n",
    "    for prop in property_dict:\n",
    "        dummymol.set(prop,property_dict[prop])\n",
    "    inputmol.append(dummymol,coldist=None)\n",
    "    return inputmol\n",
    "def add_center_dummy_atom(inputmol,coords,property_dict):\n",
    "    center = np.mean(coords,axis=0)\n",
    "    property_dict['coords'] = center\n",
    "    mol = add_dummy_atom(inputmol,property_dict)\n",
    "    return mol\n",
    "def remove_aromatic_insertions(inputmol,protsegids,coldist=1.5,outpdb=None):\n",
    "    mol = inputmol.copy()\n",
    "    atoms_data = [['TRP','CG CD1 CE1 NE1 CE2 CD2',5,'1'],\n",
    "                 ['TRP','CD2 CE2 CZ2 CH2 CZ3 CE3',6,'2'],\n",
    "                 ['PRO','N CA CB CG CD',5,''],\n",
    "                 ['HIS HSD HSE HSP HID HIE HIP',\n",
    "                  'CG CD1 CE1 CZ CE2 CD2 ND1 NE2',5,''],\n",
    "                 ['PHE TYR TYM',\n",
    "                  'CG CD1 CE1 CZ CE2 CD2',6,'']]\n",
    "    beta_backup = np.copy(mol.beta)\n",
    "    mol.set('beta',sequenceID((mol.resid, mol.insertion, mol.segid)))    \n",
    "    \n",
    "    for atom_data in atoms_data:\n",
    "        atom_step = atom_data[2]\n",
    "        suffix = atom_data[3]\n",
    "        sel = 'resname %s and name %s' % (atom_data[0],atom_data[1])\n",
    "        idxs = mol.get('index',sel=sel)\n",
    "        resnames = mol.resname[idxs]\n",
    "        resids = mol.resid[idxs]\n",
    "        segids = mol.segid[idxs]\n",
    "        coords = mol.coords[idxs,:,0]\n",
    "        atom_num = len(idxs)\n",
    "        if atom_num % atom_step != 0:\n",
    "            raise ValueError('Missing atoms.')\n",
    "        for i in range(0,atom_num,atom_step):\n",
    "            property_dict = {'resname':resnames[i]+suffix,'resid':resids[i],'segid':segids[i]}\n",
    "            mol = add_center_dummy_atom(mol,coords[i:i+atom_step],property_dict)\n",
    "            \n",
    "    if outpdb:\n",
    "        mol.write(outpdb)\n",
    "    var_list = tuple([coldist]+[dummy_sel for i in range(0,3)])\n",
    "    \n",
    "    dummy_atoms_idxs = mol.get('index',sel=dummy_sel)\n",
    "    dummy_atoms_resid = mol.resid[dummy_atoms_idxs]\n",
    "    dummy_atoms_segid = mol.segid[dummy_atoms_idxs]\n",
    "    removed_indexes = []\n",
    "    for idx,resid,segid in zip(dummy_atoms_idxs,dummy_atoms_resid,dummy_atoms_segid):\n",
    "        r_idx1 = mol.get('index', sel='not (%s) and same beta as ((exwithin %g of (index %d)) and not (resid %d and segid %s))'  % (dummy_sel,coldist,idx,resid,segid))\n",
    "        removed_indexes = removed_indexes + r_idx1.tolist()\n",
    "        \n",
    "    if len(removed_indexes) > 0:\n",
    "        removed_indexes_str = ' '.join(str(x) for x in removed_indexes)\n",
    "        mol.remove('index '+removed_indexes_str)\n",
    "    mol.remove(dummy_sel,_logger=False)\n",
    "    inv_idx1 = np.setdiff1d(np.arange(len(beta_backup)), np.array(removed_indexes), assume_unique=True)\n",
    "    mol.beta = beta_backup[inv_idx1]\n",
    "        \n",
    "    print('WARNING: removed '+str(len(removed_indexes))+' atoms within '+str(coldist)+' of a protein aromatic ring')\n",
    "    \n",
    "    return (mol,removed_indexes)\n",
    "\n",
    "def define_equilibration(const_sel):\n",
    "    simtime = 40\n",
    "    restr = AtomRestraint(const_sel, 2, [(0,\"0\"),(1,\"%dns\" % int(simtime*0.5)),(0,\"%dns\" % int(simtime*0.75))], \"xyz\")\n",
    "    md = Equilibration()\n",
    "    md.runtime = simtime\n",
    "    md.timeunits = 'ns'\n",
    "    md.temperature = 310\n",
    "    md.nvtsteps = 0\n",
    "    md.acemd.barostatconstratio = 'on'\n",
    "    md.acemd.minimize = 5000\n",
    "    md.acemd.restart = 'off'\n",
    "    md.acemd.timestep = 2\n",
    "    md.restraints = restr\n",
    "    return md\n",
    "\n",
    "def define_production():\n",
    "    md = Production()\n",
    "    md.runtime = 500\n",
    "    md.timeunits = 'ns'\n",
    "    md.temperature = 310\n",
    "    md.acemd.timestep = 4\n",
    "    md.acemd.barostatconstratio = 'on'\n",
    "    md.acemd.restart = 'off'\n",
    "    md.acemd.bincoordinates = 'output.coor'\n",
    "    md.acemd.extendedsystem  = 'output.xsc'\n",
    "    md.acemd.binvelocities = 'output.vel'\n",
    "    return md"
   ]
  },
  {
   "cell_type": "code",
   "execution_count": 4,
   "metadata": {},
   "outputs": [
    {
     "name": "stdout",
     "output_type": "stream",
     "text": [
      "Downloading 5UIW structure (1/192)\n",
      "Structure for 5UIW already present. Skipping...\n",
      "Downloading 6AKX structure (2/192)\n",
      "Structure for 6AKX already present. Skipping...\n",
      "Downloading 5V56 structure (3/192)\n",
      "could not download 5V56 refined structure. Skipping...\n",
      "Downloading 5TE3 structure (4/192)\n",
      "Structure for 5TE3 already present. Skipping...\n",
      "Downloading 6LI0 structure (5/192)\n",
      "Structure for 6LI0 already present. Skipping...\n",
      "Downloading 6D32 structure (6/192)\n",
      "Structure for 6D32 already present. Skipping...\n",
      "Downloading 6TOS structure (7/192)\n",
      "Structure for 6TOS already present. Skipping...\n",
      "Downloading 6IIU structure (8/192)\n",
      "Structure for 6IIU already present. Skipping...\n",
      "Downloading 6KPC structure (9/192)\n",
      "could not download 6KPC refined structure. Skipping...\n",
      "Downloading 5XSZ structure (10/192)\n",
      "Structure for 5XSZ already present. Skipping...\n",
      "Downloading 6D27 structure (11/192)\n",
      "Structure for 6D27 already present. Skipping...\n",
      "Downloading 5TVN structure (12/192)\n",
      "Structure for 5TVN already present. Skipping...\n",
      "Downloading 5WIV structure (13/192)\n",
      "Structure for 5WIV already present. Skipping...\n",
      "Downloading 6A93 structure (14/192)\n",
      "Structure for 6A93 already present. Skipping...\n",
      "Downloading 5X33 structure (15/192)\n",
      "Structure for 5X33 already present. Skipping...\n",
      "Downloading 6ME2 structure (16/192)\n",
      "Structure for 6ME2 already present. Skipping...\n",
      "Downloading 6K1Q structure (17/192)\n",
      "Structure for 6K1Q already present. Skipping...\n",
      "Downloading 6LI1 structure (18/192)\n",
      "Structure for 6LI1 already present. Skipping...\n",
      "Downloading 5WIU structure (19/192)\n",
      "Structure for 5WIU already present. Skipping...\n",
      "Downloading 5VBL structure (20/192)\n",
      "Structure for 5VBL already present. Skipping...\n",
      "Downloading 6LI2 structure (21/192)\n",
      "Structure for 6LI2 already present. Skipping...\n",
      "Downloading 5KW2 structure (22/192)\n",
      "Structure for 5KW2 already present. Skipping...\n",
      "Downloading 6RZ8 structure (23/192)\n",
      "could not download 6RZ8 refined structure. Skipping...\n",
      "Downloading 6CM4 structure (24/192)\n",
      "Structure for 6CM4 already present. Skipping...\n",
      "Downloading 6J21 structure (25/192)\n",
      "Structure for 6J21 already present. Skipping...\n",
      "Downloading 6GPX structure (26/192)\n",
      "Structure for 6GPX already present. Skipping...\n",
      "Downloading 5UIG structure (27/192)\n",
      "Structure for 5UIG already present. Skipping...\n",
      "Downloading 4GBR structure (28/192)\n",
      "Structure for 4GBR already present. Skipping...\n",
      "Downloading 6GPS structure (29/192)\n",
      "Structure for 6GPS already present. Skipping...\n",
      "Downloading 6LUQ structure (30/192)\n",
      "Structure for 6LUQ already present. Skipping...\n",
      "Downloading 6ME4 structure (31/192)\n",
      "Structure for 6ME4 already present. Skipping...\n",
      "Downloading 6RZ4 structure (32/192)\n",
      "could not download 6RZ4 refined structure. Skipping...\n",
      "Downloading 6FK6 structure (33/192)\n",
      "Structure for 6FK6 already present. Skipping...\n",
      "Downloading 6FJ3 structure (34/192)\n",
      "Structure for 6FJ3 already present. Skipping...\n",
      "Downloading 6IIV structure (35/192)\n",
      "Structure for 6IIV already present. Skipping...\n",
      "Downloading 6TQ6 structure (36/192)\n",
      "Structure for 6TQ6 already present. Skipping...\n",
      "Downloading 6OBA structure (37/192)\n",
      "Structure for 6OBA already present. Skipping...\n",
      "Downloading 6A94 structure (38/192)\n",
      "Structure for 6A94 already present. Skipping...\n",
      "Downloading 4XES structure (39/192)\n",
      "Structure for 4XES already present. Skipping...\n",
      "Downloading 5ZBH structure (40/192)\n",
      "Structure for 5ZBH already present. Skipping...\n",
      "Downloading 5UNF structure (41/192)\n",
      "Structure for 5UNF already present. Skipping...\n",
      "Downloading 6PS7 structure (42/192)\n",
      "Structure for 6PS7 already present. Skipping...\n",
      "Downloading 6PS5 structure (43/192)\n",
      "Structure for 6PS5 already present. Skipping...\n",
      "Downloading 5V54 structure (44/192)\n",
      "Structure for 5V54 already present. Skipping...\n",
      "Downloading 5T1A structure (45/192)\n",
      "Structure for 5T1A already present. Skipping...\n",
      "Downloading 5DYS structure (46/192)\n",
      "Structure for 5DYS already present. Skipping...\n",
      "Downloading 6OL9 structure (47/192)\n",
      "Structure for 6OL9 already present. Skipping...\n",
      "Downloading 6TQ4 structure (48/192)\n",
      "Structure for 6TQ4 already present. Skipping...\n",
      "Downloading 5OLG structure (49/192)\n",
      "Structure for 5OLG already present. Skipping...\n",
      "Downloading 6TOD structure (50/192)\n",
      "Structure for 6TOD already present. Skipping...\n",
      "Downloading 5NDZ structure (51/192)\n",
      "Structure for 5NDZ already present. Skipping...\n",
      "Downloading 6LRY structure (52/192)\n",
      "Structure for 6LRY already present. Skipping...\n",
      "Downloading 6KQI structure (53/192)\n",
      "Structure for 6KQI already present. Skipping...\n",
      "Downloading 6PS3 structure (54/192)\n",
      "Structure for 6PS3 already present. Skipping...\n",
      "Downloading 6BQG structure (55/192)\n",
      "could not download 6BQG refined structure. Skipping...\n",
      "Downloading 6PS2 structure (56/192)\n",
      "Structure for 6PS2 already present. Skipping...\n",
      "Downloading 5K2A structure (57/192)\n",
      "Structure for 5K2A already present. Skipping...\n",
      "Downloading 6FK7 structure (58/192)\n",
      "Structure for 6FK7 already present. Skipping...\n",
      "Downloading 5UNH structure (59/192)\n",
      "Structure for 5UNH already present. Skipping...\n",
      "Downloading 5F8U structure (60/192)\n",
      "Structure for 5F8U already present. Skipping...\n",
      "Downloading 6HLL structure (61/192)\n",
      "Structure for 6HLL already present. Skipping...\n",
      "Downloading 5ZK3 structure (62/192)\n",
      "Structure for 5ZK3 already present. Skipping...\n",
      "Downloading 6TPN structure (63/192)\n",
      "Structure for 6TPN already present. Skipping...\n",
      "Downloading 5N2R structure (64/192)\n",
      "Structure for 5N2R already present. Skipping...\n",
      "Downloading 5YQZ structure (65/192)\n",
      "Structure for 5YQZ already present. Skipping...\n",
      "Downloading 6KNM structure (66/192)\n",
      "Structure for 6KNM already present. Skipping...\n",
      "Downloading 6HLP structure (67/192)\n",
      "Structure for 6HLP already present. Skipping...\n",
      "Downloading 5K2D structure (68/192)\n",
      "Structure for 5K2D already present. Skipping...\n",
      "Downloading 6BQH structure (69/192)\n",
      "could not download 6BQH refined structure. Skipping...\n",
      "Downloading 6FKB structure (70/192)\n",
      "Structure for 6FKB already present. Skipping...\n",
      "Downloading 5OM4 structure (71/192)\n",
      "Structure for 5OM4 already present. Skipping...\n",
      "Downloading 4NTJ structure (72/192)\n",
      "Structure for 4NTJ already present. Skipping...\n",
      "Downloading 6AK3 structure (73/192)\n",
      "Structure for 6AK3 already present. Skipping...\n",
      "Downloading 5JTB structure (74/192)\n",
      "Structure for 5JTB already present. Skipping...\n",
      "Downloading 5ZKC structure (75/192)\n",
      "Structure for 5ZKC already present. Skipping...\n",
      "Downloading 5ZKQ structure (76/192)\n",
      "Structure for 5ZKQ already present. Skipping...\n",
      "Downloading 6DRZ structure (77/192)\n",
      "Structure for 6DRZ already present. Skipping...\n",
      "Downloading 5T04 structure (78/192)\n",
      "Structure for 5T04 already present. Skipping...\n",
      "Downloading 6RZ7 structure (79/192)\n",
      "Structure for 6RZ7 already present. Skipping...\n",
      "Downloading 4N4W structure (80/192)\n",
      "Structure for 4N4W already present. Skipping...\n",
      "Downloading 5NLX structure (81/192)\n",
      "Structure for 5NLX already present. Skipping...\n",
      "Downloading 5ZTY structure (82/192)\n",
      "Structure for 5ZTY already present. Skipping...\n",
      "Downloading 6FK8 structure (83/192)\n",
      "Structure for 6FK8 already present. Skipping...\n",
      "Downloading 5VRA structure (84/192)\n",
      "Structure for 5VRA already present. Skipping...\n",
      "Downloading 6ME6 structure (85/192)\n",
      "Structure for 6ME6 already present. Skipping...\n",
      "Downloading 6KJV structure (86/192)\n",
      "Structure for 6KJV already present. Skipping...\n",
      "Downloading 5LWE structure (87/192)\n",
      "could not download 5LWE refined structure. Skipping...\n",
      "Downloading 6TPJ structure (88/192)\n",
      "Structure for 6TPJ already present. Skipping...\n",
      "Downloading 6DRY structure (89/192)\n",
      "Structure for 6DRY already present. Skipping...\n",
      "Downloading 5D6L structure (90/192)\n",
      "Structure for 5D6L already present. Skipping...\n",
      "Downloading 4NC3 structure (91/192)\n",
      "Structure for 4NC3 already present. Skipping...\n",
      "Downloading 6TP3 structure (92/192)\n",
      "Structure for 6TP3 already present. Skipping...\n",
      "Downloading 5K2C structure (93/192)\n",
      "Structure for 5K2C already present. Skipping...\n",
      "Downloading 5OLV structure (94/192)\n",
      "Structure for 5OLV already present. Skipping...\n",
      "Downloading 6FFH structure (95/192)\n",
      "Structure for 6FFH already present. Skipping...\n",
      "Downloading 6D26 structure (96/192)\n",
      "Structure for 6D26 already present. Skipping...\n",
      "Downloading 6TP6 structure (97/192)\n",
      "Structure for 6TP6 already present. Skipping...\n",
      "Downloading 5X7D structure (98/192)\n",
      "Structure for 5X7D already present. Skipping...\n",
      "Downloading 5MZP structure (99/192)\n"
     ]
    },
    {
     "name": "stdout",
     "output_type": "stream",
     "text": [
      "could not download 5MZP refined structure. Skipping...\n",
      "Downloading 5O9H structure (100/192)\n",
      "Structure for 5O9H already present. Skipping...\n",
      "Downloading 6PRZ structure (101/192)\n",
      "Structure for 6PRZ already present. Skipping...\n",
      "Downloading 6PS4 structure (102/192)\n",
      "Structure for 6PS4 already present. Skipping...\n",
      "Downloading 6TO7 structure (103/192)\n",
      "Structure for 6TO7 already present. Skipping...\n",
      "Downloading 6RZ9 structure (104/192)\n",
      "Structure for 6RZ9 already present. Skipping...\n",
      "Downloading 6IGL structure (105/192)\n",
      "Structure for 6IGL already present. Skipping...\n",
      "Downloading 6ME8 structure (106/192)\n",
      "Structure for 6ME8 already present. Skipping...\n",
      "Downloading 2YCZ structure (107/192)\n",
      "Structure for 2YCZ already present. Skipping...\n",
      "Downloading 6AQF structure (108/192)\n",
      "Structure for 6AQF already present. Skipping...\n",
      "Downloading 5TZR structure (109/192)\n",
      "Structure for 5TZR already present. Skipping...\n",
      "Downloading 1GZM structure (110/192)\n",
      "could not download 1GZM refined structure. Skipping...\n",
      "Downloading 5UNG structure (111/192)\n",
      "Structure for 5UNG already present. Skipping...\n",
      "Downloading 4EJ4 structure (112/192)\n",
      "Structure for 4EJ4 already present. Skipping...\n",
      "Downloading 6FFI structure (113/192)\n",
      "Structure for 6FFI already present. Skipping...\n",
      "Downloading 6KK7 structure (114/192)\n",
      "Structure for 6KK7 already present. Skipping...\n",
      "Downloading 6PS8 structure (115/192)\n",
      "Structure for 6PS8 already present. Skipping...\n",
      "Downloading 6TP4 structure (116/192)\n",
      "Structure for 6TP4 already present. Skipping...\n",
      "Downloading 6TOT structure (117/192)\n",
      "Structure for 6TOT already present. Skipping...\n",
      "Downloading 4O9R structure (118/192)\n",
      "Structure for 4O9R already present. Skipping...\n",
      "Downloading 6JZH structure (119/192)\n",
      "Structure for 6JZH already present. Skipping...\n",
      "Downloading 6ME3 structure (120/192)\n",
      "Structure for 6ME3 already present. Skipping...\n",
      "Downloading 5EE7 structure (121/192)\n",
      "Structure for 5EE7 already present. Skipping...\n",
      "Downloading 6C1Q structure (122/192)\n",
      "Structure for 6C1Q already present. Skipping...\n",
      "Downloading 6FK9 structure (123/192)\n",
      "Structure for 6FK9 already present. Skipping...\n",
      "Downloading 2Z73 structure (124/192)\n",
      "Structure for 2Z73 already present. Skipping...\n",
      "Downloading 5XR8 structure (125/192)\n",
      "Structure for 5XR8 already present. Skipping...\n",
      "Downloading 6LW5 structure (126/192)\n",
      "Structure for 6LW5 already present. Skipping...\n",
      "Downloading 6AKY structure (127/192)\n",
      "Structure for 6AKY already present. Skipping...\n",
      "Downloading 5N2S structure (128/192)\n",
      "Structure for 5N2S already present. Skipping...\n",
      "Downloading 5OLZ structure (129/192)\n",
      "Structure for 5OLZ already present. Skipping...\n",
      "Downloading 6FKA structure (130/192)\n",
      "Structure for 6FKA already present. Skipping...\n",
      "Downloading 5UVI structure (131/192)\n",
      "Structure for 5UVI already present. Skipping...\n",
      "Downloading 5GLI structure (132/192)\n",
      "Structure for 5GLI already present. Skipping...\n",
      "Downloading 6HLO structure (133/192)\n",
      "Structure for 6HLO already present. Skipping...\n",
      "Downloading 6TQ9 structure (134/192)\n",
      "Structure for 6TQ9 already present. Skipping...\n",
      "Downloading 6GT3 structure (135/192)\n",
      "Structure for 6GT3 already present. Skipping...\n",
      "Downloading 6IGK structure (136/192)\n",
      "Structure for 6IGK already present. Skipping...\n",
      "Downloading 5ZBQ structure (137/192)\n",
      "Structure for 5ZBQ already present. Skipping...\n",
      "Downloading 5YC8 structure (138/192)\n",
      "Structure for 5YC8 already present. Skipping...\n",
      "Downloading 5OLO structure (139/192)\n",
      "Structure for 5OLO already present. Skipping...\n",
      "Downloading 6DRX structure (140/192)\n",
      "Structure for 6DRX already present. Skipping...\n",
      "Downloading 4Z9G structure (141/192)\n",
      "Structure for 4Z9G already present. Skipping...\n",
      "Downloading 5VEW structure (142/192)\n",
      "Structure for 5VEW already present. Skipping...\n",
      "Downloading 6J20 structure (143/192)\n",
      "Structure for 6J20 already present. Skipping...\n",
      "Downloading 6FKD structure (144/192)\n",
      "Structure for 6FKD already present. Skipping...\n",
      "Downloading 6TPG structure (145/192)\n",
      "Structure for 6TPG already present. Skipping...\n",
      "Downloading 5NX2 structure (146/192)\n",
      "Structure for 5NX2 already present. Skipping...\n",
      "Downloading 5WQC structure (147/192)\n",
      "Structure for 5WQC already present. Skipping...\n",
      "Downloading 4XT3 structure (148/192)\n",
      "Structure for 4XT3 already present. Skipping...\n",
      "Downloading 5XRA structure (149/192)\n",
      "Structure for 5XRA already present. Skipping...\n",
      "Downloading 6E59 structure (150/192)\n",
      "Structure for 6E59 already present. Skipping...\n",
      "Downloading 6ME9 structure (151/192)\n",
      "Structure for 6ME9 already present. Skipping...\n",
      "Downloading 4QIM structure (152/192)\n",
      "Structure for 4QIM already present. Skipping...\n",
      "Downloading 6DS0 structure (153/192)\n",
      "Structure for 6DS0 already present. Skipping...\n",
      "Downloading 5ZK8 structure (154/192)\n",
      "Structure for 5ZK8 already present. Skipping...\n",
      "Downloading 6KP6 structure (155/192)\n",
      "Structure for 6KP6 already present. Skipping...\n",
      "Downloading 6QZH structure (156/192)\n",
      "Structure for 6QZH already present. Skipping...\n",
      "Downloading 6FKC structure (157/192)\n",
      "Structure for 6FKC already present. Skipping...\n",
      "Downloading 5TZY structure (158/192)\n",
      "Structure for 5TZY already present. Skipping...\n",
      "Downloading 5OLH structure (159/192)\n",
      "Structure for 5OLH already present. Skipping...\n",
      "Downloading 5NM4 structure (160/192)\n",
      "Structure for 5NM4 already present. Skipping...\n",
      "Downloading 6C1R structure (161/192)\n",
      "Structure for 6C1R already present. Skipping...\n",
      "Downloading 4BUO structure (162/192)\n",
      "could not download 4BUO refined structure. Skipping...\n",
      "Downloading 6PS1 structure (163/192)\n",
      "Structure for 6PS1 already present. Skipping...\n",
      "Downloading 5WF5 structure (164/192)\n",
      "Structure for 5WF5 already present. Skipping...\n",
      "Downloading 5MZJ structure (165/192)\n",
      "Structure for 5MZJ already present. Skipping...\n",
      "Downloading 6PS0 structure (166/192)\n",
      "Structure for 6PS0 already present. Skipping...\n",
      "Downloading 5WS3 structure (167/192)\n",
      "Structure for 5WS3 already present. Skipping...\n",
      "Downloading 5V57 structure (168/192)\n",
      "Structure for 5V57 already present. Skipping...\n",
      "Downloading 5K2B structure (169/192)\n",
      "Structure for 5K2B already present. Skipping...\n",
      "Downloading 6ME5 structure (170/192)\n",
      "Structure for 6ME5 already present. Skipping...\n",
      "Downloading 5VEX structure (171/192)\n",
      "Structure for 5VEX already present. Skipping...\n",
      "Downloading 6ME7 structure (172/192)\n",
      "Structure for 6ME7 already present. Skipping...\n",
      "Downloading 6KK1 structure (173/192)\n",
      "Structure for 6KK1 already present. Skipping...\n",
      "Downloading 6RZ6 structure (174/192)\n",
      "Structure for 6RZ6 already present. Skipping...\n",
      "Downloading 6PS6 structure (175/192)\n",
      "Structure for 6PS6 already present. Skipping...\n",
      "Downloading 4GPO structure (176/192)\n",
      "Structure for 4GPO already present. Skipping...\n",
      "Downloading 6D35 structure (177/192)\n",
      "Structure for 6D35 already present. Skipping...\n",
      "Downloading 5X93 structure (178/192)\n",
      "Structure for 5X93 already present. Skipping...\n",
      "Downloading 5XPR structure (179/192)\n",
      "Structure for 5XPR already present. Skipping...\n",
      "Downloading 5NM2 structure (180/192)\n",
      "Structure for 5NM2 already present. Skipping...\n",
      "Downloading 5ZKP structure (181/192)\n",
      "Structure for 5ZKP already present. Skipping...\n",
      "Downloading 5ZHP structure (182/192)\n",
      "Structure for 5ZHP already present. Skipping...\n",
      "Downloading 5WF6 structure (183/192)\n",
      "Structure for 5WF6 already present. Skipping...\n",
      "Downloading 5NDD structure (184/192)\n",
      "Structure for 5NDD already present. Skipping...\n",
      "Downloading 5TE5 structure (185/192)\n",
      "Structure for 5TE5 already present. Skipping...\n",
      "Downloading 4JKV structure (186/192)\n",
      "Structure for 4JKV already present. Skipping...\n",
      "Downloading 6MH8 structure (187/192)\n",
      "Structure for 6MH8 already present. Skipping...\n",
      "Downloading 5OM1 structure (188/192)\n",
      "Structure for 5OM1 already present. Skipping...\n",
      "Downloading 6M9T structure (189/192)\n",
      "Structure for 6M9T already present. Skipping...\n",
      "Downloading 6TQ7 structure (190/192)\n",
      "Structure for 6TQ7 already present. Skipping...\n",
      "Downloading 6RZ5 structure (191/192)\n",
      "could not download 6RZ5 refined structure. Skipping...\n",
      "Downloading 5ZKB structure (192/192)\n",
      "Structure for 5ZKB already present. Skipping...\n",
      "Getting toppar file for ligand K86 (1/247)\n",
      "toppar for ligand K86 already exists. Skipping...\n",
      "Getting toppar file for ligand 9GL (2/247)\n",
      "toppar for ligand 9GL already exists. Skipping...\n",
      "Getting toppar file for ligand UKA (3/247)\n",
      "toppar for ligand UKA already exists. Skipping...\n",
      "Getting toppar file for ligand 2U8 (4/247)\n",
      "toppar for ligand 2U8 already exists. Skipping...\n",
      "Getting toppar file for ligand ON7 (5/247)\n",
      "toppar for ligand ON7 already exists. Skipping...\n",
      "Getting toppar file for ligand 6DY (6/247)\n",
      "toppar for ligand 6DY already exists. Skipping...\n",
      "Getting toppar file for ligand ERC (7/247)\n",
      "toppar for ligand ERC already exists. Skipping...\n",
      "Getting toppar file for ligand 9GF (8/247)\n",
      "toppar for ligand 9GF already exists. Skipping...\n",
      "Getting toppar file for ligand SG8 (9/247)\n",
      "toppar for ligand SG8 already exists. Skipping...\n",
      "Getting toppar file for ligand 7DY (10/247)\n",
      "toppar for ligand 7DY already exists. Skipping...\n",
      "Getting toppar file for ligand DO5 (11/247)\n",
      "toppar for ligand DO5 already exists. Skipping...\n",
      "Getting toppar file for ligand AWY (12/247)\n",
      "toppar for ligand AWY already exists. Skipping...\n",
      "Getting toppar file for ligand CIT (13/247)\n",
      "toppar for ligand CIT already exists. Skipping...\n",
      "Getting toppar file for ligand A6L (14/247)\n",
      "toppar for ligand A6L already exists. Skipping...\n",
      "Getting toppar file for ligand MES (15/247)\n",
      "toppar for ligand MES already exists. Skipping...\n",
      "Getting toppar file for ligand NA (16/247)\n",
      "toppar for ligand NA already exists. Skipping...\n",
      "Getting toppar file for ligand YCM (17/247)\n",
      "toppar for ligand YCM already exists. Skipping...\n",
      "Getting toppar file for ligand AZJ (18/247)\n",
      "toppar for ligand AZJ already exists. Skipping...\n",
      "Getting toppar file for ligand JTZ (19/247)\n",
      "toppar for ligand JTZ already exists. Skipping...\n",
      "Getting toppar file for ligand 9DZ (20/247)\n",
      "toppar for ligand 9DZ already exists. Skipping...\n",
      "Getting toppar file for ligand BMA (21/247)\n",
      "toppar for ligand BMA already exists. Skipping...\n",
      "Getting toppar file for ligand ACY (22/247)\n",
      "toppar for ligand ACY already exists. Skipping...\n",
      "Getting toppar file for ligand D8B (23/247)\n",
      "toppar for ligand D8B already exists. Skipping...\n",
      "Getting toppar file for ligand 8TZ (24/247)\n",
      "toppar for ligand 8TZ already exists. Skipping...\n",
      "Getting toppar file for ligand RET (25/247)\n",
      "toppar for ligand RET already exists. Skipping...\n",
      "Getting toppar file for ligand ERM (26/247)\n",
      "toppar for ligand ERM already exists. Skipping...\n",
      "Getting toppar file for ligand UNL (27/247)\n",
      "toppar for ligand UNL already exists. Skipping...\n",
      "Getting toppar file for ligand 9DT (28/247)\n",
      "toppar for ligand 9DT already exists. Skipping...\n",
      "Getting toppar file for ligand DGV (29/247)\n",
      "toppar for ligand DGV already exists. Skipping...\n",
      "Getting toppar file for ligand NEC (30/247)\n",
      "toppar for ligand NEC already exists. Skipping...\n",
      "Getting toppar file for ligand TAR (31/247)\n",
      "toppar for ligand TAR already exists. Skipping...\n",
      "Getting toppar file for ligand GBQ (32/247)\n",
      "toppar for ligand GBQ already exists. Skipping...\n",
      "Getting toppar file for ligand 5MV (33/247)\n",
      "toppar for ligand 5MV already exists. Skipping...\n",
      "Getting toppar file for ligand WHJ (34/247)\n",
      "toppar for ligand WHJ already exists. Skipping...\n",
      "Getting toppar file for ligand FMN (35/247)\n",
      "toppar for ligand FMN already exists. Skipping...\n",
      "Getting toppar file for ligand ZDG (36/247)\n",
      "toppar for ligand ZDG already exists. Skipping...\n",
      "Getting toppar file for ligand ORN (37/247)\n",
      "toppar for ligand ORN already exists. Skipping...\n",
      "Getting toppar file for ligand ADN (38/247)\n",
      "toppar for ligand ADN already exists. Skipping...\n",
      "Getting toppar file for ligand 8UN (39/247)\n",
      "toppar for ligand 8UN already exists. Skipping...\n",
      "Getting toppar file for ligand PLM (40/247)\n",
      "toppar for ligand PLM already exists. Skipping...\n",
      "Getting toppar file for ligand D7W (41/247)\n",
      "toppar for ligand D7W already exists. Skipping...\n",
      "Getting toppar file for ligand 82F (42/247)\n",
      "toppar for ligand 82F already exists. Skipping...\n",
      "Getting toppar file for ligand 0NN (43/247)\n",
      "toppar for ligand 0NN already exists. Skipping...\n",
      "Getting toppar file for ligand G90 (44/247)\n",
      "toppar for ligand G90 already exists. Skipping...\n",
      "Getting toppar file for ligand NLE (45/247)\n",
      "toppar for ligand NLE already exists. Skipping...\n",
      "Getting toppar file for ligand JLW (46/247)\n",
      "toppar for ligand JLW already exists. Skipping...\n",
      "Getting toppar file for ligand SNP (47/247)\n",
      "toppar for ligand SNP already exists. Skipping...\n",
      "Getting toppar file for ligand MAN (48/247)\n",
      "toppar for ligand MAN already exists. Skipping...\n",
      "Getting toppar file for ligand DMS (49/247)\n",
      "toppar for ligand DMS already exists. Skipping...\n",
      "Getting toppar file for ligand JRZ (50/247)\n",
      "toppar for ligand JRZ already exists. Skipping...\n",
      "Getting toppar file for ligand 9EU (51/247)\n",
      "toppar for ligand 9EU already exists. Skipping...\n",
      "Getting toppar file for ligand Y00 (52/247)\n",
      "toppar for ligand Y00 already exists. Skipping...\n",
      "Getting toppar file for ligand 6AT (53/247)\n",
      "toppar for ligand 6AT already exists. Skipping...\n",
      "Getting toppar file for ligand NRE (54/247)\n",
      "toppar for ligand NRE already exists. Skipping...\n",
      "Getting toppar file for ligand 6XQ (55/247)\n",
      "toppar for ligand 6XQ already exists. Skipping...\n",
      "Getting toppar file for ligand MHA (56/247)\n",
      "toppar for ligand MHA already exists. Skipping...\n",
      "Getting toppar file for ligand A2G (57/247)\n",
      "toppar for ligand A2G already exists. Skipping...\n",
      "Getting toppar file for ligand OLA (58/247)\n",
      "toppar for ligand OLA already exists. Skipping...\n",
      "Getting toppar file for ligand 73R (59/247)\n",
      "toppar for ligand 73R already exists. Skipping...\n",
      "Getting toppar file for ligand H8G (60/247)\n",
      "toppar for ligand H8G already exists. Skipping...\n",
      "Getting toppar file for ligand IOD (61/247)\n",
      "toppar for ligand IOD already exists. Skipping...\n",
      "Getting toppar file for ligand NAG (62/247)\n",
      "toppar for ligand NAG already exists. Skipping...\n",
      "Getting toppar file for ligand OLM (63/247)\n",
      "toppar for ligand OLM already exists. Skipping...\n",
      "Getting toppar file for ligand A4R (64/247)\n",
      "toppar for ligand A4R already exists. Skipping...\n",
      "Getting toppar file for ligand EPE (65/247)\n",
      "toppar for ligand EPE already exists. Skipping...\n",
      "Getting toppar file for ligand SNT (66/247)\n",
      "toppar for ligand SNT already exists. Skipping...\n",
      "Getting toppar file for ligand AQD (67/247)\n",
      "toppar for ligand AQD already exists. Skipping...\n",
      "Getting toppar file for ligand CL (68/247)\n",
      "toppar for ligand CL already exists. Skipping...\n",
      "Getting toppar file for ligand A90 (69/247)\n",
      "toppar for ligand A90 already exists. Skipping...\n",
      "Getting toppar file for ligand 5FW (70/247)\n",
      "toppar for ligand 5FW already exists. Skipping...\n",
      "Getting toppar file for ligand JEY (71/247)\n",
      "toppar for ligand JEY already exists. Skipping...\n",
      "Getting toppar file for ligand 9ER (72/247)\n",
      "toppar for ligand 9ER already exists. Skipping...\n",
      "Getting toppar file for ligand 8EM (73/247)\n",
      "toppar for ligand 8EM already exists. Skipping...\n",
      "Getting toppar file for ligand PO4 (74/247)\n",
      "toppar for ligand PO4 already exists. Skipping...\n",
      "Getting toppar file for ligand EJ4 (75/247)\n",
      "toppar for ligand EJ4 already exists. Skipping...\n",
      "Getting toppar file for ligand ACM (76/247)\n",
      "toppar for ligand ACM already exists. Skipping...\n",
      "Getting toppar file for ligand EN6 (77/247)\n",
      "toppar for ligand EN6 already exists. Skipping...\n",
      "Getting toppar file for ligand CSD (78/247)\n",
      "toppar for ligand CSD already exists. Skipping...\n",
      "Getting toppar file for ligand 8D3 (79/247)\n",
      "toppar for ligand 8D3 already exists. Skipping...\n",
      "Getting toppar file for ligand SOG (80/247)\n",
      "toppar for ligand SOG already exists. Skipping...\n",
      "Getting toppar file for ligand CY8 (81/247)\n",
      "toppar for ligand CY8 already exists. Skipping...\n",
      "Getting toppar file for ligand BOG (82/247)\n",
      "toppar for ligand BOG already exists. Skipping...\n",
      "Getting toppar file for ligand NT5 (83/247)\n",
      "toppar for ligand NT5 already exists. Skipping...\n",
      "Getting toppar file for ligand DN5 (84/247)\n",
      "toppar for ligand DN5 already exists. Skipping...\n",
      "Getting toppar file for ligand F7N (85/247)\n",
      "toppar for ligand F7N already exists. Skipping...\n",
      "Getting toppar file for ligand HTO (86/247)\n",
      "toppar for ligand HTO already exists. Skipping...\n",
      "Getting toppar file for ligand 9EC (87/247)\n",
      "toppar for ligand 9EC already exists. Skipping...\n",
      "Getting toppar file for ligand DOK (88/247)\n",
      "toppar for ligand DOK already exists. Skipping...\n",
      "Getting toppar file for ligand H8M (89/247)\n",
      "toppar for ligand H8M already exists. Skipping...\n",
      "Getting toppar file for ligand ZOT (90/247)\n",
      "toppar for ligand ZOT already exists. Skipping...\n",
      "Getting toppar file for ligand 8ES (91/247)\n",
      "toppar for ligand 8ES already exists. Skipping...\n",
      "Getting toppar file for ligand NGI (92/247)\n",
      "toppar for ligand NGI already exists. Skipping...\n",
      "Getting toppar file for ligand DLH (93/247)\n",
      "toppar for ligand DLH already exists. Skipping...\n",
      "Getting toppar file for ligand 9DQ (94/247)\n",
      "toppar for ligand 9DQ already exists. Skipping...\n",
      "Getting toppar file for ligand HTG (95/247)\n",
      "toppar for ligand HTG already exists. Skipping...\n",
      "Getting toppar file for ligand AC5 (96/247)\n",
      "toppar for ligand AC5 already exists. Skipping...\n",
      "Getting toppar file for ligand DU1 (97/247)\n",
      "toppar for ligand DU1 already exists. Skipping...\n",
      "Getting toppar file for ligand 3C0 (98/247)\n",
      "toppar for ligand 3C0 already exists. Skipping...\n",
      "Getting toppar file for ligand 7MA (99/247)\n",
      "toppar for ligand 7MA already exists. Skipping...\n",
      "Getting toppar file for ligand I32 (100/247)\n",
      "toppar for ligand I32 already exists. Skipping...\n",
      "Getting toppar file for ligand TCE (101/247)\n",
      "toppar for ligand TCE already exists. Skipping...\n",
      "Getting toppar file for ligand TEP (102/247)\n",
      "toppar for ligand TEP already exists. Skipping...\n",
      "Getting toppar file for ligand 2GM (103/247)\n",
      "toppar for ligand 2GM already exists. Skipping...\n",
      "Getting toppar file for ligand P33 (104/247)\n",
      "toppar for ligand P33 already exists. Skipping...\n",
      "Getting toppar file for ligand A8X (105/247)\n",
      "toppar for ligand A8X already exists. Skipping...\n",
      "Getting toppar file for ligand 8JN (106/247)\n",
      "toppar for ligand 8JN already exists. Skipping...\n",
      "Getting toppar file for ligand GAW (107/247)\n",
      "toppar for ligand GAW already exists. Skipping...\n",
      "Getting toppar file for ligand DGA (108/247)\n",
      "toppar for ligand DGA already exists. Skipping...\n",
      "Getting toppar file for ligand QNB (109/247)\n"
     ]
    },
    {
     "name": "stdout",
     "output_type": "stream",
     "text": [
      "toppar for ligand QNB already exists. Skipping...\n",
      "Getting toppar file for ligand DGW (110/247)\n",
      "toppar for ligand DGW already exists. Skipping...\n",
      "Getting toppar file for ligand 8VS (111/247)\n",
      "toppar for ligand 8VS already exists. Skipping...\n",
      "Getting toppar file for ligand SUV (112/247)\n",
      "toppar for ligand SUV already exists. Skipping...\n",
      "Getting toppar file for ligand MLI (113/247)\n",
      "toppar for ligand MLI already exists. Skipping...\n",
      "Getting toppar file for ligand 2CV (114/247)\n",
      "toppar for ligand 2CV already exists. Skipping...\n",
      "Getting toppar file for ligand JDC (115/247)\n",
      "toppar for ligand JDC already exists. Skipping...\n",
      "Getting toppar file for ligand 2YB (116/247)\n",
      "toppar for ligand 2YB already exists. Skipping...\n",
      "Getting toppar file for ligand P6G (117/247)\n",
      "toppar for ligand P6G already exists. Skipping...\n",
      "Getting toppar file for ligand NO3 (118/247)\n",
      "toppar for ligand NO3 already exists. Skipping...\n",
      "Getting toppar file for ligand 68H (119/247)\n",
      "toppar for ligand 68H already exists. Skipping...\n",
      "Getting toppar file for ligand 1KS (120/247)\n",
      "toppar for ligand 1KS already exists. Skipping...\n",
      "Getting toppar file for ligand NVK (121/247)\n",
      "toppar for ligand NVK already exists. Skipping...\n",
      "Getting toppar file for ligand 9Y2 (122/247)\n",
      "toppar for ligand 9Y2 already exists. Skipping...\n",
      "Getting toppar file for ligand 1PE (123/247)\n",
      "toppar for ligand 1PE already exists. Skipping...\n",
      "Getting toppar file for ligand CVD (124/247)\n",
      "toppar for ligand CVD already exists. Skipping...\n",
      "Getting toppar file for ligand K87 (125/247)\n",
      "toppar for ligand K87 already exists. Skipping...\n",
      "Getting toppar file for ligand D7V (126/247)\n",
      "toppar for ligand D7V already exists. Skipping...\n",
      "Getting toppar file for ligand BF0 (127/247)\n",
      "toppar for ligand BF0 already exists. Skipping...\n",
      "Getting toppar file for ligand 0HK (128/247)\n",
      "toppar for ligand 0HK already exists. Skipping...\n",
      "Getting toppar file for ligand DNK (129/247)\n",
      "toppar for ligand DNK already exists. Skipping...\n",
      "Getting toppar file for ligand 836 (130/247)\n",
      "toppar for ligand 836 already exists. Skipping...\n",
      "Getting toppar file for ligand ML2 (131/247)\n",
      "toppar for ligand ML2 already exists. Skipping...\n",
      "Getting toppar file for ligand 7OS (132/247)\n",
      "toppar for ligand 7OS already exists. Skipping...\n",
      "Getting toppar file for ligand ON3 (133/247)\n",
      "toppar for ligand ON3 already exists. Skipping...\n",
      "Getting toppar file for ligand VPX (134/247)\n",
      "toppar for ligand VPX already exists. Skipping...\n",
      "Getting toppar file for ligand QXV (135/247)\n",
      "toppar for ligand QXV already exists. Skipping...\n",
      "Getting toppar file for ligand MPG (136/247)\n",
      "toppar for ligand MPG already exists. Skipping...\n",
      "Getting toppar file for ligand 9DW (137/247)\n",
      "toppar for ligand 9DW already exists. Skipping...\n",
      "Getting toppar file for ligand VT5 (138/247)\n",
      "toppar for ligand VT5 already exists. Skipping...\n",
      "Getting toppar file for ligand KNW (139/247)\n",
      "toppar for ligand KNW already exists. Skipping...\n",
      "Getting toppar file for ligand BU1 (140/247)\n",
      "toppar for ligand BU1 already exists. Skipping...\n",
      "Getting toppar file for ligand UNX (141/247)\n",
      "toppar for ligand UNX already exists. Skipping...\n",
      "Getting toppar file for ligand EDT (142/247)\n",
      "toppar for ligand EDT already exists. Skipping...\n",
      "Getting toppar file for ligand 3WC (143/247)\n",
      "toppar for ligand 3WC already exists. Skipping...\n",
      "Getting toppar file for ligand FM9 (144/247)\n",
      "toppar for ligand FM9 already exists. Skipping...\n",
      "Getting toppar file for ligand PCA (145/247)\n",
      "toppar for ligand PCA already exists. Skipping...\n",
      "Getting toppar file for ligand 6DZ (146/247)\n",
      "toppar for ligand 6DZ already exists. Skipping...\n",
      "Getting toppar file for ligand 9XT (147/247)\n",
      "toppar for ligand 9XT already exists. Skipping...\n",
      "Getting toppar file for ligand POV (148/247)\n",
      "toppar for ligand POV already exists. Skipping...\n",
      "Getting toppar file for ligand GBK (149/247)\n",
      "toppar for ligand GBK already exists. Skipping...\n",
      "Getting toppar file for ligand 9P2 (150/247)\n",
      "toppar for ligand 9P2 already exists. Skipping...\n",
      "Getting toppar file for ligand TIM (151/247)\n",
      "toppar for ligand TIM already exists. Skipping...\n",
      "Getting toppar file for ligand ZN (152/247)\n",
      "toppar for ligand ZN already exists. Skipping...\n",
      "Getting toppar file for ligand SCN (153/247)\n",
      "toppar for ligand SCN already exists. Skipping...\n",
      "Getting toppar file for ligand HG (154/247)\n",
      "toppar for ligand HG already exists. Skipping...\n",
      "Getting toppar file for ligand OLB (155/247)\n",
      "toppar for ligand OLB already exists. Skipping...\n",
      "Getting toppar file for ligand NH4 (156/247)\n",
      "toppar for ligand NH4 already exists. Skipping...\n",
      "Getting toppar file for ligand ALC (157/247)\n",
      "toppar for ligand ALC already exists. Skipping...\n",
      "Getting toppar file for ligand DI7 (158/247)\n",
      "toppar for ligand DI7 already exists. Skipping...\n",
      "Getting toppar file for ligand ACT (159/247)\n",
      "toppar for ligand ACT already exists. Skipping...\n",
      "Getting toppar file for ligand OLC (160/247)\n",
      "toppar for ligand OLC already exists. Skipping...\n",
      "Getting toppar file for ligand PGE (161/247)\n",
      "toppar for ligand PGE already exists. Skipping...\n",
      "Getting toppar file for ligand HRG (162/247)\n",
      "toppar for ligand HRG already exists. Skipping...\n",
      "Getting toppar file for ligand NVH (163/247)\n",
      "toppar for ligand NVH already exists. Skipping...\n",
      "Getting toppar file for ligand XTK (164/247)\n",
      "toppar for ligand XTK already exists. Skipping...\n",
      "Getting toppar file for ligand Y01 (165/247)\n",
      "toppar for ligand Y01 already exists. Skipping...\n",
      "Getting toppar file for ligand CAU (166/247)\n",
      "toppar for ligand CAU already exists. Skipping...\n",
      "Getting toppar file for ligand A4X (167/247)\n",
      "toppar for ligand A4X already exists. Skipping...\n",
      "Getting toppar file for ligand DI8 (168/247)\n",
      "toppar for ligand DI8 already exists. Skipping...\n",
      "Getting toppar file for ligand AIB (169/247)\n",
      "toppar for ligand AIB already exists. Skipping...\n",
      "Getting toppar file for ligand KO5 (170/247)\n",
      "toppar for ligand KO5 already exists. Skipping...\n",
      "Getting toppar file for ligand XF5 (171/247)\n",
      "toppar for ligand XF5 already exists. Skipping...\n",
      "Getting toppar file for ligand NRZ (172/247)\n",
      "toppar for ligand NRZ already exists. Skipping...\n",
      "Getting toppar file for ligand TYS (173/247)\n",
      "toppar for ligand TYS already exists. Skipping...\n",
      "Getting toppar file for ligand P32 (174/247)\n",
      "toppar for ligand P32 already exists. Skipping...\n",
      "Getting toppar file for ligand 9JU (175/247)\n",
      "toppar for ligand 9JU already exists. Skipping...\n",
      "Getting toppar file for ligand FSY (176/247)\n",
      "toppar for ligand FSY already exists. Skipping...\n",
      "Getting toppar file for ligand 12P (177/247)\n",
      "toppar for ligand 12P already exists. Skipping...\n",
      "Getting toppar file for ligand 4OT (178/247)\n",
      "toppar for ligand 4OT already exists. Skipping...\n",
      "Getting toppar file for ligand 8NU (179/247)\n",
      "toppar for ligand 8NU already exists. Skipping...\n",
      "Getting toppar file for ligand MK6 (180/247)\n",
      "toppar for ligand MK6 already exists. Skipping...\n",
      "Getting toppar file for ligand P2E (181/247)\n",
      "toppar for ligand P2E already exists. Skipping...\n",
      "Getting toppar file for ligand ML5 (182/247)\n",
      "toppar for ligand ML5 already exists. Skipping...\n",
      "Getting toppar file for ligand JEV (183/247)\n",
      "toppar for ligand JEV already exists. Skipping...\n",
      "Getting toppar file for ligand ACE (184/247)\n",
      "toppar for ligand ACE already exists. Skipping...\n",
      "Getting toppar file for ligand XAC (185/247)\n",
      "toppar for ligand XAC already exists. Skipping...\n",
      "Getting toppar file for ligand PC1 (186/247)\n",
      "toppar for ligand PC1 already exists. Skipping...\n",
      "Getting toppar file for ligand D2U (187/247)\n",
      "toppar for ligand D2U already exists. Skipping...\n",
      "Getting toppar file for ligand 7AB (188/247)\n",
      "toppar for ligand 7AB already exists. Skipping...\n",
      "Getting toppar file for ligand TRS (189/247)\n",
      "toppar for ligand TRS already exists. Skipping...\n",
      "Getting toppar file for ligand 7LD (190/247)\n",
      "toppar for ligand 7LD already exists. Skipping...\n",
      "Getting toppar file for ligand TLA (191/247)\n",
      "toppar for ligand TLA already exists. Skipping...\n",
      "Getting toppar file for ligand EFD (192/247)\n",
      "toppar for ligand EFD already exists. Skipping...\n",
      "Getting toppar file for ligand 1Q5 (193/247)\n",
      "toppar for ligand 1Q5 already exists. Skipping...\n",
      "Getting toppar file for ligand PG4 (194/247)\n",
      "toppar for ligand PG4 already exists. Skipping...\n",
      "Getting toppar file for ligand 97V (195/247)\n",
      "toppar for ligand 97V already exists. Skipping...\n",
      "Getting toppar file for ligand F9Q (196/247)\n",
      "toppar for ligand F9Q already exists. Skipping...\n",
      "Getting toppar file for ligand MRV (197/247)\n",
      "toppar for ligand MRV already exists. Skipping...\n",
      "Getting toppar file for ligand PGO (198/247)\n",
      "toppar for ligand PGO already exists. Skipping...\n",
      "Getting toppar file for ligand NVN (199/247)\n",
      "toppar for ligand NVN already exists. Skipping...\n",
      "Getting toppar file for ligand 7Y9 (200/247)\n",
      "toppar for ligand 7Y9 already exists. Skipping...\n",
      "Getting toppar file for ligand 8D1 (201/247)\n",
      "toppar for ligand 8D1 already exists. Skipping...\n",
      "Getting toppar file for ligand EDO (202/247)\n",
      "toppar for ligand EDO already exists. Skipping...\n",
      "Getting toppar file for ligand TWT (203/247)\n",
      "toppar for ligand TWT already exists. Skipping...\n",
      "Getting toppar file for ligand DLB (204/247)\n",
      "toppar for ligand DLB already exists. Skipping...\n",
      "Getting toppar file for ligand PG6 (205/247)\n",
      "toppar for ligand PG6 already exists. Skipping...\n",
      "Getting toppar file for ligand H8D (206/247)\n",
      "toppar for ligand H8D already exists. Skipping...\n",
      "Getting toppar file for ligand OIC (207/247)\n",
      "toppar for ligand OIC already exists. Skipping...\n",
      "Getting toppar file for ligand NS2 (208/247)\n",
      "toppar for ligand NS2 already exists. Skipping...\n",
      "Getting toppar file for ligand 5EH (209/247)\n",
      "toppar for ligand 5EH already exists. Skipping...\n",
      "Getting toppar file for ligand 9AF (210/247)\n",
      "toppar for ligand 9AF already exists. Skipping...\n",
      "Getting toppar file for ligand PEG (211/247)\n",
      "toppar for ligand PEG already exists. Skipping...\n",
      "Getting toppar file for ligand 9AO (212/247)\n",
      "toppar for ligand 9AO already exists. Skipping...\n",
      "Getting toppar file for ligand ZMA (213/247)\n",
      "toppar for ligand ZMA already exists. Skipping...\n",
      "Getting toppar file for ligand 89F (214/247)\n",
      "toppar for ligand 89F already exists. Skipping...\n",
      "Getting toppar file for ligand H8J (215/247)\n",
      "toppar for ligand H8J already exists. Skipping...\n",
      "Getting toppar file for ligand FT4 (216/247)\n",
      "toppar for ligand FT4 already exists. Skipping...\n",
      "Getting toppar file for ligand SIN (217/247)\n"
     ]
    },
    {
     "name": "stdout",
     "output_type": "stream",
     "text": [
      "toppar for ligand SIN already exists. Skipping...\n",
      "Getting toppar file for ligand NRK (218/247)\n",
      "toppar for ligand NRK already exists. Skipping...\n",
      "Getting toppar file for ligand 9XW (219/247)\n",
      "toppar for ligand 9XW already exists. Skipping...\n",
      "Getting toppar file for ligand ZAL (220/247)\n",
      "toppar for ligand ZAL already exists. Skipping...\n",
      "Getting toppar file for ligand ZD7 (221/247)\n",
      "toppar for ligand ZD7 already exists. Skipping...\n",
      "Getting toppar file for ligand BGC (222/247)\n",
      "toppar for ligand BGC already exists. Skipping...\n",
      "Getting toppar file for ligand NH2 (223/247)\n",
      "toppar for ligand NH2 already exists. Skipping...\n",
      "Getting toppar file for ligand PE5 (224/247)\n",
      "toppar for ligand PE5 already exists. Skipping...\n",
      "Getting toppar file for ligand GMJ (225/247)\n",
      "toppar for ligand GMJ already exists. Skipping...\n",
      "Getting toppar file for ligand ON9 (226/247)\n",
      "toppar for ligand ON9 already exists. Skipping...\n",
      "Getting toppar file for ligand 8K8 (227/247)\n",
      "toppar for ligand 8K8 already exists. Skipping...\n",
      "Getting toppar file for ligand ETQ (228/247)\n",
      "toppar for ligand ETQ already exists. Skipping...\n",
      "Getting toppar file for ligand FLC (229/247)\n",
      "toppar for ligand FLC already exists. Skipping...\n",
      "Getting toppar file for ligand M3J (230/247)\n",
      "toppar for ligand M3J already exists. Skipping...\n",
      "Getting toppar file for ligand DNZ (231/247)\n",
      "toppar for ligand DNZ already exists. Skipping...\n",
      "Getting toppar file for ligand L76 (232/247)\n",
      "toppar for ligand L76 already exists. Skipping...\n",
      "Getting toppar file for ligand GOL (233/247)\n",
      "toppar for ligand GOL already exists. Skipping...\n",
      "Getting toppar file for ligand J9P (234/247)\n",
      "toppar for ligand J9P already exists. Skipping...\n",
      "Getting toppar file for ligand 1WV (235/247)\n",
      "toppar for ligand 1WV already exists. Skipping...\n",
      "Getting toppar file for ligand SO4 (236/247)\n",
      "toppar for ligand SO4 already exists. Skipping...\n",
      "Getting toppar file for ligand 9DK (237/247)\n",
      "toppar for ligand 9DK already exists. Skipping...\n",
      "Getting toppar file for ligand PGW (238/247)\n",
      "toppar for ligand PGW already exists. Skipping...\n",
      "Getting toppar file for ligand 200 (239/247)\n",
      "toppar for ligand 200 already exists. Skipping...\n",
      "Getting toppar file for ligand A8T (240/247)\n",
      "toppar for ligand A8T already exists. Skipping...\n",
      "Getting toppar file for ligand DL2 (241/247)\n",
      "toppar for ligand DL2 already exists. Skipping...\n",
      "Getting toppar file for ligand CLR (242/247)\n",
      "toppar for ligand CLR already exists. Skipping...\n",
      "Getting toppar file for ligand T4E (243/247)\n",
      "toppar for ligand T4E already exists. Skipping...\n",
      "Getting toppar file for ligand 97Y (244/247)\n",
      "toppar for ligand 97Y already exists. Skipping...\n",
      "Getting toppar file for ligand NV8 (245/247)\n",
      "toppar for ligand NV8 already exists. Skipping...\n",
      "Getting toppar file for ligand NU8 (246/247)\n",
      "toppar for ligand NU8 already exists. Skipping...\n",
      "Getting toppar file for ligand 8D0 (247/247)\n",
      "toppar for ligand 8D0 already exists. Skipping...\n"
     ]
    }
   ],
   "source": [
    "#################################################\n",
    "## Part 1: Download data and prepare dictionaries\n",
    "#################################################\n",
    "\n",
    "if not bool(pdb_set):\n",
    "    #Get not yet simulated PDB codes from GPCRdb\n",
    "    pdb_set = get_GPCRdb_nonsimulated(gpcrdb_data)\n",
    "\n",
    "# Download and store structures from GPCRdb\n",
    "pdb_set = download_GPCRdb_structures(pdb_set, basepath)\n",
    "\n",
    "#Create or moidfy the ligands dictionary\n",
    "(ligandsdict, ligandsset) = ligand_dictionary(pdb_set, ligandsdict_path)\n",
    "\n",
    "# Extract ligand structures from system\n",
    "extract_ligands(ligandsdict, basepath)\n",
    "\n",
    "# Get topology-parameter files for ligandsf\n",
    "get_lig_toppar(ligandsset, basepath, username, password)\n"
   ]
  },
  {
   "cell_type": "code",
   "execution_count": null,
   "metadata": {},
   "outputs": [
    {
     "name": "stdout",
     "output_type": "stream",
     "text": [
      "\n",
      "start building model for receptor 5UIW (1/181)\n",
      "\n",
      "start building model for receptor 6AKX (2/181)\n",
      "Structure 6AKX already has a watered version. Skipping...\n"
     ]
    },
    {
     "name": "stderr",
     "output_type": "stream",
     "text": [
      "2020-09-09 09:47:03,303 - htmd.molecule.molecule - INFO - Removed 0 atoms. 2586 atoms remaining in the molecule.\n",
      "2020-09-09 09:47:03,347 - htmd.molecule.molecule - INFO - Removed 0 atoms. 2586 atoms remaining in the molecule.\n",
      "2020-09-09 09:47:03,646 - htmd.molecule.molecule - INFO - Removed 0 atoms. 2586 atoms remaining in the molecule.\n",
      "2020-09-09 09:47:03,886 - htmd.molecule.molecule - INFO - Removed 0 atoms. 2586 atoms remaining in the molecule.\n",
      "2020-09-09 09:47:08,778 - htmd.molecule.molecule - INFO - Removed 0 atoms. 2443 atoms remaining in the molecule.\n",
      "2020-09-09 09:47:09,007 - htmd.molecule.molecule - INFO - Removed 0 atoms. 2443 atoms remaining in the molecule.\n",
      "2020-09-09 09:47:09,410 - htmd.builder.builder - INFO - Created segment P0 between resid 19 and 223.\n",
      "2020-09-09 09:47:09,412 - htmd.builder.builder - INFO - Created segment P1 between resid 227 and 313.\n",
      "2020-09-09 09:47:10,264 - moleculekit.tools.sequencestructuralalignment - INFO - No segment was specified by the user for `mol`. Alignment will be done on all protein segments.\n",
      "2020-09-09 09:47:10,323 - moleculekit.tools.sequencestructuralalignment - INFO - No segment was specified by the user for `ref` and multiple segments (['P0', 'P1']) were detected. Alignment will be done on all protein segments.\n",
      "2020-09-09 09:47:10,609 - moleculekit.tools.sequencestructuralalignment - WARNING - 4 alignments found. Limiting to 1 as specified in the `maxalignments` argument.\n",
      "2020-09-09 09:47:10,612 - moleculekit.tools.sequencestructuralalignment - INFO - Alignment #0 was done on 104 residues: mol segid P0 resid 59-162\n",
      "2020-09-09 09:47:14,630 - htmd.builder.preparation - WARNING - The following residue has not been optimized: A4R\n",
      "2020-09-09 09:47:14,631 - htmd.builder.preparation - WARNING - The following residue has not been optimized: NO3\n",
      "2020-09-09 09:47:14,632 - htmd.builder.preparation - WARNING - The following residue has not been optimized: ZN\n",
      "2020-09-09 09:47:14,633 - htmd.builder.preparation - WARNING - The following residue has not been optimized: NA\n",
      "2020-09-09 09:47:14,633 - htmd.builder.preparation - WARNING - The following residue has not been optimized: TIP\n",
      "2020-09-09 09:47:31,280 - htmd.builder.preparationdata - INFO - The following residues are in a non-standard state: ZN      1  N (NA), HIS    88  P (HIE), CYS   101  P (CYX), HIS   132  P (HIE), HIS   175  P (HID), CYS   178  P (CYX), HIS   181  P (HID), HIS   231  P (HID), HIS   289  P (HID), HIS   315  P (HID)\n",
      "2020-09-09 09:47:31,282 - htmd.builder.preparationdata - WARNING - Dubious protonation state: the pKa of 4 residues is within 1.0 units of pH 7.0.\n",
      "2020-09-09 09:47:31,285 - htmd.builder.preparationdata - WARNING - Dubious protonation state:    HIS    88  P (pKa= 6.83)\n",
      "2020-09-09 09:47:31,286 - htmd.builder.preparationdata - WARNING - Dubious protonation state:    HIS   132  P (pKa= 6.11)\n",
      "2020-09-09 09:47:31,287 - htmd.builder.preparationdata - WARNING - Dubious protonation state:    HIS   175  P (pKa= 6.04)\n",
      "2020-09-09 09:47:31,288 - htmd.builder.preparationdata - WARNING - Dubious protonation state:    HIS   315  P (pKa= 6.36)\n",
      "2020-09-09 09:47:31,400 - htmd.builder.preparationdata - WARNING - Predictions for 8 residues may be incorrect because they are exposed to the membrane (-17.2<z<17.20 and buried<75.0%).\n"
     ]
    },
    {
     "name": "stdout",
     "output_type": "stream",
     "text": [
      "Adding membrane...\n"
     ]
    },
    {
     "name": "stderr",
     "output_type": "stream",
     "text": [
      "2020-09-09 09:47:32,909 - htmd.builder.builder - INFO - Replicating Membrane 3x3\n",
      "\n",
      "Replicating Membrane:   0%|          | 0/9 [00:00<?, ?it/s]\u001b[A\n",
      "Replicating Membrane:  11%|█         | 1/9 [00:00<00:04,  1.68it/s]\u001b[A\n",
      "Replicating Membrane:  22%|██▏       | 2/9 [00:01<00:04,  1.63it/s]\u001b[A\n",
      "Replicating Membrane:  33%|███▎      | 3/9 [00:02<00:04,  1.38it/s]\u001b[A\n",
      "Replicating Membrane:  44%|████▍     | 4/9 [00:04<00:05,  1.02s/it]\u001b[A\n",
      "2020-09-09 09:48:59,990 - htmd.molecule.molecule - INFO - Removed 2177 atoms. 38309 atoms remaining in the molecule.\n",
      "2020-09-09 09:49:02,654 - htmd.molecule.molecule - INFO - Removed 107 residues from appended Molecule due to collisions.\n"
     ]
    },
    {
     "name": "stdout",
     "output_type": "stream",
     "text": [
      "Solvating...\n",
      "wataerbox Max and min:  [49.473194 48.229332 28.214697] [-44.138805 -44.292667 -27.580303]\n"
     ]
    },
    {
     "name": "stderr",
     "output_type": "stream",
     "text": [
      "2020-09-09 09:49:04,245 - htmd.builder.solvate - INFO - Using water pdb file at: /soft/EB_repo/devel/programs/foss/2016b/Anaconda3/5.0.1/lib/python3.6/site-packages/htmd/builder/wat.pdb\n",
      "2020-09-09 09:49:05,942 - htmd.builder.solvate - INFO - Replicating 8 water segments, 2 by 2 by 2\n",
      "\n",
      "Solvating:   0%|          | 0/8 [00:00<?, ?it/s]\u001b[A\n",
      "Solvating:  12%|█▎        | 1/8 [00:02<00:17,  2.45s/it]\u001b[A\n",
      "Solvating:  25%|██▌       | 2/8 [00:05<00:15,  2.54s/it]\u001b[A\n",
      "Solvating:  38%|███▊      | 3/8 [00:07<00:12,  2.52s/it]\u001b[A\n",
      "Solvating:  50%|█████     | 4/8 [00:10<00:10,  2.51s/it]\u001b[A\n",
      "Solvating:  62%|██████▎   | 5/8 [00:12<00:07,  2.49s/it]\u001b[A\n",
      "Solvating:  75%|███████▌  | 6/8 [00:15<00:04,  2.47s/it]\u001b[A\n",
      "Solvating:  88%|████████▊ | 7/8 [00:17<00:02,  2.41s/it]\u001b[A\n",
      "Solvating: 100%|██████████| 8/8 [00:19<00:00,  2.46s/it]\u001b[A\n",
      "2020-09-09 09:49:29,187 - htmd.builder.solvate - INFO - 10174 water molecules were added to the system.\n",
      "2020-09-09 09:49:41,987 - htmd.molecule.molecule - INFO - Removed 492 atoms. 66281 atoms remaining in the molecule.\n"
     ]
    },
    {
     "name": "stdout",
     "output_type": "stream",
     "text": [
      "Pre-build...\n"
     ]
    },
    {
     "name": "stderr",
     "output_type": "stream",
     "text": [
      "2020-09-09 09:49:43,717 - htmd.builder.charmm - INFO - Writing out segments.\n",
      "2020-09-09 09:49:55,178 - htmd.builder.builder - INFO - One disulfide bond was added\n"
     ]
    },
    {
     "name": "stdout",
     "output_type": "stream",
     "text": [
      "Disulfide Bond between: UniqueResidueID<resname: 'CYS', chain: 'P', resid: 101, insertion: '', segid: 'P0'>\n",
      "                   and: UniqueResidueID<resname: 'CYS', chain: 'P', resid: 178, insertion: '', segid: 'P0'>\n",
      "\n"
     ]
    },
    {
     "name": "stderr",
     "output_type": "stream",
     "text": [
      "2020-09-09 09:49:55,977 - htmd.builder.charmm - INFO - Starting the build.\n",
      "2020-09-09 09:49:56,195 - htmd.builder.charmm - WARNING - Failed to set coordinates for 1 atoms.\n",
      "2020-09-09 09:49:56,197 - htmd.builder.charmm - WARNING - Please check /gpcr/users/daranda/doctorat/GPCR_simulations/simulation_output/pre-build/6AKX/log.txt for further information.\n"
     ]
    },
    {
     "name": "stdout",
     "output_type": "stream",
     "text": [
      "model 6AKX could not be build because  UnknownResidueError(\"Unknown residue(s) ['NO3'] found in the input structure. You are either missing a topology definition for the residue or you need to rename it to the correct residue name\",)\n",
      "Check /gpcr/users/daranda/doctorat/GPCR_simulations/simulation_output/pre-build/6AKX/log.txt for further information on errors in building.\n",
      "\n",
      "start building model for receptor 5TE3 (3/181)\n",
      "\n",
      "start building model for receptor 6LI0 (4/181)\n",
      "\n",
      "start building model for receptor 6D32 (5/181)\n",
      "\n",
      "start building model for receptor 6TOS (6/181)\n",
      "Structure 6TOS already has a watered version. Skipping...\n"
     ]
    },
    {
     "name": "stderr",
     "output_type": "stream",
     "text": [
      "2020-09-09 09:49:58,152 - htmd.molecule.molecule - INFO - Removed 336 atoms. 2673 atoms remaining in the molecule.\n",
      "2020-09-09 09:49:58,198 - htmd.molecule.molecule - INFO - Removed 0 atoms. 2673 atoms remaining in the molecule.\n",
      "2020-09-09 09:49:58,519 - htmd.molecule.molecule - INFO - Removed 0 atoms. 2673 atoms remaining in the molecule.\n",
      "2020-09-09 09:49:58,775 - htmd.molecule.molecule - INFO - Removed 0 atoms. 2673 atoms remaining in the molecule.\n",
      "2020-09-09 09:49:59,221 - htmd.builder.builder - INFO - Created segment P0 between resid 39 and 253.\n",
      "2020-09-09 09:49:59,222 - htmd.builder.builder - INFO - Created segment P1 between resid 278 and 383.\n",
      "2020-09-09 09:50:04,012 - htmd.molecule.molecule - INFO - Removed 0 atoms. 2569 atoms remaining in the molecule.\n",
      "2020-09-09 09:50:04,265 - htmd.molecule.molecule - INFO - Removed 0 atoms. 2569 atoms remaining in the molecule.\n",
      "2020-09-09 09:50:04,783 - htmd.builder.builder - INFO - Created segment P0 between resid 25 and 189.\n",
      "2020-09-09 09:50:04,784 - htmd.builder.builder - INFO - Created segment P1 between resid 198 and 243.\n",
      "2020-09-09 09:50:04,785 - htmd.builder.builder - INFO - Created segment P2 between resid 251 and 376.\n",
      "2020-09-09 09:50:05,694 - moleculekit.tools.sequencestructuralalignment - INFO - No segment was specified by the user for `mol` and multiple segments (['P0', 'P1']) were detected. Alignment will be done on all protein segments.\n",
      "2020-09-09 09:50:05,757 - moleculekit.tools.sequencestructuralalignment - INFO - No segment was specified by the user for `ref` and multiple segments (['P0', 'P1', 'P2']) were detected. Alignment will be done on all protein segments.\n",
      "2020-09-09 09:50:06,028 - moleculekit.tools.sequencestructuralalignment - WARNING - 16 alignments found. Limiting to 1 as specified in the `maxalignments` argument.\n",
      "2020-09-09 09:50:06,031 - moleculekit.tools.sequencestructuralalignment - INFO - Alignment #0 was done on 66 residues: mol segid P0 resid 96-161\n",
      "2020-09-09 09:50:10,284 - htmd.builder.preparation - WARNING - The following residue has not been optimized: NRE\n",
      "2020-09-09 09:50:10,286 - htmd.builder.preparation - WARNING - The following residue has not been optimized: NA\n",
      "2020-09-09 09:50:10,287 - htmd.builder.preparation - WARNING - The following residue has not been optimized: TIP\n",
      "2020-09-09 09:50:28,497 - htmd.builder.preparationdata - INFO - The following residues are in a non-standard state: HIS    75  A (HID), HIS    76  A (HID), HIS   116  A (HID), CYS   119  A (CYX), HIS   150  A (HIE), CYS   202  A (CYX), HIS   216  A (HIE), HIS   344  P (HIP)\n",
      "2020-09-09 09:50:28,499 - htmd.builder.preparationdata - WARNING - Dubious protonation state: the pKa of 6 residues is within 1.0 units of pH 7.0.\n",
      "2020-09-09 09:50:28,501 - htmd.builder.preparationdata - WARNING - Dubious protonation state:    HIS    76  A (pKa= 6.28)\n",
      "2020-09-09 09:50:28,502 - htmd.builder.preparationdata - WARNING - Dubious protonation state:    HIS   116  A (pKa= 6.52)\n",
      "2020-09-09 09:50:28,503 - htmd.builder.preparationdata - WARNING - Dubious protonation state:    HIS   216  A (pKa= 6.42)\n",
      "2020-09-09 09:50:28,504 - htmd.builder.preparationdata - WARNING - Dubious protonation state:    HIS   344  P (pKa= 7.11)\n",
      "2020-09-09 09:50:28,505 - htmd.builder.preparationdata - WARNING - Dubious protonation state:    N+     39T A (pKa= 7.90)\n",
      "2020-09-09 09:50:28,506 - htmd.builder.preparationdata - WARNING - Dubious protonation state:    N+    278T P (pKa= 7.67)\n",
      "2020-09-09 09:50:28,623 - htmd.builder.preparationdata - WARNING - Found C-terminus involved in H bonds\n",
      "2020-09-09 09:50:28,628 - htmd.builder.preparationdata - WARNING - Predictions for 10 residues may be incorrect because they are exposed to the membrane (-15.9<z<15.90 and buried<75.0%).\n"
     ]
    },
    {
     "name": "stdout",
     "output_type": "stream",
     "text": [
      "Adding membrane...\n"
     ]
    },
    {
     "name": "stderr",
     "output_type": "stream",
     "text": [
      "2020-09-09 09:50:30,156 - htmd.builder.builder - INFO - Replicating Membrane 3x3\n",
      "\n",
      "Replicating Membrane:   0%|          | 0/9 [00:00<?, ?it/s]\u001b[A\n",
      "Replicating Membrane:  11%|█         | 1/9 [00:00<00:04,  1.67it/s]\u001b[A\n",
      "Replicating Membrane:  22%|██▏       | 2/9 [00:01<00:04,  1.60it/s]\u001b[A\n",
      "Replicating Membrane:  33%|███▎      | 3/9 [00:01<00:03,  1.74it/s]\u001b[A\n",
      "Replicating Membrane:  44%|████▍     | 4/9 [00:02<00:03,  1.59it/s]\u001b[A\n",
      "Replicating Membrane:  56%|█████▌    | 5/9 [00:03<00:02,  1.45it/s]\u001b[A\n",
      "Replicating Membrane:  67%|██████▋   | 6/9 [00:04<00:02,  1.27it/s]\u001b[A\n",
      "2020-09-09 09:52:20,025 - htmd.molecule.molecule - INFO - Removed 2523 atoms. 40821 atoms remaining in the molecule.\n",
      "2020-09-09 09:52:23,028 - htmd.molecule.molecule - INFO - Removed 87 residues from appended Molecule due to collisions.\n"
     ]
    },
    {
     "name": "stdout",
     "output_type": "stream",
     "text": [
      "Solvating...\n",
      "wataerbox Max and min:  [48.48992  49.85142  28.174822] [-46.144077 -46.31058  -27.620178]\n"
     ]
    },
    {
     "name": "stderr",
     "output_type": "stream",
     "text": [
      "2020-09-09 09:52:24,577 - htmd.builder.solvate - INFO - Using water pdb file at: /soft/EB_repo/devel/programs/foss/2016b/Anaconda3/5.0.1/lib/python3.6/site-packages/htmd/builder/wat.pdb\n",
      "2020-09-09 09:52:26,515 - htmd.builder.solvate - INFO - Replicating 8 water segments, 2 by 2 by 2\n",
      "\n",
      "Solvating:   0%|          | 0/8 [00:00<?, ?it/s]\u001b[A\n",
      "Solvating:  12%|█▎        | 1/8 [00:02<00:18,  2.61s/it]\u001b[A\n",
      "Solvating:  25%|██▌       | 2/8 [00:05<00:15,  2.55s/it]\u001b[A\n",
      "Solvating:  38%|███▊      | 3/8 [00:07<00:12,  2.50s/it]\u001b[A\n",
      "Solvating:  50%|█████     | 4/8 [00:09<00:10,  2.53s/it]\u001b[A\n",
      "Solvating:  62%|██████▎   | 5/8 [00:12<00:07,  2.60s/it]\u001b[A\n",
      "Solvating:  75%|███████▌  | 6/8 [00:15<00:05,  2.63s/it]\u001b[A\n",
      "Solvating:  88%|████████▊ | 7/8 [00:17<00:02,  2.57s/it]\u001b[A\n",
      "Solvating: 100%|██████████| 8/8 [00:20<00:00,  2.57s/it]\u001b[A\n",
      "2020-09-09 09:52:51,355 - htmd.builder.solvate - INFO - 14418 water molecules were added to the system.\n",
      "2020-09-09 09:53:08,912 - htmd.molecule.molecule - INFO - Removed 822 atoms. 81342 atoms remaining in the molecule.\n"
     ]
    },
    {
     "name": "stdout",
     "output_type": "stream",
     "text": [
      "Pre-build...\n"
     ]
    },
    {
     "name": "stderr",
     "output_type": "stream",
     "text": [
      "2020-09-09 09:53:11,093 - htmd.builder.charmm - INFO - Writing out segments.\n",
      "2020-09-09 09:53:25,691 - htmd.builder.builder - INFO - One disulfide bond was added\n"
     ]
    },
    {
     "name": "stdout",
     "output_type": "stream",
     "text": [
      "Disulfide Bond between: UniqueResidueID<resname: 'CYS', chain: 'P', resid: 119, insertion: '', segid: 'P0'>\n",
      "                   and: UniqueResidueID<resname: 'CYS', chain: 'P', resid: 202, insertion: '', segid: 'P0'>\n",
      "\n"
     ]
    },
    {
     "name": "stderr",
     "output_type": "stream",
     "text": [
      "2020-09-09 09:53:26,500 - htmd.builder.charmm - INFO - Starting the build.\n",
      "2020-09-09 09:53:28,230 - htmd.builder.charmm - WARNING - Failed to set coordinates for 2 atoms.\n",
      "2020-09-09 09:53:28,232 - htmd.builder.charmm - WARNING - Failed to guess coordinates for 1 atoms due to bad angles.\n",
      "2020-09-09 09:53:28,233 - htmd.builder.charmm - WARNING - Poorly guessed coordinates for 234 atoms.\n",
      "2020-09-09 09:53:28,233 - htmd.builder.charmm - WARNING - 2 undefined warnings were produced during building.\n",
      "2020-09-09 09:53:28,234 - htmd.builder.charmm - WARNING - Please check /gpcr/users/daranda/doctorat/GPCR_simulations/simulation_output/pre-build/6TOS/log.txt for further information.\n",
      "2020-09-09 09:53:28,235 - htmd.builder.charmm - INFO - Finished building.\n",
      "2020-09-09 09:53:31,343 - htmd.molecule.readers - WARNING - Atoms with names \"HE21\" \"HE22\" were guessed as element H but could also be He (helium). If this is a case, you can correct them with mol.set('element', 'He', sel='name \"HE21\" \"HE22\"')\n",
      "2020-09-09 09:53:31,345 - htmd.molecule.readers - WARNING - Atoms with names \"HG11\" \"HG12\" \"HG13\" \"HG21\" \"HG22\" \"HG23\" were guessed as element H but could also be Hg (mercury). If this is a case, you can correct them with mol.set('element', 'Hg', sel='name \"HG11\" \"HG12\" \"HG13\" \"HG21\" \"HG22\" \"HG23\"')\n",
      "2020-09-09 09:53:45,043 - htmd.molecule.readers - WARNING - Atoms with names \"HE21\" \"HE22\" were guessed as element H but could also be He (helium). If this is a case, you can correct them with mol.set('element', 'He', sel='name \"HE21\" \"HE22\"')\n",
      "2020-09-09 09:53:45,045 - htmd.molecule.readers - WARNING - Atoms with names \"HG11\" \"HG12\" \"HG13\" \"HG21\" \"HG22\" \"HG23\" were guessed as element H but could also be Hg (mercury). If this is a case, you can correct them with mol.set('element', 'Hg', sel='name \"HG11\" \"HG12\" \"HG13\" \"HG21\" \"HG22\" \"HG23\"')\n"
     ]
    },
    {
     "name": "stdout",
     "output_type": "stream",
     "text": [
      "Checking aromatic insertions...\n"
     ]
    },
    {
     "name": "stderr",
     "output_type": "stream",
     "text": [
      "2020-09-09 09:56:21,984 - htmd.molecule.molecule - INFO - Removed 4 atoms. 81409 atoms remaining in the molecule.\n"
     ]
    },
    {
     "name": "stdout",
     "output_type": "stream",
     "text": [
      "WARNING: removed 4 atoms within 1.5 of a protein aromatic ring\n",
      "Renumbering...\n",
      "Ionizing...\n"
     ]
    },
    {
     "name": "stderr",
     "output_type": "stream",
     "text": [
      "2020-09-09 09:56:46,579 - htmd.builder.charmm - INFO - Writing out segments.\n",
      "2020-09-09 09:57:01,171 - htmd.builder.builder - INFO - One disulfide bond was added\n"
     ]
    },
    {
     "name": "stdout",
     "output_type": "stream",
     "text": [
      "Disulfide Bond between: UniqueResidueID<resname: 'CYS', chain: 'P', resid: 119, insertion: '', segid: 'P0'>\n",
      "                   and: UniqueResidueID<resname: 'CYS', chain: 'P', resid: 202, insertion: '', segid: 'P0'>\n",
      "\n"
     ]
    },
    {
     "name": "stderr",
     "output_type": "stream",
     "text": [
      "2020-09-09 09:57:01,980 - htmd.builder.charmm - INFO - Starting the build.\n",
      "2020-09-09 09:57:03,670 - htmd.builder.charmm - WARNING - Failed to set coordinates for 2 atoms.\n",
      "2020-09-09 09:57:03,672 - htmd.builder.charmm - WARNING - Failed to guess coordinates for 1 atoms due to bad angles.\n",
      "2020-09-09 09:57:03,673 - htmd.builder.charmm - WARNING - Poorly guessed coordinates for 232 atoms.\n",
      "2020-09-09 09:57:03,673 - htmd.builder.charmm - WARNING - 2 undefined warnings were produced during building.\n",
      "2020-09-09 09:57:03,674 - htmd.builder.charmm - WARNING - Please check /gpcr/users/daranda/doctorat/GPCR_simulations/simulation_output/ionize/6TOS/log.txt for further information.\n",
      "2020-09-09 09:57:03,675 - htmd.builder.charmm - INFO - Finished building.\n",
      "2020-09-09 09:57:07,019 - htmd.molecule.readers - WARNING - Atoms with names \"HE21\" \"HE22\" were guessed as element H but could also be He (helium). If this is a case, you can correct them with mol.set('element', 'He', sel='name \"HE21\" \"HE22\"')\n",
      "2020-09-09 09:57:07,020 - htmd.molecule.readers - WARNING - Atoms with names \"HG11\" \"HG12\" \"HG13\" \"HG21\" \"HG22\" \"HG23\" were guessed as element H but could also be Hg (mercury). If this is a case, you can correct them with mol.set('element', 'Hg', sel='name \"HG11\" \"HG12\" \"HG13\" \"HG21\" \"HG22\" \"HG23\"')\n",
      "2020-09-09 09:57:13,325 - htmd.builder.ionize - INFO - Adding 17 anions + 0 cations for neutralizing and 100 ions for the given salt concentration.\n",
      "2020-09-09 09:58:36,682 - htmd.builder.charmm - INFO - Writing out segments.\n",
      "2020-09-09 09:58:52,862 - htmd.builder.charmm - INFO - Starting the build.\n",
      "2020-09-09 09:58:54,686 - htmd.builder.charmm - WARNING - Failed to set coordinates for 2 atoms.\n",
      "2020-09-09 09:58:54,687 - htmd.builder.charmm - WARNING - Failed to guess coordinates for 1 atoms due to bad angles.\n",
      "2020-09-09 09:58:54,688 - htmd.builder.charmm - WARNING - Poorly guessed coordinates for 232 atoms.\n",
      "2020-09-09 09:58:54,689 - htmd.builder.charmm - WARNING - 2 undefined warnings were produced during building.\n",
      "2020-09-09 09:58:54,689 - htmd.builder.charmm - WARNING - Please check /gpcr/users/daranda/doctorat/GPCR_simulations/simulation_output/ionize/6TOS/log.txt for further information.\n",
      "2020-09-09 09:58:54,690 - htmd.builder.charmm - INFO - Finished building.\n",
      "2020-09-09 09:58:57,960 - htmd.molecule.readers - WARNING - Atoms with names \"HE21\" \"HE22\" were guessed as element H but could also be He (helium). If this is a case, you can correct them with mol.set('element', 'He', sel='name \"HE21\" \"HE22\"')\n",
      "2020-09-09 09:58:57,961 - htmd.molecule.readers - WARNING - Atoms with names \"HG11\" \"HG12\" \"HG13\" \"HG21\" \"HG22\" \"HG23\" were guessed as element H but could also be Hg (mercury). If this is a case, you can correct them with mol.set('element', 'Hg', sel='name \"HG11\" \"HG12\" \"HG13\" \"HG21\" \"HG22\" \"HG23\"')\n",
      "2020-09-09 09:59:11,881 - htmd.molecule.readers - WARNING - Atoms with names \"HE21\" \"HE22\" were guessed as element H but could also be He (helium). If this is a case, you can correct them with mol.set('element', 'He', sel='name \"HE21\" \"HE22\"')\n",
      "2020-09-09 09:59:11,883 - htmd.molecule.readers - WARNING - Atoms with names \"HG11\" \"HG12\" \"HG13\" \"HG21\" \"HG22\" \"HG23\" were guessed as element H but could also be Hg (mercury). If this is a case, you can correct them with mol.set('element', 'Hg', sel='name \"HG11\" \"HG12\" \"HG13\" \"HG21\" \"HG22\" \"HG23\"')\n"
     ]
    },
    {
     "name": "stdout",
     "output_type": "stream",
     "text": [
      "Building...\n"
     ]
    },
    {
     "name": "stderr",
     "output_type": "stream",
     "text": [
      "2020-09-09 10:00:13,299 - htmd.builder.charmm - INFO - Writing out segments.\n",
      "2020-09-09 10:00:29,529 - htmd.builder.builder - INFO - One disulfide bond was added\n"
     ]
    },
    {
     "name": "stdout",
     "output_type": "stream",
     "text": [
      "Disulfide Bond between: UniqueResidueID<resname: 'CYS', chain: 'P', resid: 119, insertion: '', segid: 'P0'>\n",
      "                   and: UniqueResidueID<resname: 'CYS', chain: 'P', resid: 202, insertion: '', segid: 'P0'>\n",
      "\n"
     ]
    },
    {
     "name": "stderr",
     "output_type": "stream",
     "text": [
      "2020-09-09 10:00:30,341 - htmd.builder.charmm - INFO - Starting the build.\n",
      "2020-09-09 10:00:32,058 - htmd.builder.charmm - WARNING - 2 undefined warnings were produced during building.\n",
      "2020-09-09 10:00:32,060 - htmd.builder.charmm - WARNING - Please check /gpcr/users/daranda/doctorat/GPCR_simulations/simulation_output/build/6TOS/log.txt for further information.\n",
      "2020-09-09 10:00:32,061 - htmd.builder.charmm - INFO - Finished building.\n"
     ]
    },
    {
     "name": "stdout",
     "output_type": "stream",
     "text": [
      "End of 6TOS after 648.5981936454773 seconds\n",
      "\n",
      "\n",
      "start building model for receptor 6IIU (7/181)\n",
      "\n",
      "start building model for receptor 5XSZ (8/181)\n",
      "\n",
      "start building model for receptor 6D27 (9/181)\n",
      "\n",
      "start building model for receptor 5TVN (10/181)\n",
      "\n",
      "start building model for receptor 5WIV (11/181)\n",
      "\n",
      "start building model for receptor 6A93 (12/181)\n",
      "\n",
      "start building model for receptor 5X33 (13/181)\n",
      "\n",
      "start building model for receptor 6ME2 (14/181)\n",
      "\n",
      "start building model for receptor 6K1Q (15/181)\n",
      "\n",
      "start building model for receptor 6LI1 (16/181)\n",
      "Structure 6LI1 already has a watered version. Skipping...\n"
     ]
    },
    {
     "name": "stderr",
     "output_type": "stream",
     "text": [
      "2020-09-09 10:00:47,411 - htmd.molecule.molecule - INFO - Removed 41 atoms. 2690 atoms remaining in the molecule.\n",
      "2020-09-09 10:00:47,457 - htmd.molecule.molecule - INFO - Removed 0 atoms. 2690 atoms remaining in the molecule.\n",
      "2020-09-09 10:00:47,783 - htmd.molecule.molecule - INFO - Removed 0 atoms. 2690 atoms remaining in the molecule.\n",
      "2020-09-09 10:00:48,048 - htmd.molecule.molecule - INFO - Removed 0 atoms. 2690 atoms remaining in the molecule.\n",
      "2020-09-09 10:00:48,501 - htmd.builder.builder - INFO - Created segment P0 between resid 24 and 243.\n",
      "2020-09-09 10:00:48,502 - htmd.builder.builder - INFO - Created segment P1 between resid 246 and 346.\n",
      "2020-09-09 10:00:52,419 - htmd.molecule.molecule - INFO - Removed 0 atoms. 3362 atoms remaining in the molecule.\n",
      "2020-09-09 10:00:52,740 - htmd.molecule.molecule - INFO - Removed 0 atoms. 3362 atoms remaining in the molecule.\n",
      "2020-09-09 10:00:53,354 - htmd.builder.builder - INFO - Created segment P0 between resid 24 and 341.\n",
      "2020-09-09 10:00:54,164 - moleculekit.tools.sequencestructuralalignment - INFO - No segment was specified by the user for `mol` and multiple segments (['P0', 'P1']) were detected. Alignment will be done on all protein segments.\n",
      "2020-09-09 10:00:54,226 - moleculekit.tools.sequencestructuralalignment - INFO - No segment was specified by the user for `ref`. Alignment will be done on all protein segments.\n",
      "2020-09-09 10:00:55,063 - moleculekit.tools.sequencestructuralalignment - INFO - Alignment #0 was done on 106 residues: mol segid P0 resid 24-129\n",
      "2020-09-09 10:00:59,678 - htmd.builder.preparation - WARNING - The following residue has not been optimized: FMN\n",
      "2020-09-09 10:00:59,679 - htmd.builder.preparation - WARNING - The following residue has not been optimized: NA\n",
      "2020-09-09 10:00:59,679 - htmd.builder.preparation - WARNING - The following residue has not been optimized: TIP\n",
      "2020-09-09 10:01:16,856 - htmd.builder.preparationdata - INFO - The following residues are in a non-standard state: HIS    25  A (HID), CYS    27  A (CYX), HIS    33  A (HID), CYS    40  A (CYX), HIS    66  A (HID), HIS    72  A (HID), HIS    73  A (HID), HIS   103  A (HIE), HIS   109  A (HID), CYS   114  A (CYX), LYS   125  A (LYN), HIS   186  A (HID), CYS   193  A (CYX), HIS   225  A (HIE), HIS   233  A (HID), HIS   247  P (HID), HIS   257  P (HID)\n",
      "2020-09-09 10:01:16,858 - htmd.builder.preparationdata - WARNING - Dubious protonation state: the pKa of 12 residues is within 1.0 units of pH 7.0.\n",
      "2020-09-09 10:01:16,861 - htmd.builder.preparationdata - WARNING - Dubious protonation state:    HIS    25  A (pKa= 6.56)\n",
      "2020-09-09 10:01:16,862 - htmd.builder.preparationdata - WARNING - Dubious protonation state:    HIS    33  A (pKa= 6.40)\n",
      "2020-09-09 10:01:16,863 - htmd.builder.preparationdata - WARNING - Dubious protonation state:    HIS    66  A (pKa= 6.21)\n",
      "2020-09-09 10:01:16,864 - htmd.builder.preparationdata - WARNING - Dubious protonation state:    CYS   161  A (pKa= 7.11)\n",
      "2020-09-09 10:01:16,865 - htmd.builder.preparationdata - WARNING - Dubious protonation state:    HIS   225  A (pKa= 6.23)\n",
      "2020-09-09 10:01:16,866 - htmd.builder.preparationdata - WARNING - Dubious protonation state:    HIS   233  A (pKa= 6.24)\n",
      "2020-09-09 10:01:16,867 - htmd.builder.preparationdata - WARNING - Dubious protonation state:    HIS   247  P (pKa= 6.42)\n",
      "2020-09-09 10:01:16,868 - htmd.builder.preparationdata - WARNING - Dubious protonation state:    HIS   257  P (pKa= 6.15)\n",
      "2020-09-09 10:01:16,869 - htmd.builder.preparationdata - WARNING - Dubious protonation state:    GLU   288  P (pKa= 6.22)\n",
      "2020-09-09 10:01:16,871 - htmd.builder.preparationdata - WARNING - Dubious protonation state:    FMN     1L L (pKa= 6.04)\n",
      "2020-09-09 10:01:16,872 - htmd.builder.preparationdata - WARNING - Dubious protonation state:    N+     24T A (pKa= 7.08)\n",
      "2020-09-09 10:01:16,873 - htmd.builder.preparationdata - WARNING - Dubious protonation state:    N+    246T P (pKa= 7.89)\n",
      "2020-09-09 10:01:16,993 - htmd.builder.preparationdata - WARNING - Predictions for 22 residues may be incorrect because they are exposed to the membrane (-15.3<z<15.30 and buried<75.0%).\n"
     ]
    },
    {
     "name": "stdout",
     "output_type": "stream",
     "text": [
      "Adding membrane...\n"
     ]
    },
    {
     "name": "stderr",
     "output_type": "stream",
     "text": [
      "2020-09-09 10:01:18,498 - htmd.builder.builder - INFO - Replicating Membrane 3x3\n",
      "\n",
      "Replicating Membrane:   0%|          | 0/9 [00:00<?, ?it/s]\u001b[A\n",
      "Replicating Membrane:  11%|█         | 1/9 [00:00<00:04,  1.73it/s]\u001b[A\n",
      "Replicating Membrane:  22%|██▏       | 2/9 [00:01<00:04,  1.64it/s]\u001b[A\n",
      "Replicating Membrane:  33%|███▎      | 3/9 [00:01<00:03,  1.73it/s]\u001b[A\n",
      "Replicating Membrane:  44%|████▍     | 4/9 [00:02<00:03,  1.56it/s]\u001b[A\n",
      "Replicating Membrane:  56%|█████▌    | 5/9 [00:03<00:02,  1.40it/s]\u001b[A\n",
      "Replicating Membrane:  67%|██████▋   | 6/9 [00:04<00:02,  1.41it/s]\u001b[A\n",
      "Replicating Membrane:  78%|███████▊  | 7/9 [00:04<00:01,  1.41it/s]\u001b[A\n",
      "Replicating Membrane:  89%|████████▉ | 8/9 [00:05<00:00,  1.41it/s]\u001b[A\n",
      "Replicating Membrane: 100%|██████████| 9/9 [00:06<00:00,  1.43it/s]\u001b[A\n",
      "2020-09-09 10:04:52,801 - htmd.molecule.molecule - INFO - Removed 2148 atoms. 49763 atoms remaining in the molecule.\n",
      "2020-09-09 10:04:56,465 - htmd.molecule.molecule - INFO - Removed 79 residues from appended Molecule due to collisions.\n"
     ]
    },
    {
     "name": "stdout",
     "output_type": "stream",
     "text": [
      "Solvating...\n",
      "wataerbox Max and min:  [58.15649  57.559948 28.081614] [-49.75351  -50.35405  -27.713387]\n"
     ]
    },
    {
     "name": "stderr",
     "output_type": "stream",
     "text": [
      "2020-09-09 10:04:58,370 - htmd.builder.solvate - INFO - Using water pdb file at: /soft/EB_repo/devel/programs/foss/2016b/Anaconda3/5.0.1/lib/python3.6/site-packages/htmd/builder/wat.pdb\n",
      "2020-09-09 10:05:00,682 - htmd.builder.solvate - INFO - Replicating 8 water segments, 2 by 2 by 2\n",
      "\n",
      "Solvating:   0%|          | 0/8 [00:00<?, ?it/s]\u001b[A\n",
      "Solvating:  12%|█▎        | 1/8 [00:03<00:21,  3.06s/it]\u001b[A\n",
      "Solvating:  25%|██▌       | 2/8 [00:05<00:17,  2.99s/it]\u001b[A\n",
      "Solvating:  38%|███▊      | 3/8 [00:08<00:14,  2.96s/it]\u001b[A\n",
      "Solvating:  50%|█████     | 4/8 [00:11<00:11,  2.94s/it]\u001b[A\n",
      "Solvating:  62%|██████▎   | 5/8 [00:14<00:08,  2.96s/it]\u001b[A\n",
      "Solvating:  75%|███████▌  | 6/8 [00:17<00:05,  2.96s/it]\u001b[A\n",
      "Solvating:  88%|████████▊ | 7/8 [00:20<00:02,  2.97s/it]\u001b[A\n",
      "Solvating: 100%|██████████| 8/8 [00:23<00:00,  2.96s/it]\u001b[A\n",
      "2020-09-09 10:05:29,339 - htmd.builder.solvate - INFO - 17107 water molecules were added to the system.\n",
      "2020-09-09 10:05:51,037 - htmd.molecule.molecule - INFO - Removed 1383 atoms. 97700 atoms remaining in the molecule.\n"
     ]
    },
    {
     "name": "stdout",
     "output_type": "stream",
     "text": [
      "Pre-build...\n"
     ]
    },
    {
     "name": "stderr",
     "output_type": "stream",
     "text": [
      "2020-09-09 10:05:53,524 - htmd.builder.charmm - INFO - Writing out segments.\n",
      "2020-09-09 10:06:11,961 - htmd.builder.builder - INFO - 2 disulfide bonds were added\n"
     ]
    },
    {
     "name": "stdout",
     "output_type": "stream",
     "text": [
      "Disulfide Bond between: UniqueResidueID<resname: 'CYS', chain: 'P', resid: 27, insertion: '', segid: 'P0'>\n",
      "                   and: UniqueResidueID<resname: 'CYS', chain: 'P', resid: 40, insertion: '', segid: 'P0'>\n",
      "\n",
      "Disulfide Bond between: UniqueResidueID<resname: 'CYS', chain: 'P', resid: 114, insertion: '', segid: 'P0'>\n",
      "                   and: UniqueResidueID<resname: 'CYS', chain: 'P', resid: 193, insertion: '', segid: 'P0'>\n",
      "\n"
     ]
    },
    {
     "name": "stderr",
     "output_type": "stream",
     "text": [
      "2020-09-09 10:06:12,762 - htmd.builder.charmm - INFO - Starting the build.\n",
      "2020-09-09 10:06:14,748 - htmd.builder.charmm - WARNING - Failed to set coordinates for 2 atoms.\n",
      "2020-09-09 10:06:14,750 - htmd.builder.charmm - WARNING - Poorly guessed coordinates for 195 atoms.\n",
      "2020-09-09 10:06:14,751 - htmd.builder.charmm - WARNING - Please check /gpcr/users/daranda/doctorat/GPCR_simulations/simulation_output/pre-build/6LI1/log.txt for further information.\n",
      "2020-09-09 10:06:14,752 - htmd.builder.charmm - INFO - Finished building.\n",
      "2020-09-09 10:06:18,648 - htmd.molecule.readers - WARNING - Atoms with names \"HE21\" \"HE22\" were guessed as element H but could also be He (helium). If this is a case, you can correct them with mol.set('element', 'He', sel='name \"HE21\" \"HE22\"')\n",
      "2020-09-09 10:06:18,649 - htmd.molecule.readers - WARNING - Atoms with names \"HG11\" \"HG12\" \"HG13\" \"HG21\" \"HG22\" \"HG23\" were guessed as element H but could also be Hg (mercury). If this is a case, you can correct them with mol.set('element', 'Hg', sel='name \"HG11\" \"HG12\" \"HG13\" \"HG21\" \"HG22\" \"HG23\"')\n",
      "2020-09-09 10:06:18,999 - htmd.molecule.readers - WARNING - Non-integer values were read from the PDB \"serial\" field. Dropping PDB values and assigning new ones.\n",
      "2020-09-09 10:06:19,147 - htmd.molecule.readers - WARNING - Reading PDB file with more than 99999 atoms. Bond information can be wrong.\n",
      "2020-09-09 10:06:35,414 - htmd.molecule.readers - WARNING - Atoms with names \"HE21\" \"HE22\" were guessed as element H but could also be He (helium). If this is a case, you can correct them with mol.set('element', 'He', sel='name \"HE21\" \"HE22\"')\n",
      "2020-09-09 10:06:35,415 - htmd.molecule.readers - WARNING - Atoms with names \"HG11\" \"HG12\" \"HG13\" \"HG21\" \"HG22\" \"HG23\" were guessed as element H but could also be Hg (mercury). If this is a case, you can correct them with mol.set('element', 'Hg', sel='name \"HG11\" \"HG12\" \"HG13\" \"HG21\" \"HG22\" \"HG23\"')\n",
      "2020-09-09 10:06:35,763 - htmd.molecule.readers - WARNING - Non-integer values were read from the PDB \"serial\" field. Dropping PDB values and assigning new ones.\n",
      "2020-09-09 10:06:35,919 - htmd.molecule.readers - WARNING - Reading PDB file with more than 99999 atoms. Bond information can be wrong.\n"
     ]
    },
    {
     "name": "stdout",
     "output_type": "stream",
     "text": [
      "Checking aromatic insertions...\n"
     ]
    },
    {
     "name": "stderr",
     "output_type": "stream",
     "text": [
      "2020-09-09 10:09:59,488 - htmd.molecule.molecule - INFO - Removed 3 atoms. 97774 atoms remaining in the molecule.\n"
     ]
    },
    {
     "name": "stdout",
     "output_type": "stream",
     "text": [
      "WARNING: removed 3 atoms within 1.5 of a protein aromatic ring\n",
      "Renumbering...\n",
      "Ionizing...\n"
     ]
    },
    {
     "name": "stderr",
     "output_type": "stream",
     "text": [
      "2020-09-09 10:10:31,036 - htmd.builder.charmm - INFO - Writing out segments.\n",
      "2020-09-09 10:10:48,750 - htmd.builder.builder - INFO - 2 disulfide bonds were added\n"
     ]
    },
    {
     "name": "stdout",
     "output_type": "stream",
     "text": [
      "Disulfide Bond between: UniqueResidueID<resname: 'CYS', chain: 'P', resid: 27, insertion: '', segid: 'P0'>\n",
      "                   and: UniqueResidueID<resname: 'CYS', chain: 'P', resid: 40, insertion: '', segid: 'P0'>\n",
      "\n",
      "Disulfide Bond between: UniqueResidueID<resname: 'CYS', chain: 'P', resid: 114, insertion: '', segid: 'P0'>\n",
      "                   and: UniqueResidueID<resname: 'CYS', chain: 'P', resid: 193, insertion: '', segid: 'P0'>\n",
      "\n"
     ]
    },
    {
     "name": "stderr",
     "output_type": "stream",
     "text": [
      "2020-09-09 10:10:49,553 - htmd.builder.charmm - INFO - Starting the build.\n",
      "2020-09-09 10:10:51,557 - htmd.builder.charmm - WARNING - Failed to set coordinates for 2 atoms.\n",
      "2020-09-09 10:10:51,559 - htmd.builder.charmm - WARNING - Poorly guessed coordinates for 195 atoms.\n",
      "2020-09-09 10:10:51,560 - htmd.builder.charmm - WARNING - Please check /gpcr/users/daranda/doctorat/GPCR_simulations/simulation_output/ionize/6LI1/log.txt for further information.\n",
      "2020-09-09 10:10:51,561 - htmd.builder.charmm - INFO - Finished building.\n",
      "2020-09-09 10:10:55,296 - htmd.molecule.readers - WARNING - Atoms with names \"HE21\" \"HE22\" were guessed as element H but could also be He (helium). If this is a case, you can correct them with mol.set('element', 'He', sel='name \"HE21\" \"HE22\"')\n",
      "2020-09-09 10:10:55,297 - htmd.molecule.readers - WARNING - Atoms with names \"HG11\" \"HG12\" \"HG13\" \"HG21\" \"HG22\" \"HG23\" were guessed as element H but could also be Hg (mercury). If this is a case, you can correct them with mol.set('element', 'Hg', sel='name \"HG11\" \"HG12\" \"HG13\" \"HG21\" \"HG22\" \"HG23\"')\n",
      "2020-09-09 10:10:55,615 - htmd.molecule.readers - WARNING - Non-integer values were read from the PDB \"serial\" field. Dropping PDB values and assigning new ones.\n",
      "2020-09-09 10:10:55,768 - htmd.molecule.readers - WARNING - Reading PDB file with more than 99999 atoms. Bond information can be wrong.\n",
      "2020-09-09 10:11:03,058 - htmd.builder.ionize - INFO - Adding 5 anions + 0 cations for neutralizing and 120 ions for the given salt concentration.\n",
      "2020-09-09 10:12:46,886 - htmd.builder.charmm - INFO - Writing out segments.\n",
      "2020-09-09 10:13:06,820 - htmd.builder.charmm - INFO - Starting the build.\n",
      "2020-09-09 10:13:08,798 - htmd.builder.charmm - WARNING - Failed to set coordinates for 2 atoms.\n",
      "2020-09-09 10:13:08,800 - htmd.builder.charmm - WARNING - Poorly guessed coordinates for 195 atoms.\n",
      "2020-09-09 10:13:08,801 - htmd.builder.charmm - WARNING - Please check /gpcr/users/daranda/doctorat/GPCR_simulations/simulation_output/ionize/6LI1/log.txt for further information.\n",
      "2020-09-09 10:13:08,802 - htmd.builder.charmm - INFO - Finished building.\n",
      "2020-09-09 10:13:12,605 - htmd.molecule.readers - WARNING - Atoms with names \"HE21\" \"HE22\" were guessed as element H but could also be He (helium). If this is a case, you can correct them with mol.set('element', 'He', sel='name \"HE21\" \"HE22\"')\n",
      "2020-09-09 10:13:12,606 - htmd.molecule.readers - WARNING - Atoms with names \"HG11\" \"HG12\" \"HG13\" \"HG21\" \"HG22\" \"HG23\" were guessed as element H but could also be Hg (mercury). If this is a case, you can correct them with mol.set('element', 'Hg', sel='name \"HG11\" \"HG12\" \"HG13\" \"HG21\" \"HG22\" \"HG23\"')\n",
      "2020-09-09 10:13:12,956 - htmd.molecule.readers - WARNING - Non-integer values were read from the PDB \"serial\" field. Dropping PDB values and assigning new ones.\n",
      "2020-09-09 10:13:13,113 - htmd.molecule.readers - WARNING - Reading PDB file with more than 99999 atoms. Bond information can be wrong.\n",
      "2020-09-09 10:13:29,278 - htmd.molecule.readers - WARNING - Atoms with names \"HE21\" \"HE22\" were guessed as element H but could also be He (helium). If this is a case, you can correct them with mol.set('element', 'He', sel='name \"HE21\" \"HE22\"')\n",
      "2020-09-09 10:13:29,279 - htmd.molecule.readers - WARNING - Atoms with names \"HG11\" \"HG12\" \"HG13\" \"HG21\" \"HG22\" \"HG23\" were guessed as element H but could also be Hg (mercury). If this is a case, you can correct them with mol.set('element', 'Hg', sel='name \"HG11\" \"HG12\" \"HG13\" \"HG21\" \"HG22\" \"HG23\"')\n",
      "2020-09-09 10:13:29,634 - htmd.molecule.readers - WARNING - Non-integer values were read from the PDB \"serial\" field. Dropping PDB values and assigning new ones.\n",
      "2020-09-09 10:13:29,803 - htmd.molecule.readers - WARNING - Reading PDB file with more than 99999 atoms. Bond information can be wrong.\n"
     ]
    },
    {
     "name": "stdout",
     "output_type": "stream",
     "text": [
      "Building...\n"
     ]
    },
    {
     "name": "stderr",
     "output_type": "stream",
     "text": [
      "2020-09-09 10:13:37,440 - htmd.molecule.writers - WARNING - Field \"serial\" of PDB overflows. Your data will be truncated to 5 characters.\n",
      "2020-09-09 10:14:44,182 - htmd.molecule.readers - WARNING - Non-integer values were read from the PDB \"serial\" field. Dropping PDB values and assigning new ones.\n",
      "2020-09-09 10:14:44,342 - htmd.molecule.readers - WARNING - Reading PDB file with more than 99999 atoms. Bond information can be wrong.\n",
      "2020-09-09 10:14:48,038 - htmd.builder.charmm - INFO - Writing out segments.\n",
      "2020-09-09 10:15:06,420 - htmd.molecule.writers - WARNING - Field \"serial\" of PDB overflows. Your data will be truncated to 5 characters.\n",
      "2020-09-09 10:15:07,346 - htmd.molecule.writers - WARNING - Field \"serial\" of PDB overflows. Your data will be truncated to 5 characters.\n",
      "2020-09-09 10:15:07,397 - htmd.builder.builder - INFO - 2 disulfide bonds were added\n"
     ]
    },
    {
     "name": "stdout",
     "output_type": "stream",
     "text": [
      "Disulfide Bond between: UniqueResidueID<resname: 'CYS', chain: 'P', resid: 27, insertion: '', segid: 'P0'>\n",
      "                   and: UniqueResidueID<resname: 'CYS', chain: 'P', resid: 40, insertion: '', segid: 'P0'>\n",
      "\n",
      "Disulfide Bond between: UniqueResidueID<resname: 'CYS', chain: 'P', resid: 114, insertion: '', segid: 'P0'>\n",
      "                   and: UniqueResidueID<resname: 'CYS', chain: 'P', resid: 193, insertion: '', segid: 'P0'>\n",
      "\n"
     ]
    },
    {
     "name": "stderr",
     "output_type": "stream",
     "text": [
      "2020-09-09 10:15:08,208 - htmd.builder.charmm - INFO - Starting the build.\n",
      "2020-09-09 10:15:10,204 - htmd.builder.charmm - INFO - Finished building.\n",
      "2020-09-09 10:15:13,608 - htmd.molecule.readers - WARNING - Non-integer values were read from the PDB \"serial\" field. Dropping PDB values and assigning new ones.\n",
      "2020-09-09 10:15:13,777 - htmd.molecule.readers - WARNING - Reading PDB file with more than 99999 atoms. Bond information can be wrong.\n"
     ]
    },
    {
     "name": "stdout",
     "output_type": "stream",
     "text": [
      "End of 6LI1 after 881.697562456131 seconds\n",
      "\n",
      "\n",
      "start building model for receptor 5WIU (17/181)\n",
      "\n",
      "start building model for receptor 5VBL (18/181)\n",
      "\n",
      "start building model for receptor 6LI2 (19/181)\n",
      "Structure 6LI2 already has a watered version. Skipping...\n"
     ]
    },
    {
     "name": "stderr",
     "output_type": "stream",
     "text": [
      "2020-09-09 10:15:28,847 - htmd.molecule.molecule - INFO - Removed 176 atoms. 2675 atoms remaining in the molecule.\n",
      "2020-09-09 10:15:28,896 - htmd.molecule.molecule - INFO - Removed 0 atoms. 2675 atoms remaining in the molecule.\n",
      "2020-09-09 10:15:29,231 - htmd.molecule.molecule - INFO - Removed 0 atoms. 2675 atoms remaining in the molecule.\n",
      "2020-09-09 10:15:29,500 - htmd.molecule.molecule - INFO - Removed 0 atoms. 2675 atoms remaining in the molecule.\n",
      "2020-09-09 10:15:29,966 - htmd.builder.builder - INFO - Created segment P0 between resid 23 and 243.\n",
      "2020-09-09 10:15:29,967 - htmd.builder.builder - INFO - Created segment P1 between resid 246 and 346.\n",
      "2020-09-09 10:15:34,433 - htmd.molecule.molecule - INFO - Removed 0 atoms. 2932 atoms remaining in the molecule.\n",
      "2020-09-09 10:15:34,730 - htmd.molecule.molecule - INFO - Removed 0 atoms. 2932 atoms remaining in the molecule.\n",
      "2020-09-09 10:15:35,385 - htmd.builder.builder - INFO - Created segment P0 between resid 23 and 67.\n",
      "2020-09-09 10:15:35,386 - htmd.builder.builder - INFO - Created segment P1 between resid 71 and 605.\n",
      "2020-09-09 10:15:36,716 - moleculekit.tools.sequencestructuralalignment - INFO - No segment was specified by the user for `mol` and multiple segments (['P0', 'P1']) were detected. Alignment will be done on all protein segments.\n",
      "2020-09-09 10:15:36,781 - moleculekit.tools.sequencestructuralalignment - INFO - No segment was specified by the user for `ref` and multiple segments (['P0', 'P1']) were detected. Alignment will be done on all protein segments.\n",
      "2020-09-09 10:15:37,229 - moleculekit.tools.sequencestructuralalignment - WARNING - 6 alignments found. Limiting to 1 as specified in the `maxalignments` argument.\n",
      "2020-09-09 10:15:37,233 - moleculekit.tools.sequencestructuralalignment - INFO - Alignment #0 was done on 104 residues: mol segid P0 resid 131-234\n",
      "2020-09-09 10:15:41,743 - htmd.builder.preparation - WARNING - The following residue has not been optimized: ZN\n",
      "2020-09-09 10:15:41,745 - htmd.builder.preparation - WARNING - The following residue has not been optimized: NA\n",
      "2020-09-09 10:15:41,745 - htmd.builder.preparation - WARNING - The following residue has not been optimized: TIP\n",
      "2020-09-09 10:15:59,228 - htmd.builder.preparationdata - INFO - The following residues are in a non-standard state: HIS    25  A (HIE), CYS    27  A (CYX), HIS    33  A (HID), CYS    40  A (CYX), HIS    66  A (HIE), HIS    72  A (HID), HIS    73  A (HIE), HIS   103  A (HIP), HIS   109  A (HID), CYS   114  A (CYX), LYS   125  A (LYN), CYS   161  A (CYM), HIS   186  A (HID), CYS   193  A (CYX), HIS   225  A (HID), HIS   233  A (HIP), HIS   247  P (HID), HIS   257  P (HID)\n",
      "2020-09-09 10:15:59,230 - htmd.builder.preparationdata - WARNING - Dubious protonation state: the pKa of 11 residues is within 1.0 units of pH 7.0.\n",
      "2020-09-09 10:15:59,233 - htmd.builder.preparationdata - WARNING - Dubious protonation state:    HIS    33  A (pKa= 6.75)\n",
      "2020-09-09 10:15:59,234 - htmd.builder.preparationdata - WARNING - Dubious protonation state:    HIS    66  A (pKa= 6.21)\n",
      "2020-09-09 10:15:59,235 - htmd.builder.preparationdata - WARNING - Dubious protonation state:    HIS   103  A (pKa= 7.00)\n",
      "2020-09-09 10:15:59,236 - htmd.builder.preparationdata - WARNING - Dubious protonation state:    HIS   109  A (pKa= 6.37)\n",
      "2020-09-09 10:15:59,237 - htmd.builder.preparationdata - WARNING - Dubious protonation state:    GLU   110  A (pKa= 6.41)\n",
      "2020-09-09 10:15:59,238 - htmd.builder.preparationdata - WARNING - Dubious protonation state:    CYS   161  A (pKa= 6.71)\n",
      "2020-09-09 10:15:59,239 - htmd.builder.preparationdata - WARNING - Dubious protonation state:    HIS   225  A (pKa= 6.16)\n",
      "2020-09-09 10:15:59,240 - htmd.builder.preparationdata - WARNING - Dubious protonation state:    HIS   233  A (pKa= 7.00)\n",
      "2020-09-09 10:15:59,241 - htmd.builder.preparationdata - WARNING - Dubious protonation state:    HIS   247  P (pKa= 6.38)\n",
      "2020-09-09 10:15:59,242 - htmd.builder.preparationdata - WARNING - Dubious protonation state:    N+     23T A (pKa= 7.39)\n",
      "2020-09-09 10:15:59,243 - htmd.builder.preparationdata - WARNING - Dubious protonation state:    N+    246T P (pKa= 7.90)\n",
      "2020-09-09 10:15:59,362 - htmd.builder.preparationdata - WARNING - Predictions for 16 residues may be incorrect because they are exposed to the membrane (-15.9<z<15.90 and buried<75.0%).\n"
     ]
    },
    {
     "name": "stdout",
     "output_type": "stream",
     "text": [
      "Adding membrane...\n"
     ]
    },
    {
     "name": "stderr",
     "output_type": "stream",
     "text": [
      "2020-09-09 10:16:00,889 - htmd.builder.builder - INFO - Replicating Membrane 3x3\n",
      "\n",
      "Replicating Membrane:   0%|          | 0/9 [00:00<?, ?it/s]\u001b[A\n",
      "Replicating Membrane:  11%|█         | 1/9 [00:00<00:04,  1.69it/s]\u001b[A\n",
      "Replicating Membrane:  22%|██▏       | 2/9 [00:01<00:04,  1.64it/s]\u001b[A\n",
      "Replicating Membrane:  33%|███▎      | 3/9 [00:01<00:03,  1.68it/s]\u001b[A\n",
      "Replicating Membrane:  44%|████▍     | 4/9 [00:02<00:03,  1.51it/s]\u001b[A\n",
      "Replicating Membrane:  56%|█████▌    | 5/9 [00:03<00:02,  1.38it/s]\u001b[A\n",
      "Replicating Membrane:  67%|██████▋   | 6/9 [00:04<00:02,  1.38it/s]\u001b[A\n",
      "Replicating Membrane:  78%|███████▊  | 7/9 [00:04<00:01,  1.38it/s]\u001b[A\n",
      "Replicating Membrane:  89%|████████▉ | 8/9 [00:05<00:00,  1.36it/s]\u001b[A\n",
      "Replicating Membrane: 100%|██████████| 9/9 [00:06<00:00,  1.39it/s]\u001b[A\n",
      "2020-09-09 10:19:55,003 - htmd.molecule.molecule - INFO - Removed 2539 atoms. 53854 atoms remaining in the molecule.\n",
      "2020-09-09 10:19:58,893 - htmd.molecule.molecule - INFO - Removed 100 residues from appended Molecule due to collisions.\n"
     ]
    },
    {
     "name": "stdout",
     "output_type": "stream",
     "text": [
      "Solvating...\n",
      "wataerbox Max and min:  [58.801487 57.75976  27.870813] [-52.029514 -53.082237 -27.924187]\n"
     ]
    },
    {
     "name": "stderr",
     "output_type": "stream",
     "text": [
      "2020-09-09 10:20:01,034 - htmd.builder.solvate - INFO - Using water pdb file at: /soft/EB_repo/devel/programs/foss/2016b/Anaconda3/5.0.1/lib/python3.6/site-packages/htmd/builder/wat.pdb\n",
      "2020-09-09 10:20:03,002 - htmd.builder.solvate - INFO - Replicating 8 water segments, 2 by 2 by 2\n",
      "\n",
      "Solvating:   0%|          | 0/8 [00:00<?, ?it/s]\u001b[A\n",
      "Solvating:  12%|█▎        | 1/8 [00:03<00:21,  3.10s/it]\u001b[A\n",
      "Solvating:  25%|██▌       | 2/8 [00:06<00:18,  3.10s/it]\u001b[A\n",
      "Solvating:  38%|███▊      | 3/8 [00:09<00:15,  3.09s/it]\u001b[A\n",
      "Solvating:  50%|█████     | 4/8 [00:12<00:12,  3.09s/it]\u001b[A\n",
      "Solvating:  62%|██████▎   | 5/8 [00:15<00:09,  3.08s/it]\u001b[A\n",
      "Solvating:  75%|███████▌  | 6/8 [00:18<00:06,  3.08s/it]\u001b[A\n",
      "Solvating:  88%|████████▊ | 7/8 [00:21<00:03,  3.08s/it]\u001b[A\n",
      "Solvating: 100%|██████████| 8/8 [00:24<00:00,  3.08s/it]\u001b[A\n",
      "2020-09-09 10:20:32,681 - htmd.builder.solvate - INFO - 15647 water molecules were added to the system.\n",
      "2020-09-09 10:20:52,811 - htmd.molecule.molecule - INFO - Removed 1491 atoms. 96832 atoms remaining in the molecule.\n"
     ]
    },
    {
     "name": "stdout",
     "output_type": "stream",
     "text": [
      "Pre-build...\n"
     ]
    },
    {
     "name": "stderr",
     "output_type": "stream",
     "text": [
      "2020-09-09 10:20:55,238 - htmd.builder.charmm - INFO - Writing out segments.\n",
      "2020-09-09 10:21:11,793 - htmd.builder.builder - INFO - 2 disulfide bonds were added\n"
     ]
    },
    {
     "name": "stdout",
     "output_type": "stream",
     "text": [
      "Disulfide Bond between: UniqueResidueID<resname: 'CYS', chain: 'P', resid: 27, insertion: '', segid: 'P0'>\n",
      "                   and: UniqueResidueID<resname: 'CYS', chain: 'P', resid: 40, insertion: '', segid: 'P0'>\n",
      "\n",
      "Disulfide Bond between: UniqueResidueID<resname: 'CYS', chain: 'P', resid: 114, insertion: '', segid: 'P0'>\n",
      "                   and: UniqueResidueID<resname: 'CYS', chain: 'P', resid: 193, insertion: '', segid: 'P0'>\n",
      "\n"
     ]
    },
    {
     "name": "stderr",
     "output_type": "stream",
     "text": [
      "2020-09-09 10:21:12,593 - htmd.builder.charmm - INFO - Starting the build.\n",
      "2020-09-09 10:21:14,554 - htmd.builder.charmm - WARNING - Failed to set coordinates for 3 atoms.\n",
      "2020-09-09 10:21:14,556 - htmd.builder.charmm - WARNING - Poorly guessed coordinates for 186 atoms.\n",
      "2020-09-09 10:21:14,557 - htmd.builder.charmm - WARNING - Please check /gpcr/users/daranda/doctorat/GPCR_simulations/simulation_output/pre-build/6LI2/log.txt for further information.\n",
      "2020-09-09 10:21:14,558 - htmd.builder.charmm - INFO - Finished building.\n",
      "2020-09-09 10:21:18,283 - htmd.molecule.readers - WARNING - Atoms with names \"HE21\" \"HE22\" were guessed as element H but could also be He (helium). If this is a case, you can correct them with mol.set('element', 'He', sel='name \"HE21\" \"HE22\"')\n",
      "2020-09-09 10:21:18,284 - htmd.molecule.readers - WARNING - Atoms with names \"HG11\" \"HG12\" \"HG13\" \"HG21\" \"HG22\" \"HG23\" were guessed as element H but could also be Hg (mercury). If this is a case, you can correct them with mol.set('element', 'Hg', sel='name \"HG11\" \"HG12\" \"HG13\" \"HG21\" \"HG22\" \"HG23\"')\n",
      "2020-09-09 10:21:34,747 - htmd.molecule.readers - WARNING - Atoms with names \"HE21\" \"HE22\" were guessed as element H but could also be He (helium). If this is a case, you can correct them with mol.set('element', 'He', sel='name \"HE21\" \"HE22\"')\n",
      "2020-09-09 10:21:34,748 - htmd.molecule.readers - WARNING - Atoms with names \"HG11\" \"HG12\" \"HG13\" \"HG21\" \"HG22\" \"HG23\" were guessed as element H but could also be Hg (mercury). If this is a case, you can correct them with mol.set('element', 'Hg', sel='name \"HG11\" \"HG12\" \"HG13\" \"HG21\" \"HG22\" \"HG23\"')\n"
     ]
    },
    {
     "name": "stdout",
     "output_type": "stream",
     "text": [
      "Checking aromatic insertions...\n",
      "WARNING: removed 0 atoms within 1.5 of a protein aromatic ring\n",
      "Renumbering...\n",
      "Ionizing...\n"
     ]
    },
    {
     "name": "stderr",
     "output_type": "stream",
     "text": [
      "2020-09-09 10:25:28,360 - htmd.builder.charmm - INFO - Writing out segments.\n",
      "2020-09-09 10:25:45,042 - htmd.builder.builder - INFO - 2 disulfide bonds were added\n"
     ]
    },
    {
     "name": "stdout",
     "output_type": "stream",
     "text": [
      "Disulfide Bond between: UniqueResidueID<resname: 'CYS', chain: 'P', resid: 27, insertion: '', segid: 'P0'>\n",
      "                   and: UniqueResidueID<resname: 'CYS', chain: 'P', resid: 40, insertion: '', segid: 'P0'>\n",
      "\n",
      "Disulfide Bond between: UniqueResidueID<resname: 'CYS', chain: 'P', resid: 114, insertion: '', segid: 'P0'>\n",
      "                   and: UniqueResidueID<resname: 'CYS', chain: 'P', resid: 193, insertion: '', segid: 'P0'>\n",
      "\n"
     ]
    },
    {
     "name": "stderr",
     "output_type": "stream",
     "text": [
      "2020-09-09 10:25:45,859 - htmd.builder.charmm - INFO - Starting the build.\n",
      "2020-09-09 10:25:47,854 - htmd.builder.charmm - WARNING - Failed to set coordinates for 3 atoms.\n",
      "2020-09-09 10:25:47,856 - htmd.builder.charmm - WARNING - Poorly guessed coordinates for 186 atoms.\n",
      "2020-09-09 10:25:47,857 - htmd.builder.charmm - WARNING - Please check /gpcr/users/daranda/doctorat/GPCR_simulations/simulation_output/ionize/6LI2/log.txt for further information.\n",
      "2020-09-09 10:25:47,857 - htmd.builder.charmm - INFO - Finished building.\n",
      "2020-09-09 10:25:51,746 - htmd.molecule.readers - WARNING - Atoms with names \"HE21\" \"HE22\" were guessed as element H but could also be He (helium). If this is a case, you can correct them with mol.set('element', 'He', sel='name \"HE21\" \"HE22\"')\n",
      "2020-09-09 10:25:51,747 - htmd.molecule.readers - WARNING - Atoms with names \"HG11\" \"HG12\" \"HG13\" \"HG21\" \"HG22\" \"HG23\" were guessed as element H but could also be Hg (mercury). If this is a case, you can correct them with mol.set('element', 'Hg', sel='name \"HG11\" \"HG12\" \"HG13\" \"HG21\" \"HG22\" \"HG23\"')\n",
      "2020-09-09 10:25:59,294 - htmd.builder.ionize - INFO - Adding 5 anions + 0 cations for neutralizing and 114 ions for the given salt concentration.\n",
      "2020-09-09 10:27:37,345 - htmd.builder.charmm - INFO - Writing out segments.\n",
      "2020-09-09 10:27:55,813 - htmd.builder.charmm - INFO - Starting the build.\n",
      "2020-09-09 10:27:57,777 - htmd.builder.charmm - WARNING - Failed to set coordinates for 3 atoms.\n",
      "2020-09-09 10:27:57,779 - htmd.builder.charmm - WARNING - Poorly guessed coordinates for 186 atoms.\n",
      "2020-09-09 10:27:57,779 - htmd.builder.charmm - WARNING - Please check /gpcr/users/daranda/doctorat/GPCR_simulations/simulation_output/ionize/6LI2/log.txt for further information.\n",
      "2020-09-09 10:27:57,780 - htmd.builder.charmm - INFO - Finished building.\n",
      "2020-09-09 10:28:01,512 - htmd.molecule.readers - WARNING - Atoms with names \"HE21\" \"HE22\" were guessed as element H but could also be He (helium). If this is a case, you can correct them with mol.set('element', 'He', sel='name \"HE21\" \"HE22\"')\n",
      "2020-09-09 10:28:01,514 - htmd.molecule.readers - WARNING - Atoms with names \"HG11\" \"HG12\" \"HG13\" \"HG21\" \"HG22\" \"HG23\" were guessed as element H but could also be Hg (mercury). If this is a case, you can correct them with mol.set('element', 'Hg', sel='name \"HG11\" \"HG12\" \"HG13\" \"HG21\" \"HG22\" \"HG23\"')\n",
      "2020-09-09 10:28:18,001 - htmd.molecule.readers - WARNING - Atoms with names \"HE21\" \"HE22\" were guessed as element H but could also be He (helium). If this is a case, you can correct them with mol.set('element', 'He', sel='name \"HE21\" \"HE22\"')\n",
      "2020-09-09 10:28:18,002 - htmd.molecule.readers - WARNING - Atoms with names \"HG11\" \"HG12\" \"HG13\" \"HG21\" \"HG22\" \"HG23\" were guessed as element H but could also be Hg (mercury). If this is a case, you can correct them with mol.set('element', 'Hg', sel='name \"HG11\" \"HG12\" \"HG13\" \"HG21\" \"HG22\" \"HG23\"')\n"
     ]
    },
    {
     "name": "stdout",
     "output_type": "stream",
     "text": [
      "Building...\n"
     ]
    },
    {
     "name": "stderr",
     "output_type": "stream",
     "text": [
      "2020-09-09 10:29:31,239 - htmd.builder.charmm - INFO - Writing out segments.\n",
      "2020-09-09 10:29:49,584 - htmd.builder.builder - INFO - 2 disulfide bonds were added\n"
     ]
    },
    {
     "name": "stdout",
     "output_type": "stream",
     "text": [
      "Disulfide Bond between: UniqueResidueID<resname: 'CYS', chain: 'P', resid: 27, insertion: '', segid: 'P0'>\n",
      "                   and: UniqueResidueID<resname: 'CYS', chain: 'P', resid: 40, insertion: '', segid: 'P0'>\n",
      "\n",
      "Disulfide Bond between: UniqueResidueID<resname: 'CYS', chain: 'P', resid: 114, insertion: '', segid: 'P0'>\n",
      "                   and: UniqueResidueID<resname: 'CYS', chain: 'P', resid: 193, insertion: '', segid: 'P0'>\n",
      "\n"
     ]
    },
    {
     "name": "stderr",
     "output_type": "stream",
     "text": [
      "2020-09-09 10:29:50,441 - htmd.builder.charmm - INFO - Starting the build.\n",
      "2020-09-09 10:29:52,427 - htmd.builder.charmm - INFO - Finished building.\n"
     ]
    },
    {
     "name": "stdout",
     "output_type": "stream",
     "text": [
      "End of 6LI2 after 881.359489440918 seconds\n",
      "\n",
      "\n",
      "start building model for receptor 5KW2 (20/181)\n",
      "\n",
      "start building model for receptor 6CM4 (21/181)\n",
      "\n",
      "start building model for receptor 6J21 (22/181)\n",
      "\n",
      "start building model for receptor 6GPX (23/181)\n",
      "\n",
      "start building model for receptor 5UIG (24/181)\n",
      "\n",
      "start building model for receptor 4GBR (25/181)\n",
      "\n",
      "start building model for receptor 6GPS (26/181)\n",
      "\n",
      "start building model for receptor 6LUQ (27/181)\n",
      "Structure 6LUQ already has a watered version. Skipping...\n"
     ]
    },
    {
     "name": "stderr",
     "output_type": "stream",
     "text": [
      "2020-09-09 10:30:10,942 - htmd.molecule.molecule - INFO - Removed 80 atoms. 2475 atoms remaining in the molecule.\n",
      "2020-09-09 10:30:10,983 - htmd.molecule.molecule - INFO - Removed 0 atoms. 2475 atoms remaining in the molecule.\n",
      "2020-09-09 10:30:11,291 - htmd.molecule.molecule - INFO - Removed 0 atoms. 2475 atoms remaining in the molecule.\n",
      "2020-09-09 10:30:11,547 - htmd.molecule.molecule - INFO - Removed 0 atoms. 2475 atoms remaining in the molecule.\n",
      "2020-09-09 10:30:11,964 - htmd.builder.builder - INFO - Created segment P0 between resid 26 and 231.\n",
      "2020-09-09 10:30:11,965 - htmd.builder.builder - INFO - Created segment P1 between resid 357 and 443.\n",
      "2020-09-09 10:30:16,046 - htmd.molecule.molecule - INFO - Removed 0 atoms. 3198 atoms remaining in the molecule.\n",
      "2020-09-09 10:30:16,342 - htmd.molecule.molecule - INFO - Removed 0 atoms. 3198 atoms remaining in the molecule.\n",
      "2020-09-09 10:30:16,917 - htmd.builder.builder - INFO - Created segment P0 between resid 35 and 139.\n",
      "2020-09-09 10:30:16,918 - htmd.builder.builder - INFO - Created segment P1 between resid 144 and 382.\n",
      "2020-09-09 10:30:16,919 - htmd.builder.builder - INFO - Created segment P2 between resid 387 and 463.\n",
      "2020-09-09 10:30:17,675 - moleculekit.tools.sequencestructuralalignment - INFO - No segment was specified by the user for `mol` and multiple segments (['P0', 'P1']) were detected. Alignment will be done on all protein segments.\n",
      "2020-09-09 10:30:17,757 - moleculekit.tools.sequencestructuralalignment - INFO - No segment was specified by the user for `ref` and multiple segments (['P0', 'P1', 'P2']) were detected. Alignment will be done on all protein segments.\n",
      "2020-09-09 10:30:18,337 - moleculekit.tools.sequencestructuralalignment - INFO - Alignment #0 was done on 87 residues: mol segid P0 resid 35-121\n",
      "2020-09-09 10:30:22,282 - htmd.builder.preparation - WARNING - The following residue has not been optimized: GMJ\n",
      "2020-09-09 10:30:22,283 - htmd.builder.preparation - WARNING - The following residue has not been optimized: NA\n",
      "2020-09-09 10:30:22,284 - htmd.builder.preparation - WARNING - The following residue has not been optimized: TIP\n",
      "2020-09-09 10:30:38,264 - htmd.builder.preparationdata - INFO - The following residues are in a non-standard state: HIS    33  A (HID), HIS   106  A (HID), CYS   107  A (CYX), CYS   182  A (CYX), HIS   393  P (HID), HIS   398  P (HID), HIS   442  P (HID)\n",
      "2020-09-09 10:30:38,266 - htmd.builder.preparationdata - WARNING - Dubious protonation state: the pKa of 6 residues is within 1.0 units of pH 7.0.\n",
      "2020-09-09 10:30:38,268 - htmd.builder.preparationdata - WARNING - Dubious protonation state:    HIS    33  A (pKa= 6.43)\n",
      "2020-09-09 10:30:38,269 - htmd.builder.preparationdata - WARNING - Dubious protonation state:    HIS   106  A (pKa= 6.22)\n",
      "2020-09-09 10:30:38,270 - htmd.builder.preparationdata - WARNING - Dubious protonation state:    HIS   398  P (pKa= 6.28)\n",
      "2020-09-09 10:30:38,271 - htmd.builder.preparationdata - WARNING - Dubious protonation state:    HIS   442  P (pKa= 6.23)\n",
      "2020-09-09 10:30:38,272 - htmd.builder.preparationdata - WARNING - Dubious protonation state:    N+     26T A (pKa= 7.94)\n",
      "2020-09-09 10:30:38,273 - htmd.builder.preparationdata - WARNING - Dubious protonation state:    N+    357T P (pKa= 7.91)\n",
      "2020-09-09 10:30:38,383 - htmd.builder.preparationdata - WARNING - Predictions for 17 residues may be incorrect because they are exposed to the membrane (-17.1<z<17.10 and buried<75.0%).\n"
     ]
    },
    {
     "name": "stdout",
     "output_type": "stream",
     "text": [
      "Adding membrane...\n"
     ]
    },
    {
     "name": "stderr",
     "output_type": "stream",
     "text": [
      "2020-09-09 10:30:39,779 - htmd.builder.builder - INFO - Replicating Membrane 3x3\n",
      "\n",
      "Replicating Membrane:   0%|          | 0/9 [00:00<?, ?it/s]\u001b[A\n",
      "Replicating Membrane:  11%|█         | 1/9 [00:00<00:04,  1.70it/s]\u001b[A\n",
      "Replicating Membrane:  22%|██▏       | 2/9 [00:01<00:04,  1.64it/s]\u001b[A\n",
      "Replicating Membrane:  33%|███▎      | 3/9 [00:02<00:04,  1.36it/s]\u001b[A\n",
      "Replicating Membrane:  44%|████▍     | 4/9 [00:04<00:05,  1.04s/it]\u001b[A\n",
      "2020-09-09 10:32:09,925 - htmd.molecule.molecule - INFO - Removed 1888 atoms. 40338 atoms remaining in the molecule.\n",
      "2020-09-09 10:32:12,625 - htmd.molecule.molecule - INFO - Removed 89 residues from appended Molecule due to collisions.\n"
     ]
    },
    {
     "name": "stdout",
     "output_type": "stream",
     "text": [
      "Solvating...\n",
      "wataerbox Max and min:  [49.235653 46.87461  28.142359] [-45.39835  -45.64739  -27.652641]\n"
     ]
    },
    {
     "name": "stderr",
     "output_type": "stream",
     "text": [
      "2020-09-09 10:32:14,300 - htmd.builder.solvate - INFO - Using water pdb file at: /soft/EB_repo/devel/programs/foss/2016b/Anaconda3/5.0.1/lib/python3.6/site-packages/htmd/builder/wat.pdb\n",
      "2020-09-09 10:32:16,268 - htmd.builder.solvate - INFO - Replicating 8 water segments, 2 by 2 by 2\n",
      "\n",
      "Solvating:   0%|          | 0/8 [00:00<?, ?it/s]\u001b[A\n",
      "Solvating:  12%|█▎        | 1/8 [00:02<00:18,  2.66s/it]\u001b[A\n",
      "Solvating:  25%|██▌       | 2/8 [00:05<00:15,  2.66s/it]\u001b[A\n",
      "Solvating:  38%|███▊      | 3/8 [00:07<00:13,  2.65s/it]\u001b[A\n",
      "Solvating:  50%|█████     | 4/8 [00:10<00:10,  2.60s/it]\u001b[A\n",
      "Solvating:  62%|██████▎   | 5/8 [00:12<00:07,  2.56s/it]\u001b[A\n",
      "Solvating:  75%|███████▌  | 6/8 [00:15<00:05,  2.58s/it]\u001b[A\n",
      "Solvating:  88%|████████▊ | 7/8 [00:18<00:02,  2.59s/it]\u001b[A\n",
      "Solvating: 100%|██████████| 8/8 [00:20<00:00,  2.60s/it]\u001b[A\n",
      "2020-09-09 10:32:41,082 - htmd.builder.solvate - INFO - 11258 water molecules were added to the system.\n",
      "2020-09-09 10:32:54,278 - htmd.molecule.molecule - INFO - Removed 948 atoms. 71311 atoms remaining in the molecule.\n"
     ]
    },
    {
     "name": "stdout",
     "output_type": "stream",
     "text": [
      "Pre-build...\n"
     ]
    },
    {
     "name": "stderr",
     "output_type": "stream",
     "text": [
      "2020-09-09 10:32:56,017 - htmd.builder.builder - WARNING - Segments ['P1'] contain both protein and non-protein atoms. Please assign separate segments to them or the build procedure might fail.\n",
      "2020-09-09 10:32:56,158 - htmd.builder.charmm - INFO - Writing out segments.\n",
      "2020-09-09 10:33:09,352 - htmd.builder.builder - INFO - 2 disulfide bonds were added\n"
     ]
    },
    {
     "name": "stdout",
     "output_type": "stream",
     "text": [
      "Disulfide Bond between: UniqueResidueID<resname: 'CYS', chain: 'P', resid: 107, insertion: '', segid: 'P0'>\n",
      "                   and: UniqueResidueID<resname: 'CYS', chain: 'P', resid: 182, insertion: '', segid: 'P0'>\n",
      "\n",
      "Disulfide Bond between: UniqueResidueID<resname: 'CYS', chain: 'P', resid: 399, insertion: '', segid: 'P1'>\n",
      "                   and: UniqueResidueID<resname: 'CYS', chain: 'P', resid: 401, insertion: '', segid: 'P1'>\n",
      "\n"
     ]
    },
    {
     "name": "stderr",
     "output_type": "stream",
     "text": [
      "2020-09-09 10:33:10,163 - htmd.builder.charmm - INFO - Starting the build.\n",
      "2020-09-09 10:33:11,801 - htmd.builder.charmm - WARNING - Failed to set coordinates for 2 atoms.\n",
      "2020-09-09 10:33:11,803 - htmd.builder.charmm - WARNING - Poorly guessed coordinates for 229 atoms.\n",
      "2020-09-09 10:33:11,804 - htmd.builder.charmm - WARNING - Please check /gpcr/users/daranda/doctorat/GPCR_simulations/simulation_output/pre-build/6LUQ/log.txt for further information.\n",
      "2020-09-09 10:33:11,804 - htmd.builder.charmm - INFO - Finished building.\n",
      "2020-09-09 10:33:14,769 - htmd.molecule.readers - WARNING - Atoms with names \"HE21\" \"HE22\" were guessed as element H but could also be He (helium). If this is a case, you can correct them with mol.set('element', 'He', sel='name \"HE21\" \"HE22\"')\n",
      "2020-09-09 10:33:14,770 - htmd.molecule.readers - WARNING - Atoms with names \"HG11\" \"HG12\" \"HG13\" \"HG21\" \"HG22\" \"HG23\" were guessed as element H but could also be Hg (mercury). If this is a case, you can correct them with mol.set('element', 'Hg', sel='name \"HG11\" \"HG12\" \"HG13\" \"HG21\" \"HG22\" \"HG23\"')\n",
      "2020-09-09 10:33:26,990 - htmd.molecule.readers - WARNING - Atoms with names \"HE21\" \"HE22\" were guessed as element H but could also be He (helium). If this is a case, you can correct them with mol.set('element', 'He', sel='name \"HE21\" \"HE22\"')\n",
      "2020-09-09 10:33:26,992 - htmd.molecule.readers - WARNING - Atoms with names \"HG11\" \"HG12\" \"HG13\" \"HG21\" \"HG22\" \"HG23\" were guessed as element H but could also be Hg (mercury). If this is a case, you can correct them with mol.set('element', 'Hg', sel='name \"HG11\" \"HG12\" \"HG13\" \"HG21\" \"HG22\" \"HG23\"')\n"
     ]
    },
    {
     "name": "stdout",
     "output_type": "stream",
     "text": [
      "Checking aromatic insertions...\n",
      "WARNING: removed 0 atoms within 1.5 of a protein aromatic ring\n",
      "Renumbering...\n",
      "Ionizing...\n"
     ]
    },
    {
     "name": "stderr",
     "output_type": "stream",
     "text": [
      "2020-09-09 10:35:36,555 - htmd.builder.builder - WARNING - Segments ['P1'] contain both protein and non-protein atoms. Please assign separate segments to them or the build procedure might fail.\n",
      "2020-09-09 10:35:36,681 - htmd.builder.charmm - INFO - Writing out segments.\n",
      "2020-09-09 10:35:49,689 - htmd.builder.builder - INFO - 2 disulfide bonds were added\n"
     ]
    },
    {
     "name": "stdout",
     "output_type": "stream",
     "text": [
      "Disulfide Bond between: UniqueResidueID<resname: 'CYS', chain: 'P', resid: 107, insertion: '', segid: 'P0'>\n",
      "                   and: UniqueResidueID<resname: 'CYS', chain: 'P', resid: 182, insertion: '', segid: 'P0'>\n",
      "\n",
      "Disulfide Bond between: UniqueResidueID<resname: 'CYS', chain: 'P', resid: 399, insertion: '', segid: 'P1'>\n",
      "                   and: UniqueResidueID<resname: 'CYS', chain: 'P', resid: 401, insertion: '', segid: 'P1'>\n",
      "\n"
     ]
    },
    {
     "name": "stderr",
     "output_type": "stream",
     "text": [
      "2020-09-09 10:35:50,493 - htmd.builder.charmm - INFO - Starting the build.\n",
      "2020-09-09 10:35:52,048 - htmd.builder.charmm - WARNING - Failed to set coordinates for 2 atoms.\n",
      "2020-09-09 10:35:52,050 - htmd.builder.charmm - WARNING - Poorly guessed coordinates for 229 atoms.\n",
      "2020-09-09 10:35:52,051 - htmd.builder.charmm - WARNING - Please check /gpcr/users/daranda/doctorat/GPCR_simulations/simulation_output/ionize/6LUQ/log.txt for further information.\n",
      "2020-09-09 10:35:52,051 - htmd.builder.charmm - INFO - Finished building.\n",
      "2020-09-09 10:35:54,916 - htmd.molecule.readers - WARNING - Atoms with names \"HE21\" \"HE22\" were guessed as element H but could also be He (helium). If this is a case, you can correct them with mol.set('element', 'He', sel='name \"HE21\" \"HE22\"')\n",
      "2020-09-09 10:35:54,917 - htmd.molecule.readers - WARNING - Atoms with names \"HG11\" \"HG12\" \"HG13\" \"HG21\" \"HG22\" \"HG23\" were guessed as element H but could also be Hg (mercury). If this is a case, you can correct them with mol.set('element', 'Hg', sel='name \"HG11\" \"HG12\" \"HG13\" \"HG21\" \"HG22\" \"HG23\"')\n",
      "2020-09-09 10:36:00,642 - htmd.builder.ionize - INFO - Adding 17 anions + 0 cations for neutralizing and 82 ions for the given salt concentration.\n",
      "2020-09-09 10:37:02,236 - htmd.builder.builder - WARNING - Segments ['P1'] contain both protein and non-protein atoms. Please assign separate segments to them or the build procedure might fail.\n",
      "2020-09-09 10:37:02,329 - htmd.builder.charmm - INFO - Writing out segments.\n",
      "2020-09-09 10:37:16,614 - htmd.builder.charmm - INFO - Starting the build.\n",
      "2020-09-09 10:37:18,196 - htmd.builder.charmm - WARNING - Failed to set coordinates for 2 atoms.\n",
      "2020-09-09 10:37:18,198 - htmd.builder.charmm - WARNING - Poorly guessed coordinates for 229 atoms.\n",
      "2020-09-09 10:37:18,199 - htmd.builder.charmm - WARNING - Please check /gpcr/users/daranda/doctorat/GPCR_simulations/simulation_output/ionize/6LUQ/log.txt for further information.\n",
      "2020-09-09 10:37:18,199 - htmd.builder.charmm - INFO - Finished building.\n",
      "2020-09-09 10:37:21,143 - htmd.molecule.readers - WARNING - Atoms with names \"HE21\" \"HE22\" were guessed as element H but could also be He (helium). If this is a case, you can correct them with mol.set('element', 'He', sel='name \"HE21\" \"HE22\"')\n",
      "2020-09-09 10:37:21,145 - htmd.molecule.readers - WARNING - Atoms with names \"HG11\" \"HG12\" \"HG13\" \"HG21\" \"HG22\" \"HG23\" were guessed as element H but could also be Hg (mercury). If this is a case, you can correct them with mol.set('element', 'Hg', sel='name \"HG11\" \"HG12\" \"HG13\" \"HG21\" \"HG22\" \"HG23\"')\n",
      "2020-09-09 10:37:33,379 - htmd.molecule.readers - WARNING - Atoms with names \"HE21\" \"HE22\" were guessed as element H but could also be He (helium). If this is a case, you can correct them with mol.set('element', 'He', sel='name \"HE21\" \"HE22\"')\n",
      "2020-09-09 10:37:33,381 - htmd.molecule.readers - WARNING - Atoms with names \"HG11\" \"HG12\" \"HG13\" \"HG21\" \"HG22\" \"HG23\" were guessed as element H but could also be Hg (mercury). If this is a case, you can correct them with mol.set('element', 'Hg', sel='name \"HG11\" \"HG12\" \"HG13\" \"HG21\" \"HG22\" \"HG23\"')\n"
     ]
    },
    {
     "name": "stdout",
     "output_type": "stream",
     "text": [
      "Building...\n"
     ]
    },
    {
     "name": "stderr",
     "output_type": "stream",
     "text": [
      "2020-09-09 10:38:20,868 - htmd.builder.builder - WARNING - Segments ['P1'] contain both protein and non-protein atoms. Please assign separate segments to them or the build procedure might fail.\n",
      "2020-09-09 10:38:20,952 - htmd.builder.charmm - INFO - Writing out segments.\n",
      "2020-09-09 10:38:35,040 - htmd.builder.builder - INFO - 2 disulfide bonds were added\n"
     ]
    },
    {
     "name": "stdout",
     "output_type": "stream",
     "text": [
      "Disulfide Bond between: UniqueResidueID<resname: 'CYS', chain: 'P', resid: 107, insertion: '', segid: 'P0'>\n",
      "                   and: UniqueResidueID<resname: 'CYS', chain: 'P', resid: 182, insertion: '', segid: 'P0'>\n",
      "\n",
      "Disulfide Bond between: UniqueResidueID<resname: 'CYS', chain: 'P', resid: 399, insertion: '', segid: 'P1'>\n",
      "                   and: UniqueResidueID<resname: 'CYS', chain: 'P', resid: 401, insertion: '', segid: 'P1'>\n",
      "\n"
     ]
    },
    {
     "name": "stderr",
     "output_type": "stream",
     "text": [
      "2020-09-09 10:38:35,832 - htmd.builder.charmm - INFO - Starting the build.\n",
      "2020-09-09 10:38:37,408 - htmd.builder.charmm - INFO - Finished building.\n"
     ]
    },
    {
     "name": "stdout",
     "output_type": "stream",
     "text": [
      "End of 6LUQ after 521.7392137050629 seconds\n",
      "\n",
      "\n",
      "start building model for receptor 6ME4 (28/181)\n",
      "\n",
      "start building model for receptor 6FK6 (29/181)\n",
      "\n",
      "start building model for receptor 6FJ3 (30/181)\n",
      "\n",
      "start building model for receptor 6IIV (31/181)\n",
      "\n",
      "start building model for receptor 6TQ6 (32/181)\n",
      "Structure 6TQ6 already has a watered version. Skipping...\n"
     ]
    },
    {
     "name": "stderr",
     "output_type": "stream",
     "text": [
      "2020-09-09 10:38:56,065 - htmd.molecule.molecule - INFO - Removed 194 atoms. 2652 atoms remaining in the molecule.\n",
      "2020-09-09 10:38:56,111 - htmd.molecule.molecule - INFO - Removed 0 atoms. 2652 atoms remaining in the molecule.\n",
      "2020-09-09 10:38:56,434 - htmd.molecule.molecule - INFO - Removed 0 atoms. 2652 atoms remaining in the molecule.\n",
      "2020-09-09 10:38:56,738 - htmd.molecule.molecule - INFO - Removed 0 atoms. 2652 atoms remaining in the molecule.\n",
      "2020-09-09 10:38:57,190 - htmd.builder.builder - INFO - Created segment P0 between resid 41 and 253.\n",
      "2020-09-09 10:38:57,191 - htmd.builder.builder - INFO - Created segment P1 between resid 278 and 383.\n",
      "2020-09-09 10:39:01,756 - htmd.molecule.molecule - INFO - Removed 0 atoms. 2569 atoms remaining in the molecule.\n",
      "2020-09-09 10:39:02,007 - htmd.molecule.molecule - INFO - Removed 0 atoms. 2569 atoms remaining in the molecule.\n",
      "2020-09-09 10:39:02,535 - htmd.builder.builder - INFO - Created segment P0 between resid 25 and 189.\n",
      "2020-09-09 10:39:02,536 - htmd.builder.builder - INFO - Created segment P1 between resid 198 and 243.\n",
      "2020-09-09 10:39:02,537 - htmd.builder.builder - INFO - Created segment P2 between resid 251 and 376.\n",
      "2020-09-09 10:39:03,464 - moleculekit.tools.sequencestructuralalignment - INFO - No segment was specified by the user for `mol` and multiple segments (['P0', 'P1']) were detected. Alignment will be done on all protein segments.\n",
      "2020-09-09 10:39:03,529 - moleculekit.tools.sequencestructuralalignment - INFO - No segment was specified by the user for `ref` and multiple segments (['P0', 'P1', 'P2']) were detected. Alignment will be done on all protein segments.\n",
      "2020-09-09 10:39:03,793 - moleculekit.tools.sequencestructuralalignment - WARNING - 12 alignments found. Limiting to 1 as specified in the `maxalignments` argument.\n",
      "2020-09-09 10:39:03,796 - moleculekit.tools.sequencestructuralalignment - INFO - Alignment #0 was done on 66 residues: mol segid P0 resid 96-161\n",
      "2020-09-09 10:39:07,992 - htmd.builder.preparation - WARNING - The following residue has not been optimized: NVH\n",
      "2020-09-09 10:39:07,994 - htmd.builder.preparation - WARNING - The following residue has not been optimized: NA\n",
      "2020-09-09 10:39:07,994 - htmd.builder.preparation - WARNING - The following residue has not been optimized: TIP\n",
      "2020-09-09 10:39:24,685 - htmd.builder.preparationdata - INFO - The following residues are in a non-standard state: HIS    75  A (HID), HIS    76  A (HID), HIS   116  A (HID), CYS   119  A (CYX), HIS   150  A (HID), CYS   202  A (CYX), HIS   216  A (HIE), HIS   344  P (HIP)\n",
      "2020-09-09 10:39:24,687 - htmd.builder.preparationdata - WARNING - Dubious protonation state: the pKa of 6 residues is within 1.0 units of pH 7.0.\n",
      "2020-09-09 10:39:24,689 - htmd.builder.preparationdata - WARNING - Dubious protonation state:    HIS    76  A (pKa= 6.26)\n",
      "2020-09-09 10:39:24,690 - htmd.builder.preparationdata - WARNING - Dubious protonation state:    HIS   116  A (pKa= 6.19)\n",
      "2020-09-09 10:39:24,691 - htmd.builder.preparationdata - WARNING - Dubious protonation state:    HIS   216  A (pKa= 6.72)\n",
      "2020-09-09 10:39:24,692 - htmd.builder.preparationdata - WARNING - Dubious protonation state:    HIS   344  P (pKa= 7.40)\n",
      "2020-09-09 10:39:24,693 - htmd.builder.preparationdata - WARNING - Dubious protonation state:    N+     41T A (pKa= 7.90)\n",
      "2020-09-09 10:39:24,694 - htmd.builder.preparationdata - WARNING - Dubious protonation state:    N+    278T P (pKa= 7.71)\n",
      "2020-09-09 10:39:24,809 - htmd.builder.preparationdata - WARNING - Predictions for 11 residues may be incorrect because they are exposed to the membrane (-15.9<z<15.90 and buried<75.0%).\n"
     ]
    },
    {
     "name": "stdout",
     "output_type": "stream",
     "text": [
      "Adding membrane...\n"
     ]
    },
    {
     "name": "stderr",
     "output_type": "stream",
     "text": [
      "2020-09-09 10:39:26,295 - htmd.builder.builder - INFO - Replicating Membrane 3x3\n",
      "\n",
      "Replicating Membrane:   0%|          | 0/9 [00:00<?, ?it/s]\u001b[A\n",
      "Replicating Membrane:  11%|█         | 1/9 [00:00<00:04,  1.74it/s]\u001b[A\n",
      "Replicating Membrane:  22%|██▏       | 2/9 [00:01<00:04,  1.66it/s]\u001b[A\n",
      "Replicating Membrane:  33%|███▎      | 3/9 [00:01<00:03,  1.75it/s]\u001b[A\n",
      "Replicating Membrane:  44%|████▍     | 4/9 [00:02<00:03,  1.63it/s]\u001b[A\n",
      "Replicating Membrane:  56%|█████▌    | 5/9 [00:03<00:02,  1.49it/s]\u001b[A\n",
      "Replicating Membrane:  67%|██████▋   | 6/9 [00:03<00:01,  1.51it/s]\u001b[A\n",
      "Replicating Membrane:  78%|███████▊  | 7/9 [00:04<00:01,  1.49it/s]\u001b[A\n",
      "Replicating Membrane:  89%|████████▉ | 8/9 [00:05<00:00,  1.46it/s]\u001b[A\n",
      "Replicating Membrane: 100%|██████████| 9/9 [00:06<00:00,  1.50it/s]\u001b[A\n",
      "2020-09-09 10:43:01,568 - htmd.molecule.molecule - INFO - Removed 2836 atoms. 48547 atoms remaining in the molecule.\n",
      "2020-09-09 10:43:04,995 - htmd.molecule.molecule - INFO - Removed 83 residues from appended Molecule due to collisions.\n"
     ]
    },
    {
     "name": "stdout",
     "output_type": "stream",
     "text": [
      "Solvating...\n",
      "wataerbox Max and min:  [56.253582 55.700962 28.081614] [-49.753418 -50.354034 -27.713387]\n"
     ]
    },
    {
     "name": "stderr",
     "output_type": "stream",
     "text": [
      "2020-09-09 10:43:06,947 - htmd.builder.solvate - INFO - Using water pdb file at: /soft/EB_repo/devel/programs/foss/2016b/Anaconda3/5.0.1/lib/python3.6/site-packages/htmd/builder/wat.pdb\n",
      "2020-09-09 10:43:08,896 - htmd.builder.solvate - INFO - Replicating 8 water segments, 2 by 2 by 2\n",
      "\n",
      "Solvating:   0%|          | 0/8 [00:00<?, ?it/s]\u001b[A\n",
      "Solvating:  12%|█▎        | 1/8 [00:02<00:19,  2.81s/it]\u001b[A\n",
      "Solvating:  25%|██▌       | 2/8 [00:05<00:16,  2.81s/it]\u001b[A\n",
      "Solvating:  38%|███▊      | 3/8 [00:08<00:14,  2.83s/it]\u001b[A\n",
      "Solvating:  50%|█████     | 4/8 [00:11<00:11,  2.80s/it]\u001b[A\n",
      "Solvating:  62%|██████▎   | 5/8 [00:14<00:08,  2.91s/it]\u001b[A\n",
      "Solvating:  75%|███████▌  | 6/8 [00:17<00:05,  2.93s/it]\u001b[A\n",
      "Solvating:  88%|████████▊ | 7/8 [00:20<00:02,  2.95s/it]\u001b[A\n",
      "Solvating: 100%|██████████| 8/8 [00:23<00:00,  2.91s/it]\u001b[A\n",
      "2020-09-09 10:43:36,935 - htmd.builder.solvate - INFO - 17381 water molecules were added to the system.\n",
      "2020-09-09 10:43:57,663 - htmd.molecule.molecule - INFO - Removed 1407 atoms. 97363 atoms remaining in the molecule.\n"
     ]
    },
    {
     "name": "stdout",
     "output_type": "stream",
     "text": [
      "Pre-build...\n"
     ]
    },
    {
     "name": "stderr",
     "output_type": "stream",
     "text": [
      "2020-09-09 10:44:00,217 - htmd.builder.charmm - INFO - Writing out segments.\n",
      "2020-09-09 10:44:18,081 - htmd.builder.builder - INFO - One disulfide bond was added\n"
     ]
    },
    {
     "name": "stdout",
     "output_type": "stream",
     "text": [
      "Disulfide Bond between: UniqueResidueID<resname: 'CYS', chain: 'P', resid: 119, insertion: '', segid: 'P0'>\n",
      "                   and: UniqueResidueID<resname: 'CYS', chain: 'P', resid: 202, insertion: '', segid: 'P0'>\n",
      "\n"
     ]
    },
    {
     "name": "stderr",
     "output_type": "stream",
     "text": [
      "2020-09-09 10:44:18,889 - htmd.builder.charmm - INFO - Starting the build.\n",
      "2020-09-09 10:44:20,853 - htmd.builder.charmm - WARNING - Failed to set coordinates for 2 atoms.\n",
      "2020-09-09 10:44:20,854 - htmd.builder.charmm - WARNING - Poorly guessed coordinates for 210 atoms.\n",
      "2020-09-09 10:44:20,855 - htmd.builder.charmm - WARNING - 2 undefined warnings were produced during building.\n",
      "2020-09-09 10:44:20,856 - htmd.builder.charmm - WARNING - Please check /gpcr/users/daranda/doctorat/GPCR_simulations/simulation_output/pre-build/6TQ6/log.txt for further information.\n",
      "2020-09-09 10:44:20,857 - htmd.builder.charmm - INFO - Finished building.\n",
      "2020-09-09 10:44:24,532 - htmd.molecule.readers - WARNING - Atoms with names \"HE21\" \"HE22\" were guessed as element H but could also be He (helium). If this is a case, you can correct them with mol.set('element', 'He', sel='name \"HE21\" \"HE22\"')\n",
      "2020-09-09 10:44:24,533 - htmd.molecule.readers - WARNING - Atoms with names \"HG11\" \"HG12\" \"HG13\" \"HG21\" \"HG22\" \"HG23\" were guessed as element H but could also be Hg (mercury). If this is a case, you can correct them with mol.set('element', 'Hg', sel='name \"HG11\" \"HG12\" \"HG13\" \"HG21\" \"HG22\" \"HG23\"')\n",
      "2020-09-09 10:44:24,879 - htmd.molecule.readers - WARNING - Non-integer values were read from the PDB \"serial\" field. Dropping PDB values and assigning new ones.\n",
      "2020-09-09 10:44:25,033 - htmd.molecule.readers - WARNING - Reading PDB file with more than 99999 atoms. Bond information can be wrong.\n",
      "2020-09-09 10:44:41,244 - htmd.molecule.readers - WARNING - Atoms with names \"HE21\" \"HE22\" were guessed as element H but could also be He (helium). If this is a case, you can correct them with mol.set('element', 'He', sel='name \"HE21\" \"HE22\"')\n",
      "2020-09-09 10:44:41,245 - htmd.molecule.readers - WARNING - Atoms with names \"HG11\" \"HG12\" \"HG13\" \"HG21\" \"HG22\" \"HG23\" were guessed as element H but could also be Hg (mercury). If this is a case, you can correct them with mol.set('element', 'Hg', sel='name \"HG11\" \"HG12\" \"HG13\" \"HG21\" \"HG22\" \"HG23\"')\n",
      "2020-09-09 10:44:41,603 - htmd.molecule.readers - WARNING - Non-integer values were read from the PDB \"serial\" field. Dropping PDB values and assigning new ones.\n",
      "2020-09-09 10:44:41,762 - htmd.molecule.readers - WARNING - Reading PDB file with more than 99999 atoms. Bond information can be wrong.\n"
     ]
    },
    {
     "name": "stdout",
     "output_type": "stream",
     "text": [
      "Checking aromatic insertions...\n",
      "WARNING: removed 0 atoms within 1.5 of a protein aromatic ring\n",
      "Renumbering...\n",
      "Ionizing...\n"
     ]
    },
    {
     "name": "stderr",
     "output_type": "stream",
     "text": [
      "2020-09-09 10:48:17,791 - htmd.builder.charmm - INFO - Writing out segments.\n",
      "2020-09-09 10:48:35,359 - htmd.builder.builder - INFO - One disulfide bond was added\n"
     ]
    },
    {
     "name": "stdout",
     "output_type": "stream",
     "text": [
      "Disulfide Bond between: UniqueResidueID<resname: 'CYS', chain: 'P', resid: 119, insertion: '', segid: 'P0'>\n",
      "                   and: UniqueResidueID<resname: 'CYS', chain: 'P', resid: 202, insertion: '', segid: 'P0'>\n",
      "\n"
     ]
    },
    {
     "name": "stderr",
     "output_type": "stream",
     "text": [
      "2020-09-09 10:48:36,177 - htmd.builder.charmm - INFO - Starting the build.\n",
      "2020-09-09 10:48:38,185 - htmd.builder.charmm - WARNING - Failed to set coordinates for 2 atoms.\n",
      "2020-09-09 10:48:38,187 - htmd.builder.charmm - WARNING - Poorly guessed coordinates for 210 atoms.\n",
      "2020-09-09 10:48:38,188 - htmd.builder.charmm - WARNING - 2 undefined warnings were produced during building.\n",
      "2020-09-09 10:48:38,189 - htmd.builder.charmm - WARNING - Please check /gpcr/users/daranda/doctorat/GPCR_simulations/simulation_output/ionize/6TQ6/log.txt for further information.\n",
      "2020-09-09 10:48:38,189 - htmd.builder.charmm - INFO - Finished building.\n",
      "2020-09-09 10:48:42,006 - htmd.molecule.readers - WARNING - Atoms with names \"HE21\" \"HE22\" were guessed as element H but could also be He (helium). If this is a case, you can correct them with mol.set('element', 'He', sel='name \"HE21\" \"HE22\"')\n",
      "2020-09-09 10:48:42,007 - htmd.molecule.readers - WARNING - Atoms with names \"HG11\" \"HG12\" \"HG13\" \"HG21\" \"HG22\" \"HG23\" were guessed as element H but could also be Hg (mercury). If this is a case, you can correct them with mol.set('element', 'Hg', sel='name \"HG11\" \"HG12\" \"HG13\" \"HG21\" \"HG22\" \"HG23\"')\n",
      "2020-09-09 10:48:42,364 - htmd.molecule.readers - WARNING - Non-integer values were read from the PDB \"serial\" field. Dropping PDB values and assigning new ones.\n",
      "2020-09-09 10:48:42,533 - htmd.molecule.readers - WARNING - Reading PDB file with more than 99999 atoms. Bond information can be wrong.\n",
      "2020-09-09 10:48:50,065 - htmd.builder.ionize - INFO - Adding 17 anions + 0 cations for neutralizing and 120 ions for the given salt concentration.\n",
      "2020-09-09 10:50:43,803 - htmd.builder.charmm - INFO - Writing out segments.\n",
      "2020-09-09 10:51:03,824 - htmd.builder.charmm - INFO - Starting the build.\n",
      "2020-09-09 10:51:05,819 - htmd.builder.charmm - WARNING - Failed to set coordinates for 2 atoms.\n",
      "2020-09-09 10:51:05,821 - htmd.builder.charmm - WARNING - Poorly guessed coordinates for 210 atoms.\n",
      "2020-09-09 10:51:05,823 - htmd.builder.charmm - WARNING - 2 undefined warnings were produced during building.\n",
      "2020-09-09 10:51:05,823 - htmd.builder.charmm - WARNING - Please check /gpcr/users/daranda/doctorat/GPCR_simulations/simulation_output/ionize/6TQ6/log.txt for further information.\n",
      "2020-09-09 10:51:05,824 - htmd.builder.charmm - INFO - Finished building.\n",
      "2020-09-09 10:51:09,666 - htmd.molecule.readers - WARNING - Atoms with names \"HE21\" \"HE22\" were guessed as element H but could also be He (helium). If this is a case, you can correct them with mol.set('element', 'He', sel='name \"HE21\" \"HE22\"')\n",
      "2020-09-09 10:51:09,667 - htmd.molecule.readers - WARNING - Atoms with names \"HG11\" \"HG12\" \"HG13\" \"HG21\" \"HG22\" \"HG23\" were guessed as element H but could also be Hg (mercury). If this is a case, you can correct them with mol.set('element', 'Hg', sel='name \"HG11\" \"HG12\" \"HG13\" \"HG21\" \"HG22\" \"HG23\"')\n",
      "2020-09-09 10:51:26,237 - htmd.molecule.readers - WARNING - Atoms with names \"HE21\" \"HE22\" were guessed as element H but could also be He (helium). If this is a case, you can correct them with mol.set('element', 'He', sel='name \"HE21\" \"HE22\"')\n",
      "2020-09-09 10:51:26,238 - htmd.molecule.readers - WARNING - Atoms with names \"HG11\" \"HG12\" \"HG13\" \"HG21\" \"HG22\" \"HG23\" were guessed as element H but could also be Hg (mercury). If this is a case, you can correct them with mol.set('element', 'Hg', sel='name \"HG11\" \"HG12\" \"HG13\" \"HG21\" \"HG22\" \"HG23\"')\n"
     ]
    },
    {
     "name": "stdout",
     "output_type": "stream",
     "text": [
      "Building...\n"
     ]
    },
    {
     "name": "stderr",
     "output_type": "stream",
     "text": [
      "2020-09-09 10:52:44,315 - htmd.builder.charmm - INFO - Writing out segments.\n",
      "2020-09-09 10:53:03,286 - htmd.builder.builder - INFO - One disulfide bond was added\n"
     ]
    },
    {
     "name": "stdout",
     "output_type": "stream",
     "text": [
      "Disulfide Bond between: UniqueResidueID<resname: 'CYS', chain: 'P', resid: 119, insertion: '', segid: 'P0'>\n",
      "                   and: UniqueResidueID<resname: 'CYS', chain: 'P', resid: 202, insertion: '', segid: 'P0'>\n",
      "\n"
     ]
    },
    {
     "name": "stderr",
     "output_type": "stream",
     "text": [
      "2020-09-09 10:53:04,110 - htmd.builder.charmm - INFO - Starting the build.\n",
      "2020-09-09 10:53:06,094 - htmd.builder.charmm - WARNING - 2 undefined warnings were produced during building.\n",
      "2020-09-09 10:53:06,096 - htmd.builder.charmm - WARNING - Please check /gpcr/users/daranda/doctorat/GPCR_simulations/simulation_output/build/6TQ6/log.txt for further information.\n",
      "2020-09-09 10:53:06,097 - htmd.builder.charmm - INFO - Finished building.\n"
     ]
    },
    {
     "name": "stdout",
     "output_type": "stream",
     "text": [
      "End of 6TQ6 after 872.2726294994354 seconds\n",
      "\n",
      "\n",
      "start building model for receptor 6OBA (33/181)\n",
      "Structure 6OBA already has a watered version. Skipping...\n"
     ]
    },
    {
     "name": "stderr",
     "output_type": "stream",
     "text": [
      "2020-09-09 10:53:24,310 - htmd.molecule.molecule - WARNING - Alternative atom locations detected. Only altloc A was kept. If you prefer to keep all use the keepaltloc=\"all\" option when reading the file.\n",
      "2020-09-09 10:53:24,313 - htmd.molecule.molecule - INFO - Removed 3 atoms. 3730 atoms remaining in the molecule.\n",
      "2020-09-09 10:53:24,362 - htmd.molecule.molecule - INFO - Removed 0 atoms. 2714 atoms remaining in the molecule.\n",
      "2020-09-09 10:53:24,407 - htmd.molecule.molecule - INFO - Removed 0 atoms. 2714 atoms remaining in the molecule.\n",
      "2020-09-09 10:53:24,759 - htmd.molecule.molecule - INFO - Removed 0 atoms. 2714 atoms remaining in the molecule.\n",
      "2020-09-09 10:53:25,014 - htmd.molecule.molecule - INFO - Removed 0 atoms. 2714 atoms remaining in the molecule.\n",
      "2020-09-09 10:53:25,458 - htmd.builder.builder - INFO - Created segment P0 between resid 21 and 242.\n",
      "2020-09-09 10:53:25,459 - htmd.builder.builder - INFO - Created segment P1 between resid 257 and 346.\n",
      "2020-09-09 10:53:30,384 - htmd.molecule.molecule - INFO - Removed 0 atoms. 3730 atoms remaining in the molecule.\n",
      "2020-09-09 10:53:30,749 - htmd.molecule.molecule - INFO - Removed 0 atoms. 3730 atoms remaining in the molecule.\n",
      "2020-09-09 10:53:31,454 - htmd.builder.builder - INFO - Created segment P0 between resid 29 and 342.\n",
      "2020-09-09 10:53:33,148 - moleculekit.tools.sequencestructuralalignment - INFO - No segment was specified by the user for `mol` and multiple segments (['P0', 'P1']) were detected. Alignment will be done on all protein segments.\n",
      "2020-09-09 10:53:33,210 - moleculekit.tools.sequencestructuralalignment - INFO - No segment was specified by the user for `ref`. Alignment will be done on all protein segments.\n",
      "2020-09-09 10:53:33,547 - moleculekit.tools.sequencestructuralalignment - WARNING - 15 alignments found. Limiting to 1 as specified in the `maxalignments` argument.\n",
      "2020-09-09 10:53:33,551 - moleculekit.tools.sequencestructuralalignment - INFO - Alignment #0 was done on 91 residues: mol segid P0 resid 31-121\n",
      "2020-09-09 10:53:37,798 - htmd.builder.preparation - WARNING - The following residue has not been optimized: JTZ\n",
      "2020-09-09 10:53:37,799 - htmd.builder.preparation - WARNING - The following residue has not been optimized: CLR\n",
      "2020-09-09 10:53:37,800 - htmd.builder.preparation - WARNING - The following residue has not been optimized: M3J\n",
      "2020-09-09 10:53:37,801 - htmd.builder.preparation - WARNING - The following residue has not been optimized: NA\n",
      "2020-09-09 10:53:37,802 - htmd.builder.preparation - WARNING - The following residue has not been optimized: TIP\n",
      "2020-09-09 10:53:56,825 - htmd.builder.preparationdata - INFO - The following residues are in a non-standard state: HIS    22  A (HID), HIS    93  A (HID), CYS   106  A (CYX), HIS   172  A (HIE), HIS   178  A (HID), CYS   184  A (CYX), CYS   190  A (CYX), CYS   191  A (CYX), HIS   241  A (HID), HIS   269  P (HID), HIS   296  P (HID)\n",
      "2020-09-09 10:53:56,828 - htmd.builder.preparationdata - WARNING - Dubious protonation state: the pKa of 7 residues is within 1.0 units of pH 7.0.\n",
      "2020-09-09 10:53:56,830 - htmd.builder.preparationdata - WARNING - Dubious protonation state:    HIS    22  A (pKa= 6.44)\n",
      "2020-09-09 10:53:56,831 - htmd.builder.preparationdata - WARNING - Dubious protonation state:    HIS   172  A (pKa= 6.28)\n",
      "2020-09-09 10:53:56,834 - htmd.builder.preparationdata - WARNING - Dubious protonation state:    HIS   178  A (pKa= 6.03)\n",
      "2020-09-09 10:53:56,836 - htmd.builder.preparationdata - WARNING - Dubious protonation state:    HIS   241  A (pKa= 6.37)\n",
      "2020-09-09 10:53:56,837 - htmd.builder.preparationdata - WARNING - Dubious protonation state:    HIS   296  P (pKa= 6.29)\n",
      "2020-09-09 10:53:56,838 - htmd.builder.preparationdata - WARNING - Dubious protonation state:    N+     21T A (pKa= 7.65)\n",
      "2020-09-09 10:53:56,839 - htmd.builder.preparationdata - WARNING - Dubious protonation state:    N+    257T P (pKa= 7.87)\n",
      "2020-09-09 10:53:56,966 - htmd.builder.preparationdata - WARNING - Predictions for 9 residues may be incorrect because they are exposed to the membrane (-16.9<z<16.90 and buried<75.0%).\n"
     ]
    },
    {
     "name": "stdout",
     "output_type": "stream",
     "text": [
      "Adding membrane...\n"
     ]
    },
    {
     "name": "stderr",
     "output_type": "stream",
     "text": [
      "2020-09-09 10:53:58,503 - htmd.builder.builder - INFO - Replicating Membrane 3x3\n",
      "\n",
      "Replicating Membrane:   0%|          | 0/9 [00:00<?, ?it/s]\u001b[A\n",
      "Replicating Membrane:  11%|█         | 1/9 [00:00<00:04,  1.73it/s]\u001b[A\n",
      "Replicating Membrane:  22%|██▏       | 2/9 [00:01<00:04,  1.65it/s]\u001b[A\n",
      "Replicating Membrane:  33%|███▎      | 3/9 [00:01<00:03,  1.76it/s]\u001b[A\n",
      "Replicating Membrane:  44%|████▍     | 4/9 [00:02<00:03,  1.59it/s]\u001b[A\n",
      "Replicating Membrane:  56%|█████▌    | 5/9 [00:03<00:02,  1.43it/s]\u001b[A\n",
      "Replicating Membrane:  67%|██████▋   | 6/9 [00:04<00:02,  1.45it/s]\u001b[A\n",
      "Replicating Membrane:  78%|███████▊  | 7/9 [00:04<00:01,  1.47it/s]\u001b[A\n",
      "Replicating Membrane:  89%|████████▉ | 8/9 [00:05<00:00,  1.48it/s]\u001b[A\n",
      "Replicating Membrane: 100%|██████████| 9/9 [00:06<00:00,  1.49it/s]\u001b[A\n",
      "2020-09-09 10:57:11,494 - htmd.molecule.molecule - INFO - Removed 3087 atoms. 44545 atoms remaining in the molecule.\n",
      "2020-09-09 10:57:14,740 - htmd.molecule.molecule - INFO - Removed 83 residues from appended Molecule due to collisions.\n"
     ]
    },
    {
     "name": "stdout",
     "output_type": "stream",
     "text": [
      "Solvating...\n",
      "wataerbox Max and min:  [54.628822 53.99782  27.856506] [-47.800175 -48.47118  -27.938494]\n"
     ]
    },
    {
     "name": "stderr",
     "output_type": "stream",
     "text": [
      "2020-09-09 10:57:16,508 - htmd.builder.solvate - INFO - Using water pdb file at: /soft/EB_repo/devel/programs/foss/2016b/Anaconda3/5.0.1/lib/python3.6/site-packages/htmd/builder/wat.pdb\n",
      "2020-09-09 10:57:18,342 - htmd.builder.solvate - INFO - Replicating 8 water segments, 2 by 2 by 2\n",
      "\n",
      "Solvating:   0%|          | 0/8 [00:00<?, ?it/s]\u001b[A\n",
      "Solvating:  12%|█▎        | 1/8 [00:03<00:21,  3.04s/it]\u001b[A\n",
      "Solvating:  25%|██▌       | 2/8 [00:06<00:18,  3.03s/it]\u001b[A\n",
      "Solvating:  38%|███▊      | 3/8 [00:08<00:14,  2.96s/it]\u001b[A\n",
      "Solvating:  50%|█████     | 4/8 [00:11<00:11,  2.90s/it]\u001b[A\n",
      "Solvating:  62%|██████▎   | 5/8 [00:14<00:08,  2.85s/it]\u001b[A\n",
      "Solvating:  75%|███████▌  | 6/8 [00:17<00:05,  2.83s/it]\u001b[A\n",
      "Solvating:  88%|████████▊ | 7/8 [00:19<00:02,  2.83s/it]\u001b[A\n",
      "Solvating: 100%|██████████| 8/8 [00:22<00:00,  2.85s/it]\u001b[A\n",
      "2020-09-09 10:57:45,576 - htmd.builder.solvate - INFO - 15353 water molecules were added to the system.\n",
      "2020-09-09 10:58:04,956 - htmd.molecule.molecule - INFO - Removed 1290 atoms. 88111 atoms remaining in the molecule.\n"
     ]
    },
    {
     "name": "stdout",
     "output_type": "stream",
     "text": [
      "Pre-build...\n"
     ]
    },
    {
     "name": "stderr",
     "output_type": "stream",
     "text": [
      "2020-09-09 10:58:07,178 - htmd.builder.charmm - INFO - Writing out segments.\n",
      "2020-09-09 10:58:23,483 - htmd.builder.builder - INFO - 2 disulfide bonds were added\n"
     ]
    },
    {
     "name": "stdout",
     "output_type": "stream",
     "text": [
      "Disulfide Bond between: UniqueResidueID<resname: 'CYS', chain: 'P', resid: 184, insertion: '', segid: 'P0'>\n",
      "                   and: UniqueResidueID<resname: 'CYS', chain: 'P', resid: 190, insertion: '', segid: 'P0'>\n",
      "\n",
      "Disulfide Bond between: UniqueResidueID<resname: 'CYS', chain: 'P', resid: 106, insertion: '', segid: 'P0'>\n",
      "                   and: UniqueResidueID<resname: 'CYS', chain: 'P', resid: 191, insertion: '', segid: 'P0'>\n",
      "\n"
     ]
    },
    {
     "name": "stderr",
     "output_type": "stream",
     "text": [
      "2020-09-09 10:58:24,289 - htmd.builder.charmm - INFO - Starting the build.\n",
      "2020-09-09 10:58:24,532 - htmd.builder.charmm - WARNING - Failed to set coordinates for 2 atoms.\n",
      "2020-09-09 10:58:24,534 - htmd.builder.charmm - WARNING - Please check /gpcr/users/daranda/doctorat/GPCR_simulations/simulation_output/pre-build/6OBA/log.txt for further information.\n"
     ]
    },
    {
     "name": "stdout",
     "output_type": "stream",
     "text": [
      "model 6OBA could not be build because  UnknownResidueError(\"Unknown residue(s) ['M3J'] found in the input structure. You are either missing a topology definition for the residue or you need to rename it to the correct residue name\",)\n",
      "Check /gpcr/users/daranda/doctorat/GPCR_simulations/simulation_output/pre-build/6OBA/log.txt for further information on errors in building.\n",
      "\n",
      "start building model for receptor 6A94 (34/181)\n",
      "\n",
      "start building model for receptor 4XES (35/181)\n",
      "\n",
      "start building model for receptor 5ZBH (36/181)\n",
      "\n",
      "start building model for receptor 5UNF (37/181)\n",
      "\n",
      "start building model for receptor 6PS7 (38/181)\n",
      "Structure 6PS7 already has a watered version. Skipping...\n"
     ]
    },
    {
     "name": "stderr",
     "output_type": "stream",
     "text": [
      "2020-09-09 10:58:27,081 - htmd.molecule.molecule - WARNING - Alternative atom locations detected. Only altloc A was kept. If you prefer to keep all use the keepaltloc=\"all\" option when reading the file.\n",
      "2020-09-09 10:58:27,085 - htmd.molecule.molecule - INFO - Removed 99 atoms. 3626 atoms remaining in the molecule.\n",
      "2020-09-09 10:58:27,140 - htmd.molecule.molecule - INFO - Removed 309 atoms. 2699 atoms remaining in the molecule.\n",
      "2020-09-09 10:58:27,186 - htmd.molecule.molecule - INFO - Removed 0 atoms. 2699 atoms remaining in the molecule.\n",
      "2020-09-09 10:58:27,528 - htmd.molecule.molecule - INFO - Removed 0 atoms. 2699 atoms remaining in the molecule.\n",
      "2020-09-09 10:58:27,794 - htmd.molecule.molecule - INFO - Removed 0 atoms. 2699 atoms remaining in the molecule.\n",
      "2020-09-09 10:58:33,604 - htmd.molecule.molecule - INFO - Removed 0 atoms. 3626 atoms remaining in the molecule.\n",
      "2020-09-09 10:58:33,962 - htmd.molecule.molecule - INFO - Removed 0 atoms. 3626 atoms remaining in the molecule.\n",
      "2020-09-09 10:58:34,693 - htmd.builder.builder - INFO - Created segment P0 between resid -1 and 1042.\n",
      "2020-09-09 10:58:34,694 - htmd.builder.builder - INFO - Created segment P1 between resid 1058 and 307.\n",
      "2020-09-09 10:58:44,491 - moleculekit.tools.sequencestructuralalignment - INFO - No segment was specified by the user for `mol`. Alignment will be done on all protein segments.\n",
      "2020-09-09 10:58:44,549 - moleculekit.tools.sequencestructuralalignment - INFO - No segment was specified by the user for `ref` and multiple segments (['P0', 'P1']) were detected. Alignment will be done on all protein segments.\n",
      "2020-09-09 10:58:45,123 - moleculekit.tools.sequencestructuralalignment - WARNING - 2 alignments found. Limiting to 1 as specified in the `maxalignments` argument.\n",
      "2020-09-09 10:58:45,130 - moleculekit.tools.sequencestructuralalignment - INFO - Alignment #0 was done on 206 residues: mol segid P0 resid 2-207\n",
      "2020-09-09 10:58:49,204 - htmd.builder.preparation - WARNING - The following residue has not been optimized: ZMA\n",
      "2020-09-09 10:58:49,205 - htmd.builder.preparation - WARNING - The following residue has not been optimized: CLR\n",
      "2020-09-09 10:58:49,206 - htmd.builder.preparation - WARNING - The following residue has not been optimized: NA\n",
      "2020-09-09 10:58:49,206 - htmd.builder.preparation - WARNING - The following residue has not been optimized: TIP\n",
      "2020-09-09 10:59:06,505 - htmd.builder.preparationdata - INFO - The following residues are in a non-standard state: CYS    71  P (CYX), CYS    74  P (CYX), HIS    75  P (HID), CYS    77  P (CYX), CYS   146  P (CYX), HIS   155  P (HID), CYS   159  P (CYX), CYS   166  P (CYX), HIS   230  P (HIP), HIS   250  P (HIE), CYS   259  P (CYX), CYS   262  P (CYX), HIS   264  P (HIP), HIS   278  P (HIP), HIS   306  P (HID)\n",
      "2020-09-09 10:59:06,507 - htmd.builder.preparationdata - WARNING - Dubious protonation state: the pKa of 4 residues is within 1.0 units of pH 7.0.\n",
      "2020-09-09 10:59:06,509 - htmd.builder.preparationdata - WARNING - Dubious protonation state:    HIS    75  P (pKa= 6.08)\n",
      "2020-09-09 10:59:06,510 - htmd.builder.preparationdata - WARNING - Dubious protonation state:    HIS   155  P (pKa= 6.68)\n",
      "2020-09-09 10:59:06,511 - htmd.builder.preparationdata - WARNING - Dubious protonation state:    HIS   230  P (pKa= 7.11)\n",
      "2020-09-09 10:59:06,512 - htmd.builder.preparationdata - WARNING - Dubious protonation state:    N+      1T P (pKa= 7.63)\n",
      "2020-09-09 10:59:06,617 - htmd.builder.preparationdata - WARNING - Predictions for 7 residues may be incorrect because they are exposed to the membrane (-16.1<z<16.10 and buried<75.0%).\n"
     ]
    },
    {
     "name": "stdout",
     "output_type": "stream",
     "text": [
      "Adding membrane...\n"
     ]
    },
    {
     "name": "stderr",
     "output_type": "stream",
     "text": [
      "2020-09-09 10:59:08,163 - htmd.builder.builder - INFO - Replicating Membrane 3x3\n",
      "\n",
      "Replicating Membrane:   0%|          | 0/9 [00:00<?, ?it/s]\u001b[A\n",
      "Replicating Membrane:  11%|█         | 1/9 [00:00<00:04,  1.66it/s]\u001b[A\n",
      "Replicating Membrane:  22%|██▏       | 2/9 [00:01<00:04,  1.58it/s]\u001b[A\n",
      "Replicating Membrane:  33%|███▎      | 3/9 [00:01<00:03,  1.72it/s]\u001b[A\n",
      "Replicating Membrane:  44%|████▍     | 4/9 [00:02<00:03,  1.55it/s]\u001b[A\n",
      "Replicating Membrane:  56%|█████▌    | 5/9 [00:03<00:02,  1.39it/s]\u001b[A\n",
      "Replicating Membrane:  67%|██████▋   | 6/9 [00:04<00:02,  1.42it/s]\u001b[A\n",
      "Replicating Membrane:  78%|███████▊  | 7/9 [00:04<00:01,  1.46it/s]\u001b[A\n",
      "Replicating Membrane:  89%|████████▉ | 8/9 [00:05<00:00,  1.48it/s]\u001b[A\n",
      "Replicating Membrane: 100%|██████████| 9/9 [00:06<00:00,  1.48it/s]\u001b[A\n",
      "2020-09-09 11:01:34,621 - htmd.molecule.molecule - INFO - Removed 2240 atoms. 42868 atoms remaining in the molecule.\n",
      "2020-09-09 11:01:37,655 - htmd.molecule.molecule - INFO - Removed 82 residues from appended Molecule due to collisions.\n"
     ]
    },
    {
     "name": "stdout",
     "output_type": "stream",
     "text": [
      "Solvating...\n",
      "wataerbox Max and min:  [52.589874 53.462032 28.060892] [-47.308125 -46.377968 -27.734108]\n"
     ]
    },
    {
     "name": "stderr",
     "output_type": "stream",
     "text": [
      "2020-09-09 11:01:39,340 - htmd.builder.solvate - INFO - Using water pdb file at: /soft/EB_repo/devel/programs/foss/2016b/Anaconda3/5.0.1/lib/python3.6/site-packages/htmd/builder/wat.pdb\n",
      "2020-09-09 11:01:41,084 - htmd.builder.solvate - INFO - Replicating 8 water segments, 2 by 2 by 2\n",
      "\n",
      "Solvating:   0%|          | 0/8 [00:00<?, ?it/s]\u001b[A\n",
      "Solvating:  12%|█▎        | 1/8 [00:02<00:19,  2.74s/it]\u001b[A\n",
      "Solvating:  25%|██▌       | 2/8 [00:05<00:16,  2.67s/it]\u001b[A\n",
      "Solvating:  38%|███▊      | 3/8 [00:07<00:13,  2.67s/it]\u001b[A\n",
      "Solvating:  50%|█████     | 4/8 [00:10<00:10,  2.66s/it]\u001b[A\n",
      "Solvating:  62%|██████▎   | 5/8 [00:13<00:07,  2.65s/it]\u001b[A\n",
      "Solvating:  75%|███████▌  | 6/8 [00:15<00:05,  2.62s/it]\u001b[A\n",
      "Solvating:  88%|████████▊ | 7/8 [00:18<00:02,  2.62s/it]\u001b[A\n",
      "Solvating: 100%|██████████| 8/8 [00:20<00:00,  2.61s/it]\u001b[A\n",
      "2020-09-09 11:02:05,979 - htmd.builder.solvate - INFO - 13685 water molecules were added to the system.\n",
      "2020-09-09 11:02:22,783 - htmd.molecule.molecule - INFO - Removed 690 atoms. 81101 atoms remaining in the molecule.\n"
     ]
    },
    {
     "name": "stdout",
     "output_type": "stream",
     "text": [
      "Pre-build...\n"
     ]
    },
    {
     "name": "stderr",
     "output_type": "stream",
     "text": [
      "2020-09-09 11:02:24,828 - htmd.builder.charmm - INFO - Writing out segments.\n",
      "2020-09-09 11:02:38,714 - htmd.builder.builder - INFO - 4 disulfide bonds were added\n"
     ]
    },
    {
     "name": "stdout",
     "output_type": "stream",
     "text": [
      "Disulfide Bond between: UniqueResidueID<resname: 'CYS', chain: 'P', resid: 77, insertion: '', segid: 'P0'>\n",
      "                   and: UniqueResidueID<resname: 'CYS', chain: 'P', resid: 166, insertion: '', segid: 'P0'>\n",
      "\n",
      "Disulfide Bond between: UniqueResidueID<resname: 'CYS', chain: 'P', resid: 74, insertion: '', segid: 'P0'>\n",
      "                   and: UniqueResidueID<resname: 'CYS', chain: 'P', resid: 146, insertion: '', segid: 'P0'>\n",
      "\n",
      "Disulfide Bond between: UniqueResidueID<resname: 'CYS', chain: 'P', resid: 259, insertion: '', segid: 'P0'>\n",
      "                   and: UniqueResidueID<resname: 'CYS', chain: 'P', resid: 262, insertion: '', segid: 'P0'>\n",
      "\n",
      "Disulfide Bond between: UniqueResidueID<resname: 'CYS', chain: 'P', resid: 71, insertion: '', segid: 'P0'>\n",
      "                   and: UniqueResidueID<resname: 'CYS', chain: 'P', resid: 159, insertion: '', segid: 'P0'>\n",
      "\n"
     ]
    },
    {
     "name": "stderr",
     "output_type": "stream",
     "text": [
      "2020-09-09 11:02:39,532 - htmd.builder.charmm - INFO - Starting the build.\n",
      "2020-09-09 11:02:41,319 - htmd.builder.charmm - WARNING - Failed to set coordinates for 1 atoms.\n",
      "2020-09-09 11:02:41,321 - htmd.builder.charmm - WARNING - Failed to guess coordinates for 1 atoms due to bad angles.\n",
      "2020-09-09 11:02:41,321 - htmd.builder.charmm - WARNING - Poorly guessed coordinates for 382 atoms.\n",
      "2020-09-09 11:02:41,322 - htmd.builder.charmm - WARNING - Please check /gpcr/users/daranda/doctorat/GPCR_simulations/simulation_output/pre-build/6PS7/log.txt for further information.\n",
      "2020-09-09 11:02:41,323 - htmd.builder.charmm - INFO - Finished building.\n",
      "2020-09-09 11:02:44,667 - htmd.molecule.readers - WARNING - Atoms with names \"HE21\" \"HE22\" were guessed as element H but could also be He (helium). If this is a case, you can correct them with mol.set('element', 'He', sel='name \"HE21\" \"HE22\"')\n",
      "2020-09-09 11:02:44,668 - htmd.molecule.readers - WARNING - Atoms with names \"HG11\" \"HG12\" \"HG13\" \"HG21\" \"HG22\" \"HG23\" were guessed as element H but could also be Hg (mercury). If this is a case, you can correct them with mol.set('element', 'Hg', sel='name \"HG11\" \"HG12\" \"HG13\" \"HG21\" \"HG22\" \"HG23\"')\n",
      "2020-09-09 11:02:58,431 - htmd.molecule.readers - WARNING - Atoms with names \"HE21\" \"HE22\" were guessed as element H but could also be He (helium). If this is a case, you can correct them with mol.set('element', 'He', sel='name \"HE21\" \"HE22\"')\n",
      "2020-09-09 11:02:58,432 - htmd.molecule.readers - WARNING - Atoms with names \"HG11\" \"HG12\" \"HG13\" \"HG21\" \"HG22\" \"HG23\" were guessed as element H but could also be Hg (mercury). If this is a case, you can correct them with mol.set('element', 'Hg', sel='name \"HG11\" \"HG12\" \"HG13\" \"HG21\" \"HG22\" \"HG23\"')\n"
     ]
    },
    {
     "name": "stdout",
     "output_type": "stream",
     "text": [
      "Checking aromatic insertions...\n"
     ]
    },
    {
     "name": "stderr",
     "output_type": "stream",
     "text": [
      "2020-09-09 11:05:17,936 - htmd.molecule.molecule - INFO - Removed 3 atoms. 81161 atoms remaining in the molecule.\n"
     ]
    },
    {
     "name": "stdout",
     "output_type": "stream",
     "text": [
      "WARNING: removed 3 atoms within 1.5 of a protein aromatic ring\n",
      "Renumbering...\n",
      "Ionizing...\n"
     ]
    },
    {
     "name": "stderr",
     "output_type": "stream",
     "text": [
      "2020-09-09 11:05:42,779 - htmd.builder.charmm - INFO - Writing out segments.\n",
      "2020-09-09 11:05:56,837 - htmd.builder.builder - INFO - 4 disulfide bonds were added\n"
     ]
    },
    {
     "name": "stdout",
     "output_type": "stream",
     "text": [
      "Disulfide Bond between: UniqueResidueID<resname: 'CYS', chain: 'P', resid: 77, insertion: '', segid: 'P0'>\n",
      "                   and: UniqueResidueID<resname: 'CYS', chain: 'P', resid: 166, insertion: '', segid: 'P0'>\n",
      "\n",
      "Disulfide Bond between: UniqueResidueID<resname: 'CYS', chain: 'P', resid: 74, insertion: '', segid: 'P0'>\n",
      "                   and: UniqueResidueID<resname: 'CYS', chain: 'P', resid: 146, insertion: '', segid: 'P0'>\n",
      "\n",
      "Disulfide Bond between: UniqueResidueID<resname: 'CYS', chain: 'P', resid: 259, insertion: '', segid: 'P0'>\n",
      "                   and: UniqueResidueID<resname: 'CYS', chain: 'P', resid: 262, insertion: '', segid: 'P0'>\n",
      "\n",
      "Disulfide Bond between: UniqueResidueID<resname: 'CYS', chain: 'P', resid: 71, insertion: '', segid: 'P0'>\n",
      "                   and: UniqueResidueID<resname: 'CYS', chain: 'P', resid: 159, insertion: '', segid: 'P0'>\n",
      "\n"
     ]
    },
    {
     "name": "stderr",
     "output_type": "stream",
     "text": [
      "2020-09-09 11:05:57,744 - htmd.builder.charmm - INFO - Starting the build.\n",
      "2020-09-09 11:05:59,463 - htmd.builder.charmm - WARNING - Failed to set coordinates for 1 atoms.\n",
      "2020-09-09 11:05:59,465 - htmd.builder.charmm - WARNING - Failed to guess coordinates for 1 atoms due to bad angles.\n",
      "2020-09-09 11:05:59,466 - htmd.builder.charmm - WARNING - Poorly guessed coordinates for 382 atoms.\n",
      "2020-09-09 11:05:59,466 - htmd.builder.charmm - WARNING - Please check /gpcr/users/daranda/doctorat/GPCR_simulations/simulation_output/ionize/6PS7/log.txt for further information.\n",
      "2020-09-09 11:05:59,467 - htmd.builder.charmm - INFO - Finished building.\n",
      "2020-09-09 11:06:02,622 - htmd.molecule.readers - WARNING - Atoms with names \"HE21\" \"HE22\" were guessed as element H but could also be He (helium). If this is a case, you can correct them with mol.set('element', 'He', sel='name \"HE21\" \"HE22\"')\n",
      "2020-09-09 11:06:02,623 - htmd.molecule.readers - WARNING - Atoms with names \"HG11\" \"HG12\" \"HG13\" \"HG21\" \"HG22\" \"HG23\" were guessed as element H but could also be Hg (mercury). If this is a case, you can correct them with mol.set('element', 'Hg', sel='name \"HG11\" \"HG12\" \"HG13\" \"HG21\" \"HG22\" \"HG23\"')\n",
      "2020-09-09 11:06:09,177 - htmd.builder.ionize - INFO - Adding 11 anions + 0 cations for neutralizing and 98 ions for the given salt concentration.\n",
      "2020-09-09 11:07:23,108 - htmd.builder.charmm - INFO - Writing out segments.\n",
      "2020-09-09 11:07:38,476 - htmd.builder.charmm - INFO - Starting the build.\n",
      "2020-09-09 11:07:40,218 - htmd.builder.charmm - WARNING - Failed to set coordinates for 1 atoms.\n",
      "2020-09-09 11:07:40,220 - htmd.builder.charmm - WARNING - Failed to guess coordinates for 1 atoms due to bad angles.\n",
      "2020-09-09 11:07:40,221 - htmd.builder.charmm - WARNING - Poorly guessed coordinates for 382 atoms.\n",
      "2020-09-09 11:07:40,221 - htmd.builder.charmm - WARNING - Please check /gpcr/users/daranda/doctorat/GPCR_simulations/simulation_output/ionize/6PS7/log.txt for further information.\n",
      "2020-09-09 11:07:40,222 - htmd.builder.charmm - INFO - Finished building.\n",
      "2020-09-09 11:07:43,381 - htmd.molecule.readers - WARNING - Atoms with names \"HE21\" \"HE22\" were guessed as element H but could also be He (helium). If this is a case, you can correct them with mol.set('element', 'He', sel='name \"HE21\" \"HE22\"')\n",
      "2020-09-09 11:07:43,382 - htmd.molecule.readers - WARNING - Atoms with names \"HG11\" \"HG12\" \"HG13\" \"HG21\" \"HG22\" \"HG23\" were guessed as element H but could also be Hg (mercury). If this is a case, you can correct them with mol.set('element', 'Hg', sel='name \"HG11\" \"HG12\" \"HG13\" \"HG21\" \"HG22\" \"HG23\"')\n",
      "2020-09-09 11:07:56,383 - htmd.molecule.readers - WARNING - Atoms with names \"HE21\" \"HE22\" were guessed as element H but could also be He (helium). If this is a case, you can correct them with mol.set('element', 'He', sel='name \"HE21\" \"HE22\"')\n",
      "2020-09-09 11:07:56,384 - htmd.molecule.readers - WARNING - Atoms with names \"HG11\" \"HG12\" \"HG13\" \"HG21\" \"HG22\" \"HG23\" were guessed as element H but could also be Hg (mercury). If this is a case, you can correct them with mol.set('element', 'Hg', sel='name \"HG11\" \"HG12\" \"HG13\" \"HG21\" \"HG22\" \"HG23\"')\n"
     ]
    },
    {
     "name": "stdout",
     "output_type": "stream",
     "text": [
      "Building...\n"
     ]
    },
    {
     "name": "stderr",
     "output_type": "stream",
     "text": [
      "2020-09-09 11:08:54,424 - htmd.builder.charmm - INFO - Writing out segments.\n",
      "2020-09-09 11:09:09,728 - htmd.builder.builder - INFO - 4 disulfide bonds were added\n"
     ]
    },
    {
     "name": "stdout",
     "output_type": "stream",
     "text": [
      "Disulfide Bond between: UniqueResidueID<resname: 'CYS', chain: 'P', resid: 77, insertion: '', segid: 'P0'>\n",
      "                   and: UniqueResidueID<resname: 'CYS', chain: 'P', resid: 166, insertion: '', segid: 'P0'>\n",
      "\n",
      "Disulfide Bond between: UniqueResidueID<resname: 'CYS', chain: 'P', resid: 74, insertion: '', segid: 'P0'>\n",
      "                   and: UniqueResidueID<resname: 'CYS', chain: 'P', resid: 146, insertion: '', segid: 'P0'>\n",
      "\n",
      "Disulfide Bond between: UniqueResidueID<resname: 'CYS', chain: 'P', resid: 259, insertion: '', segid: 'P0'>\n",
      "                   and: UniqueResidueID<resname: 'CYS', chain: 'P', resid: 262, insertion: '', segid: 'P0'>\n",
      "\n",
      "Disulfide Bond between: UniqueResidueID<resname: 'CYS', chain: 'P', resid: 71, insertion: '', segid: 'P0'>\n",
      "                   and: UniqueResidueID<resname: 'CYS', chain: 'P', resid: 159, insertion: '', segid: 'P0'>\n",
      "\n"
     ]
    },
    {
     "name": "stderr",
     "output_type": "stream",
     "text": [
      "2020-09-09 11:09:10,539 - htmd.builder.charmm - INFO - Starting the build.\n",
      "2020-09-09 11:09:12,235 - htmd.builder.charmm - INFO - Finished building.\n"
     ]
    },
    {
     "name": "stdout",
     "output_type": "stream",
     "text": [
      "End of 6PS7 after 660.9509692192078 seconds\n",
      "\n",
      "\n",
      "start building model for receptor 6PS5 (39/181)\n",
      "Structure 6PS5 already has a watered version. Skipping...\n"
     ]
    },
    {
     "name": "stderr",
     "output_type": "stream",
     "text": [
      "2020-09-09 11:09:27,488 - htmd.molecule.molecule - WARNING - Alternative atom locations detected. Only altloc A was kept. If you prefer to keep all use the keepaltloc=\"all\" option when reading the file.\n",
      "2020-09-09 11:09:27,492 - htmd.molecule.molecule - INFO - Removed 3 atoms. 3730 atoms remaining in the molecule.\n",
      "2020-09-09 11:09:27,541 - htmd.molecule.molecule - INFO - Removed 108 atoms. 2664 atoms remaining in the molecule.\n",
      "2020-09-09 11:09:27,585 - htmd.molecule.molecule - INFO - Removed 0 atoms. 2664 atoms remaining in the molecule.\n",
      "2020-09-09 11:09:27,896 - htmd.molecule.molecule - INFO - Removed 0 atoms. 2664 atoms remaining in the molecule.\n",
      "2020-09-09 11:09:28,145 - htmd.molecule.molecule - INFO - Removed 0 atoms. 2664 atoms remaining in the molecule.\n",
      "2020-09-09 11:09:28,579 - htmd.builder.builder - INFO - Created segment P0 between resid 21 and 242.\n",
      "2020-09-09 11:09:28,581 - htmd.builder.builder - INFO - Created segment P1 between resid 257 and 346.\n",
      "2020-09-09 11:09:33,216 - htmd.molecule.molecule - INFO - Removed 0 atoms. 3730 atoms remaining in the molecule.\n",
      "2020-09-09 11:09:33,566 - htmd.molecule.molecule - INFO - Removed 0 atoms. 3730 atoms remaining in the molecule.\n",
      "2020-09-09 11:09:34,244 - htmd.builder.builder - INFO - Created segment P0 between resid 29 and 342.\n",
      "2020-09-09 11:09:35,892 - moleculekit.tools.sequencestructuralalignment - INFO - No segment was specified by the user for `mol` and multiple segments (['P0', 'P1']) were detected. Alignment will be done on all protein segments.\n",
      "2020-09-09 11:09:35,952 - moleculekit.tools.sequencestructuralalignment - INFO - No segment was specified by the user for `ref`. Alignment will be done on all protein segments.\n",
      "2020-09-09 11:09:36,281 - moleculekit.tools.sequencestructuralalignment - WARNING - 15 alignments found. Limiting to 1 as specified in the `maxalignments` argument.\n",
      "2020-09-09 11:09:36,285 - moleculekit.tools.sequencestructuralalignment - INFO - Alignment #0 was done on 91 residues: mol segid P0 resid 31-121\n",
      "2020-09-09 11:09:40,242 - htmd.builder.preparation - WARNING - The following residue has not been optimized: SNP\n",
      "2020-09-09 11:09:40,243 - htmd.builder.preparation - WARNING - The following residue has not been optimized: CLR\n",
      "2020-09-09 11:09:40,244 - htmd.builder.preparation - WARNING - The following residue has not been optimized: NA\n",
      "2020-09-09 11:09:40,245 - htmd.builder.preparation - WARNING - The following residue has not been optimized: TIP\n",
      "2020-09-09 11:09:57,396 - htmd.builder.preparationdata - INFO - The following residues are in a non-standard state: HIS    22  A (HID), HIS    93  A (HIP), CYS   106  A (CYX), HIS   172  A (HIE), HIS   178  A (HID), CYS   184  A (CYX), CYS   190  A (CYX), CYS   191  A (CYX), HIS   241  A (HID), HIS   269  P (HID), HIS   296  P (HID)\n",
      "2020-09-09 11:09:57,398 - htmd.builder.preparationdata - WARNING - Dubious protonation state: the pKa of 8 residues is within 1.0 units of pH 7.0.\n",
      "2020-09-09 11:09:57,401 - htmd.builder.preparationdata - WARNING - Dubious protonation state:    HIS    22  A (pKa= 6.71)\n",
      "2020-09-09 11:09:57,402 - htmd.builder.preparationdata - WARNING - Dubious protonation state:    HIS    93  A (pKa= 7.71)\n",
      "2020-09-09 11:09:57,403 - htmd.builder.preparationdata - WARNING - Dubious protonation state:    GLU   122  A (pKa= 6.44)\n",
      "2020-09-09 11:09:57,404 - htmd.builder.preparationdata - WARNING - Dubious protonation state:    HIS   172  A (pKa= 6.53)\n",
      "2020-09-09 11:09:57,405 - htmd.builder.preparationdata - WARNING - Dubious protonation state:    HIS   178  A (pKa= 6.29)\n",
      "2020-09-09 11:09:57,406 - htmd.builder.preparationdata - WARNING - Dubious protonation state:    HIS   241  A (pKa= 6.35)\n",
      "2020-09-09 11:09:57,407 - htmd.builder.preparationdata - WARNING - Dubious protonation state:    N+     21T A (pKa= 7.79)\n",
      "2020-09-09 11:09:57,409 - htmd.builder.preparationdata - WARNING - Dubious protonation state:    N+    257T P (pKa= 7.72)\n",
      "2020-09-09 11:09:57,528 - htmd.builder.preparationdata - WARNING - Predictions for 9 residues may be incorrect because they are exposed to the membrane (-16.9<z<16.90 and buried<75.0%).\n"
     ]
    },
    {
     "name": "stdout",
     "output_type": "stream",
     "text": [
      "Adding membrane...\n"
     ]
    },
    {
     "name": "stderr",
     "output_type": "stream",
     "text": [
      "2020-09-09 11:09:59,020 - htmd.builder.builder - INFO - Replicating Membrane 3x3\n",
      "\n",
      "Replicating Membrane:   0%|          | 0/9 [00:00<?, ?it/s]\u001b[A\n",
      "Replicating Membrane:  11%|█         | 1/9 [00:00<00:04,  1.72it/s]\u001b[A\n",
      "Replicating Membrane:  22%|██▏       | 2/9 [00:01<00:04,  1.64it/s]\u001b[A\n",
      "Replicating Membrane:  33%|███▎      | 3/9 [00:01<00:03,  1.78it/s]\u001b[A\n",
      "Replicating Membrane:  44%|████▍     | 4/9 [00:02<00:03,  1.60it/s]\u001b[A\n",
      "Replicating Membrane:  56%|█████▌    | 5/9 [00:03<00:02,  1.44it/s]\u001b[A\n",
      "Replicating Membrane:  67%|██████▋   | 6/9 [00:03<00:02,  1.48it/s]\u001b[A\n",
      "Replicating Membrane:  78%|███████▊  | 7/9 [00:04<00:01,  1.51it/s]\u001b[A\n",
      "Replicating Membrane:  89%|████████▉ | 8/9 [00:05<00:00,  1.53it/s]\u001b[A\n",
      "Replicating Membrane: 100%|██████████| 9/9 [00:05<00:00,  1.53it/s]\u001b[A\n",
      "2020-09-09 11:12:22,666 - htmd.molecule.molecule - INFO - Removed 2720 atoms. 41875 atoms remaining in the molecule.\n",
      "2020-09-09 11:12:25,749 - htmd.molecule.molecule - INFO - Removed 83 residues from appended Molecule due to collisions.\n"
     ]
    },
    {
     "name": "stdout",
     "output_type": "stream",
     "text": [
      "Solvating...\n",
      "wataerbox Max and min:  [51.075787 51.992016 28.060892] [-47.308216 -46.377987 -27.734108]\n"
     ]
    },
    {
     "name": "stderr",
     "output_type": "stream",
     "text": [
      "2020-09-09 11:12:27,386 - htmd.builder.solvate - INFO - Using water pdb file at: /soft/EB_repo/devel/programs/foss/2016b/Anaconda3/5.0.1/lib/python3.6/site-packages/htmd/builder/wat.pdb\n",
      "2020-09-09 11:12:29,201 - htmd.builder.solvate - INFO - Replicating 8 water segments, 2 by 2 by 2\n",
      "\n",
      "Solvating:   0%|          | 0/8 [00:00<?, ?it/s]\u001b[A\n",
      "Solvating:  12%|█▎        | 1/8 [00:02<00:18,  2.70s/it]\u001b[A\n",
      "Solvating:  25%|██▌       | 2/8 [00:05<00:16,  2.67s/it]\u001b[A\n",
      "Solvating:  38%|███▊      | 3/8 [00:07<00:13,  2.67s/it]\u001b[A\n",
      "Solvating:  50%|█████     | 4/8 [00:10<00:10,  2.64s/it]\u001b[A\n",
      "Solvating:  62%|██████▎   | 5/8 [00:13<00:07,  2.65s/it]\u001b[A\n",
      "Solvating:  75%|███████▌  | 6/8 [00:15<00:05,  2.64s/it]\u001b[A\n",
      "Solvating:  88%|████████▊ | 7/8 [00:18<00:02,  2.65s/it]\u001b[A\n",
      "Solvating: 100%|██████████| 8/8 [00:21<00:00,  2.65s/it]\u001b[A\n",
      "2020-09-09 11:12:54,646 - htmd.builder.solvate - INFO - 15685 water molecules were added to the system.\n",
      "2020-09-09 11:13:13,409 - htmd.molecule.molecule - INFO - Removed 1161 atoms. 86516 atoms remaining in the molecule.\n"
     ]
    },
    {
     "name": "stdout",
     "output_type": "stream",
     "text": [
      "Pre-build...\n"
     ]
    },
    {
     "name": "stderr",
     "output_type": "stream",
     "text": [
      "2020-09-09 11:13:15,594 - htmd.builder.charmm - INFO - Writing out segments.\n",
      "2020-09-09 11:13:31,228 - htmd.builder.builder - INFO - 2 disulfide bonds were added\n"
     ]
    },
    {
     "name": "stdout",
     "output_type": "stream",
     "text": [
      "Disulfide Bond between: UniqueResidueID<resname: 'CYS', chain: 'P', resid: 184, insertion: '', segid: 'P0'>\n",
      "                   and: UniqueResidueID<resname: 'CYS', chain: 'P', resid: 190, insertion: '', segid: 'P0'>\n",
      "\n",
      "Disulfide Bond between: UniqueResidueID<resname: 'CYS', chain: 'P', resid: 106, insertion: '', segid: 'P0'>\n",
      "                   and: UniqueResidueID<resname: 'CYS', chain: 'P', resid: 191, insertion: '', segid: 'P0'>\n",
      "\n"
     ]
    },
    {
     "name": "stderr",
     "output_type": "stream",
     "text": [
      "2020-09-09 11:13:32,034 - htmd.builder.charmm - INFO - Starting the build.\n",
      "2020-09-09 11:13:33,834 - htmd.builder.charmm - WARNING - Failed to set coordinates for 2 atoms.\n",
      "2020-09-09 11:13:33,836 - htmd.builder.charmm - WARNING - Poorly guessed coordinates for 283 atoms.\n",
      "2020-09-09 11:13:33,837 - htmd.builder.charmm - WARNING - Please check /gpcr/users/daranda/doctorat/GPCR_simulations/simulation_output/pre-build/6PS5/log.txt for further information.\n",
      "2020-09-09 11:13:33,837 - htmd.builder.charmm - INFO - Finished building.\n",
      "2020-09-09 11:13:37,248 - htmd.molecule.readers - WARNING - Atoms with names \"HE21\" \"HE22\" were guessed as element H but could also be He (helium). If this is a case, you can correct them with mol.set('element', 'He', sel='name \"HE21\" \"HE22\"')\n",
      "2020-09-09 11:13:37,249 - htmd.molecule.readers - WARNING - Atoms with names \"HG11\" \"HG12\" \"HG13\" \"HG21\" \"HG22\" \"HG23\" were guessed as element H but could also be Hg (mercury). If this is a case, you can correct them with mol.set('element', 'Hg', sel='name \"HG11\" \"HG12\" \"HG13\" \"HG21\" \"HG22\" \"HG23\"')\n",
      "2020-09-09 11:13:51,796 - htmd.molecule.readers - WARNING - Atoms with names \"HE21\" \"HE22\" were guessed as element H but could also be He (helium). If this is a case, you can correct them with mol.set('element', 'He', sel='name \"HE21\" \"HE22\"')\n",
      "2020-09-09 11:13:51,797 - htmd.molecule.readers - WARNING - Atoms with names \"HG11\" \"HG12\" \"HG13\" \"HG21\" \"HG22\" \"HG23\" were guessed as element H but could also be Hg (mercury). If this is a case, you can correct them with mol.set('element', 'Hg', sel='name \"HG11\" \"HG12\" \"HG13\" \"HG21\" \"HG22\" \"HG23\"')\n"
     ]
    },
    {
     "name": "stdout",
     "output_type": "stream",
     "text": [
      "Checking aromatic insertions...\n",
      "WARNING: removed 0 atoms within 1.5 of a protein aromatic ring\n",
      "Renumbering...\n",
      "Ionizing...\n"
     ]
    },
    {
     "name": "stderr",
     "output_type": "stream",
     "text": [
      "2020-09-09 11:16:47,622 - htmd.builder.charmm - INFO - Writing out segments.\n",
      "2020-09-09 11:17:03,549 - htmd.builder.builder - INFO - 2 disulfide bonds were added\n"
     ]
    },
    {
     "name": "stdout",
     "output_type": "stream",
     "text": [
      "Disulfide Bond between: UniqueResidueID<resname: 'CYS', chain: 'P', resid: 184, insertion: '', segid: 'P0'>\n",
      "                   and: UniqueResidueID<resname: 'CYS', chain: 'P', resid: 190, insertion: '', segid: 'P0'>\n",
      "\n",
      "Disulfide Bond between: UniqueResidueID<resname: 'CYS', chain: 'P', resid: 106, insertion: '', segid: 'P0'>\n",
      "                   and: UniqueResidueID<resname: 'CYS', chain: 'P', resid: 191, insertion: '', segid: 'P0'>\n",
      "\n"
     ]
    },
    {
     "name": "stderr",
     "output_type": "stream",
     "text": [
      "2020-09-09 11:17:04,360 - htmd.builder.charmm - INFO - Starting the build.\n",
      "2020-09-09 11:17:06,154 - htmd.builder.charmm - WARNING - Failed to set coordinates for 2 atoms.\n",
      "2020-09-09 11:17:06,155 - htmd.builder.charmm - WARNING - Poorly guessed coordinates for 283 atoms.\n",
      "2020-09-09 11:17:06,156 - htmd.builder.charmm - WARNING - Please check /gpcr/users/daranda/doctorat/GPCR_simulations/simulation_output/ionize/6PS5/log.txt for further information.\n",
      "2020-09-09 11:17:06,157 - htmd.builder.charmm - INFO - Finished building.\n",
      "2020-09-09 11:17:09,509 - htmd.molecule.readers - WARNING - Atoms with names \"HE21\" \"HE22\" were guessed as element H but could also be He (helium). If this is a case, you can correct them with mol.set('element', 'He', sel='name \"HE21\" \"HE22\"')\n",
      "2020-09-09 11:17:09,511 - htmd.molecule.readers - WARNING - Atoms with names \"HG11\" \"HG12\" \"HG13\" \"HG21\" \"HG22\" \"HG23\" were guessed as element H but could also be Hg (mercury). If this is a case, you can correct them with mol.set('element', 'Hg', sel='name \"HG11\" \"HG12\" \"HG13\" \"HG21\" \"HG22\" \"HG23\"')\n",
      "2020-09-09 11:17:16,373 - htmd.builder.ionize - INFO - Adding 7 anions + 0 cations for neutralizing and 108 ions for the given salt concentration.\n",
      "2020-09-09 11:18:41,954 - htmd.builder.charmm - INFO - Writing out segments.\n",
      "2020-09-09 11:18:59,609 - htmd.builder.charmm - INFO - Starting the build.\n",
      "2020-09-09 11:19:01,416 - htmd.builder.charmm - WARNING - Failed to set coordinates for 2 atoms.\n",
      "2020-09-09 11:19:01,520 - htmd.builder.charmm - WARNING - Poorly guessed coordinates for 283 atoms.\n",
      "2020-09-09 11:19:01,521 - htmd.builder.charmm - WARNING - Please check /gpcr/users/daranda/doctorat/GPCR_simulations/simulation_output/ionize/6PS5/log.txt for further information.\n",
      "2020-09-09 11:19:01,522 - htmd.builder.charmm - INFO - Finished building.\n",
      "2020-09-09 11:19:04,769 - htmd.molecule.readers - WARNING - Atoms with names \"HE21\" \"HE22\" were guessed as element H but could also be He (helium). If this is a case, you can correct them with mol.set('element', 'He', sel='name \"HE21\" \"HE22\"')\n",
      "2020-09-09 11:19:04,770 - htmd.molecule.readers - WARNING - Atoms with names \"HG11\" \"HG12\" \"HG13\" \"HG21\" \"HG22\" \"HG23\" were guessed as element H but could also be Hg (mercury). If this is a case, you can correct them with mol.set('element', 'Hg', sel='name \"HG11\" \"HG12\" \"HG13\" \"HG21\" \"HG22\" \"HG23\"')\n",
      "2020-09-09 11:19:19,193 - htmd.molecule.readers - WARNING - Atoms with names \"HE21\" \"HE22\" were guessed as element H but could also be He (helium). If this is a case, you can correct them with mol.set('element', 'He', sel='name \"HE21\" \"HE22\"')\n",
      "2020-09-09 11:19:19,194 - htmd.molecule.readers - WARNING - Atoms with names \"HG11\" \"HG12\" \"HG13\" \"HG21\" \"HG22\" \"HG23\" were guessed as element H but could also be Hg (mercury). If this is a case, you can correct them with mol.set('element', 'Hg', sel='name \"HG11\" \"HG12\" \"HG13\" \"HG21\" \"HG22\" \"HG23\"')\n"
     ]
    },
    {
     "name": "stdout",
     "output_type": "stream",
     "text": [
      "Building...\n"
     ]
    },
    {
     "name": "stderr",
     "output_type": "stream",
     "text": [
      "2020-09-09 11:20:27,263 - htmd.builder.charmm - INFO - Writing out segments.\n",
      "2020-09-09 11:20:44,596 - htmd.builder.builder - INFO - 2 disulfide bonds were added\n"
     ]
    },
    {
     "name": "stdout",
     "output_type": "stream",
     "text": [
      "Disulfide Bond between: UniqueResidueID<resname: 'CYS', chain: 'P', resid: 184, insertion: '', segid: 'P0'>\n",
      "                   and: UniqueResidueID<resname: 'CYS', chain: 'P', resid: 190, insertion: '', segid: 'P0'>\n",
      "\n",
      "Disulfide Bond between: UniqueResidueID<resname: 'CYS', chain: 'P', resid: 106, insertion: '', segid: 'P0'>\n",
      "                   and: UniqueResidueID<resname: 'CYS', chain: 'P', resid: 191, insertion: '', segid: 'P0'>\n",
      "\n"
     ]
    },
    {
     "name": "stderr",
     "output_type": "stream",
     "text": [
      "2020-09-09 11:20:45,399 - htmd.builder.charmm - INFO - Starting the build.\n",
      "2020-09-09 11:20:47,199 - htmd.builder.charmm - INFO - Finished building.\n"
     ]
    },
    {
     "name": "stdout",
     "output_type": "stream",
     "text": [
      "End of 6PS5 after 695.5639140605927 seconds\n",
      "\n",
      "\n",
      "start building model for receptor 5V54 (40/181)\n",
      "\n",
      "start building model for receptor 5T1A (41/181)\n",
      "\n",
      "start building model for receptor 5DYS (42/181)\n",
      "\n",
      "start building model for receptor 6OL9 (43/181)\n",
      "Structure 6OL9 already has a watered version. Skipping...\n"
     ]
    },
    {
     "name": "stderr",
     "output_type": "stream",
     "text": [
      "2020-09-09 11:21:03,507 - htmd.molecule.molecule - INFO - Removed 79 atoms. 2561 atoms remaining in the molecule.\n",
      "2020-09-09 11:21:03,551 - htmd.molecule.molecule - INFO - Removed 0 atoms. 2561 atoms remaining in the molecule.\n",
      "2020-09-09 11:21:03,850 - htmd.molecule.molecule - INFO - Removed 0 atoms. 2561 atoms remaining in the molecule.\n",
      "2020-09-09 11:21:04,091 - htmd.molecule.molecule - INFO - Removed 0 atoms. 2561 atoms remaining in the molecule.\n",
      "2020-09-09 11:21:04,507 - htmd.builder.builder - INFO - Created segment P0 between resid 21 and 235.\n",
      "2020-09-09 11:21:04,508 - htmd.builder.builder - INFO - Created segment P1 between resid 426 and 516.\n",
      "2020-09-09 11:21:08,239 - htmd.molecule.molecule - INFO - Removed 0 atoms. 3219 atoms remaining in the molecule.\n",
      "2020-09-09 11:21:08,559 - htmd.molecule.molecule - INFO - Removed 0 atoms. 3219 atoms remaining in the molecule.\n",
      "2020-09-09 11:21:09,209 - htmd.builder.builder - INFO - Created segment P0 between resid 26 and 1031.\n",
      "2020-09-09 11:21:09,210 - htmd.builder.builder - INFO - Created segment P1 between resid 1058 and 513.\n",
      "2020-09-09 11:21:10,064 - moleculekit.tools.sequencestructuralalignment - INFO - No segment was specified by the user for `mol` and multiple segments (['P0', 'P1']) were detected. Alignment will be done on all protein segments.\n",
      "2020-09-09 11:21:10,124 - moleculekit.tools.sequencestructuralalignment - INFO - No segment was specified by the user for `ref` and multiple segments (['P0', 'P1']) were detected. Alignment will be done on all protein segments.\n",
      "2020-09-09 11:21:10,576 - moleculekit.tools.sequencestructuralalignment - WARNING - 2 alignments found. Limiting to 1 as specified in the `maxalignments` argument.\n",
      "2020-09-09 11:21:10,580 - moleculekit.tools.sequencestructuralalignment - INFO - Alignment #0 was done on 107 residues: mol segid P0 resid 118-224\n",
      "2020-09-09 11:21:14,515 - htmd.builder.preparation - WARNING - The following residue has not been optimized: 0HK\n",
      "2020-09-09 11:21:14,516 - htmd.builder.preparation - WARNING - The following residue has not been optimized: NA\n",
      "2020-09-09 11:21:14,517 - htmd.builder.preparation - WARNING - The following residue has not been optimized: TIP\n",
      "2020-09-09 11:21:31,030 - htmd.builder.preparationdata - INFO - The following residues are in a non-standard state: HIS    25  A (HID), CYS   103  A (CYX), CYS   183  A (CYX), CYS   468  P (CYX), CYS   471  P (CYX), HIS   478  P (HID)\n",
      "2020-09-09 11:21:31,032 - htmd.builder.preparationdata - WARNING - Dubious protonation state: the pKa of 4 residues is within 1.0 units of pH 7.0.\n",
      "2020-09-09 11:21:31,035 - htmd.builder.preparationdata - WARNING - Dubious protonation state:    HIS    25  A (pKa= 6.36)\n",
      "2020-09-09 11:21:31,036 - htmd.builder.preparationdata - WARNING - Dubious protonation state:    ASP   110  A (pKa= 6.60)\n",
      "2020-09-09 11:21:31,037 - htmd.builder.preparationdata - WARNING - Dubious protonation state:    N+     21T A (pKa= 7.82)\n",
      "2020-09-09 11:21:31,038 - htmd.builder.preparationdata - WARNING - Dubious protonation state:    N+    426T P (pKa= 7.89)\n",
      "2020-09-09 11:21:31,154 - htmd.builder.preparationdata - WARNING - Predictions for 9 residues may be incorrect because they are exposed to the membrane (-15.9<z<15.90 and buried<75.0%).\n"
     ]
    },
    {
     "name": "stdout",
     "output_type": "stream",
     "text": [
      "Adding membrane...\n"
     ]
    },
    {
     "name": "stderr",
     "output_type": "stream",
     "text": [
      "2020-09-09 11:21:32,812 - htmd.builder.builder - INFO - Replicating Membrane 3x3\n",
      "\n",
      "Replicating Membrane:   0%|          | 0/9 [00:00<?, ?it/s]\u001b[A\n",
      "Replicating Membrane:  11%|█         | 1/9 [00:00<00:04,  1.71it/s]\u001b[A\n",
      "Replicating Membrane:  22%|██▏       | 2/9 [00:01<00:04,  1.63it/s]\u001b[A\n",
      "Replicating Membrane:  33%|███▎      | 3/9 [00:01<00:03,  1.77it/s]\u001b[A\n",
      "Replicating Membrane:  44%|████▍     | 4/9 [00:02<00:03,  1.61it/s]\u001b[A\n",
      "Replicating Membrane:  56%|█████▌    | 5/9 [00:03<00:02,  1.46it/s]\u001b[A\n",
      "Replicating Membrane:  67%|██████▋   | 6/9 [00:03<00:02,  1.49it/s]\u001b[A\n",
      "Replicating Membrane:  78%|███████▊  | 7/9 [00:04<00:01,  1.52it/s]\u001b[A\n",
      "Replicating Membrane:  89%|████████▉ | 8/9 [00:05<00:00,  1.53it/s]\u001b[A\n",
      "Replicating Membrane: 100%|██████████| 9/9 [00:05<00:00,  1.54it/s]\u001b[A\n",
      "2020-09-09 11:23:55,276 - htmd.molecule.molecule - INFO - Removed 2007 atoms. 41848 atoms remaining in the molecule.\n",
      "2020-09-09 11:23:58,150 - htmd.molecule.molecule - INFO - Removed 78 residues from appended Molecule due to collisions.\n"
     ]
    },
    {
     "name": "stdout",
     "output_type": "stream",
     "text": [
      "Solvating...\n",
      "wataerbox Max and min:  [51.13979  51.204994 28.249681] [-46.53421  -46.451004 -27.545319]\n"
     ]
    },
    {
     "name": "stderr",
     "output_type": "stream",
     "text": [
      "2020-09-09 11:23:59,779 - htmd.builder.solvate - INFO - Using water pdb file at: /soft/EB_repo/devel/programs/foss/2016b/Anaconda3/5.0.1/lib/python3.6/site-packages/htmd/builder/wat.pdb\n",
      "2020-09-09 11:24:01,540 - htmd.builder.solvate - INFO - Replicating 8 water segments, 2 by 2 by 2\n",
      "\n",
      "Solvating:   0%|          | 0/8 [00:00<?, ?it/s]\u001b[A\n",
      "Solvating:  12%|█▎        | 1/8 [00:02<00:18,  2.61s/it]\u001b[A\n",
      "Solvating:  25%|██▌       | 2/8 [00:05<00:15,  2.61s/it]\u001b[A\n",
      "Solvating:  38%|███▊      | 3/8 [00:07<00:12,  2.55s/it]\u001b[A\n",
      "Solvating:  50%|█████     | 4/8 [00:10<00:10,  2.57s/it]\u001b[A\n",
      "Solvating:  62%|██████▎   | 5/8 [00:12<00:07,  2.58s/it]\u001b[A\n",
      "Solvating:  75%|███████▌  | 6/8 [00:15<00:05,  2.54s/it]\u001b[A\n",
      "Solvating:  88%|████████▊ | 7/8 [00:17<00:02,  2.56s/it]\u001b[A\n",
      "Solvating: 100%|██████████| 8/8 [00:20<00:00,  2.57s/it]\u001b[A\n",
      "2020-09-09 11:24:26,495 - htmd.builder.solvate - INFO - 14333 water molecules were added to the system.\n",
      "2020-09-09 11:24:43,010 - htmd.molecule.molecule - INFO - Removed 1020 atoms. 82486 atoms remaining in the molecule.\n"
     ]
    },
    {
     "name": "stdout",
     "output_type": "stream",
     "text": [
      "Pre-build...\n"
     ]
    },
    {
     "name": "stderr",
     "output_type": "stream",
     "text": [
      "2020-09-09 11:24:45,123 - htmd.builder.charmm - INFO - Writing out segments.\n",
      "2020-09-09 11:25:00,161 - htmd.builder.builder - INFO - 2 disulfide bonds were added\n"
     ]
    },
    {
     "name": "stdout",
     "output_type": "stream",
     "text": [
      "Disulfide Bond between: UniqueResidueID<resname: 'CYS', chain: 'P', resid: 468, insertion: '', segid: 'P1'>\n",
      "                   and: UniqueResidueID<resname: 'CYS', chain: 'P', resid: 471, insertion: '', segid: 'P1'>\n",
      "\n",
      "Disulfide Bond between: UniqueResidueID<resname: 'CYS', chain: 'P', resid: 103, insertion: '', segid: 'P0'>\n",
      "                   and: UniqueResidueID<resname: 'CYS', chain: 'P', resid: 183, insertion: '', segid: 'P0'>\n",
      "\n"
     ]
    },
    {
     "name": "stderr",
     "output_type": "stream",
     "text": [
      "2020-09-09 11:25:00,985 - htmd.builder.charmm - INFO - Starting the build.\n",
      "2020-09-09 11:25:02,725 - htmd.builder.charmm - WARNING - Failed to set coordinates for 2 atoms.\n",
      "2020-09-09 11:25:02,727 - htmd.builder.charmm - WARNING - Poorly guessed coordinates for 189 atoms.\n",
      "2020-09-09 11:25:02,728 - htmd.builder.charmm - WARNING - 2 undefined warnings were produced during building.\n",
      "2020-09-09 11:25:02,728 - htmd.builder.charmm - WARNING - Please check /gpcr/users/daranda/doctorat/GPCR_simulations/simulation_output/pre-build/6OL9/log.txt for further information.\n",
      "2020-09-09 11:25:02,729 - htmd.builder.charmm - INFO - Finished building.\n",
      "2020-09-09 11:25:06,041 - htmd.molecule.readers - WARNING - Atoms with names \"HE21\" \"HE22\" were guessed as element H but could also be He (helium). If this is a case, you can correct them with mol.set('element', 'He', sel='name \"HE21\" \"HE22\"')\n",
      "2020-09-09 11:25:06,043 - htmd.molecule.readers - WARNING - Atoms with names \"HG11\" \"HG12\" \"HG13\" \"HG21\" \"HG22\" \"HG23\" were guessed as element H but could also be Hg (mercury). If this is a case, you can correct them with mol.set('element', 'Hg', sel='name \"HG11\" \"HG12\" \"HG13\" \"HG21\" \"HG22\" \"HG23\"')\n",
      "2020-09-09 11:25:19,877 - htmd.molecule.readers - WARNING - Atoms with names \"HE21\" \"HE22\" were guessed as element H but could also be He (helium). If this is a case, you can correct them with mol.set('element', 'He', sel='name \"HE21\" \"HE22\"')\n",
      "2020-09-09 11:25:19,879 - htmd.molecule.readers - WARNING - Atoms with names \"HG11\" \"HG12\" \"HG13\" \"HG21\" \"HG22\" \"HG23\" were guessed as element H but could also be Hg (mercury). If this is a case, you can correct them with mol.set('element', 'Hg', sel='name \"HG11\" \"HG12\" \"HG13\" \"HG21\" \"HG22\" \"HG23\"')\n"
     ]
    },
    {
     "name": "stdout",
     "output_type": "stream",
     "text": [
      "Checking aromatic insertions...\n",
      "WARNING: removed 0 atoms within 1.5 of a protein aromatic ring\n",
      "Renumbering...\n",
      "Ionizing...\n"
     ]
    },
    {
     "name": "stderr",
     "output_type": "stream",
     "text": [
      "2020-09-09 11:27:57,365 - htmd.builder.charmm - INFO - Writing out segments.\n",
      "2020-09-09 11:28:12,537 - htmd.builder.builder - INFO - 2 disulfide bonds were added\n"
     ]
    },
    {
     "name": "stdout",
     "output_type": "stream",
     "text": [
      "Disulfide Bond between: UniqueResidueID<resname: 'CYS', chain: 'P', resid: 468, insertion: '', segid: 'P1'>\n",
      "                   and: UniqueResidueID<resname: 'CYS', chain: 'P', resid: 471, insertion: '', segid: 'P1'>\n",
      "\n",
      "Disulfide Bond between: UniqueResidueID<resname: 'CYS', chain: 'P', resid: 103, insertion: '', segid: 'P0'>\n",
      "                   and: UniqueResidueID<resname: 'CYS', chain: 'P', resid: 183, insertion: '', segid: 'P0'>\n",
      "\n"
     ]
    },
    {
     "name": "stderr",
     "output_type": "stream",
     "text": [
      "2020-09-09 11:28:13,341 - htmd.builder.charmm - INFO - Starting the build.\n",
      "2020-09-09 11:28:15,063 - htmd.builder.charmm - WARNING - Failed to set coordinates for 2 atoms.\n",
      "2020-09-09 11:28:15,066 - htmd.builder.charmm - WARNING - Poorly guessed coordinates for 189 atoms.\n",
      "2020-09-09 11:28:15,066 - htmd.builder.charmm - WARNING - 2 undefined warnings were produced during building.\n",
      "2020-09-09 11:28:15,067 - htmd.builder.charmm - WARNING - Please check /gpcr/users/daranda/doctorat/GPCR_simulations/simulation_output/ionize/6OL9/log.txt for further information.\n",
      "2020-09-09 11:28:15,068 - htmd.builder.charmm - INFO - Finished building.\n",
      "2020-09-09 11:28:18,281 - htmd.molecule.readers - WARNING - Atoms with names \"HE21\" \"HE22\" were guessed as element H but could also be He (helium). If this is a case, you can correct them with mol.set('element', 'He', sel='name \"HE21\" \"HE22\"')\n",
      "2020-09-09 11:28:18,282 - htmd.molecule.readers - WARNING - Atoms with names \"HG11\" \"HG12\" \"HG13\" \"HG21\" \"HG22\" \"HG23\" were guessed as element H but could also be Hg (mercury). If this is a case, you can correct them with mol.set('element', 'Hg', sel='name \"HG11\" \"HG12\" \"HG13\" \"HG21\" \"HG22\" \"HG23\"')\n",
      "2020-09-09 11:28:24,935 - htmd.builder.ionize - INFO - Adding 20 anions + 0 cations for neutralizing and 100 ions for the given salt concentration.\n",
      "2020-09-09 11:29:48,798 - htmd.builder.charmm - INFO - Writing out segments.\n",
      "2020-09-09 11:30:05,569 - htmd.builder.charmm - INFO - Starting the build.\n",
      "2020-09-09 11:30:07,318 - htmd.builder.charmm - WARNING - Failed to set coordinates for 2 atoms.\n",
      "2020-09-09 11:30:07,320 - htmd.builder.charmm - WARNING - Poorly guessed coordinates for 189 atoms.\n",
      "2020-09-09 11:30:07,321 - htmd.builder.charmm - WARNING - 2 undefined warnings were produced during building.\n",
      "2020-09-09 11:30:07,322 - htmd.builder.charmm - WARNING - Please check /gpcr/users/daranda/doctorat/GPCR_simulations/simulation_output/ionize/6OL9/log.txt for further information.\n",
      "2020-09-09 11:30:07,322 - htmd.builder.charmm - INFO - Finished building.\n",
      "2020-09-09 11:30:10,452 - htmd.molecule.readers - WARNING - Atoms with names \"HE21\" \"HE22\" were guessed as element H but could also be He (helium). If this is a case, you can correct them with mol.set('element', 'He', sel='name \"HE21\" \"HE22\"')\n",
      "2020-09-09 11:30:10,453 - htmd.molecule.readers - WARNING - Atoms with names \"HG11\" \"HG12\" \"HG13\" \"HG21\" \"HG22\" \"HG23\" were guessed as element H but could also be Hg (mercury). If this is a case, you can correct them with mol.set('element', 'Hg', sel='name \"HG11\" \"HG12\" \"HG13\" \"HG21\" \"HG22\" \"HG23\"')\n",
      "2020-09-09 11:30:24,218 - htmd.molecule.readers - WARNING - Atoms with names \"HE21\" \"HE22\" were guessed as element H but could also be He (helium). If this is a case, you can correct them with mol.set('element', 'He', sel='name \"HE21\" \"HE22\"')\n",
      "2020-09-09 11:30:24,219 - htmd.molecule.readers - WARNING - Atoms with names \"HG11\" \"HG12\" \"HG13\" \"HG21\" \"HG22\" \"HG23\" were guessed as element H but could also be Hg (mercury). If this is a case, you can correct them with mol.set('element', 'Hg', sel='name \"HG11\" \"HG12\" \"HG13\" \"HG21\" \"HG22\" \"HG23\"')\n"
     ]
    },
    {
     "name": "stdout",
     "output_type": "stream",
     "text": [
      "Building...\n"
     ]
    },
    {
     "name": "stderr",
     "output_type": "stream",
     "text": [
      "2020-09-09 11:31:27,614 - htmd.builder.charmm - INFO - Writing out segments.\n",
      "2020-09-09 11:31:44,357 - htmd.builder.builder - INFO - 2 disulfide bonds were added\n"
     ]
    },
    {
     "name": "stdout",
     "output_type": "stream",
     "text": [
      "Disulfide Bond between: UniqueResidueID<resname: 'CYS', chain: 'P', resid: 468, insertion: '', segid: 'P1'>\n",
      "                   and: UniqueResidueID<resname: 'CYS', chain: 'P', resid: 471, insertion: '', segid: 'P1'>\n",
      "\n",
      "Disulfide Bond between: UniqueResidueID<resname: 'CYS', chain: 'P', resid: 103, insertion: '', segid: 'P0'>\n",
      "                   and: UniqueResidueID<resname: 'CYS', chain: 'P', resid: 183, insertion: '', segid: 'P0'>\n",
      "\n"
     ]
    },
    {
     "name": "stderr",
     "output_type": "stream",
     "text": [
      "2020-09-09 11:31:45,187 - htmd.builder.charmm - INFO - Starting the build.\n",
      "2020-09-09 11:31:46,989 - htmd.builder.charmm - WARNING - 2 undefined warnings were produced during building.\n",
      "2020-09-09 11:31:46,991 - htmd.builder.charmm - WARNING - Please check /gpcr/users/daranda/doctorat/GPCR_simulations/simulation_output/build/6OL9/log.txt for further information.\n",
      "2020-09-09 11:31:46,992 - htmd.builder.charmm - INFO - Finished building.\n"
     ]
    },
    {
     "name": "stdout",
     "output_type": "stream",
     "text": [
      "End of 6OL9 after 659.5459411144257 seconds\n",
      "\n",
      "\n",
      "start building model for receptor 6TQ4 (44/181)\n",
      "Structure 6TQ4 already has a watered version. Skipping...\n"
     ]
    },
    {
     "name": "stderr",
     "output_type": "stream",
     "text": [
      "2020-09-09 11:32:03,526 - htmd.molecule.molecule - INFO - Removed 133 atoms. 2663 atoms remaining in the molecule.\n",
      "2020-09-09 11:32:03,574 - htmd.molecule.molecule - INFO - Removed 0 atoms. 2663 atoms remaining in the molecule.\n",
      "2020-09-09 11:32:03,914 - htmd.molecule.molecule - INFO - Removed 0 atoms. 2663 atoms remaining in the molecule.\n",
      "2020-09-09 11:32:04,190 - htmd.molecule.molecule - INFO - Removed 0 atoms. 2663 atoms remaining in the molecule.\n",
      "2020-09-09 11:32:04,669 - htmd.builder.builder - INFO - Created segment P0 between resid 41 and 253.\n",
      "2020-09-09 11:32:04,671 - htmd.builder.builder - INFO - Created segment P1 between resid 278 and 383.\n",
      "2020-09-09 11:32:09,923 - htmd.molecule.molecule - INFO - Removed 0 atoms. 2569 atoms remaining in the molecule.\n",
      "2020-09-09 11:32:10,191 - htmd.molecule.molecule - INFO - Removed 0 atoms. 2569 atoms remaining in the molecule.\n",
      "2020-09-09 11:32:10,743 - htmd.builder.builder - INFO - Created segment P0 between resid 25 and 189.\n",
      "2020-09-09 11:32:10,744 - htmd.builder.builder - INFO - Created segment P1 between resid 198 and 243.\n",
      "2020-09-09 11:32:10,745 - htmd.builder.builder - INFO - Created segment P2 between resid 251 and 376.\n",
      "2020-09-09 11:32:11,699 - moleculekit.tools.sequencestructuralalignment - INFO - No segment was specified by the user for `mol` and multiple segments (['P0', 'P1']) were detected. Alignment will be done on all protein segments.\n",
      "2020-09-09 11:32:11,763 - moleculekit.tools.sequencestructuralalignment - INFO - No segment was specified by the user for `ref` and multiple segments (['P0', 'P1', 'P2']) were detected. Alignment will be done on all protein segments.\n",
      "2020-09-09 11:32:12,030 - moleculekit.tools.sequencestructuralalignment - WARNING - 12 alignments found. Limiting to 1 as specified in the `maxalignments` argument.\n",
      "2020-09-09 11:32:12,033 - moleculekit.tools.sequencestructuralalignment - INFO - Alignment #0 was done on 66 residues: mol segid P0 resid 96-161\n",
      "2020-09-09 11:32:16,281 - htmd.builder.preparation - WARNING - The following residue has not been optimized: NV8\n",
      "2020-09-09 11:32:16,282 - htmd.builder.preparation - WARNING - The following residue has not been optimized: NA\n",
      "2020-09-09 11:32:16,283 - htmd.builder.preparation - WARNING - The following residue has not been optimized: TIP\n",
      "2020-09-09 11:32:34,072 - htmd.builder.preparationdata - INFO - The following residues are in a non-standard state: HIS    75  A (HID), HIS    76  A (HID), HIS   116  A (HID), CYS   119  A (CYX), HIS   150  A (HID), CYS   202  A (CYX), HIS   216  A (HIE), HIS   344  P (HIP)\n",
      "2020-09-09 11:32:34,074 - htmd.builder.preparationdata - WARNING - Dubious protonation state: the pKa of 6 residues is within 1.0 units of pH 7.0.\n",
      "2020-09-09 11:32:34,077 - htmd.builder.preparationdata - WARNING - Dubious protonation state:    HIS    76  A (pKa= 6.29)\n",
      "2020-09-09 11:32:34,078 - htmd.builder.preparationdata - WARNING - Dubious protonation state:    HIS   116  A (pKa= 6.11)\n",
      "2020-09-09 11:32:34,079 - htmd.builder.preparationdata - WARNING - Dubious protonation state:    HIS   150  A (pKa= 6.06)\n",
      "2020-09-09 11:32:34,080 - htmd.builder.preparationdata - WARNING - Dubious protonation state:    HIS   344  P (pKa= 7.61)\n",
      "2020-09-09 11:32:34,081 - htmd.builder.preparationdata - WARNING - Dubious protonation state:    N+     41T A (pKa= 7.89)\n",
      "2020-09-09 11:32:34,082 - htmd.builder.preparationdata - WARNING - Dubious protonation state:    N+    278T P (pKa= 7.72)\n",
      "2020-09-09 11:32:34,203 - htmd.builder.preparationdata - WARNING - Predictions for 13 residues may be incorrect because they are exposed to the membrane (-15.9<z<15.90 and buried<75.0%).\n"
     ]
    },
    {
     "name": "stdout",
     "output_type": "stream",
     "text": [
      "Adding membrane...\n"
     ]
    },
    {
     "name": "stderr",
     "output_type": "stream",
     "text": [
      "2020-09-09 11:32:35,725 - htmd.builder.builder - INFO - Replicating Membrane 3x3\n",
      "\n",
      "Replicating Membrane:   0%|          | 0/9 [00:00<?, ?it/s]\u001b[A\n",
      "Replicating Membrane:  11%|█         | 1/9 [00:00<00:04,  1.73it/s]\u001b[A\n",
      "Replicating Membrane:  22%|██▏       | 2/9 [00:01<00:04,  1.66it/s]\u001b[A\n",
      "Replicating Membrane:  33%|███▎      | 3/9 [00:01<00:03,  1.75it/s]\u001b[A\n",
      "Replicating Membrane:  44%|████▍     | 4/9 [00:02<00:03,  1.58it/s]\u001b[A\n",
      "Replicating Membrane:  56%|█████▌    | 5/9 [00:03<00:02,  1.42it/s]\u001b[A\n",
      "Replicating Membrane:  67%|██████▋   | 6/9 [00:04<00:02,  1.43it/s]\u001b[A\n",
      "Replicating Membrane:  78%|███████▊  | 7/9 [00:04<00:01,  1.42it/s]\u001b[A\n",
      "Replicating Membrane:  89%|████████▉ | 8/9 [00:05<00:00,  1.42it/s]\u001b[A\n",
      "Replicating Membrane: 100%|██████████| 9/9 [00:06<00:00,  1.45it/s]\u001b[A\n",
      "2020-09-09 11:36:12,633 - htmd.molecule.molecule - INFO - Removed 2684 atoms. 48822 atoms remaining in the molecule.\n",
      "2020-09-09 11:36:16,183 - htmd.molecule.molecule - INFO - Removed 82 residues from appended Molecule due to collisions.\n"
     ]
    },
    {
     "name": "stdout",
     "output_type": "stream",
     "text": [
      "Solvating...\n",
      "wataerbox Max and min:  [56.7055   56.073925 28.081614] [-49.753498 -50.354076 -27.713387]\n"
     ]
    },
    {
     "name": "stderr",
     "output_type": "stream",
     "text": [
      "2020-09-09 11:36:18,138 - htmd.builder.solvate - INFO - Using water pdb file at: /soft/EB_repo/devel/programs/foss/2016b/Anaconda3/5.0.1/lib/python3.6/site-packages/htmd/builder/wat.pdb\n",
      "2020-09-09 11:36:20,087 - htmd.builder.solvate - INFO - Replicating 8 water segments, 2 by 2 by 2\n",
      "\n",
      "Solvating:   0%|          | 0/8 [00:00<?, ?it/s]\u001b[A\n",
      "Solvating:  12%|█▎        | 1/8 [00:02<00:20,  2.99s/it]\u001b[A\n",
      "Solvating:  25%|██▌       | 2/8 [00:05<00:17,  2.98s/it]\u001b[A\n",
      "Solvating:  38%|███▊      | 3/8 [00:08<00:14,  2.94s/it]\u001b[A\n",
      "Solvating:  50%|█████     | 4/8 [00:11<00:11,  2.89s/it]\u001b[A\n",
      "Solvating:  62%|██████▎   | 5/8 [00:14<00:08,  2.90s/it]\u001b[A\n",
      "Solvating:  75%|███████▌  | 6/8 [00:17<00:05,  2.90s/it]\u001b[A\n",
      "Solvating:  88%|████████▊ | 7/8 [00:20<00:02,  2.90s/it]\u001b[A\n",
      "Solvating: 100%|██████████| 8/8 [00:23<00:00,  2.90s/it]\u001b[A\n",
      "2020-09-09 11:36:48,161 - htmd.builder.solvate - INFO - 19303 water molecules were added to the system.\n",
      "2020-09-09 11:37:12,110 - htmd.molecule.molecule - INFO - Removed 1314 atoms. 103380 atoms remaining in the molecule.\n"
     ]
    },
    {
     "name": "stdout",
     "output_type": "stream",
     "text": [
      "Pre-build...\n"
     ]
    },
    {
     "name": "stderr",
     "output_type": "stream",
     "text": [
      "2020-09-09 11:37:14,748 - htmd.builder.charmm - INFO - Writing out segments.\n",
      "2020-09-09 11:37:32,261 - htmd.molecule.writers - WARNING - Field \"serial\" of PDB overflows. Your data will be truncated to 5 characters.\n",
      "2020-09-09 11:37:33,344 - htmd.molecule.writers - WARNING - Field \"serial\" of PDB overflows. Your data will be truncated to 5 characters.\n",
      "2020-09-09 11:37:33,502 - htmd.builder.builder - INFO - One disulfide bond was added\n"
     ]
    },
    {
     "name": "stdout",
     "output_type": "stream",
     "text": [
      "Disulfide Bond between: UniqueResidueID<resname: 'CYS', chain: 'P', resid: 119, insertion: '', segid: 'P0'>\n",
      "                   and: UniqueResidueID<resname: 'CYS', chain: 'P', resid: 202, insertion: '', segid: 'P0'>\n",
      "\n"
     ]
    },
    {
     "name": "stderr",
     "output_type": "stream",
     "text": [
      "2020-09-09 11:37:34,334 - htmd.builder.charmm - INFO - Starting the build.\n",
      "2020-09-09 11:37:36,418 - htmd.builder.charmm - WARNING - Failed to set coordinates for 2 atoms.\n",
      "2020-09-09 11:37:36,420 - htmd.builder.charmm - WARNING - Poorly guessed coordinates for 252 atoms.\n",
      "2020-09-09 11:37:36,421 - htmd.builder.charmm - WARNING - 2 undefined warnings were produced during building.\n",
      "2020-09-09 11:37:36,421 - htmd.builder.charmm - WARNING - Please check /gpcr/users/daranda/doctorat/GPCR_simulations/simulation_output/pre-build/6TQ4/log.txt for further information.\n",
      "2020-09-09 11:37:36,422 - htmd.builder.charmm - INFO - Finished building.\n",
      "2020-09-09 11:37:40,662 - htmd.molecule.readers - WARNING - Atoms with names \"HE21\" \"HE22\" were guessed as element H but could also be He (helium). If this is a case, you can correct them with mol.set('element', 'He', sel='name \"HE21\" \"HE22\"')\n",
      "2020-09-09 11:37:40,663 - htmd.molecule.readers - WARNING - Atoms with names \"HG11\" \"HG12\" \"HG13\" \"HG21\" \"HG22\" \"HG23\" were guessed as element H but could also be Hg (mercury). If this is a case, you can correct them with mol.set('element', 'Hg', sel='name \"HG11\" \"HG12\" \"HG13\" \"HG21\" \"HG22\" \"HG23\"')\n",
      "2020-09-09 11:37:41,036 - htmd.molecule.readers - WARNING - Non-integer values were read from the PDB \"serial\" field. Dropping PDB values and assigning new ones.\n",
      "2020-09-09 11:37:41,191 - htmd.molecule.readers - WARNING - Reading PDB file with more than 99999 atoms. Bond information can be wrong.\n",
      "2020-09-09 11:37:58,263 - htmd.molecule.readers - WARNING - Atoms with names \"HE21\" \"HE22\" were guessed as element H but could also be He (helium). If this is a case, you can correct them with mol.set('element', 'He', sel='name \"HE21\" \"HE22\"')\n",
      "2020-09-09 11:37:58,264 - htmd.molecule.readers - WARNING - Atoms with names \"HG11\" \"HG12\" \"HG13\" \"HG21\" \"HG22\" \"HG23\" were guessed as element H but could also be Hg (mercury). If this is a case, you can correct them with mol.set('element', 'Hg', sel='name \"HG11\" \"HG12\" \"HG13\" \"HG21\" \"HG22\" \"HG23\"')\n",
      "2020-09-09 11:37:58,622 - htmd.molecule.readers - WARNING - Non-integer values were read from the PDB \"serial\" field. Dropping PDB values and assigning new ones.\n",
      "2020-09-09 11:37:58,779 - htmd.molecule.readers - WARNING - Reading PDB file with more than 99999 atoms. Bond information can be wrong.\n"
     ]
    },
    {
     "name": "stdout",
     "output_type": "stream",
     "text": [
      "Checking aromatic insertions...\n"
     ]
    },
    {
     "name": "stderr",
     "output_type": "stream",
     "text": [
      "2020-09-09 11:39:16,266 - htmd.molecule.writers - WARNING - Field \"serial\" of PDB overflows. Your data will be truncated to 5 characters.\n"
     ]
    },
    {
     "name": "stdout",
     "output_type": "stream",
     "text": [
      "WARNING: removed 0 atoms within 1.5 of a protein aromatic ring\n",
      "Renumbering...\n"
     ]
    },
    {
     "name": "stderr",
     "output_type": "stream",
     "text": [
      "2020-09-09 11:41:17,937 - htmd.molecule.writers - WARNING - Field \"serial\" of PDB overflows. Your data will be truncated to 5 characters.\n",
      "2020-09-09 11:41:42,038 - htmd.molecule.readers - WARNING - Non-integer values were read from the PDB \"serial\" field. Dropping PDB values and assigning new ones.\n",
      "2020-09-09 11:41:42,193 - htmd.molecule.readers - WARNING - Reading PDB file with more than 99999 atoms. Bond information can be wrong.\n"
     ]
    },
    {
     "name": "stdout",
     "output_type": "stream",
     "text": [
      "Ionizing...\n"
     ]
    },
    {
     "name": "stderr",
     "output_type": "stream",
     "text": [
      "2020-09-09 11:41:46,115 - htmd.builder.charmm - INFO - Writing out segments.\n",
      "2020-09-09 11:42:04,590 - htmd.molecule.writers - WARNING - Field \"serial\" of PDB overflows. Your data will be truncated to 5 characters.\n",
      "2020-09-09 11:42:05,744 - htmd.molecule.writers - WARNING - Field \"serial\" of PDB overflows. Your data will be truncated to 5 characters.\n",
      "2020-09-09 11:42:05,901 - htmd.builder.builder - INFO - One disulfide bond was added\n"
     ]
    },
    {
     "name": "stdout",
     "output_type": "stream",
     "text": [
      "Disulfide Bond between: UniqueResidueID<resname: 'CYS', chain: 'P', resid: 119, insertion: '', segid: 'P0'>\n",
      "                   and: UniqueResidueID<resname: 'CYS', chain: 'P', resid: 202, insertion: '', segid: 'P0'>\n",
      "\n"
     ]
    },
    {
     "name": "stderr",
     "output_type": "stream",
     "text": [
      "2020-09-09 11:42:06,710 - htmd.builder.charmm - INFO - Starting the build.\n",
      "2020-09-09 11:42:08,818 - htmd.builder.charmm - WARNING - Failed to set coordinates for 2 atoms.\n",
      "2020-09-09 11:42:08,820 - htmd.builder.charmm - WARNING - Poorly guessed coordinates for 252 atoms.\n",
      "2020-09-09 11:42:08,820 - htmd.builder.charmm - WARNING - 2 undefined warnings were produced during building.\n",
      "2020-09-09 11:42:08,823 - htmd.builder.charmm - WARNING - Please check /gpcr/users/daranda/doctorat/GPCR_simulations/simulation_output/ionize/6TQ4/log.txt for further information.\n",
      "2020-09-09 11:42:08,825 - htmd.builder.charmm - INFO - Finished building.\n",
      "2020-09-09 11:42:12,987 - htmd.molecule.readers - WARNING - Atoms with names \"HE21\" \"HE22\" were guessed as element H but could also be He (helium). If this is a case, you can correct them with mol.set('element', 'He', sel='name \"HE21\" \"HE22\"')\n",
      "2020-09-09 11:42:12,988 - htmd.molecule.readers - WARNING - Atoms with names \"HG11\" \"HG12\" \"HG13\" \"HG21\" \"HG22\" \"HG23\" were guessed as element H but could also be Hg (mercury). If this is a case, you can correct them with mol.set('element', 'Hg', sel='name \"HG11\" \"HG12\" \"HG13\" \"HG21\" \"HG22\" \"HG23\"')\n",
      "2020-09-09 11:42:13,399 - htmd.molecule.readers - WARNING - Non-integer values were read from the PDB \"serial\" field. Dropping PDB values and assigning new ones.\n",
      "2020-09-09 11:42:13,563 - htmd.molecule.readers - WARNING - Reading PDB file with more than 99999 atoms. Bond information can be wrong.\n",
      "2020-09-09 11:42:21,209 - htmd.builder.ionize - INFO - Adding 17 anions + 0 cations for neutralizing and 132 ions for the given salt concentration.\n",
      "2020-09-09 11:44:32,722 - htmd.builder.charmm - INFO - Writing out segments.\n",
      "2020-09-09 11:44:51,853 - htmd.molecule.writers - WARNING - Field \"serial\" of PDB overflows. Your data will be truncated to 5 characters.\n",
      "2020-09-09 11:44:52,838 - htmd.molecule.writers - WARNING - Field \"serial\" of PDB overflows. Your data will be truncated to 5 characters.\n",
      "2020-09-09 11:44:53,663 - htmd.builder.charmm - INFO - Starting the build.\n",
      "2020-09-09 11:44:55,779 - htmd.builder.charmm - WARNING - Failed to set coordinates for 2 atoms.\n",
      "2020-09-09 11:44:55,781 - htmd.builder.charmm - WARNING - Poorly guessed coordinates for 252 atoms.\n",
      "2020-09-09 11:44:55,782 - htmd.builder.charmm - WARNING - 2 undefined warnings were produced during building.\n",
      "2020-09-09 11:44:55,782 - htmd.builder.charmm - WARNING - Please check /gpcr/users/daranda/doctorat/GPCR_simulations/simulation_output/ionize/6TQ4/log.txt for further information.\n",
      "2020-09-09 11:44:55,783 - htmd.builder.charmm - INFO - Finished building.\n",
      "2020-09-09 11:44:59,843 - htmd.molecule.readers - WARNING - Atoms with names \"HE21\" \"HE22\" were guessed as element H but could also be He (helium). If this is a case, you can correct them with mol.set('element', 'He', sel='name \"HE21\" \"HE22\"')\n",
      "2020-09-09 11:44:59,844 - htmd.molecule.readers - WARNING - Atoms with names \"HG11\" \"HG12\" \"HG13\" \"HG21\" \"HG22\" \"HG23\" were guessed as element H but could also be Hg (mercury). If this is a case, you can correct them with mol.set('element', 'Hg', sel='name \"HG11\" \"HG12\" \"HG13\" \"HG21\" \"HG22\" \"HG23\"')\n",
      "2020-09-09 11:45:00,228 - htmd.molecule.readers - WARNING - Non-integer values were read from the PDB \"serial\" field. Dropping PDB values and assigning new ones.\n",
      "2020-09-09 11:45:00,382 - htmd.molecule.readers - WARNING - Reading PDB file with more than 99999 atoms. Bond information can be wrong.\n",
      "2020-09-09 11:45:17,586 - htmd.molecule.readers - WARNING - Atoms with names \"HE21\" \"HE22\" were guessed as element H but could also be He (helium). If this is a case, you can correct them with mol.set('element', 'He', sel='name \"HE21\" \"HE22\"')\n",
      "2020-09-09 11:45:17,587 - htmd.molecule.readers - WARNING - Atoms with names \"HG11\" \"HG12\" \"HG13\" \"HG21\" \"HG22\" \"HG23\" were guessed as element H but could also be Hg (mercury). If this is a case, you can correct them with mol.set('element', 'Hg', sel='name \"HG11\" \"HG12\" \"HG13\" \"HG21\" \"HG22\" \"HG23\"')\n",
      "2020-09-09 11:45:17,962 - htmd.molecule.readers - WARNING - Non-integer values were read from the PDB \"serial\" field. Dropping PDB values and assigning new ones.\n",
      "2020-09-09 11:45:18,137 - htmd.molecule.readers - WARNING - Reading PDB file with more than 99999 atoms. Bond information can be wrong.\n"
     ]
    },
    {
     "name": "stdout",
     "output_type": "stream",
     "text": [
      "Building...\n"
     ]
    },
    {
     "name": "stderr",
     "output_type": "stream",
     "text": [
      "2020-09-09 11:45:26,347 - htmd.molecule.writers - WARNING - Field \"serial\" of PDB overflows. Your data will be truncated to 5 characters.\n",
      "2020-09-09 11:46:43,527 - htmd.molecule.readers - WARNING - Non-integer values were read from the PDB \"serial\" field. Dropping PDB values and assigning new ones.\n",
      "2020-09-09 11:46:43,692 - htmd.molecule.readers - WARNING - Reading PDB file with more than 99999 atoms. Bond information can be wrong.\n",
      "2020-09-09 11:46:47,646 - htmd.builder.charmm - INFO - Writing out segments.\n",
      "2020-09-09 11:47:05,835 - htmd.molecule.writers - WARNING - Field \"serial\" of PDB overflows. Your data will be truncated to 5 characters.\n",
      "2020-09-09 11:47:06,950 - htmd.molecule.writers - WARNING - Field \"serial\" of PDB overflows. Your data will be truncated to 5 characters.\n",
      "2020-09-09 11:47:08,002 - htmd.molecule.writers - WARNING - Field \"serial\" of PDB overflows. Your data will be truncated to 5 characters.\n",
      "2020-09-09 11:47:08,053 - htmd.builder.builder - INFO - One disulfide bond was added\n"
     ]
    },
    {
     "name": "stdout",
     "output_type": "stream",
     "text": [
      "Disulfide Bond between: UniqueResidueID<resname: 'CYS', chain: 'P', resid: 119, insertion: '', segid: 'P0'>\n",
      "                   and: UniqueResidueID<resname: 'CYS', chain: 'P', resid: 202, insertion: '', segid: 'P0'>\n",
      "\n"
     ]
    },
    {
     "name": "stderr",
     "output_type": "stream",
     "text": [
      "2020-09-09 11:47:08,866 - htmd.builder.charmm - INFO - Starting the build.\n",
      "2020-09-09 11:47:10,959 - htmd.builder.charmm - WARNING - 2 undefined warnings were produced during building.\n",
      "2020-09-09 11:47:10,960 - htmd.builder.charmm - WARNING - Please check /gpcr/users/daranda/doctorat/GPCR_simulations/simulation_output/build/6TQ4/log.txt for further information.\n",
      "2020-09-09 11:47:10,961 - htmd.builder.charmm - INFO - Finished building.\n",
      "2020-09-09 11:47:14,782 - htmd.molecule.readers - WARNING - Non-integer values were read from the PDB \"serial\" field. Dropping PDB values and assigning new ones.\n",
      "2020-09-09 11:47:14,952 - htmd.molecule.readers - WARNING - Reading PDB file with more than 99999 atoms. Bond information can be wrong.\n"
     ]
    },
    {
     "name": "stdout",
     "output_type": "stream",
     "text": [
      "End of 6TQ4 after 927.7222092151642 seconds\n",
      "\n",
      "\n",
      "start building model for receptor 5OLG (45/181)\n",
      "\n",
      "start building model for receptor 6TOD (46/181)\n",
      "Structure 6TOD already has a watered version. Skipping...\n"
     ]
    },
    {
     "name": "stderr",
     "output_type": "stream",
     "text": [
      "2020-09-09 11:47:31,299 - htmd.molecule.molecule - INFO - Removed 405 atoms. 2667 atoms remaining in the molecule.\n",
      "2020-09-09 11:47:31,348 - htmd.molecule.molecule - INFO - Removed 0 atoms. 2667 atoms remaining in the molecule.\n",
      "2020-09-09 11:47:31,682 - htmd.molecule.molecule - INFO - Removed 0 atoms. 2667 atoms remaining in the molecule.\n",
      "2020-09-09 11:47:31,952 - htmd.molecule.molecule - INFO - Removed 0 atoms. 2667 atoms remaining in the molecule.\n",
      "2020-09-09 11:47:32,426 - htmd.builder.builder - INFO - Created segment P0 between resid 41 and 253.\n",
      "2020-09-09 11:47:32,427 - htmd.builder.builder - INFO - Created segment P1 between resid 278 and 383.\n",
      "2020-09-09 11:47:37,807 - htmd.molecule.molecule - INFO - Removed 0 atoms. 2919 atoms remaining in the molecule.\n",
      "2020-09-09 11:47:38,105 - htmd.molecule.molecule - INFO - Removed 0 atoms. 2919 atoms remaining in the molecule.\n",
      "2020-09-09 11:47:38,618 - htmd.builder.builder - INFO - Created segment P0 between resid 45 and 252.\n",
      "2020-09-09 11:47:38,619 - htmd.builder.builder - INFO - Created segment P1 between resid 286 and 378.\n",
      "2020-09-09 11:47:45,169 - moleculekit.tools.sequencestructuralalignment - INFO - No segment was specified by the user for `mol` and multiple segments (['P0', 'P1']) were detected. Alignment will be done on all protein segments.\n",
      "2020-09-09 11:47:45,234 - moleculekit.tools.sequencestructuralalignment - INFO - No segment was specified by the user for `ref` and multiple segments (['P0', 'P1']) were detected. Alignment will be done on all protein segments.\n",
      "2020-09-09 11:47:45,511 - moleculekit.tools.sequencestructuralalignment - WARNING - 16 alignments found. Limiting to 1 as specified in the `maxalignments` argument.\n",
      "2020-09-09 11:47:45,514 - moleculekit.tools.sequencestructuralalignment - INFO - Alignment #0 was done on 52 residues: mol segid P1 resid 286-337\n",
      "2020-09-09 11:47:49,661 - htmd.builder.preparation - WARNING - The following residue has not been optimized: 7MA\n",
      "2020-09-09 11:47:49,662 - htmd.builder.preparation - WARNING - The following residue has not been optimized: NA\n",
      "2020-09-09 11:47:49,663 - htmd.builder.preparation - WARNING - The following residue has not been optimized: TIP\n",
      "2020-09-09 11:48:07,491 - htmd.builder.preparationdata - INFO - The following residues are in a non-standard state: HIS    75  A (HID), HIS    76  A (HID), HIS   116  A (HID), CYS   119  A (CYX), HIS   150  A (HID), CYS   202  A (CYX), HIS   216  A (HIE), HIS   344  P (HIP)\n",
      "2020-09-09 11:48:07,494 - htmd.builder.preparationdata - WARNING - Dubious protonation state: the pKa of 5 residues is within 1.0 units of pH 7.0.\n",
      "2020-09-09 11:48:07,496 - htmd.builder.preparationdata - WARNING - Dubious protonation state:    HIS    75  A (pKa= 6.14)\n",
      "2020-09-09 11:48:07,497 - htmd.builder.preparationdata - WARNING - Dubious protonation state:    HIS   116  A (pKa= 6.57)\n",
      "2020-09-09 11:48:07,498 - htmd.builder.preparationdata - WARNING - Dubious protonation state:    HIS   344  P (pKa= 7.23)\n",
      "2020-09-09 11:48:07,500 - htmd.builder.preparationdata - WARNING - Dubious protonation state:    N+     41T A (pKa= 7.90)\n",
      "2020-09-09 11:48:07,501 - htmd.builder.preparationdata - WARNING - Dubious protonation state:    N+    278T P (pKa= 7.81)\n",
      "2020-09-09 11:48:07,622 - htmd.builder.preparationdata - WARNING - Predictions for 10 residues may be incorrect because they are exposed to the membrane (-16.5<z<16.50 and buried<75.0%).\n"
     ]
    },
    {
     "name": "stdout",
     "output_type": "stream",
     "text": [
      "Adding membrane...\n"
     ]
    },
    {
     "name": "stderr",
     "output_type": "stream",
     "text": [
      "2020-09-09 11:48:09,311 - htmd.builder.builder - INFO - Replicating Membrane 3x3\n",
      "\n",
      "Replicating Membrane:   0%|          | 0/9 [00:00<?, ?it/s]\u001b[A\n",
      "Replicating Membrane:  11%|█         | 1/9 [00:00<00:04,  1.66it/s]\u001b[A\n",
      "Replicating Membrane:  22%|██▏       | 2/9 [00:01<00:04,  1.58it/s]\u001b[A\n",
      "Replicating Membrane:  33%|███▎      | 3/9 [00:01<00:03,  1.73it/s]\u001b[A\n",
      "Replicating Membrane:  44%|████▍     | 4/9 [00:02<00:03,  1.58it/s]\u001b[A\n",
      "Replicating Membrane:  56%|█████▌    | 5/9 [00:03<00:02,  1.42it/s]\u001b[A\n",
      "Replicating Membrane:  67%|██████▋   | 6/9 [00:04<00:02,  1.25it/s]\u001b[A\n",
      "2020-09-09 11:50:02,198 - htmd.molecule.molecule - INFO - Removed 3251 atoms. 40189 atoms remaining in the molecule.\n",
      "2020-09-09 11:50:05,196 - htmd.molecule.molecule - INFO - Removed 64 residues from appended Molecule due to collisions.\n"
     ]
    },
    {
     "name": "stdout",
     "output_type": "stream",
     "text": [
      "Solvating...\n",
      "wataerbox Max and min:  [48.48991  50.50042  28.174822] [-46.14409  -46.310577 -27.620178]\n"
     ]
    },
    {
     "name": "stderr",
     "output_type": "stream",
     "text": [
      "2020-09-09 11:50:06,780 - htmd.builder.solvate - INFO - Using water pdb file at: /soft/EB_repo/devel/programs/foss/2016b/Anaconda3/5.0.1/lib/python3.6/site-packages/htmd/builder/wat.pdb\n",
      "2020-09-09 11:50:08,589 - htmd.builder.solvate - INFO - Replicating 8 water segments, 2 by 2 by 2\n",
      "\n",
      "Solvating:   0%|          | 0/8 [00:00<?, ?it/s]\u001b[A\n",
      "Solvating:  12%|█▎        | 1/8 [00:02<00:18,  2.62s/it]\u001b[A\n",
      "Solvating:  25%|██▌       | 2/8 [00:05<00:15,  2.56s/it]\u001b[A\n",
      "Solvating:  38%|███▊      | 3/8 [00:07<00:12,  2.58s/it]\u001b[A\n",
      "Solvating:  50%|█████     | 4/8 [00:10<00:10,  2.59s/it]\u001b[A\n",
      "Solvating:  62%|██████▎   | 5/8 [00:12<00:07,  2.61s/it]\u001b[A\n",
      "Solvating:  75%|███████▌  | 6/8 [00:15<00:05,  2.61s/it]\u001b[A\n",
      "Solvating:  88%|████████▊ | 7/8 [00:18<00:02,  2.62s/it]\u001b[A\n",
      "Solvating: 100%|██████████| 8/8 [00:20<00:00,  2.60s/it]\u001b[A\n",
      "2020-09-09 11:50:33,726 - htmd.builder.solvate - INFO - 13892 water molecules were added to the system.\n",
      "2020-09-09 11:50:49,798 - htmd.molecule.molecule - INFO - Removed 1209 atoms. 79463 atoms remaining in the molecule.\n"
     ]
    },
    {
     "name": "stdout",
     "output_type": "stream",
     "text": [
      "Pre-build...\n"
     ]
    },
    {
     "name": "stderr",
     "output_type": "stream",
     "text": [
      "2020-09-09 11:50:51,850 - htmd.builder.charmm - INFO - Writing out segments.\n",
      "2020-09-09 11:51:06,183 - htmd.builder.builder - INFO - One disulfide bond was added\n"
     ]
    },
    {
     "name": "stdout",
     "output_type": "stream",
     "text": [
      "Disulfide Bond between: UniqueResidueID<resname: 'CYS', chain: 'P', resid: 119, insertion: '', segid: 'P0'>\n",
      "                   and: UniqueResidueID<resname: 'CYS', chain: 'P', resid: 202, insertion: '', segid: 'P0'>\n",
      "\n"
     ]
    },
    {
     "name": "stderr",
     "output_type": "stream",
     "text": [
      "2020-09-09 11:51:07,044 - htmd.builder.charmm - INFO - Starting the build.\n",
      "2020-09-09 11:51:08,780 - htmd.builder.charmm - WARNING - Failed to set coordinates for 2 atoms.\n",
      "2020-09-09 11:51:08,782 - htmd.builder.charmm - WARNING - Failed to guess coordinates for 1 atoms due to bad angles.\n",
      "2020-09-09 11:51:08,783 - htmd.builder.charmm - WARNING - Poorly guessed coordinates for 255 atoms.\n",
      "2020-09-09 11:51:08,783 - htmd.builder.charmm - WARNING - 2 undefined warnings were produced during building.\n",
      "2020-09-09 11:51:08,784 - htmd.builder.charmm - WARNING - Please check /gpcr/users/daranda/doctorat/GPCR_simulations/simulation_output/pre-build/6TOD/log.txt for further information.\n",
      "2020-09-09 11:51:08,785 - htmd.builder.charmm - INFO - Finished building.\n",
      "2020-09-09 11:51:12,025 - htmd.molecule.readers - WARNING - Atoms with names \"HE21\" \"HE22\" were guessed as element H but could also be He (helium). If this is a case, you can correct them with mol.set('element', 'He', sel='name \"HE21\" \"HE22\"')\n",
      "2020-09-09 11:51:12,026 - htmd.molecule.readers - WARNING - Atoms with names \"HG11\" \"HG12\" \"HG13\" \"HG21\" \"HG22\" \"HG23\" were guessed as element H but could also be Hg (mercury). If this is a case, you can correct them with mol.set('element', 'Hg', sel='name \"HG11\" \"HG12\" \"HG13\" \"HG21\" \"HG22\" \"HG23\"')\n",
      "2020-09-09 11:51:25,549 - htmd.molecule.readers - WARNING - Atoms with names \"HE21\" \"HE22\" were guessed as element H but could also be He (helium). If this is a case, you can correct them with mol.set('element', 'He', sel='name \"HE21\" \"HE22\"')\n",
      "2020-09-09 11:51:25,550 - htmd.molecule.readers - WARNING - Atoms with names \"HG11\" \"HG12\" \"HG13\" \"HG21\" \"HG22\" \"HG23\" were guessed as element H but could also be Hg (mercury). If this is a case, you can correct them with mol.set('element', 'Hg', sel='name \"HG11\" \"HG12\" \"HG13\" \"HG21\" \"HG22\" \"HG23\"')\n"
     ]
    },
    {
     "name": "stdout",
     "output_type": "stream",
     "text": [
      "Checking aromatic insertions...\n"
     ]
    },
    {
     "name": "stderr",
     "output_type": "stream",
     "text": [
      "2020-09-09 11:53:54,336 - htmd.molecule.molecule - INFO - Removed 3 atoms. 79530 atoms remaining in the molecule.\n"
     ]
    },
    {
     "name": "stdout",
     "output_type": "stream",
     "text": [
      "WARNING: removed 3 atoms within 1.5 of a protein aromatic ring\n",
      "Renumbering...\n",
      "Ionizing...\n"
     ]
    },
    {
     "name": "stderr",
     "output_type": "stream",
     "text": [
      "2020-09-09 11:54:18,763 - htmd.builder.charmm - INFO - Writing out segments.\n",
      "2020-09-09 11:54:33,425 - htmd.builder.builder - INFO - One disulfide bond was added\n"
     ]
    },
    {
     "name": "stdout",
     "output_type": "stream",
     "text": [
      "Disulfide Bond between: UniqueResidueID<resname: 'CYS', chain: 'P', resid: 119, insertion: '', segid: 'P0'>\n",
      "                   and: UniqueResidueID<resname: 'CYS', chain: 'P', resid: 202, insertion: '', segid: 'P0'>\n",
      "\n"
     ]
    },
    {
     "name": "stderr",
     "output_type": "stream",
     "text": [
      "2020-09-09 11:54:34,242 - htmd.builder.charmm - INFO - Starting the build.\n",
      "2020-09-09 11:54:35,936 - htmd.builder.charmm - WARNING - Failed to set coordinates for 2 atoms.\n",
      "2020-09-09 11:54:35,938 - htmd.builder.charmm - WARNING - Failed to guess coordinates for 1 atoms due to bad angles.\n",
      "2020-09-09 11:54:35,939 - htmd.builder.charmm - WARNING - Poorly guessed coordinates for 255 atoms.\n",
      "2020-09-09 11:54:35,939 - htmd.builder.charmm - WARNING - 2 undefined warnings were produced during building.\n",
      "2020-09-09 11:54:35,940 - htmd.builder.charmm - WARNING - Please check /gpcr/users/daranda/doctorat/GPCR_simulations/simulation_output/ionize/6TOD/log.txt for further information.\n",
      "2020-09-09 11:54:35,940 - htmd.builder.charmm - INFO - Finished building.\n",
      "2020-09-09 11:54:38,946 - htmd.molecule.readers - WARNING - Atoms with names \"HE21\" \"HE22\" were guessed as element H but could also be He (helium). If this is a case, you can correct them with mol.set('element', 'He', sel='name \"HE21\" \"HE22\"')\n",
      "2020-09-09 11:54:38,947 - htmd.molecule.readers - WARNING - Atoms with names \"HG11\" \"HG12\" \"HG13\" \"HG21\" \"HG22\" \"HG23\" were guessed as element H but could also be Hg (mercury). If this is a case, you can correct them with mol.set('element', 'Hg', sel='name \"HG11\" \"HG12\" \"HG13\" \"HG21\" \"HG22\" \"HG23\"')\n",
      "2020-09-09 11:54:45,341 - htmd.builder.ionize - INFO - Adding 17 anions + 0 cations for neutralizing and 96 ions for the given salt concentration.\n",
      "2020-09-09 11:55:59,386 - htmd.builder.charmm - INFO - Writing out segments.\n",
      "2020-09-09 11:56:15,182 - htmd.builder.charmm - INFO - Starting the build.\n",
      "2020-09-09 11:56:16,903 - htmd.builder.charmm - WARNING - Failed to set coordinates for 2 atoms.\n",
      "2020-09-09 11:56:16,904 - htmd.builder.charmm - WARNING - Failed to guess coordinates for 1 atoms due to bad angles.\n",
      "2020-09-09 11:56:16,905 - htmd.builder.charmm - WARNING - Poorly guessed coordinates for 255 atoms.\n",
      "2020-09-09 11:56:16,906 - htmd.builder.charmm - WARNING - 2 undefined warnings were produced during building.\n",
      "2020-09-09 11:56:17,026 - htmd.builder.charmm - WARNING - Please check /gpcr/users/daranda/doctorat/GPCR_simulations/simulation_output/ionize/6TOD/log.txt for further information.\n",
      "2020-09-09 11:56:17,026 - htmd.builder.charmm - INFO - Finished building.\n",
      "2020-09-09 11:56:20,095 - htmd.molecule.readers - WARNING - Atoms with names \"HE21\" \"HE22\" were guessed as element H but could also be He (helium). If this is a case, you can correct them with mol.set('element', 'He', sel='name \"HE21\" \"HE22\"')\n",
      "2020-09-09 11:56:20,096 - htmd.molecule.readers - WARNING - Atoms with names \"HG11\" \"HG12\" \"HG13\" \"HG21\" \"HG22\" \"HG23\" were guessed as element H but could also be Hg (mercury). If this is a case, you can correct them with mol.set('element', 'Hg', sel='name \"HG11\" \"HG12\" \"HG13\" \"HG21\" \"HG22\" \"HG23\"')\n",
      "2020-09-09 11:56:34,012 - htmd.molecule.readers - WARNING - Atoms with names \"HE21\" \"HE22\" were guessed as element H but could also be He (helium). If this is a case, you can correct them with mol.set('element', 'He', sel='name \"HE21\" \"HE22\"')\n",
      "2020-09-09 11:56:34,013 - htmd.molecule.readers - WARNING - Atoms with names \"HG11\" \"HG12\" \"HG13\" \"HG21\" \"HG22\" \"HG23\" were guessed as element H but could also be Hg (mercury). If this is a case, you can correct them with mol.set('element', 'Hg', sel='name \"HG11\" \"HG12\" \"HG13\" \"HG21\" \"HG22\" \"HG23\"')\n"
     ]
    },
    {
     "name": "stdout",
     "output_type": "stream",
     "text": [
      "Building...\n"
     ]
    },
    {
     "name": "stderr",
     "output_type": "stream",
     "text": [
      "2020-09-09 11:57:32,129 - htmd.builder.charmm - INFO - Writing out segments.\n",
      "2020-09-09 11:57:47,851 - htmd.builder.builder - INFO - One disulfide bond was added\n"
     ]
    },
    {
     "name": "stdout",
     "output_type": "stream",
     "text": [
      "Disulfide Bond between: UniqueResidueID<resname: 'CYS', chain: 'P', resid: 119, insertion: '', segid: 'P0'>\n",
      "                   and: UniqueResidueID<resname: 'CYS', chain: 'P', resid: 202, insertion: '', segid: 'P0'>\n",
      "\n"
     ]
    },
    {
     "name": "stderr",
     "output_type": "stream",
     "text": [
      "2020-09-09 11:57:48,666 - htmd.builder.charmm - INFO - Starting the build.\n",
      "2020-09-09 11:57:50,374 - htmd.builder.charmm - WARNING - 2 undefined warnings were produced during building.\n",
      "2020-09-09 11:57:50,376 - htmd.builder.charmm - WARNING - Please check /gpcr/users/daranda/doctorat/GPCR_simulations/simulation_output/build/6TOD/log.txt for further information.\n",
      "2020-09-09 11:57:50,377 - htmd.builder.charmm - INFO - Finished building.\n"
     ]
    },
    {
     "name": "stdout",
     "output_type": "stream",
     "text": [
      "End of 6TOD after 635.028582572937 seconds\n",
      "\n",
      "\n",
      "start building model for receptor 5NDZ (47/181)\n",
      "\n",
      "start building model for receptor 6LRY (48/181)\n",
      "Structure 6LRY already has a watered version. Skipping...\n"
     ]
    },
    {
     "name": "stderr",
     "output_type": "stream",
     "text": [
      "2020-09-09 11:58:05,826 - htmd.molecule.molecule - INFO - Removed 0 atoms. 2674 atoms remaining in the molecule.\n",
      "2020-09-09 11:58:05,871 - htmd.molecule.molecule - INFO - Removed 0 atoms. 2674 atoms remaining in the molecule.\n",
      "2020-09-09 11:58:06,177 - htmd.molecule.molecule - INFO - Removed 0 atoms. 2674 atoms remaining in the molecule.\n",
      "2020-09-09 11:58:06,423 - htmd.molecule.molecule - INFO - Removed 0 atoms. 2674 atoms remaining in the molecule.\n",
      "2020-09-09 11:58:11,522 - htmd.molecule.molecule - INFO - Removed 0 atoms. 3847 atoms remaining in the molecule.\n",
      "2020-09-09 11:58:11,895 - htmd.molecule.molecule - INFO - Removed 0 atoms. 3847 atoms remaining in the molecule.\n",
      "2020-09-09 11:58:12,727 - htmd.builder.builder - INFO - Created segment P0 between resid 86 and 210.\n",
      "2020-09-09 11:58:12,728 - htmd.builder.builder - INFO - Created segment P1 between resid 214 and 403.\n",
      "2020-09-09 11:58:12,729 - htmd.builder.builder - INFO - Created segment P2 between resid 1 and 18.\n",
      "2020-09-09 11:58:13,478 - moleculekit.tools.sequencestructuralalignment - INFO - No segment was specified by the user for `mol`. Alignment will be done on all protein segments.\n",
      "2020-09-09 11:58:13,539 - moleculekit.tools.sequencestructuralalignment - INFO - No segment was specified by the user for `ref` and multiple segments (['P0', 'P1', 'P2']) were detected. Alignment will be done on all protein segments.\n",
      "2020-09-09 11:58:14,267 - moleculekit.tools.sequencestructuralalignment - WARNING - 2 alignments found. Limiting to 1 as specified in the `maxalignments` argument.\n",
      "2020-09-09 11:58:14,271 - moleculekit.tools.sequencestructuralalignment - INFO - Alignment #0 was done on 70 residues: mol segid P0 resid 311-380\n",
      "2020-09-09 11:58:16,496 - htmd.molecule.molecule - INFO - Removed 8 atoms. 2666 atoms remaining in the molecule.\n",
      "2020-09-09 11:58:16,541 - htmd.molecule.molecule - INFO - Removed 2344 atoms. 322 atoms remaining in the molecule.\n",
      "2020-09-09 11:58:16,542 - htmd.builder.preparation - WARNING - The holdSelection option is untested and deprecated. Please use reprepare()\n",
      "2020-09-09 11:58:19,808 - htmd.builder.preparation - WARNING - The following residue has not been optimized: TIP\n",
      "2020-09-09 11:58:37,227 - htmd.builder.preparationdata - INFO - The following residues are in a non-standard state: GLU    95  P (GLH), GLU    98  P (GLH), ASP   147  P (ASH), HIS   150  P (HIP), ASP   154  P (ASH), GLU   165  P (GLH), ASP   166  P (ASH), GLU   172  P (GLH), CYS   174  P (CYX), ASP   198  P (ASH), GLU   221  P (GLH), GLU   236  P (GLH), ASP   241  P (ASH), ASP   246  P (ASH), CYS   255  P (CYX), HIS   258  P (HIP), ASP   274  P (ASH), GLU   299  P (GLH), ASP   313  P (ASH), HIS   314  P (HIP), GLU   320  P (GLH), HIS   340  P (HIP), ASP   354  P (ASH), GLU   359  P (GLH), ASP   368  P (ASH)\n",
      "2020-09-09 11:58:40,289 - htmd.builder.preparation - WARNING - The following residue has not been optimized: TIP\n",
      "2020-09-09 11:58:50,435 - htmd.builder.preparationdata - INFO - The following residues are in a non-standard state: LYS   182  P (LYN), LYS   273  P (LYN)\n",
      "2020-09-09 11:58:50,437 - htmd.builder.preparationdata - WARNING - Dubious protonation state: the pKa of 2 residues is within 1.0 units of pH 7.0.\n",
      "2020-09-09 11:58:50,439 - htmd.builder.preparationdata - WARNING - Dubious protonation state:    LYS   182  P (pKa= 6.80)\n",
      "2020-09-09 11:58:50,440 - htmd.builder.preparationdata - WARNING - Dubious protonation state:    N+     86T P (pKa= 7.83)\n",
      "2020-09-09 11:58:50,549 - htmd.builder.preparationdata - WARNING - Predictions for 10 residues may be incorrect because they are exposed to the membrane (-16.3<z<16.30 and buried<75.0%).\n"
     ]
    },
    {
     "name": "stdout",
     "output_type": "stream",
     "text": [
      "Adding membrane...\n"
     ]
    },
    {
     "name": "stderr",
     "output_type": "stream",
     "text": [
      "2020-09-09 11:58:52,025 - htmd.builder.builder - INFO - Replicating Membrane 3x3\n",
      "\n",
      "Replicating Membrane:   0%|          | 0/9 [00:00<?, ?it/s]\u001b[A\n",
      "Replicating Membrane:  11%|█         | 1/9 [00:00<00:04,  1.75it/s]\u001b[A\n",
      "Replicating Membrane:  22%|██▏       | 2/9 [00:01<00:04,  1.67it/s]\u001b[A\n",
      "Replicating Membrane:  33%|███▎      | 3/9 [00:01<00:03,  1.82it/s]\u001b[A\n",
      "Replicating Membrane:  44%|████▍     | 4/9 [00:02<00:02,  1.68it/s]\u001b[A\n",
      "Replicating Membrane:  56%|█████▌    | 5/9 [00:03<00:02,  1.56it/s]\u001b[A\n",
      "Replicating Membrane:  67%|██████▋   | 6/9 [00:04<00:02,  1.33it/s]\u001b[A\n",
      "2020-09-09 12:00:41,839 - htmd.molecule.molecule - INFO - Removed 2485 atoms. 40769 atoms remaining in the molecule.\n",
      "2020-09-09 12:00:44,852 - htmd.molecule.molecule - INFO - Removed 82 residues from appended Molecule due to collisions.\n"
     ]
    },
    {
     "name": "stdout",
     "output_type": "stream",
     "text": [
      "Solvating...\n",
      "wataerbox Max and min:  [48.489853 49.462402 28.174822] [-46.14415  -46.310593 -27.620178]\n"
     ]
    },
    {
     "name": "stderr",
     "output_type": "stream",
     "text": [
      "2020-09-09 12:00:46,418 - htmd.builder.solvate - INFO - Using water pdb file at: /soft/EB_repo/devel/programs/foss/2016b/Anaconda3/5.0.1/lib/python3.6/site-packages/htmd/builder/wat.pdb\n",
      "2020-09-09 12:00:48,212 - htmd.builder.solvate - INFO - Replicating 8 water segments, 2 by 2 by 2\n",
      "\n",
      "Solvating:   0%|          | 0/8 [00:00<?, ?it/s]\u001b[A\n",
      "Solvating:  12%|█▎        | 1/8 [00:02<00:18,  2.67s/it]\u001b[A\n",
      "Solvating:  25%|██▌       | 2/8 [00:05<00:15,  2.63s/it]\u001b[A\n",
      "Solvating:  38%|███▊      | 3/8 [00:07<00:13,  2.62s/it]\u001b[A\n",
      "Solvating:  50%|█████     | 4/8 [00:10<00:10,  2.54s/it]\u001b[A\n",
      "Solvating:  62%|██████▎   | 5/8 [00:12<00:07,  2.56s/it]\u001b[A\n",
      "Solvating:  75%|███████▌  | 6/8 [00:15<00:05,  2.56s/it]\u001b[A\n",
      "Solvating:  88%|████████▊ | 7/8 [00:17<00:02,  2.56s/it]\u001b[A\n",
      "Solvating: 100%|██████████| 8/8 [00:20<00:00,  2.56s/it]\u001b[A\n",
      "2020-09-09 12:01:12,702 - htmd.builder.solvate - INFO - 12622 water molecules were added to the system.\n",
      "2020-09-09 12:01:27,483 - htmd.molecule.molecule - INFO - Removed 981 atoms. 75759 atoms remaining in the molecule.\n"
     ]
    },
    {
     "name": "stdout",
     "output_type": "stream",
     "text": [
      "Pre-build...\n"
     ]
    },
    {
     "name": "stderr",
     "output_type": "stream",
     "text": [
      "2020-09-09 12:01:29,365 - htmd.builder.charmm - INFO - Writing out segments.\n",
      "2020-09-09 12:01:41,055 - htmd.builder.builder - INFO - One disulfide bond was added\n"
     ]
    },
    {
     "name": "stdout",
     "output_type": "stream",
     "text": [
      "Disulfide Bond between: UniqueResidueID<resname: 'CYS', chain: 'P', resid: 174, insertion: '', segid: 'P0'>\n",
      "                   and: UniqueResidueID<resname: 'CYS', chain: 'P', resid: 255, insertion: '', segid: 'P0'>\n",
      "\n"
     ]
    },
    {
     "name": "stderr",
     "output_type": "stream",
     "text": [
      "2020-09-09 12:01:41,887 - htmd.builder.charmm - INFO - Starting the build.\n",
      "2020-09-09 12:01:43,473 - htmd.builder.charmm - WARNING - Failed to set coordinates for 1 atoms.\n",
      "2020-09-09 12:01:43,475 - htmd.builder.charmm - WARNING - Poorly guessed coordinates for 205 atoms.\n",
      "2020-09-09 12:01:43,476 - htmd.builder.charmm - WARNING - Please check /gpcr/users/daranda/doctorat/GPCR_simulations/simulation_output/pre-build/6LRY/log.txt for further information.\n",
      "2020-09-09 12:01:43,477 - htmd.builder.charmm - INFO - Finished building.\n",
      "2020-09-09 12:01:46,603 - htmd.molecule.readers - WARNING - Atoms with names \"HE21\" \"HE22\" were guessed as element H but could also be He (helium). If this is a case, you can correct them with mol.set('element', 'He', sel='name \"HE21\" \"HE22\"')\n",
      "2020-09-09 12:01:46,604 - htmd.molecule.readers - WARNING - Atoms with names \"HG11\" \"HG12\" \"HG13\" \"HG21\" \"HG22\" \"HG23\" were guessed as element H but could also be Hg (mercury). If this is a case, you can correct them with mol.set('element', 'Hg', sel='name \"HG11\" \"HG12\" \"HG13\" \"HG21\" \"HG22\" \"HG23\"')\n",
      "2020-09-09 12:01:59,601 - htmd.molecule.readers - WARNING - Atoms with names \"HE21\" \"HE22\" were guessed as element H but could also be He (helium). If this is a case, you can correct them with mol.set('element', 'He', sel='name \"HE21\" \"HE22\"')\n",
      "2020-09-09 12:01:59,602 - htmd.molecule.readers - WARNING - Atoms with names \"HG11\" \"HG12\" \"HG13\" \"HG21\" \"HG22\" \"HG23\" were guessed as element H but could also be Hg (mercury). If this is a case, you can correct them with mol.set('element', 'Hg', sel='name \"HG11\" \"HG12\" \"HG13\" \"HG21\" \"HG22\" \"HG23\"')\n"
     ]
    },
    {
     "name": "stdout",
     "output_type": "stream",
     "text": [
      "Checking aromatic insertions...\n",
      "WARNING: removed 0 atoms within 1.5 of a protein aromatic ring\n",
      "Renumbering...\n",
      "Ionizing...\n"
     ]
    },
    {
     "name": "stderr",
     "output_type": "stream",
     "text": [
      "2020-09-09 12:04:30,358 - htmd.builder.charmm - INFO - Writing out segments.\n",
      "2020-09-09 12:04:42,245 - htmd.builder.builder - INFO - One disulfide bond was added\n"
     ]
    },
    {
     "name": "stdout",
     "output_type": "stream",
     "text": [
      "Disulfide Bond between: UniqueResidueID<resname: 'CYS', chain: 'P', resid: 174, insertion: '', segid: 'P0'>\n",
      "                   and: UniqueResidueID<resname: 'CYS', chain: 'P', resid: 255, insertion: '', segid: 'P0'>\n",
      "\n"
     ]
    },
    {
     "name": "stderr",
     "output_type": "stream",
     "text": [
      "2020-09-09 12:04:43,034 - htmd.builder.charmm - INFO - Starting the build.\n",
      "2020-09-09 12:04:44,591 - htmd.builder.charmm - WARNING - Failed to set coordinates for 1 atoms.\n",
      "2020-09-09 12:04:44,592 - htmd.builder.charmm - WARNING - Poorly guessed coordinates for 205 atoms.\n",
      "2020-09-09 12:04:44,593 - htmd.builder.charmm - WARNING - Please check /gpcr/users/daranda/doctorat/GPCR_simulations/simulation_output/ionize/6LRY/log.txt for further information.\n",
      "2020-09-09 12:04:44,594 - htmd.builder.charmm - INFO - Finished building.\n",
      "2020-09-09 12:04:47,671 - htmd.molecule.readers - WARNING - Atoms with names \"HE21\" \"HE22\" were guessed as element H but could also be He (helium). If this is a case, you can correct them with mol.set('element', 'He', sel='name \"HE21\" \"HE22\"')\n",
      "2020-09-09 12:04:47,672 - htmd.molecule.readers - WARNING - Atoms with names \"HG11\" \"HG12\" \"HG13\" \"HG21\" \"HG22\" \"HG23\" were guessed as element H but could also be Hg (mercury). If this is a case, you can correct them with mol.set('element', 'Hg', sel='name \"HG11\" \"HG12\" \"HG13\" \"HG21\" \"HG22\" \"HG23\"')\n",
      "2020-09-09 12:04:53,541 - htmd.builder.ionize - INFO - Adding 14 anions + 0 cations for neutralizing and 90 ions for the given salt concentration.\n",
      "2020-09-09 12:06:01,274 - htmd.builder.charmm - INFO - Writing out segments.\n",
      "2020-09-09 12:06:14,260 - htmd.builder.charmm - INFO - Starting the build.\n",
      "2020-09-09 12:06:15,864 - htmd.builder.charmm - WARNING - Failed to set coordinates for 1 atoms.\n",
      "2020-09-09 12:06:15,866 - htmd.builder.charmm - WARNING - Poorly guessed coordinates for 205 atoms.\n",
      "2020-09-09 12:06:15,866 - htmd.builder.charmm - WARNING - Please check /gpcr/users/daranda/doctorat/GPCR_simulations/simulation_output/ionize/6LRY/log.txt for further information.\n",
      "2020-09-09 12:06:15,867 - htmd.builder.charmm - INFO - Finished building.\n",
      "2020-09-09 12:06:18,967 - htmd.molecule.readers - WARNING - Atoms with names \"HE21\" \"HE22\" were guessed as element H but could also be He (helium). If this is a case, you can correct them with mol.set('element', 'He', sel='name \"HE21\" \"HE22\"')\n",
      "2020-09-09 12:06:18,968 - htmd.molecule.readers - WARNING - Atoms with names \"HG11\" \"HG12\" \"HG13\" \"HG21\" \"HG22\" \"HG23\" were guessed as element H but could also be Hg (mercury). If this is a case, you can correct them with mol.set('element', 'Hg', sel='name \"HG11\" \"HG12\" \"HG13\" \"HG21\" \"HG22\" \"HG23\"')\n",
      "2020-09-09 12:06:31,862 - htmd.molecule.readers - WARNING - Atoms with names \"HE21\" \"HE22\" were guessed as element H but could also be He (helium). If this is a case, you can correct them with mol.set('element', 'He', sel='name \"HE21\" \"HE22\"')\n",
      "2020-09-09 12:06:31,863 - htmd.molecule.readers - WARNING - Atoms with names \"HG11\" \"HG12\" \"HG13\" \"HG21\" \"HG22\" \"HG23\" were guessed as element H but could also be Hg (mercury). If this is a case, you can correct them with mol.set('element', 'Hg', sel='name \"HG11\" \"HG12\" \"HG13\" \"HG21\" \"HG22\" \"HG23\"')\n"
     ]
    },
    {
     "name": "stdout",
     "output_type": "stream",
     "text": [
      "Building...\n"
     ]
    },
    {
     "name": "stderr",
     "output_type": "stream",
     "text": [
      "2020-09-09 12:07:24,738 - htmd.builder.charmm - INFO - Writing out segments.\n",
      "2020-09-09 12:07:37,506 - htmd.builder.builder - INFO - One disulfide bond was added\n"
     ]
    },
    {
     "name": "stdout",
     "output_type": "stream",
     "text": [
      "Disulfide Bond between: UniqueResidueID<resname: 'CYS', chain: 'P', resid: 174, insertion: '', segid: 'P0'>\n",
      "                   and: UniqueResidueID<resname: 'CYS', chain: 'P', resid: 255, insertion: '', segid: 'P0'>\n",
      "\n"
     ]
    },
    {
     "name": "stderr",
     "output_type": "stream",
     "text": [
      "2020-09-09 12:07:38,296 - htmd.builder.charmm - INFO - Starting the build.\n",
      "2020-09-09 12:07:39,893 - htmd.builder.charmm - INFO - Finished building.\n"
     ]
    },
    {
     "name": "stdout",
     "output_type": "stream",
     "text": [
      "End of 6LRY after 588.3508019447327 seconds\n",
      "\n",
      "\n",
      "start building model for receptor 6KQI (49/181)\n",
      "Structure 6KQI already has a watered version. Skipping...\n"
     ]
    },
    {
     "name": "stderr",
     "output_type": "stream",
     "text": [
      "2020-09-09 12:07:54,327 - htmd.molecule.molecule - INFO - Removed 89 atoms. 2597 atoms remaining in the molecule.\n",
      "2020-09-09 12:07:54,368 - htmd.molecule.molecule - INFO - Removed 0 atoms. 2597 atoms remaining in the molecule.\n",
      "2020-09-09 12:07:54,662 - htmd.molecule.molecule - INFO - Removed 0 atoms. 2597 atoms remaining in the molecule.\n",
      "2020-09-09 12:07:54,893 - htmd.molecule.molecule - INFO - Removed 0 atoms. 2597 atoms remaining in the molecule.\n",
      "2020-09-09 12:07:55,300 - htmd.builder.builder - INFO - Created segment P0 between resid 101 and 317.\n",
      "2020-09-09 12:07:55,301 - htmd.builder.builder - INFO - Created segment P1 between resid 327 and 418.\n",
      "2020-09-09 12:07:59,042 - htmd.molecule.molecule - INFO - Removed 0 atoms. 3802 atoms remaining in the molecule.\n",
      "2020-09-09 12:07:59,389 - htmd.molecule.molecule - INFO - Removed 0 atoms. 3802 atoms remaining in the molecule.\n",
      "2020-09-09 12:08:00,109 - htmd.builder.builder - INFO - Created segment P0 between resid 101 and 1002.\n",
      "2020-09-09 12:08:00,110 - htmd.builder.builder - INFO - Created segment P1 between resid 1008 and 413.\n",
      "2020-09-09 12:08:01,315 - moleculekit.tools.sequencestructuralalignment - INFO - No segment was specified by the user for `mol` and multiple segments (['P0', 'P1']) were detected. Alignment will be done on all protein segments.\n",
      "2020-09-09 12:08:01,373 - moleculekit.tools.sequencestructuralalignment - INFO - No segment was specified by the user for `ref` and multiple segments (['P0', 'P1']) were detected. Alignment will be done on all protein segments.\n",
      "2020-09-09 12:08:01,855 - moleculekit.tools.sequencestructuralalignment - WARNING - 18 alignments found. Limiting to 1 as specified in the `maxalignments` argument.\n",
      "2020-09-09 12:08:01,859 - moleculekit.tools.sequencestructuralalignment - INFO - Alignment #0 was done on 102 residues: mol segid P0 resid 101-202\n",
      "2020-09-09 12:08:04,004 - htmd.molecule.molecule - INFO - Removed 8 atoms. 2589 atoms remaining in the molecule.\n",
      "2020-09-09 12:08:04,046 - htmd.molecule.molecule - INFO - Removed 2281 atoms. 308 atoms remaining in the molecule.\n",
      "2020-09-09 12:08:04,047 - htmd.builder.preparation - WARNING - The holdSelection option is untested and deprecated. Please use reprepare()\n",
      "2020-09-09 12:08:07,683 - htmd.builder.preparation - WARNING - The following residue has not been optimized: 9GF\n",
      "2020-09-09 12:08:07,684 - htmd.builder.preparation - WARNING - The following residue has not been optimized: 9GL\n",
      "2020-09-09 12:08:07,685 - htmd.builder.preparation - WARNING - The following residue has not been optimized: TIP\n",
      "2020-09-09 12:08:24,107 - htmd.builder.preparationdata - INFO - The following residues are in a non-standard state: ASP   104  A (ASH), GLU   106  A (GLH), GLU   133  A (GLH), HIS   143  A (HIP), HIS   154  A (HIP), ASP   163  A (ASH), ASP   176  A (ASH), HIS   178  A (HIP), HIS   181  A (HIP), ASP   184  A (ASH), ASP   213  A (ASH), HIS   219  A (HIP), CYS   257  A (CYX), GLU   258  A (GLH), CYS   264  A (CYX), ASP   266  A (ASH), HIS   270  A (HIP), ASP   272  A (ASH), GLU   273  A (GLH), HIS   302  A (HIP), HIS   304  A (HIP), ASP   333  P (ASH), ASP   338  P (ASH), ASP   366  P (ASH), ASP   403  P (ASH), HIS   406  P (HIP), GLU   416  P (GLH)\n",
      "2020-09-09 12:08:26,941 - htmd.builder.preparation - WARNING - The following residue has not been optimized: 9GF\n",
      "2020-09-09 12:08:26,943 - htmd.builder.preparation - WARNING - The following residue has not been optimized: 9GL\n",
      "2020-09-09 12:08:26,943 - htmd.builder.preparation - WARNING - The following residue has not been optimized: TIP\n",
      "2020-09-09 12:08:36,356 - htmd.builder.preparationdata - WARNING - Predictions for 9 residues may be incorrect because they are exposed to the membrane (-15.7<z<15.70 and buried<75.0%).\n"
     ]
    },
    {
     "name": "stdout",
     "output_type": "stream",
     "text": [
      "Adding membrane...\n"
     ]
    },
    {
     "name": "stderr",
     "output_type": "stream",
     "text": [
      "2020-09-09 12:08:38,047 - htmd.builder.builder - INFO - Replicating Membrane 2x2\n",
      "\n",
      "Replicating Membrane:   0%|          | 0/4 [00:00<?, ?it/s]\u001b[A\n",
      "Replicating Membrane:  25%|██▌       | 1/4 [00:00<00:01,  1.71it/s]\u001b[A\n",
      "Replicating Membrane:  50%|█████     | 2/4 [00:01<00:01,  1.67it/s]\u001b[A\n",
      "Replicating Membrane:  75%|███████▌  | 3/4 [00:01<00:00,  1.58it/s]\u001b[A\n",
      "Replicating Membrane: 100%|██████████| 4/4 [00:02<00:00,  1.49it/s]\u001b[A\n",
      "2020-09-09 12:09:59,564 - htmd.molecule.molecule - INFO - Removed 1896 atoms. 36584 atoms remaining in the molecule.\n",
      "2020-09-09 12:10:02,170 - htmd.molecule.molecule - INFO - Removed 91 residues from appended Molecule due to collisions.\n"
     ]
    },
    {
     "name": "stdout",
     "output_type": "stream",
     "text": [
      "Solvating...\n",
      "wataerbox Max and min:  [47.11043  48.03824  28.339516] [-43.68157  -42.763763 -27.455484]\n"
     ]
    },
    {
     "name": "stderr",
     "output_type": "stream",
     "text": [
      "2020-09-09 12:10:03,560 - htmd.builder.solvate - INFO - Using water pdb file at: /soft/EB_repo/devel/programs/foss/2016b/Anaconda3/5.0.1/lib/python3.6/site-packages/htmd/builder/wat.pdb\n",
      "2020-09-09 12:10:05,421 - htmd.builder.solvate - INFO - Replicating 8 water segments, 2 by 2 by 2\n",
      "\n",
      "Solvating:   0%|          | 0/8 [00:00<?, ?it/s]\u001b[A\n",
      "Solvating:  12%|█▎        | 1/8 [00:02<00:17,  2.47s/it]\u001b[A\n",
      "Solvating:  25%|██▌       | 2/8 [00:04<00:14,  2.48s/it]\u001b[A\n",
      "Solvating:  38%|███▊      | 3/8 [00:07<00:12,  2.47s/it]\u001b[A\n",
      "Solvating:  50%|█████     | 4/8 [00:09<00:09,  2.46s/it]\u001b[A\n",
      "Solvating:  62%|██████▎   | 5/8 [00:12<00:07,  2.46s/it]\u001b[A\n",
      "Solvating:  75%|███████▌  | 6/8 [00:14<00:04,  2.46s/it]\u001b[A\n",
      "Solvating:  88%|████████▊ | 7/8 [00:17<00:02,  2.44s/it]\u001b[A\n",
      "Solvating: 100%|██████████| 8/8 [00:19<00:00,  2.46s/it]\u001b[A\n",
      "2020-09-09 12:10:29,017 - htmd.builder.solvate - INFO - 13552 water molecules were added to the system.\n",
      "2020-09-09 12:10:45,255 - htmd.molecule.molecule - INFO - Removed 588 atoms. 74653 atoms remaining in the molecule.\n"
     ]
    },
    {
     "name": "stdout",
     "output_type": "stream",
     "text": [
      "Pre-build...\n"
     ]
    },
    {
     "name": "stderr",
     "output_type": "stream",
     "text": [
      "2020-09-09 12:10:47,184 - htmd.builder.charmm - INFO - Writing out segments.\n",
      "2020-09-09 12:11:00,229 - htmd.builder.builder - INFO - One disulfide bond was added\n"
     ]
    },
    {
     "name": "stdout",
     "output_type": "stream",
     "text": [
      "Disulfide Bond between: UniqueResidueID<resname: 'CYS', chain: 'P', resid: 257, insertion: '', segid: 'P0'>\n",
      "                   and: UniqueResidueID<resname: 'CYS', chain: 'P', resid: 264, insertion: '', segid: 'P0'>\n",
      "\n"
     ]
    },
    {
     "name": "stderr",
     "output_type": "stream",
     "text": [
      "2020-09-09 12:11:01,031 - htmd.builder.charmm - INFO - Starting the build.\n",
      "2020-09-09 12:11:02,608 - htmd.builder.charmm - WARNING - Failed to set coordinates for 2 atoms.\n",
      "2020-09-09 12:11:02,610 - htmd.builder.charmm - WARNING - Poorly guessed coordinates for 244 atoms.\n",
      "2020-09-09 12:11:02,610 - htmd.builder.charmm - WARNING - Please check /gpcr/users/daranda/doctorat/GPCR_simulations/simulation_output/pre-build/6KQI/log.txt for further information.\n",
      "2020-09-09 12:11:02,611 - htmd.builder.charmm - INFO - Finished building.\n",
      "2020-09-09 12:11:05,525 - htmd.molecule.readers - WARNING - Atoms with names \"HE21\" \"HE22\" were guessed as element H but could also be He (helium). If this is a case, you can correct them with mol.set('element', 'He', sel='name \"HE21\" \"HE22\"')\n",
      "2020-09-09 12:11:05,527 - htmd.molecule.readers - WARNING - Atoms with names \"HG11\" \"HG12\" \"HG13\" \"HG21\" \"HG22\" \"HG23\" were guessed as element H but could also be Hg (mercury). If this is a case, you can correct them with mol.set('element', 'Hg', sel='name \"HG11\" \"HG12\" \"HG13\" \"HG21\" \"HG22\" \"HG23\"')\n",
      "2020-09-09 12:11:18,128 - htmd.molecule.readers - WARNING - Atoms with names \"HE21\" \"HE22\" were guessed as element H but could also be He (helium). If this is a case, you can correct them with mol.set('element', 'He', sel='name \"HE21\" \"HE22\"')\n",
      "2020-09-09 12:11:18,129 - htmd.molecule.readers - WARNING - Atoms with names \"HG11\" \"HG12\" \"HG13\" \"HG21\" \"HG22\" \"HG23\" were guessed as element H but could also be Hg (mercury). If this is a case, you can correct them with mol.set('element', 'Hg', sel='name \"HG11\" \"HG12\" \"HG13\" \"HG21\" \"HG22\" \"HG23\"')\n"
     ]
    },
    {
     "name": "stdout",
     "output_type": "stream",
     "text": [
      "Checking aromatic insertions...\n"
     ]
    },
    {
     "name": "stderr",
     "output_type": "stream",
     "text": [
      "2020-09-09 12:13:19,253 - htmd.molecule.molecule - INFO - Removed 134 atoms. 74579 atoms remaining in the molecule.\n"
     ]
    },
    {
     "name": "stdout",
     "output_type": "stream",
     "text": [
      "WARNING: removed 134 atoms within 1.5 of a protein aromatic ring\n",
      "Renumbering...\n",
      "Ionizing...\n"
     ]
    },
    {
     "name": "stderr",
     "output_type": "stream",
     "text": [
      "2020-09-09 12:13:43,385 - htmd.builder.charmm - INFO - Writing out segments.\n",
      "2020-09-09 12:13:56,545 - htmd.builder.builder - INFO - One disulfide bond was added\n"
     ]
    },
    {
     "name": "stdout",
     "output_type": "stream",
     "text": [
      "Disulfide Bond between: UniqueResidueID<resname: 'CYS', chain: 'P', resid: 257, insertion: '', segid: 'P0'>\n",
      "                   and: UniqueResidueID<resname: 'CYS', chain: 'P', resid: 264, insertion: '', segid: 'P0'>\n",
      "\n"
     ]
    },
    {
     "name": "stderr",
     "output_type": "stream",
     "text": [
      "2020-09-09 12:13:57,355 - htmd.builder.charmm - INFO - Starting the build.\n",
      "2020-09-09 12:13:58,925 - htmd.builder.charmm - WARNING - Failed to set coordinates for 2 atoms.\n",
      "2020-09-09 12:13:58,926 - htmd.builder.charmm - WARNING - Poorly guessed coordinates for 244 atoms.\n",
      "2020-09-09 12:13:58,927 - htmd.builder.charmm - WARNING - Please check /gpcr/users/daranda/doctorat/GPCR_simulations/simulation_output/ionize/6KQI/log.txt for further information.\n",
      "2020-09-09 12:13:58,928 - htmd.builder.charmm - INFO - Finished building.\n",
      "2020-09-09 12:14:02,045 - htmd.molecule.readers - WARNING - Atoms with names \"HE21\" \"HE22\" were guessed as element H but could also be He (helium). If this is a case, you can correct them with mol.set('element', 'He', sel='name \"HE21\" \"HE22\"')\n",
      "2020-09-09 12:14:02,046 - htmd.molecule.readers - WARNING - Atoms with names \"HG11\" \"HG12\" \"HG13\" \"HG21\" \"HG22\" \"HG23\" were guessed as element H but could also be Hg (mercury). If this is a case, you can correct them with mol.set('element', 'Hg', sel='name \"HG11\" \"HG12\" \"HG13\" \"HG21\" \"HG22\" \"HG23\"')\n",
      "2020-09-09 12:14:07,897 - htmd.builder.ionize - INFO - Adding 13 anions + 0 cations for neutralizing and 94 ions for the given salt concentration.\n",
      "2020-09-09 12:15:17,071 - htmd.builder.charmm - INFO - Writing out segments.\n",
      "2020-09-09 12:15:31,366 - htmd.builder.charmm - INFO - Starting the build.\n",
      "2020-09-09 12:15:32,961 - htmd.builder.charmm - WARNING - Failed to set coordinates for 2 atoms.\n",
      "2020-09-09 12:15:32,963 - htmd.builder.charmm - WARNING - Poorly guessed coordinates for 244 atoms.\n",
      "2020-09-09 12:15:32,964 - htmd.builder.charmm - WARNING - Please check /gpcr/users/daranda/doctorat/GPCR_simulations/simulation_output/ionize/6KQI/log.txt for further information.\n",
      "2020-09-09 12:15:32,965 - htmd.builder.charmm - INFO - Finished building.\n",
      "2020-09-09 12:15:36,053 - htmd.molecule.readers - WARNING - Atoms with names \"HE21\" \"HE22\" were guessed as element H but could also be He (helium). If this is a case, you can correct them with mol.set('element', 'He', sel='name \"HE21\" \"HE22\"')\n",
      "2020-09-09 12:15:36,054 - htmd.molecule.readers - WARNING - Atoms with names \"HG11\" \"HG12\" \"HG13\" \"HG21\" \"HG22\" \"HG23\" were guessed as element H but could also be Hg (mercury). If this is a case, you can correct them with mol.set('element', 'Hg', sel='name \"HG11\" \"HG12\" \"HG13\" \"HG21\" \"HG22\" \"HG23\"')\n",
      "2020-09-09 12:15:48,719 - htmd.molecule.readers - WARNING - Atoms with names \"HE21\" \"HE22\" were guessed as element H but could also be He (helium). If this is a case, you can correct them with mol.set('element', 'He', sel='name \"HE21\" \"HE22\"')\n",
      "2020-09-09 12:15:48,721 - htmd.molecule.readers - WARNING - Atoms with names \"HG11\" \"HG12\" \"HG13\" \"HG21\" \"HG22\" \"HG23\" were guessed as element H but could also be Hg (mercury). If this is a case, you can correct them with mol.set('element', 'Hg', sel='name \"HG11\" \"HG12\" \"HG13\" \"HG21\" \"HG22\" \"HG23\"')\n"
     ]
    },
    {
     "name": "stdout",
     "output_type": "stream",
     "text": [
      "Building...\n"
     ]
    },
    {
     "name": "stderr",
     "output_type": "stream",
     "text": [
      "2020-09-09 12:16:44,462 - htmd.builder.charmm - INFO - Writing out segments.\n",
      "2020-09-09 12:16:58,534 - htmd.builder.builder - INFO - One disulfide bond was added\n"
     ]
    },
    {
     "name": "stdout",
     "output_type": "stream",
     "text": [
      "Disulfide Bond between: UniqueResidueID<resname: 'CYS', chain: 'P', resid: 257, insertion: '', segid: 'P0'>\n",
      "                   and: UniqueResidueID<resname: 'CYS', chain: 'P', resid: 264, insertion: '', segid: 'P0'>\n",
      "\n"
     ]
    },
    {
     "name": "stderr",
     "output_type": "stream",
     "text": [
      "2020-09-09 12:16:59,335 - htmd.builder.charmm - INFO - Starting the build.\n",
      "2020-09-09 12:17:00,908 - htmd.builder.charmm - INFO - Finished building.\n"
     ]
    },
    {
     "name": "stdout",
     "output_type": "stream",
     "text": [
      "End of 6KQI after 561.4463152885437 seconds\n",
      "\n",
      "\n",
      "start building model for receptor 6PS3 (50/181)\n",
      "Structure 6PS3 already has a watered version. Skipping...\n"
     ]
    },
    {
     "name": "stderr",
     "output_type": "stream",
     "text": [
      "2020-09-09 12:17:15,806 - htmd.molecule.molecule - WARNING - Alternative atom locations detected. Only altloc A was kept. If you prefer to keep all use the keepaltloc=\"all\" option when reading the file.\n",
      "2020-09-09 12:17:15,809 - htmd.molecule.molecule - INFO - Removed 3 atoms. 3730 atoms remaining in the molecule.\n",
      "2020-09-09 12:17:15,860 - htmd.molecule.molecule - INFO - Removed 145 atoms. 2677 atoms remaining in the molecule.\n",
      "2020-09-09 12:17:15,905 - htmd.molecule.molecule - INFO - Removed 0 atoms. 2677 atoms remaining in the molecule.\n",
      "2020-09-09 12:17:16,226 - htmd.molecule.molecule - INFO - Removed 0 atoms. 2677 atoms remaining in the molecule.\n",
      "2020-09-09 12:17:16,502 - htmd.molecule.molecule - INFO - Removed 0 atoms. 2677 atoms remaining in the molecule.\n",
      "2020-09-09 12:17:16,956 - htmd.builder.builder - INFO - Created segment P0 between resid 21 and 242.\n",
      "2020-09-09 12:17:16,957 - htmd.builder.builder - INFO - Created segment P1 between resid 257 and 346.\n",
      "2020-09-09 12:17:22,016 - htmd.molecule.molecule - INFO - Removed 0 atoms. 3730 atoms remaining in the molecule.\n",
      "2020-09-09 12:17:22,379 - htmd.molecule.molecule - INFO - Removed 0 atoms. 3730 atoms remaining in the molecule.\n",
      "2020-09-09 12:17:23,061 - htmd.builder.builder - INFO - Created segment P0 between resid 29 and 342.\n",
      "2020-09-09 12:17:24,724 - moleculekit.tools.sequencestructuralalignment - INFO - No segment was specified by the user for `mol` and multiple segments (['P0', 'P1']) were detected. Alignment will be done on all protein segments.\n",
      "2020-09-09 12:17:24,787 - moleculekit.tools.sequencestructuralalignment - INFO - No segment was specified by the user for `ref`. Alignment will be done on all protein segments.\n",
      "2020-09-09 12:17:25,117 - moleculekit.tools.sequencestructuralalignment - WARNING - 15 alignments found. Limiting to 1 as specified in the `maxalignments` argument.\n",
      "2020-09-09 12:17:25,121 - moleculekit.tools.sequencestructuralalignment - INFO - Alignment #0 was done on 91 residues: mol segid P0 resid 31-121\n",
      "2020-09-09 12:17:29,119 - htmd.builder.preparation - WARNING - The following residue has not been optimized: CVD\n",
      "2020-09-09 12:17:29,120 - htmd.builder.preparation - WARNING - The following residue has not been optimized: CLR\n",
      "2020-09-09 12:17:29,121 - htmd.builder.preparation - WARNING - The following residue has not been optimized: NA\n",
      "2020-09-09 12:17:29,121 - htmd.builder.preparation - WARNING - The following residue has not been optimized: TIP\n",
      "2020-09-09 12:17:46,028 - htmd.builder.preparationdata - INFO - The following residues are in a non-standard state: HIS    22  A (HID), HIS    93  A (HID), CYS   106  A (CYX), HIS   172  A (HID), HIS   178  A (HIE), CYS   184  A (CYX), CYS   190  A (CYX), CYS   191  A (CYX), HIS   241  A (HID), HIS   269  P (HID), HIS   296  P (HID)\n",
      "2020-09-09 12:17:46,030 - htmd.builder.preparationdata - WARNING - Dubious protonation state: the pKa of 8 residues is within 1.0 units of pH 7.0.\n",
      "2020-09-09 12:17:46,032 - htmd.builder.preparationdata - WARNING - Dubious protonation state:    HIS    22  A (pKa= 6.56)\n",
      "2020-09-09 12:17:46,033 - htmd.builder.preparationdata - WARNING - Dubious protonation state:    HIS    93  A (pKa= 6.41)\n",
      "2020-09-09 12:17:46,034 - htmd.builder.preparationdata - WARNING - Dubious protonation state:    GLU   122  A (pKa= 6.22)\n",
      "2020-09-09 12:17:46,035 - htmd.builder.preparationdata - WARNING - Dubious protonation state:    HIS   172  A (pKa= 6.48)\n",
      "2020-09-09 12:17:46,037 - htmd.builder.preparationdata - WARNING - Dubious protonation state:    HIS   178  A (pKa= 6.89)\n",
      "2020-09-09 12:17:46,038 - htmd.builder.preparationdata - WARNING - Dubious protonation state:    HIS   241  A (pKa= 6.50)\n",
      "2020-09-09 12:17:46,039 - htmd.builder.preparationdata - WARNING - Dubious protonation state:    N+     21T A (pKa= 7.93)\n",
      "2020-09-09 12:17:46,040 - htmd.builder.preparationdata - WARNING - Dubious protonation state:    N+    257T P (pKa= 7.88)\n",
      "2020-09-09 12:17:46,158 - htmd.builder.preparationdata - WARNING - Predictions for 10 residues may be incorrect because they are exposed to the membrane (-16.9<z<16.90 and buried<75.0%).\n"
     ]
    },
    {
     "name": "stdout",
     "output_type": "stream",
     "text": [
      "Adding membrane...\n"
     ]
    },
    {
     "name": "stderr",
     "output_type": "stream",
     "text": [
      "2020-09-09 12:17:47,676 - htmd.builder.builder - INFO - Replicating Membrane 3x3\n",
      "\n",
      "Replicating Membrane:   0%|          | 0/9 [00:00<?, ?it/s]\u001b[A\n",
      "Replicating Membrane:  11%|█         | 1/9 [00:00<00:04,  1.70it/s]\u001b[A\n",
      "Replicating Membrane:  22%|██▏       | 2/9 [00:01<00:04,  1.62it/s]\u001b[A\n",
      "Replicating Membrane:  33%|███▎      | 3/9 [00:01<00:03,  1.71it/s]\u001b[A\n",
      "Replicating Membrane:  44%|████▍     | 4/9 [00:02<00:03,  1.55it/s]\u001b[A\n",
      "Replicating Membrane:  56%|█████▌    | 5/9 [00:03<00:02,  1.41it/s]\u001b[A\n",
      "Replicating Membrane:  67%|██████▋   | 6/9 [00:04<00:02,  1.45it/s]\u001b[A\n",
      "Replicating Membrane:  78%|███████▊  | 7/9 [00:04<00:01,  1.49it/s]\u001b[A\n",
      "Replicating Membrane:  89%|████████▉ | 8/9 [00:05<00:00,  1.43it/s]\u001b[A\n",
      "2020-09-09 12:19:59,632 - htmd.molecule.molecule - INFO - Removed 2672 atoms. 41108 atoms remaining in the molecule.\n",
      "2020-09-09 12:20:02,620 - htmd.molecule.molecule - INFO - Removed 90 residues from appended Molecule due to collisions.\n"
     ]
    },
    {
     "name": "stdout",
     "output_type": "stream",
     "text": [
      "Solvating...\n",
      "wataerbox Max and min:  [50.81394  50.891    28.249681] [-46.534065 -46.451    -27.545319]\n"
     ]
    },
    {
     "name": "stderr",
     "output_type": "stream",
     "text": [
      "2020-09-09 12:20:04,216 - htmd.builder.solvate - INFO - Using water pdb file at: /soft/EB_repo/devel/programs/foss/2016b/Anaconda3/5.0.1/lib/python3.6/site-packages/htmd/builder/wat.pdb\n",
      "2020-09-09 12:20:06,010 - htmd.builder.solvate - INFO - Replicating 8 water segments, 2 by 2 by 2\n",
      "\n",
      "Solvating:   0%|          | 0/8 [00:00<?, ?it/s]\u001b[A\n",
      "Solvating:  12%|█▎        | 1/8 [00:02<00:17,  2.47s/it]\u001b[A\n",
      "Solvating:  25%|██▌       | 2/8 [00:05<00:15,  2.51s/it]\u001b[A\n",
      "Solvating:  38%|███▊      | 3/8 [00:07<00:12,  2.55s/it]\u001b[A\n",
      "Solvating:  50%|█████     | 4/8 [00:10<00:10,  2.68s/it]\u001b[A\n",
      "Solvating:  62%|██████▎   | 5/8 [00:13<00:08,  2.69s/it]\u001b[A\n",
      "Solvating:  75%|███████▌  | 6/8 [00:16<00:05,  2.69s/it]\u001b[A\n",
      "Solvating:  88%|████████▊ | 7/8 [00:18<00:02,  2.68s/it]\u001b[A\n",
      "Solvating: 100%|██████████| 8/8 [00:21<00:00,  2.67s/it]\u001b[A\n",
      "2020-09-09 12:20:31,907 - htmd.builder.solvate - INFO - 16123 water molecules were added to the system.\n",
      "2020-09-09 12:20:51,290 - htmd.molecule.molecule - INFO - Removed 1227 atoms. 86989 atoms remaining in the molecule.\n"
     ]
    },
    {
     "name": "stdout",
     "output_type": "stream",
     "text": [
      "Pre-build...\n"
     ]
    },
    {
     "name": "stderr",
     "output_type": "stream",
     "text": [
      "2020-09-09 12:20:53,352 - htmd.builder.charmm - INFO - Writing out segments.\n",
      "2020-09-09 12:21:09,378 - htmd.builder.builder - INFO - 2 disulfide bonds were added\n"
     ]
    },
    {
     "name": "stdout",
     "output_type": "stream",
     "text": [
      "Disulfide Bond between: UniqueResidueID<resname: 'CYS', chain: 'P', resid: 184, insertion: '', segid: 'P0'>\n",
      "                   and: UniqueResidueID<resname: 'CYS', chain: 'P', resid: 190, insertion: '', segid: 'P0'>\n",
      "\n",
      "Disulfide Bond between: UniqueResidueID<resname: 'CYS', chain: 'P', resid: 106, insertion: '', segid: 'P0'>\n",
      "                   and: UniqueResidueID<resname: 'CYS', chain: 'P', resid: 191, insertion: '', segid: 'P0'>\n",
      "\n"
     ]
    },
    {
     "name": "stderr",
     "output_type": "stream",
     "text": [
      "2020-09-09 12:21:10,190 - htmd.builder.charmm - INFO - Starting the build.\n",
      "2020-09-09 12:21:12,040 - htmd.builder.charmm - WARNING - Failed to set coordinates for 2 atoms.\n",
      "2020-09-09 12:21:12,042 - htmd.builder.charmm - WARNING - Failed to guess coordinates for 1 atoms due to bad angles.\n",
      "2020-09-09 12:21:12,043 - htmd.builder.charmm - WARNING - Poorly guessed coordinates for 292 atoms.\n",
      "2020-09-09 12:21:12,043 - htmd.builder.charmm - WARNING - Please check /gpcr/users/daranda/doctorat/GPCR_simulations/simulation_output/pre-build/6PS3/log.txt for further information.\n",
      "2020-09-09 12:21:12,044 - htmd.builder.charmm - INFO - Finished building.\n",
      "2020-09-09 12:21:15,483 - htmd.molecule.readers - WARNING - Atoms with names \"HE21\" \"HE22\" were guessed as element H but could also be He (helium). If this is a case, you can correct them with mol.set('element', 'He', sel='name \"HE21\" \"HE22\"')\n",
      "2020-09-09 12:21:15,484 - htmd.molecule.readers - WARNING - Atoms with names \"HG11\" \"HG12\" \"HG13\" \"HG21\" \"HG22\" \"HG23\" were guessed as element H but could also be Hg (mercury). If this is a case, you can correct them with mol.set('element', 'Hg', sel='name \"HG11\" \"HG12\" \"HG13\" \"HG21\" \"HG22\" \"HG23\"')\n",
      "2020-09-09 12:21:30,167 - htmd.molecule.readers - WARNING - Atoms with names \"HE21\" \"HE22\" were guessed as element H but could also be He (helium). If this is a case, you can correct them with mol.set('element', 'He', sel='name \"HE21\" \"HE22\"')\n",
      "2020-09-09 12:21:30,168 - htmd.molecule.readers - WARNING - Atoms with names \"HG11\" \"HG12\" \"HG13\" \"HG21\" \"HG22\" \"HG23\" were guessed as element H but could also be Hg (mercury). If this is a case, you can correct them with mol.set('element', 'Hg', sel='name \"HG11\" \"HG12\" \"HG13\" \"HG21\" \"HG22\" \"HG23\"')\n"
     ]
    },
    {
     "name": "stdout",
     "output_type": "stream",
     "text": [
      "Checking aromatic insertions...\n",
      "WARNING: removed 0 atoms within 1.5 of a protein aromatic ring\n",
      "Renumbering...\n",
      "Ionizing...\n"
     ]
    },
    {
     "name": "stderr",
     "output_type": "stream",
     "text": [
      "2020-09-09 12:24:25,436 - htmd.builder.charmm - INFO - Writing out segments.\n",
      "2020-09-09 12:24:41,133 - htmd.builder.builder - INFO - 2 disulfide bonds were added\n"
     ]
    },
    {
     "name": "stdout",
     "output_type": "stream",
     "text": [
      "Disulfide Bond between: UniqueResidueID<resname: 'CYS', chain: 'P', resid: 184, insertion: '', segid: 'P0'>\n",
      "                   and: UniqueResidueID<resname: 'CYS', chain: 'P', resid: 190, insertion: '', segid: 'P0'>\n",
      "\n",
      "Disulfide Bond between: UniqueResidueID<resname: 'CYS', chain: 'P', resid: 106, insertion: '', segid: 'P0'>\n",
      "                   and: UniqueResidueID<resname: 'CYS', chain: 'P', resid: 191, insertion: '', segid: 'P0'>\n",
      "\n"
     ]
    },
    {
     "name": "stderr",
     "output_type": "stream",
     "text": [
      "2020-09-09 12:24:41,934 - htmd.builder.charmm - INFO - Starting the build.\n",
      "2020-09-09 12:24:43,788 - htmd.builder.charmm - WARNING - Failed to set coordinates for 2 atoms.\n",
      "2020-09-09 12:24:43,790 - htmd.builder.charmm - WARNING - Failed to guess coordinates for 1 atoms due to bad angles.\n",
      "2020-09-09 12:24:43,791 - htmd.builder.charmm - WARNING - Poorly guessed coordinates for 292 atoms.\n",
      "2020-09-09 12:24:43,792 - htmd.builder.charmm - WARNING - Please check /gpcr/users/daranda/doctorat/GPCR_simulations/simulation_output/ionize/6PS3/log.txt for further information.\n",
      "2020-09-09 12:24:43,792 - htmd.builder.charmm - INFO - Finished building.\n",
      "2020-09-09 12:24:47,295 - htmd.molecule.readers - WARNING - Atoms with names \"HE21\" \"HE22\" were guessed as element H but could also be He (helium). If this is a case, you can correct them with mol.set('element', 'He', sel='name \"HE21\" \"HE22\"')\n",
      "2020-09-09 12:24:47,296 - htmd.molecule.readers - WARNING - Atoms with names \"HG11\" \"HG12\" \"HG13\" \"HG21\" \"HG22\" \"HG23\" were guessed as element H but could also be Hg (mercury). If this is a case, you can correct them with mol.set('element', 'Hg', sel='name \"HG11\" \"HG12\" \"HG13\" \"HG21\" \"HG22\" \"HG23\"')\n",
      "2020-09-09 12:24:54,089 - htmd.builder.ionize - INFO - Adding 7 anions + 0 cations for neutralizing and 110 ions for the given salt concentration.\n",
      "2020-09-09 12:26:18,797 - htmd.builder.charmm - INFO - Writing out segments.\n",
      "2020-09-09 12:26:36,414 - htmd.builder.charmm - INFO - Starting the build.\n",
      "2020-09-09 12:26:38,324 - htmd.builder.charmm - WARNING - Failed to set coordinates for 2 atoms.\n",
      "2020-09-09 12:26:38,326 - htmd.builder.charmm - WARNING - Failed to guess coordinates for 1 atoms due to bad angles.\n",
      "2020-09-09 12:26:38,327 - htmd.builder.charmm - WARNING - Poorly guessed coordinates for 292 atoms.\n",
      "2020-09-09 12:26:38,328 - htmd.builder.charmm - WARNING - Please check /gpcr/users/daranda/doctorat/GPCR_simulations/simulation_output/ionize/6PS3/log.txt for further information.\n",
      "2020-09-09 12:26:38,329 - htmd.builder.charmm - INFO - Finished building.\n",
      "2020-09-09 12:26:41,672 - htmd.molecule.readers - WARNING - Atoms with names \"HE21\" \"HE22\" were guessed as element H but could also be He (helium). If this is a case, you can correct them with mol.set('element', 'He', sel='name \"HE21\" \"HE22\"')\n",
      "2020-09-09 12:26:41,673 - htmd.molecule.readers - WARNING - Atoms with names \"HG11\" \"HG12\" \"HG13\" \"HG21\" \"HG22\" \"HG23\" were guessed as element H but could also be Hg (mercury). If this is a case, you can correct them with mol.set('element', 'Hg', sel='name \"HG11\" \"HG12\" \"HG13\" \"HG21\" \"HG22\" \"HG23\"')\n",
      "2020-09-09 12:26:56,423 - htmd.molecule.readers - WARNING - Atoms with names \"HE21\" \"HE22\" were guessed as element H but could also be He (helium). If this is a case, you can correct them with mol.set('element', 'He', sel='name \"HE21\" \"HE22\"')\n",
      "2020-09-09 12:26:56,424 - htmd.molecule.readers - WARNING - Atoms with names \"HG11\" \"HG12\" \"HG13\" \"HG21\" \"HG22\" \"HG23\" were guessed as element H but could also be Hg (mercury). If this is a case, you can correct them with mol.set('element', 'Hg', sel='name \"HG11\" \"HG12\" \"HG13\" \"HG21\" \"HG22\" \"HG23\"')\n"
     ]
    },
    {
     "name": "stdout",
     "output_type": "stream",
     "text": [
      "Building...\n"
     ]
    },
    {
     "name": "stderr",
     "output_type": "stream",
     "text": [
      "2020-09-09 12:28:06,064 - htmd.builder.charmm - INFO - Writing out segments.\n",
      "2020-09-09 12:28:23,585 - htmd.builder.builder - INFO - 2 disulfide bonds were added\n"
     ]
    },
    {
     "name": "stdout",
     "output_type": "stream",
     "text": [
      "Disulfide Bond between: UniqueResidueID<resname: 'CYS', chain: 'P', resid: 184, insertion: '', segid: 'P0'>\n",
      "                   and: UniqueResidueID<resname: 'CYS', chain: 'P', resid: 190, insertion: '', segid: 'P0'>\n",
      "\n",
      "Disulfide Bond between: UniqueResidueID<resname: 'CYS', chain: 'P', resid: 106, insertion: '', segid: 'P0'>\n",
      "                   and: UniqueResidueID<resname: 'CYS', chain: 'P', resid: 191, insertion: '', segid: 'P0'>\n",
      "\n"
     ]
    },
    {
     "name": "stderr",
     "output_type": "stream",
     "text": [
      "2020-09-09 12:28:24,408 - htmd.builder.charmm - INFO - Starting the build.\n",
      "2020-09-09 12:28:26,239 - htmd.builder.charmm - INFO - Finished building.\n"
     ]
    },
    {
     "name": "stdout",
     "output_type": "stream",
     "text": [
      "End of 6PS3 after 687.2121748924255 seconds\n",
      "\n",
      "\n",
      "start building model for receptor 6PS2 (51/181)\n",
      "Structure 6PS2 already has a watered version. Skipping...\n"
     ]
    },
    {
     "name": "stderr",
     "output_type": "stream",
     "text": [
      "2020-09-09 12:28:42,284 - htmd.molecule.molecule - WARNING - Alternative atom locations detected. Only altloc A was kept. If you prefer to keep all use the keepaltloc=\"all\" option when reading the file.\n",
      "2020-09-09 12:28:42,288 - htmd.molecule.molecule - INFO - Removed 3 atoms. 3730 atoms remaining in the molecule.\n",
      "2020-09-09 12:28:42,341 - htmd.molecule.molecule - INFO - Removed 220 atoms. 2669 atoms remaining in the molecule.\n",
      "2020-09-09 12:28:42,388 - htmd.molecule.molecule - INFO - Removed 0 atoms. 2669 atoms remaining in the molecule.\n",
      "2020-09-09 12:28:42,710 - htmd.molecule.molecule - INFO - Removed 0 atoms. 2669 atoms remaining in the molecule.\n",
      "2020-09-09 12:28:42,964 - htmd.molecule.molecule - INFO - Removed 0 atoms. 2669 atoms remaining in the molecule.\n",
      "2020-09-09 12:28:43,408 - htmd.builder.builder - INFO - Created segment P0 between resid 21 and 242.\n",
      "2020-09-09 12:28:43,409 - htmd.builder.builder - INFO - Created segment P1 between resid 257 and 346.\n",
      "2020-09-09 12:28:48,341 - htmd.molecule.molecule - INFO - Removed 0 atoms. 3730 atoms remaining in the molecule.\n",
      "2020-09-09 12:28:48,702 - htmd.molecule.molecule - INFO - Removed 0 atoms. 3730 atoms remaining in the molecule.\n",
      "2020-09-09 12:28:49,388 - htmd.builder.builder - INFO - Created segment P0 between resid 29 and 342.\n",
      "2020-09-09 12:28:51,034 - moleculekit.tools.sequencestructuralalignment - INFO - No segment was specified by the user for `mol` and multiple segments (['P0', 'P1']) were detected. Alignment will be done on all protein segments.\n",
      "2020-09-09 12:28:51,095 - moleculekit.tools.sequencestructuralalignment - INFO - No segment was specified by the user for `ref`. Alignment will be done on all protein segments.\n",
      "2020-09-09 12:28:51,422 - moleculekit.tools.sequencestructuralalignment - WARNING - 15 alignments found. Limiting to 1 as specified in the `maxalignments` argument.\n",
      "2020-09-09 12:28:51,427 - moleculekit.tools.sequencestructuralalignment - INFO - Alignment #0 was done on 91 residues: mol segid P0 resid 31-121\n",
      "2020-09-09 12:28:55,612 - htmd.builder.preparation - WARNING - The following residue has not been optimized: JTZ\n",
      "2020-09-09 12:28:55,613 - htmd.builder.preparation - WARNING - The following residue has not been optimized: CLR\n",
      "2020-09-09 12:28:55,614 - htmd.builder.preparation - WARNING - The following residue has not been optimized: NA\n",
      "2020-09-09 12:28:55,615 - htmd.builder.preparation - WARNING - The following residue has not been optimized: TIP\n",
      "2020-09-09 12:29:13,069 - htmd.builder.preparationdata - INFO - The following residues are in a non-standard state: HIS    22  A (HIE), HIS    93  A (HIE), CYS   106  A (CYX), HIS   172  A (HIE), HIS   178  A (HIP), CYS   184  A (CYX), CYS   190  A (CYX), CYS   191  A (CYX), HIS   241  A (HID), HIS   269  P (HID), HIS   296  P (HID)\n",
      "2020-09-09 12:29:13,071 - htmd.builder.preparationdata - WARNING - Dubious protonation state: the pKa of 9 residues is within 1.0 units of pH 7.0.\n",
      "2020-09-09 12:29:13,073 - htmd.builder.preparationdata - WARNING - Dubious protonation state:    HIS    22  A (pKa= 6.20)\n",
      "2020-09-09 12:29:13,074 - htmd.builder.preparationdata - WARNING - Dubious protonation state:    HIS    93  A (pKa= 6.18)\n",
      "2020-09-09 12:29:13,075 - htmd.builder.preparationdata - WARNING - Dubious protonation state:    GLU   122  A (pKa= 6.54)\n",
      "2020-09-09 12:29:13,076 - htmd.builder.preparationdata - WARNING - Dubious protonation state:    HIS   172  A (pKa= 6.38)\n",
      "2020-09-09 12:29:13,077 - htmd.builder.preparationdata - WARNING - Dubious protonation state:    HIS   178  A (pKa= 7.05)\n",
      "2020-09-09 12:29:13,078 - htmd.builder.preparationdata - WARNING - Dubious protonation state:    HIS   241  A (pKa= 6.31)\n",
      "2020-09-09 12:29:13,079 - htmd.builder.preparationdata - WARNING - Dubious protonation state:    HIS   296  P (pKa= 6.50)\n",
      "2020-09-09 12:29:13,081 - htmd.builder.preparationdata - WARNING - Dubious protonation state:    N+     21T A (pKa= 7.93)\n",
      "2020-09-09 12:29:13,082 - htmd.builder.preparationdata - WARNING - Dubious protonation state:    N+    257T P (pKa= 7.83)\n",
      "2020-09-09 12:29:13,198 - htmd.builder.preparationdata - WARNING - Predictions for 10 residues may be incorrect because they are exposed to the membrane (-16.9<z<16.90 and buried<75.0%).\n"
     ]
    },
    {
     "name": "stdout",
     "output_type": "stream",
     "text": [
      "Adding membrane...\n"
     ]
    },
    {
     "name": "stderr",
     "output_type": "stream",
     "text": [
      "2020-09-09 12:29:14,888 - htmd.builder.builder - INFO - Replicating Membrane 3x3\n",
      "\n",
      "Replicating Membrane:   0%|          | 0/9 [00:00<?, ?it/s]\u001b[A\n",
      "Replicating Membrane:  11%|█         | 1/9 [00:00<00:04,  1.65it/s]\u001b[A\n",
      "Replicating Membrane:  22%|██▏       | 2/9 [00:01<00:04,  1.58it/s]\u001b[A\n",
      "Replicating Membrane:  33%|███▎      | 3/9 [00:01<00:03,  1.71it/s]\u001b[A\n",
      "Replicating Membrane:  44%|████▍     | 4/9 [00:02<00:03,  1.55it/s]\u001b[A\n",
      "Replicating Membrane:  56%|█████▌    | 5/9 [00:03<00:02,  1.39it/s]\u001b[A\n",
      "Replicating Membrane:  67%|██████▋   | 6/9 [00:04<00:02,  1.43it/s]\u001b[A\n",
      "Replicating Membrane:  78%|███████▊  | 7/9 [00:04<00:01,  1.46it/s]\u001b[A\n",
      "Replicating Membrane:  89%|████████▉ | 8/9 [00:05<00:00,  1.48it/s]\u001b[A\n",
      "Replicating Membrane: 100%|██████████| 9/9 [00:06<00:00,  1.49it/s]\u001b[A\n",
      "2020-09-09 12:31:39,145 - htmd.molecule.molecule - INFO - Removed 3033 atoms. 41718 atoms remaining in the molecule.\n",
      "2020-09-09 12:31:42,138 - htmd.molecule.molecule - INFO - Removed 83 residues from appended Molecule due to collisions.\n"
     ]
    },
    {
     "name": "stdout",
     "output_type": "stream",
     "text": [
      "Solvating...\n",
      "wataerbox Max and min:  [51.444923 52.355015 28.060892] [-47.308075 -46.377987 -27.734108]\n"
     ]
    },
    {
     "name": "stderr",
     "output_type": "stream",
     "text": [
      "2020-09-09 12:31:43,742 - htmd.builder.solvate - INFO - Using water pdb file at: /soft/EB_repo/devel/programs/foss/2016b/Anaconda3/5.0.1/lib/python3.6/site-packages/htmd/builder/wat.pdb\n",
      "2020-09-09 12:31:45,909 - htmd.builder.solvate - INFO - Replicating 8 water segments, 2 by 2 by 2\n",
      "\n",
      "Solvating:   0%|          | 0/8 [00:00<?, ?it/s]\u001b[A\n",
      "Solvating:  12%|█▎        | 1/8 [00:02<00:19,  2.76s/it]\u001b[A\n",
      "Solvating:  25%|██▌       | 2/8 [00:05<00:16,  2.75s/it]\u001b[A\n",
      "Solvating:  38%|███▊      | 3/8 [00:08<00:13,  2.74s/it]\u001b[A\n",
      "Solvating:  50%|█████     | 4/8 [00:10<00:10,  2.75s/it]\u001b[A\n",
      "Solvating:  62%|██████▎   | 5/8 [00:13<00:08,  2.73s/it]\u001b[A\n",
      "Solvating:  75%|███████▌  | 6/8 [00:16<00:05,  2.73s/it]\u001b[A\n",
      "Solvating:  88%|████████▊ | 7/8 [00:19<00:02,  2.73s/it]\u001b[A\n",
      "Solvating: 100%|██████████| 8/8 [00:21<00:00,  2.73s/it]\u001b[A\n",
      "2020-09-09 12:32:12,169 - htmd.builder.solvate - INFO - 15024 water molecules were added to the system.\n",
      "2020-09-09 12:32:30,949 - htmd.molecule.molecule - INFO - Removed 1512 atoms. 84030 atoms remaining in the molecule.\n"
     ]
    },
    {
     "name": "stdout",
     "output_type": "stream",
     "text": [
      "Pre-build...\n"
     ]
    },
    {
     "name": "stderr",
     "output_type": "stream",
     "text": [
      "2020-09-09 12:32:33,028 - htmd.builder.charmm - INFO - Writing out segments.\n",
      "2020-09-09 12:32:48,755 - htmd.builder.builder - INFO - 2 disulfide bonds were added\n"
     ]
    },
    {
     "name": "stdout",
     "output_type": "stream",
     "text": [
      "Disulfide Bond between: UniqueResidueID<resname: 'CYS', chain: 'P', resid: 184, insertion: '', segid: 'P0'>\n",
      "                   and: UniqueResidueID<resname: 'CYS', chain: 'P', resid: 190, insertion: '', segid: 'P0'>\n",
      "\n",
      "Disulfide Bond between: UniqueResidueID<resname: 'CYS', chain: 'P', resid: 106, insertion: '', segid: 'P0'>\n",
      "                   and: UniqueResidueID<resname: 'CYS', chain: 'P', resid: 191, insertion: '', segid: 'P0'>\n",
      "\n"
     ]
    },
    {
     "name": "stderr",
     "output_type": "stream",
     "text": [
      "2020-09-09 12:32:49,605 - htmd.builder.charmm - INFO - Starting the build.\n",
      "2020-09-09 12:32:51,376 - htmd.builder.charmm - WARNING - Failed to set coordinates for 2 atoms.\n",
      "2020-09-09 12:32:51,377 - htmd.builder.charmm - WARNING - Failed to guess coordinates for 1 atoms due to bad angles.\n",
      "2020-09-09 12:32:51,378 - htmd.builder.charmm - WARNING - Poorly guessed coordinates for 297 atoms.\n",
      "2020-09-09 12:32:51,379 - htmd.builder.charmm - WARNING - Please check /gpcr/users/daranda/doctorat/GPCR_simulations/simulation_output/pre-build/6PS2/log.txt for further information.\n",
      "2020-09-09 12:32:51,380 - htmd.builder.charmm - INFO - Finished building.\n",
      "2020-09-09 12:32:54,596 - htmd.molecule.readers - WARNING - Atoms with names \"HE21\" \"HE22\" were guessed as element H but could also be He (helium). If this is a case, you can correct them with mol.set('element', 'He', sel='name \"HE21\" \"HE22\"')\n",
      "2020-09-09 12:32:54,597 - htmd.molecule.readers - WARNING - Atoms with names \"HG11\" \"HG12\" \"HG13\" \"HG21\" \"HG22\" \"HG23\" were guessed as element H but could also be Hg (mercury). If this is a case, you can correct them with mol.set('element', 'Hg', sel='name \"HG11\" \"HG12\" \"HG13\" \"HG21\" \"HG22\" \"HG23\"')\n",
      "2020-09-09 12:33:08,901 - htmd.molecule.readers - WARNING - Atoms with names \"HE21\" \"HE22\" were guessed as element H but could also be He (helium). If this is a case, you can correct them with mol.set('element', 'He', sel='name \"HE21\" \"HE22\"')\n",
      "2020-09-09 12:33:08,903 - htmd.molecule.readers - WARNING - Atoms with names \"HG11\" \"HG12\" \"HG13\" \"HG21\" \"HG22\" \"HG23\" were guessed as element H but could also be Hg (mercury). If this is a case, you can correct them with mol.set('element', 'Hg', sel='name \"HG11\" \"HG12\" \"HG13\" \"HG21\" \"HG22\" \"HG23\"')\n"
     ]
    },
    {
     "name": "stdout",
     "output_type": "stream",
     "text": [
      "Checking aromatic insertions...\n",
      "WARNING: removed 0 atoms within 1.5 of a protein aromatic ring\n",
      "Renumbering...\n",
      "Ionizing...\n"
     ]
    },
    {
     "name": "stderr",
     "output_type": "stream",
     "text": [
      "2020-09-09 12:35:58,843 - htmd.builder.charmm - INFO - Writing out segments.\n",
      "2020-09-09 12:36:14,339 - htmd.builder.builder - INFO - 2 disulfide bonds were added\n"
     ]
    },
    {
     "name": "stdout",
     "output_type": "stream",
     "text": [
      "Disulfide Bond between: UniqueResidueID<resname: 'CYS', chain: 'P', resid: 184, insertion: '', segid: 'P0'>\n",
      "                   and: UniqueResidueID<resname: 'CYS', chain: 'P', resid: 190, insertion: '', segid: 'P0'>\n",
      "\n",
      "Disulfide Bond between: UniqueResidueID<resname: 'CYS', chain: 'P', resid: 106, insertion: '', segid: 'P0'>\n",
      "                   and: UniqueResidueID<resname: 'CYS', chain: 'P', resid: 191, insertion: '', segid: 'P0'>\n",
      "\n"
     ]
    },
    {
     "name": "stderr",
     "output_type": "stream",
     "text": [
      "2020-09-09 12:36:15,145 - htmd.builder.charmm - INFO - Starting the build.\n",
      "2020-09-09 12:36:16,891 - htmd.builder.charmm - WARNING - Failed to set coordinates for 2 atoms.\n",
      "2020-09-09 12:36:16,893 - htmd.builder.charmm - WARNING - Failed to guess coordinates for 1 atoms due to bad angles.\n",
      "2020-09-09 12:36:16,894 - htmd.builder.charmm - WARNING - Poorly guessed coordinates for 297 atoms.\n",
      "2020-09-09 12:36:16,895 - htmd.builder.charmm - WARNING - Please check /gpcr/users/daranda/doctorat/GPCR_simulations/simulation_output/ionize/6PS2/log.txt for further information.\n",
      "2020-09-09 12:36:16,895 - htmd.builder.charmm - INFO - Finished building.\n",
      "2020-09-09 12:36:20,297 - htmd.molecule.readers - WARNING - Atoms with names \"HE21\" \"HE22\" were guessed as element H but could also be He (helium). If this is a case, you can correct them with mol.set('element', 'He', sel='name \"HE21\" \"HE22\"')\n",
      "2020-09-09 12:36:20,298 - htmd.molecule.readers - WARNING - Atoms with names \"HG11\" \"HG12\" \"HG13\" \"HG21\" \"HG22\" \"HG23\" were guessed as element H but could also be Hg (mercury). If this is a case, you can correct them with mol.set('element', 'Hg', sel='name \"HG11\" \"HG12\" \"HG13\" \"HG21\" \"HG22\" \"HG23\"')\n",
      "2020-09-09 12:36:27,012 - htmd.builder.ionize - INFO - Adding 7 anions + 0 cations for neutralizing and 104 ions for the given salt concentration.\n",
      "2020-09-09 12:37:46,463 - htmd.builder.charmm - INFO - Writing out segments.\n",
      "2020-09-09 12:38:03,362 - htmd.builder.charmm - INFO - Starting the build.\n",
      "2020-09-09 12:38:05,139 - htmd.builder.charmm - WARNING - Failed to set coordinates for 2 atoms.\n",
      "2020-09-09 12:38:05,141 - htmd.builder.charmm - WARNING - Failed to guess coordinates for 1 atoms due to bad angles.\n",
      "2020-09-09 12:38:05,142 - htmd.builder.charmm - WARNING - Poorly guessed coordinates for 297 atoms.\n",
      "2020-09-09 12:38:05,143 - htmd.builder.charmm - WARNING - Please check /gpcr/users/daranda/doctorat/GPCR_simulations/simulation_output/ionize/6PS2/log.txt for further information.\n",
      "2020-09-09 12:38:05,143 - htmd.builder.charmm - INFO - Finished building.\n",
      "2020-09-09 12:38:08,399 - htmd.molecule.readers - WARNING - Atoms with names \"HE21\" \"HE22\" were guessed as element H but could also be He (helium). If this is a case, you can correct them with mol.set('element', 'He', sel='name \"HE21\" \"HE22\"')\n",
      "2020-09-09 12:38:08,400 - htmd.molecule.readers - WARNING - Atoms with names \"HG11\" \"HG12\" \"HG13\" \"HG21\" \"HG22\" \"HG23\" were guessed as element H but could also be Hg (mercury). If this is a case, you can correct them with mol.set('element', 'Hg', sel='name \"HG11\" \"HG12\" \"HG13\" \"HG21\" \"HG22\" \"HG23\"')\n",
      "2020-09-09 12:38:22,554 - htmd.molecule.readers - WARNING - Atoms with names \"HE21\" \"HE22\" were guessed as element H but could also be He (helium). If this is a case, you can correct them with mol.set('element', 'He', sel='name \"HE21\" \"HE22\"')\n",
      "2020-09-09 12:38:22,555 - htmd.molecule.readers - WARNING - Atoms with names \"HG11\" \"HG12\" \"HG13\" \"HG21\" \"HG22\" \"HG23\" were guessed as element H but could also be Hg (mercury). If this is a case, you can correct them with mol.set('element', 'Hg', sel='name \"HG11\" \"HG12\" \"HG13\" \"HG21\" \"HG22\" \"HG23\"')\n"
     ]
    },
    {
     "name": "stdout",
     "output_type": "stream",
     "text": [
      "Building...\n"
     ]
    },
    {
     "name": "stderr",
     "output_type": "stream",
     "text": [
      "2020-09-09 12:39:26,401 - htmd.builder.charmm - INFO - Writing out segments.\n",
      "2020-09-09 12:39:43,168 - htmd.builder.builder - INFO - 2 disulfide bonds were added\n"
     ]
    },
    {
     "name": "stdout",
     "output_type": "stream",
     "text": [
      "Disulfide Bond between: UniqueResidueID<resname: 'CYS', chain: 'P', resid: 184, insertion: '', segid: 'P0'>\n",
      "                   and: UniqueResidueID<resname: 'CYS', chain: 'P', resid: 190, insertion: '', segid: 'P0'>\n",
      "\n",
      "Disulfide Bond between: UniqueResidueID<resname: 'CYS', chain: 'P', resid: 106, insertion: '', segid: 'P0'>\n",
      "                   and: UniqueResidueID<resname: 'CYS', chain: 'P', resid: 191, insertion: '', segid: 'P0'>\n",
      "\n"
     ]
    },
    {
     "name": "stderr",
     "output_type": "stream",
     "text": [
      "2020-09-09 12:39:43,979 - htmd.builder.charmm - INFO - Starting the build.\n",
      "2020-09-09 12:39:45,760 - htmd.builder.charmm - INFO - Finished building.\n"
     ]
    },
    {
     "name": "stdout",
     "output_type": "stream",
     "text": [
      "End of 6PS2 after 679.071103811264 seconds\n",
      "\n",
      "\n",
      "start building model for receptor 5K2A (52/181)\n",
      "\n",
      "start building model for receptor 6FK7 (53/181)\n",
      "\n",
      "start building model for receptor 5UNH (54/181)\n",
      "\n",
      "start building model for receptor 5F8U (55/181)\n",
      "Structure 5F8U already has a watered version. Skipping...\n"
     ]
    },
    {
     "name": "stderr",
     "output_type": "stream",
     "text": [
      "2020-09-09 12:40:03,037 - htmd.molecule.molecule - INFO - Removed 0 atoms. 2669 atoms remaining in the molecule.\n",
      "2020-09-09 12:40:03,084 - htmd.molecule.molecule - INFO - Removed 0 atoms. 2669 atoms remaining in the molecule.\n",
      "2020-09-09 12:40:03,406 - htmd.molecule.molecule - INFO - Removed 0 atoms. 2669 atoms remaining in the molecule.\n",
      "2020-09-09 12:40:03,664 - htmd.molecule.molecule - INFO - Removed 0 atoms. 2669 atoms remaining in the molecule.\n",
      "2020-09-09 12:40:04,116 - htmd.builder.builder - INFO - Created segment P0 between resid 28 and 250.\n",
      "2020-09-09 12:40:04,117 - htmd.builder.builder - INFO - Created segment P1 between resid 270 and 363.\n",
      "2020-09-09 12:40:09,164 - htmd.molecule.molecule - INFO - Removed 0 atoms. 2239 atoms remaining in the molecule.\n",
      "2020-09-09 12:40:09,373 - htmd.molecule.molecule - INFO - Removed 0 atoms. 2239 atoms remaining in the molecule.\n",
      "2020-09-09 12:40:09,737 - htmd.builder.builder - INFO - Created segment P0 between resid 39 and 238.\n",
      "2020-09-09 12:40:09,738 - htmd.builder.builder - INFO - Created segment P1 between resid 284 and 359.\n",
      "2020-09-09 12:40:10,417 - moleculekit.tools.sequencestructuralalignment - INFO - No segment was specified by the user for `mol` and multiple segments (['P0', 'P1']) were detected. Alignment will be done on all protein segments.\n",
      "2020-09-09 12:40:10,481 - moleculekit.tools.sequencestructuralalignment - INFO - No segment was specified by the user for `ref` and multiple segments (['P0', 'P1']) were detected. Alignment will be done on all protein segments.\n",
      "2020-09-09 12:40:10,708 - moleculekit.tools.sequencestructuralalignment - WARNING - 3 alignments found. Limiting to 1 as specified in the `maxalignments` argument.\n",
      "2020-09-09 12:40:10,712 - moleculekit.tools.sequencestructuralalignment - INFO - Alignment #0 was done on 110 residues: mol segid P0 resid 117-226\n",
      "2020-09-09 12:40:14,960 - htmd.builder.preparation - WARNING - The following residue has not been optimized: P32\n",
      "2020-09-09 12:40:14,961 - htmd.builder.preparation - WARNING - The following residue has not been optimized: NA\n",
      "2020-09-09 12:40:14,961 - htmd.builder.preparation - WARNING - The following residue has not been optimized: TIP\n",
      "2020-09-09 12:40:33,014 - htmd.builder.preparationdata - INFO - The following residues are in a non-standard state: CYS   114  A (CYX), HIS   180  A (HID), CYS   192  A (CYX), CYS   198  A (CYX), CYS   199  A (CYX), HIS   286  P (HID)\n",
      "2020-09-09 12:40:33,017 - htmd.builder.preparationdata - WARNING - Dubious protonation state: the pKa of 5 residues is within 1.0 units of pH 7.0.\n",
      "2020-09-09 12:40:33,020 - htmd.builder.preparationdata - WARNING - Dubious protonation state:    GLU   130  A (pKa= 6.07)\n",
      "2020-09-09 12:40:33,021 - htmd.builder.preparationdata - WARNING - Dubious protonation state:    HIS   180  A (pKa= 6.17)\n",
      "2020-09-09 12:40:33,022 - htmd.builder.preparationdata - WARNING - Dubious protonation state:    HIS   286  P (pKa= 6.17)\n",
      "2020-09-09 12:40:33,023 - htmd.builder.preparationdata - WARNING - Dubious protonation state:    N+     28T A (pKa= 7.92)\n",
      "2020-09-09 12:40:33,024 - htmd.builder.preparationdata - WARNING - Dubious protonation state:    N+    270T P (pKa= 7.92)\n",
      "2020-09-09 12:40:33,143 - htmd.builder.preparationdata - WARNING - Predictions for 11 residues may be incorrect because they are exposed to the membrane (-16.4<z<16.40 and buried<75.0%).\n"
     ]
    },
    {
     "name": "stdout",
     "output_type": "stream",
     "text": [
      "Adding membrane...\n"
     ]
    },
    {
     "name": "stderr",
     "output_type": "stream",
     "text": [
      "2020-09-09 12:40:34,652 - htmd.builder.builder - INFO - Replicating Membrane 3x3\n",
      "\n",
      "Replicating Membrane:   0%|          | 0/9 [00:00<?, ?it/s]\u001b[A\n",
      "Replicating Membrane:  11%|█         | 1/9 [00:00<00:04,  1.70it/s]\u001b[A\n",
      "Replicating Membrane:  22%|██▏       | 2/9 [00:01<00:04,  1.64it/s]\u001b[A\n",
      "Replicating Membrane:  33%|███▎      | 3/9 [00:01<00:03,  1.79it/s]\u001b[A\n",
      "Replicating Membrane:  44%|████▍     | 4/9 [00:02<00:03,  1.63it/s]\u001b[A\n",
      "Replicating Membrane:  56%|█████▌    | 5/9 [00:03<00:02,  1.48it/s]\u001b[A\n",
      "Replicating Membrane:  67%|██████▋   | 6/9 [00:04<00:02,  1.29it/s]\u001b[A\n",
      "2020-09-09 12:42:23,784 - htmd.molecule.molecule - INFO - Removed 2595 atoms. 39643 atoms remaining in the molecule.\n",
      "2020-09-09 12:42:26,695 - htmd.molecule.molecule - INFO - Removed 87 residues from appended Molecule due to collisions.\n"
     ]
    },
    {
     "name": "stdout",
     "output_type": "stream",
     "text": [
      "Solvating...\n",
      "wataerbox Max and min:  [49.23575  49.374596 28.142359] [-45.398254 -45.647404 -27.652641]\n"
     ]
    },
    {
     "name": "stderr",
     "output_type": "stream",
     "text": [
      "2020-09-09 12:42:28,252 - htmd.builder.solvate - INFO - Using water pdb file at: /soft/EB_repo/devel/programs/foss/2016b/Anaconda3/5.0.1/lib/python3.6/site-packages/htmd/builder/wat.pdb\n",
      "2020-09-09 12:42:30,024 - htmd.builder.solvate - INFO - Replicating 8 water segments, 2 by 2 by 2\n",
      "\n",
      "Solvating:   0%|          | 0/8 [00:00<?, ?it/s]\u001b[A\n",
      "Solvating:  12%|█▎        | 1/8 [00:02<00:17,  2.57s/it]\u001b[A\n",
      "Solvating:  25%|██▌       | 2/8 [00:05<00:15,  2.58s/it]\u001b[A\n",
      "Solvating:  38%|███▊      | 3/8 [00:07<00:12,  2.57s/it]\u001b[A\n",
      "Solvating:  50%|█████     | 4/8 [00:10<00:10,  2.57s/it]\u001b[A\n",
      "Solvating:  62%|██████▎   | 5/8 [00:12<00:07,  2.57s/it]\u001b[A\n",
      "Solvating:  75%|███████▌  | 6/8 [00:15<00:05,  2.57s/it]\u001b[A\n",
      "Solvating:  88%|████████▊ | 7/8 [00:17<00:02,  2.57s/it]\u001b[A\n",
      "Solvating: 100%|██████████| 8/8 [00:20<00:00,  2.57s/it]\u001b[A\n",
      "2020-09-09 12:42:54,915 - htmd.builder.solvate - INFO - 14995 water molecules were added to the system.\n",
      "2020-09-09 12:43:11,791 - htmd.molecule.molecule - INFO - Removed 1158 atoms. 82079 atoms remaining in the molecule.\n"
     ]
    },
    {
     "name": "stdout",
     "output_type": "stream",
     "text": [
      "Pre-build...\n"
     ]
    },
    {
     "name": "stderr",
     "output_type": "stream",
     "text": [
      "2020-09-09 12:43:13,597 - htmd.builder.builder - WARNING - Segments ['P1'] contain both protein and non-protein atoms. Please assign separate segments to them or the build procedure might fail.\n",
      "2020-09-09 12:43:13,759 - htmd.builder.charmm - INFO - Writing out segments.\n",
      "2020-09-09 12:43:28,879 - htmd.builder.builder - INFO - 2 disulfide bonds were added\n"
     ]
    },
    {
     "name": "stdout",
     "output_type": "stream",
     "text": [
      "Disulfide Bond between: UniqueResidueID<resname: 'CYS', chain: 'P', resid: 114, insertion: '', segid: 'P0'>\n",
      "                   and: UniqueResidueID<resname: 'CYS', chain: 'P', resid: 199, insertion: '', segid: 'P0'>\n",
      "\n",
      "Disulfide Bond between: UniqueResidueID<resname: 'CYS', chain: 'P', resid: 192, insertion: '', segid: 'P0'>\n",
      "                   and: UniqueResidueID<resname: 'CYS', chain: 'P', resid: 198, insertion: '', segid: 'P0'>\n",
      "\n"
     ]
    },
    {
     "name": "stderr",
     "output_type": "stream",
     "text": [
      "2020-09-09 12:43:29,731 - htmd.builder.charmm - INFO - Starting the build.\n",
      "2020-09-09 12:43:31,451 - htmd.builder.charmm - WARNING - Failed to set coordinates for 2 atoms.\n",
      "2020-09-09 12:43:31,452 - htmd.builder.charmm - WARNING - Poorly guessed coordinates for 255 atoms.\n",
      "2020-09-09 12:43:31,453 - htmd.builder.charmm - WARNING - Please check /gpcr/users/daranda/doctorat/GPCR_simulations/simulation_output/pre-build/5F8U/log.txt for further information.\n",
      "2020-09-09 12:43:31,454 - htmd.builder.charmm - INFO - Finished building.\n",
      "2020-09-09 12:43:34,794 - htmd.molecule.readers - WARNING - Atoms with names \"HE21\" \"HE22\" were guessed as element H but could also be He (helium). If this is a case, you can correct them with mol.set('element', 'He', sel='name \"HE21\" \"HE22\"')\n",
      "2020-09-09 12:43:34,795 - htmd.molecule.readers - WARNING - Atoms with names \"HG11\" \"HG12\" \"HG13\" \"HG21\" \"HG22\" \"HG23\" were guessed as element H but could also be Hg (mercury). If this is a case, you can correct them with mol.set('element', 'Hg', sel='name \"HG11\" \"HG12\" \"HG13\" \"HG21\" \"HG22\" \"HG23\"')\n",
      "2020-09-09 12:43:48,617 - htmd.molecule.readers - WARNING - Atoms with names \"HE21\" \"HE22\" were guessed as element H but could also be He (helium). If this is a case, you can correct them with mol.set('element', 'He', sel='name \"HE21\" \"HE22\"')\n",
      "2020-09-09 12:43:48,618 - htmd.molecule.readers - WARNING - Atoms with names \"HG11\" \"HG12\" \"HG13\" \"HG21\" \"HG22\" \"HG23\" were guessed as element H but could also be Hg (mercury). If this is a case, you can correct them with mol.set('element', 'Hg', sel='name \"HG11\" \"HG12\" \"HG13\" \"HG21\" \"HG22\" \"HG23\"')\n"
     ]
    },
    {
     "name": "stdout",
     "output_type": "stream",
     "text": [
      "Checking aromatic insertions...\n",
      "WARNING: removed 0 atoms within 1.5 of a protein aromatic ring\n",
      "Renumbering...\n",
      "Ionizing...\n"
     ]
    },
    {
     "name": "stderr",
     "output_type": "stream",
     "text": [
      "2020-09-09 12:46:35,552 - htmd.builder.builder - WARNING - Segments ['P1'] contain both protein and non-protein atoms. Please assign separate segments to them or the build procedure might fail.\n",
      "2020-09-09 12:46:35,756 - htmd.builder.charmm - INFO - Writing out segments.\n",
      "2020-09-09 12:46:50,548 - htmd.builder.builder - INFO - 2 disulfide bonds were added\n"
     ]
    },
    {
     "name": "stdout",
     "output_type": "stream",
     "text": [
      "Disulfide Bond between: UniqueResidueID<resname: 'CYS', chain: 'P', resid: 114, insertion: '', segid: 'P0'>\n",
      "                   and: UniqueResidueID<resname: 'CYS', chain: 'P', resid: 199, insertion: '', segid: 'P0'>\n",
      "\n",
      "Disulfide Bond between: UniqueResidueID<resname: 'CYS', chain: 'P', resid: 192, insertion: '', segid: 'P0'>\n",
      "                   and: UniqueResidueID<resname: 'CYS', chain: 'P', resid: 198, insertion: '', segid: 'P0'>\n",
      "\n"
     ]
    },
    {
     "name": "stderr",
     "output_type": "stream",
     "text": [
      "2020-09-09 12:46:51,354 - htmd.builder.charmm - INFO - Starting the build.\n",
      "2020-09-09 12:46:53,086 - htmd.builder.charmm - WARNING - Failed to set coordinates for 2 atoms.\n",
      "2020-09-09 12:46:53,088 - htmd.builder.charmm - WARNING - Poorly guessed coordinates for 255 atoms.\n",
      "2020-09-09 12:46:53,089 - htmd.builder.charmm - WARNING - Please check /gpcr/users/daranda/doctorat/GPCR_simulations/simulation_output/ionize/5F8U/log.txt for further information.\n",
      "2020-09-09 12:46:53,090 - htmd.builder.charmm - INFO - Finished building.\n",
      "2020-09-09 12:46:56,344 - htmd.molecule.readers - WARNING - Atoms with names \"HE21\" \"HE22\" were guessed as element H but could also be He (helium). If this is a case, you can correct them with mol.set('element', 'He', sel='name \"HE21\" \"HE22\"')\n",
      "2020-09-09 12:46:56,345 - htmd.molecule.readers - WARNING - Atoms with names \"HG11\" \"HG12\" \"HG13\" \"HG21\" \"HG22\" \"HG23\" were guessed as element H but could also be Hg (mercury). If this is a case, you can correct them with mol.set('element', 'Hg', sel='name \"HG11\" \"HG12\" \"HG13\" \"HG21\" \"HG22\" \"HG23\"')\n",
      "2020-09-09 12:47:03,052 - htmd.builder.ionize - INFO - Adding 16 anions + 0 cations for neutralizing and 102 ions for the given salt concentration.\n",
      "2020-09-09 12:48:24,572 - htmd.builder.builder - WARNING - Segments ['P1'] contain both protein and non-protein atoms. Please assign separate segments to them or the build procedure might fail.\n",
      "2020-09-09 12:48:24,654 - htmd.builder.charmm - INFO - Writing out segments.\n",
      "2020-09-09 12:48:41,315 - htmd.builder.charmm - INFO - Starting the build.\n",
      "2020-09-09 12:48:43,048 - htmd.builder.charmm - WARNING - Failed to set coordinates for 2 atoms.\n",
      "2020-09-09 12:48:43,050 - htmd.builder.charmm - WARNING - Poorly guessed coordinates for 255 atoms.\n",
      "2020-09-09 12:48:43,051 - htmd.builder.charmm - WARNING - Please check /gpcr/users/daranda/doctorat/GPCR_simulations/simulation_output/ionize/5F8U/log.txt for further information.\n",
      "2020-09-09 12:48:43,051 - htmd.builder.charmm - INFO - Finished building.\n",
      "2020-09-09 12:48:46,324 - htmd.molecule.readers - WARNING - Atoms with names \"HE21\" \"HE22\" were guessed as element H but could also be He (helium). If this is a case, you can correct them with mol.set('element', 'He', sel='name \"HE21\" \"HE22\"')\n",
      "2020-09-09 12:48:46,325 - htmd.molecule.readers - WARNING - Atoms with names \"HG11\" \"HG12\" \"HG13\" \"HG21\" \"HG22\" \"HG23\" were guessed as element H but could also be Hg (mercury). If this is a case, you can correct them with mol.set('element', 'Hg', sel='name \"HG11\" \"HG12\" \"HG13\" \"HG21\" \"HG22\" \"HG23\"')\n",
      "2020-09-09 12:49:00,220 - htmd.molecule.readers - WARNING - Atoms with names \"HE21\" \"HE22\" were guessed as element H but could also be He (helium). If this is a case, you can correct them with mol.set('element', 'He', sel='name \"HE21\" \"HE22\"')\n",
      "2020-09-09 12:49:00,221 - htmd.molecule.readers - WARNING - Atoms with names \"HG11\" \"HG12\" \"HG13\" \"HG21\" \"HG22\" \"HG23\" were guessed as element H but could also be Hg (mercury). If this is a case, you can correct them with mol.set('element', 'Hg', sel='name \"HG11\" \"HG12\" \"HG13\" \"HG21\" \"HG22\" \"HG23\"')\n"
     ]
    },
    {
     "name": "stdout",
     "output_type": "stream",
     "text": [
      "Building...\n"
     ]
    },
    {
     "name": "stderr",
     "output_type": "stream",
     "text": [
      "2020-09-09 12:50:03,503 - htmd.builder.builder - WARNING - Segments ['P1'] contain both protein and non-protein atoms. Please assign separate segments to them or the build procedure might fail.\n",
      "2020-09-09 12:50:03,674 - htmd.builder.charmm - INFO - Writing out segments.\n",
      "2020-09-09 12:50:19,915 - htmd.builder.builder - INFO - 2 disulfide bonds were added\n"
     ]
    },
    {
     "name": "stdout",
     "output_type": "stream",
     "text": [
      "Disulfide Bond between: UniqueResidueID<resname: 'CYS', chain: 'P', resid: 114, insertion: '', segid: 'P0'>\n",
      "                   and: UniqueResidueID<resname: 'CYS', chain: 'P', resid: 199, insertion: '', segid: 'P0'>\n",
      "\n",
      "Disulfide Bond between: UniqueResidueID<resname: 'CYS', chain: 'P', resid: 192, insertion: '', segid: 'P0'>\n",
      "                   and: UniqueResidueID<resname: 'CYS', chain: 'P', resid: 198, insertion: '', segid: 'P0'>\n",
      "\n"
     ]
    },
    {
     "name": "stderr",
     "output_type": "stream",
     "text": [
      "2020-09-09 12:50:20,711 - htmd.builder.charmm - INFO - Starting the build.\n",
      "2020-09-09 12:50:21,559 - htmd.builder.charmm - INFO - Finished building.\n"
     ]
    },
    {
     "name": "stdout",
     "output_type": "stream",
     "text": [
      "model 5F8U could not be build because  'No structure pdb/psf file was generated. Check /gpcr/users/daranda/doctorat/GPCR_simulations/simulation_output/build/5F8U/log.txt for errors in building.'\n",
      "\n",
      "start building model for receptor 6HLL (56/181)\n",
      "\n",
      "start building model for receptor 5ZK3 (57/181)\n",
      "\n",
      "start building model for receptor 6TPN (58/181)\n",
      "Structure 6TPN already has a watered version. Skipping...\n"
     ]
    },
    {
     "name": "stderr",
     "output_type": "stream",
     "text": [
      "2020-09-09 12:50:25,017 - htmd.molecule.molecule - INFO - Removed 82 atoms. 2872 atoms remaining in the molecule.\n",
      "2020-09-09 12:50:25,071 - htmd.molecule.molecule - INFO - Removed 0 atoms. 2872 atoms remaining in the molecule.\n",
      "2020-09-09 12:50:25,431 - htmd.molecule.molecule - INFO - Removed 0 atoms. 2872 atoms remaining in the molecule.\n",
      "2020-09-09 12:50:25,722 - htmd.molecule.molecule - INFO - Removed 0 atoms. 2872 atoms remaining in the molecule.\n",
      "2020-09-09 12:50:26,224 - htmd.builder.builder - INFO - Created segment P0 between resid 32 and 261.\n",
      "2020-09-09 12:50:26,225 - htmd.builder.builder - INFO - Created segment P1 between resid 284 and 389.\n",
      "2020-09-09 12:50:32,186 - htmd.molecule.molecule - INFO - Removed 0 atoms. 4249 atoms remaining in the molecule.\n",
      "2020-09-09 12:50:32,598 - htmd.molecule.molecule - INFO - Removed 0 atoms. 4249 atoms remaining in the molecule.\n",
      "2020-09-09 12:50:33,450 - htmd.builder.builder - INFO - Created segment P0 between resid 32 and 198.\n",
      "2020-09-09 12:50:33,452 - htmd.builder.builder - INFO - Created segment P1 between resid 203 and 388.\n",
      "2020-09-09 12:50:36,776 - htmd.molecule.molecule - WARNING - Cannot provide one-letter code for non-standard residue YCM\n",
      "2020-09-09 12:50:36,789 - moleculekit.tools.sequencestructuralalignment - INFO - No segment was specified by the user for `mol` and multiple segments (['P0', 'P1']) were detected. Alignment will be done on all protein segments.\n",
      "2020-09-09 12:50:36,858 - moleculekit.tools.sequencestructuralalignment - INFO - No segment was specified by the user for `ref` and multiple segments (['P0', 'P1']) were detected. Alignment will be done on all protein segments.\n",
      "2020-09-09 12:50:36,947 - htmd.molecule.molecule - WARNING - Cannot provide one-letter code for non-standard residue YCM\n",
      "2020-09-09 12:50:37,433 - moleculekit.tools.sequencestructuralalignment - WARNING - 16 alignments found. Limiting to 1 as specified in the `maxalignments` argument.\n",
      "2020-09-09 12:50:37,436 - moleculekit.tools.sequencestructuralalignment - INFO - Alignment #0 was done on 41 residues: mol segid P0 resid 101-141\n",
      "2020-09-09 12:50:42,135 - htmd.builder.preparation - WARNING - The following residue has not been optimized: NU8\n",
      "2020-09-09 12:50:42,136 - htmd.builder.preparation - WARNING - The following residue has not been optimized: NO3\n",
      "2020-09-09 12:50:42,137 - htmd.builder.preparation - WARNING - The following residue has not been optimized: NA\n",
      "2020-09-09 12:50:42,138 - htmd.builder.preparation - WARNING - The following residue has not been optimized: TIP\n",
      "2020-09-09 12:51:00,906 - htmd.builder.preparationdata - INFO - The following residues are in a non-standard state: HIS    49  A (HID), HIS    83  A (HID), HIS    84  A (HIE), CYS   127  A (CYX), HIS   158  A (HID), CYS   210  A (CYX), HIS   224  A (HIE), HIS   335  P (HID), HIS   350  P (HID), HIS   387  P (HID), HIS   388  P (HID)\n",
      "2020-09-09 12:51:00,908 - htmd.builder.preparationdata - WARNING - Dubious protonation state: the pKa of 9 residues is within 1.0 units of pH 7.0.\n",
      "2020-09-09 12:51:00,910 - htmd.builder.preparationdata - WARNING - Dubious protonation state:    HIS    84  A (pKa= 6.21)\n",
      "2020-09-09 12:51:00,911 - htmd.builder.preparationdata - WARNING - Dubious protonation state:    HIS   158  A (pKa= 6.18)\n",
      "2020-09-09 12:51:00,912 - htmd.builder.preparationdata - WARNING - Dubious protonation state:    HIS   224  A (pKa= 6.37)\n",
      "2020-09-09 12:51:00,913 - htmd.builder.preparationdata - WARNING - Dubious protonation state:    HIS   335  P (pKa= 6.71)\n",
      "2020-09-09 12:51:00,914 - htmd.builder.preparationdata - WARNING - Dubious protonation state:    HIS   350  P (pKa= 6.01)\n",
      "2020-09-09 12:51:00,915 - htmd.builder.preparationdata - WARNING - Dubious protonation state:    HIS   387  P (pKa= 6.16)\n",
      "2020-09-09 12:51:00,916 - htmd.builder.preparationdata - WARNING - Dubious protonation state:    HIS   388  P (pKa= 6.32)\n",
      "2020-09-09 12:51:00,917 - htmd.builder.preparationdata - WARNING - Dubious protonation state:    N+     32T A (pKa= 7.87)\n",
      "2020-09-09 12:51:00,918 - htmd.builder.preparationdata - WARNING - Dubious protonation state:    N+    284T P (pKa= 7.93)\n",
      "2020-09-09 12:51:01,041 - htmd.builder.preparationdata - WARNING - Found C-terminus involved in H bonds\n",
      "2020-09-09 12:51:01,046 - htmd.builder.preparationdata - WARNING - Predictions for 10 residues may be incorrect because they are exposed to the membrane (-15.7<z<15.70 and buried<75.0%).\n"
     ]
    },
    {
     "name": "stdout",
     "output_type": "stream",
     "text": [
      "Adding membrane...\n"
     ]
    },
    {
     "name": "stderr",
     "output_type": "stream",
     "text": [
      "2020-09-09 12:51:02,565 - htmd.builder.builder - INFO - Replicating Membrane 3x3\n",
      "\n",
      "Replicating Membrane:   0%|          | 0/9 [00:00<?, ?it/s]\u001b[A\n",
      "Replicating Membrane:  11%|█         | 1/9 [00:00<00:04,  1.74it/s]\u001b[A\n",
      "Replicating Membrane:  22%|██▏       | 2/9 [00:01<00:04,  1.66it/s]\u001b[A\n",
      "Replicating Membrane:  33%|███▎      | 3/9 [00:01<00:03,  1.80it/s]\u001b[A\n",
      "Replicating Membrane:  44%|████▍     | 4/9 [00:02<00:03,  1.64it/s]\u001b[A\n",
      "Replicating Membrane:  56%|█████▌    | 5/9 [00:03<00:02,  1.48it/s]\u001b[A\n",
      "Replicating Membrane:  67%|██████▋   | 6/9 [00:04<00:02,  1.29it/s]\u001b[A\n",
      "2020-09-09 12:52:51,346 - htmd.molecule.molecule - INFO - Removed 2551 atoms. 40763 atoms remaining in the molecule.\n",
      "2020-09-09 12:52:54,450 - htmd.molecule.molecule - INFO - Removed 76 residues from appended Molecule due to collisions.\n"
     ]
    },
    {
     "name": "stdout",
     "output_type": "stream",
     "text": [
      "Solvating...\n",
      "wataerbox Max and min:  [48.489838 49.802414 28.174822] [-46.14416  -46.31059  -27.620178]\n"
     ]
    },
    {
     "name": "stderr",
     "output_type": "stream",
     "text": [
      "2020-09-09 12:52:56,084 - htmd.builder.solvate - INFO - Using water pdb file at: /soft/EB_repo/devel/programs/foss/2016b/Anaconda3/5.0.1/lib/python3.6/site-packages/htmd/builder/wat.pdb\n",
      "2020-09-09 12:52:58,031 - htmd.builder.solvate - INFO - Replicating 8 water segments, 2 by 2 by 2\n",
      "\n",
      "Solvating:   0%|          | 0/8 [00:00<?, ?it/s]\u001b[A\n",
      "Solvating:  12%|█▎        | 1/8 [00:02<00:18,  2.63s/it]\u001b[A\n",
      "Solvating:  25%|██▌       | 2/8 [00:05<00:15,  2.61s/it]\u001b[A\n",
      "Solvating:  38%|███▊      | 3/8 [00:07<00:12,  2.56s/it]\u001b[A\n",
      "Solvating:  50%|█████     | 4/8 [00:10<00:10,  2.59s/it]\u001b[A\n",
      "Solvating:  62%|██████▎   | 5/8 [00:12<00:07,  2.58s/it]\u001b[A\n",
      "Solvating:  75%|███████▌  | 6/8 [00:15<00:05,  2.60s/it]\u001b[A\n",
      "Solvating:  88%|████████▊ | 7/8 [00:17<00:02,  2.55s/it]\u001b[A\n",
      "Solvating: 100%|██████████| 8/8 [00:20<00:00,  2.57s/it]\u001b[A\n",
      "2020-09-09 12:53:23,212 - htmd.builder.solvate - INFO - 19185 water molecules were added to the system.\n",
      "2020-09-09 12:53:43,431 - htmd.molecule.molecule - INFO - Removed 1443 atoms. 95065 atoms remaining in the molecule.\n"
     ]
    },
    {
     "name": "stdout",
     "output_type": "stream",
     "text": [
      "Pre-build...\n"
     ]
    },
    {
     "name": "stderr",
     "output_type": "stream",
     "text": [
      "2020-09-09 12:53:45,854 - htmd.builder.charmm - INFO - Writing out segments.\n",
      "2020-09-09 12:54:03,190 - htmd.builder.builder - INFO - One disulfide bond was added\n"
     ]
    },
    {
     "name": "stdout",
     "output_type": "stream",
     "text": [
      "Disulfide Bond between: UniqueResidueID<resname: 'CYS', chain: 'P', resid: 127, insertion: '', segid: 'P0'>\n",
      "                   and: UniqueResidueID<resname: 'CYS', chain: 'P', resid: 210, insertion: '', segid: 'P0'>\n",
      "\n"
     ]
    },
    {
     "name": "stderr",
     "output_type": "stream",
     "text": [
      "2020-09-09 12:54:03,996 - htmd.builder.charmm - INFO - Starting the build.\n",
      "2020-09-09 12:54:04,229 - htmd.builder.charmm - WARNING - Failed to set coordinates for 2 atoms.\n",
      "2020-09-09 12:54:04,231 - htmd.builder.charmm - WARNING - Please check /gpcr/users/daranda/doctorat/GPCR_simulations/simulation_output/pre-build/6TPN/log.txt for further information.\n"
     ]
    },
    {
     "name": "stdout",
     "output_type": "stream",
     "text": [
      "model 6TPN could not be build because  UnknownResidueError(\"Unknown residue(s) ['NO3'] found in the input structure. You are either missing a topology definition for the residue or you need to rename it to the correct residue name\",)\n",
      "Check /gpcr/users/daranda/doctorat/GPCR_simulations/simulation_output/pre-build/6TPN/log.txt for further information on errors in building.\n",
      "\n",
      "start building model for receptor 5N2R (59/181)\n",
      "\n",
      "start building model for receptor 5YQZ (60/181)\n",
      "Structure 5YQZ already has a watered version. Skipping...\n"
     ]
    },
    {
     "name": "stderr",
     "output_type": "stream",
     "text": [
      "2020-09-09 12:54:06,865 - htmd.molecule.molecule - INFO - Removed 90 atoms. 3446 atoms remaining in the molecule.\n",
      "2020-09-09 12:54:06,926 - htmd.molecule.molecule - INFO - Removed 56 atoms. 3390 atoms remaining in the molecule.\n",
      "2020-09-09 12:54:07,355 - htmd.molecule.molecule - INFO - Removed 0 atoms. 3390 atoms remaining in the molecule.\n",
      "2020-09-09 12:54:07,700 - htmd.molecule.molecule - INFO - Removed 0 atoms. 3390 atoms remaining in the molecule.\n",
      "2020-09-09 12:54:13,060 - htmd.molecule.molecule - INFO - Removed 0 atoms. 4664 atoms remaining in the molecule.\n",
      "2020-09-09 12:54:13,523 - htmd.molecule.molecule - INFO - Removed 0 atoms. 4664 atoms remaining in the molecule.\n",
      "2020-09-09 12:54:14,476 - htmd.builder.builder - INFO - Created segment P0 between resid 27 and 426.\n",
      "2020-09-09 12:54:14,477 - htmd.builder.builder - INFO - Created segment P1 between resid 2 and 29.\n",
      "2020-09-09 12:54:16,113 - moleculekit.tools.sequencestructuralalignment - INFO - No segment was specified by the user for `mol`. Alignment will be done on all protein segments.\n",
      "2020-09-09 12:54:16,194 - moleculekit.tools.sequencestructuralalignment - INFO - No segment was specified by the user for `ref` and multiple segments (['P0', 'P1']) were detected. Alignment will be done on all protein segments.\n",
      "2020-09-09 12:54:17,205 - moleculekit.tools.sequencestructuralalignment - INFO - Alignment #0 was done on 167 residues: mol segid P0 resid 260-426\n"
     ]
    },
    {
     "name": "stdout",
     "output_type": "stream",
     "text": [
      "model 5YQZ could not be build because  'NoneType' object has no attribute 'find'\n",
      "\n",
      "start building model for receptor 6KNM (61/181)\n",
      "Structure 6KNM already has a watered version. Skipping...\n"
     ]
    },
    {
     "name": "stderr",
     "output_type": "stream",
     "text": [
      "2020-09-09 12:54:20,386 - htmd.molecule.molecule - INFO - Removed 0 atoms. 2617 atoms remaining in the molecule.\n",
      "2020-09-09 12:54:20,430 - htmd.molecule.molecule - INFO - Removed 0 atoms. 2617 atoms remaining in the molecule.\n",
      "2020-09-09 12:54:20,737 - htmd.molecule.molecule - INFO - Removed 0 atoms. 2617 atoms remaining in the molecule.\n",
      "2020-09-09 12:54:20,983 - htmd.molecule.molecule - INFO - Removed 0 atoms. 2617 atoms remaining in the molecule.\n",
      "2020-09-09 12:54:26,091 - htmd.molecule.molecule - INFO - Removed 0 atoms. 3697 atoms remaining in the molecule.\n",
      "2020-09-09 12:54:26,445 - htmd.molecule.molecule - INFO - Removed 0 atoms. 3697 atoms remaining in the molecule.\n",
      "2020-09-09 12:54:27,198 - htmd.builder.builder - INFO - Created segment P0 between resid 18 and 327.\n",
      "2020-09-09 12:54:27,200 - htmd.builder.builder - INFO - Created segment P1 between resid 1 and 122.\n",
      "2020-09-09 12:54:27,941 - moleculekit.tools.sequencestructuralalignment - INFO - No segment was specified by the user for `mol`. Alignment will be done on all protein segments.\n",
      "2020-09-09 12:54:28,003 - moleculekit.tools.sequencestructuralalignment - INFO - No segment was specified by the user for `ref` and multiple segments (['P0', 'P1']) were detected. Alignment will be done on all protein segments.\n",
      "2020-09-09 12:54:28,542 - moleculekit.tools.sequencestructuralalignment - WARNING - 6 alignments found. Limiting to 1 as specified in the `maxalignments` argument.\n",
      "2020-09-09 12:54:28,545 - moleculekit.tools.sequencestructuralalignment - INFO - Alignment #0 was done on 99 residues: mol segid P0 resid 18-116\n",
      "2020-09-09 12:54:29,922 - htmd.molecule.molecule - INFO - Removed 9 atoms. 2608 atoms remaining in the molecule.\n",
      "2020-09-09 12:54:29,967 - htmd.molecule.molecule - INFO - Removed 2294 atoms. 314 atoms remaining in the molecule.\n",
      "2020-09-09 12:54:29,968 - htmd.builder.preparation - WARNING - The holdSelection option is untested and deprecated. Please use reprepare()\n",
      "2020-09-09 12:54:33,224 - htmd.builder.preparation - WARNING - The following residue has not been optimized: ZN\n",
      "2020-09-09 12:54:33,225 - htmd.builder.preparation - WARNING - The following residue has not been optimized: TIP\n",
      "2020-09-09 12:54:50,272 - htmd.builder.preparationdata - INFO - The following residues are in a non-standard state: GLU    18  P (GLH), CYS    19  P (CYX), GLU    20  P (GLH), ASP    23  P (ASH), GLU    59  P (GLH), ASP    65  P (ASH), ASP    75  P (ASH), ASP    92  P (ASH), ASP    94  P (ASH), CYS   102  P (CYX), ASP   126  P (ASH), ASP   172  P (ASH), GLU   174  P (GLH), CYS   181  P (CYX), ASP   184  P (ASH), GLU   194  P (GLH), GLU   198  P (GLH), HIS   231  P (HIP), GLU   235  P (GLH), GLU   238  P (GLH), HIS   265  P (HIP), HIS   278  P (HIP), CYS   281  P (CYX), ASP   282  P (ASH), ASP   284  P (ASH), ASP   313  P (ASH)\n",
      "2020-09-09 12:54:53,788 - htmd.builder.preparation - WARNING - The following residue has not been optimized: ZN\n",
      "2020-09-09 12:54:53,789 - htmd.builder.preparation - WARNING - The following residue has not been optimized: TIP\n",
      "2020-09-09 12:55:03,226 - htmd.builder.preparationdata - INFO - The following residues are in a non-standard state: LYS   242  P (LYN)\n",
      "2020-09-09 12:55:03,228 - htmd.builder.preparationdata - WARNING - Dubious protonation state: the pKa of 2 residues is within 1.0 units of pH 7.0.\n",
      "2020-09-09 12:55:03,230 - htmd.builder.preparationdata - WARNING - Dubious protonation state:    LYS   242  P (pKa= 6.80)\n",
      "2020-09-09 12:55:03,231 - htmd.builder.preparationdata - WARNING - Dubious protonation state:    LYS   268  P (pKa= 7.15)\n",
      "2020-09-09 12:55:03,351 - htmd.builder.preparationdata - WARNING - Predictions for 12 residues may be incorrect because they are exposed to the membrane (-16.5<z<16.50 and buried<75.0%).\n"
     ]
    },
    {
     "name": "stdout",
     "output_type": "stream",
     "text": [
      "Adding membrane...\n"
     ]
    },
    {
     "name": "stderr",
     "output_type": "stream",
     "text": [
      "2020-09-09 12:55:04,853 - htmd.builder.builder - INFO - Replicating Membrane 3x3\n",
      "\n",
      "Replicating Membrane:   0%|          | 0/9 [00:00<?, ?it/s]\u001b[A\n",
      "Replicating Membrane:  11%|█         | 1/9 [00:00<00:04,  1.71it/s]\u001b[A\n",
      "Replicating Membrane:  22%|██▏       | 2/9 [00:01<00:04,  1.61it/s]\u001b[A\n",
      "Replicating Membrane:  33%|███▎      | 3/9 [00:01<00:03,  1.75it/s]\u001b[A\n",
      "Replicating Membrane:  44%|████▍     | 4/9 [00:02<00:03,  1.60it/s]\u001b[A\n",
      "Replicating Membrane:  56%|█████▌    | 5/9 [00:03<00:02,  1.45it/s]\u001b[A\n",
      "Replicating Membrane:  67%|██████▋   | 6/9 [00:04<00:02,  1.27it/s]\u001b[A\n",
      "2020-09-09 12:56:54,869 - htmd.molecule.molecule - INFO - Removed 2374 atoms. 40988 atoms remaining in the molecule.\n",
      "2020-09-09 12:56:57,856 - htmd.molecule.molecule - INFO - Removed 78 residues from appended Molecule due to collisions.\n"
     ]
    },
    {
     "name": "stdout",
     "output_type": "stream",
     "text": [
      "Solvating...\n",
      "wataerbox Max and min:  [48.49004  50.03344  28.174822] [-46.143963 -46.31056  -27.620178]\n"
     ]
    },
    {
     "name": "stderr",
     "output_type": "stream",
     "text": [
      "2020-09-09 12:56:59,393 - htmd.builder.solvate - INFO - Using water pdb file at: /soft/EB_repo/devel/programs/foss/2016b/Anaconda3/5.0.1/lib/python3.6/site-packages/htmd/builder/wat.pdb\n",
      "2020-09-09 12:57:01,313 - htmd.builder.solvate - INFO - Replicating 8 water segments, 2 by 2 by 2\n",
      "\n",
      "Solvating:   0%|          | 0/8 [00:00<?, ?it/s]\u001b[A\n",
      "Solvating:  12%|█▎        | 1/8 [00:02<00:19,  2.74s/it]\u001b[A\n",
      "Solvating:  25%|██▌       | 2/8 [00:05<00:16,  2.70s/it]\u001b[A\n",
      "Solvating:  38%|███▊      | 3/8 [00:07<00:13,  2.65s/it]\u001b[A\n",
      "Solvating:  50%|█████     | 4/8 [00:10<00:10,  2.64s/it]\u001b[A\n",
      "Solvating:  62%|██████▎   | 5/8 [00:13<00:07,  2.63s/it]\u001b[A\n",
      "Solvating:  75%|███████▌  | 6/8 [00:15<00:05,  2.62s/it]\u001b[A\n",
      "Solvating:  88%|████████▊ | 7/8 [00:18<00:02,  2.63s/it]\u001b[A\n",
      "Solvating: 100%|██████████| 8/8 [00:21<00:00,  2.63s/it]\u001b[A\n",
      "2020-09-09 12:57:26,200 - htmd.builder.solvate - INFO - 12562 water molecules were added to the system.\n",
      "2020-09-09 12:57:41,914 - htmd.molecule.molecule - INFO - Removed 777 atoms. 75826 atoms remaining in the molecule.\n"
     ]
    },
    {
     "name": "stdout",
     "output_type": "stream",
     "text": [
      "Pre-build...\n"
     ]
    },
    {
     "name": "stderr",
     "output_type": "stream",
     "text": [
      "2020-09-09 12:57:43,804 - htmd.builder.charmm - INFO - Writing out segments.\n"
     ]
    }
   ],
   "source": [
    "###########################\n",
    "## Part 2: Build the models \n",
    "###########################\n",
    "  \n",
    "# Iterate by GPCRdb structures to simulate\n",
    "pdbs_number = len(pdb_set)\n",
    "i = 0\n",
    "for pdbcode in pdb_set:\n",
    "#for pdbcode in ['5YQZ']:\n",
    "    try:\n",
    "        #Starting simulation\n",
    "        start_time = time.time()        \n",
    "        i += 1\n",
    "        print('\\nstart building model for receptor %s (%d/%d)' % (pdbcode, i, pdbs_number))\n",
    "        # Skip if there is already a model build for this\n",
    "        if os.path.exists(resultspath+'build/'+pdbcode+'/structure.pdb'):\n",
    "            #print('Build model for '+pdbcode+' already exists. Skipping...')\n",
    "            continue\n",
    "\n",
    "        # Add internal waters to GPCRdb structures, using HomolWat\n",
    "        simdir = basepath + 'data_sim/'+pdbcode+'/'\n",
    "        sod2x50 = internal_waters(simdir, pdbcode, gpcrdb_data)\n",
    "\n",
    "        # Load GPCRdb and OPM versions of GPCR with pdbcode\n",
    "        gpcrdb_mol = Molecule(glob(simdir + '*_HW.pdb'))\n",
    "        thickness,opm_mol = get_opm(pdbcode)\n",
    "        \n",
    "        # Remove unnecessary ligand molecules: mostly crystalization detergents, quelants, buffers,\n",
    "        # or post-traductional glicosilations\n",
    "        gpcrdb_mol.remove('resname '+' '.join(detergent_blacklist))\n",
    "        gpcrdb_mol.remove('resname '+' '.join(glucids_blacklist))\n",
    "        \n",
    "        # Ismael's function to add labels (segid) for 'ligand' and 'protein' parts of the system\n",
    "        #And many things more I do not really understand\n",
    "        gpcrdb_mol_fixed,receptor_segids_gpcrdb = fix_and_prepare_input(gpcrdb_mol)\n",
    "        opm_mol_fixed,receptor_segids_opm = fix_and_prepare_input(opm_mol)\n",
    "\n",
    "        # Paths and previous variables\n",
    "        modelname = pdbcode # Example name\n",
    "        opm_modelname = pdbcode + '_opm'\n",
    "        \n",
    "        # Assigning new chain to protein segment of the protein to align (opm and gpcrdb)\n",
    "        opm_receptorsel = 'segid '+' '.join(receptor_segids_opm)\n",
    "        opm_mol_fixed.set('chain',new_pdb_chain,sel=opm_receptorsel)\n",
    "        gpcrdb_receptorsel = 'segid '+' '.join(receptor_segids_gpcrdb)\n",
    "        gpcrdb_mol_fixed.set('chain',new_pdb_chain,sel=gpcrdb_receptorsel)\n",
    "\n",
    "        # Align structrues using sequences, and take first one\n",
    "        alignment_results = sequenceStructureAlignment(gpcrdb_mol_fixed, opm_mol_fixed, maxalignments = 1)\n",
    "        mol_aligned = alignment_results[0] \n",
    "\n",
    "        #Center to receptor XY\n",
    "        center = np.mean(mol_aligned.get('coords',sel=gpcrdb_receptorsel),axis=0)\n",
    "        mol_aligned.moveBy([-center[0],-center[1],0])\n",
    "\n",
    "        # Prepare protein: asign titration states, flipping side chains of HIS, ASN and GLN; rotate some sidechains, optimize waters, etc.\n",
    "        # Most of this is done with a HTMD function called proteinPrepare()\n",
    "        prepared_mol = prepare_system(mol_aligned, pdbcode, thickness, sod2x50)\n",
    "        \n",
    "        #Add membrane\n",
    "        print('Adding membrane...')\n",
    "        membranemol = Molecule(membranepdb)\n",
    "        mol_membraned, membrane_resnames, membrane_segids, xreps, yreps = add_membrane(mol_aligned, membranemol,receptor_segids_gpcrdb,membrane_distance)\n",
    "\n",
    "        # Needed later for equilibration\n",
    "        with open(simdir+\"const_sel.txt\",'w') as out: \n",
    "            const_sel = 'segid '+' '.join(receptor_segids_gpcrdb)+' and name C CA N O or not (segid ' + \\\n",
    "              ' '.join(receptor_segids_gpcrdb)+' or resname '+' '.join(membrane_resnames) + \\\n",
    "              ' or water or ions ) and noh or segid ION WAT and noh'\n",
    "            out.write(const_sel)\n",
    "            \n",
    "        #Solvate\n",
    "        print('Solvating...')\n",
    "        mol_solvated = solvate_pdbmol(mol_membraned,membrane_segids,water_thickness,water_margin,buffer=buffer,coldist=coldist,prefix='WT')\n",
    "\n",
    "        # Make list of Ligand stringfiles (Parameters and topology)\n",
    "        streams = []\n",
    "        for ligcode in ligandsdict[pdbcode]:\n",
    "            streams.append(basepath + 'Ligands/'+ ligcode+ '/toppar.str')\n",
    "\n",
    "        # Assignign terminology for cap atoms of protein chain, depending if it is the receptor protein or not\n",
    "        caps_receptor = ['first ACE', 'last CT3']\n",
    "        caps_not_receptor_protein = ['first NTER', 'last CTER']\n",
    "        caps = { segid : caps_receptor for segid in receptor_segids_gpcrdb }\n",
    "\n",
    "        #Pre-build model\n",
    "        print('Pre-build...')\n",
    "        prebuildmol = charmm.build(mol_solvated, \n",
    "                                   topo=topos, \n",
    "                                   param=params,\n",
    "                                   stream=streams,\n",
    "                                   caps=caps,\n",
    "                                   outdir=resultspath+'/pre-build/'+modelname,\n",
    "                                   ionize=False)\n",
    "\n",
    "        # Save prebuild model topologies in files, and  store prebuild model in molecule object\n",
    "        prebuild_psffile = prebuildmol.topoloc\n",
    "        prebuild_pdbfile = os.path.splitext(prebuildmol.topoloc)[0]+'.pdb'\n",
    "        prebuildmol = Molecule(prebuild_pdbfile)\n",
    "        _recoverProtonations(prebuildmol)\n",
    "\n",
    "        # Checking of aromatic insertions (takes quite a lot fo time)\n",
    "        print('Checking aromatic insertions...')\n",
    "        mol_removed,removed_indexes = remove_aromatic_insertions(mol_solvated,receptor_segids_gpcrdb, outpdb=resultspath+'/pre-build/'+modelname+'/aromatic_check.pdb')\n",
    "\n",
    "        # Checking of water/lipid ratio\n",
    "        lipid_num = len(set(mol_removed.get('resid',sel='segid '+membrane_lipid_segid)))\n",
    "        solv_num = len(mol_removed.get('index',sel='resname TIP3 and name OH2'))\n",
    "        if float(solv_num) / lipid_num < 35:\n",
    "            raise ValueError('Water/lipid ratio lower than 35.')\n",
    "\n",
    "        #Renumber residues\n",
    "        print('Renumbering...')\n",
    "        mol_renumbered = renumber_resid_vmd(mol_removed,'segid '+' '.join(membrane_segids),by=2)\n",
    "\n",
    "        # Ionizing system\n",
    "        print('Ionizing...')\n",
    "        molbuilt = charmm.build(mol_removed,\n",
    "                                topo=topos,\n",
    "                                stream=streams,                        \n",
    "                                param=params,\n",
    "                                outdir=resultspath+'/ionize/'+modelname,\n",
    "                                saltconc=0.15,\n",
    "                                caps=caps)\n",
    "        build_psffile = molbuilt.topoloc\n",
    "        build_pdbfile = os.path.splitext(molbuilt.topoloc)[0]+'.pdb'\n",
    "        molbuilt = Molecule(build_pdbfile)\n",
    "        _recoverProtonations(molbuilt)\n",
    "\n",
    "        #Building system\n",
    "        print('Building...')\n",
    "        molbuilt = renumber_resid_vmd(molbuilt,'segid \"WT.*\" or segid I',by=2)\n",
    "        molbuilt = charmm.build(molbuilt, \n",
    "                                topo=topos, \n",
    "                                stream=streams,                        \n",
    "                                param=params,\n",
    "                                outdir=resultspath+'/build/'+modelname,\n",
    "                                caps=caps,ionize=False)\n",
    "\n",
    "        print('End of %s after %s seconds\\n' % (modelname, time.time() - start_time))\n",
    "    except Exception as e:\n",
    "        print(\"model \"+pdbcode+\" could not be build because \",e)"
   ]
  },
  {
   "cell_type": "code",
   "execution_count": 9,
   "metadata": {},
   "outputs": [
    {
     "name": "stderr",
     "output_type": "stream",
     "text": [
      "2020-09-01 08:52:03,139 - htmd.builder.builder - WARNING - Found cis peptide bond in 1 frames: [0] in the omega diheral \"Angle of (SER 204 CA P0 P) (SER 204 C P0 P) (PRO 205 N P0 P) (PRO 205 CA P0 P) \" with indexes [2602, 2609, 2611, 2615]\n",
      "2020-09-01 08:52:03,140 - htmd.builder.builder - WARNING - Found cis peptide bond in 1 frames: [0] in the omega diheral \"Angle of (THR 335 CA P0 P) (THR 335 C P0 P) (PRO 336 N P0 P) (PRO 336 CA P0 P) \" with indexes [4790, 4800, 4802, 4806]\n",
      "2020-09-01 08:52:03,534 - htmd.protocols.equilibration_v2 - WARNING - Lipids detected in input structure. We highly recommend setting useconstantratio=True for membrane simulations.\n",
      "2020-09-01 08:52:03,534 - htmd.protocols.equilibration_v2 - INFO - Using user-provided restraints and ignoring constraints and fb_potential\n",
      "2020-09-01 08:52:07,090 - jobqueues.slurmqueue - INFO - Queueing /gpcr/users/daranda/doctorat/GPCR_simulations/simulation_output//equil/4EJ4/\n"
     ]
    }
   ],
   "source": [
    "#########################\n",
    "## Part 3: Equillibration\n",
    "#########################\n",
    "\n",
    "def define_equilibration(const_sel):\n",
    "    simtime = 40\n",
    "    restr = AtomRestraint(const_sel, 2, [(0,\"0\"),(1,\"%dns\" % int(simtime*0.5)),(0,\"%dns\" % int(simtime*0.75))], \"xyz\")\n",
    "    md = Equilibration()\n",
    "    md.runtime = simtime\n",
    "    md.timeunits = 'ns'\n",
    "    md.temperature = 310\n",
    "    md.nvtsteps = 0\n",
    "    md.acemd.barostatconstratio = 'on'\n",
    "    md.acemd.minimize = 5000\n",
    "    #md.acemd.minimize = str(5000)\n",
    "    md.acemd.restart = 'off'\n",
    "    md.acemd.timestep = 2\n",
    "    md.restraints = restr\n",
    "    md._version = 3\n",
    "    return md\n",
    "\n",
    "\n",
    "#Launch equilibration\n",
    "try:\n",
    "    sqs\n",
    "except NameError:\n",
    "    sqs = {}\n",
    "\n",
    "#for pdbcode in pdb_set:\n",
    "for pdbcode in ['4EJ4']:\n",
    "    modelname = pdbcode\n",
    "    pdbfile = '%s/build/%s/structure.pdb' % (resultspath, pdbcode)\n",
    "    if modelname in sqs:\n",
    "        print('Skipping '+modelname+': it has already been submitted.')\n",
    "        #continue\n",
    "\n",
    "    # Preparing scripts to run equillibration\n",
    "    equildir = resultspath+'/equil/'+modelname+'/'\n",
    "    if not os.path.exists(equildir):\n",
    "        os.makedirs(equildir)\n",
    "\n",
    "    # Taking vmd selection line\n",
    "    with open(basepath+'data_sim/'+pdbcode+'/const_sel.txt', 'r') as outfile:\n",
    "        const_sel = outfile.readlines()[0]\n",
    "    \n",
    "    md = define_equilibration(const_sel)\n",
    "    md.write(resultspath+'build/'+modelname,equildir)\n",
    "\n",
    "    #Substitute run.sh generated by HTMD by a different one, adapted to the specified path of ACEMD\n",
    "    with open(equildir + 'run.sh', 'w') as f:\n",
    "        f.write('#!/bin/bash\\n%s >log.txt 2>&1' % acemd_path)\n",
    "        \n",
    "    sq = SlurmQueue()\n",
    "    sq.envvars = acemd_license\n",
    "    sq.jobname = 'eql_'+pdbcode\n",
    "    sq.datadir = None\n",
    "    sq.partition = 'gpcr_gpu'\n",
    "    sq.ngpu = 1\n",
    "    sq.ncpu = 1\n",
    "    sq.nodelist = 'bombur'\n",
    "    \n",
    "    #sq.exclude = 'excluded_node'\n",
    "    \n",
    "    # directory to copy input and store output of equilibration (initial working directory for run_equil.sh).\n",
    "    # equildir directory has to be in the computation server, or in a shared folder for the computation folder.\n",
    "    equildir = resultspath + '/equil/'+modelname+'/'\n",
    "    # copy equil folder in build to equildir\n",
    "    #copytree(resultspath+'/build/'+modelname+'/equil',equildir)\n",
    "    sq.submit(equildir)\n",
    "    sqs[modelname] = sq\n",
    "sqs = {}"
   ]
  },
  {
   "cell_type": "code",
   "execution_count": null,
   "metadata": {},
   "outputs": [],
   "source": [
    "# reset tracking for all\n",
    "sqs = {}"
   ]
  },
  {
   "cell_type": "code",
   "execution_count": 47,
   "metadata": {},
   "outputs": [],
   "source": [
    "# WARNING!!!: run me to KILL simulations that are still running\n",
    "for modelname in sqs:\n",
    "    sqs[modelname].stop()"
   ]
  },
  {
   "cell_type": "code",
   "execution_count": null,
   "metadata": {},
   "outputs": [],
   "source": [
    "############ Equilibration commands and parameters\n",
    "\n",
    "#run me to check how many simulations are still running\n",
    "sum([sqs[modelname].inprogress() for modelname in sqs])    "
   ]
  },
  {
   "cell_type": "code",
   "execution_count": 10,
   "metadata": {},
   "outputs": [
    {
     "name": "stderr",
     "output_type": "stream",
     "text": [
      "2020-09-01 13:03:50,736 - htmd.builder.builder - WARNING - Found cis peptide bond in 1 frames: [0] in the omega diheral \"Angle of (SER 204 CA P0 P) (SER 204 C P0 P) (PRO 205 N P0 P) (PRO 205 CA P0 P) \" with indexes [2602, 2609, 2611, 2615]\n",
      "2020-09-01 13:03:50,737 - htmd.builder.builder - WARNING - Found cis peptide bond in 1 frames: [0] in the omega diheral \"Angle of (THR 335 CA P0 P) (THR 335 C P0 P) (PRO 336 N P0 P) (PRO 336 CA P0 P) \" with indexes [4790, 4800, 4802, 4806]\n",
      "2020-09-01 13:03:51,148 - htmd.protocols.production_v6 - WARNING - Lipids detected in input structure. We highly recommend setting useconstantratio=True for membrane simulations.\n"
     ]
    },
    {
     "ename": "RuntimeError",
     "evalue": "Could not find any of the files \"output.coor\" specified for command \"bincoordinates\" in path /gpcr/users/daranda/doctorat/GPCR_simulations/simulation_output//equil/4EJ4/",
     "output_type": "error",
     "traceback": [
      "\u001b[0;31m---------------------------------------------------------------------------\u001b[0m",
      "\u001b[0;31mRuntimeError\u001b[0m                              Traceback (most recent call last)",
      "\u001b[0;32m<ipython-input-10-0fb1441b5864>\u001b[0m in \u001b[0;36m<module>\u001b[0;34m\u001b[0m\n\u001b[1;32m     49\u001b[0m         \u001b[0;31m# directory copy output of equilibration to production input (initial working directory for run_prod.sh).\u001b[0m\u001b[0;34m\u001b[0m\u001b[0;34m\u001b[0m\u001b[0m\n\u001b[1;32m     50\u001b[0m         \u001b[0mproddir\u001b[0m\u001b[0;34m=\u001b[0m\u001b[0;34m'%sproduction/%s/rep_%d/'\u001b[0m \u001b[0;34m%\u001b[0m \u001b[0;34m(\u001b[0m\u001b[0mresultspath\u001b[0m\u001b[0;34m,\u001b[0m \u001b[0mmodelname\u001b[0m\u001b[0;34m,\u001b[0m \u001b[0mrep\u001b[0m\u001b[0;34m)\u001b[0m\u001b[0;34m\u001b[0m\u001b[0m\n\u001b[0;32m---> 51\u001b[0;31m         \u001b[0mmd\u001b[0m\u001b[0;34m.\u001b[0m\u001b[0mwrite\u001b[0m\u001b[0;34m(\u001b[0m\u001b[0mequildir\u001b[0m\u001b[0;34m,\u001b[0m\u001b[0mproddir\u001b[0m\u001b[0;34m)\u001b[0m\u001b[0;34m\u001b[0m\u001b[0m\n\u001b[0m\u001b[1;32m     52\u001b[0m \u001b[0;34m\u001b[0m\u001b[0m\n\u001b[1;32m     53\u001b[0m         \u001b[0;31m# This replaces htmd generated run.sh. Input and output for simulations is set in bash_script_folder+'/run_equil.sh'.\u001b[0m\u001b[0;34m\u001b[0m\u001b[0;34m\u001b[0m\u001b[0m\n",
      "\u001b[0;32m~/miniconda3/lib/python3.6/site-packages/htmd/protocols/production_v6.py\u001b[0m in \u001b[0;36mwrite\u001b[0;34m(self, inputdir, outputdir)\u001b[0m\n\u001b[1;32m    342\u001b[0m             \u001b[0mself\u001b[0m\u001b[0;34m.\u001b[0m\u001b[0macemd\u001b[0m\u001b[0;34m.\u001b[0m\u001b[0mbinvelocities\u001b[0m \u001b[0;34m=\u001b[0m \u001b[0;32mNone\u001b[0m\u001b[0;34m\u001b[0m\u001b[0m\n\u001b[1;32m    343\u001b[0m \u001b[0;34m\u001b[0m\u001b[0m\n\u001b[0;32m--> 344\u001b[0;31m         \u001b[0mself\u001b[0m\u001b[0;34m.\u001b[0m\u001b[0macemd\u001b[0m\u001b[0;34m.\u001b[0m\u001b[0msetup\u001b[0m\u001b[0;34m(\u001b[0m\u001b[0minputdir\u001b[0m\u001b[0;34m,\u001b[0m \u001b[0moutputdir\u001b[0m\u001b[0;34m,\u001b[0m \u001b[0moverwrite\u001b[0m\u001b[0;34m=\u001b[0m\u001b[0;32mTrue\u001b[0m\u001b[0;34m)\u001b[0m\u001b[0;34m\u001b[0m\u001b[0m\n\u001b[0m\u001b[1;32m    345\u001b[0m \u001b[0;34m\u001b[0m\u001b[0m\n\u001b[1;32m    346\u001b[0m         \u001b[0;32mif\u001b[0m \u001b[0mself\u001b[0m\u001b[0;34m.\u001b[0m\u001b[0m_version\u001b[0m \u001b[0;34m==\u001b[0m \u001b[0;36m2\u001b[0m\u001b[0;34m:\u001b[0m\u001b[0;34m\u001b[0m\u001b[0m\n",
      "\u001b[0;32m~/miniconda3/lib/python3.6/site-packages/htmd/mdengine/acemd/acemd.py\u001b[0m in \u001b[0;36msetup\u001b[0;34m(self, indir, outdir, overwrite)\u001b[0m\n\u001b[1;32m    229\u001b[0m             \u001b[0mOverwrite\u001b[0m \u001b[0moutput\u001b[0m \u001b[0mdirectory\u001b[0m \u001b[0;32mif\u001b[0m \u001b[0mit\u001b[0m \u001b[0mexists\u001b[0m\u001b[0;34m.\u001b[0m\u001b[0;34m\u001b[0m\u001b[0m\n\u001b[1;32m    230\u001b[0m         \"\"\"\n\u001b[0;32m--> 231\u001b[0;31m         \u001b[0mself\u001b[0m\u001b[0;34m.\u001b[0m\u001b[0mload\u001b[0m\u001b[0;34m(\u001b[0m\u001b[0mindir\u001b[0m\u001b[0;34m)\u001b[0m\u001b[0;34m\u001b[0m\u001b[0m\n\u001b[0m\u001b[1;32m    232\u001b[0m         \u001b[0mself\u001b[0m\u001b[0;34m.\u001b[0m\u001b[0msave\u001b[0m\u001b[0;34m(\u001b[0m\u001b[0moutdir\u001b[0m\u001b[0;34m,\u001b[0m \u001b[0moverwrite\u001b[0m\u001b[0;34m)\u001b[0m\u001b[0;34m\u001b[0m\u001b[0m\n\u001b[1;32m    233\u001b[0m \u001b[0;34m\u001b[0m\u001b[0m\n",
      "\u001b[0;32m~/miniconda3/lib/python3.6/site-packages/htmd/mdengine/acemd/acemd.py\u001b[0m in \u001b[0;36mload\u001b[0;34m(self, path)\u001b[0m\n\u001b[1;32m    176\u001b[0m                 \u001b[0;32mif\u001b[0m \u001b[0;32mnot\u001b[0m \u001b[0mfound\u001b[0m\u001b[0;34m:\u001b[0m\u001b[0;34m\u001b[0m\u001b[0m\n\u001b[1;32m    177\u001b[0m                     raise RuntimeError('Could not find any of the files \"{}\" specified for command \"{}\" '\n\u001b[0;32m--> 178\u001b[0;31m                                        'in path {}'.format(self.__dict__[cmd], cmd, path))\n\u001b[0m\u001b[1;32m    179\u001b[0m \u001b[0;34m\u001b[0m\u001b[0m\n\u001b[1;32m    180\u001b[0m         \u001b[0mself\u001b[0m\u001b[0;34m.\u001b[0m\u001b[0m_amberConfig\u001b[0m\u001b[0;34m(\u001b[0m\u001b[0;34m)\u001b[0m  \u001b[0;31m# Change stuff for AMBER\u001b[0m\u001b[0;34m\u001b[0m\u001b[0m\n",
      "\u001b[0;31mRuntimeError\u001b[0m: Could not find any of the files \"output.coor\" specified for command \"bincoordinates\" in path /gpcr/users/daranda/doctorat/GPCR_simulations/simulation_output//equil/4EJ4/"
     ]
    }
   ],
   "source": [
    "#####################\n",
    "## Part 4: Production\n",
    "#####################\n",
    "\n",
    "def define_production():\n",
    "    md = Production()\n",
    "    md.runtime = 500\n",
    "    md.timeunits = 'ns'\n",
    "    md.temperature = 310\n",
    "    md.acemd.timestep = 4\n",
    "    md.acemd.barostatconstratio = 'on'\n",
    "    md.acemd.barostat = 'off'\n",
    "    md.acemd.barostatpressure = 1.01325\n",
    "    md.acemd.restart = 'off'\n",
    "    md.acemd.bincoordinates = 'output.coor'\n",
    "    md.acemd.extendedsystem  = 'output.xsc'\n",
    "    md.acemd.binvelocities = 'output.vel'\n",
    "    return md\n",
    "sqs_p = {}\n",
    "\n",
    "# Production protocol\n",
    "md = define_production()\n",
    "\n",
    "# If some model should be skipped, put its name here\n",
    "modelname_skip = {}\n",
    "\n",
    "# number of replicates (provisionaly one)\n",
    "repnum = 1\n",
    "# Create pdbid-to-productionObject dictionary if not exists yet\n",
    "try:\n",
    "    sqs_p\n",
    "except NameError:\n",
    "    sqs_p = {}\n",
    "\n",
    "# For each PDB \n",
    "for pdbcode in pdb_set:\n",
    "    \n",
    "    # must match with equildir in equilibration launcher code and contain input and output of equilibration.\n",
    "    modelname = pdbcode\n",
    "    equildir = '%s/equil/%s/' % (resultspath, modelname)\n",
    "    for rep in range(1,repnum+1):\n",
    "        if modelname in modelname_skip:\n",
    "            print('Skipping '+modelname+'_'+str(rep)+'.')\n",
    "            continue\n",
    "        if modelname+'_'+str(rep) in sqs_p:\n",
    "            print('Skipping '+modelname+'_'+str(rep)+': it has already been submitted.')\n",
    "            continue\n",
    "        md = define_production()\n",
    "        # directory copy output of equilibration to production input (initial working directory for run_prod.sh).\n",
    "        proddir='%sproduction/%s/rep_%d/' % (resultspath, modelname, rep)\n",
    "        md.write(equildir,proddir)\n",
    "        \n",
    "        # This replaces htmd generated run.sh. Input and output for simulations is set in bash_script_folder+'/run_equil.sh'.\n",
    "        # Memo 7-9-1017: datadir = inputdir+'/../../data/'+modelname #defined in bash_script_folder+'/run_equil.sh\n",
    "        #copy2(bash_script_folder+'/run_prod.sh',inputdir+'/run.sh')\n",
    "        #copy2(bash_script_folder+'/copyback.sh',inputdir)\n",
    "        \n",
    "        sq = SlurmQueue()\n",
    "        sq.envvars = acemd_license\n",
    "        sq.jobname = modelname+'_pr'+str(rep)\n",
    "        sq.datadir = None\n",
    "        sq.partition = 'gpcr_gpu'\n",
    "        sq.ngpu = 1\n",
    "        sq.ncpu = 2\n",
    "        sq.nodelist = ['dwalin', 'gimli']\n",
    "        \n",
    "        #Substitute run.sh generated by HTMD by a different one, adapted to the specified path of ACEMD\n",
    "        with open(proddir + 'run.sh', 'w') as f:\n",
    "            f.write('#!/bin/bash\\n%s >log.txt 2>&1' % acemd_path)\n",
    "        \n",
    "        sqs_p[modelname+'_'+str(rep)] = sq\n",
    "        sq.submit(proddir)\n"
   ]
  },
  {
   "cell_type": "code",
   "execution_count": null,
   "metadata": {},
   "outputs": [],
   "source": [
    "# WARNING!!!: run me to KILL simulations that are still running\n",
    "for modelname_rep in sqs_p:\n",
    "    sqs_p[modelname_rep].stop()"
   ]
  },
  {
   "cell_type": "code",
   "execution_count": 13,
   "metadata": {},
   "outputs": [],
   "source": [
    "# reset tracking for all\n",
    "sqs_p = {}"
   ]
  }
 ],
 "metadata": {
  "kernelspec": {
   "display_name": "Python 3",
   "language": "python",
   "name": "python3"
  },
  "language_info": {
   "codemirror_mode": {
    "name": "ipython",
    "version": 3
   },
   "file_extension": ".py",
   "mimetype": "text/x-python",
   "name": "python",
   "nbconvert_exporter": "python",
   "pygments_lexer": "ipython3",
   "version": "3.6.9"
  }
 },
 "nbformat": 4,
 "nbformat_minor": 2
}
