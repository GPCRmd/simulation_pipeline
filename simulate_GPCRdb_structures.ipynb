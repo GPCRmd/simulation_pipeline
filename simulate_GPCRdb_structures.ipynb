{
 "cells": [
  {
   "cell_type": "code",
   "execution_count": 10,
   "metadata": {},
   "outputs": [
    {
     "name": "stdout",
     "output_type": "stream",
     "text": [
      "The autoreload extension is already loaded. To reload it, use:\n",
      "  %reload_ext autoreload\n",
      "env: PATH=/soft/system/easybuild/software/Miniconda3/4.7.10:/soft/system/easybuild/software/Miniconda3/4.7.10/bin:/home/daranda/miniconda3/bin:/home/daranda/miniconda3/condabin:/soft/EB_repo/bio/structure/programs/noarch/Chimera/1.16/bin:/soft/EB_repo/bio/structure/programs/foss/2016b/VMD/1.9.4a9/bin:/soft/system/lua/bin:/soft/system/luarocks/bin:/usr/lib64/qt-3.3/bin:/soft/system/lua/bin:/soft/system/luarocks/bin:/usr/local/bin:/usr/local/sbin:/usr/bin:/usr/sbin:/bin:/sbin:/opt/puppetlabs/bin:/home/daranda/.local/bin:/home/daranda/bin:/home/daranda/bin:/home/daranda/software/getcontacts-master:/gpcr/users/daranda/doctorat/simulate_6WGT_7WC7/fake_slurm/:/gpcr/users/daranda/doctorat/simulate_6WGT_7WC7/fake_slurm/\n"
     ]
    }
   ],
   "source": [
    "####################\n",
    "## Initial stuff\n",
    "####################\n",
    "\n",
    "# Load functions, modules and global variables required in our pipeline\n",
    "from simulate_structures_functions import *\n",
    "from importlib import reload  \n",
    "from htmd.builder.charmm import _recoverProtonations\n",
    "%load_ext autoreload\n",
    "%autoreload 2\n",
    "\n",
    "# Are we running curated structures??\n",
    "curated = False\n",
    "\n",
    "# Paramchem passwords\n",
    "username = 'paramoid'\n",
    "# username = 'ameboid'\n",
    "#password = 'euglenoid-123'\n",
    "#password = 'stendoroid-123'\n",
    "password = 'paramoid-123'\n",
    "\n",
    "\n",
    "# PDB codes of the GPCRs to be simulated. \n",
    "# If no codes are provided, all avalible structures in GPCRdb will be used (except the ones already simulated)\n",
    "pdb_set = {'6WGT','7WC7'}\n",
    "\n",
    "# Our main path\n",
    "basepath = basepath = os.getcwd()+'/'\n",
    "# Other Paths\n",
    "strucpath = basepath + 'data_structures/'\n",
    "resultspath = basepath + 'simulation_output/'\n",
    "membranepdb = basepath + 'membrane/popc36_box_renumbered.pdb'\n",
    "topparpath = basepath + 'toppar/TOP_PARAMS_ACE3/'#toppar= topology+parameters\n",
    "ligandsdict_path = basepath + 'ligands.json'\n",
    "modres_path = basepath + 'modified_residues.json'\n",
    "slurmpath = basepath+'fake_slurm/'\n",
    "# Path to slurm queing system binaries\n",
    "# In our case, Ismael designed a bunch of small bash scripts (fake_slurm) which do ssh to Hydra and execute slurm there\n",
    "path= os.environ['PATH']\n",
    "\n",
    "# Assign a file to each pdbcode (in this case, the downloaded refined PDB structures)\n",
    "struc_dict = { pdbcode : \"%s%s/%s_refined.pdb\"%(strucpath,pdbcode,pdbcode) for pdbcode in pdb_set }\n",
    "\n",
    "# Modify path to include fake slurm\n",
    "%env PATH=$path:$slurmpath\n",
    "\n",
    "# Load topology, parameter and stream files with our current basepath\n",
    "topos = [os.path.join(topparpath,file) for file in toposfilenames] \n",
    "params = [os.path.join(topparpath,file) for file in paramsfilenames]\n",
    "streams = [os.path.join(topparpath,file) for file in streamsfilenames]\n"
   ]
  },
  {
   "cell_type": "code",
   "execution_count": 2,
   "metadata": {},
   "outputs": [
    {
     "name": "stdout",
     "output_type": "stream",
     "text": [
      "Downloading 6WGT structure (1/2)\n",
      "Structure for 6WGT already present. Skipping...\n",
      "Downloading 7WC7 structure (2/2)\n",
      "Structure for 7WC7 already present. Skipping...\n",
      "Getting toppar file for ligand H8G \n",
      "legacy toppar for ligand H8G already exists. Skipping...\n",
      "latest toppar for ligand H8G already exists. Skipping...\n",
      "Getting toppar file for ligand 7LD \n",
      "legacy toppar for ligand 7LD already exists. Skipping...\n",
      "latest toppar for ligand 7LD already exists. Skipping...\n"
     ]
    }
   ],
   "source": [
    "################################################\n",
    "# Part 1: Download data and prepare dictionaries\n",
    "################################################\n",
    "\n",
    "# Download and store refined structures from GPCRdb\n",
    "download_GPCRdb_structures(pdb_set, strucpath)\n",
    "\n",
    "#Create or moidfy the ligands dictionary\n",
    "(ligandsdict, ligandsset, modresdict) = ligand_dictionary(struc_dict, ligandsdict_path, modres_path, basepath, blacklist)\n",
    "\n",
    "# Get topology-parameter files for ligands\n",
    "get_lig_toppar(ligandsdict, basepath, username, password)\n",
    "\n",
    "# Get topology-parameter files for modified residues\n",
    "get_modres_toppar(modresdict, basepath, username, password)"
   ]
  },
  {
   "cell_type": "code",
   "execution_count": 55,
   "metadata": {
    "scrolled": true
   },
   "outputs": [
    {
     "name": "stdout",
     "output_type": "stream",
     "text": [
      "Build model for 7WC7 already exists. Skipping...\n",
      "Building model for /gpcr/users/daranda/doctorat/simulate_6WGT_7WC7/data_structures/6WGT/6WGT_refined.pdb ...\n",
      "Structure 6WGT already has a watered version. Skipping...\n"
     ]
    },
    {
     "name": "stderr",
     "output_type": "stream",
     "text": [
      "2022-08-22 17:58:48,261 - moleculekit.molecule - INFO - Removed 20 atoms. 2562 atoms remaining in the molecule.\n",
      "2022-08-22 17:58:50,592 - moleculekit.molecule - INFO - Removed 0 atoms. 2562 atoms remaining in the molecule.\n",
      "2022-08-22 17:58:50,646 - moleculekit.molecule - INFO - Removed 0 atoms. 2562 atoms remaining in the molecule.\n",
      "2022-08-22 17:58:50,800 - moleculekit.molecule - INFO - Removed 0 atoms. 2562 atoms remaining in the molecule.\n",
      "2022-08-22 17:58:50,952 - moleculekit.molecule - INFO - Removed 0 atoms. 2562 atoms remaining in the molecule.\n",
      "2022-08-22 17:58:51,290 - moleculekit.molecule - INFO - Removed 0 atoms. 2562 atoms remaining in the molecule.\n",
      "2022-08-22 17:58:51,465 - moleculekit.tools.autosegment - INFO - Created segment P0 between resid 64 and 277.\n",
      "2022-08-22 17:58:51,466 - moleculekit.tools.autosegment - INFO - Created segment P1 between resid 307 and 402.\n",
      "2022-08-22 17:58:55,960 - moleculekit.readers - INFO - Attempting PDB query for 6WGT\n",
      "2022-08-22 17:59:02,505 - moleculekit.molecule - INFO - Removed 0 atoms. 2562 atoms remaining in the molecule.\n",
      "2022-08-22 17:59:06,691 - moleculekit.tools.sequencestructuralalignment - INFO - No segment was specified by the user for `ref`. Alignment will be done on all protein segments.\n",
      "2022-08-22 17:59:06,927 - moleculekit.tools.sequencestructuralalignment - WARNING - 4 alignments found. Limiting to 1 as specified in the `maxalignments` argument.\n",
      "2022-08-22 17:59:06,932 - moleculekit.tools.sequencestructuralalignment - INFO - Alignment #0 was done on 144 residues: mol segid P0 resid 72-215\n",
      "2022-08-22 17:59:07,059 - moleculekit.tools.preparation - WARNING - Both chains and segments are defined in Molecule.chain / Molecule.segid, however they are inconsistent. Protein preparation will use the chain information.\n"
     ]
    },
    {
     "name": "stdout",
     "output_type": "stream",
     "text": [
      "\n",
      "---- Molecule chain report ----\n",
      "Chain L:\n",
      "    First residue: 7LD:1:\n",
      "    Final residue: 7LD:1:\n",
      "Chain R:\n",
      "    First residue: SER:64:\n",
      "    Final residue: ASN:402:\n",
      "Chain X:\n",
      "    First residue: TIP3:1:\n",
      "    Final residue: TIP3:86:\n",
      "---- End of chain report ----\n",
      "\n"
     ]
    },
    {
     "name": "stderr",
     "output_type": "stream",
     "text": [
      "2022-08-22 17:59:10,810 - moleculekit.tools.preparation - WARNING - The following residue has not been optimized: 7LD\n",
      "2022-08-22 17:59:10,812 - moleculekit.tools.preparation - WARNING - The following residue has not been optimized: TIP\n",
      "2022-08-22 17:59:28,947 - moleculekit.tools.preparationdata - INFO - The following residues are in a non-standard state: HIS    70  A (HID), CYS   148  A (CYX), HIS   165  A (HID), HIS   182  A (HID), HIS   183  A (HID), CYS   227  A (CYX), CYS   349  R (CYX), CYS   353  R (CYX)\n",
      "2022-08-22 17:59:28,950 - moleculekit.tools.preparationdata - WARNING - Dubious protonation state: the pKa of 4 residues is within 1.0 units of pH 7.0.\n",
      "2022-08-22 17:59:28,952 - moleculekit.tools.preparationdata - WARNING - Dubious protonation state:    HIS    70  A (pKa= 6.13)\n",
      "2022-08-22 17:59:28,953 - moleculekit.tools.preparationdata - WARNING - Dubious protonation state:    HIS   183  A (pKa= 6.96)\n",
      "2022-08-22 17:59:28,954 - moleculekit.tools.preparationdata - WARNING - Dubious protonation state:    N+     64T A (pKa= 7.89)\n",
      "2022-08-22 17:59:28,955 - moleculekit.tools.preparationdata - WARNING - Dubious protonation state:    N+    307T R (pKa= 7.91)\n",
      "2022-08-22 17:59:29,064 - moleculekit.tools.preparationdata - WARNING - Predictions for 13 residues may be incorrect because they are exposed to the membrane (-17.1<z<17.10 and buried<75.0%).\n",
      "2022-08-22 17:59:30,522 - pdb2pqr.src.routines - INFO - In residue SER A 64 removing atom H instead of H1\n",
      "2022-08-22 17:59:30,530 - pdb2pqr.src.routines - INFO - In residue THR R 307 removing atom H instead of H1\n"
     ]
    },
    {
     "name": "stdout",
     "output_type": "stream",
     "text": [
      "Adding membrane...\n"
     ]
    },
    {
     "name": "stderr",
     "output_type": "stream",
     "text": [
      "2022-08-22 17:59:52,967 - htmd.builder.builder - INFO - Replicating Membrane 3x3\n",
      "Replicating Membrane: 100%|██████████| 9/9 [00:06<00:00,  1.33it/s]\n",
      "2022-08-22 18:03:36,647 - moleculekit.molecule - INFO - Removed 1831 atoms. 49420 atoms remaining in the molecule.\n",
      "2022-08-22 18:03:42,892 - moleculekit.molecule - INFO - Removed 110 residues from appended Molecule due to collisions.\n"
     ]
    },
    {
     "name": "stdout",
     "output_type": "stream",
     "text": [
      "Solvating...\n",
      "wataerbox Max and min:  [55.84947  55.255943 28.081614] [-49.753532 -50.354057 -27.713387]\n"
     ]
    },
    {
     "name": "stderr",
     "output_type": "stream",
     "text": [
      "2022-08-22 18:03:44,989 - htmd.builder.solvate - INFO - Using water pdb file at: /soft/system/easybuild/software/Miniconda3/4.7.10/lib/python3.6/site-packages/htmd/share/solvate/wat.pdb\n",
      "2022-08-22 18:03:47,247 - htmd.builder.solvate - INFO - Replicating 8 water segments, 2 by 2 by 2\n",
      "Solvating: 100%|██████████| 8/8 [00:25<00:00,  3.13s/it]\n",
      "2022-08-22 18:04:17,778 - htmd.builder.solvate - INFO - 17710 water molecules were added to the system.\n",
      "2022-08-22 18:04:38,471 - moleculekit.molecule - INFO - Removed 885 atoms. 101079 atoms remaining in the molecule.\n"
     ]
    },
    {
     "name": "stdout",
     "output_type": "stream",
     "text": [
      "Pre-build...\n"
     ]
    },
    {
     "name": "stderr",
     "output_type": "stream",
     "text": [
      "2022-08-22 18:04:53,795 - htmd.builder.charmm - INFO - Writing out segments.\n",
      "2022-08-22 18:05:11,610 - moleculekit.writers - WARNING - Field \"serial\" of PDB overflows. Your data will be truncated to 5 characters.\n",
      "2022-08-22 18:05:12,804 - moleculekit.writers - WARNING - Field \"serial\" of PDB overflows. Your data will be truncated to 5 characters.\n",
      "2022-08-22 18:05:12,911 - htmd.builder.builder - INFO - 2 disulfide bonds were added\n"
     ]
    },
    {
     "name": "stdout",
     "output_type": "stream",
     "text": [
      "Disulfide Bond between: UniqueResidueID<resname: 'CYX', chain: 'A', resid: 148, insertion: '', segid: 'P0'>\n",
      "                   and: UniqueResidueID<resname: 'CYX', chain: 'A', resid: 227, insertion: '', segid: 'P0'>\n",
      "\n",
      "Disulfide Bond between: UniqueResidueID<resname: 'CYX', chain: 'R', resid: 349, insertion: '', segid: 'P1'>\n",
      "                   and: UniqueResidueID<resname: 'CYX', chain: 'R', resid: 353, insertion: '', segid: 'P1'>\n",
      "\n"
     ]
    },
    {
     "name": "stderr",
     "output_type": "stream",
     "text": [
      "2022-08-22 18:05:14,313 - htmd.builder.charmm - INFO - Starting the build.\n",
      "2022-08-22 18:05:16,394 - htmd.builder.charmm - WARNING - Failed to set coordinates for 13 atoms.\n",
      "2022-08-22 18:05:16,396 - htmd.builder.charmm - WARNING - Failed to guess coordinates for 4 atoms due to bad angles.\n",
      "2022-08-22 18:05:16,397 - htmd.builder.charmm - WARNING - Poorly guessed coordinates for 223 atoms.\n",
      "2022-08-22 18:05:16,398 - htmd.builder.charmm - WARNING - Please check /gpcr/users/daranda/doctorat/simulate_6WGT_7WC7/simulation_output/pre-build/6WGT/log.txt for further information.\n",
      "2022-08-22 18:05:16,399 - htmd.builder.charmm - INFO - Finished building.\n",
      "2022-08-22 18:05:19,984 - moleculekit.readers - WARNING - Non-integer values were read from the PDB \"serial\" field. Dropping PDB values and assigning new ones.\n",
      "2022-08-22 18:05:20,147 - moleculekit.readers - WARNING - Reading PDB file with more than 99999 atoms. Bond information can be wrong.\n",
      "2022-08-22 18:06:30,576 - moleculekit.readers - WARNING - Non-integer values were read from the PDB \"serial\" field. Dropping PDB values and assigning new ones.\n",
      "2022-08-22 18:06:30,747 - moleculekit.readers - WARNING - Reading PDB file with more than 99999 atoms. Bond information can be wrong.\n"
     ]
    },
    {
     "name": "stdout",
     "output_type": "stream",
     "text": [
      "Checking aromatic insertions...\n",
      "Renumbering...\n"
     ]
    },
    {
     "name": "stderr",
     "output_type": "stream",
     "text": [
      "2022-08-22 18:06:42,124 - moleculekit.writers - WARNING - Field \"serial\" of PDB overflows. Your data will be truncated to 5 characters.\n",
      "2022-08-22 18:07:05,844 - moleculekit.readers - WARNING - Non-integer values were read from the PDB \"serial\" field. Dropping PDB values and assigning new ones.\n",
      "2022-08-22 18:07:06,010 - moleculekit.readers - WARNING - Reading PDB file with more than 99999 atoms. Bond information can be wrong.\n"
     ]
    },
    {
     "name": "stdout",
     "output_type": "stream",
     "text": [
      "Ionizing...\n"
     ]
    },
    {
     "name": "stderr",
     "output_type": "stream",
     "text": [
      "2022-08-22 18:07:10,141 - htmd.builder.charmm - INFO - Writing out segments.\n",
      "2022-08-22 18:07:29,415 - moleculekit.writers - WARNING - Field \"serial\" of PDB overflows. Your data will be truncated to 5 characters.\n",
      "2022-08-22 18:07:29,527 - htmd.builder.builder - INFO - 2 disulfide bonds were added\n"
     ]
    },
    {
     "name": "stdout",
     "output_type": "stream",
     "text": [
      "Disulfide Bond between: UniqueResidueID<resname: 'CYS', chain: 'A', resid: 148, insertion: '', segid: 'P0'>\n",
      "                   and: UniqueResidueID<resname: 'CYS', chain: 'A', resid: 227, insertion: '', segid: 'P0'>\n",
      "\n",
      "Disulfide Bond between: UniqueResidueID<resname: 'CYS', chain: 'R', resid: 349, insertion: '', segid: 'P1'>\n",
      "                   and: UniqueResidueID<resname: 'CYS', chain: 'R', resid: 353, insertion: '', segid: 'P1'>\n",
      "\n"
     ]
    },
    {
     "name": "stderr",
     "output_type": "stream",
     "text": [
      "2022-08-22 18:07:30,924 - htmd.builder.charmm - INFO - Starting the build.\n",
      "2022-08-22 18:07:33,004 - htmd.builder.charmm - WARNING - Failed to set coordinates for 1 atoms.\n",
      "2022-08-22 18:07:33,006 - htmd.builder.charmm - WARNING - Poorly guessed coordinates for 1 atoms.\n",
      "2022-08-22 18:07:33,007 - htmd.builder.charmm - WARNING - Please check /gpcr/users/daranda/doctorat/simulate_6WGT_7WC7/simulation_output/ionize/6WGT/log.txt for further information.\n",
      "2022-08-22 18:07:33,008 - htmd.builder.charmm - INFO - Finished building.\n",
      "2022-08-22 18:07:36,588 - moleculekit.readers - WARNING - Non-integer values were read from the PDB \"serial\" field. Dropping PDB values and assigning new ones.\n",
      "2022-08-22 18:07:36,759 - moleculekit.readers - WARNING - Reading PDB file with more than 99999 atoms. Bond information can be wrong.\n",
      "2022-08-22 18:07:43,889 - htmd.builder.ionize - INFO - Adding 10 anions + 0 cations for neutralizing and 124 ions for the given salt concentration.\n",
      "2022-08-22 18:09:49,832 - htmd.builder.charmm - INFO - Writing out segments.\n",
      "2022-08-22 18:10:09,344 - moleculekit.writers - WARNING - Field \"serial\" of PDB overflows. Your data will be truncated to 5 characters.\n",
      "2022-08-22 18:10:10,379 - moleculekit.writers - WARNING - Field \"serial\" of PDB overflows. Your data will be truncated to 5 characters.\n",
      "2022-08-22 18:10:11,787 - htmd.builder.charmm - INFO - Starting the build.\n",
      "2022-08-22 18:10:13,890 - htmd.builder.charmm - WARNING - Failed to set coordinates for 1 atoms.\n",
      "2022-08-22 18:10:13,892 - htmd.builder.charmm - WARNING - Poorly guessed coordinates for 1 atoms.\n",
      "2022-08-22 18:10:13,893 - htmd.builder.charmm - WARNING - Please check /gpcr/users/daranda/doctorat/simulate_6WGT_7WC7/simulation_output/ionize/6WGT/log.txt for further information.\n",
      "2022-08-22 18:10:13,893 - htmd.builder.charmm - INFO - Finished building.\n",
      "2022-08-22 18:10:17,658 - moleculekit.readers - WARNING - Non-integer values were read from the PDB \"serial\" field. Dropping PDB values and assigning new ones.\n",
      "2022-08-22 18:10:17,818 - moleculekit.readers - WARNING - Reading PDB file with more than 99999 atoms. Bond information can be wrong.\n",
      "2022-08-22 18:11:28,514 - moleculekit.readers - WARNING - Non-integer values were read from the PDB \"serial\" field. Dropping PDB values and assigning new ones.\n",
      "2022-08-22 18:11:28,688 - moleculekit.readers - WARNING - Reading PDB file with more than 99999 atoms. Bond information can be wrong.\n",
      "2022-08-22 18:11:38,241 - moleculekit.molecule - INFO - Removed 15 atoms. 101012 atoms remaining in the molecule.\n"
     ]
    },
    {
     "name": "stdout",
     "output_type": "stream",
     "text": [
      "Building...\n"
     ]
    },
    {
     "name": "stderr",
     "output_type": "stream",
     "text": [
      "2022-08-22 18:11:38,501 - moleculekit.writers - WARNING - Field \"serial\" of PDB overflows. Your data will be truncated to 5 characters.\n",
      "2022-08-22 18:12:49,453 - moleculekit.readers - WARNING - Non-integer values were read from the PDB \"serial\" field. Dropping PDB values and assigning new ones.\n",
      "2022-08-22 18:12:49,601 - moleculekit.readers - WARNING - Reading PDB file with more than 99999 atoms. Bond information can be wrong.\n",
      "2022-08-22 18:12:53,806 - htmd.builder.charmm - INFO - Writing out segments.\n",
      "2022-08-22 18:13:12,991 - moleculekit.writers - WARNING - Field \"serial\" of PDB overflows. Your data will be truncated to 5 characters.\n",
      "2022-08-22 18:13:14,019 - moleculekit.writers - WARNING - Field \"serial\" of PDB overflows. Your data will be truncated to 5 characters.\n",
      "2022-08-22 18:13:14,067 - htmd.builder.builder - INFO - 2 disulfide bonds were added\n"
     ]
    },
    {
     "name": "stdout",
     "output_type": "stream",
     "text": [
      "Disulfide Bond between: UniqueResidueID<resname: 'CYS', chain: 'A', resid: 148, insertion: '', segid: 'P0'>\n",
      "                   and: UniqueResidueID<resname: 'CYS', chain: 'A', resid: 227, insertion: '', segid: 'P0'>\n",
      "\n",
      "Disulfide Bond between: UniqueResidueID<resname: 'CYS', chain: 'R', resid: 349, insertion: '', segid: 'P1'>\n",
      "                   and: UniqueResidueID<resname: 'CYS', chain: 'R', resid: 353, insertion: '', segid: 'P1'>\n",
      "\n"
     ]
    },
    {
     "name": "stderr",
     "output_type": "stream",
     "text": [
      "2022-08-22 18:13:15,462 - htmd.builder.charmm - INFO - Starting the build.\n",
      "2022-08-22 18:13:17,538 - htmd.builder.charmm - WARNING - Failed to set coordinates for 1 atoms.\n",
      "2022-08-22 18:13:17,539 - htmd.builder.charmm - WARNING - Poorly guessed coordinates for 1 atoms.\n",
      "2022-08-22 18:13:17,540 - htmd.builder.charmm - WARNING - Please check /gpcr/users/daranda/doctorat/simulate_6WGT_7WC7/simulation_output/build/6WGT/log.txt for further information.\n",
      "2022-08-22 18:13:17,541 - htmd.builder.charmm - INFO - Finished building.\n",
      "2022-08-22 18:13:21,411 - moleculekit.readers - WARNING - Non-integer values were read from the PDB \"serial\" field. Dropping PDB values and assigning new ones.\n",
      "2022-08-22 18:13:21,564 - moleculekit.readers - WARNING - Reading PDB file with more than 99999 atoms. Bond information can be wrong.\n"
     ]
    },
    {
     "name": "stdout",
     "output_type": "stream",
     "text": [
      "End of 6WGT after 987.0957036018372 seconds\n",
      "\n"
     ]
    }
   ],
   "source": [
    "###########################\n",
    "## Part 2: Build the models \n",
    "###########################\n",
    "# Iterate by GPCRdb structures to simulate\n",
    "pdbs_number = len(pdb_set)\n",
    "i = 0\n",
    "for (pdbcode,pdbfile) in struc_dict.items():\n",
    "    \n",
    "    # Skip if input pdbfile is not yet avaliable\n",
    "    if not os.path.exists(pdbfile):\n",
    "        print('file %s not avaliable. Skipping system...'%pdbfile)\n",
    "        continue\n",
    "#     try:\n",
    "    for apo in [False]:\n",
    "\n",
    "        #Starting simulation\n",
    "        start_time = time.time()        \n",
    "        i += 1\n",
    "        sysname = pdbcode+'_apo' if apo else pdbcode\n",
    "        mystrucpath = strucpath+pdbcode+'/'\n",
    "\n",
    "        # Skip if there is already a model build for this\n",
    "        if os.path.exists(resultspath+'build/'+sysname+'/structure.pdb'):\n",
    "            print('Build model for '+sysname+' already exists. Skipping...')\n",
    "            continue\n",
    "        else:\n",
    "            print(\"Building model for %s ...\"%pdbfile)\n",
    "\n",
    "        # Check if simulation is aminergic\n",
    "        aminergic = gpcrdb_dict[pdbcode]['family'].startswith('001_001')\n",
    "        adenosine = gpcrdb_dict[pdbcode]['family'].startswith('001_006_001')\n",
    "\n",
    "        ## Load curated structures\n",
    "        if curated:\n",
    "            apo_name = \"apo\" if apo else \"complex\"\n",
    "            curated_filename = str(\"%sreceptor2curate_output/%s/%s_%s_curated.pdb\"%(basepath, pdbcode, pdbcode, apo_name))\n",
    "            gpcrdb_mol = Molecule(curated_filename)\n",
    "            # Remove ligand hidrogens in case curators put any\n",
    "            gpcrdb_mol.remove(\"not (protein or water or lipid) and element H\")\n",
    "        ## Load non-curated structure\n",
    "        else:\n",
    "            (sod2x50, watered_filename) = internal_waters(pdbfile, pdbcode, gpcrdb_dict, apo)\n",
    "            gpcrdb_mol = Molecule(watered_filename)\n",
    "\n",
    "        # Add peptide ligand to structure if necessary\n",
    "        if any([ True for lig in gpcrdb_dict[pdbcode]['ligands'] if lig['type'] in {'protein', 'peptide'} ]) and not (apo):\n",
    "            add_peplig(watered_filename, pdbcode)\n",
    "\n",
    "        # SKip complex if is natural apoform (AKA: has no other proteins beside the receptor)\n",
    "        if (not apo) and (len(set(gpcrdb_mol.get('chain','protein')))<1):\n",
    "            print('System %s is natural apoform. Skipping complex sim...'%sysname)\n",
    "            continue\n",
    "\n",
    "        # Remove unnecessary ligand molecules: mostly crystalization detergents, quelants, buffers,\n",
    "        # or post-traductional glicosilations\n",
    "        gpcrdb_mol.remove('resname '+' '.join(blacklist))\n",
    "\n",
    "        # Remove 2x50Sodium from non-A-class GPCRs\n",
    "        if not gpcrdb_dict[pdbcode]['family'].startswith('001'):\n",
    "            gpcrdb_mol.remove('element NA')\n",
    "\n",
    "        # Get aligned OPM structure\n",
    "        thickness,opm_mol = get_opm(pdbcode)\n",
    "\n",
    "        # Ismael's function to add labels (segid) for 'ligand' and 'protein' parts of the system\n",
    "        gpcrdb_mol_fixed,prot_segids = fix_and_prepare_input(gpcrdb_mol,pdbcode,modresdict,new_pdb_chain)\n",
    "\n",
    "        # If the pipeline is running in 'apoform mode', remove any non-protein, non-ion, non-water thing on the system      \n",
    "        # Delete also non-receptor proteins\n",
    "        # If there's any, parameterize and rename covalent-bound ligands\n",
    "        if apo:\n",
    "            (mod_mol,prot_segids) = make_apo(gpcrdb_mol_fixed,'R')    \n",
    "            covligs = []\n",
    "        else:\n",
    "            (mod_mol, covligs) = covalent_ligands(gpcrdb_mol_fixed, pdbcode, ligandsdict)\n",
    "\n",
    "        # Align structrues using sequences, and take first one\n",
    "        rec_segid = mod_mol.get('segid','chain R')[0]\n",
    "        alignment_results = sequenceStructureAlignment(mod_mol, opm_mol, rec_segid, maxalignments = 1)\n",
    "        mol_aligned = alignment_results[0]\n",
    "\n",
    "        #Center to receptor XY\n",
    "        center = np.mean(mol_aligned.get('coords',sel='chain R'),axis=0)\n",
    "        mol_aligned.moveBy([-center[0],-center[1],0])\n",
    "\n",
    "        # Prepare protein: asign titration states, flipping side chains of HIS, ASN and GLN; rotate some sidechains, optimize waters, etc.\n",
    "        # Most of this is done with a HTMD function called proteinPrepare()\n",
    "        # Skip step if we are working with curators structures\n",
    "        prepared_mol = mol_aligned if curated else prepare_system(mol_aligned, pdbcode, thickness, sod2x50, aminergic, adenosine)\n",
    "\n",
    "        #Add membrane\n",
    "        print('Adding membrane...')\n",
    "        membranemol = Molecule(membranepdb)\n",
    "        mol_membraned, membrane_resnames, membrane_segids, xreps, yreps = add_membrane(prepared_mol, membranemol,prot_segids,membrane_distance)\n",
    "\n",
    "        # Needed later for equilibration\n",
    "        with open(mystrucpath+\"const_sel.txt\",'w') as out: \n",
    "            const_sel = 'segid '+' '.join(prot_segids)+' and name C CA N O or not (segid ' + \\\n",
    "              ' '.join(prot_segids)+' or lipid or water or ions ) and noh or segid ION WAT and noh'\n",
    "            out.write(const_sel)\n",
    "\n",
    "        #Solvate\n",
    "        print('Solvating...')\n",
    "        mol_solvated = solvate_pdbmol(mol_membraned,membrane_segids,water_thickness,water_margin,buffer=buffer,coldist=coldist,prefix='WT')\n",
    "\n",
    "        # Check if system has lone-pair hallogen atoms. If it does, use legacy CGenFF parameters\n",
    "        (cgenff_par, cgenff_top, has_halo) = cgenff_params(mol_solvated, topparpath)\n",
    "\n",
    "        #Obtain extra parameters for ligands and modified residues \n",
    "        ligstreams=extra_parameters(pdbcode, ligandsdict, modresdict, blacklist, covligs, basepath, has_halo)\n",
    "\n",
    "        # Assignign terminology for cap atoms of protein chain, depending if it is the receptor protein or not\n",
    "        caps = get_caps(prot_segids, mol_solvated)\n",
    "        #{'P0': ['first ACE', 'last CT3'], 'P1': ['first ACE', 'last CT3']}\n",
    "\n",
    "        #Pre-build model\n",
    "        print('Pre-build...')\n",
    "        prebuildmol = charmm.build(mol_solvated, \n",
    "                                   topo=topos+cgenff_top, \n",
    "                                   param=params+cgenff_par,\n",
    "                                   stream=streams+ligstreams,\n",
    "                                   caps=caps,\n",
    "                                   outdir=resultspath+'/pre-build/'+sysname,\n",
    "                                   ionize=False)\n",
    "\n",
    "        # Save prebuild model topologies in files, and  store prebuild model in molecule object\n",
    "        prebuild_psffile = prebuildmol.topoloc\n",
    "        prebuild_pdbfile = os.path.splitext(prebuildmol.topoloc)[0]+'.pdb'\n",
    "        prebuildmol = Molecule(prebuild_pdbfile)\n",
    "        _recoverProtonations(prebuildmol)\n",
    "\n",
    "        # Checking of aromatic insertions (takes quite a lot fo time)\n",
    "        print('Checking aromatic insertions...')\n",
    "#             mol_removed,removed_indexes = remove_aromatic_insertions(prebuildmol,prot_segids, outpdb=resultspath+'/pre-build/'+sysname+'/aromatic_check.pdb')\n",
    "\n",
    "        # Checking of water/lipid ratio\n",
    "        lipid_num = len(set(prebuildmol.get('resid',sel='segid '+membrane_lipid_segid)))\n",
    "        solv_num = len(prebuildmol.get('index',sel='resname TIP3 and name OH2'))\n",
    "        if float(solv_num) / lipid_num < 35:\n",
    "            raise ValueError('Water/lipid ratio lower than 35.')\n",
    "\n",
    "        #Renumber residues\n",
    "        print('Renumbering...')\n",
    "        mol_renumbered = renumber_resid_vmd(prebuildmol,'segid '+' '.join(membrane_segids),by=2)\n",
    "\n",
    "        # Ionizing system\n",
    "        print('Ionizing...')\n",
    "        molbuilt = charmm.build(prebuildmol,\n",
    "                                topo=topos+cgenff_top, \n",
    "                                param=params+cgenff_par,\n",
    "                                stream=streams+ligstreams,                        \n",
    "                                outdir=resultspath+'/ionize/'+sysname,\n",
    "                                saltconc=0.15,\n",
    "                                caps=caps)\n",
    "        build_psffile = molbuilt.topoloc\n",
    "        build_pdbfile = os.path.splitext(molbuilt.topoloc)[0]+'.pdb'\n",
    "        molbuilt = Molecule(build_pdbfile)\n",
    "        _recoverProtonations(molbuilt)\n",
    "\n",
    "        # Remove clashing rebuild waters\n",
    "        molbuilt.remove(\"same residue as (water and within 1 of protein)\")\n",
    "\n",
    "        #Building system\n",
    "        print('Building...')\n",
    "        molbuilt = renumber_resid_vmd(molbuilt,'segid \"WT.*\" or segid I',by=2)\n",
    "        molbuilt = charmm.build(molbuilt, \n",
    "                                topo=topos+cgenff_top, \n",
    "                                param=params+cgenff_par,\n",
    "                                stream=streams+ligstreams,                        \n",
    "                                outdir=resultspath+'/build/'+sysname,\n",
    "                                caps=caps,ionize=False)\n",
    "\n",
    "        print('End of %s after %s seconds\\n' % (sysname, time.time() - start_time))\n",
    "\n",
    "#     except Exception as e:\n",
    "#         print(\"model \"+pdbcode+\" could not be build because \",e)"
   ]
  },
  {
   "cell_type": "code",
   "execution_count": 56,
   "metadata": {},
   "outputs": [
    {
     "name": "stdout",
     "output_type": "stream",
     "text": [
      " structure 7WC7 already has been equilibrated\n",
      "system 7WC7_apo has not been build yet. Skipping...\n"
     ]
    },
    {
     "name": "stderr",
     "output_type": "stream",
     "text": [
      "2022-08-22 18:14:35,751 - moleculekit.readers - WARNING - Non-integer values were read from the PDB \"serial\" field. Dropping PDB values and assigning new ones.\n",
      "2022-08-22 18:14:35,910 - moleculekit.readers - WARNING - Reading PDB file with more than 99999 atoms. Bond information can be wrong.\n",
      "2022-08-22 18:15:16,518 - htmd.protocols.equilibration_v3 - WARNING - Lipids detected in input structure. We highly recommend setting useconstantratio=True for membrane simulations.\n",
      "2022-08-22 18:15:18,596 - jobqueues.slurmqueue - INFO - Queueing /gpcr/users/daranda/doctorat/simulate_6WGT_7WC7/simulation_output/equil/6WGT/\n"
     ]
    },
    {
     "name": "stdout",
     "output_type": "stream",
     "text": [
      "system 6WGT_apo has not been build yet. Skipping...\n"
     ]
    }
   ],
   "source": [
    "#########################\n",
    "## Part 3: Equillibration\n",
    "#########################\n",
    "\n",
    "for pdbcode in pdb_set:\n",
    "# for pdbcode in ['5XR8']:\n",
    "    for apo in [False, True]:\n",
    "        try:\n",
    "            modelname = pdbcode+'_apo' if apo else pdbcode\n",
    "            strucfile = resultspath+'build/'+modelname+'/structure.pdb'\n",
    "            equildir = resultspath+'equil/'+modelname+'/'\n",
    "            if not os.path.exists(strucfile):\n",
    "                print(\"system %s has not been build yet. Skipping...\" % modelname)\n",
    "                continue\n",
    "\n",
    "            if os.path.exists(equildir+'output.xtc') or os.path.exists(equildir+'simrunning'):\n",
    "                print(\" structure %s already has been equilibrated\" % pdbcode)\n",
    "                continue\n",
    "\n",
    "            if not os.path.exists(equildir):\n",
    "                os.makedirs(equildir)\n",
    "\n",
    "            md = define_equilibration()\n",
    "            md.write(resultspath+'build/'+modelname,equildir)\n",
    "\n",
    "            #Substitute run.sh generated by HTMD by a different one, adapted to the specified path of ACEMD\n",
    "            with open(equildir + 'run.sh', 'w') as f:\n",
    "                f.write('#!/bin/bash\\n%s > %slog.txt 2>&1' % (acemd_path, equildir))\n",
    "        \n",
    "            #Prepare slurm job  \n",
    "            sq = SlurmQueue()\n",
    "            sq.envvars = acemd_license\n",
    "            sq.jobname = 'eql_'+pdbcode\n",
    "            sq.datadir = None\n",
    "            sq.partition = 'gpcr_gpu'\n",
    "            sq.ngpu = 1\n",
    "            sq.ncpu = 1\n",
    "            sq.prerun = job_commands(equildir, '/home/daranda/'+modelname+'/')\n",
    "            sq.memory = 2000\n",
    "#             sq.exclude = ['arwen','aragorn','bifur']\n",
    "            sq.nodelist = ['aragorn']\n",
    "    \n",
    "            # Submit\n",
    "            sq.submit(equildir)\n",
    "            \n",
    "        except Exception as e:\n",
    "            print(\"model \"+modelname+\" could not be send to equilibrate because of \",e)"
   ]
  },
  {
   "cell_type": "code",
   "execution_count": 3,
   "metadata": {},
   "outputs": [
    {
     "name": "stdout",
     "output_type": "stream",
     "text": [
      "replicate 1 of structure 6WGT already has been simulated\n",
      "replicate 2 of structure 6WGT already has been simulated\n",
      "replicate 3 of structure 6WGT already has been simulated\n",
      "replicate 1 of structure 7WC7 already has been simulated\n",
      "replicate 2 of structure 7WC7 already has been simulated\n",
      "replicate 3 of structure 7WC7 already has been simulated\n"
     ]
    }
   ],
   "source": [
    "#####################\n",
    "## Part 4: Production\n",
    "#####################\n",
    "\n",
    "# Production protocol\n",
    "md = define_production(timestep, trajperiod)\n",
    "\n",
    "# If some model should be skipped, put its name here\n",
    "modelname_skip = {}\n",
    "\n",
    "# For each PDB \n",
    "# for pdbcode in ['4EJ4','6LRY']:\n",
    "for pdbcode in pdb_set:\n",
    "    for apo in [False]:\n",
    "#     for apo in [True, False]:\n",
    "        # must match with equildir in equilibration launcher code and contain input and output of equilibration.\n",
    "        modelname = pdbcode+'_apo' if apo else pdbcode\n",
    "        equildir = '%s/equil/%s/' % (resultspath, modelname)\n",
    "        # IF equillibration is not avalible\n",
    "        if not os.path.exists(equildir+'output.xtc'):\n",
    "            print(\"replicate %d of structure %s has no avalible equillibration\" %(rep, pdbcode))\n",
    "            continue\n",
    "        for rep in range(1,repnum+1):\n",
    "            \n",
    "            try: \n",
    "                    \n",
    "                # If simulation for this PDB has already been run\n",
    "                proddir='%sproduction/%s/rep_%d/' % (resultspath, modelname, rep)\n",
    "                if os.path.exists(proddir+'/output.xtc') or os.path.exists(proddir+'simrunning'):\n",
    "                    print(\"replicate %d of structure %s already has been simulated\" %(rep, pdbcode))\n",
    "                    continue\n",
    "\n",
    "                print('submitting replicate %d of %s' % (rep, pdbcode))\n",
    "                # directory copy output of equilibration to production input (initial working directory for run_prod.sh).\n",
    "                md.write(equildir,proddir)\n",
    "\n",
    "                sq = SlurmQueue()\n",
    "                sq.envvars = acemd_license\n",
    "                sq.jobname = modelname+'_pr'+str(rep)\n",
    "                sq.datadir = None\n",
    "                sq.partition = 'gpcr_gpu'\n",
    "                sq.prerun = job_commands(proddir, '/home/daranda/%s_pr_%d/'%(modelname,rep))\n",
    "                sq.ngpu = 1\n",
    "                sq.ncpu = 1\n",
    "                sq.exclude = ['aragorn','bifur']\n",
    "\n",
    "                #Substitute run.sh generated by HTMD by a different one, adapted to the specified path of ACEMD\n",
    "                with open(proddir + 'run.sh', 'w') as f:\n",
    "                    f.write('#!/bin/bash\\n%s >%slog.txt 2>&1' % (acemd_path,proddir))\n",
    "\n",
    "                sq.submit(proddir)\n",
    "                \n",
    "            except Exception as e:\n",
    "                print(\"model \"+modelname+\" could not be send to equilibrate because of \",e)            \n"
   ]
  },
  {
   "cell_type": "code",
   "execution_count": null,
   "metadata": {},
   "outputs": [
    {
     "name": "stderr",
     "output_type": "stream",
     "text": [
      "2022-09-05 16:43:45,458 - moleculekit.readers - WARNING - Non-integer values were read from the PDB \"serial\" field. Dropping PDB values and assigning new ones.\n",
      "2022-09-05 16:43:45,598 - moleculekit.readers - WARNING - Reading PDB file with more than 99999 atoms. Bond information can be wrong.\n"
     ]
    },
    {
     "name": "stdout",
     "output_type": "stream",
     "text": [
      "wrapping replicate 1 of 6WGT\n",
      "replicate already wrapped. Skipping...\n"
     ]
    },
    {
     "name": "stderr",
     "output_type": "stream",
     "text": [
      "/soft/system/easybuild/software/Miniconda3/4.7.10/lib/python3.6/site-packages/moleculekit/align.py:16: NumbaPerformanceWarning: np.dot() is faster on contiguous arrays, called on (array(float32, 2d, A), array(float32, 2d, A))\n",
      "  covariance = np.dot(P.T, Q)\n",
      "/soft/system/easybuild/software/Miniconda3/4.7.10/lib/python3.6/site-packages/moleculekit/align.py:54: NumbaPerformanceWarning: np.dot() is faster on contiguous arrays, called on (array(float32, 2d, C), array(float32, 2d, A))\n",
      "  all1 = np.dot(all1, rot.T)\n"
     ]
    },
    {
     "name": "stdout",
     "output_type": "stream",
     "text": [
      "wrapping replicate 2 of 6WGT\n",
      "replicate already wrapped. Skipping...\n",
      "wrapping replicate 3 of 6WGT\n",
      "replicate already wrapped. Skipping...\n",
      "End of 6WGT after 144.42993021011353 seconds\n",
      "\n",
      "wrapping replicate 1 of 7WC7\n",
      "replicate already wrapped. Skipping...\n",
      "wrapping replicate 2 of 7WC7\n",
      "replicate already wrapped. Skipping...\n",
      "wrapping replicate 3 of 7WC7\n",
      "replicate already wrapped. Skipping...\n"
     ]
    }
   ],
   "source": [
    "\n",
    "##########################\n",
    "## Part 5: Wrap Structures\n",
    "##########################\n",
    "\n",
    "# Wrap trajectories obtained during production with an htmd command\n",
    "gpcr_sel = \"protein and chain \"+new_pdb_chain\n",
    "for pdbcode in pdb_set:\n",
    "    \n",
    "    # Get standard GPCR nomenclature\n",
    "    (gennum_dict,resid_dict) = find_gennum(pdbcode)\n",
    "\n",
    "    # Find residues from helices\n",
    "    resids_helices = resids_helix(gennum_dict)    \n",
    "    \n",
    "    for apo in [False]:\n",
    "#     for apo in [True, False]:\n",
    "        try:\n",
    "            modelname = pdbcode+'_apo' if apo else pdbcode\n",
    "            mymol_pdb = Molecule('%sproduction/%s/rep_1/structure.pdb' % (resultspath, modelname))\n",
    "            for rep in range(1,repnum+1):\n",
    "            #for rep in [3]:\n",
    "                start_time = time.time()        \n",
    "                print('wrapping replicate %d of %s' % (rep, modelname))\n",
    "                proddir='%sproduction/%s/rep_%d/' % (resultspath, modelname, rep)\n",
    "                rep = str(rep)\n",
    "\n",
    "                # To avoid repeating wrapping in Trajectories already wrapped, check the existance of this file\n",
    "                outname = proddir+'output_wrapped.xtc'\n",
    "                if os.path.exists(outname):\n",
    "                    print('replicate already wrapped. Skipping...')\n",
    "#                     continue\n",
    "                \n",
    "                # Wrap system\n",
    "                mymol = Molecule('%sproduction/%s/rep_1/structure.psf' % (resultspath, modelname))\n",
    "                mymol.read(proddir+'output.xtc')\n",
    "                mymol.wrap(gpcr_sel)\n",
    "\n",
    "                # Align frames and write\n",
    "                mymol.align('segid P P0 P1 P2 P3 P4 and resid '+resids_helices, refmol=mymol_pdb)\n",
    "                mymol.write(outname)\n",
    "\n",
    "            print('End of %s after %s seconds\\n' % (modelname, time.time() - start_time))\n",
    "        except Exception as e:\n",
    "            print(\"model \"+modelname+\" could not be wrapped because of \",e)            \n",
    "\n",
    "\n"
   ]
  },
  {
   "cell_type": "code",
   "execution_count": null,
   "metadata": {},
   "outputs": [],
   "source": [
    "\n",
    "#####################\n",
    "## EXTRA: ligand RMSD\n",
    "#####################\n",
    "### Assess quality of systems by calculating the RMSD of the ligand/s molecule/s\n",
    "\n",
    "# Set paths and files\n",
    "outpath = resultspath+'rmsd_lig.tsv'\n",
    "if os.path(outpath):\n",
    "    print('RMSDs already computed. SKipping...')\n",
    "else:\n",
    "    # Iterate over pdbcodes \n",
    "    results = []\n",
    "    for pdbcode in pdbcodes: \n",
    "\n",
    "        # Iterate over production replicates\n",
    "        for mytrajid in [\"1\",\"2\",\"3\"]:\n",
    "\n",
    "            try:\n",
    "                sysname = \"%s_rep%s\"%(pdbcode,mytrajid)\n",
    "\n",
    "                # Input files of simulation\n",
    "                files_path = resultspath+'production/%s/rep_%s/'%(name, mytrajid)\n",
    "                mypdbpath = files_path+'structure.pdb'\n",
    "                mypsfpath = files_path+'structure.psf'\n",
    "                mytrajpath = files_path+'output_wrapped.xtc'\n",
    "\n",
    "                # Skip if no trajectory\n",
    "                if not os.path.exists(mytrajpath):\n",
    "                    print(\"no trajectory replicate %s for system %s avalible. Skipping...\"%(mytrajid, sysname))\n",
    "                    continue\n",
    "\n",
    "                print('computing ligand RMSD for trajectory %s of system %s' % (mytrajid, sysname))\n",
    "\n",
    "                # Load trajectory and topology into MDA universe, and select protein atoms\n",
    "                u = mda.Universe(mypsfpath, mytrajpath)\n",
    "                ligsel = u.select_atoms(\"segid LIG and not resname CLR\")\n",
    "\n",
    "                # Compute rmsd, extract its values and put them in corresponding lists and dicts\n",
    "                R = rms.RMSD(ligsel)\n",
    "                R.run()\n",
    "                rmsd = np.mean([ a[2] for a in R.rmsd ])\n",
    "                results.append((sysname,rmsd)) \n",
    "\n",
    "            except Exception as e:\n",
    "                print(\"error: system %s failed becasue %s\"%(sysname,e))\n",
    "\n",
    "    # Once everything is done, sort and write RMSD results\n",
    "    out = open(outpath,'w')\n",
    "    out.write(\"Simulated_system\\tRMSD_ligand\\n\")\n",
    "    results_sorted = sorted(results, key=lambda tup: tup[0])\n",
    "    for line in results_sorted:\n",
    "        out.write(\"%s\\t%f\\n\"%(line[0],line[1])) \n",
    "    out.close()"
   ]
  },
  {
   "cell_type": "code",
   "execution_count": 15,
   "metadata": {},
   "outputs": [
    {
     "name": "stdout",
     "output_type": "stream",
     "text": [
      "loging into GPCRmd\n"
     ]
    },
    {
     "name": "stderr",
     "output_type": "stream",
     "text": [
      "2022-09-05 16:17:03,727 - moleculekit.readers - WARNING - Non-integer values were read from the PDB \"serial\" field. Dropping PDB values and assigning new ones.\n",
      "2022-09-05 16:17:03,870 - moleculekit.readers - WARNING - Reading PDB file with more than 99999 atoms. Bond information can be wrong.\n",
      "2022-09-05 16:17:05,027 - moleculekit.readers - INFO - Attempting PDB query for 6WGT\n"
     ]
    },
    {
     "name": "stdout",
     "output_type": "stream",
     "text": [
      "\n",
      "###############Submitting 6WGT_complex simulation ########################\n",
      "new submission 1336 created\n",
      "1336 6WGT False\n",
      "step1 finalized  <Response [200]>\n",
      "initiating step 2: small molecule data\n",
      "step2 finalized  <Response [200]>\n",
      "initiating step 3: protein chains\n",
      "P28223\n",
      "step3 finalized  <Response [200]>\n",
      "initiating step 4: simulation files\n",
      "step4 finalized  <Response [200]>\n"
     ]
    },
    {
     "name": "stderr",
     "output_type": "stream",
     "text": [
      "2022-09-05 16:18:44,593 - moleculekit.readers - INFO - Attempting PDB query for 7WC7\n"
     ]
    },
    {
     "name": "stdout",
     "output_type": "stream",
     "text": [
      "\n",
      "###############Submitting 7WC7_complex simulation ########################\n",
      "new submission 1337 created\n",
      "1337 7WC7 False\n",
      "step1 finalized  <Response [200]>\n",
      "initiating step 2: small molecule data\n",
      "step2 finalized  <Response [200]>\n",
      "initiating step 3: protein chains\n",
      "P28223\n",
      "step3 finalized  <Response [200]>\n",
      "initiating step 4: simulation files\n",
      "step4 finalized  <Response [200]>\n"
     ]
    }
   ],
   "source": [
    "#### Actual Simulation submission\n",
    "# mainurl = 'http://localhost:8000' \n",
    "mainurl = 'https://submission.gpcrmd.org'\n",
    "\n",
    "## Step -2: Login into GPCRmd\n",
    "with requests.Session() as s:\n",
    "    login(s,'david','Ameboid')\n",
    "# For each of the currently-working-with systems defined in Part 1\n",
    "# pdb_set = ['6WGT']\n",
    "for pdbcode in pdb_set:\n",
    "    for apo in [False]:\n",
    "        \n",
    "        try:\n",
    "            # Set the path to the folder containing this simulation's files\n",
    "            sysname = pdbcode+\"_apo\" if apo else pdbcode+\"_complex\" \n",
    "            prodpath = resultspath+'production/'+pdbcode+'_apo/' if apo else resultspath+'production/'+pdbcode+'/' \n",
    "            repath = prodpath+'rep_1/'# For files no changing across representations\n",
    "            \n",
    "            # Skip if not all trajectories or already submitted or if already submitted\n",
    "            incomplete = check_completeness(prodpath)\n",
    "            submitted = os.path.exists(prodpath+'submitted.txt')\n",
    "            if incomplete or submitted:\n",
    "                pass\n",
    "#                 continue            \n",
    "            \n",
    "            # Load molecule\n",
    "            if not os.path.exists(repath+'structure.pdb'):\n",
    "                continue\n",
    "            mymol = Molecule(repath+'structure.pdb')\n",
    "            print('\\n###############Submitting '+sysname+' simulation ########################')            \n",
    "\n",
    "            ## Step -1: Get information of protein chains and ligand molecules from PDB web\n",
    "            (protdict,ligdict,segtochain,method_id) = get_pdb_info(pdbcode, mymol, ligandsdict)\n",
    "            \n",
    "            ## Step 0: Create a new submission\n",
    "            subm_id = new_submission(s, mainurl)\n",
    "#             subm_id = \"1331\"\n",
    "\n",
    "            ## Step 1: General information\n",
    "            new_step1(s, subm_id, pdbcode, trajperiod, timestep, repath, method_id, sysname, apo)\n",
    "            \n",
    "            ## Step 2: Small molecules \n",
    "            new_step2(s, subm_id, ligdict, apo)   \n",
    "\n",
    "            ## Step 3: Protein chains\n",
    "            new_step3(s, subm_id, pdbcode, protdict)\n",
    "\n",
    "            ## Step 4: Dynamics information\n",
    "            new_step4(s, subm_id, prodpath, repath)\n",
    "        \n",
    "    \n",
    "        except Exception as e:\n",
    "            print(\"Simulation \"+sysname+\" could not be submitted because \",e)            \n"
   ]
  },
  {
   "cell_type": "code",
   "execution_count": 4,
   "metadata": {},
   "outputs": [
    {
     "name": "stdout",
     "output_type": "stream",
     "text": [
      "Name:  4Z9G\n",
      "Dyn_id:  1031\n",
      "Workbench:  <Response [500]>\n",
      "Report:  <Response [500]>\n",
      "\n",
      "\n"
     ]
    }
   ],
   "source": [
    "for name,dyn_id in dynids.items(): \n",
    "    workbench_reponse = requests.get('https://submission.gpcrmd.org/view/'+str(dyn_id))\n",
    "    report_reponse = requests.get('https://submission.gpcrmd.org/dynadb/dynamics/id/'+str(dyn_id))                       \n",
    "    if not (workbench_reponse.ok and report_reponse.ok):\n",
    "        print('Name: ',name)\n",
    "        print(\"Dyn_id: \",dyn_id)\n",
    "        print(\"Workbench: \", workbench_reponse)\n",
    "        print(\"Report: \", report_reponse)\n",
    "        print(\"\\n\")\n",
    "\n"
   ]
  }
 ],
 "metadata": {
  "kernelspec": {
   "display_name": "Python 3",
   "language": "python",
   "name": "python3"
  },
  "language_info": {
   "codemirror_mode": {
    "name": "ipython",
    "version": 3
   },
   "file_extension": ".py",
   "mimetype": "text/x-python",
   "name": "python",
   "nbconvert_exporter": "python",
   "pygments_lexer": "ipython3",
   "version": "3.6.10"
  }
 },
 "nbformat": 4,
 "nbformat_minor": 2
}
