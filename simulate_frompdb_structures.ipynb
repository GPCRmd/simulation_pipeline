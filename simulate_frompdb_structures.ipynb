{
 "cells": [
  {
   "cell_type": "code",
   "execution_count": 1,
   "metadata": {},
   "outputs": [
    {
     "name": "stderr",
     "output_type": "stream",
     "text": [
      "/home/david/miniconda3/lib/python3.6/site-packages/htmd/versionwarnings.py:28: UserWarning: As of HTMD 1.16 the default number of threads HTMD spawns for calculations is set to 1. You can enable parallelism at your own risk using `config(njobs=-2)` in the beginning of your scripts. To disable this warning run once: `from htmd import _disableWarnings; _disableWarnings('1.16');`\n",
      "  , UserWarning)\n",
      "/home/david/miniconda3/lib/python3.6/site-packages/htmd/versionwarnings.py:34: UserWarning: As of HTMD 1.21 support for ACEMD v2 has stopped. Please use ACEMD3 instead as well as the corresponding equilibration and production protocols. To disable this warning run once: `from htmd import _disableWarnings; _disableWarnings('1.21');`\n",
      "  , UserWarning)\n",
      "2021-11-30 09:48:16,591 - matplotlib.font_manager - INFO - Generating new fontManager, this may take some time...\n",
      "2021-11-30 09:48:17,213 - matplotlib.font_manager - INFO - Failed to extract font properties from /usr/share/fonts/truetype/noto/NotoColorEmoji.ttf: In FT2Font: Could not set the fontsize (error code 0x17)\n",
      "/home/david/miniconda3/lib/python3.6/site-packages/numba/core/errors.py:154: UserWarning: Insufficiently recent colorama version found. Numba requires colorama >= 0.3.9\n",
      "  warnings.warn(msg)\n"
     ]
    },
    {
     "name": "stdout",
     "output_type": "stream",
     "text": [
      "\n",
      "Please cite HTMD: Doerr et al.(2016)JCTC,12,1845. https://dx.doi.org/10.1021/acs.jctc.6b00049\n",
      "\n",
      "HTMD Documentation at: https://www.htmd.org/docs/latest/\n",
      "\n",
      "New stable HTMD version (1.26.5 python[3.9,<3.10.0a0,3.6,<3.7.0a0,3.8,<3.9.0a0,3.7,<3.8.0a0]) is available. You are currently on (1.22.1).There are several methods to update:    - Create a new conda env. using `conda create -n htmd1.26.5 htmd=1.26.5 -c acellera -c psi4 -c conda-forge`    - Create a brand new conda installation and run `conda install htmd -c acellera -c psi4 -c conda-forge`    - Run: `conda update htmd -c acellera -c psi4 -c conda-forge` (NOT RECOMMENDED)\n",
      "\n"
     ]
    },
    {
     "ename": "ModuleNotFoundError",
     "evalue": "No module named 'htmd.protocols.equilibration_v3'",
     "output_type": "error",
     "traceback": [
      "\u001b[0;31m---------------------------------------------------------------------------\u001b[0m",
      "\u001b[0;31mModuleNotFoundError\u001b[0m                       Traceback (most recent call last)",
      "\u001b[0;32m<ipython-input-1-9403df38f7c7>\u001b[0m in \u001b[0;36m<module>\u001b[0;34m\u001b[0m\n\u001b[1;32m      4\u001b[0m \u001b[0;34m\u001b[0m\u001b[0m\n\u001b[1;32m      5\u001b[0m \u001b[0;31m# Load functions, modules and global variables required in our pipeline\u001b[0m\u001b[0;34m\u001b[0m\u001b[0;34m\u001b[0m\u001b[0m\n\u001b[0;32m----> 6\u001b[0;31m \u001b[0;32mfrom\u001b[0m \u001b[0msimulate_structures_functions\u001b[0m \u001b[0;32mimport\u001b[0m \u001b[0;34m*\u001b[0m\u001b[0;34m\u001b[0m\u001b[0m\n\u001b[0m\u001b[1;32m      7\u001b[0m \u001b[0;32mfrom\u001b[0m \u001b[0mimportlib\u001b[0m \u001b[0;32mimport\u001b[0m \u001b[0mreload\u001b[0m\u001b[0;34m\u001b[0m\u001b[0m\n\u001b[1;32m      8\u001b[0m \u001b[0;32mfrom\u001b[0m \u001b[0mhtmd\u001b[0m\u001b[0;34m.\u001b[0m\u001b[0mbuilder\u001b[0m\u001b[0;34m.\u001b[0m\u001b[0mcharmm\u001b[0m \u001b[0;32mimport\u001b[0m \u001b[0m_recoverProtonations\u001b[0m\u001b[0;34m\u001b[0m\u001b[0m\n",
      "\u001b[0;32m/gpcr/users/daranda/doctorat/PSYBIAS_simulations/simulate_structures_functions.py\u001b[0m in \u001b[0;36m<module>\u001b[0;34m\u001b[0m\n\u001b[1;32m     25\u001b[0m \u001b[0;32mfrom\u001b[0m \u001b[0mhtmd\u001b[0m\u001b[0;34m.\u001b[0m\u001b[0mui\u001b[0m \u001b[0;32mimport\u001b[0m \u001b[0;34m*\u001b[0m\u001b[0;34m\u001b[0m\u001b[0m\n\u001b[1;32m     26\u001b[0m \u001b[0;32mfrom\u001b[0m \u001b[0mmoleculekit\u001b[0m\u001b[0;34m.\u001b[0m\u001b[0mtools\u001b[0m\u001b[0;34m.\u001b[0m\u001b[0msequencestructuralalignment\u001b[0m \u001b[0;32mimport\u001b[0m \u001b[0msequenceStructureAlignment\u001b[0m\u001b[0;34m\u001b[0m\u001b[0m\n\u001b[0;32m---> 27\u001b[0;31m \u001b[0;32mfrom\u001b[0m \u001b[0mhtmd\u001b[0m\u001b[0;34m.\u001b[0m\u001b[0mprotocols\u001b[0m\u001b[0;34m.\u001b[0m\u001b[0mequilibration_v3\u001b[0m \u001b[0;32mimport\u001b[0m \u001b[0mEquilibration\u001b[0m\u001b[0;34m\u001b[0m\u001b[0m\n\u001b[0m\u001b[1;32m     28\u001b[0m \u001b[0;32mfrom\u001b[0m \u001b[0mhtmd\u001b[0m\u001b[0;34m.\u001b[0m\u001b[0mprotocols\u001b[0m\u001b[0;34m.\u001b[0m\u001b[0mproduction_v6\u001b[0m \u001b[0;32mimport\u001b[0m \u001b[0mProduction\u001b[0m\u001b[0;34m\u001b[0m\u001b[0m\n\u001b[1;32m     29\u001b[0m \u001b[0;32mfrom\u001b[0m \u001b[0mhtmd\u001b[0m\u001b[0;34m.\u001b[0m\u001b[0mbuilder\u001b[0m\u001b[0;34m.\u001b[0m\u001b[0mbuilder\u001b[0m \u001b[0;32mimport\u001b[0m \u001b[0mremoveLipidsInProtein\u001b[0m\u001b[0;34m,\u001b[0m \u001b[0mtileMembrane\u001b[0m\u001b[0;34m,\u001b[0m \u001b[0mminimalRotation\u001b[0m\u001b[0;34m,\u001b[0m\u001b[0mremoveAtomsInHull\u001b[0m\u001b[0;34m\u001b[0m\u001b[0m\n",
      "\u001b[0;31mModuleNotFoundError\u001b[0m: No module named 'htmd.protocols.equilibration_v3'"
     ]
    }
   ],
   "source": [
    "####################\n",
    "## Initial stuff\n",
    "####################\n",
    "\n",
    "# Load functions, modules and global variables required in our pipeline\n",
    "from simulate_structures_functions import *\n",
    "from importlib import reload  \n",
    "from htmd.builder.charmm import _recoverProtonations\n",
    "\n",
    "# Our main path\n",
    "basepath = basepath = os.getcwd()+'/'\n",
    "# Other Paths\n",
    "strucpath = basepath + 'data_structures/'\n",
    "resultspath = basepath + 'simulation_output/'\n",
    "membranepdb = basepath + 'membrane/popc36_box_renumbered.pdb'\n",
    "topparpath = basepath + 'toppar/TOP_PARAMS_ACE3/'#toppar= topology+parameters\n",
    "ligandsdict_path = basepath + 'ligands.json'\n",
    "modres_path = basepath + 'modified_residues.json'\n",
    "slurmpath = basepath+'fake_slurm/'\n",
    "# Path to slurm queing system binaries\n",
    "# In our case, Ismael designed a bunch of small bash scripts (fake_slurm) which do ssh to Hydra and execute slurm there\n",
    "path= os.environ['PATH']\n",
    "\n",
    "# Modify path to include fake slurm\n",
    "%env PATH=$path:$slurmpath\n",
    "\n",
    "# USER INPUTS: introudce a json dictionary with the data for your system in the folowing format\n",
    "\"\"\"\n",
    "[\n",
    "    {\n",
    "        \"name\" : \"NAME\",\n",
    "        \"pdbfile\" : \"PATH/TO/YOUR_PDB.pdb\",\n",
    "        \"modres\" : [\"MODIFIED_RESNAME1\", \"MODIFIED_RESNAME\"],\n",
    "        \"ligands\" : [{\n",
    "                        \"resname\":\"SMALMOL_RESNAME1\",\n",
    "                        \"name\" : \"SMALMOL_NAME1\",\n",
    "                        \"covalently_bound\" : false # If smalmol is covalently bount to peptide\n",
    "                    }],\n",
    "        \"pdbcode\" : \"PDBCODE\",\n",
    "        \"curated\" : true, # If system has been already properly protonated\n",
    "        \"sod2x50\" : true # If system requires addition of sodium near 2x50\n",
    "    },\n",
    "\"\"\"\n",
    "input_dict = json_dict(basepath+\"inputs.json\")\n",
    "    \n",
    "# Load topology, parameter and stream files with our current basepath\n",
    "topos = [os.path.join(topparpath,file) for file in toposfilenames] \n",
    "params = [os.path.join(topparpath,file) for file in paramsfilenames]\n",
    "streams = [os.path.join(topparpath,file) for file in streamsfilenames]\n"
   ]
  },
  {
   "cell_type": "code",
   "execution_count": null,
   "metadata": {},
   "outputs": [],
   "source": [
    "########################################\n",
    "# Part 1: Prepare parameters for ligands\n",
    "########################################\n",
    "\n",
    "# Save mol2 files of ligand molecules and modres present in systems\n",
    "(modresdict,ligandsdict,pdbfilesdict) = save_smalmol_mol2(input_dict)\n",
    "\n",
    "# Get topology-parameter files for ligands\n",
    "get_lig_toppar(ligandsdict, basepath, username, password, pdbfiles = pdbfilesdict)\n",
    "\n",
    "# Get topology-parameter files for modified residues\n",
    "get_modres_toppar(modresdict, basepath, username, password, pdbfiles = pdbfilesdict)"
   ]
  },
  {
   "cell_type": "code",
   "execution_count": 59,
   "metadata": {
    "scrolled": true
   },
   "outputs": [
    {
     "name": "stderr",
     "output_type": "stream",
     "text": [
      "2021-11-29 15:55:38,517 - moleculekit.molecule - INFO - Removed 0 atoms. 4785 atoms remaining in the molecule.\n",
      "2021-11-29 15:55:41,375 - moleculekit.molecule - INFO - Removed 0 atoms. 4785 atoms remaining in the molecule.\n",
      "2021-11-29 15:55:41,465 - moleculekit.molecule - INFO - Removed 3 atoms. 4782 atoms remaining in the molecule.\n",
      "2021-11-29 15:55:41,713 - moleculekit.molecule - INFO - Removed 0 atoms. 4782 atoms remaining in the molecule.\n",
      "2021-11-29 15:55:42,725 - moleculekit.tools.autosegment - INFO - Created segment P0 between resid 1 and 393.\n",
      "2021-11-29 15:55:43,621 - moleculekit.molecule - INFO - Removed 0 atoms. 4782 atoms remaining in the molecule.\n",
      "2021-11-29 15:55:44,114 - moleculekit.tools.sequencestructuralalignment - INFO - No segment was specified by the user for `mol`. Alignment will be done on all protein segments.\n",
      "2021-11-29 15:55:44,222 - moleculekit.tools.sequencestructuralalignment - INFO - No segment was specified by the user for `ref` and multiple segments (['0', '1', '2', '3', '4']) were detected. Alignment will be done on all protein segments.\n",
      "2021-11-29 15:55:45,021 - moleculekit.tools.sequencestructuralalignment - WARNING - 8 alignments found. Limiting to 1 as specified in the `maxalignments` argument.\n",
      "2021-11-29 15:55:45,025 - moleculekit.tools.sequencestructuralalignment - INFO - Alignment #0 was done on 79 residues: mol segid P0 resid 145-223\n"
     ]
    },
    {
     "name": "stdout",
     "output_type": "stream",
     "text": [
      "Adding membrane...\n"
     ]
    },
    {
     "name": "stderr",
     "output_type": "stream",
     "text": [
      "2021-11-29 15:55:46,764 - htmd.builder.builder - INFO - Replicating Membrane 3x3\n",
      "Replicating Membrane: 100%|██████████| 9/9 [00:05<00:00,  1.54it/s]\n",
      "2021-11-29 15:58:15,578 - moleculekit.molecule - INFO - Removed 2189 atoms. 42835 atoms remaining in the molecule.\n",
      "2021-11-29 15:58:20,718 - moleculekit.molecule - INFO - Removed 126 residues from appended Molecule due to collisions.\n"
     ]
    },
    {
     "name": "stdout",
     "output_type": "stream",
     "text": [
      "Solvating...\n",
      "wataerbox Max and min:  [52.285786 53.262016 28.060892] [-47.308212 -46.377983 -27.734108]\n"
     ]
    },
    {
     "name": "stderr",
     "output_type": "stream",
     "text": [
      "2021-11-29 15:58:22,498 - htmd.builder.solvate - INFO - Using water pdb file at: /soft/system/easybuild/software/Miniconda3/4.7.10/lib/python3.6/site-packages/htmd/share/solvate/wat.pdb\n",
      "2021-11-29 15:58:24,619 - htmd.builder.solvate - INFO - Replicating 8 water segments, 2 by 2 by 2\n",
      "Solvating: 100%|██████████| 8/8 [00:22<00:00,  2.84s/it]\n",
      "2021-11-29 15:58:51,718 - htmd.builder.solvate - INFO - 12369 water molecules were added to the system.\n",
      "2021-11-29 15:59:06,410 - moleculekit.molecule - INFO - Removed 582 atoms. 79048 atoms remaining in the molecule.\n"
     ]
    },
    {
     "name": "stdout",
     "output_type": "stream",
     "text": [
      "Pre-build...\n"
     ]
    },
    {
     "name": "stderr",
     "output_type": "stream",
     "text": [
      "2021-11-29 15:59:12,491 - htmd.builder.charmm - INFO - Writing out segments.\n",
      "2021-11-29 15:59:25,221 - htmd.builder.builder - INFO - 2 disulfide bonds were added\n"
     ]
    },
    {
     "name": "stdout",
     "output_type": "stream",
     "text": [
      "Disulfide Bond between: UniqueResidueID<resname: 'CYX', chain: 'P', resid: 349, insertion: '', segid: 'P0'>\n",
      "                   and: UniqueResidueID<resname: 'CYX', chain: 'P', resid: 353, insertion: '', segid: 'P0'>\n",
      "\n",
      "Disulfide Bond between: UniqueResidueID<resname: 'CYX', chain: 'P', resid: 148, insertion: '', segid: 'P0'>\n",
      "                   and: UniqueResidueID<resname: 'CYX', chain: 'P', resid: 227, insertion: '', segid: 'P0'>\n",
      "\n"
     ]
    },
    {
     "name": "stderr",
     "output_type": "stream",
     "text": [
      "2021-11-29 15:59:26,480 - htmd.builder.charmm - INFO - Starting the build.\n",
      "2021-11-29 15:59:28,215 - htmd.builder.charmm - WARNING - Failed to set coordinates for 8 atoms.\n",
      "2021-11-29 15:59:28,216 - htmd.builder.charmm - WARNING - Failed to guess coordinates for 3 atoms due to bad angles.\n",
      "2021-11-29 15:59:28,217 - htmd.builder.charmm - WARNING - Poorly guessed coordinates for 16 atoms.\n",
      "2021-11-29 15:59:28,218 - htmd.builder.charmm - WARNING - Please check /gpcr/users/daranda/doctorat/PSYBIAS_simulations/simulation_output/pre-build/metI/log.txt for further information.\n",
      "2021-11-29 15:59:28,219 - htmd.builder.charmm - INFO - Finished building.\n",
      "2021-11-29 16:00:17,717 - htmd.builder.builder - WARNING - Found cis peptide bond in 1 frames: [0] in the omega diheral \"Angle of (SER 285 CA P0 P) (SER 285 C P0 P) (ILE 315 N P0 P) (ILE 315 CA P0 P) \" with indexes [3475, 3482, 3484, 3486]\n"
     ]
    },
    {
     "name": "stdout",
     "output_type": "stream",
     "text": [
      "Checking aromatic insertions...\n",
      "WARNING: removed 0 atoms within 1.5 of a protein aromatic ring\n",
      "Renumbering...\n",
      "Ionizing...\n"
     ]
    },
    {
     "name": "stderr",
     "output_type": "stream",
     "text": [
      "2021-11-29 16:02:50,984 - htmd.builder.charmm - INFO - Writing out segments.\n",
      "2021-11-29 16:03:04,009 - htmd.builder.builder - INFO - 2 disulfide bonds were added\n"
     ]
    },
    {
     "name": "stdout",
     "output_type": "stream",
     "text": [
      "Disulfide Bond between: UniqueResidueID<resname: 'CYS', chain: 'P', resid: 349, insertion: '', segid: 'P0'>\n",
      "                   and: UniqueResidueID<resname: 'CYS', chain: 'P', resid: 353, insertion: '', segid: 'P0'>\n",
      "\n",
      "Disulfide Bond between: UniqueResidueID<resname: 'CYS', chain: 'P', resid: 148, insertion: '', segid: 'P0'>\n",
      "                   and: UniqueResidueID<resname: 'CYS', chain: 'P', resid: 227, insertion: '', segid: 'P0'>\n",
      "\n"
     ]
    },
    {
     "name": "stderr",
     "output_type": "stream",
     "text": [
      "2021-11-29 16:03:05,154 - htmd.builder.charmm - INFO - Starting the build.\n",
      "2021-11-29 16:03:07,090 - htmd.builder.charmm - INFO - Finished building.\n",
      "2021-11-29 16:03:15,201 - htmd.builder.ionize - INFO - Adding 10 anions + 0 cations for neutralizing and 90 ions for the given salt concentration.\n",
      "2021-11-29 16:04:24,929 - htmd.builder.charmm - INFO - Writing out segments.\n",
      "2021-11-29 16:04:39,706 - htmd.builder.charmm - INFO - Starting the build.\n",
      "2021-11-29 16:04:41,487 - htmd.builder.charmm - INFO - Finished building.\n",
      "2021-11-29 16:05:30,515 - htmd.builder.builder - WARNING - Found cis peptide bond in 1 frames: [0] in the omega diheral \"Angle of (SER 285 CA P0 P) (SER 285 C P0 P) (ILE 315 N P0 P) (ILE 315 CA P0 P) \" with indexes [3475, 3482, 3484, 3486]\n"
     ]
    },
    {
     "name": "stdout",
     "output_type": "stream",
     "text": [
      "Building...\n"
     ]
    },
    {
     "name": "stderr",
     "output_type": "stream",
     "text": [
      "2021-11-29 16:06:28,781 - htmd.builder.charmm - INFO - Writing out segments.\n",
      "2021-11-29 16:06:42,613 - htmd.builder.builder - INFO - 2 disulfide bonds were added\n"
     ]
    },
    {
     "name": "stdout",
     "output_type": "stream",
     "text": [
      "Disulfide Bond between: UniqueResidueID<resname: 'CYS', chain: 'P', resid: 349, insertion: '', segid: 'P0'>\n",
      "                   and: UniqueResidueID<resname: 'CYS', chain: 'P', resid: 353, insertion: '', segid: 'P0'>\n",
      "\n",
      "Disulfide Bond between: UniqueResidueID<resname: 'CYS', chain: 'P', resid: 148, insertion: '', segid: 'P0'>\n",
      "                   and: UniqueResidueID<resname: 'CYS', chain: 'P', resid: 227, insertion: '', segid: 'P0'>\n",
      "\n"
     ]
    },
    {
     "name": "stderr",
     "output_type": "stream",
     "text": [
      "2021-11-29 16:06:43,709 - htmd.builder.charmm - INFO - Starting the build.\n",
      "2021-11-29 16:06:45,644 - htmd.builder.charmm - INFO - Finished building.\n",
      "2021-11-29 16:07:35,251 - htmd.builder.builder - WARNING - Found cis peptide bond in 1 frames: [0] in the omega diheral \"Angle of (SER 285 CA P0 P) (SER 285 C P0 P) (ILE 315 N P0 P) (ILE 315 CA P0 P) \" with indexes [3475, 3482, 3484, 3486]\n"
     ]
    },
    {
     "name": "stdout",
     "output_type": "stream",
     "text": [
      "End of metI after 717.1345138549805 seconds\n",
      "\n"
     ]
    },
    {
     "name": "stderr",
     "output_type": "stream",
     "text": [
      "2021-11-29 16:07:35,666 - moleculekit.molecule - INFO - Removed 0 atoms. 4783 atoms remaining in the molecule.\n",
      "2021-11-29 16:07:38,259 - moleculekit.molecule - INFO - Removed 0 atoms. 4783 atoms remaining in the molecule.\n",
      "2021-11-29 16:07:38,343 - moleculekit.molecule - INFO - Removed 3 atoms. 4780 atoms remaining in the molecule.\n",
      "2021-11-29 16:07:38,591 - moleculekit.molecule - INFO - Removed 0 atoms. 4780 atoms remaining in the molecule.\n",
      "2021-11-29 16:07:39,602 - moleculekit.tools.autosegment - INFO - Created segment P0 between resid 1 and 393.\n",
      "2021-11-29 16:07:40,492 - moleculekit.molecule - INFO - Removed 0 atoms. 4780 atoms remaining in the molecule.\n",
      "2021-11-29 16:07:40,983 - moleculekit.tools.sequencestructuralalignment - INFO - No segment was specified by the user for `mol`. Alignment will be done on all protein segments.\n",
      "2021-11-29 16:07:41,093 - moleculekit.tools.sequencestructuralalignment - INFO - No segment was specified by the user for `ref` and multiple segments (['0', '1', '2', '3', '4']) were detected. Alignment will be done on all protein segments.\n",
      "2021-11-29 16:07:41,897 - moleculekit.tools.sequencestructuralalignment - WARNING - 8 alignments found. Limiting to 1 as specified in the `maxalignments` argument.\n",
      "2021-11-29 16:07:41,901 - moleculekit.tools.sequencestructuralalignment - INFO - Alignment #0 was done on 79 residues: mol segid P0 resid 145-223\n"
     ]
    },
    {
     "name": "stdout",
     "output_type": "stream",
     "text": [
      "Adding membrane...\n"
     ]
    },
    {
     "name": "stderr",
     "output_type": "stream",
     "text": [
      "2021-11-29 16:07:43,921 - htmd.builder.builder - INFO - Replicating Membrane 3x3\n",
      "Replicating Membrane: 100%|██████████| 9/9 [00:06<00:00,  1.42it/s]\n",
      "2021-11-29 16:10:15,398 - moleculekit.molecule - INFO - Removed 2189 atoms. 42835 atoms remaining in the molecule.\n",
      "2021-11-29 16:10:20,779 - moleculekit.molecule - INFO - Removed 126 residues from appended Molecule due to collisions.\n"
     ]
    },
    {
     "name": "stdout",
     "output_type": "stream",
     "text": [
      "Solvating...\n",
      "wataerbox Max and min:  [52.285786 53.262016 28.060892] [-47.308212 -46.377983 -27.734108]\n"
     ]
    },
    {
     "name": "stderr",
     "output_type": "stream",
     "text": [
      "2021-11-29 16:10:22,586 - htmd.builder.solvate - INFO - Using water pdb file at: /soft/system/easybuild/software/Miniconda3/4.7.10/lib/python3.6/site-packages/htmd/share/solvate/wat.pdb\n",
      "2021-11-29 16:10:24,480 - htmd.builder.solvate - INFO - Replicating 8 water segments, 2 by 2 by 2\n",
      "Solvating: 100%|██████████| 8/8 [00:22<00:00,  2.80s/it]\n",
      "2021-11-29 16:10:51,235 - htmd.builder.solvate - INFO - 12369 water molecules were added to the system.\n",
      "2021-11-29 16:11:07,005 - moleculekit.molecule - INFO - Removed 582 atoms. 79046 atoms remaining in the molecule.\n"
     ]
    },
    {
     "name": "stdout",
     "output_type": "stream",
     "text": [
      "Pre-build...\n"
     ]
    },
    {
     "name": "stderr",
     "output_type": "stream",
     "text": [
      "2021-11-29 16:11:13,124 - htmd.builder.charmm - INFO - Writing out segments.\n",
      "2021-11-29 16:11:26,046 - htmd.builder.builder - INFO - 2 disulfide bonds were added\n"
     ]
    },
    {
     "name": "stdout",
     "output_type": "stream",
     "text": [
      "Disulfide Bond between: UniqueResidueID<resname: 'CYX', chain: 'P', resid: 349, insertion: '', segid: 'P0'>\n",
      "                   and: UniqueResidueID<resname: 'CYX', chain: 'P', resid: 353, insertion: '', segid: 'P0'>\n",
      "\n",
      "Disulfide Bond between: UniqueResidueID<resname: 'CYX', chain: 'P', resid: 148, insertion: '', segid: 'P0'>\n",
      "                   and: UniqueResidueID<resname: 'CYX', chain: 'P', resid: 227, insertion: '', segid: 'P0'>\n",
      "\n"
     ]
    },
    {
     "name": "stderr",
     "output_type": "stream",
     "text": [
      "2021-11-29 16:11:27,126 - htmd.builder.charmm - INFO - Starting the build.\n",
      "2021-11-29 16:11:28,826 - htmd.builder.charmm - WARNING - Failed to set coordinates for 7 atoms.\n",
      "2021-11-29 16:11:28,828 - htmd.builder.charmm - WARNING - Failed to guess coordinates for 3 atoms due to bad angles.\n",
      "2021-11-29 16:11:28,829 - htmd.builder.charmm - WARNING - Poorly guessed coordinates for 16 atoms.\n",
      "2021-11-29 16:11:28,830 - htmd.builder.charmm - WARNING - Please check /gpcr/users/daranda/doctorat/PSYBIAS_simulations/simulation_output/pre-build/NitroI/log.txt for further information.\n",
      "2021-11-29 16:11:28,830 - htmd.builder.charmm - INFO - Finished building.\n",
      "2021-11-29 16:12:20,231 - htmd.builder.builder - WARNING - Found cis peptide bond in 1 frames: [0] in the omega diheral \"Angle of (SER 285 CA P0 P) (SER 285 C P0 P) (ILE 315 N P0 P) (ILE 315 CA P0 P) \" with indexes [3476, 3483, 3485, 3487]\n"
     ]
    },
    {
     "name": "stdout",
     "output_type": "stream",
     "text": [
      "Checking aromatic insertions...\n",
      "WARNING: removed 0 atoms within 1.5 of a protein aromatic ring\n",
      "Renumbering...\n",
      "Ionizing...\n"
     ]
    },
    {
     "name": "stderr",
     "output_type": "stream",
     "text": [
      "2021-11-29 16:14:55,050 - htmd.builder.charmm - INFO - Writing out segments.\n",
      "2021-11-29 16:15:08,117 - htmd.builder.builder - INFO - 2 disulfide bonds were added\n"
     ]
    },
    {
     "name": "stdout",
     "output_type": "stream",
     "text": [
      "Disulfide Bond between: UniqueResidueID<resname: 'CYS', chain: 'P', resid: 349, insertion: '', segid: 'P0'>\n",
      "                   and: UniqueResidueID<resname: 'CYS', chain: 'P', resid: 353, insertion: '', segid: 'P0'>\n",
      "\n",
      "Disulfide Bond between: UniqueResidueID<resname: 'CYS', chain: 'P', resid: 148, insertion: '', segid: 'P0'>\n",
      "                   and: UniqueResidueID<resname: 'CYS', chain: 'P', resid: 227, insertion: '', segid: 'P0'>\n",
      "\n"
     ]
    },
    {
     "name": "stderr",
     "output_type": "stream",
     "text": [
      "2021-11-29 16:15:09,210 - htmd.builder.charmm - INFO - Starting the build.\n",
      "2021-11-29 16:15:11,131 - htmd.builder.charmm - WARNING - Failed to set coordinates for 1 atoms.\n",
      "2021-11-29 16:15:11,132 - htmd.builder.charmm - WARNING - Poorly guessed coordinates for 1 atoms.\n",
      "2021-11-29 16:15:11,133 - htmd.builder.charmm - WARNING - Please check /gpcr/users/daranda/doctorat/PSYBIAS_simulations/simulation_output/ionize/NitroI/log.txt for further information.\n",
      "2021-11-29 16:15:11,134 - htmd.builder.charmm - INFO - Finished building.\n",
      "2021-11-29 16:15:19,439 - htmd.builder.ionize - INFO - Adding 11 anions + 0 cations for neutralizing and 90 ions for the given salt concentration.\n",
      "2021-11-29 16:16:31,687 - htmd.builder.charmm - INFO - Writing out segments.\n",
      "2021-11-29 16:16:46,386 - htmd.builder.charmm - INFO - Starting the build.\n",
      "2021-11-29 16:16:48,081 - htmd.builder.charmm - WARNING - Failed to set coordinates for 1 atoms.\n",
      "2021-11-29 16:16:48,083 - htmd.builder.charmm - WARNING - Poorly guessed coordinates for 1 atoms.\n",
      "2021-11-29 16:16:48,084 - htmd.builder.charmm - WARNING - Please check /gpcr/users/daranda/doctorat/PSYBIAS_simulations/simulation_output/ionize/NitroI/log.txt for further information.\n",
      "2021-11-29 16:16:48,085 - htmd.builder.charmm - INFO - Finished building.\n",
      "2021-11-29 16:17:35,878 - htmd.builder.builder - WARNING - Found cis peptide bond in 1 frames: [0] in the omega diheral \"Angle of (SER 285 CA P0 P) (SER 285 C P0 P) (ILE 315 N P0 P) (ILE 315 CA P0 P) \" with indexes [3476, 3483, 3485, 3487]\n"
     ]
    },
    {
     "name": "stdout",
     "output_type": "stream",
     "text": [
      "Building...\n"
     ]
    },
    {
     "name": "stderr",
     "output_type": "stream",
     "text": [
      "2021-11-29 16:18:32,754 - htmd.builder.charmm - INFO - Writing out segments.\n",
      "2021-11-29 16:18:46,239 - htmd.builder.builder - INFO - 2 disulfide bonds were added\n"
     ]
    },
    {
     "name": "stdout",
     "output_type": "stream",
     "text": [
      "Disulfide Bond between: UniqueResidueID<resname: 'CYS', chain: 'P', resid: 349, insertion: '', segid: 'P0'>\n",
      "                   and: UniqueResidueID<resname: 'CYS', chain: 'P', resid: 353, insertion: '', segid: 'P0'>\n",
      "\n",
      "Disulfide Bond between: UniqueResidueID<resname: 'CYS', chain: 'P', resid: 148, insertion: '', segid: 'P0'>\n",
      "                   and: UniqueResidueID<resname: 'CYS', chain: 'P', resid: 227, insertion: '', segid: 'P0'>\n",
      "\n"
     ]
    },
    {
     "name": "stderr",
     "output_type": "stream",
     "text": [
      "2021-11-29 16:18:47,311 - htmd.builder.charmm - INFO - Starting the build.\n",
      "2021-11-29 16:18:48,987 - htmd.builder.charmm - WARNING - Failed to set coordinates for 1 atoms.\n",
      "2021-11-29 16:18:48,989 - htmd.builder.charmm - WARNING - Poorly guessed coordinates for 1 atoms.\n",
      "2021-11-29 16:18:48,990 - htmd.builder.charmm - WARNING - Please check /gpcr/users/daranda/doctorat/PSYBIAS_simulations/simulation_output/build/NitroI/log.txt for further information.\n",
      "2021-11-29 16:18:48,991 - htmd.builder.charmm - INFO - Finished building.\n",
      "2021-11-29 16:19:36,832 - htmd.builder.builder - WARNING - Found cis peptide bond in 1 frames: [0] in the omega diheral \"Angle of (SER 285 CA P0 P) (SER 285 C P0 P) (ILE 315 N P0 P) (ILE 315 CA P0 P) \" with indexes [3476, 3483, 3485, 3487]\n"
     ]
    },
    {
     "name": "stdout",
     "output_type": "stream",
     "text": [
      "End of NitroI after 721.5818290710449 seconds\n",
      "\n"
     ]
    },
    {
     "name": "stderr",
     "output_type": "stream",
     "text": [
      "2021-11-29 16:19:37,262 - moleculekit.molecule - INFO - Removed 0 atoms. 4796 atoms remaining in the molecule.\n",
      "2021-11-29 16:19:39,758 - moleculekit.molecule - INFO - Removed 0 atoms. 4796 atoms remaining in the molecule.\n",
      "2021-11-29 16:19:39,840 - moleculekit.molecule - INFO - Removed 3 atoms. 4793 atoms remaining in the molecule.\n",
      "2021-11-29 16:19:40,076 - moleculekit.molecule - INFO - Removed 0 atoms. 4793 atoms remaining in the molecule.\n",
      "2021-11-29 16:19:41,054 - moleculekit.tools.autosegment - INFO - Created segment P0 between resid 1 and 393.\n",
      "2021-11-29 16:19:41,905 - moleculekit.molecule - INFO - Removed 0 atoms. 4793 atoms remaining in the molecule.\n",
      "2021-11-29 16:19:42,377 - moleculekit.tools.sequencestructuralalignment - INFO - No segment was specified by the user for `mol`. Alignment will be done on all protein segments.\n",
      "2021-11-29 16:19:42,482 - moleculekit.tools.sequencestructuralalignment - INFO - No segment was specified by the user for `ref` and multiple segments (['0', '1', '2', '3', '4']) were detected. Alignment will be done on all protein segments.\n",
      "2021-11-29 16:19:43,271 - moleculekit.tools.sequencestructuralalignment - WARNING - 8 alignments found. Limiting to 1 as specified in the `maxalignments` argument.\n",
      "2021-11-29 16:19:43,276 - moleculekit.tools.sequencestructuralalignment - INFO - Alignment #0 was done on 79 residues: mol segid P0 resid 145-223\n"
     ]
    },
    {
     "name": "stdout",
     "output_type": "stream",
     "text": [
      "Adding membrane...\n"
     ]
    },
    {
     "name": "stderr",
     "output_type": "stream",
     "text": [
      "2021-11-29 16:19:45,014 - htmd.builder.builder - INFO - Replicating Membrane 3x3\n",
      "Replicating Membrane: 100%|██████████| 9/9 [00:06<00:00,  1.46it/s]\n",
      "2021-11-29 16:22:14,529 - moleculekit.molecule - INFO - Removed 2189 atoms. 42835 atoms remaining in the molecule.\n",
      "2021-11-29 16:22:19,726 - moleculekit.molecule - INFO - Removed 126 residues from appended Molecule due to collisions.\n"
     ]
    },
    {
     "name": "stdout",
     "output_type": "stream",
     "text": [
      "Solvating...\n",
      "wataerbox Max and min:  [52.285843 53.262016 28.060892] [-47.30816  -46.377983 -27.734108]\n"
     ]
    },
    {
     "name": "stderr",
     "output_type": "stream",
     "text": [
      "2021-11-29 16:22:21,495 - htmd.builder.solvate - INFO - Using water pdb file at: /soft/system/easybuild/software/Miniconda3/4.7.10/lib/python3.6/site-packages/htmd/share/solvate/wat.pdb\n",
      "2021-11-29 16:22:23,354 - htmd.builder.solvate - INFO - Replicating 8 water segments, 2 by 2 by 2\n",
      "Solvating: 100%|██████████| 8/8 [00:22<00:00,  2.83s/it]\n",
      "2021-11-29 16:22:50,400 - htmd.builder.solvate - INFO - 12366 water molecules were added to the system.\n",
      "2021-11-29 16:23:05,806 - moleculekit.molecule - INFO - Removed 570 atoms. 79062 atoms remaining in the molecule.\n"
     ]
    },
    {
     "name": "stdout",
     "output_type": "stream",
     "text": [
      "Pre-build...\n"
     ]
    },
    {
     "name": "stderr",
     "output_type": "stream",
     "text": [
      "2021-11-29 16:23:11,811 - htmd.builder.charmm - INFO - Writing out segments.\n",
      "2021-11-29 16:23:24,701 - htmd.builder.builder - INFO - 2 disulfide bonds were added\n"
     ]
    },
    {
     "name": "stdout",
     "output_type": "stream",
     "text": [
      "Disulfide Bond between: UniqueResidueID<resname: 'CYX', chain: 'P', resid: 349, insertion: '', segid: 'P0'>\n",
      "                   and: UniqueResidueID<resname: 'CYX', chain: 'P', resid: 353, insertion: '', segid: 'P0'>\n",
      "\n",
      "Disulfide Bond between: UniqueResidueID<resname: 'CYX', chain: 'P', resid: 148, insertion: '', segid: 'P0'>\n",
      "                   and: UniqueResidueID<resname: 'CYX', chain: 'P', resid: 227, insertion: '', segid: 'P0'>\n",
      "\n"
     ]
    },
    {
     "name": "stderr",
     "output_type": "stream",
     "text": [
      "2021-11-29 16:23:25,782 - htmd.builder.charmm - INFO - Starting the build.\n",
      "2021-11-29 16:23:27,581 - htmd.builder.charmm - WARNING - Failed to set coordinates for 7 atoms.\n",
      "2021-11-29 16:23:27,583 - htmd.builder.charmm - WARNING - Failed to guess coordinates for 3 atoms due to bad angles.\n",
      "2021-11-29 16:23:27,584 - htmd.builder.charmm - WARNING - Poorly guessed coordinates for 16 atoms.\n",
      "2021-11-29 16:23:27,584 - htmd.builder.charmm - WARNING - Please check /gpcr/users/daranda/doctorat/PSYBIAS_simulations/simulation_output/pre-build/otava35/log.txt for further information.\n",
      "2021-11-29 16:23:27,585 - htmd.builder.charmm - INFO - Finished building.\n",
      "2021-11-29 16:24:16,522 - htmd.builder.builder - WARNING - Found cis peptide bond in 1 frames: [0] in the omega diheral \"Angle of (SER 285 CA P0 P) (SER 285 C P0 P) (ILE 315 N P0 P) (ILE 315 CA P0 P) \" with indexes [3475, 3482, 3484, 3486]\n"
     ]
    },
    {
     "name": "stdout",
     "output_type": "stream",
     "text": [
      "Checking aromatic insertions...\n",
      "WARNING: removed 0 atoms within 1.5 of a protein aromatic ring\n",
      "Renumbering...\n",
      "Ionizing...\n"
     ]
    },
    {
     "name": "stderr",
     "output_type": "stream",
     "text": [
      "2021-11-29 16:26:47,989 - htmd.builder.charmm - INFO - Writing out segments.\n",
      "2021-11-29 16:27:01,326 - htmd.builder.builder - INFO - 2 disulfide bonds were added\n"
     ]
    },
    {
     "name": "stdout",
     "output_type": "stream",
     "text": [
      "Disulfide Bond between: UniqueResidueID<resname: 'CYS', chain: 'P', resid: 349, insertion: '', segid: 'P0'>\n",
      "                   and: UniqueResidueID<resname: 'CYS', chain: 'P', resid: 353, insertion: '', segid: 'P0'>\n",
      "\n",
      "Disulfide Bond between: UniqueResidueID<resname: 'CYS', chain: 'P', resid: 148, insertion: '', segid: 'P0'>\n",
      "                   and: UniqueResidueID<resname: 'CYS', chain: 'P', resid: 227, insertion: '', segid: 'P0'>\n",
      "\n"
     ]
    },
    {
     "name": "stderr",
     "output_type": "stream",
     "text": [
      "2021-11-29 16:27:02,411 - htmd.builder.charmm - INFO - Starting the build.\n",
      "2021-11-29 16:27:04,205 - htmd.builder.charmm - WARNING - Failed to set coordinates for 1 atoms.\n",
      "2021-11-29 16:27:04,207 - htmd.builder.charmm - WARNING - Poorly guessed coordinates for 1 atoms.\n",
      "2021-11-29 16:27:04,208 - htmd.builder.charmm - WARNING - Please check /gpcr/users/daranda/doctorat/PSYBIAS_simulations/simulation_output/ionize/otava35/log.txt for further information.\n",
      "2021-11-29 16:27:04,208 - htmd.builder.charmm - INFO - Finished building.\n",
      "2021-11-29 16:27:12,692 - htmd.builder.ionize - INFO - Adding 11 anions + 0 cations for neutralizing and 90 ions for the given salt concentration.\n",
      "2021-11-29 16:28:25,976 - htmd.builder.charmm - INFO - Writing out segments.\n",
      "2021-11-29 16:28:41,104 - htmd.builder.charmm - INFO - Starting the build.\n",
      "2021-11-29 16:28:42,820 - htmd.builder.charmm - WARNING - Failed to set coordinates for 1 atoms.\n",
      "2021-11-29 16:28:42,822 - htmd.builder.charmm - WARNING - Poorly guessed coordinates for 1 atoms.\n",
      "2021-11-29 16:28:42,822 - htmd.builder.charmm - WARNING - Please check /gpcr/users/daranda/doctorat/PSYBIAS_simulations/simulation_output/ionize/otava35/log.txt for further information.\n",
      "2021-11-29 16:28:42,823 - htmd.builder.charmm - INFO - Finished building.\n",
      "2021-11-29 16:29:31,249 - htmd.builder.builder - WARNING - Found cis peptide bond in 1 frames: [0] in the omega diheral \"Angle of (SER 285 CA P0 P) (SER 285 C P0 P) (ILE 315 N P0 P) (ILE 315 CA P0 P) \" with indexes [3475, 3482, 3484, 3486]\n"
     ]
    },
    {
     "name": "stdout",
     "output_type": "stream",
     "text": [
      "Building...\n"
     ]
    },
    {
     "name": "stderr",
     "output_type": "stream",
     "text": [
      "2021-11-29 16:30:28,260 - htmd.builder.charmm - INFO - Writing out segments.\n",
      "2021-11-29 16:30:42,033 - htmd.builder.builder - INFO - 2 disulfide bonds were added\n"
     ]
    },
    {
     "name": "stdout",
     "output_type": "stream",
     "text": [
      "Disulfide Bond between: UniqueResidueID<resname: 'CYS', chain: 'P', resid: 349, insertion: '', segid: 'P0'>\n",
      "                   and: UniqueResidueID<resname: 'CYS', chain: 'P', resid: 353, insertion: '', segid: 'P0'>\n",
      "\n",
      "Disulfide Bond between: UniqueResidueID<resname: 'CYS', chain: 'P', resid: 148, insertion: '', segid: 'P0'>\n",
      "                   and: UniqueResidueID<resname: 'CYS', chain: 'P', resid: 227, insertion: '', segid: 'P0'>\n",
      "\n"
     ]
    },
    {
     "name": "stderr",
     "output_type": "stream",
     "text": [
      "2021-11-29 16:30:43,104 - htmd.builder.charmm - INFO - Starting the build.\n",
      "2021-11-29 16:30:44,804 - htmd.builder.charmm - WARNING - Failed to set coordinates for 1 atoms.\n",
      "2021-11-29 16:30:44,806 - htmd.builder.charmm - WARNING - Poorly guessed coordinates for 1 atoms.\n",
      "2021-11-29 16:30:44,807 - htmd.builder.charmm - WARNING - Please check /gpcr/users/daranda/doctorat/PSYBIAS_simulations/simulation_output/build/otava35/log.txt for further information.\n",
      "2021-11-29 16:30:44,808 - htmd.builder.charmm - INFO - Finished building.\n",
      "2021-11-29 16:31:38,461 - htmd.builder.builder - WARNING - Found cis peptide bond in 1 frames: [0] in the omega diheral \"Angle of (SER 285 CA P0 P) (SER 285 C P0 P) (ILE 315 N P0 P) (ILE 315 CA P0 P) \" with indexes [3475, 3482, 3484, 3486]\n"
     ]
    },
    {
     "name": "stdout",
     "output_type": "stream",
     "text": [
      "End of otava35 after 721.6279373168945 seconds\n",
      "\n"
     ]
    },
    {
     "name": "stderr",
     "output_type": "stream",
     "text": [
      "2021-11-29 16:31:38,924 - moleculekit.molecule - INFO - Removed 0 atoms. 4791 atoms remaining in the molecule.\n",
      "2021-11-29 16:31:41,510 - moleculekit.molecule - INFO - Removed 0 atoms. 4791 atoms remaining in the molecule.\n",
      "2021-11-29 16:31:41,598 - moleculekit.molecule - INFO - Removed 3 atoms. 4788 atoms remaining in the molecule.\n",
      "2021-11-29 16:31:41,855 - moleculekit.molecule - INFO - Removed 0 atoms. 4788 atoms remaining in the molecule.\n",
      "2021-11-29 16:31:42,918 - moleculekit.tools.autosegment - INFO - Created segment P0 between resid 1 and 393.\n",
      "2021-11-29 16:31:43,837 - moleculekit.molecule - INFO - Removed 0 atoms. 4788 atoms remaining in the molecule.\n",
      "2021-11-29 16:31:44,333 - moleculekit.tools.sequencestructuralalignment - INFO - No segment was specified by the user for `mol`. Alignment will be done on all protein segments.\n",
      "2021-11-29 16:31:44,444 - moleculekit.tools.sequencestructuralalignment - INFO - No segment was specified by the user for `ref` and multiple segments (['0', '1', '2', '3', '4']) were detected. Alignment will be done on all protein segments.\n",
      "2021-11-29 16:31:45,249 - moleculekit.tools.sequencestructuralalignment - WARNING - 8 alignments found. Limiting to 1 as specified in the `maxalignments` argument.\n",
      "2021-11-29 16:31:45,254 - moleculekit.tools.sequencestructuralalignment - INFO - Alignment #0 was done on 79 residues: mol segid P0 resid 145-223\n"
     ]
    },
    {
     "name": "stdout",
     "output_type": "stream",
     "text": [
      "Adding membrane...\n"
     ]
    },
    {
     "name": "stderr",
     "output_type": "stream",
     "text": [
      "2021-11-29 16:31:47,059 - htmd.builder.builder - INFO - Replicating Membrane 3x3\n",
      "Replicating Membrane: 100%|██████████| 9/9 [00:06<00:00,  1.45it/s]\n",
      "2021-11-29 16:34:19,504 - moleculekit.molecule - INFO - Removed 2189 atoms. 42835 atoms remaining in the molecule.\n",
      "2021-11-29 16:34:24,701 - moleculekit.molecule - INFO - Removed 126 residues from appended Molecule due to collisions.\n"
     ]
    },
    {
     "name": "stdout",
     "output_type": "stream",
     "text": [
      "Solvating...\n",
      "wataerbox Max and min:  [52.285793 53.261982 28.060892] [-47.30821  -46.37802  -27.734108]\n"
     ]
    },
    {
     "name": "stderr",
     "output_type": "stream",
     "text": [
      "2021-11-29 16:34:26,539 - htmd.builder.solvate - INFO - Using water pdb file at: /soft/system/easybuild/software/Miniconda3/4.7.10/lib/python3.6/site-packages/htmd/share/solvate/wat.pdb\n",
      "2021-11-29 16:34:28,705 - htmd.builder.solvate - INFO - Replicating 8 water segments, 2 by 2 by 2\n",
      "Solvating: 100%|██████████| 8/8 [00:23<00:00,  2.89s/it]\n",
      "2021-11-29 16:34:56,124 - htmd.builder.solvate - INFO - 12365 water molecules were added to the system.\n",
      "2021-11-29 16:35:10,745 - moleculekit.molecule - INFO - Removed 570 atoms. 79054 atoms remaining in the molecule.\n"
     ]
    },
    {
     "name": "stdout",
     "output_type": "stream",
     "text": [
      "Pre-build...\n"
     ]
    },
    {
     "name": "stderr",
     "output_type": "stream",
     "text": [
      "2021-11-29 16:35:16,598 - htmd.builder.charmm - INFO - Writing out segments.\n",
      "2021-11-29 16:35:29,746 - htmd.builder.builder - INFO - 2 disulfide bonds were added\n"
     ]
    },
    {
     "name": "stdout",
     "output_type": "stream",
     "text": [
      "Disulfide Bond between: UniqueResidueID<resname: 'CYX', chain: 'P', resid: 349, insertion: '', segid: 'P0'>\n",
      "                   and: UniqueResidueID<resname: 'CYX', chain: 'P', resid: 353, insertion: '', segid: 'P0'>\n",
      "\n",
      "Disulfide Bond between: UniqueResidueID<resname: 'CYX', chain: 'P', resid: 148, insertion: '', segid: 'P0'>\n",
      "                   and: UniqueResidueID<resname: 'CYX', chain: 'P', resid: 227, insertion: '', segid: 'P0'>\n",
      "\n"
     ]
    },
    {
     "name": "stderr",
     "output_type": "stream",
     "text": [
      "2021-11-29 16:35:30,852 - htmd.builder.charmm - INFO - Starting the build.\n",
      "2021-11-29 16:35:33,104 - htmd.builder.charmm - WARNING - Failed to set coordinates for 7 atoms.\n",
      "2021-11-29 16:35:33,106 - htmd.builder.charmm - WARNING - Failed to guess coordinates for 3 atoms due to bad angles.\n",
      "2021-11-29 16:35:33,107 - htmd.builder.charmm - WARNING - Poorly guessed coordinates for 16 atoms.\n",
      "2021-11-29 16:35:33,108 - htmd.builder.charmm - WARNING - Please check /gpcr/users/daranda/doctorat/PSYBIAS_simulations/simulation_output/pre-build/otava37/log.txt for further information.\n",
      "2021-11-29 16:35:33,108 - htmd.builder.charmm - INFO - Finished building.\n",
      "2021-11-29 16:36:24,774 - htmd.builder.builder - WARNING - Found cis peptide bond in 1 frames: [0] in the omega diheral \"Angle of (SER 285 CA P0 P) (SER 285 C P0 P) (ILE 315 N P0 P) (ILE 315 CA P0 P) \" with indexes [3475, 3482, 3484, 3486]\n"
     ]
    },
    {
     "name": "stdout",
     "output_type": "stream",
     "text": [
      "Checking aromatic insertions...\n",
      "WARNING: removed 0 atoms within 1.5 of a protein aromatic ring\n",
      "Renumbering...\n",
      "Ionizing...\n"
     ]
    },
    {
     "name": "stderr",
     "output_type": "stream",
     "text": [
      "2021-11-29 16:38:57,319 - htmd.builder.charmm - INFO - Writing out segments.\n",
      "2021-11-29 16:39:10,864 - htmd.builder.builder - INFO - 2 disulfide bonds were added\n"
     ]
    },
    {
     "name": "stdout",
     "output_type": "stream",
     "text": [
      "Disulfide Bond between: UniqueResidueID<resname: 'CYS', chain: 'P', resid: 349, insertion: '', segid: 'P0'>\n",
      "                   and: UniqueResidueID<resname: 'CYS', chain: 'P', resid: 353, insertion: '', segid: 'P0'>\n",
      "\n",
      "Disulfide Bond between: UniqueResidueID<resname: 'CYS', chain: 'P', resid: 148, insertion: '', segid: 'P0'>\n",
      "                   and: UniqueResidueID<resname: 'CYS', chain: 'P', resid: 227, insertion: '', segid: 'P0'>\n",
      "\n"
     ]
    },
    {
     "name": "stderr",
     "output_type": "stream",
     "text": [
      "2021-11-29 16:39:12,010 - htmd.builder.charmm - INFO - Starting the build.\n",
      "2021-11-29 16:39:14,037 - htmd.builder.charmm - WARNING - Failed to set coordinates for 1 atoms.\n",
      "2021-11-29 16:39:14,039 - htmd.builder.charmm - WARNING - Poorly guessed coordinates for 1 atoms.\n",
      "2021-11-29 16:39:14,040 - htmd.builder.charmm - WARNING - Please check /gpcr/users/daranda/doctorat/PSYBIAS_simulations/simulation_output/ionize/otava37/log.txt for further information.\n",
      "2021-11-29 16:39:14,040 - htmd.builder.charmm - INFO - Finished building.\n",
      "2021-11-29 16:39:22,526 - htmd.builder.ionize - INFO - Adding 11 anions + 0 cations for neutralizing and 90 ions for the given salt concentration.\n",
      "2021-11-29 16:40:35,261 - htmd.builder.charmm - INFO - Writing out segments.\n",
      "2021-11-29 16:40:50,431 - htmd.builder.charmm - INFO - Starting the build.\n",
      "2021-11-29 16:40:52,146 - htmd.builder.charmm - WARNING - Failed to set coordinates for 1 atoms.\n",
      "2021-11-29 16:40:52,147 - htmd.builder.charmm - WARNING - Poorly guessed coordinates for 1 atoms.\n",
      "2021-11-29 16:40:52,148 - htmd.builder.charmm - WARNING - Please check /gpcr/users/daranda/doctorat/PSYBIAS_simulations/simulation_output/ionize/otava37/log.txt for further information.\n",
      "2021-11-29 16:40:52,149 - htmd.builder.charmm - INFO - Finished building.\n",
      "2021-11-29 16:41:41,156 - htmd.builder.builder - WARNING - Found cis peptide bond in 1 frames: [0] in the omega diheral \"Angle of (SER 285 CA P0 P) (SER 285 C P0 P) (ILE 315 N P0 P) (ILE 315 CA P0 P) \" with indexes [3475, 3482, 3484, 3486]\n"
     ]
    },
    {
     "name": "stdout",
     "output_type": "stream",
     "text": [
      "Building...\n"
     ]
    },
    {
     "name": "stderr",
     "output_type": "stream",
     "text": [
      "2021-11-29 16:42:39,020 - htmd.builder.charmm - INFO - Writing out segments.\n",
      "2021-11-29 16:42:52,861 - htmd.builder.builder - INFO - 2 disulfide bonds were added\n"
     ]
    },
    {
     "name": "stdout",
     "output_type": "stream",
     "text": [
      "Disulfide Bond between: UniqueResidueID<resname: 'CYS', chain: 'P', resid: 349, insertion: '', segid: 'P0'>\n",
      "                   and: UniqueResidueID<resname: 'CYS', chain: 'P', resid: 353, insertion: '', segid: 'P0'>\n",
      "\n",
      "Disulfide Bond between: UniqueResidueID<resname: 'CYS', chain: 'P', resid: 148, insertion: '', segid: 'P0'>\n",
      "                   and: UniqueResidueID<resname: 'CYS', chain: 'P', resid: 227, insertion: '', segid: 'P0'>\n",
      "\n"
     ]
    },
    {
     "name": "stderr",
     "output_type": "stream",
     "text": [
      "2021-11-29 16:42:53,947 - htmd.builder.charmm - INFO - Starting the build.\n",
      "2021-11-29 16:42:55,691 - htmd.builder.charmm - WARNING - Failed to set coordinates for 1 atoms.\n",
      "2021-11-29 16:42:55,693 - htmd.builder.charmm - WARNING - Poorly guessed coordinates for 1 atoms.\n",
      "2021-11-29 16:42:55,694 - htmd.builder.charmm - WARNING - Please check /gpcr/users/daranda/doctorat/PSYBIAS_simulations/simulation_output/build/otava37/log.txt for further information.\n",
      "2021-11-29 16:42:55,694 - htmd.builder.charmm - INFO - Finished building.\n",
      "2021-11-29 16:43:48,783 - htmd.builder.builder - WARNING - Found cis peptide bond in 1 frames: [0] in the omega diheral \"Angle of (SER 285 CA P0 P) (SER 285 C P0 P) (ILE 315 N P0 P) (ILE 315 CA P0 P) \" with indexes [3475, 3482, 3484, 3486]\n"
     ]
    },
    {
     "name": "stdout",
     "output_type": "stream",
     "text": [
      "End of otava37 after 730.3223831653595 seconds\n",
      "\n"
     ]
    }
   ],
   "source": [
    "###########################\n",
    "## Part 2: Build the models \n",
    "###########################\n",
    "\n",
    "# Iterate by GPCRdb structures to simulate\n",
    "for entry in input_dict:    \n",
    "#    try:\n",
    "\n",
    "        # Entry's data\n",
    "        name = entry['name']\n",
    "        pdbcode = entry['pdbcode']\n",
    "        pdbfile = basepath+entry['pdbfile']\n",
    "        curated = entry['curated']\n",
    "        sod = \"sod_yes\" if entry['sod2x50'] else \"sod_no\"\n",
    "        \n",
    "        for apo in [False]:\n",
    "            \n",
    "            #Starting simulation\n",
    "            start_time = time.time()        \n",
    "            sysname = name+'_apo' if apo else name\n",
    "            mystrucpath = strucpath+sysname+'/'\n",
    "            os.makedirs(mystrucpath, exist_ok=True)\n",
    "\n",
    "            # Skip if there is already a model build for this\n",
    "            if os.path.exists(resultspath+'build/'+sysname+'/structure.pdb'):\n",
    "                print('Build model for '+sysname+' already exists. Skipping...')\n",
    "                continue\n",
    "\n",
    "            # Check if simulation is aminergic\n",
    "            aminergic = gpcrdb_dict[pdbcode]['family'].startswith('001_001')\n",
    "            adenosine = gpcrdb_dict[pdbcode]['family'].startswith('001_006_001')\n",
    "            \n",
    "            ## Load structure\n",
    "            #(sod2x50, watered_filename) = internal_waters(mystrucpath, pdbcode, gpcrdb_dict, apo, pdbfile,sod=sod)\n",
    "            #gpcrdb_mol = Molecule(watered_filename)\n",
    "            sod2x50 =True\n",
    "            gpcrdb_mol = Molecule(pdbfile)\n",
    "                \n",
    "            # If the pipeline is running in 'apoform mode', remove any non-protein, non-ion, non-water thing on the system      \n",
    "            # Delete also sod2x50 (we don't want them here)\n",
    "            if apo:\n",
    "                gpcrdb_mol.remove('not (protein or water or ion) or element Na')\n",
    "                \n",
    "            # Remove unnecessary ligand molecules: mostly crystalization detergents, quelants, buffers,\n",
    "            # or post-traductional glicosilations\n",
    "            gpcrdb_mol.remove('resname '+' '.join(blacklist))\n",
    "            \n",
    "            # Remove 2x50Sodium from non-A-class GPCRs\n",
    "            if not gpcrdb_dict[pdbcode]['family'].startswith('001'):\n",
    "                gpcrdb_mol.remove('element NA')\n",
    "\n",
    "            # Get aligned OPM structure\n",
    "            thickness,opm_mol = get_opm(pdbcode)\n",
    "\n",
    "            # Ismael's function to add labels (segid) for 'ligand' and 'protein' parts of the system\n",
    "            gpcrdb_mol_fixed,prot_segids = fix_and_prepare_input(gpcrdb_mol,name,modresdict,new_pdb_chain)\n",
    "            \n",
    "            # If there's any, parameterize and rename covalent-bound ligands\n",
    "            if not apo:\n",
    "                (gpcrdb_mol_fixed, covligs) = covalent_ligands(gpcrdb_mol_fixed, name, ligandsdict)\n",
    "            else:\n",
    "                covligs = []\n",
    "            \n",
    "            # write file to remember to which chain in the original structure belongs each segment\n",
    "            segchain_json(gpcrdb_mol_fixed, sysname, basepath, prot_segids)\n",
    "            \n",
    "            # Align structrues using sequences, and take first one\n",
    "            alignment_results = sequenceStructureAlignment(gpcrdb_mol_fixed, opm_mol, maxalignments = 1)\n",
    "            mol_aligned = alignment_results[0] \n",
    "            \n",
    "            #Center to receptor XY\n",
    "            center = np.mean(mol_aligned.get('coords',sel='chain P'),axis=0)\n",
    "            mol_aligned.moveBy([-center[0],-center[1],0])\n",
    "            \n",
    "            # Prepare protein: asign titration states, flipping side chains of HIS, ASN and GLN; rotate some sidechains, optimize waters, etc.\n",
    "            # Most of this is done with a HTMD function called proteinPrepare()\n",
    "            # Skip step if we are working with curators structures\n",
    "            prepared_mol = mol_aligned if curated else prepare_system(mol_aligned, pdbcode, thickness, sod2x50, aminergic, adenosine)\n",
    "            \n",
    "            #Add membrane\n",
    "            print('Adding membrane...')\n",
    "            membranemol = Molecule(membranepdb)\n",
    "            mol_membraned, membrane_resnames, membrane_segids, xreps, yreps = add_membrane(prepared_mol, membranemol,prot_segids,membrane_distance)\n",
    "            \n",
    "            # Needed later for equilibration\n",
    "            with open(mystrucpath+\"const_sel.txt\",'w') as out: \n",
    "                const_sel = 'segid '+' '.join(prot_segids)+' and name C CA N O or not (segid ' + \\\n",
    "                  ' '.join(prot_segids)+' or lipid or water or ions ) and noh or segid ION WAT and noh'\n",
    "                out.write(const_sel)\n",
    "\n",
    "            #Solvate\n",
    "            print('Solvating...')\n",
    "            mol_solvated = solvate_pdbmol(mol_membraned,membrane_segids,water_thickness,water_margin,buffer=buffer,coldist=coldist,prefix='WT')\n",
    "\n",
    "            # Check if system has lone-pair hallogen atoms. If it does, use legacy CGenFF parameters\n",
    "            has_halo = bool(len(gpcrdb_mol_fixed.get('name', 'element Br Cl I and not ion')))\n",
    "            if has_halo:\n",
    "                cgenff_par = [topparpath+'David_top_params/parameters/legacy_par_all36_cgenff.prm']\n",
    "                cgenff_top = [topparpath+'David_top_params/topologies/legacy_top_all36_cgenff.rtf']\n",
    "            else: \n",
    "                cgenff_par = [topparpath+'General_top_params/parameters/par_all36_cgenff.prm']\n",
    "                cgenff_top = [topparpath+'General_top_params/topologies/top_all36_cgenff.rtf']\n",
    "            \n",
    "            #Obtain extra parameters for ligands and modified residues \n",
    "            ligstreams=extra_parameters(name, ligandsdict, modresdict, blacklist, covligs, basepath, has_halo)\n",
    "            \n",
    "            # Assignign terminology for cap atoms of protein chain, depending if it is the receptor protein or not\n",
    "            caps = get_caps(prot_segids, mol_solvated)\n",
    "            #{'P0': ['first ACE', 'last CT3'], 'P1': ['first ACE', 'last CT3']}\n",
    "\n",
    "            #Pre-build model\n",
    "            print('Pre-build...')\n",
    "            prebuildmol = charmm.build(mol_solvated, \n",
    "                                       topo=topos+cgenff_top, \n",
    "                                       param=params+cgenff_par,\n",
    "                                       stream=streams+ligstreams,\n",
    "                                       caps=caps,\n",
    "                                       outdir=resultspath+'/pre-build/'+sysname,\n",
    "                                       ionize=False)\n",
    "\n",
    "            # Save prebuild model topologies in files, and  store prebuild model in molecule object\n",
    "            prebuild_psffile = prebuildmol.topoloc\n",
    "            prebuild_pdbfile = os.path.splitext(prebuildmol.topoloc)[0]+'.pdb'\n",
    "            prebuildmol = Molecule(prebuild_pdbfile)\n",
    "            _recoverProtonations(prebuildmol)\n",
    "\n",
    "            # Checking of aromatic insertions (takes quite a lot fo time)\n",
    "            print('Checking aromatic insertions...')\n",
    "            mol_removed,removed_indexes = remove_aromatic_insertions(prebuildmol,prot_segids, outpdb=resultspath+'/pre-build/'+sysname+'/aromatic_check.pdb')\n",
    "\n",
    "            # Checking of water/lipid ratio\n",
    "            lipid_num = len(set(prebuildmol.get('resid',sel='segid '+membrane_lipid_segid)))\n",
    "            solv_num = len(mol_removed.get('index',sel='resname TIP3 and name OH2'))\n",
    "            if float(solv_num) / lipid_num < 35:\n",
    "                raise ValueError('Water/lipid ratio lower than 35.')\n",
    "\n",
    "            #Renumber residues\n",
    "            print('Renumbering...')\n",
    "            mol_renumbered = renumber_resid_vmd(mol_removed,'segid '+' '.join(membrane_segids),by=2)\n",
    "\n",
    "            # Ionizing system\n",
    "            print('Ionizing...')\n",
    "            molbuilt = charmm.build(mol_removed,\n",
    "                                    topo=topos+cgenff_top, \n",
    "                                    param=params+cgenff_par,\n",
    "                                    stream=streams+ligstreams,                        \n",
    "                                    outdir=resultspath+'/ionize/'+sysname,\n",
    "                                    saltconc=0.15,\n",
    "                                    caps=caps)\n",
    "            build_psffile = molbuilt.topoloc\n",
    "            build_pdbfile = os.path.splitext(molbuilt.topoloc)[0]+'.pdb'\n",
    "            molbuilt = Molecule(build_pdbfile)\n",
    "            _recoverProtonations(molbuilt)\n",
    "\n",
    "            #Building system\n",
    "            print('Building...')\n",
    "            molbuilt = renumber_resid_vmd(molbuilt,'segid \"WT.*\" or segid I',by=2)\n",
    "            molbuilt = charmm.build(molbuilt, \n",
    "                                    topo=topos+cgenff_top, \n",
    "                                    param=params+cgenff_par,\n",
    "                                    stream=streams+ligstreams,                        \n",
    "                                    outdir=resultspath+'/build/'+sysname,\n",
    "                                    caps=caps,ionize=False)\n",
    "\n",
    "            print('End of %s after %s seconds\\n' % (sysname, time.time() - start_time))\n",
    "\n",
    "#    except Exception as e:\n",
    " #       print(\"model \"+sysname+\" could not be build because \",e)"
   ]
  },
  {
   "cell_type": "code",
   "execution_count": 6,
   "metadata": {},
   "outputs": [
    {
     "name": "stdout",
     "output_type": "stream",
     "text": [
      " structure 5ZHP already has been equilibrated\n",
      " structure 5ZHP already has been equilibrated\n",
      " structure 6AKX already has been equilibrated\n",
      " structure 6AKX already has been equilibrated\n",
      " structure 5TE5 already has been equilibrated\n",
      " structure 5TE5 already has been equilibrated\n",
      " structure 6KQI already has been equilibrated\n",
      " structure 6KQI already has been equilibrated\n",
      "model 6LI2 could not be send to equilibrate because of  name 'const_sel' is not defined\n",
      " structure 6LI2 already has been equilibrated\n",
      " structure 5UNH already has been equilibrated\n",
      " structure 5UNH already has been equilibrated\n",
      " structure 5XRA already has been equilibrated\n",
      " structure 5XRA already has been equilibrated\n",
      " structure 5T04 already has been equilibrated\n",
      " structure 5T04 already has been equilibrated\n",
      " structure 5OLO already has been equilibrated\n",
      " structure 5OLO already has been equilibrated\n",
      " structure 6LRY already has been equilibrated\n",
      " structure 6LRY already has been equilibrated\n",
      " structure 5X33 already has been equilibrated\n",
      " structure 5X33 already has been equilibrated\n",
      "model 5ZTY could not be send to equilibrate because of  name 'const_sel' is not defined\n",
      "model 5ZTY_apo could not be send to equilibrate because of  name 'const_sel' is not defined\n",
      " structure 5K2C already has been equilibrated\n",
      " structure 5K2C already has been equilibrated\n",
      " structure 6TPN already has been equilibrated\n",
      " structure 6TPN already has been equilibrated\n",
      " structure 5XPR already has been equilibrated\n",
      " structure 5XPR already has been equilibrated\n",
      " structure 6AQF already has been equilibrated\n",
      " structure 6AQF already has been equilibrated\n",
      " structure 5ZBH already has been equilibrated\n",
      " structure 5ZBH already has been equilibrated\n",
      " structure 6KPC already has been equilibrated\n",
      " structure 6KPC already has been equilibrated\n",
      " structure 6TQ7 already has been equilibrated\n",
      " structure 6TQ7 already has been equilibrated\n",
      " structure 6K1Q already has been equilibrated\n",
      " structure 6K1Q already has been equilibrated\n",
      " structure 5MZJ already has been equilibrated\n",
      " structure 5MZJ already has been equilibrated\n",
      " structure 4NC3 already has been equilibrated\n",
      " structure 4NC3 already has been equilibrated\n",
      " structure 4JKV already has been equilibrated\n",
      " structure 4JKV already has been equilibrated\n",
      " structure 6TPG already has been equilibrated\n",
      " structure 6TPG already has been equilibrated\n",
      " structure 6RZ4 already has been equilibrated\n",
      " structure 6RZ4 already has been equilibrated\n",
      " structure 4EJ4 already has been equilibrated\n",
      " structure 4EJ4 already has been equilibrated\n",
      " structure 6PS7 already has been equilibrated\n",
      " structure 6PS7 already has been equilibrated\n",
      " structure 6D35 already has been equilibrated\n",
      " structure 6D35 already has been equilibrated\n",
      "model 5GLI could not be send to equilibrate because of  name 'const_sel' is not defined\n",
      " structure 5GLI already has been equilibrated\n",
      " structure 6HLO already has been equilibrated\n",
      " structure 6HLO already has been equilibrated\n",
      " structure 5KW2 already has been equilibrated\n",
      " structure 5KW2 already has been equilibrated\n",
      " structure 5K2D already has been equilibrated\n",
      " structure 5K2D already has been equilibrated\n",
      " structure 6ME2 already has been equilibrated\n",
      " structure 6ME2 already has been equilibrated\n",
      " structure 5TZR already has been equilibrated\n",
      " structure 5TZR already has been equilibrated\n",
      " structure 5EE7 already has been equilibrated\n",
      " structure 5EE7 already has been equilibrated\n",
      " structure 6PRZ already has been equilibrated\n",
      " structure 6PRZ already has been equilibrated\n",
      " structure 6FKC already has been equilibrated\n",
      " structure 6FKC already has been equilibrated\n",
      "model 5TE3 could not be send to equilibrate because of  name 'const_sel' is not defined\n",
      " structure 5TE3 already has been equilibrated\n",
      " structure 6IGL already has been equilibrated\n",
      " structure 6IGL already has been equilibrated\n",
      " structure 6ME3 already has been equilibrated\n",
      " structure 6ME3 already has been equilibrated\n",
      " structure 5ZKC already has been equilibrated\n",
      " structure 5ZKC already has been equilibrated\n",
      " structure 5TVN already has been equilibrated\n",
      " structure 5TVN already has been equilibrated\n",
      " structure 6RZ9 already has been equilibrated\n",
      " structure 6RZ9 already has been equilibrated\n",
      " structure 5ZKP already has been equilibrated\n",
      " structure 5ZKP already has been equilibrated\n",
      " structure 6A93 already has been equilibrated\n",
      " structure 6A93 already has been equilibrated\n",
      " structure 6LUQ already has been equilibrated\n",
      " structure 6LUQ already has been equilibrated\n",
      " structure 5WF5 already has been equilibrated\n",
      " structure 5WF5 already has been equilibrated\n",
      " structure 6PS8 already has been equilibrated\n",
      " structure 6PS8 already has been equilibrated\n",
      " structure 5TZY already has been equilibrated\n",
      " structure 5TZY already has been equilibrated\n",
      " structure 5V56 already has been equilibrated\n",
      " structure 5V56 already has been equilibrated\n",
      " structure 5UIG already has been equilibrated\n",
      " structure 5UIG already has been equilibrated\n",
      " structure 5N2R already has been equilibrated\n",
      " structure 5N2R already has been equilibrated\n",
      " structure 5OLG already has been equilibrated\n",
      " structure 5OLG already has been equilibrated\n",
      " structure 6TO7 already has been equilibrated\n",
      " structure 6TO7 already has been equilibrated\n",
      " structure 6FJ3 already has been equilibrated\n",
      " structure 6FJ3 already has been equilibrated\n",
      " structure 5UVI already has been equilibrated\n",
      " structure 5UVI already has been equilibrated\n",
      "model 6TP3 could not be send to equilibrate because of  name 'const_sel' is not defined\n",
      " structure 6TP3 already has been equilibrated\n",
      " structure 6PS4 already has been equilibrated\n",
      " structure 6PS4 already has been equilibrated\n",
      " structure 4BUO already has been equilibrated\n",
      " structure 4BUO already has been equilibrated\n",
      " structure 5WIV already has been equilibrated\n",
      " structure 5WIV already has been equilibrated\n",
      " structure 6FK7 already has been equilibrated\n",
      " structure 6FK7 already has been equilibrated\n",
      " structure 5NDZ already has been equilibrated\n",
      " structure 5NDZ already has been equilibrated\n",
      " structure 5X7D already has been equilibrated\n",
      " structure 5X7D already has been equilibrated\n",
      " structure 6TQ6 already has been equilibrated\n",
      " structure 6TQ6 already has been equilibrated\n",
      "model 4GPO could not be send to equilibrate because of  name 'const_sel' is not defined\n",
      " structure 4GPO already has been equilibrated\n",
      " structure 6IGK already has been equilibrated\n",
      " structure 6IGK already has been equilibrated\n",
      " structure 4O9R already has been equilibrated\n",
      " structure 4O9R already has been equilibrated\n",
      " structure 6KNM already has been equilibrated\n",
      " structure 6KNM already has been equilibrated\n",
      " structure 6RZ5 already has been equilibrated\n",
      " structure 6RZ5 already has been equilibrated\n",
      " structure 4QIM already has been equilibrated\n",
      " structure 4QIM already has been equilibrated\n",
      " structure 6MH8 already has been equilibrated\n",
      " structure 6MH8 already has been equilibrated\n",
      " structure 5ZKB already has been equilibrated\n",
      " structure 5ZKB already has been equilibrated\n",
      " structure 6DRY already has been equilibrated\n",
      " structure 6DRY already has been equilibrated\n",
      " structure 4NTJ already has been equilibrated\n",
      " structure 4NTJ already has been equilibrated\n",
      " structure 2Z73 already has been equilibrated\n",
      " structure 2Z73 already has been equilibrated\n",
      " structure 6KK1 already has been equilibrated\n",
      " structure 6KK1 already has been equilibrated\n",
      " structure 5WF6 already has been equilibrated\n",
      " structure 5WF6 already has been equilibrated\n",
      " structure 6ME7 already has been equilibrated\n",
      " structure 6ME7 already has been equilibrated\n",
      " structure 5UNF already has been equilibrated\n",
      " structure 5UNF already has been equilibrated\n",
      " structure 5OLH already has been equilibrated\n",
      " structure 5OLH already has been equilibrated\n",
      " structure 5OLZ already has been equilibrated\n",
      " structure 5OLZ already has been equilibrated\n",
      " structure 5D6L already has been equilibrated\n",
      " structure 5D6L already has been equilibrated\n",
      " structure 5YC8 already has been equilibrated\n",
      " structure 5YC8 already has been equilibrated\n",
      "model 6LI1 could not be send to equilibrate because of  name 'const_sel' is not defined\n",
      " structure 6LI1 already has been equilibrated\n",
      " structure 6ZDR already has been equilibrated\n",
      " structure 6ZDR already has been equilibrated\n",
      " structure 6KJV already has been equilibrated\n",
      " structure 6KJV already has been equilibrated\n",
      " structure 6J20 already has been equilibrated\n",
      " structure 6J20 already has been equilibrated\n",
      " structure 5NDD already has been equilibrated\n",
      " structure 5NDD already has been equilibrated\n",
      " structure 6JZH already has been equilibrated\n",
      " structure 6JZH already has been equilibrated\n",
      " structure 6ME4 already has been equilibrated\n",
      " structure 6ME4 already has been equilibrated\n",
      " structure 5NLX already has been equilibrated\n",
      " structure 5NLX already has been equilibrated\n",
      " structure 3C9L already has been equilibrated\n",
      " structure 3C9L already has been equilibrated\n",
      " structure 5N2S already has been equilibrated\n",
      " structure 5N2S already has been equilibrated\n",
      " structure 5VRA already has been equilibrated\n",
      " structure 5VRA already has been equilibrated\n",
      " structure 6TOD already has been equilibrated\n",
      " structure 6TOD already has been equilibrated\n",
      " structure 6IIV already has been equilibrated\n",
      " structure 6IIV already has been equilibrated\n",
      " structure 5VBL already has been equilibrated\n",
      " structure 5VBL already has been equilibrated\n",
      " structure 6ME6 already has been equilibrated\n",
      " structure 6ME6 already has been equilibrated\n",
      " structure 4N4W already has been equilibrated\n",
      " structure 4N4W already has been equilibrated\n",
      " structure 6HLP already has been equilibrated\n",
      " structure 6HLP already has been equilibrated\n",
      " structure 6TP6 already has been equilibrated\n",
      " structure 6TP6 already has been equilibrated\n",
      " structure 5V54 already has been equilibrated\n",
      " structure 5V54 already has been equilibrated\n",
      " structure 6ME9 already has been equilibrated\n",
      " structure 6ME9 already has been equilibrated\n",
      " structure 5DYS already has been equilibrated\n",
      " structure 5DYS already has been equilibrated\n",
      " structure 6ZDV already has been equilibrated\n",
      " structure 6ZDV already has been equilibrated\n",
      " structure 1GZM already has been equilibrated\n",
      " structure 1GZM already has been equilibrated\n",
      " structure 6ME5 already has been equilibrated\n",
      " structure 6ME5 already has been equilibrated\n",
      " structure 6OL9 already has been equilibrated\n",
      " structure 6OL9 already has been equilibrated\n",
      " structure 5V57 already has been equilibrated\n",
      " structure 5V57 already has been equilibrated\n",
      " structure 6C1Q already has been equilibrated\n",
      " structure 6C1Q already has been equilibrated\n",
      " structure 5WS3 already has been equilibrated\n",
      " structure 5WS3 already has been equilibrated\n",
      "model 6KP6 could not be send to equilibrate because of  name 'const_sel' is not defined\n",
      " structure 6KP6 already has been equilibrated\n",
      " structure 6DRZ already has been equilibrated\n",
      " structure 6DRZ already has been equilibrated\n",
      " structure 5OLV already has been equilibrated\n",
      " structure 5OLV already has been equilibrated\n",
      " structure 5VEW already has been equilibrated\n",
      " structure 5VEW already has been equilibrated\n",
      " structure 6DRX already has been equilibrated\n",
      " structure 6DRX already has been equilibrated\n",
      " structure 6PS6 already has been equilibrated\n",
      " structure 6PS6 already has been equilibrated\n",
      " structure 6OBA already has been equilibrated\n",
      " structure 6OBA already has been equilibrated\n",
      " structure 6DS0 already has been equilibrated\n",
      " structure 6DS0 already has been equilibrated\n",
      " structure 6RZ8 already has been equilibrated\n",
      " structure 6RZ8 already has been equilibrated\n",
      " structure 5WQC already has been equilibrated\n",
      " structure 5WQC already has been equilibrated\n",
      "model 5XR8 could not be send to equilibrate because of  name 'const_sel' is not defined\n",
      " structure 5XR8 already has been equilibrated\n",
      " structure 6KK7 already has been equilibrated\n",
      " structure 6KK7 already has been equilibrated\n",
      " structure 5YQZ already has been equilibrated\n",
      " structure 5YQZ already has been equilibrated\n",
      " structure 6PS5 already has been equilibrated\n",
      " structure 6PS5 already has been equilibrated\n",
      " structure 5ZK8 already has been equilibrated\n",
      " structure 5ZK8 already has been equilibrated\n",
      " structure 5WIU already has been equilibrated\n",
      " structure 5WIU already has been equilibrated\n",
      " structure 5K2A already has been equilibrated\n",
      " structure 5K2A already has been equilibrated\n",
      " structure 6FK6 already has been equilibrated\n",
      " structure 6FK6 already has been equilibrated\n",
      " structure 6FK8 already has been equilibrated\n",
      " structure 6FK8 already has been equilibrated\n",
      " structure 4Z9G already has been equilibrated\n",
      " structure 4Z9G already has been equilibrated\n",
      " structure 4GBR already has been equilibrated\n",
      " structure 4GBR already has been equilibrated\n",
      " structure 5ZK3 already has been equilibrated\n",
      " structure 5ZK3 already has been equilibrated\n",
      " structure 6PS1 already has been equilibrated\n",
      " structure 6PS1 already has been equilibrated\n",
      " structure 6PS0 already has been equilibrated\n",
      " structure 6PS0 already has been equilibrated\n",
      " structure 6HLL already has been equilibrated\n",
      " structure 6HLL already has been equilibrated\n",
      " structure 6RZ6 already has been equilibrated\n",
      " structure 6RZ6 already has been equilibrated\n",
      " structure 6CM4 already has been equilibrated\n",
      " structure 6CM4 already has been equilibrated\n",
      " structure 6TP4 already has been equilibrated\n",
      " structure 6TP4 already has been equilibrated\n",
      " structure 5NM2 already has been equilibrated\n",
      " structure 5NM2 already has been equilibrated\n",
      " structure 6C1R already has been equilibrated\n",
      " structure 6C1R already has been equilibrated\n",
      " structure 5UNG already has been equilibrated\n",
      " structure 5UNG already has been equilibrated\n",
      " structure 5T1A already has been equilibrated\n",
      " structure 5T1A already has been equilibrated\n",
      " structure 5X93 already has been equilibrated\n",
      " structure 5X93 already has been equilibrated\n",
      " structure 5ZBQ already has been equilibrated\n",
      " structure 5ZBQ already has been equilibrated\n",
      " structure 6IIU already has been equilibrated\n",
      " structure 6IIU already has been equilibrated\n",
      " structure 6ME8 already has been equilibrated\n",
      " structure 6ME8 already has been equilibrated\n",
      " structure 6PS3 already has been equilibrated\n",
      " structure 6PS3 already has been equilibrated\n",
      " structure 6E59 already has been equilibrated\n",
      " structure 6E59 already has been equilibrated\n",
      " structure 6FFI already has been equilibrated\n",
      " structure 6FFI already has been equilibrated\n",
      " structure 6M9T already has been equilibrated\n",
      " structure 6M9T already has been equilibrated\n",
      " structure 6LW5 already has been equilibrated\n",
      " structure 6LW5 already has been equilibrated\n",
      " structure 6TQ4 already has been equilibrated\n",
      " structure 6TQ4 already has been equilibrated\n",
      " structure 4XES already has been equilibrated\n",
      " structure 4XES already has been equilibrated\n",
      " structure 5MZP already has been equilibrated\n",
      " structure 5MZP already has been equilibrated\n",
      " structure 6FKA already has been equilibrated\n",
      " structure 6FKA already has been equilibrated\n",
      " structure 6TQ9 already has been equilibrated\n",
      " structure 6TQ9 already has been equilibrated\n",
      " structure 5K2B already has been equilibrated\n",
      " structure 5K2B already has been equilibrated\n",
      " structure 6D27 already has been equilibrated\n",
      " structure 6D27 already has been equilibrated\n",
      " structure 3C9M already has been equilibrated\n",
      " structure 3C9M already has been equilibrated\n",
      " structure 6AK3 already has been equilibrated\n",
      " structure 6AK3 already has been equilibrated\n",
      " structure 2YCZ already has been equilibrated\n",
      " structure 2YCZ already has been equilibrated\n",
      " structure 6PS2 already has been equilibrated\n",
      " structure 6PS2 already has been equilibrated\n",
      " structure 6AKY already has been equilibrated\n",
      " structure 6AKY already has been equilibrated\n",
      " structure 6D26 already has been equilibrated\n",
      " structure 6D26 already has been equilibrated\n",
      " structure 5O9H already has been equilibrated\n",
      " structure 5O9H already has been equilibrated\n",
      " structure 5F8U already has been equilibrated\n",
      " structure 5F8U already has been equilibrated\n",
      " structure 5JTB already has been equilibrated\n",
      " structure 5JTB already has been equilibrated\n",
      " structure 5ZKQ already has been equilibrated\n",
      " structure 5ZKQ already has been equilibrated\n",
      " structure 6GPS already has been equilibrated\n",
      " structure 6GPS already has been equilibrated\n",
      " structure 5OM4 already has been equilibrated\n",
      " structure 5OM4 already has been equilibrated\n",
      " structure 6FFH already has been equilibrated\n",
      " structure 6FFH already has been equilibrated\n",
      " structure 5NX2 already has been equilibrated\n",
      " structure 5NX2 already has been equilibrated\n",
      " structure 6FK9 already has been equilibrated\n",
      " structure 6FK9 already has been equilibrated\n",
      " structure 6FKB already has been equilibrated\n",
      " structure 6FKB already has been equilibrated\n",
      " structure 5NM4 already has been equilibrated\n",
      " structure 5NM4 already has been equilibrated\n",
      " structure 4XT3 already has been equilibrated\n",
      " structure 4XT3 already has been equilibrated\n",
      " structure 6TOT already has been equilibrated\n",
      " structure 6TOT already has been equilibrated\n",
      " structure 6D32 already has been equilibrated\n",
      " structure 6D32 already has been equilibrated\n",
      " structure 5OM1 already has been equilibrated\n",
      " structure 5OM1 already has been equilibrated\n",
      " structure 5VEX already has been equilibrated\n",
      " structure 5VEX already has been equilibrated\n",
      "model 5XSZ could not be send to equilibrate because of  name 'const_sel' is not defined\n",
      " structure 5XSZ already has been equilibrated\n",
      " structure 6LI0 already has been equilibrated\n",
      " structure 6LI0 already has been equilibrated\n",
      " structure 6GT3 already has been equilibrated\n",
      " structure 6GT3 already has been equilibrated\n",
      " structure 6GPX already has been equilibrated\n",
      " structure 6GPX already has been equilibrated\n",
      " structure 6RZ7 already has been equilibrated\n",
      " structure 6RZ7 already has been equilibrated\n",
      " structure 6A94 already has been equilibrated\n",
      " structure 6A94 already has been equilibrated\n",
      " structure 6TPJ already has been equilibrated\n",
      " structure 6TPJ already has been equilibrated\n",
      " structure 6TOS already has been equilibrated\n",
      " structure 6TOS already has been equilibrated\n",
      " structure 5UIW already has been equilibrated\n"
     ]
    },
    {
     "name": "stdout",
     "output_type": "stream",
     "text": [
      " structure 5UIW already has been equilibrated\n",
      " structure 6J21 already has been equilibrated\n",
      " structure 6J21 already has been equilibrated\n"
     ]
    }
   ],
   "source": [
    "#########################\n",
    "## Part 3: Equillibration\n",
    "#########################\n",
    "\n",
    "# Iterate by GPCRdb structures to simulate\n",
    "for entry in input_dict:    \n",
    "    name = entry['name']\n",
    "    pdbcode = entry['pdbcode']\n",
    "    for apo in [False]:\n",
    "        # Entry's data\n",
    "        try:\n",
    "            modelname = name+'_apo' if apo else name\n",
    "            equildir = resultspath+'equil/'+modelname+'/'\n",
    "            if os.path.exists(equildir+'output.xtc') or os.path.exists(equildir+'simrunning'):\n",
    "                print(\" structure %s already has been equilibrated\" % modelname)\n",
    "                continue\n",
    "\n",
    "            if not os.path.exists(equildir):\n",
    "                os.makedirs(equildir)\n",
    "\n",
    "            # Taking vmd selection line\n",
    "            const_sels = \"\"\n",
    "            with open(strucpath+modelname+'/const_sel.txt', 'r') as outfile:\n",
    "                const_sel += outfile.readlines()\n",
    "\n",
    "            md = define_equilibration(const_sel)\n",
    "            md.write(resultspath+'build/'+modelname,equildir)\n",
    "\n",
    "            #Substitute run.sh generated by HTMD by a different one, adapted to the specified path of ACEMD\n",
    "            with open(equildir + 'run.sh', 'w') as f:\n",
    "                f.write('#!/bin/bash\\n%s > %slog.txt 2>&1' % (acemd_path, equildir))\n",
    "        \n",
    "            #Prepare slurm job  \n",
    "            sq = SlurmQueue()\n",
    "            sq.envvars = acemd_license\n",
    "            sq.jobname = 'eql_'+modelname\n",
    "            sq.datadir = None\n",
    "            sq.partition = 'gpcr_gpu'\n",
    "            sq.ngpu = 1\n",
    "            sq.ncpu = 1\n",
    "            sq.prerun = job_commands(equildir, '/home/daranda/'+modelname+'/')\n",
    "            sq.memory = 2000\n",
    "#             sq.exclude = ['arwen','aragorn','bifur']\n",
    "            sq.nodelist = ['aragorn','arwen']\n",
    "    \n",
    "            # Submit\n",
    "            sq.submit(equildir)\n",
    "            \n",
    "        except Exception as e:\n",
    "            print(\"model \"+modelname+\" could not be send to equilibrate because of \",e)"
   ]
  },
  {
   "cell_type": "code",
   "execution_count": 9,
   "metadata": {},
   "outputs": [
    {
     "name": "stdout",
     "output_type": "stream",
     "text": [
      "replicate 1 of structure 5ZHP already has been simulated\n",
      "replicate 2 of structure 5ZHP already has been simulated\n",
      "replicate 3 of structure 5ZHP already has been simulated\n",
      "replicate 1 of structure 5ZHP already has been simulated\n",
      "replicate 2 of structure 5ZHP already has been simulated\n",
      "replicate 3 of structure 5ZHP already has been simulated\n",
      "replicate 1 of structure 6AKX already has been simulated\n",
      "replicate 2 of structure 6AKX already has been simulated\n",
      "replicate 3 of structure 6AKX already has been simulated\n",
      "replicate 1 of structure 6AKX already has been simulated\n",
      "replicate 2 of structure 6AKX already has been simulated\n",
      "replicate 3 of structure 6AKX already has been simulated\n",
      "replicate 1 of structure 5TE5 already has been simulated\n",
      "replicate 2 of structure 5TE5 already has been simulated\n",
      "replicate 3 of structure 5TE5 already has been simulated\n",
      "replicate 1 of structure 5TE5 already has been simulated\n",
      "replicate 2 of structure 5TE5 already has been simulated\n",
      "replicate 3 of structure 5TE5 already has been simulated\n",
      "submitting replicate 1 of 6KQI\n"
     ]
    },
    {
     "name": "stderr",
     "output_type": "stream",
     "text": [
      "2021-10-26 12:44:18,656 - htmd.protocols.production_v6 - WARNING - Lipids detected in input structure. We highly recommend setting useconstantratio=True for membrane simulations.\n",
      "2021-10-26 12:44:19,224 - jobqueues.slurmqueue - INFO - Queueing /gpcr/users/daranda/doctorat/GPCR_simulations/simulation_output/production/6KQI_apo/rep_1/\n"
     ]
    },
    {
     "name": "stdout",
     "output_type": "stream",
     "text": [
      "submitting replicate 2 of 6KQI\n"
     ]
    },
    {
     "name": "stderr",
     "output_type": "stream",
     "text": [
      "2021-10-26 12:44:48,803 - htmd.protocols.production_v6 - WARNING - Lipids detected in input structure. We highly recommend setting useconstantratio=True for membrane simulations.\n",
      "2021-10-26 12:44:49,071 - jobqueues.slurmqueue - INFO - Queueing /gpcr/users/daranda/doctorat/GPCR_simulations/simulation_output/production/6KQI_apo/rep_2/\n"
     ]
    },
    {
     "name": "stdout",
     "output_type": "stream",
     "text": [
      "submitting replicate 3 of 6KQI\n"
     ]
    },
    {
     "name": "stderr",
     "output_type": "stream",
     "text": [
      "2021-10-26 12:45:19,265 - htmd.protocols.production_v6 - WARNING - Lipids detected in input structure. We highly recommend setting useconstantratio=True for membrane simulations.\n",
      "2021-10-26 12:45:19,531 - jobqueues.slurmqueue - INFO - Queueing /gpcr/users/daranda/doctorat/GPCR_simulations/simulation_output/production/6KQI_apo/rep_3/\n"
     ]
    },
    {
     "name": "stdout",
     "output_type": "stream",
     "text": [
      "replicate 1 of structure 6KQI already has been simulated\n",
      "replicate 2 of structure 6KQI already has been simulated\n",
      "replicate 3 of structure 6KQI already has been simulated\n",
      "replicate 1 of structure 6LI2 already has been simulated\n",
      "replicate 2 of structure 6LI2 already has been simulated\n",
      "replicate 3 of structure 6LI2 already has been simulated\n",
      "submitting replicate 1 of 6LI2\n",
      "model 6LI2 could not be send to equilibrate because of  Could not locate file /gpcr/users/daranda/doctorat/GPCR_simulations/simulation_output//equil/6LI2/structure.pdb set by the user for argument Production.acemd.coordinates\n",
      "submitting replicate 2 of 6LI2\n",
      "model 6LI2 could not be send to equilibrate because of  Could not locate file /gpcr/users/daranda/doctorat/GPCR_simulations/simulation_output//equil/6LI2/structure.pdb set by the user for argument Production.acemd.coordinates\n",
      "submitting replicate 3 of 6LI2\n",
      "model 6LI2 could not be send to equilibrate because of  Could not locate file /gpcr/users/daranda/doctorat/GPCR_simulations/simulation_output//equil/6LI2/structure.pdb set by the user for argument Production.acemd.coordinates\n",
      "replicate 1 of structure 5UNH already has been simulated\n",
      "replicate 2 of structure 5UNH already has been simulated\n",
      "replicate 3 of structure 5UNH already has been simulated\n",
      "replicate 1 of structure 5UNH already has been simulated\n",
      "replicate 2 of structure 5UNH already has been simulated\n",
      "replicate 3 of structure 5UNH already has been simulated\n",
      "replicate 1 of structure 5XRA already has been simulated\n",
      "replicate 2 of structure 5XRA already has been simulated\n",
      "replicate 3 of structure 5XRA already has been simulated\n",
      "replicate 1 of structure 5XRA already has been simulated\n",
      "replicate 2 of structure 5XRA already has been simulated\n",
      "replicate 3 of structure 5XRA already has been simulated\n",
      "replicate 1 of structure 5T04 already has been simulated\n",
      "replicate 2 of structure 5T04 already has been simulated\n",
      "replicate 3 of structure 5T04 already has been simulated\n",
      "replicate 1 of structure 5T04 already has been simulated\n",
      "replicate 2 of structure 5T04 already has been simulated\n",
      "replicate 3 of structure 5T04 already has been simulated\n",
      "replicate 1 of structure 5OLO already has been simulated\n",
      "replicate 2 of structure 5OLO already has been simulated\n",
      "replicate 3 of structure 5OLO already has been simulated\n",
      "replicate 1 of structure 5OLO already has been simulated\n",
      "replicate 2 of structure 5OLO already has been simulated\n",
      "replicate 3 of structure 5OLO already has been simulated\n",
      "replicate 1 of structure 6LRY already has been simulated\n",
      "replicate 2 of structure 6LRY already has been simulated\n",
      "replicate 3 of structure 6LRY already has been simulated\n",
      "replicate 1 of structure 6LRY already has been simulated\n",
      "replicate 2 of structure 6LRY already has been simulated\n",
      "replicate 3 of structure 6LRY already has been simulated\n",
      "replicate 1 of structure 5X33 already has been simulated\n",
      "replicate 2 of structure 5X33 already has been simulated\n",
      "replicate 3 of structure 5X33 already has been simulated\n",
      "replicate 1 of structure 5X33 already has been simulated\n",
      "replicate 2 of structure 5X33 already has been simulated\n",
      "replicate 3 of structure 5X33 already has been simulated\n",
      "submitting replicate 1 of 5ZTY\n"
     ]
    },
    {
     "name": "stderr",
     "output_type": "stream",
     "text": [
      "2021-10-26 12:45:54,040 - htmd.protocols.production_v6 - WARNING - Lipids detected in input structure. We highly recommend setting useconstantratio=True for membrane simulations.\n"
     ]
    },
    {
     "name": "stdout",
     "output_type": "stream",
     "text": [
      "model 5ZTY_apo could not be send to equilibrate because of  Could not find any of the files \"output.coor\" specified for command \"bincoordinates\" in path /gpcr/users/daranda/doctorat/GPCR_simulations/simulation_output//equil/5ZTY_apo/\n",
      "submitting replicate 2 of 5ZTY\n"
     ]
    },
    {
     "name": "stderr",
     "output_type": "stream",
     "text": [
      "2021-10-26 12:46:23,683 - htmd.protocols.production_v6 - WARNING - Lipids detected in input structure. We highly recommend setting useconstantratio=True for membrane simulations.\n"
     ]
    },
    {
     "name": "stdout",
     "output_type": "stream",
     "text": [
      "model 5ZTY_apo could not be send to equilibrate because of  Could not find any of the files \"output.coor\" specified for command \"bincoordinates\" in path /gpcr/users/daranda/doctorat/GPCR_simulations/simulation_output//equil/5ZTY_apo/\n",
      "submitting replicate 3 of 5ZTY\n"
     ]
    },
    {
     "name": "stderr",
     "output_type": "stream",
     "text": [
      "2021-10-26 12:46:51,992 - htmd.protocols.production_v6 - WARNING - Lipids detected in input structure. We highly recommend setting useconstantratio=True for membrane simulations.\n"
     ]
    },
    {
     "name": "stdout",
     "output_type": "stream",
     "text": [
      "model 5ZTY_apo could not be send to equilibrate because of  Could not find any of the files \"output.coor\" specified for command \"bincoordinates\" in path /gpcr/users/daranda/doctorat/GPCR_simulations/simulation_output//equil/5ZTY_apo/\n",
      "submitting replicate 1 of 5ZTY\n"
     ]
    },
    {
     "name": "stderr",
     "output_type": "stream",
     "text": [
      "2021-10-26 12:47:20,264 - htmd.protocols.production_v6 - WARNING - Lipids detected in input structure. We highly recommend setting useconstantratio=True for membrane simulations.\n"
     ]
    },
    {
     "name": "stdout",
     "output_type": "stream",
     "text": [
      "model 5ZTY could not be send to equilibrate because of  Could not find any of the files \"output.coor\" specified for command \"bincoordinates\" in path /gpcr/users/daranda/doctorat/GPCR_simulations/simulation_output//equil/5ZTY/\n",
      "submitting replicate 2 of 5ZTY\n"
     ]
    },
    {
     "name": "stderr",
     "output_type": "stream",
     "text": [
      "2021-10-26 12:47:49,695 - htmd.protocols.production_v6 - WARNING - Lipids detected in input structure. We highly recommend setting useconstantratio=True for membrane simulations.\n"
     ]
    },
    {
     "name": "stdout",
     "output_type": "stream",
     "text": [
      "model 5ZTY could not be send to equilibrate because of  Could not find any of the files \"output.coor\" specified for command \"bincoordinates\" in path /gpcr/users/daranda/doctorat/GPCR_simulations/simulation_output//equil/5ZTY/\n",
      "submitting replicate 3 of 5ZTY\n"
     ]
    },
    {
     "name": "stderr",
     "output_type": "stream",
     "text": [
      "2021-10-26 12:48:19,753 - htmd.protocols.production_v6 - WARNING - Lipids detected in input structure. We highly recommend setting useconstantratio=True for membrane simulations.\n"
     ]
    },
    {
     "name": "stdout",
     "output_type": "stream",
     "text": [
      "model 5ZTY could not be send to equilibrate because of  Could not find any of the files \"output.coor\" specified for command \"bincoordinates\" in path /gpcr/users/daranda/doctorat/GPCR_simulations/simulation_output//equil/5ZTY/\n",
      "replicate 1 of structure 5K2C already has been simulated\n",
      "replicate 2 of structure 5K2C already has been simulated\n",
      "replicate 3 of structure 5K2C already has been simulated\n",
      "replicate 1 of structure 5K2C already has been simulated\n",
      "replicate 2 of structure 5K2C already has been simulated\n",
      "replicate 3 of structure 5K2C already has been simulated\n",
      "replicate 1 of structure 6TPN already has been simulated\n",
      "replicate 2 of structure 6TPN already has been simulated\n",
      "replicate 3 of structure 6TPN already has been simulated\n",
      "replicate 1 of structure 6TPN already has been simulated\n",
      "replicate 2 of structure 6TPN already has been simulated\n",
      "replicate 3 of structure 6TPN already has been simulated\n",
      "replicate 1 of structure 5XPR already has been simulated\n",
      "replicate 2 of structure 5XPR already has been simulated\n",
      "replicate 3 of structure 5XPR already has been simulated\n",
      "replicate 1 of structure 5XPR already has been simulated\n",
      "replicate 2 of structure 5XPR already has been simulated\n",
      "replicate 3 of structure 5XPR already has been simulated\n",
      "replicate 1 of structure 6AQF already has been simulated\n",
      "replicate 2 of structure 6AQF already has been simulated\n",
      "replicate 3 of structure 6AQF already has been simulated\n",
      "replicate 1 of structure 6AQF already has been simulated\n",
      "replicate 2 of structure 6AQF already has been simulated\n",
      "replicate 3 of structure 6AQF already has been simulated\n",
      "replicate 1 of structure 5ZBH already has been simulated\n",
      "submitting replicate 2 of 5ZBH\n"
     ]
    },
    {
     "name": "stderr",
     "output_type": "stream",
     "text": [
      "2021-10-26 12:48:48,602 - htmd.protocols.production_v6 - WARNING - Lipids detected in input structure. We highly recommend setting useconstantratio=True for membrane simulations.\n",
      "2021-10-26 12:48:49,083 - jobqueues.slurmqueue - INFO - Queueing /gpcr/users/daranda/doctorat/GPCR_simulations/simulation_output/production/5ZBH_apo/rep_2/\n"
     ]
    },
    {
     "name": "stdout",
     "output_type": "stream",
     "text": [
      "submitting replicate 3 of 5ZBH\n"
     ]
    },
    {
     "name": "stderr",
     "output_type": "stream",
     "text": [
      "2021-10-26 12:49:23,970 - htmd.protocols.production_v6 - WARNING - Lipids detected in input structure. We highly recommend setting useconstantratio=True for membrane simulations.\n",
      "2021-10-26 12:49:24,283 - jobqueues.slurmqueue - INFO - Queueing /gpcr/users/daranda/doctorat/GPCR_simulations/simulation_output/production/5ZBH_apo/rep_3/\n"
     ]
    },
    {
     "name": "stdout",
     "output_type": "stream",
     "text": [
      "submitting replicate 1 of 5ZBH\n"
     ]
    },
    {
     "name": "stderr",
     "output_type": "stream",
     "text": [
      "2021-10-26 12:49:58,524 - htmd.protocols.production_v6 - WARNING - Lipids detected in input structure. We highly recommend setting useconstantratio=True for membrane simulations.\n",
      "2021-10-26 12:49:59,056 - jobqueues.slurmqueue - INFO - Queueing /gpcr/users/daranda/doctorat/GPCR_simulations/simulation_output/production/5ZBH/rep_1/\n"
     ]
    },
    {
     "name": "stdout",
     "output_type": "stream",
     "text": [
      "submitting replicate 2 of 5ZBH\n"
     ]
    },
    {
     "name": "stderr",
     "output_type": "stream",
     "text": [
      "2021-10-26 12:50:33,724 - htmd.protocols.production_v6 - WARNING - Lipids detected in input structure. We highly recommend setting useconstantratio=True for membrane simulations.\n",
      "2021-10-26 12:50:34,083 - jobqueues.slurmqueue - INFO - Queueing /gpcr/users/daranda/doctorat/GPCR_simulations/simulation_output/production/5ZBH/rep_2/\n"
     ]
    },
    {
     "name": "stdout",
     "output_type": "stream",
     "text": [
      "submitting replicate 3 of 5ZBH\n"
     ]
    },
    {
     "name": "stderr",
     "output_type": "stream",
     "text": [
      "2021-10-26 12:51:08,902 - htmd.protocols.production_v6 - WARNING - Lipids detected in input structure. We highly recommend setting useconstantratio=True for membrane simulations.\n",
      "2021-10-26 12:51:09,253 - jobqueues.slurmqueue - INFO - Queueing /gpcr/users/daranda/doctorat/GPCR_simulations/simulation_output/production/5ZBH/rep_3/\n"
     ]
    },
    {
     "name": "stdout",
     "output_type": "stream",
     "text": [
      "replicate 1 of structure 6KPC already has been simulated\n",
      "replicate 2 of structure 6KPC already has been simulated\n",
      "replicate 3 of structure 6KPC already has been simulated\n",
      "replicate 1 of structure 6KPC already has been simulated\n",
      "submitting replicate 2 of 6KPC\n"
     ]
    },
    {
     "name": "stderr",
     "output_type": "stream",
     "text": [
      "2021-10-26 12:51:39,679 - htmd.protocols.production_v6 - WARNING - Lipids detected in input structure. We highly recommend setting useconstantratio=True for membrane simulations.\n",
      "2021-10-26 12:51:40,168 - jobqueues.slurmqueue - INFO - Queueing /gpcr/users/daranda/doctorat/GPCR_simulations/simulation_output/production/6KPC/rep_2/\n"
     ]
    },
    {
     "name": "stdout",
     "output_type": "stream",
     "text": [
      "submitting replicate 3 of 6KPC\n"
     ]
    },
    {
     "name": "stderr",
     "output_type": "stream",
     "text": [
      "2021-10-26 12:52:10,534 - htmd.protocols.production_v6 - WARNING - Lipids detected in input structure. We highly recommend setting useconstantratio=True for membrane simulations.\n",
      "2021-10-26 12:52:10,843 - jobqueues.slurmqueue - INFO - Queueing /gpcr/users/daranda/doctorat/GPCR_simulations/simulation_output/production/6KPC/rep_3/\n"
     ]
    },
    {
     "name": "stdout",
     "output_type": "stream",
     "text": [
      "replicate 1 of structure 6TQ7 already has been simulated\n",
      "replicate 2 of structure 6TQ7 already has been simulated\n",
      "replicate 3 of structure 6TQ7 already has been simulated\n",
      "replicate 1 of structure 6TQ7 already has been simulated\n",
      "replicate 2 of structure 6TQ7 already has been simulated\n",
      "replicate 3 of structure 6TQ7 already has been simulated\n",
      "submitting replicate 1 of 6K1Q\n"
     ]
    },
    {
     "name": "stderr",
     "output_type": "stream",
     "text": [
      "2021-10-26 12:52:50,355 - htmd.protocols.production_v6 - WARNING - Lipids detected in input structure. We highly recommend setting useconstantratio=True for membrane simulations.\n",
      "2021-10-26 12:52:50,867 - jobqueues.slurmqueue - INFO - Queueing /gpcr/users/daranda/doctorat/GPCR_simulations/simulation_output/production/6K1Q_apo/rep_1/\n"
     ]
    },
    {
     "name": "stdout",
     "output_type": "stream",
     "text": [
      "submitting replicate 2 of 6K1Q\n"
     ]
    },
    {
     "name": "stderr",
     "output_type": "stream",
     "text": [
      "2021-10-26 12:53:29,843 - htmd.protocols.production_v6 - WARNING - Lipids detected in input structure. We highly recommend setting useconstantratio=True for membrane simulations.\n",
      "2021-10-26 12:53:30,197 - jobqueues.slurmqueue - INFO - Queueing /gpcr/users/daranda/doctorat/GPCR_simulations/simulation_output/production/6K1Q_apo/rep_2/\n"
     ]
    },
    {
     "name": "stdout",
     "output_type": "stream",
     "text": [
      "submitting replicate 3 of 6K1Q\n"
     ]
    },
    {
     "name": "stderr",
     "output_type": "stream",
     "text": [
      "2021-10-26 12:54:09,922 - htmd.protocols.production_v6 - WARNING - Lipids detected in input structure. We highly recommend setting useconstantratio=True for membrane simulations.\n",
      "2021-10-26 12:54:10,261 - jobqueues.slurmqueue - INFO - Queueing /gpcr/users/daranda/doctorat/GPCR_simulations/simulation_output/production/6K1Q_apo/rep_3/\n"
     ]
    },
    {
     "name": "stdout",
     "output_type": "stream",
     "text": [
      "submitting replicate 1 of 6K1Q\n"
     ]
    },
    {
     "name": "stderr",
     "output_type": "stream",
     "text": [
      "2021-10-26 12:54:49,207 - htmd.protocols.production_v6 - WARNING - Lipids detected in input structure. We highly recommend setting useconstantratio=True for membrane simulations.\n",
      "2021-10-26 12:54:49,587 - jobqueues.slurmqueue - INFO - Queueing /gpcr/users/daranda/doctorat/GPCR_simulations/simulation_output/production/6K1Q/rep_1/\n"
     ]
    },
    {
     "name": "stdout",
     "output_type": "stream",
     "text": [
      "submitting replicate 2 of 6K1Q\n"
     ]
    },
    {
     "name": "stderr",
     "output_type": "stream",
     "text": [
      "2021-10-26 12:55:29,086 - htmd.protocols.production_v6 - WARNING - Lipids detected in input structure. We highly recommend setting useconstantratio=True for membrane simulations.\n",
      "2021-10-26 12:55:29,466 - jobqueues.slurmqueue - INFO - Queueing /gpcr/users/daranda/doctorat/GPCR_simulations/simulation_output/production/6K1Q/rep_2/\n"
     ]
    },
    {
     "name": "stdout",
     "output_type": "stream",
     "text": [
      "submitting replicate 3 of 6K1Q\n"
     ]
    },
    {
     "name": "stderr",
     "output_type": "stream",
     "text": [
      "2021-10-26 12:56:07,949 - htmd.protocols.production_v6 - WARNING - Lipids detected in input structure. We highly recommend setting useconstantratio=True for membrane simulations.\n",
      "2021-10-26 12:56:08,326 - jobqueues.slurmqueue - INFO - Queueing /gpcr/users/daranda/doctorat/GPCR_simulations/simulation_output/production/6K1Q/rep_3/\n"
     ]
    },
    {
     "name": "stdout",
     "output_type": "stream",
     "text": [
      "submitting replicate 1 of 5MZJ\n"
     ]
    },
    {
     "name": "stderr",
     "output_type": "stream",
     "text": [
      "2021-10-26 12:56:46,273 - htmd.builder.builder - WARNING - Found cis peptide bond in 1 frames: [0] in the omega diheral \"Angle of (LEU 216 CA P P) (LEU 216 C P P) (PRO 217 N P P) (PRO 217 CA P P) \" with indexes [3337, 3352, 3354, 3358]\n",
      "2021-10-26 12:56:47,731 - htmd.protocols.production_v6 - WARNING - Lipids detected in input structure. We highly recommend setting useconstantratio=True for membrane simulations.\n",
      "2021-10-26 12:56:48,083 - jobqueues.slurmqueue - INFO - Queueing /gpcr/users/daranda/doctorat/GPCR_simulations/simulation_output/production/5MZJ_apo/rep_1/\n"
     ]
    },
    {
     "name": "stdout",
     "output_type": "stream",
     "text": [
      "submitting replicate 2 of 5MZJ\n"
     ]
    },
    {
     "name": "stderr",
     "output_type": "stream",
     "text": [
      "2021-10-26 12:57:25,956 - htmd.builder.builder - WARNING - Found cis peptide bond in 1 frames: [0] in the omega diheral \"Angle of (LEU 216 CA P P) (LEU 216 C P P) (PRO 217 N P P) (PRO 217 CA P P) \" with indexes [3337, 3352, 3354, 3358]\n",
      "2021-10-26 12:57:27,431 - htmd.protocols.production_v6 - WARNING - Lipids detected in input structure. We highly recommend setting useconstantratio=True for membrane simulations.\n",
      "2021-10-26 12:57:27,787 - jobqueues.slurmqueue - INFO - Queueing /gpcr/users/daranda/doctorat/GPCR_simulations/simulation_output/production/5MZJ_apo/rep_2/\n"
     ]
    },
    {
     "name": "stdout",
     "output_type": "stream",
     "text": [
      "submitting replicate 3 of 5MZJ\n"
     ]
    },
    {
     "name": "stderr",
     "output_type": "stream",
     "text": [
      "2021-10-26 12:58:05,976 - htmd.builder.builder - WARNING - Found cis peptide bond in 1 frames: [0] in the omega diheral \"Angle of (LEU 216 CA P P) (LEU 216 C P P) (PRO 217 N P P) (PRO 217 CA P P) \" with indexes [3337, 3352, 3354, 3358]\n",
      "2021-10-26 12:58:07,451 - htmd.protocols.production_v6 - WARNING - Lipids detected in input structure. We highly recommend setting useconstantratio=True for membrane simulations.\n",
      "2021-10-26 12:58:07,797 - jobqueues.slurmqueue - INFO - Queueing /gpcr/users/daranda/doctorat/GPCR_simulations/simulation_output/production/5MZJ_apo/rep_3/\n"
     ]
    },
    {
     "name": "stdout",
     "output_type": "stream",
     "text": [
      "submitting replicate 1 of 5MZJ\n"
     ]
    },
    {
     "name": "stderr",
     "output_type": "stream",
     "text": [
      "2021-10-26 12:58:47,025 - htmd.builder.builder - WARNING - Found cis peptide bond in 1 frames: [0] in the omega diheral \"Angle of (LEU 216 CA P P) (LEU 216 C P P) (PRO 217 N P P) (PRO 217 CA P P) \" with indexes [3581, 3596, 3598, 3602]\n",
      "2021-10-26 12:58:48,495 - htmd.protocols.production_v6 - WARNING - Lipids detected in input structure. We highly recommend setting useconstantratio=True for membrane simulations.\n",
      "2021-10-26 12:58:48,904 - jobqueues.slurmqueue - INFO - Queueing /gpcr/users/daranda/doctorat/GPCR_simulations/simulation_output/production/5MZJ/rep_1/\n"
     ]
    },
    {
     "name": "stdout",
     "output_type": "stream",
     "text": [
      "submitting replicate 2 of 5MZJ\n"
     ]
    },
    {
     "name": "stderr",
     "output_type": "stream",
     "text": [
      "2021-10-26 12:59:27,213 - htmd.builder.builder - WARNING - Found cis peptide bond in 1 frames: [0] in the omega diheral \"Angle of (LEU 216 CA P P) (LEU 216 C P P) (PRO 217 N P P) (PRO 217 CA P P) \" with indexes [3581, 3596, 3598, 3602]\n",
      "2021-10-26 12:59:28,684 - htmd.protocols.production_v6 - WARNING - Lipids detected in input structure. We highly recommend setting useconstantratio=True for membrane simulations.\n",
      "2021-10-26 12:59:29,070 - jobqueues.slurmqueue - INFO - Queueing /gpcr/users/daranda/doctorat/GPCR_simulations/simulation_output/production/5MZJ/rep_2/\n"
     ]
    },
    {
     "name": "stdout",
     "output_type": "stream",
     "text": [
      "submitting replicate 3 of 5MZJ\n"
     ]
    },
    {
     "name": "stderr",
     "output_type": "stream",
     "text": [
      "2021-10-26 13:00:07,363 - htmd.builder.builder - WARNING - Found cis peptide bond in 1 frames: [0] in the omega diheral \"Angle of (LEU 216 CA P P) (LEU 216 C P P) (PRO 217 N P P) (PRO 217 CA P P) \" with indexes [3581, 3596, 3598, 3602]\n",
      "2021-10-26 13:00:08,829 - htmd.protocols.production_v6 - WARNING - Lipids detected in input structure. We highly recommend setting useconstantratio=True for membrane simulations.\n",
      "2021-10-26 13:00:09,235 - jobqueues.slurmqueue - INFO - Queueing /gpcr/users/daranda/doctorat/GPCR_simulations/simulation_output/production/5MZJ/rep_3/\n"
     ]
    },
    {
     "name": "stdout",
     "output_type": "stream",
     "text": [
      "replicate 1 of structure 4NC3 already has been simulated\n",
      "replicate 2 of structure 4NC3 already has been simulated\n",
      "replicate 3 of structure 4NC3 already has been simulated\n",
      "replicate 1 of structure 4NC3 already has been simulated\n",
      "replicate 2 of structure 4NC3 already has been simulated\n",
      "replicate 3 of structure 4NC3 already has been simulated\n",
      "replicate 1 of structure 4JKV already has been simulated\n",
      "replicate 2 of structure 4JKV already has been simulated\n",
      "replicate 3 of structure 4JKV already has been simulated\n",
      "replicate 1 of structure 4JKV already has been simulated\n",
      "replicate 2 of structure 4JKV already has been simulated\n",
      "replicate 3 of structure 4JKV already has been simulated\n",
      "replicate 1 of structure 6TPG already has been simulated\n",
      "replicate 2 of structure 6TPG already has been simulated\n",
      "replicate 3 of structure 6TPG already has been simulated\n",
      "replicate 1 of structure 6TPG already has been simulated\n",
      "replicate 2 of structure 6TPG already has been simulated\n",
      "replicate 3 of structure 6TPG already has been simulated\n",
      "replicate 1 of structure 6RZ4 already has been simulated\n",
      "replicate 2 of structure 6RZ4 already has been simulated\n",
      "replicate 3 of structure 6RZ4 already has been simulated\n",
      "replicate 1 of structure 6RZ4 already has been simulated\n",
      "replicate 2 of structure 6RZ4 already has been simulated\n",
      "replicate 3 of structure 6RZ4 already has been simulated\n",
      "replicate 1 of structure 4EJ4 already has been simulated\n",
      "replicate 2 of structure 4EJ4 already has been simulated\n",
      "replicate 3 of structure 4EJ4 already has been simulated\n",
      "replicate 1 of structure 4EJ4 already has been simulated\n",
      "replicate 2 of structure 4EJ4 already has been simulated\n",
      "replicate 3 of structure 4EJ4 already has been simulated\n",
      "replicate 1 of structure 6PS7 already has been simulated\n",
      "replicate 2 of structure 6PS7 already has been simulated\n",
      "replicate 3 of structure 6PS7 already has been simulated\n",
      "submitting replicate 1 of 6PS7\n"
     ]
    },
    {
     "name": "stderr",
     "output_type": "stream",
     "text": [
      "2021-10-26 13:00:44,934 - htmd.builder.builder - WARNING - Found cis peptide bond in 1 frames: [0] in the omega diheral \"Angle of (LEU 216 CA P P) (LEU 216 C P P) (PRO 217 N P P) (PRO 217 CA P P) \" with indexes [3600, 3615, 3617, 3621]\n",
      "2021-10-26 13:00:46,265 - htmd.protocols.production_v6 - WARNING - Lipids detected in input structure. We highly recommend setting useconstantratio=True for membrane simulations.\n",
      "2021-10-26 13:00:46,635 - jobqueues.slurmqueue - INFO - Queueing /gpcr/users/daranda/doctorat/GPCR_simulations/simulation_output/production/6PS7/rep_1/\n"
     ]
    },
    {
     "name": "stdout",
     "output_type": "stream",
     "text": [
      "submitting replicate 2 of 6PS7\n"
     ]
    },
    {
     "name": "stderr",
     "output_type": "stream",
     "text": [
      "2021-10-26 13:01:22,293 - htmd.builder.builder - WARNING - Found cis peptide bond in 1 frames: [0] in the omega diheral \"Angle of (LEU 216 CA P P) (LEU 216 C P P) (PRO 217 N P P) (PRO 217 CA P P) \" with indexes [3600, 3615, 3617, 3621]\n",
      "2021-10-26 13:01:23,629 - htmd.protocols.production_v6 - WARNING - Lipids detected in input structure. We highly recommend setting useconstantratio=True for membrane simulations.\n",
      "2021-10-26 13:01:24,003 - jobqueues.slurmqueue - INFO - Queueing /gpcr/users/daranda/doctorat/GPCR_simulations/simulation_output/production/6PS7/rep_2/\n"
     ]
    },
    {
     "name": "stdout",
     "output_type": "stream",
     "text": [
      "submitting replicate 3 of 6PS7\n"
     ]
    },
    {
     "name": "stderr",
     "output_type": "stream",
     "text": [
      "2021-10-26 13:01:59,750 - htmd.builder.builder - WARNING - Found cis peptide bond in 1 frames: [0] in the omega diheral \"Angle of (LEU 216 CA P P) (LEU 216 C P P) (PRO 217 N P P) (PRO 217 CA P P) \" with indexes [3600, 3615, 3617, 3621]\n",
      "2021-10-26 13:02:01,082 - htmd.protocols.production_v6 - WARNING - Lipids detected in input structure. We highly recommend setting useconstantratio=True for membrane simulations.\n",
      "2021-10-26 13:02:01,457 - jobqueues.slurmqueue - INFO - Queueing /gpcr/users/daranda/doctorat/GPCR_simulations/simulation_output/production/6PS7/rep_3/\n"
     ]
    },
    {
     "name": "stdout",
     "output_type": "stream",
     "text": [
      "submitting replicate 1 of 6D35\n"
     ]
    },
    {
     "name": "stderr",
     "output_type": "stream",
     "text": [
      "2021-10-26 13:02:14,814 - moleculekit.readers - WARNING - Non-integer values were read from the PDB \"serial\" field. Dropping PDB values and assigning new ones.\n",
      "2021-10-26 13:02:15,059 - moleculekit.readers - WARNING - Reading PDB file with more than 99999 atoms. Bond information can be wrong.\n",
      "2021-10-26 13:03:38,080 - htmd.builder.builder - WARNING - Found cis peptide bond in 1 frames: [0] in the omega diheral \"Angle of (ALA 168 CA P P) (ALA 168 C P P) (PRO 169 N P P) (PRO 169 CA P P) \" with indexes [2025, 2031, 2033, 2037]\n",
      "2021-10-26 13:03:38,082 - htmd.builder.builder - WARNING - Found cis peptide bond in 1 frames: [0] in the omega diheral \"Angle of (TYR 235 CA P P) (TYR 235 C P P) (PRO 236 N P P) (PRO 236 CA P P) \" with indexes [3098, 3115, 3117, 3121]\n",
      "2021-10-26 13:03:38,084 - htmd.builder.builder - WARNING - Found cis peptide bond in 1 frames: [0] in the omega diheral \"Angle of (GLU 278 CA P P) (GLU 278 C P P) (PRO 279 N P P) (PRO 279 CA P P) \" with indexes [3752, 3763, 3765, 3769]\n",
      "2021-10-26 13:03:41,204 - htmd.protocols.production_v6 - WARNING - Lipids detected in input structure. We highly recommend setting useconstantratio=True for membrane simulations.\n",
      "2021-10-26 13:03:42,175 - jobqueues.slurmqueue - INFO - Queueing /gpcr/users/daranda/doctorat/GPCR_simulations/simulation_output/production/6D35_apo/rep_1/\n"
     ]
    },
    {
     "name": "stdout",
     "output_type": "stream",
     "text": [
      "replicate 2 of structure 6D35 already has been simulated\n",
      "replicate 3 of structure 6D35 already has been simulated\n",
      "replicate 1 of structure 6D35 already has been simulated\n",
      "replicate 2 of structure 6D35 already has been simulated\n",
      "replicate 3 of structure 6D35 already has been simulated\n",
      "replicate 1 of structure 5GLI already has been simulated\n",
      "replicate 2 of structure 5GLI already has been simulated\n",
      "replicate 3 of structure 5GLI already has been simulated\n",
      "submitting replicate 1 of 5GLI\n",
      "model 5GLI could not be send to equilibrate because of  Could not locate file /gpcr/users/daranda/doctorat/GPCR_simulations/simulation_output//equil/5GLI/structure.pdb set by the user for argument Production.acemd.coordinates\n",
      "submitting replicate 2 of 5GLI\n",
      "model 5GLI could not be send to equilibrate because of  Could not locate file /gpcr/users/daranda/doctorat/GPCR_simulations/simulation_output//equil/5GLI/structure.pdb set by the user for argument Production.acemd.coordinates\n",
      "submitting replicate 3 of 5GLI\n",
      "model 5GLI could not be send to equilibrate because of  Could not locate file /gpcr/users/daranda/doctorat/GPCR_simulations/simulation_output//equil/5GLI/structure.pdb set by the user for argument Production.acemd.coordinates\n",
      "replicate 1 of structure 6HLO already has been simulated\n",
      "replicate 2 of structure 6HLO already has been simulated\n",
      "replicate 3 of structure 6HLO already has been simulated\n",
      "replicate 1 of structure 6HLO already has been simulated\n",
      "replicate 2 of structure 6HLO already has been simulated\n",
      "replicate 3 of structure 6HLO already has been simulated\n",
      "replicate 1 of structure 5KW2 already has been simulated\n",
      "replicate 2 of structure 5KW2 already has been simulated\n",
      "replicate 3 of structure 5KW2 already has been simulated\n",
      "replicate 1 of structure 5KW2 already has been simulated\n",
      "replicate 2 of structure 5KW2 already has been simulated\n",
      "replicate 3 of structure 5KW2 already has been simulated\n",
      "replicate 1 of structure 5K2D already has been simulated\n",
      "replicate 2 of structure 5K2D already has been simulated\n",
      "replicate 3 of structure 5K2D already has been simulated\n",
      "replicate 1 of structure 5K2D already has been simulated\n",
      "replicate 2 of structure 5K2D already has been simulated\n",
      "replicate 3 of structure 5K2D already has been simulated\n",
      "replicate 1 of structure 6ME2 already has been simulated\n",
      "replicate 2 of structure 6ME2 already has been simulated\n",
      "replicate 3 of structure 6ME2 already has been simulated\n",
      "replicate 1 of structure 6ME2 already has been simulated\n",
      "replicate 2 of structure 6ME2 already has been simulated\n",
      "replicate 3 of structure 6ME2 already has been simulated\n",
      "replicate 1 of structure 5TZR already has been simulated\n",
      "replicate 2 of structure 5TZR already has been simulated\n",
      "replicate 3 of structure 5TZR already has been simulated\n",
      "replicate 1 of structure 5TZR already has been simulated\n",
      "replicate 2 of structure 5TZR already has been simulated\n",
      "replicate 3 of structure 5TZR already has been simulated\n",
      "replicate 1 of structure 5EE7 already has been simulated\n",
      "replicate 2 of structure 5EE7 already has been simulated\n",
      "replicate 3 of structure 5EE7 already has been simulated\n",
      "replicate 1 of structure 5EE7 already has been simulated\n",
      "replicate 2 of structure 5EE7 already has been simulated\n",
      "replicate 3 of structure 5EE7 already has been simulated\n",
      "replicate 1 of structure 6PRZ already has been simulated\n",
      "replicate 2 of structure 6PRZ already has been simulated\n",
      "replicate 3 of structure 6PRZ already has been simulated\n",
      "replicate 1 of structure 6PRZ already has been simulated\n",
      "replicate 2 of structure 6PRZ already has been simulated\n",
      "replicate 3 of structure 6PRZ already has been simulated\n",
      "replicate 1 of structure 6FKC already has been simulated\n",
      "replicate 2 of structure 6FKC already has been simulated\n",
      "replicate 3 of structure 6FKC already has been simulated\n",
      "replicate 1 of structure 6FKC already has been simulated\n",
      "replicate 2 of structure 6FKC already has been simulated\n",
      "replicate 3 of structure 6FKC already has been simulated\n",
      "replicate 1 of structure 5TE3 already has been simulated\n",
      "replicate 2 of structure 5TE3 already has been simulated\n",
      "replicate 3 of structure 5TE3 already has been simulated\n",
      "submitting replicate 1 of 5TE3\n",
      "model 5TE3 could not be send to equilibrate because of  Could not locate file /gpcr/users/daranda/doctorat/GPCR_simulations/simulation_output//equil/5TE3/structure.pdb set by the user for argument Production.acemd.coordinates\n",
      "submitting replicate 2 of 5TE3\n",
      "model 5TE3 could not be send to equilibrate because of  Could not locate file /gpcr/users/daranda/doctorat/GPCR_simulations/simulation_output//equil/5TE3/structure.pdb set by the user for argument Production.acemd.coordinates\n",
      "submitting replicate 3 of 5TE3\n",
      "model 5TE3 could not be send to equilibrate because of  Could not locate file /gpcr/users/daranda/doctorat/GPCR_simulations/simulation_output//equil/5TE3/structure.pdb set by the user for argument Production.acemd.coordinates\n",
      "submitting replicate 1 of 6IGL\n"
     ]
    },
    {
     "name": "stderr",
     "output_type": "stream",
     "text": [
      "2021-10-26 13:04:27,016 - htmd.protocols.production_v6 - WARNING - Lipids detected in input structure. We highly recommend setting useconstantratio=True for membrane simulations.\n",
      "2021-10-26 13:04:27,378 - jobqueues.slurmqueue - INFO - Queueing /gpcr/users/daranda/doctorat/GPCR_simulations/simulation_output/production/6IGL_apo/rep_1/\n"
     ]
    },
    {
     "name": "stdout",
     "output_type": "stream",
     "text": [
      "submitting replicate 2 of 6IGL\n"
     ]
    },
    {
     "name": "stderr",
     "output_type": "stream",
     "text": [
      "2021-10-26 13:05:19,587 - htmd.protocols.production_v6 - WARNING - Lipids detected in input structure. We highly recommend setting useconstantratio=True for membrane simulations.\n",
      "2021-10-26 13:05:19,954 - jobqueues.slurmqueue - INFO - Queueing /gpcr/users/daranda/doctorat/GPCR_simulations/simulation_output/production/6IGL_apo/rep_2/\n"
     ]
    },
    {
     "name": "stdout",
     "output_type": "stream",
     "text": [
      "submitting replicate 3 of 6IGL\n"
     ]
    },
    {
     "name": "stderr",
     "output_type": "stream",
     "text": [
      "2021-10-26 13:06:06,260 - htmd.protocols.production_v6 - WARNING - Lipids detected in input structure. We highly recommend setting useconstantratio=True for membrane simulations.\n",
      "2021-10-26 13:06:06,634 - jobqueues.slurmqueue - INFO - Queueing /gpcr/users/daranda/doctorat/GPCR_simulations/simulation_output/production/6IGL_apo/rep_3/\n"
     ]
    },
    {
     "name": "stdout",
     "output_type": "stream",
     "text": [
      "submitting replicate 1 of 6IGL\n"
     ]
    },
    {
     "name": "stderr",
     "output_type": "stream",
     "text": [
      "2021-10-26 13:06:54,076 - htmd.protocols.production_v6 - WARNING - Lipids detected in input structure. We highly recommend setting useconstantratio=True for membrane simulations.\n",
      "2021-10-26 13:06:54,456 - jobqueues.slurmqueue - INFO - Queueing /gpcr/users/daranda/doctorat/GPCR_simulations/simulation_output/production/6IGL/rep_1/\n"
     ]
    },
    {
     "name": "stdout",
     "output_type": "stream",
     "text": [
      "submitting replicate 2 of 6IGL\n"
     ]
    },
    {
     "name": "stderr",
     "output_type": "stream",
     "text": [
      "2021-10-26 13:07:35,259 - htmd.protocols.production_v6 - WARNING - Lipids detected in input structure. We highly recommend setting useconstantratio=True for membrane simulations.\n",
      "2021-10-26 13:07:35,624 - jobqueues.slurmqueue - INFO - Queueing /gpcr/users/daranda/doctorat/GPCR_simulations/simulation_output/production/6IGL/rep_2/\n"
     ]
    },
    {
     "name": "stdout",
     "output_type": "stream",
     "text": [
      "submitting replicate 3 of 6IGL\n"
     ]
    },
    {
     "name": "stderr",
     "output_type": "stream",
     "text": [
      "2021-10-26 13:08:17,270 - htmd.protocols.production_v6 - WARNING - Lipids detected in input structure. We highly recommend setting useconstantratio=True for membrane simulations.\n",
      "2021-10-26 13:08:17,641 - jobqueues.slurmqueue - INFO - Queueing /gpcr/users/daranda/doctorat/GPCR_simulations/simulation_output/production/6IGL/rep_3/\n"
     ]
    },
    {
     "name": "stdout",
     "output_type": "stream",
     "text": [
      "replicate 1 of structure 6ME3 already has been simulated\n",
      "replicate 2 of structure 6ME3 already has been simulated\n",
      "replicate 3 of structure 6ME3 already has been simulated\n",
      "replicate 1 of structure 6ME3 already has been simulated\n",
      "replicate 2 of structure 6ME3 already has been simulated\n",
      "replicate 3 of structure 6ME3 already has been simulated\n",
      "replicate 1 of structure 5ZKC already has been simulated\n",
      "replicate 2 of structure 5ZKC already has been simulated\n",
      "replicate 3 of structure 5ZKC already has been simulated\n",
      "replicate 1 of structure 5ZKC already has been simulated\n",
      "replicate 2 of structure 5ZKC already has been simulated\n",
      "replicate 3 of structure 5ZKC already has been simulated\n",
      "submitting replicate 1 of 5TVN\n"
     ]
    },
    {
     "name": "stderr",
     "output_type": "stream",
     "text": [
      "2021-10-26 13:08:50,820 - htmd.protocols.production_v6 - WARNING - Lipids detected in input structure. We highly recommend setting useconstantratio=True for membrane simulations.\n",
      "2021-10-26 13:08:51,143 - jobqueues.slurmqueue - INFO - Queueing /gpcr/users/daranda/doctorat/GPCR_simulations/simulation_output/production/5TVN_apo/rep_1/\n"
     ]
    },
    {
     "name": "stdout",
     "output_type": "stream",
     "text": [
      "submitting replicate 2 of 5TVN\n"
     ]
    },
    {
     "name": "stderr",
     "output_type": "stream",
     "text": [
      "2021-10-26 13:09:24,489 - htmd.protocols.production_v6 - WARNING - Lipids detected in input structure. We highly recommend setting useconstantratio=True for membrane simulations.\n",
      "2021-10-26 13:09:24,809 - jobqueues.slurmqueue - INFO - Queueing /gpcr/users/daranda/doctorat/GPCR_simulations/simulation_output/production/5TVN_apo/rep_2/\n"
     ]
    },
    {
     "name": "stdout",
     "output_type": "stream",
     "text": [
      "submitting replicate 3 of 5TVN\n"
     ]
    },
    {
     "name": "stderr",
     "output_type": "stream",
     "text": [
      "2021-10-26 13:09:58,642 - htmd.protocols.production_v6 - WARNING - Lipids detected in input structure. We highly recommend setting useconstantratio=True for membrane simulations.\n",
      "2021-10-26 13:09:58,959 - jobqueues.slurmqueue - INFO - Queueing /gpcr/users/daranda/doctorat/GPCR_simulations/simulation_output/production/5TVN_apo/rep_3/\n"
     ]
    },
    {
     "name": "stdout",
     "output_type": "stream",
     "text": [
      "submitting replicate 1 of 5TVN\n"
     ]
    },
    {
     "name": "stderr",
     "output_type": "stream",
     "text": [
      "2021-10-26 13:10:32,907 - htmd.protocols.production_v6 - WARNING - Lipids detected in input structure. We highly recommend setting useconstantratio=True for membrane simulations.\n",
      "2021-10-26 13:10:33,301 - jobqueues.slurmqueue - INFO - Queueing /gpcr/users/daranda/doctorat/GPCR_simulations/simulation_output/production/5TVN/rep_1/\n"
     ]
    },
    {
     "name": "stdout",
     "output_type": "stream",
     "text": [
      "submitting replicate 2 of 5TVN\n"
     ]
    },
    {
     "name": "stderr",
     "output_type": "stream",
     "text": [
      "2021-10-26 13:11:08,337 - htmd.protocols.production_v6 - WARNING - Lipids detected in input structure. We highly recommend setting useconstantratio=True for membrane simulations.\n",
      "2021-10-26 13:11:08,696 - jobqueues.slurmqueue - INFO - Queueing /gpcr/users/daranda/doctorat/GPCR_simulations/simulation_output/production/5TVN/rep_2/\n"
     ]
    },
    {
     "name": "stdout",
     "output_type": "stream",
     "text": [
      "submitting replicate 3 of 5TVN\n"
     ]
    },
    {
     "name": "stderr",
     "output_type": "stream",
     "text": [
      "2021-10-26 13:11:43,772 - htmd.protocols.production_v6 - WARNING - Lipids detected in input structure. We highly recommend setting useconstantratio=True for membrane simulations.\n",
      "2021-10-26 13:11:44,158 - jobqueues.slurmqueue - INFO - Queueing /gpcr/users/daranda/doctorat/GPCR_simulations/simulation_output/production/5TVN/rep_3/\n"
     ]
    },
    {
     "name": "stdout",
     "output_type": "stream",
     "text": [
      "replicate 1 of structure 6RZ9 already has been simulated\n",
      "replicate 2 of structure 6RZ9 already has been simulated\n",
      "replicate 3 of structure 6RZ9 already has been simulated\n",
      "replicate 1 of structure 6RZ9 already has been simulated\n",
      "replicate 2 of structure 6RZ9 already has been simulated\n",
      "replicate 3 of structure 6RZ9 already has been simulated\n",
      "replicate 1 of structure 5ZKP already has been simulated\n",
      "replicate 2 of structure 5ZKP already has been simulated\n",
      "replicate 3 of structure 5ZKP already has been simulated\n",
      "replicate 1 of structure 5ZKP already has been simulated\n",
      "replicate 2 of structure 5ZKP already has been simulated\n",
      "replicate 3 of structure 5ZKP already has been simulated\n",
      "replicate 1 of structure 6A93 already has been simulated\n",
      "replicate 2 of structure 6A93 already has been simulated\n",
      "replicate 3 of structure 6A93 already has been simulated\n",
      "replicate 1 of structure 6A93 already has been simulated\n",
      "replicate 2 of structure 6A93 already has been simulated\n",
      "replicate 3 of structure 6A93 already has been simulated\n",
      "replicate 1 of structure 6LUQ already has been simulated\n",
      "replicate 2 of structure 6LUQ already has been simulated\n",
      "replicate 3 of structure 6LUQ already has been simulated\n",
      "replicate 1 of structure 6LUQ already has been simulated\n",
      "replicate 2 of structure 6LUQ already has been simulated\n",
      "replicate 3 of structure 6LUQ already has been simulated\n",
      "replicate 1 of structure 5WF5 already has been simulated\n",
      "replicate 2 of structure 5WF5 already has been simulated\n",
      "replicate 3 of structure 5WF5 already has been simulated\n",
      "replicate 1 of structure 5WF5 already has been simulated\n",
      "replicate 2 of structure 5WF5 already has been simulated\n",
      "replicate 3 of structure 5WF5 already has been simulated\n",
      "replicate 1 of structure 6PS8 already has been simulated\n",
      "replicate 2 of structure 6PS8 already has been simulated\n",
      "replicate 3 of structure 6PS8 already has been simulated\n",
      "replicate 1 of structure 6PS8 already has been simulated\n",
      "replicate 2 of structure 6PS8 already has been simulated\n",
      "replicate 3 of structure 6PS8 already has been simulated\n",
      "replicate 1 of structure 5TZY already has been simulated\n",
      "replicate 2 of structure 5TZY already has been simulated\n",
      "replicate 3 of structure 5TZY already has been simulated\n",
      "replicate 1 of structure 5TZY already has been simulated\n",
      "replicate 2 of structure 5TZY already has been simulated\n",
      "replicate 3 of structure 5TZY already has been simulated\n",
      "submitting replicate 1 of 5V56\n"
     ]
    },
    {
     "name": "stderr",
     "output_type": "stream",
     "text": [
      "2021-10-26 13:11:56,825 - moleculekit.readers - WARNING - Non-integer values were read from the PDB \"serial\" field. Dropping PDB values and assigning new ones.\n",
      "2021-10-26 13:11:57,030 - moleculekit.readers - WARNING - Reading PDB file with more than 99999 atoms. Bond information can be wrong.\n",
      "2021-10-26 13:13:07,683 - htmd.builder.builder - WARNING - Found cis peptide bond in 1 frames: [0] in the omega diheral \"Angle of (GLU 305 CA P P) (GLU 305 C P P) (PRO 306 N P P) (PRO 306 CA P P) \" with indexes [3749, 3760, 3762, 3766]\n",
      "2021-10-26 13:13:07,685 - htmd.builder.builder - WARNING - Found cis peptide bond in 1 frames: [0] in the omega diheral \"Angle of (PRO 513 CA P P) (PRO 513 C P P) (SER 514 N P P) (SER 514 CA P P) \" with indexes [7056, 7064, 7066, 7068]\n",
      "2021-10-26 13:13:10,152 - htmd.protocols.production_v6 - WARNING - Lipids detected in input structure. We highly recommend setting useconstantratio=True for membrane simulations.\n",
      "2021-10-26 13:13:10,744 - jobqueues.slurmqueue - INFO - Queueing /gpcr/users/daranda/doctorat/GPCR_simulations/simulation_output/production/5V56_apo/rep_1/\n"
     ]
    },
    {
     "name": "stdout",
     "output_type": "stream",
     "text": [
      "submitting replicate 2 of 5V56\n"
     ]
    },
    {
     "name": "stderr",
     "output_type": "stream",
     "text": [
      "2021-10-26 13:13:23,276 - moleculekit.readers - WARNING - Non-integer values were read from the PDB \"serial\" field. Dropping PDB values and assigning new ones.\n",
      "2021-10-26 13:13:23,486 - moleculekit.readers - WARNING - Reading PDB file with more than 99999 atoms. Bond information can be wrong.\n",
      "2021-10-26 13:14:46,428 - htmd.builder.builder - WARNING - Found cis peptide bond in 1 frames: [0] in the omega diheral \"Angle of (GLU 305 CA P P) (GLU 305 C P P) (PRO 306 N P P) (PRO 306 CA P P) \" with indexes [3749, 3760, 3762, 3766]\n",
      "2021-10-26 13:14:46,430 - htmd.builder.builder - WARNING - Found cis peptide bond in 1 frames: [0] in the omega diheral \"Angle of (PRO 513 CA P P) (PRO 513 C P P) (SER 514 N P P) (SER 514 CA P P) \" with indexes [7056, 7064, 7066, 7068]\n",
      "2021-10-26 13:14:48,909 - htmd.protocols.production_v6 - WARNING - Lipids detected in input structure. We highly recommend setting useconstantratio=True for membrane simulations.\n",
      "2021-10-26 13:14:49,521 - jobqueues.slurmqueue - INFO - Queueing /gpcr/users/daranda/doctorat/GPCR_simulations/simulation_output/production/5V56_apo/rep_2/\n"
     ]
    },
    {
     "name": "stdout",
     "output_type": "stream",
     "text": [
      "submitting replicate 3 of 5V56\n"
     ]
    },
    {
     "name": "stderr",
     "output_type": "stream",
     "text": [
      "2021-10-26 13:15:02,335 - moleculekit.readers - WARNING - Non-integer values were read from the PDB \"serial\" field. Dropping PDB values and assigning new ones.\n",
      "2021-10-26 13:15:02,529 - moleculekit.readers - WARNING - Reading PDB file with more than 99999 atoms. Bond information can be wrong.\n",
      "2021-10-26 13:16:32,283 - htmd.builder.builder - WARNING - Found cis peptide bond in 1 frames: [0] in the omega diheral \"Angle of (GLU 305 CA P P) (GLU 305 C P P) (PRO 306 N P P) (PRO 306 CA P P) \" with indexes [3749, 3760, 3762, 3766]\n",
      "2021-10-26 13:16:32,285 - htmd.builder.builder - WARNING - Found cis peptide bond in 1 frames: [0] in the omega diheral \"Angle of (PRO 513 CA P P) (PRO 513 C P P) (SER 514 N P P) (SER 514 CA P P) \" with indexes [7056, 7064, 7066, 7068]\n",
      "2021-10-26 13:16:34,811 - htmd.protocols.production_v6 - WARNING - Lipids detected in input structure. We highly recommend setting useconstantratio=True for membrane simulations.\n",
      "2021-10-26 13:16:35,416 - jobqueues.slurmqueue - INFO - Queueing /gpcr/users/daranda/doctorat/GPCR_simulations/simulation_output/production/5V56_apo/rep_3/\n"
     ]
    },
    {
     "name": "stdout",
     "output_type": "stream",
     "text": [
      "submitting replicate 1 of 5V56\n"
     ]
    },
    {
     "name": "stderr",
     "output_type": "stream",
     "text": [
      "2021-10-26 13:16:47,988 - moleculekit.readers - WARNING - Non-integer values were read from the PDB \"serial\" field. Dropping PDB values and assigning new ones.\n",
      "2021-10-26 13:16:48,191 - moleculekit.readers - WARNING - Reading PDB file with more than 99999 atoms. Bond information can be wrong.\n",
      "2021-10-26 13:18:18,604 - htmd.builder.builder - WARNING - Found cis peptide bond in 1 frames: [0] in the omega diheral \"Angle of (GLU 305 CA P P) (GLU 305 C P P) (PRO 306 N P P) (PRO 306 CA P P) \" with indexes [3749, 3760, 3762, 3766]\n",
      "2021-10-26 13:18:21,141 - htmd.protocols.production_v6 - WARNING - Lipids detected in input structure. We highly recommend setting useconstantratio=True for membrane simulations.\n",
      "2021-10-26 13:18:21,806 - jobqueues.slurmqueue - INFO - Queueing /gpcr/users/daranda/doctorat/GPCR_simulations/simulation_output/production/5V56/rep_1/\n"
     ]
    },
    {
     "name": "stdout",
     "output_type": "stream",
     "text": [
      "submitting replicate 2 of 5V56\n"
     ]
    },
    {
     "name": "stderr",
     "output_type": "stream",
     "text": [
      "2021-10-26 13:18:34,424 - moleculekit.readers - WARNING - Non-integer values were read from the PDB \"serial\" field. Dropping PDB values and assigning new ones.\n",
      "2021-10-26 13:18:34,629 - moleculekit.readers - WARNING - Reading PDB file with more than 99999 atoms. Bond information can be wrong.\n",
      "2021-10-26 13:20:05,526 - htmd.builder.builder - WARNING - Found cis peptide bond in 1 frames: [0] in the omega diheral \"Angle of (GLU 305 CA P P) (GLU 305 C P P) (PRO 306 N P P) (PRO 306 CA P P) \" with indexes [3749, 3760, 3762, 3766]\n",
      "2021-10-26 13:20:08,065 - htmd.protocols.production_v6 - WARNING - Lipids detected in input structure. We highly recommend setting useconstantratio=True for membrane simulations.\n",
      "2021-10-26 13:20:08,756 - jobqueues.slurmqueue - INFO - Queueing /gpcr/users/daranda/doctorat/GPCR_simulations/simulation_output/production/5V56/rep_2/\n"
     ]
    },
    {
     "name": "stdout",
     "output_type": "stream",
     "text": [
      "submitting replicate 3 of 5V56\n"
     ]
    },
    {
     "name": "stderr",
     "output_type": "stream",
     "text": [
      "2021-10-26 13:20:21,307 - moleculekit.readers - WARNING - Non-integer values were read from the PDB \"serial\" field. Dropping PDB values and assigning new ones.\n",
      "2021-10-26 13:20:21,516 - moleculekit.readers - WARNING - Reading PDB file with more than 99999 atoms. Bond information can be wrong.\n",
      "2021-10-26 13:21:51,130 - htmd.builder.builder - WARNING - Found cis peptide bond in 1 frames: [0] in the omega diheral \"Angle of (GLU 305 CA P P) (GLU 305 C P P) (PRO 306 N P P) (PRO 306 CA P P) \" with indexes [3749, 3760, 3762, 3766]\n",
      "2021-10-26 13:21:53,659 - htmd.protocols.production_v6 - WARNING - Lipids detected in input structure. We highly recommend setting useconstantratio=True for membrane simulations.\n",
      "2021-10-26 13:21:54,317 - jobqueues.slurmqueue - INFO - Queueing /gpcr/users/daranda/doctorat/GPCR_simulations/simulation_output/production/5V56/rep_3/\n"
     ]
    },
    {
     "name": "stdout",
     "output_type": "stream",
     "text": [
      "replicate 1 of structure 5UIG already has been simulated\n",
      "replicate 2 of structure 5UIG already has been simulated\n",
      "replicate 3 of structure 5UIG already has been simulated\n",
      "replicate 1 of structure 5UIG already has been simulated\n",
      "replicate 2 of structure 5UIG already has been simulated\n",
      "replicate 3 of structure 5UIG already has been simulated\n",
      "replicate 1 of structure 5N2R already has been simulated\n",
      "replicate 2 of structure 5N2R already has been simulated\n",
      "replicate 3 of structure 5N2R already has been simulated\n",
      "replicate 1 of structure 5N2R already has been simulated\n",
      "replicate 2 of structure 5N2R already has been simulated\n",
      "replicate 3 of structure 5N2R already has been simulated\n",
      "submitting replicate 1 of 5OLG\n"
     ]
    },
    {
     "name": "stderr",
     "output_type": "stream",
     "text": [
      "2021-10-26 13:22:35,031 - htmd.builder.builder - WARNING - Found cis peptide bond in 1 frames: [0] in the omega diheral \"Angle of (LEU 216 CA P P) (LEU 216 C P P) (PRO 217 N P P) (PRO 217 CA P P) \" with indexes [3337, 3352, 3354, 3358]\n",
      "2021-10-26 13:22:36,340 - htmd.protocols.production_v6 - WARNING - Lipids detected in input structure. We highly recommend setting useconstantratio=True for membrane simulations.\n",
      "2021-10-26 13:22:36,712 - jobqueues.slurmqueue - INFO - Queueing /gpcr/users/daranda/doctorat/GPCR_simulations/simulation_output/production/5OLG_apo/rep_1/\n"
     ]
    },
    {
     "name": "stdout",
     "output_type": "stream",
     "text": [
      "submitting replicate 2 of 5OLG\n"
     ]
    },
    {
     "name": "stderr",
     "output_type": "stream",
     "text": [
      "2021-10-26 13:23:17,429 - htmd.builder.builder - WARNING - Found cis peptide bond in 1 frames: [0] in the omega diheral \"Angle of (LEU 216 CA P P) (LEU 216 C P P) (PRO 217 N P P) (PRO 217 CA P P) \" with indexes [3337, 3352, 3354, 3358]\n",
      "2021-10-26 13:23:18,766 - htmd.protocols.production_v6 - WARNING - Lipids detected in input structure. We highly recommend setting useconstantratio=True for membrane simulations.\n",
      "2021-10-26 13:23:19,141 - jobqueues.slurmqueue - INFO - Queueing /gpcr/users/daranda/doctorat/GPCR_simulations/simulation_output/production/5OLG_apo/rep_2/\n"
     ]
    },
    {
     "name": "stdout",
     "output_type": "stream",
     "text": [
      "submitting replicate 3 of 5OLG\n"
     ]
    },
    {
     "name": "stderr",
     "output_type": "stream",
     "text": [
      "2021-10-26 13:24:00,645 - htmd.builder.builder - WARNING - Found cis peptide bond in 1 frames: [0] in the omega diheral \"Angle of (LEU 216 CA P P) (LEU 216 C P P) (PRO 217 N P P) (PRO 217 CA P P) \" with indexes [3337, 3352, 3354, 3358]\n",
      "2021-10-26 13:24:01,978 - htmd.protocols.production_v6 - WARNING - Lipids detected in input structure. We highly recommend setting useconstantratio=True for membrane simulations.\n",
      "2021-10-26 13:24:02,338 - jobqueues.slurmqueue - INFO - Queueing /gpcr/users/daranda/doctorat/GPCR_simulations/simulation_output/production/5OLG_apo/rep_3/\n"
     ]
    },
    {
     "name": "stdout",
     "output_type": "stream",
     "text": [
      "submitting replicate 1 of 5OLG\n"
     ]
    },
    {
     "name": "stderr",
     "output_type": "stream",
     "text": [
      "2021-10-26 13:24:42,109 - htmd.builder.builder - WARNING - Found cis peptide bond in 1 frames: [0] in the omega diheral \"Angle of (LEU 216 CA P P) (LEU 216 C P P) (PRO 217 N P P) (PRO 217 CA P P) \" with indexes [3674, 3689, 3691, 3695]\n",
      "2021-10-26 13:24:43,445 - htmd.protocols.production_v6 - WARNING - Lipids detected in input structure. We highly recommend setting useconstantratio=True for membrane simulations.\n",
      "2021-10-26 13:24:43,867 - jobqueues.slurmqueue - INFO - Queueing /gpcr/users/daranda/doctorat/GPCR_simulations/simulation_output/production/5OLG/rep_1/\n"
     ]
    },
    {
     "name": "stdout",
     "output_type": "stream",
     "text": [
      "submitting replicate 2 of 5OLG\n"
     ]
    },
    {
     "name": "stderr",
     "output_type": "stream",
     "text": [
      "2021-10-26 13:25:24,682 - htmd.builder.builder - WARNING - Found cis peptide bond in 1 frames: [0] in the omega diheral \"Angle of (LEU 216 CA P P) (LEU 216 C P P) (PRO 217 N P P) (PRO 217 CA P P) \" with indexes [3674, 3689, 3691, 3695]\n",
      "2021-10-26 13:25:26,022 - htmd.protocols.production_v6 - WARNING - Lipids detected in input structure. We highly recommend setting useconstantratio=True for membrane simulations.\n",
      "2021-10-26 13:25:26,433 - jobqueues.slurmqueue - INFO - Queueing /gpcr/users/daranda/doctorat/GPCR_simulations/simulation_output/production/5OLG/rep_2/\n"
     ]
    },
    {
     "name": "stdout",
     "output_type": "stream",
     "text": [
      "submitting replicate 3 of 5OLG\n"
     ]
    },
    {
     "name": "stderr",
     "output_type": "stream",
     "text": [
      "2021-10-26 13:26:05,027 - htmd.builder.builder - WARNING - Found cis peptide bond in 1 frames: [0] in the omega diheral \"Angle of (LEU 216 CA P P) (LEU 216 C P P) (PRO 217 N P P) (PRO 217 CA P P) \" with indexes [3674, 3689, 3691, 3695]\n",
      "2021-10-26 13:26:06,352 - htmd.protocols.production_v6 - WARNING - Lipids detected in input structure. We highly recommend setting useconstantratio=True for membrane simulations.\n",
      "2021-10-26 13:26:06,767 - jobqueues.slurmqueue - INFO - Queueing /gpcr/users/daranda/doctorat/GPCR_simulations/simulation_output/production/5OLG/rep_3/\n"
     ]
    },
    {
     "name": "stdout",
     "output_type": "stream",
     "text": [
      "replicate 1 of structure 6TO7 already has been simulated\n",
      "replicate 2 of structure 6TO7 already has been simulated\n",
      "replicate 3 of structure 6TO7 already has been simulated\n",
      "replicate 1 of structure 6TO7 already has been simulated\n",
      "replicate 2 of structure 6TO7 already has been simulated\n",
      "replicate 3 of structure 6TO7 already has been simulated\n",
      "submitting replicate 1 of 6FJ3\n"
     ]
    },
    {
     "name": "stderr",
     "output_type": "stream",
     "text": [
      "2021-10-26 13:26:18,433 - moleculekit.readers - WARNING - Non-integer values were read from the PDB \"serial\" field. Dropping PDB values and assigning new ones.\n",
      "2021-10-26 13:26:18,608 - moleculekit.readers - WARNING - Reading PDB file with more than 99999 atoms. Bond information can be wrong.\n",
      "2021-10-26 13:27:03,183 - htmd.protocols.production_v6 - WARNING - Lipids detected in input structure. We highly recommend setting useconstantratio=True for membrane simulations.\n",
      "2021-10-26 13:27:03,701 - jobqueues.slurmqueue - INFO - Queueing /gpcr/users/daranda/doctorat/GPCR_simulations/simulation_output/production/6FJ3_apo/rep_1/\n"
     ]
    },
    {
     "name": "stdout",
     "output_type": "stream",
     "text": [
      "submitting replicate 2 of 6FJ3\n"
     ]
    },
    {
     "name": "stderr",
     "output_type": "stream",
     "text": [
      "2021-10-26 13:27:15,258 - moleculekit.readers - WARNING - Non-integer values were read from the PDB \"serial\" field. Dropping PDB values and assigning new ones.\n",
      "2021-10-26 13:27:15,433 - moleculekit.readers - WARNING - Reading PDB file with more than 99999 atoms. Bond information can be wrong.\n",
      "2021-10-26 13:28:07,518 - htmd.protocols.production_v6 - WARNING - Lipids detected in input structure. We highly recommend setting useconstantratio=True for membrane simulations.\n",
      "2021-10-26 13:28:08,026 - jobqueues.slurmqueue - INFO - Queueing /gpcr/users/daranda/doctorat/GPCR_simulations/simulation_output/production/6FJ3_apo/rep_2/\n"
     ]
    },
    {
     "name": "stdout",
     "output_type": "stream",
     "text": [
      "submitting replicate 3 of 6FJ3\n"
     ]
    },
    {
     "name": "stderr",
     "output_type": "stream",
     "text": [
      "2021-10-26 13:28:19,617 - moleculekit.readers - WARNING - Non-integer values were read from the PDB \"serial\" field. Dropping PDB values and assigning new ones.\n",
      "2021-10-26 13:28:19,791 - moleculekit.readers - WARNING - Reading PDB file with more than 99999 atoms. Bond information can be wrong.\n",
      "2021-10-26 13:29:11,426 - htmd.protocols.production_v6 - WARNING - Lipids detected in input structure. We highly recommend setting useconstantratio=True for membrane simulations.\n",
      "2021-10-26 13:29:12,254 - jobqueues.slurmqueue - INFO - Queueing /gpcr/users/daranda/doctorat/GPCR_simulations/simulation_output/production/6FJ3_apo/rep_3/\n"
     ]
    },
    {
     "name": "stdout",
     "output_type": "stream",
     "text": [
      "submitting replicate 1 of 6FJ3\n"
     ]
    },
    {
     "name": "stderr",
     "output_type": "stream",
     "text": [
      "2021-10-26 13:29:24,755 - moleculekit.readers - WARNING - Non-integer values were read from the PDB \"serial\" field. Dropping PDB values and assigning new ones.\n",
      "2021-10-26 13:29:24,951 - moleculekit.readers - WARNING - Reading PDB file with more than 99999 atoms. Bond information can be wrong.\n",
      "2021-10-26 13:30:32,551 - htmd.protocols.production_v6 - WARNING - Lipids detected in input structure. We highly recommend setting useconstantratio=True for membrane simulations.\n",
      "2021-10-26 13:30:33,189 - jobqueues.slurmqueue - INFO - Queueing /gpcr/users/daranda/doctorat/GPCR_simulations/simulation_output/production/6FJ3/rep_1/\n"
     ]
    },
    {
     "name": "stdout",
     "output_type": "stream",
     "text": [
      "submitting replicate 2 of 6FJ3\n"
     ]
    },
    {
     "name": "stderr",
     "output_type": "stream",
     "text": [
      "2021-10-26 13:30:45,765 - moleculekit.readers - WARNING - Non-integer values were read from the PDB \"serial\" field. Dropping PDB values and assigning new ones.\n",
      "2021-10-26 13:30:45,966 - moleculekit.readers - WARNING - Reading PDB file with more than 99999 atoms. Bond information can be wrong.\n",
      "2021-10-26 13:31:51,685 - htmd.protocols.production_v6 - WARNING - Lipids detected in input structure. We highly recommend setting useconstantratio=True for membrane simulations.\n",
      "2021-10-26 13:31:52,490 - jobqueues.slurmqueue - INFO - Queueing /gpcr/users/daranda/doctorat/GPCR_simulations/simulation_output/production/6FJ3/rep_2/\n"
     ]
    },
    {
     "name": "stdout",
     "output_type": "stream",
     "text": [
      "submitting replicate 3 of 6FJ3\n"
     ]
    },
    {
     "name": "stderr",
     "output_type": "stream",
     "text": [
      "2021-10-26 13:32:05,016 - moleculekit.readers - WARNING - Non-integer values were read from the PDB \"serial\" field. Dropping PDB values and assigning new ones.\n",
      "2021-10-26 13:32:05,216 - moleculekit.readers - WARNING - Reading PDB file with more than 99999 atoms. Bond information can be wrong.\n",
      "2021-10-26 13:33:12,087 - htmd.protocols.production_v6 - WARNING - Lipids detected in input structure. We highly recommend setting useconstantratio=True for membrane simulations.\n",
      "2021-10-26 13:33:12,740 - jobqueues.slurmqueue - INFO - Queueing /gpcr/users/daranda/doctorat/GPCR_simulations/simulation_output/production/6FJ3/rep_3/\n"
     ]
    },
    {
     "name": "stdout",
     "output_type": "stream",
     "text": [
      "replicate 1 of structure 5UVI already has been simulated\n",
      "replicate 2 of structure 5UVI already has been simulated\n",
      "replicate 3 of structure 5UVI already has been simulated\n",
      "replicate 1 of structure 5UVI already has been simulated\n",
      "replicate 2 of structure 5UVI already has been simulated\n",
      "replicate 3 of structure 5UVI already has been simulated\n",
      "replicate 1 of structure 6TP3 already has been simulated\n",
      "replicate 2 of structure 6TP3 already has been simulated\n",
      "replicate 3 of structure 6TP3 already has been simulated\n",
      "submitting replicate 1 of 6TP3\n"
     ]
    },
    {
     "name": "stderr",
     "output_type": "stream",
     "text": [
      "2021-10-26 13:34:02,596 - htmd.protocols.production_v6 - WARNING - Lipids detected in input structure. We highly recommend setting useconstantratio=True for membrane simulations.\n"
     ]
    },
    {
     "name": "stdout",
     "output_type": "stream",
     "text": [
      "model 6TP3 could not be send to equilibrate because of  Could not find any of the files \"output.coor\" specified for command \"bincoordinates\" in path /gpcr/users/daranda/doctorat/GPCR_simulations/simulation_output//equil/6TP3/\n",
      "submitting replicate 2 of 6TP3\n"
     ]
    },
    {
     "name": "stderr",
     "output_type": "stream",
     "text": [
      "2021-10-26 13:34:44,916 - htmd.protocols.production_v6 - WARNING - Lipids detected in input structure. We highly recommend setting useconstantratio=True for membrane simulations.\n"
     ]
    },
    {
     "name": "stdout",
     "output_type": "stream",
     "text": [
      "model 6TP3 could not be send to equilibrate because of  Could not find any of the files \"output.coor\" specified for command \"bincoordinates\" in path /gpcr/users/daranda/doctorat/GPCR_simulations/simulation_output//equil/6TP3/\n",
      "submitting replicate 3 of 6TP3\n"
     ]
    },
    {
     "name": "stderr",
     "output_type": "stream",
     "text": [
      "2021-10-26 13:35:18,975 - htmd.protocols.production_v6 - WARNING - Lipids detected in input structure. We highly recommend setting useconstantratio=True for membrane simulations.\n"
     ]
    },
    {
     "name": "stdout",
     "output_type": "stream",
     "text": [
      "model 6TP3 could not be send to equilibrate because of  Could not find any of the files \"output.coor\" specified for command \"bincoordinates\" in path /gpcr/users/daranda/doctorat/GPCR_simulations/simulation_output//equil/6TP3/\n",
      "replicate 1 of structure 6PS4 already has been simulated\n",
      "replicate 2 of structure 6PS4 already has been simulated\n",
      "replicate 3 of structure 6PS4 already has been simulated\n",
      "replicate 1 of structure 6PS4 already has been simulated\n",
      "replicate 2 of structure 6PS4 already has been simulated\n",
      "replicate 3 of structure 6PS4 already has been simulated\n",
      "replicate 1 of structure 4BUO already has been simulated\n",
      "replicate 2 of structure 4BUO already has been simulated\n",
      "replicate 3 of structure 4BUO already has been simulated\n",
      "replicate 1 of structure 4BUO already has been simulated\n",
      "replicate 2 of structure 4BUO already has been simulated\n",
      "replicate 3 of structure 4BUO already has been simulated\n",
      "submitting replicate 1 of 5WIV\n"
     ]
    },
    {
     "name": "stderr",
     "output_type": "stream",
     "text": [
      "2021-10-26 13:35:47,868 - htmd.builder.builder - WARNING - Found cis peptide bond in 1 frames: [0] in the omega diheral \"Angle of (ALA 31 CA P0 P) (ALA 31 C P0 P) (GLY 32 N P0 P) (GLY 32 CA P0 P) \" with indexes [61, 67, 69, 71]\n",
      "2021-10-26 13:35:49,291 - htmd.protocols.production_v6 - WARNING - Lipids detected in input structure. We highly recommend setting useconstantratio=True for membrane simulations.\n",
      "2021-10-26 13:35:49,690 - jobqueues.slurmqueue - INFO - Queueing /gpcr/users/daranda/doctorat/GPCR_simulations/simulation_output/production/5WIV_apo/rep_1/\n"
     ]
    },
    {
     "name": "stdout",
     "output_type": "stream",
     "text": [
      "submitting replicate 2 of 5WIV\n"
     ]
    },
    {
     "name": "stderr",
     "output_type": "stream",
     "text": [
      "2021-10-26 13:36:25,836 - htmd.builder.builder - WARNING - Found cis peptide bond in 1 frames: [0] in the omega diheral \"Angle of (ALA 31 CA P0 P) (ALA 31 C P0 P) (GLY 32 N P0 P) (GLY 32 CA P0 P) \" with indexes [61, 67, 69, 71]\n",
      "2021-10-26 13:36:27,252 - htmd.protocols.production_v6 - WARNING - Lipids detected in input structure. We highly recommend setting useconstantratio=True for membrane simulations.\n",
      "2021-10-26 13:36:27,626 - jobqueues.slurmqueue - INFO - Queueing /gpcr/users/daranda/doctorat/GPCR_simulations/simulation_output/production/5WIV_apo/rep_2/\n"
     ]
    },
    {
     "name": "stdout",
     "output_type": "stream",
     "text": [
      "submitting replicate 3 of 5WIV\n"
     ]
    },
    {
     "name": "stderr",
     "output_type": "stream",
     "text": [
      "2021-10-26 13:37:03,101 - htmd.builder.builder - WARNING - Found cis peptide bond in 1 frames: [0] in the omega diheral \"Angle of (ALA 31 CA P0 P) (ALA 31 C P0 P) (GLY 32 N P0 P) (GLY 32 CA P0 P) \" with indexes [61, 67, 69, 71]\n",
      "2021-10-26 13:37:04,531 - htmd.protocols.production_v6 - WARNING - Lipids detected in input structure. We highly recommend setting useconstantratio=True for membrane simulations.\n",
      "2021-10-26 13:37:04,913 - jobqueues.slurmqueue - INFO - Queueing /gpcr/users/daranda/doctorat/GPCR_simulations/simulation_output/production/5WIV_apo/rep_3/\n"
     ]
    },
    {
     "name": "stdout",
     "output_type": "stream",
     "text": [
      "submitting replicate 1 of 5WIV\n"
     ]
    },
    {
     "name": "stderr",
     "output_type": "stream",
     "text": [
      "2021-10-26 13:37:41,483 - htmd.builder.builder - WARNING - Found cis peptide bond in 1 frames: [0] in the omega diheral \"Angle of (ALA 31 CA P0 P) (ALA 31 C P0 P) (GLY 32 N P0 P) (GLY 32 CA P0 P) \" with indexes [121, 127, 129, 131]\n",
      "2021-10-26 13:37:42,790 - htmd.protocols.production_v6 - WARNING - Lipids detected in input structure. We highly recommend setting useconstantratio=True for membrane simulations.\n",
      "2021-10-26 13:37:43,198 - jobqueues.slurmqueue - INFO - Queueing /gpcr/users/daranda/doctorat/GPCR_simulations/simulation_output/production/5WIV/rep_1/\n"
     ]
    },
    {
     "name": "stdout",
     "output_type": "stream",
     "text": [
      "submitting replicate 2 of 5WIV\n"
     ]
    },
    {
     "name": "stderr",
     "output_type": "stream",
     "text": [
      "2021-10-26 13:38:18,245 - htmd.builder.builder - WARNING - Found cis peptide bond in 1 frames: [0] in the omega diheral \"Angle of (ALA 31 CA P0 P) (ALA 31 C P0 P) (GLY 32 N P0 P) (GLY 32 CA P0 P) \" with indexes [121, 127, 129, 131]\n",
      "2021-10-26 13:38:19,673 - htmd.protocols.production_v6 - WARNING - Lipids detected in input structure. We highly recommend setting useconstantratio=True for membrane simulations.\n",
      "2021-10-26 13:38:20,076 - jobqueues.slurmqueue - INFO - Queueing /gpcr/users/daranda/doctorat/GPCR_simulations/simulation_output/production/5WIV/rep_2/\n"
     ]
    },
    {
     "name": "stdout",
     "output_type": "stream",
     "text": [
      "submitting replicate 3 of 5WIV\n"
     ]
    },
    {
     "name": "stderr",
     "output_type": "stream",
     "text": [
      "2021-10-26 13:38:56,285 - htmd.builder.builder - WARNING - Found cis peptide bond in 1 frames: [0] in the omega diheral \"Angle of (ALA 31 CA P0 P) (ALA 31 C P0 P) (GLY 32 N P0 P) (GLY 32 CA P0 P) \" with indexes [121, 127, 129, 131]\n",
      "2021-10-26 13:38:57,713 - htmd.protocols.production_v6 - WARNING - Lipids detected in input structure. We highly recommend setting useconstantratio=True for membrane simulations.\n",
      "2021-10-26 13:38:58,120 - jobqueues.slurmqueue - INFO - Queueing /gpcr/users/daranda/doctorat/GPCR_simulations/simulation_output/production/5WIV/rep_3/\n"
     ]
    },
    {
     "name": "stdout",
     "output_type": "stream",
     "text": [
      "submitting replicate 1 of 6FK7\n"
     ]
    },
    {
     "name": "stderr",
     "output_type": "stream",
     "text": [
      "2021-10-26 13:39:29,470 - htmd.protocols.production_v6 - WARNING - Lipids detected in input structure. We highly recommend setting useconstantratio=True for membrane simulations.\n",
      "2021-10-26 13:39:29,788 - jobqueues.slurmqueue - INFO - Queueing /gpcr/users/daranda/doctorat/GPCR_simulations/simulation_output/production/6FK7_apo/rep_1/\n"
     ]
    },
    {
     "name": "stdout",
     "output_type": "stream",
     "text": [
      "submitting replicate 2 of 6FK7\n"
     ]
    },
    {
     "name": "stderr",
     "output_type": "stream",
     "text": [
      "2021-10-26 13:40:01,724 - htmd.protocols.production_v6 - WARNING - Lipids detected in input structure. We highly recommend setting useconstantratio=True for membrane simulations.\n",
      "2021-10-26 13:40:02,030 - jobqueues.slurmqueue - INFO - Queueing /gpcr/users/daranda/doctorat/GPCR_simulations/simulation_output/production/6FK7_apo/rep_2/\n"
     ]
    },
    {
     "name": "stdout",
     "output_type": "stream",
     "text": [
      "submitting replicate 3 of 6FK7\n"
     ]
    },
    {
     "name": "stderr",
     "output_type": "stream",
     "text": [
      "2021-10-26 13:40:32,937 - htmd.protocols.production_v6 - WARNING - Lipids detected in input structure. We highly recommend setting useconstantratio=True for membrane simulations.\n",
      "2021-10-26 13:40:33,256 - jobqueues.slurmqueue - INFO - Queueing /gpcr/users/daranda/doctorat/GPCR_simulations/simulation_output/production/6FK7_apo/rep_3/\n"
     ]
    },
    {
     "name": "stdout",
     "output_type": "stream",
     "text": [
      "submitting replicate 1 of 6FK7\n"
     ]
    },
    {
     "name": "stderr",
     "output_type": "stream",
     "text": [
      "2021-10-26 13:41:05,349 - htmd.protocols.production_v6 - WARNING - Lipids detected in input structure. We highly recommend setting useconstantratio=True for membrane simulations.\n",
      "2021-10-26 13:41:05,687 - jobqueues.slurmqueue - INFO - Queueing /gpcr/users/daranda/doctorat/GPCR_simulations/simulation_output/production/6FK7/rep_1/\n"
     ]
    },
    {
     "name": "stdout",
     "output_type": "stream",
     "text": [
      "submitting replicate 2 of 6FK7\n"
     ]
    },
    {
     "name": "stderr",
     "output_type": "stream",
     "text": [
      "2021-10-26 13:41:37,156 - htmd.protocols.production_v6 - WARNING - Lipids detected in input structure. We highly recommend setting useconstantratio=True for membrane simulations.\n",
      "2021-10-26 13:41:37,503 - jobqueues.slurmqueue - INFO - Queueing /gpcr/users/daranda/doctorat/GPCR_simulations/simulation_output/production/6FK7/rep_2/\n"
     ]
    },
    {
     "name": "stdout",
     "output_type": "stream",
     "text": [
      "submitting replicate 3 of 6FK7\n"
     ]
    },
    {
     "name": "stderr",
     "output_type": "stream",
     "text": [
      "2021-10-26 13:42:08,934 - htmd.protocols.production_v6 - WARNING - Lipids detected in input structure. We highly recommend setting useconstantratio=True for membrane simulations.\n",
      "2021-10-26 13:42:09,281 - jobqueues.slurmqueue - INFO - Queueing /gpcr/users/daranda/doctorat/GPCR_simulations/simulation_output/production/6FK7/rep_3/\n"
     ]
    },
    {
     "name": "stdout",
     "output_type": "stream",
     "text": [
      "replicate 1 of structure 5NDZ already has been simulated\n",
      "replicate 2 of structure 5NDZ already has been simulated\n",
      "replicate 3 of structure 5NDZ already has been simulated\n",
      "replicate 1 of structure 5NDZ already has been simulated\n",
      "replicate 2 of structure 5NDZ already has been simulated\n",
      "replicate 3 of structure 5NDZ already has been simulated\n",
      "submitting replicate 1 of 5X7D\n"
     ]
    },
    {
     "name": "stderr",
     "output_type": "stream",
     "text": [
      "2021-10-26 13:42:49,550 - htmd.protocols.production_v6 - WARNING - Lipids detected in input structure. We highly recommend setting useconstantratio=True for membrane simulations.\n",
      "2021-10-26 13:42:49,974 - jobqueues.slurmqueue - INFO - Queueing /gpcr/users/daranda/doctorat/GPCR_simulations/simulation_output/production/5X7D_apo/rep_1/\n"
     ]
    },
    {
     "name": "stdout",
     "output_type": "stream",
     "text": [
      "submitting replicate 2 of 5X7D\n"
     ]
    },
    {
     "name": "stderr",
     "output_type": "stream",
     "text": [
      "2021-10-26 13:43:29,356 - htmd.protocols.production_v6 - WARNING - Lipids detected in input structure. We highly recommend setting useconstantratio=True for membrane simulations.\n",
      "2021-10-26 13:43:29,750 - jobqueues.slurmqueue - INFO - Queueing /gpcr/users/daranda/doctorat/GPCR_simulations/simulation_output/production/5X7D_apo/rep_2/\n"
     ]
    },
    {
     "name": "stdout",
     "output_type": "stream",
     "text": [
      "submitting replicate 3 of 5X7D\n"
     ]
    },
    {
     "name": "stderr",
     "output_type": "stream",
     "text": [
      "2021-10-26 13:44:10,773 - htmd.protocols.production_v6 - WARNING - Lipids detected in input structure. We highly recommend setting useconstantratio=True for membrane simulations.\n",
      "2021-10-26 13:44:11,182 - jobqueues.slurmqueue - INFO - Queueing /gpcr/users/daranda/doctorat/GPCR_simulations/simulation_output/production/5X7D_apo/rep_3/\n"
     ]
    },
    {
     "name": "stdout",
     "output_type": "stream",
     "text": [
      "replicate 1 of structure 5X7D already has been simulated\n",
      "submitting replicate 2 of 5X7D\n"
     ]
    },
    {
     "name": "stderr",
     "output_type": "stream",
     "text": [
      "2021-10-26 13:44:51,183 - htmd.protocols.production_v6 - WARNING - Lipids detected in input structure. We highly recommend setting useconstantratio=True for membrane simulations.\n",
      "2021-10-26 13:44:51,639 - jobqueues.slurmqueue - INFO - Queueing /gpcr/users/daranda/doctorat/GPCR_simulations/simulation_output/production/5X7D/rep_2/\n"
     ]
    },
    {
     "name": "stdout",
     "output_type": "stream",
     "text": [
      "submitting replicate 3 of 5X7D\n"
     ]
    },
    {
     "name": "stderr",
     "output_type": "stream",
     "text": [
      "2021-10-26 13:45:37,492 - htmd.protocols.production_v6 - WARNING - Lipids detected in input structure. We highly recommend setting useconstantratio=True for membrane simulations.\n",
      "2021-10-26 13:45:37,941 - jobqueues.slurmqueue - INFO - Queueing /gpcr/users/daranda/doctorat/GPCR_simulations/simulation_output/production/5X7D/rep_3/\n"
     ]
    },
    {
     "name": "stdout",
     "output_type": "stream",
     "text": [
      "replicate 1 of structure 6TQ6 already has been simulated\n",
      "replicate 2 of structure 6TQ6 already has been simulated\n",
      "replicate 3 of structure 6TQ6 already has been simulated\n",
      "replicate 1 of structure 6TQ6 already has been simulated\n",
      "replicate 2 of structure 6TQ6 already has been simulated\n",
      "replicate 3 of structure 6TQ6 already has been simulated\n",
      "replicate 1 of structure 4GPO already has been simulated\n",
      "replicate 2 of structure 4GPO already has been simulated\n",
      "replicate 3 of structure 4GPO already has been simulated\n",
      "submitting replicate 1 of 4GPO\n",
      "model 4GPO could not be send to equilibrate because of  Could not locate file /gpcr/users/daranda/doctorat/GPCR_simulations/simulation_output//equil/4GPO/structure.pdb set by the user for argument Production.acemd.coordinates\n",
      "submitting replicate 2 of 4GPO\n",
      "model 4GPO could not be send to equilibrate because of  Could not locate file /gpcr/users/daranda/doctorat/GPCR_simulations/simulation_output//equil/4GPO/structure.pdb set by the user for argument Production.acemd.coordinates\n",
      "submitting replicate 3 of 4GPO\n",
      "model 4GPO could not be send to equilibrate because of  Could not locate file /gpcr/users/daranda/doctorat/GPCR_simulations/simulation_output//equil/4GPO/structure.pdb set by the user for argument Production.acemd.coordinates\n",
      "submitting replicate 1 of 6IGK\n"
     ]
    },
    {
     "name": "stderr",
     "output_type": "stream",
     "text": [
      "2021-10-26 13:46:10,927 - htmd.builder.builder - WARNING - Found cis peptide bond in 1 frames: [0] in the omega diheral \"Angle of (ILE 212 CA P P) (ILE 212 C P P) (GLY 213 N P P) (GLY 213 CA P P) \" with indexes [2019, 2034, 2036, 2038]\n",
      "2021-10-26 13:46:12,081 - htmd.protocols.production_v6 - WARNING - Lipids detected in input structure. We highly recommend setting useconstantratio=True for membrane simulations.\n",
      "2021-10-26 13:46:12,790 - jobqueues.slurmqueue - INFO - Queueing /gpcr/users/daranda/doctorat/GPCR_simulations/simulation_output/production/6IGK_apo/rep_1/\n"
     ]
    },
    {
     "name": "stdout",
     "output_type": "stream",
     "text": [
      "submitting replicate 2 of 6IGK\n"
     ]
    },
    {
     "name": "stderr",
     "output_type": "stream",
     "text": [
      "2021-10-26 13:46:44,851 - htmd.builder.builder - WARNING - Found cis peptide bond in 1 frames: [0] in the omega diheral \"Angle of (ILE 212 CA P P) (ILE 212 C P P) (GLY 213 N P P) (GLY 213 CA P P) \" with indexes [2019, 2034, 2036, 2038]\n",
      "2021-10-26 13:46:45,993 - htmd.protocols.production_v6 - WARNING - Lipids detected in input structure. We highly recommend setting useconstantratio=True for membrane simulations.\n",
      "2021-10-26 13:46:46,334 - jobqueues.slurmqueue - INFO - Queueing /gpcr/users/daranda/doctorat/GPCR_simulations/simulation_output/production/6IGK_apo/rep_2/\n"
     ]
    },
    {
     "name": "stdout",
     "output_type": "stream",
     "text": [
      "submitting replicate 3 of 6IGK\n"
     ]
    },
    {
     "name": "stderr",
     "output_type": "stream",
     "text": [
      "2021-10-26 13:47:19,504 - htmd.builder.builder - WARNING - Found cis peptide bond in 1 frames: [0] in the omega diheral \"Angle of (ILE 212 CA P P) (ILE 212 C P P) (GLY 213 N P P) (GLY 213 CA P P) \" with indexes [2019, 2034, 2036, 2038]\n",
      "2021-10-26 13:47:20,665 - htmd.protocols.production_v6 - WARNING - Lipids detected in input structure. We highly recommend setting useconstantratio=True for membrane simulations.\n",
      "2021-10-26 13:47:20,988 - jobqueues.slurmqueue - INFO - Queueing /gpcr/users/daranda/doctorat/GPCR_simulations/simulation_output/production/6IGK_apo/rep_3/\n"
     ]
    },
    {
     "name": "stdout",
     "output_type": "stream",
     "text": [
      "submitting replicate 1 of 6IGK\n"
     ]
    },
    {
     "name": "stderr",
     "output_type": "stream",
     "text": [
      "2021-10-26 13:47:52,965 - htmd.builder.builder - WARNING - Found cis peptide bond in 1 frames: [0] in the omega diheral \"Angle of (ILE 212 CA P P) (ILE 212 C P P) (GLY 213 N P P) (GLY 213 CA P P) \" with indexes [2020, 2035, 2037, 2039]\n",
      "2021-10-26 13:47:54,014 - htmd.protocols.production_v6 - WARNING - Lipids detected in input structure. We highly recommend setting useconstantratio=True for membrane simulations.\n",
      "2021-10-26 13:47:54,618 - jobqueues.slurmqueue - INFO - Queueing /gpcr/users/daranda/doctorat/GPCR_simulations/simulation_output/production/6IGK/rep_1/\n"
     ]
    },
    {
     "name": "stdout",
     "output_type": "stream",
     "text": [
      "submitting replicate 2 of 6IGK\n"
     ]
    },
    {
     "name": "stderr",
     "output_type": "stream",
     "text": [
      "2021-10-26 13:48:28,198 - htmd.builder.builder - WARNING - Found cis peptide bond in 1 frames: [0] in the omega diheral \"Angle of (ILE 212 CA P P) (ILE 212 C P P) (GLY 213 N P P) (GLY 213 CA P P) \" with indexes [2020, 2035, 2037, 2039]\n",
      "2021-10-26 13:48:29,355 - htmd.protocols.production_v6 - WARNING - Lipids detected in input structure. We highly recommend setting useconstantratio=True for membrane simulations.\n",
      "2021-10-26 13:48:29,689 - jobqueues.slurmqueue - INFO - Queueing /gpcr/users/daranda/doctorat/GPCR_simulations/simulation_output/production/6IGK/rep_2/\n"
     ]
    },
    {
     "name": "stdout",
     "output_type": "stream",
     "text": [
      "submitting replicate 3 of 6IGK\n"
     ]
    },
    {
     "name": "stderr",
     "output_type": "stream",
     "text": [
      "2021-10-26 13:49:02,089 - htmd.builder.builder - WARNING - Found cis peptide bond in 1 frames: [0] in the omega diheral \"Angle of (ILE 212 CA P P) (ILE 212 C P P) (GLY 213 N P P) (GLY 213 CA P P) \" with indexes [2020, 2035, 2037, 2039]\n",
      "2021-10-26 13:49:03,232 - htmd.protocols.production_v6 - WARNING - Lipids detected in input structure. We highly recommend setting useconstantratio=True for membrane simulations.\n",
      "2021-10-26 13:49:03,557 - jobqueues.slurmqueue - INFO - Queueing /gpcr/users/daranda/doctorat/GPCR_simulations/simulation_output/production/6IGK/rep_3/\n"
     ]
    },
    {
     "name": "stdout",
     "output_type": "stream",
     "text": [
      "replicate 1 of structure 4O9R already has been simulated\n",
      "replicate 2 of structure 4O9R already has been simulated\n",
      "replicate 3 of structure 4O9R already has been simulated\n",
      "replicate 1 of structure 4O9R already has been simulated\n",
      "replicate 2 of structure 4O9R already has been simulated\n",
      "replicate 3 of structure 4O9R already has been simulated\n",
      "replicate 1 of structure 6KNM already has been simulated\n",
      "replicate 2 of structure 6KNM already has been simulated\n",
      "replicate 3 of structure 6KNM already has been simulated\n",
      "replicate 1 of structure 6KNM already has been simulated\n",
      "replicate 2 of structure 6KNM already has been simulated\n",
      "replicate 3 of structure 6KNM already has been simulated\n",
      "replicate 1 of structure 6RZ5 already has been simulated\n",
      "replicate 2 of structure 6RZ5 already has been simulated\n",
      "replicate 3 of structure 6RZ5 already has been simulated\n",
      "replicate 1 of structure 6RZ5 already has been simulated\n",
      "replicate 2 of structure 6RZ5 already has been simulated\n",
      "replicate 3 of structure 6RZ5 already has been simulated\n",
      "replicate 1 of structure 4QIM already has been simulated\n",
      "replicate 2 of structure 4QIM already has been simulated\n",
      "replicate 3 of structure 4QIM already has been simulated\n",
      "replicate 1 of structure 4QIM already has been simulated\n",
      "replicate 2 of structure 4QIM already has been simulated\n",
      "replicate 3 of structure 4QIM already has been simulated\n",
      "replicate 1 of structure 6MH8 already has been simulated\n",
      "replicate 2 of structure 6MH8 already has been simulated\n",
      "replicate 3 of structure 6MH8 already has been simulated\n",
      "replicate 1 of structure 6MH8 already has been simulated\n",
      "replicate 2 of structure 6MH8 already has been simulated\n",
      "replicate 3 of structure 6MH8 already has been simulated\n",
      "submitting replicate 1 of 5ZKB\n"
     ]
    },
    {
     "name": "stderr",
     "output_type": "stream",
     "text": [
      "2021-10-26 13:49:14,193 - moleculekit.readers - WARNING - Non-integer values were read from the PDB \"serial\" field. Dropping PDB values and assigning new ones.\n",
      "2021-10-26 13:49:14,334 - moleculekit.readers - WARNING - Reading PDB file with more than 99999 atoms. Bond information can be wrong.\n",
      "2021-10-26 13:49:47,870 - htmd.protocols.production_v6 - WARNING - Lipids detected in input structure. We highly recommend setting useconstantratio=True for membrane simulations.\n",
      "2021-10-26 13:49:48,618 - jobqueues.slurmqueue - INFO - Queueing /gpcr/users/daranda/doctorat/GPCR_simulations/simulation_output/production/5ZKB_apo/rep_1/\n"
     ]
    },
    {
     "name": "stdout",
     "output_type": "stream",
     "text": [
      "submitting replicate 2 of 5ZKB\n"
     ]
    },
    {
     "name": "stderr",
     "output_type": "stream",
     "text": [
      "2021-10-26 13:49:58,989 - moleculekit.readers - WARNING - Non-integer values were read from the PDB \"serial\" field. Dropping PDB values and assigning new ones.\n",
      "2021-10-26 13:49:59,133 - moleculekit.readers - WARNING - Reading PDB file with more than 99999 atoms. Bond information can be wrong.\n",
      "2021-10-26 13:50:35,811 - htmd.protocols.production_v6 - WARNING - Lipids detected in input structure. We highly recommend setting useconstantratio=True for membrane simulations.\n",
      "2021-10-26 13:50:36,222 - jobqueues.slurmqueue - INFO - Queueing /gpcr/users/daranda/doctorat/GPCR_simulations/simulation_output/production/5ZKB_apo/rep_2/\n"
     ]
    },
    {
     "name": "stdout",
     "output_type": "stream",
     "text": [
      "submitting replicate 3 of 5ZKB\n"
     ]
    },
    {
     "name": "stderr",
     "output_type": "stream",
     "text": [
      "2021-10-26 13:50:46,826 - moleculekit.readers - WARNING - Non-integer values were read from the PDB \"serial\" field. Dropping PDB values and assigning new ones.\n",
      "2021-10-26 13:50:46,973 - moleculekit.readers - WARNING - Reading PDB file with more than 99999 atoms. Bond information can be wrong.\n",
      "2021-10-26 13:51:19,746 - htmd.protocols.production_v6 - WARNING - Lipids detected in input structure. We highly recommend setting useconstantratio=True for membrane simulations.\n",
      "2021-10-26 13:51:20,151 - jobqueues.slurmqueue - INFO - Queueing /gpcr/users/daranda/doctorat/GPCR_simulations/simulation_output/production/5ZKB_apo/rep_3/\n"
     ]
    },
    {
     "name": "stdout",
     "output_type": "stream",
     "text": [
      "submitting replicate 1 of 5ZKB\n"
     ]
    },
    {
     "name": "stderr",
     "output_type": "stream",
     "text": [
      "2021-10-26 13:51:49,224 - htmd.protocols.production_v6 - WARNING - Lipids detected in input structure. We highly recommend setting useconstantratio=True for membrane simulations.\n",
      "2021-10-26 13:51:49,864 - jobqueues.slurmqueue - INFO - Queueing /gpcr/users/daranda/doctorat/GPCR_simulations/simulation_output/production/5ZKB/rep_1/\n"
     ]
    },
    {
     "name": "stdout",
     "output_type": "stream",
     "text": [
      "replicate 2 of structure 5ZKB already has been simulated\n",
      "replicate 3 of structure 5ZKB already has been simulated\n",
      "replicate 1 of structure 6DRY already has been simulated\n",
      "replicate 2 of structure 6DRY already has been simulated\n",
      "replicate 3 of structure 6DRY already has been simulated\n",
      "replicate 1 of structure 6DRY already has been simulated\n",
      "replicate 2 of structure 6DRY already has been simulated\n",
      "replicate 3 of structure 6DRY already has been simulated\n",
      "replicate 1 of structure 4NTJ already has been simulated\n",
      "replicate 2 of structure 4NTJ already has been simulated\n",
      "replicate 3 of structure 4NTJ already has been simulated\n",
      "replicate 1 of structure 4NTJ already has been simulated\n",
      "replicate 2 of structure 4NTJ already has been simulated\n",
      "replicate 3 of structure 4NTJ already has been simulated\n",
      "replicate 1 of structure 2Z73 already has been simulated\n",
      "replicate 2 of structure 2Z73 already has been simulated\n",
      "replicate 3 of structure 2Z73 already has been simulated\n",
      "replicate 1 of structure 2Z73 already has been simulated\n",
      "replicate 2 of structure 2Z73 already has been simulated\n",
      "replicate 3 of structure 2Z73 already has been simulated\n",
      "replicate 1 of structure 6KK1 already has been simulated\n",
      "replicate 2 of structure 6KK1 already has been simulated\n",
      "replicate 3 of structure 6KK1 already has been simulated\n",
      "replicate 1 of structure 6KK1 already has been simulated\n",
      "replicate 2 of structure 6KK1 already has been simulated\n",
      "replicate 3 of structure 6KK1 already has been simulated\n",
      "replicate 1 of structure 5WF6 already has been simulated\n",
      "replicate 2 of structure 5WF6 already has been simulated\n",
      "replicate 3 of structure 5WF6 already has been simulated\n",
      "replicate 1 of structure 5WF6 already has been simulated\n",
      "replicate 2 of structure 5WF6 already has been simulated\n",
      "replicate 3 of structure 5WF6 already has been simulated\n",
      "replicate 1 of structure 6ME7 already has been simulated\n",
      "replicate 2 of structure 6ME7 already has been simulated\n",
      "replicate 3 of structure 6ME7 already has been simulated\n",
      "replicate 1 of structure 6ME7 already has been simulated\n",
      "replicate 2 of structure 6ME7 already has been simulated\n",
      "replicate 3 of structure 6ME7 already has been simulated\n",
      "replicate 1 of structure 5UNF already has been simulated\n",
      "replicate 2 of structure 5UNF already has been simulated\n",
      "submitting replicate 3 of 5UNF\n"
     ]
    },
    {
     "name": "stderr",
     "output_type": "stream",
     "text": [
      "2021-10-26 13:52:20,975 - htmd.builder.builder - WARNING - Found cis peptide bond in 1 frames: [0] in the omega diheral \"Angle of (TYR 148 CA P P) (TYR 148 C P P) (PRO 149 N P P) (PRO 149 CA P P) \" with indexes [1783, 1800, 1802, 1806]\n",
      "2021-10-26 13:52:22,023 - htmd.protocols.production_v6 - WARNING - Lipids detected in input structure. We highly recommend setting useconstantratio=True for membrane simulations.\n",
      "2021-10-26 13:52:22,598 - jobqueues.slurmqueue - INFO - Queueing /gpcr/users/daranda/doctorat/GPCR_simulations/simulation_output/production/5UNF_apo/rep_3/\n"
     ]
    },
    {
     "name": "stdout",
     "output_type": "stream",
     "text": [
      "submitting replicate 1 of 5UNF\n"
     ]
    },
    {
     "name": "stderr",
     "output_type": "stream",
     "text": [
      "2021-10-26 13:52:52,968 - htmd.builder.builder - WARNING - Found cis peptide bond in 1 frames: [0] in the omega diheral \"Angle of (TYR 148 CA P P) (TYR 148 C P P) (PRO 149 N P P) (PRO 149 CA P P) \" with indexes [1865, 1882, 1884, 1888]\n",
      "2021-10-26 13:52:54,019 - htmd.protocols.production_v6 - WARNING - Lipids detected in input structure. We highly recommend setting useconstantratio=True for membrane simulations.\n",
      "2021-10-26 13:52:54,670 - jobqueues.slurmqueue - INFO - Queueing /gpcr/users/daranda/doctorat/GPCR_simulations/simulation_output/production/5UNF/rep_1/\n"
     ]
    },
    {
     "name": "stdout",
     "output_type": "stream",
     "text": [
      "submitting replicate 2 of 5UNF\n"
     ]
    },
    {
     "name": "stderr",
     "output_type": "stream",
     "text": [
      "2021-10-26 13:53:25,230 - htmd.builder.builder - WARNING - Found cis peptide bond in 1 frames: [0] in the omega diheral \"Angle of (TYR 148 CA P P) (TYR 148 C P P) (PRO 149 N P P) (PRO 149 CA P P) \" with indexes [1865, 1882, 1884, 1888]\n",
      "2021-10-26 13:53:26,287 - htmd.protocols.production_v6 - WARNING - Lipids detected in input structure. We highly recommend setting useconstantratio=True for membrane simulations.\n",
      "2021-10-26 13:53:26,625 - jobqueues.slurmqueue - INFO - Queueing /gpcr/users/daranda/doctorat/GPCR_simulations/simulation_output/production/5UNF/rep_2/\n"
     ]
    },
    {
     "name": "stdout",
     "output_type": "stream",
     "text": [
      "submitting replicate 3 of 5UNF\n"
     ]
    },
    {
     "name": "stderr",
     "output_type": "stream",
     "text": [
      "2021-10-26 13:53:56,149 - htmd.builder.builder - WARNING - Found cis peptide bond in 1 frames: [0] in the omega diheral \"Angle of (TYR 148 CA P P) (TYR 148 C P P) (PRO 149 N P P) (PRO 149 CA P P) \" with indexes [1865, 1882, 1884, 1888]\n",
      "2021-10-26 13:53:57,196 - htmd.protocols.production_v6 - WARNING - Lipids detected in input structure. We highly recommend setting useconstantratio=True for membrane simulations.\n",
      "2021-10-26 13:53:57,523 - jobqueues.slurmqueue - INFO - Queueing /gpcr/users/daranda/doctorat/GPCR_simulations/simulation_output/production/5UNF/rep_3/\n"
     ]
    },
    {
     "name": "stdout",
     "output_type": "stream",
     "text": [
      "replicate 1 of structure 5OLH already has been simulated\n",
      "replicate 2 of structure 5OLH already has been simulated\n",
      "replicate 3 of structure 5OLH already has been simulated\n",
      "replicate 1 of structure 5OLH already has been simulated\n",
      "replicate 2 of structure 5OLH already has been simulated\n",
      "replicate 3 of structure 5OLH already has been simulated\n",
      "replicate 1 of structure 5OLZ already has been simulated\n",
      "replicate 2 of structure 5OLZ already has been simulated\n",
      "replicate 3 of structure 5OLZ already has been simulated\n",
      "replicate 1 of structure 5OLZ already has been simulated\n",
      "replicate 2 of structure 5OLZ already has been simulated\n",
      "replicate 3 of structure 5OLZ already has been simulated\n",
      "replicate 1 of structure 5D6L already has been simulated\n",
      "replicate 2 of structure 5D6L already has been simulated\n",
      "replicate 3 of structure 5D6L already has been simulated\n",
      "replicate 1 of structure 5D6L already has been simulated\n",
      "replicate 2 of structure 5D6L already has been simulated\n",
      "replicate 3 of structure 5D6L already has been simulated\n",
      "replicate 1 of structure 5YC8 already has been simulated\n",
      "replicate 2 of structure 5YC8 already has been simulated\n",
      "replicate 3 of structure 5YC8 already has been simulated\n",
      "replicate 1 of structure 5YC8 already has been simulated\n",
      "replicate 2 of structure 5YC8 already has been simulated\n",
      "replicate 3 of structure 5YC8 already has been simulated\n",
      "replicate 1 of structure 6LI1 already has been simulated\n",
      "replicate 2 of structure 6LI1 already has been simulated\n",
      "replicate 3 of structure 6LI1 already has been simulated\n",
      "submitting replicate 1 of 6LI1\n",
      "model 6LI1 could not be send to equilibrate because of  Could not locate file /gpcr/users/daranda/doctorat/GPCR_simulations/simulation_output//equil/6LI1/structure.pdb set by the user for argument Production.acemd.coordinates\n",
      "submitting replicate 2 of 6LI1\n",
      "model 6LI1 could not be send to equilibrate because of  Could not locate file /gpcr/users/daranda/doctorat/GPCR_simulations/simulation_output//equil/6LI1/structure.pdb set by the user for argument Production.acemd.coordinates\n",
      "submitting replicate 3 of 6LI1\n",
      "model 6LI1 could not be send to equilibrate because of  Could not locate file /gpcr/users/daranda/doctorat/GPCR_simulations/simulation_output//equil/6LI1/structure.pdb set by the user for argument Production.acemd.coordinates\n",
      "replicate 1 of structure 6ZDR already has been simulated\n",
      "replicate 2 of structure 6ZDR already has been simulated\n",
      "replicate 3 of structure 6ZDR already has been simulated\n",
      "replicate 1 of structure 6ZDR already has been simulated\n",
      "replicate 2 of structure 6ZDR already has been simulated\n",
      "replicate 3 of structure 6ZDR already has been simulated\n",
      "submitting replicate 1 of 6KJV\n"
     ]
    },
    {
     "name": "stderr",
     "output_type": "stream",
     "text": [
      "2021-10-26 13:54:09,056 - moleculekit.readers - WARNING - Non-integer values were read from the PDB \"serial\" field. Dropping PDB values and assigning new ones.\n",
      "2021-10-26 13:54:09,234 - moleculekit.readers - WARNING - Reading PDB file with more than 99999 atoms. Bond information can be wrong.\n",
      "2021-10-26 13:54:48,116 - htmd.builder.builder - WARNING - Found cis peptide bond in 1 frames: [0] in the omega diheral \"Angle of (PHE 257 CA P P) (PHE 257 C P P) (SER 258 N P P) (SER 258 CA P P) \" with indexes [2040, 2056, 2058, 2060]\n",
      "2021-10-26 13:54:50,139 - htmd.protocols.production_v6 - WARNING - Lipids detected in input structure. We highly recommend setting useconstantratio=True for membrane simulations.\n",
      "2021-10-26 13:54:50,988 - jobqueues.slurmqueue - INFO - Queueing /gpcr/users/daranda/doctorat/GPCR_simulations/simulation_output/production/6KJV_apo/rep_1/\n"
     ]
    },
    {
     "name": "stdout",
     "output_type": "stream",
     "text": [
      "submitting replicate 2 of 6KJV\n"
     ]
    },
    {
     "name": "stderr",
     "output_type": "stream",
     "text": [
      "2021-10-26 13:55:02,375 - moleculekit.readers - WARNING - Non-integer values were read from the PDB \"serial\" field. Dropping PDB values and assigning new ones.\n",
      "2021-10-26 13:55:02,555 - moleculekit.readers - WARNING - Reading PDB file with more than 99999 atoms. Bond information can be wrong.\n",
      "2021-10-26 13:55:48,266 - htmd.builder.builder - WARNING - Found cis peptide bond in 1 frames: [0] in the omega diheral \"Angle of (PHE 257 CA P P) (PHE 257 C P P) (SER 258 N P P) (SER 258 CA P P) \" with indexes [2040, 2056, 2058, 2060]\n",
      "2021-10-26 13:55:50,324 - htmd.protocols.production_v6 - WARNING - Lipids detected in input structure. We highly recommend setting useconstantratio=True for membrane simulations.\n",
      "2021-10-26 13:55:50,813 - jobqueues.slurmqueue - INFO - Queueing /gpcr/users/daranda/doctorat/GPCR_simulations/simulation_output/production/6KJV_apo/rep_2/\n"
     ]
    },
    {
     "name": "stdout",
     "output_type": "stream",
     "text": [
      "submitting replicate 3 of 6KJV\n"
     ]
    },
    {
     "name": "stderr",
     "output_type": "stream",
     "text": [
      "2021-10-26 13:56:02,434 - moleculekit.readers - WARNING - Non-integer values were read from the PDB \"serial\" field. Dropping PDB values and assigning new ones.\n",
      "2021-10-26 13:56:02,613 - moleculekit.readers - WARNING - Reading PDB file with more than 99999 atoms. Bond information can be wrong.\n",
      "2021-10-26 13:56:50,296 - htmd.builder.builder - WARNING - Found cis peptide bond in 1 frames: [0] in the omega diheral \"Angle of (PHE 257 CA P P) (PHE 257 C P P) (SER 258 N P P) (SER 258 CA P P) \" with indexes [2040, 2056, 2058, 2060]\n",
      "2021-10-26 13:56:52,399 - htmd.protocols.production_v6 - WARNING - Lipids detected in input structure. We highly recommend setting useconstantratio=True for membrane simulations.\n",
      "2021-10-26 13:56:52,862 - jobqueues.slurmqueue - INFO - Queueing /gpcr/users/daranda/doctorat/GPCR_simulations/simulation_output/production/6KJV_apo/rep_3/\n"
     ]
    },
    {
     "name": "stdout",
     "output_type": "stream",
     "text": [
      "replicate 1 of structure 6KJV already has been simulated\n",
      "submitting replicate 2 of 6KJV\n"
     ]
    },
    {
     "name": "stderr",
     "output_type": "stream",
     "text": [
      "2021-10-26 13:57:04,407 - moleculekit.readers - WARNING - Non-integer values were read from the PDB \"serial\" field. Dropping PDB values and assigning new ones.\n",
      "2021-10-26 13:57:04,599 - moleculekit.readers - WARNING - Reading PDB file with more than 99999 atoms. Bond information can be wrong.\n",
      "2021-10-26 13:57:52,514 - htmd.builder.builder - WARNING - Found cis peptide bond in 1 frames: [0] in the omega diheral \"Angle of (PHE 257 CA P P) (PHE 257 C P P) (SER 258 N P P) (SER 258 CA P P) \" with indexes [2040, 2056, 2058, 2060]\n",
      "2021-10-26 13:57:54,571 - htmd.protocols.production_v6 - WARNING - Lipids detected in input structure. We highly recommend setting useconstantratio=True for membrane simulations.\n",
      "2021-10-26 13:57:55,612 - jobqueues.slurmqueue - INFO - Queueing /gpcr/users/daranda/doctorat/GPCR_simulations/simulation_output/production/6KJV/rep_2/\n"
     ]
    },
    {
     "name": "stdout",
     "output_type": "stream",
     "text": [
      "replicate 3 of structure 6KJV already has been simulated\n",
      "replicate 1 of structure 6J20 already has been simulated\n",
      "replicate 2 of structure 6J20 already has been simulated\n",
      "replicate 3 of structure 6J20 already has been simulated\n",
      "replicate 1 of structure 6J20 already has been simulated\n",
      "replicate 2 of structure 6J20 already has been simulated\n",
      "replicate 3 of structure 6J20 already has been simulated\n",
      "replicate 1 of structure 5NDD already has been simulated\n",
      "replicate 2 of structure 5NDD already has been simulated\n",
      "replicate 3 of structure 5NDD already has been simulated\n",
      "replicate 1 of structure 5NDD already has been simulated\n",
      "replicate 2 of structure 5NDD already has been simulated\n",
      "replicate 3 of structure 5NDD already has been simulated\n",
      "replicate 1 of structure 6JZH already has been simulated\n",
      "replicate 2 of structure 6JZH already has been simulated\n",
      "replicate 3 of structure 6JZH already has been simulated\n",
      "replicate 1 of structure 6JZH already has been simulated\n",
      "replicate 2 of structure 6JZH already has been simulated\n",
      "replicate 3 of structure 6JZH already has been simulated\n",
      "replicate 1 of structure 6ME4 already has been simulated\n",
      "replicate 2 of structure 6ME4 already has been simulated\n",
      "replicate 3 of structure 6ME4 already has been simulated\n",
      "replicate 1 of structure 6ME4 already has been simulated\n",
      "replicate 2 of structure 6ME4 already has been simulated\n",
      "replicate 3 of structure 6ME4 already has been simulated\n",
      "replicate 1 of structure 5NLX already has been simulated\n",
      "replicate 2 of structure 5NLX already has been simulated\n",
      "replicate 3 of structure 5NLX already has been simulated\n",
      "replicate 1 of structure 5NLX already has been simulated\n",
      "replicate 2 of structure 5NLX already has been simulated\n",
      "replicate 3 of structure 5NLX already has been simulated\n",
      "replicate 1 of structure 3C9L already has been simulated\n",
      "replicate 2 of structure 3C9L already has been simulated\n",
      "replicate 3 of structure 3C9L already has been simulated\n",
      "replicate 1 of structure 3C9L already has been simulated\n",
      "replicate 2 of structure 3C9L already has been simulated\n",
      "replicate 3 of structure 3C9L already has been simulated\n",
      "submitting replicate 1 of 5N2S\n"
     ]
    },
    {
     "name": "stderr",
     "output_type": "stream",
     "text": [
      "2021-10-26 13:58:43,661 - htmd.protocols.production_v6 - WARNING - Lipids detected in input structure. We highly recommend setting useconstantratio=True for membrane simulations.\n",
      "2021-10-26 13:58:44,210 - jobqueues.slurmqueue - INFO - Queueing /gpcr/users/daranda/doctorat/GPCR_simulations/simulation_output/production/5N2S_apo/rep_1/\n"
     ]
    },
    {
     "name": "stdout",
     "output_type": "stream",
     "text": [
      "submitting replicate 2 of 5N2S\n"
     ]
    },
    {
     "name": "stderr",
     "output_type": "stream",
     "text": [
      "2021-10-26 13:59:32,580 - htmd.protocols.production_v6 - WARNING - Lipids detected in input structure. We highly recommend setting useconstantratio=True for membrane simulations.\n",
      "2021-10-26 13:59:32,977 - jobqueues.slurmqueue - INFO - Queueing /gpcr/users/daranda/doctorat/GPCR_simulations/simulation_output/production/5N2S_apo/rep_2/\n"
     ]
    },
    {
     "name": "stdout",
     "output_type": "stream",
     "text": [
      "submitting replicate 3 of 5N2S\n"
     ]
    },
    {
     "name": "stderr",
     "output_type": "stream",
     "text": [
      "2021-10-26 14:00:13,751 - htmd.protocols.production_v6 - WARNING - Lipids detected in input structure. We highly recommend setting useconstantratio=True for membrane simulations.\n",
      "2021-10-26 14:00:26,581 - jobqueues.slurmqueue - INFO - Queueing /gpcr/users/daranda/doctorat/GPCR_simulations/simulation_output/production/5N2S_apo/rep_3/\n"
     ]
    },
    {
     "name": "stdout",
     "output_type": "stream",
     "text": [
      "replicate 1 of structure 5N2S already has been simulated\n",
      "replicate 2 of structure 5N2S already has been simulated\n",
      "replicate 3 of structure 5N2S already has been simulated\n",
      "replicate 1 of structure 5VRA already has been simulated\n",
      "replicate 2 of structure 5VRA already has been simulated\n",
      "replicate 3 of structure 5VRA already has been simulated\n",
      "replicate 1 of structure 5VRA already has been simulated\n",
      "replicate 2 of structure 5VRA already has been simulated\n",
      "replicate 3 of structure 5VRA already has been simulated\n",
      "replicate 1 of structure 6TOD already has been simulated\n",
      "replicate 2 of structure 6TOD already has been simulated\n",
      "replicate 3 of structure 6TOD already has been simulated\n",
      "replicate 1 of structure 6TOD already has been simulated\n",
      "replicate 2 of structure 6TOD already has been simulated\n",
      "replicate 3 of structure 6TOD already has been simulated\n",
      "submitting replicate 1 of 6IIV\n"
     ]
    },
    {
     "name": "stderr",
     "output_type": "stream",
     "text": [
      "2021-10-26 14:01:04,733 - htmd.builder.builder - WARNING - Found cis peptide bond in 1 frames: [0] in the omega diheral \"Angle of (TYR 178 CA P P) (TYR 178 C P P) (PRO 179 N P P) (PRO 179 CA P P) \" with indexes [2586, 2603, 2605, 2609]\n",
      "2021-10-26 14:01:06,051 - htmd.protocols.production_v6 - WARNING - Lipids detected in input structure. We highly recommend setting useconstantratio=True for membrane simulations.\n",
      "2021-10-26 14:01:13,916 - jobqueues.slurmqueue - INFO - Queueing /gpcr/users/daranda/doctorat/GPCR_simulations/simulation_output/production/6IIV_apo/rep_1/\n"
     ]
    },
    {
     "name": "stdout",
     "output_type": "stream",
     "text": [
      "submitting replicate 2 of 6IIV\n"
     ]
    },
    {
     "name": "stderr",
     "output_type": "stream",
     "text": [
      "2021-10-26 14:01:56,601 - htmd.builder.builder - WARNING - Found cis peptide bond in 1 frames: [0] in the omega diheral \"Angle of (TYR 178 CA P P) (TYR 178 C P P) (PRO 179 N P P) (PRO 179 CA P P) \" with indexes [2586, 2603, 2605, 2609]\n",
      "2021-10-26 14:01:58,022 - htmd.protocols.production_v6 - WARNING - Lipids detected in input structure. We highly recommend setting useconstantratio=True for membrane simulations.\n",
      "2021-10-26 14:01:59,107 - jobqueues.slurmqueue - INFO - Queueing /gpcr/users/daranda/doctorat/GPCR_simulations/simulation_output/production/6IIV_apo/rep_2/\n"
     ]
    },
    {
     "name": "stdout",
     "output_type": "stream",
     "text": [
      "submitting replicate 3 of 6IIV\n"
     ]
    },
    {
     "name": "stderr",
     "output_type": "stream",
     "text": [
      "2021-10-26 14:02:35,849 - htmd.builder.builder - WARNING - Found cis peptide bond in 1 frames: [0] in the omega diheral \"Angle of (TYR 178 CA P P) (TYR 178 C P P) (PRO 179 N P P) (PRO 179 CA P P) \" with indexes [2586, 2603, 2605, 2609]\n",
      "2021-10-26 14:02:37,240 - htmd.protocols.production_v6 - WARNING - Lipids detected in input structure. We highly recommend setting useconstantratio=True for membrane simulations.\n",
      "2021-10-26 14:02:37,593 - jobqueues.slurmqueue - INFO - Queueing /gpcr/users/daranda/doctorat/GPCR_simulations/simulation_output/production/6IIV_apo/rep_3/\n"
     ]
    },
    {
     "name": "stdout",
     "output_type": "stream",
     "text": [
      "submitting replicate 1 of 6IIV\n"
     ]
    },
    {
     "name": "stderr",
     "output_type": "stream",
     "text": [
      "2021-10-26 14:03:18,457 - htmd.builder.builder - WARNING - Found cis peptide bond in 1 frames: [0] in the omega diheral \"Angle of (TYR 178 CA P P) (TYR 178 C P P) (PRO 179 N P P) (PRO 179 CA P P) \" with indexes [2699, 2716, 2718, 2722]\n",
      "2021-10-26 14:03:19,789 - htmd.protocols.production_v6 - WARNING - Lipids detected in input structure. We highly recommend setting useconstantratio=True for membrane simulations.\n",
      "2021-10-26 14:03:20,454 - jobqueues.slurmqueue - INFO - Queueing /gpcr/users/daranda/doctorat/GPCR_simulations/simulation_output/production/6IIV/rep_1/\n"
     ]
    },
    {
     "name": "stdout",
     "output_type": "stream",
     "text": [
      "submitting replicate 2 of 6IIV\n"
     ]
    },
    {
     "name": "stderr",
     "output_type": "stream",
     "text": [
      "2021-10-26 14:03:56,623 - htmd.builder.builder - WARNING - Found cis peptide bond in 1 frames: [0] in the omega diheral \"Angle of (TYR 178 CA P P) (TYR 178 C P P) (PRO 179 N P P) (PRO 179 CA P P) \" with indexes [2699, 2716, 2718, 2722]\n",
      "2021-10-26 14:03:57,929 - htmd.protocols.production_v6 - WARNING - Lipids detected in input structure. We highly recommend setting useconstantratio=True for membrane simulations.\n",
      "2021-10-26 14:03:58,351 - jobqueues.slurmqueue - INFO - Queueing /gpcr/users/daranda/doctorat/GPCR_simulations/simulation_output/production/6IIV/rep_2/\n"
     ]
    },
    {
     "name": "stdout",
     "output_type": "stream",
     "text": [
      "submitting replicate 3 of 6IIV\n"
     ]
    },
    {
     "name": "stderr",
     "output_type": "stream",
     "text": [
      "2021-10-26 14:04:35,637 - htmd.builder.builder - WARNING - Found cis peptide bond in 1 frames: [0] in the omega diheral \"Angle of (TYR 178 CA P P) (TYR 178 C P P) (PRO 179 N P P) (PRO 179 CA P P) \" with indexes [2699, 2716, 2718, 2722]\n",
      "2021-10-26 14:04:37,043 - htmd.protocols.production_v6 - WARNING - Lipids detected in input structure. We highly recommend setting useconstantratio=True for membrane simulations.\n",
      "2021-10-26 14:04:37,451 - jobqueues.slurmqueue - INFO - Queueing /gpcr/users/daranda/doctorat/GPCR_simulations/simulation_output/production/6IIV/rep_3/\n"
     ]
    },
    {
     "name": "stdout",
     "output_type": "stream",
     "text": [
      "submitting replicate 1 of 5VBL\n"
     ]
    },
    {
     "name": "stderr",
     "output_type": "stream",
     "text": [
      "2021-10-26 14:05:11,196 - htmd.protocols.production_v6 - WARNING - Lipids detected in input structure. We highly recommend setting useconstantratio=True for membrane simulations.\n",
      "2021-10-26 14:05:11,759 - jobqueues.slurmqueue - INFO - Queueing /gpcr/users/daranda/doctorat/GPCR_simulations/simulation_output/production/5VBL_apo/rep_1/\n"
     ]
    },
    {
     "name": "stdout",
     "output_type": "stream",
     "text": [
      "submitting replicate 2 of 5VBL\n"
     ]
    },
    {
     "name": "stderr",
     "output_type": "stream",
     "text": [
      "2021-10-26 14:05:45,399 - htmd.protocols.production_v6 - WARNING - Lipids detected in input structure. We highly recommend setting useconstantratio=True for membrane simulations.\n",
      "2021-10-26 14:05:45,710 - jobqueues.slurmqueue - INFO - Queueing /gpcr/users/daranda/doctorat/GPCR_simulations/simulation_output/production/5VBL_apo/rep_2/\n"
     ]
    },
    {
     "name": "stdout",
     "output_type": "stream",
     "text": [
      "submitting replicate 3 of 5VBL\n"
     ]
    },
    {
     "name": "stderr",
     "output_type": "stream",
     "text": [
      "2021-10-26 14:06:19,941 - htmd.protocols.production_v6 - WARNING - Lipids detected in input structure. We highly recommend setting useconstantratio=True for membrane simulations.\n",
      "2021-10-26 14:06:20,260 - jobqueues.slurmqueue - INFO - Queueing /gpcr/users/daranda/doctorat/GPCR_simulations/simulation_output/production/5VBL_apo/rep_3/\n"
     ]
    },
    {
     "name": "stdout",
     "output_type": "stream",
     "text": [
      "submitting replicate 1 of 5VBL\n"
     ]
    },
    {
     "name": "stderr",
     "output_type": "stream",
     "text": [
      "2021-10-26 14:06:56,798 - htmd.protocols.production_v6 - WARNING - Lipids detected in input structure. We highly recommend setting useconstantratio=True for membrane simulations.\n",
      "2021-10-26 14:06:57,312 - jobqueues.slurmqueue - INFO - Queueing /gpcr/users/daranda/doctorat/GPCR_simulations/simulation_output/production/5VBL/rep_1/\n"
     ]
    },
    {
     "name": "stdout",
     "output_type": "stream",
     "text": [
      "submitting replicate 2 of 5VBL\n"
     ]
    },
    {
     "name": "stderr",
     "output_type": "stream",
     "text": [
      "2021-10-26 14:07:33,184 - htmd.protocols.production_v6 - WARNING - Lipids detected in input structure. We highly recommend setting useconstantratio=True for membrane simulations.\n",
      "2021-10-26 14:07:33,535 - jobqueues.slurmqueue - INFO - Queueing /gpcr/users/daranda/doctorat/GPCR_simulations/simulation_output/production/5VBL/rep_2/\n"
     ]
    },
    {
     "name": "stdout",
     "output_type": "stream",
     "text": [
      "submitting replicate 3 of 5VBL\n"
     ]
    },
    {
     "name": "stderr",
     "output_type": "stream",
     "text": [
      "2021-10-26 14:08:09,482 - htmd.protocols.production_v6 - WARNING - Lipids detected in input structure. We highly recommend setting useconstantratio=True for membrane simulations.\n",
      "2021-10-26 14:08:09,828 - jobqueues.slurmqueue - INFO - Queueing /gpcr/users/daranda/doctorat/GPCR_simulations/simulation_output/production/5VBL/rep_3/\n"
     ]
    },
    {
     "name": "stdout",
     "output_type": "stream",
     "text": [
      "replicate 1 of structure 6ME6 already has been simulated\n",
      "replicate 2 of structure 6ME6 already has been simulated\n",
      "replicate 3 of structure 6ME6 already has been simulated\n",
      "replicate 1 of structure 6ME6 already has been simulated\n",
      "replicate 2 of structure 6ME6 already has been simulated\n",
      "replicate 3 of structure 6ME6 already has been simulated\n",
      "replicate 1 of structure 4N4W already has been simulated\n",
      "replicate 2 of structure 4N4W already has been simulated\n",
      "replicate 3 of structure 4N4W already has been simulated\n",
      "replicate 1 of structure 4N4W already has been simulated\n",
      "replicate 2 of structure 4N4W already has been simulated\n",
      "replicate 3 of structure 4N4W already has been simulated\n",
      "replicate 1 of structure 6HLP already has been simulated\n",
      "replicate 2 of structure 6HLP already has been simulated\n",
      "replicate 3 of structure 6HLP already has been simulated\n",
      "replicate 1 of structure 6HLP already has been simulated\n",
      "replicate 2 of structure 6HLP already has been simulated\n",
      "replicate 3 of structure 6HLP already has been simulated\n",
      "replicate 1 of structure 6TP6 already has been simulated\n",
      "replicate 2 of structure 6TP6 already has been simulated\n",
      "replicate 3 of structure 6TP6 already has been simulated\n",
      "replicate 1 of structure 6TP6 already has been simulated\n",
      "replicate 2 of structure 6TP6 already has been simulated\n",
      "replicate 3 of structure 6TP6 already has been simulated\n",
      "replicate 1 of structure 5V54 already has been simulated\n",
      "replicate 2 of structure 5V54 already has been simulated\n",
      "replicate 3 of structure 5V54 already has been simulated\n",
      "replicate 1 of structure 5V54 already has been simulated\n",
      "replicate 2 of structure 5V54 already has been simulated\n",
      "replicate 3 of structure 5V54 already has been simulated\n",
      "submitting replicate 1 of 6ME9\n"
     ]
    },
    {
     "name": "stderr",
     "output_type": "stream",
     "text": [
      "2021-10-26 14:08:38,887 - htmd.protocols.production_v6 - WARNING - Lipids detected in input structure. We highly recommend setting useconstantratio=True for membrane simulations.\n",
      "2021-10-26 14:08:39,285 - jobqueues.slurmqueue - INFO - Queueing /gpcr/users/daranda/doctorat/GPCR_simulations/simulation_output/production/6ME9_apo/rep_1/\n"
     ]
    },
    {
     "name": "stdout",
     "output_type": "stream",
     "text": [
      "submitting replicate 2 of 6ME9\n"
     ]
    },
    {
     "name": "stderr",
     "output_type": "stream",
     "text": [
      "2021-10-26 14:09:08,443 - htmd.protocols.production_v6 - WARNING - Lipids detected in input structure. We highly recommend setting useconstantratio=True for membrane simulations.\n",
      "2021-10-26 14:09:08,720 - jobqueues.slurmqueue - INFO - Queueing /gpcr/users/daranda/doctorat/GPCR_simulations/simulation_output/production/6ME9_apo/rep_2/\n"
     ]
    },
    {
     "name": "stdout",
     "output_type": "stream",
     "text": [
      "replicate 3 of structure 6ME9 already has been simulated\n",
      "replicate 1 of structure 6ME9 already has been simulated\n",
      "replicate 2 of structure 6ME9 already has been simulated\n",
      "replicate 3 of structure 6ME9 already has been simulated\n",
      "replicate 1 of structure 5DYS already has been simulated\n",
      "replicate 2 of structure 5DYS already has been simulated\n",
      "replicate 3 of structure 5DYS already has been simulated\n",
      "replicate 1 of structure 5DYS already has been simulated\n",
      "replicate 2 of structure 5DYS already has been simulated\n",
      "replicate 3 of structure 5DYS already has been simulated\n",
      "submitting replicate 1 of 6ZDV\n"
     ]
    },
    {
     "name": "stderr",
     "output_type": "stream",
     "text": [
      "2021-10-26 14:09:46,149 - htmd.builder.builder - WARNING - Found cis peptide bond in 1 frames: [0] in the omega diheral \"Angle of (LEU 216 CA P P) (LEU 216 C P P) (PRO 217 N P P) (PRO 217 CA P P) \" with indexes [3337, 3352, 3354, 3358]\n",
      "2021-10-26 14:09:47,599 - htmd.protocols.production_v6 - WARNING - Lipids detected in input structure. We highly recommend setting useconstantratio=True for membrane simulations.\n",
      "2021-10-26 14:09:48,126 - jobqueues.slurmqueue - INFO - Queueing /gpcr/users/daranda/doctorat/GPCR_simulations/simulation_output/production/6ZDV_apo/rep_1/\n"
     ]
    },
    {
     "name": "stdout",
     "output_type": "stream",
     "text": [
      "submitting replicate 2 of 6ZDV\n"
     ]
    },
    {
     "name": "stderr",
     "output_type": "stream",
     "text": [
      "2021-10-26 14:10:26,069 - htmd.builder.builder - WARNING - Found cis peptide bond in 1 frames: [0] in the omega diheral \"Angle of (LEU 216 CA P P) (LEU 216 C P P) (PRO 217 N P P) (PRO 217 CA P P) \" with indexes [3337, 3352, 3354, 3358]\n",
      "2021-10-26 14:10:27,471 - htmd.protocols.production_v6 - WARNING - Lipids detected in input structure. We highly recommend setting useconstantratio=True for membrane simulations.\n",
      "2021-10-26 14:10:27,822 - jobqueues.slurmqueue - INFO - Queueing /gpcr/users/daranda/doctorat/GPCR_simulations/simulation_output/production/6ZDV_apo/rep_2/\n"
     ]
    },
    {
     "name": "stdout",
     "output_type": "stream",
     "text": [
      "submitting replicate 3 of 6ZDV\n"
     ]
    },
    {
     "name": "stderr",
     "output_type": "stream",
     "text": [
      "2021-10-26 14:11:05,157 - htmd.builder.builder - WARNING - Found cis peptide bond in 1 frames: [0] in the omega diheral \"Angle of (LEU 216 CA P P) (LEU 216 C P P) (PRO 217 N P P) (PRO 217 CA P P) \" with indexes [3337, 3352, 3354, 3358]\n",
      "2021-10-26 14:11:06,600 - htmd.protocols.production_v6 - WARNING - Lipids detected in input structure. We highly recommend setting useconstantratio=True for membrane simulations.\n",
      "2021-10-26 14:11:06,953 - jobqueues.slurmqueue - INFO - Queueing /gpcr/users/daranda/doctorat/GPCR_simulations/simulation_output/production/6ZDV_apo/rep_3/\n"
     ]
    },
    {
     "name": "stdout",
     "output_type": "stream",
     "text": [
      "submitting replicate 1 of 6ZDV\n"
     ]
    },
    {
     "name": "stderr",
     "output_type": "stream",
     "text": [
      "2021-10-26 14:11:44,768 - htmd.builder.builder - WARNING - Found cis peptide bond in 1 frames: [0] in the omega diheral \"Angle of (LEU 216 CA P P) (LEU 216 C P P) (PRO 217 N P P) (PRO 217 CA P P) \" with indexes [3530, 3545, 3547, 3551]\n",
      "2021-10-26 14:11:46,210 - htmd.protocols.production_v6 - WARNING - Lipids detected in input structure. We highly recommend setting useconstantratio=True for membrane simulations.\n",
      "2021-10-26 14:11:46,769 - jobqueues.slurmqueue - INFO - Queueing /gpcr/users/daranda/doctorat/GPCR_simulations/simulation_output/production/6ZDV/rep_1/\n"
     ]
    },
    {
     "name": "stdout",
     "output_type": "stream",
     "text": [
      "submitting replicate 2 of 6ZDV\n"
     ]
    },
    {
     "name": "stderr",
     "output_type": "stream",
     "text": [
      "2021-10-26 14:12:24,642 - htmd.builder.builder - WARNING - Found cis peptide bond in 1 frames: [0] in the omega diheral \"Angle of (LEU 216 CA P P) (LEU 216 C P P) (PRO 217 N P P) (PRO 217 CA P P) \" with indexes [3530, 3545, 3547, 3551]\n",
      "2021-10-26 14:12:26,071 - htmd.protocols.production_v6 - WARNING - Lipids detected in input structure. We highly recommend setting useconstantratio=True for membrane simulations.\n",
      "2021-10-26 14:12:26,464 - jobqueues.slurmqueue - INFO - Queueing /gpcr/users/daranda/doctorat/GPCR_simulations/simulation_output/production/6ZDV/rep_2/\n"
     ]
    },
    {
     "name": "stdout",
     "output_type": "stream",
     "text": [
      "submitting replicate 3 of 6ZDV\n"
     ]
    },
    {
     "name": "stderr",
     "output_type": "stream",
     "text": [
      "2021-10-26 14:13:04,556 - htmd.builder.builder - WARNING - Found cis peptide bond in 1 frames: [0] in the omega diheral \"Angle of (LEU 216 CA P P) (LEU 216 C P P) (PRO 217 N P P) (PRO 217 CA P P) \" with indexes [3530, 3545, 3547, 3551]\n",
      "2021-10-26 14:13:06,012 - htmd.protocols.production_v6 - WARNING - Lipids detected in input structure. We highly recommend setting useconstantratio=True for membrane simulations.\n",
      "2021-10-26 14:13:06,402 - jobqueues.slurmqueue - INFO - Queueing /gpcr/users/daranda/doctorat/GPCR_simulations/simulation_output/production/6ZDV/rep_3/\n"
     ]
    },
    {
     "name": "stdout",
     "output_type": "stream",
     "text": [
      "replicate 1 of structure 1GZM already has been simulated\n",
      "replicate 2 of structure 1GZM already has been simulated\n",
      "replicate 3 of structure 1GZM already has been simulated\n",
      "replicate 1 of structure 1GZM already has been simulated\n",
      "replicate 2 of structure 1GZM already has been simulated\n",
      "replicate 3 of structure 1GZM already has been simulated\n",
      "replicate 1 of structure 6ME5 already has been simulated\n",
      "replicate 2 of structure 6ME5 already has been simulated\n",
      "replicate 3 of structure 6ME5 already has been simulated\n",
      "replicate 1 of structure 6ME5 already has been simulated\n",
      "replicate 2 of structure 6ME5 already has been simulated\n",
      "replicate 3 of structure 6ME5 already has been simulated\n",
      "replicate 1 of structure 6OL9 already has been simulated\n",
      "replicate 2 of structure 6OL9 already has been simulated\n",
      "replicate 3 of structure 6OL9 already has been simulated\n",
      "replicate 1 of structure 6OL9 already has been simulated\n",
      "replicate 2 of structure 6OL9 already has been simulated\n",
      "replicate 3 of structure 6OL9 already has been simulated\n",
      "replicate 1 of structure 5V57 already has been simulated\n",
      "replicate 2 of structure 5V57 already has been simulated\n",
      "replicate 3 of structure 5V57 already has been simulated\n",
      "replicate 1 of structure 5V57 already has been simulated\n",
      "replicate 2 of structure 5V57 already has been simulated\n",
      "replicate 3 of structure 5V57 already has been simulated\n",
      "replicate 1 of structure 6C1Q already has been simulated\n",
      "replicate 2 of structure 6C1Q already has been simulated\n",
      "replicate 3 of structure 6C1Q already has been simulated\n",
      "replicate 1 of structure 6C1Q already has been simulated\n",
      "replicate 2 of structure 6C1Q already has been simulated\n",
      "replicate 3 of structure 6C1Q already has been simulated\n",
      "replicate 1 of structure 5WS3 already has been simulated\n",
      "replicate 2 of structure 5WS3 already has been simulated\n",
      "replicate 3 of structure 5WS3 already has been simulated\n",
      "replicate 1 of structure 5WS3 already has been simulated\n",
      "replicate 2 of structure 5WS3 already has been simulated\n",
      "replicate 3 of structure 5WS3 already has been simulated\n",
      "replicate 1 of structure 6KP6 already has been simulated\n",
      "replicate 2 of structure 6KP6 already has been simulated\n",
      "replicate 3 of structure 6KP6 already has been simulated\n",
      "submitting replicate 1 of 6KP6\n",
      "model 6KP6 could not be send to equilibrate because of  Could not locate file /gpcr/users/daranda/doctorat/GPCR_simulations/simulation_output//equil/6KP6/structure.pdb set by the user for argument Production.acemd.coordinates\n",
      "submitting replicate 2 of 6KP6\n",
      "model 6KP6 could not be send to equilibrate because of  Could not locate file /gpcr/users/daranda/doctorat/GPCR_simulations/simulation_output//equil/6KP6/structure.pdb set by the user for argument Production.acemd.coordinates\n",
      "submitting replicate 3 of 6KP6\n",
      "model 6KP6 could not be send to equilibrate because of  Could not locate file /gpcr/users/daranda/doctorat/GPCR_simulations/simulation_output//equil/6KP6/structure.pdb set by the user for argument Production.acemd.coordinates\n",
      "replicate 1 of structure 6DRZ already has been simulated\n",
      "replicate 2 of structure 6DRZ already has been simulated\n",
      "replicate 3 of structure 6DRZ already has been simulated\n",
      "submitting replicate 1 of 6DRZ\n"
     ]
    },
    {
     "name": "stderr",
     "output_type": "stream",
     "text": [
      "2021-10-26 14:13:41,445 - htmd.protocols.production_v6 - WARNING - Lipids detected in input structure. We highly recommend setting useconstantratio=True for membrane simulations.\n",
      "2021-10-26 14:13:41,959 - jobqueues.slurmqueue - INFO - Queueing /gpcr/users/daranda/doctorat/GPCR_simulations/simulation_output/production/6DRZ/rep_1/\n"
     ]
    },
    {
     "name": "stdout",
     "output_type": "stream",
     "text": [
      "submitting replicate 2 of 6DRZ\n"
     ]
    },
    {
     "name": "stderr",
     "output_type": "stream",
     "text": [
      "2021-10-26 14:14:16,311 - htmd.protocols.production_v6 - WARNING - Lipids detected in input structure. We highly recommend setting useconstantratio=True for membrane simulations.\n",
      "2021-10-26 14:14:16,650 - jobqueues.slurmqueue - INFO - Queueing /gpcr/users/daranda/doctorat/GPCR_simulations/simulation_output/production/6DRZ/rep_2/\n"
     ]
    },
    {
     "name": "stdout",
     "output_type": "stream",
     "text": [
      "replicate 3 of structure 6DRZ already has been simulated\n",
      "replicate 1 of structure 5OLV already has been simulated\n",
      "replicate 2 of structure 5OLV already has been simulated\n",
      "replicate 3 of structure 5OLV already has been simulated\n",
      "replicate 1 of structure 5OLV already has been simulated\n",
      "replicate 2 of structure 5OLV already has been simulated\n",
      "replicate 3 of structure 5OLV already has been simulated\n",
      "replicate 1 of structure 5VEW already has been simulated\n",
      "replicate 2 of structure 5VEW already has been simulated\n",
      "replicate 3 of structure 5VEW already has been simulated\n",
      "replicate 1 of structure 5VEW already has been simulated\n",
      "replicate 2 of structure 5VEW already has been simulated\n",
      "replicate 3 of structure 5VEW already has been simulated\n",
      "submitting replicate 1 of 6DRX\n"
     ]
    },
    {
     "name": "stderr",
     "output_type": "stream",
     "text": [
      "2021-10-26 14:14:53,218 - htmd.protocols.production_v6 - WARNING - Lipids detected in input structure. We highly recommend setting useconstantratio=True for membrane simulations.\n",
      "2021-10-26 14:14:53,650 - jobqueues.slurmqueue - INFO - Queueing /gpcr/users/daranda/doctorat/GPCR_simulations/simulation_output/production/6DRX_apo/rep_1/\n"
     ]
    },
    {
     "name": "stdout",
     "output_type": "stream",
     "text": [
      "submitting replicate 2 of 6DRX\n"
     ]
    },
    {
     "name": "stderr",
     "output_type": "stream",
     "text": [
      "2021-10-26 14:15:25,263 - htmd.protocols.production_v6 - WARNING - Lipids detected in input structure. We highly recommend setting useconstantratio=True for membrane simulations.\n",
      "2021-10-26 14:15:25,552 - jobqueues.slurmqueue - INFO - Queueing /gpcr/users/daranda/doctorat/GPCR_simulations/simulation_output/production/6DRX_apo/rep_2/\n"
     ]
    },
    {
     "name": "stdout",
     "output_type": "stream",
     "text": [
      "submitting replicate 3 of 6DRX\n"
     ]
    },
    {
     "name": "stderr",
     "output_type": "stream",
     "text": [
      "2021-10-26 14:15:57,252 - htmd.protocols.production_v6 - WARNING - Lipids detected in input structure. We highly recommend setting useconstantratio=True for membrane simulations.\n",
      "2021-10-26 14:15:57,546 - jobqueues.slurmqueue - INFO - Queueing /gpcr/users/daranda/doctorat/GPCR_simulations/simulation_output/production/6DRX_apo/rep_3/\n"
     ]
    },
    {
     "name": "stdout",
     "output_type": "stream",
     "text": [
      "submitting replicate 1 of 6DRX\n"
     ]
    },
    {
     "name": "stderr",
     "output_type": "stream",
     "text": [
      "2021-10-26 14:16:28,997 - htmd.protocols.production_v6 - WARNING - Lipids detected in input structure. We highly recommend setting useconstantratio=True for membrane simulations.\n",
      "2021-10-26 14:16:29,481 - jobqueues.slurmqueue - INFO - Queueing /gpcr/users/daranda/doctorat/GPCR_simulations/simulation_output/production/6DRX/rep_1/\n"
     ]
    },
    {
     "name": "stdout",
     "output_type": "stream",
     "text": [
      "submitting replicate 2 of 6DRX\n"
     ]
    },
    {
     "name": "stderr",
     "output_type": "stream",
     "text": [
      "2021-10-26 14:17:01,516 - htmd.protocols.production_v6 - WARNING - Lipids detected in input structure. We highly recommend setting useconstantratio=True for membrane simulations.\n",
      "2021-10-26 14:17:01,838 - jobqueues.slurmqueue - INFO - Queueing /gpcr/users/daranda/doctorat/GPCR_simulations/simulation_output/production/6DRX/rep_2/\n"
     ]
    },
    {
     "name": "stdout",
     "output_type": "stream",
     "text": [
      "submitting replicate 3 of 6DRX\n"
     ]
    },
    {
     "name": "stderr",
     "output_type": "stream",
     "text": [
      "2021-10-26 14:17:33,630 - htmd.protocols.production_v6 - WARNING - Lipids detected in input structure. We highly recommend setting useconstantratio=True for membrane simulations.\n",
      "2021-10-26 14:17:33,958 - jobqueues.slurmqueue - INFO - Queueing /gpcr/users/daranda/doctorat/GPCR_simulations/simulation_output/production/6DRX/rep_3/\n"
     ]
    },
    {
     "name": "stdout",
     "output_type": "stream",
     "text": [
      "replicate 1 of structure 6PS6 already has been simulated\n",
      "replicate 2 of structure 6PS6 already has been simulated\n",
      "replicate 3 of structure 6PS6 already has been simulated\n",
      "replicate 1 of structure 6PS6 already has been simulated\n",
      "replicate 2 of structure 6PS6 already has been simulated\n",
      "replicate 3 of structure 6PS6 already has been simulated\n",
      "replicate 1 of structure 6OBA already has been simulated\n",
      "replicate 2 of structure 6OBA already has been simulated\n",
      "replicate 3 of structure 6OBA already has been simulated\n",
      "replicate 1 of structure 6OBA already has been simulated\n",
      "replicate 2 of structure 6OBA already has been simulated\n",
      "replicate 3 of structure 6OBA already has been simulated\n",
      "replicate 1 of structure 6DS0 already has been simulated\n",
      "replicate 2 of structure 6DS0 already has been simulated\n",
      "replicate 3 of structure 6DS0 already has been simulated\n",
      "replicate 1 of structure 6DS0 already has been simulated\n",
      "replicate 2 of structure 6DS0 already has been simulated\n",
      "replicate 3 of structure 6DS0 already has been simulated\n",
      "replicate 1 of structure 6RZ8 already has been simulated\n",
      "replicate 2 of structure 6RZ8 already has been simulated\n",
      "replicate 3 of structure 6RZ8 already has been simulated\n",
      "replicate 1 of structure 6RZ8 already has been simulated\n",
      "replicate 2 of structure 6RZ8 already has been simulated\n",
      "replicate 3 of structure 6RZ8 already has been simulated\n",
      "submitting replicate 1 of 5WQC\n"
     ]
    },
    {
     "name": "stderr",
     "output_type": "stream",
     "text": [
      "2021-10-26 14:18:15,958 - htmd.protocols.production_v6 - WARNING - Lipids detected in input structure. We highly recommend setting useconstantratio=True for membrane simulations.\n",
      "2021-10-26 14:18:16,500 - jobqueues.slurmqueue - INFO - Queueing /gpcr/users/daranda/doctorat/GPCR_simulations/simulation_output/production/5WQC_apo/rep_1/\n"
     ]
    },
    {
     "name": "stdout",
     "output_type": "stream",
     "text": [
      "submitting replicate 2 of 5WQC\n"
     ]
    },
    {
     "name": "stderr",
     "output_type": "stream",
     "text": [
      "2021-10-26 14:18:57,965 - htmd.protocols.production_v6 - WARNING - Lipids detected in input structure. We highly recommend setting useconstantratio=True for membrane simulations.\n",
      "2021-10-26 14:18:58,336 - jobqueues.slurmqueue - INFO - Queueing /gpcr/users/daranda/doctorat/GPCR_simulations/simulation_output/production/5WQC_apo/rep_2/\n"
     ]
    },
    {
     "name": "stdout",
     "output_type": "stream",
     "text": [
      "submitting replicate 3 of 5WQC\n"
     ]
    },
    {
     "name": "stderr",
     "output_type": "stream",
     "text": [
      "2021-10-26 14:19:41,215 - htmd.protocols.production_v6 - WARNING - Lipids detected in input structure. We highly recommend setting useconstantratio=True for membrane simulations.\n",
      "2021-10-26 14:19:41,580 - jobqueues.slurmqueue - INFO - Queueing /gpcr/users/daranda/doctorat/GPCR_simulations/simulation_output/production/5WQC_apo/rep_3/\n"
     ]
    },
    {
     "name": "stdout",
     "output_type": "stream",
     "text": [
      "submitting replicate 1 of 5WQC\n"
     ]
    },
    {
     "name": "stderr",
     "output_type": "stream",
     "text": [
      "2021-10-26 14:20:24,345 - htmd.protocols.production_v6 - WARNING - Lipids detected in input structure. We highly recommend setting useconstantratio=True for membrane simulations.\n",
      "2021-10-26 14:20:24,950 - jobqueues.slurmqueue - INFO - Queueing /gpcr/users/daranda/doctorat/GPCR_simulations/simulation_output/production/5WQC/rep_1/\n"
     ]
    },
    {
     "name": "stdout",
     "output_type": "stream",
     "text": [
      "submitting replicate 2 of 5WQC\n"
     ]
    },
    {
     "name": "stderr",
     "output_type": "stream",
     "text": [
      "2021-10-26 14:21:05,410 - htmd.protocols.production_v6 - WARNING - Lipids detected in input structure. We highly recommend setting useconstantratio=True for membrane simulations.\n",
      "2021-10-26 14:21:05,806 - jobqueues.slurmqueue - INFO - Queueing /gpcr/users/daranda/doctorat/GPCR_simulations/simulation_output/production/5WQC/rep_2/\n"
     ]
    },
    {
     "name": "stdout",
     "output_type": "stream",
     "text": [
      "submitting replicate 3 of 5WQC\n"
     ]
    },
    {
     "name": "stderr",
     "output_type": "stream",
     "text": [
      "2021-10-26 14:21:46,644 - htmd.protocols.production_v6 - WARNING - Lipids detected in input structure. We highly recommend setting useconstantratio=True for membrane simulations.\n",
      "2021-10-26 14:21:47,047 - jobqueues.slurmqueue - INFO - Queueing /gpcr/users/daranda/doctorat/GPCR_simulations/simulation_output/production/5WQC/rep_3/\n"
     ]
    },
    {
     "name": "stdout",
     "output_type": "stream",
     "text": [
      "replicate 1 of structure 5XR8 already has been simulated\n",
      "replicate 2 of structure 5XR8 already has been simulated\n",
      "replicate 3 of structure 5XR8 already has been simulated\n",
      "submitting replicate 1 of 5XR8\n"
     ]
    },
    {
     "name": "stderr",
     "output_type": "stream",
     "text": [
      "2021-10-26 14:22:19,392 - htmd.protocols.production_v6 - WARNING - Lipids detected in input structure. We highly recommend setting useconstantratio=True for membrane simulations.\n"
     ]
    },
    {
     "name": "stdout",
     "output_type": "stream",
     "text": [
      "model 5XR8 could not be send to equilibrate because of  Could not find any of the files \"output.coor\" specified for command \"bincoordinates\" in path /gpcr/users/daranda/doctorat/GPCR_simulations/simulation_output//equil/5XR8/\n",
      "submitting replicate 2 of 5XR8\n"
     ]
    },
    {
     "name": "stderr",
     "output_type": "stream",
     "text": [
      "2021-10-26 14:22:44,322 - htmd.protocols.production_v6 - WARNING - Lipids detected in input structure. We highly recommend setting useconstantratio=True for membrane simulations.\n"
     ]
    },
    {
     "name": "stdout",
     "output_type": "stream",
     "text": [
      "model 5XR8 could not be send to equilibrate because of  Could not find any of the files \"output.coor\" specified for command \"bincoordinates\" in path /gpcr/users/daranda/doctorat/GPCR_simulations/simulation_output//equil/5XR8/\n",
      "submitting replicate 3 of 5XR8\n"
     ]
    },
    {
     "name": "stderr",
     "output_type": "stream",
     "text": [
      "2021-10-26 14:23:09,353 - htmd.protocols.production_v6 - WARNING - Lipids detected in input structure. We highly recommend setting useconstantratio=True for membrane simulations.\n"
     ]
    },
    {
     "name": "stdout",
     "output_type": "stream",
     "text": [
      "model 5XR8 could not be send to equilibrate because of  Could not find any of the files \"output.coor\" specified for command \"bincoordinates\" in path /gpcr/users/daranda/doctorat/GPCR_simulations/simulation_output//equil/5XR8/\n",
      "replicate 1 of structure 6KK7 already has been simulated\n",
      "replicate 2 of structure 6KK7 already has been simulated\n",
      "replicate 3 of structure 6KK7 already has been simulated\n",
      "replicate 1 of structure 6KK7 already has been simulated\n",
      "replicate 2 of structure 6KK7 already has been simulated\n",
      "replicate 3 of structure 6KK7 already has been simulated\n",
      "replicate 1 of structure 5YQZ already has been simulated\n",
      "replicate 2 of structure 5YQZ already has been simulated\n",
      "replicate 3 of structure 5YQZ already has been simulated\n",
      "replicate 1 of structure 5YQZ already has been simulated\n",
      "replicate 2 of structure 5YQZ already has been simulated\n",
      "replicate 3 of structure 5YQZ already has been simulated\n",
      "replicate 1 of structure 6PS5 already has been simulated\n",
      "submitting replicate 2 of 6PS5\n"
     ]
    },
    {
     "name": "stderr",
     "output_type": "stream",
     "text": [
      "2021-10-26 14:23:41,536 - htmd.protocols.production_v6 - WARNING - Lipids detected in input structure. We highly recommend setting useconstantratio=True for membrane simulations.\n",
      "2021-10-26 14:23:42,066 - jobqueues.slurmqueue - INFO - Queueing /gpcr/users/daranda/doctorat/GPCR_simulations/simulation_output/production/6PS5_apo/rep_2/\n"
     ]
    },
    {
     "name": "stdout",
     "output_type": "stream",
     "text": [
      "submitting replicate 3 of 6PS5\n"
     ]
    },
    {
     "name": "stderr",
     "output_type": "stream",
     "text": [
      "2021-10-26 14:24:20,804 - htmd.protocols.production_v6 - WARNING - Lipids detected in input structure. We highly recommend setting useconstantratio=True for membrane simulations.\n",
      "2021-10-26 14:24:21,151 - jobqueues.slurmqueue - INFO - Queueing /gpcr/users/daranda/doctorat/GPCR_simulations/simulation_output/production/6PS5_apo/rep_3/\n"
     ]
    },
    {
     "name": "stdout",
     "output_type": "stream",
     "text": [
      "submitting replicate 1 of 6PS5\n"
     ]
    },
    {
     "name": "stderr",
     "output_type": "stream",
     "text": [
      "2021-10-26 14:24:58,944 - htmd.protocols.production_v6 - WARNING - Lipids detected in input structure. We highly recommend setting useconstantratio=True for membrane simulations.\n",
      "2021-10-26 14:24:59,540 - jobqueues.slurmqueue - INFO - Queueing /gpcr/users/daranda/doctorat/GPCR_simulations/simulation_output/production/6PS5/rep_1/\n"
     ]
    },
    {
     "name": "stdout",
     "output_type": "stream",
     "text": [
      "submitting replicate 2 of 6PS5\n"
     ]
    },
    {
     "name": "stderr",
     "output_type": "stream",
     "text": [
      "2021-10-26 14:25:38,541 - htmd.protocols.production_v6 - WARNING - Lipids detected in input structure. We highly recommend setting useconstantratio=True for membrane simulations.\n",
      "2021-10-26 14:25:38,928 - jobqueues.slurmqueue - INFO - Queueing /gpcr/users/daranda/doctorat/GPCR_simulations/simulation_output/production/6PS5/rep_2/\n"
     ]
    },
    {
     "name": "stdout",
     "output_type": "stream",
     "text": [
      "submitting replicate 3 of 6PS5\n"
     ]
    },
    {
     "name": "stderr",
     "output_type": "stream",
     "text": [
      "2021-10-26 14:26:18,030 - htmd.protocols.production_v6 - WARNING - Lipids detected in input structure. We highly recommend setting useconstantratio=True for membrane simulations.\n",
      "2021-10-26 14:26:18,420 - jobqueues.slurmqueue - INFO - Queueing /gpcr/users/daranda/doctorat/GPCR_simulations/simulation_output/production/6PS5/rep_3/\n"
     ]
    },
    {
     "name": "stdout",
     "output_type": "stream",
     "text": [
      "replicate 1 of structure 5ZK8 already has been simulated\n",
      "replicate 2 of structure 5ZK8 already has been simulated\n",
      "replicate 3 of structure 5ZK8 already has been simulated\n",
      "replicate 1 of structure 5ZK8 already has been simulated\n",
      "replicate 2 of structure 5ZK8 already has been simulated\n",
      "replicate 3 of structure 5ZK8 already has been simulated\n",
      "replicate 1 of structure 5WIU already has been simulated\n",
      "replicate 2 of structure 5WIU already has been simulated\n",
      "replicate 3 of structure 5WIU already has been simulated\n",
      "replicate 1 of structure 5WIU already has been simulated\n",
      "replicate 2 of structure 5WIU already has been simulated\n",
      "replicate 3 of structure 5WIU already has been simulated\n",
      "replicate 1 of structure 5K2A already has been simulated\n",
      "replicate 2 of structure 5K2A already has been simulated\n",
      "replicate 3 of structure 5K2A already has been simulated\n",
      "replicate 1 of structure 5K2A already has been simulated\n",
      "replicate 2 of structure 5K2A already has been simulated\n",
      "replicate 3 of structure 5K2A already has been simulated\n",
      "submitting replicate 1 of 6FK6\n"
     ]
    },
    {
     "name": "stderr",
     "output_type": "stream",
     "text": [
      "2021-10-26 14:26:48,705 - htmd.builder.builder - WARNING - Found cis peptide bond in 1 frames: [0] in the omega diheral \"Angle of (ASN 326 CA P P) (ASN 326 C P P) (PRO 327 N P P) (PRO 327 CA P P) \" with indexes [5156, 5166, 5168, 5172]\n",
      "2021-10-26 14:26:49,767 - htmd.protocols.production_v6 - WARNING - Lipids detected in input structure. We highly recommend setting useconstantratio=True for membrane simulations.\n",
      "2021-10-26 14:26:50,199 - jobqueues.slurmqueue - INFO - Queueing /gpcr/users/daranda/doctorat/GPCR_simulations/simulation_output/production/6FK6_apo/rep_1/\n"
     ]
    },
    {
     "name": "stdout",
     "output_type": "stream",
     "text": [
      "submitting replicate 2 of 6FK6\n"
     ]
    },
    {
     "name": "stderr",
     "output_type": "stream",
     "text": [
      "2021-10-26 14:27:20,452 - htmd.builder.builder - WARNING - Found cis peptide bond in 1 frames: [0] in the omega diheral \"Angle of (ASN 326 CA P P) (ASN 326 C P P) (PRO 327 N P P) (PRO 327 CA P P) \" with indexes [5156, 5166, 5168, 5172]\n",
      "2021-10-26 14:27:21,525 - htmd.protocols.production_v6 - WARNING - Lipids detected in input structure. We highly recommend setting useconstantratio=True for membrane simulations.\n",
      "2021-10-26 14:27:21,808 - jobqueues.slurmqueue - INFO - Queueing /gpcr/users/daranda/doctorat/GPCR_simulations/simulation_output/production/6FK6_apo/rep_2/\n"
     ]
    },
    {
     "name": "stdout",
     "output_type": "stream",
     "text": [
      "submitting replicate 3 of 6FK6\n"
     ]
    },
    {
     "name": "stderr",
     "output_type": "stream",
     "text": [
      "2021-10-26 14:27:52,902 - htmd.builder.builder - WARNING - Found cis peptide bond in 1 frames: [0] in the omega diheral \"Angle of (ASN 326 CA P P) (ASN 326 C P P) (PRO 327 N P P) (PRO 327 CA P P) \" with indexes [5156, 5166, 5168, 5172]\n",
      "2021-10-26 14:27:53,975 - htmd.protocols.production_v6 - WARNING - Lipids detected in input structure. We highly recommend setting useconstantratio=True for membrane simulations.\n",
      "2021-10-26 14:27:54,263 - jobqueues.slurmqueue - INFO - Queueing /gpcr/users/daranda/doctorat/GPCR_simulations/simulation_output/production/6FK6_apo/rep_3/\n"
     ]
    },
    {
     "name": "stdout",
     "output_type": "stream",
     "text": [
      "submitting replicate 1 of 6FK6\n"
     ]
    },
    {
     "name": "stderr",
     "output_type": "stream",
     "text": [
      "2021-10-26 14:28:25,062 - htmd.builder.builder - WARNING - Found cis peptide bond in 1 frames: [0] in the omega diheral \"Angle of (ASN 326 CA P P) (ASN 326 C P P) (PRO 327 N P P) (PRO 327 CA P P) \" with indexes [5216, 5226, 5228, 5232]\n",
      "2021-10-26 14:28:26,130 - htmd.protocols.production_v6 - WARNING - Lipids detected in input structure. We highly recommend setting useconstantratio=True for membrane simulations.\n",
      "2021-10-26 14:28:26,611 - jobqueues.slurmqueue - INFO - Queueing /gpcr/users/daranda/doctorat/GPCR_simulations/simulation_output/production/6FK6/rep_1/\n"
     ]
    },
    {
     "name": "stdout",
     "output_type": "stream",
     "text": [
      "submitting replicate 2 of 6FK6\n"
     ]
    },
    {
     "name": "stderr",
     "output_type": "stream",
     "text": [
      "2021-10-26 14:28:57,976 - htmd.builder.builder - WARNING - Found cis peptide bond in 1 frames: [0] in the omega diheral \"Angle of (ASN 326 CA P P) (ASN 326 C P P) (PRO 327 N P P) (PRO 327 CA P P) \" with indexes [5216, 5226, 5228, 5232]\n",
      "2021-10-26 14:28:59,069 - htmd.protocols.production_v6 - WARNING - Lipids detected in input structure. We highly recommend setting useconstantratio=True for membrane simulations.\n",
      "2021-10-26 14:28:59,374 - jobqueues.slurmqueue - INFO - Queueing /gpcr/users/daranda/doctorat/GPCR_simulations/simulation_output/production/6FK6/rep_2/\n"
     ]
    },
    {
     "name": "stdout",
     "output_type": "stream",
     "text": [
      "submitting replicate 3 of 6FK6\n"
     ]
    },
    {
     "name": "stderr",
     "output_type": "stream",
     "text": [
      "2021-10-26 14:29:30,235 - htmd.builder.builder - WARNING - Found cis peptide bond in 1 frames: [0] in the omega diheral \"Angle of (ASN 326 CA P P) (ASN 326 C P P) (PRO 327 N P P) (PRO 327 CA P P) \" with indexes [5216, 5226, 5228, 5232]\n",
      "2021-10-26 14:29:31,306 - htmd.protocols.production_v6 - WARNING - Lipids detected in input structure. We highly recommend setting useconstantratio=True for membrane simulations.\n",
      "2021-10-26 14:29:31,620 - jobqueues.slurmqueue - INFO - Queueing /gpcr/users/daranda/doctorat/GPCR_simulations/simulation_output/production/6FK6/rep_3/\n"
     ]
    },
    {
     "name": "stdout",
     "output_type": "stream",
     "text": [
      "replicate 1 of structure 6FK8 already has been simulated\n",
      "submitting replicate 2 of 6FK8\n"
     ]
    },
    {
     "name": "stderr",
     "output_type": "stream",
     "text": [
      "2021-10-26 14:30:03,756 - htmd.builder.builder - WARNING - Found cis peptide bond in 1 frames: [0] in the omega diheral \"Angle of (ASN 326 CA P P) (ASN 326 C P P) (PRO 327 N P P) (PRO 327 CA P P) \" with indexes [5157, 5167, 5169, 5173]\n",
      "2021-10-26 14:30:04,883 - htmd.protocols.production_v6 - WARNING - Lipids detected in input structure. We highly recommend setting useconstantratio=True for membrane simulations.\n",
      "2021-10-26 14:30:05,582 - jobqueues.slurmqueue - INFO - Queueing /gpcr/users/daranda/doctorat/GPCR_simulations/simulation_output/production/6FK8_apo/rep_2/\n"
     ]
    },
    {
     "name": "stdout",
     "output_type": "stream",
     "text": [
      "submitting replicate 3 of 6FK8\n"
     ]
    },
    {
     "name": "stderr",
     "output_type": "stream",
     "text": [
      "2021-10-26 14:30:37,298 - htmd.builder.builder - WARNING - Found cis peptide bond in 1 frames: [0] in the omega diheral \"Angle of (ASN 326 CA P P) (ASN 326 C P P) (PRO 327 N P P) (PRO 327 CA P P) \" with indexes [5157, 5167, 5169, 5173]\n",
      "2021-10-26 14:30:38,399 - htmd.protocols.production_v6 - WARNING - Lipids detected in input structure. We highly recommend setting useconstantratio=True for membrane simulations.\n",
      "2021-10-26 14:30:38,698 - jobqueues.slurmqueue - INFO - Queueing /gpcr/users/daranda/doctorat/GPCR_simulations/simulation_output/production/6FK8_apo/rep_3/\n"
     ]
    },
    {
     "name": "stdout",
     "output_type": "stream",
     "text": [
      "submitting replicate 1 of 6FK8\n"
     ]
    },
    {
     "name": "stderr",
     "output_type": "stream",
     "text": [
      "2021-10-26 14:31:09,952 - htmd.builder.builder - WARNING - Found cis peptide bond in 1 frames: [0] in the omega diheral \"Angle of (ASN 326 CA P P) (ASN 326 C P P) (PRO 327 N P P) (PRO 327 CA P P) \" with indexes [5216, 5226, 5228, 5232]\n",
      "2021-10-26 14:31:11,088 - htmd.protocols.production_v6 - WARNING - Lipids detected in input structure. We highly recommend setting useconstantratio=True for membrane simulations.\n",
      "2021-10-26 14:31:11,777 - jobqueues.slurmqueue - INFO - Queueing /gpcr/users/daranda/doctorat/GPCR_simulations/simulation_output/production/6FK8/rep_1/\n"
     ]
    },
    {
     "name": "stdout",
     "output_type": "stream",
     "text": [
      "submitting replicate 2 of 6FK8\n"
     ]
    },
    {
     "name": "stderr",
     "output_type": "stream",
     "text": [
      "2021-10-26 14:31:43,160 - htmd.builder.builder - WARNING - Found cis peptide bond in 1 frames: [0] in the omega diheral \"Angle of (ASN 326 CA P P) (ASN 326 C P P) (PRO 327 N P P) (PRO 327 CA P P) \" with indexes [5216, 5226, 5228, 5232]\n",
      "2021-10-26 14:31:44,294 - htmd.protocols.production_v6 - WARNING - Lipids detected in input structure. We highly recommend setting useconstantratio=True for membrane simulations.\n",
      "2021-10-26 14:31:44,616 - jobqueues.slurmqueue - INFO - Queueing /gpcr/users/daranda/doctorat/GPCR_simulations/simulation_output/production/6FK8/rep_2/\n"
     ]
    },
    {
     "name": "stdout",
     "output_type": "stream",
     "text": [
      "replicate 3 of structure 6FK8 already has been simulated\n",
      "replicate 1 of structure 4Z9G already has been simulated\n",
      "replicate 2 of structure 4Z9G already has been simulated\n",
      "replicate 3 of structure 4Z9G already has been simulated\n",
      "replicate 1 of structure 4Z9G already has been simulated\n",
      "replicate 2 of structure 4Z9G already has been simulated\n",
      "replicate 3 of structure 4Z9G already has been simulated\n",
      "replicate 1 of structure 4GBR already has been simulated\n",
      "replicate 2 of structure 4GBR already has been simulated\n",
      "replicate 3 of structure 4GBR already has been simulated\n",
      "replicate 1 of structure 4GBR already has been simulated\n",
      "replicate 2 of structure 4GBR already has been simulated\n",
      "replicate 3 of structure 4GBR already has been simulated\n",
      "replicate 1 of structure 5ZK3 already has been simulated\n",
      "replicate 2 of structure 5ZK3 already has been simulated\n",
      "replicate 3 of structure 5ZK3 already has been simulated\n",
      "replicate 1 of structure 5ZK3 already has been simulated\n",
      "replicate 2 of structure 5ZK3 already has been simulated\n",
      "replicate 3 of structure 5ZK3 already has been simulated\n",
      "replicate 1 of structure 6PS1 already has been simulated\n",
      "replicate 2 of structure 6PS1 already has been simulated\n",
      "replicate 3 of structure 6PS1 already has been simulated\n",
      "replicate 1 of structure 6PS1 already has been simulated\n",
      "replicate 2 of structure 6PS1 already has been simulated\n",
      "replicate 3 of structure 6PS1 already has been simulated\n",
      "replicate 1 of structure 6PS0 already has been simulated\n",
      "replicate 2 of structure 6PS0 already has been simulated\n",
      "replicate 3 of structure 6PS0 already has been simulated\n",
      "replicate 1 of structure 6PS0 already has been simulated\n",
      "replicate 2 of structure 6PS0 already has been simulated\n",
      "replicate 3 of structure 6PS0 already has been simulated\n",
      "replicate 1 of structure 6HLL already has been simulated\n",
      "replicate 2 of structure 6HLL already has been simulated\n",
      "replicate 3 of structure 6HLL already has been simulated\n",
      "replicate 1 of structure 6HLL already has been simulated\n",
      "replicate 2 of structure 6HLL already has been simulated\n",
      "replicate 3 of structure 6HLL already has been simulated\n",
      "replicate 1 of structure 6RZ6 already has been simulated\n",
      "replicate 2 of structure 6RZ6 already has been simulated\n",
      "replicate 3 of structure 6RZ6 already has been simulated\n",
      "replicate 1 of structure 6RZ6 already has been simulated\n",
      "replicate 2 of structure 6RZ6 already has been simulated\n",
      "replicate 3 of structure 6RZ6 already has been simulated\n",
      "submitting replicate 1 of 6CM4\n"
     ]
    },
    {
     "name": "stderr",
     "output_type": "stream",
     "text": [
      "2021-10-26 14:32:17,532 - htmd.builder.builder - WARNING - Found cis peptide bond in 1 frames: [0] in the omega diheral \"Angle of (TYR 146 CA P0 P) (TYR 146 C P0 P) (SER 147 N P0 P) (SER 147 CA P0 P) \" with indexes [1918, 1935, 1937, 1939]\n",
      "2021-10-26 14:32:17,534 - htmd.builder.builder - WARNING - Found cis peptide bond in 1 frames: [0] in the omega diheral \"Angle of (ALA 185 CA P0 P) (ALA 185 C P0 P) (ASN 186 N P0 P) (ASN 186 CA P0 P) \" with indexes [2546, 2552, 2554, 2556]\n",
      "2021-10-26 14:32:18,796 - htmd.protocols.production_v6 - WARNING - Lipids detected in input structure. We highly recommend setting useconstantratio=True for membrane simulations.\n",
      "2021-10-26 14:32:19,466 - jobqueues.slurmqueue - INFO - Queueing /gpcr/users/daranda/doctorat/GPCR_simulations/simulation_output/production/6CM4_apo/rep_1/\n"
     ]
    },
    {
     "name": "stdout",
     "output_type": "stream",
     "text": [
      "submitting replicate 2 of 6CM4\n"
     ]
    },
    {
     "name": "stderr",
     "output_type": "stream",
     "text": [
      "2021-10-26 14:32:53,168 - htmd.builder.builder - WARNING - Found cis peptide bond in 1 frames: [0] in the omega diheral \"Angle of (TYR 146 CA P0 P) (TYR 146 C P0 P) (SER 147 N P0 P) (SER 147 CA P0 P) \" with indexes [1918, 1935, 1937, 1939]\n",
      "2021-10-26 14:32:53,170 - htmd.builder.builder - WARNING - Found cis peptide bond in 1 frames: [0] in the omega diheral \"Angle of (ALA 185 CA P0 P) (ALA 185 C P0 P) (ASN 186 N P0 P) (ASN 186 CA P0 P) \" with indexes [2546, 2552, 2554, 2556]\n",
      "2021-10-26 14:32:54,435 - htmd.protocols.production_v6 - WARNING - Lipids detected in input structure. We highly recommend setting useconstantratio=True for membrane simulations.\n",
      "2021-10-26 14:32:54,761 - jobqueues.slurmqueue - INFO - Queueing /gpcr/users/daranda/doctorat/GPCR_simulations/simulation_output/production/6CM4_apo/rep_2/\n"
     ]
    },
    {
     "name": "stdout",
     "output_type": "stream",
     "text": [
      "submitting replicate 3 of 6CM4\n"
     ]
    },
    {
     "name": "stderr",
     "output_type": "stream",
     "text": [
      "2021-10-26 14:33:28,632 - htmd.builder.builder - WARNING - Found cis peptide bond in 1 frames: [0] in the omega diheral \"Angle of (TYR 146 CA P0 P) (TYR 146 C P0 P) (SER 147 N P0 P) (SER 147 CA P0 P) \" with indexes [1918, 1935, 1937, 1939]\n",
      "2021-10-26 14:33:28,634 - htmd.builder.builder - WARNING - Found cis peptide bond in 1 frames: [0] in the omega diheral \"Angle of (ALA 185 CA P0 P) (ALA 185 C P0 P) (ASN 186 N P0 P) (ASN 186 CA P0 P) \" with indexes [2546, 2552, 2554, 2556]\n",
      "2021-10-26 14:33:29,896 - htmd.protocols.production_v6 - WARNING - Lipids detected in input structure. We highly recommend setting useconstantratio=True for membrane simulations.\n",
      "2021-10-26 14:33:30,207 - jobqueues.slurmqueue - INFO - Queueing /gpcr/users/daranda/doctorat/GPCR_simulations/simulation_output/production/6CM4_apo/rep_3/\n"
     ]
    },
    {
     "name": "stdout",
     "output_type": "stream",
     "text": [
      "submitting replicate 1 of 6CM4\n"
     ]
    },
    {
     "name": "stderr",
     "output_type": "stream",
     "text": [
      "2021-10-26 14:34:04,479 - htmd.builder.builder - WARNING - Found cis peptide bond in 1 frames: [0] in the omega diheral \"Angle of (TYR 146 CA P0 P) (TYR 146 C P0 P) (SER 147 N P0 P) (SER 147 CA P0 P) \" with indexes [1982, 1999, 2001, 2003]\n",
      "2021-10-26 14:34:04,481 - htmd.builder.builder - WARNING - Found cis peptide bond in 1 frames: [0] in the omega diheral \"Angle of (ALA 185 CA P0 P) (ALA 185 C P0 P) (ASN 186 N P0 P) (ASN 186 CA P0 P) \" with indexes [2610, 2616, 2618, 2620]\n",
      "2021-10-26 14:34:05,743 - htmd.protocols.production_v6 - WARNING - Lipids detected in input structure. We highly recommend setting useconstantratio=True for membrane simulations.\n",
      "2021-10-26 14:34:06,480 - jobqueues.slurmqueue - INFO - Queueing /gpcr/users/daranda/doctorat/GPCR_simulations/simulation_output/production/6CM4/rep_1/\n"
     ]
    },
    {
     "name": "stdout",
     "output_type": "stream",
     "text": [
      "submitting replicate 2 of 6CM4\n"
     ]
    },
    {
     "name": "stderr",
     "output_type": "stream",
     "text": [
      "2021-10-26 14:34:40,803 - htmd.builder.builder - WARNING - Found cis peptide bond in 1 frames: [0] in the omega diheral \"Angle of (TYR 146 CA P0 P) (TYR 146 C P0 P) (SER 147 N P0 P) (SER 147 CA P0 P) \" with indexes [1982, 1999, 2001, 2003]\n",
      "2021-10-26 14:34:40,805 - htmd.builder.builder - WARNING - Found cis peptide bond in 1 frames: [0] in the omega diheral \"Angle of (ALA 185 CA P0 P) (ALA 185 C P0 P) (ASN 186 N P0 P) (ASN 186 CA P0 P) \" with indexes [2610, 2616, 2618, 2620]\n",
      "2021-10-26 14:34:42,066 - htmd.protocols.production_v6 - WARNING - Lipids detected in input structure. We highly recommend setting useconstantratio=True for membrane simulations.\n",
      "2021-10-26 14:34:42,449 - jobqueues.slurmqueue - INFO - Queueing /gpcr/users/daranda/doctorat/GPCR_simulations/simulation_output/production/6CM4/rep_2/\n"
     ]
    },
    {
     "name": "stdout",
     "output_type": "stream",
     "text": [
      "submitting replicate 3 of 6CM4\n"
     ]
    },
    {
     "name": "stderr",
     "output_type": "stream",
     "text": [
      "2021-10-26 14:35:16,324 - htmd.builder.builder - WARNING - Found cis peptide bond in 1 frames: [0] in the omega diheral \"Angle of (TYR 146 CA P0 P) (TYR 146 C P0 P) (SER 147 N P0 P) (SER 147 CA P0 P) \" with indexes [1982, 1999, 2001, 2003]\n",
      "2021-10-26 14:35:16,326 - htmd.builder.builder - WARNING - Found cis peptide bond in 1 frames: [0] in the omega diheral \"Angle of (ALA 185 CA P0 P) (ALA 185 C P0 P) (ASN 186 N P0 P) (ASN 186 CA P0 P) \" with indexes [2610, 2616, 2618, 2620]\n",
      "2021-10-26 14:35:17,595 - htmd.protocols.production_v6 - WARNING - Lipids detected in input structure. We highly recommend setting useconstantratio=True for membrane simulations.\n",
      "2021-10-26 14:35:17,962 - jobqueues.slurmqueue - INFO - Queueing /gpcr/users/daranda/doctorat/GPCR_simulations/simulation_output/production/6CM4/rep_3/\n"
     ]
    },
    {
     "name": "stdout",
     "output_type": "stream",
     "text": [
      "replicate 1 of structure 6TP4 already has been simulated\n",
      "replicate 2 of structure 6TP4 already has been simulated\n",
      "replicate 3 of structure 6TP4 already has been simulated\n",
      "replicate 1 of structure 6TP4 already has been simulated\n",
      "replicate 2 of structure 6TP4 already has been simulated\n",
      "replicate 3 of structure 6TP4 already has been simulated\n",
      "replicate 1 of structure 5NM2 already has been simulated\n",
      "replicate 2 of structure 5NM2 already has been simulated\n",
      "replicate 3 of structure 5NM2 already has been simulated\n",
      "replicate 1 of structure 5NM2 already has been simulated\n",
      "replicate 2 of structure 5NM2 already has been simulated\n",
      "replicate 3 of structure 5NM2 already has been simulated\n",
      "replicate 1 of structure 6C1R already has been simulated\n",
      "replicate 2 of structure 6C1R already has been simulated\n",
      "replicate 3 of structure 6C1R already has been simulated\n",
      "replicate 1 of structure 6C1R already has been simulated\n",
      "replicate 2 of structure 6C1R already has been simulated\n",
      "replicate 3 of structure 6C1R already has been simulated\n",
      "replicate 1 of structure 5UNG already has been simulated\n",
      "replicate 2 of structure 5UNG already has been simulated\n",
      "replicate 3 of structure 5UNG already has been simulated\n",
      "replicate 1 of structure 5UNG already has been simulated\n",
      "replicate 2 of structure 5UNG already has been simulated\n",
      "replicate 3 of structure 5UNG already has been simulated\n",
      "replicate 1 of structure 5T1A already has been simulated\n",
      "replicate 2 of structure 5T1A already has been simulated\n",
      "replicate 3 of structure 5T1A already has been simulated\n",
      "replicate 1 of structure 5T1A already has been simulated\n",
      "replicate 2 of structure 5T1A already has been simulated\n",
      "replicate 3 of structure 5T1A already has been simulated\n",
      "replicate 1 of structure 5X93 already has been simulated\n",
      "replicate 2 of structure 5X93 already has been simulated\n",
      "replicate 3 of structure 5X93 already has been simulated\n",
      "replicate 1 of structure 5X93 already has been simulated\n",
      "replicate 2 of structure 5X93 already has been simulated\n",
      "replicate 3 of structure 5X93 already has been simulated\n",
      "replicate 1 of structure 5ZBQ already has been simulated\n",
      "replicate 2 of structure 5ZBQ already has been simulated\n",
      "replicate 3 of structure 5ZBQ already has been simulated\n",
      "replicate 1 of structure 5ZBQ already has been simulated\n",
      "replicate 2 of structure 5ZBQ already has been simulated\n",
      "replicate 3 of structure 5ZBQ already has been simulated\n",
      "replicate 1 of structure 6IIU already has been simulated\n",
      "replicate 2 of structure 6IIU already has been simulated\n",
      "replicate 3 of structure 6IIU already has been simulated\n",
      "replicate 1 of structure 6IIU already has been simulated\n",
      "replicate 2 of structure 6IIU already has been simulated\n",
      "replicate 3 of structure 6IIU already has been simulated\n",
      "replicate 1 of structure 6ME8 already has been simulated\n",
      "replicate 2 of structure 6ME8 already has been simulated\n",
      "replicate 3 of structure 6ME8 already has been simulated\n",
      "replicate 1 of structure 6ME8 already has been simulated\n",
      "replicate 2 of structure 6ME8 already has been simulated\n",
      "replicate 3 of structure 6ME8 already has been simulated\n",
      "replicate 1 of structure 6PS3 already has been simulated\n",
      "replicate 2 of structure 6PS3 already has been simulated\n",
      "replicate 3 of structure 6PS3 already has been simulated\n",
      "replicate 1 of structure 6PS3 already has been simulated\n",
      "replicate 2 of structure 6PS3 already has been simulated\n",
      "replicate 3 of structure 6PS3 already has been simulated\n",
      "replicate 1 of structure 6E59 already has been simulated\n",
      "replicate 2 of structure 6E59 already has been simulated\n",
      "replicate 3 of structure 6E59 already has been simulated\n",
      "replicate 1 of structure 6E59 already has been simulated\n",
      "replicate 2 of structure 6E59 already has been simulated\n",
      "replicate 3 of structure 6E59 already has been simulated\n",
      "replicate 1 of structure 6FFI already has been simulated\n",
      "replicate 2 of structure 6FFI already has been simulated\n",
      "replicate 3 of structure 6FFI already has been simulated\n",
      "replicate 1 of structure 6FFI already has been simulated\n",
      "replicate 2 of structure 6FFI already has been simulated\n",
      "replicate 3 of structure 6FFI already has been simulated\n",
      "replicate 1 of structure 6M9T already has been simulated\n",
      "replicate 2 of structure 6M9T already has been simulated\n",
      "replicate 3 of structure 6M9T already has been simulated\n",
      "replicate 1 of structure 6M9T already has been simulated\n",
      "replicate 2 of structure 6M9T already has been simulated\n",
      "replicate 3 of structure 6M9T already has been simulated\n",
      "submitting replicate 1 of 6LW5\n"
     ]
    },
    {
     "name": "stderr",
     "output_type": "stream",
     "text": [
      "2021-10-26 14:35:49,784 - htmd.protocols.production_v6 - WARNING - Lipids detected in input structure. We highly recommend setting useconstantratio=True for membrane simulations.\n",
      "2021-10-26 14:35:50,438 - jobqueues.slurmqueue - INFO - Queueing /gpcr/users/daranda/doctorat/GPCR_simulations/simulation_output/production/6LW5_apo/rep_1/\n"
     ]
    },
    {
     "name": "stdout",
     "output_type": "stream",
     "text": [
      "submitting replicate 2 of 6LW5\n"
     ]
    },
    {
     "name": "stderr",
     "output_type": "stream",
     "text": [
      "2021-10-26 14:36:21,767 - htmd.protocols.production_v6 - WARNING - Lipids detected in input structure. We highly recommend setting useconstantratio=True for membrane simulations.\n",
      "2021-10-26 14:36:22,036 - jobqueues.slurmqueue - INFO - Queueing /gpcr/users/daranda/doctorat/GPCR_simulations/simulation_output/production/6LW5_apo/rep_2/\n"
     ]
    },
    {
     "name": "stdout",
     "output_type": "stream",
     "text": [
      "submitting replicate 3 of 6LW5\n"
     ]
    },
    {
     "name": "stderr",
     "output_type": "stream",
     "text": [
      "2021-10-26 14:36:53,094 - htmd.protocols.production_v6 - WARNING - Lipids detected in input structure. We highly recommend setting useconstantratio=True for membrane simulations.\n",
      "2021-10-26 14:36:53,366 - jobqueues.slurmqueue - INFO - Queueing /gpcr/users/daranda/doctorat/GPCR_simulations/simulation_output/production/6LW5_apo/rep_3/\n"
     ]
    },
    {
     "name": "stdout",
     "output_type": "stream",
     "text": [
      "submitting replicate 1 of 6LW5\n"
     ]
    },
    {
     "name": "stderr",
     "output_type": "stream",
     "text": [
      "2021-10-26 14:37:25,313 - htmd.protocols.production_v6 - WARNING - Lipids detected in input structure. We highly recommend setting useconstantratio=True for membrane simulations.\n",
      "2021-10-26 14:37:26,169 - jobqueues.slurmqueue - INFO - Queueing /gpcr/users/daranda/doctorat/GPCR_simulations/simulation_output/production/6LW5/rep_1/\n"
     ]
    },
    {
     "name": "stdout",
     "output_type": "stream",
     "text": [
      "submitting replicate 2 of 6LW5\n"
     ]
    },
    {
     "name": "stderr",
     "output_type": "stream",
     "text": [
      "2021-10-26 14:37:58,243 - htmd.protocols.production_v6 - WARNING - Lipids detected in input structure. We highly recommend setting useconstantratio=True for membrane simulations.\n",
      "2021-10-26 14:37:58,555 - jobqueues.slurmqueue - INFO - Queueing /gpcr/users/daranda/doctorat/GPCR_simulations/simulation_output/production/6LW5/rep_2/\n"
     ]
    },
    {
     "name": "stdout",
     "output_type": "stream",
     "text": [
      "submitting replicate 3 of 6LW5\n"
     ]
    },
    {
     "name": "stderr",
     "output_type": "stream",
     "text": [
      "2021-10-26 14:38:29,719 - htmd.protocols.production_v6 - WARNING - Lipids detected in input structure. We highly recommend setting useconstantratio=True for membrane simulations.\n",
      "2021-10-26 14:38:30,032 - jobqueues.slurmqueue - INFO - Queueing /gpcr/users/daranda/doctorat/GPCR_simulations/simulation_output/production/6LW5/rep_3/\n"
     ]
    },
    {
     "name": "stdout",
     "output_type": "stream",
     "text": [
      "replicate 1 of structure 6TQ4 already has been simulated\n",
      "replicate 2 of structure 6TQ4 already has been simulated\n",
      "replicate 3 of structure 6TQ4 already has been simulated\n",
      "replicate 1 of structure 6TQ4 already has been simulated\n",
      "replicate 2 of structure 6TQ4 already has been simulated\n",
      "replicate 3 of structure 6TQ4 already has been simulated\n",
      "replicate 1 of structure 4XES already has been simulated\n",
      "replicate 2 of structure 4XES already has been simulated\n",
      "replicate 3 of structure 4XES already has been simulated\n",
      "replicate 1 of structure 4XES already has been simulated\n",
      "replicate 2 of structure 4XES already has been simulated\n",
      "replicate 3 of structure 4XES already has been simulated\n",
      "replicate 1 of structure 5MZP already has been simulated\n",
      "replicate 2 of structure 5MZP already has been simulated\n",
      "replicate 3 of structure 5MZP already has been simulated\n",
      "replicate 1 of structure 5MZP already has been simulated\n",
      "replicate 2 of structure 5MZP already has been simulated\n",
      "replicate 3 of structure 5MZP already has been simulated\n",
      "replicate 1 of structure 6FKA already has been simulated\n",
      "replicate 2 of structure 6FKA already has been simulated\n",
      "replicate 3 of structure 6FKA already has been simulated\n",
      "replicate 1 of structure 6FKA already has been simulated\n",
      "replicate 2 of structure 6FKA already has been simulated\n",
      "replicate 3 of structure 6FKA already has been simulated\n",
      "replicate 1 of structure 6TQ9 already has been simulated\n",
      "replicate 2 of structure 6TQ9 already has been simulated\n",
      "replicate 3 of structure 6TQ9 already has been simulated\n",
      "replicate 1 of structure 6TQ9 already has been simulated\n",
      "replicate 2 of structure 6TQ9 already has been simulated\n",
      "replicate 3 of structure 6TQ9 already has been simulated\n",
      "replicate 1 of structure 5K2B already has been simulated\n",
      "replicate 2 of structure 5K2B already has been simulated\n",
      "replicate 3 of structure 5K2B already has been simulated\n",
      "replicate 1 of structure 5K2B already has been simulated\n",
      "replicate 2 of structure 5K2B already has been simulated\n",
      "replicate 3 of structure 5K2B already has been simulated\n",
      "replicate 1 of structure 6D27 already has been simulated\n",
      "replicate 2 of structure 6D27 already has been simulated\n",
      "replicate 3 of structure 6D27 already has been simulated\n",
      "replicate 1 of structure 6D27 already has been simulated\n",
      "replicate 2 of structure 6D27 already has been simulated\n",
      "replicate 3 of structure 6D27 already has been simulated\n",
      "replicate 1 of structure 3C9M already has been simulated\n",
      "replicate 2 of structure 3C9M already has been simulated\n",
      "replicate 3 of structure 3C9M already has been simulated\n",
      "replicate 1 of structure 3C9M already has been simulated\n",
      "replicate 2 of structure 3C9M already has been simulated\n",
      "replicate 3 of structure 3C9M already has been simulated\n",
      "replicate 1 of structure 6AK3 already has been simulated\n",
      "replicate 2 of structure 6AK3 already has been simulated\n",
      "replicate 3 of structure 6AK3 already has been simulated\n",
      "replicate 1 of structure 6AK3 already has been simulated\n",
      "replicate 2 of structure 6AK3 already has been simulated\n",
      "replicate 3 of structure 6AK3 already has been simulated\n",
      "replicate 1 of structure 2YCZ already has been simulated\n",
      "replicate 2 of structure 2YCZ already has been simulated\n",
      "replicate 3 of structure 2YCZ already has been simulated\n",
      "replicate 1 of structure 2YCZ already has been simulated\n",
      "replicate 2 of structure 2YCZ already has been simulated\n",
      "replicate 3 of structure 2YCZ already has been simulated\n",
      "replicate 1 of structure 6PS2 already has been simulated\n",
      "replicate 2 of structure 6PS2 already has been simulated\n",
      "replicate 3 of structure 6PS2 already has been simulated\n",
      "replicate 1 of structure 6PS2 already has been simulated\n",
      "replicate 2 of structure 6PS2 already has been simulated\n",
      "replicate 3 of structure 6PS2 already has been simulated\n",
      "replicate 1 of structure 6AKY already has been simulated\n",
      "replicate 2 of structure 6AKY already has been simulated\n",
      "replicate 3 of structure 6AKY already has been simulated\n",
      "replicate 1 of structure 6AKY already has been simulated\n",
      "replicate 2 of structure 6AKY already has been simulated\n",
      "replicate 3 of structure 6AKY already has been simulated\n",
      "replicate 1 of structure 6D26 already has been simulated\n",
      "replicate 2 of structure 6D26 already has been simulated\n",
      "replicate 3 of structure 6D26 already has been simulated\n",
      "replicate 1 of structure 6D26 already has been simulated\n",
      "replicate 2 of structure 6D26 already has been simulated\n",
      "replicate 3 of structure 6D26 already has been simulated\n",
      "replicate 1 of structure 5O9H already has been simulated\n",
      "replicate 2 of structure 5O9H already has been simulated\n",
      "replicate 3 of structure 5O9H already has been simulated\n",
      "replicate 1 of structure 5O9H already has been simulated\n",
      "replicate 2 of structure 5O9H already has been simulated\n",
      "replicate 3 of structure 5O9H already has been simulated\n",
      "replicate 1 of structure 5F8U already has been simulated\n",
      "replicate 2 of structure 5F8U already has been simulated\n",
      "replicate 3 of structure 5F8U already has been simulated\n",
      "replicate 1 of structure 5F8U already has been simulated\n",
      "replicate 2 of structure 5F8U already has been simulated\n",
      "replicate 3 of structure 5F8U already has been simulated\n",
      "replicate 1 of structure 5JTB already has been simulated\n",
      "replicate 2 of structure 5JTB already has been simulated\n",
      "replicate 3 of structure 5JTB already has been simulated\n",
      "replicate 1 of structure 5JTB already has been simulated\n",
      "replicate 2 of structure 5JTB already has been simulated\n",
      "replicate 3 of structure 5JTB already has been simulated\n",
      "replicate 1 of structure 5ZKQ already has been simulated\n",
      "replicate 2 of structure 5ZKQ already has been simulated\n",
      "replicate 3 of structure 5ZKQ already has been simulated\n",
      "replicate 1 of structure 5ZKQ already has been simulated\n",
      "replicate 2 of structure 5ZKQ already has been simulated\n",
      "replicate 3 of structure 5ZKQ already has been simulated\n",
      "submitting replicate 1 of 6GPS\n"
     ]
    },
    {
     "name": "stderr",
     "output_type": "stream",
     "text": [
      "2021-10-26 14:38:56,927 - htmd.protocols.production_v6 - WARNING - Lipids detected in input structure. We highly recommend setting useconstantratio=True for membrane simulations.\n",
      "2021-10-26 14:38:57,853 - jobqueues.slurmqueue - INFO - Queueing /gpcr/users/daranda/doctorat/GPCR_simulations/simulation_output/production/6GPS_apo/rep_1/\n"
     ]
    },
    {
     "name": "stdout",
     "output_type": "stream",
     "text": [
      "submitting replicate 2 of 6GPS\n"
     ]
    },
    {
     "name": "stderr",
     "output_type": "stream",
     "text": [
      "2021-10-26 14:39:24,726 - htmd.protocols.production_v6 - WARNING - Lipids detected in input structure. We highly recommend setting useconstantratio=True for membrane simulations.\n",
      "2021-10-26 14:39:24,971 - jobqueues.slurmqueue - INFO - Queueing /gpcr/users/daranda/doctorat/GPCR_simulations/simulation_output/production/6GPS_apo/rep_2/\n"
     ]
    },
    {
     "name": "stdout",
     "output_type": "stream",
     "text": [
      "submitting replicate 3 of 6GPS\n"
     ]
    },
    {
     "name": "stderr",
     "output_type": "stream",
     "text": [
      "2021-10-26 14:39:51,700 - htmd.protocols.production_v6 - WARNING - Lipids detected in input structure. We highly recommend setting useconstantratio=True for membrane simulations.\n",
      "2021-10-26 14:39:51,941 - jobqueues.slurmqueue - INFO - Queueing /gpcr/users/daranda/doctorat/GPCR_simulations/simulation_output/production/6GPS_apo/rep_3/\n"
     ]
    },
    {
     "name": "stdout",
     "output_type": "stream",
     "text": [
      "submitting replicate 1 of 6GPS\n"
     ]
    },
    {
     "name": "stderr",
     "output_type": "stream",
     "text": [
      "2021-10-26 14:40:19,199 - htmd.protocols.production_v6 - WARNING - Lipids detected in input structure. We highly recommend setting useconstantratio=True for membrane simulations.\n",
      "2021-10-26 14:40:19,885 - jobqueues.slurmqueue - INFO - Queueing /gpcr/users/daranda/doctorat/GPCR_simulations/simulation_output/production/6GPS/rep_1/\n"
     ]
    },
    {
     "name": "stdout",
     "output_type": "stream",
     "text": [
      "submitting replicate 2 of 6GPS\n"
     ]
    },
    {
     "name": "stderr",
     "output_type": "stream",
     "text": [
      "2021-10-26 14:40:47,127 - htmd.protocols.production_v6 - WARNING - Lipids detected in input structure. We highly recommend setting useconstantratio=True for membrane simulations.\n",
      "2021-10-26 14:40:47,401 - jobqueues.slurmqueue - INFO - Queueing /gpcr/users/daranda/doctorat/GPCR_simulations/simulation_output/production/6GPS/rep_2/\n"
     ]
    },
    {
     "name": "stdout",
     "output_type": "stream",
     "text": [
      "submitting replicate 3 of 6GPS\n"
     ]
    },
    {
     "name": "stderr",
     "output_type": "stream",
     "text": [
      "2021-10-26 14:41:13,435 - htmd.protocols.production_v6 - WARNING - Lipids detected in input structure. We highly recommend setting useconstantratio=True for membrane simulations.\n",
      "2021-10-26 14:41:13,707 - jobqueues.slurmqueue - INFO - Queueing /gpcr/users/daranda/doctorat/GPCR_simulations/simulation_output/production/6GPS/rep_3/\n"
     ]
    },
    {
     "name": "stdout",
     "output_type": "stream",
     "text": [
      "replicate 1 of structure 5OM4 already has been simulated\n",
      "replicate 2 of structure 5OM4 already has been simulated\n",
      "replicate 3 of structure 5OM4 already has been simulated\n",
      "replicate 1 of structure 5OM4 already has been simulated\n",
      "replicate 2 of structure 5OM4 already has been simulated\n",
      "replicate 3 of structure 5OM4 already has been simulated\n",
      "replicate 1 of structure 6FFH already has been simulated\n",
      "replicate 2 of structure 6FFH already has been simulated\n",
      "replicate 3 of structure 6FFH already has been simulated\n",
      "replicate 1 of structure 6FFH already has been simulated\n",
      "replicate 2 of structure 6FFH already has been simulated\n",
      "replicate 3 of structure 6FFH already has been simulated\n",
      "replicate 1 of structure 5NX2 already has been simulated\n",
      "replicate 2 of structure 5NX2 already has been simulated\n",
      "replicate 3 of structure 5NX2 already has been simulated\n",
      "replicate 1 of structure 5NX2 already has been simulated\n",
      "replicate 2 of structure 5NX2 already has been simulated\n",
      "replicate 3 of structure 5NX2 already has been simulated\n",
      "submitting replicate 1 of 6FK9\n"
     ]
    },
    {
     "name": "stderr",
     "output_type": "stream",
     "text": [
      "2021-10-26 14:41:45,858 - htmd.protocols.production_v6 - WARNING - Lipids detected in input structure. We highly recommend setting useconstantratio=True for membrane simulations.\n",
      "2021-10-26 14:41:46,527 - jobqueues.slurmqueue - INFO - Queueing /gpcr/users/daranda/doctorat/GPCR_simulations/simulation_output/production/6FK9_apo/rep_1/\n"
     ]
    },
    {
     "name": "stdout",
     "output_type": "stream",
     "text": [
      "submitting replicate 2 of 6FK9\n"
     ]
    },
    {
     "name": "stderr",
     "output_type": "stream",
     "text": [
      "2021-10-26 14:42:18,498 - htmd.protocols.production_v6 - WARNING - Lipids detected in input structure. We highly recommend setting useconstantratio=True for membrane simulations.\n",
      "2021-10-26 14:42:18,774 - jobqueues.slurmqueue - INFO - Queueing /gpcr/users/daranda/doctorat/GPCR_simulations/simulation_output/production/6FK9_apo/rep_2/\n"
     ]
    },
    {
     "name": "stdout",
     "output_type": "stream",
     "text": [
      "replicate 3 of structure 6FK9 already has been simulated\n",
      "submitting replicate 1 of 6FK9\n"
     ]
    },
    {
     "name": "stderr",
     "output_type": "stream",
     "text": [
      "2021-10-26 14:42:51,362 - htmd.protocols.production_v6 - WARNING - Lipids detected in input structure. We highly recommend setting useconstantratio=True for membrane simulations.\n",
      "2021-10-26 14:42:52,106 - jobqueues.slurmqueue - INFO - Queueing /gpcr/users/daranda/doctorat/GPCR_simulations/simulation_output/production/6FK9/rep_1/\n"
     ]
    },
    {
     "name": "stdout",
     "output_type": "stream",
     "text": [
      "replicate 2 of structure 6FK9 already has been simulated\n",
      "replicate 3 of structure 6FK9 already has been simulated\n",
      "replicate 1 of structure 6FKB already has been simulated\n",
      "replicate 2 of structure 6FKB already has been simulated\n",
      "replicate 3 of structure 6FKB already has been simulated\n",
      "replicate 1 of structure 6FKB already has been simulated\n",
      "replicate 2 of structure 6FKB already has been simulated\n",
      "replicate 3 of structure 6FKB already has been simulated\n",
      "submitting replicate 1 of 5NM4\n"
     ]
    },
    {
     "name": "stderr",
     "output_type": "stream",
     "text": [
      "2021-10-26 14:43:28,254 - htmd.builder.builder - WARNING - Found cis peptide bond in 1 frames: [0] in the omega diheral \"Angle of (LEU 216 CA P P) (LEU 216 C P P) (PRO 217 N P P) (PRO 217 CA P P) \" with indexes [3337, 3352, 3354, 3358]\n",
      "2021-10-26 14:43:28,255 - htmd.builder.builder - WARNING - Found cis peptide bond in 1 frames: [0] in the omega diheral \"Angle of (PRO 217 CA P P) (PRO 217 C P P) (GLY 218 N P P) (GLY 218 CA P P) \" with indexes [3358, 3366, 3368, 3370]\n",
      "2021-10-26 14:43:29,471 - htmd.protocols.production_v6 - WARNING - Lipids detected in input structure. We highly recommend setting useconstantratio=True for membrane simulations.\n",
      "2021-10-26 14:43:30,197 - jobqueues.slurmqueue - INFO - Queueing /gpcr/users/daranda/doctorat/GPCR_simulations/simulation_output/production/5NM4_apo/rep_1/\n"
     ]
    },
    {
     "name": "stdout",
     "output_type": "stream",
     "text": [
      "submitting replicate 2 of 5NM4\n"
     ]
    },
    {
     "name": "stderr",
     "output_type": "stream",
     "text": [
      "2021-10-26 14:44:05,425 - htmd.builder.builder - WARNING - Found cis peptide bond in 1 frames: [0] in the omega diheral \"Angle of (LEU 216 CA P P) (LEU 216 C P P) (PRO 217 N P P) (PRO 217 CA P P) \" with indexes [3337, 3352, 3354, 3358]\n",
      "2021-10-26 14:44:05,427 - htmd.builder.builder - WARNING - Found cis peptide bond in 1 frames: [0] in the omega diheral \"Angle of (PRO 217 CA P P) (PRO 217 C P P) (GLY 218 N P P) (GLY 218 CA P P) \" with indexes [3358, 3366, 3368, 3370]\n",
      "2021-10-26 14:44:06,760 - htmd.protocols.production_v6 - WARNING - Lipids detected in input structure. We highly recommend setting useconstantratio=True for membrane simulations.\n",
      "2021-10-26 14:44:07,081 - jobqueues.slurmqueue - INFO - Queueing /gpcr/users/daranda/doctorat/GPCR_simulations/simulation_output/production/5NM4_apo/rep_2/\n"
     ]
    },
    {
     "name": "stdout",
     "output_type": "stream",
     "text": [
      "submitting replicate 3 of 5NM4\n"
     ]
    },
    {
     "name": "stderr",
     "output_type": "stream",
     "text": [
      "2021-10-26 14:44:43,210 - htmd.builder.builder - WARNING - Found cis peptide bond in 1 frames: [0] in the omega diheral \"Angle of (LEU 216 CA P P) (LEU 216 C P P) (PRO 217 N P P) (PRO 217 CA P P) \" with indexes [3337, 3352, 3354, 3358]\n",
      "2021-10-26 14:44:43,212 - htmd.builder.builder - WARNING - Found cis peptide bond in 1 frames: [0] in the omega diheral \"Angle of (PRO 217 CA P P) (PRO 217 C P P) (GLY 218 N P P) (GLY 218 CA P P) \" with indexes [3358, 3366, 3368, 3370]\n",
      "2021-10-26 14:44:44,547 - htmd.protocols.production_v6 - WARNING - Lipids detected in input structure. We highly recommend setting useconstantratio=True for membrane simulations.\n",
      "2021-10-26 14:44:44,872 - jobqueues.slurmqueue - INFO - Queueing /gpcr/users/daranda/doctorat/GPCR_simulations/simulation_output/production/5NM4_apo/rep_3/\n"
     ]
    },
    {
     "name": "stdout",
     "output_type": "stream",
     "text": [
      "submitting replicate 1 of 5NM4\n"
     ]
    },
    {
     "name": "stderr",
     "output_type": "stream",
     "text": [
      "2021-10-26 14:45:20,654 - htmd.builder.builder - WARNING - Found cis peptide bond in 1 frames: [0] in the omega diheral \"Angle of (LEU 216 CA P P) (LEU 216 C P P) (PRO 217 N P P) (PRO 217 CA P P) \" with indexes [3526, 3541, 3543, 3547]\n",
      "2021-10-26 14:45:20,656 - htmd.builder.builder - WARNING - Found cis peptide bond in 1 frames: [0] in the omega diheral \"Angle of (PRO 217 CA P P) (PRO 217 C P P) (GLY 218 N P P) (GLY 218 CA P P) \" with indexes [3547, 3555, 3557, 3559]\n",
      "2021-10-26 14:45:21,896 - htmd.protocols.production_v6 - WARNING - Lipids detected in input structure. We highly recommend setting useconstantratio=True for membrane simulations.\n",
      "2021-10-26 14:45:22,703 - jobqueues.slurmqueue - INFO - Queueing /gpcr/users/daranda/doctorat/GPCR_simulations/simulation_output/production/5NM4/rep_1/\n"
     ]
    },
    {
     "name": "stdout",
     "output_type": "stream",
     "text": [
      "submitting replicate 2 of 5NM4\n"
     ]
    },
    {
     "name": "stderr",
     "output_type": "stream",
     "text": [
      "2021-10-26 14:46:03,244 - htmd.builder.builder - WARNING - Found cis peptide bond in 1 frames: [0] in the omega diheral \"Angle of (LEU 216 CA P P) (LEU 216 C P P) (PRO 217 N P P) (PRO 217 CA P P) \" with indexes [3526, 3541, 3543, 3547]\n",
      "2021-10-26 14:46:03,246 - htmd.builder.builder - WARNING - Found cis peptide bond in 1 frames: [0] in the omega diheral \"Angle of (PRO 217 CA P P) (PRO 217 C P P) (GLY 218 N P P) (GLY 218 CA P P) \" with indexes [3547, 3555, 3557, 3559]\n",
      "2021-10-26 14:46:04,456 - htmd.protocols.production_v6 - WARNING - Lipids detected in input structure. We highly recommend setting useconstantratio=True for membrane simulations.\n",
      "2021-10-26 14:46:04,823 - jobqueues.slurmqueue - INFO - Queueing /gpcr/users/daranda/doctorat/GPCR_simulations/simulation_output/production/5NM4/rep_2/\n"
     ]
    },
    {
     "name": "stdout",
     "output_type": "stream",
     "text": [
      "submitting replicate 3 of 5NM4\n"
     ]
    },
    {
     "name": "stderr",
     "output_type": "stream",
     "text": [
      "2021-10-26 14:46:40,953 - htmd.builder.builder - WARNING - Found cis peptide bond in 1 frames: [0] in the omega diheral \"Angle of (LEU 216 CA P P) (LEU 216 C P P) (PRO 217 N P P) (PRO 217 CA P P) \" with indexes [3526, 3541, 3543, 3547]\n",
      "2021-10-26 14:46:40,955 - htmd.builder.builder - WARNING - Found cis peptide bond in 1 frames: [0] in the omega diheral \"Angle of (PRO 217 CA P P) (PRO 217 C P P) (GLY 218 N P P) (GLY 218 CA P P) \" with indexes [3547, 3555, 3557, 3559]\n",
      "2021-10-26 14:46:42,285 - htmd.protocols.production_v6 - WARNING - Lipids detected in input structure. We highly recommend setting useconstantratio=True for membrane simulations.\n",
      "2021-10-26 14:46:42,641 - jobqueues.slurmqueue - INFO - Queueing /gpcr/users/daranda/doctorat/GPCR_simulations/simulation_output/production/5NM4/rep_3/\n"
     ]
    },
    {
     "name": "stdout",
     "output_type": "stream",
     "text": [
      "replicate 1 of structure 4XT3 already has been simulated\n",
      "replicate 2 of structure 4XT3 already has been simulated\n",
      "replicate 3 of structure 4XT3 already has been simulated\n",
      "replicate 1 of structure 4XT3 already has been simulated\n",
      "replicate 2 of structure 4XT3 already has been simulated\n",
      "replicate 3 of structure 4XT3 already has been simulated\n",
      "replicate 1 of structure 6TOT already has been simulated\n",
      "replicate 2 of structure 6TOT already has been simulated\n",
      "replicate 3 of structure 6TOT already has been simulated\n",
      "replicate 1 of structure 6TOT already has been simulated\n",
      "replicate 2 of structure 6TOT already has been simulated\n",
      "replicate 3 of structure 6TOT already has been simulated\n",
      "replicate 1 of structure 6D32 already has been simulated\n",
      "replicate 2 of structure 6D32 already has been simulated\n",
      "replicate 3 of structure 6D32 already has been simulated\n",
      "replicate 1 of structure 6D32 already has been simulated\n",
      "replicate 2 of structure 6D32 already has been simulated\n",
      "replicate 3 of structure 6D32 already has been simulated\n",
      "replicate 1 of structure 5OM1 already has been simulated\n",
      "replicate 2 of structure 5OM1 already has been simulated\n",
      "replicate 3 of structure 5OM1 already has been simulated\n",
      "replicate 1 of structure 5OM1 already has been simulated\n",
      "replicate 2 of structure 5OM1 already has been simulated\n",
      "replicate 3 of structure 5OM1 already has been simulated\n",
      "replicate 1 of structure 5VEX already has been simulated\n",
      "replicate 2 of structure 5VEX already has been simulated\n",
      "replicate 3 of structure 5VEX already has been simulated\n",
      "replicate 1 of structure 5VEX already has been simulated\n",
      "replicate 2 of structure 5VEX already has been simulated\n",
      "replicate 3 of structure 5VEX already has been simulated\n",
      "submitting replicate 1 of 5XSZ\n"
     ]
    },
    {
     "name": "stderr",
     "output_type": "stream",
     "text": [
      "2021-10-26 14:47:12,302 - htmd.protocols.production_v6 - WARNING - Lipids detected in input structure. We highly recommend setting useconstantratio=True for membrane simulations.\n",
      "2021-10-26 14:47:12,870 - jobqueues.slurmqueue - INFO - Queueing /gpcr/users/daranda/doctorat/GPCR_simulations/simulation_output/production/5XSZ_apo/rep_1/\n"
     ]
    },
    {
     "name": "stdout",
     "output_type": "stream",
     "text": [
      "submitting replicate 2 of 5XSZ\n"
     ]
    },
    {
     "name": "stderr",
     "output_type": "stream",
     "text": [
      "2021-10-26 14:47:42,399 - htmd.protocols.production_v6 - WARNING - Lipids detected in input structure. We highly recommend setting useconstantratio=True for membrane simulations.\n",
      "2021-10-26 14:47:42,683 - jobqueues.slurmqueue - INFO - Queueing /gpcr/users/daranda/doctorat/GPCR_simulations/simulation_output/production/5XSZ_apo/rep_2/\n"
     ]
    },
    {
     "name": "stdout",
     "output_type": "stream",
     "text": [
      "submitting replicate 3 of 5XSZ\n"
     ]
    },
    {
     "name": "stderr",
     "output_type": "stream",
     "text": [
      "2021-10-26 14:48:12,331 - htmd.protocols.production_v6 - WARNING - Lipids detected in input structure. We highly recommend setting useconstantratio=True for membrane simulations.\n",
      "2021-10-26 14:48:12,594 - jobqueues.slurmqueue - INFO - Queueing /gpcr/users/daranda/doctorat/GPCR_simulations/simulation_output/production/5XSZ_apo/rep_3/\n"
     ]
    },
    {
     "name": "stdout",
     "output_type": "stream",
     "text": [
      "submitting replicate 1 of 5XSZ\n",
      "model 5XSZ could not be send to equilibrate because of  Could not locate file /gpcr/users/daranda/doctorat/GPCR_simulations/simulation_output//equil/5XSZ/structure.pdb set by the user for argument Production.acemd.coordinates\n",
      "submitting replicate 2 of 5XSZ\n",
      "model 5XSZ could not be send to equilibrate because of  Could not locate file /gpcr/users/daranda/doctorat/GPCR_simulations/simulation_output//equil/5XSZ/structure.pdb set by the user for argument Production.acemd.coordinates\n",
      "submitting replicate 3 of 5XSZ\n",
      "model 5XSZ could not be send to equilibrate because of  Could not locate file /gpcr/users/daranda/doctorat/GPCR_simulations/simulation_output//equil/5XSZ/structure.pdb set by the user for argument Production.acemd.coordinates\n",
      "replicate 1 of structure 6LI0 already has been simulated\n",
      "replicate 2 of structure 6LI0 already has been simulated\n",
      "replicate 3 of structure 6LI0 already has been simulated\n",
      "replicate 1 of structure 6LI0 already has been simulated\n",
      "replicate 2 of structure 6LI0 already has been simulated\n",
      "replicate 3 of structure 6LI0 already has been simulated\n",
      "replicate 1 of structure 6GT3 already has been simulated\n",
      "replicate 2 of structure 6GT3 already has been simulated\n",
      "replicate 3 of structure 6GT3 already has been simulated\n",
      "replicate 1 of structure 6GT3 already has been simulated\n",
      "replicate 2 of structure 6GT3 already has been simulated\n",
      "replicate 3 of structure 6GT3 already has been simulated\n",
      "submitting replicate 1 of 6GPX\n"
     ]
    },
    {
     "name": "stderr",
     "output_type": "stream",
     "text": [
      "2021-10-26 14:48:39,559 - htmd.protocols.production_v6 - WARNING - Lipids detected in input structure. We highly recommend setting useconstantratio=True for membrane simulations.\n",
      "2021-10-26 14:48:40,197 - jobqueues.slurmqueue - INFO - Queueing /gpcr/users/daranda/doctorat/GPCR_simulations/simulation_output/production/6GPX_apo/rep_1/\n"
     ]
    },
    {
     "name": "stdout",
     "output_type": "stream",
     "text": [
      "submitting replicate 2 of 6GPX\n"
     ]
    },
    {
     "name": "stderr",
     "output_type": "stream",
     "text": [
      "2021-10-26 14:49:06,779 - htmd.protocols.production_v6 - WARNING - Lipids detected in input structure. We highly recommend setting useconstantratio=True for membrane simulations.\n",
      "2021-10-26 14:49:07,022 - jobqueues.slurmqueue - INFO - Queueing /gpcr/users/daranda/doctorat/GPCR_simulations/simulation_output/production/6GPX_apo/rep_2/\n"
     ]
    },
    {
     "name": "stdout",
     "output_type": "stream",
     "text": [
      "submitting replicate 3 of 6GPX\n"
     ]
    },
    {
     "name": "stderr",
     "output_type": "stream",
     "text": [
      "2021-10-26 14:49:33,771 - htmd.protocols.production_v6 - WARNING - Lipids detected in input structure. We highly recommend setting useconstantratio=True for membrane simulations.\n",
      "2021-10-26 14:49:34,020 - jobqueues.slurmqueue - INFO - Queueing /gpcr/users/daranda/doctorat/GPCR_simulations/simulation_output/production/6GPX_apo/rep_3/\n"
     ]
    },
    {
     "name": "stdout",
     "output_type": "stream",
     "text": [
      "submitting replicate 1 of 6GPX\n"
     ]
    },
    {
     "name": "stderr",
     "output_type": "stream",
     "text": [
      "2021-10-26 14:50:01,380 - htmd.protocols.production_v6 - WARNING - Lipids detected in input structure. We highly recommend setting useconstantratio=True for membrane simulations.\n",
      "2021-10-26 14:50:02,568 - jobqueues.slurmqueue - INFO - Queueing /gpcr/users/daranda/doctorat/GPCR_simulations/simulation_output/production/6GPX/rep_1/\n"
     ]
    },
    {
     "name": "stdout",
     "output_type": "stream",
     "text": [
      "submitting replicate 2 of 6GPX\n"
     ]
    },
    {
     "name": "stderr",
     "output_type": "stream",
     "text": [
      "2021-10-26 14:50:28,347 - htmd.protocols.production_v6 - WARNING - Lipids detected in input structure. We highly recommend setting useconstantratio=True for membrane simulations.\n",
      "2021-10-26 14:50:28,617 - jobqueues.slurmqueue - INFO - Queueing /gpcr/users/daranda/doctorat/GPCR_simulations/simulation_output/production/6GPX/rep_2/\n"
     ]
    },
    {
     "name": "stdout",
     "output_type": "stream",
     "text": [
      "submitting replicate 3 of 6GPX\n"
     ]
    },
    {
     "name": "stderr",
     "output_type": "stream",
     "text": [
      "2021-10-26 14:50:54,838 - htmd.protocols.production_v6 - WARNING - Lipids detected in input structure. We highly recommend setting useconstantratio=True for membrane simulations.\n",
      "2021-10-26 14:50:55,109 - jobqueues.slurmqueue - INFO - Queueing /gpcr/users/daranda/doctorat/GPCR_simulations/simulation_output/production/6GPX/rep_3/\n"
     ]
    },
    {
     "name": "stdout",
     "output_type": "stream",
     "text": [
      "replicate 1 of structure 6RZ7 already has been simulated\n",
      "replicate 2 of structure 6RZ7 already has been simulated\n",
      "replicate 3 of structure 6RZ7 already has been simulated\n",
      "replicate 1 of structure 6RZ7 already has been simulated\n",
      "replicate 2 of structure 6RZ7 already has been simulated\n",
      "replicate 3 of structure 6RZ7 already has been simulated\n",
      "submitting replicate 1 of 6A94\n"
     ]
    },
    {
     "name": "stderr",
     "output_type": "stream",
     "text": [
      "2021-10-26 14:51:27,121 - htmd.protocols.production_v6 - WARNING - Lipids detected in input structure. We highly recommend setting useconstantratio=True for membrane simulations.\n",
      "2021-10-26 14:51:27,658 - jobqueues.slurmqueue - INFO - Queueing /gpcr/users/daranda/doctorat/GPCR_simulations/simulation_output/production/6A94_apo/rep_1/\n"
     ]
    },
    {
     "name": "stdout",
     "output_type": "stream",
     "text": [
      "submitting replicate 2 of 6A94\n"
     ]
    },
    {
     "name": "stderr",
     "output_type": "stream",
     "text": [
      "2021-10-26 14:51:53,837 - htmd.protocols.production_v6 - WARNING - Lipids detected in input structure. We highly recommend setting useconstantratio=True for membrane simulations.\n",
      "2021-10-26 14:51:54,077 - jobqueues.slurmqueue - INFO - Queueing /gpcr/users/daranda/doctorat/GPCR_simulations/simulation_output/production/6A94_apo/rep_2/\n"
     ]
    },
    {
     "name": "stdout",
     "output_type": "stream",
     "text": [
      "submitting replicate 3 of 6A94\n"
     ]
    },
    {
     "name": "stderr",
     "output_type": "stream",
     "text": [
      "2021-10-26 14:52:20,974 - htmd.protocols.production_v6 - WARNING - Lipids detected in input structure. We highly recommend setting useconstantratio=True for membrane simulations.\n",
      "2021-10-26 14:52:21,211 - jobqueues.slurmqueue - INFO - Queueing /gpcr/users/daranda/doctorat/GPCR_simulations/simulation_output/production/6A94_apo/rep_3/\n"
     ]
    },
    {
     "name": "stdout",
     "output_type": "stream",
     "text": [
      "submitting replicate 1 of 6A94\n"
     ]
    },
    {
     "name": "stderr",
     "output_type": "stream",
     "text": [
      "2021-10-26 14:52:48,037 - htmd.protocols.production_v6 - WARNING - Lipids detected in input structure. We highly recommend setting useconstantratio=True for membrane simulations.\n",
      "2021-10-26 14:52:48,630 - jobqueues.slurmqueue - INFO - Queueing /gpcr/users/daranda/doctorat/GPCR_simulations/simulation_output/production/6A94/rep_1/\n"
     ]
    },
    {
     "name": "stdout",
     "output_type": "stream",
     "text": [
      "submitting replicate 2 of 6A94\n"
     ]
    },
    {
     "name": "stderr",
     "output_type": "stream",
     "text": [
      "2021-10-26 14:53:14,757 - htmd.protocols.production_v6 - WARNING - Lipids detected in input structure. We highly recommend setting useconstantratio=True for membrane simulations.\n",
      "2021-10-26 14:53:15,022 - jobqueues.slurmqueue - INFO - Queueing /gpcr/users/daranda/doctorat/GPCR_simulations/simulation_output/production/6A94/rep_2/\n"
     ]
    },
    {
     "name": "stdout",
     "output_type": "stream",
     "text": [
      "submitting replicate 3 of 6A94\n"
     ]
    },
    {
     "name": "stderr",
     "output_type": "stream",
     "text": [
      "2021-10-26 14:53:41,391 - htmd.protocols.production_v6 - WARNING - Lipids detected in input structure. We highly recommend setting useconstantratio=True for membrane simulations.\n",
      "2021-10-26 14:53:41,658 - jobqueues.slurmqueue - INFO - Queueing /gpcr/users/daranda/doctorat/GPCR_simulations/simulation_output/production/6A94/rep_3/\n"
     ]
    },
    {
     "name": "stdout",
     "output_type": "stream",
     "text": [
      "replicate 1 of structure 6TPJ already has been simulated\n",
      "replicate 2 of structure 6TPJ already has been simulated\n",
      "replicate 3 of structure 6TPJ already has been simulated\n",
      "replicate 1 of structure 6TPJ already has been simulated\n",
      "replicate 2 of structure 6TPJ already has been simulated\n",
      "replicate 3 of structure 6TPJ already has been simulated\n",
      "replicate 1 of structure 6TOS already has been simulated\n",
      "replicate 2 of structure 6TOS already has been simulated\n",
      "replicate 3 of structure 6TOS already has been simulated\n",
      "replicate 1 of structure 6TOS already has been simulated\n",
      "replicate 2 of structure 6TOS already has been simulated\n",
      "replicate 3 of structure 6TOS already has been simulated\n",
      "replicate 1 of structure 5UIW already has been simulated\n",
      "replicate 2 of structure 5UIW already has been simulated\n",
      "replicate 3 of structure 5UIW already has been simulated\n",
      "submitting replicate 1 of 5UIW\n"
     ]
    },
    {
     "name": "stderr",
     "output_type": "stream",
     "text": [
      "2021-10-26 14:54:19,577 - htmd.protocols.production_v6 - WARNING - Lipids detected in input structure. We highly recommend setting useconstantratio=True for membrane simulations.\n",
      "2021-10-26 14:54:20,370 - jobqueues.slurmqueue - INFO - Queueing /gpcr/users/daranda/doctorat/GPCR_simulations/simulation_output/production/5UIW/rep_1/\n"
     ]
    },
    {
     "name": "stdout",
     "output_type": "stream",
     "text": [
      "replicate 2 of structure 5UIW already has been simulated\n",
      "replicate 3 of structure 5UIW already has been simulated\n",
      "submitting replicate 1 of 6J21\n"
     ]
    },
    {
     "name": "stderr",
     "output_type": "stream",
     "text": [
      "2021-10-26 14:54:53,109 - htmd.builder.builder - WARNING - Found cis peptide bond in 1 frames: [0] in the omega diheral \"Angle of (GLY 230 CA P P) (GLY 230 C P P) (ASP 231 N P P) (ASP 231 CA P P) \" with indexes [3366, 3369, 3371, 3373]\n",
      "2021-10-26 14:54:54,318 - htmd.protocols.production_v6 - WARNING - Lipids detected in input structure. We highly recommend setting useconstantratio=True for membrane simulations.\n",
      "2021-10-26 14:54:55,029 - jobqueues.slurmqueue - INFO - Queueing /gpcr/users/daranda/doctorat/GPCR_simulations/simulation_output/production/6J21_apo/rep_1/\n"
     ]
    },
    {
     "name": "stdout",
     "output_type": "stream",
     "text": [
      "submitting replicate 2 of 6J21\n"
     ]
    },
    {
     "name": "stderr",
     "output_type": "stream",
     "text": [
      "2021-10-26 14:55:28,624 - htmd.builder.builder - WARNING - Found cis peptide bond in 1 frames: [0] in the omega diheral \"Angle of (GLY 230 CA P P) (GLY 230 C P P) (ASP 231 N P P) (ASP 231 CA P P) \" with indexes [3366, 3369, 3371, 3373]\n",
      "2021-10-26 14:55:29,851 - htmd.protocols.production_v6 - WARNING - Lipids detected in input structure. We highly recommend setting useconstantratio=True for membrane simulations.\n",
      "2021-10-26 14:55:30,152 - jobqueues.slurmqueue - INFO - Queueing /gpcr/users/daranda/doctorat/GPCR_simulations/simulation_output/production/6J21_apo/rep_2/\n"
     ]
    },
    {
     "name": "stdout",
     "output_type": "stream",
     "text": [
      "submitting replicate 3 of 6J21\n"
     ]
    },
    {
     "name": "stderr",
     "output_type": "stream",
     "text": [
      "2021-10-26 14:56:04,139 - htmd.builder.builder - WARNING - Found cis peptide bond in 1 frames: [0] in the omega diheral \"Angle of (GLY 230 CA P P) (GLY 230 C P P) (ASP 231 N P P) (ASP 231 CA P P) \" with indexes [3366, 3369, 3371, 3373]\n",
      "2021-10-26 14:56:05,313 - htmd.protocols.production_v6 - WARNING - Lipids detected in input structure. We highly recommend setting useconstantratio=True for membrane simulations.\n",
      "2021-10-26 14:56:05,614 - jobqueues.slurmqueue - INFO - Queueing /gpcr/users/daranda/doctorat/GPCR_simulations/simulation_output/production/6J21_apo/rep_3/\n"
     ]
    },
    {
     "name": "stdout",
     "output_type": "stream",
     "text": [
      "submitting replicate 1 of 6J21\n"
     ]
    },
    {
     "name": "stderr",
     "output_type": "stream",
     "text": [
      "2021-10-26 14:56:38,696 - htmd.builder.builder - WARNING - Found cis peptide bond in 1 frames: [0] in the omega diheral \"Angle of (GLY 230 CA P P) (GLY 230 C P P) (ASP 231 N P P) (ASP 231 CA P P) \" with indexes [3367, 3370, 3372, 3374]\n",
      "2021-10-26 14:56:39,942 - htmd.protocols.production_v6 - WARNING - Lipids detected in input structure. We highly recommend setting useconstantratio=True for membrane simulations.\n",
      "2021-10-26 14:56:40,669 - jobqueues.slurmqueue - INFO - Queueing /gpcr/users/daranda/doctorat/GPCR_simulations/simulation_output/production/6J21/rep_1/\n"
     ]
    },
    {
     "name": "stdout",
     "output_type": "stream",
     "text": [
      "submitting replicate 2 of 6J21\n"
     ]
    },
    {
     "name": "stderr",
     "output_type": "stream",
     "text": [
      "2021-10-26 14:57:12,698 - htmd.builder.builder - WARNING - Found cis peptide bond in 1 frames: [0] in the omega diheral \"Angle of (GLY 230 CA P P) (GLY 230 C P P) (ASP 231 N P P) (ASP 231 CA P P) \" with indexes [3367, 3370, 3372, 3374]\n",
      "2021-10-26 14:57:13,942 - htmd.protocols.production_v6 - WARNING - Lipids detected in input structure. We highly recommend setting useconstantratio=True for membrane simulations.\n",
      "2021-10-26 14:57:14,283 - jobqueues.slurmqueue - INFO - Queueing /gpcr/users/daranda/doctorat/GPCR_simulations/simulation_output/production/6J21/rep_2/\n"
     ]
    },
    {
     "name": "stdout",
     "output_type": "stream",
     "text": [
      "submitting replicate 3 of 6J21\n"
     ]
    },
    {
     "name": "stderr",
     "output_type": "stream",
     "text": [
      "2021-10-26 14:57:47,697 - htmd.builder.builder - WARNING - Found cis peptide bond in 1 frames: [0] in the omega diheral \"Angle of (GLY 230 CA P P) (GLY 230 C P P) (ASP 231 N P P) (ASP 231 CA P P) \" with indexes [3367, 3370, 3372, 3374]\n",
      "2021-10-26 14:57:48,946 - htmd.protocols.production_v6 - WARNING - Lipids detected in input structure. We highly recommend setting useconstantratio=True for membrane simulations.\n",
      "2021-10-26 14:57:49,282 - jobqueues.slurmqueue - INFO - Queueing /gpcr/users/daranda/doctorat/GPCR_simulations/simulation_output/production/6J21/rep_3/\n"
     ]
    }
   ],
   "source": [
    "#####################\n",
    "## Part 4: Production\n",
    "#####################\n",
    "\n",
    "# Production protocol\n",
    "md = define_production(timestep, trajperiod)\n",
    "\n",
    "# For each structure \n",
    "for entry in input_dict:    \n",
    "    name = entry['name']\n",
    "    pdbcode = entry['pdbcode']\n",
    "    for apo in [False]:\n",
    "#     for apo in [True, False]:\n",
    "        # must match with equildir in equilibration launcher code and contain input and output of equilibration.\n",
    "        modelname = name+'_apo' if apo else name\n",
    "        equildir = '%s/equil/%s/' % (resultspath, modelname)\n",
    "        if not os.path.exists(equildir):\n",
    "            print(\"structure %s has not been yet equillibrated. Skipping...\")\n",
    "            continue\n",
    "        for rep in range(1,repnum+1):\n",
    "            \n",
    "            try: \n",
    "                # If simulation for this PDB has already been run\n",
    "                proddir='%sproduction/%s/rep_%d/' % (resultspath, modelname, rep)\n",
    "                if os.path.exists(proddir+'/output.xtc') or os.path.exists(proddir+'simrunning'):\n",
    "                    print(\"replicate %d of structure %s already has been simulated\" %(rep, modelname))\n",
    "                    continue\n",
    "\n",
    "                print('submitting replicate %d of %s' % (rep, modelname))\n",
    "                # directory copy output of equilibration to production input (initial working directory for run_prod.sh).\n",
    "                md.write(equildir,proddir)\n",
    "\n",
    "                sq = SlurmQueue()\n",
    "                sq.envvars = acemd_license\n",
    "                sq.jobname = modelname+'_pr'+str(rep)\n",
    "                sq.datadir = None\n",
    "                sq.partition = 'gpcr_gpu'\n",
    "                sq.prerun = job_commands(proddir, '/home/daranda/%s_pr_%d/'%(modelname,rep))\n",
    "                sq.ngpu = 1\n",
    "                sq.ncpu = 1\n",
    "                sq.exclude = ['aragorn']\n",
    "\n",
    "                #Substitute run.sh generated by HTMD by a different one, adapted to the specified path of ACEMD\n",
    "                with open(proddir + 'run.sh', 'w') as f:\n",
    "                    f.write('#!/bin/bash\\n%s >%slog.txt 2>&1' % (acemd_path,proddir))\n",
    "\n",
    "                sq.submit(proddir)\n",
    "                \n",
    "            except Exception as e:\n",
    "                print(\"model \"+modelname+\" could not be send to equilibrate because of \",e)            \n"
   ]
  },
  {
   "cell_type": "code",
   "execution_count": 12,
   "metadata": {},
   "outputs": [
    {
     "name": "stdout",
     "output_type": "stream",
     "text": [
      "wrapping replicate 1 of 6MEO\n",
      "replicate already wrapped. Skipping...\n",
      "wrapping replicate 2 of 6MEO\n",
      "replicate already wrapped. Skipping...\n",
      "wrapping replicate 3 of 6MEO\n",
      "replicate already wrapped. Skipping...\n",
      "wrapping replicate 1 of 5TE5\n",
      "replicate already wrapped. Skipping...\n",
      "wrapping replicate 2 of 5TE5\n",
      "replicate already wrapped. Skipping...\n",
      "wrapping replicate 3 of 5TE5\n",
      "replicate already wrapped. Skipping...\n",
      "wrapping replicate 1 of 5WIU\n",
      "replicate already wrapped. Skipping...\n",
      "wrapping replicate 2 of 5WIU\n",
      "replicate already wrapped. Skipping...\n",
      "wrapping replicate 3 of 5WIU\n",
      "replicate already wrapped. Skipping...\n",
      "wrapping replicate 1 of 6LRY\n"
     ]
    },
    {
     "name": "stderr",
     "output_type": "stream",
     "text": [
      "/home/david/miniconda3/lib/python3.6/site-packages/moleculekit/align.py:16: NumbaPerformanceWarning: np.dot() is faster on contiguous arrays, called on (array(float32, 2d, A), array(float32, 2d, A))\n",
      "  covariance = np.dot(P.T, Q)\n",
      "/home/david/miniconda3/lib/python3.6/site-packages/moleculekit/align.py:54: NumbaPerformanceWarning: np.dot() is faster on contiguous arrays, called on (array(float32, 2d, C), array(float32, 2d, A))\n",
      "  all1 = np.dot(all1, rot.T)\n"
     ]
    },
    {
     "name": "stdout",
     "output_type": "stream",
     "text": [
      "End of 6LRY after 8.202301025390625 seconds\n",
      "\n",
      "wrapping replicate 2 of 6LRY\n",
      "End of 6LRY after 4.026684045791626 seconds\n",
      "\n",
      "wrapping replicate 3 of 6LRY\n",
      "End of 6LRY after 3.4290406703948975 seconds\n",
      "\n",
      "wrapping replicate 1 of 4EJ4\n",
      "replicate already wrapped. Skipping...\n",
      "wrapping replicate 2 of 4EJ4\n",
      "replicate already wrapped. Skipping...\n",
      "wrapping replicate 3 of 4EJ4\n",
      "replicate already wrapped. Skipping...\n"
     ]
    }
   ],
   "source": [
    "\n",
    "##########################\n",
    "## Part 5: Wrap Structures\n",
    "##########################\n",
    "\n",
    "# Wrap trajectories obtained during production with an htmd command\n",
    "gpcr_sel = \"protein and chain \"+new_pdb_chain\n",
    "for entry in input_dict:    \n",
    "    name = entry['name']\n",
    "    pdbcode = entry['pdbcode']\n",
    "    for apo in [False]:\n",
    "        try:\n",
    "            modelname = pdbcode+'_apo' if apo else pdbcode\n",
    "            mymol_pdb = Molecule('%sproduction/%s/rep_1/structure.pdb' % (resultspath, modelname))\n",
    "            for rep in range(1,repnum+1):\n",
    "            #for rep in [3]:\n",
    "                start_time = time.time()        \n",
    "                print('wrapping replicate %d of %s' % (rep, modelname))\n",
    "                proddir='%sproduction/%s/rep_%d/' % (resultspath, modelname, rep)\n",
    "                rep = str(rep)\n",
    "\n",
    "                # To avoid repeating wrapping in Trajectories already wrapped, check the existance of this file\n",
    "                outname = proddir+'output_wrapped.xtc'\n",
    "                if os.path.exists(outname):\n",
    "                    print('replicate already wrapped. Skipping...')\n",
    "                    continue\n",
    "                \n",
    "                # Wrap system\n",
    "                mymol = Molecule('%sproduction/%s/rep_1/structure.psf' % (resultspath, modelname))\n",
    "                mymol.read(proddir+'output.xtc')\n",
    "                mymol.wrap(gpcr_sel)\n",
    "\n",
    "                # Align frames and write\n",
    "                mymol.align('all', refmol=mymol_pdb)\n",
    "                mymol.write(outname)\n",
    "\n",
    "            print('End of %s after %s seconds\\n' % (modelname, time.time() - start_time))\n",
    "        except Exception as e:\n",
    "            print(\"model \"+modelname+\" could not be wrapped because of \",e)            \n",
    "\n",
    "\n"
   ]
  },
  {
   "cell_type": "code",
   "execution_count": 7,
   "metadata": {},
   "outputs": [],
   "source": [
    "###################################\n",
    "## Part 5: Upload results to GPCRmd\n",
    "###################################\n",
    "\n",
    "#### Functions\n",
    "def resp_to_dict(resp):\n",
    "    # Convert a json reponse into a dictionary\n",
    "    return eval(resp.content.decode('UTF-8').replace('true', 'True').replace('false','False'))\n",
    "\n",
    "def get_headers(s, subm_id):\n",
    "    \"\"\"\n",
    "    Obtain headers, csrftoken and sessionid from current session object\n",
    "    \"\"\"\n",
    "    sessionid = str(s.cookies['sessionid'])\n",
    "    csrftoken = str(s.cookies['csrftoken'])\n",
    "    headers = {\n",
    "        'Referer' : mainurl+'/dynadb/step1/'+subm_id,\n",
    "        'Cookie' : 'csrftoken=%s; sessionid=%s' %(csrftoken,sessionid),\n",
    "        'X-CSRFToken' : csrftoken,\n",
    "    }\n",
    "    return(sessionid, csrftoken, headers)\n",
    "\n",
    "\n",
    "def check_chains(pdbcode, mymol):\n",
    "    \"\"\"\n",
    "    Check how many chains from the original PDB structure remain in mymol structure\n",
    "    And to which Segments of our structure they correspond\n",
    "    \"\"\"\n",
    "    # Load blosum score matrix to align proteins\n",
    "    blosum62 = substitution_matrices.load(\"BLOSUM62\")\n",
    "\n",
    "    # Obtain sequences for original PDB file chains, and classifying them by chainID\n",
    "    # Also check which segment corresponds to what chain\n",
    "    pdbmol = Molecule(pdbcode)\n",
    "    chainseg = {}\n",
    "    chainset = set(pdbmol.get('chain', sel='protein'))\n",
    "    pdbmol_segseqs = pdbmol.sequence()\n",
    "    pdbmol_chainseqs = {}\n",
    "    for chain in chainset:\n",
    "        segid = np.unique(pdbmol.get('segid', sel='chain '+chain))[0]\n",
    "        pdbmol_chainseqs[chain] = pdbmol_segseqs[segid]\n",
    "\n",
    "    # Merging all protein chains in our systems into a single megachain\n",
    "    mymol_megachain = ''\n",
    "    for seg,chain in mymol.sequence().items():\n",
    "        mymol_megachain = mymol_megachain + chain\n",
    "\n",
    "    # Aligning sequences from original PDB to simulated PDB megasequence\n",
    "    # To know which chains from the original PDB are preserved\n",
    "    chain_present = {}\n",
    "    segtochain = {}\n",
    "    # For each chain in the original PDB file\n",
    "    for chain,seq in pdbmol_chainseqs.items():\n",
    "        chain_present[chain] = False\n",
    "        # For each segment in our molecule\n",
    "        for seg,myseq in mymol.sequence().items():\n",
    "            mylen = len(myseq)\n",
    "            # Align our molecule segments to the pdb chains\n",
    "            aligs = pairwise2.align.localms(seq, myseq, 5,-1, -1.5, -1)\n",
    "            # Check if any of the alignments has more than 4 score by position\n",
    "            is_present = any([ (alig.score/mylen) > 4 for alig in aligs ]) \n",
    "            if is_present:\n",
    "                chain_present[chain] = is_present\n",
    "                segtochain[seg] = chain\n",
    "\n",
    "    return (chain_present, segtochain)\n",
    "\n",
    "def get_pdb_info(pdbcode, mymol, ligandsdict):\n",
    "    \"\"\"\n",
    "    Get informarion of the system specified in the pdbcode from the RCSB-PDB webpage.\n",
    "    Mainly uniprot sequences, chainIDs and uniprot codes for the chains\n",
    "    \"\"\"\n",
    "    \n",
    "    # Make string for selecting lignads in rcsb's api\n",
    "    ligs = '\"'+'\",\"'.join(ligandsdict[pdbcode].keys())+'\"'\n",
    "    \n",
    "    #Check which chains from the original PDB structure are preserved in mymol structure\n",
    "    (chain_present, segtochain) = check_chains(pdbcode, mymol)\n",
    "    \n",
    "    # Get ligand molecules present in our system (basically anything that is not a protein)\n",
    "    ligset = set(mymol.get('resname', sel='not protein'))\n",
    "    \n",
    "    # Extract information from pdb webpage using api\n",
    "    ligdict = dict()\n",
    "    protdict = dict()\n",
    "    datadict = dict()\n",
    "    \n",
    "    # Get information from PDB api\n",
    "    pdbdict = requests.get('https://data.rcsb.org/graphql?query={\\\n",
    "        entry(entry_id: \"'+pdbcode+'\") {\\\n",
    "            exptl {method}\\\n",
    "            polymer_entities {\\\n",
    "                entity_poly{pdbx_strand_id}\\\n",
    "                rcsb_polymer_entity{pdbx_description}\\\n",
    "                rcsb_polymer_entity_align{\\\n",
    "                    aligned_regions {length}\\\n",
    "                    reference_database_accession \\\n",
    "                    reference_database_isoform \\\n",
    "                }\\\n",
    "            }\\\n",
    "        }\\\n",
    "        chem_comps(comp_ids: ['+ligs+']) {\\\n",
    "            rcsb_chem_comp_descriptor {InChIKey}\\\n",
    "            chem_comp{id,name}\\\n",
    "        }\\\n",
    "    }').json()['data']\n",
    "    \n",
    "    # Get ligand information and classify it (in case the system actually has ligands)\n",
    "    if len(pdbdict['chem_comps'])>0:\n",
    "        for lig in pdbdict['chem_comps']:\n",
    "            ligandInchi = lig['rcsb_chem_comp_descriptor']['InChIKey']\n",
    "            ligandResname = lig['chem_comp']['id']\n",
    "            ligandName = lig['chem_comp']['name']\n",
    "    \n",
    "            # Exclude ligands not present in our simulated system\n",
    "            if ligandResname in ligset:\n",
    "                ligdict[ligandResname] = (ligandName,ligandInchi)\n",
    "\n",
    "    # Extract protein chains information\n",
    "    for poly in pdbdict['entry']['polymer_entities']:\n",
    "    \n",
    "        # Get alignment information in order to determine which uniprot segment we should take\n",
    "        prevallen = 0\n",
    "        uniprotkbac = ''\n",
    "        isoform = ''\n",
    "        for alreg in poly['rcsb_polymer_entity_align']:\n",
    "            allen =  sum([seg['length'] for seg in alreg['aligned_regions']])\n",
    "            unicode = alreg['reference_database_accession']\n",
    "            myisoform = alreg['reference_database_isoform']\n",
    "            if allen > prevallen:\n",
    "                uniprotkbac = unicode\n",
    "                isoform = myisoform\n",
    "            else:\n",
    "                uniprotkbac = uniprotkbac\n",
    "                isoform = isoform\n",
    "            prevallen = allen            \n",
    "            \n",
    "        uniname = poly['rcsb_polymer_entity']['pdbx_description'].lower()\n",
    "        chainIds = poly['entity_poly']['pdbx_strand_id'].split(',')\n",
    "\n",
    "        # Determine if this polymer (chain) is a GPCR\n",
    "        isgpcr = (('receptor' in uniname) or ('rhodopsin' in uniname)) \n",
    "\n",
    "        # If this chain is present in our mymol structure\n",
    "        for chainId in chainIds:\n",
    "            if chain_present[chainId]:\n",
    "                # Get which segment(s) this chain is assigned to. SKip if none\n",
    "                segs = [ seg for seg,chain in segtochain.items() if chain == chainId ]\n",
    "                if not segs:\n",
    "                    continue\n",
    "                # Order data for this chain\n",
    "                protdict[chainId] = {\n",
    "                    'uniprotkbac' : uniprotkbac,\n",
    "                    'isoform' : isoform if isoform else '1',\n",
    "                    'isgpcr' : isgpcr,\n",
    "                    'segs' : segs,\n",
    "                }\n",
    "\n",
    "    # Determine experimental method used, and use the corresponding id in GPCRmd database\n",
    "    method = pdbdict['entry']['exptl'][0]['method'].lower()\n",
    "    if 'x-ray' in method: \n",
    "        method_id = 0\n",
    "    elif 'nmr' in method:\n",
    "        method_id = 1\n",
    "    elif 'electron microscopy' == method:\n",
    "        method_id = 4\n",
    "    else:\n",
    "        method_id = 5 # Other method\n",
    "            \n",
    "    return (protdict,ligdict,segtochain,method_id)\n",
    "\n",
    "def login(s):\n",
    "    # Login into GPCRmd \n",
    "    # Will you go, lassie, go? And we'll all gooo toghetheeeer\n",
    "    headers = {\n",
    "        'Cookie': 'csrftoken=cuGA6CSGmXfMbLwqlPoGjLLN7QkO6rZ7',\n",
    "        'Referer': mainurl+'/accounts/login/',\n",
    "    }\n",
    "    datalogin = {\n",
    "        'username': 'david',\n",
    "        'password': 'Ameboid',\n",
    "        'next' : '/accounts/memberpage/',\n",
    "        'csrfmiddlewaretoken' : 'cuGA6CSGmXfMbLwqlPoGjLLN7QkO6rZ7'\n",
    "    }\n",
    "    print('loging into GPCRmd')\n",
    "    logo = s.post(mainurl+'/accounts/login/', \n",
    "               data=datalogin,\n",
    "               headers=headers)\n",
    "    return s\n",
    "\n",
    "def new_submission(s, mainurl):\n",
    "    \"\"\"\n",
    "    Create a new submission entry in GPCRmd\n",
    "    \"\"\"\n",
    "    response_new = s.get(mainurl + '/dynadb/step0/')\n",
    "    soup = BeautifulSoup(response_new.text, 'html.parser')\n",
    "    step1_link = soup.find('form',attrs={'id' : 'mainform'}).get('action')\n",
    "    subm_id = step1_link.split('/')[-2]\n",
    "    print('new submission %s created'%subm_id)\n",
    "    return subm_id\n",
    "\n",
    "def check_completeness(prodpath):\n",
    "    \"\"\"\n",
    "    Check if we actually have the three necessary replicates for submission\n",
    "    \"\"\"\n",
    "\n",
    "    incomplete = False\n",
    "    for trajid in range(1,4):\n",
    "        trajpath = '%s/rep_%d/output_wrapped.xtc'%(prodpath,trajid)\n",
    "        if not os.path.exists(trajpath):\n",
    "            incomplete = True\n",
    "\n",
    "    return(incomplete)\n",
    "\n",
    "def new_step1(s, subm_id, pdbcode, trajperiod, timestep, prodpath, modelfile, method_id, apo):\n",
    "    \"\"\"\n",
    "    Fullfill and send the step 1 of the new submissionform\n",
    "    # Looong liiie the fieeeelds of Athenryyyyy...\n",
    "    # Where once, we watch, the small seabirds flyyyyy....\n",
    "    \"\"\"\n",
    "    # Get headers and stuff\n",
    "    (sessionid, csrftoken, headers)=get_headers(s, subm_id)\n",
    "    \n",
    "    # All the stuff we need to send \n",
    "    sysname = pdbcode+' apoform' if apo else pdbcode+' complex'\n",
    "    data_submit = {\n",
    "        'name' : sysname,\n",
    "        'type' : 0 if apo else 1, # 0 for apo, 1 for complex\n",
    "        'pdbid' : pdbcode,\n",
    "        'description' : 'Autosubmission',\n",
    "        'source_type' : method_id,\n",
    "        'id_dynamics_methods': '1', #Molecular mechanics,\n",
    "        'software': 'ACEMD3',\n",
    "        'sversion': 'GPUGRID', # TODO: Is that correct??,\n",
    "        'ff': 'CHARMM',\n",
    "        'ffversion': '36m Feb 2016',\n",
    "        'id_assay_types': 1, # Orthosteric (un)/binding,\n",
    "        'id_dynamics_membrane_types': 2, # Homogeneus membrane,\n",
    "        'id_dynamics_solvent_types': 2, # TIP3P solvent,\n",
    "        'timestep': timestep,\n",
    "        'delta': (trajperiod*timestep)/10e6,\n",
    "        'add_info': 'autosubmission', # time/frames\n",
    "    }\n",
    "    files_submit = {\n",
    "        'dynamics' : open(prodpath+'structure.pdb', 'rb'),\n",
    "        'model' : open(modelfile, 'rb')\n",
    "    }\n",
    "\n",
    "    # Submit step 1\n",
    "    rep = s.post(mainurl+'/dynadb/step1_submit/'+subm_id+'/',\n",
    "            headers = headers,\n",
    "            files = files_submit,\n",
    "            data = data_submit)\n",
    "    print('step1 finalized ',rep)\n",
    "\n",
    "    \n",
    "def smalmol_getdata(s, molid, inchikey, subm_id, moltype, resname, sdfpath=\"\"):\n",
    "    \"\"\"\n",
    "    Get data for small molecules \n",
    "    \"\"\"\n",
    "    \n",
    "    # Get headers and stuff\n",
    "    (sessionid, csrftoken, headers)=get_headers(s, subm_id)\n",
    "\n",
    "    # Get info of molecule\n",
    "    rep = s.get(mainurl+'/dynadb/smalmol_info/?inchikey=%s&submission_id=%s'%(inchikey,subm_id),\n",
    "        headers = headers,\n",
    "        )\n",
    "    rep_dict = rep.json()\n",
    "    \n",
    "    # Prepare submission dictionary with the data of this molecule\n",
    "    mol_datasubmit = {\n",
    "        \"smalmol_type\"+molid : moltype,\n",
    "        \"smalmol_inchikey\"+molid : inchikey,\n",
    "        \"smalmol_name\"+molid : rep_dict['name'],\n",
    "        \"smalmol_resname\"+molid : resname,\n",
    "        \"smalmol_iupac\"+molid : rep_dict['iupac'],\n",
    "        \"smalmol_chemblid\"+molid :  rep_dict['chemblid'],\n",
    "        \"smalmol_cid\"+molid :  rep_dict['cid'],\n",
    "        \"smalmol_inchi\"+molid : rep_dict['inchi'],\n",
    "        \"smalmol_sinchi\"+molid :  rep_dict['sinchi'],\n",
    "        \"smalmol_sinchikey\"+molid :  rep_dict['sinchikey'],\n",
    "        \"smalmol_smiles\"+molid :  rep_dict['smiles'],\n",
    "        \"smalmol_netcharge\"+molid :  rep_dict['net_charge'],\n",
    "        \"smalmol_synonims\"+molid :  rep_dict['other_names'],\n",
    "        \"smalmol_description\"+molid :  '',\n",
    "        \"image_path\"+molid :  rep_dict['imagepath']\n",
    "    }\n",
    "    \n",
    "    # Add SDFfile to the submission if required\n",
    "    mol_files = {} if rep_dict['inGPCRmd'] else {\"sdfmol\"+molid : open(sdfpath)} \n",
    "    \n",
    "    return(mol_datasubmit,mol_files)\n",
    "\n",
    "def new_step2(s, subm_id, ligdict):\n",
    "    \"\"\"\n",
    "    Fullfil and send step2 of new submission form\n",
    "    \"\"\"    \n",
    "    print('initiating step 2: small molecule data')\n",
    "\n",
    "    # Get headers and stuff\n",
    "    (sessionid, csrftoken, headers)=get_headers(s, subm_id)\n",
    "    \n",
    "    # Introduce common small molecules (waters, lipids and ions)\n",
    "    i = 0\n",
    "    num_entries = []\n",
    "    step2_data = {\n",
    "        'csrfmiddlewaretoken' : csrftoken,\n",
    "        'submit' : 'submit'\n",
    "    }\n",
    "    step2_files = {}\n",
    "    common_mols = {\n",
    "        'TIP3' : ('XLYOFNOQVPJJNP-UHFFFAOYSA-N',6),\n",
    "        'POPC' : ('WTJKGGKOPKCXLL-VYOBOKEXSA-N',7),\n",
    "        'SOD' : ('FKNQFGJONOIPTF-UHFFFAOYSA-N',8),\n",
    "        'CLA' : ('VEXZGXHMUGYJMC-UHFFFAOYSA-M',8)\n",
    "    }\n",
    "    for resname,(inchikey,moltype) in common_mols.items():\n",
    "        (mol_datasubmit, mol_files) = smalmol_getdata(s, str(i), inchikey, subm_id, moltype, resname)\n",
    "        step2_data.update(mol_datasubmit)\n",
    "        step2_files.update(mol_files)\n",
    "        num_entries.append(i)\n",
    "        i+=1\n",
    "\n",
    "    # Introduce ligands: all will be defined as orthosteric ligands\n",
    "    lignames = []\n",
    "    for lig,(name,inchikey) in ligdict.items():\n",
    "        # Skip this if molecule is apoform\n",
    "        if apo:\n",
    "            break\n",
    "        # Avoid blacklisted molecules or ions\n",
    "        if (lig in detergent_blacklist) or (lig in glucids_blacklist)  or (len(lig) == 2):\n",
    "            continue\n",
    "        # Download ligand, store it into temporary file\n",
    "        response = requests.get('https://files.rcsb.org/ligands/view/'+lig+'_ideal.sdf')\n",
    "        with open('tmpfile.sdf','wb') as tmpout:\n",
    "            tmpout.write(response.content)\n",
    "\n",
    "        # CLR (cholesterol) is usually a experimental lipid \n",
    "        moltype = '3' if lig=='CLR' else '0'\n",
    "            \n",
    "        # Retrieve molecule information\n",
    "        (mol_datasubmit, mol_files) = smalmol_getdata(s, str(i), inchikey, subm_id, moltype, lig, 'tmpfile.sdf')\n",
    "        step2_data.update(mol_datasubmit)\n",
    "        step2_files.update(mol_files)\n",
    "        num_entries.append(i)\n",
    "        i+=1\n",
    "        os.remove('tmpfile.sdf')\n",
    "    \n",
    "    # Add number of entries\n",
    "    step2_data['num_entries'] = ','.join(map(str, num_entries))\n",
    "    \n",
    "    # Replace empty entries with an empty string\n",
    "    for key,val in step2_data.items():\n",
    "        if not val:\n",
    "            step2_data[key] = ''\n",
    "    \n",
    "    # Submit step2\n",
    "    rep = s.post(mainurl+'/dynadb/step2_submit/'+subm_id+'/',\n",
    "        headers = headers,\n",
    "        data = step2_data,\n",
    "        files = step2_files)\n",
    "    print('step2 finalized ',rep)\n",
    "    \n",
    "def new_step3(s, subm_id, protdict):\n",
    "    \"\"\"\n",
    "    Fullfil and sent the step3 (protein chains) of the new submission form\n",
    "    \"\"\"\n",
    "    print('initiating step 3: protein chains')\n",
    "\n",
    "    # Get headers and stuff\n",
    "    (sessionid, csrftoken, headers)=get_headers(s, subm_id)\n",
    "\n",
    "    # Retrieve segment information using GPCRmd submission form\n",
    "    entrydict = s.get(mainurl+'/dynadb/find_prots/'+subm_id+'/',\n",
    "        headers = headers).json()\n",
    "    \n",
    "    segments = {seg['segid'] : seg for entry in entrydict for seg in entry['segments']}\n",
    "\n",
    "    # Start dict with the data to be send into GPCRmd\n",
    "    # But thougth they paved the footways here with goldust, I still would chose... my Isle of Innesfree\n",
    "    step3_data = {\n",
    "        'csrfmiddlewaretoken':csrftoken,\n",
    "        'submission_id' : subm_id,\n",
    "        'submit' : 'Submit',\n",
    "    }\n",
    "\n",
    "    # Iterate over pdb chains. For each one we'll create an entry\n",
    "    i=0\n",
    "    entrynum = []\n",
    "    for chain,chain_data in protdict.items():\n",
    "        ii = str(i)\n",
    "        uniprotkbac = chain_data['uniprotkbac']\n",
    "        isgpcr = chain_data['isgpcr']\n",
    "        isoform = chain_data['isoform']\n",
    "        chainsegs = chain_data['segs']\n",
    "\n",
    "        # Retrieve info using uniprot code\n",
    "        unidict = s.get(mainurl+'/dynadb/prot_info/'+subm_id+'/',\n",
    "                          params = {\n",
    "                              'uniprotkbac' : uniprotkbac,\n",
    "                              'isoform' : isoform,\n",
    "                              'submission_id' : subm_id,\n",
    "                          },\n",
    "                          headers = headers\n",
    "                         ).json()\n",
    "\n",
    "        # We'll obtain the alignment of our protein sequence and its UNIPROT sequence using\n",
    "        # GPCRmd's tool for do it\n",
    "        data_alig = {\n",
    "            'unisequence' : unidict['Sequence'],\n",
    "            'submission_id' : subm_id\n",
    "        }\n",
    "\n",
    "        # Get segments for alignment data\n",
    "        j = 0\n",
    "        segnums = []\n",
    "        for seg in chainsegs:\n",
    "            seginfo = segments[seg]\n",
    "            ss = str(j)\n",
    "            data_alig['chain'+ss]= seginfo['chain']\n",
    "            data_alig['segid'+ss]= seg\n",
    "            data_alig['from'+ss]= seginfo['resid_from']\n",
    "            data_alig['to'+ss]= seginfo['resid_to']\n",
    "            segnums.append(ss)\n",
    "\n",
    "            # Store segment information as well in the submit dict\n",
    "            step3_segdata = {\n",
    "                ss+'seg'+ii: j,\n",
    "                ss+'pdbid'+ii: seginfo['pdbid'],\n",
    "                ss+'sourcetype'+ii: seginfo['source_type'],\n",
    "                ss+'chain'+ii: seginfo['chain'],\n",
    "                ss+'segid'+ii: seg,\n",
    "                ss+'from_resid'+ii: seginfo['resid_from'],\n",
    "                ss+'to_resid'+ii: seginfo['resid_to'],\n",
    "            }\n",
    "            step3_data.update(step3_segdata)\n",
    "\n",
    "            j += 1\n",
    "        data_alig['segnums']=','.join(segnums)\n",
    "        step3_data['num_segs'+ii]=','.join(segnums)\n",
    "\n",
    "        # Send alignment request\n",
    "        alignment = s.post(mainurl+'/dynadb/get_alignment/',\n",
    "                      data = data_alig,\n",
    "                      headers = headers\n",
    "                     ).text\n",
    "\n",
    "        # Get mutations\n",
    "        mutations_dict = s.post(mainurl+'/dynadb/protein/get_mutations/',\n",
    "                      data = {\n",
    "                          'alignment' : alignment,\n",
    "                          'sequence' : unidict['Sequence'],\n",
    "                      },\n",
    "                      headers = headers\n",
    "                     ).json()['mutations']\n",
    "\n",
    "        # Store mutations in submission dictionary\n",
    "        h = 0\n",
    "        mutnums = []\n",
    "        for mut in mutations_dict:\n",
    "            hh = str(h)\n",
    "            step3_mutdata = {\n",
    "                hh+'from'+ii : mut['from'],\n",
    "                hh+'to'+ii : mut['to'],\n",
    "                hh+'resid'+ii : mut['resid'],\n",
    "            }\n",
    "            step3_data.update(step3_mutdata)\n",
    "            mutnums.append(hh)\n",
    "            h+=1\n",
    "        step3_data['num_muts'+ii]=','.join(mutnums)\n",
    "\n",
    "        # Get chain name according to uniprot\n",
    "        names_array = unidict['Protein names'].split(\" (\")\n",
    "        names_array = list(map(lambda x: re.sub(\"\\)$\", \"\", x), names_array)) # Convert the name string into name aray\n",
    "        for a in names_array:\n",
    "            print('A name', a)\n",
    "        name = names_array.pop() # We get the first name as the official one\n",
    "        other_names = ';'.join(names_array)\n",
    "        print('the name ', name)\n",
    "        print('formated other names', other_names)\n",
    "        \n",
    "        # Start storing information to send in step3\n",
    "        step3_entrydata = {\n",
    "            'isoform'+ii : isoform,\n",
    "            'prot_uniprot'+ii : uniprotkbac,\n",
    "            'name'+ii : name,\n",
    "            'aliases'+ii : other_names,\n",
    "            'species_code'+ii : unidict['Organism ID'],\n",
    "            'species_name'+ii : unidict['Organism'],\n",
    "            'unisequence'+ii : unidict['Sequence'],\n",
    "        }\n",
    "        step3_data.update(step3_entrydata)\n",
    "\n",
    "        entrynum.append(ii)    \n",
    "        i+=1\n",
    "\n",
    "    # Store number of entries\n",
    "    step3_data['num_entries'] = ','.join(entrynum)\n",
    "\n",
    "    # Submit step3\n",
    "    rep = s.post(mainurl+'/dynadb/step3_submit/'+subm_id+'/',\n",
    "        headers = headers,\n",
    "        data = step3_data)\n",
    "    \n",
    "    print('step3 finalized ',rep)\n",
    "\n",
    "\n",
    "def new_step4(s, subm_id, prodpath, repath):\n",
    "    \"\"\"\n",
    "    Fullfil and sent the step4 (files) of the new submission form\n",
    "    \"\"\"\n",
    "    print('initiating step 4: simulation files')\n",
    "\n",
    "    # Get headers and stuff\n",
    "    (sessionid, csrftoken, headers)=get_headers(s, subm_id)\n",
    "\n",
    "    # Prepare trajectories\n",
    "    step4_files = []\n",
    "    for trajid in range(1,4):\n",
    "#         trajpath = '%s/rep_%d/output.xtc'%(prodpath,trajid)\n",
    "#         step4_files.append(('trj', ('traj%d.xtc'%trajid, open(trajpath, 'rb'))))\n",
    "        trajpath = '%s/rep_%d/trajtest.dcd'%(prodpath,trajid)\n",
    "        step4_files.append(('trj', ('trajtest.dcd', open(trajpath, 'rb'))))\n",
    "    \n",
    "    # Prepare the rest of files (parameters files will name-changed to avoid problems with filextensions)\n",
    "    step4_files.append(\n",
    "        ('dyn', ('structure.psf', open(repath+'structure.psf','rb')))\n",
    "    )\n",
    "    step4_files.append(\n",
    "        ('prm', ('parameters.prm', open(repath+'parameters','rb')))\n",
    "    )\n",
    "        \n",
    "    # Encode data\n",
    "    m=MultipartEncoder(fields=step4_files)\n",
    "    headers['Content-Type'] = m.content_type\n",
    "    \n",
    "    # Submit step4\n",
    "    rep = s.post(mainurl+'/dynadb/step4_submit/'+subm_id+'/',\n",
    "        headers = headers,\n",
    "        data = m)\n",
    "    \n",
    "    print('step4 finalized ',rep)\n",
    "\n"
   ]
  },
  {
   "cell_type": "code",
   "execution_count": 8,
   "metadata": {},
   "outputs": [
    {
     "name": "stderr",
     "output_type": "stream",
     "text": [
      "2021-11-10 10:18:35,835 - moleculekit.readers - INFO - Attempting PDB query for 5NDZ\n"
     ]
    },
    {
     "name": "stdout",
     "output_type": "stream",
     "text": [
      "Submitting 5NDZ_complex simulation...\n",
      "loging into GPCRmd\n",
      "new submission 423 created\n",
      "step1 finalized  <Response [200]>\n",
      "initiating step 2: small molecule data\n",
      "step2 finalized  <Response [200]>\n",
      "initiating step 3: protein chains\n",
      "A name Proteinase-activated receptor 2\n",
      "A name PAR-2\n",
      "A name Coagulation factor II receptor-like 1\n",
      "A name G-protein coupled receptor 11\n",
      "A name Thrombin receptor-like 1) [Cleaved into: Proteinase-activated receptor 2, alternate cleaved 1; Proteinase-activated receptor 2, alternate cleaved 2]\n",
      "the name  Thrombin receptor-like 1) [Cleaved into: Proteinase-activated receptor 2, alternate cleaved 1; Proteinase-activated receptor 2, alternate cleaved 2]\n",
      "formated other names Proteinase-activated receptor 2;PAR-2;Coagulation factor II receptor-like 1;G-protein coupled receptor 11\n",
      "step3 finalized  <Response [200]>\n",
      "Simulation 5NDZ_complex could not be submitted because  name 'sdf' is not defined\n"
     ]
    }
   ],
   "source": [
    "#### Actual Simulation submission\n",
    "# mainurl = 'http://localhost:8000' \n",
    "mainurl = 'https://submission.gpcrmd.org'\n",
    "\n",
    "# For each of the currently-working-with systems defined in Part 1\n",
    "#for pdbcode in pdb_set:\n",
    "#for pdbcode in testset:\n",
    "for pdbcode in ['5NDZ']:\n",
    "    for apo in [False]:\n",
    "#     for apo in [True, False]:\n",
    "        \n",
    "        try:\n",
    "            # Set the path to the folder containing this simulation's files\n",
    "            sysname = pdbcode+\"_apo\" if apo else pdbcode+\"_complex\" \n",
    "            prodpath = resultspath+'production/'+pdbcode+'_apo/' if apo else resultspath+'production/'+pdbcode+'/' \n",
    "            repath = prodpath+'rep_1/'# For files no changing across representations\n",
    "            modelfolder = \"%sreceptor2curate_output/%s/\"%(basepath, pdbcode) \n",
    "            modelpath = \"%s%s_apo_curated.pdb\"%(modelfolder,pdbcode) if apo else \"%s%s_complex_curated.pdb\"%(modelfolder,pdbcode)\n",
    "            \n",
    "            # Skip if not all trajectories    \n",
    "            incomplete = check_completeness(prodpath)\n",
    "            if incomplete:\n",
    "                continue            \n",
    "            \n",
    "            # Load molecule\n",
    "            mymol = Molecule(repath+'structure.pdb')\n",
    "            print('Submitting '+sysname+' simulation...')\n",
    "\n",
    "            ## Step -2: Get information of protein chains and ligand molecules from PDB web\n",
    "            (protdict,ligdict,segtochain,method_id) = get_pdb_info(pdbcode, mymol, ligandsdict)\n",
    "\n",
    "            ## Step -1: Login into GPCRmd\n",
    "            with requests.Session() as s:\n",
    "                login(s)\n",
    "\n",
    "            ## Step 0: Create a new submission\n",
    "            subm_id = new_submission(s, mainurl)\n",
    "\n",
    "            ## Step 1: General information\n",
    "            new_step1(s, subm_id, pdbcode, trajperiod, timestep, repath, modelpath, method_id, apo)\n",
    "\n",
    "            ## Step 2: Small molecules \n",
    "            new_step2(s, subm_id, ligdict)   \n",
    "    \n",
    "            ## Step 3: Protein chains\n",
    "            new_step3(s, subm_id, protdict)\n",
    "            sdf\n",
    "\n",
    "            ## Step 4: Dynamics information\n",
    "            new_step4(s, subm_id, prodpath, repath)\n",
    "        \n",
    "        except Exception as e:\n",
    "            print(\"Simulation \"+sysname+\" could not be submitted because \",e)            \n"
   ]
  }
 ],
 "metadata": {
  "kernelspec": {
   "display_name": "Python 3",
   "language": "python",
   "name": "python3"
  },
  "language_info": {
   "codemirror_mode": {
    "name": "ipython",
    "version": 3
   },
   "file_extension": ".py",
   "mimetype": "text/x-python",
   "name": "python",
   "nbconvert_exporter": "python",
   "pygments_lexer": "ipython3",
   "version": "3.6.2"
  }
 },
 "nbformat": 4,
 "nbformat_minor": 2
}
