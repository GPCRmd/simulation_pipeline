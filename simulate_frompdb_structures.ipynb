{
 "cells": [
  {
   "cell_type": "code",
   "execution_count": 1,
   "metadata": {},
   "outputs": [
    {
     "name": "stderr",
     "output_type": "stream",
     "text": [
      "/home/david/miniconda3/lib/python3.6/site-packages/htmd/versionwarnings.py:28: UserWarning: As of HTMD 1.16 the default number of threads HTMD spawns for calculations is set to 1. You can enable parallelism at your own risk using `config(njobs=-2)` in the beginning of your scripts. To disable this warning run once: `from htmd import _disableWarnings; _disableWarnings('1.16');`\n",
      "  , UserWarning)\n",
      "/home/david/miniconda3/lib/python3.6/site-packages/htmd/versionwarnings.py:34: UserWarning: As of HTMD 1.21 support for ACEMD v2 has stopped. Please use ACEMD3 instead as well as the corresponding equilibration and production protocols. To disable this warning run once: `from htmd import _disableWarnings; _disableWarnings('1.21');`\n",
      "  , UserWarning)\n",
      "/home/david/miniconda3/lib/python3.6/site-packages/numba/core/errors.py:154: UserWarning: Insufficiently recent colorama version found. Numba requires colorama >= 0.3.9\n",
      "  warnings.warn(msg)\n"
     ]
    },
    {
     "name": "stdout",
     "output_type": "stream",
     "text": [
      "\n",
      "Please cite HTMD: Doerr et al.(2016)JCTC,12,1845. https://dx.doi.org/10.1021/acs.jctc.6b00049\n",
      "\n",
      "HTMD Documentation at: https://www.htmd.org/docs/latest/\n",
      "\n",
      "New stable HTMD version (1.26.5 python[3.9,<3.10.0a0,3.6,<3.7.0a0,3.8,<3.9.0a0,3.7,<3.8.0a0]) is available. You are currently on (1.22.1).There are several methods to update:    - Create a new conda env. using `conda create -n htmd1.26.5 htmd=1.26.5 -c acellera -c psi4 -c conda-forge`    - Create a brand new conda installation and run `conda install htmd -c acellera -c psi4 -c conda-forge`    - Run: `conda update htmd -c acellera -c psi4 -c conda-forge` (NOT RECOMMENDED)\n",
      "\n"
     ]
    },
    {
     "name": "stderr",
     "output_type": "stream",
     "text": [
      "2022-01-11 08:55:54,107 - moleculekit.readers - WARNING - Element guessing failed for atom with name  DUM as the guessed element \"D\" was not found in the periodic table. Check for incorrect column alignment in the PDB file or report to moleculekit issue tracker.\n",
      "2022-01-11 08:55:54,270 - moleculekit.readers - WARNING - Element guessing failed for atom with name  DUM as the guessed element \"D\" was not found in the periodic table. Check for incorrect column alignment in the PDB file or report to moleculekit issue tracker.\n"
     ]
    },
    {
     "name": "stdout",
     "output_type": "stream",
     "text": [
      "env: PATH=/home/david/bin:/home/david/.local/bin:/home/david/miniconda3/bin:/home/david/miniconda3/condabin:/home/david/bin:/home/david/.local/bin:/usr/local/sbin:/usr/local/bin:/usr/sbin:/usr/bin:/sbin:/bin:/usr/games:/usr/local/games:/snap/bin:/home/david/bin:/usr/local/dowser/bin:/usr/local/dowser/bin/linux:/home/david/bin:/usr/local/dowser/bin:/usr/local/dowser/bin/linux:/gpcr/users/daranda/doctorat/PSYBIAS_simulations/fake_slurm/\n"
     ]
    }
   ],
   "source": [
    "####################\n",
    "## Initial stuff\n",
    "####################\n",
    "\n",
    "# Load functions, modules and global variables required in our pipeline\n",
    "from simulate_structures_functions import *\n",
    "from importlib import reload  \n",
    "from htmd.builder.charmm import _recoverProtonations\n",
    "\n",
    "# Our main path\n",
    "basepath = basepath = os.getcwd()+'/'\n",
    "# Other Paths\n",
    "strucpath = basepath + 'input_structures/'\n",
    "resultspath = basepath + 'simulation_output/'\n",
    "membranepdb = basepath + 'membrane/popc36_box_renumbered.pdb'\n",
    "topparpath = basepath + 'toppar/TOP_PARAMS_ACE3/'#toppar= topology+parameters\n",
    "ligandsdict_path = basepath + 'ligands.json'\n",
    "modres_path = basepath + 'modified_residues.json'\n",
    "slurmpath = basepath+'fake_slurm/'\n",
    "# Path to slurm queing system binaries\n",
    "# In our case, Ismael designed a bunch of small bash scripts (fake_slurm) which do ssh to Hydra and execute slurm there\n",
    "# REmember to modify the \"fake_slurm\" commands by adding your username in them\n",
    "path= os.environ['PATH']\n",
    "\n",
    "# Modify path to include fake slurm\n",
    "%env PATH=$path:$slurmpath\n",
    "\n",
    "# USER INPUTS: introudce a json dictionary with the data for your system in the folowing format\n",
    "\"\"\"\n",
    "[\n",
    "    {\n",
    "        \"name\" : \"NAME\",\n",
    "        \"pdbfile\" : \"PATH/TO/YOUR_PDB.pdb\", # Relative to basepath. NOT ABSOLUTE PATH\n",
    "        \"modres\" : [\"MODIFIED_RESNAME1\", \"MODIFIED_RESNAME\"],\n",
    "        \"ligands\" : [{\n",
    "                        \"resname\":\"SMALMOL_RESNAME1\",\n",
    "                        \"name\" : \"SMALMOL_NAME1\",\n",
    "                        \"covalently_bound\" : true # If the SMALMOL is covalently bount to peptide\n",
    "                    }],\n",
    "        \"pdbcode\" : \"PDBCODE\", # CLosest-ressembling PDB structure of this GPCR\n",
    "        \"curated\" : true, # If system has been already properly protonated\n",
    "        \"sod2x50\" : true # If system requires addition of sodium near 2x50\n",
    "    },\n",
    "\"\"\"\n",
    "input_dict = json_dict(basepath+\"inputs.json\")\n",
    "# IMPORTANT: Peptide ligands must have L, L0, L1, L2 or PEP as its segid for \n",
    "#this pipeline to work properly\n",
    "    \n",
    "# Load topology, parameter and stream files with our current basepath\n",
    "topos = [os.path.join(topparpath,file) for file in toposfilenames] \n",
    "params = [os.path.join(topparpath,file) for file in paramsfilenames]\n",
    "streams = [os.path.join(topparpath,file) for file in streamsfilenames]\n"
   ]
  },
  {
   "cell_type": "code",
   "execution_count": 2,
   "metadata": {},
   "outputs": [],
   "source": [
    "########################################\n",
    "# Part 1: Prepare parameters for ligands \n",
    "########################################\n",
    "\n",
    "# Save mol2 files of ligand molecules and modres present in systems\n",
    "(modresdict,ligandsdict,pdbfilesdict) = save_smalmol_mol2(input_dict, basepath)\n",
    "\n",
    "# Get topology-parameter files for ligands\n",
    "get_lig_toppar(ligandsdict, basepath, username, password, pdbfiles = pdbfilesdict)\n",
    "\n",
    "# Get topology-parameter files for modified residues\n",
    "get_modres_toppar(modresdict, basepath, username, password, pdbfiles = pdbfilesdict)"
   ]
  },
  {
   "cell_type": "code",
   "execution_count": 3,
   "metadata": {
    "scrolled": true
   },
   "outputs": [
    {
     "name": "stderr",
     "output_type": "stream",
     "text": [
      "2021-12-30 17:50:45,253 - moleculekit.molecule - INFO - Removed 0 atoms. 4887 atoms remaining in the molecule.\n",
      "2021-12-30 17:50:47,136 - moleculekit.molecule - INFO - Removed 0 atoms. 4887 atoms remaining in the molecule.\n",
      "2021-12-30 17:50:47,179 - moleculekit.molecule - INFO - Removed 3 atoms. 4884 atoms remaining in the molecule.\n",
      "2021-12-30 17:50:47,276 - moleculekit.molecule - INFO - Removed 0 atoms. 4884 atoms remaining in the molecule.\n",
      "2021-12-30 17:50:47,795 - moleculekit.tools.autosegment - INFO - Created segment P0 between resid 1 and 393.\n",
      "2021-12-30 17:50:49,261 - moleculekit.molecule - INFO - Removed 0 atoms. 4884 atoms remaining in the molecule.\n",
      "/home/david/miniconda3/lib/python3.6/site-packages/Bio/SubsMat/__init__.py:131: BiopythonDeprecationWarning: Bio.SubsMat has been deprecated, and we intend to remove it in a future release of Biopython. As an alternative, please consider using Bio.Align.substitution_matrices as a replacement, and contact the Biopython developers if you still need the Bio.SubsMat module.\n",
      "  BiopythonDeprecationWarning,\n",
      "2021-12-30 17:50:52,718 - moleculekit.tools.sequencestructuralalignment - INFO - No segment was specified by the user for `mol`. Alignment will be done on all protein segments.\n",
      "2021-12-30 17:50:52,757 - moleculekit.tools.sequencestructuralalignment - INFO - No segment was specified by the user for `ref` and multiple segments (['0', '1', '2', '3', '4']) were detected. Alignment will be done on all protein segments.\n",
      "2021-12-30 17:50:53,040 - moleculekit.tools.sequencestructuralalignment - WARNING - 8 alignments found. Limiting to 1 as specified in the `maxalignments` argument.\n",
      "2021-12-30 17:50:53,041 - moleculekit.tools.sequencestructuralalignment - INFO - Alignment #0 was done on 79 residues: mol segid P0 resid 145-223\n",
      "/home/david/miniconda3/lib/python3.6/site-packages/moleculekit/align.py:16: NumbaPerformanceWarning: np.dot() is faster on contiguous arrays, called on (array(float32, 2d, A), array(float32, 2d, A))\n",
      "  covariance = np.dot(P.T, Q)\n",
      "/home/david/miniconda3/lib/python3.6/site-packages/moleculekit/align.py:54: NumbaPerformanceWarning: np.dot() is faster on contiguous arrays, called on (array(float32, 2d, C), array(float32, 2d, A))\n",
      "  all1 = np.dot(all1, rot.T)\n"
     ]
    },
    {
     "name": "stdout",
     "output_type": "stream",
     "text": [
      "Adding membrane...\n"
     ]
    },
    {
     "name": "stderr",
     "output_type": "stream",
     "text": [
      "2021-12-30 17:50:57,256 - htmd.builder.builder - INFO - Replicating Membrane 3x3\n",
      "Replicating Membrane: 100%|██████████| 9/9 [00:02<00:00,  3.87it/s]\n",
      "2021-12-30 17:52:39,352 - moleculekit.molecule - INFO - Removed 2189 atoms. 42835 atoms remaining in the molecule.\n",
      "2021-12-30 17:52:40,594 - moleculekit.molecule - INFO - Removed 126 residues from appended Molecule due to collisions.\n"
     ]
    },
    {
     "name": "stdout",
     "output_type": "stream",
     "text": [
      "Solvating...\n"
     ]
    },
    {
     "name": "stderr",
     "output_type": "stream",
     "text": [
      "2021-12-30 17:52:41,306 - htmd.builder.solvate - INFO - Using water pdb file at: /home/david/miniconda3/lib/python3.6/site-packages/htmd/share/solvate/wat.pdb\n"
     ]
    },
    {
     "name": "stdout",
     "output_type": "stream",
     "text": [
      "wataerbox Max and min:  [52.285786 53.262016 28.060892] [-47.308212 -46.377983 -27.734108]\n"
     ]
    },
    {
     "name": "stderr",
     "output_type": "stream",
     "text": [
      "2021-12-30 17:52:41,983 - htmd.builder.solvate - INFO - Replicating 8 water segments, 2 by 2 by 2\n",
      "Solvating: 100%|██████████| 8/8 [00:08<00:00,  1.07s/it]\n",
      "2021-12-30 17:52:52,145 - htmd.builder.solvate - INFO - 12367 water molecules were added to the system.\n",
      "2021-12-30 17:52:57,625 - moleculekit.molecule - INFO - Removed 579 atoms. 79147 atoms remaining in the molecule.\n"
     ]
    },
    {
     "name": "stdout",
     "output_type": "stream",
     "text": [
      "Pre-build...\n"
     ]
    },
    {
     "name": "stderr",
     "output_type": "stream",
     "text": [
      "2021-12-30 17:53:02,433 - htmd.builder.charmm - INFO - Writing out segments.\n",
      "2021-12-30 17:53:08,340 - htmd.builder.builder - INFO - 2 disulfide bonds were added\n"
     ]
    },
    {
     "name": "stdout",
     "output_type": "stream",
     "text": [
      "Disulfide Bond between: UniqueResidueID<resname: 'CYS', chain: 'P', resid: 349, insertion: '', segid: 'P0'>\n",
      "                   and: UniqueResidueID<resname: 'CYS', chain: 'P', resid: 353, insertion: '', segid: 'P0'>\n",
      "\n",
      "Disulfide Bond between: UniqueResidueID<resname: 'CYS', chain: 'P', resid: 148, insertion: '', segid: 'P0'>\n",
      "                   and: UniqueResidueID<resname: 'CYS', chain: 'P', resid: 227, insertion: '', segid: 'P0'>\n",
      "\n"
     ]
    },
    {
     "name": "stderr",
     "output_type": "stream",
     "text": [
      "2021-12-30 17:53:09,180 - htmd.builder.charmm - INFO - Starting the build.\n",
      "2021-12-30 17:53:16,522 - htmd.builder.charmm - WARNING - Failed to set coordinates for 5 atoms.\n",
      "2021-12-30 17:53:16,523 - htmd.builder.charmm - WARNING - Failed to guess coordinates for 3 atoms due to bad angles.\n",
      "2021-12-30 17:53:16,523 - htmd.builder.charmm - WARNING - Poorly guessed coordinates for 15 atoms.\n",
      "2021-12-30 17:53:16,523 - htmd.builder.charmm - WARNING - Please check /gpcr/users/daranda/doctorat/PSYBIAS_simulations/simulation_output/pre-build/metI/log.txt for further information.\n",
      "2021-12-30 17:53:16,524 - htmd.builder.charmm - INFO - Finished building.\n",
      "2021-12-30 17:53:39,548 - htmd.builder.builder - WARNING - Found cis peptide bond in 1 frames: [0] in the omega diheral \"Angle of (SER 285 CA P0 P) (SER 285 C P0 P) (ILE 315 N P0 P) (ILE 315 CA P0 P) \" with indexes [3475, 3482, 3484, 3486]\n"
     ]
    },
    {
     "name": "stdout",
     "output_type": "stream",
     "text": [
      "Checking aromatic insertions...\n",
      "WARNING: removed 0 atoms within 1.5 of a protein aromatic ring\n",
      "Renumbering...\n",
      "Ionizing...\n"
     ]
    },
    {
     "name": "stderr",
     "output_type": "stream",
     "text": [
      "2021-12-30 17:54:45,761 - htmd.builder.charmm - INFO - Writing out segments.\n",
      "2021-12-30 17:54:52,307 - htmd.builder.builder - INFO - 2 disulfide bonds were added\n"
     ]
    },
    {
     "name": "stdout",
     "output_type": "stream",
     "text": [
      "Disulfide Bond between: UniqueResidueID<resname: 'CYS', chain: 'P', resid: 349, insertion: '', segid: 'P0'>\n",
      "                   and: UniqueResidueID<resname: 'CYS', chain: 'P', resid: 353, insertion: '', segid: 'P0'>\n",
      "\n",
      "Disulfide Bond between: UniqueResidueID<resname: 'CYS', chain: 'P', resid: 148, insertion: '', segid: 'P0'>\n",
      "                   and: UniqueResidueID<resname: 'CYS', chain: 'P', resid: 227, insertion: '', segid: 'P0'>\n",
      "\n"
     ]
    },
    {
     "name": "stderr",
     "output_type": "stream",
     "text": [
      "2021-12-30 17:54:53,537 - htmd.builder.charmm - INFO - Starting the build.\n",
      "2021-12-30 17:54:59,605 - htmd.builder.charmm - INFO - Finished building.\n",
      "2021-12-30 17:55:06,148 - htmd.builder.ionize - INFO - Adding 10 anions + 0 cations for neutralizing and 90 ions for the given salt concentration.\n",
      "2021-12-30 17:55:37,173 - htmd.builder.charmm - INFO - Writing out segments.\n",
      "2021-12-30 17:55:44,693 - htmd.builder.charmm - INFO - Starting the build.\n",
      "2021-12-30 17:55:50,632 - htmd.builder.charmm - INFO - Finished building.\n",
      "2021-12-30 17:56:14,630 - htmd.builder.builder - WARNING - Found cis peptide bond in 1 frames: [0] in the omega diheral \"Angle of (SER 285 CA P0 P) (SER 285 C P0 P) (ILE 315 N P0 P) (ILE 315 CA P0 P) \" with indexes [3475, 3482, 3484, 3486]\n"
     ]
    },
    {
     "name": "stdout",
     "output_type": "stream",
     "text": [
      "Building...\n"
     ]
    },
    {
     "name": "stderr",
     "output_type": "stream",
     "text": [
      "2021-12-30 17:56:44,126 - htmd.builder.charmm - INFO - Writing out segments.\n",
      "2021-12-30 17:56:50,627 - htmd.builder.builder - INFO - 2 disulfide bonds were added\n"
     ]
    },
    {
     "name": "stdout",
     "output_type": "stream",
     "text": [
      "Disulfide Bond between: UniqueResidueID<resname: 'CYS', chain: 'P', resid: 349, insertion: '', segid: 'P0'>\n",
      "                   and: UniqueResidueID<resname: 'CYS', chain: 'P', resid: 353, insertion: '', segid: 'P0'>\n",
      "\n",
      "Disulfide Bond between: UniqueResidueID<resname: 'CYS', chain: 'P', resid: 148, insertion: '', segid: 'P0'>\n",
      "                   and: UniqueResidueID<resname: 'CYS', chain: 'P', resid: 227, insertion: '', segid: 'P0'>\n",
      "\n"
     ]
    },
    {
     "name": "stderr",
     "output_type": "stream",
     "text": [
      "2021-12-30 17:56:51,743 - htmd.builder.charmm - INFO - Starting the build.\n",
      "2021-12-30 17:56:57,505 - htmd.builder.charmm - INFO - Finished building.\n",
      "2021-12-30 17:57:22,378 - htmd.builder.builder - WARNING - Found cis peptide bond in 1 frames: [0] in the omega diheral \"Angle of (SER 285 CA P0 P) (SER 285 C P0 P) (ILE 315 N P0 P) (ILE 315 CA P0 P) \" with indexes [3475, 3482, 3484, 3486]\n"
     ]
    },
    {
     "name": "stdout",
     "output_type": "stream",
     "text": [
      "End of metI after 404.7246241569519 seconds\n",
      "\n"
     ]
    },
    {
     "name": "stderr",
     "output_type": "stream",
     "text": [
      "2021-12-30 17:57:29,455 - moleculekit.molecule - INFO - Removed 0 atoms. 4886 atoms remaining in the molecule.\n",
      "2021-12-30 17:57:31,469 - moleculekit.molecule - INFO - Removed 0 atoms. 4886 atoms remaining in the molecule.\n",
      "2021-12-30 17:57:31,505 - moleculekit.molecule - INFO - Removed 3 atoms. 4883 atoms remaining in the molecule.\n",
      "2021-12-30 17:57:31,610 - moleculekit.molecule - INFO - Removed 0 atoms. 4883 atoms remaining in the molecule.\n",
      "2021-12-30 17:57:32,153 - moleculekit.tools.autosegment - INFO - Created segment P0 between resid 1 and 393.\n",
      "2021-12-30 17:57:33,783 - moleculekit.molecule - INFO - Removed 0 atoms. 4883 atoms remaining in the molecule.\n",
      "2021-12-30 17:57:37,754 - moleculekit.tools.sequencestructuralalignment - INFO - No segment was specified by the user for `mol`. Alignment will be done on all protein segments.\n",
      "2021-12-30 17:57:37,797 - moleculekit.tools.sequencestructuralalignment - INFO - No segment was specified by the user for `ref` and multiple segments (['0', '1', '2', '3', '4']) were detected. Alignment will be done on all protein segments.\n",
      "2021-12-30 17:57:38,124 - moleculekit.tools.sequencestructuralalignment - WARNING - 8 alignments found. Limiting to 1 as specified in the `maxalignments` argument.\n",
      "2021-12-30 17:57:38,126 - moleculekit.tools.sequencestructuralalignment - INFO - Alignment #0 was done on 79 residues: mol segid P0 resid 145-223\n"
     ]
    },
    {
     "name": "stdout",
     "output_type": "stream",
     "text": [
      "Adding membrane...\n"
     ]
    },
    {
     "name": "stderr",
     "output_type": "stream",
     "text": [
      "2021-12-30 17:57:39,141 - htmd.builder.builder - INFO - Replicating Membrane 3x3\n",
      "Replicating Membrane: 100%|██████████| 9/9 [00:02<00:00,  3.42it/s]\n",
      "2021-12-30 17:59:10,948 - moleculekit.molecule - INFO - Removed 2189 atoms. 42835 atoms remaining in the molecule.\n",
      "2021-12-30 17:59:12,082 - moleculekit.molecule - INFO - Removed 126 residues from appended Molecule due to collisions.\n"
     ]
    },
    {
     "name": "stdout",
     "output_type": "stream",
     "text": [
      "Solvating...\n"
     ]
    },
    {
     "name": "stderr",
     "output_type": "stream",
     "text": [
      "2021-12-30 17:59:12,823 - htmd.builder.solvate - INFO - Using water pdb file at: /home/david/miniconda3/lib/python3.6/site-packages/htmd/share/solvate/wat.pdb\n"
     ]
    },
    {
     "name": "stdout",
     "output_type": "stream",
     "text": [
      "wataerbox Max and min:  [52.28578  53.261982 28.060892] [-47.30822  -46.37802  -27.734108]\n"
     ]
    },
    {
     "name": "stderr",
     "output_type": "stream",
     "text": [
      "2021-12-30 17:59:13,642 - htmd.builder.solvate - INFO - Replicating 8 water segments, 2 by 2 by 2\n",
      "Solvating: 100%|██████████| 8/8 [00:08<00:00,  1.12s/it]\n",
      "2021-12-30 17:59:24,281 - htmd.builder.solvate - INFO - 12367 water molecules were added to the system.\n",
      "2021-12-30 17:59:29,906 - moleculekit.molecule - INFO - Removed 579 atoms. 79146 atoms remaining in the molecule.\n"
     ]
    },
    {
     "name": "stdout",
     "output_type": "stream",
     "text": [
      "Pre-build...\n"
     ]
    },
    {
     "name": "stderr",
     "output_type": "stream",
     "text": [
      "2021-12-30 17:59:34,671 - htmd.builder.charmm - INFO - Writing out segments.\n",
      "2021-12-30 17:59:40,350 - htmd.builder.builder - INFO - 2 disulfide bonds were added\n"
     ]
    },
    {
     "name": "stdout",
     "output_type": "stream",
     "text": [
      "Disulfide Bond between: UniqueResidueID<resname: 'CYS', chain: 'P', resid: 349, insertion: '', segid: 'P0'>\n",
      "                   and: UniqueResidueID<resname: 'CYS', chain: 'P', resid: 353, insertion: '', segid: 'P0'>\n",
      "\n",
      "Disulfide Bond between: UniqueResidueID<resname: 'CYS', chain: 'P', resid: 148, insertion: '', segid: 'P0'>\n",
      "                   and: UniqueResidueID<resname: 'CYS', chain: 'P', resid: 227, insertion: '', segid: 'P0'>\n",
      "\n"
     ]
    },
    {
     "name": "stderr",
     "output_type": "stream",
     "text": [
      "2021-12-30 17:59:41,076 - htmd.builder.charmm - INFO - Starting the build.\n",
      "2021-12-30 17:59:48,357 - htmd.builder.charmm - WARNING - Failed to set coordinates for 5 atoms.\n",
      "2021-12-30 17:59:48,357 - htmd.builder.charmm - WARNING - Failed to guess coordinates for 3 atoms due to bad angles.\n",
      "2021-12-30 17:59:48,358 - htmd.builder.charmm - WARNING - Poorly guessed coordinates for 15 atoms.\n",
      "2021-12-30 17:59:48,358 - htmd.builder.charmm - WARNING - Please check /gpcr/users/daranda/doctorat/PSYBIAS_simulations/simulation_output/pre-build/metI_mut/log.txt for further information.\n",
      "2021-12-30 17:59:48,359 - htmd.builder.charmm - INFO - Finished building.\n",
      "2021-12-30 18:00:09,706 - htmd.builder.builder - WARNING - Found cis peptide bond in 1 frames: [0] in the omega diheral \"Angle of (SER 285 CA P0 P) (SER 285 C P0 P) (ILE 315 N P0 P) (ILE 315 CA P0 P) \" with indexes [3474, 3481, 3483, 3485]\n"
     ]
    },
    {
     "name": "stdout",
     "output_type": "stream",
     "text": [
      "Checking aromatic insertions...\n",
      "WARNING: removed 0 atoms within 1.5 of a protein aromatic ring\n",
      "Renumbering...\n",
      "Ionizing...\n"
     ]
    },
    {
     "name": "stderr",
     "output_type": "stream",
     "text": [
      "2021-12-30 18:01:13,036 - htmd.builder.charmm - INFO - Writing out segments.\n",
      "2021-12-30 18:01:19,397 - htmd.builder.builder - INFO - 2 disulfide bonds were added\n"
     ]
    },
    {
     "name": "stdout",
     "output_type": "stream",
     "text": [
      "Disulfide Bond between: UniqueResidueID<resname: 'CYS', chain: 'P', resid: 349, insertion: '', segid: 'P0'>\n",
      "                   and: UniqueResidueID<resname: 'CYS', chain: 'P', resid: 353, insertion: '', segid: 'P0'>\n",
      "\n",
      "Disulfide Bond between: UniqueResidueID<resname: 'CYS', chain: 'P', resid: 148, insertion: '', segid: 'P0'>\n",
      "                   and: UniqueResidueID<resname: 'CYS', chain: 'P', resid: 227, insertion: '', segid: 'P0'>\n",
      "\n"
     ]
    },
    {
     "name": "stderr",
     "output_type": "stream",
     "text": [
      "2021-12-30 18:01:20,358 - htmd.builder.charmm - INFO - Starting the build.\n",
      "2021-12-30 18:01:26,897 - htmd.builder.charmm - INFO - Finished building.\n",
      "2021-12-30 18:01:32,686 - htmd.builder.ionize - INFO - Adding 10 anions + 0 cations for neutralizing and 90 ions for the given salt concentration.\n",
      "2021-12-30 18:02:03,061 - htmd.builder.charmm - INFO - Writing out segments.\n",
      "2021-12-30 18:02:10,425 - htmd.builder.charmm - INFO - Starting the build.\n",
      "2021-12-30 18:02:17,634 - htmd.builder.charmm - INFO - Finished building.\n",
      "2021-12-30 18:02:40,617 - htmd.builder.builder - WARNING - Found cis peptide bond in 1 frames: [0] in the omega diheral \"Angle of (SER 285 CA P0 P) (SER 285 C P0 P) (ILE 315 N P0 P) (ILE 315 CA P0 P) \" with indexes [3474, 3481, 3483, 3485]\n"
     ]
    },
    {
     "name": "stdout",
     "output_type": "stream",
     "text": [
      "Building...\n"
     ]
    },
    {
     "name": "stderr",
     "output_type": "stream",
     "text": [
      "2021-12-30 18:03:08,200 - htmd.builder.charmm - INFO - Writing out segments.\n",
      "2021-12-30 18:03:15,545 - htmd.builder.builder - INFO - 2 disulfide bonds were added\n"
     ]
    },
    {
     "name": "stdout",
     "output_type": "stream",
     "text": [
      "Disulfide Bond between: UniqueResidueID<resname: 'CYS', chain: 'P', resid: 349, insertion: '', segid: 'P0'>\n",
      "                   and: UniqueResidueID<resname: 'CYS', chain: 'P', resid: 353, insertion: '', segid: 'P0'>\n",
      "\n",
      "Disulfide Bond between: UniqueResidueID<resname: 'CYS', chain: 'P', resid: 148, insertion: '', segid: 'P0'>\n",
      "                   and: UniqueResidueID<resname: 'CYS', chain: 'P', resid: 227, insertion: '', segid: 'P0'>\n",
      "\n"
     ]
    },
    {
     "name": "stderr",
     "output_type": "stream",
     "text": [
      "2021-12-30 18:03:16,709 - htmd.builder.charmm - INFO - Starting the build.\n",
      "2021-12-30 18:03:27,053 - htmd.builder.charmm - INFO - Finished building.\n",
      "2021-12-30 18:03:51,218 - htmd.builder.builder - WARNING - Found cis peptide bond in 1 frames: [0] in the omega diheral \"Angle of (SER 285 CA P0 P) (SER 285 C P0 P) (ILE 315 N P0 P) (ILE 315 CA P0 P) \" with indexes [3474, 3481, 3483, 3485]\n"
     ]
    },
    {
     "name": "stdout",
     "output_type": "stream",
     "text": [
      "End of metI_mut after 388.84014320373535 seconds\n",
      "\n"
     ]
    },
    {
     "name": "stderr",
     "output_type": "stream",
     "text": [
      "2021-12-30 18:03:58,624 - moleculekit.molecule - INFO - Removed 0 atoms. 4888 atoms remaining in the molecule.\n",
      "2021-12-30 18:04:00,589 - moleculekit.molecule - INFO - Removed 0 atoms. 4888 atoms remaining in the molecule.\n",
      "2021-12-30 18:04:00,625 - moleculekit.molecule - INFO - Removed 3 atoms. 4885 atoms remaining in the molecule.\n",
      "2021-12-30 18:04:00,726 - moleculekit.molecule - INFO - Removed 0 atoms. 4885 atoms remaining in the molecule.\n",
      "2021-12-30 18:04:01,235 - moleculekit.tools.autosegment - INFO - Created segment P0 between resid 1 and 393.\n",
      "2021-12-30 18:04:02,767 - moleculekit.molecule - INFO - Removed 0 atoms. 4885 atoms remaining in the molecule.\n",
      "2021-12-30 18:04:06,507 - moleculekit.tools.sequencestructuralalignment - INFO - No segment was specified by the user for `mol`. Alignment will be done on all protein segments.\n",
      "2021-12-30 18:04:06,549 - moleculekit.tools.sequencestructuralalignment - INFO - No segment was specified by the user for `ref` and multiple segments (['0', '1', '2', '3', '4']) were detected. Alignment will be done on all protein segments.\n",
      "2021-12-30 18:04:06,843 - moleculekit.tools.sequencestructuralalignment - WARNING - 8 alignments found. Limiting to 1 as specified in the `maxalignments` argument.\n",
      "2021-12-30 18:04:06,844 - moleculekit.tools.sequencestructuralalignment - INFO - Alignment #0 was done on 79 residues: mol segid P0 resid 145-223\n"
     ]
    },
    {
     "name": "stdout",
     "output_type": "stream",
     "text": [
      "Adding membrane...\n"
     ]
    },
    {
     "name": "stderr",
     "output_type": "stream",
     "text": [
      "2021-12-30 18:04:07,781 - htmd.builder.builder - INFO - Replicating Membrane 3x3\n",
      "Replicating Membrane: 100%|██████████| 9/9 [00:02<00:00,  3.88it/s]\n",
      "2021-12-30 18:05:39,031 - moleculekit.molecule - INFO - Removed 2189 atoms. 42835 atoms remaining in the molecule.\n",
      "2021-12-30 18:05:40,157 - moleculekit.molecule - INFO - Removed 126 residues from appended Molecule due to collisions.\n"
     ]
    },
    {
     "name": "stdout",
     "output_type": "stream",
     "text": [
      "Solvating...\n"
     ]
    },
    {
     "name": "stderr",
     "output_type": "stream",
     "text": [
      "2021-12-30 18:05:40,895 - htmd.builder.solvate - INFO - Using water pdb file at: /home/david/miniconda3/lib/python3.6/site-packages/htmd/share/solvate/wat.pdb\n"
     ]
    },
    {
     "name": "stdout",
     "output_type": "stream",
     "text": [
      "wataerbox Max and min:  [52.285786 53.262016 28.060892] [-47.308212 -46.377983 -27.734108]\n"
     ]
    },
    {
     "name": "stderr",
     "output_type": "stream",
     "text": [
      "2021-12-30 18:05:41,696 - htmd.builder.solvate - INFO - Replicating 8 water segments, 2 by 2 by 2\n",
      "Solvating: 100%|██████████| 8/8 [00:09<00:00,  1.13s/it]\n",
      "2021-12-30 18:05:52,442 - htmd.builder.solvate - INFO - 12367 water molecules were added to the system.\n",
      "2021-12-30 18:05:57,975 - moleculekit.molecule - INFO - Removed 579 atoms. 79148 atoms remaining in the molecule.\n"
     ]
    },
    {
     "name": "stdout",
     "output_type": "stream",
     "text": [
      "Pre-build...\n"
     ]
    },
    {
     "name": "stderr",
     "output_type": "stream",
     "text": [
      "2021-12-30 18:06:03,208 - htmd.builder.charmm - INFO - Writing out segments.\n",
      "2021-12-30 18:06:10,049 - htmd.builder.builder - INFO - 2 disulfide bonds were added\n"
     ]
    },
    {
     "name": "stdout",
     "output_type": "stream",
     "text": [
      "Disulfide Bond between: UniqueResidueID<resname: 'CYS', chain: 'P', resid: 349, insertion: '', segid: 'P0'>\n",
      "                   and: UniqueResidueID<resname: 'CYS', chain: 'P', resid: 353, insertion: '', segid: 'P0'>\n",
      "\n",
      "Disulfide Bond between: UniqueResidueID<resname: 'CYS', chain: 'P', resid: 148, insertion: '', segid: 'P0'>\n",
      "                   and: UniqueResidueID<resname: 'CYS', chain: 'P', resid: 227, insertion: '', segid: 'P0'>\n",
      "\n"
     ]
    },
    {
     "name": "stderr",
     "output_type": "stream",
     "text": [
      "2021-12-30 18:06:11,110 - htmd.builder.charmm - INFO - Starting the build.\n",
      "2021-12-30 18:06:21,825 - htmd.builder.charmm - WARNING - Failed to set coordinates for 5 atoms.\n",
      "2021-12-30 18:06:21,826 - htmd.builder.charmm - WARNING - Failed to guess coordinates for 3 atoms due to bad angles.\n",
      "2021-12-30 18:06:21,826 - htmd.builder.charmm - WARNING - Poorly guessed coordinates for 15 atoms.\n",
      "2021-12-30 18:06:21,827 - htmd.builder.charmm - WARNING - Please check /gpcr/users/daranda/doctorat/PSYBIAS_simulations/simulation_output/pre-build/NitroI/log.txt for further information.\n",
      "2021-12-30 18:06:21,828 - htmd.builder.charmm - INFO - Finished building.\n",
      "2021-12-30 18:06:46,003 - htmd.builder.builder - WARNING - Found cis peptide bond in 1 frames: [0] in the omega diheral \"Angle of (SER 285 CA P0 P) (SER 285 C P0 P) (ILE 315 N P0 P) (ILE 315 CA P0 P) \" with indexes [3475, 3482, 3484, 3486]\n"
     ]
    },
    {
     "name": "stdout",
     "output_type": "stream",
     "text": [
      "Checking aromatic insertions...\n",
      "WARNING: removed 0 atoms within 1.5 of a protein aromatic ring\n",
      "Renumbering...\n",
      "Ionizing...\n"
     ]
    },
    {
     "name": "stderr",
     "output_type": "stream",
     "text": [
      "2021-12-30 18:07:51,119 - htmd.builder.charmm - INFO - Writing out segments.\n",
      "2021-12-30 18:07:58,060 - htmd.builder.builder - INFO - 2 disulfide bonds were added\n"
     ]
    },
    {
     "name": "stdout",
     "output_type": "stream",
     "text": [
      "Disulfide Bond between: UniqueResidueID<resname: 'CYS', chain: 'P', resid: 349, insertion: '', segid: 'P0'>\n",
      "                   and: UniqueResidueID<resname: 'CYS', chain: 'P', resid: 353, insertion: '', segid: 'P0'>\n",
      "\n",
      "Disulfide Bond between: UniqueResidueID<resname: 'CYS', chain: 'P', resid: 148, insertion: '', segid: 'P0'>\n",
      "                   and: UniqueResidueID<resname: 'CYS', chain: 'P', resid: 227, insertion: '', segid: 'P0'>\n",
      "\n"
     ]
    },
    {
     "name": "stderr",
     "output_type": "stream",
     "text": [
      "2021-12-30 18:07:59,091 - htmd.builder.charmm - INFO - Starting the build.\n",
      "2021-12-30 18:08:08,370 - htmd.builder.charmm - INFO - Finished building.\n",
      "2021-12-30 18:08:15,477 - htmd.builder.ionize - INFO - Adding 10 anions + 0 cations for neutralizing and 90 ions for the given salt concentration.\n",
      "2021-12-30 18:08:45,540 - htmd.builder.charmm - INFO - Writing out segments.\n",
      "2021-12-30 18:08:53,125 - htmd.builder.charmm - INFO - Starting the build.\n",
      "2021-12-30 18:09:01,275 - htmd.builder.charmm - INFO - Finished building.\n",
      "2021-12-30 18:09:23,873 - htmd.builder.builder - WARNING - Found cis peptide bond in 1 frames: [0] in the omega diheral \"Angle of (SER 285 CA P0 P) (SER 285 C P0 P) (ILE 315 N P0 P) (ILE 315 CA P0 P) \" with indexes [3475, 3482, 3484, 3486]\n"
     ]
    },
    {
     "name": "stdout",
     "output_type": "stream",
     "text": [
      "Building...\n"
     ]
    },
    {
     "name": "stderr",
     "output_type": "stream",
     "text": [
      "2021-12-30 18:09:51,709 - htmd.builder.charmm - INFO - Writing out segments.\n",
      "2021-12-30 18:09:58,764 - htmd.builder.builder - INFO - 2 disulfide bonds were added\n"
     ]
    },
    {
     "name": "stdout",
     "output_type": "stream",
     "text": [
      "Disulfide Bond between: UniqueResidueID<resname: 'CYS', chain: 'P', resid: 349, insertion: '', segid: 'P0'>\n",
      "                   and: UniqueResidueID<resname: 'CYS', chain: 'P', resid: 353, insertion: '', segid: 'P0'>\n",
      "\n",
      "Disulfide Bond between: UniqueResidueID<resname: 'CYS', chain: 'P', resid: 148, insertion: '', segid: 'P0'>\n",
      "                   and: UniqueResidueID<resname: 'CYS', chain: 'P', resid: 227, insertion: '', segid: 'P0'>\n",
      "\n"
     ]
    },
    {
     "name": "stderr",
     "output_type": "stream",
     "text": [
      "2021-12-30 18:09:59,905 - htmd.builder.charmm - INFO - Starting the build.\n",
      "2021-12-30 18:10:08,458 - htmd.builder.charmm - INFO - Finished building.\n",
      "2021-12-30 18:10:31,933 - htmd.builder.builder - WARNING - Found cis peptide bond in 1 frames: [0] in the omega diheral \"Angle of (SER 285 CA P0 P) (SER 285 C P0 P) (ILE 315 N P0 P) (ILE 315 CA P0 P) \" with indexes [3475, 3482, 3484, 3486]\n"
     ]
    },
    {
     "name": "stdout",
     "output_type": "stream",
     "text": [
      "End of NitroI after 400.7149283885956 seconds\n",
      "\n"
     ]
    },
    {
     "name": "stderr",
     "output_type": "stream",
     "text": [
      "2021-12-30 18:10:38,909 - moleculekit.molecule - INFO - Removed 0 atoms. 4884 atoms remaining in the molecule.\n",
      "2021-12-30 18:10:40,836 - moleculekit.molecule - INFO - Removed 0 atoms. 4884 atoms remaining in the molecule.\n",
      "2021-12-30 18:10:40,869 - moleculekit.molecule - INFO - Removed 3 atoms. 4881 atoms remaining in the molecule.\n",
      "2021-12-30 18:10:40,967 - moleculekit.molecule - INFO - Removed 0 atoms. 4881 atoms remaining in the molecule.\n",
      "2021-12-30 18:10:41,457 - moleculekit.tools.autosegment - INFO - Created segment P0 between resid 1 and 393.\n",
      "2021-12-30 18:10:42,896 - moleculekit.molecule - INFO - Removed 0 atoms. 4881 atoms remaining in the molecule.\n",
      "2021-12-30 18:10:46,409 - moleculekit.tools.sequencestructuralalignment - INFO - No segment was specified by the user for `mol`. Alignment will be done on all protein segments.\n",
      "2021-12-30 18:10:46,450 - moleculekit.tools.sequencestructuralalignment - INFO - No segment was specified by the user for `ref` and multiple segments (['0', '1', '2', '3', '4']) were detected. Alignment will be done on all protein segments.\n",
      "2021-12-30 18:10:46,736 - moleculekit.tools.sequencestructuralalignment - WARNING - 8 alignments found. Limiting to 1 as specified in the `maxalignments` argument.\n",
      "2021-12-30 18:10:46,738 - moleculekit.tools.sequencestructuralalignment - INFO - Alignment #0 was done on 79 residues: mol segid P0 resid 145-223\n"
     ]
    },
    {
     "name": "stdout",
     "output_type": "stream",
     "text": [
      "Adding membrane...\n"
     ]
    },
    {
     "name": "stderr",
     "output_type": "stream",
     "text": [
      "2021-12-30 18:10:47,684 - htmd.builder.builder - INFO - Replicating Membrane 3x3\n",
      "Replicating Membrane: 100%|██████████| 9/9 [00:02<00:00,  3.76it/s]\n",
      "2021-12-30 18:12:22,898 - moleculekit.molecule - INFO - Removed 2189 atoms. 42835 atoms remaining in the molecule.\n",
      "2021-12-30 18:12:24,043 - moleculekit.molecule - INFO - Removed 126 residues from appended Molecule due to collisions.\n"
     ]
    },
    {
     "name": "stdout",
     "output_type": "stream",
     "text": [
      "Solvating...\n"
     ]
    },
    {
     "name": "stderr",
     "output_type": "stream",
     "text": [
      "2021-12-30 18:12:24,790 - htmd.builder.solvate - INFO - Using water pdb file at: /home/david/miniconda3/lib/python3.6/site-packages/htmd/share/solvate/wat.pdb\n"
     ]
    },
    {
     "name": "stdout",
     "output_type": "stream",
     "text": [
      "wataerbox Max and min:  [52.28578  53.261982 28.060892] [-47.30822  -46.37802  -27.734108]\n"
     ]
    },
    {
     "name": "stderr",
     "output_type": "stream",
     "text": [
      "2021-12-30 18:12:25,621 - htmd.builder.solvate - INFO - Replicating 8 water segments, 2 by 2 by 2\n",
      "Solvating: 100%|██████████| 8/8 [00:09<00:00,  1.18s/it]\n",
      "2021-12-30 18:12:36,774 - htmd.builder.solvate - INFO - 12367 water molecules were added to the system.\n",
      "2021-12-30 18:12:42,587 - moleculekit.molecule - INFO - Removed 579 atoms. 79144 atoms remaining in the molecule.\n"
     ]
    },
    {
     "name": "stdout",
     "output_type": "stream",
     "text": [
      "Pre-build...\n"
     ]
    },
    {
     "name": "stderr",
     "output_type": "stream",
     "text": [
      "2021-12-30 18:12:47,737 - htmd.builder.charmm - INFO - Writing out segments.\n",
      "2021-12-30 18:12:54,387 - htmd.builder.builder - INFO - 2 disulfide bonds were added\n"
     ]
    },
    {
     "name": "stdout",
     "output_type": "stream",
     "text": [
      "Disulfide Bond between: UniqueResidueID<resname: 'CYS', chain: 'P', resid: 349, insertion: '', segid: 'P0'>\n",
      "                   and: UniqueResidueID<resname: 'CYS', chain: 'P', resid: 353, insertion: '', segid: 'P0'>\n",
      "\n",
      "Disulfide Bond between: UniqueResidueID<resname: 'CYS', chain: 'P', resid: 148, insertion: '', segid: 'P0'>\n",
      "                   and: UniqueResidueID<resname: 'CYS', chain: 'P', resid: 227, insertion: '', segid: 'P0'>\n",
      "\n"
     ]
    },
    {
     "name": "stderr",
     "output_type": "stream",
     "text": [
      "2021-12-30 18:12:55,334 - htmd.builder.charmm - INFO - Starting the build.\n",
      "2021-12-30 18:13:03,623 - htmd.builder.charmm - WARNING - Failed to set coordinates for 5 atoms.\n",
      "2021-12-30 18:13:03,626 - htmd.builder.charmm - WARNING - Failed to guess coordinates for 3 atoms due to bad angles.\n",
      "2021-12-30 18:13:03,628 - htmd.builder.charmm - WARNING - Poorly guessed coordinates for 15 atoms.\n",
      "2021-12-30 18:13:03,629 - htmd.builder.charmm - WARNING - Please check /gpcr/users/daranda/doctorat/PSYBIAS_simulations/simulation_output/pre-build/NitroI_mut/log.txt for further information.\n",
      "2021-12-30 18:13:03,631 - htmd.builder.charmm - INFO - Finished building.\n",
      "2021-12-30 18:13:26,204 - htmd.builder.builder - WARNING - Found cis peptide bond in 1 frames: [0] in the omega diheral \"Angle of (SER 285 CA P0 P) (SER 285 C P0 P) (ILE 315 N P0 P) (ILE 315 CA P0 P) \" with indexes [3474, 3481, 3483, 3485]\n"
     ]
    },
    {
     "name": "stdout",
     "output_type": "stream",
     "text": [
      "Checking aromatic insertions...\n",
      "WARNING: removed 0 atoms within 1.5 of a protein aromatic ring\n",
      "Renumbering...\n",
      "Ionizing...\n"
     ]
    },
    {
     "name": "stderr",
     "output_type": "stream",
     "text": [
      "2021-12-30 18:14:31,216 - htmd.builder.charmm - INFO - Writing out segments.\n",
      "2021-12-30 18:14:37,849 - htmd.builder.builder - INFO - 2 disulfide bonds were added\n"
     ]
    },
    {
     "name": "stdout",
     "output_type": "stream",
     "text": [
      "Disulfide Bond between: UniqueResidueID<resname: 'CYS', chain: 'P', resid: 349, insertion: '', segid: 'P0'>\n",
      "                   and: UniqueResidueID<resname: 'CYS', chain: 'P', resid: 353, insertion: '', segid: 'P0'>\n",
      "\n",
      "Disulfide Bond between: UniqueResidueID<resname: 'CYS', chain: 'P', resid: 148, insertion: '', segid: 'P0'>\n",
      "                   and: UniqueResidueID<resname: 'CYS', chain: 'P', resid: 227, insertion: '', segid: 'P0'>\n",
      "\n"
     ]
    },
    {
     "name": "stderr",
     "output_type": "stream",
     "text": [
      "2021-12-30 18:14:39,066 - htmd.builder.charmm - INFO - Starting the build.\n",
      "2021-12-30 18:14:46,861 - htmd.builder.charmm - INFO - Finished building.\n",
      "2021-12-30 18:14:54,217 - htmd.builder.ionize - INFO - Adding 10 anions + 0 cations for neutralizing and 90 ions for the given salt concentration.\n",
      "2021-12-30 18:15:25,042 - htmd.builder.charmm - INFO - Writing out segments.\n",
      "2021-12-30 18:15:33,910 - htmd.builder.charmm - INFO - Starting the build.\n",
      "2021-12-30 18:15:42,527 - htmd.builder.charmm - INFO - Finished building.\n",
      "2021-12-30 18:16:05,096 - htmd.builder.builder - WARNING - Found cis peptide bond in 1 frames: [0] in the omega diheral \"Angle of (SER 285 CA P0 P) (SER 285 C P0 P) (ILE 315 N P0 P) (ILE 315 CA P0 P) \" with indexes [3474, 3481, 3483, 3485]\n"
     ]
    },
    {
     "name": "stdout",
     "output_type": "stream",
     "text": [
      "Building...\n"
     ]
    },
    {
     "name": "stderr",
     "output_type": "stream",
     "text": [
      "2021-12-30 18:16:32,198 - htmd.builder.charmm - INFO - Writing out segments.\n",
      "2021-12-30 18:16:38,944 - htmd.builder.builder - INFO - 2 disulfide bonds were added\n"
     ]
    },
    {
     "name": "stdout",
     "output_type": "stream",
     "text": [
      "Disulfide Bond between: UniqueResidueID<resname: 'CYS', chain: 'P', resid: 349, insertion: '', segid: 'P0'>\n",
      "                   and: UniqueResidueID<resname: 'CYS', chain: 'P', resid: 353, insertion: '', segid: 'P0'>\n",
      "\n",
      "Disulfide Bond between: UniqueResidueID<resname: 'CYS', chain: 'P', resid: 148, insertion: '', segid: 'P0'>\n",
      "                   and: UniqueResidueID<resname: 'CYS', chain: 'P', resid: 227, insertion: '', segid: 'P0'>\n",
      "\n"
     ]
    },
    {
     "name": "stderr",
     "output_type": "stream",
     "text": [
      "2021-12-30 18:16:39,984 - htmd.builder.charmm - INFO - Starting the build.\n",
      "2021-12-30 18:16:48,150 - htmd.builder.charmm - INFO - Finished building.\n",
      "2021-12-30 18:17:12,610 - htmd.builder.builder - WARNING - Found cis peptide bond in 1 frames: [0] in the omega diheral \"Angle of (SER 285 CA P0 P) (SER 285 C P0 P) (ILE 315 N P0 P) (ILE 315 CA P0 P) \" with indexes [3474, 3481, 3483, 3485]\n"
     ]
    },
    {
     "name": "stdout",
     "output_type": "stream",
     "text": [
      "End of NitroI_mut after 400.67685556411743 seconds\n",
      "\n",
      "Build model for otava35 already exists. Skipping...\n",
      "Build model for otava35_mut already exists. Skipping...\n",
      "Build model for otava37 already exists. Skipping...\n",
      "Build model for otava37_mut already exists. Skipping...\n"
     ]
    }
   ],
   "source": [
    "###########################\n",
    "## Part 2: Build the models (PSYBIAS)\n",
    "###########################\n",
    "\n",
    "# Iterate by GPCRdb structures to simulate\n",
    "for entry in input_dict:    \n",
    "    try:\n",
    "\n",
    "        # Entry's data\n",
    "        name = entry['name']\n",
    "        pdbcode = entry['pdbcode']\n",
    "        pdbfile = basepath+entry['pdbfile']\n",
    "        curated = entry['curated']\n",
    "        sod = \"sod_yes\" if entry['sod2x50'] else \"sod_no\"\n",
    "        \n",
    "        # By default an apo and a complex version of the system will be build. Change at will\n",
    "        for apo in [False,True]:\n",
    "            \n",
    "            #Starting simulation\n",
    "            start_time = time.time()        \n",
    "            sysname = name+'_apo' if apo else name\n",
    "            mystrucpath = strucpath+sysname+'/'\n",
    "            os.makedirs(mystrucpath, exist_ok=True)\n",
    "\n",
    "            # Skip if there is already a model build for this\n",
    "            if os.path.exists(resultspath+'build/'+sysname+'/structure.pdb'):\n",
    "                print('Build model for '+sysname+' already exists. Skipping...')\n",
    "                continue\n",
    "\n",
    "            # Check if simulation is aminergic\n",
    "            aminergic = gpcrdb_dict[pdbcode]['family'].startswith('001_001')\n",
    "            adenosine = gpcrdb_dict[pdbcode]['family'].startswith('001_006_001')\n",
    "            \n",
    "            # Hydrate structures with dowser before anything else\n",
    "            # DOWSER NEEDS TO BE INSTALLED FOR THIS STEP TO WORK\n",
    "            watered_pdb = '%shydrated_%s.pdb'%(strucpath, name)\n",
    "            dowser_waters(pdbfile,dowserpath,watered_pdb)\n",
    "            \n",
    "            ## Load structure\n",
    "            #(sod2x50, watered_filename) = internal_waters(mystrucpath, pdbcode, gpcrdb_dict, apo, pdbfile,sod=sod)\n",
    "            #gpcrdb_mol = Molecule(watered_filename)\n",
    "            sod2x50 =True\n",
    "            gpcrdb_mol = Molecule(watered_pdb)\n",
    "                \n",
    "            # If the pipeline is running in 'apoform mode', remove any non-protein, non-ion, non-water thing on the system      \n",
    "            # Delete also sod2x50 (we don't want them here)\n",
    "            if apo:\n",
    "                gpcrdb_mol.remove('not (protein or water or ion) or element Na')\n",
    "                \n",
    "            # Remove unnecessary ligand molecules: mostly crystalization detergents, quelants, buffers,\n",
    "            # or post-traductional glicosilations\n",
    "            gpcrdb_mol.remove('resname '+' '.join(blacklist))\n",
    "            \n",
    "            # Remove 2x50Sodium from non-A-class GPCRs\n",
    "            if not gpcrdb_dict[pdbcode]['family'].startswith('001'):\n",
    "                gpcrdb_mol.remove('element NA')\n",
    "\n",
    "            # Get aligned OPM structure\n",
    "            thickness,opm_mol = get_opm(pdbcode)\n",
    "\n",
    "            # Ismael's function to add labels (segid) for 'ligand' and 'protein' parts of the system\n",
    "            gpcrdb_mol_fixed,prot_segids = fix_and_prepare_input(gpcrdb_mol,name,modresdict,new_pdb_chain)\n",
    "            \n",
    "            # If there's any, parameterize and rename covalent-bound ligands\n",
    "            if not apo:\n",
    "                (gpcrdb_mol_fixed, covligs) = covalent_ligands(gpcrdb_mol_fixed, name, ligandsdict)\n",
    "            else:\n",
    "                covligs = []\n",
    "            \n",
    "            # write file to remember to which chain in the original structure belongs each segment\n",
    "            segchain_json(gpcrdb_mol_fixed, sysname, basepath, prot_segids)\n",
    "            \n",
    "            # Align structrues using sequences, and take first one\n",
    "            alignment_results = sequenceStructureAlignment(gpcrdb_mol_fixed, opm_mol, maxalignments = 1)\n",
    "            mol_aligned = alignment_results[0] \n",
    "            \n",
    "            #Center to receptor XY\n",
    "            center = np.mean(mol_aligned.get('coords',sel='chain P'),axis=0)\n",
    "            mol_aligned.moveBy([-center[0],-center[1],0])\n",
    "            \n",
    "            # Prepare protein: asign titration states, flipping side chains of HIS, ASN and GLN; rotate some sidechains, optimize waters, etc.\n",
    "            # Most of this is done with a HTMD function called proteinPrepare()\n",
    "            # Skip step if we are working with curators structures\n",
    "            prepared_mol = mol_aligned if curated else prepare_system(mol_aligned, pdbcode, thickness, sod2x50, aminergic, adenosine)\n",
    "            \n",
    "            #Add membrane\n",
    "            print('Adding membrane...')\n",
    "            membranemol = Molecule(membranepdb)\n",
    "            mol_membraned, membrane_resnames, membrane_segids, xreps, yreps = add_membrane(prepared_mol, membranemol,prot_segids,membrane_distance)\n",
    "            \n",
    "            # Needed later for equilibration\n",
    "            with open(mystrucpath+\"const_sel.txt\",'w') as out: \n",
    "                const_sel = 'segid '+' '.join(prot_segids)+' and name C CA N O or not (segid ' + \\\n",
    "                  ' '.join(prot_segids)+' or lipid or water or ions ) and noh or segid ION WAT and noh'\n",
    "                out.write(const_sel)\n",
    "\n",
    "            #Solvate\n",
    "            print('Solvating...')\n",
    "            mol_solvated = solvate_pdbmol(mol_membraned,membrane_segids,water_thickness,water_margin,buffer=buffer,coldist=coldist,prefix='WT')\n",
    "\n",
    "            # Check if system has lone-pair hallogen atoms. If it does, use legacy CGenFF parameters\n",
    "            has_halo = bool(len(gpcrdb_mol_fixed.get('name', 'element Br Cl I and not ion')))\n",
    "            if has_halo:\n",
    "                cgenff_par = [topparpath+'David_top_params/parameters/legacy_par_all36_cgenff.prm']\n",
    "                cgenff_top = [topparpath+'David_top_params/topologies/legacy_top_all36_cgenff.rtf']\n",
    "            else: \n",
    "                cgenff_par = [topparpath+'General_top_params/parameters/par_all36_cgenff.prm']\n",
    "                cgenff_top = [topparpath+'General_top_params/topologies/top_all36_cgenff.rtf']\n",
    "            \n",
    "            #Obtain extra parameters for ligands and modified residues \n",
    "            ligstreams=extra_parameters(name, ligandsdict, modresdict, blacklist, covligs, basepath, has_halo)\n",
    "            \n",
    "            # Assignign terminology for cap atoms of protein chain, depending if it is the receptor protein or not\n",
    "            caps = get_caps(prot_segids, mol_solvated)\n",
    "            #e.g.: {'P0': ['first ACE', 'last CT3'], 'P1': ['first ACE', 'last CT3']}\n",
    "\n",
    "            #Pre-build model\n",
    "            print('Pre-build...')\n",
    "            prebuildmol = charmm.build(mol_solvated, \n",
    "                                       topo=topos+cgenff_top, \n",
    "                                       param=params+cgenff_par,\n",
    "                                       stream=streams+ligstreams,\n",
    "                                       caps=caps,\n",
    "                                       outdir=resultspath+'/pre-build/'+sysname,\n",
    "                                       ionize=False)\n",
    "\n",
    "            # Save prebuild model topologies in files, and  store prebuild model in molecule object\n",
    "            prebuild_psffile = prebuildmol.topoloc\n",
    "            prebuild_pdbfile = os.path.splitext(prebuildmol.topoloc)[0]+'.pdb'\n",
    "            prebuildmol = Molecule(prebuild_pdbfile)\n",
    "            _recoverProtonations(prebuildmol)\n",
    "\n",
    "            # Checking of aromatic insertions (takes quite a lot fo time)\n",
    "            print('Checking aromatic insertions...')\n",
    "            mol_removed,removed_indexes = remove_aromatic_insertions(prebuildmol,prot_segids, outpdb=resultspath+'/pre-build/'+sysname+'/aromatic_check.pdb')\n",
    "\n",
    "            # Checking of water/lipid ratio\n",
    "            lipid_num = len(set(prebuildmol.get('resid',sel='segid '+membrane_lipid_segid)))\n",
    "            solv_num = len(mol_removed.get('index',sel='resname TIP3 and name OH2'))\n",
    "            if float(solv_num) / lipid_num < 35:\n",
    "                raise ValueError('Water/lipid ratio lower than 35.')\n",
    "\n",
    "            #Renumber residues\n",
    "            print('Renumbering...')\n",
    "            mol_renumbered = renumber_resid_vmd(mol_removed,'segid '+' '.join(membrane_segids),by=2)\n",
    "\n",
    "            # Ionizing system\n",
    "            print('Ionizing...')\n",
    "            molbuilt = charmm.build(mol_removed,\n",
    "                                    topo=topos+cgenff_top, \n",
    "                                    param=params+cgenff_par,\n",
    "                                    stream=streams+ligstreams,                        \n",
    "                                    outdir=resultspath+'/ionize/'+sysname,\n",
    "                                    saltconc=0.15,\n",
    "                                    caps=caps)\n",
    "            build_psffile = molbuilt.topoloc\n",
    "            build_pdbfile = os.path.splitext(molbuilt.topoloc)[0]+'.pdb'\n",
    "            molbuilt = Molecule(build_pdbfile)\n",
    "            _recoverProtonations(molbuilt)\n",
    "\n",
    "            #Building system\n",
    "            print('Building...')\n",
    "            molbuilt = renumber_resid_vmd(molbuilt,'segid \"WT.*\" or segid I',by=2)\n",
    "            molbuilt = charmm.build(molbuilt, \n",
    "                                    topo=topos+cgenff_top, \n",
    "                                    param=params+cgenff_par,\n",
    "                                    stream=streams+ligstreams,                        \n",
    "                                    outdir=resultspath+'/build/'+sysname,\n",
    "                                    caps=caps,ionize=False)\n",
    "\n",
    "            print('End of %s after %s seconds\\n' % (sysname, time.time() - start_time))\n",
    "\n",
    "    except Exception as e:\n",
    "        print(\"model \"+sysname+\" could not be build because \",e)"
   ]
  },
  {
   "cell_type": "code",
   "execution_count": 4,
   "metadata": {},
   "outputs": [
    {
     "name": "stderr",
     "output_type": "stream",
     "text": [
      "2021-12-30 18:21:43,034 - htmd.builder.builder - WARNING - Found cis peptide bond in 1 frames: [0] in the omega diheral \"Angle of (SER 285 CA P0 P) (SER 285 C P0 P) (ILE 315 N P0 P) (ILE 315 CA P0 P) \" with indexes [3475, 3482, 3484, 3486]\n",
      "2021-12-30 18:21:43,519 - htmd.protocols.equilibration_v2 - WARNING - Lipids detected in input structure. We highly recommend setting useconstantratio=True for membrane simulations.\n",
      "2021-12-30 18:21:43,519 - htmd.protocols.equilibration_v2 - INFO - Using user-provided restraints and ignoring constraints and fb_potential\n",
      "2021-12-30 18:21:47,908 - jobqueues.slurmqueue - INFO - Queueing /gpcr/users/daranda/doctorat/PSYBIAS_simulations/simulation_output/equil/metI/\n",
      "2021-12-30 18:22:06,428 - htmd.builder.builder - WARNING - Found cis peptide bond in 1 frames: [0] in the omega diheral \"Angle of (SER 285 CA P0 P) (SER 285 C P0 P) (ILE 315 N P0 P) (ILE 315 CA P0 P) \" with indexes [3474, 3481, 3483, 3485]\n",
      "2021-12-30 18:22:06,912 - htmd.protocols.equilibration_v2 - WARNING - Lipids detected in input structure. We highly recommend setting useconstantratio=True for membrane simulations.\n",
      "2021-12-30 18:22:06,912 - htmd.protocols.equilibration_v2 - INFO - Using user-provided restraints and ignoring constraints and fb_potential\n",
      "2021-12-30 18:22:11,734 - jobqueues.slurmqueue - INFO - Queueing /gpcr/users/daranda/doctorat/PSYBIAS_simulations/simulation_output/equil/metI_mut/\n",
      "2021-12-30 18:22:29,850 - htmd.builder.builder - WARNING - Found cis peptide bond in 1 frames: [0] in the omega diheral \"Angle of (SER 285 CA P0 P) (SER 285 C P0 P) (ILE 315 N P0 P) (ILE 315 CA P0 P) \" with indexes [3475, 3482, 3484, 3486]\n",
      "2021-12-30 18:22:30,337 - htmd.protocols.equilibration_v2 - WARNING - Lipids detected in input structure. We highly recommend setting useconstantratio=True for membrane simulations.\n",
      "2021-12-30 18:22:30,338 - htmd.protocols.equilibration_v2 - INFO - Using user-provided restraints and ignoring constraints and fb_potential\n",
      "2021-12-30 18:22:35,521 - jobqueues.slurmqueue - INFO - Queueing /gpcr/users/daranda/doctorat/PSYBIAS_simulations/simulation_output/equil/NitroI/\n",
      "2021-12-30 18:22:53,837 - htmd.builder.builder - WARNING - Found cis peptide bond in 1 frames: [0] in the omega diheral \"Angle of (SER 285 CA P0 P) (SER 285 C P0 P) (ILE 315 N P0 P) (ILE 315 CA P0 P) \" with indexes [3474, 3481, 3483, 3485]\n",
      "2021-12-30 18:22:54,324 - htmd.protocols.equilibration_v2 - WARNING - Lipids detected in input structure. We highly recommend setting useconstantratio=True for membrane simulations.\n",
      "2021-12-30 18:22:54,324 - htmd.protocols.equilibration_v2 - INFO - Using user-provided restraints and ignoring constraints and fb_potential\n",
      "2021-12-30 18:22:58,220 - jobqueues.slurmqueue - INFO - Queueing /gpcr/users/daranda/doctorat/PSYBIAS_simulations/simulation_output/equil/NitroI_mut/\n"
     ]
    },
    {
     "name": "stdout",
     "output_type": "stream",
     "text": [
      " structure otava35 already has been equilibrated\n"
     ]
    },
    {
     "ename": "KeyboardInterrupt",
     "evalue": "",
     "output_type": "error",
     "traceback": [
      "\u001b[0;31m---------------------------------------------------------------------------\u001b[0m",
      "\u001b[0;31mKeyboardInterrupt\u001b[0m                         Traceback (most recent call last)",
      "\u001b[0;32m<ipython-input-4-bffcbf946bb1>\u001b[0m in \u001b[0;36m<module>\u001b[0;34m\u001b[0m\n\u001b[1;32m     25\u001b[0m \u001b[0;34m\u001b[0m\u001b[0m\n\u001b[1;32m     26\u001b[0m             \u001b[0mmd\u001b[0m \u001b[0;34m=\u001b[0m \u001b[0mdefine_equilibration\u001b[0m\u001b[0;34m(\u001b[0m\u001b[0mconst_sel\u001b[0m\u001b[0;34m)\u001b[0m\u001b[0;34m\u001b[0m\u001b[0m\n\u001b[0;32m---> 27\u001b[0;31m             \u001b[0mmd\u001b[0m\u001b[0;34m.\u001b[0m\u001b[0mwrite\u001b[0m\u001b[0;34m(\u001b[0m\u001b[0mresultspath\u001b[0m\u001b[0;34m+\u001b[0m\u001b[0;34m'build/'\u001b[0m\u001b[0;34m+\u001b[0m\u001b[0mmodelname\u001b[0m\u001b[0;34m,\u001b[0m\u001b[0mequildir\u001b[0m\u001b[0;34m)\u001b[0m\u001b[0;34m\u001b[0m\u001b[0m\n\u001b[0m\u001b[1;32m     28\u001b[0m \u001b[0;34m\u001b[0m\u001b[0m\n\u001b[1;32m     29\u001b[0m             \u001b[0;31m#Substitute run.sh generated by HTMD by a different one, adapted to the specified path of ACEMD\u001b[0m\u001b[0;34m\u001b[0m\u001b[0;34m\u001b[0m\u001b[0m\n",
      "\u001b[0;32m~/miniconda3/lib/python3.6/site-packages/htmd/protocols/equilibration_v2.py\u001b[0m in \u001b[0;36mwrite\u001b[0;34m(self, inputdir, outputdir)\u001b[0m\n\u001b[1;32m    317\u001b[0m \u001b[0;34m\u001b[0m\u001b[0m\n\u001b[1;32m    318\u001b[0m         \u001b[0;32mfrom\u001b[0m \u001b[0mhtmd\u001b[0m\u001b[0;34m.\u001b[0m\u001b[0mbuilder\u001b[0m\u001b[0;34m.\u001b[0m\u001b[0mbuilder\u001b[0m \u001b[0;32mimport\u001b[0m \u001b[0mdetectCisPeptideBonds\u001b[0m\u001b[0;34m\u001b[0m\u001b[0m\n\u001b[0;32m--> 319\u001b[0;31m         \u001b[0mdetectCisPeptideBonds\u001b[0m\u001b[0;34m(\u001b[0m\u001b[0minmol\u001b[0m\u001b[0;34m)\u001b[0m\u001b[0;34m\u001b[0m\u001b[0m\n\u001b[0m\u001b[1;32m    320\u001b[0m \u001b[0;34m\u001b[0m\u001b[0m\n\u001b[1;32m    321\u001b[0m         \u001b[0;32mif\u001b[0m \u001b[0mnp\u001b[0m\u001b[0;34m.\u001b[0m\u001b[0many\u001b[0m\u001b[0;34m(\u001b[0m\u001b[0minmol\u001b[0m\u001b[0;34m.\u001b[0m\u001b[0matomselect\u001b[0m\u001b[0;34m(\u001b[0m\u001b[0;34m'lipids'\u001b[0m\u001b[0;34m)\u001b[0m\u001b[0;34m)\u001b[0m \u001b[0;32mand\u001b[0m \u001b[0;32mnot\u001b[0m \u001b[0mself\u001b[0m\u001b[0;34m.\u001b[0m\u001b[0museconstantratio\u001b[0m\u001b[0;34m:\u001b[0m\u001b[0;34m\u001b[0m\u001b[0m\n",
      "\u001b[0;32m~/miniconda3/lib/python3.6/site-packages/htmd/builder/builder.py\u001b[0m in \u001b[0;36mdetectCisPeptideBonds\u001b[0;34m(mol)\u001b[0m\n\u001b[1;32m    241\u001b[0m \u001b[0;34m\u001b[0m\u001b[0m\n\u001b[1;32m    242\u001b[0m     \u001b[0mmetr\u001b[0m \u001b[0;34m=\u001b[0m \u001b[0mMetricDihedral\u001b[0m\u001b[0;34m(\u001b[0m\u001b[0mdih\u001b[0m\u001b[0;34m=\u001b[0m\u001b[0mdih\u001b[0m\u001b[0;34m,\u001b[0m \u001b[0msincos\u001b[0m\u001b[0;34m=\u001b[0m\u001b[0;32mFalse\u001b[0m\u001b[0;34m)\u001b[0m\u001b[0;34m\u001b[0m\u001b[0m\n\u001b[0;32m--> 243\u001b[0;31m     \u001b[0mdata\u001b[0m \u001b[0;34m=\u001b[0m \u001b[0mmetr\u001b[0m\u001b[0;34m.\u001b[0m\u001b[0mproject\u001b[0m\u001b[0;34m(\u001b[0m\u001b[0mmol\u001b[0m\u001b[0;34m)\u001b[0m\u001b[0;34m\u001b[0m\u001b[0m\n\u001b[0m\u001b[1;32m    244\u001b[0m     \u001b[0mmapping\u001b[0m \u001b[0;34m=\u001b[0m \u001b[0mmetr\u001b[0m\u001b[0;34m.\u001b[0m\u001b[0mgetMapping\u001b[0m\u001b[0;34m(\u001b[0m\u001b[0mmol\u001b[0m\u001b[0;34m)\u001b[0m\u001b[0;34m\u001b[0m\u001b[0m\n\u001b[1;32m    245\u001b[0m \u001b[0;34m\u001b[0m\u001b[0m\n",
      "\u001b[0;32m~/miniconda3/lib/python3.6/site-packages/moleculekit/projections/metricdihedral.py\u001b[0m in \u001b[0;36mproject\u001b[0;34m(self, mol)\u001b[0m\n\u001b[1;32m    602\u001b[0m             \u001b[0mAn\u001b[0m \u001b[0marray\u001b[0m \u001b[0mcontaining\u001b[0m \u001b[0mthe\u001b[0m \u001b[0mprojected\u001b[0m \u001b[0mdata\u001b[0m\u001b[0;34m.\u001b[0m\u001b[0;34m\u001b[0m\u001b[0m\n\u001b[1;32m    603\u001b[0m         \"\"\"\n\u001b[0;32m--> 604\u001b[0;31m         \u001b[0mdihedrals\u001b[0m \u001b[0;34m=\u001b[0m \u001b[0mself\u001b[0m\u001b[0;34m.\u001b[0m\u001b[0m_getMolProp\u001b[0m\u001b[0;34m(\u001b[0m\u001b[0mmol\u001b[0m\u001b[0;34m,\u001b[0m \u001b[0;34m'dihedrals'\u001b[0m\u001b[0;34m)\u001b[0m\u001b[0;34m\u001b[0m\u001b[0m\n\u001b[0m\u001b[1;32m    605\u001b[0m         \u001b[0;32mreturn\u001b[0m \u001b[0mself\u001b[0m\u001b[0;34m.\u001b[0m\u001b[0m_calcDihedralAngles\u001b[0m\u001b[0;34m(\u001b[0m\u001b[0mmol\u001b[0m\u001b[0;34m,\u001b[0m \u001b[0mdihedrals\u001b[0m\u001b[0;34m,\u001b[0m \u001b[0msincos\u001b[0m\u001b[0;34m=\u001b[0m\u001b[0mself\u001b[0m\u001b[0;34m.\u001b[0m\u001b[0m_sincos\u001b[0m\u001b[0;34m)\u001b[0m\u001b[0;34m\u001b[0m\u001b[0m\n\u001b[1;32m    606\u001b[0m \u001b[0;34m\u001b[0m\u001b[0m\n",
      "\u001b[0;32m~/miniconda3/lib/python3.6/site-packages/moleculekit/projections/projection.py\u001b[0m in \u001b[0;36m_getMolProp\u001b[0;34m(self, mol, prop)\u001b[0m\n\u001b[1;32m     35\u001b[0m             \u001b[0mresdict\u001b[0m \u001b[0;34m=\u001b[0m \u001b[0mself\u001b[0m\u001b[0;34m.\u001b[0m\u001b[0m_cache\u001b[0m\u001b[0;34m\u001b[0m\u001b[0m\n\u001b[1;32m     36\u001b[0m         \u001b[0;32melse\u001b[0m\u001b[0;34m:\u001b[0m\u001b[0;34m\u001b[0m\u001b[0m\n\u001b[0;32m---> 37\u001b[0;31m             \u001b[0mresdict\u001b[0m \u001b[0;34m=\u001b[0m \u001b[0mself\u001b[0m\u001b[0;34m.\u001b[0m\u001b[0m_calculateMolProp\u001b[0m\u001b[0;34m(\u001b[0m\u001b[0mmol\u001b[0m\u001b[0;34m,\u001b[0m \u001b[0;34m[\u001b[0m\u001b[0mprop\u001b[0m\u001b[0;34m]\u001b[0m \u001b[0;32mif\u001b[0m \u001b[0mprop\u001b[0m \u001b[0;34m!=\u001b[0m \u001b[0;34m'all'\u001b[0m \u001b[0;32melse\u001b[0m \u001b[0;34m'all'\u001b[0m\u001b[0;34m)\u001b[0m\u001b[0;34m\u001b[0m\u001b[0m\n\u001b[0m\u001b[1;32m     38\u001b[0m \u001b[0;34m\u001b[0m\u001b[0m\n\u001b[1;32m     39\u001b[0m         \u001b[0;32mif\u001b[0m \u001b[0mprop\u001b[0m \u001b[0;34m==\u001b[0m \u001b[0;34m'all'\u001b[0m\u001b[0;34m:\u001b[0m\u001b[0;34m\u001b[0m\u001b[0m\n",
      "\u001b[0;32m~/miniconda3/lib/python3.6/site-packages/moleculekit/projections/metricdihedral.py\u001b[0m in \u001b[0;36m_calculateMolProp\u001b[0;34m(self, mol, props)\u001b[0m\n\u001b[1;32m    649\u001b[0m             \u001b[0mdihedrals\u001b[0m \u001b[0;34m=\u001b[0m \u001b[0mensurelist\u001b[0m\u001b[0;34m(\u001b[0m\u001b[0mself\u001b[0m\u001b[0;34m.\u001b[0m\u001b[0m_dihedrals\u001b[0m\u001b[0;34m)\u001b[0m\u001b[0;34m\u001b[0m\u001b[0m\n\u001b[1;32m    650\u001b[0m \u001b[0;34m\u001b[0m\u001b[0m\n\u001b[0;32m--> 651\u001b[0;31m         \u001b[0mres\u001b[0m\u001b[0;34m[\u001b[0m\u001b[0;34m'dihedrals'\u001b[0m\u001b[0;34m]\u001b[0m \u001b[0;34m=\u001b[0m \u001b[0mDihedral\u001b[0m\u001b[0;34m.\u001b[0m\u001b[0mdihedralsToIndexes\u001b[0m\u001b[0;34m(\u001b[0m\u001b[0mmol\u001b[0m\u001b[0;34m,\u001b[0m \u001b[0mdihedrals\u001b[0m\u001b[0;34m,\u001b[0m \u001b[0mprotsel\u001b[0m\u001b[0;34m)\u001b[0m\u001b[0;34m\u001b[0m\u001b[0m\n\u001b[0m\u001b[1;32m    652\u001b[0m         \u001b[0;32mreturn\u001b[0m \u001b[0mres\u001b[0m\u001b[0;34m\u001b[0m\u001b[0m\n\u001b[1;32m    653\u001b[0m \u001b[0;34m\u001b[0m\u001b[0m\n",
      "\u001b[0;32m~/miniconda3/lib/python3.6/site-packages/moleculekit/projections/metricdihedral.py\u001b[0m in \u001b[0;36mdihedralsToIndexes\u001b[0;34m(mol, dihedrals, sel)\u001b[0m\n\u001b[1;32m    105\u001b[0m             \u001b[0;32mfor\u001b[0m \u001b[0ma\u001b[0m \u001b[0;32min\u001b[0m \u001b[0mdih\u001b[0m\u001b[0;34m.\u001b[0m\u001b[0matoms\u001b[0m\u001b[0;34m:\u001b[0m\u001b[0;34m\u001b[0m\u001b[0m\n\u001b[1;32m    106\u001b[0m                 \u001b[0matomsel\u001b[0m \u001b[0;34m=\u001b[0m \u001b[0;34m(\u001b[0m\u001b[0mmol\u001b[0m\u001b[0;34m.\u001b[0m\u001b[0mname\u001b[0m \u001b[0;34m==\u001b[0m \u001b[0ma\u001b[0m\u001b[0;34m[\u001b[0m\u001b[0;34m'name'\u001b[0m\u001b[0;34m]\u001b[0m\u001b[0;34m)\u001b[0m \u001b[0;34m&\u001b[0m \u001b[0;34m(\u001b[0m\u001b[0mmol\u001b[0m\u001b[0;34m.\u001b[0m\u001b[0mresid\u001b[0m \u001b[0;34m==\u001b[0m \u001b[0ma\u001b[0m\u001b[0;34m[\u001b[0m\u001b[0;34m'resid'\u001b[0m\u001b[0;34m]\u001b[0m\u001b[0;34m)\u001b[0m \u001b[0;34m&\u001b[0m \u001b[0;34m(\u001b[0m\u001b[0mmol\u001b[0m\u001b[0;34m.\u001b[0m\u001b[0minsertion\u001b[0m \u001b[0;34m==\u001b[0m \u001b[0ma\u001b[0m\u001b[0;34m[\u001b[0m\u001b[0;34m'insertion'\u001b[0m\u001b[0;34m]\u001b[0m\u001b[0;34m)\u001b[0m \u001b[0;34m&\u001b[0m\u001b[0;31m \u001b[0m\u001b[0;31m\\\u001b[0m\u001b[0;34m\u001b[0m\u001b[0m\n\u001b[0;32m--> 107\u001b[0;31m                           \u001b[0;34m(\u001b[0m\u001b[0mmol\u001b[0m\u001b[0;34m.\u001b[0m\u001b[0mchain\u001b[0m \u001b[0;34m==\u001b[0m \u001b[0ma\u001b[0m\u001b[0;34m[\u001b[0m\u001b[0;34m'chain'\u001b[0m\u001b[0;34m]\u001b[0m\u001b[0;34m)\u001b[0m \u001b[0;34m&\u001b[0m \u001b[0;34m(\u001b[0m\u001b[0mmol\u001b[0m\u001b[0;34m.\u001b[0m\u001b[0msegid\u001b[0m \u001b[0;34m==\u001b[0m \u001b[0ma\u001b[0m\u001b[0;34m[\u001b[0m\u001b[0;34m'segid'\u001b[0m\u001b[0;34m]\u001b[0m\u001b[0;34m)\u001b[0m\u001b[0;34m\u001b[0m\u001b[0m\n\u001b[0m\u001b[1;32m    108\u001b[0m                 \u001b[0matomsel\u001b[0m \u001b[0;34m=\u001b[0m \u001b[0matomsel\u001b[0m \u001b[0;34m&\u001b[0m \u001b[0mselatoms\u001b[0m\u001b[0;34m\u001b[0m\u001b[0m\n\u001b[1;32m    109\u001b[0m                 \u001b[0;32mif\u001b[0m \u001b[0mnp\u001b[0m\u001b[0;34m.\u001b[0m\u001b[0msum\u001b[0m\u001b[0;34m(\u001b[0m\u001b[0matomsel\u001b[0m\u001b[0;34m)\u001b[0m \u001b[0;34m!=\u001b[0m \u001b[0;36m1\u001b[0m\u001b[0;34m:\u001b[0m\u001b[0;34m\u001b[0m\u001b[0m\n",
      "\u001b[0;31mKeyboardInterrupt\u001b[0m: "
     ]
    }
   ],
   "source": [
    "#########################\n",
    "## Part 3: Equillibration\n",
    "#########################\n",
    "\n",
    "# Iterate by GPCRdb structures to simulate\n",
    "for entry in input_dict:    \n",
    "    name = entry['name']\n",
    "    pdbcode = entry['pdbcode']\n",
    "    for apo in [False]:\n",
    "        # Entry's data\n",
    "        try:\n",
    "            modelname = name+'_apo' if apo else name\n",
    "            equildir = resultspath+'equil/'+modelname+'/'\n",
    "            if os.path.exists(equildir+'output.xtc') or os.path.exists(equildir+'simrunning'):\n",
    "                print(\" structure %s already has been equilibrated\" % modelname)\n",
    "                continue\n",
    "\n",
    "            if not os.path.exists(equildir):\n",
    "                os.makedirs(equildir)\n",
    "\n",
    "            # Taking vmd selection line\n",
    "            const_sel = []\n",
    "            with open(strucpath+modelname+'/const_sel.txt', 'r') as outfile:\n",
    "                const_sel += outfile.readlines()\n",
    "\n",
    "            md = define_equilibration(const_sel)\n",
    "            md.write(resultspath+'build/'+modelname,equildir)\n",
    "\n",
    "            #Substitute run.sh generated by HTMD by a different one, adapted to the specified path of ACEMD\n",
    "            with open(equildir + 'run.sh', 'w') as f:\n",
    "                f.write('#!/bin/bash\\n%s > %slog.txt 2>&1' % (acemd_path, equildir))\n",
    "        \n",
    "            #Prepare slurm job  \n",
    "            sq = SlurmQueue()\n",
    "            sq.envvars = acemd_license\n",
    "            sq.jobname = 'eql_'+modelname\n",
    "            sq.datadir = None\n",
    "            sq.partition = 'gpcr_gpu'\n",
    "            sq.ngpu = 1\n",
    "            sq.ncpu = 1\n",
    "            sq.prerun = job_commands(equildir, '/home/daranda/'+modelname+'/')\n",
    "            sq.memory = 2000\n",
    "            sq.exclude = ['bifur','arwen','aragorn','dwalin','thorin','balin']\n",
    "#             sq.nodelist = ['aragorn']\n",
    "    \n",
    "            # Submit\n",
    "            sq.submit(equildir)\n",
    "        except Exception as e:\n",
    "            print(\"model \"+modelname+\" could not be send to equilibrate because of \",e)"
   ]
  },
  {
   "cell_type": "code",
   "execution_count": 3,
   "metadata": {},
   "outputs": [
    {
     "name": "stdout",
     "output_type": "stream",
     "text": [
      "replicate 1 of structure metI already has been simulated\n",
      "replicate 2 of structure metI already has been simulated\n",
      "replicate 3 of structure metI already has been simulated\n",
      "replicate 1 of structure metI_mut already has been simulated\n",
      "replicate 2 of structure metI_mut already has been simulated\n",
      "replicate 3 of structure metI_mut already has been simulated\n",
      "replicate 1 of structure NitroI already has been simulated\n",
      "replicate 2 of structure NitroI already has been simulated\n",
      "submitting replicate 3 of NitroI\n"
     ]
    },
    {
     "name": "stderr",
     "output_type": "stream",
     "text": [
      "2022-01-10 09:23:42,523 - htmd.builder.builder - WARNING - Found cis peptide bond in 1 frames: [0] in the omega diheral \"Angle of (SER 285 CA P0 P) (SER 285 C P0 P) (ILE 315 N P0 P) (ILE 315 CA P0 P) \" with indexes [3475, 3482, 3484, 3486]\n",
      "2022-01-10 09:23:42,963 - htmd.protocols.production_v6 - WARNING - Lipids detected in input structure. We highly recommend setting useconstantratio=True for membrane simulations.\n",
      "2022-01-10 09:23:50,693 - jobqueues.slurmqueue - INFO - Queueing /gpcr/users/daranda/doctorat/PSYBIAS_simulations/simulation_output/production/NitroI/rep_3/\n"
     ]
    },
    {
     "name": "stdout",
     "output_type": "stream",
     "text": [
      "submitting replicate 1 of NitroI_mut\n"
     ]
    },
    {
     "name": "stderr",
     "output_type": "stream",
     "text": [
      "2022-01-10 09:24:09,233 - htmd.builder.builder - WARNING - Found cis peptide bond in 1 frames: [0] in the omega diheral \"Angle of (SER 285 CA P0 P) (SER 285 C P0 P) (ILE 315 N P0 P) (ILE 315 CA P0 P) \" with indexes [3474, 3481, 3483, 3485]\n",
      "2022-01-10 09:24:09,660 - htmd.protocols.production_v6 - WARNING - Lipids detected in input structure. We highly recommend setting useconstantratio=True for membrane simulations.\n",
      "2022-01-10 09:24:19,816 - jobqueues.slurmqueue - INFO - Queueing /gpcr/users/daranda/doctorat/PSYBIAS_simulations/simulation_output/production/NitroI_mut/rep_1/\n"
     ]
    },
    {
     "name": "stdout",
     "output_type": "stream",
     "text": [
      "submitting replicate 2 of NitroI_mut\n"
     ]
    },
    {
     "name": "stderr",
     "output_type": "stream",
     "text": [
      "2022-01-10 09:24:36,454 - htmd.builder.builder - WARNING - Found cis peptide bond in 1 frames: [0] in the omega diheral \"Angle of (SER 285 CA P0 P) (SER 285 C P0 P) (ILE 315 N P0 P) (ILE 315 CA P0 P) \" with indexes [3474, 3481, 3483, 3485]\n",
      "2022-01-10 09:24:36,902 - htmd.protocols.production_v6 - WARNING - Lipids detected in input structure. We highly recommend setting useconstantratio=True for membrane simulations.\n",
      "2022-01-10 09:24:43,123 - jobqueues.slurmqueue - INFO - Queueing /gpcr/users/daranda/doctorat/PSYBIAS_simulations/simulation_output/production/NitroI_mut/rep_2/\n"
     ]
    },
    {
     "name": "stdout",
     "output_type": "stream",
     "text": [
      "submitting replicate 3 of NitroI_mut\n"
     ]
    },
    {
     "name": "stderr",
     "output_type": "stream",
     "text": [
      "2022-01-10 09:25:00,353 - htmd.builder.builder - WARNING - Found cis peptide bond in 1 frames: [0] in the omega diheral \"Angle of (SER 285 CA P0 P) (SER 285 C P0 P) (ILE 315 N P0 P) (ILE 315 CA P0 P) \" with indexes [3474, 3481, 3483, 3485]\n",
      "2022-01-10 09:25:00,808 - htmd.protocols.production_v6 - WARNING - Lipids detected in input structure. We highly recommend setting useconstantratio=True for membrane simulations.\n",
      "2022-01-10 09:25:05,026 - jobqueues.slurmqueue - INFO - Queueing /gpcr/users/daranda/doctorat/PSYBIAS_simulations/simulation_output/production/NitroI_mut/rep_3/\n"
     ]
    },
    {
     "name": "stdout",
     "output_type": "stream",
     "text": [
      "replicate 1 of structure otava35 already has been simulated\n",
      "replicate 2 of structure otava35 already has been simulated\n",
      "replicate 3 of structure otava35 already has been simulated\n",
      "replicate 1 of structure otava35_mut already has been simulated\n",
      "replicate 2 of structure otava35_mut already has been simulated\n",
      "replicate 3 of structure otava35_mut already has been simulated\n",
      "replicate 1 of structure otava37 already has been simulated\n",
      "replicate 2 of structure otava37 already has been simulated\n",
      "replicate 3 of structure otava37 already has been simulated\n",
      "replicate 1 of structure otava37_mut already has been simulated\n",
      "replicate 2 of structure otava37_mut already has been simulated\n",
      "replicate 3 of structure otava37_mut already has been simulated\n"
     ]
    }
   ],
   "source": [
    "#####################\n",
    "## Part 4: Production\n",
    "#####################\n",
    "\n",
    "# Production protocol\n",
    "md = define_production(timestep, trajperiod)\n",
    "\n",
    "# For each structure \n",
    "for entry in input_dict:    \n",
    "    name = entry['name']\n",
    "    pdbcode = entry['pdbcode']\n",
    "    for apo in [False]:\n",
    "#     for apo in [True, False]:\n",
    "        # must match with equildir in equilibration launcher code and contain input and output of equilibration.\n",
    "        modelname = name+'_apo' if apo else name\n",
    "        equildir = '%s/equil/%s/' % (resultspath, modelname)\n",
    "        if not os.path.exists(equildir):\n",
    "            print(\"structure %s has not been yet equillibrated. Skipping...\")\n",
    "            continue\n",
    "        for rep in range(1,repnum+1):\n",
    "            \n",
    "            try: \n",
    "                # If simulation for this PDB has already been run\n",
    "                proddir='%sproduction/%s/rep_%d/' % (resultspath, modelname, rep)\n",
    "                if os.path.exists(proddir+'/output.xtc') or os.path.exists(proddir+'simrunning'):\n",
    "                    print(\"replicate %d of structure %s already has been simulated\" %(rep, modelname))\n",
    "                    continue\n",
    "\n",
    "                print('submitting replicate %d of %s' % (rep, modelname))\n",
    "                # directory copy output of equilibration to production input (initial working directory for run_prod.sh).\n",
    "                md.write(equildir,proddir)\n",
    "\n",
    "                sq = SlurmQueue()\n",
    "                sq.envvars = acemd_license\n",
    "                sq.jobname = modelname+'_pr'+str(rep)\n",
    "                sq.datadir = None\n",
    "                sq.partition = 'gpcr_gpu'\n",
    "                sq.prerun = job_commands(proddir, '/home/daranda/%s_pr_%d/'%(modelname,rep))\n",
    "                sq.ngpu = 1\n",
    "                sq.ncpu = 1\n",
    "                sq.exclude = ['bifur','arwen','aragorn']\n",
    "\n",
    "                #Substitute run.sh generated by HTMD by a different one, adapted to the specified path of ACEMD\n",
    "                with open(proddir + 'run.sh', 'w') as f:\n",
    "                    f.write('#!/bin/bash\\n%s >%slog.txt 2>&1' % (acemd_path,proddir))\n",
    "\n",
    "                sq.submit(proddir)\n",
    "                \n",
    "            except Exception as e:\n",
    "                print(\"model \"+modelname+\" could not be send to equilibrate because of \",e)            \n"
   ]
  },
  {
   "cell_type": "code",
   "execution_count": null,
   "metadata": {},
   "outputs": [
    {
     "name": "stdout",
     "output_type": "stream",
     "text": [
      "wrapping replicate 1 of metI\n",
      "replicate already wrapped. Skipping...\n",
      "wrapping replicate 2 of metI\n",
      "replicate already wrapped. Skipping...\n",
      "wrapping replicate 3 of metI\n",
      "replicate already wrapped. Skipping...\n",
      "End of metI after 0.014490127563476562 seconds\n",
      "\n",
      "wrapping replicate 1 of metI_mut\n",
      "replicate already wrapped. Skipping...\n",
      "wrapping replicate 2 of metI_mut\n",
      "replicate already wrapped. Skipping...\n",
      "wrapping replicate 3 of metI_mut\n",
      "replicate already wrapped. Skipping...\n",
      "End of metI_mut after 0.011120319366455078 seconds\n",
      "\n",
      "wrapping replicate 1 of NitroI\n",
      "replicate already wrapped. Skipping...\n",
      "wrapping replicate 2 of NitroI\n",
      "replicate already wrapped. Skipping...\n",
      "wrapping replicate 3 of NitroI\n",
      "replicate already wrapped. Skipping...\n",
      "End of NitroI after 0.010163545608520508 seconds\n",
      "\n",
      "wrapping replicate 1 of NitroI_mut\n",
      "replicate already wrapped. Skipping...\n",
      "wrapping replicate 2 of NitroI_mut\n",
      "replicate already wrapped. Skipping...\n",
      "wrapping replicate 3 of NitroI_mut\n",
      "replicate already wrapped. Skipping...\n",
      "End of NitroI_mut after 0.011076211929321289 seconds\n",
      "\n",
      "wrapping replicate 1 of otava35\n",
      "replicate already wrapped. Skipping...\n",
      "wrapping replicate 2 of otava35\n",
      "replicate already wrapped. Skipping...\n",
      "wrapping replicate 3 of otava35\n",
      "replicate already wrapped. Skipping...\n",
      "End of otava35 after 0.013622522354125977 seconds\n",
      "\n",
      "wrapping replicate 1 of otava35_mut\n",
      "replicate already wrapped. Skipping...\n",
      "wrapping replicate 2 of otava35_mut\n",
      "replicate already wrapped. Skipping...\n",
      "wrapping replicate 3 of otava35_mut\n"
     ]
    },
    {
     "name": "stderr",
     "output_type": "stream",
     "text": [
      "/home/david/miniconda3/lib/python3.6/site-packages/moleculekit/align.py:16: NumbaPerformanceWarning: np.dot() is faster on contiguous arrays, called on (array(float32, 2d, A), array(float32, 2d, A))\n",
      "  covariance = np.dot(P.T, Q)\n",
      "/home/david/miniconda3/lib/python3.6/site-packages/moleculekit/align.py:54: NumbaPerformanceWarning: np.dot() is faster on contiguous arrays, called on (array(float32, 2d, C), array(float32, 2d, A))\n",
      "  all1 = np.dot(all1, rot.T)\n"
     ]
    }
   ],
   "source": [
    "\n",
    "##########################\n",
    "## Part 5: Wrap Structures\n",
    "##########################\n",
    "\n",
    "# Wrap trajectories obtained during production with an htmd command\n",
    "gpcr_sel = \"protein and chain \"+new_pdb_chain\n",
    "for entry in input_dict:    \n",
    "    name = entry['name']\n",
    "    pdbcode = entry['pdbcode']\n",
    "    for apo in [False]:\n",
    "        try:\n",
    "            modelname = name\n",
    "            mymol_pdb = Molecule('%sproduction/%s/rep_1/structure.pdb' % (resultspath, modelname))\n",
    "            for rep in range(1,repnum+1):\n",
    "            #for rep in [3]:\n",
    "                start_time = time.time()        \n",
    "                print('wrapping replicate %d of %s' % (rep, modelname))\n",
    "                proddir='%sproduction/%s/rep_%d/' % (resultspath, modelname, rep)\n",
    "                rep = str(rep)\n",
    "\n",
    "                # To avoid repeating wrapping in Trajectories already wrapped, check the existance of this file\n",
    "                outname = proddir+'output_wrapped.xtc'\n",
    "                if os.path.exists(outname):\n",
    "                    print('replicate already wrapped. Skipping...')\n",
    "                    continue\n",
    "                \n",
    "                # Wrap system\n",
    "                mymol = Molecule('%sproduction/%s/rep_1/structure.psf' % (resultspath, modelname))\n",
    "                mymol.read(proddir+'output.xtc')\n",
    "                mymol.wrap(gpcr_sel)\n",
    "\n",
    "                # Align frames and write\n",
    "                mymol.align('all', refmol=mymol_pdb)\n",
    "                mymol.write(outname)\n",
    "\n",
    "            print('End of %s after %s seconds\\n' % (modelname, time.time() - start_time))\n",
    "        except Exception as e:\n",
    "            print(\"model \"+modelname+\" could not be wrapped because of \",e)            \n",
    "\n",
    "\n"
   ]
  },
  {
   "cell_type": "code",
   "execution_count": 8,
   "metadata": {},
   "outputs": [
    {
     "name": "stdout",
     "output_type": "stream",
     "text": [
      "computing ligand RMSD for trajectory 1 of system metI\n"
     ]
    },
    {
     "name": "stderr",
     "output_type": "stream",
     "text": [
      "2021-12-30 15:51:14,957 - MDAnalysis.analysis.rmsd - INFO - RMS calculation for 0 atoms.\n",
      "2021-12-30 15:51:14,957 - MDAnalysis.analysis.base - INFO - Choosing frames to analyze\n",
      "2021-12-30 15:51:14,958 - MDAnalysis.analysis.base - INFO - Starting preparation\n"
     ]
    },
    {
     "ename": "ZeroDivisionError",
     "evalue": "float division",
     "output_type": "error",
     "traceback": [
      "\u001b[0;31m---------------------------------------------------------------------------\u001b[0m",
      "\u001b[0;31mZeroDivisionError\u001b[0m                         Traceback (most recent call last)",
      "\u001b[0;32m<ipython-input-8-33aa514d9c72>\u001b[0m in \u001b[0;36m<module>\u001b[0;34m\u001b[0m\n\u001b[1;32m     37\u001b[0m             \u001b[0;31m# Compute rmsd, extract its values and put them in corresponding lists and dicts\u001b[0m\u001b[0;34m\u001b[0m\u001b[0;34m\u001b[0m\u001b[0m\n\u001b[1;32m     38\u001b[0m             \u001b[0mR\u001b[0m \u001b[0;34m=\u001b[0m \u001b[0mrms\u001b[0m\u001b[0;34m.\u001b[0m\u001b[0mRMSD\u001b[0m\u001b[0;34m(\u001b[0m\u001b[0mligsel\u001b[0m\u001b[0;34m)\u001b[0m\u001b[0;34m\u001b[0m\u001b[0m\n\u001b[0;32m---> 39\u001b[0;31m             \u001b[0mR\u001b[0m\u001b[0;34m.\u001b[0m\u001b[0mrun\u001b[0m\u001b[0;34m(\u001b[0m\u001b[0;34m)\u001b[0m\u001b[0;34m\u001b[0m\u001b[0m\n\u001b[0m\u001b[1;32m     40\u001b[0m             \u001b[0mrmsd\u001b[0m \u001b[0;34m=\u001b[0m \u001b[0mnp\u001b[0m\u001b[0;34m.\u001b[0m\u001b[0mmean\u001b[0m\u001b[0;34m(\u001b[0m\u001b[0;34m[\u001b[0m \u001b[0ma\u001b[0m\u001b[0;34m[\u001b[0m\u001b[0;36m2\u001b[0m\u001b[0;34m]\u001b[0m \u001b[0;32mfor\u001b[0m \u001b[0ma\u001b[0m \u001b[0;32min\u001b[0m \u001b[0mR\u001b[0m\u001b[0;34m.\u001b[0m\u001b[0mrmsd\u001b[0m \u001b[0;34m]\u001b[0m\u001b[0;34m)\u001b[0m\u001b[0;34m\u001b[0m\u001b[0m\n\u001b[1;32m     41\u001b[0m \u001b[0;34m\u001b[0m\u001b[0m\n",
      "\u001b[0;32m~/miniconda3/lib/python3.6/site-packages/MDAnalysis/analysis/base.py\u001b[0m in \u001b[0;36mrun\u001b[0;34m(self, start, stop, step, verbose)\u001b[0m\n\u001b[1;32m    195\u001b[0m             \u001b[0mself\u001b[0m\u001b[0;34m.\u001b[0m\u001b[0mtimes\u001b[0m\u001b[0;34m[\u001b[0m\u001b[0mi\u001b[0m\u001b[0;34m]\u001b[0m \u001b[0;34m=\u001b[0m \u001b[0mts\u001b[0m\u001b[0;34m.\u001b[0m\u001b[0mtime\u001b[0m\u001b[0;34m\u001b[0m\u001b[0m\n\u001b[1;32m    196\u001b[0m             \u001b[0;31m# logger.info(\"--> Doing frame {} of {}\".format(i+1, self.n_frames))\u001b[0m\u001b[0;34m\u001b[0m\u001b[0;34m\u001b[0m\u001b[0m\n\u001b[0;32m--> 197\u001b[0;31m             \u001b[0mself\u001b[0m\u001b[0;34m.\u001b[0m\u001b[0m_single_frame\u001b[0m\u001b[0;34m(\u001b[0m\u001b[0;34m)\u001b[0m\u001b[0;34m\u001b[0m\u001b[0m\n\u001b[0m\u001b[1;32m    198\u001b[0m         \u001b[0mlogger\u001b[0m\u001b[0;34m.\u001b[0m\u001b[0minfo\u001b[0m\u001b[0;34m(\u001b[0m\u001b[0;34m\"Finishing up\"\u001b[0m\u001b[0;34m)\u001b[0m\u001b[0;34m\u001b[0m\u001b[0m\n\u001b[1;32m    199\u001b[0m         \u001b[0mself\u001b[0m\u001b[0;34m.\u001b[0m\u001b[0m_conclude\u001b[0m\u001b[0;34m(\u001b[0m\u001b[0;34m)\u001b[0m\u001b[0;34m\u001b[0m\u001b[0m\n",
      "\u001b[0;32m~/miniconda3/lib/python3.6/site-packages/MDAnalysis/analysis/rms.py\u001b[0m in \u001b[0;36m_single_frame\u001b[0;34m(self)\u001b[0m\n\u001b[1;32m    669\u001b[0m             self.rmsd[self._frame_index, 2] = qcp.CalcRMSDRotationalMatrix(\n\u001b[1;32m    670\u001b[0m                 \u001b[0mself\u001b[0m\u001b[0;34m.\u001b[0m\u001b[0m_ref_coordinates64\u001b[0m\u001b[0;34m,\u001b[0m \u001b[0mself\u001b[0m\u001b[0;34m.\u001b[0m\u001b[0m_mobile_coordinates64\u001b[0m\u001b[0;34m,\u001b[0m\u001b[0;34m\u001b[0m\u001b[0m\n\u001b[0;32m--> 671\u001b[0;31m                 self._n_atoms, None, self.weights_select)\n\u001b[0m\u001b[1;32m    672\u001b[0m \u001b[0;34m\u001b[0m\u001b[0m\n\u001b[1;32m    673\u001b[0m \u001b[0;34m\u001b[0m\u001b[0m\n",
      "\u001b[0;32mMDAnalysis/lib/qcprot.pyx\u001b[0m in \u001b[0;36mMDAnalysis.lib.qcprot.CalcRMSDRotationalMatrix\u001b[0;34m()\u001b[0m\n",
      "\u001b[0;32mMDAnalysis/lib/qcprot.pyx\u001b[0m in \u001b[0;36mMDAnalysis.lib.qcprot.FastCalcRMSDAndRotation\u001b[0;34m()\u001b[0m\n",
      "\u001b[0;31mZeroDivisionError\u001b[0m: float division"
     ]
    }
   ],
   "source": [
    "#####################\n",
    "## EXTRA: ligand RMSD\n",
    "#####################\n",
    "### Assess quality of systems by calculating the RMSD of the ligand/s molecule/s\n",
    "\n",
    "# Set paths and files\n",
    "out = open(resultspath+'rmsd_lig.tsv','w')\n",
    "out.write(\"Simulated_system\\tRMSD_ligand\\n\")\n",
    "\n",
    "# Iterate over pdbcodes \n",
    "for entry in input_dict:    \n",
    "    name = entry['name']\n",
    "    pdbcode = entry['pdbcode']\n",
    "    # Iterate over production replicates\n",
    "    for mytrajid in [\"1\",\"2\",\"3\"]:\n",
    "        \n",
    "#         try:\n",
    "            sysname = name\n",
    "\n",
    "            # Input files of simulation\n",
    "            files_path = resultspath+'production/%s/rep_%s/'%(name, mytrajid)\n",
    "            mypdbpath = files_path+'structure.pdb'\n",
    "            mypsfpath = files_path+'structure.psf'\n",
    "            mytrajpath = files_path+'output_wrapped.xtc'\n",
    "\n",
    "            # Skip if no trajectory\n",
    "            if not os.path.exists(mytrajpath):\n",
    "                print(\"no trajectory replicate %s for system %s avalible. Skipping...\"%(mytrajid, sysname))\n",
    "                continue\n",
    "\n",
    "            print('computing ligand RMSD for trajectory %s of system %s' % (mytrajid, sysname))\n",
    "\n",
    "            # Load trajectory and topology into MDA universe, and select protein atoms\n",
    "            u = mda.Universe(mypsfpath, mytrajpath)\n",
    "            ligsel = u.select_atoms(\"segid LIG and not resname CLR\")\n",
    "\n",
    "            # Compute rmsd, extract its values and put them in corresponding lists and dicts\n",
    "            R = rms.RMSD(ligsel)\n",
    "            R.run()\n",
    "            rmsd = np.mean([ a[2] for a in R.rmsd ])\n",
    "\n",
    "            out.write(\"%s\\t%f\\n\"%(sysname,rmsd)) \n",
    "\n",
    "#         except Exception as e:\n",
    "#             print(\"error: system %s failed becasue %s\"%(sysname,e))"
   ]
  }
 ],
 "metadata": {
  "kernelspec": {
   "display_name": "Python 3",
   "language": "python",
   "name": "python3"
  },
  "language_info": {
   "codemirror_mode": {
    "name": "ipython",
    "version": 3
   },
   "file_extension": ".py",
   "mimetype": "text/x-python",
   "name": "python",
   "nbconvert_exporter": "python",
   "pygments_lexer": "ipython3",
   "version": "3.6.2"
  }
 },
 "nbformat": 4,
 "nbformat_minor": 2
}
